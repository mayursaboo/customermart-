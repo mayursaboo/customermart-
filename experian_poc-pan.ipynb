{
 "cells": [
  {
   "cell_type": "code",
   "execution_count": 1,
   "metadata": {},
   "outputs": [],
   "source": [
    "import pymssql\n",
    "import pandas as pd\n",
    "import psycopg2\n",
    "import datetime\n",
    "import psycopg2.extras as extras"
   ]
  },
  {
   "cell_type": "code",
   "execution_count": 2,
   "metadata": {},
   "outputs": [],
   "source": [
    "prod_url = \"jdbc:postgresql://10.35.12.194:5432/gpadmin\"\n",
    "prod_host = '10.35.12.194' \n",
    "prod_port = '5432'\n",
    "prod_dbname = 'gpadmin'\n",
    "user_prod=\"gpspark\"\n",
    "# pwd_prod=\"gpcustcoe@123\"\n",
    "pwd_prod=\"spark@456\"\n",
    "\n",
    "\n",
    "# Define the GPDB-Python connection options for PROD \n",
    "\n",
    "conn_prod = psycopg2.connect(host=prod_host, port=prod_port, user=user_prod, password=pwd_prod, dbname=prod_dbname)"
   ]
  },
  {
   "cell_type": "code",
   "execution_count": 3,
   "metadata": {},
   "outputs": [],
   "source": [
    "import pandas as pd\n",
    "\n",
    "#df1 = pd.read_csv('RPT_ADDRESS.txt', sep='|')\n",
    "df2 = pd.read_csv('RPT_EMAIL_2.txt', sep='|')\n",
    "#df3 = pd.read_csv('RPT_ID.txt', sep='|')\n",
    "#df4 = pd.read_csv('RPT_NAME_DOB.txt', sep='|')\n",
    "df5 = pd.read_csv('RPT_PHONE_2.txt', sep='|')\n",
    "#df6 = pd.read_csv('RPT_Score.txt', sep='|')\n",
    "#df7 = pd.read_csv('RPT_AR.txt', sep='|') \n",
    "#df8 = pd.read_csv('RPT_ENQ.txt', sep='|')\n",
    "#df9 = pd.read_csv('RPT_Income.txt', sep='|') \n"
   ]
  },
  {
   "cell_type": "code",
   "execution_count": 4,
   "metadata": {},
   "outputs": [
    {
     "data": {
      "text/html": [
       "<div>\n",
       "<style scoped>\n",
       "    .dataframe tbody tr th:only-of-type {\n",
       "        vertical-align: middle;\n",
       "    }\n",
       "\n",
       "    .dataframe tbody tr th {\n",
       "        vertical-align: top;\n",
       "    }\n",
       "\n",
       "    .dataframe thead th {\n",
       "        text-align: right;\n",
       "    }\n",
       "</style>\n",
       "<table border=\"1\" class=\"dataframe\">\n",
       "  <thead>\n",
       "    <tr style=\"text-align: right;\">\n",
       "      <th></th>\n",
       "      <th>CUSTOMER_ID</th>\n",
       "      <th>PHONE</th>\n",
       "      <th>DATE_REPORTED</th>\n",
       "    </tr>\n",
       "  </thead>\n",
       "  <tbody>\n",
       "    <tr>\n",
       "      <th>0</th>\n",
       "      <td>169238334</td>\n",
       "      <td>918528480040</td>\n",
       "      <td>05/02/2024</td>\n",
       "    </tr>\n",
       "    <tr>\n",
       "      <th>1</th>\n",
       "      <td>169502128</td>\n",
       "      <td>918796282101</td>\n",
       "      <td>16/09/2019</td>\n",
       "    </tr>\n",
       "    <tr>\n",
       "      <th>2</th>\n",
       "      <td>169495810</td>\n",
       "      <td>919804421714</td>\n",
       "      <td>31/12/2023</td>\n",
       "    </tr>\n",
       "    <tr>\n",
       "      <th>3</th>\n",
       "      <td>168793097</td>\n",
       "      <td>918208789713</td>\n",
       "      <td>30/11/2023</td>\n",
       "    </tr>\n",
       "    <tr>\n",
       "      <th>4</th>\n",
       "      <td>168268036</td>\n",
       "      <td>918967062430</td>\n",
       "      <td>30/09/2023</td>\n",
       "    </tr>\n",
       "  </tbody>\n",
       "</table>\n",
       "</div>"
      ],
      "text/plain": [
       "   CUSTOMER_ID         PHONE DATE_REPORTED\n",
       "0    169238334  918528480040    05/02/2024\n",
       "1    169502128  918796282101    16/09/2019\n",
       "2    169495810  919804421714    31/12/2023\n",
       "3    168793097  918208789713    30/11/2023\n",
       "4    168268036  918967062430    30/09/2023"
      ]
     },
     "execution_count": 4,
     "metadata": {},
     "output_type": "execute_result"
    }
   ],
   "source": [
    "df5['PHONE'] = df5['PHONE'].astype(str)\n",
    "df5.head()"
   ]
  },
  {
   "cell_type": "code",
   "execution_count": 5,
   "metadata": {},
   "outputs": [
    {
     "data": {
      "text/plain": [
       "(464237, 3)"
      ]
     },
     "execution_count": 5,
     "metadata": {},
     "output_type": "execute_result"
    }
   ],
   "source": [
    "df5.shape"
   ]
  },
  {
   "cell_type": "code",
   "execution_count": null,
   "metadata": {},
   "outputs": [],
   "source": [
    "df5['customer_index'] = df5.groupby('CUSTOMER_ID').cumcount() + 1"
   ]
  },
  {
   "cell_type": "code",
   "execution_count": null,
   "metadata": {},
   "outputs": [],
   "source": [
    "df5_new = df5.pivot(index='CUSTOMER_ID', columns='customer_index', values=['PHONE','DATE_REPORTED']).reset_index()\n"
   ]
  },
  {
   "cell_type": "code",
   "execution_count": null,
   "metadata": {},
   "outputs": [],
   "source": [
    "df5_new.columns = [col[0] + \"_\" + str(col[1]) for col in df5_new.columns]"
   ]
  },
  {
   "cell_type": "code",
   "execution_count": null,
   "metadata": {},
   "outputs": [],
   "source": [
    "df5_new.head()"
   ]
  },
  {
   "cell_type": "code",
   "execution_count": null,
   "metadata": {},
   "outputs": [],
   "source": [
    "df3.head()"
   ]
  },
  {
   "cell_type": "code",
   "execution_count": null,
   "metadata": {},
   "outputs": [],
   "source": [
    "df3['customer_index'] = df3.groupby('CUSTOMER_ID').cumcount() + 1"
   ]
  },
  {
   "cell_type": "code",
   "execution_count": null,
   "metadata": {},
   "outputs": [],
   "source": [
    "df3_new = df3.pivot(index='CUSTOMER_ID', columns='customer_index', values=['PAN','PASSPORT','VOTER_ID','UID','RATION_CARD','DRIVING_LICENSE']).reset_index()"
   ]
  },
  {
   "cell_type": "code",
   "execution_count": null,
   "metadata": {},
   "outputs": [],
   "source": [
    "df3_new.columns = [col[0] + \"_\" + str(col[1]) for col in df3_new.columns]"
   ]
  },
  {
   "cell_type": "code",
   "execution_count": null,
   "metadata": {},
   "outputs": [],
   "source": [
    "df3_new.head()"
   ]
  },
  {
   "cell_type": "code",
   "execution_count": null,
   "metadata": {},
   "outputs": [],
   "source": [
    "df4.head()"
   ]
  },
  {
   "cell_type": "code",
   "execution_count": null,
   "metadata": {},
   "outputs": [],
   "source": [
    "df4['customer_index'] = df4.groupby('CUSTOMER_ID').cumcount() + 1"
   ]
  },
  {
   "cell_type": "code",
   "execution_count": null,
   "metadata": {},
   "outputs": [],
   "source": [
    "df4_new = df4.pivot(index='CUSTOMER_ID', columns='customer_index', values=['FULL_NAME','DOB','GENDER']).reset_index()"
   ]
  },
  {
   "cell_type": "code",
   "execution_count": null,
   "metadata": {},
   "outputs": [],
   "source": [
    "df4_new.columns = [col[0] + \"_\" + str(col[1]) for col in df4_new.columns]"
   ]
  },
  {
   "cell_type": "code",
   "execution_count": null,
   "metadata": {},
   "outputs": [],
   "source": [
    "df4_new.head()"
   ]
  },
  {
   "cell_type": "code",
   "execution_count": null,
   "metadata": {},
   "outputs": [],
   "source": [
    "df2.head()"
   ]
  },
  {
   "cell_type": "code",
   "execution_count": null,
   "metadata": {},
   "outputs": [],
   "source": [
    "df2['customer_index'] = df2.groupby('CUSTOMER_ID').cumcount() + 1"
   ]
  },
  {
   "cell_type": "code",
   "execution_count": null,
   "metadata": {},
   "outputs": [],
   "source": [
    "df2_new = df2.pivot(index='CUSTOMER_ID', columns='customer_index', values=['EMAIL','DATE_REPORTED']).reset_index()"
   ]
  },
  {
   "cell_type": "code",
   "execution_count": null,
   "metadata": {},
   "outputs": [],
   "source": [
    "df2_new.columns = [col[0] + \"_\" + str(col[1]) for col in df2_new.columns]"
   ]
  },
  {
   "cell_type": "code",
   "execution_count": null,
   "metadata": {},
   "outputs": [],
   "source": [
    "df2_new.head()"
   ]
  },
  {
   "cell_type": "code",
   "execution_count": null,
   "metadata": {},
   "outputs": [],
   "source": [
    "df1.head()"
   ]
  },
  {
   "cell_type": "code",
   "execution_count": null,
   "metadata": {},
   "outputs": [],
   "source": [
    "df1['customer_index'] = df1.groupby('CUSTOMER_ID').cumcount() + 1"
   ]
  },
  {
   "cell_type": "code",
   "execution_count": null,
   "metadata": {},
   "outputs": [],
   "source": [
    "df1_new = df1.pivot(index='CUSTOMER_ID', columns='customer_index', values=['ADDRESS','PINCODE','DATE_REPORTED']).reset_index()"
   ]
  },
  {
   "cell_type": "code",
   "execution_count": null,
   "metadata": {},
   "outputs": [],
   "source": [
    "df1_new.columns = [col[0] + \"_\" + str(col[1]) for col in df1_new.columns]"
   ]
  },
  {
   "cell_type": "code",
   "execution_count": null,
   "metadata": {},
   "outputs": [],
   "source": [
    "df1_new.head()"
   ]
  },
  {
   "cell_type": "code",
   "execution_count": null,
   "metadata": {},
   "outputs": [],
   "source": [
    "df6 = pd.read_csv('RPT_Score.txt', sep='|')\n",
    "df6.rename(columns = {'CUST_ID':'CUSTOMER_ID_'}, inplace = True) \n",
    "df6.head()"
   ]
  },
  {
   "cell_type": "code",
   "execution_count": null,
   "metadata": {},
   "outputs": [],
   "source": [
    "df7 = pd.read_csv('RPT_AR.txt', sep='|') \n",
    "df7=df7[['CUSTOMER_ID','M_SUB_ID', 'ACCT_TYPE_CD', 'OPEN_DT','ASSET_CLASS_CD','CLOSED_DT','DFLT_STATUS_DT','ORIG_LOAN_AM','RESPONSIBILITY_CD','PORTFOLIO_RATING_TYPE_CD']]\n",
    "df7.rename(columns = {'CUSTOMER_ID':'CUSTOMER_ID_'}, inplace = True) \n",
    "df7.head()"
   ]
  },
  {
   "cell_type": "code",
   "execution_count": null,
   "metadata": {},
   "outputs": [],
   "source": [
    "df1_map = pd.read_csv('acc_cd.csv')\n",
    "df2_map = pd.read_csv('sub_id.csv')\n",
    "df3_map = pd.read_csv('respon_cd.csv')\n",
    "df4_map = pd.read_csv('port_cd.csv')\n",
    "df5_map = pd.read_csv('asset.csv')\n",
    "\n",
    "df1_map.columns = df1_map.columns.str.strip()\n",
    "df2_map.columns = df2_map.columns.str.strip()\n",
    "df3_map.columns = df3_map.columns.str.strip()\n",
    "df4_map.columns = df4_map.columns.str.strip()\n",
    "df5_map.columns = df5_map.columns.str.strip()\n",
    "\n",
    "mydict1 = dict(zip(df1_map.experian_acct_type_code, df1_map.description))\n",
    "mydict2 = dict(zip(df2_map.institute_code, df2_map.description))\n",
    "mydict3 = dict(zip(df3_map.ownership_indicator, df3_map.description))\n",
    "mydict4 = dict(zip(df4_map.portfolio_type_code, df4_map.description))\n",
    "mydict5 = dict(zip(df5_map.asset_classification_code, df5_map.description))\n",
    "\n",
    "df7[\"account_type_desc\"] = df7[\"ACCT_TYPE_CD\"].map(mydict1)\n",
    "df7[\"institute_desc\"] = df7[\"M_SUB_ID\"].map(mydict2)\n",
    "df7[\"responsibility_desc\"] = df7[\"RESPONSIBILITY_CD\"].map(mydict3)\n",
    "df7[\"portfolio_type_desc\"] = df7[\"PORTFOLIO_RATING_TYPE_CD\"].map(mydict4)\n",
    "df7[\"asset_type_desc\"] = df7[\"ASSET_CLASS_CD\"].map(mydict5)"
   ]
  },
  {
   "cell_type": "code",
   "execution_count": null,
   "metadata": {},
   "outputs": [],
   "source": [
    "df8 = pd.read_csv('RPT_ENQ.txt', sep='|')\n",
    "df8.head()"
   ]
  },
  {
   "cell_type": "code",
   "execution_count": null,
   "metadata": {},
   "outputs": [],
   "source": [
    "df9 = pd.read_csv('RPT_Income.txt', sep='|') \n",
    "df9.rename(columns = {'cust_id':'CUSTOMER_ID_'}, inplace = True) \n",
    "df9.head()"
   ]
  },
  {
   "cell_type": "code",
   "execution_count": null,
   "metadata": {},
   "outputs": [],
   "source": []
  },
  {
   "cell_type": "code",
   "execution_count": null,
   "metadata": {},
   "outputs": [],
   "source": []
  },
  {
   "cell_type": "code",
   "execution_count": null,
   "metadata": {},
   "outputs": [],
   "source": [
    "df_merge= pd.merge(df1_new, df2_new, on='CUSTOMER_ID_', how='outer')\n",
    "df_merge_1= pd.merge(df_merge, df3_new, on='CUSTOMER_ID_', how='outer')\n",
    "df_merge_2= pd.merge(df_merge_1, df4_new, on='CUSTOMER_ID_', how='outer')\n",
    "df_merge_3= pd.merge(df_merge_2, df5_new, on='CUSTOMER_ID_', how='outer')\n",
    "df_merge_4= pd.merge(df_merge_3, df6, on='CUSTOMER_ID_', how='outer')\n",
    "df_merge_5= pd.merge(df_merge_4, df7, on='CUSTOMER_ID_', how='outer')\n",
    "df_merge_6= pd.merge(df_merge_5, df9, on='CUSTOMER_ID_', how='outer')\n"
   ]
  },
  {
   "cell_type": "code",
   "execution_count": null,
   "metadata": {},
   "outputs": [],
   "source": [
    "df_merge_6.head()"
   ]
  },
  {
   "cell_type": "code",
   "execution_count": null,
   "metadata": {},
   "outputs": [],
   "source": [
    "df_merge= pd.merge(df5_new, df2_new, on='CUSTOMER_ID_', how='outer')\n"
   ]
  },
  {
   "cell_type": "code",
   "execution_count": null,
   "metadata": {},
   "outputs": [],
   "source": [
    "df_merge.shape"
   ]
  },
  {
   "cell_type": "code",
   "execution_count": null,
   "metadata": {},
   "outputs": [],
   "source": [
    "df_merge_6.to_csv('pan_except_enq_2.csv')"
   ]
  },
  {
   "cell_type": "code",
   "execution_count": null,
   "metadata": {},
   "outputs": [],
   "source": [
    "df_merge.to_csv('con.csv')"
   ]
  },
  {
   "cell_type": "code",
   "execution_count": null,
   "metadata": {},
   "outputs": [],
   "source": []
  },
  {
   "cell_type": "code",
   "execution_count": null,
   "metadata": {},
   "outputs": [],
   "source": [
    "import pymssql\n",
    "import pandas as pd\n",
    "import psycopg2\n",
    "import datetime\n",
    "import psycopg2.extras as extras"
   ]
  },
  {
   "cell_type": "code",
   "execution_count": null,
   "metadata": {},
   "outputs": [],
   "source": [
    "prod_url = \"jdbc:postgresql://10.35.12.194:5432/gpadmin\"\n",
    "prod_host = '10.35.12.194' \n",
    "prod_port = '5432'\n",
    "prod_dbname = 'gpadmin'\n",
    "user_prod=\"gpspark\"\n",
    "pwd_prod=\"spark@456\"\n",
    "\n",
    "\n",
    "# Define the GPDB-Python connection options for PROD \n",
    "\n",
    "conn_prod = psycopg2.connect(host=prod_host, port=prod_port, user=user_prod, password=pwd_prod, dbname=prod_dbname)"
   ]
  },
  {
   "cell_type": "code",
   "execution_count": null,
   "metadata": {},
   "outputs": [],
   "source": [
    "cursor = conn_prod.cursor()\n",
    "req = \"select dc_unified_id, customer_id, policy_no,certificate_no,product_name from registers.premium_register pr inner join public.mastercraft_bulk_detail_prod mbdp on pr.customer_id = mbdp.source_customer_id\"\n",
    "cursor.execute(req)\n",
    "\n",
    "data = cursor.fetchall()"
   ]
  },
  {
   "cell_type": "code",
   "execution_count": null,
   "metadata": {},
   "outputs": [],
   "source": [
    "pr=pd.DataFrame(data,columns=['dc_unified_id', customer_id, policy_no,certificate_no,product_name])"
   ]
  },
  {
   "cell_type": "code",
   "execution_count": null,
   "metadata": {},
   "outputs": [],
   "source": [
    "df_merge_new= pd.merge(df_merge_3, pr, df_merge_3.CUSTOMER_ID = pr.dc_unified_id , how='left')"
   ]
  },
  {
   "cell_type": "code",
   "execution_count": null,
   "metadata": {},
   "outputs": [],
   "source": [
    "## for importing\n",
    "df_dump_2888_3122_12062023.to_csv('df_dump_2888_3122_12062023.csv')"
   ]
  },
  {
   "cell_type": "code",
   "execution_count": null,
   "metadata": {},
   "outputs": [],
   "source": []
  },
  {
   "cell_type": "code",
   "execution_count": null,
   "metadata": {},
   "outputs": [],
   "source": [
    "df1_map.columns = df1_map.columns.str.strip()\n",
    "df2_map.columns = df2_map.columns.str.strip()\n",
    "df3_map.columns = df3_map.columns.str.strip()\n",
    "df4_map.columns = df4_map.columns.str.strip()\n",
    "df5_map.columns = df5_map.columns.str.strip()"
   ]
  },
  {
   "cell_type": "code",
   "execution_count": null,
   "metadata": {},
   "outputs": [],
   "source": [
    "mydict1 = dict(zip(df1_map.experian_acct_type_code, df1_map.description))\n",
    "mydict2 = dict(zip(df2_map.institute_code, df2_map.description))\n",
    "mydict3 = dict(zip(df3_map.ownership_indicator, df3_map.description))\n",
    "mydict4 = dict(zip(df4_map.portfolio_type_code, df4_map.description))\n",
    "mydict5 = dict(zip(df5_map.asset_classification_code, df5_map.description))"
   ]
  },
  {
   "cell_type": "code",
   "execution_count": null,
   "metadata": {},
   "outputs": [],
   "source": [
    "df3[\"account_type_desc\"] = df3[\"ACCT_TYPE_CD\"].map(mydict1)\n",
    "df3[\"institute_desc\"] = df3[\"M_SUB_ID\"].map(mydict2)\n",
    "df3[\"responsibility_desc\"] = df3[\"RESPONSIBILITY_CD\"].map(mydict3)\n",
    "df3[\"portfolio_type_desc\"] = df3[\"PORTFOLIO_RATING_TYPE_CD\"].map(mydict4)\n",
    "df3[\"asset_type_desc\"] = df3[\"ASSET_CLASS_CD\"].map(mydict5)"
   ]
  },
  {
   "cell_type": "code",
   "execution_count": null,
   "metadata": {},
   "outputs": [],
   "source": [
    "df3"
   ]
  },
  {
   "cell_type": "code",
   "execution_count": null,
   "metadata": {},
   "outputs": [],
   "source": [
    "df1.rename(columns = {'cust_id':'CUSTOMER_ID'}, inplace = True)\n",
    "df6.rename(columns = {'cust_id':'CUSTOMER_ID'}, inplace = True)\n",
    "df2.rename(columns = {'DATE_REPORTED':'DATE_REPORTED_Address'}, inplace = True)\n",
    "df4.rename(columns = {'DATE_REPORTED':'DATE_REPORTED_email'}, inplace = True)"
   ]
  },
  {
   "cell_type": "code",
   "execution_count": null,
   "metadata": {},
   "outputs": [],
   "source": [
    "df6"
   ]
  },
  {
   "cell_type": "code",
   "execution_count": null,
   "metadata": {},
   "outputs": [],
   "source": [
    "df2['DATE_REPORTED_Address']= pd.to_datetime(df2['DATE_REPORTED_Address'])\n",
    "df4['DATE_REPORTED_email']= pd.to_datetime(df4['DATE_REPORTED_email'])\n",
    "df8['DATE_REPORTED']= pd.to_datetime(df8['DATE_REPORTED'])"
   ]
  },
  {
   "cell_type": "code",
   "execution_count": null,
   "metadata": {},
   "outputs": [],
   "source": [
    "df1.dropna(subset=['CUSTOMER_ID'], inplace=True)\n",
    "df2.dropna(subset=['CUSTOMER_ID'], inplace=True)\n",
    "df3.dropna(subset=['CUSTOMER_ID'], inplace=True)\n",
    "df4.dropna(subset=['CUSTOMER_ID'], inplace=True)\n",
    "df5.dropna(subset=['CUSTOMER_ID'], inplace=True)\n",
    "df6.dropna(subset=['CUSTOMER_ID'], inplace=True)\n",
    "df7.dropna(subset=['CUSTOMER_ID'], inplace=True)\n",
    "df8.dropna(subset=['CUSTOMER_ID'], inplace=True)"
   ]
  },
  {
   "cell_type": "code",
   "execution_count": null,
   "metadata": {},
   "outputs": [],
   "source": [
    "# sorted = df1.sort_values(by='DATE_REPORTED_email')\n",
    "# df1 = sorted.drop_duplicates('CUSTOMER_ID', keep='last')"
   ]
  },
  {
   "cell_type": "code",
   "execution_count": null,
   "metadata": {},
   "outputs": [],
   "source": [
    "df4=df4.sort_values('DATE_REPORTED_email', ascending=False).drop_duplicates(['CUSTOMER_ID'])\n",
    "df2=df2.sort_values('DATE_REPORTED_Address', ascending=False).drop_duplicates(['CUSTOMER_ID'])\n",
    "df8=df8.sort_values('DATE_REPORTED', ascending=False).drop_duplicates(['CUSTOMER_ID'])"
   ]
  },
  {
   "cell_type": "code",
   "execution_count": null,
   "metadata": {},
   "outputs": [],
   "source": [
    "df_merge= pd.merge(df1, df2, on='CUSTOMER_ID', how='outer')\n",
    "df_merge_1= pd.merge(df_merge, df3, on='CUSTOMER_ID', how='outer')\n",
    "df_merge_2= pd.merge(df_merge_1, df4, on='CUSTOMER_ID', how='outer')\n",
    "df_merge_3= pd.merge(df_merge_2, df5, on='CUSTOMER_ID', how='outer')\n",
    "df_merge_4= pd.merge(df_merge_3, df6, on='CUSTOMER_ID', how='outer')\n",
    "df_merge_5= pd.merge(df_merge_4, df7, on='CUSTOMER_ID', how='outer')\n",
    "df_merge_6= pd.merge(df_merge_5, df8, on='CUSTOMER_ID', how='outer')"
   ]
  },
  {
   "cell_type": "code",
   "execution_count": null,
   "metadata": {},
   "outputs": [],
   "source": [
    "df_merge_6.drop_duplicates(inplace=True)"
   ]
  },
  {
   "cell_type": "code",
   "execution_count": null,
   "metadata": {},
   "outputs": [],
   "source": [
    "df_merge_6.columns"
   ]
  },
  {
   "cell_type": "code",
   "execution_count": null,
   "metadata": {},
   "outputs": [],
   "source": [
    "df_merge_6.shape"
   ]
  },
  {
   "cell_type": "code",
   "execution_count": null,
   "metadata": {},
   "outputs": [],
   "source": [
    "df2.to_csv('email.csv')"
   ]
  },
  {
   "cell_type": "code",
   "execution_count": null,
   "metadata": {},
   "outputs": [],
   "source": []
  }
 ],
 "metadata": {
  "kernelspec": {
   "display_name": "Python 3",
   "language": "python",
   "name": "python3"
  },
  "language_info": {
   "codemirror_mode": {
    "name": "ipython",
    "version": 3
   },
   "file_extension": ".py",
   "mimetype": "text/x-python",
   "name": "python",
   "nbconvert_exporter": "python",
   "pygments_lexer": "ipython3",
   "version": "3.7.6"
  }
 },
 "nbformat": 4,
 "nbformat_minor": 4
}
