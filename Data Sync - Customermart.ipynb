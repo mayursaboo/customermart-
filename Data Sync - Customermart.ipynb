{
 "cells": [
  {
   "cell_type": "code",
   "execution_count": 1,
   "metadata": {},
   "outputs": [
    {
     "name": "stdout",
     "output_type": "stream",
     "text": [
      "Starting Spark application\n"
     ]
    },
    {
     "data": {
      "text/html": [
       "<table>\n",
       "<tr><th>ID</th><th>YARN Application ID</th><th>Kind</th><th>State</th><th>Spark UI</th><th>Driver log</th><th>Current session?</th></tr><tr><td>17342</td><td>None</td><td>pyspark</td><td>idle</td><td></td><td></td><td>✔</td></tr></table>"
      ],
      "text/plain": [
       "<IPython.core.display.HTML object>"
      ]
     },
     "metadata": {},
     "output_type": "display_data"
    },
    {
     "data": {
      "application/vnd.jupyter.widget-view+json": {
       "model_id": "",
       "version_major": 2,
       "version_minor": 0
      },
      "text/plain": [
       "FloatProgress(value=0.0, bar_style='info', description='Progress:', layout=Layout(height='25px', width='50%'),…"
      ]
     },
     "metadata": {},
     "output_type": "display_data"
    },
    {
     "name": "stdout",
     "output_type": "stream",
     "text": [
      "SparkSession available as 'spark'.\n"
     ]
    },
    {
     "data": {
      "application/vnd.jupyter.widget-view+json": {
       "model_id": "",
       "version_major": 2,
       "version_minor": 0
      },
      "text/plain": [
       "FloatProgress(value=0.0, bar_style='info', description='Progress:', layout=Layout(height='25px', width='50%'),…"
      ]
     },
     "metadata": {},
     "output_type": "display_data"
    }
   ],
   "source": [
    "import sys\n",
    "\n",
    "\n",
    "no_of_cpu =4\n",
    "max_cores =4\n",
    "executor_mem = '26g'\n",
    "\n",
    "\n",
    "Job_Name = 'Mayur : cust_id check'\n",
    "\n",
    "from pyspark.mllib.stat import Statistics\n",
    "from pyspark.sql.functions import asc,lit\n",
    "#warnings.filterwarnings('error')\n",
    "import pyspark\n",
    "from datetime import datetime,timedelta\n",
    "from pyspark.sql import SQLContext\n",
    "from pyspark import SparkContext, SparkConf\n",
    "from pyspark.sql import functions as F\n",
    "\n",
    "conf = pyspark.SparkConf()\n",
    "#import numpy\n",
    "import calendar\n",
    "#import pandas as pd\n",
    "#import simplejson as json\n",
    "#import pandas as pd\n",
    "import numpy as np\n",
    "import datetime\n",
    "from pyspark.sql.functions import *\n",
    "from pyspark.sql.types import DateType\n",
    "from pyspark.sql.functions import lit\n",
    "import simplejson as json\n",
    "import json, pprint, requests\n",
    "\n",
    "# mesos_ip = 'mesos://10.35.12.205:5050'\n",
    "mesos_ip = 'mesos://10.33.195.18:5050'\n",
    "# mesos_ip = 'mesos://10.33.195.43:5050'\n",
    "spark.stop() ############# NEED TO COMMENT THIS SPARK.STOP WHEN RUNNING THROUGH SHELL ###############################\n",
    "conf.setMaster(mesos_ip)\n",
    "\n",
    "conf.set('spark.executor.cores',no_of_cpu) ### change 1\n",
    "#conf.set('spark.memory.fraction','.2')\n",
    "conf.set('spark.executor.memory',executor_mem) \n",
    "conf.set('spark.es.scroll.size','10000')\n",
    "conf.set('spark.network.timeout','120m')\n",
    "conf.set('spark.sql.crossJoin.enabled', 'true')\n",
    "\n",
    "# gpdb_env = 'prod'\n",
    "\n",
    "# if gpdb_env=='uat':\n",
    "#     gpdb_url = \"jdbc:postgresql://10.33.195.103:5432/gpadmin\"\n",
    "#     gpdb_user = \"gpspark\"\n",
    "#     gpdb_pass = \"spark@456\"\n",
    "# else:\n",
    "#     gpdb_url = \"jdbc:postgresql://10.35.12.194:5432/gpadmin\"\n",
    "#     gpdb_user = \"gpspark\"\n",
    "#     gpdb_pass = \"spark@456\"\n",
    "\n",
    "\n",
    "\n",
    "conf.set('spark.executor.heartbeatInterval','120s')\n",
    "conf.set(\"spark.driver.cores\",\"4\")\n",
    "conf.set(\"spark.driver.extraJavaOptions\",\"-Xmx16g -Xms16g\")\n",
    "\n",
    "#conf.set(\"spark.shuffle.blockTransferService\", \"nio\"); \n",
    "conf.set(\"spark.files.overwrite\",\"true\");\n",
    "conf.set(\"spark.kryoserializer.buffer\", \"70\"); \n",
    "conf.set(\"spark.driver.extraJavaOptions\", \"-XX:+UseG1GC\");\n",
    "conf.set(\"spark.executor.extraJavaOptions\", \"-XX:+UseG1GC\");\n",
    "conf.set(\"spark.serializer\", \"org.apache.spark.serializer.KryoSerializer\"); \n",
    "conf.set(\"spark.broadcast.compress\", \"true\"); \n",
    "conf.set(\"spark.shuffle.compress\", \"true\"); \n",
    "conf.set(\"spark.shuffle.spill.compress\", \"true\");\n",
    "conf.set(\"spark.app.name\", Job_Name)\n",
    "#conf.set(\"spark.io.compression.codec\",\"org.apache.spark.io.LZ4CompressionCodec\");\n",
    "#conf.set(\"spark.sql.inMemoryColumnarStorage.compressed\", \"true\"); \n",
    "from pyspark.sql.functions import broadcast\n",
    "\n",
    "conf.set('spark.driver.memory','20g') ### change 2\n",
    "conf.set('spark.cores.max',max_cores) ### change 3\n",
    "#23-11-2020\n",
    "conf.set('spark.memory.offHeap.enabled','true')\n",
    "conf.set('spark.memory.offHeap.size','16g')\n",
    "\n",
    "conf.set('spark.sql.shuffle.partitions','80')\n",
    "#conf.set('spark.sql.crossJoin.enabled', 'true')\n",
    "# conf.set('es.nodes',es_nodes)\n",
    "# conf.set('es.port',es_port)\n",
    "# conf.set('es.nodes.wan.only','true')\n",
    "# conf.set(\"spark.sql.autoBroadcastJoinThreshold\",-1)\n",
    "conf.set(\"spark.sql.broadcastTimeout\",9000)\n",
    "# config spark.scroll.keepalive(\"10m\")\n",
    "conf.set(\"spark.scroll.keepalive\",\"120m\")\n",
    "#conf.set('spark.es.net.http.auth.user','Spark')\n",
    "#conf.set('spark.es.net.http.auth.pass','Jarkpet1Sap3')\n",
    "#conf.set('spark.num.executors','4')\n",
    "\n",
    "# conf.set('spark.es.net.http.auth.user', es_user)\n",
    "# conf.set('spark.es.net.http.auth.pass', es_pwd)\n",
    "\n",
    "conf.set('spark.es.mapping.date.rich','false')\n",
    "spark = pyspark.SparkContext(conf=conf)\n",
    "sqlContext = SQLContext(spark)\n",
    "\n",
    "\n",
    "# Load Data into PySpark DataFrames\n",
    "# Prodcom Data Frame\n",
    "import json, pprint, requests\n",
    "import pyspark.sql.functions as sf\n",
    "from pyspark.sql.types import *\n",
    "\n",
    "\n",
    "from pyspark.sql.window import *\n",
    "from pyspark.sql.functions import row_number"
   ]
  },
  {
   "cell_type": "code",
   "execution_count": 2,
   "metadata": {},
   "outputs": [
    {
     "data": {
      "application/vnd.jupyter.widget-view+json": {
       "model_id": "",
       "version_major": 2,
       "version_minor": 0
      },
      "text/plain": [
       "FloatProgress(value=0.0, bar_style='info', description='Progress:', layout=Layout(height='25px', width='50%'),…"
      ]
     },
     "metadata": {},
     "output_type": "display_data"
    },
    {
     "name": "stdout",
     "output_type": "stream",
     "text": [
      "'2024-01-25 06:40:25.218654'"
     ]
    }
   ],
   "source": [
    "from pyspark.sql.functions import hash,col,regexp_replace,collect_list,concat_ws,initcap,count\n",
    "import numpy as np\n",
    "import datetime\n",
    "from pyspark.sql.functions import *\n",
    "from pyspark.sql.types import DateType\n",
    "import psycopg2\n",
    "import time\n",
    "from time import gmtime, strftime\n",
    "import pytz\n",
    "starttime = time.time()\n",
    "start_time = datetime.datetime.now(pytz.timezone('Asia/Kolkata')).strftime(\"%Y-%m-%d %H:%M:%S.%f\")\n",
    "start_time"
   ]
  },
  {
   "cell_type": "code",
   "execution_count": 3,
   "metadata": {},
   "outputs": [
    {
     "data": {
      "application/vnd.jupyter.widget-view+json": {
       "model_id": "",
       "version_major": 2,
       "version_minor": 0
      },
      "text/plain": [
       "FloatProgress(value=0.0, bar_style='info', description='Progress:', layout=Layout(height='25px', width='50%'),…"
      ]
     },
     "metadata": {},
     "output_type": "display_data"
    }
   ],
   "source": [
    "prod_url = \"jdbc:postgresql://10.35.12.194:5432/gpadmin\"\n",
    "prod_host = '10.35.12.194'\n",
    "prod_port = '5432'\n",
    "prod_dbname = 'gpadmin'\n",
    "user_prod=\"gpspark\"\n",
    "pwd_prod=\"spark@456\"\n",
    "dbschema=\"public\"\n",
    "\n",
    "\n",
    "prod_gpdb_spark_options ={\n",
    "    \"url\": \"jdbc:postgresql://{host}:{port}/{dbname}\".format(host=prod_host,port=prod_port, dbname=prod_dbname),\n",
    "    \"user\": \"{user}\".format(user=user_prod),\n",
    "    \"password\": \"{password}\".format(password=pwd_prod)\n",
    "} "
   ]
  },
  {
   "cell_type": "code",
   "execution_count": 4,
   "metadata": {},
   "outputs": [
    {
     "data": {
      "application/vnd.jupyter.widget-view+json": {
       "model_id": "",
       "version_major": 2,
       "version_minor": 0
      },
      "text/plain": [
       "FloatProgress(value=0.0, bar_style='info', description='Progress:', layout=Layout(height='25px', width='50%'),…"
      ]
     },
     "metadata": {},
     "output_type": "display_data"
    }
   ],
   "source": [
    "# loading table as dataframe\n",
    "def load_gpdb_jdbc(col_str,dbtable,dbschema,col_name=None,time_filter=None,partitionColumn=\"row_num\"):\n",
    "    \"\"\"\n",
    "    This is used to read gpdb with filter for columns and can apply other filter(date,values).\n",
    "    Time filter contains startdate,enddate\n",
    "    \"\"\"\n",
    "    gscPythonOptions = {\n",
    "                        \"url\": prod_url,\n",
    "                        \"user\": user_prod,\n",
    "                        \"password\": pwd_prod,\n",
    "                        \"dbschema\": dbschema,\n",
    "                        \"dbtable\": dbtable,\n",
    "                        \"partitionColumn\":partitionColumn,\n",
    "                        \"partitions\": 8,\n",
    "                        \"server.port\":\"1150-1170\"}\n",
    "   \n",
    "    if time_filter:\n",
    "        data = sqlContext.read.format(\"greenplum\").options(**gscPythonOptions).load()\\\n",
    "                .selectExpr(col_str).drop_duplicates().filter(col(col_name).between(to_timestamp(lit(time_filter['start_date']),\n",
    "                                                                 format='yyyy-MM-dd'),\n",
    "                                                    to_timestamp(lit(time_filter['end_date']),\n",
    "                                                                 format='yyyy-MM-dd')))\n",
    "    else :\n",
    "        data = sqlContext.read.format(\"greenplum\").options(**gscPythonOptions).load()\\\n",
    "                .selectExpr(col_str).drop_duplicates()\n",
    "   \n",
    "    return data"
   ]
  },
  {
   "cell_type": "code",
   "execution_count": 5,
   "metadata": {},
   "outputs": [
    {
     "data": {
      "application/vnd.jupyter.widget-view+json": {
       "model_id": "",
       "version_major": 2,
       "version_minor": 0
      },
      "text/plain": [
       "FloatProgress(value=0.0, bar_style='info', description='Progress:', layout=Layout(height='25px', width='50%'),…"
      ]
     },
     "metadata": {},
     "output_type": "display_data"
    }
   ],
   "source": [
    "def get_latest_progress(table_name,source):\n",
    "    \n",
    "    try: \n",
    "        gscPythonOptions = {\n",
    "                 \"url\":prod_url ,\n",
    "                 \"user\":user_prod ,\n",
    "                 \"password\": pwd_prod,\n",
    "                 \"dbschema\":\"customermart\",\n",
    "                 \"dbtable\": \"progress\",#table change\n",
    "                 \"server.port\":\"1150-1170\"} \n",
    "        \n",
    "        # this query will fetch till what date we have inserted the records in target\n",
    "        last_run= sqlContext.read.format(\"greenplum\").options(**gscPythonOptions).load()\\\n",
    "            .select('table_name','source','to_datetime','records').filter(col('table_name')==table_name)\\\n",
    "            .filter(col('source')==source).filter(col('records')!=0)\n",
    "        \n",
    "        Max_last_run =last_run.select(max('to_datetime')).first()[0]\n",
    "\n",
    "\n",
    "        # if no record is available in progress then it will raise value error, in this case default value will be picked from except clause\n",
    "        if Max_last_run is None:\n",
    "            raise ValueError(\"No records found!\")\n",
    "\n",
    "        #print(\"Record Found. Progress updated till {}\".format(Max_last_run)) MC:2018-11-01\n",
    "        #ocrm 2017-12-28 icn:2019-04-05 10:58:49.291000  ICRM:2018-01-26 2023-07-29 00:00:00.000\n",
    "\n",
    "    except Exception as E: \n",
    "        Max_last_run = datetime.datetime(2018,10,30, 0, 0)  # this is the default start date when no record is present in progress for customer_demographics table\n",
    "        print(\"Executed_except\",repr(E))\n",
    "    return Max_last_run"
   ]
  },
  {
   "cell_type": "code",
   "execution_count": 22,
   "metadata": {},
   "outputs": [
    {
     "data": {
      "application/vnd.jupyter.widget-view+json": {
       "model_id": "",
       "version_major": 2,
       "version_minor": 0
      },
      "text/plain": [
       "FloatProgress(value=0.0, bar_style='info', description='Progress:', layout=Layout(height='25px', width='50%'),…"
      ]
     },
     "metadata": {},
     "output_type": "display_data"
    },
    {
     "name": "stdout",
     "output_type": "stream",
     "text": [
      "DataFrame[mobile: string]"
     ]
    }
   ],
   "source": [
    "intermediary_df.createOrReplaceTempView('intermediary_table')\n",
    "\n",
    "query1_mob = \"\"\"SELECT txt_mobile mobile from intermediary_table\n",
    "union\n",
    "select txt_telephone from intermediary_table\n",
    "union\n",
    "select txt_telephone1 from intermediary_table\n",
    "union\n",
    "select txt_contact_phone from intermediary_table\n",
    "union\n",
    "select txt_emer_person_mobile_number from intermediary_table\n",
    "union\n",
    "select txt_policy_phone from intermediary_table\n",
    "union\n",
    "select txt_alt_mobile from intermediary_table\"\"\"\n",
    "\n",
    "intermediary_df_mob = sqlContext.sql(query1_mob)\n",
    "\n",
    "\n",
    "\n",
    "\n",
    "gscPythonOptions = {\n",
    "\"url\": \"jdbc:postgresql://10.35.12.194:5432/gpadmin\",\n",
    "\"user\": \"gpspark\",\n",
    "\"password\": \"spark@456\",\n",
    "\"server.port\": \"1151-1160\",\n",
    "\"dbschema\": \"staging\",\n",
    "\"dbtable\": \"retention_auto_producer_contact\"}\n",
    "contact_prod = sqlContext.read.format(\"greenplum\").options(**gscPythonOptions).load()\\\n",
    "                    .selectExpr(\"contact as contact1\")\n",
    "\n",
    "agent_no=intermediary_df_mob.union(contact_prod)\n",
    "\n",
    "\n",
    "\n",
    "agent_no = agent_no.withColumn(\"mobile\", when((length(col(\"mobile\")) == 12), \n",
    "                                               regexp_replace(col(\"mobile\"), \"^91\", \"\")).otherwise(lit(col(\"mobile\"))))\n",
    "\n",
    "agent_no = agent_no.withColumn(\"mobile\", when((length(col(\"mobile\")) == 11),\n",
    "                                               regexp_replace(col(\"mobile\"), \"^0\", \"\")).otherwise(lit(col(\"mobile\"))))\n",
    "\n",
    "agent_no.persist(pyspark.StorageLevel.MEMORY_AND_DISK)\n"
   ]
  },
  {
   "cell_type": "code",
   "execution_count": 23,
   "metadata": {},
   "outputs": [
    {
     "data": {
      "application/vnd.jupyter.widget-view+json": {
       "model_id": "",
       "version_major": 2,
       "version_minor": 0
      },
      "text/plain": [
       "FloatProgress(value=0.0, bar_style='info', description='Progress:', layout=Layout(height='25px', width='50%'),…"
      ]
     },
     "metadata": {},
     "output_type": "display_data"
    },
    {
     "name": "stdout",
     "output_type": "stream",
     "text": [
      "DataFrame[txt_email: string]"
     ]
    }
   ],
   "source": [
    "query1_email = \"\"\"select txt_email from intermediary_table\n",
    "union\n",
    "select txt_alt_email_id from intermediary_table\n",
    "union\n",
    "select txt_email_sms_reqd from intermediary_table\"\"\"\n",
    "\n",
    "\n",
    "intermediary_df_email = sqlContext.sql(query1_email)\n",
    "\n",
    "\n",
    "intermediary_df_email.persist(pyspark.StorageLevel.MEMORY_AND_DISK)\n",
    "\n",
    "\n",
    "gscPythonOptions = {\n",
    "\"url\": \"jdbc:postgresql://10.35.12.194:5432/gpadmin\",\n",
    "\"user\": \"gpspark\",\n",
    "\"password\": \"spark@456\",\n",
    "\"server.port\": \"1151-1160\",\n",
    "\"dbschema\": \"staging\",\n",
    "\"dbtable\": \"retention_auto_producer_email\"}\n",
    "\n",
    "email_prod = sqlContext.read.format(\"greenplum\").options(**gscPythonOptions).load()\\\n",
    "                    .selectExpr(\"email as email1\")\n",
    "\n",
    "agent_email=intermediary_df_email.union(email_prod)\n",
    "\n",
    "\n",
    "agent_email.persist(pyspark.StorageLevel.MEMORY_AND_DISK)\n",
    "\n"
   ]
  },
  {
   "cell_type": "code",
   "execution_count": 24,
   "metadata": {},
   "outputs": [
    {
     "data": {
      "application/vnd.jupyter.widget-view+json": {
       "model_id": "",
       "version_major": 2,
       "version_minor": 0
      },
      "text/plain": [
       "FloatProgress(value=0.0, bar_style='info', description='Progress:', layout=Layout(height='25px', width='50%'),…"
      ]
     },
     "metadata": {},
     "output_type": "display_data"
    }
   ],
   "source": [
    "condition = [lower(trim(contact_df.value))==lower(trim(agent_no.mobile))]\n",
    "\n",
    "contact_df_x1 = contact_df.join(agent_no,condition,how=\"left\")\n",
    "##contact_df_recheck_x1 = contact_df_recheck.filter(col('value').isNotNull())"
   ]
  },
  {
   "cell_type": "code",
   "execution_count": 25,
   "metadata": {},
   "outputs": [
    {
     "data": {
      "application/vnd.jupyter.widget-view+json": {
       "model_id": "",
       "version_major": 2,
       "version_minor": 0
      },
      "text/plain": [
       "FloatProgress(value=0.0, bar_style='info', description='Progress:', layout=Layout(height='25px', width='50%'),…"
      ]
     },
     "metadata": {},
     "output_type": "display_data"
    },
    {
     "name": "stdout",
     "output_type": "stream",
     "text": [
      "DataFrame[source_system_name: string, source_system_customer_id: string, communication_sub_type: string, value: string, last_updated: timestamp, activity_id: bigint, mobile: string]"
     ]
    }
   ],
   "source": [
    "contact_df_x1.persist()"
   ]
  },
  {
   "cell_type": "code",
   "execution_count": 26,
   "metadata": {},
   "outputs": [
    {
     "data": {
      "application/vnd.jupyter.widget-view+json": {
       "model_id": "",
       "version_major": 2,
       "version_minor": 0
      },
      "text/plain": [
       "FloatProgress(value=0.0, bar_style='info', description='Progress:', layout=Layout(height='25px', width='50%'),…"
      ]
     },
     "metadata": {},
     "output_type": "display_data"
    },
    {
     "name": "stdout",
     "output_type": "stream",
     "text": [
      "['source_system_name', 'source_system_customer_id', 'communication_sub_type', 'value', 'last_updated', 'activity_id', 'mobile']"
     ]
    }
   ],
   "source": [
    "contact_df_x1.columns"
   ]
  },
  {
   "cell_type": "code",
   "execution_count": 27,
   "metadata": {},
   "outputs": [
    {
     "data": {
      "application/vnd.jupyter.widget-view+json": {
       "model_id": "",
       "version_major": 2,
       "version_minor": 0
      },
      "text/plain": [
       "FloatProgress(value=0.0, bar_style='info', description='Progress:', layout=Layout(height='25px', width='50%'),…"
      ]
     },
     "metadata": {},
     "output_type": "display_data"
    }
   ],
   "source": [
    "conditions = [lower(trim(contact_df.value))==lower(trim(agent_email.txt_email))]\n",
    "\n",
    "contact_df_x2 = contact_df_x1.join(agent_email,conditions,how=\"left\")\n",
    "##contact_df_recheck_x1 = contact_df_recheck.filter(col('value').isNotNull())"
   ]
  },
  {
   "cell_type": "code",
   "execution_count": 28,
   "metadata": {},
   "outputs": [
    {
     "data": {
      "application/vnd.jupyter.widget-view+json": {
       "model_id": "",
       "version_major": 2,
       "version_minor": 0
      },
      "text/plain": [
       "FloatProgress(value=0.0, bar_style='info', description='Progress:', layout=Layout(height='25px', width='50%'),…"
      ]
     },
     "metadata": {},
     "output_type": "display_data"
    },
    {
     "name": "stdout",
     "output_type": "stream",
     "text": [
      "['source_system_name', 'source_system_customer_id', 'communication_sub_type', 'value', 'last_updated', 'activity_id', 'mobile', 'txt_email']"
     ]
    }
   ],
   "source": [
    "contact_df_x2.columns"
   ]
  },
  {
   "cell_type": "code",
   "execution_count": 29,
   "metadata": {},
   "outputs": [
    {
     "data": {
      "application/vnd.jupyter.widget-view+json": {
       "model_id": "",
       "version_major": 2,
       "version_minor": 0
      },
      "text/plain": [
       "FloatProgress(value=0.0, bar_style='info', description='Progress:', layout=Layout(height='25px', width='50%'),…"
      ]
     },
     "metadata": {},
     "output_type": "display_data"
    },
    {
     "name": "stdout",
     "output_type": "stream",
     "text": [
      "DataFrame[source_system_name: string, source_system_customer_id: string, communication_sub_type: string, value: string, last_updated: timestamp, activity_id: bigint, mobile: string, txt_email: string]"
     ]
    }
   ],
   "source": [
    "contact_df_x2.persist()"
   ]
  },
  {
   "cell_type": "code",
   "execution_count": 30,
   "metadata": {},
   "outputs": [
    {
     "data": {
      "application/vnd.jupyter.widget-view+json": {
       "model_id": "",
       "version_major": 2,
       "version_minor": 0
      },
      "text/plain": [
       "FloatProgress(value=0.0, bar_style='info', description='Progress:', layout=Layout(height='25px', width='50%'),…"
      ]
     },
     "metadata": {},
     "output_type": "display_data"
    }
   ],
   "source": [
    "contact_df_x2=contact_df_x2.filter(col('value').isNotNull()).filter(col('source_system_customer_id').isNotNull())"
   ]
  },
  {
   "cell_type": "code",
   "execution_count": 33,
   "metadata": {},
   "outputs": [
    {
     "data": {
      "application/vnd.jupyter.widget-view+json": {
       "model_id": "",
       "version_major": 2,
       "version_minor": 0
      },
      "text/plain": [
       "FloatProgress(value=0.0, bar_style='info', description='Progress:', layout=Layout(height='25px', width='50%'),…"
      ]
     },
     "metadata": {},
     "output_type": "display_data"
    }
   ],
   "source": [
    "contact_df_x2_cnt = contact_df_x2.filter((contact_df_x2.value == contact_df_x2.mobile) | (contact_df_x2.value == contact_df_x2.txt_email)).filter(col('last_updated') <= progress_contact_mastercraft ).filter(col('source_system_name').isin('GC','S3','CRM','NA','WB')).select('source_system_customer_id').distinct()"
   ]
  },
  {
   "cell_type": "code",
   "execution_count": 34,
   "metadata": {},
   "outputs": [
    {
     "data": {
      "application/vnd.jupyter.widget-view+json": {
       "model_id": "",
       "version_major": 2,
       "version_minor": 0
      },
      "text/plain": [
       "FloatProgress(value=0.0, bar_style='info', description='Progress:', layout=Layout(height='25px', width='50%'),…"
      ]
     },
     "metadata": {},
     "output_type": "display_data"
    },
    {
     "name": "stdout",
     "output_type": "stream",
     "text": [
      "DataFrame[source_system_customer_id: string]"
     ]
    }
   ],
   "source": [
    "contact_df_x2_cnt.persist()"
   ]
  },
  {
   "cell_type": "code",
   "execution_count": null,
   "metadata": {},
   "outputs": [],
   "source": [
    "contact_df_x2_cnt.count() ## 64772 ## 65111 (22 jan)"
   ]
  },
  {
   "cell_type": "code",
   "execution_count": 35,
   "metadata": {},
   "outputs": [
    {
     "data": {
      "application/vnd.jupyter.widget-view+json": {
       "model_id": "",
       "version_major": 2,
       "version_minor": 0
      },
      "text/plain": [
       "FloatProgress(value=0.0, bar_style='info', description='Progress:', layout=Layout(height='25px', width='50%'),…"
      ]
     },
     "metadata": {},
     "output_type": "display_data"
    }
   ],
   "source": [
    "contact_df_x2_master = contact_df_x2.filter(col('last_updated') <= progress_contact_mastercraft ).filter(col('source_system_name').isin('GC','S3','CRM','NA','WB')).select('source_system_customer_id').distinct()"
   ]
  },
  {
   "cell_type": "code",
   "execution_count": 36,
   "metadata": {},
   "outputs": [
    {
     "data": {
      "application/vnd.jupyter.widget-view+json": {
       "model_id": "",
       "version_major": 2,
       "version_minor": 0
      },
      "text/plain": [
       "FloatProgress(value=0.0, bar_style='info', description='Progress:', layout=Layout(height='25px', width='50%'),…"
      ]
     },
     "metadata": {},
     "output_type": "display_data"
    },
    {
     "name": "stdout",
     "output_type": "stream",
     "text": [
      "DataFrame[source_system_customer_id: string]"
     ]
    }
   ],
   "source": [
    "contact_df_x2_master.persist()"
   ]
  },
  {
   "cell_type": "code",
   "execution_count": 37,
   "metadata": {},
   "outputs": [
    {
     "data": {
      "application/vnd.jupyter.widget-view+json": {
       "model_id": "",
       "version_major": 2,
       "version_minor": 0
      },
      "text/plain": [
       "FloatProgress(value=0.0, bar_style='info', description='Progress:', layout=Layout(height='25px', width='50%'),…"
      ]
     },
     "metadata": {},
     "output_type": "display_data"
    }
   ],
   "source": [
    "contact_df_x2_cnt_new_rechk = contact_df_x2_master.exceptAll(contact_df_x2_cnt)"
   ]
  },
  {
   "cell_type": "code",
   "execution_count": 38,
   "metadata": {},
   "outputs": [
    {
     "data": {
      "application/vnd.jupyter.widget-view+json": {
       "model_id": "",
       "version_major": 2,
       "version_minor": 0
      },
      "text/plain": [
       "FloatProgress(value=0.0, bar_style='info', description='Progress:', layout=Layout(height='25px', width='50%'),…"
      ]
     },
     "metadata": {},
     "output_type": "display_data"
    },
    {
     "name": "stdout",
     "output_type": "stream",
     "text": [
      "DataFrame[source_system_customer_id: string]"
     ]
    }
   ],
   "source": [
    "contact_df_x2_cnt_new_rechk.persist()"
   ]
  },
  {
   "cell_type": "code",
   "execution_count": null,
   "metadata": {},
   "outputs": [],
   "source": [
    "contact_df_x2_cnt_new_rechk.count()  ## 87122660 ## 87159770 (22 jan)"
   ]
  },
  {
   "cell_type": "code",
   "execution_count": null,
   "metadata": {},
   "outputs": [],
   "source": [
    "contact_df_x2_cnt_new.distinct().count() ##87939785"
   ]
  },
  {
   "cell_type": "code",
   "execution_count": null,
   "metadata": {},
   "outputs": [],
   "source": [
    "value_agent = contact_df_x2_cnt.agg({\"source_system_customer_id\": \"count\"}).collect()[0][0]"
   ]
  },
  {
   "cell_type": "code",
   "execution_count": null,
   "metadata": {},
   "outputs": [],
   "source": [
    "value_agent ## 64772"
   ]
  },
  {
   "cell_type": "code",
   "execution_count": null,
   "metadata": {},
   "outputs": [],
   "source": [
    "contact_cust_id_cnt = value_contactblity_master - value_agent "
   ]
  },
  {
   "cell_type": "code",
   "execution_count": null,
   "metadata": {},
   "outputs": [],
   "source": [
    "contact_cust_id_cnt ## 87122660  df_mastercraft_cnt ### 87127000"
   ]
  },
  {
   "cell_type": "code",
   "execution_count": null,
   "metadata": {},
   "outputs": [],
   "source": [
    "contact_df_x2_cnt_rechk = contact_df_x2.filter((contact_df_x2.value != contact_df_x2.mobile) | (contact_df_x2.value != contact_df_x2.txt_email)).filter(col('last_updated') <= progress_contact_mastercraft ).filter(col('source_system_name').isin('GC','S3','CRM','NA','WB')).select('source_system_customer_id').distinct()"
   ]
  },
  {
   "cell_type": "code",
   "execution_count": null,
   "metadata": {},
   "outputs": [],
   "source": [
    "contact_df_x2_cnt_rechk.count()"
   ]
  },
  {
   "cell_type": "code",
   "execution_count": null,
   "metadata": {},
   "outputs": [],
   "source": []
  },
  {
   "cell_type": "code",
   "execution_count": null,
   "metadata": {},
   "outputs": [],
   "source": []
  },
  {
   "cell_type": "code",
   "execution_count": null,
   "metadata": {},
   "outputs": [],
   "source": []
  },
  {
   "cell_type": "code",
   "execution_count": null,
   "metadata": {},
   "outputs": [],
   "source": [
    "from pyspark.sql.window import Window\n",
    "\n",
    "contact_df = contact_df.withColumn(\"rn\", F.row_number()\n",
    "        .over(Window.partitionBy(\"source_system_name\",\"source_system_customer_id\",\"activity_id\")\n",
    "        .orderBy(F.col(\"last_updated\").desc())))\n",
    "\n",
    "contact_df = contact_df.filter(F.col(\"rn\") == 1).drop(\"rn\")"
   ]
  },
  {
   "cell_type": "code",
   "execution_count": null,
   "metadata": {},
   "outputs": [],
   "source": [
    "contact_df = contact_df.filter(~(col(\"value\").isin(['1234567890','9876543210','9999988888','9090909090','9000000000','9900000000'])))\n",
    "contact_df = contact_df.filter(~(lower(trim(col(\"value\"))).isin(['abc@gmail.com','xyz@gmail.com','123@gmail.com','abc@d.com','abcd@gmail.com','null'])))"
   ]
  },
  {
   "cell_type": "code",
   "execution_count": null,
   "metadata": {},
   "outputs": [],
   "source": [
    "contact_df.repartition('value')"
   ]
  },
  {
   "cell_type": "code",
   "execution_count": null,
   "metadata": {},
   "outputs": [],
   "source": [
    "condition = [lower(trim(contact_df.value))==lower(trim(agent_no.mobile))]\n",
    "\n",
    "contact_df = contact_df.join(agent_no,condition,how=\"left\")\n",
    "contact_df = contact_df.filter(col('mobile').isNull()).drop(contact_df.mobile)\n",
    "\n",
    "condition = [lower(trim(contact_df.value))==lower(trim(agent_email.txt_email))]\n",
    "\n",
    "contact_df = contact_df.join(agent_email,condition,how=\"left\")\n",
    "contact_df = contact_df.filter(col('txt_email').isNull()).drop(contact_df.txt_email)"
   ]
  },
  {
   "cell_type": "code",
   "execution_count": null,
   "metadata": {},
   "outputs": [],
   "source": [
    "contact_df=contact_df.filter(col('value').isNotNull()).filter(col('source_system_customer_id').isNotNull())"
   ]
  },
  {
   "cell_type": "code",
   "execution_count": null,
   "metadata": {},
   "outputs": [],
   "source": [
    "contact_df_cnt = contact_df.filter(col('last_updated') <= progress_contact_mastercraft).filter(col('source_system_name').isin('GC','S3','CRM','NA','WB')).select(\"source_system_customer_id\").distinct()"
   ]
  },
  {
   "cell_type": "code",
   "execution_count": null,
   "metadata": {},
   "outputs": [],
   "source": [
    "contact_df_cnt.count() ##87155715"
   ]
  },
  {
   "cell_type": "code",
   "execution_count": null,
   "metadata": {},
   "outputs": [],
   "source": [
    "## mastercraft se count aaya = df_masterCraft_cnt.count() ## 87127698"
   ]
  },
  {
   "cell_type": "code",
   "execution_count": null,
   "metadata": {},
   "outputs": [],
   "source": []
  },
  {
   "cell_type": "code",
   "execution_count": null,
   "metadata": {},
   "outputs": [],
   "source": []
  },
  {
   "cell_type": "markdown",
   "metadata": {},
   "source": [
    "### CUSTOMER_PROFILE"
   ]
  },
  {
   "cell_type": "code",
   "execution_count": null,
   "metadata": {},
   "outputs": [],
   "source": [
    "gscPythonOptions = {\n",
    "         \"url\": \"jdbc:postgresql://10.35.12.194:5432/gpadmin\",\n",
    "         \"user\": user_prod,\n",
    "         \"password\": pwd_prod,\n",
    "         \"dbtable\": \"customermart.progress\",\n",
    "         \"server.port\":\"1150-1170\"}\n",
    "\n",
    "\n",
    "progress_df = sqlContext.read.format(\"jdbc\").options(**gscPythonOptions).load()\\\n",
    ".selectExpr('table_name','source','to_datetime','from_datetime')#\\\n",
    "#.filter(to_date(col('start_time'))==current_date())"
   ]
  },
  {
   "cell_type": "code",
   "execution_count": null,
   "metadata": {},
   "outputs": [],
   "source": [
    "progress_df.persist()"
   ]
  },
  {
   "cell_type": "code",
   "execution_count": null,
   "metadata": {},
   "outputs": [],
   "source": [
    "group_cols = ['table_name','source']"
   ]
  },
  {
   "cell_type": "code",
   "execution_count": null,
   "metadata": {},
   "outputs": [],
   "source": [
    "progress_df1 = progress_df.groupby(group_cols).agg(max('to_datetime').alias('max_to_datetime')) "
   ]
  },
  {
   "cell_type": "code",
   "execution_count": null,
   "metadata": {},
   "outputs": [],
   "source": [
    "## for creating variable for max(to_datetime) of customer_profile table, to find out count of distinct GID in Masterfcraft table and customer_profile table by using as filter this datetime variable\n",
    "\n",
    "progress_cust_prof = progress_df1.filter(col('table_name').isin('customer_profile')).collect()[0][1]"
   ]
  },
  {
   "cell_type": "code",
   "execution_count": null,
   "metadata": {},
   "outputs": [],
   "source": [
    "progress_cust_prof"
   ]
  },
  {
   "cell_type": "code",
   "execution_count": null,
   "metadata": {},
   "outputs": [],
   "source": [
    "col_str=['golden_id','last_updated']\n",
    "gscPythonOptions = {\n",
    "\"url\": \"jdbc:postgresql://10.35.12.194:5432/gpadmin\",\n",
    "\"user\": \"gpspark\", \"server.port\":\"1150-1170\",\n",
    "\"password\": \"spark@456\",\"dbschema\":\"customermart\",\n",
    "\"dbtable\": \"customer_profile\"}\n",
    "profile_df = sqlContext.read.format(\"greenplum\").options(**gscPythonOptions).load()\\\n",
    "         .selectExpr(col_str)"
   ]
  },
  {
   "cell_type": "code",
   "execution_count": null,
   "metadata": {},
   "outputs": [],
   "source": [
    "profile_df.persist()"
   ]
  },
  {
   "cell_type": "code",
   "execution_count": null,
   "metadata": {},
   "outputs": [],
   "source": [
    "profile_df01 = profile_df.filter(col('last_updated') <= progress_cust_prof).select(\"golden_id\",\"last_updated\" ).distinct()"
   ]
  },
  {
   "cell_type": "code",
   "execution_count": null,
   "metadata": {},
   "outputs": [],
   "source": [
    "profile_df01.count()"
   ]
  },
  {
   "cell_type": "code",
   "execution_count": null,
   "metadata": {},
   "outputs": [],
   "source": [
    "gscPythonOptions = {\n",
    "\"url\": \"jdbc:postgresql://10.35.12.194:5432/gpadmin\",\n",
    "\"user\": \"gpspark\",\n",
    "\"password\": \"spark@456\",\n",
    "\"server.port\": \"1151-1160\",\n",
    "\"dbschema\": \"public\",\n",
    "\"dbtable\": \"mastercraft_bulk_detail_prod\"}\n",
    "master_bulk_df = sqlContext.read.format(\"greenplum\").options(**gscPythonOptions).load()\\\n",
    "                    .selectExpr('source_customer_id','dc_unified_id','dc_action_date').filter((col('dc_unified_id').isNotNull()))\n"
   ]
  },
  {
   "cell_type": "code",
   "execution_count": null,
   "metadata": {},
   "outputs": [],
   "source": [
    "gscPythonOptions = {\n",
    "    \"url\": \"jdbc:postgresql://10.35.12.194:5432/gpadmin\",\n",
    "    \"user\": \"gpspark\",\n",
    "    \"password\": \"spark@456\",\n",
    "    \"dbschema\": \"public\",\n",
    "    \"dbtable\":\"mastercraft_master_prod\", \n",
    "    \"partitionColumn\":\"row_num\",\n",
    "    \"server.port\":\"1106\",\n",
    "    \"partitions\":6} \n",
    "\n",
    "master_prod_df=sqlContext.read.format(\"greenplum\").options(**gscPythonOptions).load()\\\n",
    ".select('dc_unified_id','dc_active_flag').filter((col('dc_unified_id').isNotNull()))\\\n",
    ".filter((col(\"dc_active_flag\")==1))"
   ]
  },
  {
   "cell_type": "code",
   "execution_count": null,
   "metadata": {},
   "outputs": [],
   "source": [
    "master= master_bulk_df.join(master_prod_df, 'dc_unified_id', \"inner\")"
   ]
  },
  {
   "cell_type": "code",
   "execution_count": null,
   "metadata": {},
   "outputs": [],
   "source": [
    "# from pyspark.sql.window import Window\n",
    "\n",
    "# master = master.withColumn(\"rn\", F.row_number()\n",
    "#         .over(Window.partitionBy(['dc_unified_id'])\n",
    "#         .orderBy(F.col(\"dc_action_date\").desc())))\n",
    "\n",
    "# master = master.filter(F.col(\"rn\") == 1).drop(\"rn\")"
   ]
  },
  {
   "cell_type": "code",
   "execution_count": null,
   "metadata": {},
   "outputs": [],
   "source": [
    "master.persist()"
   ]
  },
  {
   "cell_type": "code",
   "execution_count": null,
   "metadata": {},
   "outputs": [],
   "source": [
    "master_df01 = master.filter(col('dc_action_date') <= progress_cust_prof).select(\"dc_unified_id\").distinct()"
   ]
  },
  {
   "cell_type": "code",
   "execution_count": null,
   "metadata": {},
   "outputs": [],
   "source": [
    "master_df01.count()"
   ]
  },
  {
   "cell_type": "markdown",
   "metadata": {},
   "source": [
    "### CUSTOMER_DEMOGRAPHICS"
   ]
  },
  {
   "cell_type": "code",
   "execution_count": null,
   "metadata": {},
   "outputs": [],
   "source": [
    "## for creating variable for max(to_datetime) of customer_profile table, to find out count of distinct GID in Masterfcraft table and customer_profile table\n",
    "\n",
    "progress_cust_demog = progress_df1.filter(col('table_name').isin('customer_demographics')).collect()[0][1]"
   ]
  },
  {
   "cell_type": "code",
   "execution_count": null,
   "metadata": {},
   "outputs": [],
   "source": [
    "progress_cust_demog"
   ]
  },
  {
   "cell_type": "code",
   "execution_count": null,
   "metadata": {},
   "outputs": [],
   "source": [
    "col_str=['golden_id','last_updated']\n",
    "gscPythonOptions = {\n",
    "\"url\": \"jdbc:postgresql://10.35.12.194:5432/gpadmin\",\n",
    "\"user\": \"gpspark\", \"server.port\":\"1150-1170\",\n",
    "\"password\": \"spark@456\",\"dbschema\":\"customermart\",\n",
    "\"dbtable\": \"customer_demographics\"}\n",
    "demog_df = sqlContext.read.format(\"greenplum\").options(**gscPythonOptions).load()\\\n",
    "         .selectExpr(col_str)"
   ]
  },
  {
   "cell_type": "code",
   "execution_count": null,
   "metadata": {},
   "outputs": [],
   "source": [
    "demog_df1 = demog_df.filter(col('last_updated') <= progress_cust_demog).select(\"golden_id\").distinct()"
   ]
  },
  {
   "cell_type": "code",
   "execution_count": null,
   "metadata": {},
   "outputs": [],
   "source": [
    "demog_df1.count()"
   ]
  },
  {
   "cell_type": "code",
   "execution_count": null,
   "metadata": {},
   "outputs": [],
   "source": [
    "## 1. cust_demo left join master_prod where active flag != 0\n",
    "##check  distinct count gid \n",
    "\n",
    "## 2. master_bulk inner join master_prod where actice flag = 1\n",
    "##check  distinct count  dc_unified_id\n"
   ]
  },
  {
   "cell_type": "code",
   "execution_count": null,
   "metadata": {},
   "outputs": [],
   "source": [
    "demog_prod = demog_df.join(master_prod_df, master_prod_df.dc_unified_id == demog_df.golden_id ,'left')"
   ]
  },
  {
   "cell_type": "code",
   "execution_count": null,
   "metadata": {},
   "outputs": [],
   "source": [
    "demog_prod = demog_prod.filter(col(\"dc_active_flag\") == 1 )"
   ]
  },
  {
   "cell_type": "code",
   "execution_count": null,
   "metadata": {},
   "outputs": [],
   "source": [
    "demog_prod_01 =  demog_prod.filter(col('last_updated') <= progress_cust_demog).select(\"golden_id\").distinct()"
   ]
  },
  {
   "cell_type": "code",
   "execution_count": null,
   "metadata": {},
   "outputs": [],
   "source": [
    "demog_prod_01.count()"
   ]
  },
  {
   "cell_type": "code",
   "execution_count": null,
   "metadata": {},
   "outputs": [],
   "source": [
    "master_df_demo = master.filter(col('dc_action_date') <= progress_cust_demog).select(\"dc_unified_id\").distinct()"
   ]
  },
  {
   "cell_type": "code",
   "execution_count": null,
   "metadata": {},
   "outputs": [],
   "source": [
    "master_df_demo.count()"
   ]
  },
  {
   "cell_type": "markdown",
   "metadata": {},
   "source": [
    "## ID"
   ]
  },
  {
   "cell_type": "code",
   "execution_count": null,
   "metadata": {},
   "outputs": [],
   "source": [
    "## for creating variable for max(to_datetime) of customer_profile table, to find out count of distinct GID in Masterfcraft table and customer_profile table\n",
    "\n",
    "progress_id = progress_df1.filter(col('table_name').isin('id')).collect()[0][1]"
   ]
  },
  {
   "cell_type": "code",
   "execution_count": null,
   "metadata": {},
   "outputs": [],
   "source": [
    "progress_id"
   ]
  },
  {
   "cell_type": "code",
   "execution_count": null,
   "metadata": {},
   "outputs": [],
   "source": [
    "col_str=['source_system_customer_id','last_updated_date']\n",
    "gscPythonOptions = {\n",
    "\"url\": \"jdbc:postgresql://10.35.12.194:5432/gpadmin\",\n",
    "\"user\": \"gpspark\", \"server.port\":\"1150-1170\",\n",
    "\"password\": \"spark@456\",\"dbschema\":\"customermart\",\n",
    "\"dbtable\": \"id\"}\n",
    "id_df = sqlContext.read.format(\"greenplum\").options(**gscPythonOptions).load()\\\n",
    "         .selectExpr(col_str)"
   ]
  },
  {
   "cell_type": "code",
   "execution_count": null,
   "metadata": {},
   "outputs": [],
   "source": [
    "# id_df = id_df.withColumn('source_system_customer_id',trim(col('source_system_customer_id').cast('int'))).dropDuplicates()"
   ]
  },
  {
   "cell_type": "code",
   "execution_count": null,
   "metadata": {},
   "outputs": [],
   "source": [
    "id_df1 = id_df.filter(col('last_updated_date') <= progress_id).select(\"source_system_customer_id\").distinct()"
   ]
  },
  {
   "cell_type": "code",
   "execution_count": null,
   "metadata": {},
   "outputs": [],
   "source": [
    "id_df1.count()"
   ]
  },
  {
   "cell_type": "code",
   "execution_count": null,
   "metadata": {},
   "outputs": [],
   "source": [
    "id_df1.columns"
   ]
  },
  {
   "cell_type": "code",
   "execution_count": null,
   "metadata": {},
   "outputs": [],
   "source": [
    "col_str=['source_id','source_customer_id','dc_unified_id','dc_action_date','pan','pan_is_verified',\n",
    "        'cleansed_voterid','voter_id_is_verified', 'driving_license','driving_license_is_verified','passport','voter_id',\n",
    "        'cleansed_passport','passport_is_verified']\n",
    "\n",
    "master_bulk_df=load_gpdb_jdbc(col_str,\"mastercraft_bulk_detail_prod\",\"public\")\n",
    "master_bulk_df=master_bulk_df.filter((col('dc_unified_id').isNotNull()))\\\n",
    "                        .filter((col('source_customer_id').isNotNull())).filter((col('source_id').isNotNull()))"
   ]
  },
  {
   "cell_type": "code",
   "execution_count": null,
   "metadata": {},
   "outputs": [],
   "source": [
    "# id= master_bulk_df.withColumn('source_customer_id',trim(col('source_customer_id').cast('int'))).dropDuplicates()"
   ]
  },
  {
   "cell_type": "code",
   "execution_count": null,
   "metadata": {},
   "outputs": [],
   "source": [
    "id=master_bulk_df.filter((col('dc_unified_id').isNotNull()) & (col('source_id').isNotNull()))"
   ]
  },
  {
   "cell_type": "code",
   "execution_count": null,
   "metadata": {},
   "outputs": [],
   "source": [
    "id=id.withColumn('source_system_name', col('source_id'))\\\n",
    ".withColumn('source_system_customer_id', coalesce('source_customer_id','dc_unified_id'))\\\n",
    ".withColumn('activity_id', hash(col('pan')))\\\n",
    ".withColumn('dc_action_date', col('dc_action_date'))\\\n",
    ".withColumn('id_value', col('pan'))\\\n",
    ".withColumn('primary_key', concat_ws('',trim(col('source_id')),trim(col('source_system_customer_id')), trim(col('activity_id'))))"
   ]
  },
  {
   "cell_type": "code",
   "execution_count": null,
   "metadata": {},
   "outputs": [],
   "source": [
    "id1=id.select(col('source_system_name'),col('source_system_customer_id'),col('activity_id'),\\\n",
    "                         col('id_value'),col('dc_action_date'),\\\n",
    "                         col('primary_key'))\n",
    "id1 = id1.withColumn('id_value',when(col('id_value').rlike(\"[A-Z]{5}[0-9]{4}[A-Z]{1}\"),col('id_value'))\n",
    "                                 .otherwise(lit(None)))\n",
    "\n",
    "id1=id1.filter(col(\"id_value\").isNotNull())"
   ]
  },
  {
   "cell_type": "code",
   "execution_count": null,
   "metadata": {},
   "outputs": [],
   "source": [
    "id=id.withColumn('source_system_name', col('source_id'))\\\n",
    ".withColumn('source_system_customer_id', coalesce('source_customer_id','dc_unified_id'))\\\n",
    ".withColumn('activity_id', hash(coalesce('cleansed_voterid','voter_id')))\\\n",
    ".withColumn('dc_action_date', col('dc_action_date'))\\\n",
    ".withColumn('id_value', coalesce('cleansed_voterid','voter_id'))\\\n",
    ".withColumn('primary_key', concat_ws('',trim(col('source_id')),trim(col('source_system_customer_id')), trim(col('activity_id'))))"
   ]
  },
  {
   "cell_type": "code",
   "execution_count": null,
   "metadata": {},
   "outputs": [],
   "source": [
    "id2=id.select(col('source_system_name'),col('source_system_customer_id'),col('activity_id'),\\\n",
    "                         col('id_value'),col('dc_action_date'),\\\n",
    "                         col('primary_key'))\n",
    "\n",
    "id2 = id2.withColumn('id_value',when(col('id_value').rlike(\"^[A-Z]{3}\\d{7}$\"),col('id_value'))\n",
    "                                 .otherwise(lit(None)))\n",
    "\n",
    "id2=id2.filter(col(\"id_value\").isNotNull())"
   ]
  },
  {
   "cell_type": "code",
   "execution_count": null,
   "metadata": {},
   "outputs": [],
   "source": [
    "id_f1= id2.union(id1)"
   ]
  },
  {
   "cell_type": "code",
   "execution_count": null,
   "metadata": {},
   "outputs": [],
   "source": [
    "id=id.withColumn('source_system_name', col('source_id'))\\\n",
    ".withColumn('source_system_customer_id', coalesce('source_customer_id','dc_unified_id'))\\\n",
    ".withColumn('activity_id', hash(col('driving_license')))\\\n",
    ".withColumn('dc_action_date', col('dc_action_date'))\\\n",
    ".withColumn('id_value', col('driving_license'))\\\n",
    ".withColumn('primary_key', concat_ws('',trim(col('source_id')),trim(col('source_system_customer_id')), trim(col('activity_id'))))"
   ]
  },
  {
   "cell_type": "code",
   "execution_count": null,
   "metadata": {},
   "outputs": [],
   "source": [
    "id3=id.select(col('source_system_name'),col('source_system_customer_id'),col('activity_id'),\\\n",
    "                        col('id_value'),col('dc_action_date'),\\\n",
    "                        col('primary_key'))\n",
    "\n",
    "id3 = id3.withColumn('id_value',when(col('id_value').rlike(\"^(([A-Z]{2}[0-9]{2})( )|([A-Z]{2}-[0-9]{2}))((19|20)[0-9][0-9])[0-9]{7}$\"),col('id_value'))\n",
    "                                 .otherwise(lit(None)))\n",
    "\n",
    "id3=id3.filter(col(\"id_value\").isNotNull())"
   ]
  },
  {
   "cell_type": "code",
   "execution_count": null,
   "metadata": {},
   "outputs": [],
   "source": [
    "id_f2= id_f1.union(id3)"
   ]
  },
  {
   "cell_type": "code",
   "execution_count": null,
   "metadata": {},
   "outputs": [],
   "source": [
    "id=id.withColumn('source_system_name', col('source_id'))\\\n",
    ".withColumn('source_system_customer_id', coalesce('source_customer_id','dc_unified_id'))\\\n",
    ".withColumn('activity_id', hash(coalesce('cleansed_passport','passport')))\\\n",
    ".withColumn('dc_action_date', col('dc_action_date'))\\\n",
    ".withColumn('id_value', coalesce('cleansed_passport','passport'))\\\n",
    ".withColumn('primary_key', concat_ws('',trim(col('source_id')),trim(col('source_system_customer_id')), trim(col('activity_id'))))"
   ]
  },
  {
   "cell_type": "code",
   "execution_count": null,
   "metadata": {},
   "outputs": [],
   "source": [
    "id4=id.select(col('source_system_name'),col('source_system_customer_id'),col('activity_id'),\\\n",
    "                         col('id_value'),col('dc_action_date'),\\\n",
    "                         col('primary_key'))\n",
    "\n",
    "id4 = id4.withColumn('id_value',when(col('id_value').rlike(\"^[A-Za-z][1-9]\\\\d\\\\s?\\\\d{4}[1-9]$\"),col('id_value'))\n",
    "                                 .otherwise(lit(None)))\n",
    "\n",
    "id4=id4.filter(col(\"id_value\").isNotNull())"
   ]
  },
  {
   "cell_type": "code",
   "execution_count": null,
   "metadata": {},
   "outputs": [],
   "source": [
    "id_f3= id_f2.union(id4)"
   ]
  },
  {
   "cell_type": "code",
   "execution_count": null,
   "metadata": {},
   "outputs": [],
   "source": [
    "from pyspark.sql.window import Window\n",
    "\n",
    "id_f3 = id_f3.withColumn(\"rn\", F.row_number()\n",
    "        .over(Window.partitionBy(\"primary_key\")\n",
    "        .orderBy(F.col(\"dc_action_date\").desc())))\n",
    "\n",
    "id_f3 = id_f3.filter(F.col(\"rn\") == 1).drop(\"rn\")"
   ]
  },
  {
   "cell_type": "code",
   "execution_count": null,
   "metadata": {},
   "outputs": [],
   "source": [
    "id_f3.columns"
   ]
  },
  {
   "cell_type": "code",
   "execution_count": null,
   "metadata": {},
   "outputs": [],
   "source": [
    "id_f4 = id_f3.filter(col('dc_action_date') <= progress_id).select(\"source_system_customer_id\").distinct()"
   ]
  },
  {
   "cell_type": "code",
   "execution_count": null,
   "metadata": {},
   "outputs": [],
   "source": [
    "id_f4.count()"
   ]
  },
  {
   "cell_type": "code",
   "execution_count": null,
   "metadata": {},
   "outputs": [],
   "source": [
    "id_f4.columns"
   ]
  },
  {
   "cell_type": "code",
   "execution_count": null,
   "metadata": {},
   "outputs": [],
   "source": [
    "id_df1.exceptAll(id_f4).count()"
   ]
  },
  {
   "cell_type": "code",
   "execution_count": null,
   "metadata": {},
   "outputs": [],
   "source": []
  },
  {
   "cell_type": "markdown",
   "metadata": {},
   "source": [
    "## HEADER"
   ]
  },
  {
   "cell_type": "code",
   "execution_count": null,
   "metadata": {},
   "outputs": [],
   "source": [
    "progress_header = progress_df1.filter(col('table_name').isin('header')).collect()[0][1]"
   ]
  },
  {
   "cell_type": "code",
   "execution_count": null,
   "metadata": {},
   "outputs": [],
   "source": [
    "progress_header"
   ]
  },
  {
   "cell_type": "code",
   "execution_count": null,
   "metadata": {},
   "outputs": [],
   "source": [
    "col_str=['golden_id','source_system_name','mapping_date']\n",
    "gscPythonOptions = {\n",
    "\"url\": \"jdbc:postgresql://10.35.12.194:5432/gpadmin\",\n",
    "\"user\": \"gpspark\", \"server.port\":\"1150-1170\",\n",
    "\"password\": \"spark@456\",\"dbschema\":\"customermart\",\n",
    "\"dbtable\": \"header\"}\n",
    "header_df = sqlContext.read.format(\"greenplum\").options(**gscPythonOptions).load()\\\n",
    "         .selectExpr(col_str)"
   ]
  },
  {
   "cell_type": "code",
   "execution_count": null,
   "metadata": {},
   "outputs": [],
   "source": [
    "header_df1 = header_df.filter((col('mapping_date') <= progress_header) & (col('source_system_name') != 'NA')).select(\"golden_id\").distinct()"
   ]
  },
  {
   "cell_type": "code",
   "execution_count": null,
   "metadata": {},
   "outputs": [],
   "source": [
    "header_df1.count()"
   ]
  },
  {
   "cell_type": "code",
   "execution_count": null,
   "metadata": {},
   "outputs": [],
   "source": [
    "col_str=['source_id','source_customer_id','dc_unified_id','dc_action_date']\n",
    "\n",
    "master_bulk_df=load_gpdb_jdbc(col_str,\"mastercraft_bulk_detail_prod\",\"public\")\n",
    "master_bulk_df=master_bulk_df.filter((col('dc_unified_id').isNotNull()))\\\n",
    "                        .filter((col('source_customer_id').isNotNull())).filter((col('source_id').isNotNull()))"
   ]
  },
  {
   "cell_type": "code",
   "execution_count": null,
   "metadata": {},
   "outputs": [],
   "source": [
    "gscPythonOptions = {\n",
    "    \"url\": \"jdbc:postgresql://10.35.12.194:5432/gpadmin\",\n",
    "    \"user\": \"gpspark\",\n",
    "    \"password\": \"spark@456\",\n",
    "    \"dbschema\": \"public\",\n",
    "    \"dbtable\":\"mastercraft_master_prod\", \n",
    "    \"partitionColumn\":\"row_num\",\n",
    "    \"server.port\":\"1106\",\n",
    "    \"partitions\":6} \n",
    "\n",
    "master_prod_df=sqlContext.read.format(\"greenplum\").options(**gscPythonOptions).load()\\\n",
    ".select('dc_unified_id','dc_active_flag').filter((col('dc_unified_id').isNotNull()))"
   ]
  },
  {
   "cell_type": "code",
   "execution_count": null,
   "metadata": {},
   "outputs": [],
   "source": [
    "master_df= master_bulk_df.join(master_prod_df, master_bulk_df.dc_unified_id == master_prod_df.dc_unified_id, \"inner\")\\\n",
    ".drop(master_prod_df.dc_unified_id)"
   ]
  },
  {
   "cell_type": "code",
   "execution_count": null,
   "metadata": {},
   "outputs": [],
   "source": [
    "master_df_2 = master_df.filter(col('dc_action_date') <= progress_header).select(\"dc_unified_id\").distinct()"
   ]
  },
  {
   "cell_type": "code",
   "execution_count": null,
   "metadata": {},
   "outputs": [],
   "source": [
    "master_df_2.count()"
   ]
  },
  {
   "cell_type": "code",
   "execution_count": null,
   "metadata": {},
   "outputs": [],
   "source": []
  },
  {
   "cell_type": "markdown",
   "metadata": {},
   "source": [
    "## ADDRESS"
   ]
  },
  {
   "cell_type": "code",
   "execution_count": null,
   "metadata": {},
   "outputs": [],
   "source": [
    "col_str=['source_system_customer_id','last_updated']\n",
    "gscPythonOptions = {\n",
    "\"url\": \"jdbc:postgresql://10.35.12.194:5432/gpadmin\",\n",
    "\"user\": \"gpspark\", \"server.port\":\"1150-1170\",\n",
    "\"password\": \"spark@456\",\"dbschema\":\"customermart\",\n",
    "\"dbtable\": \"address\"}\n",
    "address_df = sqlContext.read.format(\"greenplum\").options(**gscPythonOptions).load()\\\n",
    "         .selectExpr(col_str)"
   ]
  },
  {
   "cell_type": "code",
   "execution_count": null,
   "metadata": {},
   "outputs": [],
   "source": [
    "## for creating variable for max(to_datetime) of address table, to find out count of distinct GID in Masterfcraft table and customer_profile table by filtering with max_todatetime variable\n",
    "\n",
    "progress_address = progress_df1.filter(col('table_name').isin('address')).collect()[0][1]"
   ]
  },
  {
   "cell_type": "code",
   "execution_count": null,
   "metadata": {},
   "outputs": [],
   "source": [
    "progress_address"
   ]
  },
  {
   "cell_type": "code",
   "execution_count": null,
   "metadata": {},
   "outputs": [],
   "source": [
    "address_df1 = address_df.filter(col('last_updated') <= progress_address).select(\"source_system_customer_id\").distinct()"
   ]
  },
  {
   "cell_type": "code",
   "execution_count": null,
   "metadata": {},
   "outputs": [],
   "source": [
    "address_df1.count()"
   ]
  },
  {
   "cell_type": "code",
   "execution_count": null,
   "metadata": {},
   "outputs": [],
   "source": [
    "col_str=['source_id','source_customer_id','dc_unified_id',\n",
    "         'coalesce(pstincomingcity,psnt_address_city) as psnt_address_city',\n",
    "         'coalesce(pstincomingstate,psnt_address_state) as psnt_address_state',\n",
    "         'coalesce(pstincomingpin,psnt_address_zip) as psnt_address_zip',\n",
    "         'coalesce(cmnincomingcity,comm_address_city) as comm_address_city' ,\n",
    "         'coalesce(cmnincomingstate,comm_address_state) as comm_address_state',\n",
    "         'coalesce(cmnincomingpin,comm_address_zip) as comm_address_zip',\n",
    "         'coalesce(pmtincomingcity,pmt_address_city) as pmt_address_city',\n",
    "         'coalesce(pmtincomingstate,pmt_address_state) as pmt_address_state',\n",
    "         'coalesce(pmnincomingpin,pmt_address_zip) as pmt_address_zip',\n",
    "         'dc_action_date']\n",
    "\n",
    "master_bulk_df=load_gpdb_jdbc(col_str,\"mastercraft_bulk_detail_prod\",\"public\")\n",
    "spark_df=master_bulk_df.filter((col('dc_unified_id').isNotNull()) &(col('source_id').isNotNull())) \n",
    "\n",
    "##& (col('source_customer_id').isNotNull())"
   ]
  },
  {
   "cell_type": "code",
   "execution_count": null,
   "metadata": {},
   "outputs": [],
   "source": [
    "spark_df=spark_df.withColumn('source_system_customer_id', coalesce('source_customer_id','dc_unified_id'))"
   ]
  },
  {
   "cell_type": "code",
   "execution_count": null,
   "metadata": {},
   "outputs": [],
   "source": [
    "spark_df.columns"
   ]
  },
  {
   "cell_type": "code",
   "execution_count": null,
   "metadata": {},
   "outputs": [],
   "source": [
    "spark_df = spark_df.withColumn('psnt_address_zip',when(col('psnt_address_zip').rlike(\"^[1-9]{1}[0-9]{2}\\s{0,1}[0-9]{3}$\"),\\\n",
    "                                                       col('psnt_address_zip')).otherwise(lit(None)))"
   ]
  },
  {
   "cell_type": "code",
   "execution_count": null,
   "metadata": {},
   "outputs": [],
   "source": [
    "spark_df = spark_df.withColumn('comm_address_zip',when(col('comm_address_zip').rlike(\"^[1-9]{1}[0-9]{2}\\s{0,1}[0-9]{3}$\"),\\\n",
    "                                                       col('comm_address_zip')).otherwise(lit(None)))"
   ]
  },
  {
   "cell_type": "code",
   "execution_count": null,
   "metadata": {},
   "outputs": [],
   "source": [
    "spark_df = spark_df.withColumn('pmt_address_zip',when(col('pmt_address_zip').rlike(\"^[1-9]{1}[0-9]{2}\\s{0,1}[0-9]{3}$\"),\\\n",
    "                                                       col('pmt_address_zip')).otherwise(lit(None)))"
   ]
  },
  {
   "cell_type": "code",
   "execution_count": null,
   "metadata": {},
   "outputs": [],
   "source": [
    "# spark_df2=spark_df1.filter((col('pmt_address_city').isNotNull()) | (col('pmt_address_state').isNotNull()) | (col('pmt_address_zip').isNotNull()))"
   ]
  },
  {
   "cell_type": "code",
   "execution_count": null,
   "metadata": {},
   "outputs": [],
   "source": [
    "df_psnt = spark_df.filter((col('psnt_address_city').isNotNull()) | (col('psnt_address_state').isNotNull()) | (col('psnt_address_zip').isNotNull()))"
   ]
  },
  {
   "cell_type": "code",
   "execution_count": null,
   "metadata": {},
   "outputs": [],
   "source": [
    "df_pmt = spark_df.filter((col('pmt_address_city').isNotNull()) | (col('pmt_address_state').isNotNull()) | (col('pmt_address_zip').isNotNull()))"
   ]
  },
  {
   "cell_type": "code",
   "execution_count": null,
   "metadata": {},
   "outputs": [],
   "source": [
    "df_union = df_psnt.union(df_pmt)"
   ]
  },
  {
   "cell_type": "code",
   "execution_count": null,
   "metadata": {},
   "outputs": [],
   "source": [
    "df_comm=spark_df.filter((col('comm_address_city').isNotNull()) | (col('comm_address_state').isNotNull()) | (col('comm_address_zip').isNotNull()))"
   ]
  },
  {
   "cell_type": "code",
   "execution_count": null,
   "metadata": {},
   "outputs": [],
   "source": [
    "df_union_1 = df_union.union(df_comm)"
   ]
  },
  {
   "cell_type": "code",
   "execution_count": null,
   "metadata": {},
   "outputs": [],
   "source": [
    "df_union_2 = df_union_1.filter(col('dc_action_date') <= progress_address).select(\"source_system_customer_id\").distinct()"
   ]
  },
  {
   "cell_type": "code",
   "execution_count": null,
   "metadata": {},
   "outputs": [],
   "source": [
    "df_union_2.count()"
   ]
  },
  {
   "cell_type": "code",
   "execution_count": 68,
   "metadata": {},
   "outputs": [
    {
     "data": {
      "application/vnd.jupyter.widget-view+json": {
       "model_id": "",
       "version_major": 2,
       "version_minor": 0
      },
      "text/plain": [
       "FloatProgress(value=0.0, bar_style='info', description='Progress:', layout=Layout(height='25px', width='50%'),…"
      ]
     },
     "metadata": {},
     "output_type": "display_data"
    }
   ],
   "source": [
    "spark.stop()"
   ]
  },
  {
   "cell_type": "code",
   "execution_count": null,
   "metadata": {},
   "outputs": [],
   "source": []
  }
 ],
 "metadata": {
  "kernelspec": {
   "display_name": "PySpark",
   "language": "",
   "name": "pysparkkernel"
  },
  "language_info": {
   "codemirror_mode": {
    "name": "python",
    "version": 3
   },
   "mimetype": "text/x-python",
   "name": "pyspark",
   "pygments_lexer": "python3"
  }
 },
 "nbformat": 4,
 "nbformat_minor": 4
}
