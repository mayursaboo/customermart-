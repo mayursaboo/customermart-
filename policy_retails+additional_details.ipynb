{
 "cells": [
  {
   "cell_type": "code",
   "execution_count": 1,
   "metadata": {},
   "outputs": [
    {
     "name": "stdout",
     "output_type": "stream",
     "text": [
      "Starting Spark application\n"
     ]
    },
    {
     "data": {
      "text/html": [
       "<table>\n",
       "<tr><th>ID</th><th>YARN Application ID</th><th>Kind</th><th>State</th><th>Spark UI</th><th>Driver log</th><th>Current session?</th></tr><tr><td>19181</td><td>None</td><td>pyspark</td><td>idle</td><td></td><td></td><td>✔</td></tr></table>"
      ],
      "text/plain": [
       "<IPython.core.display.HTML object>"
      ]
     },
     "metadata": {},
     "output_type": "display_data"
    },
    {
     "data": {
      "application/vnd.jupyter.widget-view+json": {
       "model_id": "",
       "version_major": 2,
       "version_minor": 0
      },
      "text/plain": [
       "FloatProgress(value=0.0, bar_style='info', description='Progress:', layout=Layout(height='25px', width='50%'),…"
      ]
     },
     "metadata": {},
     "output_type": "display_data"
    },
    {
     "name": "stdout",
     "output_type": "stream",
     "text": [
      "SparkSession available as 'spark'.\n"
     ]
    },
    {
     "data": {
      "application/vnd.jupyter.widget-view+json": {
       "model_id": "",
       "version_major": 2,
       "version_minor": 0
      },
      "text/plain": [
       "FloatProgress(value=0.0, bar_style='info', description='Progress:', layout=Layout(height='25px', width='50%'),…"
      ]
     },
     "metadata": {},
     "output_type": "display_data"
    },
    {
     "name": "stdout",
     "output_type": "stream",
     "text": [
      "JOB NAME = Nishant : Cover_details\n",
      "No_of_cpu=8\n",
      "Max_cores=8\n",
      "Executor_mem=56g"
     ]
    }
   ],
   "source": [
    "import sys\n",
    "\n",
    "\n",
    "no_of_cpu = 8\n",
    "max_cores = 8\n",
    "\n",
    "executor_mem = '56g'\n",
    "\n",
    "Job_Name = 'Nishant : Cover_details'\n",
    "\n",
    "print (\"JOB NAME = \"+str(Job_Name))\n",
    "print (\"No_of_cpu=\"+str(no_of_cpu))\n",
    "print (\"Max_cores=\"+str(max_cores))\n",
    "print (\"Executor_mem=\"+str(executor_mem))\n",
    "# print (\"Runtype=\"+str(runtype))\n",
    "# print (\"Report_date=\"+str(report_date))\n",
    "\n",
    "\n",
    "from pyspark.mllib.stat import Statistics\n",
    "from pyspark.sql.functions import asc,lit\n",
    "from pyspark.sql.functions import udf\n",
    "#warnings.filterwarnings('error')\n",
    "import pyspark\n",
    "from datetime import datetime,timedelta\n",
    "from pyspark.sql import SQLContext\n",
    "from pyspark import SparkContext, SparkConf\n",
    "from pyspark.sql import functions as F\n",
    "\n",
    "conf = pyspark.SparkConf()\n",
    "#import numpy\n",
    "import calendar\n",
    "#import pandas as pd\n",
    "#import simplejson as json\n",
    "#import pandas as pd\n",
    "import numpy as np\n",
    "import datetime\n",
    "from pyspark.sql.functions import *\n",
    "from pyspark.sql.types import DateType\n",
    "from pyspark.sql.functions import lit\n",
    "import simplejson as json\n",
    "import json, pprint, requests\n",
    "#es_nodes = '10.35.12.5'\n",
    "#es_nodes = '10.35.12.6'\n",
    "es_nodes = '10.35.12.212'\n",
    "es_port = '9200'\n",
    "es_user = 'elastic'\n",
    "es_pwd = 'bEiilauM3es'\n",
    "mesos_ip = 'mesos://10.33.195.18:5050'#'mesos://10.35.12.5:5050'\n",
    "spark.stop() #############NEED TO COMMENT THIS SPARK.STOP WHEN RUNNING THROUGH SHELL###############################\n",
    "conf.setMaster(mesos_ip)\n",
    "\n",
    "conf.set('spark.executor.cores',no_of_cpu) ### change 1\n",
    "conf.set('spark.executor.memory',executor_mem)\n",
    "conf.set('spark.es.scroll.size','10000')\n",
    "conf.set('spark.network.timeout','120m')\n",
    "conf.set('spark.sql.crossJoin.enabled', 'true')\n",
    "conf.set('spark.executor.heartbeatInterval','120s')\n",
    "conf.set(\"spark.driver.cores\",\"4\")\n",
    "conf.set(\"spark.driver.extraJavaOptions\",\"-Xmx4g -Xms4g\")\n",
    "conf.set(\"spark.files.overwrite\",\"true\");\n",
    "conf.set(\"spark.kryoserializer.buffer\", \"70\");\n",
    "conf.set(\"spark.driver.extraJavaOptions\", \"-XX:+UseG1GC\");\n",
    "conf.set(\"spark.executor.extraJavaOptions\", \"-XX:+UseG1GC\");\n",
    "conf.set(\"spark.serializer\", \"org.apache.spark.serializer.KryoSerializer\");\n",
    "conf.set(\"spark.broadcast.compress\", \"true\");\n",
    "conf.set(\"spark.shuffle.compress\", \"true\");\n",
    "conf.set(\"spark.shuffle.spill.compress\", \"true\");\n",
    "conf.set(\"spark.driver.maxResultSize\", \"4g\");\n",
    "conf.set(\"spark.app.name\", Job_Name)\n",
    "from pyspark.sql.functions import broadcast\n",
    "\n",
    "conf.set('spark.driver.memory','12g') ### change 2\n",
    "conf.set('spark.cores.max',max_cores) ### change 3\n",
    "conf.set('spark.sql.shuffle.partitions','300')\n",
    "conf.set('es.nodes.wan.only','true')\n",
    "conf.set(\"spark.sql.autoBroadcastJoinThreshold\",-1)\n",
    "conf.set(\"spark.scroll.keepalive\",\"120m\")\n",
    "\n",
    "conf.set('es.nodes',es_nodes)\n",
    "conf.set('es.port',es_port)\n",
    "conf.set('spark.es.net.http.auth.user', es_user)\n",
    "conf.set('spark.es.net.http.auth.pass', es_pwd)\n",
    "\n",
    "conf.set('spark.es.mapping.date.rich','false')\n",
    "spark = pyspark.SparkContext(conf=conf)\n",
    "sqlContext = SQLContext(spark)\n",
    "\n",
    "# Load Data into PySpark DataFrames\n",
    "# Prodcom Data Frame\n",
    "import json, pprint, requests\n",
    "import pyspark.sql.functions as sf\n",
    "from pyspark.sql.types import *\n",
    "from pyspark.mllib.stat import Statistics\n",
    "from pyspark.sql.functions import asc,lit\n",
    "#warnings.filterwarnings('error')\n",
    "import pyspark\n",
    "from datetime import datetime,timedelta\n",
    "from pyspark.sql import SQLContext\n",
    "from pyspark.sql.window import Window\n",
    "from pyspark import SparkContext, SparkConf\n",
    "conf = pyspark.SparkConf()\n",
    "#import numpy\n",
    "import calendar\n",
    "import time\n",
    "#import pandas as pd\n",
    "#import simplejson as json\n",
    "#import pandas as pd\n",
    "import numpy as np\n",
    "import datetime\n",
    "from pyspark.sql.functions import *\n",
    "from pyspark.sql.types import DateType, StringType, DecimalType\n",
    "from pyspark.sql.functions import lit\n",
    "import simplejson as json\n",
    "import json, pprint, requests\n",
    "import re # to use regular expressions\n",
    "import pyspark.sql.functions as F\n",
    "from pyspark.sql import Window"
   ]
  },
  {
   "cell_type": "code",
   "execution_count": 2,
   "metadata": {},
   "outputs": [
    {
     "data": {
      "application/vnd.jupyter.widget-view+json": {
       "model_id": "",
       "version_major": 2,
       "version_minor": 0
      },
      "text/plain": [
       "FloatProgress(value=0.0, bar_style='info', description='Progress:', layout=Layout(height='25px', width='50%'),…"
      ]
     },
     "metadata": {},
     "output_type": "display_data"
    }
   ],
   "source": [
    "\n",
    "prod_url = \"jdbc:postgresql://10.35.12.194:5432/gpadmin\"\n",
    "prod_host = '10.35.12.194'\n",
    "prod_port = '5432'\n",
    "prod_dbname = 'gpadmin'\n",
    "user_prod=\"gpspark\"\n",
    "pwd_prod=\"spark@456\"\n",
    "dbschema=\"public\"\n",
    "\n",
    "\n",
    "prod_gpdb_spark_options ={\n",
    "    \"url\": \"jdbc:postgresql://{host}:{port}/{dbname}\".format(host=prod_host,port=prod_port, dbname=prod_dbname),\n",
    "    \"user\": \"{user}\".format(user=user_prod),\n",
    "    \"password\": \"{password}\".format(password=pwd_prod)\n",
    "} \n",
    "\n",
    "import psycopg2\n",
    "import datetime\n",
    "conn_prod = psycopg2.connect(host=prod_host, port=prod_port, user=user_prod, password=pwd_prod, dbname=prod_dbname)\n"
   ]
  },
  {
   "cell_type": "code",
   "execution_count": 3,
   "metadata": {},
   "outputs": [
    {
     "data": {
      "application/vnd.jupyter.widget-view+json": {
       "model_id": "",
       "version_major": 2,
       "version_minor": 0
      },
      "text/plain": [
       "FloatProgress(value=0.0, bar_style='info', description='Progress:', layout=Layout(height='25px', width='50%'),…"
      ]
     },
     "metadata": {},
     "output_type": "display_data"
    }
   ],
   "source": [
    "\n",
    "def load_gpdb_jdbc(col_str,dbtable,dbschema,col_name=None,time_filter=None,partitionColumn=\"row_num\"):\n",
    "    \"\"\"\n",
    "    This is used to read gpdb with filter for columns and can apply other filter(date,values).\n",
    "    Time filter contains startdate,enddate\n",
    "    \"\"\"\n",
    "    gscPythonOptions = {\n",
    "                        \"url\": prod_url,\n",
    "                        \"user\": user_prod,\n",
    "                        \"password\": pwd_prod,\n",
    "                        \"dbschema\": dbschema,\n",
    "                        \"dbtable\": dbtable,\n",
    "                        \"partitionColumn\":partitionColumn,\n",
    "                        \"partitions\": 8,\n",
    "                        \"server.port\":\"1150-1170\"}\n",
    "   \n",
    "    if time_filter:\n",
    "        data = sqlContext.read.format(\"greenplum\").options(**gscPythonOptions).load()\\\n",
    "                .selectExpr(col_str).drop_duplicates().filter(col(col_name).between(to_timestamp(lit(time_filter['start_date']),\n",
    "                                                                 format='yyyy-MM-dd'),\n",
    "                                                    to_timestamp(lit(time_filter['end_date']),\n",
    "                                                                 format='yyyy-MM-dd')))\n",
    "    else :\n",
    "        data = sqlContext.read.format(\"greenplum\").options(**gscPythonOptions).load()\\\n",
    "                .selectExpr(col_str).drop_duplicates()\n",
    "   \n",
    "    return data"
   ]
  },
  {
   "cell_type": "code",
   "execution_count": 4,
   "metadata": {},
   "outputs": [
    {
     "data": {
      "application/vnd.jupyter.widget-view+json": {
       "model_id": "",
       "version_major": 2,
       "version_minor": 0
      },
      "text/plain": [
       "FloatProgress(value=0.0, bar_style='info', description='Progress:', layout=Layout(height='25px', width='50%'),…"
      ]
     },
     "metadata": {},
     "output_type": "display_data"
    }
   ],
   "source": [
    "def get_latest_progress():\n",
    "    \n",
    "    try: \n",
    "        gscPythonOptions = {\n",
    "                 \"url\":prod_url ,\n",
    "                 \"user\":user_prod ,\n",
    "                 \"password\": pwd_prod,\n",
    "                 \"dbschema\":\"customermart\",\n",
    "                 \"dbtable\": \"progress\",#table change\n",
    "                 \"server.port\":\"1150-1170\"} \n",
    "        \n",
    "        # this query will fetch till what date we have inserted the records in target\n",
    "        last_run= sqlContext.read.format(\"greenplum\").options(**gscPythonOptions).load()\\\n",
    "            .select('table_name','source','to_datetime').filter(col('table_name')=='policy_additional_details')\\\n",
    "            .filter(col('source')=='policy_additional_details123')\n",
    "        \n",
    "        Max_last_run =last_run.select(max('to_datetime')).first()[0]\n",
    "        \n",
    "\n",
    "\n",
    "        # if no record is available in progress then it will raise value error, in this case default value will be picked from except clause\n",
    "        if Max_last_run is None:\n",
    "            raise ValueError(\"No records found!\")\n",
    "\n",
    "        #print(\"Record Found. Progress updated till {}\".format(Max_last_run))\n",
    "\n",
    "    except Exception as E: \n",
    "        Max_last_run = datetime.datetime(1900,2,27, 0, 0)  # this is the default start date when no record is present in progress for customer_demographics table\n",
    "        print(\"Executed_except\",repr(E))\n",
    "    return Max_last_run"
   ]
  },
  {
   "cell_type": "code",
   "execution_count": 5,
   "metadata": {},
   "outputs": [
    {
     "data": {
      "application/vnd.jupyter.widget-view+json": {
       "model_id": "",
       "version_major": 2,
       "version_minor": 0
      },
      "text/plain": [
       "FloatProgress(value=0.0, bar_style='info', description='Progress:', layout=Layout(height='25px', width='50%'),…"
      ]
     },
     "metadata": {},
     "output_type": "display_data"
    }
   ],
   "source": [
    "# Generic function to save the progress from last run into Progress table\n",
    "def update_progress(table_name,source,time_filter,records,start_time,starttime,status):\n",
    "    output_index = \"progress\"\n",
    "    schema = \"customermart\"\n",
    "\n",
    "\n",
    "    import sys\n",
    "    import time\n",
    "    try:\n",
    "        \n",
    "\n",
    "\n",
    "        df_progress= sqlContext.createDataFrame([(table_name,source,\n",
    "                                       time_filter['start_date'].strftime(\"%Y-%m-%d %H:%M:%S\"),\n",
    "                                         time_filter['end_date'].strftime(\"%Y-%m-%d %H:%M:%S\"),records)]\n",
    "                                     ,['table_name', 'source','from_datetime','to_datetime','records'])\\\n",
    "        .withColumn('start_time',lit(start_time)).withColumn('end_time',current_timestamp())\\\n",
    "                    .withColumn('executed_in_mins',lit((time.time() - starttime)/60))\\\n",
    "                                .withColumn('status',lit(status)).withColumn('remarks',lit(None))\n",
    "    \n",
    "\n",
    "        \n",
    "        df_progress.write.format(\"greenplum\")\\\n",
    "            .option(\"dbtable\",output_index).option('dbschema',schema)\\\n",
    "            .option(\"server.port\",\"1150-1170\").option(\"url\",prod_url)\\\n",
    "            .option(\"user\", user_prod).option(\"password\",pwd_prod).mode('append').save()\n",
    "        \n",
    "       \n",
    "    except Exception as e:\n",
    "        x = e\n",
    "        print(x)\n",
    "    else:\n",
    "        x = 'success'\n",
    "        print(\"Updated Progress for {table_name} from {source} until {to_datetime}. {records} records processed in this run\".format(table_name=table_name, source=source,to_datetime=time_filter['end_date'].strftime(\"%Y-%m-%d %H:%M:%S\"),records=records))\n",
    "        print(x)"
   ]
  },
  {
   "cell_type": "code",
   "execution_count": 6,
   "metadata": {},
   "outputs": [
    {
     "data": {
      "application/vnd.jupyter.widget-view+json": {
       "model_id": "",
       "version_major": 2,
       "version_minor": 0
      },
      "text/plain": [
       "FloatProgress(value=0.0, bar_style='info', description='Progress:', layout=Layout(height='25px', width='50%'),…"
      ]
     },
     "metadata": {},
     "output_type": "display_data"
    }
   ],
   "source": [
    "# Define the Generic update function which takes the records currently in temp table (created with prefix 1 to original customercoe table)\n",
    "# The function would first try to insert the records in original table. It that fails then it will upsert the records\n",
    "# Since there is no direct upsert query an update and insert query with where clause is used\n",
    "# This funciton just runs the SQL queries in GPDB and does not use spark\n",
    "\n",
    "def update_policy(conn_to,table_name,time_filter,records,prod_gpdb_spark_options, schema=\"customermart\"):\n",
    "    \n",
    "    conn_to.rollback()\n",
    "#     gpdb_spark_options = prod_gpdb_spark_options\n",
    "    primary_key = ['source_system_name','source_system_customer_id','policy_number']\n",
    "    \n",
    "    # these columns will be updated in case of duplicate records\n",
    "    update_fields = ['intermediary_code','orphan_policy_indicator','orphan_policy_date','base_sum_insured','product_name',\n",
    "                     'policy_end_date',\"break_in_insurance_flag\",\"break_in_insurance_days\",\"ncb_flag\",\"policy_term\",\n",
    "                     \"policy_start_date\",\"policy_renewal_count\",\"ped_declared_indicator\",\n",
    "                     \"portability_indicator\",\"renewed_in_grace_period\",\"vehicle_registration_no\",'channel','premiumamount',\n",
    "                     'total_premium','veh_model','veh_age','veh_make','veh_body','veh_engine_no' ,'veh_chassis_no',]\n",
    "    \n",
    "    # loading data from temp table to get column names    \n",
    "    df_1 = sqlContext.read.format(\"greenplum\").options(**prod_gpdb_spark_options).option(\"dbschema\",schema)\\\n",
    "    .option(\"dbtable\",\"{}_staging\".format(table_name)).load()\n",
    "    out_columns = df_1.columns\n",
    "    out_columns = [col for col in out_columns if \"json\" not in col]\n",
    "\n",
    "    cur_to = conn_to.cursor()  \n",
    "\n",
    "    # this query insert records from temp table to target table when all the records in temp table are new and not present in target    \n",
    "    only_insert_query = \"\"\"insert into {schema}.{table_name} ({out_columns}) select {out_columns} from {schema}.\\\n",
    "    {table_name}_staging \"\"\".format(schema=schema,table_name=table_name,out_columns = \",\".join(out_columns))\n",
    "    \n",
    "    # this query will be executed to update the records that are already present in target, new values will be assigned from temp table    \n",
    "    update_query = \"\"\"UPDATE {schema}.{table_name} orig\n",
    "                          SET\n",
    "                            {update_fields}\n",
    "                          FROM\n",
    "                            {schema}.{table_name}_staging temp\n",
    "                           WHERE \n",
    "                            {primary_key}\n",
    "                       \"\"\".format(schema=schema,table_name=table_name,primary_key= \" and \".join([ \"orig.{key} = temp.{key}\".format(key=key) for key in primary_key]),update_fields = \" , \".join([ \"{key} = temp.{key}\".format(key=key) for key in update_fields]))\n",
    "    \n",
    "    # this query will be executed after update query to insert the remaining records    \n",
    "    insert_query = \"\"\" INSERT INTO {schema}.{table_name} ({out_columns})\n",
    "                           SELECT {out_columns}\n",
    "                           FROM\n",
    "                             {schema}.{table_name}_staging temp\n",
    "                           WHERE\n",
    "                             NOT EXISTS (\n",
    "                             SELECT 1 FROM {schema}.{table_name} orig WHERE \n",
    "                            {primary_key}\n",
    "                            )\n",
    "                        \"\"\".format(schema=schema,table_name=table_name,out_columns = \",\".join(out_columns),primary_key = \" and \".join([ \"orig.{key} = temp.{key}\".format(key=key) for key in primary_key]))\n",
    "\n",
    "    try:\n",
    "        print(\"Inside try segment\")\n",
    "        cur_to.execute(only_insert_query)\n",
    "        print(\"Executed Only insert query\")\n",
    "#         update_progress(table_name,source,time_filter,records)\n",
    "    except Exception as e:\n",
    "        print(\"Inside except segment\")\n",
    "        conn_to.rollback()\n",
    "        cur_to.execute(update_query)\n",
    "        print(\"Executed update query\")\n",
    "        cur_to.execute(insert_query)\n",
    "        print(\"Executed insert query\")\n",
    "#         update_progress(table_name,source,time_filter,records)\n",
    "    conn_to.commit()"
   ]
  },
  {
   "cell_type": "code",
   "execution_count": 7,
   "metadata": {},
   "outputs": [
    {
     "data": {
      "application/vnd.jupyter.widget-view+json": {
       "model_id": "",
       "version_major": 2,
       "version_minor": 0
      },
      "text/plain": [
       "FloatProgress(value=0.0, bar_style='info', description='Progress:', layout=Layout(height='25px', width='50%'),…"
      ]
     },
     "metadata": {},
     "output_type": "display_data"
    }
   ],
   "source": [
    "import time\n",
    "start_time = time.time()"
   ]
  },
  {
   "cell_type": "code",
   "execution_count": 8,
   "metadata": {},
   "outputs": [
    {
     "data": {
      "application/vnd.jupyter.widget-view+json": {
       "model_id": "",
       "version_major": 2,
       "version_minor": 0
      },
      "text/plain": [
       "FloatProgress(value=0.0, bar_style='info', description='Progress:', layout=Layout(height='25px', width='50%'),…"
      ]
     },
     "metadata": {},
     "output_type": "display_data"
    },
    {
     "name": "stdout",
     "output_type": "stream",
     "text": [
      "'2024-03-21 07:44:28.061174'"
     ]
    }
   ],
   "source": [
    "## added by mayur on 12 dec 2022 at 3:15 PM\n",
    "\n",
    "from pyspark.sql.functions import hash\n",
    "import numpy as np\n",
    "import datetime\n",
    "from pyspark.sql.functions import *\n",
    "from pyspark.sql.types import DateType\n",
    "import psycopg2\n",
    "import time\n",
    "from time import gmtime, strftime\n",
    "import pytz\n",
    "starttime = time.time()\n",
    "start_time = datetime.datetime.now(pytz.timezone('Asia/Kolkata')).strftime(\"%Y-%m-%d %H:%M:%S.%f\")\n",
    "start_time"
   ]
  },
  {
   "cell_type": "code",
   "execution_count": null,
   "metadata": {},
   "outputs": [],
   "source": [
    "# Below code added by Mayur for taking latest till date on 12 dec-2022  \n",
    "\n",
    "latest_progress=get_latest_progress()\n",
    "# dates in string format\n",
    "str_d1 = latest_progress.strftime(\"%Y-%m-%d\")\n",
    "str_d2 = datetime.datetime.now(pytz.timezone('Asia/Kolkata')).strftime(\"%Y-%m-%d\")\n",
    "\n",
    "# convert string to date object\n",
    "d1 = datetime.datetime.strptime(str_d1, \"%Y-%m-%d\")\n",
    "d2 = datetime.datetime.strptime(str_d2, \"%Y-%m-%d\")\n",
    "\n",
    "# Executed_except ValueError('No records found!')\n",
    "# {'start_date': datetime.datetime(2017, 1, 1, 0, 0), 'end_date': datetime.datetime(2024, 2, 27, 0, 0)}\n",
    "# difference between dates in timedelta\n",
    "delta = d2 - d1\n",
    "day=delta.days-1  #currently T-2 change 2 to 1 for T-1\n",
    "\n",
    "time_filter={'start_date':latest_progress,'end_date':latest_progress+datetime.timedelta(days=day)}\n",
    "time_filter"
   ]
  },
  {
   "cell_type": "code",
   "execution_count": null,
   "metadata": {},
   "outputs": [],
   "source": [
    "import json, pprint, requests\n",
    "es_nodes = '10.35.12.212'\n",
    "es_port = '9200'\n",
    "es_user = 'elastic'\n",
    "es_pwd = 'bEiilauM3es'"
   ]
  },
  {
   "cell_type": "code",
   "execution_count": null,
   "metadata": {},
   "outputs": [],
   "source": [
    "# target_index = 'get_spa_additional_policy_details_2024-03-12'\n",
    "# print(target_index)\n",
    "# target_doc_type=target_index\n",
    "\n",
    "# source =target_index\n",
    "# doc_type = target_doc_type\n",
    "\n",
    "# headers = {'Content-Type': 'application/json'}\n",
    "# query = {'query':{'match_all':{}}}\n",
    "# URL = 'http://'+es_user+':'+es_pwd+'@'+es_nodes+':'+es_port+'/'+source+'/_count'\n",
    "# r = requests.get(URL, headers=headers)\n",
    "# source_count222 = r.json().get('count')\n",
    "\n",
    "# df_12 = sqlContext.read.format('org.elasticsearch.spark.sql')\\\n",
    "# .option('es.nodes' , es_nodes).option('es.port',es_port)\\\n",
    "# .option('es.resource',source)\\\n",
    "# .option('es.input.max.docs.per.partition',source_count222)\\\n",
    "# .load()"
   ]
  },
  {
   "cell_type": "code",
   "execution_count": null,
   "metadata": {},
   "outputs": [],
   "source": [
    "col_str=['policy_number','certificate_no', 'pol_incept_date','pol_exp_date', 'source_system_customer_id', 'reference_num','sum_insured', \n",
    "         'premiumamount','total_premium','irda_product_uin','product_cd','lob',\n",
    "         'renl_cert_no' , 'policy_counter','business_type' ,'txt_business_type','txt_intermediary_cd',  'commit_timestamp' ]\n",
    "\n",
    "gscPythonOptions = {\n",
    "\"url\": \"jdbc:postgresql://10.35.12.194:5432/gpadmin\",\n",
    "\"user\": \"gpspark\",\n",
    "\"password\": \"spark@456\",\n",
    "\"server.port\": \"1151-1170\",\n",
    "\"dbschema\":\"customermart\",\n",
    "\"dbtable\": \"policy_retail\"}\n",
    "pol = sqlContext.read.format(\"greenplum\").options(**gscPythonOptions).load()\\\n",
    "         .selectExpr(col_str).drop_duplicates().filter(col('commit_timestamp').between(to_timestamp(lit(time_filter['start_date']),\n",
    "                                                                 format='yyyy-MM-dd'),\n",
    "                                                    to_timestamp(lit(time_filter['end_date']),\n",
    "                                                                 format='yyyy-MM-dd'))).filter(col('lob')\\\n",
    "                                                                                               .isin('Mediseries',\n",
    "'Covid Health',\n",
    "'LTA',\n",
    "'2W',\n",
    "'Health Benefit',\n",
    "'CVTP',\n",
    "'Pvt Car',\n",
    "'IPA',\n",
    "'CV'))"
   ]
  },
  {
   "cell_type": "code",
   "execution_count": null,
   "metadata": {},
   "outputs": [],
   "source": [
    "col_str=['num_reference_number','policy_no as previous_policy_no','policy_effective_to as previous_policy_exp_date', 'previous_policy_type','policy_effective_from']\n",
    "pp=load_gpdb_jdbc(col_str,\"policy_gc_previous_policy_details_tab\",'public')"
   ]
  },
  {
   "cell_type": "code",
   "execution_count": null,
   "metadata": {},
   "outputs": [],
   "source": [
    "col_str=['num_reference_no', 'application_no', 'policy_issuance_date','policy_no','certificate_no','rto_location', 'branch' ,'prdr_branch_sub_cd','customer_gstin','policy_type','zone','timestamp']\n",
    "pr=load_gpdb_jdbc(col_str,\"premium_register\",'registers')"
   ]
  },
  {
   "cell_type": "code",
   "execution_count": null,
   "metadata": {
    "scrolled": false
   },
   "outputs": [],
   "source": [
    "pr=pr.withColumn('primary_key', concat_ws('',col('policy_no'),col('certificate_no'))).dropDuplicates()"
   ]
  },
  {
   "cell_type": "code",
   "execution_count": null,
   "metadata": {},
   "outputs": [],
   "source": [
    "from pyspark.sql.window import Window\n",
    "\n",
    "pr = pr.withColumn(\"rn\", F.row_number()\n",
    "        .over(Window.partitionBy(\"primary_key\")\n",
    "        .orderBy(F.col(\"timestamp\").desc(),F.col(\"num_reference_no\").desc())))\n",
    "\n",
    "pr = pr.filter(F.col(\"rn\") == 1).drop(\"rn\")"
   ]
  },
  {
   "cell_type": "code",
   "execution_count": null,
   "metadata": {},
   "outputs": [],
   "source": [
    "col_str=['dc_unified_id', 'source_customer_id']\n",
    "mbdp=load_gpdb_jdbc(col_str,\"mastercraft_bulk_detail_prod\",'public')"
   ]
  },
  {
   "cell_type": "code",
   "execution_count": null,
   "metadata": {},
   "outputs": [],
   "source": [
    "col_str=['dc_unified_id', 'source_customer_id','full_name','psnt_address_country','psnt_address_state','psnt_address_city','psnt_address_zip','dc_active_flag',\n",
    "        'psnt_address_line_1','psnt_address_line_2','psnt_address_line_3','gstin', 'passport','pan','cleansed_passport', 'cleansed_pan', 'birth_date']\n",
    "mmp=load_gpdb_jdbc(col_str,\"mastercraft_master_prod\",'public').filter(col('dc_active_flag')==1).drop('dc_active_flag')"
   ]
  },
  {
   "cell_type": "code",
   "execution_count": null,
   "metadata": {},
   "outputs": [],
   "source": [
    "mmp=mmp.withColumn(\"birth_date\",expr(\"case\\\n",
    "    when birth_date is not null and substring(birth_date,1,4) < '1922' then null\\\n",
    "    when birth_date is not null and substring(birth_date,1,4) > '2023' then null\\\n",
    "    when birth_date is not null then cast(concat(substring(birth_date,1,4),'-', substring(birth_date,6,2),'-', substring(birth_date,9,2)) as date)\\\n",
    "    else null end as birth_date\")).alias(\"birth_date\")"
   ]
  },
  {
   "cell_type": "code",
   "execution_count": null,
   "metadata": {},
   "outputs": [],
   "source": [
    "mmp=mmp.withColumn(\"birth_date\",when(col('birth_date')=='1990-01-01',None).otherwise(col('birth_date')))"
   ]
  },
  {
   "cell_type": "code",
   "execution_count": null,
   "metadata": {},
   "outputs": [],
   "source": [
    "from pyspark.sql import functions as F\n",
    "mmp = mmp.withColumn('age', (F.months_between(current_date(), F.col('birth_date')) / 12).cast('int'))"
   ]
  },
  {
   "cell_type": "code",
   "execution_count": null,
   "metadata": {},
   "outputs": [],
   "source": [
    "col_str=['txt_intermediary_name as agent_name', 'txt_mobile','txt_telephone','txt_telephone1', 'txt_contact_phone','txt_emer_person_mobile_number',\n",
    "         'txt_policy_phone','txt_alt_mobile', 'txt_license_no as agent_license_no', 'txt_intermediary_cd']\n",
    "genmst=load_gpdb_jdbc(col_str,\"reference_gc_genmst_intermediary\",'public')"
   ]
  },
  {
   "cell_type": "code",
   "execution_count": null,
   "metadata": {},
   "outputs": [],
   "source": [
    "genmst=genmst.withColumn('agent_mobile', coalesce('txt_mobile','txt_telephone','txt_telephone1', 'txt_contact_phone','txt_emer_person_mobile_number','txt_policy_phone','txt_alt_mobile'))"
   ]
  },
  {
   "cell_type": "code",
   "execution_count": null,
   "metadata": {},
   "outputs": [],
   "source": [
    "df=pol.join(pr, pol.reference_num==pr.num_reference_no, 'inner').drop(pr.num_reference_no).drop(pr.policy_no).drop(pr.certificate_no)"
   ]
  },
  {
   "cell_type": "code",
   "execution_count": null,
   "metadata": {},
   "outputs": [],
   "source": [
    "df=df.join(pp, df.reference_num==pp.num_reference_number, 'left').drop(pp.num_reference_number)"
   ]
  },
  {
   "cell_type": "code",
   "execution_count": null,
   "metadata": {},
   "outputs": [],
   "source": [
    "df.columns"
   ]
  },
  {
   "cell_type": "code",
   "execution_count": null,
   "metadata": {},
   "outputs": [],
   "source": [
    "from pyspark.sql.window import Window\n",
    "\n",
    "df = df.withColumn(\"rn\", F.row_number()\n",
    "        .over(Window.partitionBy(\"policy_number\",'certificate_no')\n",
    "        .orderBy(F.col(\"timestamp\").desc(),F.col(\"reference_num\").desc())))\n",
    "\n",
    "df = df.filter(F.col(\"rn\") == 1).drop(\"rn\").drop(\"primary_key\")"
   ]
  },
  {
   "cell_type": "code",
   "execution_count": null,
   "metadata": {},
   "outputs": [],
   "source": [
    "mc=mbdp.join(mmp,'dc_unified_id', 'left').drop(mmp.source_customer_id)"
   ]
  },
  {
   "cell_type": "code",
   "execution_count": null,
   "metadata": {},
   "outputs": [],
   "source": [
    "# df=df.join(customer_gc_df, df.source_system_customer_id==customer_gc_df.customer_code, 'inner').drop(customer_gc_df.customer_code)\n",
    "df=df.join(mc, df.source_system_customer_id==mc.source_customer_id, 'left').drop(mc.source_customer_id)\n",
    "df=df.join(genmst,'txt_intermediary_cd','left')\n",
    "df.columns"
   ]
  },
  {
   "cell_type": "code",
   "execution_count": null,
   "metadata": {},
   "outputs": [],
   "source": [
    "df=df.withColumn('pan_new', coalesce('cleansed_pan', 'pan'))\\\n",
    ".withColumn('passport_new', coalesce('cleansed_passport', 'passport'))\\\n",
    ".withColumn('address', concat_ws('', 'psnt_address_line_1', 'psnt_address_line_2', 'psnt_address_line_3','psnt_address_city','psnt_address_state','psnt_address_country','psnt_address_zip'))"
   ]
  },
  {
   "cell_type": "code",
   "execution_count": null,
   "metadata": {},
   "outputs": [],
   "source": [
    "df.columns"
   ]
  },
  {
   "cell_type": "code",
   "execution_count": null,
   "metadata": {},
   "outputs": [],
   "source": [
    "df=df.withColumn('product_cd',lpad(col('product_cd'),6,'0'))"
   ]
  },
  {
   "cell_type": "code",
   "execution_count": null,
   "metadata": {},
   "outputs": [],
   "source": [
    "col_str=['txt_endorsement_wording','num_reference_number','num_endorsement_no','txt_customer_id','num_net_od_premium','num_net_tp_premium',\n",
    "         'dat_od_expiry_date','dat_od_start_date','dat_tp_expiry_date','dat_tp_start_date','num_covernote_no',\n",
    "         'dat_cover_note_date','txt_cover_note_hour']\n",
    "gen_prop=load_gpdb_jdbc(col_str,\"policy_gc_gen_prop_information_tab\",'public')"
   ]
  },
  {
   "cell_type": "code",
   "execution_count": null,
   "metadata": {},
   "outputs": [],
   "source": [
    "df=df.join(gen_prop, df.reference_num==gen_prop.num_reference_number, 'left').drop(pp.num_reference_number)"
   ]
  },
  {
   "cell_type": "code",
   "execution_count": null,
   "metadata": {},
   "outputs": [],
   "source": [
    "df.persist(pyspark.StorageLevel.MEMORY_AND_DISK)\n",
    "records=df.count()\n",
    "records"
   ]
  },
  {
   "cell_type": "markdown",
   "metadata": {},
   "source": [
    "# MOTOR"
   ]
  },
  {
   "cell_type": "code",
   "execution_count": null,
   "metadata": {},
   "outputs": [],
   "source": [
    "df_motor=df.filter(col('lob').isin('2W',\n",
    "'CV',\n",
    "'CVTP',\n",
    "'Pvt Car'))"
   ]
  },
  {
   "cell_type": "code",
   "execution_count": null,
   "metadata": {
    "scrolled": true
   },
   "outputs": [],
   "source": [
    "col_str=['information137','information288','information128','reference_num','information139','information126','risk1']\n",
    "risk_headers=load_gpdb_jdbc(col_str,\"policy_gc_risk_headers\",'public')"
   ]
  },
  {
   "cell_type": "code",
   "execution_count": null,
   "metadata": {},
   "outputs": [],
   "source": [
    "df_risk_header_pol=df_motor.join(risk_headers,'reference_num','left')"
   ]
  },
  {
   "cell_type": "code",
   "execution_count": null,
   "metadata": {},
   "outputs": [],
   "source": [
    "df_risk_header_pol=df_risk_header_pol.withColumn('product_cd',when(col('product_cd').isin('3184','3187','3188','3189','3191'),lpad(col('product_cd'),6,'0'))\\\n",
    "                                                .otherwise(col('product_cd')))"
   ]
  },
  {
   "cell_type": "code",
   "execution_count": null,
   "metadata": {},
   "outputs": [],
   "source": [
    "df_risk_header_pol=df_risk_header_pol.withColumn('mot_policy_plan_code',when(col('product_cd')=='003184',col('information137'))\\\n",
    "                                                .when(col('product_cd')=='003187',col('information288'))\\\n",
    "                                                 .when(col('product_cd')=='003188',col('information128'))\\\n",
    "                                                 .when(col('product_cd')=='003189',col('information128'))\\\n",
    "                                                .when(col('product_cd')=='003191',col('information128'))\\\n",
    "                                                .otherwise(lit('-')))\\\n",
    ".withColumn('mot_policy_plan',when(col('product_cd')=='003184',col('information139'))\\\n",
    "                                                .when(col('product_cd')=='003187',col('information139'))\\\n",
    "                                                 .when(col('product_cd')=='003188',col('information126'))\\\n",
    "                                                 .when(col('product_cd')=='003189',col('information126'))\\\n",
    "                                                .when(col('product_cd')=='003191',col('information126'))\\\n",
    "                                                .otherwise(lit('-')))\\\n",
    ".withColumn('mot_policy_variant',when(col('product_cd').isin('003184','003187','003188','003189','003191'),col('risk1'))\\\n",
    "                                                .otherwise(lit('-')))"
   ]
  },
  {
   "cell_type": "code",
   "execution_count": null,
   "metadata": {},
   "outputs": [],
   "source": [
    "col_str=['reference_num','engine_number', 'chassis_number', 'cc','yr_of_manf','type_of_body','registered_seating_capacity', 'trailer_idv', 'owner_occupation' ,\n",
    "         'totalidvy1', 'totalidvy2','totalidvy3','nonelectricalaccessoriesy1','nonelectricalaccessoriesy2', 'electricalaccessoriesidv','veh_idv',\n",
    "         'nonelectricalaccessoriesy3','alternatepolicynumber','is_cnglpg_kit_pip','cng_lpg_si_tot','side_car_value','roadside_assistance',\n",
    "        'noofclaimsdepreciationreimb','voluntary_deductible_amt','imposed_excess_amount','franchisee','compulsory_pa_ownerdriver','ncb_misdeclaration',\n",
    "        'vehicle_seg', 'veh_type', 'vehicle_use', 'variant', 'vehicle_age', 'vehcile_subclass', 'vehicle_class','policy_plan']\n",
    "mot=load_gpdb_jdbc(col_str,\"policy_dh_risk_headers_mot\",'public')"
   ]
  },
  {
   "cell_type": "code",
   "execution_count": null,
   "metadata": {},
   "outputs": [],
   "source": [
    "col_str=['reference_num','make','model']\n",
    "mot_risk=load_gpdb_jdbc(col_str,\"policy_dh_risk_details_mot\",'public')"
   ]
  },
  {
   "cell_type": "code",
   "execution_count": null,
   "metadata": {},
   "outputs": [],
   "source": [
    "df_mot=df_risk_header_pol.join(mot, 'reference_num', 'left')\n",
    "df_mot=df_mot.join(mot_risk, 'reference_num', 'left')\n",
    "df_mot.columns"
   ]
  },
  {
   "cell_type": "code",
   "execution_count": null,
   "metadata": {},
   "outputs": [],
   "source": [
    "df_distinct_mot=df_mot.withColumn('primary_key', concat_ws('',trim(col('source_system_customer_id')), trim(col('policy_number')),trim(col('reference_num')),\n",
    "                                                       trim(col('certificate_no')))).dropDuplicates()"
   ]
  },
  {
   "cell_type": "code",
   "execution_count": null,
   "metadata": {},
   "outputs": [],
   "source": [
    "from pyspark.sql.window import Window\n",
    "\n",
    "df_distinct_mot = df_distinct_mot.withColumn(\"rn\", F.row_number()\n",
    "        .over(Window.partitionBy(\"primary_key\")\n",
    "        .orderBy(F.col(\"commit_timestamp\").desc())))\n",
    "\n",
    "df_distinct_mot = df_distinct_mot.filter(F.col(\"rn\") == 1).drop(\"rn\").drop(\"primary_key\")"
   ]
  },
  {
   "cell_type": "code",
   "execution_count": null,
   "metadata": {},
   "outputs": [],
   "source": [
    "df_distinct_mot=df_distinct_mot.withColumn('appointeename',lit(None).cast('string'))\\\n",
    ".withColumn('cum_discount_premium',lit(None).cast('string'))\\\n",
    ".withColumn('cum_loading_premium',lit(None).cast('string'))\\\n",
    ".withColumn('endt_discount_premium',lit(None).cast('string'))\\\n",
    ".withColumn('endt_loading_premium',lit(None).cast('string'))\\\n",
    ".withColumn('healthcheckup_limit',lit(None).cast('string'))\\\n",
    ".withColumn('insured_dob',lit(None).cast('string'))\\\n",
    ".withColumn('insured_name',lit(None).cast('string'))\\\n",
    ".withColumn('insuredage',lit(None).cast('string'))\\\n",
    ".withColumn('insuredname',lit(None).cast('string'))\\\n",
    ".withColumn('loading_reason_amhi',lit(None).cast('string'))\\\n",
    ".withColumn('member_id',lit(None).cast('string'))\\\n",
    ".withColumn('memberid',lit(None).cast('string'))\\\n",
    ".withColumn('nom_dob_hlt',lit(None).cast('string'))\\\n",
    ".withColumn('nomi_rel_hlt',lit(None).cast('string'))\\\n",
    ".withColumn('nominee_age',lit(None).cast('string'))\\\n",
    ".withColumn('nomineename_hlt',lit(None).cast('string'))\\\n",
    ".withColumn('outpatient_treatmentlimit',lit(None).cast('string'))\\\n",
    ".withColumn('preexisting_disease',lit(None).cast('string'))\\\n",
    ".withColumn('relationshipappnom',lit(None).cast('string'))\\\n",
    ".withColumn('dep_date',lit(None).cast('string'))\\\n",
    ".withColumn('dob',lit(None).cast('string'))\\\n",
    ".withColumn('id_no',lit(None).cast('string'))\\\n",
    ".withColumn('id_type',lit(None).cast('string'))\\\n",
    ".withColumn('insured_first_name',lit(None).cast('string'))\\\n",
    ".withColumn('insured_last_name',lit(None).cast('string'))\\\n",
    ".withColumn('insured_middle_name',lit(None).cast('string'))\\\n",
    ".withColumn('nominee_name',lit(None).cast('string'))\\\n",
    ".withColumn('rating_zone',lit(None).cast('string'))\\\n",
    ".withColumn('relationship',lit(None).cast('string'))\\\n",
    ".withColumn('return_date',lit(None).cast('string'))\\\n",
    ".withColumn('travel_duration',lit(None).cast('string'))\\\n",
    ".withColumn('insured_name',lit(None).cast('string'))\n",
    "\n",
    "\n",
    "\n",
    "\n",
    "\n",
    "\n",
    "# .withColumn('appointeename',lit(None).cast('string'))\\\n",
    "# .withColumn('cum_discount_premium',lit(None).cast('string'))\\\n",
    "# .withColumn('cum_loading_premium',lit(None).cast('string'))\\\n",
    "# .withColumn('endt_discount_premium',lit(None).cast('string'))\\\n",
    "# .withColumn('endt_loading_premium',lit(None).cast('string'))\\\n",
    "# .withColumn('healthcheckup_limit',lit(None).cast('string'))\\\n",
    "# .withColumn('insured_dob',lit(None).cast('string'))\\\n",
    "# .withColumn('insured_name',lit(None).cast('string'))\\\n",
    "# .withColumn('insuredage',lit(None).cast('string'))\\\n",
    "# .withColumn('insuredname',lit(None).cast('string'))\\\n",
    "# .withColumn('loading_reason_amhi',lit(None).cast('string'))\\\n",
    "# .withColumn('member_id',lit(None).cast('string'))\\\n",
    "# .withColumn('memberid',lit(None).cast('string'))\\\n",
    "# .withColumn('nom_dob_hlt',lit(None).cast('string'))\\\n",
    "# .withColumn('nomi_rel_hlt',lit(None).cast('string'))\\\n",
    "# .withColumn('nominee_age',lit(None).cast('string'))\\\n",
    "# .withColumn('nomineename_hlt',lit(None).cast('string'))\\\n",
    "# .withColumn('outpatient_treatmentlimit',lit(None).cast('string'))\\\n",
    "# .withColumn('preexisting_disease',lit(None).cast('string'))\\\n",
    "# .withColumn('relationshipappnom',lit(None).cast('string'))\\\n",
    "# .withColumn('dat_cover_note_date',lit(None).cast('string'))\\\n",
    "# .withColumn('dat_od_expiry_date',lit(None).cast('string'))\\\n",
    "# .withColumn('dat_od_start_date',lit(None).cast('string'))\\\n",
    "# .withColumn('dat_tp_expiry_date',lit(None).cast('string'))\\\n",
    "# .withColumn('dat_tp_start_date',lit(None).cast('string'))\\\n",
    "# .withColumn('dep_date',lit(None).cast('string'))\\\n",
    "# .withColumn('insured_first_name',lit(None).cast('string'))\\\n",
    "# .withColumn('insured_last_name',lit(None).cast('string'))\\\n",
    "# .withColumn('insured_middle_name',lit(None).cast('string'))\\\n",
    "# .withColumn('insured_name',lit(None).cast('string'))\\\n",
    "# .withColumn('num_covernote_no',lit(None).cast('string'))\\\n",
    "# .withColumn('num_endorsement_no',lit(None).cast('string'))\\\n",
    "# .withColumn('num_net_od_premium',lit(None).cast('string'))\\\n",
    "# .withColumn('num_net_tp_premium',lit(None).cast('string'))\\\n",
    "# .withColumn('rating_zone',lit(None).cast('string'))\\\n",
    "# .withColumn('return_date',lit(None).cast('string'))\\\n",
    "# .withColumn('travel_duration',lit(None).cast('string'))\\\n",
    "# .withColumn('txt_cover_note_hour',lit(None).cast('string'))\\\n",
    "# .withColumn('txt_endorsement_wording',lit(None).cast('string'))\n"
   ]
  },
  {
   "cell_type": "code",
   "execution_count": null,
   "metadata": {},
   "outputs": [],
   "source": [
    "df_distinct_mot.persist(pyspark.StorageLevel.MEMORY_AND_DISK)\n",
    "records=df_distinct_mot.count()\n",
    "records"
   ]
  },
  {
   "cell_type": "code",
   "execution_count": null,
   "metadata": {},
   "outputs": [],
   "source": [
    "df_distinct_mot=df_distinct_mot.select('reference_num', 'txt_intermediary_cd', 'policy_number', 'certificate_no', 'pol_incept_date', 'pol_exp_date', 'source_system_customer_id', 'sum_insured', 'premiumamount', 'total_premium', 'irda_product_uin', 'product_cd', 'lob', 'renl_cert_no', 'policy_counter', 'business_type', 'txt_business_type', 'commit_timestamp', 'application_no', 'policy_issuance_date', 'rto_location', 'branch', 'prdr_branch_sub_cd', 'customer_gstin', 'policy_type', 'zone', 'timestamp', 'previous_policy_no', 'previous_policy_exp_date', 'previous_policy_type', 'policy_effective_from', 'dc_unified_id', 'full_name', 'psnt_address_country', 'psnt_address_state', 'psnt_address_city', 'psnt_address_zip', 'psnt_address_line_1', 'psnt_address_line_2', 'psnt_address_line_3', 'gstin', 'passport', 'pan', 'cleansed_passport', 'cleansed_pan', 'birth_date', 'age', 'agent_name', 'txt_mobile', 'txt_telephone', 'txt_telephone1', 'txt_contact_phone', 'txt_emer_person_mobile_number', 'txt_policy_phone', 'txt_alt_mobile', 'agent_license_no', 'agent_mobile', 'pan_new', 'passport_new', 'address', 'txt_endorsement_wording', 'num_reference_number', 'num_endorsement_no', 'txt_customer_id', 'num_net_od_premium', 'num_net_tp_premium', 'dat_od_expiry_date', 'dat_od_start_date', 'dat_tp_expiry_date', 'dat_tp_start_date', 'num_covernote_no', 'dat_cover_note_date', 'txt_cover_note_hour','risk1', 'mot_policy_plan_code', 'mot_policy_plan', 'mot_policy_variant', 'engine_number', 'chassis_number', 'cc', 'yr_of_manf', 'type_of_body', 'registered_seating_capacity', 'trailer_idv', 'owner_occupation', 'totalidvy1', 'totalidvy2', 'totalidvy3', 'nonelectricalaccessoriesy1', 'nonelectricalaccessoriesy2', 'electricalaccessoriesidv', 'veh_idv', 'nonelectricalaccessoriesy3', 'alternatepolicynumber', 'is_cnglpg_kit_pip', 'cng_lpg_si_tot', 'side_car_value', 'roadside_assistance', 'noofclaimsdepreciationreimb', 'voluntary_deductible_amt', 'imposed_excess_amount', 'franchisee', 'compulsory_pa_ownerdriver', 'ncb_misdeclaration', 'vehicle_seg', 'veh_type', 'vehicle_use', 'variant', 'vehicle_age', 'vehcile_subclass', 'vehicle_class', 'policy_plan', 'make', 'model', 'appointeename', 'cum_discount_premium', 'cum_loading_premium', 'endt_discount_premium', 'endt_loading_premium', 'healthcheckup_limit', 'insured_dob', 'insured_name', 'insuredage', 'insuredname', 'loading_reason_amhi', 'member_id', 'memberid', 'nom_dob_hlt', 'nomi_rel_hlt', 'nominee_age', 'nomineename_hlt', 'outpatient_treatmentlimit', 'preexisting_disease', 'relationshipappnom', 'dep_date', 'dob', 'id_no', 'id_type', 'insured_first_name', 'insured_last_name', 'insured_middle_name', 'nominee_name', 'rating_zone', 'relationship', 'return_date', 'travel_duration')"
   ]
  },
  {
   "cell_type": "code",
   "execution_count": null,
   "metadata": {},
   "outputs": [],
   "source": [
    "output_index = \"mot_additional_details\"\n",
    "schema = \"customermart\"\n",
    "\n",
    "\n",
    "import sys\n",
    "try:\n",
    "\n",
    "    df_distinct_mot.write.format(\"greenplum\")\\\n",
    "    .option(\"dbtable\",output_index).option('dbschema',schema)\\\n",
    "    .option(\"server.port\",\"1150-1170\").option(\"url\",prod_url)\\\n",
    "    .option(\"user\", user_prod).option(\"password\",pwd_prod).mode('overwrite').save()\n",
    "\n",
    "\n",
    "except Exception as e:\n",
    "    x = e\n",
    "    print(x)\n",
    "else:\n",
    "    x = 200 #success\n",
    "    print(x)"
   ]
  },
  {
   "cell_type": "markdown",
   "metadata": {},
   "source": [
    "# Health"
   ]
  },
  {
   "cell_type": "code",
   "execution_count": null,
   "metadata": {},
   "outputs": [],
   "source": [
    "df_health=df.filter(col('lob').isin('Mediseries',\n",
    "'Covid Health',\n",
    "'Health Benefit',\n",
    "'IPA'))"
   ]
  },
  {
   "cell_type": "code",
   "execution_count": null,
   "metadata": {},
   "outputs": [],
   "source": [
    "col_str=['reference_num', 'insured_name','insured_dob','preexisting_disease','member_id',\n",
    "         'cum_loading_premium' ,'endt_loading_premium' ,'loading_reason_amhi' ,\n",
    "'cum_discount_premium' ,'endt_discount_premium']\n",
    "rd_hlt=load_gpdb_jdbc(col_str,\"policy_dh_risk_details_hlt\",'public')"
   ]
  },
  {
   "cell_type": "code",
   "execution_count": null,
   "metadata": {},
   "outputs": [],
   "source": [
    "col_str=['healthcheckup_limit','reference_num','outpatient_treatmentlimit']\n",
    "rh_hlt=load_gpdb_jdbc(col_str,\"policy_dh_risk_headers_hlt\",'public')"
   ]
  },
  {
   "cell_type": "code",
   "execution_count": null,
   "metadata": {},
   "outputs": [],
   "source": [
    "gscPythonOptions = {\"url\": \"jdbc:postgresql://10.35.12.194:5432/gpadmin\",\n",
    "                    \"user\": \"gpspark\",\n",
    "                    \"password\": \"spark@456\",\n",
    "                    \"dbschema\": \"public\",\n",
    "                    \"dbtable\": \"underwriting_dh_cnfgtr_otherdt_grid_tab_hlt\",\n",
    "                    \"partitionColumn\":\"row_num\",\n",
    "                    \"partitions\": 16,\n",
    "                    \"server.port\": '1150-1170'}\n",
    "\n",
    "uw_hlt = sqlContext.read.format(\"greenplum\").options(**gscPythonOptions).load()\\\n",
    "                   .selectExpr(\"num_reference_number as reference_num\", \"nomineename as nomineename_hlt\",'age as nominee_age','insuredage','insuredname',\n",
    "                               'dateofbirth as nom_dob_hlt', \"relationshipwithinsured as nomi_rel_hlt\",'appointeename','relationshipappnom','memberid')\\\n",
    "                   .filter(col('nomineename_hlt').isNotNull())\n",
    "\n",
    "uw_hlt.columns"
   ]
  },
  {
   "cell_type": "code",
   "execution_count": null,
   "metadata": {},
   "outputs": [],
   "source": [
    "df_hlt=df_health.join(rd_hlt, df.reference_num==rd_hlt.reference_num, 'left').drop(rd_hlt.reference_num)\n",
    "df_hlt=df_hlt.join(rh_hlt, df.reference_num==rh_hlt.reference_num, 'left').drop(rh_hlt.reference_num)\n",
    "df_hlt=df_hlt.join(uw_hlt, df.reference_num==uw_hlt.reference_num, 'left').drop(uw_hlt.reference_num)"
   ]
  },
  {
   "cell_type": "code",
   "execution_count": null,
   "metadata": {},
   "outputs": [],
   "source": [
    "df_distinct_hlt=df_hlt.withColumn('primary_key', concat_ws('',trim(col('source_system_customer_id')), trim(col('policy_number')),trim(col('reference_num')),\n",
    "                                                       trim(col('certificate_no')),trim(col('memberid')))).dropDuplicates()"
   ]
  },
  {
   "cell_type": "code",
   "execution_count": null,
   "metadata": {},
   "outputs": [],
   "source": [
    "df_distinct_hlt=df_distinct_hlt.drop_duplicates()"
   ]
  },
  {
   "cell_type": "code",
   "execution_count": null,
   "metadata": {},
   "outputs": [],
   "source": [
    "from pyspark.sql.window import Window\n",
    "\n",
    "df_distinct_hlt = df_distinct_hlt.withColumn(\"rn\", F.row_number()\n",
    "        .over(Window.partitionBy(\"primary_key\")\n",
    "        .orderBy(F.col(\"commit_timestamp\").desc())))\n",
    "\n",
    "df_distinct_hlt = df_distinct_hlt.filter(F.col(\"rn\") == 1).drop(\"rn\").drop(\"primary_key\")"
   ]
  },
  {
   "cell_type": "code",
   "execution_count": null,
   "metadata": {},
   "outputs": [],
   "source": [
    "df_distinct_hlt=df_distinct_hlt.withColumn('dep_date',lit(None).cast('string'))\\\n",
    ".withColumn('dob',lit(None).cast('string'))\\\n",
    ".withColumn('id_no',lit(None).cast('string'))\\\n",
    ".withColumn('id_type',lit(None).cast('string'))\\\n",
    ".withColumn('insured_first_name',lit(None).cast('string'))\\\n",
    ".withColumn('insured_last_name',lit(None).cast('string'))\\\n",
    ".withColumn('insured_middle_name',lit(None).cast('string'))\\\n",
    ".withColumn('nominee_name',lit(None).cast('string'))\\\n",
    ".withColumn('rating_zone',lit(None).cast('string'))\\\n",
    ".withColumn('relationship',lit(None).cast('string'))\\\n",
    ".withColumn('return_date',lit(None).cast('string'))\\\n",
    ".withColumn('travel_duration',lit(None).cast('string'))\\\n",
    ".withColumn('alternatepolicynumber',lit(None).cast('string'))\\\n",
    ".withColumn('cc',lit(None).cast('string'))\\\n",
    ".withColumn('chassis_number',lit(None).cast('string'))\\\n",
    ".withColumn('cng_lpg_si_tot',lit(None).cast('string'))\\\n",
    ".withColumn('compulsory_pa_ownerdriver',lit(None).cast('string'))\\\n",
    ".withColumn('electricalaccessoriesidv',lit(None).cast('string'))\\\n",
    ".withColumn('engine_number',lit(None).cast('string'))\\\n",
    ".withColumn('franchisee',lit(None).cast('string'))\\\n",
    ".withColumn('imposed_excess_amount',lit(None).cast('string'))\\\n",
    ".withColumn('is_cnglpg_kit_pip',lit(None).cast('string'))\\\n",
    ".withColumn('make',lit(None).cast('string'))\\\n",
    ".withColumn('model',lit(None).cast('string'))\\\n",
    ".withColumn('mot_policy_plan',lit(None).cast('string'))\\\n",
    ".withColumn('mot_policy_plan_code',lit(None).cast('string'))\\\n",
    ".withColumn('mot_policy_variant',lit(None).cast('string'))\\\n",
    ".withColumn('ncb_misdeclaration',lit(None).cast('string'))\\\n",
    ".withColumn('nonelectricalaccessoriesy1',lit(None).cast('string'))\\\n",
    ".withColumn('nonelectricalaccessoriesy2',lit(None).cast('string'))\\\n",
    ".withColumn('nonelectricalaccessoriesy3',lit(None).cast('string'))\\\n",
    ".withColumn('noofclaimsdepreciationreimb',lit(None).cast('string'))\\\n",
    ".withColumn('owner_occupation',lit(None).cast('string'))\\\n",
    ".withColumn('policy_plan',lit(None).cast('string'))\\\n",
    ".withColumn('registered_seating_capacity',lit(None).cast('string'))\\\n",
    ".withColumn('risk1',lit(None).cast('string'))\\\n",
    ".withColumn('roadside_assistance',lit(None).cast('string'))\\\n",
    ".withColumn('side_car_value',lit(None).cast('string'))\\\n",
    ".withColumn('totalidvy1',lit(None).cast('string'))\\\n",
    ".withColumn('totalidvy2',lit(None).cast('string'))\\\n",
    ".withColumn('totalidvy3',lit(None).cast('string'))\\\n",
    ".withColumn('trailer_idv',lit(None).cast('string'))\\\n",
    ".withColumn('type_of_body',lit(None).cast('string'))\\\n",
    ".withColumn('variant',lit(None).cast('string'))\\\n",
    ".withColumn('veh_idv',lit(None).cast('string'))\\\n",
    ".withColumn('veh_type',lit(None).cast('string'))\\\n",
    ".withColumn('vehcile_subclass',lit(None).cast('string'))\\\n",
    ".withColumn('vehicle_age',lit(None).cast('string'))\\\n",
    ".withColumn('vehicle_class',lit(None).cast('string'))\\\n",
    ".withColumn('vehicle_seg',lit(None).cast('string'))\\\n",
    ".withColumn('vehicle_use',lit(None).cast('string'))\\\n",
    ".withColumn('voluntary_deductible_amt',lit(None).cast('string'))\\\n",
    ".withColumn('yr_of_manf',lit(None).cast('string'))\n",
    "\n",
    "\n",
    "\n",
    "\n",
    "\n",
    "\n",
    "# withColumn('alternatepolicynumber',lit(None).cast('string'))\\\n",
    "# .withColumn('cc',lit(None).cast('string'))\\\n",
    "# .withColumn('chassis_number',lit(None).cast('string'))\\\n",
    "# .withColumn('cng_lpg_si_tot',lit(None).cast('string'))\\\n",
    "# .withColumn('compulsory_pa_ownerdriver',lit(None).cast('string'))\\\n",
    "# .withColumn('electricalaccessoriesidv',lit(None).cast('string'))\\\n",
    "# .withColumn('engine_number',lit(None).cast('string'))\\\n",
    "# .withColumn('franchisee',lit(None).cast('string'))\\\n",
    "# .withColumn('imposed_excess_amount',lit(None).cast('string'))\\\n",
    "# .withColumn('is_cnglpg_kit_pip',lit(None).cast('string'))\\\n",
    "# .withColumn('make',lit(None).cast('string'))\\\n",
    "# .withColumn('model',lit(None).cast('string'))\\\n",
    "# .withColumn('mot_policy_plan',lit(None).cast('string'))\\\n",
    "# .withColumn('mot_policy_plan_code',lit(None).cast('string'))\\\n",
    "# .withColumn('mot_policy_variant',lit(None).cast('string'))\\\n",
    "# .withColumn('ncb_misdeclaration',lit(None).cast('string'))\\\n",
    "# .withColumn('nonelectricalaccessoriesy1',lit(None).cast('string'))\\\n",
    "# .withColumn('nonelectricalaccessoriesy2',lit(None).cast('string'))\\\n",
    "# .withColumn('nonelectricalaccessoriesy3',lit(None).cast('string'))\\\n",
    "# .withColumn('noofclaimsdepreciationreimb',lit(None).cast('string'))\\\n",
    "# .withColumn('owner_occupation',lit(None).cast('string'))\\\n",
    "# .withColumn('policy_plan',lit(None).cast('string'))\\\n",
    "# .withColumn('registered_seating_capacity',lit(None).cast('string'))\\\n",
    "# .withColumn('risk1',lit(None).cast('string'))\\\n",
    "# .withColumn('roadside_assistance',lit(None).cast('string'))\\\n",
    "# .withColumn('side_car_value',lit(None).cast('string'))\\\n",
    "# .withColumn('totalidvy1',lit(None).cast('string'))\\\n",
    "# .withColumn('totalidvy2',lit(None).cast('string'))\\\n",
    "# .withColumn('totalidvy3',lit(None).cast('string'))\\\n",
    "# .withColumn('trailer_idv',lit(None).cast('string'))\\\n",
    "# .withColumn('type_of_body',lit(None).cast('string'))\\\n",
    "# .withColumn('variant',lit(None).cast('string'))\\\n",
    "# .withColumn('veh_idv',lit(None).cast('string'))\\\n",
    "# .withColumn('veh_type',lit(None).cast('string'))\\\n",
    "# .withColumn('vehcile_subclass',lit(None).cast('string'))\\\n",
    "# .withColumn('vehicle_age',lit(None).cast('string'))\\\n",
    "# .withColumn('vehicle_class',lit(None).cast('string'))\\\n",
    "# .withColumn('vehicle_seg',lit(None).cast('string'))\\\n",
    "# .withColumn('vehicle_use',lit(None).cast('string'))\\\n",
    "# .withColumn('voluntary_deductible_amt',lit(None).cast('string'))\\\n",
    "# .withColumn('yr_of_manf',lit(None).cast('string'))\\\n",
    "# .withColumn('dat_cover_note_date',lit(None).cast('string'))\\\n",
    "# .withColumn('dat_od_expiry_date',lit(None).cast('string'))\\\n",
    "# .withColumn('dat_od_start_date',lit(None).cast('string'))\\\n",
    "# .withColumn('dat_tp_expiry_date',lit(None).cast('string'))\\\n",
    "# .withColumn('dat_tp_start_date',lit(None).cast('string'))\\\n",
    "# .withColumn('dep_date',lit(None).cast('string'))\\\n",
    "# .withColumn('lta_dob',lit(None).cast('string'))\\\n",
    "# .withColumn('lta_id_no',lit(None).cast('string'))\\\n",
    "# .withColumn('lta_id_type',lit(None).cast('string'))\\\n",
    "# .withColumn('insured_first_name',lit(None).cast('string'))\\\n",
    "# .withColumn('insured_last_name',lit(None).cast('string'))\\\n",
    "# .withColumn('insured_middle_name',lit(None).cast('string'))\\\n",
    "# .withColumn('num_covernote_no',lit(None).cast('string'))\\\n",
    "# .withColumn('num_endorsement_no',lit(None).cast('string'))\\\n",
    "# .withColumn('num_net_od_premium',lit(None).cast('string'))\\\n",
    "# .withColumn('num_net_tp_premium',lit(None).cast('string'))\\\n",
    "# .withColumn('rating_zone',lit(None).cast('string'))\\\n",
    "# .withColumn('return_date',lit(None).cast('string'))\\\n",
    "# .withColumn('travel_duration',lit(None).cast('string'))\\\n",
    "# .withColumn('txt_cover_note_hour',lit(None).cast('string'))\\\n",
    "# .withColumn('txt_endorsement_wording',lit(None).cast('string'))\n"
   ]
  },
  {
   "cell_type": "code",
   "execution_count": null,
   "metadata": {},
   "outputs": [],
   "source": [
    "df_distinct_hlt.persist(pyspark.StorageLevel.MEMORY_AND_DISK)\n",
    "records=df_distinct_hlt.count()\n",
    "records"
   ]
  },
  {
   "cell_type": "code",
   "execution_count": null,
   "metadata": {},
   "outputs": [],
   "source": [
    "df_distinct_hlt=df_distinct_hlt.select(df_distinct_mot.columns)"
   ]
  },
  {
   "cell_type": "code",
   "execution_count": null,
   "metadata": {},
   "outputs": [],
   "source": [
    "output_index = \"hlt_additional_details\"\n",
    "schema = \"customermart\"\n",
    "\n",
    "\n",
    "import sys\n",
    "try:\n",
    "\n",
    "    df_distinct_hlt.write.option(\"truncate\", \"true\").format(\"greenplum\")\\\n",
    "    .option(\"dbtable\",output_index).option('dbschema',schema)\\\n",
    "    .option(\"server.port\",\"1150-1170\").option(\"url\",prod_url)\\\n",
    "    .option(\"user\", user_prod).option(\"password\",pwd_prod).mode('overwrite').save()\n",
    "\n",
    "\n",
    "except Exception as e:\n",
    "    x = e\n",
    "    print(x)\n",
    "else:\n",
    "    x = 200 #success\n",
    "    print(x)"
   ]
  },
  {
   "cell_type": "markdown",
   "metadata": {},
   "source": [
    "# LTA"
   ]
  },
  {
   "cell_type": "code",
   "execution_count": null,
   "metadata": {},
   "outputs": [],
   "source": [
    "df_lta=df.filter(col('lob').isin('LTA'))"
   ]
  },
  {
   "cell_type": "code",
   "execution_count": null,
   "metadata": {},
   "outputs": [],
   "source": [
    "col_str=['dep_date', 'return_date',\"ZONE as rating_zone\",'travel_duration','reference_num']\n",
    "rh_lta=load_gpdb_jdbc(col_str,\"policy_dh_risk_headers_lta\",'public')"
   ]
  },
  {
   "cell_type": "code",
   "execution_count": null,
   "metadata": {},
   "outputs": [],
   "source": [
    "col_str=['reference_num','dob','id_no','id_type','insured_first_name','insured_middle_name','insured_last_name','nominee_name','relationship']\n",
    "rd_lta=load_gpdb_jdbc(col_str,\"policy_dh_risk_details_lta\",'public')"
   ]
  },
  {
   "cell_type": "code",
   "execution_count": null,
   "metadata": {},
   "outputs": [],
   "source": [
    "rd_lta=rd_lta.withColumn('insured_name', concat_ws(' ', 'insured_first_name','insured_middle_name','insured_last_name'))"
   ]
  },
  {
   "cell_type": "code",
   "execution_count": null,
   "metadata": {},
   "outputs": [],
   "source": [
    "df_lta=df_lta.join(rh_lta, 'reference_num', 'left')\n",
    "df_lta=df_lta.join(rd_lta,'reference_num', 'left')\n",
    "df_lta.columns"
   ]
  },
  {
   "cell_type": "code",
   "execution_count": null,
   "metadata": {},
   "outputs": [],
   "source": [
    "df_distinct_lta=df_lta.withColumn('primary_key', concat_ws('',trim(col('source_system_customer_id')), trim(col('policy_number')),trim(col('reference_num')),\n",
    "                                                       trim(col('certificate_no')),col('insured_name'),col('id_no'))).dropDuplicates()"
   ]
  },
  {
   "cell_type": "code",
   "execution_count": null,
   "metadata": {},
   "outputs": [],
   "source": [
    "from pyspark.sql.window import Window\n",
    "\n",
    "df_distinct_lta = df_distinct_lta.withColumn(\"rn\", F.row_number()\n",
    "        .over(Window.partitionBy(\"primary_key\")\n",
    "        .orderBy(F.col(\"commit_timestamp\").desc())))\n",
    "\n",
    "df_distinct_lta = df_distinct_lta.filter(F.col(\"rn\") == 1).drop(\"rn\").drop(\"primary_key\")"
   ]
  },
  {
   "cell_type": "code",
   "execution_count": null,
   "metadata": {},
   "outputs": [],
   "source": [
    "df_distinct_lta.persist(pyspark.StorageLevel.MEMORY_AND_DISK)\n",
    "records=df_distinct_lta.count()\n",
    "records"
   ]
  },
  {
   "cell_type": "code",
   "execution_count": null,
   "metadata": {},
   "outputs": [],
   "source": [
    "df_distinct_hlt.unpersist()"
   ]
  },
  {
   "cell_type": "code",
   "execution_count": null,
   "metadata": {},
   "outputs": [],
   "source": [
    "output_index = \"lta_additional_details\"\n",
    "schema = \"customermart\"\n",
    "\n",
    "\n",
    "import sys\n",
    "try:\n",
    "\n",
    "    df_distinct_lta.write.option(\"truncate\", \"true\").format(\"greenplum\")\\\n",
    "    .option(\"dbtable\",output_index).option('dbschema',schema)\\\n",
    "    .option(\"server.port\",\"1150-1170\").option(\"url\",prod_url)\\\n",
    "    .option(\"user\", user_prod).option(\"password\",pwd_prod).mode('overwrite').save()\n",
    "\n",
    "\n",
    "except Exception as e:\n",
    "    x = e\n",
    "    print(x)\n",
    "else:\n",
    "    x = 200 #success\n",
    "    print(x)"
   ]
  },
  {
   "cell_type": "code",
   "execution_count": null,
   "metadata": {},
   "outputs": [],
   "source": [
    "df_distinct_lta=df_distinct_lta.withColumn('alternatepolicynumber',lit(None).cast('string'))\\\n",
    ".withColumn('cc',lit(None).cast('string'))\\\n",
    ".withColumn('chassis_number',lit(None).cast('string'))\\\n",
    ".withColumn('cng_lpg_si_tot',lit(None).cast('string'))\\\n",
    ".withColumn('compulsory_pa_ownerdriver',lit(None).cast('string'))\\\n",
    ".withColumn('electricalaccessoriesidv',lit(None).cast('string'))\\\n",
    ".withColumn('engine_number',lit(None).cast('string'))\\\n",
    ".withColumn('franchisee',lit(None).cast('string'))\\\n",
    ".withColumn('imposed_excess_amount',lit(None).cast('string'))\\\n",
    ".withColumn('is_cnglpg_kit_pip',lit(None).cast('string'))\\\n",
    ".withColumn('make',lit(None).cast('string'))\\\n",
    ".withColumn('model',lit(None).cast('string'))\\\n",
    ".withColumn('mot_policy_plan',lit(None).cast('string'))\\\n",
    ".withColumn('mot_policy_plan_code',lit(None).cast('string'))\\\n",
    ".withColumn('mot_policy_variant',lit(None).cast('string'))\\\n",
    ".withColumn('ncb_misdeclaration',lit(None).cast('string'))\\\n",
    ".withColumn('nonelectricalaccessoriesy1',lit(None).cast('string'))\\\n",
    ".withColumn('nonelectricalaccessoriesy2',lit(None).cast('string'))\\\n",
    ".withColumn('nonelectricalaccessoriesy3',lit(None).cast('string'))\\\n",
    ".withColumn('noofclaimsdepreciationreimb',lit(None).cast('string'))\\\n",
    ".withColumn('owner_occupation',lit(None).cast('string'))\\\n",
    ".withColumn('policy_plan',lit(None).cast('string'))\\\n",
    ".withColumn('registered_seating_capacity',lit(None).cast('string'))\\\n",
    ".withColumn('risk1',lit(None).cast('string'))\\\n",
    ".withColumn('roadside_assistance',lit(None).cast('string'))\\\n",
    ".withColumn('side_car_value',lit(None).cast('string'))\\\n",
    ".withColumn('totalidvy1',lit(None).cast('string'))\\\n",
    ".withColumn('totalidvy2',lit(None).cast('string'))\\\n",
    ".withColumn('totalidvy3',lit(None).cast('string'))\\\n",
    ".withColumn('trailer_idv',lit(None).cast('string'))\\\n",
    ".withColumn('type_of_body',lit(None).cast('string'))\\\n",
    ".withColumn('variant',lit(None).cast('string'))\\\n",
    ".withColumn('veh_idv',lit(None).cast('string'))\\\n",
    ".withColumn('veh_type',lit(None).cast('string'))\\\n",
    ".withColumn('vehcile_subclass',lit(None).cast('string'))\\\n",
    ".withColumn('vehicle_age',lit(None).cast('string'))\\\n",
    ".withColumn('vehicle_class',lit(None).cast('string'))\\\n",
    ".withColumn('vehicle_seg',lit(None).cast('string'))\\\n",
    ".withColumn('vehicle_use',lit(None).cast('string'))\\\n",
    ".withColumn('voluntary_deductible_amt',lit(None).cast('string'))\\\n",
    ".withColumn('yr_of_manf',lit(None).cast('string'))\\\n",
    ".withColumn('appointeename',lit(None).cast('string'))\\\n",
    ".withColumn('cum_discount_premium',lit(None).cast('string'))\\\n",
    ".withColumn('cum_loading_premium',lit(None).cast('string'))\\\n",
    ".withColumn('endt_discount_premium',lit(None).cast('string'))\\\n",
    ".withColumn('endt_loading_premium',lit(None).cast('string'))\\\n",
    ".withColumn('healthcheckup_limit',lit(None).cast('string'))\\\n",
    ".withColumn('insured_dob',lit(None).cast('string'))\\\n",
    ".withColumn('insuredage',lit(None).cast('string'))\\\n",
    ".withColumn('insuredname',lit(None).cast('string'))\\\n",
    ".withColumn('loading_reason_amhi',lit(None).cast('string'))\\\n",
    ".withColumn('member_id',lit(None).cast('string'))\\\n",
    ".withColumn('memberid',lit(None).cast('string'))\\\n",
    ".withColumn('nom_dob_hlt',lit(None).cast('string'))\\\n",
    ".withColumn('nomi_rel_hlt',lit(None).cast('string'))\\\n",
    ".withColumn('nominee_age',lit(None).cast('string'))\\\n",
    ".withColumn('nomineename_hlt',lit(None).cast('string'))\\\n",
    ".withColumn('outpatient_treatmentlimit',lit(None).cast('string'))\\\n",
    ".withColumn('preexisting_disease',lit(None).cast('string'))\\\n",
    ".withColumn('relationshipappnom',lit(None).cast('string'))\n",
    "\n",
    "\n",
    "\n",
    "\n",
    "# .withColumn('alternatepolicynumber',lit(None).cast('string'))\\\n",
    "# .withColumn('cc',lit(None).cast('string'))\\\n",
    "# .withColumn('chassis_number',lit(None).cast('string'))\\\n",
    "# .withColumn('cng_lpg_si_tot',lit(None).cast('string'))\\\n",
    "# .withColumn('compulsory_pa_ownerdriver',lit(None).cast('string'))\\\n",
    "# .withColumn('electricalaccessoriesidv',lit(None).cast('string'))\\\n",
    "# .withColumn('engine_number',lit(None).cast('string'))\\\n",
    "# .withColumn('franchisee',lit(None).cast('string'))\\\n",
    "# .withColumn('imposed_excess_amount',lit(None).cast('string'))\\\n",
    "# .withColumn('is_cnglpg_kit_pip',lit(None).cast('string'))\\\n",
    "# .withColumn('make',lit(None).cast('string'))\\\n",
    "# .withColumn('model',lit(None).cast('string'))\\\n",
    "# .withColumn('mot_policy_plan',lit(None).cast('string'))\\\n",
    "# .withColumn('mot_policy_plan_code',lit(None).cast('string'))\\\n",
    "# .withColumn('mot_policy_variant',lit(None).cast('string'))\\\n",
    "# .withColumn('ncb_misdeclaration',lit(None).cast('string'))\\\n",
    "# .withColumn('nonelectricalaccessoriesy1',lit(None).cast('string'))\\\n",
    "# .withColumn('nonelectricalaccessoriesy2',lit(None).cast('string'))\\\n",
    "# .withColumn('nonelectricalaccessoriesy3',lit(None).cast('string'))\\\n",
    "# .withColumn('noofclaimsdepreciationreimb',lit(None).cast('string'))\\\n",
    "# .withColumn('owner_occupation',lit(None).cast('string'))\\\n",
    "# .withColumn('policy_plan',lit(None).cast('string'))\\\n",
    "# .withColumn('registered_seating_capacity',lit(None).cast('string'))\\\n",
    "# .withColumn('risk1',lit(None).cast('string'))\\\n",
    "# .withColumn('roadside_assistance',lit(None).cast('string'))\\\n",
    "# .withColumn('side_car_value',lit(None).cast('string'))\\\n",
    "# .withColumn('totalidvy1',lit(None).cast('string'))\\\n",
    "# .withColumn('totalidvy2',lit(None).cast('string'))\\\n",
    "# .withColumn('totalidvy3',lit(None).cast('string'))\\\n",
    "# .withColumn('trailer_idv',lit(None).cast('string'))\\\n",
    "# .withColumn('type_of_body',lit(None).cast('string'))\\\n",
    "# .withColumn('variant',lit(None).cast('string'))\\\n",
    "# .withColumn('veh_idv',lit(None).cast('string'))\\\n",
    "# .withColumn('veh_type',lit(None).cast('string'))\\\n",
    "# .withColumn('vehcile_subclass',lit(None).cast('string'))\\\n",
    "# .withColumn('vehicle_age',lit(None).cast('string'))\\\n",
    "# .withColumn('vehicle_class',lit(None).cast('string'))\\\n",
    "# .withColumn('vehicle_seg',lit(None).cast('string'))\\\n",
    "# .withColumn('vehicle_use',lit(None).cast('string'))\\\n",
    "# .withColumn('voluntary_deductible_amt',lit(None).cast('string'))\\\n",
    "# .withColumn('yr_of_manf',lit(None).cast('string'))\\\n",
    "# .withColumn('appointeename',lit(None).cast('string'))\\\n",
    "# .withColumn('cum_discount_premium',lit(None).cast('string'))\\\n",
    "# .withColumn('cum_loading_premium',lit(None).cast('string'))\\\n",
    "# .withColumn('endt_discount_premium',lit(None).cast('string'))\\\n",
    "# .withColumn('endt_loading_premium',lit(None).cast('string'))\\\n",
    "# .withColumn('healthcheckup_limit',lit(None).cast('string'))\\\n",
    "# .withColumn('insured_dob',lit(None).cast('string'))\\\n",
    "# .withColumn('insuredage',lit(None).cast('string'))\\\n",
    "# .withColumn('insuredname',lit(None).cast('string'))\\\n",
    "# .withColumn('loading_reason_amhi',lit(None).cast('string'))\\\n",
    "# .withColumn('member_id',lit(None).cast('string'))\\\n",
    "# .withColumn('memberid',lit(None).cast('string'))\\\n",
    "# .withColumn('nom_dob_hlt',lit(None).cast('string'))\\\n",
    "# .withColumn('nomi_rel_hlt',lit(None).cast('string'))\\\n",
    "# .withColumn('nominee_age',lit(None).cast('string'))\\\n",
    "# .withColumn('nomineename_hlt',lit(None).cast('string'))\\\n",
    "# .withColumn('outpatient_treatmentlimit',lit(None).cast('string'))\\\n",
    "# .withColumn('preexisting_disease',lit(None).cast('string'))\\\n",
    "# .withColumn('relationshipappnom',lit(None).cast('string'))"
   ]
  },
  {
   "cell_type": "code",
   "execution_count": null,
   "metadata": {},
   "outputs": [],
   "source": [
    "df_distinct_lta=df_distinct_lta.select(df_distinct_mot.columns)"
   ]
  },
  {
   "cell_type": "markdown",
   "metadata": {},
   "source": [
    "# Main"
   ]
  },
  {
   "cell_type": "code",
   "execution_count": null,
   "metadata": {},
   "outputs": [],
   "source": [
    "df_main=df_distinct_mot.union(df_distinct_hlt).union(df_distinct_lta)"
   ]
  },
  {
   "cell_type": "code",
   "execution_count": null,
   "metadata": {},
   "outputs": [],
   "source": [
    "df_main.persist(pyspark.StorageLevel.MEMORY_AND_DISK)\n",
    "records=df_main.count()\n",
    "records"
   ]
  },
  {
   "cell_type": "code",
   "execution_count": null,
   "metadata": {},
   "outputs": [],
   "source": [
    "output_index = \"policy_additional_details\"\n",
    "schema = \"customermart\"\n",
    "\n",
    "\n",
    "import sys\n",
    "try:\n",
    "\n",
    "    df_main.write.option(\"truncate\", \"true\").format(\"greenplum\")\\\n",
    "    .option(\"dbtable\",output_index).option('dbschema',schema)\\\n",
    "    .option(\"server.port\",\"1150-1170\").option(\"url\",prod_url)\\\n",
    "    .option(\"user\", user_prod).option(\"password\",pwd_prod).mode('append').save()\n",
    "\n",
    "\n",
    "except Exception as e:\n",
    "    x = e\n",
    "    print(x)\n",
    "else:\n",
    "    x = 200 #success\n",
    "    print(x)"
   ]
  },
  {
   "cell_type": "code",
   "execution_count": null,
   "metadata": {},
   "outputs": [],
   "source": [
    "gscPythonOptions = {\n",
    "         \"url\": \"jdbc:postgresql://10.35.12.194:5432/gpadmin\",\"user\": \"gpcustcoe\",\"password\": \"gpcustcoe@123\",\n",
    "    \"dbschema\":\"customermart\"\n",
    "    ,\"dbtable\": \"policy_additional_details\",\n",
    "         \"server.port\":\"1150-1170\"}\n",
    "\n",
    "df_main = sqlContext.read.format(\"greenplum\").options(**gscPythonOptions).load()"
   ]
  },
  {
   "cell_type": "code",
   "execution_count": null,
   "metadata": {},
   "outputs": [],
   "source": [
    "report_date = datetime.date.today()- datetime.timedelta(days=2)\n",
    "report_date_1=report_date\n",
    "report_date_str = str(report_date)"
   ]
  },
  {
   "cell_type": "code",
   "execution_count": null,
   "metadata": {},
   "outputs": [],
   "source": [
    "report_date_str"
   ]
  },
  {
   "cell_type": "code",
   "execution_count": null,
   "metadata": {},
   "outputs": [],
   "source": [
    "target_index=f'get_spa_additional_policy_details_{report_date_str}'\n",
    "print(target_index)"
   ]
  },
  {
   "cell_type": "code",
   "execution_count": null,
   "metadata": {},
   "outputs": [],
   "source": [
    "import json, pprint, requests\n",
    "es_nodes = '10.35.12.212'\n",
    "es_port = '9200'\n",
    "es_user = 'elastic'\n",
    "es_pwd = 'bEiilauM3es'\n",
    "\n",
    "######target_index = 'actuarial_premium_risk_tables'----previous name...delete later\n",
    "\n",
    "#alias_name = 'nepuepr_uat_3'\n",
    "target_doc_type = f'get_spa_additional_policy_details_{report_date_str}'\n",
    "#########delete index if already exists########################################################################################################################################################################"
   ]
  },
  {
   "cell_type": "code",
   "execution_count": null,
   "metadata": {},
   "outputs": [],
   "source": [
    "# #########delete index ###############################################\n",
    "# headers = {'Content-Type': 'application/json'}\n",
    "# query = {\"query\":{\"match_all\":{}}}\n",
    "# URL = 'http://'+es_user+':'+es_pwd+'@'+es_nodes+':'+es_port+'/'+target_index\n",
    "# r = requests.delete(URL, data=json.dumps(query), headers=headers) \n",
    "# print(r)"
   ]
  },
  {
   "cell_type": "code",
   "execution_count": null,
   "metadata": {},
   "outputs": [],
   "source": [
    "#########create index ##################################################################################################################################################################\n",
    "headers = {'Content-Type': 'application/json'}\n",
    "query_create= {\"settings\": { \"index.number_of_shards\": \"1\" }}\n",
    "URL = 'http://'+es_user+':'+es_pwd+'@'+es_nodes+':'+es_port+'/'+target_index\n",
    "r = requests.put(URL, data=json.dumps(query_create), headers=headers)\n",
    "print(r)"
   ]
  },
  {
   "cell_type": "code",
   "execution_count": null,
   "metadata": {},
   "outputs": [],
   "source": [
    "target_index_doc_type = target_index +'/'+ target_doc_type"
   ]
  },
  {
   "cell_type": "code",
   "execution_count": null,
   "metadata": {},
   "outputs": [],
   "source": [
    "target_index_doc_type"
   ]
  },
  {
   "cell_type": "code",
   "execution_count": null,
   "metadata": {},
   "outputs": [],
   "source": [
    "df_main=df_main.drop_duplicates()"
   ]
  },
  {
   "cell_type": "code",
   "execution_count": null,
   "metadata": {},
   "outputs": [],
   "source": [
    "df_main.columns"
   ]
  },
  {
   "cell_type": "code",
   "execution_count": null,
   "metadata": {},
   "outputs": [],
   "source": [
    "# from pyspark.sql.window import Window\n",
    "\n",
    "# w = Window.partitionBy(['policy_number','certificate_no','member_id'])\\\n",
    "# .orderBy([F.col('commit_timestamp').desc(),F.col('reference_num').desc()])\n",
    "# df_main = df_main.withColumn('row',F.row_number().over(w))\n",
    "# df_main = df_main.filter(F.col('row')==1).drop(df_main.row).drop_duplicates()"
   ]
  },
  {
   "cell_type": "code",
   "execution_count": null,
   "metadata": {},
   "outputs": [],
   "source": [
    "df_main=df_main.withColumn('policy_issuance_date',date_format(to_utc_timestamp(col('policy_issuance_date'),\"UTC\"),'yyyy-MM-dd'))\\\n",
    ".withColumn('pol_incept_date',date_format(to_utc_timestamp(col('pol_incept_date'),\"UTC\"),'yyyy-MM-dd'))\\\n",
    ".withColumn('pol_exp_date',date_format(to_utc_timestamp(col('pol_exp_date'),\"UTC\"),'yyyy-MM-dd'))\\\n",
    ".withColumn('birth_date',date_format(to_utc_timestamp(col('birth_date'),\"UTC\"),'yyyy-MM-dd'))\\\n",
    ".withColumn('previous_policy_exp_date',date_format(to_utc_timestamp(col('previous_policy_exp_date'),\"UTC\"),'yyyy-MM-dd'))\\\n",
    ".withColumn('commit_timestamp',from_unixtime(unix_timestamp(col('commit_timestamp')),'yyyy-MM-dd HH:mm:ss'))\\\n",
    ".withColumn('dep_date',date_format(to_utc_timestamp(col('dep_date'),\"UTC\"),'yyyy-MM-dd'))\\\n",
    ".withColumn('return_date',date_format(to_utc_timestamp(col('return_date'),\"UTC\"),'yyyy-MM-dd'))\\\n",
    ".withColumn('dat_od_expiry_date',date_format(to_utc_timestamp(col('dat_od_expiry_date'),\"UTC\"),'yyyy-MM-dd'))\\\n",
    ".withColumn('dat_od_start_date',from_unixtime(unix_timestamp(col('dat_od_start_date')),'yyyy-MM-dd HH:mm:ss'))\\\n",
    ".withColumn('dat_tp_expiry_date',date_format(to_utc_timestamp(col('dat_tp_expiry_date'),\"UTC\"),'yyyy-MM-dd'))\\\n",
    ".withColumn('dat_tp_start_date',date_format(to_utc_timestamp(col('dat_tp_start_date'),\"UTC\"),'yyyy-MM-dd'))\\\n",
    ".withColumn('dat_cover_note_date',date_format(to_utc_timestamp(col('dat_cover_note_date'),\"UTC\"),'yyyy-MM-dd'))"
   ]
  },
  {
   "cell_type": "code",
   "execution_count": null,
   "metadata": {},
   "outputs": [],
   "source": [
    "df_main=df_main.select('reference_num', 'txt_intermediary_cd', 'policy_number', 'certificate_no', 'pol_incept_date', 'pol_exp_date', 'source_system_customer_id', col('sum_insured').cast('String'), col('premiumamount').cast('String'), col('total_premium').cast('String'), 'irda_product_uin', 'product_cd', 'lob', 'renl_cert_no', 'policy_counter', 'business_type', 'txt_business_type', 'commit_timestamp', 'application_no', 'policy_issuance_date', 'rto_location', 'branch', 'prdr_branch_sub_cd', 'customer_gstin', 'policy_type', 'zone', 'previous_policy_no', 'previous_policy_exp_date', 'previous_policy_type', 'policy_effective_from', 'dc_unified_id', 'full_name', 'psnt_address_country', 'psnt_address_state', 'psnt_address_city', 'psnt_address_zip', 'psnt_address_line_1', 'psnt_address_line_2', 'psnt_address_line_3', 'gstin', 'passport', 'pan', 'cleansed_passport', 'cleansed_pan', 'birth_date', 'age', 'agent_name', 'txt_mobile', 'txt_telephone', 'txt_telephone1', 'txt_contact_phone', 'txt_emer_person_mobile_number', 'txt_policy_phone', 'txt_alt_mobile', 'agent_license_no', 'agent_mobile', 'pan_new', 'passport_new', 'address', 'txt_endorsement_wording', 'num_reference_number', col('num_endorsement_no').cast('String'), 'txt_customer_id', col('num_net_od_premium').cast('String'), col('num_net_tp_premium').cast('String'), 'dat_od_expiry_date', 'dat_od_start_date', 'dat_tp_expiry_date', 'dat_tp_start_date', 'num_covernote_no', 'dat_cover_note_date', 'txt_cover_note_hour', 'risk1', 'mot_policy_plan_code', 'mot_policy_plan', 'mot_policy_variant', 'engine_number', 'chassis_number', 'cc', 'yr_of_manf', 'type_of_body', 'registered_seating_capacity', 'trailer_idv', 'owner_occupation', 'totalidvy1', 'totalidvy2', 'totalidvy3', 'nonelectricalaccessoriesy1', 'nonelectricalaccessoriesy2', 'electricalaccessoriesidv', 'veh_idv', 'nonelectricalaccessoriesy3', 'alternatepolicynumber', 'is_cnglpg_kit_pip', 'cng_lpg_si_tot', 'side_car_value', 'roadside_assistance', 'noofclaimsdepreciationreimb', 'voluntary_deductible_amt', 'imposed_excess_amount', 'franchisee', 'compulsory_pa_ownerdriver', 'ncb_misdeclaration', 'vehicle_seg', 'veh_type', 'vehicle_use', 'variant', 'vehicle_age', 'vehcile_subclass', 'vehicle_class', 'policy_plan', 'make', 'model', 'appointeename', 'cum_discount_premium', 'cum_loading_premium', 'endt_discount_premium', 'endt_loading_premium', 'healthcheckup_limit', 'insured_dob', 'insured_name', 'insuredage', 'insuredname', 'loading_reason_amhi', 'member_id', 'memberid', 'nom_dob_hlt', 'nomi_rel_hlt', 'nominee_age', 'nomineename_hlt', 'outpatient_treatmentlimit', 'preexisting_disease', 'relationshipappnom', 'dep_date', 'dob', 'id_no', 'id_type', 'insured_first_name', 'insured_last_name', 'insured_middle_name', 'nominee_name', 'rating_zone', 'relationship', 'return_date', 'travel_duration')"
   ]
  },
  {
   "cell_type": "code",
   "execution_count": null,
   "metadata": {},
   "outputs": [],
   "source": [
    "df_main=df_main.withColumnRenamed('policy_number','policy_no')"
   ]
  },
  {
   "cell_type": "code",
   "execution_count": null,
   "metadata": {},
   "outputs": [],
   "source": [
    "df_main=df_main.withColumn('certificate_no',when((col('certificate_no').isin('0','0.0','/00000','000000','00000000'))|(col('certificate_no').isNull()),lit('00000000')).otherwise(col('certificate_no')))"
   ]
  },
  {
   "cell_type": "code",
   "execution_count": null,
   "metadata": {},
   "outputs": [],
   "source": [
    "try:\n",
    "     df_main.write.format('org.elasticsearch.spark.sql').mode('append').option('es.index.auto.create', 'true').option('es.nodes' , es_nodes).option('es.port', es_port).option('es.resource', target_index_doc_type).save() \n",
    "except Exception as e :\n",
    "    x = e\n",
    "else: \n",
    "    x = 200 # success\n",
    "print(x)"
   ]
  },
  {
   "cell_type": "code",
   "execution_count": null,
   "metadata": {},
   "outputs": [],
   "source": [
    "table_name='policy_additional_details'\n",
    "source='policy_additional_details'\n",
    "conn_prod = psycopg2.connect(host=prod_host, port=prod_port, user=user_prod, password=pwd_prod, dbname=prod_dbname)\n",
    "conn_to=conn_prod"
   ]
  },
  {
   "cell_type": "code",
   "execution_count": null,
   "metadata": {},
   "outputs": [],
   "source": [
    "if  x == 200:\n",
    "    update_progress(table_name,source,time_filter,records,start_time,starttime,'Success')\n",
    "    print('SUCCESS')\n",
    "else:\n",
    "    update_progress(table_name,source,time_filter,'0',start_time,starttime,'Failed')\n",
    "    print('FAILED')"
   ]
  },
  {
   "cell_type": "code",
   "execution_count": 79,
   "metadata": {},
   "outputs": [
    {
     "data": {
      "application/vnd.jupyter.widget-view+json": {
       "model_id": "",
       "version_major": 2,
       "version_minor": 0
      },
      "text/plain": [
       "FloatProgress(value=0.0, bar_style='info', description='Progress:', layout=Layout(height='25px', width='50%'),…"
      ]
     },
     "metadata": {},
     "output_type": "display_data"
    }
   ],
   "source": [
    "target_index='get_spa_cover_details_2024-03-20'"
   ]
  },
  {
   "cell_type": "code",
   "execution_count": 80,
   "metadata": {},
   "outputs": [
    {
     "data": {
      "application/vnd.jupyter.widget-view+json": {
       "model_id": "",
       "version_major": 2,
       "version_minor": 0
      },
      "text/plain": [
       "FloatProgress(value=0.0, bar_style='info', description='Progress:', layout=Layout(height='25px', width='50%'),…"
      ]
     },
     "metadata": {},
     "output_type": "display_data"
    },
    {
     "name": "stdout",
     "output_type": "stream",
     "text": [
      "'get_spa_cover_details_2024-03-20'"
     ]
    }
   ],
   "source": [
    "target_index"
   ]
  },
  {
   "cell_type": "code",
   "execution_count": 81,
   "metadata": {},
   "outputs": [
    {
     "data": {
      "application/vnd.jupyter.widget-view+json": {
       "model_id": "",
       "version_major": 2,
       "version_minor": 0
      },
      "text/plain": [
       "FloatProgress(value=0.0, bar_style='info', description='Progress:', layout=Layout(height='25px', width='50%'),…"
      ]
     },
     "metadata": {},
     "output_type": "display_data"
    },
    {
     "name": "stdout",
     "output_type": "stream",
     "text": [
      "<Response [200]>"
     ]
    }
   ],
   "source": [
    "# to add alias to target index - added on 200819\n",
    "headers = {'Content-Type': 'application/json'}\n",
    "query_alias= {\"actions\" : [{ \"add\" : { \"index\" : target_index, \"alias\" : \"get_spa_cover_details\" }}]}\n",
    "\n",
    "\n",
    "URL = 'http://'+es_user+':'+es_pwd+'@'+es_nodes+':'+es_port+'/_aliases'\n",
    "r = requests.post(URL, data=json.dumps(query_alias), headers=headers)\n",
    "r"
   ]
  },
  {
   "cell_type": "code",
   "execution_count": null,
   "metadata": {},
   "outputs": [],
   "source": []
  },
  {
   "cell_type": "raw",
   "metadata": {},
   "source": [
    "COVER"
   ]
  },
  {
   "cell_type": "markdown",
   "metadata": {},
   "source": [
    "MOT&HLT"
   ]
  },
  {
   "cell_type": "code",
   "execution_count": null,
   "metadata": {
    "scrolled": true
   },
   "outputs": [],
   "source": [
    "pol.columns\n",
    "\n",
    "pol=pol.filter(~col('lob').isin('LTA'))"
   ]
  },
  {
   "cell_type": "code",
   "execution_count": null,
   "metadata": {
    "scrolled": true
   },
   "outputs": [],
   "source": [
    "pol_cover=pol.selectExpr('policy_number as policy_no','certificate_no', 'reference_num','commit_timestamp','lob')"
   ]
  },
  {
   "cell_type": "code",
   "execution_count": null,
   "metadata": {},
   "outputs": [],
   "source": [
    "pol_cover=pol_cover.withColumn('certificate_no',when((col('certificate_no').isin('0','0.0','/00000','000000','00000000'))|(col('certificate_no').isNull()),lit('00000000')).otherwise(col('certificate_no')))\\\n",
    ".withColumn('policy_no',lpad(col('policy_no'),10,'0'))"
   ]
  },
  {
   "cell_type": "code",
   "execution_count": null,
   "metadata": {},
   "outputs": [],
   "source": [
    "from pyspark.sql.window import Window\n",
    "\n",
    "pol_cover = pol_cover.withColumn(\"rn\", F.row_number()\n",
    "        .over(Window.partitionBy('policy_no','certificate_no')\n",
    "        .orderBy(F.col(\"commit_timestamp\").desc(),F.col(\"reference_num\").desc())))\n",
    "\n",
    "pol_cover = pol_cover.filter(F.col(\"rn\") == 1).drop(\"rn\").drop(\"primary_key\")"
   ]
  },
  {
   "cell_type": "code",
   "execution_count": null,
   "metadata": {},
   "outputs": [],
   "source": [
    "\n",
    "gscPythonOptions = {\n",
    "\"url\": \"jdbc:postgresql://10.35.12.194:5432/gpadmin\",\n",
    "\"user\": \"gpspark\",\n",
    "\"password\": \"spark@456\",\n",
    "\"server.port\": \"1151-1170\",\n",
    "\"dbschema\":\"public\",\n",
    "\"dbtable\": \"policy_gc_covers_details\"}\n",
    "cover = sqlContext.read.format(\"greenplum\").options(**gscPythonOptions).load()\\\n",
    ".select('reference_num','cover_group','si','premium','loading_premium','discount_premium','total_premium',\n",
    "'diff_si','cum_total_premium','cum_loading_premium','cum_discount_premium','risk_detail_serial')\\\n",
    ".filter(col('risk_detail_serial')==0).drop_duplicates()"
   ]
  },
  {
   "cell_type": "code",
   "execution_count": null,
   "metadata": {},
   "outputs": [],
   "source": [
    "df_main=pol_cover.join(cover,'reference_num','inner')"
   ]
  },
  {
   "cell_type": "code",
   "execution_count": 11,
   "metadata": {},
   "outputs": [
    {
     "data": {
      "application/vnd.jupyter.widget-view+json": {
       "model_id": "",
       "version_major": 2,
       "version_minor": 0
      },
      "text/plain": [
       "FloatProgress(value=0.0, bar_style='info', description='Progress:', layout=Layout(height='25px', width='50%'),…"
      ]
     },
     "metadata": {},
     "output_type": "display_data"
    }
   ],
   "source": [
    "\n",
    "gscPythonOptions = {\n",
    "\"url\": \"jdbc:postgresql://10.35.12.194:5432/gpadmin\",\n",
    "\"user\": \"gpspark\",\n",
    "\"password\": \"spark@456\",\n",
    "\"server.port\": \"1151-1170\",\n",
    "\"dbschema\":\"customermart\",\n",
    "\"dbtable\": \"cover_detail_lta_1\"}\n",
    "cover_lta = sqlContext.read.format(\"greenplum\").options(**gscPythonOptions).load()\\\n",
    ".filter(col('risk_detail_serial')==0).drop_duplicates()"
   ]
  },
  {
   "cell_type": "code",
   "execution_count": 12,
   "metadata": {},
   "outputs": [
    {
     "data": {
      "application/vnd.jupyter.widget-view+json": {
       "model_id": "",
       "version_major": 2,
       "version_minor": 0
      },
      "text/plain": [
       "FloatProgress(value=0.0, bar_style='info', description='Progress:', layout=Layout(height='25px', width='50%'),…"
      ]
     },
     "metadata": {},
     "output_type": "display_data"
    },
    {
     "name": "stdout",
     "output_type": "stream",
     "text": [
      "64004615"
     ]
    }
   ],
   "source": [
    "cover_lta.persist()\n",
    "cover_lta.count()"
   ]
  },
  {
   "cell_type": "code",
   "execution_count": 38,
   "metadata": {},
   "outputs": [
    {
     "data": {
      "application/vnd.jupyter.widget-view+json": {
       "model_id": "",
       "version_major": 2,
       "version_minor": 0
      },
      "text/plain": [
       "FloatProgress(value=0.0, bar_style='info', description='Progress:', layout=Layout(height='25px', width='50%'),…"
      ]
     },
     "metadata": {},
     "output_type": "display_data"
    }
   ],
   "source": [
    "df_main=cover_lta.withColumnRenamed('policy_number','policy_no')\n",
    "\n",
    "df_main=df_main.withColumn('certificate_no',when((col('certificate_no').isin('0','0.0','/00000','000000','00000000'))|(col('certificate_no').isNull()),lit('00000000')).otherwise(col('certificate_no')))"
   ]
  },
  {
   "cell_type": "code",
   "execution_count": 32,
   "metadata": {},
   "outputs": [
    {
     "data": {
      "application/vnd.jupyter.widget-view+json": {
       "model_id": "",
       "version_major": 2,
       "version_minor": 0
      },
      "text/plain": [
       "FloatProgress(value=0.0, bar_style='info', description='Progress:', layout=Layout(height='25px', width='50%'),…"
      ]
     },
     "metadata": {},
     "output_type": "display_data"
    }
   ],
   "source": [
    "# from pyspark.sql.window import Window\n",
    "\n",
    "# df_main = df_main.withColumn(\"rn\", F.row_number()\n",
    "#         .over(Window.partitionBy('policy_no','certificate_no')\n",
    "#         .orderBy(F.col(\"commit_timestamp\").desc(),F.col(\"reference_num\").desc())))\n",
    "\n",
    "# df_main = df_main.filter(F.col(\"rn\") == 1).drop(\"rn\").drop(\"primary_key\")"
   ]
  },
  {
   "cell_type": "code",
   "execution_count": 39,
   "metadata": {},
   "outputs": [
    {
     "data": {
      "application/vnd.jupyter.widget-view+json": {
       "model_id": "",
       "version_major": 2,
       "version_minor": 0
      },
      "text/plain": [
       "FloatProgress(value=0.0, bar_style='info', description='Progress:', layout=Layout(height='25px', width='50%'),…"
      ]
     },
     "metadata": {},
     "output_type": "display_data"
    }
   ],
   "source": [
    "report_date = datetime.date.today()- datetime.timedelta(days=2)\n",
    "report_date_1=report_date\n",
    "report_date_str = str(report_date)"
   ]
  },
  {
   "cell_type": "code",
   "execution_count": 40,
   "metadata": {},
   "outputs": [
    {
     "data": {
      "application/vnd.jupyter.widget-view+json": {
       "model_id": "",
       "version_major": 2,
       "version_minor": 0
      },
      "text/plain": [
       "FloatProgress(value=0.0, bar_style='info', description='Progress:', layout=Layout(height='25px', width='50%'),…"
      ]
     },
     "metadata": {},
     "output_type": "display_data"
    },
    {
     "name": "stdout",
     "output_type": "stream",
     "text": [
      "'2024-03-19'"
     ]
    }
   ],
   "source": [
    "report_date_str"
   ]
  },
  {
   "cell_type": "code",
   "execution_count": 41,
   "metadata": {},
   "outputs": [
    {
     "data": {
      "application/vnd.jupyter.widget-view+json": {
       "model_id": "",
       "version_major": 2,
       "version_minor": 0
      },
      "text/plain": [
       "FloatProgress(value=0.0, bar_style='info', description='Progress:', layout=Layout(height='25px', width='50%'),…"
      ]
     },
     "metadata": {},
     "output_type": "display_data"
    },
    {
     "name": "stdout",
     "output_type": "stream",
     "text": [
      "get_spa_cover_details_2024-03-19"
     ]
    }
   ],
   "source": [
    "target_index=f'get_spa_cover_details_{report_date_str}'\n",
    "print(target_index)"
   ]
  },
  {
   "cell_type": "code",
   "execution_count": 42,
   "metadata": {},
   "outputs": [
    {
     "data": {
      "application/vnd.jupyter.widget-view+json": {
       "model_id": "",
       "version_major": 2,
       "version_minor": 0
      },
      "text/plain": [
       "FloatProgress(value=0.0, bar_style='info', description='Progress:', layout=Layout(height='25px', width='50%'),…"
      ]
     },
     "metadata": {},
     "output_type": "display_data"
    }
   ],
   "source": [
    "import json, pprint, requests\n",
    "es_nodes = '10.35.12.212'\n",
    "es_port = '9200'\n",
    "es_user = 'elastic'\n",
    "es_pwd = 'bEiilauM3es'\n",
    "\n",
    "######target_index = 'actuarial_premium_risk_tables'----previous name...delete later\n",
    "\n",
    "#alias_name = 'nepuepr_uat_3'\n",
    "target_doc_type = f'get_spa_cover_details_{report_date_str}'\n",
    "#########delete index if already exists########################################################################################################################################################################"
   ]
  },
  {
   "cell_type": "code",
   "execution_count": null,
   "metadata": {},
   "outputs": [],
   "source": []
  },
  {
   "cell_type": "code",
   "execution_count": null,
   "metadata": {},
   "outputs": [],
   "source": [
    "# df_main=pol_cover.select('reference_num').join(cover,'reference_num','inner')"
   ]
  },
  {
   "cell_type": "code",
   "execution_count": null,
   "metadata": {
    "scrolled": true
   },
   "outputs": [],
   "source": [
    "# df_main=cover.withColumn('primary_key', concat_ws('', trim(col('policy_no')),trim(col('reference_num')),\n",
    "#                                                        trim(col('certificate_no')))).dropDuplicates()"
   ]
  },
  {
   "cell_type": "code",
   "execution_count": null,
   "metadata": {},
   "outputs": [],
   "source": [
    "# from pyspark.sql.window import Window\n",
    "\n",
    "# df_main = df_main.withColumn(\"rn\", F.row_number()\n",
    "#         .over(Window.partitionBy(\"primary_key\")\n",
    "#         .orderBy(F.col(\"commit_timestamp\").desc())))\n",
    "\n",
    "# df_main = df_main.filter(F.col(\"rn\") == 1).drop(\"rn\").drop(\"primary_key\")"
   ]
  },
  {
   "cell_type": "code",
   "execution_count": null,
   "metadata": {},
   "outputs": [],
   "source": [
    "df_main.persist()\n",
    "df_main.count()"
   ]
  },
  {
   "cell_type": "code",
   "execution_count": null,
   "metadata": {},
   "outputs": [],
   "source": [
    "# df_main=df_main.withColumn('report_date',current_date())"
   ]
  },
  {
   "cell_type": "code",
   "execution_count": null,
   "metadata": {},
   "outputs": [],
   "source": [
    "df_main.filter(col('policy_no')=='0237917124').show()"
   ]
  },
  {
   "cell_type": "code",
   "execution_count": 72,
   "metadata": {},
   "outputs": [
    {
     "data": {
      "application/vnd.jupyter.widget-view+json": {
       "model_id": "",
       "version_major": 2,
       "version_minor": 0
      },
      "text/plain": [
       "FloatProgress(value=0.0, bar_style='info', description='Progress:', layout=Layout(height='25px', width='50%'),…"
      ]
     },
     "metadata": {},
     "output_type": "display_data"
    },
    {
     "name": "stdout",
     "output_type": "stream",
     "text": [
      "get_spa_cover_details"
     ]
    }
   ],
   "source": [
    "target_index='get_spa_cover_details'\n",
    "print(target_index)"
   ]
  },
  {
   "cell_type": "code",
   "execution_count": 73,
   "metadata": {},
   "outputs": [
    {
     "data": {
      "application/vnd.jupyter.widget-view+json": {
       "model_id": "",
       "version_major": 2,
       "version_minor": 0
      },
      "text/plain": [
       "FloatProgress(value=0.0, bar_style='info', description='Progress:', layout=Layout(height='25px', width='50%'),…"
      ]
     },
     "metadata": {},
     "output_type": "display_data"
    }
   ],
   "source": [
    "import json, pprint, requests\n",
    "es_nodes = '10.35.12.212'\n",
    "es_port = '9200'\n",
    "es_user = 'elastic'\n",
    "es_pwd = 'bEiilauM3es'\n",
    "\n",
    "######target_index = 'actuarial_premium_risk_tables'----previous name...delete later\n",
    "\n",
    "#alias_name = 'nepuepr_uat_3'\n",
    "target_doc_type = 'get_spa_cover_details'\n",
    "#########delete index if already exists########################################################################################################################################################################"
   ]
  },
  {
   "cell_type": "code",
   "execution_count": 74,
   "metadata": {},
   "outputs": [
    {
     "data": {
      "application/vnd.jupyter.widget-view+json": {
       "model_id": "",
       "version_major": 2,
       "version_minor": 0
      },
      "text/plain": [
       "FloatProgress(value=0.0, bar_style='info', description='Progress:', layout=Layout(height='25px', width='50%'),…"
      ]
     },
     "metadata": {},
     "output_type": "display_data"
    },
    {
     "name": "stdout",
     "output_type": "stream",
     "text": [
      "<Response [200]>"
     ]
    }
   ],
   "source": [
    "#########delete index ###############################################\n",
    "headers = {'Content-Type': 'application/json'}\n",
    "query = {\"query\":{\"match_all\":{}}}\n",
    "URL = 'http://'+es_user+':'+es_pwd+'@'+es_nodes+':'+es_port+'/'+target_index\n",
    "r = requests.delete(URL, data=json.dumps(query), headers=headers) \n",
    "print(r)"
   ]
  },
  {
   "cell_type": "code",
   "execution_count": 71,
   "metadata": {},
   "outputs": [
    {
     "data": {
      "application/vnd.jupyter.widget-view+json": {
       "model_id": "",
       "version_major": 2,
       "version_minor": 0
      },
      "text/plain": [
       "FloatProgress(value=0.0, bar_style='info', description='Progress:', layout=Layout(height='25px', width='50%'),…"
      ]
     },
     "metadata": {},
     "output_type": "display_data"
    },
    {
     "name": "stdout",
     "output_type": "stream",
     "text": [
      "<Response [200]>"
     ]
    }
   ],
   "source": [
    "#########create index ##################################################################################################################################################################\n",
    "headers = {'Content-Type': 'application/json'}\n",
    "query_create= {\"settings\": { \"index.number_of_shards\": \"1\" }}\n",
    "URL = 'http://'+es_user+':'+es_pwd+'@'+es_nodes+':'+es_port+'/'+target_index\n",
    "r = requests.put(URL, data=json.dumps(query_create), headers=headers)\n",
    "print(r)"
   ]
  },
  {
   "cell_type": "code",
   "execution_count": 45,
   "metadata": {},
   "outputs": [
    {
     "data": {
      "application/vnd.jupyter.widget-view+json": {
       "model_id": "",
       "version_major": 2,
       "version_minor": 0
      },
      "text/plain": [
       "FloatProgress(value=0.0, bar_style='info', description='Progress:', layout=Layout(height='25px', width='50%'),…"
      ]
     },
     "metadata": {},
     "output_type": "display_data"
    }
   ],
   "source": [
    "target_index_doc_type = target_index +'/'+ target_doc_type"
   ]
  },
  {
   "cell_type": "code",
   "execution_count": 46,
   "metadata": {},
   "outputs": [
    {
     "data": {
      "application/vnd.jupyter.widget-view+json": {
       "model_id": "",
       "version_major": 2,
       "version_minor": 0
      },
      "text/plain": [
       "FloatProgress(value=0.0, bar_style='info', description='Progress:', layout=Layout(height='25px', width='50%'),…"
      ]
     },
     "metadata": {},
     "output_type": "display_data"
    },
    {
     "name": "stdout",
     "output_type": "stream",
     "text": [
      "'get_spa_cover_details_2024-03-19/get_spa_cover_details_2024-03-19'"
     ]
    }
   ],
   "source": [
    "target_index_doc_type"
   ]
  },
  {
   "cell_type": "code",
   "execution_count": 49,
   "metadata": {},
   "outputs": [
    {
     "data": {
      "application/vnd.jupyter.widget-view+json": {
       "model_id": "",
       "version_major": 2,
       "version_minor": 0
      },
      "text/plain": [
       "FloatProgress(value=0.0, bar_style='info', description='Progress:', layout=Layout(height='25px', width='50%'),…"
      ]
     },
     "metadata": {},
     "output_type": "display_data"
    }
   ],
   "source": [
    "df_main=df_main.drop_duplicates()"
   ]
  },
  {
   "cell_type": "code",
   "execution_count": 50,
   "metadata": {},
   "outputs": [
    {
     "data": {
      "application/vnd.jupyter.widget-view+json": {
       "model_id": "",
       "version_major": 2,
       "version_minor": 0
      },
      "text/plain": [
       "FloatProgress(value=0.0, bar_style='info', description='Progress:', layout=Layout(height='25px', width='50%'),…"
      ]
     },
     "metadata": {},
     "output_type": "display_data"
    }
   ],
   "source": [
    "df_main=df_main.withColumn('commit_timestamp',from_unixtime(unix_timestamp(col('commit_timestamp')),'yyyy-MM-dd HH:mm:ss'))"
   ]
  },
  {
   "cell_type": "code",
   "execution_count": 51,
   "metadata": {},
   "outputs": [
    {
     "data": {
      "application/vnd.jupyter.widget-view+json": {
       "model_id": "",
       "version_major": 2,
       "version_minor": 0
      },
      "text/plain": [
       "FloatProgress(value=0.0, bar_style='info', description='Progress:', layout=Layout(height='25px', width='50%'),…"
      ]
     },
     "metadata": {},
     "output_type": "display_data"
    },
    {
     "name": "stdout",
     "output_type": "stream",
     "text": [
      "DataFrame[policy_no: string, certificate_no: string, reference_num: bigint, commit_timestamp: string, lob: string, cover_group: string, currency: string, si: decimal(32,2), premium: decimal(32,2), loading_premium: decimal(32,2), discount_premium: decimal(32,2), total_premium: decimal(32,2), diff_si: decimal(32,2), cum_total_premium: decimal(32,2), cum_loading_premium: decimal(32,2), cum_discount_premium: decimal(32,2)]"
     ]
    }
   ],
   "source": [
    "df_main.select('policy_no', 'certificate_no', 'reference_num', 'commit_timestamp', 'lob', 'cover_group', 'currency', 'si', 'premium', 'loading_premium', 'discount_premium', 'total_premium', 'diff_si', 'cum_total_premium', 'cum_loading_premium', 'cum_discount_premium')"
   ]
  },
  {
   "cell_type": "code",
   "execution_count": 52,
   "metadata": {},
   "outputs": [
    {
     "data": {
      "application/vnd.jupyter.widget-view+json": {
       "model_id": "",
       "version_major": 2,
       "version_minor": 0
      },
      "text/plain": [
       "FloatProgress(value=0.0, bar_style='info', description='Progress:', layout=Layout(height='25px', width='50%'),…"
      ]
     },
     "metadata": {},
     "output_type": "display_data"
    }
   ],
   "source": [
    "df_main=df_main.select('reference_num', 'policy_no', 'certificate_no', 'commit_timestamp', 'lob', 'cover_group','currency', col('si').cast('string'), col('premium').cast('string'),\n",
    "               col('loading_premium').cast('string'), col('discount_premium').cast('string'), col('total_premium').cast('string'), \n",
    "               col('diff_si').cast('string'), col('cum_total_premium').cast('string'), col('cum_loading_premium').cast('string'), col('cum_discount_premium').cast('string'),'risk_detail_serial')"
   ]
  },
  {
   "cell_type": "code",
   "execution_count": 53,
   "metadata": {},
   "outputs": [
    {
     "data": {
      "application/vnd.jupyter.widget-view+json": {
       "model_id": "",
       "version_major": 2,
       "version_minor": 0
      },
      "text/plain": [
       "FloatProgress(value=0.0, bar_style='info', description='Progress:', layout=Layout(height='25px', width='50%'),…"
      ]
     },
     "metadata": {},
     "output_type": "display_data"
    },
    {
     "name": "stdout",
     "output_type": "stream",
     "text": [
      "200"
     ]
    }
   ],
   "source": [
    "try:\n",
    "     df_main.write.format('org.elasticsearch.spark.sql').mode('append').option('es.index.auto.create', 'true').option('es.nodes' , es_nodes).option('es.port', es_port).option('es.resource', target_index_doc_type).save() \n",
    "except Exception as e :\n",
    "    x = e\n",
    "else: \n",
    "    x = 200 # success\n",
    "print(x)"
   ]
  },
  {
   "cell_type": "code",
   "execution_count": null,
   "metadata": {},
   "outputs": [],
   "source": [
    "target_index='get_spa_cover_details_alias'"
   ]
  },
  {
   "cell_type": "code",
   "execution_count": null,
   "metadata": {},
   "outputs": [],
   "source": [
    "# to add alias to target index - added on 200819\n",
    "headers = {'Content-Type': 'application/json'}\n",
    "query_alias= {\"actions\" : [{ \"add\" : { \"index\" : target_index, \"alias\" : \"get_spa_cover_details\" }}]}\n",
    "\n",
    "\n",
    "URL = 'http://'+es_user+':'+es_pwd+'@'+es_nodes+':'+es_port+'/_aliases'\n",
    "r = requests.post(URL, data=json.dumps(query_alias), headers=headers)\n",
    "r"
   ]
  },
  {
   "cell_type": "code",
   "execution_count": null,
   "metadata": {},
   "outputs": [],
   "source": [
    "df_main.columns"
   ]
  },
  {
   "cell_type": "code",
   "execution_count": null,
   "metadata": {},
   "outputs": [],
   "source": []
  },
  {
   "cell_type": "code",
   "execution_count": null,
   "metadata": {},
   "outputs": [],
   "source": []
  },
  {
   "cell_type": "code",
   "execution_count": null,
   "metadata": {},
   "outputs": [],
   "source": []
  },
  {
   "cell_type": "code",
   "execution_count": 82,
   "metadata": {},
   "outputs": [
    {
     "data": {
      "application/vnd.jupyter.widget-view+json": {
       "model_id": "",
       "version_major": 2,
       "version_minor": 0
      },
      "text/plain": [
       "FloatProgress(value=0.0, bar_style='info', description='Progress:', layout=Layout(height='25px', width='50%'),…"
      ]
     },
     "metadata": {},
     "output_type": "display_data"
    }
   ],
   "source": [
    "spark.stop()"
   ]
  },
  {
   "cell_type": "code",
   "execution_count": null,
   "metadata": {},
   "outputs": [],
   "source": []
  }
 ],
 "metadata": {
  "kernelspec": {
   "display_name": "PySpark",
   "language": "",
   "name": "pysparkkernel"
  },
  "language_info": {
   "codemirror_mode": {
    "name": "python",
    "version": 3
   },
   "mimetype": "text/x-python",
   "name": "pyspark",
   "pygments_lexer": "python3"
  }
 },
 "nbformat": 4,
 "nbformat_minor": 2
}
