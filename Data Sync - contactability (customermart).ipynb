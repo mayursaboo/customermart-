{
 "cells": [
  {
   "cell_type": "code",
   "execution_count": 1,
   "metadata": {},
   "outputs": [
    {
     "name": "stdout",
     "output_type": "stream",
     "text": [
      "Starting Spark application\n"
     ]
    },
    {
     "data": {
      "text/html": [
       "<table>\n",
       "<tr><th>ID</th><th>YARN Application ID</th><th>Kind</th><th>State</th><th>Spark UI</th><th>Driver log</th><th>Current session?</th></tr><tr><td>17398</td><td>None</td><td>pyspark</td><td>idle</td><td></td><td></td><td>✔</td></tr></table>"
      ],
      "text/plain": [
       "<IPython.core.display.HTML object>"
      ]
     },
     "metadata": {},
     "output_type": "display_data"
    },
    {
     "data": {
      "application/vnd.jupyter.widget-view+json": {
       "model_id": "",
       "version_major": 2,
       "version_minor": 0
      },
      "text/plain": [
       "FloatProgress(value=0.0, bar_style='info', description='Progress:', layout=Layout(height='25px', width='50%'),…"
      ]
     },
     "metadata": {},
     "output_type": "display_data"
    },
    {
     "name": "stdout",
     "output_type": "stream",
     "text": [
      "SparkSession available as 'spark'.\n"
     ]
    },
    {
     "data": {
      "application/vnd.jupyter.widget-view+json": {
       "model_id": "",
       "version_major": 2,
       "version_minor": 0
      },
      "text/plain": [
       "FloatProgress(value=0.0, bar_style='info', description='Progress:', layout=Layout(height='25px', width='50%'),…"
      ]
     },
     "metadata": {},
     "output_type": "display_data"
    }
   ],
   "source": [
    "import sys\n",
    "\n",
    "\n",
    "no_of_cpu =8\n",
    "max_cores =8\n",
    "executor_mem = '56g'\n",
    "\n",
    "\n",
    "Job_Name = 'Mayur : reconcilation contactibility cust_id'\n",
    "\n",
    "from pyspark.mllib.stat import Statistics\n",
    "from pyspark.sql.functions import asc,lit\n",
    "#warnings.filterwarnings('error')\n",
    "import pyspark\n",
    "from datetime import datetime,timedelta\n",
    "from pyspark.sql import SQLContext\n",
    "from pyspark import SparkContext, SparkConf\n",
    "from pyspark.sql import functions as F\n",
    "\n",
    "conf = pyspark.SparkConf()\n",
    "#import numpy\n",
    "import calendar\n",
    "#import pandas as pd\n",
    "#import simplejson as json\n",
    "#import pandas as pd\n",
    "import numpy as np\n",
    "import datetime\n",
    "from pyspark.sql.functions import *\n",
    "from pyspark.sql.types import DateType\n",
    "from pyspark.sql.functions import lit\n",
    "import simplejson as json\n",
    "import json, pprint, requests\n",
    "\n",
    "# mesos_ip = 'mesos://10.35.12.205:5050'\n",
    "mesos_ip = 'mesos://10.33.195.18:5050'\n",
    "# mesos_ip = 'mesos://10.33.195.43:5050'\n",
    "spark.stop() ############# NEED TO COMMENT THIS SPARK.STOP WHEN RUNNING THROUGH SHELL ###############################\n",
    "conf.setMaster(mesos_ip)\n",
    "\n",
    "conf.set('spark.executor.cores',no_of_cpu) ### change 1\n",
    "#conf.set('spark.memory.fraction','.2')\n",
    "conf.set('spark.executor.memory',executor_mem) \n",
    "conf.set('spark.es.scroll.size','10000')\n",
    "conf.set('spark.network.timeout','120m')\n",
    "conf.set('spark.sql.crossJoin.enabled', 'true')\n",
    "\n",
    "# gpdb_env = 'prod'\n",
    "\n",
    "# if gpdb_env=='uat':\n",
    "#     gpdb_url = \"jdbc:postgresql://10.33.195.103:5432/gpadmin\"\n",
    "#     gpdb_user = \"gpspark\"\n",
    "#     gpdb_pass = \"spark@456\"\n",
    "# else:\n",
    "#     gpdb_url = \"jdbc:postgresql://10.35.12.194:5432/gpadmin\"\n",
    "#     gpdb_user = \"gpspark\"\n",
    "#     gpdb_pass = \"spark@456\"\n",
    "\n",
    "\n",
    "\n",
    "conf.set('spark.executor.heartbeatInterval','120s')\n",
    "conf.set(\"spark.driver.cores\",\"4\")\n",
    "conf.set(\"spark.driver.extraJavaOptions\",\"-Xmx16g -Xms16g\")\n",
    "\n",
    "#conf.set(\"spark.shuffle.blockTransferService\", \"nio\"); \n",
    "conf.set(\"spark.files.overwrite\",\"true\");\n",
    "conf.set(\"spark.kryoserializer.buffer\", \"70\"); \n",
    "conf.set(\"spark.driver.extraJavaOptions\", \"-XX:+UseG1GC\");\n",
    "conf.set(\"spark.executor.extraJavaOptions\", \"-XX:+UseG1GC\");\n",
    "conf.set(\"spark.serializer\", \"org.apache.spark.serializer.KryoSerializer\"); \n",
    "conf.set(\"spark.broadcast.compress\", \"true\"); \n",
    "conf.set(\"spark.shuffle.compress\", \"true\"); \n",
    "conf.set(\"spark.shuffle.spill.compress\", \"true\");\n",
    "conf.set(\"spark.app.name\", Job_Name)\n",
    "#conf.set(\"spark.io.compression.codec\",\"org.apache.spark.io.LZ4CompressionCodec\");\n",
    "#conf.set(\"spark.sql.inMemoryColumnarStorage.compressed\", \"true\"); \n",
    "from pyspark.sql.functions import broadcast\n",
    "\n",
    "conf.set('spark.driver.memory','20g') ### change 2\n",
    "conf.set('spark.cores.max',max_cores) ### change 3\n",
    "#23-11-2020\n",
    "conf.set('spark.memory.offHeap.enabled','true')\n",
    "conf.set('spark.memory.offHeap.size','16g')\n",
    "\n",
    "conf.set('spark.sql.shuffle.partitions','80')\n",
    "#conf.set('spark.sql.crossJoin.enabled', 'true')\n",
    "# conf.set('es.nodes',es_nodes)\n",
    "# conf.set('es.port',es_port)\n",
    "# conf.set('es.nodes.wan.only','true')\n",
    "# conf.set(\"spark.sql.autoBroadcastJoinThreshold\",-1)\n",
    "conf.set(\"spark.sql.broadcastTimeout\",9000)\n",
    "# config spark.scroll.keepalive(\"10m\")\n",
    "conf.set(\"spark.scroll.keepalive\",\"120m\")\n",
    "#conf.set('spark.es.net.http.auth.user','Spark')\n",
    "#conf.set('spark.es.net.http.auth.pass','Jarkpet1Sap3')\n",
    "#conf.set('spark.num.executors','4')\n",
    "\n",
    "# conf.set('spark.es.net.http.auth.user', es_user)\n",
    "# conf.set('spark.es.net.http.auth.pass', es_pwd)\n",
    "\n",
    "conf.set('spark.es.mapping.date.rich','false')\n",
    "spark = pyspark.SparkContext(conf=conf)\n",
    "sqlContext = SQLContext(spark)\n",
    "\n",
    "\n",
    "# Load Data into PySpark DataFrames\n",
    "# Prodcom Data Frame\n",
    "import json, pprint, requests\n",
    "import pyspark.sql.functions as sf\n",
    "from pyspark.sql.types import *\n",
    "\n",
    "\n",
    "from pyspark.sql.window import *\n",
    "from pyspark.sql.functions import row_number"
   ]
  },
  {
   "cell_type": "code",
   "execution_count": 2,
   "metadata": {},
   "outputs": [
    {
     "data": {
      "application/vnd.jupyter.widget-view+json": {
       "model_id": "",
       "version_major": 2,
       "version_minor": 0
      },
      "text/plain": [
       "FloatProgress(value=0.0, bar_style='info', description='Progress:', layout=Layout(height='25px', width='50%'),…"
      ]
     },
     "metadata": {},
     "output_type": "display_data"
    },
    {
     "name": "stdout",
     "output_type": "stream",
     "text": [
      "'2024-01-28 14:37:28.310231'"
     ]
    }
   ],
   "source": [
    "from pyspark.sql.functions import hash,col,regexp_replace,collect_list,concat_ws,initcap,count\n",
    "import numpy as np\n",
    "import datetime\n",
    "from pyspark.sql.functions import *\n",
    "from pyspark.sql.types import DateType\n",
    "import psycopg2\n",
    "import time\n",
    "from time import gmtime, strftime\n",
    "import pytz\n",
    "starttime = time.time()\n",
    "start_time = datetime.datetime.now(pytz.timezone('Asia/Kolkata')).strftime(\"%Y-%m-%d %H:%M:%S.%f\")\n",
    "start_time"
   ]
  },
  {
   "cell_type": "code",
   "execution_count": 3,
   "metadata": {},
   "outputs": [
    {
     "data": {
      "application/vnd.jupyter.widget-view+json": {
       "model_id": "",
       "version_major": 2,
       "version_minor": 0
      },
      "text/plain": [
       "FloatProgress(value=0.0, bar_style='info', description='Progress:', layout=Layout(height='25px', width='50%'),…"
      ]
     },
     "metadata": {},
     "output_type": "display_data"
    }
   ],
   "source": [
    "prod_url = \"jdbc:postgresql://10.35.12.194:5432/gpadmin\"\n",
    "prod_host = '10.35.12.194'\n",
    "prod_port = '5432'\n",
    "prod_dbname = 'gpadmin'\n",
    "user_prod=\"gpspark\"\n",
    "pwd_prod=\"spark@456\"\n",
    "dbschema=\"public\"\n",
    "\n",
    "\n",
    "prod_gpdb_spark_options ={\n",
    "    \"url\": \"jdbc:postgresql://{host}:{port}/{dbname}\".format(host=prod_host,port=prod_port, dbname=prod_dbname),\n",
    "    \"user\": \"{user}\".format(user=user_prod),\n",
    "    \"password\": \"{password}\".format(password=pwd_prod)\n",
    "} "
   ]
  },
  {
   "cell_type": "code",
   "execution_count": 4,
   "metadata": {},
   "outputs": [
    {
     "data": {
      "application/vnd.jupyter.widget-view+json": {
       "model_id": "",
       "version_major": 2,
       "version_minor": 0
      },
      "text/plain": [
       "FloatProgress(value=0.0, bar_style='info', description='Progress:', layout=Layout(height='25px', width='50%'),…"
      ]
     },
     "metadata": {},
     "output_type": "display_data"
    }
   ],
   "source": [
    "# loading table as dataframe\n",
    "def load_gpdb_jdbc(col_str,dbtable,dbschema,col_name=None,time_filter=None,partitionColumn=\"row_num\"):\n",
    "    \"\"\"\n",
    "    This is used to read gpdb with filter for columns and can apply other filter(date,values).\n",
    "    Time filter contains startdate,enddate\n",
    "    \"\"\"\n",
    "    gscPythonOptions = {\n",
    "                        \"url\": prod_url,\n",
    "                        \"user\": user_prod,\n",
    "                        \"password\": pwd_prod,\n",
    "                        \"dbschema\": dbschema,\n",
    "                        \"dbtable\": dbtable,\n",
    "                        \"partitionColumn\":partitionColumn,\n",
    "                        \"partitions\": 8,\n",
    "                        \"server.port\":\"1150-1170\"}\n",
    "   \n",
    "    if time_filter:\n",
    "        data = sqlContext.read.format(\"greenplum\").options(**gscPythonOptions).load()\\\n",
    "                .selectExpr(col_str).drop_duplicates().filter(col(col_name).between(to_timestamp(lit(time_filter['start_date']),\n",
    "                                                                 format='yyyy-MM-dd'),\n",
    "                                                    to_timestamp(lit(time_filter['end_date']),\n",
    "                                                                 format='yyyy-MM-dd')))\n",
    "    else :\n",
    "        data = sqlContext.read.format(\"greenplum\").options(**gscPythonOptions).load()\\\n",
    "                .selectExpr(col_str).drop_duplicates()\n",
    "   \n",
    "    return data"
   ]
  },
  {
   "cell_type": "code",
   "execution_count": 5,
   "metadata": {},
   "outputs": [
    {
     "data": {
      "application/vnd.jupyter.widget-view+json": {
       "model_id": "",
       "version_major": 2,
       "version_minor": 0
      },
      "text/plain": [
       "FloatProgress(value=0.0, bar_style='info', description='Progress:', layout=Layout(height='25px', width='50%'),…"
      ]
     },
     "metadata": {},
     "output_type": "display_data"
    }
   ],
   "source": [
    "def get_latest_progress(table_name,source):\n",
    "    \n",
    "    try: \n",
    "        gscPythonOptions = {\n",
    "                 \"url\":prod_url ,\n",
    "                 \"user\":user_prod ,\n",
    "                 \"password\": pwd_prod,\n",
    "                 \"dbschema\":\"customermart\",\n",
    "                 \"dbtable\": \"progress\",#table change\n",
    "                 \"server.port\":\"1150-1170\"} \n",
    "        \n",
    "        # this query will fetch till what date we have inserted the records in target\n",
    "        last_run= sqlContext.read.format(\"greenplum\").options(**gscPythonOptions).load()\\\n",
    "            .select('table_name','source','to_datetime','records').filter(col('table_name')==table_name)\\\n",
    "            .filter(col('source')==source).filter(col('records')!=0)\n",
    "        \n",
    "        Max_last_run =last_run.select(max('to_datetime')).first()[0]\n",
    "\n",
    "\n",
    "        # if no record is available in progress then it will raise value error, in this case default value will be picked from except clause\n",
    "        if Max_last_run is None:\n",
    "            raise ValueError(\"No records found!\")\n",
    "\n",
    "        #print(\"Record Found. Progress updated till {}\".format(Max_last_run)) MC:2018-11-01\n",
    "        #ocrm 2017-12-28 icn:2019-04-05 10:58:49.291000  ICRM:2018-01-26 2023-07-29 00:00:00.000\n",
    "\n",
    "    except Exception as E: \n",
    "        Max_last_run = datetime.datetime(2018,10,30, 0, 0)  # this is the default start date when no record is present in progress for customer_demographics table\n",
    "        print(\"Executed_except\",repr(E))\n",
    "    return Max_last_run"
   ]
  },
  {
   "cell_type": "code",
   "execution_count": 73,
   "metadata": {},
   "outputs": [
    {
     "data": {
      "application/vnd.jupyter.widget-view+json": {
       "model_id": "",
       "version_major": 2,
       "version_minor": 0
      },
      "text/plain": [
       "FloatProgress(value=0.0, bar_style='info', description='Progress:', layout=Layout(height='25px', width='50%'),…"
      ]
     },
     "metadata": {},
     "output_type": "display_data"
    }
   ],
   "source": [
    "gscPythonOptions = {\n",
    "         \"url\": \"jdbc:postgresql://10.35.12.194:5432/gpadmin\",\n",
    "         \"user\": user_prod,\n",
    "         \"password\": pwd_prod,\n",
    "         \"dbtable\": \"customermart.progress\",\n",
    "         \"server.port\":\"1150-1170\"}\n",
    "\n",
    "\n",
    "progress_df = sqlContext.read.format(\"jdbc\").options(**gscPythonOptions).load()\\\n",
    ".selectExpr('table_name','source','to_datetime','from_datetime')#\\\n",
    "#.filter(to_date(col('start_time'))==current_date())"
   ]
  },
  {
   "cell_type": "code",
   "execution_count": 74,
   "metadata": {},
   "outputs": [
    {
     "data": {
      "application/vnd.jupyter.widget-view+json": {
       "model_id": "",
       "version_major": 2,
       "version_minor": 0
      },
      "text/plain": [
       "FloatProgress(value=0.0, bar_style='info', description='Progress:', layout=Layout(height='25px', width='50%'),…"
      ]
     },
     "metadata": {},
     "output_type": "display_data"
    },
    {
     "name": "stdout",
     "output_type": "stream",
     "text": [
      "DataFrame[table_name: string, source: string, to_datetime: timestamp, from_datetime: timestamp]"
     ]
    }
   ],
   "source": [
    "progress_df.persist()"
   ]
  },
  {
   "cell_type": "code",
   "execution_count": 75,
   "metadata": {},
   "outputs": [
    {
     "data": {
      "application/vnd.jupyter.widget-view+json": {
       "model_id": "",
       "version_major": 2,
       "version_minor": 0
      },
      "text/plain": [
       "FloatProgress(value=0.0, bar_style='info', description='Progress:', layout=Layout(height='25px', width='50%'),…"
      ]
     },
     "metadata": {},
     "output_type": "display_data"
    }
   ],
   "source": [
    "group_cols = ['table_name','source']"
   ]
  },
  {
   "cell_type": "code",
   "execution_count": 76,
   "metadata": {},
   "outputs": [
    {
     "data": {
      "application/vnd.jupyter.widget-view+json": {
       "model_id": "",
       "version_major": 2,
       "version_minor": 0
      },
      "text/plain": [
       "FloatProgress(value=0.0, bar_style='info', description='Progress:', layout=Layout(height='25px', width='50%'),…"
      ]
     },
     "metadata": {},
     "output_type": "display_data"
    }
   ],
   "source": [
    "progress_df1 = progress_df.groupby(group_cols).agg(max('to_datetime').alias('max_to_datetime')) "
   ]
  },
  {
   "cell_type": "code",
   "execution_count": 77,
   "metadata": {},
   "outputs": [
    {
     "data": {
      "application/vnd.jupyter.widget-view+json": {
       "model_id": "",
       "version_major": 2,
       "version_minor": 0
      },
      "text/plain": [
       "FloatProgress(value=0.0, bar_style='info', description='Progress:', layout=Layout(height='25px', width='50%'),…"
      ]
     },
     "metadata": {},
     "output_type": "display_data"
    }
   ],
   "source": [
    "progress_df_new = progress_df.groupby(col('table_name')).agg(max('to_datetime').alias('max_to_datetime')) "
   ]
  },
  {
   "cell_type": "code",
   "execution_count": 78,
   "metadata": {},
   "outputs": [
    {
     "data": {
      "application/vnd.jupyter.widget-view+json": {
       "model_id": "",
       "version_major": 2,
       "version_minor": 0
      },
      "text/plain": [
       "FloatProgress(value=0.0, bar_style='info', description='Progress:', layout=Layout(height='25px', width='50%'),…"
      ]
     },
     "metadata": {},
     "output_type": "display_data"
    }
   ],
   "source": [
    "col_str=['source_system_name','source_system_customer_id', 'communication_sub_type','value','last_updated','activity_id']\n",
    "gscPythonOptions = {\n",
    "\"url\": \"jdbc:postgresql://10.35.12.194:5432/gpadmin\",\n",
    "\"user\": \"gpspark\", \"server.port\":\"1150-1170\",\n",
    "\"password\": \"spark@456\",\"dbschema\":\"customermart\",\n",
    "\"dbtable\": \"contactability\"}\n",
    "contact_df = sqlContext.read.format(\"greenplum\").options(**gscPythonOptions).load()\\\n",
    "         .selectExpr(col_str)"
   ]
  },
  {
   "cell_type": "code",
   "execution_count": 79,
   "metadata": {},
   "outputs": [
    {
     "data": {
      "application/vnd.jupyter.widget-view+json": {
       "model_id": "",
       "version_major": 2,
       "version_minor": 0
      },
      "text/plain": [
       "FloatProgress(value=0.0, bar_style='info', description='Progress:', layout=Layout(height='25px', width='50%'),…"
      ]
     },
     "metadata": {},
     "output_type": "display_data"
    }
   ],
   "source": [
    "progress_contact = progress_df_new.filter(col('table_name').isin('contactability')).collect()[0][1]"
   ]
  },
  {
   "cell_type": "code",
   "execution_count": 80,
   "metadata": {},
   "outputs": [
    {
     "data": {
      "application/vnd.jupyter.widget-view+json": {
       "model_id": "",
       "version_major": 2,
       "version_minor": 0
      },
      "text/plain": [
       "FloatProgress(value=0.0, bar_style='info', description='Progress:', layout=Layout(height='25px', width='50%'),…"
      ]
     },
     "metadata": {},
     "output_type": "display_data"
    },
    {
     "name": "stdout",
     "output_type": "stream",
     "text": [
      "datetime.datetime(2024, 1, 27, 0, 0)"
     ]
    }
   ],
   "source": [
    "progress_contact"
   ]
  },
  {
   "cell_type": "code",
   "execution_count": 81,
   "metadata": {},
   "outputs": [
    {
     "data": {
      "application/vnd.jupyter.widget-view+json": {
       "model_id": "",
       "version_major": 2,
       "version_minor": 0
      },
      "text/plain": [
       "FloatProgress(value=0.0, bar_style='info', description='Progress:', layout=Layout(height='25px', width='50%'),…"
      ]
     },
     "metadata": {},
     "output_type": "display_data"
    }
   ],
   "source": [
    "progress_contact_mastercraft = progress_df1.filter(col('table_name').isin('contactability')).filter(col('source').isin('MASTERCRAFT')).collect()[0][2]"
   ]
  },
  {
   "cell_type": "code",
   "execution_count": 82,
   "metadata": {},
   "outputs": [
    {
     "data": {
      "application/vnd.jupyter.widget-view+json": {
       "model_id": "",
       "version_major": 2,
       "version_minor": 0
      },
      "text/plain": [
       "FloatProgress(value=0.0, bar_style='info', description='Progress:', layout=Layout(height='25px', width='50%'),…"
      ]
     },
     "metadata": {},
     "output_type": "display_data"
    },
    {
     "name": "stdout",
     "output_type": "stream",
     "text": [
      "datetime.datetime(2024, 1, 27, 0, 0)"
     ]
    }
   ],
   "source": [
    "progress_contact_mastercraft"
   ]
  },
  {
   "cell_type": "code",
   "execution_count": 83,
   "metadata": {},
   "outputs": [
    {
     "data": {
      "application/vnd.jupyter.widget-view+json": {
       "model_id": "",
       "version_major": 2,
       "version_minor": 0
      },
      "text/plain": [
       "FloatProgress(value=0.0, bar_style='info', description='Progress:', layout=Layout(height='25px', width='50%'),…"
      ]
     },
     "metadata": {},
     "output_type": "display_data"
    },
    {
     "name": "stdout",
     "output_type": "stream",
     "text": [
      "DataFrame[source_system_name: string, source_system_customer_id: string, communication_sub_type: string, value: string, last_updated: timestamp, activity_id: bigint]"
     ]
    }
   ],
   "source": [
    "contact_df.persist()"
   ]
  },
  {
   "cell_type": "code",
   "execution_count": 84,
   "metadata": {},
   "outputs": [
    {
     "data": {
      "application/vnd.jupyter.widget-view+json": {
       "model_id": "",
       "version_major": 2,
       "version_minor": 0
      },
      "text/plain": [
       "FloatProgress(value=0.0, bar_style='info', description='Progress:', layout=Layout(height='25px', width='50%'),…"
      ]
     },
     "metadata": {},
     "output_type": "display_data"
    }
   ],
   "source": [
    "contactability_cust_id = contact_df.filter(col('last_updated') <= progress_contact).select(\"source_system_customer_id\").distinct()"
   ]
  },
  {
   "cell_type": "code",
   "execution_count": 85,
   "metadata": {},
   "outputs": [
    {
     "data": {
      "application/vnd.jupyter.widget-view+json": {
       "model_id": "",
       "version_major": 2,
       "version_minor": 0
      },
      "text/plain": [
       "FloatProgress(value=0.0, bar_style='info', description='Progress:', layout=Layout(height='25px', width='50%'),…"
      ]
     },
     "metadata": {},
     "output_type": "display_data"
    },
    {
     "name": "stdout",
     "output_type": "stream",
     "text": [
      "88251871"
     ]
    }
   ],
   "source": [
    "contactability_cust_id.count()"
   ]
  },
  {
   "cell_type": "code",
   "execution_count": 86,
   "metadata": {},
   "outputs": [
    {
     "data": {
      "application/vnd.jupyter.widget-view+json": {
       "model_id": "",
       "version_major": 2,
       "version_minor": 0
      },
      "text/plain": [
       "FloatProgress(value=0.0, bar_style='info', description='Progress:', layout=Layout(height='25px', width='50%'),…"
      ]
     },
     "metadata": {},
     "output_type": "display_data"
    }
   ],
   "source": [
    "contactability_cust_id_master = contact_df.filter(col('last_updated') <= progress_contact_mastercraft).filter(col('source_system_name').isin('GC','S3','CRM','NA','WB')).select(\"source_system_customer_id\").distinct()"
   ]
  },
  {
   "cell_type": "code",
   "execution_count": 87,
   "metadata": {},
   "outputs": [
    {
     "data": {
      "application/vnd.jupyter.widget-view+json": {
       "model_id": "",
       "version_major": 2,
       "version_minor": 0
      },
      "text/plain": [
       "FloatProgress(value=0.0, bar_style='info', description='Progress:', layout=Layout(height='25px', width='50%'),…"
      ]
     },
     "metadata": {},
     "output_type": "display_data"
    },
    {
     "name": "stdout",
     "output_type": "stream",
     "text": [
      "DataFrame[source_system_customer_id: string]"
     ]
    }
   ],
   "source": [
    "contactability_cust_id_master.persist()"
   ]
  },
  {
   "cell_type": "code",
   "execution_count": 88,
   "metadata": {},
   "outputs": [
    {
     "data": {
      "application/vnd.jupyter.widget-view+json": {
       "model_id": "",
       "version_major": 2,
       "version_minor": 0
      },
      "text/plain": [
       "FloatProgress(value=0.0, bar_style='info', description='Progress:', layout=Layout(height='25px', width='50%'),…"
      ]
     },
     "metadata": {},
     "output_type": "display_data"
    },
    {
     "name": "stdout",
     "output_type": "stream",
     "text": [
      "87487443"
     ]
    }
   ],
   "source": [
    "contactability_cust_id_master.count()"
   ]
  },
  {
   "cell_type": "code",
   "execution_count": 89,
   "metadata": {},
   "outputs": [
    {
     "data": {
      "application/vnd.jupyter.widget-view+json": {
       "model_id": "",
       "version_major": 2,
       "version_minor": 0
      },
      "text/plain": [
       "FloatProgress(value=0.0, bar_style='info', description='Progress:', layout=Layout(height='25px', width='50%'),…"
      ]
     },
     "metadata": {},
     "output_type": "display_data"
    }
   ],
   "source": [
    "gscPythonOptions = {\n",
    "\"url\": \"jdbc:postgresql://10.35.12.194:5432/gpadmin\",\n",
    "\"user\": \"gpspark\",\n",
    "\"password\": \"spark@456\",\n",
    "# \"dbschema\": \"public\",\n",
    "\"dbtable\": \"public.reference_gc_genmst_intermediary\"}\n",
    "\n",
    "intermediary_df = sqlContext.read.format(\"jdbc\").options(**gscPythonOptions).load()\\\n",
    "                    .selectExpr('txt_mobile','txt_telephone','txt_telephone1','txt_contact_phone','txt_emer_person_mobile_number','txt_policy_phone','txt_alt_mobile','txt_email','txt_alt_email_id','txt_email_sms_reqd')"
   ]
  },
  {
   "cell_type": "code",
   "execution_count": 90,
   "metadata": {},
   "outputs": [
    {
     "data": {
      "application/vnd.jupyter.widget-view+json": {
       "model_id": "",
       "version_major": 2,
       "version_minor": 0
      },
      "text/plain": [
       "FloatProgress(value=0.0, bar_style='info', description='Progress:', layout=Layout(height='25px', width='50%'),…"
      ]
     },
     "metadata": {},
     "output_type": "display_data"
    }
   ],
   "source": [
    "gscPythonOptions = {\n",
    "\"url\": \"jdbc:postgresql://10.35.12.194:5432/gpadmin\",\n",
    "\"user\": \"gpspark\",\n",
    "\"password\": \"spark@456\",\n",
    "\"server.port\": \"1151-1160\",\n",
    "\"dbschema\": \"staging\",\n",
    "\"dbtable\": \"retention_auto_producer_contact\"}\n",
    "contact_prod = sqlContext.read.format(\"greenplum\").options(**gscPythonOptions).load()\\\n",
    "                    .selectExpr(\"contact as contact1\")"
   ]
  },
  {
   "cell_type": "code",
   "execution_count": 91,
   "metadata": {},
   "outputs": [
    {
     "data": {
      "application/vnd.jupyter.widget-view+json": {
       "model_id": "",
       "version_major": 2,
       "version_minor": 0
      },
      "text/plain": [
       "FloatProgress(value=0.0, bar_style='info', description='Progress:', layout=Layout(height='25px', width='50%'),…"
      ]
     },
     "metadata": {},
     "output_type": "display_data"
    },
    {
     "name": "stdout",
     "output_type": "stream",
     "text": [
      "DataFrame[mobile: string]"
     ]
    }
   ],
   "source": [
    "intermediary_df.createOrReplaceTempView('intermediary_table')\n",
    "\n",
    "query1_mob = \"\"\"SELECT txt_mobile mobile from intermediary_table\n",
    "union\n",
    "select txt_telephone from intermediary_table\n",
    "union\n",
    "select txt_telephone1 from intermediary_table\n",
    "union\n",
    "select txt_contact_phone from intermediary_table\n",
    "union\n",
    "select txt_emer_person_mobile_number from intermediary_table\n",
    "union\n",
    "select txt_policy_phone from intermediary_table\n",
    "union\n",
    "select txt_alt_mobile from intermediary_table\"\"\"\n",
    "\n",
    "intermediary_df_mob = sqlContext.sql(query1_mob)\n",
    "\n",
    "\n",
    "\n",
    "\n",
    "gscPythonOptions = {\n",
    "\"url\": \"jdbc:postgresql://10.35.12.194:5432/gpadmin\",\n",
    "\"user\": \"gpspark\",\n",
    "\"password\": \"spark@456\",\n",
    "\"server.port\": \"1151-1160\",\n",
    "\"dbschema\": \"staging\",\n",
    "\"dbtable\": \"retention_auto_producer_contact\"}\n",
    "contact_prod = sqlContext.read.format(\"greenplum\").options(**gscPythonOptions).load()\\\n",
    "                    .selectExpr(\"contact as contact1\")\n",
    "\n",
    "agent_no=intermediary_df_mob.union(contact_prod)\n",
    "\n",
    "\n",
    "\n",
    "agent_no = agent_no.withColumn(\"mobile\", when((length(col(\"mobile\")) == 12), \n",
    "                                               regexp_replace(col(\"mobile\"), \"^91\", \"\")).otherwise(lit(col(\"mobile\"))))\n",
    "\n",
    "agent_no = agent_no.withColumn(\"mobile\", when((length(col(\"mobile\")) == 11),\n",
    "                                               regexp_replace(col(\"mobile\"), \"^0\", \"\")).otherwise(lit(col(\"mobile\"))))\n",
    "\n",
    "agent_no.persist(pyspark.StorageLevel.MEMORY_AND_DISK)\n"
   ]
  },
  {
   "cell_type": "code",
   "execution_count": 92,
   "metadata": {},
   "outputs": [
    {
     "data": {
      "application/vnd.jupyter.widget-view+json": {
       "model_id": "",
       "version_major": 2,
       "version_minor": 0
      },
      "text/plain": [
       "FloatProgress(value=0.0, bar_style='info', description='Progress:', layout=Layout(height='25px', width='50%'),…"
      ]
     },
     "metadata": {},
     "output_type": "display_data"
    },
    {
     "name": "stdout",
     "output_type": "stream",
     "text": [
      "DataFrame[txt_email: string]"
     ]
    }
   ],
   "source": [
    "query1_email = \"\"\"select txt_email from intermediary_table\n",
    "union\n",
    "select txt_alt_email_id from intermediary_table\n",
    "union\n",
    "select txt_email_sms_reqd from intermediary_table\"\"\"\n",
    "\n",
    "\n",
    "intermediary_df_email = sqlContext.sql(query1_email)\n",
    "\n",
    "\n",
    "intermediary_df_email.persist(pyspark.StorageLevel.MEMORY_AND_DISK)\n",
    "\n",
    "\n",
    "gscPythonOptions = {\n",
    "\"url\": \"jdbc:postgresql://10.35.12.194:5432/gpadmin\",\n",
    "\"user\": \"gpspark\",\n",
    "\"password\": \"spark@456\",\n",
    "\"server.port\": \"1151-1160\",\n",
    "\"dbschema\": \"staging\",\n",
    "\"dbtable\": \"retention_auto_producer_email\"}\n",
    "\n",
    "email_prod = sqlContext.read.format(\"greenplum\").options(**gscPythonOptions).load()\\\n",
    "                    .selectExpr(\"email as email1\")\n",
    "\n",
    "agent_email=intermediary_df_email.union(email_prod)\n",
    "\n",
    "\n",
    "agent_email.persist(pyspark.StorageLevel.MEMORY_AND_DISK)\n",
    "\n"
   ]
  },
  {
   "cell_type": "code",
   "execution_count": 93,
   "metadata": {},
   "outputs": [
    {
     "data": {
      "application/vnd.jupyter.widget-view+json": {
       "model_id": "",
       "version_major": 2,
       "version_minor": 0
      },
      "text/plain": [
       "FloatProgress(value=0.0, bar_style='info', description='Progress:', layout=Layout(height='25px', width='50%'),…"
      ]
     },
     "metadata": {},
     "output_type": "display_data"
    }
   ],
   "source": [
    "## to check for agent mobile doing left join contactability tbl with agent table with the below condition on contact number \n",
    "\n",
    "condition = [lower(trim(contact_df.value))==lower(trim(agent_no.mobile))]\n",
    "\n",
    "contact_df_x1 = contact_df.join(agent_no,condition,how=\"left\")\n",
    "##contact_df_recheck_x1 = contact_df_recheck.filter(col('value').isNotNull())"
   ]
  },
  {
   "cell_type": "code",
   "execution_count": 94,
   "metadata": {},
   "outputs": [
    {
     "data": {
      "application/vnd.jupyter.widget-view+json": {
       "model_id": "",
       "version_major": 2,
       "version_minor": 0
      },
      "text/plain": [
       "FloatProgress(value=0.0, bar_style='info', description='Progress:', layout=Layout(height='25px', width='50%'),…"
      ]
     },
     "metadata": {},
     "output_type": "display_data"
    },
    {
     "name": "stdout",
     "output_type": "stream",
     "text": [
      "DataFrame[source_system_name: string, source_system_customer_id: string, communication_sub_type: string, value: string, last_updated: timestamp, activity_id: bigint, mobile: string]"
     ]
    }
   ],
   "source": [
    "contact_df_x1.persist()"
   ]
  },
  {
   "cell_type": "code",
   "execution_count": 95,
   "metadata": {},
   "outputs": [
    {
     "data": {
      "application/vnd.jupyter.widget-view+json": {
       "model_id": "",
       "version_major": 2,
       "version_minor": 0
      },
      "text/plain": [
       "FloatProgress(value=0.0, bar_style='info', description='Progress:', layout=Layout(height='25px', width='50%'),…"
      ]
     },
     "metadata": {},
     "output_type": "display_data"
    },
    {
     "name": "stdout",
     "output_type": "stream",
     "text": [
      "['source_system_name', 'source_system_customer_id', 'communication_sub_type', 'value', 'last_updated', 'activity_id', 'mobile']"
     ]
    }
   ],
   "source": [
    "contact_df_x1.columns"
   ]
  },
  {
   "cell_type": "code",
   "execution_count": 96,
   "metadata": {},
   "outputs": [
    {
     "data": {
      "application/vnd.jupyter.widget-view+json": {
       "model_id": "",
       "version_major": 2,
       "version_minor": 0
      },
      "text/plain": [
       "FloatProgress(value=0.0, bar_style='info', description='Progress:', layout=Layout(height='25px', width='50%'),…"
      ]
     },
     "metadata": {},
     "output_type": "display_data"
    }
   ],
   "source": [
    "## to check for agent email doing left join contactability tbl with agent table with the below condition on email id\n",
    "\n",
    "conditions = [lower(trim(contact_df.value))==lower(trim(agent_email.txt_email))]\n",
    "\n",
    "contact_df_x2 = contact_df_x1.join(agent_email,conditions,how=\"left\")\n",
    "##contact_df_recheck_x1 = contact_df_recheck.filter(col('value').isNotNull())"
   ]
  },
  {
   "cell_type": "code",
   "execution_count": 97,
   "metadata": {},
   "outputs": [
    {
     "data": {
      "application/vnd.jupyter.widget-view+json": {
       "model_id": "",
       "version_major": 2,
       "version_minor": 0
      },
      "text/plain": [
       "FloatProgress(value=0.0, bar_style='info', description='Progress:', layout=Layout(height='25px', width='50%'),…"
      ]
     },
     "metadata": {},
     "output_type": "display_data"
    },
    {
     "name": "stdout",
     "output_type": "stream",
     "text": [
      "['source_system_name', 'source_system_customer_id', 'communication_sub_type', 'value', 'last_updated', 'activity_id', 'mobile', 'txt_email']"
     ]
    }
   ],
   "source": [
    "contact_df_x2.columns"
   ]
  },
  {
   "cell_type": "code",
   "execution_count": 98,
   "metadata": {},
   "outputs": [
    {
     "data": {
      "application/vnd.jupyter.widget-view+json": {
       "model_id": "",
       "version_major": 2,
       "version_minor": 0
      },
      "text/plain": [
       "FloatProgress(value=0.0, bar_style='info', description='Progress:', layout=Layout(height='25px', width='50%'),…"
      ]
     },
     "metadata": {},
     "output_type": "display_data"
    },
    {
     "name": "stdout",
     "output_type": "stream",
     "text": [
      "DataFrame[source_system_name: string, source_system_customer_id: string, communication_sub_type: string, value: string, last_updated: timestamp, activity_id: bigint, mobile: string, txt_email: string]"
     ]
    }
   ],
   "source": [
    "contact_df_x2.persist()"
   ]
  },
  {
   "cell_type": "code",
   "execution_count": 99,
   "metadata": {},
   "outputs": [
    {
     "data": {
      "application/vnd.jupyter.widget-view+json": {
       "model_id": "",
       "version_major": 2,
       "version_minor": 0
      },
      "text/plain": [
       "FloatProgress(value=0.0, bar_style='info', description='Progress:', layout=Layout(height='25px', width='50%'),…"
      ]
     },
     "metadata": {},
     "output_type": "display_data"
    }
   ],
   "source": [
    "contact_df_x2=contact_df_x2.filter(col('value').isNotNull()).filter(col('source_system_customer_id').isNotNull())"
   ]
  },
  {
   "cell_type": "code",
   "execution_count": 4,
   "metadata": {},
   "outputs": [
    {
     "data": {
      "application/vnd.jupyter.widget-view+json": {
       "model_id": "",
       "version_major": 2,
       "version_minor": 0
      },
      "text/plain": [
       "FloatProgress(value=0.0, bar_style='info', description='Progress:', layout=Layout(height='25px', width='50%'),…"
      ]
     },
     "metadata": {},
     "output_type": "display_data"
    },
    {
     "name": "stderr",
     "output_type": "stream",
     "text": [
      "An error was encountered:\n",
      "name 'contact_df_x2' is not defined\n",
      "Traceback (most recent call last):\n",
      "NameError: name 'contact_df_x2' is not defined\n",
      "\n"
     ]
    }
   ],
   "source": [
    "## checking for agent mobile and email w.r.t 'value' column from contactability table\n",
    "contact_df_x2_cnt = contact_df_x2.filter((contact_df_x2.value == contact_df_x2.mobile) | (contact_df_x2.value == contact_df_x2.txt_email)).filter(col('last_updated') <= progress_contact_mastercraft ).filter(col('source_system_name').isin('GC','S3','CRM','NA','WB')).select('source_system_customer_id').distinct()"
   ]
  },
  {
   "cell_type": "code",
   "execution_count": 101,
   "metadata": {},
   "outputs": [
    {
     "data": {
      "application/vnd.jupyter.widget-view+json": {
       "model_id": "",
       "version_major": 2,
       "version_minor": 0
      },
      "text/plain": [
       "FloatProgress(value=0.0, bar_style='info', description='Progress:', layout=Layout(height='25px', width='50%'),…"
      ]
     },
     "metadata": {},
     "output_type": "display_data"
    },
    {
     "name": "stdout",
     "output_type": "stream",
     "text": [
      "DataFrame[source_system_customer_id: string]"
     ]
    }
   ],
   "source": [
    "contact_df_x2_cnt.persist()"
   ]
  },
  {
   "cell_type": "code",
   "execution_count": 102,
   "metadata": {},
   "outputs": [
    {
     "data": {
      "application/vnd.jupyter.widget-view+json": {
       "model_id": "",
       "version_major": 2,
       "version_minor": 0
      },
      "text/plain": [
       "FloatProgress(value=0.0, bar_style='info', description='Progress:', layout=Layout(height='25px', width='50%'),…"
      ]
     },
     "metadata": {},
     "output_type": "display_data"
    },
    {
     "name": "stdout",
     "output_type": "stream",
     "text": [
      "66834"
     ]
    }
   ],
   "source": [
    "contact_df_x2_cnt.count() "
   ]
  },
  {
   "cell_type": "code",
   "execution_count": 103,
   "metadata": {},
   "outputs": [
    {
     "data": {
      "application/vnd.jupyter.widget-view+json": {
       "model_id": "",
       "version_major": 2,
       "version_minor": 0
      },
      "text/plain": [
       "FloatProgress(value=0.0, bar_style='info', description='Progress:', layout=Layout(height='25px', width='50%'),…"
      ]
     },
     "metadata": {},
     "output_type": "display_data"
    }
   ],
   "source": [
    "contact_df_x2_master = contact_df_x2.filter(col('last_updated') <= progress_contact_mastercraft ).filter(col('source_system_name').isin('GC','S3','CRM','NA','WB')).select('source_system_customer_id').distinct()"
   ]
  },
  {
   "cell_type": "code",
   "execution_count": 104,
   "metadata": {},
   "outputs": [
    {
     "data": {
      "application/vnd.jupyter.widget-view+json": {
       "model_id": "",
       "version_major": 2,
       "version_minor": 0
      },
      "text/plain": [
       "FloatProgress(value=0.0, bar_style='info', description='Progress:', layout=Layout(height='25px', width='50%'),…"
      ]
     },
     "metadata": {},
     "output_type": "display_data"
    },
    {
     "name": "stdout",
     "output_type": "stream",
     "text": [
      "87487443"
     ]
    }
   ],
   "source": [
    "contact_df_x2_master.count()"
   ]
  },
  {
   "cell_type": "code",
   "execution_count": 105,
   "metadata": {},
   "outputs": [
    {
     "data": {
      "application/vnd.jupyter.widget-view+json": {
       "model_id": "",
       "version_major": 2,
       "version_minor": 0
      },
      "text/plain": [
       "FloatProgress(value=0.0, bar_style='info', description='Progress:', layout=Layout(height='25px', width='50%'),…"
      ]
     },
     "metadata": {},
     "output_type": "display_data"
    },
    {
     "name": "stdout",
     "output_type": "stream",
     "text": [
      "DataFrame[source_system_customer_id: string]"
     ]
    }
   ],
   "source": [
    "contact_df_x2_master.persist()"
   ]
  },
  {
   "cell_type": "code",
   "execution_count": 106,
   "metadata": {},
   "outputs": [
    {
     "data": {
      "application/vnd.jupyter.widget-view+json": {
       "model_id": "",
       "version_major": 2,
       "version_minor": 0
      },
      "text/plain": [
       "FloatProgress(value=0.0, bar_style='info', description='Progress:', layout=Layout(height='25px', width='50%'),…"
      ]
     },
     "metadata": {},
     "output_type": "display_data"
    }
   ],
   "source": [
    "## creating new dataframe except agent contact details by using ExceptALL function\n",
    "\n",
    "contact_df_x2_cnt_new_rechk = contact_df_x2_master.exceptAll(contact_df_x2_cnt)"
   ]
  },
  {
   "cell_type": "code",
   "execution_count": 107,
   "metadata": {},
   "outputs": [
    {
     "data": {
      "application/vnd.jupyter.widget-view+json": {
       "model_id": "",
       "version_major": 2,
       "version_minor": 0
      },
      "text/plain": [
       "FloatProgress(value=0.0, bar_style='info', description='Progress:', layout=Layout(height='25px', width='50%'),…"
      ]
     },
     "metadata": {},
     "output_type": "display_data"
    },
    {
     "name": "stdout",
     "output_type": "stream",
     "text": [
      "DataFrame[source_system_customer_id: string]"
     ]
    }
   ],
   "source": [
    "contact_df_x2_cnt_new_rechk.persist()"
   ]
  },
  {
   "cell_type": "code",
   "execution_count": 108,
   "metadata": {},
   "outputs": [
    {
     "data": {
      "application/vnd.jupyter.widget-view+json": {
       "model_id": "",
       "version_major": 2,
       "version_minor": 0
      },
      "text/plain": [
       "FloatProgress(value=0.0, bar_style='info', description='Progress:', layout=Layout(height='25px', width='50%'),…"
      ]
     },
     "metadata": {},
     "output_type": "display_data"
    },
    {
     "name": "stdout",
     "output_type": "stream",
     "text": [
      "87420609"
     ]
    }
   ],
   "source": [
    "contact_df_x2_cnt_new_rechk.count() "
   ]
  },
  {
   "cell_type": "markdown",
   "metadata": {},
   "source": [
    "## Mastercraft "
   ]
  },
  {
   "cell_type": "code",
   "execution_count": 110,
   "metadata": {},
   "outputs": [
    {
     "data": {
      "application/vnd.jupyter.widget-view+json": {
       "model_id": "",
       "version_major": 2,
       "version_minor": 0
      },
      "text/plain": [
       "FloatProgress(value=0.0, bar_style='info', description='Progress:', layout=Layout(height='25px', width='50%'),…"
      ]
     },
     "metadata": {},
     "output_type": "display_data"
    }
   ],
   "source": [
    "contact_email_pri=contact.withColumn('activity_id', hash(col('email_primary')))\n",
    "contact_email_pri=contact_email_pri.withColumn('verification_flag', when(trim(col('email_primary_is_verified')).isNull(), lit('G')).otherwise(lit('I')))\n",
    "contact_email_pri=contact_email_pri.withColumn('verification_source', when(trim(col('email_primary_is_verified')).isNull(), lit(None)).otherwise(col('source_id')))\n",
    "contact_email_pri=contact_email_pri.withColumn('value',col('email_primary'))\\\n",
    "# contact_email_pri=contact_email_pri.withColumn('value',when(col('email_primary').rlike(broadcast_regex.value),col('email_primary'))\n",
    "#                                  .otherwise(lit(None)))\n",
    "\n",
    "contact_email_pri = contact_email_pri.filter(~(lower(col(\"value\")).contains(\"abc@\")))\\\n",
    ".filter(~(lower(col(\"value\")).contains(\"xyz@\")))\\\n",
    ".filter(~(lower(col(\"value\")).contains(\"1234@\")))\\\n",
    ".filter(~(lower(col(\"value\")).contains(\"null@\")))\\\n",
    ".filter(~(lower(col(\"value\")).contains(\"na@\")))\\\n",
    ".filter(~(lower(col(\"value\")).contains(\"00@\")))\n",
    "\n",
    "\n",
    "contact_email_pri=contact_email_pri.withColumn('dnd_flag', lit(None))\n",
    "contact_email_pri=contact_email_pri.withColumn('communication_type', lit('email'))\n",
    "contact_email_pri=contact_email_pri.withColumn('communication_sub_type', lit('email'))\n",
    "contact_email_pri=contact_email_pri.withColumn('source_system_customer_id', coalesce('source_customer_id','dc_unified_id'))\n",
    "contact_email_pri=contact_email_pri.withColumn('contactability_json', lit(None))\n",
    "contact_email_pri=contact_email_pri.withColumn('preference_flag', lit(None))\n",
    "contact_email_pri=contact_email_pri.withColumn('date_reported', col('dc_action_date'))\n",
    "contact_email_pri=contact_email_pri.withColumn('last_updated', col('dc_action_date'))\n",
    "contact_email_pri=contact_email_pri.withColumn('activity_date', col('dc_action_date'))\n",
    "contact_email_pri=contact_email_pri.withColumn('source_system_name', col('source_id'))\n",
    "contact_email_pri=contact_email_pri.withColumn('primary_key', concat_ws('',trim(col('source_id')),trim(col('source_system_customer_id')), trim(col('activity_id'))))"
   ]
  },
  {
   "cell_type": "code",
   "execution_count": 111,
   "metadata": {},
   "outputs": [
    {
     "data": {
      "application/vnd.jupyter.widget-view+json": {
       "model_id": "",
       "version_major": 2,
       "version_minor": 0
      },
      "text/plain": [
       "FloatProgress(value=0.0, bar_style='info', description='Progress:', layout=Layout(height='25px', width='50%'),…"
      ]
     },
     "metadata": {},
     "output_type": "display_data"
    }
   ],
   "source": [
    "contact1=contact_email_pri.select(col('source_system_name').cast('string'),col('source_system_customer_id').cast('string'),col('activity_id').cast('string'),\\\n",
    "                         col('communication_type').cast('string'),col('communication_sub_type').cast('string'),col('activity_date').cast('timestamp'),\\\n",
    "                         col('value'),col('verification_flag').cast('string'),col('verification_source').cast('string'),col('date_reported').cast('timestamp'),col('last_updated').cast('timestamp'),col('preference_flag').cast('string'),col('dnd_flag').cast('string'),col('contactability_json'),\\\n",
    "                         col('primary_key'))\n",
    "contact1=contact1.filter(col(\"value\").isNotNull())"
   ]
  },
  {
   "cell_type": "code",
   "execution_count": 112,
   "metadata": {},
   "outputs": [
    {
     "data": {
      "application/vnd.jupyter.widget-view+json": {
       "model_id": "",
       "version_major": 2,
       "version_minor": 0
      },
      "text/plain": [
       "FloatProgress(value=0.0, bar_style='info', description='Progress:', layout=Layout(height='25px', width='50%'),…"
      ]
     },
     "metadata": {},
     "output_type": "display_data"
    }
   ],
   "source": [
    "contact_email_sec=contact.withColumn('activity_id', hash(col('email_secondary')))\n",
    "contact_email_sec=contact_email_sec.withColumn('verification_flag', when(trim(col('email_secondary_is_verified')).isNull(), lit('G')).otherwise(lit('I')))\n",
    "contact_email_sec=contact_email_sec.withColumn('verification_source', when(trim(col('email_secondary_is_verified')).isNull(), lit(None)).otherwise(col('source_id')))\n",
    "# contact_email_sec=contact_email_sec.withColumn('value',when(col('email_secondary').rlike(broadcast_regex.value),col('email_secondary'))\n",
    "#                   contact_email_sec        .otherwise(lit(None)))\n",
    "contact_email_sec=contact_email_sec.withColumn('value',col('email_secondary'))\n",
    "\n",
    "contact_email_sec = contact_email_sec.filter(~(lower(col(\"value\")).contains(\"abc@\")))\\\n",
    ".filter(~(lower(col(\"value\")).contains(\"xyz@\")))\\\n",
    ".filter(~(lower(col(\"value\")).contains(\"1234@\")))\\\n",
    ".filter(~(lower(col(\"value\")).contains(\"null@\")))\\\n",
    ".filter(~(lower(col(\"value\")).contains(\"na@\")))\\\n",
    ".filter(~(lower(col(\"value\")).contains(\"00@\")))\n",
    "\n",
    "contact_email_sec=contact_email_sec.withColumn('dnd_flag', lit(None))\n",
    "contact_email_sec=contact_email_sec.withColumn('communication_type', lit('email'))\n",
    "contact_email_sec=contact_email_sec.withColumn('communication_sub_type', lit('email'))\n",
    "contact_email_sec=contact_email_sec.withColumn('source_system_customer_id', coalesce('source_customer_id','dc_unified_id'))\n",
    "contact_email_sec=contact_email_sec.withColumn('contactability_json', lit(None))\n",
    "contact_email_sec=contact_email_sec.withColumn('preference_flag', lit(None))\n",
    "contact_email_sec=contact_email_sec.withColumn('date_reported', col('dc_action_date'))\n",
    "contact_email_sec=contact_email_sec.withColumn('last_updated', col('dc_action_date'))\n",
    "contact_email_sec=contact_email_sec.withColumn('activity_date', col('dc_action_date'))\n",
    "contact_email_sec=contact_email_sec.withColumn('source_system_name', col('source_id'))\n",
    "contact_email_sec=contact_email_sec.withColumn('primary_key', concat_ws('',trim(col('source_id')),trim(col('source_system_customer_id')), trim(col('activity_id'))))"
   ]
  },
  {
   "cell_type": "code",
   "execution_count": 113,
   "metadata": {},
   "outputs": [
    {
     "data": {
      "application/vnd.jupyter.widget-view+json": {
       "model_id": "",
       "version_major": 2,
       "version_minor": 0
      },
      "text/plain": [
       "FloatProgress(value=0.0, bar_style='info', description='Progress:', layout=Layout(height='25px', width='50%'),…"
      ]
     },
     "metadata": {},
     "output_type": "display_data"
    }
   ],
   "source": [
    "contact2=contact_email_sec.select(col('source_system_name').cast('string'),col('source_system_customer_id').cast('string'),col('activity_id').cast('string'),\\\n",
    "                         col('communication_type').cast('string'),col('communication_sub_type').cast('string'),col('activity_date').cast('timestamp'),\\\n",
    "                         col('value'),col('verification_flag').cast('string'),col('verification_source').cast('string'),col('date_reported').cast('timestamp'),col('last_updated').cast('timestamp'),col('preference_flag').cast('string'),col('dnd_flag').cast('string'),col('contactability_json'),\\\n",
    "                         col('primary_key'))\n",
    "contact2=contact2.filter(col(\"value\").isNotNull())"
   ]
  },
  {
   "cell_type": "code",
   "execution_count": 114,
   "metadata": {},
   "outputs": [
    {
     "data": {
      "application/vnd.jupyter.widget-view+json": {
       "model_id": "",
       "version_major": 2,
       "version_minor": 0
      },
      "text/plain": [
       "FloatProgress(value=0.0, bar_style='info', description='Progress:', layout=Layout(height='25px', width='50%'),…"
      ]
     },
     "metadata": {},
     "output_type": "display_data"
    }
   ],
   "source": [
    "contact_f1 = contact1.union(contact2)"
   ]
  },
  {
   "cell_type": "code",
   "execution_count": 115,
   "metadata": {},
   "outputs": [
    {
     "data": {
      "application/vnd.jupyter.widget-view+json": {
       "model_id": "",
       "version_major": 2,
       "version_minor": 0
      },
      "text/plain": [
       "FloatProgress(value=0.0, bar_style='info', description='Progress:', layout=Layout(height='25px', width='50%'),…"
      ]
     },
     "metadata": {},
     "output_type": "display_data"
    }
   ],
   "source": [
    "contact_mob_pri=contact.withColumn('activity_id', hash(col('mobile_primary')))\n",
    "contact_mob_pri=contact_mob_pri.withColumn('verification_flag', when(col('mobile_primary_is_verified').isNull(), lit('G')).otherwise(lit('N')))\n",
    "contact_mob_pri=contact_mob_pri.withColumn('verification_source', when(col('mobile_primary_is_verified').isNull(), lit(None)).otherwise(col('source_id')))\n",
    "contact_mob_pri=contact_mob_pri.withColumn('value',col('mobile_primary'))\n",
    "\n",
    "contact_mob_pri=contact_mob_pri.withColumn('value',when(col('mobile_primary').rlike('^(?:(?:\\+|0{0,2})91(\\s*[\\-]\\s*)?|[0]?)?[6-9]\\d{9}$'),col('mobile_primary'))\n",
    "                       .otherwise(lit(None)))\n",
    "\n",
    "contact_mob_pri = contact_mob_pri.withColumn(\"value\", when((length(col(\"value\")) == 12), \n",
    "                                       regexp_replace(col(\"value\"), \"^91\", \"\")).otherwise(lit(col(\"value\"))))\n",
    "\n",
    "contact_mob_pri = contact_mob_pri.withColumn(\"value\", when((length(col(\"value\")) == 11),\n",
    "                                      regexp_replace(col(\"value\"), \"^0\", \"\")).otherwise(lit(col(\"value\"))))\n",
    "\n",
    "\n",
    "contact_mob_pri=contact_mob_pri.withColumn('value',when(col('value').rlike(\"^(?!(\\d)\\1{8})\\d{10}$\"),col('value'))\n",
    "                          .otherwise(lit(None)))\n",
    "contact_mob_pri=contact_mob_pri.withColumn('dnd_flag', when(trim(col('mobile_primary_dnd'))=='1', lit('1')).otherwise(lit(None)))\n",
    "contact_mob_pri=contact_mob_pri.withColumn('communication_type', lit('phone'))\n",
    "contact_mob_pri=contact_mob_pri.withColumn('communication_sub_type', lit('mobile'))\n",
    "contact_mob_pri=contact_mob_pri.withColumn('source_system_customer_id', coalesce('source_customer_id','dc_unified_id'))\n",
    "contact_mob_pri=contact_mob_pri.withColumn('contactability_json', lit(None))\n",
    "contact_mob_pri=contact_mob_pri.withColumn('preference_flag', lit(None))\n",
    "contact_mob_pri=contact_mob_pri.withColumn('date_reported', col('dc_action_date'))\n",
    "contact_mob_pri=contact_mob_pri.withColumn('last_updated', col('dc_action_date'))\n",
    "contact_mob_pri=contact_mob_pri.withColumn('activity_date', col('dc_action_date'))\n",
    "contact_mob_pri=contact_mob_pri.withColumn('source_system_name', col('source_id'))\n",
    "contact_mob_pri=contact_mob_pri.withColumn('primary_key', concat_ws('',trim(col('source_id')),trim(col('source_system_customer_id')), trim(col('activity_id'))))\n"
   ]
  },
  {
   "cell_type": "code",
   "execution_count": 116,
   "metadata": {},
   "outputs": [
    {
     "data": {
      "application/vnd.jupyter.widget-view+json": {
       "model_id": "",
       "version_major": 2,
       "version_minor": 0
      },
      "text/plain": [
       "FloatProgress(value=0.0, bar_style='info', description='Progress:', layout=Layout(height='25px', width='50%'),…"
      ]
     },
     "metadata": {},
     "output_type": "display_data"
    }
   ],
   "source": [
    "contact3=contact_mob_pri.select(col('source_system_name').cast('string'),col('source_system_customer_id').cast('string'),col('activity_id').cast('string'),\\\n",
    "                         col('communication_type').cast('string'),col('communication_sub_type').cast('string'),col('activity_date').cast('timestamp'),\\\n",
    "                         col('value'),col('verification_flag').cast('string'),col('verification_source').cast('string'),col('date_reported').cast('timestamp'),col('last_updated').cast('timestamp'),col('preference_flag').cast('string'),col('dnd_flag').cast('string'),col('contactability_json'),\\\n",
    "                         col('primary_key'))\n",
    "contact3=contact3.filter(col(\"value\").isNotNull())"
   ]
  },
  {
   "cell_type": "code",
   "execution_count": 117,
   "metadata": {},
   "outputs": [
    {
     "data": {
      "application/vnd.jupyter.widget-view+json": {
       "model_id": "",
       "version_major": 2,
       "version_minor": 0
      },
      "text/plain": [
       "FloatProgress(value=0.0, bar_style='info', description='Progress:', layout=Layout(height='25px', width='50%'),…"
      ]
     },
     "metadata": {},
     "output_type": "display_data"
    }
   ],
   "source": [
    "contact_f2 = contact_f1.union(contact3)"
   ]
  },
  {
   "cell_type": "code",
   "execution_count": 118,
   "metadata": {},
   "outputs": [
    {
     "data": {
      "application/vnd.jupyter.widget-view+json": {
       "model_id": "",
       "version_major": 2,
       "version_minor": 0
      },
      "text/plain": [
       "FloatProgress(value=0.0, bar_style='info', description='Progress:', layout=Layout(height='25px', width='50%'),…"
      ]
     },
     "metadata": {},
     "output_type": "display_data"
    }
   ],
   "source": [
    "contact_mob_sec=contact.withColumn('activity_id', hash(col('mobile_secondary')))\n",
    "contact_mob_sec=contact_mob_sec.withColumn('verification_flag',when(col('mobile_secondary').isNotNull(), lit('G')))\n",
    "contact_mob_sec=contact_mob_sec.withColumn('verification_source',when(col('mobile_secondary').isNotNull(), lit(None)))\n",
    "contact_mob_sec=contact_mob_sec.withColumn('value',col('mobile_secondary'))\n",
    "contact_mob_sec=contact_mob_sec.withColumn('value',when(col('mobile_secondary').rlike('^(?:(?:\\+|0{0,2})91(\\s*[\\-]\\s*)?|[0]?)?[6-9]\\d{9}$'),col('mobile_secondary'))\n",
    "                                 .otherwise(lit(None)))\n",
    "\n",
    "contact_mob_sec = contact_mob_sec.withColumn(\"value\", when((length(col(\"value\")) == 12), \n",
    "                                               regexp_replace(col(\"value\"), \"^91\", \"\")).otherwise(lit(col(\"value\"))))\n",
    "\n",
    "contact_mob_sec = contact_mob_sec.withColumn(\"value\", when((length(col(\"value\")) == 11),\n",
    "                                               regexp_replace(col(\"value\"), \"^0\", \"\")).otherwise(lit(col(\"value\"))))\n",
    "\n",
    "contact_mob_sec=contact_mob_sec.withColumn('value',when(col('value').rlike(\"^(?!(\\d)\\1{8})\\d{10}$\"),col('value'))\n",
    "                                 .otherwise(lit(None)))\n",
    "contact_mob_sec=contact_mob_sec.withColumn('dnd_flag', when(trim(col('mobile_secondary_dnd'))=='1', lit('1')).otherwise(lit(None)))\n",
    "contact_mob_sec=contact_mob_sec.withColumn('communication_type', lit('phone'))\n",
    "contact_mob_sec=contact_mob_sec.withColumn('communication_sub_type', lit('mobile'))\n",
    "contact_mob_sec=contact_mob_sec.withColumn('source_system_customer_id', coalesce('source_customer_id','dc_unified_id'))\n",
    "contact_mob_sec=contact_mob_sec.withColumn('contactability_json', lit(None))\n",
    "contact_mob_sec=contact_mob_sec.withColumn('preference_flag', lit(None))\n",
    "contact_mob_sec=contact_mob_sec.withColumn('date_reported', col('dc_action_date'))\n",
    "contact_mob_sec=contact_mob_sec.withColumn('last_updated', col('dc_action_date'))\n",
    "contact_mob_sec=contact_mob_sec.withColumn('activity_date', col('dc_action_date'))\n",
    "contact_mob_sec=contact_mob_sec.withColumn('source_system_name', col('source_id'))\n",
    "contact_mob_sec=contact_mob_sec.withColumn('primary_key', concat_ws('',trim(col('source_id')),trim(col('source_system_customer_id')), trim(col('activity_id'))))"
   ]
  },
  {
   "cell_type": "code",
   "execution_count": 119,
   "metadata": {},
   "outputs": [
    {
     "data": {
      "application/vnd.jupyter.widget-view+json": {
       "model_id": "",
       "version_major": 2,
       "version_minor": 0
      },
      "text/plain": [
       "FloatProgress(value=0.0, bar_style='info', description='Progress:', layout=Layout(height='25px', width='50%'),…"
      ]
     },
     "metadata": {},
     "output_type": "display_data"
    }
   ],
   "source": [
    "contact4=contact_mob_sec.select(col('source_system_name').cast('string'),col('source_system_customer_id').cast('string'),col('activity_id').cast('string'),\\\n",
    "                         col('communication_type').cast('string'),col('communication_sub_type').cast('string'),col('activity_date').cast('timestamp'),\\\n",
    "                         col('value'),col('verification_flag').cast('string'),col('verification_source').cast('string'),col('date_reported').cast('timestamp'),col('last_updated').cast('timestamp'),col('preference_flag').cast('string'),col('dnd_flag').cast('string'),col('contactability_json'),\\\n",
    "                         col('primary_key'))\n",
    "contact4=contact4.filter(col(\"value\").isNotNull())"
   ]
  },
  {
   "cell_type": "code",
   "execution_count": 120,
   "metadata": {},
   "outputs": [
    {
     "data": {
      "application/vnd.jupyter.widget-view+json": {
       "model_id": "",
       "version_major": 2,
       "version_minor": 0
      },
      "text/plain": [
       "FloatProgress(value=0.0, bar_style='info', description='Progress:', layout=Layout(height='25px', width='50%'),…"
      ]
     },
     "metadata": {},
     "output_type": "display_data"
    }
   ],
   "source": [
    "contact_f3= contact_f2.union(contact4)"
   ]
  },
  {
   "cell_type": "code",
   "execution_count": 121,
   "metadata": {},
   "outputs": [
    {
     "data": {
      "application/vnd.jupyter.widget-view+json": {
       "model_id": "",
       "version_major": 2,
       "version_minor": 0
      },
      "text/plain": [
       "FloatProgress(value=0.0, bar_style='info', description='Progress:', layout=Layout(height='25px', width='50%'),…"
      ]
     },
     "metadata": {},
     "output_type": "display_data"
    }
   ],
   "source": [
    "contact_land=contact.filter(col(\"incominglandlinehome\").isNotNull())\n",
    "contact_land=contact_land.withColumn('activity_id', hash(col('incominglandlinehome')))\n",
    "contact_land=contact_land.withColumn('verification_flag', when(col('landline_home_is_verified').isNull(), lit('G')).otherwise(lit('N')))\n",
    "contact_land=contact_land.withColumn('verification_source', when(col('landline_home_is_verified').isNull(), lit(None)).otherwise(col('source_id')))\n",
    "\n",
    "# contact_land=contact_land.withColumn('value',col('incominglandlinehome'))\n",
    "contact_land = contact_land.withColumn(\"value\",regexp_replace(col(\"incominglandlinehome\"), \" \", \"\"))\n",
    "\n",
    "contact_land=contact_land.withColumn('value',when(col('value').rlike('^(?:(?:\\+|0{0,2})91(\\s*[\\-\\s]\\s*)?|[0]?)?[2-9]?\\d{1,3}(\\s*[\\-\\s]\\s*)?\\d{6,8}$'),col('value'))\n",
    "                                 .otherwise(lit(None)))\n",
    "\n",
    "\n",
    "\n",
    "contact_land=contact_land.withColumn('dnd_flag', lit(None))\n",
    "contact_land=contact_land.withColumn('communication_type', lit('phone'))\n",
    "contact_land=contact_land.withColumn('communication_sub_type', lit('landline'))\n",
    "contact_land=contact_land.withColumn('source_system_customer_id', coalesce('source_customer_id','dc_unified_id'))\n",
    "contact_land=contact_land.withColumn('contactability_json', lit(None))\n",
    "contact_land=contact_land.withColumn('preference_flag', lit(None))\n",
    "contact_land=contact_land.withColumn('date_reported', col('dc_action_date'))\n",
    "contact_land=contact_land.withColumn('last_updated', col('dc_action_date'))\n",
    "contact_land=contact_land.withColumn('activity_date', col('dc_action_date'))\n",
    "contact_land=contact_land.withColumn('source_system_name', col('source_id'))\n",
    "contact_land=contact_land.withColumn('primary_key', concat_ws('',trim(col('source_id')),trim(col('source_system_customer_id')), trim(col('activity_id'))))"
   ]
  },
  {
   "cell_type": "code",
   "execution_count": 122,
   "metadata": {},
   "outputs": [
    {
     "data": {
      "application/vnd.jupyter.widget-view+json": {
       "model_id": "",
       "version_major": 2,
       "version_minor": 0
      },
      "text/plain": [
       "FloatProgress(value=0.0, bar_style='info', description='Progress:', layout=Layout(height='25px', width='50%'),…"
      ]
     },
     "metadata": {},
     "output_type": "display_data"
    }
   ],
   "source": [
    "contact5=contact_land.select(col('source_system_name').cast('string'),col('source_system_customer_id').cast('string'),col('activity_id').cast('string'),\\\n",
    "                         col('communication_type').cast('string'),col('communication_sub_type').cast('string'),col('activity_date').cast('timestamp'),\\\n",
    "                         col('value'),col('verification_flag').cast('string'),col('verification_source').cast('string'),col('date_reported').cast('timestamp'),col('last_updated').cast('timestamp'),col('preference_flag').cast('string'),col('dnd_flag').cast('string'),col('contactability_json'),\\\n",
    "                         col('primary_key'))\n",
    "contact5=contact5.filter(col(\"value\").isNotNull())"
   ]
  },
  {
   "cell_type": "code",
   "execution_count": 123,
   "metadata": {},
   "outputs": [
    {
     "data": {
      "application/vnd.jupyter.widget-view+json": {
       "model_id": "",
       "version_major": 2,
       "version_minor": 0
      },
      "text/plain": [
       "FloatProgress(value=0.0, bar_style='info', description='Progress:', layout=Layout(height='25px', width='50%'),…"
      ]
     },
     "metadata": {},
     "output_type": "display_data"
    }
   ],
   "source": [
    "contact_f4= contact_f3.union(contact5)"
   ]
  },
  {
   "cell_type": "code",
   "execution_count": 124,
   "metadata": {},
   "outputs": [
    {
     "data": {
      "application/vnd.jupyter.widget-view+json": {
       "model_id": "",
       "version_major": 2,
       "version_minor": 0
      },
      "text/plain": [
       "FloatProgress(value=0.0, bar_style='info', description='Progress:', layout=Layout(height='25px', width='50%'),…"
      ]
     },
     "metadata": {},
     "output_type": "display_data"
    }
   ],
   "source": [
    "# df_masterCraft= contact_f4.withColumn('contactability_json', to_json(lit(None)))\n",
    "df_masterCraft=contact_f4.withColumn('last_updated', col('date_reported'))"
   ]
  },
  {
   "cell_type": "code",
   "execution_count": 125,
   "metadata": {},
   "outputs": [
    {
     "data": {
      "application/vnd.jupyter.widget-view+json": {
       "model_id": "",
       "version_major": 2,
       "version_minor": 0
      },
      "text/plain": [
       "FloatProgress(value=0.0, bar_style='info', description='Progress:', layout=Layout(height='25px', width='50%'),…"
      ]
     },
     "metadata": {},
     "output_type": "display_data"
    }
   ],
   "source": [
    "from pyspark.sql.window import Window\n",
    "\n",
    "df_masterCraft = df_masterCraft.withColumn(\"rn\", F.row_number()\n",
    "        .over(Window.partitionBy(\"primary_key\")\n",
    "        .orderBy(F.col(\"last_updated\").desc())))\n",
    "\n",
    "df_masterCraft = df_masterCraft.filter(F.col(\"rn\") == 1).drop(\"rn\")"
   ]
  },
  {
   "cell_type": "code",
   "execution_count": 126,
   "metadata": {},
   "outputs": [
    {
     "data": {
      "application/vnd.jupyter.widget-view+json": {
       "model_id": "",
       "version_major": 2,
       "version_minor": 0
      },
      "text/plain": [
       "FloatProgress(value=0.0, bar_style='info', description='Progress:', layout=Layout(height='25px', width='50%'),…"
      ]
     },
     "metadata": {},
     "output_type": "display_data"
    }
   ],
   "source": [
    "df_masterCraft=df_masterCraft.select(['source_system_name','source_system_customer_id','activity_id','activity_date','communication_type','communication_sub_type','value','verification_flag','verification_source','date_reported','last_updated','preference_flag','contactability_json','dnd_flag'])\n"
   ]
  },
  {
   "cell_type": "code",
   "execution_count": 127,
   "metadata": {},
   "outputs": [
    {
     "data": {
      "application/vnd.jupyter.widget-view+json": {
       "model_id": "",
       "version_major": 2,
       "version_minor": 0
      },
      "text/plain": [
       "FloatProgress(value=0.0, bar_style='info', description='Progress:', layout=Layout(height='25px', width='50%'),…"
      ]
     },
     "metadata": {},
     "output_type": "display_data"
    }
   ],
   "source": [
    "df_masterCraft = df_masterCraft.filter(~(col(\"value\").isin(['1234567890','9876543210','9999988888','9090909090','9000000000','9900000000'])))\n",
    "df_masterCraft = df_masterCraft.filter(~(lower(trim(col(\"value\"))).isin(['abc@gmail.com','xyz@gmail.com','123@gmail.com','abc@d.com','abcd@gmail.com','null'])))"
   ]
  },
  {
   "cell_type": "code",
   "execution_count": 128,
   "metadata": {},
   "outputs": [
    {
     "data": {
      "application/vnd.jupyter.widget-view+json": {
       "model_id": "",
       "version_major": 2,
       "version_minor": 0
      },
      "text/plain": [
       "FloatProgress(value=0.0, bar_style='info', description='Progress:', layout=Layout(height='25px', width='50%'),…"
      ]
     },
     "metadata": {},
     "output_type": "display_data"
    },
    {
     "name": "stdout",
     "output_type": "stream",
     "text": [
      "DataFrame[source_system_name: string, source_system_customer_id: string, activity_id: string, activity_date: timestamp, communication_type: string, communication_sub_type: string, value: string, verification_flag: string, verification_source: string, date_reported: timestamp, last_updated: timestamp, preference_flag: string, contactability_json: null, dnd_flag: string]"
     ]
    }
   ],
   "source": [
    "df_masterCraft.repartition('value')"
   ]
  },
  {
   "cell_type": "code",
   "execution_count": 129,
   "metadata": {},
   "outputs": [
    {
     "data": {
      "application/vnd.jupyter.widget-view+json": {
       "model_id": "",
       "version_major": 2,
       "version_minor": 0
      },
      "text/plain": [
       "FloatProgress(value=0.0, bar_style='info', description='Progress:', layout=Layout(height='25px', width='50%'),…"
      ]
     },
     "metadata": {},
     "output_type": "display_data"
    }
   ],
   "source": [
    "condition = [lower(trim(df_masterCraft.value))==lower(trim(agent_no.mobile))]\n",
    "\n",
    "df_masterCraft = df_masterCraft.join(agent_no,condition,how=\"left\")\n",
    "df_masterCraft = df_masterCraft.filter(col('mobile').isNull()).drop(df_masterCraft.mobile)\n",
    "\n",
    "condition = [lower(trim(df_masterCraft.value))==lower(trim(agent_email.txt_email))]\n",
    "\n",
    "df_masterCraft = df_masterCraft.join(agent_email,condition,how=\"left\")\n",
    "df_masterCraft = df_masterCraft.filter(col('txt_email').isNull()).drop(df_masterCraft.txt_email)"
   ]
  },
  {
   "cell_type": "code",
   "execution_count": 130,
   "metadata": {},
   "outputs": [
    {
     "data": {
      "application/vnd.jupyter.widget-view+json": {
       "model_id": "",
       "version_major": 2,
       "version_minor": 0
      },
      "text/plain": [
       "FloatProgress(value=0.0, bar_style='info', description='Progress:', layout=Layout(height='25px', width='50%'),…"
      ]
     },
     "metadata": {},
     "output_type": "display_data"
    }
   ],
   "source": [
    "df_masterCraft=df_masterCraft.filter(col('value').isNotNull()).filter(col('source_system_customer_id').isNotNull())"
   ]
  },
  {
   "cell_type": "code",
   "execution_count": 131,
   "metadata": {},
   "outputs": [
    {
     "data": {
      "application/vnd.jupyter.widget-view+json": {
       "model_id": "",
       "version_major": 2,
       "version_minor": 0
      },
      "text/plain": [
       "FloatProgress(value=0.0, bar_style='info', description='Progress:', layout=Layout(height='25px', width='50%'),…"
      ]
     },
     "metadata": {},
     "output_type": "display_data"
    },
    {
     "name": "stdout",
     "output_type": "stream",
     "text": [
      "DataFrame[source_system_name: string, source_system_customer_id: string, activity_id: string, activity_date: timestamp, communication_type: string, communication_sub_type: string, value: string, verification_flag: string, verification_source: string, date_reported: timestamp, last_updated: timestamp, preference_flag: string, contactability_json: null, dnd_flag: string]"
     ]
    }
   ],
   "source": [
    "df_masterCraft.persist()"
   ]
  },
  {
   "cell_type": "code",
   "execution_count": 132,
   "metadata": {},
   "outputs": [
    {
     "data": {
      "application/vnd.jupyter.widget-view+json": {
       "model_id": "",
       "version_major": 2,
       "version_minor": 0
      },
      "text/plain": [
       "FloatProgress(value=0.0, bar_style='info', description='Progress:', layout=Layout(height='25px', width='50%'),…"
      ]
     },
     "metadata": {},
     "output_type": "display_data"
    }
   ],
   "source": [
    "df_masterCraft_cnt = df_masterCraft.filter(col('last_updated') <= 'progress_contact_mastercraft').select(\"source_system_customer_id\").distinct()"
   ]
  },
  {
   "cell_type": "code",
   "execution_count": 133,
   "metadata": {},
   "outputs": [
    {
     "data": {
      "application/vnd.jupyter.widget-view+json": {
       "model_id": "",
       "version_major": 2,
       "version_minor": 0
      },
      "text/plain": [
       "FloatProgress(value=0.0, bar_style='info', description='Progress:', layout=Layout(height='25px', width='50%'),…"
      ]
     },
     "metadata": {},
     "output_type": "display_data"
    },
    {
     "name": "stdout",
     "output_type": "stream",
     "text": [
      "DataFrame[source_system_customer_id: string]"
     ]
    }
   ],
   "source": [
    "df_masterCraft_cnt.persist()"
   ]
  },
  {
   "cell_type": "code",
   "execution_count": 134,
   "metadata": {},
   "outputs": [
    {
     "data": {
      "application/vnd.jupyter.widget-view+json": {
       "model_id": "",
       "version_major": 2,
       "version_minor": 0
      },
      "text/plain": [
       "FloatProgress(value=0.0, bar_style='info', description='Progress:', layout=Layout(height='25px', width='50%'),…"
      ]
     },
     "metadata": {},
     "output_type": "display_data"
    },
    {
     "name": "stdout",
     "output_type": "stream",
     "text": [
      "87498932"
     ]
    }
   ],
   "source": [
    "df_masterCraft_cnt.count() "
   ]
  },
  {
   "cell_type": "code",
   "execution_count": 135,
   "metadata": {},
   "outputs": [
    {
     "data": {
      "application/vnd.jupyter.widget-view+json": {
       "model_id": "",
       "version_major": 2,
       "version_minor": 0
      },
      "text/plain": [
       "FloatProgress(value=0.0, bar_style='info', description='Progress:', layout=Layout(height='25px', width='50%'),…"
      ]
     },
     "metadata": {},
     "output_type": "display_data"
    }
   ],
   "source": [
    "## Checking customer id which are in mastercraft table but not in contactability table with exceptall function (after removing agent details fro both tables : mastercraft and contactability tbls) \n",
    "\n",
    "final_result = df_masterCraft_cnt.exceptAll(contact_df_x2_cnt_new_rechk)"
   ]
  },
  {
   "cell_type": "code",
   "execution_count": 136,
   "metadata": {},
   "outputs": [
    {
     "data": {
      "application/vnd.jupyter.widget-view+json": {
       "model_id": "",
       "version_major": 2,
       "version_minor": 0
      },
      "text/plain": [
       "FloatProgress(value=0.0, bar_style='info', description='Progress:', layout=Layout(height='25px', width='50%'),…"
      ]
     },
     "metadata": {},
     "output_type": "display_data"
    },
    {
     "name": "stdout",
     "output_type": "stream",
     "text": [
      "DataFrame[source_system_customer_id: string]"
     ]
    }
   ],
   "source": [
    "final_result.persist()"
   ]
  },
  {
   "cell_type": "code",
   "execution_count": 137,
   "metadata": {},
   "outputs": [
    {
     "data": {
      "application/vnd.jupyter.widget-view+json": {
       "model_id": "",
       "version_major": 2,
       "version_minor": 0
      },
      "text/plain": [
       "FloatProgress(value=0.0, bar_style='info', description='Progress:', layout=Layout(height='25px', width='50%'),…"
      ]
     },
     "metadata": {},
     "output_type": "display_data"
    },
    {
     "name": "stdout",
     "output_type": "stream",
     "text": [
      "78323"
     ]
    }
   ],
   "source": [
    "final_result.count()"
   ]
  },
  {
   "cell_type": "code",
   "execution_count": 138,
   "metadata": {},
   "outputs": [
    {
     "data": {
      "application/vnd.jupyter.widget-view+json": {
       "model_id": "",
       "version_major": 2,
       "version_minor": 0
      },
      "text/plain": [
       "FloatProgress(value=0.0, bar_style='info', description='Progress:', layout=Layout(height='25px', width='50%'),…"
      ]
     },
     "metadata": {},
     "output_type": "display_data"
    },
    {
     "name": "stdout",
     "output_type": "stream",
     "text": [
      "+-------------------------+\n",
      "|source_system_customer_id|\n",
      "+-------------------------+\n",
      "|               6054209340|\n",
      "|               6077444098|\n",
      "|               6080041326|\n",
      "|               6138645981|\n",
      "|               6149522131|\n",
      "|               6150253007|\n",
      "|               6155297929|\n",
      "|               6155300278|\n",
      "|               6155303529|\n",
      "|               6155313601|\n",
      "|               6155319711|\n",
      "|               6155327628|\n",
      "|               6155336421|\n",
      "|               6155342131|\n",
      "|               6076431830|\n",
      "|               6007147191|\n",
      "|               6155300138|\n",
      "|               6155322729|\n",
      "|               6155337943|\n",
      "|               6155340651|\n",
      "+-------------------------+\n",
      "only showing top 20 rows"
     ]
    }
   ],
   "source": [
    "final_result.show()"
   ]
  },
  {
   "cell_type": "code",
   "execution_count": 2,
   "metadata": {},
   "outputs": [
    {
     "data": {
      "application/vnd.jupyter.widget-view+json": {
       "model_id": "",
       "version_major": 2,
       "version_minor": 0
      },
      "text/plain": [
       "FloatProgress(value=0.0, bar_style='info', description='Progress:', layout=Layout(height='25px', width='50%'),…"
      ]
     },
     "metadata": {},
     "output_type": "display_data"
    }
   ],
   "source": [
    "spark.stop()"
   ]
  },
  {
   "cell_type": "code",
   "execution_count": null,
   "metadata": {},
   "outputs": [],
   "source": []
  }
 ],
 "metadata": {
  "kernelspec": {
   "display_name": "PySpark",
   "language": "",
   "name": "pysparkkernel"
  },
  "language_info": {
   "codemirror_mode": {
    "name": "python",
    "version": 3
   },
   "mimetype": "text/x-python",
   "name": "pyspark",
   "pygments_lexer": "python3"
  }
 },
 "nbformat": 4,
 "nbformat_minor": 4
}
