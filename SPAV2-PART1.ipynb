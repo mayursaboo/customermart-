{
 "cells": [
  {
   "cell_type": "code",
   "execution_count": null,
   "metadata": {},
   "outputs": [],
   "source": [
    "import sys\n",
    "\n",
    "\n",
    "no_of_cpu =8\n",
    "max_cores =8\n",
    "executor_mem = '56g'\n",
    "\n",
    "\n",
    "Job_Name = 'Nishant:SPA Part-1'\n",
    "\n",
    "\n",
    "from pyspark.mllib.stat import Statistics\n",
    "from pyspark.sql.functions import asc,lit\n",
    "#warnings.filterwarnings('error')\n",
    "import pyspark\n",
    "from datetime import datetime,timedelta\n",
    "from pyspark.sql import SQLContext\n",
    "from pyspark import SparkContext, SparkConf\n",
    "from pyspark.sql import functions as F\n",
    "\n",
    "conf = pyspark.SparkConf()\n",
    "#import numpy\n",
    "import calendar\n",
    "#import pandas as pd\n",
    "#import simplejson as json\n",
    "#import pandas as pd\n",
    "import numpy as np\n",
    "import datetime\n",
    "from pyspark.sql.functions import *\n",
    "from pyspark.sql.types import DateType\n",
    "from pyspark.sql.functions import lit\n",
    "import simplejson as json\n",
    "import json, pprint, requests\n",
    "#es_nodes = '10.35.12.5'\n",
    "#es_nodes = '10.35.12.6'\n",
    "es_nodes = '10.35.12.194'#,10.35.12.6,10.35.12.5\n",
    "es_nodes_temp='10.35.12.194'\n",
    "es_port = '5432'\n",
    "es_user = 'elastic'\n",
    "es_pwd = 'bEiilauM3es'\n",
    "mesos_ip = 'mesos://10.33.195.18:5050'#'mesos://10.35.12.5:5050'\n",
    "\n",
    "spark.stop() #############NEED TO COMMENT THIS SPARK.STOP WHEN RUNNING THROUGH SHELL###############################\n",
    "\n",
    "conf.setMaster(mesos_ip)\n",
    "\n",
    "conf.set('spark.executor.cores',no_of_cpu) ### change 1\n",
    "#conf.set('spark.memory.fraction','.2')\n",
    "conf.set('spark.executor.memory',executor_mem) \n",
    "conf.set('spark.es.scroll.size','10000')\n",
    "conf.set('spark.network.timeout','600s')\n",
    "conf.set('spark.sql.crossJoin.enabled', 'true')\n",
    "\n",
    "conf.set('spark.ui.port','4052')\n",
    "\n",
    "conf.set('spark.executor.heartbeatInterval','60s')\n",
    "conf.set(\"spark.driver.cores\",\"4\")\n",
    "conf.set(\"spark.driver.extraJavaOptions\",\"-Xmx4g -Xms4g\")\n",
    "\n",
    "#conf.set(\"spark.shuffle.blockTransferService\", \"nio\"); \n",
    "conf.set(\"spark.files.overwrite\",\"true\");\n",
    "conf.set(\"spark.kryoserializer.buffer\", \"70\"); \n",
    "conf.set(\"spark.driver.extraJavaOptions\", \"-XX:+UseG1GC\");\n",
    "conf.set(\"spark.executor.extraJavaOptions\", \"-XX:+UseG1GC\");\n",
    "conf.set(\"spark.serializer\", \"org.apache.spark.serializer.KryoSerializer\"); \n",
    "conf.set(\"spark.broadcast.compress\", \"true\"); \n",
    "conf.set(\"spark.shuffle.compress\", \"true\"); \n",
    "conf.set(\"spark.shuffle.spill.compress\", \"true\");\n",
    "conf.set(\"spark.app.name\", Job_Name)\n",
    "#conf.set(\"spark.io.compression.codec\",\"org.apache.spark.io.LZ4CompressionCodec\");\n",
    "#conf.set(\"spark.sql.inMemoryColumnarStorage.compressed\", \"true\"); \n",
    "from pyspark.sql.functions import broadcast\n",
    "\n",
    "conf.set('spark.driver.memory','20g') ### change 2\n",
    "conf.set('spark.cores.max',max_cores) ### change 3\n",
    "conf.set('spark.sql.shuffle.partitions','400')\n",
    "#conf.set('spark.sql.crossJoin.enabled', 'true')\n",
    "conf.set('es.nodes',es_nodes)\n",
    "conf.set('es.port',es_port)\n",
    "conf.set('es.nodes.wan.only','true')\n",
    "conf.set(\"spark.sql.autoBroadcastJoinThreshold\",-1)\n",
    "\n",
    "#conf.set('spark.es.net.http.auth.user','Spark')\n",
    "#conf.set('spark.es.net.http.auth.pass','Jarkpet1Sap3')\n",
    "conf.set('spark.num.executors','4')\n",
    "conf.set('spark.debug.maxToStringFields', 200)\n",
    "\n",
    "conf.set('spark.es.net.http.auth.user', es_user)\n",
    "conf.set('spark.es.net.http.auth.pass', es_pwd)\n",
    "\n",
    "conf.set('spark.es.mapping.date.rich','false')\n",
    "spark = pyspark.SparkContext(conf=conf)\n",
    "sqlContext = SQLContext(spark)\n",
    "\n",
    "# Load Data into PySpark DataFrames\n",
    "# Prodcom Data Frame\n",
    "import json, pprint, requests\n",
    "import pyspark.sql.functions as sf\n",
    "from pyspark.sql.types import *\n",
    "\n",
    "\n",
    "import numpy as np\n",
    "import datetime\n",
    "from pyspark.sql.functions import *\n",
    "from pyspark.sql.types import DateType\n",
    "\n"
   ]
  },
  {
   "cell_type": "code",
   "execution_count": null,
   "metadata": {},
   "outputs": [],
   "source": [
    "from pyspark.sql.functions import hash,col,regexp_replace,collect_list,concat_ws,initcap,count,least\n",
    "import numpy as np\n",
    "import datetime\n",
    "from pyspark.sql.functions import *\n",
    "from pyspark.sql.types import DateType\n",
    "import psycopg2\n",
    "import time\n",
    "from time import gmtime, strftime\n",
    "import pytz\n",
    "starttime = time.time()\n",
    "start_time = datetime.datetime.now(pytz.timezone('Asia/Kolkata')).strftime(\"%Y-%m-%d %H:%M:%S.%f\")\n",
    "start_time"
   ]
  },
  {
   "cell_type": "code",
   "execution_count": null,
   "metadata": {},
   "outputs": [],
   "source": [
    "prod_url = \"jdbc:postgresql://10.35.12.194:5432/gpadmin\"\n",
    "prod_host = '10.35.12.194'\n",
    "prod_port = '5432'\n",
    "prod_dbname = 'gpadmin'\n",
    "user_prod=\"gpcustcoe\"\n",
    "pwd_prod=\"gpcustcoe@123\"\n",
    "dbschema=\"public\"\n",
    "\n",
    "\n",
    "prod_gpdb_spark_options ={\n",
    "    \"url\": \"jdbc:postgresql://{host}:{port}/{dbname}\".format(host=prod_host,port=prod_port, dbname=prod_dbname),\n",
    "    \"user\": \"{user}\".format(user=user_prod),\n",
    "    \"password\": \"{password}\".format(password=pwd_prod)\n",
    "} "
   ]
  },
  {
   "cell_type": "code",
   "execution_count": null,
   "metadata": {},
   "outputs": [],
   "source": [
    "def get_latest_progress(table_name,column_name):\n",
    "    \n",
    "    try: \n",
    "        gscPythonOptions = {\n",
    "                 \"url\":prod_url ,\n",
    "                 \"user\":user_prod ,\n",
    "                 \"password\": pwd_prod,\n",
    "                 \"dbschema\":\"customermart\",\n",
    "                 \"dbtable\": table_name,#table change\n",
    "                 \"server.port\":\"1150-1170\"} \n",
    "        \n",
    "        # this query will fetch till what date we have inserted the records in target\n",
    "        last_run= sqlContext.read.format(\"greenplum\").options(**gscPythonOptions).load()\\\n",
    "            .select(column_name)\n",
    "        \n",
    "        Max_last_run =last_run.select(max(column_name)).first()[0]\n",
    "\n",
    "\n",
    "        # if no record is available in progress then it will raise value error, in this case default value will be picked from except clause\n",
    "        if Max_last_run is None:\n",
    "            raise ValueError(\"No records found!\")\n",
    "\n",
    "        #print(\"Record Found. Progress updated till {}\".format(Max_last_run))\n",
    "\n",
    "    except Exception as E: \n",
    "        Max_last_run = datetime.datetime(2018, 10, 31, 0, 0)  # this is the default start date when no record is present in progress for customer_demographics table\n",
    "        print(\"Executed_except\",repr(E))\n",
    "    return Max_last_run"
   ]
  },
  {
   "cell_type": "code",
   "execution_count": null,
   "metadata": {},
   "outputs": [],
   "source": [
    "# loading table as dataframe\n",
    "def load_gpdb_jdbc(col_str,dbtable,dbschema,col_name=None,time_filter=None,partitionColumn=\"row_num\"):\n",
    "    \"\"\"\n",
    "    This is used to read gpdb with filter for columns and can apply other filter(date,values).\n",
    "    Time filter contains startdate,enddate\n",
    "    \"\"\"\n",
    "    gscPythonOptions = {\n",
    "                        \"url\": prod_url,\n",
    "                        \"user\": user_prod,\n",
    "                        \"password\": pwd_prod,\n",
    "                        \"dbschema\": dbschema,\n",
    "                        \"dbtable\": dbtable,\n",
    "                        \"partitionColumn\":partitionColumn,\n",
    "                        \"partitions\": 8,\n",
    "                        \"server.port\":\"1150-1170\"}\n",
    "   \n",
    "    if time_filter:\n",
    "        data = sqlContext.read.format(\"greenplum\").options(**gscPythonOptions).load()\\\n",
    "                .selectExpr(col_str).drop_duplicates().filter(col(col_name).between(to_timestamp(lit(time_filter['start_date']),\n",
    "                                                                 format='yyyy-MM-dd'),\n",
    "                                                    to_timestamp(lit(time_filter['end_date']),\n",
    "                                                                 format='yyyy-MM-dd')))\n",
    "    else :\n",
    "        data = sqlContext.read.format(\"greenplum\").options(**gscPythonOptions).load()\\\n",
    "                .selectExpr(col_str).drop_duplicates()\n",
    "   \n",
    "    return data"
   ]
  },
  {
   "cell_type": "code",
   "execution_count": null,
   "metadata": {},
   "outputs": [],
   "source": [
    "gscPythonOptions = {\n",
    "         \"url\": \"jdbc:postgresql://10.35.12.194:5432/gpadmin\",\"user\": \"gpcustcoe\",\"password\": \"gpcustcoe@123\",\n",
    "    \"dbschema\":\"customermart\",\n",
    "    \"dbtable\": \"header\",\n",
    "         \"server.port\":\"1150-1170\"}\n",
    "\n",
    "\n",
    "header_df = sqlContext.read.format(\"greenplum\").options(**gscPythonOptions).load()\\\n",
    ".select('golden_id','source_system_customer_id','active_flag','mapping_date').filter((col('active_flag')=='1')).filter((col('source_system_customer_id').isNotNull()))"
   ]
  },
  {
   "cell_type": "code",
   "execution_count": null,
   "metadata": {},
   "outputs": [],
   "source": [
    "from pyspark.sql.window import Window\n",
    "\n",
    "header_df = header_df.withColumn(\"rn\", F.row_number()\n",
    "        .over(Window.partitionBy('source_system_customer_id')\n",
    "        .orderBy(F.col(\"mapping_date\").desc(),F.col(\"golden_id\").desc())))\n",
    "\n",
    "header_df = header_df.filter(F.col(\"rn\") == 1).drop(\"rn\")\n",
    "\n",
    "header_df=header_df.select('source_system_customer_id','golden_id','mapping_date')"
   ]
  },
  {
   "cell_type": "code",
   "execution_count": null,
   "metadata": {},
   "outputs": [],
   "source": [
    "col_str=['golden_id','full_name','first_name','last_name','birth_date','gender','marital_status','weight_kg','tobacco_use_indicator','alcohol_use_indicator','height_cm']\n",
    "gscPythonOptions = {\n",
    "\"url\": \"jdbc:postgresql://10.35.12.194:5432/gpadmin\",\n",
    "\"user\": \"gpspark\", \"server.port\":\"1150-1170\",\n",
    "\"password\": \"spark@456\",\"dbschema\":\"customermart\",\n",
    "\"dbtable\": \"customer_demographics\"}\n",
    "demog_df = sqlContext.read.format(\"greenplum\").options(**gscPythonOptions).load()\\\n",
    "         .selectExpr(col_str)\n",
    "\n",
    "demog_df=demog_df.withColumn('customer_name',coalesce(col('full_name'),concat(col('first_name'),lit(' '),col('last_name'))))\n"
   ]
  },
  {
   "cell_type": "code",
   "execution_count": null,
   "metadata": {},
   "outputs": [],
   "source": [
    "col_str=['golden_id','service_level']\n",
    "gscPythonOptions = {\n",
    "\"url\": \"jdbc:postgresql://10.35.12.194:5432/gpadmin\",\n",
    "\"user\": \"gpspark\", \"server.port\":\"1150-1170\",\n",
    "\"password\": \"spark@456\",\"dbschema\":\"customermart\",\n",
    "\"dbtable\": \"customer_profile\"}\n",
    "profile_df = sqlContext.read.format(\"greenplum\").options(**gscPythonOptions).load()\\\n",
    "         .selectExpr(col_str)"
   ]
  },
  {
   "cell_type": "code",
   "execution_count": null,
   "metadata": {},
   "outputs": [],
   "source": [
    "gscPythonOptions = {\n",
    "         \"url\": \"jdbc:postgresql://10.35.12.194:5432/gpadmin\",\"user\": \"gpcustcoe\",\"password\": \"gpcustcoe@123\"\n",
    "     ,\"dbschema\":\"customermart\"\n",
    "    ,\"dbtable\": \"address\",\n",
    "         \"server.port\":\"1150-1170\"}\n",
    "\n",
    "\n",
    "address_retail_df = sqlContext.read.format(\"greenplum\").options(**gscPythonOptions).load()\\\n",
    ".select('source_system_customer_id','address_type','city','last_updated')\\\n",
    ".filter((col('address_type')=='home'))"
   ]
  },
  {
   "cell_type": "code",
   "execution_count": null,
   "metadata": {},
   "outputs": [],
   "source": [
    "from pyspark.sql.window import Window\n",
    "\n",
    "address_retail_df = address_retail_df.withColumn(\"rn\", F.row_number()\n",
    "        .over(Window.partitionBy('source_system_customer_id','address_type')\n",
    "        .orderBy(F.col(\"last_updated\").desc())))\n",
    "\n",
    "address_retail_df = address_retail_df.filter(F.col(\"rn\") == 1).select('source_system_customer_id','city')"
   ]
  },
  {
   "cell_type": "code",
   "execution_count": null,
   "metadata": {},
   "outputs": [],
   "source": [
    "report_date_str='2023-09-01'"
   ]
  },
  {
   "cell_type": "code",
   "execution_count": null,
   "metadata": {},
   "outputs": [],
   "source": [
    "col_str=[\"policy_number\",'certificate_no', 'product_name', 'product_cd', 'reference_num',\n",
    "         'pol_incept_date as policy_start_date', 'pol_exp_date as policy_end_date','source_system_name',\n",
    "        'source_system_customer_id', 'lob', 'sum_insured', \"uw_discount\", 'premiumamount as premium',\n",
    "        'veh_make', 'veh_model', 'veh_no as vehicle_registration_no', 'ncb_percent','producer_cd',\n",
    "        'plan_type as plan_name','status','record_type_desc','commit_timestamp as binddate','veh_engine_no','veh_chassis_no',\n",
    "         'times_renewed_cnt','min_pol_incept_date','no_of_lives']\n",
    "gscPythonOptions = {\n",
    "\"url\": \"jdbc:postgresql://10.35.12.194:5432/gpadmin\",\n",
    "\"user\": \"gpcustcoe\",\n",
    "\"password\": \"gpcustcoe@123\",\"dbschema\":\"customermart\",\"server.port\":\"1150-1170\",\n",
    "\"dbtable\": \"policy_retail\"}\n",
    "policy = sqlContext.read.format(\"greenplum\").options(**gscPythonOptions).load()\\\n",
    "         .selectExpr(col_str)\n",
    "policy.columns"
   ]
  },
  {
   "cell_type": "code",
   "execution_count": null,
   "metadata": {},
   "outputs": [],
   "source": [
    "policy=policy.filter(F.date_add(col('policy_end_date'),90)>=to_timestamp(lit(report_date_str), format='yyyy-MM-dd'))"
   ]
  },
  {
   "cell_type": "code",
   "execution_count": null,
   "metadata": {},
   "outputs": [],
   "source": [
    "lst_cancelled=['ACDC',\n",
    "'ACDE',\n",
    "'APC',\n",
    "'APCP',\n",
    "'APD',\n",
    "'APRI',\n",
    "'APU',\n",
    "'DCC',\n",
    "'ECDU',\n",
    "'ECN',\n",
    "'ECR',\n",
    "'EPCE',\n",
    "'ERFC',\n",
    "'NCN',\n",
    "'RCN']"
   ]
  },
  {
   "cell_type": "code",
   "execution_count": null,
   "metadata": {},
   "outputs": [],
   "source": [
    "policy=policy.withColumn('record_type_desc', when((col('status').isin(lst_cancelled)),lit('CANCELLATION'))\\\n",
    "                           .otherwise(col('record_type_desc')))"
   ]
  },
  {
   "cell_type": "code",
   "execution_count": null,
   "metadata": {},
   "outputs": [],
   "source": [
    "#Krishnan Badrinath\n",
    "policy=policy.withColumn('assets',when(col('lob').isin('2W'),'2 Wheeler')\\\n",
    "                                        .when(col('lob').isin('Pvt Car'),'Car')\\\n",
    "                                        .when(col('lob').isin('Home'),'Home').otherwise(lit('-')))"
   ]
  },
  {
   "cell_type": "code",
   "execution_count": null,
   "metadata": {},
   "outputs": [],
   "source": [
    "w = Window.partitionBy(['policy_number','certificate_no','policy_start_date', 'policy_end_date']).orderBy([F.col('binddate').desc(),F.col('reference_num').desc()])\n",
    "policy_df = policy.withColumn('row',F.row_number().over(w))\n",
    "policy_df = policy_df.filter(F.col('row')==1).drop(policy_df.row)\n"
   ]
  },
  {
   "cell_type": "code",
   "execution_count": null,
   "metadata": {},
   "outputs": [],
   "source": [
    "policy_df=policy_df.withColumn('certificate_no',when(col('certificate_no').isin('0','0.0','/00000','000000','00000000'),lit('00000000')).otherwise(lit(col('certificate_no'))))\\\n",
    ".withColumn('policy_number',lpad(col('policy_number'),10,'0'))"
   ]
  },
  {
   "cell_type": "code",
   "execution_count": null,
   "metadata": {},
   "outputs": [],
   "source": [
    "col_str=[\"risk1 as relation\",\"reference_num\",'insured_name as name','insured_dob as dob']\n",
    "pdrdh_df=load_gpdb_jdbc(col_str,\"policy_dh_risk_details_hlt\",'public')"
   ]
  },
  {
   "cell_type": "code",
   "execution_count": null,
   "metadata": {},
   "outputs": [],
   "source": [
    "col_str=['source','scoredate', 'score','income','dc_unified_id as golden_id']\n",
    "gscPythonOptions = {\n",
    "\"url\": \"jdbc:postgresql://10.35.12.194:5432/gpadmin\",\n",
    "\"user\": \"gpcustcoe\", \"server.port\":\"1150-1170\",\n",
    "\"password\": \"gpcustcoe@123\",\"dbschema\":\"datamarts\",\n",
    "\"dbtable\": \"credit_bureau_data\"}\n",
    "credit_df = sqlContext.read.format(\"greenplum\").options(**gscPythonOptions).load()\\\n",
    "         .selectExpr(col_str)\n",
    "credit_df.columns"
   ]
  },
  {
   "cell_type": "code",
   "execution_count": null,
   "metadata": {},
   "outputs": [],
   "source": [
    "col_str=[\"policy_no\", \"renewal_prop_final_buckets\",\"segment\",\"month\"]\n",
    "gscPythonOptions = {\n",
    "\"url\": \"jdbc:postgresql://10.35.12.194:5432/gpadmin\",\n",
    "\"user\": \"gpcustcoe\",\n",
    "\"password\": \"gpcustcoe@123\",\n",
    "\"server.port\": \"1151-1170\",\n",
    "\"dbschema\":\"customermart\",\n",
    "\"dbtable\": \"propensity_score_jan_23_jan_24\"}\n",
    "ps = sqlContext.read.format(\"greenplum\").options(**gscPythonOptions).load()\\\n",
    "         .selectExpr(col_str)\n",
    "ps.columns"
   ]
  },
  {
   "cell_type": "code",
   "execution_count": null,
   "metadata": {},
   "outputs": [],
   "source": [
    "ps=ps.withColumn('month',to_date(col('month'),'MMM-yy'))\n",
    "\n",
    "from pyspark.sql.window import Window\n",
    "\n",
    "ps = ps.withColumn(\"rn\", F.row_number()\n",
    "        .over(Window.partitionBy('policy_no')\n",
    "        .orderBy(F.col(\"month\").desc())))\n",
    "\n",
    "ps = ps.filter(F.col(\"rn\") == 1).drop(\"rn\")\n",
    "\n",
    "ps=ps.withColumn('renewal_propensity',concat(col('segment'),lit(\"(\"),col(\"renewal_prop_final_buckets\"),lit(\")\")))\n",
    "\n",
    "ps=ps.select('policy_no','renewal_propensity','month')\n",
    "\n",
    "propensity_df=ps.withColumn('policy_no',lpad(trim(col('policy_no')),10,'0'))"
   ]
  },
  {
   "cell_type": "code",
   "execution_count": null,
   "metadata": {
    "scrolled": true
   },
   "outputs": [],
   "source": [
    "propensity_df=propensity_df.selectExpr('policy_no as policy_number', 'renewal_propensity')"
   ]
  },
  {
   "cell_type": "code",
   "execution_count": null,
   "metadata": {},
   "outputs": [],
   "source": [
    "col_str=[\"dc_unified_id as golden_id\",\"'Eligible for cross sell to Health' as is_eligible\"]\n",
    "gscPythonOptions = {\n",
    "\"url\": \"jdbc:postgresql://10.35.12.194:5432/gpadmin\",\n",
    "\"user\": \"gpcustcoe\",\n",
    "\"password\": \"gpcustcoe@123\",\n",
    " \"server.port\":\"1150-1170\",\n",
    "\"dbschema\":\"customermart\",\n",
    "\"dbtable\": \"cross_sell_eligible_cust\"}\n",
    "cross_sell_df = sqlContext.read.format(\"greenplum\").options(**gscPythonOptions).load()\\\n",
    "         .selectExpr(col_str)\n",
    "cross_sell_df.columns"
   ]
  },
  {
   "cell_type": "code",
   "execution_count": null,
   "metadata": {},
   "outputs": [],
   "source": [
    "gscPythonOptions = {\n",
    "         \"url\": \"jdbc:postgresql://10.35.12.194:5432/gpadmin\",\"user\": \"gpcustcoe\",\"password\": \"gpcustcoe@123\",\n",
    "    \"dbschema\":\"customermart\"\n",
    "    ,\"dbtable\": \"contactability\",\n",
    "         \"server.port\":\"1150-1170\"}\n",
    "\n",
    "contactibilty_retail_df = sqlContext.read.format(\"greenplum\").options(**gscPythonOptions).load()\\\n",
    ".selectExpr('source_system_customer_id','communication_sub_type','value','last_updated','source_system_name','verification_flag').filter((col('source_system_customer_id').isNotNull()))\\\n",
    ".filter(col('value').isNotNull()).filter(col('source_system_name')!='CREDIT_BUREAU')"
   ]
  },
  {
   "cell_type": "code",
   "execution_count": null,
   "metadata": {},
   "outputs": [],
   "source": [
    "contactibilty_retail_df=contactibilty_retail_df.withColumn(\"rnk\",when(col(\"source_system_name\")=='GC',1)\\\n",
    ".otherwise(2))"
   ]
  },
  {
   "cell_type": "code",
   "execution_count": null,
   "metadata": {},
   "outputs": [],
   "source": [
    "contactibilty_retail_df=contactibilty_retail_df.withColumn('mobile',when(col('communication_sub_type')=='mobile',col('value')).otherwise(None))\n",
    "contactibilty_retail_df=contactibilty_retail_df.withColumn('email',when(col('communication_sub_type')=='email',col('value')).otherwise(None))\n",
    "\n",
    "contactibilty_retail_df = contactibilty_retail_df.withColumn('email',when((lower(trim(col(\"email\"))).rlike(\"^[a-zA-Z0-9._%+-]+@[a-zA-Z0-9.-]+\\.[a-zA-Z]{2,}(\\.[a-zA-Z]{2,})?$\") == False)\\\n",
    "                                                        & (lower(trim(col(\"communication_sub_type\")))=='email'),lit(None)).otherwise(col('email')))\n",
    "\n",
    "\n",
    "\n",
    "contactibilty_retail_df=contactibilty_retail_df.select('source_system_customer_id','mobile','email','rnk','last_updated','verification_flag')"
   ]
  },
  {
   "cell_type": "code",
   "execution_count": null,
   "metadata": {},
   "outputs": [],
   "source": [
    "contactibilty_retail_df.columns"
   ]
  },
  {
   "cell_type": "code",
   "execution_count": null,
   "metadata": {},
   "outputs": [],
   "source": [
    "contactibilty_retail_df=contactibilty_retail_df.join(header_df,'source_system_customer_id','inner')"
   ]
  },
  {
   "cell_type": "code",
   "execution_count": null,
   "metadata": {
    "scrolled": true
   },
   "outputs": [],
   "source": [
    "contactibilty_retail_df_email=contactibilty_retail_df.filter((col('email').isNotNull())).dropDuplicates(subset=[\"email\",\"golden_id\"])\n",
    "contactibilty_retail_df_mob=contactibilty_retail_df.filter((col('mobile').isNotNull())).drop_duplicates(subset=[\"mobile\",\"golden_id\"])"
   ]
  },
  {
   "cell_type": "code",
   "execution_count": null,
   "metadata": {},
   "outputs": [],
   "source": [
    "contactibilty_retail_df_email=contactibilty_retail_df_email.withColumn('email',lower(col('email')))"
   ]
  },
  {
   "cell_type": "code",
   "execution_count": null,
   "metadata": {},
   "outputs": [],
   "source": [
    "# from pyspark.sql.window import Window\n",
    "\n",
    "# contactibilty_retail_df_email = contactibilty_retail_df_email.withColumn(\"rn\", F.row_number()\n",
    "#         .over(Window.partitionBy('golden_id','email')\n",
    "#         .orderBy(F.col(\"rnk\").asc(),F.col(\"last_updated\").desc(),F.col(\"email\").desc_nulls_last())))\n",
    "\n",
    "# contactibilty_retail_df_email = contactibilty_retail_df_email.filter(F.col(\"rn\")<=2)\n",
    "\n",
    "from pyspark.sql.window import Window\n",
    "\n",
    "contactibilty_retail_df_email = contactibilty_retail_df_email.withColumn(\"rn\", F.dense_rank()\n",
    "        .over(Window.partitionBy('golden_id')\n",
    "        .orderBy(F.col(\"rnk\").asc(),F.col(\"last_updated\").desc(),F.col(\"email\").desc_nulls_last())))\n",
    "\n",
    "contactibilty_retail_df_email = contactibilty_retail_df_email.filter(F.col(\"rn\")<=2)"
   ]
  },
  {
   "cell_type": "code",
   "execution_count": null,
   "metadata": {},
   "outputs": [],
   "source": [
    "# from pyspark.sql.window import Window\n",
    "\n",
    "# contactibilty_retail_df_mob = contactibilty_retail_df_mob.withColumn(\"rn_mob\", F.row_number()\n",
    "#         .over(Window.partitionBy('golden_id','mobile')\n",
    "#         .orderBy(F.col(\"rnk\").asc(),F.col(\"last_updated\").desc(),F.col(\"mobile\").desc_nulls_last())))\n",
    "\n",
    "# contactibilty_retail_df_mob = contactibilty_retail_df_mob.filter(F.col(\"rn_mob\")<=2)\n",
    "\n",
    "from pyspark.sql.window import Window\n",
    "\n",
    "contactibilty_retail_df_mob = contactibilty_retail_df_mob.withColumn(\"rn_mob\", F.dense_rank()\n",
    "        .over(Window.partitionBy('golden_id')\n",
    "        .orderBy(F.col(\"rnk\").asc(),F.col(\"last_updated\").desc(),F.col(\"mobile\").desc_nulls_last())))\n",
    "\n",
    "contactibilty_retail_df_mob = contactibilty_retail_df_mob.filter(F.col(\"rn_mob\")<=2)"
   ]
  },
  {
   "cell_type": "code",
   "execution_count": null,
   "metadata": {},
   "outputs": [],
   "source": [
    "contactibilty_retail_df_email=contactibilty_retail_df_email.select('golden_id','email','rn','verification_flag').filter((col('email').isNotNull())).drop_duplicates()\n",
    "contactibilty_retail_df_mob=contactibilty_retail_df_mob.selectExpr('golden_id','mobile','rn_mob','verification_flag as verification_flag_mob').filter((col('mobile').isNotNull())).drop_duplicates()"
   ]
  },
  {
   "cell_type": "code",
   "execution_count": null,
   "metadata": {},
   "outputs": [],
   "source": [
    "contactibilty_retail_df=contactibilty_retail_df_mob.join(contactibilty_retail_df_email,'golden_id','full_outer').drop_duplicates()"
   ]
  },
  {
   "cell_type": "code",
   "execution_count": null,
   "metadata": {},
   "outputs": [],
   "source": [
    "contactibilty_retail_df.columns"
   ]
  },
  {
   "cell_type": "code",
   "execution_count": null,
   "metadata": {},
   "outputs": [],
   "source": [
    "contactibilty_retail_df=contactibilty_retail_df.repartition('golden_id')"
   ]
  },
  {
   "cell_type": "code",
   "execution_count": null,
   "metadata": {},
   "outputs": [],
   "source": [
    "col_str=['claim_no','claim_feature_concat','insured_name','claim_status','paid_amt_ind as claim_net',\n",
    "         'paid_date_ind as claim_closed_date'\n",
    "         ,'clm_create_date as claim_date','loss_reported_date as claim_reported_date',\n",
    "'policy_no as policy_number','certificate_no',\"pol_incept_date as policy_start_date\",\n",
    "         \"pol_exp_date as policy_end_date\",\n",
    "         'claimant_name','loss_desc_txt as loss_description','customer_id as source_system_customer_id',\n",
    "'coverage_desc as coverage_type','proposal_no as num_reference_no']\n",
    "\n",
    "gscPythonOptions = {\n",
    "\"url\": \"jdbc:postgresql://10.35.12.194:5432/gpadmin\",\n",
    "\"user\": \"gpcustcoe\",\n",
    "\"password\": \"gpcustcoe@123\",\n",
    "\"dbschema\":\"datamarts\",\n",
    "\"dbtable\": \"producer_policy_product_wise_base_data\",\n",
    "\"server.port\": \"1150-1170\"}\n",
    "crgp_df = sqlContext.read.format(\"greenplum\").options(**gscPythonOptions).load().selectExpr(col_str)\n",
    "\n",
    "#df_crp=df_crp.groupby('num_reference_no').agg(countDistinct(col('claim_no')).alias('claim_cnt'),sum(col('claim_gross').cast('double')).alias('claim_gross'))\n",
    "\n",
    "crgp_df.columns"
   ]
  },
  {
   "cell_type": "code",
   "execution_count": null,
   "metadata": {},
   "outputs": [],
   "source": [
    "crgp_df=crgp_df.withColumn('certificate_no',when(col('certificate_no').isin('0','0.0','/00000','000000','00000000'),lit('00000000')).otherwise(lit(col('certificate_no'))))\\\n",
    ".withColumn('policy_number',lpad(col('policy_number'),10,'0'))\n",
    "\n",
    "crgp_df=crgp_df.withColumn('policy_start_date',to_date(col('policy_start_date'),'dd-MM-yyyy'))\\\n",
    ".withColumn('policy_end_date',to_date(col('policy_end_date'),'dd-MM-yyyy'))"
   ]
  },
  {
   "cell_type": "code",
   "execution_count": null,
   "metadata": {},
   "outputs": [],
   "source": [
    "crgp_df=crgp_df.withColumn('policy_start_date',to_date(col('policy_start_date'),'dd-MM-yyyy'))\\\n",
    ".withColumn('policy_end_date',to_date(col('policy_end_date'),'dd-MM-yyyy'))\\\n",
    ".withColumn('claim_date',to_date(col('claim_date'),'dd-MM-yyyy'))\n"
   ]
  },
  {
   "cell_type": "code",
   "execution_count": null,
   "metadata": {},
   "outputs": [],
   "source": [
    "col_str=[\"nameofpreexistingdisease as ped\",\"num_reference_number as reference_num\"]\n",
    "gscPythonOptions = {\n",
    "\"url\": \"jdbc:postgresql://10.35.12.194:5432/gpadmin\",\n",
    "\"user\": \"gpcustcoe\",\n",
    "\"password\": \"gpcustcoe@123\",\n",
    "\"server.port\": \"1151-1170\",\n",
    "\"dbschema\":\"public\",\n",
    "\"dbtable\": \"underwriting_dh_cnfgtr_otherdt_grid_tab_hlt\"}\n",
    "pd_df = sqlContext.read.format(\"greenplum\").options(**gscPythonOptions).load()\\\n",
    "         .selectExpr(col_str)\n",
    "pd_df.columns"
   ]
  },
  {
   "cell_type": "code",
   "execution_count": null,
   "metadata": {},
   "outputs": [],
   "source": [
    "col_str=['feedback_title','feedback_date as date','score','golden_id']\n",
    "# \"current_year\"\n",
    "gscPythonOptions = {\n",
    "\"url\": \"jdbc:postgresql://10.35.12.194:5432/gpadmin\",\n",
    "\"user\": \"gpcustcoe\",\n",
    "\"password\": \"gpcustcoe@123\",\n",
    "\"server.port\": \"1151-1170\",\n",
    "\"dbschema\":\"customermart\",\n",
    "\"dbtable\": \"feedback_spa_v2\"}\n",
    "feedback_df = sqlContext.read.format(\"greenplum\").options(**gscPythonOptions).load()\\\n",
    "         .selectExpr(col_str)\n",
    "feedback_df.columns"
   ]
  },
  {
   "cell_type": "markdown",
   "metadata": {},
   "source": [
    "## Active"
   ]
  },
  {
   "cell_type": "code",
   "execution_count": null,
   "metadata": {},
   "outputs": [],
   "source": [
    "pdf=policy_df.select('source_system_customer_id','policy_end_date','record_type_desc','policy_number','certificate_no')\n",
    "\n",
    "is_policy=header_df.join(pdf,'source_system_customer_id','inner')"
   ]
  },
  {
   "cell_type": "code",
   "execution_count": null,
   "metadata": {},
   "outputs": [],
   "source": [
    "header_df=is_policy.select('golden_id','source_system_customer_id','mapping_date')"
   ]
  },
  {
   "cell_type": "code",
   "execution_count": null,
   "metadata": {},
   "outputs": [],
   "source": [
    "is_policy.columns"
   ]
  },
  {
   "cell_type": "code",
   "execution_count": null,
   "metadata": {},
   "outputs": [],
   "source": [
    "is_active_df=is_policy.withColumn('cust_status', when((col('policy_end_date') >=current_date()) &(col('record_type_desc')!='CANCELLATION') , lit(1)).otherwise(lit(0)))\\"
   ]
  },
  {
   "cell_type": "code",
   "execution_count": null,
   "metadata": {},
   "outputs": [],
   "source": [
    "is_cust_active=is_active_df.groupBy('golden_id').agg(max('cust_status').alias(\"is_active\"))\n"
   ]
  },
  {
   "cell_type": "code",
   "execution_count": null,
   "metadata": {},
   "outputs": [],
   "source": [
    "is_cust_active=is_cust_active.withColumn('is_active',when(is_cust_active['is_active']==1,True).otherwise(False))"
   ]
  },
  {
   "cell_type": "markdown",
   "metadata": {},
   "source": [
    "# customerDetails"
   ]
  },
  {
   "cell_type": "code",
   "execution_count": null,
   "metadata": {},
   "outputs": [],
   "source": [
    "demog=demog_df.select('golden_id','customer_name','birth_date','gender','marital_status')"
   ]
  },
  {
   "cell_type": "code",
   "execution_count": null,
   "metadata": {},
   "outputs": [],
   "source": [
    "cp=demog.join(profile_df, 'golden_id',\"left_outer\")"
   ]
  },
  {
   "cell_type": "code",
   "execution_count": null,
   "metadata": {},
   "outputs": [],
   "source": [
    "cust_detail=header_df.join(cp,'golden_id','inner')"
   ]
  },
  {
   "cell_type": "code",
   "execution_count": null,
   "metadata": {
    "scrolled": true
   },
   "outputs": [],
   "source": [
    "cust_detail=cust_detail.join(address_retail_df,'source_system_customer_id','left')"
   ]
  },
  {
   "cell_type": "code",
   "execution_count": null,
   "metadata": {},
   "outputs": [],
   "source": [
    "from pyspark.sql import functions as F\n",
    "cust_detail = cust_detail.withColumn('age', (F.months_between(current_date(), F.col('birth_date')) / 12).cast('int'))\n",
    "cust_detail = cust_detail.withColumn('is_senior_citizen', when(col('age')>=60, lit(True)).otherwise(lit(False)))"
   ]
  },
  {
   "cell_type": "code",
   "execution_count": null,
   "metadata": {},
   "outputs": [],
   "source": [
    "gscPythonOptions = {\n",
    "\"url\": \"jdbc:postgresql://10.35.12.194:5432/gpadmin\",\n",
    "\"user\": \"gpspark\",\n",
    "\"password\": \"spark@456\",\n",
    "\"server.port\":\"1150-1170\",\n",
    "\"dbschema\": \"public\",\n",
    "\"dbtable\": \"customer_gc_genmst_customer\"}\n",
    "customer_gc_df = sqlContext.read.format(\"greenplum\").options(**gscPythonOptions).load()\\\n",
    ".select('customer_code','birth_dt','dat_insert_date')"
   ]
  },
  {
   "cell_type": "code",
   "execution_count": null,
   "metadata": {},
   "outputs": [],
   "source": [
    "cust_detail_1=cust_detail.join(customer_gc_df,customer_gc_df.customer_code==cust_detail.source_system_customer_id,'inner')\\\n",
    ".filter(col('age')<18)"
   ]
  },
  {
   "cell_type": "code",
   "execution_count": null,
   "metadata": {},
   "outputs": [],
   "source": [
    "from pyspark.sql import functions as F\n",
    "cust_detail_1 = cust_detail_1.withColumn('age', (F.months_between(current_date(), F.col('birth_dt')) / 12).cast('int'))"
   ]
  },
  {
   "cell_type": "code",
   "execution_count": null,
   "metadata": {},
   "outputs": [],
   "source": [
    "cust_detail_1.columns"
   ]
  },
  {
   "cell_type": "code",
   "execution_count": null,
   "metadata": {},
   "outputs": [],
   "source": [
    "cust_detail_age_recti=cust_detail_1.groupBy('golden_id').agg((max('age')).alias(\"age\"))"
   ]
  },
  {
   "cell_type": "code",
   "execution_count": null,
   "metadata": {},
   "outputs": [],
   "source": [
    "cust_detail_1=cust_detail_1.join(cust_detail_age_recti,'golden_id','inner').drop(cust_detail_1.age).drop(cust_detail_1.birth_dt).drop(cust_detail_1.dat_insert_date)"
   ]
  },
  {
   "cell_type": "code",
   "execution_count": null,
   "metadata": {},
   "outputs": [],
   "source": [
    "cust_detail_2=cust_detail.filter((col('age')>=18)|(col('age').isNull()))"
   ]
  },
  {
   "cell_type": "code",
   "execution_count": null,
   "metadata": {},
   "outputs": [],
   "source": [
    "cust_detail=cust_detail_2.union(cust_detail_1.select('source_system_customer_id', 'golden_id', 'mapping_date', 'customer_name', 'birth_date', 'gender', 'marital_status', 'service_level', 'city', 'age', 'is_senior_citizen'))"
   ]
  },
  {
   "cell_type": "code",
   "execution_count": null,
   "metadata": {},
   "outputs": [],
   "source": [
    "cust_detail = cust_detail.withColumn('is_hni_customer', when(col('service_level').isin('5'), lit(True)).otherwise(lit(False)))"
   ]
  },
  {
   "cell_type": "code",
   "execution_count": null,
   "metadata": {},
   "outputs": [],
   "source": [
    "cust_detail=cust_detail.join(is_cust_active,'golden_id','left')"
   ]
  },
  {
   "cell_type": "code",
   "execution_count": null,
   "metadata": {},
   "outputs": [],
   "source": [
    "cust_detail.columns"
   ]
  },
  {
   "cell_type": "code",
   "execution_count": null,
   "metadata": {},
   "outputs": [],
   "source": [
    "from pyspark.sql import functions as F\n",
    "cust_detail = cust_detail.withColumn('age', (F.months_between(current_date(), F.col('birth_date')) / 12).cast('int'))\n",
    "cust_detail = cust_detail.withColumn('is_senior_citizen', when(col('age')>=60, lit(True)).otherwise(lit(False)))"
   ]
  },
  {
   "cell_type": "code",
   "execution_count": null,
   "metadata": {},
   "outputs": [],
   "source": [
    "from pyspark.sql.window import Window\n",
    "\n",
    "w = Window.partitionBy(['golden_id']).orderBy([F.col('mapping_date').desc(),F.col('source_system_customer_id').desc()])\n",
    "cust_detail = cust_detail.withColumn('row',F.row_number().over(w))\n",
    "cust_detail = cust_detail.filter(F.col('row')==1).drop(cust_detail.row)"
   ]
  },
  {
   "cell_type": "code",
   "execution_count": null,
   "metadata": {},
   "outputs": [],
   "source": [
    "cust_detail=cust_detail.join(pdf.select('policy_end_date','source_system_customer_id'),'source_system_customer_id','inner')"
   ]
  },
  {
   "cell_type": "code",
   "execution_count": null,
   "metadata": {},
   "outputs": [],
   "source": [
    "cust_detail=cust_detail.withColumn('mapping_date',date_format(to_utc_timestamp(col('mapping_date'),\"UTC\"),'yyyy-MM-dd'))"
   ]
  },
  {
   "cell_type": "code",
   "execution_count": null,
   "metadata": {},
   "outputs": [],
   "source": [
    "cust_detail.persist()\n",
    "cust_detail.count()"
   ]
  },
  {
   "cell_type": "code",
   "execution_count": null,
   "metadata": {
    "scrolled": true
   },
   "outputs": [],
   "source": [
    "output_index = 'spa_cust_detail_v2'#cust_detail_spa_v1\n",
    "schema = 'customermart'\n",
    "\n",
    "import sys\n",
    "try:\n",
    "    \n",
    "     cust_detail.write.option(\"truncate\", \"true\").format(\"greenplum\")\\\n",
    "    .option(\"dbtable\",output_index).option('dbschema',schema)\\\n",
    "    .option(\"server.port\",\"1150-1170\").option(\"url\",prod_url)\\\n",
    "    .option(\"user\", user_prod).option(\"password\",pwd_prod).mode('overwrite').save()\n",
    "    \n",
    "    \n",
    "except Exception as e:\n",
    "    x = e\n",
    "    print(x)\n",
    "else:\n",
    "    x = 'success'\n",
    "    print(x)"
   ]
  },
  {
   "cell_type": "code",
   "execution_count": null,
   "metadata": {},
   "outputs": [],
   "source": [
    "# gscPythonOptions = {\"url\": \"jdbc:postgresql://10.35.12.194:5432/gpadmin\",\n",
    "#                     \"user\": user_prod,\n",
    "#                     \"password\": pwd_prod,\n",
    "#                     \"dbschema\": \"customermart\",\n",
    "#                     \"dbtable\": \"spa_cust_detail_v2\",#policy_retail_staging_2018_03,\n",
    "#                     \"server.port\": '1150-1170'}\n",
    "# cust_detail = sqlContext.read.format(\"greenplum\").options(**gscPythonOptions).load()\n",
    "\n",
    "\n",
    "# # .filter(~(col('product_name').isin(l)))"
   ]
  },
  {
   "cell_type": "code",
   "execution_count": null,
   "metadata": {},
   "outputs": [],
   "source": [
    "cust_detail=cust_detail.selectExpr('golden_id','customer_name as full_name', 'gender', 'marital_status', 'service_level', 'city', 'age', 'is_senior_citizen as isseniorcitizen', 'is_hni_customer as ishnicustomer', 'is_active as isactivecustomer','mapping_date')"
   ]
  },
  {
   "cell_type": "code",
   "execution_count": null,
   "metadata": {},
   "outputs": [],
   "source": [
    "target_index='get_spa_cust_prop_score_details_1'\n",
    "print(target_index)"
   ]
  },
  {
   "cell_type": "code",
   "execution_count": null,
   "metadata": {},
   "outputs": [],
   "source": [
    "import json, pprint, requests\n",
    "es_nodes = '10.35.12.212'\n",
    "es_port = '9200'\n",
    "es_user = 'elastic'\n",
    "es_pwd = 'bEiilauM3es'\n",
    "\n",
    "######target_index = 'actuarial_premium_risk_tables'----previous name...delete later\n",
    "\n",
    "#alias_name = 'nepuepr_uat_3'\n",
    "target_doc_type = 'get_spa_cust_prop_score_details_1'\n",
    "#########delete index if already exists########################################################################################################################################################################"
   ]
  },
  {
   "cell_type": "code",
   "execution_count": null,
   "metadata": {},
   "outputs": [],
   "source": [
    "target_index_doc_type = target_index +'/'+ target_doc_type"
   ]
  },
  {
   "cell_type": "code",
   "execution_count": null,
   "metadata": {},
   "outputs": [],
   "source": [
    "target_index_doc_type"
   ]
  },
  {
   "cell_type": "code",
   "execution_count": null,
   "metadata": {},
   "outputs": [],
   "source": [
    "try:\n",
    "     cust_detail.write.format('org.elasticsearch.spark.sql').option('es.index.auto.create', 'true')\\\n",
    "        .option('es.nodes' , es_nodes).option('es.port', es_port).option('es.resource', target_index_doc_type)\\\n",
    "        .option(\"es.write.operation\",\"upsert\").option(\"es.mapping.id\",\"golden_id\").mode(\"append\").save() \n",
    "except Exception as e :\n",
    "    x = e\n",
    "else: \n",
    "    x = 200 # success\n",
    "print(x)"
   ]
  },
  {
   "cell_type": "markdown",
   "metadata": {},
   "source": [
    "# Feedback"
   ]
  },
  {
   "cell_type": "code",
   "execution_count": null,
   "metadata": {},
   "outputs": [],
   "source": [
    "feedback_df=feedback_df.withColumn('feedback_date',when(to_date('date',\"yyyy-MM-dd\").isNotNull(), date_format(to_date('date',\"yyyy-MM-dd\"),\"yyyy-MM-dd\"))\\\n",
    "                                   .when(to_date('date',\"MM/dd/yyyy\").isNotNull(), date_format(to_date('date',\"MM/dd/yyyy\"),\"yyyy-MM-dd\"))\\\n",
    "                                   .when(to_date('date',\"yyyy/MM/dd\").isNotNull(), date_format(to_date('date',\"yyyy/MM/dd\"),\"yyyy-MM-dd\"))\\\n",
    "                                   .otherwise('date'))"
   ]
  },
  {
   "cell_type": "code",
   "execution_count": null,
   "metadata": {},
   "outputs": [],
   "source": [
    "feedback_df=feedback_df.withColumn('current_year', when(year(col('feedback_date'))==year(current_date()), lit(True)).otherwise(lit(False)))\n"
   ]
  },
  {
   "cell_type": "code",
   "execution_count": null,
   "metadata": {},
   "outputs": [],
   "source": [
    "from pyspark.sql.window import Window\n",
    "\n",
    "w = Window.partitionBy(['golden_id']).orderBy([F.col('feedback_date').desc()])\n",
    "feedback_df = feedback_df.withColumn('row',F.row_number().over(w))\n",
    "feedback_df = feedback_df.filter(F.col('row')<=5).drop(feedback_df.row).drop('date')"
   ]
  },
  {
   "cell_type": "code",
   "execution_count": null,
   "metadata": {},
   "outputs": [],
   "source": [
    "feedback_df=feedback_df.withColumn('score',regexp_extract('score',r\"(\\d+)\",1).cast(\"int\"))"
   ]
  },
  {
   "cell_type": "code",
   "execution_count": null,
   "metadata": {},
   "outputs": [],
   "source": [
    "feedback_df=feedback_df.drop_duplicates()"
   ]
  },
  {
   "cell_type": "code",
   "execution_count": null,
   "metadata": {},
   "outputs": [],
   "source": [
    "feedback_df.columns"
   ]
  },
  {
   "cell_type": "code",
   "execution_count": null,
   "metadata": {},
   "outputs": [],
   "source": [
    "feedback_df=feedback_df.selectExpr('feedback_title', 'score', 'golden_id', 'feedback_date as date', 'current_year')"
   ]
  },
  {
   "cell_type": "code",
   "execution_count": null,
   "metadata": {},
   "outputs": [],
   "source": [
    "feedback_df=feedback_df.join(cust_detail.select('golden_id'),'golden_id','inner')"
   ]
  },
  {
   "cell_type": "code",
   "execution_count": null,
   "metadata": {},
   "outputs": [],
   "source": [
    "feedback_df.persist()\n",
    "feedback_df.count()"
   ]
  },
  {
   "cell_type": "code",
   "execution_count": null,
   "metadata": {},
   "outputs": [],
   "source": [
    "target_index='get_spa_cust_feedback'\n",
    "print(target_index)"
   ]
  },
  {
   "cell_type": "code",
   "execution_count": null,
   "metadata": {},
   "outputs": [],
   "source": [
    "import json, pprint, requests\n",
    "es_nodes = '10.35.12.212'\n",
    "es_port = '9200'\n",
    "es_user = 'elastic'\n",
    "es_pwd = 'bEiilauM3es'\n",
    "\n",
    "######target_index = 'actuarial_premium_risk_tables'----previous name...delete later\n",
    "\n",
    "#alias_name = 'nepuepr_uat_3'\n",
    "target_doc_type = 'get_spa_cust_feedback'\n",
    "#########delete index if already exists########################################################################################################################################################################"
   ]
  },
  {
   "cell_type": "code",
   "execution_count": null,
   "metadata": {},
   "outputs": [],
   "source": [
    "target_doc_type"
   ]
  },
  {
   "cell_type": "code",
   "execution_count": null,
   "metadata": {},
   "outputs": [],
   "source": [
    "target_index_doc_type = target_index +'/'+ target_doc_type"
   ]
  },
  {
   "cell_type": "code",
   "execution_count": null,
   "metadata": {},
   "outputs": [],
   "source": [
    "target_index_doc_type"
   ]
  },
  {
   "cell_type": "code",
   "execution_count": null,
   "metadata": {
    "scrolled": true
   },
   "outputs": [],
   "source": [
    "try:\n",
    "         feedback_df.write.format('org.elasticsearch.spark.sql').option('es.index.auto.create', 'true')\\\n",
    "        .option('es.nodes' , es_nodes).option('es.port', es_port).option('es.resource', target_index_doc_type)\\\n",
    "        .option(\"es.write.operation\",\"upsert\").option(\"es.mapping.id\",\"golden_id\").mode(\"append\").save() \n",
    "except Exception as e :\n",
    "    x = e\n",
    "else: \n",
    "    x = 200 # success\n",
    "print(x)"
   ]
  },
  {
   "cell_type": "code",
   "execution_count": null,
   "metadata": {},
   "outputs": [],
   "source": [
    "feedback_df.unpersist()"
   ]
  },
  {
   "cell_type": "markdown",
   "metadata": {},
   "source": [
    "# propensityDetails"
   ]
  },
  {
   "cell_type": "code",
   "execution_count": null,
   "metadata": {},
   "outputs": [],
   "source": [
    "gid_pol=is_active_df.select('policy_number','golden_id')"
   ]
  },
  {
   "cell_type": "code",
   "execution_count": null,
   "metadata": {
    "scrolled": true
   },
   "outputs": [],
   "source": [
    "propensity_df.columns"
   ]
  },
  {
   "cell_type": "code",
   "execution_count": null,
   "metadata": {
    "scrolled": true
   },
   "outputs": [],
   "source": [
    "prop_df=gid_pol.join(propensity_df,'policy_number',\"left_outer\")"
   ]
  },
  {
   "cell_type": "code",
   "execution_count": null,
   "metadata": {},
   "outputs": [],
   "source": [
    "prop_df=prop_df.join(cross_sell_df,'golden_id',\"left_outer\")"
   ]
  },
  {
   "cell_type": "code",
   "execution_count": null,
   "metadata": {},
   "outputs": [],
   "source": [
    "prop_df=prop_df.selectExpr(\"golden_id\",\"renewal_propensity as renewaltendency\", \"'-' as upselleligibility\", \"is_eligible as crossselleligibility\")"
   ]
  },
  {
   "cell_type": "code",
   "execution_count": null,
   "metadata": {},
   "outputs": [],
   "source": [
    "prop_df=prop_df.withColumn('renewaltendency',when(col('renewaltendency').isNull(),lit('-')).otherwise(col('renewaltendency')))\\\n",
    ".withColumn('crossselleligibility',when(col('crossselleligibility').isNull(),lit('-')).otherwise(col('crossselleligibility')))"
   ]
  },
  {
   "cell_type": "code",
   "execution_count": null,
   "metadata": {},
   "outputs": [],
   "source": [
    "prop_df=prop_df.join(cust_detail.select('golden_id'),'golden_id','inner')"
   ]
  },
  {
   "cell_type": "code",
   "execution_count": null,
   "metadata": {},
   "outputs": [],
   "source": [
    "prop_df.persist()\n",
    "prop_df.count()"
   ]
  },
  {
   "cell_type": "code",
   "execution_count": null,
   "metadata": {},
   "outputs": [],
   "source": [
    "output_index = 'prop_df_v2'#cpa_all_prod_fy20,cpa_all_prod_fy21,prop_df_f\n",
    "schema = 'customermart'\n",
    "\n",
    "import sys\n",
    "try:\n",
    "    \n",
    "     prop_df.write.option(\"truncate\", \"true\").format(\"greenplum\")\\\n",
    "    .option(\"dbtable\",output_index).option('dbschema',schema)\\\n",
    "    .option(\"server.port\",\"1150-1170\").option(\"url\",prod_url)\\\n",
    "    .option(\"user\", user_prod).option(\"password\",pwd_prod).mode('overwrite').save()\n",
    "    \n",
    "    \n",
    "except Exception as e:\n",
    "    x = e\n",
    "    print(x)\n",
    "else:\n",
    "    x = 'success'\n",
    "    print(x)"
   ]
  },
  {
   "cell_type": "code",
   "execution_count": null,
   "metadata": {},
   "outputs": [],
   "source": [
    "prop_df1=prop_df.groupBy('golden_id').agg(*[max(col).alias(f\"{col}\") for col in prop_df.columns if col!=\"golden_id\"])"
   ]
  },
  {
   "cell_type": "code",
   "execution_count": null,
   "metadata": {},
   "outputs": [],
   "source": [
    "target_index='get_spa_prop_score_details'\n",
    "print(target_index)"
   ]
  },
  {
   "cell_type": "code",
   "execution_count": null,
   "metadata": {},
   "outputs": [],
   "source": [
    "import json, pprint, requests\n",
    "es_nodes = '10.35.12.212'\n",
    "es_port = '9200'\n",
    "es_user = 'elastic'\n",
    "es_pwd = 'bEiilauM3es'\n",
    "\n",
    "######target_index = 'actuarial_premium_risk_tables'----previous name...delete later\n",
    "\n",
    "#alias_name = 'nepuepr_uat_3'\n",
    "target_doc_type = 'get_spa_prop_score_details'\n",
    "#########delete index if already exists########################################################################################################################################################################"
   ]
  },
  {
   "cell_type": "code",
   "execution_count": null,
   "metadata": {},
   "outputs": [],
   "source": [
    "target_index_doc_type = target_index +'/'+ target_doc_type\n",
    "target_index_doc_type"
   ]
  },
  {
   "cell_type": "code",
   "execution_count": null,
   "metadata": {},
   "outputs": [],
   "source": [
    "#########delete index ###############################################\n",
    "headers = {'Content-Type': 'application/json'}\n",
    "query = {\"query\":{\"match_all\":{}}}\n",
    "URL = 'http://'+es_user+':'+es_pwd+'@'+es_nodes+':'+es_port+'/'+target_index\n",
    "r = requests.delete(URL, data=json.dumps(query), headers=headers) \n",
    "print(r)"
   ]
  },
  {
   "cell_type": "code",
   "execution_count": null,
   "metadata": {},
   "outputs": [],
   "source": [
    "#########create index ##################################################################################################################################################################\n",
    "headers = {'Content-Type': 'application/json'}\n",
    "query_create= {\"settings\": { \"index.number_of_shards\": \"1\" }}\n",
    "URL = 'http://'+es_user+':'+es_pwd+'@'+es_nodes+':'+es_port+'/'+target_index\n",
    "r = requests.put(URL, data=json.dumps(query_create), headers=headers)\n",
    "print(r)"
   ]
  },
  {
   "cell_type": "code",
   "execution_count": null,
   "metadata": {},
   "outputs": [],
   "source": [
    "try:\n",
    "     prop_df1.write.format('org.elasticsearch.spark.sql').option('es.index.auto.create', 'true')\\\n",
    "        .option('es.nodes' , es_nodes).option('es.port', es_port).option('es.resource', target_index_doc_type)\\\n",
    "        .option(\"es.write.operation\",\"upsert\").option(\"es.mapping.id\",\"golden_id\").mode(\"append\").save() \n",
    "except Exception as e :\n",
    "    x = e\n",
    "else: \n",
    "    x = 200 # success\n",
    "print(x)"
   ]
  },
  {
   "cell_type": "code",
   "execution_count": null,
   "metadata": {},
   "outputs": [],
   "source": [
    "prop_df.unpersist()"
   ]
  },
  {
   "cell_type": "markdown",
   "metadata": {},
   "source": [
    "# communicationDetails"
   ]
  },
  {
   "cell_type": "code",
   "execution_count": null,
   "metadata": {},
   "outputs": [],
   "source": [
    "# com_details_df=header_df.join(contactibilty_retail_df,'source_system_customer_id',\"left_outer\")"
   ]
  },
  {
   "cell_type": "code",
   "execution_count": null,
   "metadata": {},
   "outputs": [],
   "source": [
    "com_details_df=contactibilty_retail_df"
   ]
  },
  {
   "cell_type": "code",
   "execution_count": null,
   "metadata": {},
   "outputs": [],
   "source": [
    "contactibilty_retail_df.columns"
   ]
  },
  {
   "cell_type": "code",
   "execution_count": null,
   "metadata": {},
   "outputs": [],
   "source": [
    "com_details_df=com_details_df.withColumn('primary_mobile_no', when(col('rn_mob')==1,(col('mobile'))))\\\n",
    ".withColumn('primary_number_status', when((col('verification_flag_mob').isin('Y'))&(col('rn_mob')==1) &(col('primary_mobile_no').isNotNull()), lit('Verified'))\\\n",
    "            .when(col('primary_mobile_no').isNull(),lit('-')).otherwise(lit('Not Verified')))\\\n",
    ".withColumn('primary_number_status_enum', when(col('primary_number_status').isin('Verified'), lit(1))\\\n",
    "            .when(col('primary_number_status').isin('-'),lit('-')).otherwise(lit(0)))\\\n",
    ".withColumn('primary_email', when(col('rn')==1, lit(col('email'))).otherwise(lit(None)))\\\n",
    ".withColumn('primary_email_status', when((col('verification_flag_mob').isin('Y'))&(col('rn')==1)&(col('primary_email').isNotNull()), lit('Verified'))\\\n",
    "            .when(col('primary_email').isNull(),lit('-')).otherwise(lit('Not Verified')))\\\n",
    ".withColumn('primary_email_status_enum',when(col('primary_email_status').isin('Verified'), lit(1))\\\n",
    "            .when(col('primary_email_status').isin('-'),lit('-')).otherwise(lit(0)))\\\n",
    ".withColumn('preffered_communication_node',when(col('primary_mobile_no').isNotNull(), lit('Mobile'))\\\n",
    "                                        .when(col('primary_email').isNotNull(), lit('Email')).otherwise(lit('-')))\\\n",
    ".withColumn('prefferedLanguage',lit('-'))\\\n",
    ".withColumn('secondaryMobileNumber',when(col('rn_mob')==2,(col('mobile'))))\\\n",
    ".withColumn('secondaryEmail',when(col('rn')==2,(col('email'))))\\\n",
    ".withColumn('mobile_contactability',lit('-'))\\\n",
    ".withColumn('email_contactability',lit('-'))\n"
   ]
  },
  {
   "cell_type": "code",
   "execution_count": null,
   "metadata": {},
   "outputs": [],
   "source": [
    "com_details_df=com_details_df.groupBy('golden_id').agg(*[max(col).alias(f\"{col}\") for col in com_details_df.columns if col!=\"golden_id\"])"
   ]
  },
  {
   "cell_type": "code",
   "execution_count": null,
   "metadata": {},
   "outputs": [],
   "source": [
    "com_details_df=com_details_df.select('golden_id','primary_mobile_no', 'primary_number_status', 'primary_number_status_enum', 'primary_email', 'primary_email_status', 'primary_email_status_enum', 'preffered_communication_node', 'prefferedLanguage', 'secondaryMobileNumber', 'secondaryEmail', 'mobile_contactability', 'email_contactability')"
   ]
  },
  {
   "cell_type": "code",
   "execution_count": null,
   "metadata": {},
   "outputs": [],
   "source": [
    "com_details_df=com_details_df.join(cust_detail.select('golden_id'),'golden_id','inner')"
   ]
  },
  {
   "cell_type": "code",
   "execution_count": null,
   "metadata": {},
   "outputs": [],
   "source": [
    "com_details_df.persist()\n",
    "com_details_df.count()"
   ]
  },
  {
   "cell_type": "code",
   "execution_count": null,
   "metadata": {},
   "outputs": [],
   "source": [
    "output_index = 'com_details_df_v2'#cpa_all_prod_fy20,cpa_all_prod_fy21\n",
    "schema = 'customermart'\n",
    "\n",
    "import sys\n",
    "try:\n",
    "    \n",
    "     com_details_df.write.option(\"truncate\", \"true\").format(\"greenplum\")\\\n",
    "    .option(\"dbtable\",output_index).option('dbschema',schema)\\\n",
    "    .option(\"server.port\",\"1150-1170\").option(\"url\",prod_url)\\\n",
    "    .option(\"user\", user_prod).option(\"password\",pwd_prod).mode('overwrite').save()\n",
    "    \n",
    "    \n",
    "except Exception as e:\n",
    "    x = e\n",
    "    print(x)\n",
    "else:\n",
    "    x = 'success'\n",
    "    print(x)"
   ]
  },
  {
   "cell_type": "code",
   "execution_count": null,
   "metadata": {},
   "outputs": [],
   "source": [
    "com_details_df=com_details_df.drop_duplicates()"
   ]
  },
  {
   "cell_type": "code",
   "execution_count": null,
   "metadata": {},
   "outputs": [],
   "source": [
    "com_details_df=com_details_df.selectExpr('golden_id',\"primary_mobile_no\",\"primary_number_status as primary_no_status\",\"primary_number_status_enum as primary_no_status_enum\",\"primary_email as primary_email_id\",\n",
    "                      \"primary_email_status as primary_email_status\",\"primary_email_status_enum as primary_email_status_enum\",\n",
    "\"preffered_communication_node as preferred_communication_mode\",\"prefferedLanguage as prefered_language\",\n",
    "                      \"secondaryMobileNumber as secondary_mobile_no\",\"secondaryEmail as secondary_email_id\",\n",
    "                      \"mobile_contactability\",\"email_contactability\")"
   ]
  },
  {
   "cell_type": "code",
   "execution_count": null,
   "metadata": {},
   "outputs": [],
   "source": [
    "com_details_df=com_details_df.drop_duplicates()"
   ]
  },
  {
   "cell_type": "code",
   "execution_count": null,
   "metadata": {},
   "outputs": [],
   "source": [
    "com_details_df=com_details_df.select('golden_id', 'primary_mobile_no', 'primary_no_status',col('primary_no_status_enum').cast('int'), 'primary_email_id', 'primary_email_status', col('primary_email_status_enum').cast('int'), 'preferred_communication_mode', 'prefered_language', 'secondary_mobile_no', 'secondary_email_id', 'mobile_contactability', 'email_contactability')"
   ]
  },
  {
   "cell_type": "code",
   "execution_count": null,
   "metadata": {},
   "outputs": [],
   "source": [
    "com_details_df.columns"
   ]
  },
  {
   "cell_type": "code",
   "execution_count": null,
   "metadata": {
    "scrolled": true
   },
   "outputs": [],
   "source": [
    "target_index='get_spa_communication_details'\n",
    "print(target_index)"
   ]
  },
  {
   "cell_type": "code",
   "execution_count": null,
   "metadata": {},
   "outputs": [],
   "source": [
    "import json, pprint, requests\n",
    "es_nodes = '10.35.12.212'\n",
    "es_port = '9200'\n",
    "es_user = 'elastic'\n",
    "es_pwd = 'bEiilauM3es'\n",
    "\n",
    "######target_index = 'actuarial_premium_risk_tables'----previous name...delete later\n",
    "\n",
    "#alias_name = 'nepuepr_uat_3'\n",
    "target_doc_type = 'get_spa_communication_details'\n",
    "#########delete index if already exists########################################################################################################################################################################"
   ]
  },
  {
   "cell_type": "code",
   "execution_count": null,
   "metadata": {},
   "outputs": [],
   "source": [
    "target_doc_type"
   ]
  },
  {
   "cell_type": "code",
   "execution_count": null,
   "metadata": {},
   "outputs": [],
   "source": [
    "target_index_doc_type = target_index +'/'+ target_doc_type"
   ]
  },
  {
   "cell_type": "code",
   "execution_count": null,
   "metadata": {},
   "outputs": [],
   "source": [
    "target_index_doc_type"
   ]
  },
  {
   "cell_type": "code",
   "execution_count": null,
   "metadata": {},
   "outputs": [],
   "source": [
    "######### create mapping##################################################################################################################################################################################################################################################################\n",
    "mapping_output = {target_doc_type:{\"properties\": {\n",
    "\"golden_id\": {\n",
    "\"type\": \"keyword\"\n",
    "},\n",
    "\"primary_mobile_no\": {\n",
    "\"type\": \"keyword\",\"index\":\"false\"\n",
    "},\n",
    "\"primary_no_status\": {\n",
    "\"type\": \"keyword\",\"index\":\"false\"\n",
    "},\n",
    "\"primary_no_status_enum\": {\n",
    "\"type\": \"keyword\",\"index\":\"false\"\n",
    "},\n",
    "\"primary_email_id\": {\n",
    "\"type\": \"keyword\",\"index\":\"false\"\n",
    "},\n",
    "\"primary_email_status\": {\n",
    "\"type\": \"keyword\",\"index\":\"false\"\n",
    "},\n",
    "\"primary_email_status_enum\": {\n",
    "\"type\": \"keyword\",\"index\":\"false\"\n",
    "},\n",
    "\"preferred_communication_mode\": {\n",
    "\"type\": \"keyword\",\"index\":\"false\"\n",
    "},\n",
    "\"prefered_language\": {\n",
    "\"type\": \"keyword\",\"index\":\"false\"\n",
    "},\n",
    "\"secondary_mobile_no\": {\n",
    "\"type\": \"keyword\",\"index\":\"false\"\n",
    "},\n",
    "\"secondary_email_id\": {\n",
    "\"type\": \"keyword\",\"index\":\"false\"\n",
    "},\n",
    "\"mobile_contactability\": {\n",
    "\"type\":\"keyword\",\"index\":\"false\"\n",
    "},\n",
    "\"email_contactability\": {\n",
    "\"type\": \"keyword\",\"index\":\"false\"\n",
    "}}\n",
    "}}\n",
    "\n",
    "\n",
    "\n",
    "URL = 'http://'+es_user+':'+es_pwd+'@'+es_nodes+':'+es_port+'/'+target_index+'/_mapping/'+target_doc_type\n",
    "headers = {'Content-Type': 'application/json'}\n",
    "r = requests.put(URL, data=json.dumps(mapping_output), headers=headers)\n",
    "print(r)"
   ]
  },
  {
   "cell_type": "code",
   "execution_count": null,
   "metadata": {},
   "outputs": [],
   "source": [
    "try:\n",
    "     com_details_df.write.format('org.elasticsearch.spark.sql').option('es.index.auto.create', 'true')\\\n",
    "        .option('es.nodes' , es_nodes).option('es.port', es_port).option('es.resource', target_index_doc_type)\\\n",
    "        .option(\"es.write.operation\",\"upsert\").option(\"es.mapping.id\",'golden_id').mode(\"append\").save() \n",
    "except Exception as e :\n",
    "    x = e\n",
    "else: \n",
    "    x = 200 #success\n",
    "print(x)"
   ]
  },
  {
   "cell_type": "code",
   "execution_count": null,
   "metadata": {},
   "outputs": [],
   "source": [
    "com_details_df.unpersist()"
   ]
  },
  {
   "cell_type": "markdown",
   "metadata": {},
   "source": [
    "# healthDetails"
   ]
  },
  {
   "cell_type": "code",
   "execution_count": null,
   "metadata": {},
   "outputs": [],
   "source": [
    "demog_hlt=demog_df.select('golden_id','weight_kg','tobacco_use_indicator','alcohol_use_indicator','height_cm')"
   ]
  },
  {
   "cell_type": "code",
   "execution_count": null,
   "metadata": {},
   "outputs": [],
   "source": [
    "demog_hlt=demog_hlt.withColumn(\"bmi\",col('weight_kg')/((col('height_cm')/100)*(col('height_cm')/100)))"
   ]
  },
  {
   "cell_type": "code",
   "execution_count": null,
   "metadata": {},
   "outputs": [],
   "source": [
    "demog_hlt=demog_hlt.withColumn(\"bmi\",round(col('bmi'),2))"
   ]
  },
  {
   "cell_type": "code",
   "execution_count": null,
   "metadata": {},
   "outputs": [],
   "source": [
    "demog_hlt=header_df.join(demog_hlt,'golden_id','left')"
   ]
  },
  {
   "cell_type": "code",
   "execution_count": null,
   "metadata": {
    "scrolled": true
   },
   "outputs": [],
   "source": [
    "hlt_p=policy_df.select('source_system_customer_id','reference_num')\n",
    "\n",
    "hlt_pd=demog_hlt.join(hlt_p,'source_system_customer_id','left')"
   ]
  },
  {
   "cell_type": "code",
   "execution_count": null,
   "metadata": {},
   "outputs": [],
   "source": [
    "hlt_details=hlt_pd.join(pd_df,'reference_num','left')"
   ]
  },
  {
   "cell_type": "code",
   "execution_count": null,
   "metadata": {},
   "outputs": [],
   "source": [
    "hlt_details=hlt_details.repartition('source_system_customer_id')\n",
    "crgp_df=crgp_df.repartition('source_system_customer_id')"
   ]
  },
  {
   "cell_type": "code",
   "execution_count": null,
   "metadata": {},
   "outputs": [],
   "source": [
    "crgp_df.persist()\n",
    "crgp_df.count()"
   ]
  },
  {
   "cell_type": "code",
   "execution_count": null,
   "metadata": {},
   "outputs": [],
   "source": [
    "# hlt_details=hlt_details.withColumn('claim_date',coalesce(col('claim_date'),col('claim_reported_date')))"
   ]
  },
  {
   "cell_type": "code",
   "execution_count": null,
   "metadata": {},
   "outputs": [],
   "source": [
    "hlt_details=hlt_details.withColumn('ped',initcap(col('ped')))"
   ]
  },
  {
   "cell_type": "code",
   "execution_count": null,
   "metadata": {},
   "outputs": [],
   "source": [
    "ped=hlt_details.select('golden_id','ped').drop_duplicates()"
   ]
  },
  {
   "cell_type": "code",
   "execution_count": null,
   "metadata": {},
   "outputs": [],
   "source": [
    "ped=ped.groupBy('golden_id').agg(concat_ws(\", \",collect_list('ped')).alias('pre_existing_disease'))"
   ]
  },
  {
   "cell_type": "code",
   "execution_count": null,
   "metadata": {},
   "outputs": [],
   "source": [
    "hlt_details=hlt_details.select('golden_id', 'reference_num', 'source_system_customer_id', 'mapping_date', 'weight_kg', 'tobacco_use_indicator', 'alcohol_use_indicator', 'height_cm', 'bmi').drop_duplicates()"
   ]
  },
  {
   "cell_type": "code",
   "execution_count": null,
   "metadata": {},
   "outputs": [],
   "source": [
    "from pyspark.sql.window import Window\n",
    "\n",
    "hlt_details = hlt_details.withColumn(\"rn\", F.row_number()\n",
    "        .over(Window.partitionBy('golden_id')\n",
    "        .orderBy(F.col(\"mapping_date\").desc())))\n",
    "\n",
    "hlt_details = hlt_details.filter(F.col(\"rn\") == 1).drop(\"rn\")\n"
   ]
  },
  {
   "cell_type": "code",
   "execution_count": null,
   "metadata": {},
   "outputs": [],
   "source": [
    "hlt_details=hlt_details.join(ped,'golden_id','left')"
   ]
  },
  {
   "cell_type": "code",
   "execution_count": null,
   "metadata": {},
   "outputs": [],
   "source": [
    "hlt_details=hlt_details.join(cust_detail.select('golden_id'),'golden_id','inner')"
   ]
  },
  {
   "cell_type": "code",
   "execution_count": null,
   "metadata": {},
   "outputs": [],
   "source": [
    "hlt_details=hlt_details.join(crgp_df,'source_system_customer_id','left')"
   ]
  },
  {
   "cell_type": "code",
   "execution_count": null,
   "metadata": {},
   "outputs": [],
   "source": [
    "hlt_details.persist()\n",
    "hlt_details.count()"
   ]
  },
  {
   "cell_type": "code",
   "execution_count": null,
   "metadata": {},
   "outputs": [],
   "source": [
    "hlt_details=hlt_details.selectExpr('golden_id', 'height_cm', 'weight_kg', 'bmi', 'pre_existing_disease as pre_existing_condition', 'tobacco_use_indicator as tobacco_consumer', 'alcohol_use_indicator as alcohol_consumer', 'insured_name as insurred_name', 'loss_description as reason', 'claim_date')"
   ]
  },
  {
   "cell_type": "code",
   "execution_count": null,
   "metadata": {},
   "outputs": [],
   "source": [
    "df_distinct=hlt_details"
   ]
  },
  {
   "cell_type": "code",
   "execution_count": null,
   "metadata": {
    "scrolled": true
   },
   "outputs": [],
   "source": [
    "df_distinct=df_distinct.withColumn('claim_date',date_format(to_utc_timestamp(col('claim_date'),\"UTC\"),'yyyy-MM-dd'))"
   ]
  },
  {
   "cell_type": "code",
   "execution_count": null,
   "metadata": {},
   "outputs": [],
   "source": [
    "# df_distinct=df_distinct.withColumn('claim_date',date_format(to_utc_timestamp(col('claim_date'),\"UTC\"),'yyyy-MM-dd'))"
   ]
  },
  {
   "cell_type": "code",
   "execution_count": null,
   "metadata": {},
   "outputs": [],
   "source": [
    "df_distinct=df_distinct.withColumn('primary_key', concat_ws('',trim(col('golden_id')),trim(col('height_cm')), trim(col('weight_kg')),\n",
    "                                                       trim(col('bmi')),trim(col('pre_existing_condition')), trim(col('tobacco_consumer')),\n",
    "                                                       trim(col('alcohol_consumer'))))"
   ]
  },
  {
   "cell_type": "code",
   "execution_count": null,
   "metadata": {},
   "outputs": [],
   "source": [
    "# from pyspark.sql.window import Window\n",
    "\n",
    "# df_distinct = df_distinct.withColumn(\"rn\", F.row_number()\n",
    "#         .over(Window.partitionBy(\"primary_key\")\n",
    "#         .orderBy(F.col(\"claim_date\").desc())))\n",
    "\n",
    "# df_distinct = df_distinct.filter(F.col(\"rn\") == 1).drop(\"rn\").drop(\"primary_key\")"
   ]
  },
  {
   "cell_type": "code",
   "execution_count": null,
   "metadata": {},
   "outputs": [],
   "source": [
    "df=df_distinct.select('golden_id','insurred_name','reason','claim_date').drop_duplicates()"
   ]
  },
  {
   "cell_type": "code",
   "execution_count": null,
   "metadata": {},
   "outputs": [],
   "source": [
    "df_transformed=df.rdd.map(lambda row:(row.golden_id,{\"insurred_name\":row.insurred_name,\"reason\":row.reason,\"claim_date\":row.claim_date}))\n",
    "grouped_data=df_transformed.groupByKey().mapValues(list)\n",
    "df_final=grouped_data.toDF([\"golden_id\",\"claim_details\"])"
   ]
  },
  {
   "cell_type": "code",
   "execution_count": null,
   "metadata": {},
   "outputs": [],
   "source": [
    "df_main=df_distinct.select(['golden_id', 'height_cm', 'weight_kg', 'bmi', 'pre_existing_condition', 'tobacco_consumer', 'alcohol_consumer']).drop_duplicates()"
   ]
  },
  {
   "cell_type": "code",
   "execution_count": null,
   "metadata": {},
   "outputs": [],
   "source": [
    "df_main=df_main.select(['golden_id', 'height_cm', 'weight_kg', 'bmi', 'pre_existing_condition', 'tobacco_consumer', 'alcohol_consumer']).join(df_final,'golden_id','left')"
   ]
  },
  {
   "cell_type": "code",
   "execution_count": null,
   "metadata": {},
   "outputs": [],
   "source": [
    "df_main.printSchema()"
   ]
  },
  {
   "cell_type": "code",
   "execution_count": null,
   "metadata": {},
   "outputs": [],
   "source": [
    "df_main.persist(pyspark.StorageLevel.MEMORY_AND_DISK)\n",
    "records=df_main.count()\n",
    "records"
   ]
  },
  {
   "cell_type": "code",
   "execution_count": null,
   "metadata": {},
   "outputs": [],
   "source": [
    "records"
   ]
  },
  {
   "cell_type": "code",
   "execution_count": null,
   "metadata": {},
   "outputs": [],
   "source": [
    "crgp_df.unpersist()\n",
    "hlt_details.unpersist()"
   ]
  },
  {
   "cell_type": "code",
   "execution_count": null,
   "metadata": {},
   "outputs": [],
   "source": [
    "target_index='get_spa_cust_health_details'\n",
    "print(target_index)"
   ]
  },
  {
   "cell_type": "code",
   "execution_count": null,
   "metadata": {},
   "outputs": [],
   "source": [
    "import json, pprint, requests\n",
    "es_nodes = '10.35.12.212'\n",
    "es_port = '9200'\n",
    "es_user = 'elastic'\n",
    "es_pwd = 'bEiilauM3es'\n",
    "\n",
    "######target_index = 'actuarial_premium_risk_tables'----previous name...delete later\n",
    "\n",
    "#alias_name = 'nepuepr_uat_3'\n",
    "target_doc_type = 'get_spa_cust_health_details'\n",
    "#########delete index if already exists########################################################################################################################################################################"
   ]
  },
  {
   "cell_type": "code",
   "execution_count": null,
   "metadata": {},
   "outputs": [],
   "source": [
    "target_index_doc_type = target_index +'/'+ target_doc_type\n",
    "target_index_doc_type"
   ]
  },
  {
   "cell_type": "code",
   "execution_count": null,
   "metadata": {},
   "outputs": [],
   "source": [
    "df_main.columns"
   ]
  },
  {
   "cell_type": "code",
   "execution_count": null,
   "metadata": {},
   "outputs": [],
   "source": [
    "######### create mapping##################################################################################################################################################################################################################################################################\n",
    "mapping_output = {target_doc_type:{\"properties\": {\n",
    "\"golden_id\": {\n",
    "\"type\": \"keyword\"\n",
    "},\n",
    "\"height_cm\": {\n",
    "\"type\": \"keyword\"\n",
    "},\n",
    "\"weight_kg\": {\n",
    "\"type\": \"keyword\"\n",
    "},\n",
    "\"bmi\": {\n",
    "\"type\":\"keyword\"\n",
    "},\n",
    "\"pre_existing_condition\": {\n",
    "\"type\": \"keyword\"\n",
    "},\n",
    "\"tobacco_consumer\": {\n",
    "\"type\": \"keyword\"\n",
    "},\n",
    "\"alcohol_consumer\": {\n",
    "\"type\": \"keyword\"\n",
    "},\n",
    "\"claim_details\": {\n",
    "\"type\": \"nested\",\n",
    "    \"properties\":{\n",
    "        \"insurred_name\":{\n",
    "            \"type\":\"text\"\n",
    "        },\n",
    "          \"reason\":{\n",
    "            \"type\":\"text\"\n",
    "        },\n",
    "         \"claim_date\":{\n",
    "            \"type\":\"keyword\"\n",
    "        }\n",
    "    }\n",
    "}\n",
    "}\n",
    "}}\n",
    "\n",
    "\n",
    "\n",
    "URL = 'http://'+es_user+':'+es_pwd+'@'+es_nodes+':'+es_port+'/'+target_index+'/_mapping/'+target_doc_type\n",
    "headers = {'Content-Type': 'application/json'}\n",
    "r = requests.put(URL, data=json.dumps(mapping_output), headers=headers)\n",
    "print(r)"
   ]
  },
  {
   "cell_type": "code",
   "execution_count": null,
   "metadata": {},
   "outputs": [],
   "source": [
    "try:\n",
    "     df_main.write.format('org.elasticsearch.spark.sql').option('es.index.auto.create', 'true')\\\n",
    "        .option('es.nodes' , es_nodes).option('es.port', es_port).option('es.resource', target_index_doc_type)\\\n",
    "        .option(\"es.write.operation\",\"upsert\").option(\"es.mapping.id\",'golden_id').mode(\"append\").save() \n",
    "except Exception as e :\n",
    "    x = e\n",
    "else: \n",
    "    x = 200 #success\n",
    "print(x)"
   ]
  },
  {
   "cell_type": "code",
   "execution_count": null,
   "metadata": {},
   "outputs": [],
   "source": [
    "df_main.unpersist()"
   ]
  },
  {
   "cell_type": "markdown",
   "metadata": {},
   "source": [
    "# familyDetails"
   ]
  },
  {
   "cell_type": "code",
   "execution_count": null,
   "metadata": {},
   "outputs": [],
   "source": [
    "hcbd=header_df.join(credit_df,'golden_id','left')"
   ]
  },
  {
   "cell_type": "code",
   "execution_count": null,
   "metadata": {},
   "outputs": [],
   "source": [
    "hcbd.columns"
   ]
  },
  {
   "cell_type": "code",
   "execution_count": null,
   "metadata": {},
   "outputs": [],
   "source": [
    "fam_p=policy_df.select('source_system_customer_id','reference_num','assets')\n",
    "\n",
    "hcbdp=hcbd.join(fam_p,'source_system_customer_id','left')"
   ]
  },
  {
   "cell_type": "code",
   "execution_count": null,
   "metadata": {},
   "outputs": [],
   "source": [
    "hcbdp.columns"
   ]
  },
  {
   "cell_type": "code",
   "execution_count": null,
   "metadata": {},
   "outputs": [],
   "source": [
    "#removing whitespace and special char\n",
    "pdrdh_df1=pdrdh_df.withColumn('name',regexp_replace(col('name'),\"[^a-zA-Z0-9 ]+\",\"\"))"
   ]
  },
  {
   "cell_type": "code",
   "execution_count": null,
   "metadata": {},
   "outputs": [],
   "source": [
    "#removing whitespace and special char\n",
    "pdrdh_df1=pdrdh_df1.withColumn('name_1',lower(regexp_replace(col('name'),\"[^a-zA-Z0-9]+\",\"\")))"
   ]
  },
  {
   "cell_type": "code",
   "execution_count": null,
   "metadata": {},
   "outputs": [],
   "source": [
    "from pyspark.sql.window import Window\n",
    "\n",
    "pdrdh_df1 = pdrdh_df1.withColumn(\"rn\", F.dense_rank()\n",
    "        .over(Window.partitionBy(\"reference_num\")\n",
    "        .orderBy(F.col(\"reference_num\").desc())))\n",
    "\n",
    "pdrdh_df1 = pdrdh_df1.filter(F.col(\"rn\") == 1).drop(\"rn\")"
   ]
  },
  {
   "cell_type": "code",
   "execution_count": null,
   "metadata": {},
   "outputs": [],
   "source": [
    "pdrdh_df1=pdrdh_df1.groupBy(\"reference_num\").agg(countDistinct('name_1').alias('family_size'))#need to confirm"
   ]
  },
  {
   "cell_type": "code",
   "execution_count": null,
   "metadata": {},
   "outputs": [],
   "source": [
    "pdrdh_df=pdrdh_df.join(pdrdh_df1,'reference_num','inner')"
   ]
  },
  {
   "cell_type": "code",
   "execution_count": null,
   "metadata": {},
   "outputs": [],
   "source": [
    "pdrdh_df.columns"
   ]
  },
  {
   "cell_type": "code",
   "execution_count": null,
   "metadata": {
    "scrolled": true
   },
   "outputs": [],
   "source": [
    "hcbdp_risk=hcbdp.join(pdrdh_df,'reference_num','left')"
   ]
  },
  {
   "cell_type": "code",
   "execution_count": null,
   "metadata": {},
   "outputs": [],
   "source": [
    "hcbdp_risk=hcbdp_risk.join(cust_detail.select('golden_id'),'golden_id','inner')"
   ]
  },
  {
   "cell_type": "code",
   "execution_count": null,
   "metadata": {},
   "outputs": [],
   "source": [
    "hcbdp_risk.persist()\n",
    "hcbdp_risk.count()"
   ]
  },
  {
   "cell_type": "code",
   "execution_count": null,
   "metadata": {},
   "outputs": [],
   "source": [
    "#removing whitespace and special char\n",
    "# hcbdp_risk=hcbdp_risk.withColumn('name',regexp_replace(col('name'),\"[^a-zA-Z0-9 ]+\",\"\"))"
   ]
  },
  {
   "cell_type": "code",
   "execution_count": null,
   "metadata": {},
   "outputs": [],
   "source": [
    "#removing whitespace and special char\n",
    "# hcbdp_risk=hcbdp_risk.withColumn('name_1',lower(regexp_replace(col('name'),\"[^a-zA-Z0-9]+\",\"\")))"
   ]
  },
  {
   "cell_type": "code",
   "execution_count": null,
   "metadata": {},
   "outputs": [],
   "source": [
    "#fam_size=hcbdp_risk.groupBy(\"golden_id\").agg(countDistinct('name_1').alias('family_size'))#need to confirm"
   ]
  },
  {
   "cell_type": "code",
   "execution_count": null,
   "metadata": {},
   "outputs": [],
   "source": [
    "# fam_size.select('golden_id','family_size').filter(col('golden_id').isin())"
   ]
  },
  {
   "cell_type": "code",
   "execution_count": null,
   "metadata": {},
   "outputs": [],
   "source": [
    "fam_assets=hcbdp.select('golden_id','assets').drop_duplicates()\n",
    "fam_assets=fam_assets.groupBy('golden_id').agg(concat_ws(\", \",collect_list('assets')).alias('assets'))"
   ]
  },
  {
   "cell_type": "code",
   "execution_count": null,
   "metadata": {},
   "outputs": [],
   "source": [
    "hcbdp_risk.columns"
   ]
  },
  {
   "cell_type": "code",
   "execution_count": null,
   "metadata": {},
   "outputs": [],
   "source": [
    "# hcbdp_risk=hcbdp_risk.join(fam_size,'golden_id','left')\n",
    "hcbdp_risk=hcbdp_risk.join(fam_assets,'golden_id','left').drop(hcbdp_risk.assets)"
   ]
  },
  {
   "cell_type": "code",
   "execution_count": null,
   "metadata": {},
   "outputs": [],
   "source": [
    "hcbdp_risk.columns"
   ]
  },
  {
   "cell_type": "code",
   "execution_count": null,
   "metadata": {},
   "outputs": [],
   "source": [
    "hcbdp_risk=hcbdp_risk.drop_duplicates()"
   ]
  },
  {
   "cell_type": "code",
   "execution_count": null,
   "metadata": {},
   "outputs": [],
   "source": [
    "hcbdp_risk_f=hcbdp_risk.selectExpr('golden_id', 'reference_num', 'source_system_customer_id', 'source as credit_score_source', 'scoredate as credit_score_update_date', 'score as credit_score', 'income as gross_annual_income','income as gross_annual_incomeBucket', 'assets as assets', 'relation', 'name', 'dob', 'family_size as familySize',\"'-' as anniversarydate\")"
   ]
  },
  {
   "cell_type": "code",
   "execution_count": null,
   "metadata": {},
   "outputs": [],
   "source": [
    "hcbdp_risk_f = hcbdp_risk_f.withColumn('gross_annual_incomeBucket', when((col('gross_annual_income') <=500000), lit('Upto 5 lacs'))\\\n",
    "                             .when((col('gross_annual_income') >500000) & (col('gross_annual_income') <=700000), lit('5 - 7 lacs'))\\\n",
    "                             .when((col('gross_annual_income') >700000) & (col('gross_annual_income') <=1000000), lit( '7 - 10 lacs'))\\\n",
    "                             .when((col('gross_annual_income') >1000000) & (col('gross_annual_income') <=1500000), lit('10 -15 lacs'))\\\n",
    "                             .when((col('gross_annual_income') >1500000) & (col('gross_annual_income') <=2000000), lit('15 - 20 lacs'))\\\n",
    "                             .when((col('gross_annual_income') >2000000) & (col('gross_annual_income') <=3000000), lit('20 - 30 lacs'))\\\n",
    "                             .when((col('gross_annual_income') >3000000) & (col('gross_annual_income') <=4000000), lit('30 - 40 lacs'))\\\n",
    "                             .when((col('gross_annual_income') >4000000) & (col('gross_annual_income') <=6000000), lit('40 - 60 lacs'))\\\n",
    "                             .when((col('gross_annual_income') >6000000) & (col('gross_annual_income') <=8000000), lit('60 - 80 lacs'))\\\n",
    "                             .when((col('gross_annual_income') >8000000) & (col('gross_annual_income') <=10000000), lit('80 lacs to 1 cr'))\\\n",
    "                             .when((col('gross_annual_income') >=10000000), lit('Above 1 cr'))\\\n",
    "                                .otherwise(col('gross_annual_income')))"
   ]
  },
  {
   "cell_type": "code",
   "execution_count": null,
   "metadata": {},
   "outputs": [],
   "source": [
    "df_distinct=hcbdp_risk_f.withColumn('dob',to_date(col('dob'),'dd/MM/yyyy'))"
   ]
  },
  {
   "cell_type": "code",
   "execution_count": null,
   "metadata": {},
   "outputs": [],
   "source": [
    "df_distinct=df_distinct.withColumn('dob',date_format(to_utc_timestamp(col('dob'),\"UTC\"),'yyyy-MM-dd'))"
   ]
  },
  {
   "cell_type": "code",
   "execution_count": null,
   "metadata": {},
   "outputs": [],
   "source": [
    "df_distinct=df_distinct.withColumn('primary_key', concat_ws('',trim(col('golden_id')),trim(col('familySize')), trim(col('credit_score')),\n",
    "                                                       trim(col('credit_score_update_date')),trim(col('credit_score_source')), trim(col('assets')),\n",
    "                                                       trim(col('gross_annual_income')),trim(col('gross_annual_incomeBucket')), trim(col('anniversarydate'))))"
   ]
  },
  {
   "cell_type": "code",
   "execution_count": null,
   "metadata": {},
   "outputs": [],
   "source": [
    "df_distinct.columns"
   ]
  },
  {
   "cell_type": "code",
   "execution_count": null,
   "metadata": {},
   "outputs": [],
   "source": [
    "df_temp=df_distinct.select('golden_id','relation', 'name', 'dob').drop_duplicates()"
   ]
  },
  {
   "cell_type": "code",
   "execution_count": null,
   "metadata": {},
   "outputs": [],
   "source": [
    "df_transformed=df_temp.rdd.map(lambda row:(row.golden_id,{\"name\":row.name,\"relationship\":row.relation,\"dob\":row.dob}))"
   ]
  },
  {
   "cell_type": "code",
   "execution_count": null,
   "metadata": {
    "scrolled": true
   },
   "outputs": [],
   "source": [
    "grouped_data=df_transformed.groupByKey().mapValues(list)\n",
    "df_final=grouped_data.toDF([\"golden_id\",\"member_details\"])"
   ]
  },
  {
   "cell_type": "code",
   "execution_count": null,
   "metadata": {},
   "outputs": [],
   "source": [
    "df=df_distinct.select(\"golden_id\",\"familySize\",\"gross_annual_income\",\"credit_score\",\"credit_score_source\",\"credit_score_update_date\",\n",
    "                         \"assets\",\"anniversaryDate\",\"gross_annual_incomeBucket\").drop_duplicates()"
   ]
  },
  {
   "cell_type": "code",
   "execution_count": null,
   "metadata": {},
   "outputs": [],
   "source": [
    "df_main=df.join(df_final,'golden_id','left')"
   ]
  },
  {
   "cell_type": "code",
   "execution_count": null,
   "metadata": {},
   "outputs": [],
   "source": [
    "df_main=df_main.withColumn('assets',regexp_replace(col('assets'),r', -','')).withColumn('assets',regexp_replace(col('assets'),r'-, ',''))\\\n",
    ".withColumn('assets',trim(col('assets')))"
   ]
  },
  {
   "cell_type": "code",
   "execution_count": null,
   "metadata": {},
   "outputs": [],
   "source": [
    "from pyspark.sql.window import Window\n",
    "\n",
    "df_main = df_main.withColumn(\"rn\", F.row_number()\n",
    "        .over(Window.partitionBy(\"golden_id\")\n",
    "        .orderBy(F.col(\"golden_id\").desc())))\n",
    "\n",
    "df_main = df_main.filter(F.col(\"rn\") == 1).drop(\"rn\")"
   ]
  },
  {
   "cell_type": "code",
   "execution_count": null,
   "metadata": {},
   "outputs": [],
   "source": [
    "df_main.persist()\n",
    "df_main.count()"
   ]
  },
  {
   "cell_type": "code",
   "execution_count": null,
   "metadata": {},
   "outputs": [],
   "source": [
    "hcbdp_risk.unpersist()"
   ]
  },
  {
   "cell_type": "code",
   "execution_count": null,
   "metadata": {},
   "outputs": [],
   "source": [
    "target_index='get_spa_member_score_details'\n",
    "print(target_index)"
   ]
  },
  {
   "cell_type": "code",
   "execution_count": null,
   "metadata": {},
   "outputs": [],
   "source": [
    "import json, pprint, requests\n",
    "es_nodes = '10.35.12.212'\n",
    "es_port = '9200'\n",
    "es_user = 'elastic'\n",
    "es_pwd = 'bEiilauM3es'\n",
    "\n",
    "######target_index = 'actuarial_premium_risk_tables'----previous name...delete later\n",
    "\n",
    "#alias_name = 'nepuepr_uat_3'\n",
    "target_doc_type = 'get_spa_member_score_details'\n",
    "#########delete index if already exists########################################################################################################################################################################"
   ]
  },
  {
   "cell_type": "code",
   "execution_count": null,
   "metadata": {},
   "outputs": [],
   "source": [
    "target_doc_type"
   ]
  },
  {
   "cell_type": "code",
   "execution_count": null,
   "metadata": {},
   "outputs": [],
   "source": [
    "target_index_doc_type = target_index +'/'+ target_doc_type\n",
    "target_index_doc_type"
   ]
  },
  {
   "cell_type": "code",
   "execution_count": null,
   "metadata": {},
   "outputs": [],
   "source": [
    "######### create mapping##################################################################################################################################################################################################################################################################\n",
    "mapping_output = {target_doc_type:{\"properties\": {\n",
    "\"golden_id\": {\n",
    "\"type\": \"keyword\"\n",
    "},\n",
    "\"familySize\": {\n",
    "\"type\": \"keyword\",\"index\":\"false\"\n",
    "},\n",
    "\"credit_score\": {\n",
    "\"type\": \"keyword\",\"index\":\"false\"\n",
    "},\n",
    "\"credit_score_update_date\": {\n",
    "\"type\":\"keyword\",\"index\":\"false\"\n",
    "},\n",
    "\"credit_score_source\": {\n",
    "\"type\": \"keyword\",\"index\":\"false\"\n",
    "},\n",
    "\"gross_annual_income\": {\n",
    "\"type\": \"keyword\",\"index\":\"false\"\n",
    "},\n",
    "\"assets\": {\n",
    "\"type\": \"keyword\",\"index\":\"false\"\n",
    "},\n",
    "\"gross_annual_incomeBucket\": {\n",
    "\"type\": \"keyword\",\"index\":\"false\"\n",
    "},\n",
    "\"anniversarydate\": {\n",
    "\"type\":\"keyword\",\"index\":\"false\"\n",
    "},\n",
    "\"member_details\": {\n",
    "\"type\": \"nested\",\n",
    "    \"properties\":{\n",
    "        \"name\":{\n",
    "            \"type\":\"text\",\"index\":\"false\"\n",
    "        },\n",
    "          \"relationship\":{\n",
    "            \"type\":\"text\",\"index\":\"false\"\n",
    "        },\n",
    "         \"dob\":{\n",
    "            \"type\":\"keyword\",\"index\":\"false\"\n",
    "        }\n",
    "    }\n",
    "}\n",
    "}\n",
    "}}\n",
    "\n",
    "\n",
    "\n",
    "URL = 'http://'+es_user+':'+es_pwd+'@'+es_nodes+':'+es_port+'/'+target_index+'/_mapping/'+target_doc_type\n",
    "headers = {'Content-Type': 'application/json'}\n",
    "r = requests.put(URL, data=json.dumps(mapping_output), headers=headers)\n",
    "print(r)"
   ]
  },
  {
   "cell_type": "code",
   "execution_count": null,
   "metadata": {},
   "outputs": [],
   "source": [
    "try:\n",
    "     df_main.write.format('org.elasticsearch.spark.sql').option('es.index.auto.create', 'true')\\\n",
    "        .option('es.nodes' , es_nodes).option('es.port', es_port).option('es.resource', target_index_doc_type)\\\n",
    "        .option(\"es.write.operation\",\"upsert\").option(\"es.mapping.id\",\"golden_id\").mode(\"append\").save() \n",
    "except Exception as e :\n",
    "    x = e\n",
    "else: \n",
    "    x = 200 # success\n",
    "print(x)"
   ]
  },
  {
   "cell_type": "code",
   "execution_count": null,
   "metadata": {},
   "outputs": [],
   "source": [
    "hcbdp_risk_f.unpersist()\n",
    "df_main.unpersist()"
   ]
  },
  {
   "cell_type": "code",
   "execution_count": null,
   "metadata": {},
   "outputs": [],
   "source": [
    "import io\n",
    "import pandas as pd\n",
    "import xlsxwriter\n",
    "import sys\n",
    "import smtplib\n",
    "from os.path import basename\n",
    "from email.mime.application import MIMEApplication\n",
    "from email.mime.multipart import MIMEMultipart\n",
    "from email.mime.text import MIMEText\n",
    "from email.utils import COMMASPACE, formatdate\n",
    "import pandas as pd\n",
    "from sqlalchemy import create_engine\n",
    "from smtplib import SMTP\n",
    "\n",
    "if x!=200:\n",
    "    status='FAILED'\n",
    "else:\n",
    "    status=\"SUCCESS\"\n",
    "\n",
    "subject=f\"Automated Mail-SPA PART-2 Job Status : {status}\"\n",
    "\n",
    "if x==200:\n",
    "    recipients = ['nishant5.addenki@tataaig.com','devnandan.TataIndustries@tataaig.com','mayur.TataIndustries@tataaig.com','Ajeet3.Jaiswal@tataaig.com'] \n",
    "    emaillist = [elem.strip().split(',') for elem in recipients]\n",
    "    msg = MIMEMultipart()\n",
    "    msg['Subject'] = subject\n",
    "    msg['From'] = 'customercoe@tataaig.com'\n",
    "\n",
    "\n",
    "    html = \"\"\"\\\n",
    "    <html>\n",
    "      <head></head>\n",
    "      <body>\n",
    "        SPA PART-2 job status is: Successful\n",
    "      </body>\n",
    "        <p>This is automated mail, please don't reply. Thanks</p>\n",
    "    </html>\n",
    "    \"\"\"\n",
    "\n",
    "    part1 = MIMEText(html, 'html')\n",
    "    msg.attach(part1)\n",
    "\n",
    "    server = smtplib.SMTP(\"tataaig-com.mail.protection.outlook.com\",25)\n",
    "    server.sendmail(msg['From'], emaillist , msg.as_string())\n",
    "else:\n",
    "      \n",
    "    recipients = ['nishant5.addenki@tataaig.com','devnandan.TataIndustries@tataaig.com','mayur.TataIndustries@tataaig.com','Ajeet3.Jaiswal@tataaig.com'] \n",
    "    emaillist = [elem.strip().split(',') for elem in recipients]\n",
    "    msg = MIMEMultipart()\n",
    "    msg['Subject'] = subject\n",
    "    msg['From'] = 'customercoe@tataaig.com'\n",
    "\n",
    "\n",
    "    html = \"\"\"\\\n",
    "    <html>\n",
    "      <head></head>\n",
    "      <body>\n",
    "        CPA job status is: Failed\n",
    "      </body>\n",
    "        <p>This is automated mail, please don't reply. Thanks</p>\n",
    "    </html>\n",
    "    \"\"\"\n",
    "\n",
    "    part1 = MIMEText(html, 'html')\n",
    "    msg.attach(part1)\n",
    "\n",
    "    server = smtplib.SMTP(\"tataaig-com.mail.protection.outlook.com\",25)\n",
    "    server.sendmail(msg['From'], emaillist , msg.as_string())"
   ]
  },
  {
   "cell_type": "code",
   "execution_count": null,
   "metadata": {},
   "outputs": [],
   "source": []
  },
  {
   "cell_type": "code",
   "execution_count": null,
   "metadata": {},
   "outputs": [],
   "source": [
    "spark.stop()"
   ]
  },
  {
   "cell_type": "code",
   "execution_count": null,
   "metadata": {},
   "outputs": [],
   "source": []
  }
 ],
 "metadata": {
  "kernelspec": {
   "display_name": "PySpark",
   "language": "",
   "name": "pysparkkernel"
  },
  "language_info": {
   "codemirror_mode": {
    "name": "python",
    "version": 3
   },
   "mimetype": "text/x-python",
   "name": "pyspark",
   "pygments_lexer": "python3"
  }
 },
 "nbformat": 4,
 "nbformat_minor": 4
}
