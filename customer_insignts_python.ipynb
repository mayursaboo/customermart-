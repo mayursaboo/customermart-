{
 "cells": [
  {
   "cell_type": "code",
   "execution_count": 1,
   "metadata": {},
   "outputs": [],
   "source": [
    "import pymssql\n",
    "import pandas as pd\n",
    "import psycopg2\n",
    "import datetime\n",
    "import psycopg2.extras as extras\n",
    "import numpy as np"
   ]
  },
  {
   "cell_type": "code",
   "execution_count": 2,
   "metadata": {},
   "outputs": [],
   "source": [
    "prod_url = \"jdbc:postgresql://10.35.12.194:5432/gpadmin\"\n",
    "prod_host = '10.35.12.194' \n",
    "prod_port = '5432'\n",
    "prod_dbname = 'gpadmin'\n",
    "user_prod=\"gpspark\"\n",
    "# pwd_prod=\"gpcustcoe@123\"\n",
    "pwd_prod=\"spark@456\"\n",
    "\n",
    "\n",
    "# Define the GPDB-Python connection options for PROD \n",
    "\n",
    "conn_prod = psycopg2.connect(host=prod_host, port=prod_port, user=user_prod, password=pwd_prod, dbname=prod_dbname)"
   ]
  },
  {
   "cell_type": "code",
   "execution_count": null,
   "metadata": {},
   "outputs": [],
   "source": [
    "list_mot=['num_reference_no','dc_unified_id','customer_id','policy_no','certificate_no','pol_incept_date','pol_exp_date','record_type_desc','product_name','product_cd','renl_cert_no','binddate','plan_type','policy_type','channel','birth_date','city','state','pin_code','times_renewed_cnt','minor_line','sum_insured','premiumamount','total_premium','date_of_registration','all_product_list','age', 'rn']"
   ]
  },
  {
   "cell_type": "code",
   "execution_count": null,
   "metadata": {},
   "outputs": [],
   "source": [
    "list_lta=['num_reference_no','dc_unified_id','customer_id','policy_no','certificate_no','pol_incept_date','pol_exp_date','record_type_desc','product_name','product_cd','renl_cert_no','binddate','plan_type','policy_type','channel','birth_date','city','state','pin_code','sum_insured','times_renewed_cnt','minor_line','premiumamount','total_premium','no_of_lives','risk','lta_dob','id_type','id_value','relationship','age','rn','all_product_list']"
   ]
  },
  {
   "cell_type": "code",
   "execution_count": 3,
   "metadata": {},
   "outputs": [],
   "source": [
    "list_hlt=['num_reference_no','dc_unified_id','customer_id','policy_no','certificate_no','pol_incept_date','pol_exp_date','record_type_desc','product_name','product_cd','renl_cert_no','binddate','plan_type','policy_type','channel','birth_date','city','state','pin_code','sum_insured','times_renewed_cnt','minor_line','premiumamount','total_premium','member_id','member_entry_date','insured_name','insured_dob','risk','all_product_list']"
   ]
  },
  {
   "cell_type": "code",
   "execution_count": 4,
   "metadata": {},
   "outputs": [],
   "source": [
    "cursor = conn_prod.cursor()\n",
    "req=\"select * from  customermart.temp_ebiz_hmt_final_hlt\"\n",
    "cursor.execute(req)\n",
    "data1= cursor.fetchall()\n",
    "df=pd.DataFrame(data1,columns=list_hlt)"
   ]
  },
  {
   "cell_type": "code",
   "execution_count": 12,
   "metadata": {},
   "outputs": [
    {
     "data": {
      "text/plain": [
       "(220092, 30)"
      ]
     },
     "execution_count": 12,
     "metadata": {},
     "output_type": "execute_result"
    }
   ],
   "source": [
    "df.shape"
   ]
  },
  {
   "cell_type": "code",
   "execution_count": 24,
   "metadata": {},
   "outputs": [],
   "source": [
    "df2=df.copy()"
   ]
  },
  {
   "cell_type": "code",
   "execution_count": 25,
   "metadata": {},
   "outputs": [
    {
     "data": {
      "text/plain": [
       "(220092, 30)"
      ]
     },
     "execution_count": 25,
     "metadata": {},
     "output_type": "execute_result"
    }
   ],
   "source": [
    "df2.shape"
   ]
  },
  {
   "cell_type": "code",
   "execution_count": 26,
   "metadata": {},
   "outputs": [],
   "source": [
    "df2 = df2.astype({\"all_product_list\": str, \"product_name\": str, \"num_reference_no\": str, \"premiumamount\":'float', \"total_premium\":'float', \"sum_insured\":'float'})"
   ]
  },
  {
   "cell_type": "code",
   "execution_count": 27,
   "metadata": {},
   "outputs": [],
   "source": [
    "#df2 = df2.astype({\"all_product_list\": str, \"product_name\": str, \"num_reference_no\": str, \"relationship\": str, \"premiumamount\":'float', \"total_premium\":'float', \"sum_insured\":'float'})"
   ]
  },
  {
   "cell_type": "code",
   "execution_count": null,
   "metadata": {},
   "outputs": [],
   "source": [
    "df2.relationship.fillna(value=np.nan, inplace=True)\n",
    "df2.id_type.fillna(value=np.nan, inplace=True)\n",
    "df2.id_value.fillna(value=np.nan, inplace=True)"
   ]
  },
  {
   "cell_type": "code",
   "execution_count": null,
   "metadata": {},
   "outputs": [],
   "source": [
    "#df2 = df2.astype({\"all_product_list\": str, \"product_name\": str, \"application_no\": str, \"proposal_no\": str, \"mobile\": str, \"premiumamount\":'float', \"total_premium\":'float', \"sum_insured\":'float'})"
   ]
  },
  {
   "cell_type": "code",
   "execution_count": 28,
   "metadata": {},
   "outputs": [
    {
     "data": {
      "text/plain": [
       "(220092, 30)"
      ]
     },
     "execution_count": 28,
     "metadata": {},
     "output_type": "execute_result"
    }
   ],
   "source": [
    "df2.shape"
   ]
  },
  {
   "cell_type": "code",
   "execution_count": 18,
   "metadata": {},
   "outputs": [],
   "source": [
    "#df2=df2[df2.premiumamount>1]"
   ]
  },
  {
   "cell_type": "code",
   "execution_count": 19,
   "metadata": {},
   "outputs": [
    {
     "data": {
      "text/plain": [
       "(219880, 30)"
      ]
     },
     "execution_count": 19,
     "metadata": {},
     "output_type": "execute_result"
    }
   ],
   "source": [
    "df2.shape"
   ]
  },
  {
   "cell_type": "code",
   "execution_count": null,
   "metadata": {},
   "outputs": [],
   "source": [
    "#df2.dtypes"
   ]
  },
  {
   "cell_type": "code",
   "execution_count": null,
   "metadata": {},
   "outputs": [],
   "source": [
    "#df2['other_product_name'] = df2['all_product_list'].str.split(',').apply(lambda x:','.join([i for i in x if i not in df2['product_name'].values]))\n"
   ]
  },
  {
   "cell_type": "code",
   "execution_count": 29,
   "metadata": {},
   "outputs": [],
   "source": [
    "# making copy of team column\n",
    "new = df2[\"channel\"].copy()\n",
    " \n",
    "# concatenating team with name column\n",
    "# overwriting name column\n",
    "df2[\"pnc\"]= df2[\"product_name\"].str.cat(new, sep =\"|\")"
   ]
  },
  {
   "cell_type": "code",
   "execution_count": 30,
   "metadata": {},
   "outputs": [
    {
     "data": {
      "text/plain": [
       "(220092, 31)"
      ]
     },
     "execution_count": 30,
     "metadata": {},
     "output_type": "execute_result"
    }
   ],
   "source": [
    "df2.shape"
   ]
  },
  {
   "cell_type": "code",
   "execution_count": 31,
   "metadata": {},
   "outputs": [],
   "source": [
    "f=lambda x: ', '.join(set(x['all_product_list'].split(',')).difference(set(x['pnc'].split(','))))\n",
    "df2['other_product_name'] = df2.apply(f, axis=1)"
   ]
  },
  {
   "cell_type": "code",
   "execution_count": 32,
   "metadata": {},
   "outputs": [
    {
     "data": {
      "text/html": [
       "<div>\n",
       "<style scoped>\n",
       "    .dataframe tbody tr th:only-of-type {\n",
       "        vertical-align: middle;\n",
       "    }\n",
       "\n",
       "    .dataframe tbody tr th {\n",
       "        vertical-align: top;\n",
       "    }\n",
       "\n",
       "    .dataframe thead th {\n",
       "        text-align: right;\n",
       "    }\n",
       "</style>\n",
       "<table border=\"1\" class=\"dataframe\">\n",
       "  <thead>\n",
       "    <tr style=\"text-align: right;\">\n",
       "      <th></th>\n",
       "      <th>num_reference_no</th>\n",
       "      <th>dc_unified_id</th>\n",
       "      <th>customer_id</th>\n",
       "      <th>policy_no</th>\n",
       "      <th>certificate_no</th>\n",
       "      <th>pol_incept_date</th>\n",
       "      <th>pol_exp_date</th>\n",
       "      <th>record_type_desc</th>\n",
       "      <th>product_name</th>\n",
       "      <th>product_cd</th>\n",
       "      <th>...</th>\n",
       "      <th>premiumamount</th>\n",
       "      <th>total_premium</th>\n",
       "      <th>member_id</th>\n",
       "      <th>member_entry_date</th>\n",
       "      <th>insured_name</th>\n",
       "      <th>insured_dob</th>\n",
       "      <th>risk</th>\n",
       "      <th>all_product_list</th>\n",
       "      <th>pnc</th>\n",
       "      <th>other_product_name</th>\n",
       "    </tr>\n",
       "  </thead>\n",
       "  <tbody>\n",
       "    <tr>\n",
       "      <th>0</th>\n",
       "      <td>201709290005484</td>\n",
       "      <td>23360411.0</td>\n",
       "      <td>6009618769</td>\n",
       "      <td>0235298353</td>\n",
       "      <td>000000</td>\n",
       "      <td>2017-12-27</td>\n",
       "      <td>2018-12-26</td>\n",
       "      <td>RENEWAL BUSINESS</td>\n",
       "      <td>ACCIDENTSICKNESSHOSPITALCASH</td>\n",
       "      <td>2874</td>\n",
       "      <td>...</td>\n",
       "      <td>4156.00</td>\n",
       "      <td>4904.08</td>\n",
       "      <td>0000009851201040</td>\n",
       "      <td>27/12/2016</td>\n",
       "      <td>SHYAM  SUNDER . .</td>\n",
       "      <td>25/11/1976</td>\n",
       "      <td>Spouse</td>\n",
       "      <td>ACCIDENTSICKNESSHOSPITALCASH|DIRECT MARKETING</td>\n",
       "      <td>ACCIDENTSICKNESSHOSPITALCASH|DIRECT MARKETING</td>\n",
       "      <td></td>\n",
       "    </tr>\n",
       "    <tr>\n",
       "      <th>1</th>\n",
       "      <td>202312180077270</td>\n",
       "      <td>133089925.0</td>\n",
       "      <td>6127048308</td>\n",
       "      <td>7000114982</td>\n",
       "      <td>000000</td>\n",
       "      <td>2024-01-18</td>\n",
       "      <td>2025-01-17</td>\n",
       "      <td>RENEWAL BUSINESS</td>\n",
       "      <td>MEDICARE</td>\n",
       "      <td>2888</td>\n",
       "      <td>...</td>\n",
       "      <td>18750.96</td>\n",
       "      <td>22126.14</td>\n",
       "      <td>IDV00032207202034</td>\n",
       "      <td>18/01/2023</td>\n",
       "      <td>Priyanka Shyam Jaiswal</td>\n",
       "      <td>29/05/1988</td>\n",
       "      <td>Self</td>\n",
       "      <td>MEDICARE|E-BUSINESS</td>\n",
       "      <td>MEDICARE|E-BUSINESS</td>\n",
       "      <td></td>\n",
       "    </tr>\n",
       "    <tr>\n",
       "      <th>2</th>\n",
       "      <td>202402220344980</td>\n",
       "      <td>195231095.0</td>\n",
       "      <td>6157587330</td>\n",
       "      <td>7000214423</td>\n",
       "      <td>000000</td>\n",
       "      <td>2024-02-17</td>\n",
       "      <td>2025-02-16</td>\n",
       "      <td>NEW BUSINESS</td>\n",
       "      <td>MEDICARE</td>\n",
       "      <td>2888</td>\n",
       "      <td>...</td>\n",
       "      <td>28696.68</td>\n",
       "      <td>33862.08</td>\n",
       "      <td>IDV00121576801043</td>\n",
       "      <td>17/02/2024</td>\n",
       "      <td>NARESH KUMAR P</td>\n",
       "      <td>25/05/1980</td>\n",
       "      <td>Spouse</td>\n",
       "      <td>MEDICARE|E-BUSINESS</td>\n",
       "      <td>MEDICARE|E-BUSINESS</td>\n",
       "      <td></td>\n",
       "    </tr>\n",
       "    <tr>\n",
       "      <th>3</th>\n",
       "      <td>202401060156807</td>\n",
       "      <td>185841462.0</td>\n",
       "      <td>6153995604</td>\n",
       "      <td>7090000786</td>\n",
       "      <td>000000</td>\n",
       "      <td>2024-01-05</td>\n",
       "      <td>2025-01-04</td>\n",
       "      <td>NEW BUSINESS</td>\n",
       "      <td>TATAAIG HEALTH SUPER CHARGE</td>\n",
       "      <td>2846</td>\n",
       "      <td>...</td>\n",
       "      <td>22406.80</td>\n",
       "      <td>26440.02</td>\n",
       "      <td>IDV00213051602042</td>\n",
       "      <td>05/01/2024</td>\n",
       "      <td>MATTAM GEETHAJALI</td>\n",
       "      <td>03/12/1981</td>\n",
       "      <td>Spouse</td>\n",
       "      <td>TATAAIG HEALTH SUPER CHARGE|E-BUSINESS</td>\n",
       "      <td>TATAAIG HEALTH SUPER CHARGE|E-BUSINESS</td>\n",
       "      <td></td>\n",
       "    </tr>\n",
       "    <tr>\n",
       "      <th>4</th>\n",
       "      <td>202010090176709</td>\n",
       "      <td>22713893.0</td>\n",
       "      <td>6015312079</td>\n",
       "      <td>0235776817</td>\n",
       "      <td>000000</td>\n",
       "      <td>2021-01-30</td>\n",
       "      <td>2022-01-29</td>\n",
       "      <td>RENEWAL BUSINESS</td>\n",
       "      <td>ACCIDENTSICKNESSHOSPITALCASH</td>\n",
       "      <td>2874</td>\n",
       "      <td>...</td>\n",
       "      <td>2096.00</td>\n",
       "      <td>2473.28</td>\n",
       "      <td>ADER0121705449603010</td>\n",
       "      <td>02/01/2018</td>\n",
       "      <td>NEKKALAPUDI  JIGNASH</td>\n",
       "      <td>04/06/2007</td>\n",
       "      <td>DependentChild2</td>\n",
       "      <td>ACCIDENTSICKNESSHOSPITALCASH|DIRECT MARKETING</td>\n",
       "      <td>ACCIDENTSICKNESSHOSPITALCASH|DIRECT MARKETING</td>\n",
       "      <td></td>\n",
       "    </tr>\n",
       "  </tbody>\n",
       "</table>\n",
       "<p>5 rows × 32 columns</p>\n",
       "</div>"
      ],
      "text/plain": [
       "  num_reference_no  dc_unified_id customer_id   policy_no certificate_no  \\\n",
       "0  201709290005484     23360411.0  6009618769  0235298353         000000   \n",
       "1  202312180077270    133089925.0  6127048308  7000114982         000000   \n",
       "2  202402220344980    195231095.0  6157587330  7000214423         000000   \n",
       "3  202401060156807    185841462.0  6153995604  7090000786         000000   \n",
       "4  202010090176709     22713893.0  6015312079  0235776817         000000   \n",
       "\n",
       "  pol_incept_date pol_exp_date  record_type_desc  \\\n",
       "0      2017-12-27   2018-12-26  RENEWAL BUSINESS   \n",
       "1      2024-01-18   2025-01-17  RENEWAL BUSINESS   \n",
       "2      2024-02-17   2025-02-16      NEW BUSINESS   \n",
       "3      2024-01-05   2025-01-04      NEW BUSINESS   \n",
       "4      2021-01-30   2022-01-29  RENEWAL BUSINESS   \n",
       "\n",
       "                   product_name product_cd  ... premiumamount total_premium  \\\n",
       "0  ACCIDENTSICKNESSHOSPITALCASH       2874  ...       4156.00       4904.08   \n",
       "1                      MEDICARE       2888  ...      18750.96      22126.14   \n",
       "2                      MEDICARE       2888  ...      28696.68      33862.08   \n",
       "3   TATAAIG HEALTH SUPER CHARGE       2846  ...      22406.80      26440.02   \n",
       "4  ACCIDENTSICKNESSHOSPITALCASH       2874  ...       2096.00       2473.28   \n",
       "\n",
       "              member_id member_entry_date            insured_name insured_dob  \\\n",
       "0      0000009851201040        27/12/2016       SHYAM  SUNDER . .  25/11/1976   \n",
       "1     IDV00032207202034        18/01/2023  Priyanka Shyam Jaiswal  29/05/1988   \n",
       "2     IDV00121576801043        17/02/2024          NARESH KUMAR P  25/05/1980   \n",
       "3     IDV00213051602042        05/01/2024       MATTAM GEETHAJALI  03/12/1981   \n",
       "4  ADER0121705449603010        02/01/2018    NEKKALAPUDI  JIGNASH  04/06/2007   \n",
       "\n",
       "              risk                               all_product_list  \\\n",
       "0           Spouse  ACCIDENTSICKNESSHOSPITALCASH|DIRECT MARKETING   \n",
       "1             Self                            MEDICARE|E-BUSINESS   \n",
       "2           Spouse                            MEDICARE|E-BUSINESS   \n",
       "3           Spouse         TATAAIG HEALTH SUPER CHARGE|E-BUSINESS   \n",
       "4  DependentChild2  ACCIDENTSICKNESSHOSPITALCASH|DIRECT MARKETING   \n",
       "\n",
       "                                             pnc  other_product_name  \n",
       "0  ACCIDENTSICKNESSHOSPITALCASH|DIRECT MARKETING                      \n",
       "1                            MEDICARE|E-BUSINESS                      \n",
       "2                            MEDICARE|E-BUSINESS                      \n",
       "3         TATAAIG HEALTH SUPER CHARGE|E-BUSINESS                      \n",
       "4  ACCIDENTSICKNESSHOSPITALCASH|DIRECT MARKETING                      \n",
       "\n",
       "[5 rows x 32 columns]"
      ]
     },
     "execution_count": 32,
     "metadata": {},
     "output_type": "execute_result"
    }
   ],
   "source": [
    "df2.head()"
   ]
  },
  {
   "cell_type": "code",
   "execution_count": null,
   "metadata": {},
   "outputs": [],
   "source": [
    "#df2[df2.total_product_count>1]"
   ]
  },
  {
   "cell_type": "code",
   "execution_count": null,
   "metadata": {},
   "outputs": [],
   "source": [
    "#df2.mobile.replace(np.nan,'',regex = True, inplace=True)"
   ]
  },
  {
   "cell_type": "code",
   "execution_count": 33,
   "metadata": {},
   "outputs": [],
   "source": [
    "df2=df2[['num_reference_no','dc_unified_id','customer_id','policy_no','certificate_no','pol_incept_date','pol_exp_date','record_type_desc','product_name','product_cd','renl_cert_no','binddate','plan_type','policy_type','channel','birth_date','city','state','pin_code','sum_insured','times_renewed_cnt','minor_line','premiumamount','total_premium','member_id','member_entry_date','insured_name','insured_dob','risk','all_product_list','other_product_name']]"
   ]
  },
  {
   "cell_type": "code",
   "execution_count": null,
   "metadata": {},
   "outputs": [],
   "source": [
    "df2=df2[['num_reference_no','dc_unified_id','customer_id','policy_no','certificate_no','pol_incept_date','pol_exp_date','record_type_desc','product_name','product_cd','renl_cert_no','binddate','plan_type','channel','birth_date','city','state','pin_code','sum_insured','times_renewed_cnt','minor_line','premiumamount','total_premium','no_of_lives','risk','lta_dob','id_type','id_value','relationship','age', 'other_product_name']]"
   ]
  },
  {
   "cell_type": "code",
   "execution_count": 34,
   "metadata": {},
   "outputs": [],
   "source": [
    "df2=df2.drop_duplicates()"
   ]
  },
  {
   "cell_type": "code",
   "execution_count": 35,
   "metadata": {},
   "outputs": [
    {
     "data": {
      "text/plain": [
       "num_reference_no      100.000000\n",
       "dc_unified_id          97.606455\n",
       "customer_id           100.000000\n",
       "policy_no             100.000000\n",
       "certificate_no        100.000000\n",
       "pol_incept_date       100.000000\n",
       "pol_exp_date          100.000000\n",
       "record_type_desc      100.000000\n",
       "product_name          100.000000\n",
       "product_cd            100.000000\n",
       "renl_cert_no           99.985006\n",
       "binddate              100.000000\n",
       "plan_type              90.696163\n",
       "policy_type            54.532650\n",
       "channel               100.000000\n",
       "birth_date             88.014103\n",
       "city                   96.039384\n",
       "state                  96.039384\n",
       "pin_code               96.200225\n",
       "sum_insured            99.677862\n",
       "times_renewed_cnt      91.324537\n",
       "minor_line            100.000000\n",
       "premiumamount         100.000000\n",
       "total_premium         100.000000\n",
       "member_id              98.922269\n",
       "member_entry_date      97.053959\n",
       "insured_name           99.998183\n",
       "insured_dob           100.000000\n",
       "risk                  100.000000\n",
       "all_product_list      100.000000\n",
       "other_product_name    100.000000\n",
       "dtype: float64"
      ]
     },
     "execution_count": 35,
     "metadata": {},
     "output_type": "execute_result"
    }
   ],
   "source": [
    "df2.notna().sum()/len(df2)*100"
   ]
  },
  {
   "cell_type": "code",
   "execution_count": 36,
   "metadata": {},
   "outputs": [
    {
     "data": {
      "text/plain": [
       "(220092, 31)"
      ]
     },
     "execution_count": 36,
     "metadata": {},
     "output_type": "execute_result"
    }
   ],
   "source": [
    "df2.shape"
   ]
  },
  {
   "cell_type": "code",
   "execution_count": 37,
   "metadata": {},
   "outputs": [],
   "source": [
    "df2.to_csv('Ebiz_data_hlt_new.csv')"
   ]
  },
  {
   "cell_type": "code",
   "execution_count": null,
   "metadata": {},
   "outputs": [],
   "source": []
  }
 ],
 "metadata": {
  "kernelspec": {
   "display_name": "Python 3",
   "language": "python",
   "name": "python3"
  },
  "language_info": {
   "codemirror_mode": {
    "name": "ipython",
    "version": 3
   },
   "file_extension": ".py",
   "mimetype": "text/x-python",
   "name": "python",
   "nbconvert_exporter": "python",
   "pygments_lexer": "ipython3",
   "version": "3.7.6"
  }
 },
 "nbformat": 4,
 "nbformat_minor": 4
}
