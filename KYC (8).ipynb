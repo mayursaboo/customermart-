{
 "cells": [
  {
   "cell_type": "code",
   "execution_count": 1,
   "metadata": {},
   "outputs": [
    {
     "name": "stdout",
     "output_type": "stream",
     "text": [
      "Starting Spark application\n"
     ]
    },
    {
     "data": {
      "text/html": [
       "<table>\n",
       "<tr><th>ID</th><th>YARN Application ID</th><th>Kind</th><th>State</th><th>Spark UI</th><th>Driver log</th><th>Current session?</th></tr><tr><td>19035</td><td>None</td><td>pyspark</td><td>idle</td><td></td><td></td><td>✔</td></tr></table>"
      ],
      "text/plain": [
       "<IPython.core.display.HTML object>"
      ]
     },
     "metadata": {},
     "output_type": "display_data"
    },
    {
     "data": {
      "application/vnd.jupyter.widget-view+json": {
       "model_id": "",
       "version_major": 2,
       "version_minor": 0
      },
      "text/plain": [
       "FloatProgress(value=0.0, bar_style='info', description='Progress:', layout=Layout(height='25px', width='50%'),…"
      ]
     },
     "metadata": {},
     "output_type": "display_data"
    },
    {
     "name": "stdout",
     "output_type": "stream",
     "text": [
      "SparkSession available as 'spark'.\n"
     ]
    },
    {
     "data": {
      "application/vnd.jupyter.widget-view+json": {
       "model_id": "",
       "version_major": 2,
       "version_minor": 0
      },
      "text/plain": [
       "FloatProgress(value=0.0, bar_style='info', description='Progress:', layout=Layout(height='25px', width='50%'),…"
      ]
     },
     "metadata": {},
     "output_type": "display_data"
    }
   ],
   "source": [
    "import sys\n",
    "\n",
    "\n",
    "no_of_cpu =8\n",
    "max_cores =8\n",
    "executor_mem = '56g'\n",
    "\n",
    "\n",
    "Job_Name = 'Customermart :KYC_DATA'\n",
    "\n",
    "\n",
    "from pyspark.mllib.stat import Statistics\n",
    "from pyspark.sql.functions import asc,lit\n",
    "#warnings.filterwarnings('error')\n",
    "import pyspark\n",
    "from datetime import datetime,timedelta\n",
    "from pyspark.sql import SQLContext\n",
    "from pyspark import SparkContext, SparkConf\n",
    "from pyspark.sql import functions as F\n",
    "\n",
    "conf = pyspark.SparkConf()\n",
    "#import numpy\n",
    "import calendar\n",
    "#import pandas as pd\n",
    "#import simplejson as json\n",
    "#import pandas as pd\n",
    "import numpy as np\n",
    "import datetime\n",
    "from pyspark.sql.functions import *\n",
    "from pyspark.sql.types import DateType\n",
    "from pyspark.sql.functions import lit\n",
    "import simplejson as json\n",
    "import json, pprint, requests\n",
    "#es_nodes = '10.35.12.5'\n",
    "#es_nodes = '10.35.12.6'\n",
    "es_nodes = '10.35.12.194'#,10.35.12.6,10.35.12.5\n",
    "es_nodes_temp='10.35.12.194'\n",
    "es_port = '5432'\n",
    "es_user = 'elastic'\n",
    "es_pwd = 'bEiilauM3es'\n",
    "mesos_ip = 'mesos://10.33.195.18:5050'#'mesos://10.35.12.5:5050'\n",
    "\n",
    "spark.stop() #############NEED TO COMMENT THIS SPARK.STOP WHEN RUNNING THROUGH SHELL###############################\n",
    "\n",
    "conf.setMaster(mesos_ip)\n",
    "\n",
    "conf.set('spark.executor.cores',no_of_cpu) ### change 1\n",
    "#conf.set('spark.memory.fraction','.2')\n",
    "conf.set('spark.executor.memory',executor_mem) \n",
    "conf.set('spark.es.scroll.size','10000')\n",
    "conf.set('spark.network.timeout','600s')\n",
    "conf.set('spark.sql.crossJoin.enabled', 'true')\n",
    "\n",
    "conf.set('spark.ui.port','4052')\n",
    "\n",
    "conf.set('spark.executor.heartbeatInterval','60s')\n",
    "conf.set(\"spark.driver.cores\",\"4\")\n",
    "conf.set(\"spark.driver.extraJavaOptions\",\"-Xmx4g -Xms4g\")\n",
    "\n",
    "#conf.set(\"spark.shuffle.blockTransferService\", \"nio\"); \n",
    "conf.set(\"spark.files.overwrite\",\"true\");\n",
    "conf.set(\"spark.kryoserializer.buffer\", \"70\"); \n",
    "conf.set(\"spark.driver.extraJavaOptions\", \"-XX:+UseG1GC\");\n",
    "conf.set(\"spark.executor.extraJavaOptions\", \"-XX:+UseG1GC\");\n",
    "conf.set(\"spark.serializer\", \"org.apache.spark.serializer.KryoSerializer\"); \n",
    "conf.set(\"spark.broadcast.compress\", \"true\"); \n",
    "conf.set(\"spark.shuffle.compress\", \"true\"); \n",
    "conf.set(\"spark.shuffle.spill.compress\", \"true\");\n",
    "conf.set(\"spark.app.name\", Job_Name)\n",
    "#conf.set(\"spark.io.compression.codec\",\"org.apache.spark.io.LZ4CompressionCodec\");\n",
    "#conf.set(\"spark.sql.inMemoryColumnarStorage.compressed\", \"true\"); \n",
    "from pyspark.sql.functions import broadcast\n",
    "\n",
    "conf.set('spark.driver.memory','20g') ### change 2\n",
    "conf.set('spark.cores.max',max_cores) ### change 3\n",
    "conf.set('spark.sql.shuffle.partitions','400')\n",
    "#conf.set('spark.sql.crossJoin.enabled', 'true')\n",
    "conf.set('es.nodes',es_nodes)\n",
    "conf.set('es.port',es_port)\n",
    "conf.set('es.nodes.wan.only','true')\n",
    "conf.set(\"spark.sql.autoBroadcastJoinThreshold\",-1)\n",
    "\n",
    "#conf.set('spark.es.net.http.auth.user','Spark')\n",
    "#conf.set('spark.es.net.http.auth.pass','Jarkpet1Sap3')\n",
    "conf.set('spark.num.executors','4')\n",
    "conf.set('spark.debug.maxToStringFields', 200)\n",
    "\n",
    "conf.set('spark.es.net.http.auth.user', es_user)\n",
    "conf.set('spark.es.net.http.auth.pass', es_pwd)\n",
    "\n",
    "conf.set('spark.es.mapping.date.rich','false')\n",
    "spark = pyspark.SparkContext(conf=conf)\n",
    "sqlContext = SQLContext(spark)\n",
    "\n",
    "# Load Data into PySpark DataFrames\n",
    "# Prodcom Data Frame\n",
    "import json, pprint, requests\n",
    "import pyspark.sql.functions as sf\n",
    "from pyspark.sql.types import *\n",
    "\n",
    "\n",
    "import numpy as np\n",
    "import datetime\n",
    "from pyspark.sql.functions import *\n",
    "from pyspark.sql.types import DateType\n",
    "\n",
    "\n"
   ]
  },
  {
   "cell_type": "code",
   "execution_count": 2,
   "metadata": {},
   "outputs": [
    {
     "data": {
      "application/vnd.jupyter.widget-view+json": {
       "model_id": "",
       "version_major": 2,
       "version_minor": 0
      },
      "text/plain": [
       "FloatProgress(value=0.0, bar_style='info', description='Progress:', layout=Layout(height='25px', width='50%'),…"
      ]
     },
     "metadata": {},
     "output_type": "display_data"
    },
    {
     "name": "stdout",
     "output_type": "stream",
     "text": [
      "'2024-03-18 06:41:51.564940'"
     ]
    }
   ],
   "source": [
    "from pyspark.sql.functions import hash\n",
    "import numpy as np\n",
    "import datetime\n",
    "from pyspark.sql.functions import *\n",
    "from pyspark.sql.types import DateType\n",
    "import psycopg2\n",
    "import time\n",
    "from time import gmtime, strftime\n",
    "import pytz\n",
    "starttime = time.time()\n",
    "start_time = datetime.datetime.now(pytz.timezone('Asia/Kolkata')).strftime(\"%Y-%m-%d %H:%M:%S.%f\")\n",
    "start_time"
   ]
  },
  {
   "cell_type": "code",
   "execution_count": 3,
   "metadata": {},
   "outputs": [
    {
     "data": {
      "application/vnd.jupyter.widget-view+json": {
       "model_id": "",
       "version_major": 2,
       "version_minor": 0
      },
      "text/plain": [
       "FloatProgress(value=0.0, bar_style='info', description='Progress:', layout=Layout(height='25px', width='50%'),…"
      ]
     },
     "metadata": {},
     "output_type": "display_data"
    }
   ],
   "source": [
    "prod_url = \"jdbc:postgresql://10.35.12.194:5432/gpadmin\"\n",
    "prod_host = '10.35.12.194'\n",
    "prod_port = '5432'\n",
    "prod_dbname = 'gpadmin'\n",
    "user_prod=\"gpspark\"\n",
    "pwd_prod=\"spark@456\"\n",
    "dbschema=\"public\"\n",
    "# url_prod = \"jdbc:postgresql://10.35.12.194:5432/gpadmin\"\n",
    "# dbschema_name = \"public\"\n",
    "# dbschema_name_2=\"registers\"\n",
    "\n",
    "\n",
    "prod_gpdb_spark_options ={\n",
    "    \"url\": \"jdbc:postgresql://{host}:{port}/{dbname}\".format(host=prod_host,port=prod_port, dbname=prod_dbname),\n",
    "    \"user\": \"{user}\".format(user=user_prod),\n",
    "    \"password\": \"{password}\".format(password=pwd_prod)\n",
    "} \n",
    "\n",
    "import psycopg2\n",
    "import datetime\n",
    "conn_prod = psycopg2.connect(host=prod_host, port=prod_port, user=user_prod, password=pwd_prod, dbname=prod_dbname)"
   ]
  },
  {
   "cell_type": "code",
   "execution_count": 4,
   "metadata": {},
   "outputs": [
    {
     "data": {
      "application/vnd.jupyter.widget-view+json": {
       "model_id": "",
       "version_major": 2,
       "version_minor": 0
      },
      "text/plain": [
       "FloatProgress(value=0.0, bar_style='info', description='Progress:', layout=Layout(height='25px', width='50%'),…"
      ]
     },
     "metadata": {},
     "output_type": "display_data"
    }
   ],
   "source": [
    "# Generic function to save the progress from last run into Progress table\n",
    "def update_progress(table_name,source,records,start_time,starttime,status):\n",
    "    output_index = \"progress\"\n",
    "    schema = \"customermart\"\n",
    "\n",
    "\n",
    "    import sys\n",
    "    import time\n",
    "    try:\n",
    "        \n",
    "\n",
    "\n",
    "        df_progress= sqlContext.createDataFrame([(table_name,source,records)]\n",
    "                                     ,['table_name', 'source','records'])\\\n",
    "        .withColumn('start_time',lit(start_time)).withColumn('end_time',current_timestamp())\\\n",
    "                    .withColumn('executed_in_mins',lit((time.time() - starttime)/60))\\\n",
    "                                .withColumn('status',lit(status)).withColumn('remarks',lit(None)).withColumn('from_datetime',lit(None)).withColumn('to_datetime',lit(None))\n",
    "    \n",
    "\n",
    "        \n",
    "        df_progress.write.format(\"greenplum\")\\\n",
    "            .option(\"dbtable\",output_index).option('dbschema',schema)\\\n",
    "            .option(\"server.port\",\"1150-1170\").option(\"url\",prod_url)\\\n",
    "            .option(\"user\", user_prod).option(\"password\",pwd_prod).mode('append').save()\n",
    "        \n",
    "       \n",
    "    except Exception as e:\n",
    "        x = e\n",
    "        print(x)\n",
    "    else:\n",
    "        x = 'success'\n",
    "#         print(\"Updated Progress for {table_name} from {source} until {to_datetime}. {records} records processed in this run\".format(table_name=table_name, source=source,to_datetime=time_filter['end_date'].strftime(\"%Y-%m-%d %H:%M:%S\"),records=records))\n",
    "        print(x)"
   ]
  },
  {
   "cell_type": "code",
   "execution_count": 5,
   "metadata": {},
   "outputs": [
    {
     "data": {
      "application/vnd.jupyter.widget-view+json": {
       "model_id": "",
       "version_major": 2,
       "version_minor": 0
      },
      "text/plain": [
       "FloatProgress(value=0.0, bar_style='info', description='Progress:', layout=Layout(height='25px', width='50%'),…"
      ]
     },
     "metadata": {},
     "output_type": "display_data"
    }
   ],
   "source": [
    "def load_gpdb_jdbc(col_str,dbschema,dbtable,col_name=None,time_filter=None,partitionColumn=\"row_num\"):\n",
    "    \"\"\"\n",
    "    This is used to read gpdb with filter for columns and can apply other filter(date,values).\n",
    "    Time filter contains startdate,enddate\n",
    "    \"\"\"\n",
    "    gscPythonOptions = {\n",
    "                        \"url\": prod_url,\n",
    "                        \"user\": user_prod,\n",
    "                        \"password\": pwd_prod,\n",
    "                        \"dbschema\": dbschema,\n",
    "                        \"dbtable\": dbtable,\n",
    "                        \"partitionColumn\":partitionColumn,\n",
    "                        \"partitions\": 8,\n",
    "                        \"server.port\":\"1150-1170\"}\n",
    "   \n",
    "    if time_filter:\n",
    "        data = sqlContext.read.format(\"greenplum\").options(**gscPythonOptions).load()\\\n",
    "                .select(col_str).drop_duplicates().filter(col(col_name).between(to_timestamp(lit(time_filter['start_date']),\n",
    "                                                                 format='yyyy-MM-dd'),\n",
    "                                                    to_timestamp(lit(time_filter['end_date']),\n",
    "                                                                 format='yyyy-MM-dd')))\n",
    "    else :\n",
    "        data = sqlContext.read.format(\"greenplum\").options(**gscPythonOptions).load()\\\n",
    "                .select(col_str).drop_duplicates()\n",
    "   \n",
    "    return data"
   ]
  },
  {
   "cell_type": "code",
   "execution_count": 6,
   "metadata": {},
   "outputs": [
    {
     "data": {
      "application/vnd.jupyter.widget-view+json": {
       "model_id": "",
       "version_major": 2,
       "version_minor": 0
      },
      "text/plain": [
       "FloatProgress(value=0.0, bar_style='info', description='Progress:', layout=Layout(height='25px', width='50%'),…"
      ]
     },
     "metadata": {},
     "output_type": "display_data"
    }
   ],
   "source": [
    "# Fetching premium_register Data to get the Policy_no (Will be used to connect with other Tables)\n",
    "\n",
    "gscPythonOptions = {\n",
    "         \"url\": \"jdbc:postgresql://10.35.12.194:5432/gpadmin\",\"user\": \"gpspark\",\"password\": \"spark@456\",\n",
    "         \"dbschema\": \"registers\",\"dbtable\": \"premium_register\",\n",
    "         \"partitionColumn\":\"row_num\",\"partitions\":8,\n",
    "         \"server.port\":\"1150-1170\"}\n",
    "\n",
    "register_df = sqlContext.read.format(\"greenplum\").options(**gscPythonOptions).load()\\\n",
    ".select('customer_id','policy_no','certificate_no','num_reference_no').filter((col('customer_id').isNotNull()))"
   ]
  },
  {
   "cell_type": "code",
   "execution_count": 7,
   "metadata": {},
   "outputs": [
    {
     "data": {
      "application/vnd.jupyter.widget-view+json": {
       "model_id": "",
       "version_major": 2,
       "version_minor": 0
      },
      "text/plain": [
       "FloatProgress(value=0.0, bar_style='info', description='Progress:', layout=Layout(height='25px', width='50%'),…"
      ]
     },
     "metadata": {},
     "output_type": "display_data"
    }
   ],
   "source": [
    "register_df=register_df.repartition('customer_id')"
   ]
  },
  {
   "cell_type": "code",
   "execution_count": 8,
   "metadata": {},
   "outputs": [
    {
     "data": {
      "application/vnd.jupyter.widget-view+json": {
       "model_id": "",
       "version_major": 2,
       "version_minor": 0
      },
      "text/plain": [
       "FloatProgress(value=0.0, bar_style='info', description='Progress:', layout=Layout(height='25px', width='50%'),…"
      ]
     },
     "metadata": {},
     "output_type": "display_data"
    }
   ],
   "source": [
    "gscPythonOptions = {\n",
    "         \"url\": \"jdbc:postgresql://10.35.12.194:5432/gpadmin\",\"user\": \"gpcustcoe\",\"password\": \"gpcustcoe@123\"\n",
    "    ,\"dbschema\":\"customermart\"\n",
    "    ,\"dbtable\": \"customer_demographics\",\n",
    "         \"server.port\":\"1150-1170\"}\n",
    "\n",
    "\n",
    "cust_demog_retail_df = sqlContext.read.format(\"greenplum\").options(**gscPythonOptions).load()\\\n",
    ".selectExpr('golden_id','full_name','first_name','middle_name','last_name','birth_date','ckyc','kyc_id','kyc_verfication_flag','kyc_datetime_stamp','customer_type').filter((col('golden_id').isNotNull()))\\\n",
    ".filter(~(col('ckyc').isNull() & col('kyc_id').isNull() & col('kyc_verfication_flag').isNull())).drop_duplicates()\n",
    "# .filter(col('ckyc').isNotNull() | col('kyc_id').isNotNull() | col('kyc_verfication_flag').isNotNull())\n"
   ]
  },
  {
   "cell_type": "code",
   "execution_count": 9,
   "metadata": {},
   "outputs": [
    {
     "data": {
      "application/vnd.jupyter.widget-view+json": {
       "model_id": "",
       "version_major": 2,
       "version_minor": 0
      },
      "text/plain": [
       "FloatProgress(value=0.0, bar_style='info', description='Progress:', layout=Layout(height='25px', width='50%'),…"
      ]
     },
     "metadata": {},
     "output_type": "display_data"
    }
   ],
   "source": [
    "gscPythonOptions = {\n",
    "         \"url\": \"jdbc:postgresql://10.35.12.194:5432/gpadmin\",\"user\": \"gpcustcoe\",\"password\": \"gpcustcoe@123\",\n",
    "    \"dbschema\":\"customermart\"\n",
    "    ,\"dbtable\": \"corp_customer_demographics\",\n",
    "         \"server.port\":\"1150-1170\"}\n",
    "\n",
    "demog_corp_df = sqlContext.read.format(\"greenplum\").options(**gscPythonOptions).load()\\\n",
    ".select('golden_id','source_system_customer_id','full_name','first_name','middle_name','last_name','mobile_primary','mobile_secondary','email_primary','email_secondary',\n",
    "'psnt_address_line_1','psnt_address_line_2','psnt_address_line_3','psnt_address_city','psnt_address_state','psnt_address_country','psnt_address_zip','gstin',\n",
    "'pan','kyc_id','ckyc','kyc_verfication_flag','kyc_datetime_stamp','msme_no',\"customer_type\")\\\n",
    ".filter(~(col('ckyc').isNull()& col('kyc_id').isNull() & col('kyc_verfication_flag').isNull())).drop_duplicates()\n",
    "# .filter(col('ckyc').isNotNull() | col('kyc_id').isNotNull() | col('kyc_verfication_flag').isNotNull())\n",
    "\n"
   ]
  },
  {
   "cell_type": "code",
   "execution_count": 10,
   "metadata": {},
   "outputs": [
    {
     "data": {
      "application/vnd.jupyter.widget-view+json": {
       "model_id": "",
       "version_major": 2,
       "version_minor": 0
      },
      "text/plain": [
       "FloatProgress(value=0.0, bar_style='info', description='Progress:', layout=Layout(height='25px', width='50%'),…"
      ]
     },
     "metadata": {},
     "output_type": "display_data"
    }
   ],
   "source": [
    "gscPythonOptions = {\n",
    "         \"url\": \"jdbc:postgresql://10.35.12.194:5432/gpadmin\",\"user\": \"gpcustcoe\",\"password\": \"gpcustcoe@123\",\n",
    "    \"dbschema\":\"customermart\"\n",
    "    ,\"dbtable\": \"header\",\n",
    "         \"server.port\":\"1150-1170\"}\n",
    "\n",
    "\n",
    "header_df = sqlContext.read.format(\"greenplum\").options(**gscPythonOptions).load()\\\n",
    ".select('golden_id','source_system_customer_id','active_flag','mapping_date').filter((col('active_flag')=='1')).filter((col('source_system_customer_id').isNotNull()))"
   ]
  },
  {
   "cell_type": "code",
   "execution_count": 11,
   "metadata": {},
   "outputs": [
    {
     "data": {
      "application/vnd.jupyter.widget-view+json": {
       "model_id": "",
       "version_major": 2,
       "version_minor": 0
      },
      "text/plain": [
       "FloatProgress(value=0.0, bar_style='info', description='Progress:', layout=Layout(height='25px', width='50%'),…"
      ]
     },
     "metadata": {},
     "output_type": "display_data"
    }
   ],
   "source": [
    "from pyspark.sql.window import Window\n",
    "\n",
    "header_df = header_df.withColumn(\"rn\", F.row_number()\n",
    "        .over(Window.partitionBy('source_system_customer_id')\n",
    "        .orderBy(F.col(\"mapping_date\").desc(),F.col(\"golden_id\").desc())))\n",
    "\n",
    "header_df = header_df.filter(F.col(\"rn\") == 1).drop(\"rn\")"
   ]
  },
  {
   "cell_type": "code",
   "execution_count": 12,
   "metadata": {
    "scrolled": true
   },
   "outputs": [
    {
     "data": {
      "application/vnd.jupyter.widget-view+json": {
       "model_id": "",
       "version_major": 2,
       "version_minor": 0
      },
      "text/plain": [
       "FloatProgress(value=0.0, bar_style='info', description='Progress:', layout=Layout(height='25px', width='50%'),…"
      ]
     },
     "metadata": {},
     "output_type": "display_data"
    }
   ],
   "source": [
    "gscPythonOptions = {\n",
    "         \"url\": \"jdbc:postgresql://10.35.12.194:5432/gpadmin\",\"user\": \"gpcustcoe\",\"password\": \"gpcustcoe@123\"\n",
    "     ,\"dbschema\":\"customermart\"\n",
    "    ,\"dbtable\": \"header_corp\",\n",
    "         \"server.port\":\"1150-1170\"}\n",
    "\n",
    "\n",
    "header_corp_df = sqlContext.read.format(\"greenplum\").options(**gscPythonOptions).load()\\\n",
    ".select('golden_id','source_system_customer_id','active_flag','mapping_date').filter((col('active_flag')=='1')).filter((col('source_system_customer_id').isNotNull()))"
   ]
  },
  {
   "cell_type": "code",
   "execution_count": 13,
   "metadata": {},
   "outputs": [
    {
     "data": {
      "application/vnd.jupyter.widget-view+json": {
       "model_id": "",
       "version_major": 2,
       "version_minor": 0
      },
      "text/plain": [
       "FloatProgress(value=0.0, bar_style='info', description='Progress:', layout=Layout(height='25px', width='50%'),…"
      ]
     },
     "metadata": {},
     "output_type": "display_data"
    }
   ],
   "source": [
    "from pyspark.sql.window import Window\n",
    "\n",
    "header_corp_df = header_corp_df.withColumn(\"rn\", F.row_number()\n",
    "        .over(Window.partitionBy('source_system_customer_id')\n",
    "        .orderBy(F.col(\"mapping_date\").desc(),F.col(\"golden_id\").desc())))\n",
    "\n",
    "header_corp_df = header_corp_df.filter(F.col(\"rn\") == 1).drop(\"rn\")"
   ]
  },
  {
   "cell_type": "code",
   "execution_count": 14,
   "metadata": {},
   "outputs": [
    {
     "data": {
      "application/vnd.jupyter.widget-view+json": {
       "model_id": "",
       "version_major": 2,
       "version_minor": 0
      },
      "text/plain": [
       "FloatProgress(value=0.0, bar_style='info', description='Progress:', layout=Layout(height='25px', width='50%'),…"
      ]
     },
     "metadata": {},
     "output_type": "display_data"
    }
   ],
   "source": [
    "header_corp_df=header_corp_df.join(header_df,'source_system_customer_id','left_anti')"
   ]
  },
  {
   "cell_type": "code",
   "execution_count": 15,
   "metadata": {},
   "outputs": [
    {
     "data": {
      "application/vnd.jupyter.widget-view+json": {
       "model_id": "",
       "version_major": 2,
       "version_minor": 0
      },
      "text/plain": [
       "FloatProgress(value=0.0, bar_style='info', description='Progress:', layout=Layout(height='25px', width='50%'),…"
      ]
     },
     "metadata": {},
     "output_type": "display_data"
    }
   ],
   "source": [
    "retail_pol = register_df.join(header_df, header_df.source_system_customer_id == register_df.customer_id, 'inner')"
   ]
  },
  {
   "cell_type": "code",
   "execution_count": 16,
   "metadata": {},
   "outputs": [
    {
     "data": {
      "application/vnd.jupyter.widget-view+json": {
       "model_id": "",
       "version_major": 2,
       "version_minor": 0
      },
      "text/plain": [
       "FloatProgress(value=0.0, bar_style='info', description='Progress:', layout=Layout(height='25px', width='50%'),…"
      ]
     },
     "metadata": {},
     "output_type": "display_data"
    }
   ],
   "source": [
    "corp_pol = register_df.join(header_corp_df, header_corp_df.source_system_customer_id == register_df.customer_id, 'inner')"
   ]
  },
  {
   "cell_type": "code",
   "execution_count": 17,
   "metadata": {},
   "outputs": [
    {
     "data": {
      "application/vnd.jupyter.widget-view+json": {
       "model_id": "",
       "version_major": 2,
       "version_minor": 0
      },
      "text/plain": [
       "FloatProgress(value=0.0, bar_style='info', description='Progress:', layout=Layout(height='25px', width='50%'),…"
      ]
     },
     "metadata": {},
     "output_type": "display_data"
    }
   ],
   "source": [
    "# all_gid=retail_pol.union(corp_pol).dropDuplicates()"
   ]
  },
  {
   "cell_type": "code",
   "execution_count": 18,
   "metadata": {},
   "outputs": [
    {
     "data": {
      "application/vnd.jupyter.widget-view+json": {
       "model_id": "",
       "version_major": 2,
       "version_minor": 0
      },
      "text/plain": [
       "FloatProgress(value=0.0, bar_style='info', description='Progress:', layout=Layout(height='25px', width='50%'),…"
      ]
     },
     "metadata": {},
     "output_type": "display_data"
    }
   ],
   "source": [
    "# all_gid=all_gid.repartition('golden_id')\n",
    "cust_demog_retail_df=cust_demog_retail_df.repartition('golden_id')"
   ]
  },
  {
   "cell_type": "code",
   "execution_count": 19,
   "metadata": {},
   "outputs": [
    {
     "data": {
      "application/vnd.jupyter.widget-view+json": {
       "model_id": "",
       "version_major": 2,
       "version_minor": 0
      },
      "text/plain": [
       "FloatProgress(value=0.0, bar_style='info', description='Progress:', layout=Layout(height='25px', width='50%'),…"
      ]
     },
     "metadata": {},
     "output_type": "display_data"
    }
   ],
   "source": [
    "df1=retail_pol.join(cust_demog_retail_df,'golden_id','inner')"
   ]
  },
  {
   "cell_type": "code",
   "execution_count": 20,
   "metadata": {},
   "outputs": [
    {
     "data": {
      "application/vnd.jupyter.widget-view+json": {
       "model_id": "",
       "version_major": 2,
       "version_minor": 0
      },
      "text/plain": [
       "FloatProgress(value=0.0, bar_style='info', description='Progress:', layout=Layout(height='25px', width='50%'),…"
      ]
     },
     "metadata": {},
     "output_type": "display_data"
    }
   ],
   "source": [
    "gscPythonOptions = {\n",
    "         \"url\": \"jdbc:postgresql://10.35.12.194:5432/gpadmin\",\"user\": \"gpcustcoe\",\"password\": \"gpcustcoe@123\",\n",
    "    \"dbschema\":\"customermart\"\n",
    "    ,\"dbtable\": \"id\",\n",
    "         \"server.port\":\"1150-1170\"}\n",
    "\n",
    "\n",
    "id_retail_df = sqlContext.read.format(\"greenplum\").options(**gscPythonOptions).load()\\\n",
    ".select('source_system_customer_id','id_type','id_value','last_updated_date').filter((col('id_type').isin('pan', 'passport'))).filter((col('source_system_customer_id').isNotNull()))\n",
    "\n"
   ]
  },
  {
   "cell_type": "code",
   "execution_count": 21,
   "metadata": {},
   "outputs": [
    {
     "data": {
      "application/vnd.jupyter.widget-view+json": {
       "model_id": "",
       "version_major": 2,
       "version_minor": 0
      },
      "text/plain": [
       "FloatProgress(value=0.0, bar_style='info', description='Progress:', layout=Layout(height='25px', width='50%'),…"
      ]
     },
     "metadata": {},
     "output_type": "display_data"
    }
   ],
   "source": [
    "from pyspark.sql.window import Window\n",
    "\n",
    "id_retail_df = id_retail_df.withColumn(\"rn\", F.row_number()\n",
    "        .over(Window.partitionBy('source_system_customer_id','id_type')\n",
    "        .orderBy(F.col(\"last_updated_date\").desc())))\n",
    "\n",
    "id_retail_df = id_retail_df.filter(F.col(\"rn\") == 1).drop(\"rn\")"
   ]
  },
  {
   "cell_type": "code",
   "execution_count": 22,
   "metadata": {
    "scrolled": true
   },
   "outputs": [
    {
     "data": {
      "application/vnd.jupyter.widget-view+json": {
       "model_id": "",
       "version_major": 2,
       "version_minor": 0
      },
      "text/plain": [
       "FloatProgress(value=0.0, bar_style='info', description='Progress:', layout=Layout(height='25px', width='50%'),…"
      ]
     },
     "metadata": {},
     "output_type": "display_data"
    }
   ],
   "source": [
    "# id_retail_df=id_retail_df.select('source_system_customer_id',col('id_value').alias('pan').when(col('id_type')=='pan',col('id_value')).otherwise(None),\n",
    "#                                 col('id_value').alias('passport').when(col('id_type')=='passport',col('id_value')).otherwise(None))"
   ]
  },
  {
   "cell_type": "code",
   "execution_count": 23,
   "metadata": {},
   "outputs": [
    {
     "data": {
      "application/vnd.jupyter.widget-view+json": {
       "model_id": "",
       "version_major": 2,
       "version_minor": 0
      },
      "text/plain": [
       "FloatProgress(value=0.0, bar_style='info', description='Progress:', layout=Layout(height='25px', width='50%'),…"
      ]
     },
     "metadata": {},
     "output_type": "display_data"
    }
   ],
   "source": [
    "id_retail_df=id_retail_df.withColumn('pan',when(col('id_type')=='pan',col('id_value')).otherwise(None))\n",
    "id_retail_df=id_retail_df.withColumn('passport',when(col('id_type')=='passport',col('id_value')).otherwise(None))\n",
    "id_retail_df=id_retail_df.select('source_system_customer_id','pan','passport','last_updated_date')"
   ]
  },
  {
   "cell_type": "code",
   "execution_count": 24,
   "metadata": {},
   "outputs": [
    {
     "data": {
      "application/vnd.jupyter.widget-view+json": {
       "model_id": "",
       "version_major": 2,
       "version_minor": 0
      },
      "text/plain": [
       "FloatProgress(value=0.0, bar_style='info', description='Progress:', layout=Layout(height='25px', width='50%'),…"
      ]
     },
     "metadata": {},
     "output_type": "display_data"
    }
   ],
   "source": [
    "id_retail_df_pan=id_retail_df.select('source_system_customer_id','pan').filter((col('pan').isNotNull())).drop_duplicates()\n",
    "id_retail_df_pass=id_retail_df.select('source_system_customer_id','passport').filter((col('passport').isNotNull())).drop_duplicates()"
   ]
  },
  {
   "cell_type": "code",
   "execution_count": 25,
   "metadata": {},
   "outputs": [
    {
     "data": {
      "application/vnd.jupyter.widget-view+json": {
       "model_id": "",
       "version_major": 2,
       "version_minor": 0
      },
      "text/plain": [
       "FloatProgress(value=0.0, bar_style='info', description='Progress:', layout=Layout(height='25px', width='50%'),…"
      ]
     },
     "metadata": {},
     "output_type": "display_data"
    }
   ],
   "source": [
    "id_retail_df=id_retail_df_pan.join(id_retail_df_pass,'source_system_customer_id','full_outer').drop_duplicates()"
   ]
  },
  {
   "cell_type": "code",
   "execution_count": 26,
   "metadata": {},
   "outputs": [
    {
     "data": {
      "application/vnd.jupyter.widget-view+json": {
       "model_id": "",
       "version_major": 2,
       "version_minor": 0
      },
      "text/plain": [
       "FloatProgress(value=0.0, bar_style='info', description='Progress:', layout=Layout(height='25px', width='50%'),…"
      ]
     },
     "metadata": {},
     "output_type": "display_data"
    }
   ],
   "source": [
    "id_retail_df=id_retail_df.repartition('source_system_customer_id')"
   ]
  },
  {
   "cell_type": "code",
   "execution_count": 27,
   "metadata": {
    "scrolled": true
   },
   "outputs": [
    {
     "data": {
      "application/vnd.jupyter.widget-view+json": {
       "model_id": "",
       "version_major": 2,
       "version_minor": 0
      },
      "text/plain": [
       "FloatProgress(value=0.0, bar_style='info', description='Progress:', layout=Layout(height='25px', width='50%'),…"
      ]
     },
     "metadata": {},
     "output_type": "display_data"
    }
   ],
   "source": [
    "df1=df1.repartition('source_system_customer_id')"
   ]
  },
  {
   "cell_type": "code",
   "execution_count": 28,
   "metadata": {},
   "outputs": [
    {
     "data": {
      "application/vnd.jupyter.widget-view+json": {
       "model_id": "",
       "version_major": 2,
       "version_minor": 0
      },
      "text/plain": [
       "FloatProgress(value=0.0, bar_style='info', description='Progress:', layout=Layout(height='25px', width='50%'),…"
      ]
     },
     "metadata": {},
     "output_type": "display_data"
    }
   ],
   "source": [
    "df2=df1.join(id_retail_df,'source_system_customer_id','left')"
   ]
  },
  {
   "cell_type": "code",
   "execution_count": 29,
   "metadata": {},
   "outputs": [
    {
     "data": {
      "application/vnd.jupyter.widget-view+json": {
       "model_id": "",
       "version_major": 2,
       "version_minor": 0
      },
      "text/plain": [
       "FloatProgress(value=0.0, bar_style='info', description='Progress:', layout=Layout(height='25px', width='50%'),…"
      ]
     },
     "metadata": {},
     "output_type": "display_data"
    },
    {
     "name": "stdout",
     "output_type": "stream",
     "text": [
      "33588635"
     ]
    }
   ],
   "source": [
    "df2.persist()\n",
    "df2.count()"
   ]
  },
  {
   "cell_type": "code",
   "execution_count": 30,
   "metadata": {},
   "outputs": [
    {
     "data": {
      "application/vnd.jupyter.widget-view+json": {
       "model_id": "",
       "version_major": 2,
       "version_minor": 0
      },
      "text/plain": [
       "FloatProgress(value=0.0, bar_style='info', description='Progress:', layout=Layout(height='25px', width='50%'),…"
      ]
     },
     "metadata": {},
     "output_type": "display_data"
    }
   ],
   "source": [
    "gscPythonOptions = {\n",
    "         \"url\": \"jdbc:postgresql://10.35.12.194:5432/gpadmin\",\"user\": \"gpcustcoe\",\"password\": \"gpcustcoe@123\",\n",
    "    \"dbschema\":\"customermart\"\n",
    "    ,\"dbtable\": \"contactability\",\n",
    "         \"server.port\":\"1150-1170\"}\n",
    "\n",
    "contactibilty_retail_df = sqlContext.read.format(\"greenplum\").options(**gscPythonOptions).load()\\\n",
    ".selectExpr('source_system_customer_id','communication_sub_type','value','last_updated','source_system_name').filter((col('source_system_customer_id').isNotNull()))\\\n",
    ".filter(col('value').isNotNull()).filter(col('source_system_name')!='CREDIT_BUREAU')\n",
    "#source_system_name ='CREDIT_BUREAU' contactibilty_retail_df=contactibilty_retail_df.withColumn('communication_sub_type',when(col('communication_sub_type')=='phone','mobile').otherwise(col('communication_sub_type')))\n"
   ]
  },
  {
   "cell_type": "code",
   "execution_count": 31,
   "metadata": {},
   "outputs": [
    {
     "data": {
      "application/vnd.jupyter.widget-view+json": {
       "model_id": "",
       "version_major": 2,
       "version_minor": 0
      },
      "text/plain": [
       "FloatProgress(value=0.0, bar_style='info', description='Progress:', layout=Layout(height='25px', width='50%'),…"
      ]
     },
     "metadata": {},
     "output_type": "display_data"
    }
   ],
   "source": [
    "contactibilty_retail_df=contactibilty_retail_df.withColumn(\"rnk\",when(col(\"source_system_name\")=='GC',1)\\\n",
    ".otherwise(2))"
   ]
  },
  {
   "cell_type": "code",
   "execution_count": 32,
   "metadata": {},
   "outputs": [
    {
     "data": {
      "application/vnd.jupyter.widget-view+json": {
       "model_id": "",
       "version_major": 2,
       "version_minor": 0
      },
      "text/plain": [
       "FloatProgress(value=0.0, bar_style='info', description='Progress:', layout=Layout(height='25px', width='50%'),…"
      ]
     },
     "metadata": {},
     "output_type": "display_data"
    },
    {
     "name": "stdout",
     "output_type": "stream",
     "text": [
      "['source_system_customer_id', 'communication_sub_type', 'value', 'last_updated', 'source_system_name', 'rnk']"
     ]
    }
   ],
   "source": [
    "contactibilty_retail_df.columns"
   ]
  },
  {
   "cell_type": "code",
   "execution_count": 33,
   "metadata": {},
   "outputs": [
    {
     "data": {
      "application/vnd.jupyter.widget-view+json": {
       "model_id": "",
       "version_major": 2,
       "version_minor": 0
      },
      "text/plain": [
       "FloatProgress(value=0.0, bar_style='info', description='Progress:', layout=Layout(height='25px', width='50%'),…"
      ]
     },
     "metadata": {},
     "output_type": "display_data"
    }
   ],
   "source": [
    "contactibilty_retail_df=contactibilty_retail_df.withColumn('mobile',when(col('communication_sub_type')=='mobile',col('value')).otherwise(None))\n",
    "contactibilty_retail_df=contactibilty_retail_df.withColumn('email',when(col('communication_sub_type')=='email',col('value')).otherwise(None))\n",
    "\n",
    "contactibilty_retail_df = contactibilty_retail_df.withColumn('email',when((lower(trim(col(\"email\"))).rlike(\"^[a-zA-Z0-9._%+-]+@[a-zA-Z0-9.-]+\\.[a-zA-Z]{2,}(\\.[a-zA-Z]{2,})?$\") == False)\\\n",
    "                                                        & (lower(trim(col(\"communication_sub_type\")))=='email'),lit(None)).otherwise(col('email')))\n",
    "\n",
    "\n",
    "\n",
    "contactibilty_retail_df=contactibilty_retail_df.select('source_system_customer_id','mobile','email','rnk','last_updated')\n",
    "\n",
    "# ^[a-z0-9]+[\\._]?[a-z0-9]+[@]\\w+[.]\\w+$"
   ]
  },
  {
   "cell_type": "code",
   "execution_count": 34,
   "metadata": {},
   "outputs": [
    {
     "data": {
      "application/vnd.jupyter.widget-view+json": {
       "model_id": "",
       "version_major": 2,
       "version_minor": 0
      },
      "text/plain": [
       "FloatProgress(value=0.0, bar_style='info', description='Progress:', layout=Layout(height='25px', width='50%'),…"
      ]
     },
     "metadata": {},
     "output_type": "display_data"
    }
   ],
   "source": [
    "contactibilty_retail_df_email=contactibilty_retail_df.filter((col('email').isNotNull())).drop_duplicates()\n",
    "contactibilty_retail_df_mob=contactibilty_retail_df.filter((col('mobile').isNotNull())).drop_duplicates()"
   ]
  },
  {
   "cell_type": "code",
   "execution_count": 35,
   "metadata": {},
   "outputs": [
    {
     "data": {
      "application/vnd.jupyter.widget-view+json": {
       "model_id": "",
       "version_major": 2,
       "version_minor": 0
      },
      "text/plain": [
       "FloatProgress(value=0.0, bar_style='info', description='Progress:', layout=Layout(height='25px', width='50%'),…"
      ]
     },
     "metadata": {},
     "output_type": "display_data"
    }
   ],
   "source": [
    "from pyspark.sql.window import Window\n",
    "\n",
    "contactibilty_retail_df_email = contactibilty_retail_df_email.withColumn(\"rn\", F.row_number()\n",
    "        .over(Window.partitionBy('source_system_customer_id')\n",
    "        .orderBy(F.col(\"rnk\").asc(),F.col(\"last_updated\").desc(),F.col(\"email\").desc_nulls_last())))\n",
    "\n",
    "contactibilty_retail_df_email = contactibilty_retail_df_email.filter(F.col(\"rn\") == 1).drop(\"rn\")"
   ]
  },
  {
   "cell_type": "code",
   "execution_count": 36,
   "metadata": {},
   "outputs": [
    {
     "data": {
      "application/vnd.jupyter.widget-view+json": {
       "model_id": "",
       "version_major": 2,
       "version_minor": 0
      },
      "text/plain": [
       "FloatProgress(value=0.0, bar_style='info', description='Progress:', layout=Layout(height='25px', width='50%'),…"
      ]
     },
     "metadata": {},
     "output_type": "display_data"
    }
   ],
   "source": [
    "from pyspark.sql.window import Window\n",
    "\n",
    "contactibilty_retail_df_mob = contactibilty_retail_df_mob.withColumn(\"rn\", F.row_number()\n",
    "        .over(Window.partitionBy('source_system_customer_id')\n",
    "        .orderBy(F.col(\"rnk\").asc(),F.col(\"last_updated\").desc(),F.col(\"mobile\").desc_nulls_last())))\n",
    "\n",
    "contactibilty_retail_df_mob = contactibilty_retail_df_mob.filter(F.col(\"rn\") == 1).drop(\"rn\")"
   ]
  },
  {
   "cell_type": "code",
   "execution_count": 37,
   "metadata": {},
   "outputs": [
    {
     "data": {
      "application/vnd.jupyter.widget-view+json": {
       "model_id": "",
       "version_major": 2,
       "version_minor": 0
      },
      "text/plain": [
       "FloatProgress(value=0.0, bar_style='info', description='Progress:', layout=Layout(height='25px', width='50%'),…"
      ]
     },
     "metadata": {},
     "output_type": "display_data"
    }
   ],
   "source": [
    "contactibilty_retail_df_email=contactibilty_retail_df_email.select('source_system_customer_id','email').filter((col('email').isNotNull())).drop_duplicates()\n",
    "contactibilty_retail_df_mob=contactibilty_retail_df_mob.select('source_system_customer_id','mobile').filter((col('mobile').isNotNull())).drop_duplicates()"
   ]
  },
  {
   "cell_type": "code",
   "execution_count": 38,
   "metadata": {},
   "outputs": [
    {
     "data": {
      "application/vnd.jupyter.widget-view+json": {
       "model_id": "",
       "version_major": 2,
       "version_minor": 0
      },
      "text/plain": [
       "FloatProgress(value=0.0, bar_style='info', description='Progress:', layout=Layout(height='25px', width='50%'),…"
      ]
     },
     "metadata": {},
     "output_type": "display_data"
    }
   ],
   "source": [
    "# contactibilty_retail_df_mob.filter((col('mobile'))=='9833222350').show()"
   ]
  },
  {
   "cell_type": "code",
   "execution_count": 39,
   "metadata": {},
   "outputs": [
    {
     "data": {
      "application/vnd.jupyter.widget-view+json": {
       "model_id": "",
       "version_major": 2,
       "version_minor": 0
      },
      "text/plain": [
       "FloatProgress(value=0.0, bar_style='info', description='Progress:', layout=Layout(height='25px', width='50%'),…"
      ]
     },
     "metadata": {},
     "output_type": "display_data"
    }
   ],
   "source": [
    "contactibilty_retail_df=contactibilty_retail_df_mob.join(contactibilty_retail_df_email,'source_system_customer_id','full_outer').drop_duplicates()"
   ]
  },
  {
   "cell_type": "code",
   "execution_count": 40,
   "metadata": {},
   "outputs": [
    {
     "data": {
      "application/vnd.jupyter.widget-view+json": {
       "model_id": "",
       "version_major": 2,
       "version_minor": 0
      },
      "text/plain": [
       "FloatProgress(value=0.0, bar_style='info', description='Progress:', layout=Layout(height='25px', width='50%'),…"
      ]
     },
     "metadata": {},
     "output_type": "display_data"
    }
   ],
   "source": [
    "contactibilty_retail_df=contactibilty_retail_df.repartition('source_system_customer_id')"
   ]
  },
  {
   "cell_type": "code",
   "execution_count": 41,
   "metadata": {},
   "outputs": [
    {
     "data": {
      "application/vnd.jupyter.widget-view+json": {
       "model_id": "",
       "version_major": 2,
       "version_minor": 0
      },
      "text/plain": [
       "FloatProgress(value=0.0, bar_style='info', description='Progress:', layout=Layout(height='25px', width='50%'),…"
      ]
     },
     "metadata": {},
     "output_type": "display_data"
    }
   ],
   "source": [
    "# contactibilty_retail_df.persist()\n",
    "# contactibilty_retail_df.count()"
   ]
  },
  {
   "cell_type": "code",
   "execution_count": 42,
   "metadata": {},
   "outputs": [
    {
     "data": {
      "application/vnd.jupyter.widget-view+json": {
       "model_id": "",
       "version_major": 2,
       "version_minor": 0
      },
      "text/plain": [
       "FloatProgress(value=0.0, bar_style='info', description='Progress:', layout=Layout(height='25px', width='50%'),…"
      ]
     },
     "metadata": {},
     "output_type": "display_data"
    }
   ],
   "source": [
    "df3=df2.join(contactibilty_retail_df,'source_system_customer_id','left')"
   ]
  },
  {
   "cell_type": "code",
   "execution_count": 43,
   "metadata": {},
   "outputs": [
    {
     "data": {
      "application/vnd.jupyter.widget-view+json": {
       "model_id": "",
       "version_major": 2,
       "version_minor": 0
      },
      "text/plain": [
       "FloatProgress(value=0.0, bar_style='info', description='Progress:', layout=Layout(height='25px', width='50%'),…"
      ]
     },
     "metadata": {},
     "output_type": "display_data"
    }
   ],
   "source": [
    "gscPythonOptions = {\n",
    "         \"url\": \"jdbc:postgresql://10.35.12.194:5432/gpadmin\",\"user\": \"gpcustcoe\",\"password\": \"gpcustcoe@123\"\n",
    "     ,\"dbschema\":\"customermart\"\n",
    "    ,\"dbtable\": \"address\",\n",
    "         \"server.port\":\"1150-1170\"}\n",
    "\n",
    "\n",
    "address_retail_df = sqlContext.read.format(\"greenplum\").options(**gscPythonOptions).load()\\\n",
    ".select('source_system_customer_id','address_type','address_line_1','address_line_2','address_line_3','city'\\\n",
    "        ,'district','state','country','pin_code','last_updated')\\\n",
    ".filter((col('address_type')=='home'))"
   ]
  },
  {
   "cell_type": "code",
   "execution_count": 44,
   "metadata": {},
   "outputs": [
    {
     "data": {
      "application/vnd.jupyter.widget-view+json": {
       "model_id": "",
       "version_major": 2,
       "version_minor": 0
      },
      "text/plain": [
       "FloatProgress(value=0.0, bar_style='info', description='Progress:', layout=Layout(height='25px', width='50%'),…"
      ]
     },
     "metadata": {},
     "output_type": "display_data"
    }
   ],
   "source": [
    "from pyspark.sql.window import Window\n",
    "\n",
    "address_retail_df = address_retail_df.withColumn(\"rn\", F.row_number()\n",
    "        .over(Window.partitionBy('source_system_customer_id','address_type')\n",
    "        .orderBy(F.col(\"last_updated\").desc())))\n",
    "\n",
    "address_retail_df = address_retail_df.filter(F.col(\"rn\") == 1).drop(\"rn\")"
   ]
  },
  {
   "cell_type": "code",
   "execution_count": 45,
   "metadata": {},
   "outputs": [
    {
     "data": {
      "application/vnd.jupyter.widget-view+json": {
       "model_id": "",
       "version_major": 2,
       "version_minor": 0
      },
      "text/plain": [
       "FloatProgress(value=0.0, bar_style='info', description='Progress:', layout=Layout(height='25px', width='50%'),…"
      ]
     },
     "metadata": {},
     "output_type": "display_data"
    }
   ],
   "source": [
    "df4=df3.join(address_retail_df,'source_system_customer_id','left')"
   ]
  },
  {
   "cell_type": "code",
   "execution_count": 46,
   "metadata": {},
   "outputs": [
    {
     "data": {
      "application/vnd.jupyter.widget-view+json": {
       "model_id": "",
       "version_major": 2,
       "version_minor": 0
      },
      "text/plain": [
       "FloatProgress(value=0.0, bar_style='info', description='Progress:', layout=Layout(height='25px', width='50%'),…"
      ]
     },
     "metadata": {},
     "output_type": "display_data"
    }
   ],
   "source": [
    "df5=df4"
   ]
  },
  {
   "cell_type": "code",
   "execution_count": 47,
   "metadata": {},
   "outputs": [
    {
     "data": {
      "application/vnd.jupyter.widget-view+json": {
       "model_id": "",
       "version_major": 2,
       "version_minor": 0
      },
      "text/plain": [
       "FloatProgress(value=0.0, bar_style='info', description='Progress:', layout=Layout(height='25px', width='50%'),…"
      ]
     },
     "metadata": {},
     "output_type": "display_data"
    },
    {
     "name": "stdout",
     "output_type": "stream",
     "text": [
      "['customer_id', 'policy_no', 'certificate_no', 'num_reference_no', 'source_system_customer_id', 'golden_id', 'active_flag', 'mapping_date']"
     ]
    }
   ],
   "source": [
    "corp_pol.columns"
   ]
  },
  {
   "cell_type": "code",
   "execution_count": 48,
   "metadata": {},
   "outputs": [
    {
     "data": {
      "application/vnd.jupyter.widget-view+json": {
       "model_id": "",
       "version_major": 2,
       "version_minor": 0
      },
      "text/plain": [
       "FloatProgress(value=0.0, bar_style='info', description='Progress:', layout=Layout(height='25px', width='50%'),…"
      ]
     },
     "metadata": {},
     "output_type": "display_data"
    }
   ],
   "source": [
    "df6=corp_pol.join(demog_corp_df,'golden_id','inner').drop(corp_pol.source_system_customer_id)"
   ]
  },
  {
   "cell_type": "code",
   "execution_count": 49,
   "metadata": {},
   "outputs": [
    {
     "data": {
      "application/vnd.jupyter.widget-view+json": {
       "model_id": "",
       "version_major": 2,
       "version_minor": 0
      },
      "text/plain": [
       "FloatProgress(value=0.0, bar_style='info', description='Progress:', layout=Layout(height='25px', width='50%'),…"
      ]
     },
     "metadata": {},
     "output_type": "display_data"
    }
   ],
   "source": [
    "df6=df6.withColumnRenamed('psnt_address_line_1','address_line_1')\\\n",
    ".withColumnRenamed( 'psnt_address_line_2', 'address_line_2')\\\n",
    ".withColumnRenamed( 'psnt_address_line_3', 'address_line_3')\\\n",
    ".withColumnRenamed( 'psnt_address_city', 'city')\\\n",
    ".withColumnRenamed( 'psnt_address_state', 'state')\\\n",
    ".withColumnRenamed( 'psnt_address_country', 'country')\\\n",
    ".withColumnRenamed( 'psnt_address_zip', 'pin_code')\\\n",
    ".withColumnRenamed( 'mobile_primary', 'mobile')\\\n",
    ".withColumnRenamed( 'email_primary', 'email')\\\n",
    ".withColumnRenamed( 'full_name', 'insured_name')"
   ]
  },
  {
   "cell_type": "code",
   "execution_count": 50,
   "metadata": {},
   "outputs": [
    {
     "data": {
      "application/vnd.jupyter.widget-view+json": {
       "model_id": "",
       "version_major": 2,
       "version_minor": 0
      },
      "text/plain": [
       "FloatProgress(value=0.0, bar_style='info', description='Progress:', layout=Layout(height='25px', width='50%'),…"
      ]
     },
     "metadata": {},
     "output_type": "display_data"
    }
   ],
   "source": [
    "df6=df6.withColumn('birth_date',lit(None))\\\n",
    ".withColumn('passport',lit(None))"
   ]
  },
  {
   "cell_type": "code",
   "execution_count": 51,
   "metadata": {},
   "outputs": [
    {
     "data": {
      "application/vnd.jupyter.widget-view+json": {
       "model_id": "",
       "version_major": 2,
       "version_minor": 0
      },
      "text/plain": [
       "FloatProgress(value=0.0, bar_style='info', description='Progress:', layout=Layout(height='25px', width='50%'),…"
      ]
     },
     "metadata": {},
     "output_type": "display_data"
    }
   ],
   "source": [
    "df5=df5.withColumn('msme_no',lit(None)).withColumn('gstin',lit(None)).withColumnRenamed( 'full_name', 'insured_name')"
   ]
  },
  {
   "cell_type": "code",
   "execution_count": 52,
   "metadata": {},
   "outputs": [
    {
     "data": {
      "application/vnd.jupyter.widget-view+json": {
       "model_id": "",
       "version_major": 2,
       "version_minor": 0
      },
      "text/plain": [
       "FloatProgress(value=0.0, bar_style='info', description='Progress:', layout=Layout(height='25px', width='50%'),…"
      ]
     },
     "metadata": {},
     "output_type": "display_data"
    },
    {
     "name": "stdout",
     "output_type": "stream",
     "text": [
      "['golden_id', 'customer_id', 'policy_no', 'certificate_no', 'num_reference_no', 'active_flag', 'mapping_date', 'source_system_customer_id', 'insured_name', 'first_name', 'middle_name', 'last_name', 'mobile', 'mobile_secondary', 'email', 'email_secondary', 'address_line_1', 'address_line_2', 'address_line_3', 'city', 'state', 'country', 'pin_code', 'gstin', 'pan', 'kyc_id', 'ckyc', 'kyc_verfication_flag', 'kyc_datetime_stamp', 'msme_no', 'customer_type', 'birth_date', 'passport']"
     ]
    }
   ],
   "source": [
    "df6.columns"
   ]
  },
  {
   "cell_type": "code",
   "execution_count": 53,
   "metadata": {
    "scrolled": true
   },
   "outputs": [
    {
     "data": {
      "application/vnd.jupyter.widget-view+json": {
       "model_id": "",
       "version_major": 2,
       "version_minor": 0
      },
      "text/plain": [
       "FloatProgress(value=0.0, bar_style='info', description='Progress:', layout=Layout(height='25px', width='50%'),…"
      ]
     },
     "metadata": {},
     "output_type": "display_data"
    }
   ],
   "source": [
    "df5=df5.select(['golden_id', 'source_system_customer_id', 'policy_no', 'certificate_no', 'insured_name', \n",
    "                'first_name', 'middle_name', 'last_name', 'birth_date', 'ckyc', 'kyc_id', 'kyc_verfication_flag', \n",
    "                'kyc_datetime_stamp', 'pan', 'passport', 'email', 'mobile', 'address_line_1', 'address_line_2', \n",
    "                'address_line_3', 'city', 'state', 'country', 'pin_code', 'customer_type', 'msme_no', 'gstin','district']).drop_duplicates()"
   ]
  },
  {
   "cell_type": "code",
   "execution_count": 54,
   "metadata": {},
   "outputs": [
    {
     "data": {
      "application/vnd.jupyter.widget-view+json": {
       "model_id": "",
       "version_major": 2,
       "version_minor": 0
      },
      "text/plain": [
       "FloatProgress(value=0.0, bar_style='info', description='Progress:', layout=Layout(height='25px', width='50%'),…"
      ]
     },
     "metadata": {},
     "output_type": "display_data"
    }
   ],
   "source": [
    "df6=df6.selectExpr(['golden_id', 'source_system_customer_id', 'policy_no', 'certificate_no', 'insured_name', 'first_name', 'middle_name', 'last_name', 'birth_date', 'ckyc', 'kyc_id', 'kyc_verfication_flag', 'kyc_datetime_stamp', 'pan', 'passport', 'email', 'mobile', 'address_line_1', 'address_line_2', 'address_line_3', 'city', 'state', 'country', 'pin_code', 'customer_type', 'msme_no', 'gstin','null as district']).drop_duplicates()"
   ]
  },
  {
   "cell_type": "code",
   "execution_count": 55,
   "metadata": {},
   "outputs": [
    {
     "data": {
      "application/vnd.jupyter.widget-view+json": {
       "model_id": "",
       "version_major": 2,
       "version_minor": 0
      },
      "text/plain": [
       "FloatProgress(value=0.0, bar_style='info', description='Progress:', layout=Layout(height='25px', width='50%'),…"
      ]
     },
     "metadata": {},
     "output_type": "display_data"
    },
    {
     "name": "stdout",
     "output_type": "stream",
     "text": [
      "['golden_id', 'source_system_customer_id', 'policy_no', 'certificate_no', 'insured_name', 'first_name', 'middle_name', 'last_name', 'birth_date', 'ckyc', 'kyc_id', 'kyc_verfication_flag', 'kyc_datetime_stamp', 'pan', 'passport', 'email', 'mobile', 'address_line_1', 'address_line_2', 'address_line_3', 'city', 'state', 'country', 'pin_code', 'customer_type', 'msme_no', 'gstin', 'district']"
     ]
    }
   ],
   "source": [
    "df5.columns"
   ]
  },
  {
   "cell_type": "code",
   "execution_count": 56,
   "metadata": {
    "scrolled": false
   },
   "outputs": [
    {
     "data": {
      "application/vnd.jupyter.widget-view+json": {
       "model_id": "",
       "version_major": 2,
       "version_minor": 0
      },
      "text/plain": [
       "FloatProgress(value=0.0, bar_style='info', description='Progress:', layout=Layout(height='25px', width='50%'),…"
      ]
     },
     "metadata": {},
     "output_type": "display_data"
    }
   ],
   "source": [
    "df_main=df5.union(df6)"
   ]
  },
  {
   "cell_type": "code",
   "execution_count": 57,
   "metadata": {},
   "outputs": [
    {
     "data": {
      "application/vnd.jupyter.widget-view+json": {
       "model_id": "",
       "version_major": 2,
       "version_minor": 0
      },
      "text/plain": [
       "FloatProgress(value=0.0, bar_style='info', description='Progress:', layout=Layout(height='25px', width='50%'),…"
      ]
     },
     "metadata": {},
     "output_type": "display_data"
    }
   ],
   "source": [
    "df_main=df_main.drop_duplicates()"
   ]
  },
  {
   "cell_type": "code",
   "execution_count": 58,
   "metadata": {},
   "outputs": [
    {
     "data": {
      "application/vnd.jupyter.widget-view+json": {
       "model_id": "",
       "version_major": 2,
       "version_minor": 0
      },
      "text/plain": [
       "FloatProgress(value=0.0, bar_style='info', description='Progress:', layout=Layout(height='25px', width='50%'),…"
      ]
     },
     "metadata": {},
     "output_type": "display_data"
    },
    {
     "name": "stdout",
     "output_type": "stream",
     "text": [
      "['golden_id', 'source_system_customer_id', 'policy_no', 'certificate_no', 'insured_name', 'first_name', 'middle_name', 'last_name', 'birth_date', 'ckyc', 'kyc_id', 'kyc_verfication_flag', 'kyc_datetime_stamp', 'pan', 'passport', 'email', 'mobile', 'address_line_1', 'address_line_2', 'address_line_3', 'city', 'state', 'country', 'pin_code', 'customer_type', 'msme_no', 'gstin', 'district']"
     ]
    }
   ],
   "source": [
    "df_main.columns"
   ]
  },
  {
   "cell_type": "code",
   "execution_count": 59,
   "metadata": {},
   "outputs": [
    {
     "data": {
      "application/vnd.jupyter.widget-view+json": {
       "model_id": "",
       "version_major": 2,
       "version_minor": 0
      },
      "text/plain": [
       "FloatProgress(value=0.0, bar_style='info', description='Progress:', layout=Layout(height='25px', width='50%'),…"
      ]
     },
     "metadata": {},
     "output_type": "display_data"
    },
    {
     "name": "stdout",
     "output_type": "stream",
     "text": [
      "13975791"
     ]
    }
   ],
   "source": [
    "df_main.persist(pyspark.StorageLevel.MEMORY_AND_DISK)\n",
    "df_main.count()#5592302"
   ]
  },
  {
   "cell_type": "code",
   "execution_count": 60,
   "metadata": {},
   "outputs": [
    {
     "data": {
      "application/vnd.jupyter.widget-view+json": {
       "model_id": "",
       "version_major": 2,
       "version_minor": 0
      },
      "text/plain": [
       "FloatProgress(value=0.0, bar_style='info', description='Progress:', layout=Layout(height='25px', width='50%'),…"
      ]
     },
     "metadata": {},
     "output_type": "display_data"
    }
   ],
   "source": [
    "gscPythonOptions = {\n",
    "         \"url\": \"jdbc:postgresql://10.35.12.194:5432/gpadmin\",\"user\": \"gpcustcoe\",\"password\": \"gpcustcoe@123\",\n",
    "         \"dbschema\": \"customermart\",\"dbtable\": \"mc_negated_v1\",\n",
    "         \"server.port\":\"1150-1170\"}\n",
    "\n",
    "mc_bulk_df = sqlContext.read.format(\"greenplum\").options(**gscPythonOptions).load()\\\n",
    ".selectExpr('dc_unified_id as golden_id')"
   ]
  },
  {
   "cell_type": "code",
   "execution_count": 61,
   "metadata": {},
   "outputs": [
    {
     "data": {
      "application/vnd.jupyter.widget-view+json": {
       "model_id": "",
       "version_major": 2,
       "version_minor": 0
      },
      "text/plain": [
       "FloatProgress(value=0.0, bar_style='info', description='Progress:', layout=Layout(height='25px', width='50%'),…"
      ]
     },
     "metadata": {},
     "output_type": "display_data"
    },
    {
     "name": "stdout",
     "output_type": "stream",
     "text": [
      "['golden_id']"
     ]
    }
   ],
   "source": [
    "mc_bulk_df.columns"
   ]
  },
  {
   "cell_type": "code",
   "execution_count": 62,
   "metadata": {},
   "outputs": [
    {
     "data": {
      "application/vnd.jupyter.widget-view+json": {
       "model_id": "",
       "version_major": 2,
       "version_minor": 0
      },
      "text/plain": [
       "FloatProgress(value=0.0, bar_style='info', description='Progress:', layout=Layout(height='25px', width='50%'),…"
      ]
     },
     "metadata": {},
     "output_type": "display_data"
    },
    {
     "name": "stdout",
     "output_type": "stream",
     "text": [
      "0"
     ]
    }
   ],
   "source": [
    "mc_bulk_df.persist(pyspark.StorageLevel.MEMORY_AND_DISK)\n",
    "mc_bulk_df.count()#"
   ]
  },
  {
   "cell_type": "code",
   "execution_count": 63,
   "metadata": {},
   "outputs": [
    {
     "data": {
      "application/vnd.jupyter.widget-view+json": {
       "model_id": "",
       "version_major": 2,
       "version_minor": 0
      },
      "text/plain": [
       "FloatProgress(value=0.0, bar_style='info', description='Progress:', layout=Layout(height='25px', width='50%'),…"
      ]
     },
     "metadata": {},
     "output_type": "display_data"
    }
   ],
   "source": [
    "df_main=df_main.join(mc_bulk_df,'golden_id',\"left_anti\")"
   ]
  },
  {
   "cell_type": "code",
   "execution_count": 64,
   "metadata": {},
   "outputs": [
    {
     "data": {
      "application/vnd.jupyter.widget-view+json": {
       "model_id": "",
       "version_major": 2,
       "version_minor": 0
      },
      "text/plain": [
       "FloatProgress(value=0.0, bar_style='info', description='Progress:', layout=Layout(height='25px', width='50%'),…"
      ]
     },
     "metadata": {},
     "output_type": "display_data"
    },
    {
     "name": "stdout",
     "output_type": "stream",
     "text": [
      "DataFrame[source_system_customer_id: string, golden_id: int, customer_id: string, policy_no: string, certificate_no: string, num_reference_no: bigint, active_flag: bigint, mapping_date: timestamp, full_name: string, first_name: string, middle_name: string, last_name: string, birth_date: date, ckyc: string, kyc_id: string, kyc_verfication_flag: bigint, kyc_datetime_stamp: timestamp, customer_type: string, pan: string, passport: string]"
     ]
    }
   ],
   "source": [
    "df2.unpersist()"
   ]
  },
  {
   "cell_type": "code",
   "execution_count": 65,
   "metadata": {},
   "outputs": [
    {
     "data": {
      "application/vnd.jupyter.widget-view+json": {
       "model_id": "",
       "version_major": 2,
       "version_minor": 0
      },
      "text/plain": [
       "FloatProgress(value=0.0, bar_style='info', description='Progress:', layout=Layout(height='25px', width='50%'),…"
      ]
     },
     "metadata": {},
     "output_type": "display_data"
    }
   ],
   "source": [
    "df_main.persist(pyspark.StorageLevel.MEMORY_AND_DISK)\n",
    "records=df_main.count() "
   ]
  },
  {
   "cell_type": "code",
   "execution_count": 66,
   "metadata": {},
   "outputs": [
    {
     "data": {
      "application/vnd.jupyter.widget-view+json": {
       "model_id": "",
       "version_major": 2,
       "version_minor": 0
      },
      "text/plain": [
       "FloatProgress(value=0.0, bar_style='info', description='Progress:', layout=Layout(height='25px', width='50%'),…"
      ]
     },
     "metadata": {},
     "output_type": "display_data"
    }
   ],
   "source": [
    "df_main=df_main.withColumn('insert_datetime',current_timestamp())"
   ]
  },
  {
   "cell_type": "code",
   "execution_count": 67,
   "metadata": {},
   "outputs": [
    {
     "data": {
      "application/vnd.jupyter.widget-view+json": {
       "model_id": "",
       "version_major": 2,
       "version_minor": 0
      },
      "text/plain": [
       "FloatProgress(value=0.0, bar_style='info', description='Progress:', layout=Layout(height='25px', width='50%'),…"
      ]
     },
     "metadata": {},
     "output_type": "display_data"
    }
   ],
   "source": [
    "output_index = \"kyc_data\"# kyc_detail_elastic_upload kyc_detail_elastic_upload_2--contact in line kyc_detail_elastic_upload_v3\n",
    "schema = \"customermart\"\n",
    "\n",
    "df_main.write.format(\"greenplum\")\\\n",
    "             .option(\"dbtable\",output_index).option('dbschema',schema)\\\n",
    "             .option(\"server.port\",\"1166-1169\").option(\"url\",\"jdbc:postgresql://10.35.12.194:5432/gpadmin\")\\\n",
    "             .option(\"user\", \"gpcustcoe\").option(\"password\",\"gpcustcoe@123\").mode('overwrite').save()"
   ]
  },
  {
   "cell_type": "code",
   "execution_count": 68,
   "metadata": {},
   "outputs": [
    {
     "data": {
      "application/vnd.jupyter.widget-view+json": {
       "model_id": "",
       "version_major": 2,
       "version_minor": 0
      },
      "text/plain": [
       "FloatProgress(value=0.0, bar_style='info', description='Progress:', layout=Layout(height='25px', width='50%'),…"
      ]
     },
     "metadata": {},
     "output_type": "display_data"
    }
   ],
   "source": [
    "df_main=df_main.selectExpr('golden_id', 'source_system_customer_id as customer_id', 'policy_no', 'certificate_no', 'insured_name', 'first_name', 'middle_name', 'last_name', 'birth_date', 'ckyc', 'kyc_id', 'kyc_verfication_flag', 'kyc_datetime_stamp', 'pan', 'passport', 'email', 'mobile', 'address_line_1', 'address_line_2', 'address_line_3', 'city', 'state', 'country', 'pin_code', 'customer_type', 'msme_no', 'gstin', 'district')"
   ]
  },
  {
   "cell_type": "code",
   "execution_count": 69,
   "metadata": {},
   "outputs": [
    {
     "data": {
      "application/vnd.jupyter.widget-view+json": {
       "model_id": "",
       "version_major": 2,
       "version_minor": 0
      },
      "text/plain": [
       "FloatProgress(value=0.0, bar_style='info', description='Progress:', layout=Layout(height='25px', width='50%'),…"
      ]
     },
     "metadata": {},
     "output_type": "display_data"
    }
   ],
   "source": [
    "df_main=df_main.withColumn('golden_id',upper(col('golden_id')))\\\n",
    ".withColumn('customer_id',upper(col('customer_id')))\\\n",
    ".withColumn('policy_no',upper(col('policy_no')))\\\n",
    ".withColumn('certificate_no',upper(col('certificate_no')))\\\n",
    ".withColumn('insured_name',upper(col('insured_name')))\\\n",
    ".withColumn('first_name',upper(col('first_name')))\\\n",
    ".withColumn('middle_name',upper(col('middle_name')))\\\n",
    ".withColumn('last_name',upper(col('last_name')))\\\n",
    ".withColumn('birth_date',upper(col('birth_date')))\\\n",
    ".withColumn('ckyc',upper(col('ckyc')))\\\n",
    ".withColumn('kyc_id',upper(col('kyc_id')))\\\n",
    ".withColumn('kyc_verfication_flag',upper(col('kyc_verfication_flag')))\\\n",
    ".withColumn('kyc_datetime_stamp',upper(col('kyc_datetime_stamp')))\\\n",
    ".withColumn('pan',upper(col('pan')))\\\n",
    ".withColumn('passport',upper(col('passport')))\\\n",
    ".withColumn('mobile',upper(col('mobile')))\\\n",
    ".withColumn('email',lower(col('email')))\\\n",
    ".withColumn('address_line_1',upper(col('address_line_1')))\\\n",
    ".withColumn('address_line_2',upper(col('address_line_2')))\\\n",
    ".withColumn('address_line_3',upper(col('address_line_3')))\\\n",
    ".withColumn('state',upper(col('state')))\\\n",
    ".withColumn('district',upper(col('district')))\\\n",
    ".withColumn('city',upper(col('city')))\\\n",
    ".withColumn('country',upper(col('country')))\\\n",
    ".withColumn('pin_code',upper(col('pin_code')))\\\n",
    ".withColumn('customer_type',upper(col('customer_type')))\\\n",
    ".withColumn('msme_no',upper(col('msme_no')))\\\n",
    ".withColumn('gstin',upper(col('gstin')))\n",
    "# .withColumn('aadhar_card',upper(col('aadhar_card')))\\\n",
    "# .withColumn('dl',upper(col('dl')))"
   ]
  },
  {
   "cell_type": "code",
   "execution_count": 70,
   "metadata": {},
   "outputs": [
    {
     "data": {
      "application/vnd.jupyter.widget-view+json": {
       "model_id": "",
       "version_major": 2,
       "version_minor": 0
      },
      "text/plain": [
       "FloatProgress(value=0.0, bar_style='info', description='Progress:', layout=Layout(height='25px', width='50%'),…"
      ]
     },
     "metadata": {},
     "output_type": "display_data"
    }
   ],
   "source": [
    "df_main=df_main.withColumn('certificate_no',when((col('certificate_no').isin('0','0.0','/00000','000000','00000000'))|(col('certificate_no').isNull()),lit('0')).otherwise(lit(col('certificate_no'))))"
   ]
  },
  {
   "cell_type": "code",
   "execution_count": 71,
   "metadata": {},
   "outputs": [
    {
     "data": {
      "application/vnd.jupyter.widget-view+json": {
       "model_id": "",
       "version_major": 2,
       "version_minor": 0
      },
      "text/plain": [
       "FloatProgress(value=0.0, bar_style='info', description='Progress:', layout=Layout(height='25px', width='50%'),…"
      ]
     },
     "metadata": {},
     "output_type": "display_data"
    }
   ],
   "source": [
    "df_main=df_main.withColumn('birth_date',date_format(to_utc_timestamp(col('birth_date'),\"UTC\"),'yyyy-MM-dd'))\\\n",
    ".withColumn('kyc_datetime_stamp',from_unixtime(unix_timestamp(col('kyc_datetime_stamp')),'yyyy-MM-dd HH:mm:ss'))"
   ]
  },
  {
   "cell_type": "code",
   "execution_count": 72,
   "metadata": {},
   "outputs": [
    {
     "data": {
      "application/vnd.jupyter.widget-view+json": {
       "model_id": "",
       "version_major": 2,
       "version_minor": 0
      },
      "text/plain": [
       "FloatProgress(value=0.0, bar_style='info', description='Progress:', layout=Layout(height='25px', width='50%'),…"
      ]
     },
     "metadata": {},
     "output_type": "display_data"
    }
   ],
   "source": [
    "df_main.persist()\n",
    "records=df_main.count() "
   ]
  },
  {
   "cell_type": "code",
   "execution_count": 76,
   "metadata": {},
   "outputs": [
    {
     "data": {
      "application/vnd.jupyter.widget-view+json": {
       "model_id": "",
       "version_major": 2,
       "version_minor": 0
      },
      "text/plain": [
       "FloatProgress(value=0.0, bar_style='info', description='Progress:', layout=Layout(height='25px', width='50%'),…"
      ]
     },
     "metadata": {},
     "output_type": "display_data"
    },
    {
     "name": "stdout",
     "output_type": "stream",
     "text": [
      "13975791"
     ]
    }
   ],
   "source": [
    "records"
   ]
  },
  {
   "cell_type": "code",
   "execution_count": 77,
   "metadata": {},
   "outputs": [
    {
     "data": {
      "application/vnd.jupyter.widget-view+json": {
       "model_id": "",
       "version_major": 2,
       "version_minor": 0
      },
      "text/plain": [
       "FloatProgress(value=0.0, bar_style='info', description='Progress:', layout=Layout(height='25px', width='50%'),…"
      ]
     },
     "metadata": {},
     "output_type": "display_data"
    },
    {
     "name": "stdout",
     "output_type": "stream",
     "text": [
      "get_customer_kyc_details_cust360"
     ]
    }
   ],
   "source": [
    "target_index='get_customer_kyc_details_cust360'\n",
    "print(target_index)"
   ]
  },
  {
   "cell_type": "code",
   "execution_count": 78,
   "metadata": {},
   "outputs": [
    {
     "data": {
      "application/vnd.jupyter.widget-view+json": {
       "model_id": "",
       "version_major": 2,
       "version_minor": 0
      },
      "text/plain": [
       "FloatProgress(value=0.0, bar_style='info', description='Progress:', layout=Layout(height='25px', width='50%'),…"
      ]
     },
     "metadata": {},
     "output_type": "display_data"
    }
   ],
   "source": [
    "import json, pprint, requests\n",
    "es_nodes = '10.35.12.212'\n",
    "es_port = '9200'\n",
    "es_user = 'elastic'\n",
    "es_pwd = 'bEiilauM3es'\n",
    "\n",
    "######target_index = 'actuarial_premium_risk_tables'----previous name...delete later\n",
    "\n",
    "#alias_name = 'nepuepr_uat_3'\n",
    "target_doc_type = 'get_customer_kyc_details_cus360'\n",
    "#########delete index if already exists########################################################################################################################################################################"
   ]
  },
  {
   "cell_type": "code",
   "execution_count": 79,
   "metadata": {},
   "outputs": [
    {
     "data": {
      "application/vnd.jupyter.widget-view+json": {
       "model_id": "",
       "version_major": 2,
       "version_minor": 0
      },
      "text/plain": [
       "FloatProgress(value=0.0, bar_style='info', description='Progress:', layout=Layout(height='25px', width='50%'),…"
      ]
     },
     "metadata": {},
     "output_type": "display_data"
    },
    {
     "name": "stdout",
     "output_type": "stream",
     "text": [
      "'get_customer_kyc_details_cus360'"
     ]
    }
   ],
   "source": [
    "target_doc_type"
   ]
  },
  {
   "cell_type": "code",
   "execution_count": 80,
   "metadata": {},
   "outputs": [
    {
     "data": {
      "application/vnd.jupyter.widget-view+json": {
       "model_id": "",
       "version_major": 2,
       "version_minor": 0
      },
      "text/plain": [
       "FloatProgress(value=0.0, bar_style='info', description='Progress:', layout=Layout(height='25px', width='50%'),…"
      ]
     },
     "metadata": {},
     "output_type": "display_data"
    },
    {
     "name": "stdout",
     "output_type": "stream",
     "text": [
      "<Response [200]>"
     ]
    }
   ],
   "source": [
    "#########delete index ###############################################\n",
    "headers = {'Content-Type': 'application/json'}\n",
    "query = {\"query\":{\"match_all\":{}}}\n",
    "URL = 'http://'+es_user+':'+es_pwd+'@'+es_nodes+':'+es_port+'/'+target_index\n",
    "r = requests.delete(URL, data=json.dumps(query), headers=headers) \n",
    "print(r)"
   ]
  },
  {
   "cell_type": "code",
   "execution_count": 81,
   "metadata": {},
   "outputs": [
    {
     "data": {
      "application/vnd.jupyter.widget-view+json": {
       "model_id": "",
       "version_major": 2,
       "version_minor": 0
      },
      "text/plain": [
       "FloatProgress(value=0.0, bar_style='info', description='Progress:', layout=Layout(height='25px', width='50%'),…"
      ]
     },
     "metadata": {},
     "output_type": "display_data"
    },
    {
     "name": "stdout",
     "output_type": "stream",
     "text": [
      "<Response [200]>"
     ]
    }
   ],
   "source": [
    "#########create index ##################################################################################################################################################################\n",
    "headers = {'Content-Type': 'application/json'}\n",
    "query_create= {\"settings\": { \"index.number_of_shards\": \"1\" }}\n",
    "URL = 'http://'+es_user+':'+es_pwd+'@'+es_nodes+':'+es_port+'/'+target_index\n",
    "r = requests.put(URL, data=json.dumps(query_create), headers=headers)\n",
    "print(r)"
   ]
  },
  {
   "cell_type": "code",
   "execution_count": 82,
   "metadata": {},
   "outputs": [
    {
     "data": {
      "application/vnd.jupyter.widget-view+json": {
       "model_id": "",
       "version_major": 2,
       "version_minor": 0
      },
      "text/plain": [
       "FloatProgress(value=0.0, bar_style='info', description='Progress:', layout=Layout(height='25px', width='50%'),…"
      ]
     },
     "metadata": {},
     "output_type": "display_data"
    },
    {
     "name": "stdout",
     "output_type": "stream",
     "text": [
      "<Response [200]>"
     ]
    }
   ],
   "source": [
    "mapping_output = {target_doc_type:{\"properties\": {\n",
    "\"golden_id\": {\n",
    "\"type\": \"keyword\"\n",
    "}, \n",
    "\"customer_id\": {\n",
    "\"type\": \"keyword\"\n",
    "},\n",
    "\"insured_name\": {\n",
    "\"type\": \"keyword\"\n",
    "},\n",
    "\"first_name\": {\n",
    "\"type\": \"keyword\"\n",
    "},\n",
    "\"middle_name\": {\n",
    "\"type\": \"keyword\"\n",
    "},\n",
    "\"last_name\": {\n",
    "\"type\": \"keyword\"\n",
    "},\n",
    "\"ckyc\": {\n",
    "\"type\": \"keyword\"\n",
    "},\n",
    "\"kyc_id\": {\n",
    "\"type\": \"keyword\"\n",
    "},\n",
    "\"kyc_verfication_flag\": {\n",
    "\"type\": \"keyword\"\n",
    "},\n",
    "\"kyc_datetime_stamp\": {\n",
    "\"type\": \"keyword\",\n",
    "#     \"format\": \"yyyy-MM-dd HH:mm:ss\"\n",
    "},\n",
    "\"birth_date\": {\n",
    "\"type\": \"keyword\",\n",
    "#     \"format\": \"yyyy-MM-dd HH:mm:ss\"\n",
    "},\n",
    "\"pan\": {\n",
    "\"type\": \"keyword\"\n",
    "},\n",
    "\"passport\": {\n",
    "\"type\": \"keyword\"\n",
    "},\n",
    "\"email\": {\n",
    "\"type\": \"keyword\"\n",
    "},\n",
    "\"mobile\": {\n",
    "\"type\": \"keyword\"\n",
    "},\n",
    "\"address_line_1\": {\n",
    "\"type\": \"keyword\"\n",
    "},\n",
    "\"address_line_2\": {\n",
    "    \"type\": \"keyword\"\n",
    "},\n",
    "\"address_line_3\": {\n",
    "\"type\": \"keyword\"\n",
    "},\n",
    "\"city\": {\n",
    "\"type\": \"keyword\"\n",
    "},\n",
    "\"state\": {\n",
    "\"type\": \"keyword\"\n",
    "},\n",
    "\"country\": {\n",
    "\"type\": \"keyword\"\n",
    "},\n",
    "\"pin_code\": {\n",
    "\"type\": \"keyword\"\n",
    "},\n",
    "\"customer_type\": {\n",
    "\"type\": \"keyword\"\n",
    "},\n",
    "\"msme_no\": {\n",
    "\"type\": \"keyword\"\n",
    "},\n",
    "\"gstin\": {\n",
    "\"type\": \"keyword\"\n",
    "},\n",
    "\"district\": {\n",
    "\"type\": \"keyword\"\n",
    "}\n",
    "    }\n",
    "}\n",
    "}\n",
    "\n",
    "\n",
    "URL = 'http://'+es_user+':'+es_pwd+'@'+es_nodes+':'+es_port+'/'+target_index+'/_mapping/'+target_doc_type\n",
    "headers = {'Content-Type': 'application/json'}\n",
    "r = requests.put(URL, data=json.dumps(mapping_output), headers=headers)\n",
    "print(r)\n",
    "\n"
   ]
  },
  {
   "cell_type": "code",
   "execution_count": 83,
   "metadata": {},
   "outputs": [
    {
     "data": {
      "application/vnd.jupyter.widget-view+json": {
       "model_id": "",
       "version_major": 2,
       "version_minor": 0
      },
      "text/plain": [
       "FloatProgress(value=0.0, bar_style='info', description='Progress:', layout=Layout(height='25px', width='50%'),…"
      ]
     },
     "metadata": {},
     "output_type": "display_data"
    }
   ],
   "source": [
    "target_index_doc_type = target_index +'/'+ target_doc_type"
   ]
  },
  {
   "cell_type": "code",
   "execution_count": 84,
   "metadata": {},
   "outputs": [
    {
     "data": {
      "application/vnd.jupyter.widget-view+json": {
       "model_id": "",
       "version_major": 2,
       "version_minor": 0
      },
      "text/plain": [
       "FloatProgress(value=0.0, bar_style='info', description='Progress:', layout=Layout(height='25px', width='50%'),…"
      ]
     },
     "metadata": {},
     "output_type": "display_data"
    },
    {
     "name": "stdout",
     "output_type": "stream",
     "text": [
      "'get_customer_kyc_details_cust360/get_customer_kyc_details_cus360'"
     ]
    }
   ],
   "source": [
    "target_index_doc_type"
   ]
  },
  {
   "cell_type": "code",
   "execution_count": 85,
   "metadata": {},
   "outputs": [
    {
     "data": {
      "application/vnd.jupyter.widget-view+json": {
       "model_id": "",
       "version_major": 2,
       "version_minor": 0
      },
      "text/plain": [
       "FloatProgress(value=0.0, bar_style='info', description='Progress:', layout=Layout(height='25px', width='50%'),…"
      ]
     },
     "metadata": {},
     "output_type": "display_data"
    }
   ],
   "source": [
    "df_main=df_main.drop_duplicates()"
   ]
  },
  {
   "cell_type": "code",
   "execution_count": 86,
   "metadata": {},
   "outputs": [
    {
     "data": {
      "application/vnd.jupyter.widget-view+json": {
       "model_id": "",
       "version_major": 2,
       "version_minor": 0
      },
      "text/plain": [
       "FloatProgress(value=0.0, bar_style='info', description='Progress:', layout=Layout(height='25px', width='50%'),…"
      ]
     },
     "metadata": {},
     "output_type": "display_data"
    },
    {
     "name": "stdout",
     "output_type": "stream",
     "text": [
      "200"
     ]
    }
   ],
   "source": [
    "try:\n",
    "     df_main.write.format('org.elasticsearch.spark.sql').mode('overwrite').option('es.index.auto.create', 'true').option('es.nodes' , es_nodes).option('es.port', es_port).option('es.resource', target_index_doc_type).save() \n",
    "except Exception as e :\n",
    "    x = e\n",
    "else: \n",
    "    x = 200 # success\n",
    "print(x)"
   ]
  },
  {
   "cell_type": "code",
   "execution_count": null,
   "metadata": {},
   "outputs": [],
   "source": [
    "if  x == 200:\n",
    "    update_progress('kyc',\"kyc\",records,start_time,starttime,'Success')\n",
    "    print('SUCCESS')\n",
    "else:\n",
    "    update_progress('kyc',\"kyc\",'0',start_time,starttime,'Failed')\n",
    "    print('FAILED')"
   ]
  },
  {
   "cell_type": "code",
   "execution_count": null,
   "metadata": {},
   "outputs": [],
   "source": [
    "import io\n",
    "import pandas as pd\n",
    "import xlsxwriter\n",
    "import sys\n",
    "import smtplib\n",
    "from os.path import basename\n",
    "from email.mime.application import MIMEApplication\n",
    "from email.mime.multipart import MIMEMultipart\n",
    "from email.mime.text import MIMEText\n",
    "from email.utils import COMMASPACE, formatdate\n",
    "import pandas as pd\n",
    "from sqlalchemy import create_engine\n",
    "from smtplib import SMTP"
   ]
  },
  {
   "cell_type": "code",
   "execution_count": null,
   "metadata": {},
   "outputs": [],
   "source": [
    "if x!=200:\n",
    "    status='FAILED'\n",
    "else:\n",
    "    status=\"SUCCESS\""
   ]
  },
  {
   "cell_type": "code",
   "execution_count": null,
   "metadata": {},
   "outputs": [],
   "source": [
    "subject=f\"Automated Mail-KYC Job Status : {status}\""
   ]
  },
  {
   "cell_type": "code",
   "execution_count": null,
   "metadata": {},
   "outputs": [],
   "source": [
    "if x==200:\n",
    "    recipients = ['nishant5.addenki@tataaig.com'] \n",
    "    emaillist = [elem.strip().split(',') for elem in recipients]\n",
    "    msg = MIMEMultipart()\n",
    "    msg['Subject'] = subject\n",
    "    msg['From'] = 'customercoe@tataaig.com'\n",
    "\n",
    "\n",
    "    html = \"\"\"\\\n",
    "    <html>\n",
    "      <head></head>\n",
    "      <body>\n",
    "        KYC job status is: Successful\n",
    "      </body>\n",
    "        <p>This is automated mail, please don't reply. Thanks</p>\n",
    "    </html>\n",
    "    \"\"\"\n",
    "\n",
    "    part1 = MIMEText(html, 'html')\n",
    "    msg.attach(part1)\n",
    "\n",
    "    server = smtplib.SMTP(\"tataaig-com.mail.protection.outlook.com\",25)\n",
    "    server.sendmail(msg['From'], emaillist , msg.as_string())\n",
    "else:\n",
    "      \n",
    "    recipients = ['nishant5.addenki@tataaig.com'] \n",
    "    emaillist = [elem.strip().split(',') for elem in recipients]\n",
    "    msg = MIMEMultipart()\n",
    "    msg['Subject'] = subject\n",
    "    msg['From'] = 'customercoe@tataaig.com'\n",
    "\n",
    "\n",
    "    html = \"\"\"\\\n",
    "    <html>\n",
    "      <head></head>\n",
    "      <body>\n",
    "        KYC job status is: Failed\n",
    "      </body>\n",
    "        <p>This is automated mail, please don't reply. Thanks</p>\n",
    "    </html>\n",
    "    \"\"\"\n",
    "\n",
    "    part1 = MIMEText(html, 'html')\n",
    "    msg.attach(part1)\n",
    "\n",
    "    server = smtplib.SMTP(\"tataaig-com.mail.protection.outlook.com\",25)\n",
    "    server.sendmail(msg['From'], emaillist , msg.as_string())"
   ]
  },
  {
   "cell_type": "code",
   "execution_count": null,
   "metadata": {},
   "outputs": [],
   "source": []
  },
  {
   "cell_type": "code",
   "execution_count": 87,
   "metadata": {
    "scrolled": true
   },
   "outputs": [
    {
     "data": {
      "application/vnd.jupyter.widget-view+json": {
       "model_id": "",
       "version_major": 2,
       "version_minor": 0
      },
      "text/plain": [
       "FloatProgress(value=0.0, bar_style='info', description='Progress:', layout=Layout(height='25px', width='50%'),…"
      ]
     },
     "metadata": {},
     "output_type": "display_data"
    }
   ],
   "source": [
    "spark.stop()"
   ]
  },
  {
   "cell_type": "code",
   "execution_count": null,
   "metadata": {},
   "outputs": [],
   "source": []
  },
  {
   "cell_type": "code",
   "execution_count": null,
   "metadata": {},
   "outputs": [],
   "source": []
  }
 ],
 "metadata": {
  "kernelspec": {
   "display_name": "PySpark",
   "language": "",
   "name": "pysparkkernel"
  },
  "language_info": {
   "codemirror_mode": {
    "name": "python",
    "version": 3
   },
   "mimetype": "text/x-python",
   "name": "pyspark",
   "pygments_lexer": "python3"
  }
 },
 "nbformat": 4,
 "nbformat_minor": 4
}
