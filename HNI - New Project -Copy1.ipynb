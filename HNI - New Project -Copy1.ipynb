{
 "cells": [
  {
   "cell_type": "code",
   "execution_count": 1,
   "metadata": {},
   "outputs": [
    {
     "name": "stdout",
     "output_type": "stream",
     "text": [
      "Starting Spark application\n"
     ]
    },
    {
     "data": {
      "text/html": [
       "<table>\n",
       "<tr><th>ID</th><th>YARN Application ID</th><th>Kind</th><th>State</th><th>Spark UI</th><th>Driver log</th><th>Current session?</th></tr><tr><td>18928</td><td>None</td><td>pyspark</td><td>idle</td><td></td><td></td><td>✔</td></tr></table>"
      ],
      "text/plain": [
       "<IPython.core.display.HTML object>"
      ]
     },
     "metadata": {},
     "output_type": "display_data"
    },
    {
     "data": {
      "application/vnd.jupyter.widget-view+json": {
       "model_id": "",
       "version_major": 2,
       "version_minor": 0
      },
      "text/plain": [
       "FloatProgress(value=0.0, bar_style='info', description='Progress:', layout=Layout(height='25px', width='50%'),…"
      ]
     },
     "metadata": {},
     "output_type": "display_data"
    },
    {
     "name": "stdout",
     "output_type": "stream",
     "text": [
      "SparkSession available as 'spark'.\n"
     ]
    },
    {
     "data": {
      "application/vnd.jupyter.widget-view+json": {
       "model_id": "",
       "version_major": 2,
       "version_minor": 0
      },
      "text/plain": [
       "FloatProgress(value=0.0, bar_style='info', description='Progress:', layout=Layout(height='25px', width='50%'),…"
      ]
     },
     "metadata": {},
     "output_type": "display_data"
    },
    {
     "name": "stdout",
     "output_type": "stream",
     "text": [
      "JOB NAME = Nishant : HNI-NEW\n",
      "No_of_cpu=8\n",
      "Max_cores=8\n",
      "Executor_mem=56g"
     ]
    }
   ],
   "source": [
    "import sys\n",
    "\n",
    "# runtype = \"daily\"\n",
    "# report_date = \"2020-04-30\" #automated\n",
    "\n",
    "no_of_cpu = 8\n",
    "max_cores = 8\n",
    "executor_mem = '56g'\n",
    "\n",
    "Job_Name = 'Nishant : HNI-NEW'\n",
    "\n",
    "print (\"JOB NAME = \"+str(Job_Name))\n",
    "print (\"No_of_cpu=\"+str(no_of_cpu))\n",
    "print (\"Max_cores=\"+str(max_cores))\n",
    "print (\"Executor_mem=\"+str(executor_mem))\n",
    "# print (\"Runtype=\"+str(runtype))pripority\n",
    "# print (\"Report_date=\"+str(report_date))\n",
    "\n",
    "\n",
    "from pyspark.mllib.stat import Statistics\n",
    "from pyspark.sql.functions import asc,lit\n",
    "from pyspark.sql.functions import udf\n",
    "#warnings.filterwarnings('error')\n",
    "import pyspark\n",
    "from datetime import datetime,timedelta\n",
    "from pyspark.sql import SQLContext\n",
    "from pyspark import SparkContext, SparkConf\n",
    "from pyspark.sql import functions as F\n",
    "\n",
    "conf = pyspark.SparkConf()\n",
    "#import numpy\n",
    "import calendar\n",
    "#import pandas as pd\n",
    "#import simplejson as json\n",
    "#import pandas as pd\n",
    "import numpy as np\n",
    "import datetime\n",
    "from pyspark.sql.functions import *\n",
    "from pyspark.sql.types import DateType\n",
    "from pyspark.sql.functions import lit\n",
    "import simplejson as json\n",
    "import json, pprint, requests\n",
    "#es_nodes = '10.35.12.5'\n",
    "#es_nodes = '10.35.12.6'\n",
    "es_nodes = '10.35.12.212'\n",
    "es_port = '9200'\n",
    "es_user = 'elastic'\n",
    "es_pwd = 'bEiilauM3es'\n",
    "mesos_ip = 'mesos://10.33.195.18:5050'#'mesos://10.35.12.5:5050'\n",
    "spark.stop() #############NEED TO COMMENT THIS SPARK.STOP WHEN RUNNING THROUGH SHELL###############################\n",
    "conf.setMaster(mesos_ip)\n",
    "\n",
    "conf.set('spark.executor.cores',no_of_cpu) ### change 1\n",
    "conf.set('spark.executor.memory',executor_mem)\n",
    "conf.set('spark.es.scroll.size','10000')\n",
    "conf.set('spark.network.timeout','120m')\n",
    "conf.set('spark.sql.crossJoin.enabled', 'true')\n",
    "conf.set('spark.executor.heartbeatInterval','120s')\n",
    "conf.set(\"spark.driver.cores\",\"4\")\n",
    "conf.set(\"spark.driver.extraJavaOptions\",\"-Xmx4g -Xms4g\")\n",
    "conf.set(\"spark.files.overwrite\",\"true\");\n",
    "conf.set(\"spark.kryoserializer.buffer\", \"70\");\n",
    "conf.set(\"spark.driver.extraJavaOptions\", \"-XX:+UseG1GC\");\n",
    "conf.set(\"spark.executor.extraJavaOptions\", \"-XX:+UseG1GC\");\n",
    "conf.set(\"spark.serializer\", \"org.apache.spark.serializer.KryoSerializer\");\n",
    "conf.set(\"spark.broadcast.compress\", \"true\");\n",
    "conf.set(\"spark.shuffle.compress\", \"true\");\n",
    "conf.set(\"spark.shuffle.spill.compress\", \"true\");\n",
    "conf.set(\"spark.driver.maxResultSize\", \"4g\");\n",
    "conf.set(\"spark.app.name\", Job_Name)\n",
    "from pyspark.sql.functions import broadcast\n",
    "\n",
    "conf.set('spark.driver.memory','16g') ### change 2\n",
    "conf.set('spark.cores.max',max_cores) ### change 3\n",
    "conf.set('spark.sql.shuffle.partitions','300')\n",
    "conf.set('es.nodes.wan.only','true')\n",
    "conf.set(\"spark.sql.autoBroadcastJoinThreshold\",-1)\n",
    "conf.set(\"spark.scroll.keepalive\",\"120m\")\n",
    "\n",
    "conf.set('es.nodes',es_nodes)\n",
    "conf.set('es.port',es_port)\n",
    "conf.set('spark.es.net.http.auth.user', es_user)\n",
    "conf.set('spark.es.net.http.auth.pass', es_pwd)\n",
    "\n",
    "conf.set('spark.es.mapping.date.rich','false')\n",
    "spark = pyspark.SparkContext(conf=conf)\n",
    "sqlContext = SQLContext(spark)\n",
    "\n",
    "# Load Data into PySpark DataFrames\n",
    "# Prodcom Data Frame\n",
    "import json, pprint, requests\n",
    "import pyspark.sql.functions as sf\n",
    "from pyspark.sql.types import *\n",
    "from pyspark.mllib.stat import Statistics\n",
    "from pyspark.sql.functions import asc,lit\n",
    "#warnings.filterwarnings('error')\n",
    "import pyspark\n",
    "from datetime import datetime,timedelta\n",
    "from pyspark.sql import SQLContext\n",
    "from pyspark.sql.window import Window\n",
    "from pyspark import SparkContext, SparkConf\n",
    "conf = pyspark.SparkConf()\n",
    "#import numpy\n",
    "import calendar\n",
    "import time\n",
    "#import pandas as pd\n",
    "#import simplejson as json\n",
    "#import pandas as pd\n",
    "import numpy as np\n",
    "import datetime\n",
    "from pyspark.sql.functions import *\n",
    "from pyspark.sql.types import DateType, StringType, DecimalType\n",
    "from pyspark.sql.functions import lit\n",
    "import simplejson as json\n",
    "import json, pprint, requests\n",
    "import re # to use regular expressions\n",
    "import pyspark.sql.functions as F\n",
    "from pyspark.sql import Window"
   ]
  },
  {
   "cell_type": "code",
   "execution_count": 2,
   "metadata": {},
   "outputs": [
    {
     "data": {
      "application/vnd.jupyter.widget-view+json": {
       "model_id": "",
       "version_major": 2,
       "version_minor": 0
      },
      "text/plain": [
       "FloatProgress(value=0.0, bar_style='info', description='Progress:', layout=Layout(height='25px', width='50%'),…"
      ]
     },
     "metadata": {},
     "output_type": "display_data"
    },
    {
     "name": "stdout",
     "output_type": "stream",
     "text": [
      "'2024-03-14 09:19:23.129267'"
     ]
    }
   ],
   "source": [
    "from pyspark.sql.functions import hash,col,regexp_replace,collect_list,concat_ws,initcap,count,least\n",
    "import numpy as np\n",
    "import datetime\n",
    "from pyspark.sql.functions import *\n",
    "from pyspark.sql.types import DateType\n",
    "import psycopg2\n",
    "import time\n",
    "from time import gmtime, strftime\n",
    "import pytz\n",
    "starttime = time.time()\n",
    "start_time = datetime.datetime.now(pytz.timezone('Asia/Kolkata')).strftime(\"%Y-%m-%d %H:%M:%S.%f\")\n",
    "start_time"
   ]
  },
  {
   "cell_type": "code",
   "execution_count": 3,
   "metadata": {},
   "outputs": [
    {
     "data": {
      "application/vnd.jupyter.widget-view+json": {
       "model_id": "",
       "version_major": 2,
       "version_minor": 0
      },
      "text/plain": [
       "FloatProgress(value=0.0, bar_style='info', description='Progress:', layout=Layout(height='25px', width='50%'),…"
      ]
     },
     "metadata": {},
     "output_type": "display_data"
    }
   ],
   "source": [
    "prod_url = \"jdbc:postgresql://10.35.12.194:5432/gpadmin\"\n",
    "prod_host = '10.35.12.194'\n",
    "prod_port = '5432'\n",
    "prod_dbname = 'gpadmin'\n",
    "user_prod=\"gpcustcoe\"\n",
    "pwd_prod=\"gpcustcoe@123\"\n",
    "dbschema=\"public\"\n",
    "\n",
    "\n",
    "prod_gpdb_spark_options ={\n",
    "    \"url\": \"jdbc:postgresql://{host}:{port}/{dbname}\".format(host=prod_host,port=prod_port, dbname=prod_dbname),\n",
    "    \"user\": \"{user}\".format(user=user_prod),\n",
    "    \"password\": \"{password}\".format(password=pwd_prod)\n",
    "} "
   ]
  },
  {
   "cell_type": "code",
   "execution_count": 4,
   "metadata": {},
   "outputs": [
    {
     "data": {
      "application/vnd.jupyter.widget-view+json": {
       "model_id": "",
       "version_major": 2,
       "version_minor": 0
      },
      "text/plain": [
       "FloatProgress(value=0.0, bar_style='info', description='Progress:', layout=Layout(height='25px', width='50%'),…"
      ]
     },
     "metadata": {},
     "output_type": "display_data"
    }
   ],
   "source": [
    "# def get_latest_progress():\n",
    "    \n",
    "#     try: \n",
    "#         gscPythonOptions = {\n",
    "#                  \"url\":prod_url ,\n",
    "#                  \"user\":user_prod ,\n",
    "#                  \"password\": pwd_prod,\n",
    "#                  \"dbschema\":\"customermart\",\n",
    "#                  \"dbtable\": \"hni_cust_data\", #tablechange\n",
    "#                  \"server.port\":\"1150-1170\"} \n",
    "\n",
    "#         last_run= sqlContext.read.format(\"greenplum\").options(**gscPythonOptions).load()\\\n",
    "#             .select('report_date')\n",
    "        \n",
    "#         Max_last_run =last_run.select(max('datetime')).first()[0]\n",
    "\n",
    "\n",
    "#         # if no record is available in progress then it will raise value error, in this case default value will be picked from except clause\n",
    "#         if Max_last_run is None:\n",
    "#             raise ValueError(\"No records found!\")\n",
    "\n",
    "#         #print(\"Record Found. Progress updated till {}\".format(Max_last_run))\n",
    "\n",
    "#     except Exception as E: \n",
    "#         Max_last_run = datetime.datetime(2018, 10, 30, 0, 0)  # this is the default start date when no record is present in progress for customer_demographics table\n",
    "#         print(\"Executed_except\",repr(E))\n",
    "#     return Max_last_run"
   ]
  },
  {
   "cell_type": "code",
   "execution_count": 5,
   "metadata": {},
   "outputs": [
    {
     "data": {
      "application/vnd.jupyter.widget-view+json": {
       "model_id": "",
       "version_major": 2,
       "version_minor": 0
      },
      "text/plain": [
       "FloatProgress(value=0.0, bar_style='info', description='Progress:', layout=Layout(height='25px', width='50%'),…"
      ]
     },
     "metadata": {},
     "output_type": "display_data"
    }
   ],
   "source": [
    "# Define the Generic update function which takes the records currently in temp table (created with prefix 1 to original customercoe table)\n",
    "# The function would first try to insert the records in original table. It that fails then it will upsert the records\n",
    "# Since there is no direct upsert query an update and insert query with where clause is used\n",
    "# This funciton just runs the SQL queries in GPDB and does not use spark\n",
    "\n",
    "def update(conn_to,table_name,source,gpdb_spark_options = prod_gpdb_spark_options,\n",
    "                  schema='customermart'):\n",
    "    conn_to.rollback()\n",
    "    primary_key = ['golden_id','policy_no','certificate_no','customer_id','other_flagging_type','other_flagging_sub_type','alert_flag_till_date']\n",
    "    update_fields = ['sum_insured', 'num_reference_no', 'producer_cd', 'producer_name', 'channel', 'premium', 'product_cd', 'product_name', \n",
    "                     'pol_incept_date', 'pol_exp_date', 'client_name', 'birth_dt', 'contact_no', 'email_id', 'customer_dob','tenure', 'yearly_premium', 'report_date', 'customer_age', 'economic_status','vintage_customer','lob','senior_citizen', 'sum_insured_rule', 'pcg_customer', 'product_count', 'multiple_products', 'hni_type', 'excel_upload', 'escalated_sr_customers', 'amex_producer', 'muthoot_producer', 'hni_rule', 'free_text_100_character','action_type','serial_no']\n",
    "    out_columns = ['golden_id', 'sum_insured', 'num_reference_no', 'policy_no', 'producer_cd', 'producer_name', 'channel', 'certificate_no', 'premium', 'product_cd', 'product_name', 'customer_id', 'pol_incept_date', 'pol_exp_date', 'client_name', 'birth_dt', 'contact_no', 'email_id', 'customer_dob', 'tenure', 'yearly_premium', 'report_date', 'customer_age', 'economic_status', 'senior_citizen','vintage_customer','lob','sum_insured_rule', 'pcg_customer', 'product_count', 'multiple_products', 'hni_type', 'excel_upload', 'escalated_sr_customers', 'amex_producer', \n",
    "                   'muthoot_producer', 'hni_rule', 'other_flagging_type', 'other_flagging_sub_type', 'free_text_100_character', 'alert_flag_till_date','action_type','created_date','serial_no']\n",
    "\n",
    "    cur_to = conn_to.cursor()  \n",
    "\n",
    "    only_insert_query = \"\"\"insert into {schema}.{table_name} ({out_columns}) select {out_columns} from \n",
    "    {schema}.{table_name}_staging_final \"\"\".format(schema=schema,table_name=table_name,out_columns = \",\".join(out_columns))\n",
    "    update_query = \"\"\"UPDATE {schema}.{table_name} orig\n",
    "                          SET\n",
    "                            {update_fields}\n",
    "                          FROM\n",
    "                            {schema}.{table_name}_staging_final temp\n",
    "                           WHERE \n",
    "                            {primary_key}\n",
    "                       \"\"\".format(schema=schema,table_name=table_name,primary_key= \" and \".join([ \"orig.{key} = temp.{key}\".format(key=key) for key in primary_key]),update_fields = \" , \".join([ \"{key} = temp.{key}\".format(key=key) for key in update_fields]))\n",
    "    insert_query = \"\"\" INSERT INTO {schema}.{table_name} ({out_columns})\n",
    "                           SELECT {out_columns}\n",
    "                           FROM\n",
    "                             {schema}.{table_name}_staging_final temp\n",
    "                           WHERE\n",
    "                             NOT EXISTS (\n",
    "                             SELECT 1 FROM {schema}.{table_name} orig WHERE \n",
    "                            {primary_key}\n",
    "                            )\n",
    "                        \"\"\".format(schema=schema,table_name=table_name,out_columns = \",\".join(out_columns),primary_key = \" and \".join([ \"orig.{key} = temp.{key}\".format(key=key) for key in primary_key]))\n",
    "\n",
    "    try:\n",
    "        print(\"Inside try segment\")\n",
    "        cur_to.execute(only_insert_query)\n",
    "        print(\"Executed Only insert query\")\n",
    "    except Exception as e:\n",
    "        print(\"Inside except segment\")\n",
    "        conn_to.rollback()\n",
    "        cur_to.execute(update_query)\n",
    "        print(\"Executed update query\")\n",
    "        cur_to.execute(insert_query)\n",
    "        print(\"Executed insert query\")\n",
    "    conn_to.commit()"
   ]
  },
  {
   "cell_type": "code",
   "execution_count": 6,
   "metadata": {},
   "outputs": [
    {
     "data": {
      "application/vnd.jupyter.widget-view+json": {
       "model_id": "",
       "version_major": 2,
       "version_minor": 0
      },
      "text/plain": [
       "FloatProgress(value=0.0, bar_style='info', description='Progress:', layout=Layout(height='25px', width='50%'),…"
      ]
     },
     "metadata": {},
     "output_type": "display_data"
    }
   ],
   "source": [
    "def sum_insured_value(product , sum_insured ):\n",
    "    \n",
    "    value = 0\n",
    "    if (sum_insured) is None:\n",
    "        sum_insured=0\n",
    "        \n",
    "    if product in ('26400','4277','4270','4266','4255',\\\n",
    "'4251','4258','20130','4273','4260',\\\n",
    "'4269','4254','1502','4278','4259',\\\n",
    "'20131','20201','4252','4257','26403') and sum_insured >= 10000000 :\n",
    "        value = 1\n",
    "    elif  sum_insured >= 5000000 and product not in ('26400','4277','4270','4266','4255',\\\n",
    "'4251','4258','20130','4273','4260',\\\n",
    "'4269','4254','1502','4278','4259',\\\n",
    "'20131','20201','4252','4257','26403'):\n",
    "            value = 1\n",
    "    else :\n",
    "        value = 0\n",
    "    \n",
    "    return value \n",
    "sum_udf = udf(sum_insured_value)\n",
    "\n",
    "# def rule_value_generation(es=None,vc=None,sc=None,si=None,pc=None,mp=None,eu=None):\n",
    "#     es=str(es)\n",
    "#     vc=str(vc)\n",
    "#     sc=str(sc)\n",
    "#     si=str(si)\n",
    "#     pc=str(pc)\n",
    "#     mp=str(mp)\n",
    "#     eu=str(eu)\n",
    "    \n",
    "    \n",
    "#     value=''\n",
    "#     if es == '1':\n",
    "#         value = value + 'ECONOMIC_STATUS'+'/'\n",
    "#     if vc == '1':\n",
    "#         value = value + 'VINTAGE_CUSTOMER'+'/'\n",
    "#     if sc == '1':\n",
    "#         value = value + 'SENIOR_CITIZEN'+'/'\n",
    "#     if si == '1':\n",
    "#         value = value + 'SUM_INSURED'+'/'\n",
    "#     if pc == '1':\n",
    "#         value = value + 'PCG_Customer'+'/'\n",
    "#     if cc == '1':\n",
    "#         value = value + 'Complaint_Customers'+'/'\n",
    "#     if esr == '1':\n",
    "#         value = value + 'Escalated_SRs'+'/'\n",
    "#     if mp == '1':\n",
    "#         value = value + 'MULTIPLE_PRODUCTS' +'/'\n",
    "#     if eu == '1':\n",
    "#         value = value + 'Excel_Upload' +'/'\n",
    "#     return value\n",
    "\n",
    "\n",
    "def rule_value_generation(es,vc,sc,si,pc,cc,esr,mp,eu):\n",
    "    es=str(es)\n",
    "    vc=str(vc)\n",
    "    sc=str(sc)\n",
    "    si=str(si)\n",
    "    pc=str(pc)\n",
    "    cc=str(cc)\n",
    "    esr=str(esr)\n",
    "    \n",
    "    value=''\n",
    "    \n",
    "    if es == '1':\n",
    "        value = value + 'ECONOMIC_STATUS'+'/'\n",
    "    if vc == '1':\n",
    "        value = value + 'VINTAGE_CUSTOMER'+'/'\n",
    "    if sc == '1':\n",
    "        value = value + 'SENIOR_CITIZEN'+'/'\n",
    "    if si == '1':\n",
    "        value = value + 'SUM_INSURED'+'/'\n",
    "    if pc == '1':\n",
    "        value = value + 'PCG_Customer'+'/'\n",
    "    if cc == '1':\n",
    "        value = value + 'Complaint_Customers'+'/'\n",
    "    if esr == '1':\n",
    "        value = value + 'Escalated_SRs'+'/'\n",
    "    if mp == '1':\n",
    "        value = value + 'MULTIPLE_PRODUCTS' +'/'\n",
    "    if eu == '1':\n",
    "        value = value + 'Excel_Upload' +'/'\n",
    "    return value\n",
    "\n",
    "\n",
    "\n",
    "rule_udf = udf(rule_value_generation)\n",
    "\n",
    "def documentcount(index_name):\n",
    "    headers = {'Content-Type': 'application/json'}\n",
    "    query = {'query':{'match_all':{}}}\n",
    "    URL = 'http://'+es_user+':'+es_pwd+'@'+es_nodes_tmp+':'+es_port+'/'+index_name+'/_count'\n",
    "    r = requests.get(URL, headers=headers)\n",
    "    document_count =r.json().get('count')\n",
    "    if document_count == 0:\n",
    "        document_count = 1\n",
    "    return document_count\n",
    "\n",
    "def createindex(index_name,number_of_shards,number_of_replicas):\n",
    "####   Create a Index     #######\n",
    "    headers = {'Content-Type': 'application/json'}\n",
    "    index_config= {\"settings\": { \"index.number_of_shards\": number_of_shards , \"index.number_of_replicas\":number_of_replicas}}\n",
    "    URL = 'http://'+es_user+':'+es_pwd+'@'+es_nodes+':'+es_port+'/'+index_name\n",
    "    r = requests.put(URL, data=json.dumps(index_config), headers=headers)\n",
    "    return r\n",
    "\n",
    "\n",
    "def createmapping(index_name,doc_type,mappings):\n",
    "### Create a doc-type Mappings    \n",
    "    URL = 'http://'+es_user+':'+es_pwd+'@'+es_nodes+':'+es_port+'/'+index_name+'/_mappings/'+doc_type+'/'\n",
    "    headers = {'Content-Type': 'application/json'}\n",
    "    r = requests.put(URL, data=json.dumps(mappings), headers=headers)\n",
    "    return r\n",
    "\n",
    "def deleteindex(index_name):\n",
    "###delete index if already exists########################################################\n",
    "    headers = {'Content-Type': 'application/json'}\n",
    "    query = {\"query\":{\"match_all\":{}}}\n",
    "    URL = 'http://'+es_user+':'+es_pwd+'@'+es_nodes+':'+es_port+'/'+index_name\n",
    "    r = requests.delete(URL, data=json.dumps(query), headers=headers)\n",
    "    return r\n",
    "\n",
    "def last_day_of_month(any_day):\n",
    "    next_month = any_day.replace(day=28) + datetime.timedelta(days=4)\n",
    "    return next_month - datetime.timedelta(days=next_month.day)\n",
    "\n",
    "def last_day_of_previous_month(any_day):\n",
    "    previous_month = any_day.replace(day = 1)\n",
    "    return previous_month - datetime.timedelta(days=1)\n",
    "\n",
    "def first_day_of_last_month(any_day):\n",
    "    previous_month = any_day.replace(day = 1)\n",
    "    previous_month = previous_month - datetime.timedelta(days=1)\n",
    "    return previous_month.replace(day = 1)\n",
    "\n",
    "def first_day_of_month(any_day):\n",
    "    if any_day != None:\n",
    "        return any_day.replace(day = 1)\n",
    "    else:\n",
    "        return any_day\n",
    "\n",
    "def string_to_date(any_day):\n",
    "    if any_day != None:\n",
    "        return datetime.datetime.strptime(any_day,'%Y-%m-%d')\n",
    "    else:\n",
    "        return any_day\n",
    "    \n",
    "# added by SUMIT for dd/mm/yyyy format    \n",
    "def string_to_date_1(any_day):\n",
    "    if any_day != None:\n",
    "        return datetime.datetime.strptime(any_day,'%d/%m/%Y')\n",
    "    else:\n",
    "        return any_day    \n",
    "    \n",
    "\n",
    "from pyspark.sql.types import IntegerType\n",
    "def day_of_date(any_date):\n",
    "    if any_date != None:\n",
    "        return any_date.day\n",
    "    else:\n",
    "        return any_date\n",
    "\n",
    "def year_of_date(any_date):\n",
    "    if any_date != None:\n",
    "        return any_date.year\n",
    "    else:\n",
    "        return any_date\n",
    "\n",
    "from pyspark.sql.types import StringType\n",
    "def first_ten(any_string):\n",
    "    if any_string != None:\n",
    "        return any_string[0:10]\n",
    "    else:\n",
    "        return any_string      \n",
    "\n",
    "def after_ten(any_string):\n",
    "    if any_string != None:\n",
    "        return any_string[10:]\n",
    "    else:\n",
    "        return any_string \n",
    "\n",
    "def first_two(any_string):\n",
    "    if any_string != None:\n",
    "        if(len(any_string) == 7):\n",
    "            return any_string[0:2]\n",
    "        else:\n",
    "            return '0'\n",
    "    else:\n",
    "        return any_string\n",
    "\n",
    "def three_four(any_string):\n",
    "    if any_string != None:\n",
    "        if(len(any_string) == 7):\n",
    "            return any_string[2:4]\n",
    "        else:\n",
    "            return '0'\n",
    "    else:\n",
    "        return any_string\n",
    "\n",
    "def after_four(any_string):\n",
    "    if any_string != None:\n",
    "        if(len(any_string) == 7):\n",
    "            return any_string[4:7]\n",
    "        else:\n",
    "            return '0'\n",
    "    else:\n",
    "        return any_string\n",
    "\n",
    "def lengthSt(any_string):\n",
    "    if any_string != None:\n",
    "        return len(any_string)\n",
    "    else:\n",
    "        return 0\n",
    "    \n",
    "def upperAllColName(df):\n",
    "    for col in df.columns:\n",
    "        df=df.withColumnRenamed(col, (col).lower())\n",
    "    return df\n",
    "\n",
    "# To use regular rexpression added below function from Sandip's code    \n",
    "    \n",
    "def isValidEmail(any_email):   \n",
    "    if(re.search('^[A-Za-z0-9._%+-]+@[A-Za-z0-9.-]+\\.[A-Za-z]{2,4}$',str(any_email))): \n",
    "        #print(\"1\") \n",
    "        return 1\n",
    "    else:   \n",
    "        #print(\"0\")\n",
    "        return 0\n",
    "\n",
    "def isValidMobile(any_mobile):\n",
    "    if(re.search('^[6-9]{1}[0-9]{9}$',str(any_mobile))):\n",
    "        #print(\"1\")\n",
    "        return 1\n",
    "    else:\n",
    "        #print(\"0\")\n",
    "        return 0    \n",
    "\n",
    "def isValidMobileRepeat(any_mobile):\n",
    "    if(re.search('\\\\b([a-zA-Z0-9])\\\\1\\\\1+\\\\b',str(any_mobile))):\n",
    "        #print(\"1\")\n",
    "        return 1\n",
    "    else:\n",
    "        #print(\"0\")\n",
    "        return 0    \n",
    "\n",
    "def upperAllColName(df):\n",
    "    for col in df.columns:\n",
    "        df=df.withColumnRenamed(col, (col).upper())\n",
    "    return df\n",
    "\n",
    "def lowerAllColName(df):\n",
    "    for col in df.columns:\n",
    "        df=df.withColumnRenamed(col, (col).lower())\n",
    "    return df"
   ]
  },
  {
   "cell_type": "code",
   "execution_count": 7,
   "metadata": {},
   "outputs": [
    {
     "data": {
      "application/vnd.jupyter.widget-view+json": {
       "model_id": "",
       "version_major": 2,
       "version_minor": 0
      },
      "text/plain": [
       "FloatProgress(value=0.0, bar_style='info', description='Progress:', layout=Layout(height='25px', width='50%'),…"
      ]
     },
     "metadata": {},
     "output_type": "display_data"
    }
   ],
   "source": [
    "    \n",
    "# Mobile Validation\n",
    "validMobileRepeat = udf(lambda x: isValidMobileRepeat(x), IntegerType())\n",
    "\n",
    "    \n",
    "    \n",
    "DayofDate = udf(lambda x: day_of_date(x), IntegerType())\n",
    "\n",
    "# Returns the last date of the column containing dates\n",
    "lastDayofMonth = udf(lambda x: last_day_of_month(x),DateType())\n",
    "\n",
    "# Returns the first date of month for the column containing dates\n",
    "firstDayofMonth = udf(lambda x: first_day_of_month(x), DateType())\n",
    "\n",
    "# Returns the first date of month for the column containing dates\n",
    "firstTenChar = udf(lambda x: first_ten(x), StringType())\n",
    "\n",
    "afterTenChar = udf(lambda x: after_ten(x), StringType())\n",
    "\n",
    "firstTwoChar = udf(lambda x: first_two(x), StringType())\n",
    "\n",
    "ThirdFourthChar = udf(lambda x: three_four(x), StringType())\n",
    "\n",
    "afterFourChar = udf(lambda x: after_four(x), StringType())\n",
    "\n",
    "LengthOfString = udf(lambda x: lengthSt(x), IntegerType())\n",
    "\n",
    "# Returns year of date for the column containing dates\n",
    "yearOfDate = udf(lambda x: year_of_date(x), IntegerType())\n",
    "\n",
    "#from pyspark.sql.types import DateType\n",
    "from pyspark.sql.functions import col, udf\n",
    "from pyspark.sql.functions import lit\n",
    "\n",
    "# First convert all the Dates into Date format\n",
    "# First define a udf for converting string into date format\n",
    "StringToDateFunc = udf(lambda x: string_to_date(x), DateType())\n",
    "StringToDateFunc_1 = udf(lambda x: string_to_date_1(x), DateType())\n",
    "\n",
    "\n",
    "# Email validation\n",
    "validEmail = udf(lambda x: isValidEmail(x), IntegerType())\n",
    "\n",
    "# Mobile Validation\n",
    "validMobile = udf(lambda x: isValidMobile(x), IntegerType())\n",
    "\n",
    "import functools \n",
    "# Function row-wise joining of dataframes\n",
    "def unionAll(dfs):\n",
    "    return functools.reduce(lambda df1,df2: df1.union(df2.select(df1.columns)), dfs)"
   ]
  },
  {
   "cell_type": "code",
   "execution_count": 8,
   "metadata": {},
   "outputs": [
    {
     "data": {
      "application/vnd.jupyter.widget-view+json": {
       "model_id": "",
       "version_major": 2,
       "version_minor": 0
      },
      "text/plain": [
       "FloatProgress(value=0.0, bar_style='info', description='Progress:', layout=Layout(height='25px', width='50%'),…"
      ]
     },
     "metadata": {},
     "output_type": "display_data"
    }
   ],
   "source": [
    "## imp column selection"
   ]
  },
  {
   "cell_type": "code",
   "execution_count": 9,
   "metadata": {},
   "outputs": [
    {
     "data": {
      "application/vnd.jupyter.widget-view+json": {
       "model_id": "",
       "version_major": 2,
       "version_minor": 0
      },
      "text/plain": [
       "FloatProgress(value=0.0, bar_style='info', description='Progress:', layout=Layout(height='25px', width='50%'),…"
      ]
     },
     "metadata": {},
     "output_type": "display_data"
    }
   ],
   "source": [
    "# report_date = datetime.date.today()- datetime.timedelta(days=1)\n",
    "# report_date_str = str(report_date)\n",
    "\n",
    "# gscPythonOptions = {\n",
    "#          \"url\": \"jdbc:postgresql://10.35.12.194:5432/gpadmin\",\"user\": \"gpspark\",\"password\": \"spark@456\",\n",
    "#          \"dbschema\": \"registers\",\"dbtable\": \"premium_register\",\n",
    "#          \"partitionColumn\":\"row_num\",\"partitions\":16,\n",
    "#          \"server.port\":\"1177\"} \n",
    "# df_pr =sqlContext.read.format(\"greenplum\").options(**gscPythonOptions).load()\\\n",
    "# .select('SUM_INSURED','NUM_REFERENCE_NO','POLICY_NO','PRODUCER_CD','PRODUCER_NAME','CLIENT_NAME','CHANNEL','CERTIFICATE_NO','premium_amount_inr_without_tax',\\\n",
    "# 'product_cd','product_name','customer_id','POL_INCEPT_DATE','POL_EXP_DATE')\\\n",
    "# .filter(F.date_add(col('pol_exp_date'),90)>=to_timestamp(lit(report_date_str), format='yyyy-MM-dd'))"
   ]
  },
  {
   "cell_type": "code",
   "execution_count": 10,
   "metadata": {},
   "outputs": [
    {
     "data": {
      "application/vnd.jupyter.widget-view+json": {
       "model_id": "",
       "version_major": 2,
       "version_minor": 0
      },
      "text/plain": [
       "FloatProgress(value=0.0, bar_style='info', description='Progress:', layout=Layout(height='25px', width='50%'),…"
      ]
     },
     "metadata": {},
     "output_type": "display_data"
    }
   ],
   "source": [
    "report_date = datetime.date.today()- datetime.timedelta(days=1)\n",
    "report_date_1=report_date\n",
    "report_date_str = str(report_date)"
   ]
  },
  {
   "cell_type": "code",
   "execution_count": 11,
   "metadata": {},
   "outputs": [
    {
     "data": {
      "application/vnd.jupyter.widget-view+json": {
       "model_id": "",
       "version_major": 2,
       "version_minor": 0
      },
      "text/plain": [
       "FloatProgress(value=0.0, bar_style='info', description='Progress:', layout=Layout(height='25px', width='50%'),…"
      ]
     },
     "metadata": {},
     "output_type": "display_data"
    },
    {
     "name": "stdout",
     "output_type": "stream",
     "text": [
      "'2024-03-13'"
     ]
    }
   ],
   "source": [
    "report_date_str"
   ]
  },
  {
   "cell_type": "code",
   "execution_count": 12,
   "metadata": {},
   "outputs": [
    {
     "data": {
      "application/vnd.jupyter.widget-view+json": {
       "model_id": "",
       "version_major": 2,
       "version_minor": 0
      },
      "text/plain": [
       "FloatProgress(value=0.0, bar_style='info', description='Progress:', layout=Layout(height='25px', width='50%'),…"
      ]
     },
     "metadata": {},
     "output_type": "display_data"
    }
   ],
   "source": [
    "gscPythonOptions = {\n",
    "         \"url\": \"jdbc:postgresql://10.35.12.194:5432/gpadmin\",\"user\": \"gpspark\",\"password\": \"spark@456\",\n",
    "         \"dbschema\": \"customermart\",\"dbtable\": \"policy_retail\",\n",
    "         \"server.port\":\"1177\"} \n",
    "df_pr =sqlContext.read.format(\"greenplum\").options(**gscPythonOptions).load()\\\n",
    ".selectExpr('SUM_INSURED','REFERENCE_NUM as NUM_REFERENCE_NO','POLICY_NUMBER as POLICY_NO','PRODUCER_CD','PRODUCERNAME as PRODUCER_NAME','CHANNEL','CERTIFICATE_NO','premiumamount as premium ',\\\n",
    "'product_cd','product_name','source_system_customer_id as customer_id','POL_INCEPT_DATE','POL_EXP_DATE','lob','commit_timestamp','times_renewed_cnt')\\\n",
    ".filter(F.date_add(col('pol_exp_date'),90)>=to_timestamp(lit(report_date_str), format='yyyy-MM-dd'))"
   ]
  },
  {
   "cell_type": "code",
   "execution_count": 13,
   "metadata": {},
   "outputs": [
    {
     "data": {
      "application/vnd.jupyter.widget-view+json": {
       "model_id": "",
       "version_major": 2,
       "version_minor": 0
      },
      "text/plain": [
       "FloatProgress(value=0.0, bar_style='info', description='Progress:', layout=Layout(height='25px', width='50%'),…"
      ]
     },
     "metadata": {},
     "output_type": "display_data"
    }
   ],
   "source": [
    "df_pr=df_pr.withColumn('in_grace_period',when((col('lob').isin('2W','CV','CVTP','Pvt Car'))&(col('POL_EXP_DATE')+expr(\"INTERVAL 90 DAYS\")>=report_date_1),lit(1))\\\n",
    ".when((col('lob').isin('Covid Health','Group Health','Group Health Direct','Group Health RETAIL','Group health RETAIL','Health Benefit','Mediseries','Rural Health'))&(col('POL_EXP_DATE')+expr(\"INTERVAL 45 DAYS\")>=report_date_1),lit(1))\n",
    ".when(~(col('lob').isin('2W','CV','CVTP','Pvt Car','Covid Health','Group Health','Group Health Direct','Group Health RETAIL','Group health RETAIL','Health Benefit','Mediseries','Rural Health'))&(col('POL_EXP_DATE')+expr(\"INTERVAL 30 DAYS\")>=report_date_1),lit(1)).otherwise(0))"
   ]
  },
  {
   "cell_type": "code",
   "execution_count": 14,
   "metadata": {},
   "outputs": [
    {
     "data": {
      "application/vnd.jupyter.widget-view+json": {
       "model_id": "",
       "version_major": 2,
       "version_minor": 0
      },
      "text/plain": [
       "FloatProgress(value=0.0, bar_style='info', description='Progress:', layout=Layout(height='25px', width='50%'),…"
      ]
     },
     "metadata": {},
     "output_type": "display_data"
    }
   ],
   "source": [
    "df_pr=df_pr.filter(col('in_grace_period')==1).drop(\"in_grace_period\")"
   ]
  },
  {
   "cell_type": "code",
   "execution_count": 15,
   "metadata": {},
   "outputs": [
    {
     "data": {
      "application/vnd.jupyter.widget-view+json": {
       "model_id": "",
       "version_major": 2,
       "version_minor": 0
      },
      "text/plain": [
       "FloatProgress(value=0.0, bar_style='info', description='Progress:', layout=Layout(height='25px', width='50%'),…"
      ]
     },
     "metadata": {},
     "output_type": "display_data"
    }
   ],
   "source": [
    "# df_pr.withColumn('pol_new',col('POL_EXP_DATE')+expr(\"INTERVAL 45 DAYS\")).select('pol_new','POL_EXP_DATE').show()"
   ]
  },
  {
   "cell_type": "code",
   "execution_count": 16,
   "metadata": {},
   "outputs": [
    {
     "data": {
      "application/vnd.jupyter.widget-view+json": {
       "model_id": "",
       "version_major": 2,
       "version_minor": 0
      },
      "text/plain": [
       "FloatProgress(value=0.0, bar_style='info', description='Progress:', layout=Layout(height='25px', width='50%'),…"
      ]
     },
     "metadata": {},
     "output_type": "display_data"
    }
   ],
   "source": [
    "# df_pr.filter((col('lob').isin('Covid Health','Group Health','Group Health Direct','Group Health RETAIL','Group health RETAIL',\n",
    "#                        'Health Benefit','Mediseries','Rural Health'))&(col('POL_EXP_DATE')+expr(\"INTERVAL 45 DAYS\")\n",
    "#                                                                        <=report_date_1)).select('POL_EXP_DATE').distinct().show()\n"
   ]
  },
  {
   "cell_type": "code",
   "execution_count": 17,
   "metadata": {},
   "outputs": [
    {
     "data": {
      "application/vnd.jupyter.widget-view+json": {
       "model_id": "",
       "version_major": 2,
       "version_minor": 0
      },
      "text/plain": [
       "FloatProgress(value=0.0, bar_style='info', description='Progress:', layout=Layout(height='25px', width='50%'),…"
      ]
     },
     "metadata": {},
     "output_type": "display_data"
    }
   ],
   "source": [
    "# gscPythonOptions = {\n",
    "#          \"url\": \"jdbc:postgresql://10.35.12.194:5432/gpadmin\",\"user\": \"gpcustcoe\",\"password\": \"gpcustcoe@123\",\n",
    "#     \"dbschema\":\"customermart\"\n",
    "#     ,\"dbtable\": \"contactability\",\n",
    "#          \"server.port\":\"1150-1170\"}\n",
    "\n",
    "# contactibilty_retail_df = sqlContext.read.format(\"greenplum\").options(**gscPythonOptions).load()\\\n",
    "# .selectExpr('source_system_customer_id','communication_sub_type','value','last_updated','source_system_name','verification_flag').filter((col('source_system_customer_id').isNotNull()))\\\n",
    "# .filter(col('value').isNotNull()).filter(col('source_system_name')!='CREDIT_BUREAU')"
   ]
  },
  {
   "cell_type": "code",
   "execution_count": 18,
   "metadata": {},
   "outputs": [
    {
     "data": {
      "application/vnd.jupyter.widget-view+json": {
       "model_id": "",
       "version_major": 2,
       "version_minor": 0
      },
      "text/plain": [
       "FloatProgress(value=0.0, bar_style='info', description='Progress:', layout=Layout(height='25px', width='50%'),…"
      ]
     },
     "metadata": {},
     "output_type": "display_data"
    }
   ],
   "source": [
    "# contactibilty_retail_df=contactibilty_retail_df.withColumn(\"rnk\",when(col(\"source_system_name\")=='GC',1)\\\n",
    "# .otherwise(2))"
   ]
  },
  {
   "cell_type": "code",
   "execution_count": 19,
   "metadata": {},
   "outputs": [
    {
     "data": {
      "application/vnd.jupyter.widget-view+json": {
       "model_id": "",
       "version_major": 2,
       "version_minor": 0
      },
      "text/plain": [
       "FloatProgress(value=0.0, bar_style='info', description='Progress:', layout=Layout(height='25px', width='50%'),…"
      ]
     },
     "metadata": {},
     "output_type": "display_data"
    }
   ],
   "source": [
    "# contactibilty_retail_df=contactibilty_retail_df.withColumn('mobile',when(col('communication_sub_type')=='mobile',col('value')).otherwise(None))\n",
    "# contactibilty_retail_df=contactibilty_retail_df.withColumn('email',when(col('communication_sub_type')=='email',col('value')).otherwise(None))\n",
    "\n",
    "# contactibilty_retail_df = contactibilty_retail_df.withColumn('email',when((lower(trim(col(\"email\"))).rlike(\"^[a-zA-Z0-9._%+-]+@[a-zA-Z0-9.-]+\\.[a-zA-Z]{2,}(\\.[a-zA-Z]{2,})?$\") == False)\\\n",
    "#                                                         & (lower(trim(col(\"communication_sub_type\")))=='email'),lit(None)).otherwise(col('email')))\n",
    "\n",
    "\n",
    "\n",
    "# contactibilty_retail_df=contactibilty_retail_df.select('source_system_customer_id','mobile','email','rnk','last_updated','verification_flag')"
   ]
  },
  {
   "cell_type": "code",
   "execution_count": 20,
   "metadata": {},
   "outputs": [
    {
     "data": {
      "application/vnd.jupyter.widget-view+json": {
       "model_id": "",
       "version_major": 2,
       "version_minor": 0
      },
      "text/plain": [
       "FloatProgress(value=0.0, bar_style='info', description='Progress:', layout=Layout(height='25px', width='50%'),…"
      ]
     },
     "metadata": {},
     "output_type": "display_data"
    }
   ],
   "source": [
    "# contactibilty_retail_df=contactibilty_retail_df.join(header_df,'source_system_customer_id','inner')"
   ]
  },
  {
   "cell_type": "code",
   "execution_count": 21,
   "metadata": {},
   "outputs": [
    {
     "data": {
      "application/vnd.jupyter.widget-view+json": {
       "model_id": "",
       "version_major": 2,
       "version_minor": 0
      },
      "text/plain": [
       "FloatProgress(value=0.0, bar_style='info', description='Progress:', layout=Layout(height='25px', width='50%'),…"
      ]
     },
     "metadata": {},
     "output_type": "display_data"
    }
   ],
   "source": [
    "gscPythonOptions = {\n",
    "         \"url\": \"jdbc:postgresql://10.35.12.194:5432/gpadmin\",\"user\": \"gpspark\",\"password\": \"spark@456\",\n",
    "         \"dbschema\": \"public\",\"dbtable\": \"customer_gc_genmst_customer\",\n",
    "         \"partitionColumn\":\"row_num\",\"partitions\":20,\n",
    "         \"server.port\":\"1177\"} \n",
    "customer_gc_genmst_base =sqlContext.read.format(\"greenplum\").options(**gscPythonOptions).load()\\\n",
    ".selectExpr('EMAIL','EMAIL_2','MOBILE','MOBILE1','CUSTOMER_CODE','CUSTOMER_NAME as CLIENT_NAME','BIRTH_DT','DAT_INSERT_DATE')\\\n",
    ".filter(col('IND_CORP_FLAG')== 'I')\n",
    "\n",
    "\n",
    "customer_persisted = customer_gc_genmst_base.persist(pyspark.StorageLevel.MEMORY_AND_DISK)\n",
    "\n",
    "from pyspark.sql.window import Window\n",
    "customer_1=customer_persisted.withColumn(\"rank\", row_number().over(Window.partitionBy(\"CUSTOMER_CODE\")\\\n",
    "                                                                                      .orderBy(desc(\"DAT_INSERT_DATE\"))))\n",
    "\n",
    "customer_2 = customer_1.filter(customer_1.rank == 1)\n",
    "\n",
    "customer_3=customer_2.drop('rank')\\\n",
    "                     .drop('DAT_INSERT_DATE')\n",
    "\n",
    "\n",
    "genmst_customer_grp = customer_3\\\n",
    "                                .withColumn('CONTACT_NO',\\\n",
    "                                            when(trim(customer_3.MOBILE).isNull(),trim(customer_3.MOBILE1))\\\n",
    "                                            .otherwise(trim(customer_3.MOBILE)))\\\n",
    "                                .withColumn('EMAIL_ID',\\\n",
    "                                            when(trim(customer_3.EMAIL).isNull(),trim(customer_3.EMAIL_2))\\\n",
    "                                            .otherwise(trim(customer_3.EMAIL)))\\\n",
    "                                .withColumn('CUSTOMER_DOB',to_date((trim(col('BIRTH_DT').cast(StringType())).substr(1,10)),format='yyyy-MM-dd'))\\\n",
    "        .drop('EMAIL').drop('EMAIL_2').drop('MOBILE').drop('MOBILE1')\n",
    "\n",
    "# genmst_customer_grp = genmst_customer_grp.filter(~(col('CUSTOMER_DOB') == '1900-01-01'))\n",
    "\n",
    "genmst_customer_grp=genmst_customer_grp.withColumn(\"CUSTOMER_DOB\",when(col('CUSTOMER_DOB')=='1990-01-01',None)\\\n",
    "                                                   .otherwise(col('CUSTOMER_DOB')))\n",
    "\n",
    "\n",
    "join_cond = [trim(df_pr.customer_id) == trim(genmst_customer_grp.CUSTOMER_CODE)] \n",
    "\n",
    "base_data = df_pr.join(genmst_customer_grp, join_cond, 'inner')\\\n",
    ".drop('CUSTOMER_CODE')\n",
    "\n",
    "\n",
    "\n",
    "base_data = base_data.withColumn('EMAIL_ID', regexp_replace('EMAIL_ID', \",\" , \".\"))"
   ]
  },
  {
   "cell_type": "code",
   "execution_count": 22,
   "metadata": {},
   "outputs": [
    {
     "data": {
      "application/vnd.jupyter.widget-view+json": {
       "model_id": "",
       "version_major": 2,
       "version_minor": 0
      },
      "text/plain": [
       "FloatProgress(value=0.0, bar_style='info', description='Progress:', layout=Layout(height='25px', width='50%'),…"
      ]
     },
     "metadata": {},
     "output_type": "display_data"
    }
   ],
   "source": [
    "# base_data.select('POLICY_NO').distinct().count()"
   ]
  },
  {
   "cell_type": "code",
   "execution_count": 23,
   "metadata": {},
   "outputs": [
    {
     "data": {
      "application/vnd.jupyter.widget-view+json": {
       "model_id": "",
       "version_major": 2,
       "version_minor": 0
      },
      "text/plain": [
       "FloatProgress(value=0.0, bar_style='info', description='Progress:', layout=Layout(height='25px', width='50%'),…"
      ]
     },
     "metadata": {},
     "output_type": "display_data"
    }
   ],
   "source": [
    "##base_data=base_data.withColumnRenamed('premium_amount_inr_without_tax','premium')"
   ]
  },
  {
   "cell_type": "code",
   "execution_count": 24,
   "metadata": {},
   "outputs": [
    {
     "data": {
      "application/vnd.jupyter.widget-view+json": {
       "model_id": "",
       "version_major": 2,
       "version_minor": 0
      },
      "text/plain": [
       "FloatProgress(value=0.0, bar_style='info', description='Progress:', layout=Layout(height='25px', width='50%'),…"
      ]
     },
     "metadata": {},
     "output_type": "display_data"
    }
   ],
   "source": [
    "##run when add pol incept and expiry in pr\n",
    "\n",
    "base_data=base_data.withColumn('TENURE',F.datediff(col('POL_EXP_DATE'),col('POL_INCEPT_DATE'))/365)\n",
    "base_data=base_data.withColumn('YEARLY_PREMIUM',col('premium')/round(abs(col('TENURE')),0))"
   ]
  },
  {
   "cell_type": "code",
   "execution_count": 25,
   "metadata": {},
   "outputs": [
    {
     "data": {
      "application/vnd.jupyter.widget-view+json": {
       "model_id": "",
       "version_major": 2,
       "version_minor": 0
      },
      "text/plain": [
       "FloatProgress(value=0.0, bar_style='info', description='Progress:', layout=Layout(height='25px', width='50%'),…"
      ]
     },
     "metadata": {},
     "output_type": "display_data"
    }
   ],
   "source": [
    "base_data=base_data.withColumn('REPORT_DATE',lit(report_date))"
   ]
  },
  {
   "cell_type": "code",
   "execution_count": 26,
   "metadata": {},
   "outputs": [
    {
     "data": {
      "application/vnd.jupyter.widget-view+json": {
       "model_id": "",
       "version_major": 2,
       "version_minor": 0
      },
      "text/plain": [
       "FloatProgress(value=0.0, bar_style='info', description='Progress:', layout=Layout(height='25px', width='50%'),…"
      ]
     },
     "metadata": {},
     "output_type": "display_data"
    }
   ],
   "source": [
    "base_data=base_data.withColumn('CUSTOMER_AGE',F.datediff(col('REPORT_DATE'),col('CUSTOMER_DOB'))/365)"
   ]
  },
  {
   "cell_type": "code",
   "execution_count": 27,
   "metadata": {},
   "outputs": [
    {
     "data": {
      "application/vnd.jupyter.widget-view+json": {
       "model_id": "",
       "version_major": 2,
       "version_minor": 0
      },
      "text/plain": [
       "FloatProgress(value=0.0, bar_style='info', description='Progress:', layout=Layout(height='25px', width='50%'),…"
      ]
     },
     "metadata": {},
     "output_type": "display_data"
    }
   ],
   "source": [
    "# gscPythonOptions = {\n",
    "#     \"url\": \"jdbc:postgresql://10.35.12.194:5432/gpadmin\",\n",
    "#     \"user\": \"gpcustcoe\",\n",
    "#     \"password\": \"gpcustcoe@123\",\n",
    "#     \"dbschema\": \"public\",\n",
    "#     \"server.port\":\"1160-1180\",\n",
    "#     \"dbtable\": \"mastercraft_bulk_detail_prod\",\n",
    "#     \"partitionColumn\":\"row_num\",\n",
    "#     \"partitions\":16 }\n",
    "\n",
    "# mc_bulk=sqlContext.read.format(\"greenplum\").options(**gscPythonOptions).load()\\\n",
    "# .select('DC_UNIFIED_ID', 'SOURCE_CUSTOMER_ID','CUSTOMER_CREATION_DATE').distinct()"
   ]
  },
  {
   "cell_type": "code",
   "execution_count": 28,
   "metadata": {},
   "outputs": [
    {
     "data": {
      "application/vnd.jupyter.widget-view+json": {
       "model_id": "",
       "version_major": 2,
       "version_minor": 0
      },
      "text/plain": [
       "FloatProgress(value=0.0, bar_style='info', description='Progress:', layout=Layout(height='25px', width='50%'),…"
      ]
     },
     "metadata": {},
     "output_type": "display_data"
    }
   ],
   "source": [
    "# mc_bulk1 = mc_bulk.withColumnRenamed('SOURCE_CUSTOMER_ID', 'CUSTOMER_ID_1')\\\n",
    "# .withColumn('GOLDEN_ID', col('DC_UNIFIED_ID').cast(StringType()))"
   ]
  },
  {
   "cell_type": "code",
   "execution_count": 29,
   "metadata": {},
   "outputs": [
    {
     "data": {
      "application/vnd.jupyter.widget-view+json": {
       "model_id": "",
       "version_major": 2,
       "version_minor": 0
      },
      "text/plain": [
       "FloatProgress(value=0.0, bar_style='info', description='Progress:', layout=Layout(height='25px', width='50%'),…"
      ]
     },
     "metadata": {},
     "output_type": "display_data"
    }
   ],
   "source": [
    "# mc_bulk2 = mc_bulk1.withColumn(\"ROW_NUM\", sf.row_number()\\\n",
    "#                                .over(Window.partitionBy('CUSTOMER_ID_1')\\\n",
    "#                                      .orderBy(mc_bulk1.CUSTOMER_CREATION_DATE.desc())))\n",
    "\n",
    "        \n",
    "# mc_bulk_max = mc_bulk2.filter(mc_bulk2.ROW_NUM==1)\\\n",
    "#                    .drop('ROW_NUM')\\\n",
    "#                    .drop('DC_UNIFIED_ID')\\\n",
    "#                    .drop('CUSTOMER_CREATION_DATE')"
   ]
  },
  {
   "cell_type": "code",
   "execution_count": 30,
   "metadata": {},
   "outputs": [
    {
     "data": {
      "application/vnd.jupyter.widget-view+json": {
       "model_id": "",
       "version_major": 2,
       "version_minor": 0
      },
      "text/plain": [
       "FloatProgress(value=0.0, bar_style='info', description='Progress:', layout=Layout(height='25px', width='50%'),…"
      ]
     },
     "metadata": {},
     "output_type": "display_data"
    }
   ],
   "source": [
    "# join_cond = [base_data.customer_id == mc_bulk_max.CUSTOMER_ID_1]\n",
    "\n",
    "# base_data = base_data.join(mc_bulk_max,join_cond,'left').drop('CUSTOMER_ID_1')"
   ]
  },
  {
   "cell_type": "code",
   "execution_count": 31,
   "metadata": {},
   "outputs": [
    {
     "data": {
      "application/vnd.jupyter.widget-view+json": {
       "model_id": "",
       "version_major": 2,
       "version_minor": 0
      },
      "text/plain": [
       "FloatProgress(value=0.0, bar_style='info', description='Progress:', layout=Layout(height='25px', width='50%'),…"
      ]
     },
     "metadata": {},
     "output_type": "display_data"
    }
   ],
   "source": [
    "gscPythonOptions = {\"url\": \"jdbc:postgresql://10.35.12.194:5432/gpadmin\",\n",
    "                    \"user\": \"gpcustcoe\",\n",
    "                    \"password\": \"gpcustcoe@123\",\n",
    "                    \"dbschema\": \"customermart\",\n",
    "                    \"dbtable\": \"header\",\n",
    "                    \"server.port\": '1150-1170'}\n",
    "\n",
    "mbdp = sqlContext.read.format(\"greenplum\").options(**gscPythonOptions).load()\\\n",
    "                   .selectExpr(\"source_system_customer_id\", \"golden_id\",\"active_flag\").filter(col('active_flag')==1)"
   ]
  },
  {
   "cell_type": "code",
   "execution_count": 32,
   "metadata": {},
   "outputs": [
    {
     "data": {
      "application/vnd.jupyter.widget-view+json": {
       "model_id": "",
       "version_major": 2,
       "version_minor": 0
      },
      "text/plain": [
       "FloatProgress(value=0.0, bar_style='info', description='Progress:', layout=Layout(height='25px', width='50%'),…"
      ]
     },
     "metadata": {},
     "output_type": "display_data"
    }
   ],
   "source": [
    "base_data=base_data.join(mbdp, base_data.customer_id==mbdp.source_system_customer_id,'inner').drop(mbdp.source_system_customer_id)"
   ]
  },
  {
   "cell_type": "code",
   "execution_count": 33,
   "metadata": {},
   "outputs": [
    {
     "data": {
      "application/vnd.jupyter.widget-view+json": {
       "model_id": "",
       "version_major": 2,
       "version_minor": 0
      },
      "text/plain": [
       "FloatProgress(value=0.0, bar_style='info', description='Progress:', layout=Layout(height='25px', width='50%'),…"
      ]
     },
     "metadata": {},
     "output_type": "display_data"
    }
   ],
   "source": [
    "# base_data.persist()\n",
    "# base_data.select('POLICY_NO').distinct().count()"
   ]
  },
  {
   "cell_type": "code",
   "execution_count": 34,
   "metadata": {},
   "outputs": [
    {
     "data": {
      "application/vnd.jupyter.widget-view+json": {
       "model_id": "",
       "version_major": 2,
       "version_minor": 0
      },
      "text/plain": [
       "FloatProgress(value=0.0, bar_style='info', description='Progress:', layout=Layout(height='25px', width='50%'),…"
      ]
     },
     "metadata": {},
     "output_type": "display_data"
    }
   ],
   "source": [
    "# df_pr.select('POLICY_NO').distinct().count()#17710974\n",
    "# #pr_df 19191484\n",
    "# base_data : 18385603"
   ]
  },
  {
   "cell_type": "code",
   "execution_count": 35,
   "metadata": {},
   "outputs": [
    {
     "data": {
      "application/vnd.jupyter.widget-view+json": {
       "model_id": "",
       "version_major": 2,
       "version_minor": 0
      },
      "text/plain": [
       "FloatProgress(value=0.0, bar_style='info', description='Progress:', layout=Layout(height='25px', width='50%'),…"
      ]
     },
     "metadata": {},
     "output_type": "display_data"
    }
   ],
   "source": [
    "base_data = base_data.fillna(value=0,subset=[\"YEARLY_PREMIUM\"])\\\n",
    "                                             .fillna(value=0,subset=[\"CUSTOMER_AGE\"])\\\n",
    "                                             .fillna(value=0,subset=[\"SUM_INSURED\"])"
   ]
  },
  {
   "cell_type": "code",
   "execution_count": 36,
   "metadata": {},
   "outputs": [
    {
     "data": {
      "application/vnd.jupyter.widget-view+json": {
       "model_id": "",
       "version_major": 2,
       "version_minor": 0
      },
      "text/plain": [
       "FloatProgress(value=0.0, bar_style='info', description='Progress:', layout=Layout(height='25px', width='50%'),…"
      ]
     },
     "metadata": {},
     "output_type": "display_data"
    }
   ],
   "source": [
    "base_data_final = base_data\\\n",
    ".withColumn('ECONOMIC_STATUS',when((col('YEARLY_PREMIUM') >= 100000),\\\n",
    "                        lit('1')).otherwise(lit('0')))\\\n",
    ".withColumn('VINTAGE_CUSTOMER',when((col('times_renewed_cnt') >=5),\\\n",
    "                        lit('1')).otherwise(lit('0')))\\\n",
    ".withColumn('SENIOR_CITIZEN',when((col('CUSTOMER_AGE') >= 60),\\\n",
    "                        lit('1')).otherwise(lit('0')))\\\n",
    ".withColumn('SUM_INSURED_rule',sum_udf(col('product_cd'),col('SUM_INSURED')))\\\n",
    ".withColumn('PCG_Customer',when((col('product_cd').isin('005503','5503')) | (col('product_cd').isin('005509','5509')),lit('1')).otherwise(lit('0')))\\\n"
   ]
  },
  {
   "cell_type": "code",
   "execution_count": 37,
   "metadata": {},
   "outputs": [
    {
     "data": {
      "application/vnd.jupyter.widget-view+json": {
       "model_id": "",
       "version_major": 2,
       "version_minor": 0
      },
      "text/plain": [
       "FloatProgress(value=0.0, bar_style='info', description='Progress:', layout=Layout(height='25px', width='50%'),…"
      ]
     },
     "metadata": {},
     "output_type": "display_data"
    }
   ],
   "source": [
    "base_data_final=base_data_final.withColumnRenamed('golden_id','GOLDEN_ID')"
   ]
  },
  {
   "cell_type": "code",
   "execution_count": 38,
   "metadata": {},
   "outputs": [
    {
     "data": {
      "application/vnd.jupyter.widget-view+json": {
       "model_id": "",
       "version_major": 2,
       "version_minor": 0
      },
      "text/plain": [
       "FloatProgress(value=0.0, bar_style='info', description='Progress:', layout=Layout(height='25px', width='50%'),…"
      ]
     },
     "metadata": {},
     "output_type": "display_data"
    }
   ],
   "source": [
    "# base_data_final.createOrReplaceTempView('product_golden_id_1')\n",
    "\n",
    "# sql_3=\"\"\"\n",
    "# select count(distinct PRODUCT_CD) PRODUCT_COUNT,GOLDEN_ID as GOLDEN_ID_1 from product_golden_id_1 \n",
    "# where PRODUCT_CD not in ('1507','1502','5505','5506')\n",
    "# group by GOLDEN_ID\n",
    "# having count(distinct PRODUCT_CD)>2    \n",
    "# \"\"\"\n",
    " \n",
    "\n",
    "# product_golden_id_lob = sqlContext.sql(sql_3)\n",
    "\n",
    "# sqlContext.dropTempTable('product_golden_id_1')"
   ]
  },
  {
   "cell_type": "code",
   "execution_count": 39,
   "metadata": {},
   "outputs": [
    {
     "data": {
      "application/vnd.jupyter.widget-view+json": {
       "model_id": "",
       "version_major": 2,
       "version_minor": 0
      },
      "text/plain": [
       "FloatProgress(value=0.0, bar_style='info', description='Progress:', layout=Layout(height='25px', width='50%'),…"
      ]
     },
     "metadata": {},
     "output_type": "display_data"
    }
   ],
   "source": [
    "# product_golden_id_lob=base_data_final.groupBy(\"GOLDEN_ID\").agg(countDistinct('PRODUCT_CD').alias('PRODUCT_COUNT'))"
   ]
  },
  {
   "cell_type": "code",
   "execution_count": 40,
   "metadata": {},
   "outputs": [
    {
     "data": {
      "application/vnd.jupyter.widget-view+json": {
       "model_id": "",
       "version_major": 2,
       "version_minor": 0
      },
      "text/plain": [
       "FloatProgress(value=0.0, bar_style='info', description='Progress:', layout=Layout(height='25px', width='50%'),…"
      ]
     },
     "metadata": {},
     "output_type": "display_data"
    }
   ],
   "source": [
    "# base_data_final.columns"
   ]
  },
  {
   "cell_type": "code",
   "execution_count": 41,
   "metadata": {},
   "outputs": [
    {
     "data": {
      "application/vnd.jupyter.widget-view+json": {
       "model_id": "",
       "version_major": 2,
       "version_minor": 0
      },
      "text/plain": [
       "FloatProgress(value=0.0, bar_style='info', description='Progress:', layout=Layout(height='25px', width='50%'),…"
      ]
     },
     "metadata": {},
     "output_type": "display_data"
    }
   ],
   "source": [
    "product_golden_id_lob=base_data_final.filter(~col('product_cd').isin('1507','1502','5505','5506')).groupBy(\"GOLDEN_ID\").agg(countDistinct('PRODUCT_CD').alias('PRODUCT_COUNT'))"
   ]
  },
  {
   "cell_type": "code",
   "execution_count": 42,
   "metadata": {},
   "outputs": [
    {
     "data": {
      "application/vnd.jupyter.widget-view+json": {
       "model_id": "",
       "version_major": 2,
       "version_minor": 0
      },
      "text/plain": [
       "FloatProgress(value=0.0, bar_style='info', description='Progress:', layout=Layout(height='25px', width='50%'),…"
      ]
     },
     "metadata": {},
     "output_type": "display_data"
    }
   ],
   "source": [
    "# product_golden_id_lob.filter(col('GOLDEN_ID').isin('99650','14045098','8020338','13336609','27027290','16339944')).show(truncate=False)"
   ]
  },
  {
   "cell_type": "code",
   "execution_count": 43,
   "metadata": {},
   "outputs": [
    {
     "data": {
      "application/vnd.jupyter.widget-view+json": {
       "model_id": "",
       "version_major": 2,
       "version_minor": 0
      },
      "text/plain": [
       "FloatProgress(value=0.0, bar_style='info', description='Progress:', layout=Layout(height='25px', width='50%'),…"
      ]
     },
     "metadata": {},
     "output_type": "display_data"
    }
   ],
   "source": [
    "# base_data_final.filter(col('GOLDEN_ID').isin('99650','14045098','8020338','13336609','27027290','16339944')).show(50,truncate=False)"
   ]
  },
  {
   "cell_type": "code",
   "execution_count": 44,
   "metadata": {},
   "outputs": [
    {
     "data": {
      "application/vnd.jupyter.widget-view+json": {
       "model_id": "",
       "version_major": 2,
       "version_minor": 0
      },
      "text/plain": [
       "FloatProgress(value=0.0, bar_style='info', description='Progress:', layout=Layout(height='25px', width='50%'),…"
      ]
     },
     "metadata": {},
     "output_type": "display_data"
    }
   ],
   "source": [
    "base_data_final = base_data_final.join(product_golden_id_lob,'GOLDEN_ID','left')\\\n",
    ".withColumn('MULTIPLE_PRODUCTS',when(col('PRODUCT_COUNT')>2,lit('1')).otherwise(lit('0')))"
   ]
  },
  {
   "cell_type": "code",
   "execution_count": 45,
   "metadata": {},
   "outputs": [
    {
     "data": {
      "application/vnd.jupyter.widget-view+json": {
       "model_id": "",
       "version_major": 2,
       "version_minor": 0
      },
      "text/plain": [
       "FloatProgress(value=0.0, bar_style='info', description='Progress:', layout=Layout(height='25px', width='50%'),…"
      ]
     },
     "metadata": {},
     "output_type": "display_data"
    }
   ],
   "source": [
    "# base_data_final.select('POLICY_NO').distinct().count()"
   ]
  },
  {
   "cell_type": "code",
   "execution_count": 46,
   "metadata": {},
   "outputs": [
    {
     "data": {
      "application/vnd.jupyter.widget-view+json": {
       "model_id": "",
       "version_major": 2,
       "version_minor": 0
      },
      "text/plain": [
       "FloatProgress(value=0.0, bar_style='info', description='Progress:', layout=Layout(height='25px', width='50%'),…"
      ]
     },
     "metadata": {},
     "output_type": "display_data"
    }
   ],
   "source": [
    "\n",
    "hni_customer_data_1 = base_data_final.fillna(value='0',subset=[\"CONTACT_NO\"])\\\n",
    "                                     .fillna(value='.',subset=[\"EMAIL_ID\"])\\\n",
    "                                     .withColumn('HNI_TYPE',when(col('SENIOR_CITIZEN')==1,lit('SENIOR CITIZEN')).otherwise(lit('PRIORITY CUSTOMER')))\\\n",
    "                                     .withColumn('EXCEL_UPLOAD',lit(None))"
   ]
  },
  {
   "cell_type": "code",
   "execution_count": 47,
   "metadata": {},
   "outputs": [
    {
     "data": {
      "application/vnd.jupyter.widget-view+json": {
       "model_id": "",
       "version_major": 2,
       "version_minor": 0
      },
      "text/plain": [
       "FloatProgress(value=0.0, bar_style='info', description='Progress:', layout=Layout(height='25px', width='50%'),…"
      ]
     },
     "metadata": {},
     "output_type": "display_data"
    }
   ],
   "source": [
    "# hni_customer_data_1.select('POLICY_NO').distinct().count()#17710974"
   ]
  },
  {
   "cell_type": "code",
   "execution_count": 48,
   "metadata": {},
   "outputs": [
    {
     "data": {
      "application/vnd.jupyter.widget-view+json": {
       "model_id": "",
       "version_major": 2,
       "version_minor": 0
      },
      "text/plain": [
       "FloatProgress(value=0.0, bar_style='info', description='Progress:', layout=Layout(height='25px', width='50%'),…"
      ]
     },
     "metadata": {},
     "output_type": "display_data"
    }
   ],
   "source": [
    "gscPythonOptions = {\n",
    "         \"url\": \"jdbc:postgresql://10.35.12.194:5432/gpadmin\",\"user\": \"gpcustcoe\",\"password\": \"gpcustcoe@123\",\n",
    "        \"dbtable\": \"staging.hni_vip_red_cust\"} \n",
    "hni_vip_red_cust =sqlContext.read.format(\"jdbc\").options(**gscPythonOptions).load()\\\n",
    ".select('POLICY_NUMBER','CUSTOMER_ID','MOBILE_NUMBER','EMAIL_ID','HNI_TYPE').distinct()\\"
   ]
  },
  {
   "cell_type": "code",
   "execution_count": 49,
   "metadata": {},
   "outputs": [
    {
     "data": {
      "application/vnd.jupyter.widget-view+json": {
       "model_id": "",
       "version_major": 2,
       "version_minor": 0
      },
      "text/plain": [
       "FloatProgress(value=0.0, bar_style='info', description='Progress:', layout=Layout(height='25px', width='50%'),…"
      ]
     },
     "metadata": {},
     "output_type": "display_data"
    }
   ],
   "source": [
    "hni_vip_red_cust_all = upperAllColName(hni_vip_red_cust)\n",
    "\n",
    "hni_vip_red_cust_all = hni_vip_red_cust_all.withColumnRenamed('HNI_TYPE','HNI_TYPE_TABLE_VALUE')\\\n",
    "                                   .withColumnRenamed('CUSTOMER_ID','CUSTOMER_ID_TABLE_VALUE')\\\n",
    "                                   .withColumnRenamed('EMAIL_ID','EMAIL_ID_TABLE_VALUE')\\\n",
    "                                 .withColumnRenamed('POLICY_NUMBER','POLICY_NUMBER_TABLE_VALUE')\\\n",
    "                                 .withColumn('EXCEL_UPLOAD_table',lit('1'))"
   ]
  },
  {
   "cell_type": "code",
   "execution_count": 50,
   "metadata": {},
   "outputs": [
    {
     "data": {
      "application/vnd.jupyter.widget-view+json": {
       "model_id": "",
       "version_major": 2,
       "version_minor": 0
      },
      "text/plain": [
       "FloatProgress(value=0.0, bar_style='info', description='Progress:', layout=Layout(height='25px', width='50%'),…"
      ]
     },
     "metadata": {},
     "output_type": "display_data"
    }
   ],
   "source": [
    "# To fetch only VIP_CUSTOMER update after RED since VIP has highest priority\n",
    "hni_vip_red_cust_2 = hni_vip_red_cust_all.filter(upper(col('HNI_TYPE_TABLE_VALUE')) == 'VIP CUSTOMER')\n",
    "\n",
    "# policy_number text,\n",
    "# customer_id text,\n",
    "# Mobile_number text,\n",
    "# email_id text,\n",
    "\n",
    "# One by one joing with original data to update existing HNI_TYPE\n",
    "# Joining on basis of mobile\n",
    "\n",
    "join_cond = [trim(hni_customer_data_1.CONTACT_NO) == trim(hni_vip_red_cust_2.MOBILE_NUMBER)]\n",
    "\n",
    "hni_vip_red_join_mobile_1 = hni_customer_data_1.join(hni_vip_red_cust_2,join_cond,'left')\n",
    "\n",
    "\n",
    "hni_vip_red_join_mobile_update_1 = hni_vip_red_join_mobile_1.withColumn('HNI_TYPE',\\\n",
    "                                 when(col('HNI_TYPE_TABLE_VALUE').isNull(),lit(col('HNI_TYPE')))\\\n",
    "                                .otherwise(lit(col('HNI_TYPE_TABLE_VALUE'))))\\\n",
    "                                 .withColumn('CONTACT_NO',\\\n",
    "                                 when(col('CONTACT_NO').isNull(),lit(col('MOBILE_NUMBER')))\\\n",
    "                                .otherwise(lit(col('CONTACT_NO'))))\\\n",
    "                                .withColumn('EMAIL_ID',\\\n",
    "                                 when(col('EMAIL_ID').isNull(),lit(col('EMAIL_ID_TABLE_VALUE')))\\\n",
    "                                .otherwise(lit(col('EMAIL_ID'))))\\\n",
    "                                .withColumn('CUSTOMER_ID',\\\n",
    "                                 when(col('CUSTOMER_ID').isNull(),lit(col('CUSTOMER_ID_TABLE_VALUE')))\\\n",
    "                                .otherwise(lit(col('CUSTOMER_ID'))))\\\n",
    "                                .withColumn('POLICY_NO',\\\n",
    "                                 when(col('POLICY_NO').isNull(),lit(col('POLICY_NUMBER_TABLE_VALUE')))\\\n",
    "                                .otherwise(lit(col('POLICY_NO'))))\\\n",
    "                                .withColumn('EXCEL_UPLOAD',\\\n",
    "                                 when(col('EXCEL_UPLOAD').isNull(),lit(col('EXCEL_UPLOAD_table')))\\\n",
    "                                .otherwise(lit(col('EXCEL_UPLOAD'))))\\\n",
    "                                .drop('EXCEL_UPLOAD_table')\\\n",
    "                                .drop('POLICY_NUMBER_TABLE_VALUE')\\\n",
    "                                .drop('MOBILE_NUMBER')\\\n",
    "                                .drop('EMAIL_ID_TABLE_VALUE')\\\n",
    "                                .drop('CUSTOMER_ID_TABLE_VALUE')\\\n",
    "                                .drop('HNI_TYPE_TABLE_VALUE')\n",
    "\n",
    "#hni_vip_red_join_mobile_updated = hni_vip_red_join_mobile_update.withColumnRenamed('HNI_TYPE_MOBILE','HNI_TYPE')\n",
    "\n",
    "# Joining on basis of email_id\n",
    "\n",
    "\n",
    "join_cond = [trim(hni_vip_red_join_mobile_update_1.EMAIL_ID) == trim(hni_vip_red_cust_2.EMAIL_ID_TABLE_VALUE)]\n",
    "\n",
    "hni_vip_red_join_email_1 = hni_vip_red_join_mobile_update_1.join(hni_vip_red_cust_2,join_cond,'left')\\\n",
    "\n",
    "\n",
    "\n",
    "hni_vip_red_join_email_update_1 = hni_vip_red_join_email_1.withColumn('HNI_TYPE',\\\n",
    "                                 when(col('HNI_TYPE_TABLE_VALUE').isNull(),lit(col('HNI_TYPE')))\\\n",
    "                                .otherwise(lit(col('HNI_TYPE_TABLE_VALUE'))))\\\n",
    "                                 .withColumn('CONTACT_NO',\\\n",
    "                                 when(col('CONTACT_NO').isNull(),lit(col('MOBILE_NUMBER')))\\\n",
    "                                .otherwise(lit(col('CONTACT_NO'))))\\\n",
    "                                .withColumn('EMAIL_ID',\\\n",
    "                                 when(col('EMAIL_ID').isNull(),lit(col('EMAIL_ID_TABLE_VALUE')))\\\n",
    "                                .otherwise(lit(col('EMAIL_ID'))))\\\n",
    "                                .withColumn('CUSTOMER_ID',\\\n",
    "                                 when(col('CUSTOMER_ID').isNull(),lit(col('CUSTOMER_ID_TABLE_VALUE')))\\\n",
    "                                .otherwise(lit(col('CUSTOMER_ID'))))\\\n",
    "                                .withColumn('POLICY_NO',\\\n",
    "                                 when(col('POLICY_NO').isNull(),lit(col('POLICY_NUMBER_TABLE_VALUE')))\\\n",
    "                                .otherwise(lit(col('POLICY_NO'))))\\\n",
    "                                .withColumn('EXCEL_UPLOAD',\\\n",
    "                                 when(col('EXCEL_UPLOAD').isNull(),lit(col('EXCEL_UPLOAD_table')))\\\n",
    "                                .otherwise(lit(col('EXCEL_UPLOAD'))))\\\n",
    "                                .drop('EXCEL_UPLOAD_table')\\\n",
    "                                .drop('POLICY_NUMBER_TABLE_VALUE')\\\n",
    "                                .drop('MOBILE_NUMBER')\\\n",
    "                                .drop('EMAIL_ID_TABLE_VALUE')\\\n",
    "                                .drop('CUSTOMER_ID_TABLE_VALUE')\\\n",
    "                                .drop('HNI_TYPE_TABLE_VALUE')\n",
    "\n",
    "\n",
    "\n",
    "\n",
    "# Joining on basis of policy_number\n",
    "\n",
    "join_cond = [trim(hni_vip_red_join_email_update_1.POLICY_NO) == trim(hni_vip_red_cust_2.POLICY_NUMBER_TABLE_VALUE)]\n",
    "\n",
    "hni_vip_red_join_policy_1 = hni_vip_red_join_email_update_1.join(hni_vip_red_cust_2,join_cond,'left')\n",
    "\n",
    "\n",
    "hni_vip_red_join_policy_update_1 = hni_vip_red_join_policy_1.withColumn('HNI_TYPE',\\\n",
    "                                 when(col('HNI_TYPE_TABLE_VALUE').isNull(),lit(col('HNI_TYPE')))\\\n",
    "                                .otherwise(lit(col('HNI_TYPE_TABLE_VALUE'))))\\\n",
    "                                 .withColumn('CONTACT_NO',\\\n",
    "                                 when(col('CONTACT_NO').isNull(),lit(col('MOBILE_NUMBER')))\\\n",
    "                                .otherwise(lit(col('CONTACT_NO'))))\\\n",
    "                                .withColumn('EMAIL_ID',\\\n",
    "                                 when(col('EMAIL_ID').isNull(),lit(col('EMAIL_ID_TABLE_VALUE')))\\\n",
    "                                .otherwise(lit(col('EMAIL_ID'))))\\\n",
    "                                .withColumn('CUSTOMER_ID',\\\n",
    "                                 when(col('CUSTOMER_ID').isNull(),lit(col('CUSTOMER_ID_TABLE_VALUE')))\\\n",
    "                                .otherwise(lit(col('CUSTOMER_ID'))))\\\n",
    "                                .withColumn('POLICY_NO',\\\n",
    "                                 when(col('POLICY_NO').isNull(),lit(col('POLICY_NUMBER_TABLE_VALUE')))\\\n",
    "                                .otherwise(lit(col('POLICY_NO'))))\\\n",
    "                                .withColumn('EXCEL_UPLOAD',\\\n",
    "                                 when(col('EXCEL_UPLOAD').isNull(),lit(col('EXCEL_UPLOAD_table')))\\\n",
    "                                .otherwise(lit(col('EXCEL_UPLOAD'))))\\\n",
    "                                .drop('EXCEL_UPLOAD_table')\\\n",
    "                                .drop('POLICY_NUMBER_TABLE_VALUE')\\\n",
    "                                .drop('MOBILE_NUMBER')\\\n",
    "                                .drop('EMAIL_ID_TABLE_VALUE')\\\n",
    "                                .drop('CUSTOMER_ID_TABLE_VALUE')\\\n",
    "                                .drop('HNI_TYPE_TABLE_VALUE')\n",
    "\n",
    "\n",
    "# Joining on basis of customer_id\n",
    "\n",
    "join_cond = [trim(hni_vip_red_join_policy_update_1.CUSTOMER_ID) == trim(hni_vip_red_cust_2.CUSTOMER_ID_TABLE_VALUE)]\n",
    "\n",
    "hni_vip_red_join_customer_1 = hni_vip_red_join_policy_update_1.join(hni_vip_red_cust_2,join_cond,'left')\n",
    "\n",
    "\n",
    "hni_vip_red_data = hni_vip_red_join_customer_1.withColumn('HNI_TYPE',\\\n",
    "                                 when(col('HNI_TYPE_TABLE_VALUE').isNull(),lit(col('HNI_TYPE')))\\\n",
    "                                .otherwise(lit(col('HNI_TYPE_TABLE_VALUE'))))\\\n",
    "                                 .withColumn('CONTACT_NO',\\\n",
    "                                 when(col('CONTACT_NO').isNull(),lit(col('MOBILE_NUMBER')))\\\n",
    "                                .otherwise(lit(col('CONTACT_NO'))))\\\n",
    "                                .withColumn('EMAIL_ID',\\\n",
    "                                 when(col('EMAIL_ID').isNull(),lit(col('EMAIL_ID_TABLE_VALUE')))\\\n",
    "                                .otherwise(lit(col('EMAIL_ID'))))\\\n",
    "                                .withColumn('CUSTOMER_ID',\\\n",
    "                                 when(col('CUSTOMER_ID').isNull(),lit(col('CUSTOMER_ID_TABLE_VALUE')))\\\n",
    "                                .otherwise(lit(col('CUSTOMER_ID'))))\\\n",
    "                                .withColumn('POLICY_NO',\\\n",
    "                                 when(col('POLICY_NO').isNull(),lit(col('POLICY_NUMBER_TABLE_VALUE')))\\\n",
    "                                .otherwise(lit(col('POLICY_NO'))))\\\n",
    "                                .withColumn('EXCEL_UPLOAD',\\\n",
    "                                 when(col('EXCEL_UPLOAD').isNull(),lit(col('EXCEL_UPLOAD_table')))\\\n",
    "                                .otherwise(lit(col('EXCEL_UPLOAD'))))\\\n",
    "                                .drop('EXCEL_UPLOAD_table')\\\n",
    "                                .drop('POLICY_NUMBER_TABLE_VALUE')\\\n",
    "                                .drop('MOBILE_NUMBER')\\\n",
    "                                .drop('EMAIL_ID_TABLE_VALUE')\\\n",
    "                                .drop('CUSTOMER_ID_TABLE_VALUE')\\\n",
    "                                .drop('HNI_TYPE_TABLE_VALUE')"
   ]
  },
  {
   "cell_type": "code",
   "execution_count": 51,
   "metadata": {},
   "outputs": [
    {
     "data": {
      "application/vnd.jupyter.widget-view+json": {
       "model_id": "",
       "version_major": 2,
       "version_minor": 0
      },
      "text/plain": [
       "FloatProgress(value=0.0, bar_style='info', description='Progress:', layout=Layout(height='25px', width='50%'),…"
      ]
     },
     "metadata": {},
     "output_type": "display_data"
    },
    {
     "name": "stdout",
     "output_type": "stream",
     "text": [
      "['GOLDEN_ID', 'SUM_INSURED', 'NUM_REFERENCE_NO', 'POLICY_NO', 'PRODUCER_CD', 'PRODUCER_NAME', 'CHANNEL', 'CERTIFICATE_NO', 'premium', 'product_cd', 'product_name', 'CUSTOMER_ID', 'POL_INCEPT_DATE', 'POL_EXP_DATE', 'lob', 'commit_timestamp', 'times_renewed_cnt', 'CLIENT_NAME', 'BIRTH_DT', 'CONTACT_NO', 'EMAIL_ID', 'CUSTOMER_DOB', 'TENURE', 'YEARLY_PREMIUM', 'REPORT_DATE', 'CUSTOMER_AGE', 'active_flag', 'ECONOMIC_STATUS', 'VINTAGE_CUSTOMER', 'SENIOR_CITIZEN', 'SUM_INSURED_rule', 'PCG_Customer', 'PRODUCT_COUNT', 'MULTIPLE_PRODUCTS', 'HNI_TYPE', 'EXCEL_UPLOAD']"
     ]
    }
   ],
   "source": [
    "hni_vip_red_data.columns"
   ]
  },
  {
   "cell_type": "code",
   "execution_count": 52,
   "metadata": {},
   "outputs": [
    {
     "data": {
      "application/vnd.jupyter.widget-view+json": {
       "model_id": "",
       "version_major": 2,
       "version_minor": 0
      },
      "text/plain": [
       "FloatProgress(value=0.0, bar_style='info', description='Progress:', layout=Layout(height='25px', width='50%'),…"
      ]
     },
     "metadata": {},
     "output_type": "display_data"
    }
   ],
   "source": [
    "# hni_vip_red_data.select('POLICY_NO').distinct().count()"
   ]
  },
  {
   "cell_type": "code",
   "execution_count": 53,
   "metadata": {},
   "outputs": [
    {
     "data": {
      "application/vnd.jupyter.widget-view+json": {
       "model_id": "",
       "version_major": 2,
       "version_minor": 0
      },
      "text/plain": [
       "FloatProgress(value=0.0, bar_style='info', description='Progress:', layout=Layout(height='25px', width='50%'),…"
      ]
     },
     "metadata": {},
     "output_type": "display_data"
    }
   ],
   "source": [
    "## Red customer"
   ]
  },
  {
   "cell_type": "code",
   "execution_count": 54,
   "metadata": {},
   "outputs": [
    {
     "data": {
      "application/vnd.jupyter.widget-view+json": {
       "model_id": "",
       "version_major": 2,
       "version_minor": 0
      },
      "text/plain": [
       "FloatProgress(value=0.0, bar_style='info', description='Progress:', layout=Layout(height='25px', width='50%'),…"
      ]
     },
     "metadata": {},
     "output_type": "display_data"
    }
   ],
   "source": [
    "# Step 15 -- read mastercraft_bulk_details_prod with latest CUSTOMER_CREATION_DATE\n",
    "\n",
    "gscPythonOptions = {\n",
    "    \"url\": \"jdbc:postgresql://10.35.12.194:5432/gpadmin\",\n",
    "    \"user\": \"gpcustcoe\",\n",
    "    \"password\": \"gpcustcoe@123\",\n",
    "    \"dbschema\": \"public\",\n",
    "    \"server.port\":\"1160-1180\",\n",
    "    \"dbtable\": \"marketing_icrm_mph_policy\",\n",
    "    \"partitionColumn\":\"row_num\",\n",
    "    \"partitions\":16 }\n",
    "\n",
    "icrm_policy = sqlContext.read.format(\"greenplum\").options(**gscPythonOptions).load().selectExpr(\"name\", \"id\",'certificate_no','customer_code')\n",
    "icrm_policy_1 = icrm_policy.withColumnRenamed('name', 'POLICY_NO')\\\n",
    "                           .withColumnRenamed('id', 'POLICY_ID')\n",
    "icrm_policy_1A = icrm_policy_1.groupBy('POLICY_ID').agg(sf.max('POLICY_NO').alias('POLICY_NO'),sf.max('certificate_no').alias('CERTIFICATE_NO'),sf.max('customer_code').alias('CUSTOMER_ID'))\n",
    "icrm_policy_2 = icrm_policy_1A.repartition(\"CUSTOMER_ID\")"
   ]
  },
  {
   "cell_type": "code",
   "execution_count": 55,
   "metadata": {},
   "outputs": [
    {
     "data": {
      "application/vnd.jupyter.widget-view+json": {
       "model_id": "",
       "version_major": 2,
       "version_minor": 0
      },
      "text/plain": [
       "FloatProgress(value=0.0, bar_style='info', description='Progress:', layout=Layout(height='25px', width='50%'),…"
      ]
     },
     "metadata": {},
     "output_type": "display_data"
    }
   ],
   "source": [
    "# Step 16 -- read mastercraft_bulk_details_prod with latest CUSTOMER_CREATION_DATE\n",
    "# Read \"marketing_icrm_mph_policy_cases_1_c\" and map it with \"icrm_policy\" created before\n",
    "gscPythonOptions = {\n",
    "    \"url\": \"jdbc:postgresql://10.35.12.194:5432/gpadmin\",\n",
    "    \"user\": \"gpcustcoe\",\n",
    "    \"password\": \"gpcustcoe@123\",\n",
    "    \"dbschema\": \"public\",\n",
    "    \"server.port\":\"1160-1180\",\n",
    "    \"dbtable\": \"marketing_icrm_mph_policy_cases_1_c\",\n",
    "    \"partitionColumn\":\"row_num\",\n",
    "    \"partitions\":16 }\n",
    "\n",
    "icrm_policy_cases_1_c = sqlContext.read.format(\"greenplum\").options(**gscPythonOptions).load().\\\n",
    "                    selectExpr(\"mph_policy_cases_1mph_policy_ida\", \"mph_policy_cases_1cases_idb\")\n",
    "icrm_policy_cases_1_c = icrm_policy_cases_1_c.withColumnRenamed('mph_policy_cases_1mph_policy_ida', 'POLICY_ID')\n",
    "icrm_policy_cases_1_c = icrm_policy_cases_1_c.withColumnRenamed('mph_policy_cases_1cases_idb', 'CASE_ID')\n"
   ]
  },
  {
   "cell_type": "code",
   "execution_count": 56,
   "metadata": {},
   "outputs": [
    {
     "data": {
      "application/vnd.jupyter.widget-view+json": {
       "model_id": "",
       "version_major": 2,
       "version_minor": 0
      },
      "text/plain": [
       "FloatProgress(value=0.0, bar_style='info', description='Progress:', layout=Layout(height='25px', width='50%'),…"
      ]
     },
     "metadata": {},
     "output_type": "display_data"
    }
   ],
   "source": [
    "# Mapping \"icrm_policy_cases\" with \"icrm_policy\" and store in the same \"icrm_policy\" df\n",
    "\n",
    "icrm_policy_cases = icrm_policy_2.join(icrm_policy_cases_1_c,icrm_policy_2.POLICY_ID==icrm_policy_cases_1_c.POLICY_ID, \"left_outer\").drop(icrm_policy_cases_1_c.POLICY_ID)"
   ]
  },
  {
   "cell_type": "code",
   "execution_count": 57,
   "metadata": {},
   "outputs": [
    {
     "data": {
      "application/vnd.jupyter.widget-view+json": {
       "model_id": "",
       "version_major": 2,
       "version_minor": 0
      },
      "text/plain": [
       "FloatProgress(value=0.0, bar_style='info', description='Progress:', layout=Layout(height='25px', width='50%'),…"
      ]
     },
     "metadata": {},
     "output_type": "display_data"
    }
   ],
   "source": [
    "# Get the account table and inner join with icrm_policy_cases table created above.\n",
    "\n",
    "gscPythonOptions = {\n",
    "    \"url\": \"jdbc:postgresql://10.35.12.194:5432/gpadmin\",\n",
    "    \"user\": \"gpcustcoe\",\n",
    "    \"password\": \"gpcustcoe@123\",\n",
    "    \"dbschema\": \"public\",\n",
    "    \"server.port\":\"1160-1180\",\n",
    "    \"dbtable\": \"marketing_icrm_accounts\", \n",
    "    \"partitionColumn\":\"row_num\",\n",
    "    \"partitions\":16 }\n",
    "\n",
    "icrm_account = sqlContext.read.format(\"greenplum\").options(**gscPythonOptions).load()\\\n",
    ".filter(col('id').isNotNull()).selectExpr('id','customer_code')\n",
    "icrm_account = icrm_account.withColumnRenamed('id','ACCOUNT_ID')"
   ]
  },
  {
   "cell_type": "code",
   "execution_count": 58,
   "metadata": {},
   "outputs": [
    {
     "data": {
      "application/vnd.jupyter.widget-view+json": {
       "model_id": "",
       "version_major": 2,
       "version_minor": 0
      },
      "text/plain": [
       "FloatProgress(value=0.0, bar_style='info', description='Progress:', layout=Layout(height='25px', width='50%'),…"
      ]
     },
     "metadata": {},
     "output_type": "display_data"
    }
   ],
   "source": [
    "# Step 15 -- read mastercraft_bulk_details_prod with latest CUSTOMER_CREATION_DATE\n",
    "# marketing_icrm_cases -- Containing the complaints data\n",
    "gscPythonOptions = {\n",
    "    \"url\": \"jdbc:postgresql://10.35.12.194:5432/gpadmin\",\n",
    "    \"user\": \"gpcustcoe\",\n",
    "    \"password\": \"gpcustcoe@123\",\n",
    "    \"dbschema\": \"public\",\n",
    "    \"server.port\":\"1160-1180\",\n",
    "    \"dbtable\": \"marketing_icrm_cases\", \n",
    "    \"partitionColumn\":\"row_num\",\n",
    "    \"partitions\":16 }\n",
    "\n",
    "icrm_ticket_closed_cases = sqlContext.read.format(\"greenplum\").options(**gscPythonOptions).load()\\\n",
    ".filter(col('service_status').isin('Closed'))\\\n",
    ".selectExpr('id' ,'account_id','case_closure_date','INTERACTION_CATEGORY', 'source','irda_token_no','deleted')\n",
    "\n",
    "icrm_ticket_closed_cases = icrm_ticket_closed_cases.withColumnRenamed('id', 'CASE_ID') #Changed from POLICY_ID to CASE_ID\n",
    "icrm_ticket_closed_cases = icrm_ticket_closed_cases.withColumnRenamed('case_closure_date', 'TICKET_CLOSING_DATE')\n",
    "icrm_ticket_closed_cases = icrm_ticket_closed_cases.withColumnRenamed('source', 'ESCALATED_SR_CUSTOMERS')\n",
    "\n",
    "icrm_ticket_closed_cases = icrm_ticket_closed_cases.withColumn('TICKET_CLOSING_DATE',icrm_ticket_closed_cases['TICKET_CLOSING_DATE'].substr(1, 10))\n",
    "icrm_ticket_closed_cases = icrm_ticket_closed_cases.withColumn('TICKET_CLOSING_DATE', to_date(col('TICKET_CLOSING_DATE')))"
   ]
  },
  {
   "cell_type": "code",
   "execution_count": 59,
   "metadata": {},
   "outputs": [
    {
     "data": {
      "application/vnd.jupyter.widget-view+json": {
       "model_id": "",
       "version_major": 2,
       "version_minor": 0
      },
      "text/plain": [
       "FloatProgress(value=0.0, bar_style='info', description='Progress:', layout=Layout(height='25px', width='50%'),…"
      ]
     },
     "metadata": {},
     "output_type": "display_data"
    }
   ],
   "source": [
    "from pyspark.sql.functions import col, max as max_\n",
    "icrm_ticket_closed_cases = icrm_ticket_closed_cases.groupBy('CASE_ID','account_id','INTERACTION_CATEGORY','ESCALATED_SR_CUSTOMERS','irda_token_no','deleted').agg(max_('TICKET_CLOSING_DATE').alias('TICKET_CLOSING_DATE'))\n",
    "\n",
    "cases_account = icrm_account.join(icrm_ticket_closed_cases, icrm_account.ACCOUNT_ID==icrm_ticket_closed_cases.account_id, \"inner\").drop(icrm_ticket_closed_cases.account_id)\n"
   ]
  },
  {
   "cell_type": "code",
   "execution_count": 60,
   "metadata": {},
   "outputs": [
    {
     "data": {
      "application/vnd.jupyter.widget-view+json": {
       "model_id": "",
       "version_major": 2,
       "version_minor": 0
      },
      "text/plain": [
       "FloatProgress(value=0.0, bar_style='info', description='Progress:', layout=Layout(height='25px', width='50%'),…"
      ]
     },
     "metadata": {},
     "output_type": "display_data"
    }
   ],
   "source": [
    "\n",
    "ticket_information = icrm_policy_cases.join(cases_account, icrm_policy_cases.CASE_ID == cases_account.CASE_ID, 'left').drop(cases_account.CASE_ID)\n"
   ]
  },
  {
   "cell_type": "code",
   "execution_count": 61,
   "metadata": {},
   "outputs": [
    {
     "data": {
      "application/vnd.jupyter.widget-view+json": {
       "model_id": "",
       "version_major": 2,
       "version_minor": 0
      },
      "text/plain": [
       "FloatProgress(value=0.0, bar_style='info', description='Progress:', layout=Layout(height='25px', width='50%'),…"
      ]
     },
     "metadata": {},
     "output_type": "display_data"
    }
   ],
   "source": [
    "ticket_information_1 = ticket_information.filter((col('irda_token_no')!='') | (col('ESCALATED_SR_CUSTOMERS')=='hdcs114') |\\\n",
    "                          (col('ESCALATED_SR_CUSTOMERS')=='ltsrmng120')| (col('ESCALATED_SR_CUSTOMERS')=='mlsrmng119') |\\\n",
    "                          (col('ESCALATED_SR_CUSTOMERS')=='mngrcs113') | (col('ESCALATED_SR_CUSTOMERS')=='nch124') |\\\n",
    "                          (col('ESCALATED_SR_CUSTOMERS')=='smedia118')| (col('ESCALATED_SR_CUSTOMERS')=='smedialocobuzz2503'))"
   ]
  },
  {
   "cell_type": "code",
   "execution_count": 62,
   "metadata": {},
   "outputs": [
    {
     "data": {
      "application/vnd.jupyter.widget-view+json": {
       "model_id": "",
       "version_major": 2,
       "version_minor": 0
      },
      "text/plain": [
       "FloatProgress(value=0.0, bar_style='info', description='Progress:', layout=Layout(height='25px', width='50%'),…"
      ]
     },
     "metadata": {},
     "output_type": "display_data"
    },
    {
     "name": "stdout",
     "output_type": "stream",
     "text": [
      "2021-03-15"
     ]
    }
   ],
   "source": [
    "three_year_old_date = datetime.date.today() - datetime.timedelta(days=1095)\n",
    "last_three_year = str(three_year_old_date)\n",
    "print(last_three_year)\n",
    "\n",
    "\n",
    "ticket_information_final = ticket_information_1.filter((col('TICKET_CLOSING_DATE')>= last_three_year))"
   ]
  },
  {
   "cell_type": "code",
   "execution_count": 63,
   "metadata": {},
   "outputs": [
    {
     "data": {
      "application/vnd.jupyter.widget-view+json": {
       "model_id": "",
       "version_major": 2,
       "version_minor": 0
      },
      "text/plain": [
       "FloatProgress(value=0.0, bar_style='info', description='Progress:', layout=Layout(height='25px', width='50%'),…"
      ]
     },
     "metadata": {},
     "output_type": "display_data"
    },
    {
     "name": "stdout",
     "output_type": "stream",
     "text": [
      "12294"
     ]
    }
   ],
   "source": [
    "ticket_information_final.persist()\n",
    "ticket_information_final.count()"
   ]
  },
  {
   "cell_type": "code",
   "execution_count": 64,
   "metadata": {},
   "outputs": [
    {
     "data": {
      "application/vnd.jupyter.widget-view+json": {
       "model_id": "",
       "version_major": 2,
       "version_minor": 0
      },
      "text/plain": [
       "FloatProgress(value=0.0, bar_style='info', description='Progress:', layout=Layout(height='25px', width='50%'),…"
      ]
     },
     "metadata": {},
     "output_type": "display_data"
    },
    {
     "name": "stdout",
     "output_type": "stream",
     "text": [
      "['POLICY_ID', 'POLICY_NO', 'CERTIFICATE_NO', 'CUSTOMER_ID', 'CASE_ID', 'ACCOUNT_ID', 'customer_code', 'INTERACTION_CATEGORY', 'ESCALATED_SR_CUSTOMERS', 'irda_token_no', 'deleted', 'TICKET_CLOSING_DATE']"
     ]
    }
   ],
   "source": [
    "ticket_information_final.columns"
   ]
  },
  {
   "cell_type": "code",
   "execution_count": 65,
   "metadata": {},
   "outputs": [
    {
     "data": {
      "application/vnd.jupyter.widget-view+json": {
       "model_id": "",
       "version_major": 2,
       "version_minor": 0
      },
      "text/plain": [
       "FloatProgress(value=0.0, bar_style='info', description='Progress:', layout=Layout(height='25px', width='50%'),…"
      ]
     },
     "metadata": {},
     "output_type": "display_data"
    }
   ],
   "source": [
    "ticket_information_final=ticket_information_final.withColumn('CERTIFICATE_NO',when(col('CERTIFICATE_NO').isin('0','0.0','/00000','000000','00000000'),lit('00000000')).otherwise(lit(col('certificate_no'))))\\\n",
    ".withColumn('POLICY_NO',lpad(col('POLICY_NO'),10,'0'))\n",
    "\n",
    "hni_vip_red_data=hni_vip_red_data.withColumn('CERTIFICATE_NO',when(col('CERTIFICATE_NO').isin('0','0.0','/00000','000000','00000000'),lit('00000000')).otherwise(lit(col('certificate_no'))))\\\n",
    ".withColumn('POLICY_NO',lpad(col('POLICY_NO'),10,'0'))"
   ]
  },
  {
   "cell_type": "code",
   "execution_count": 66,
   "metadata": {},
   "outputs": [
    {
     "data": {
      "application/vnd.jupyter.widget-view+json": {
       "model_id": "",
       "version_major": 2,
       "version_minor": 0
      },
      "text/plain": [
       "FloatProgress(value=0.0, bar_style='info', description='Progress:', layout=Layout(height='25px', width='50%'),…"
      ]
     },
     "metadata": {},
     "output_type": "display_data"
    }
   ],
   "source": [
    "ticket_information_final_icrm = ticket_information_final.filter(ticket_information_final.CUSTOMER_ID.like('ICRM%'))\n",
    "ticket_information_final_non_icrm = ticket_information_final.filter(~ticket_information_final.CUSTOMER_ID.like('ICRM%'))"
   ]
  },
  {
   "cell_type": "code",
   "execution_count": 67,
   "metadata": {},
   "outputs": [
    {
     "data": {
      "application/vnd.jupyter.widget-view+json": {
       "model_id": "",
       "version_major": 2,
       "version_minor": 0
      },
      "text/plain": [
       "FloatProgress(value=0.0, bar_style='info', description='Progress:', layout=Layout(height='25px', width='50%'),…"
      ]
     },
     "metadata": {},
     "output_type": "display_data"
    }
   ],
   "source": [
    "product_union_icrm_ticket =  hni_vip_red_data.join(ticket_information_final_icrm,\\\n",
    "                                                     (hni_vip_red_data.POLICY_NO==ticket_information_final_icrm.POLICY_NO)\\\n",
    "                                                   &(trim(hni_vip_red_data.CERTIFICATE_NO)==trim(ticket_information_final_icrm.CERTIFICATE_NO)),'left') \\\n",
    ".drop(ticket_information_final_icrm.CUSTOMER_ID).drop(ticket_information_final_icrm.POLICY_NO).drop(ticket_information_final_icrm.CERTIFICATE_NO)"
   ]
  },
  {
   "cell_type": "code",
   "execution_count": 68,
   "metadata": {},
   "outputs": [
    {
     "data": {
      "application/vnd.jupyter.widget-view+json": {
       "model_id": "",
       "version_major": 2,
       "version_minor": 0
      },
      "text/plain": [
       "FloatProgress(value=0.0, bar_style='info', description='Progress:', layout=Layout(height='25px', width='50%'),…"
      ]
     },
     "metadata": {},
     "output_type": "display_data"
    }
   ],
   "source": [
    "product_union_non_icrm_ticket =  hni_vip_red_data.join(ticket_information_final_non_icrm,\\\n",
    "                                                     (hni_vip_red_data.POLICY_NO==ticket_information_final_non_icrm.POLICY_NO)\\\n",
    "                                                   &(trim(hni_vip_red_data.CERTIFICATE_NO)==trim(ticket_information_final_non_icrm.CERTIFICATE_NO)),'left') \\\n",
    ".drop(ticket_information_final_non_icrm.CUSTOMER_ID).drop(ticket_information_final_non_icrm.POLICY_NO).drop(ticket_information_final_non_icrm.CERTIFICATE_NO)\n"
   ]
  },
  {
   "cell_type": "code",
   "execution_count": 69,
   "metadata": {},
   "outputs": [
    {
     "data": {
      "application/vnd.jupyter.widget-view+json": {
       "model_id": "",
       "version_major": 2,
       "version_minor": 0
      },
      "text/plain": [
       "FloatProgress(value=0.0, bar_style='info', description='Progress:', layout=Layout(height='25px', width='50%'),…"
      ]
     },
     "metadata": {},
     "output_type": "display_data"
    }
   ],
   "source": [
    "hni_vip_red_data=product_union_icrm_ticket.union(product_union_non_icrm_ticket)"
   ]
  },
  {
   "cell_type": "code",
   "execution_count": 70,
   "metadata": {},
   "outputs": [
    {
     "data": {
      "application/vnd.jupyter.widget-view+json": {
       "model_id": "",
       "version_major": 2,
       "version_minor": 0
      },
      "text/plain": [
       "FloatProgress(value=0.0, bar_style='info', description='Progress:', layout=Layout(height='25px', width='50%'),…"
      ]
     },
     "metadata": {},
     "output_type": "display_data"
    }
   ],
   "source": [
    "# hni_vip_red_data.select('POLICY_NO').distinct().count()"
   ]
  },
  {
   "cell_type": "code",
   "execution_count": 71,
   "metadata": {},
   "outputs": [
    {
     "data": {
      "application/vnd.jupyter.widget-view+json": {
       "model_id": "",
       "version_major": 2,
       "version_minor": 0
      },
      "text/plain": [
       "FloatProgress(value=0.0, bar_style='info', description='Progress:', layout=Layout(height='25px', width='50%'),…"
      ]
     },
     "metadata": {},
     "output_type": "display_data"
    }
   ],
   "source": [
    "##hni_vip_red_data.columns"
   ]
  },
  {
   "cell_type": "code",
   "execution_count": 72,
   "metadata": {},
   "outputs": [
    {
     "data": {
      "application/vnd.jupyter.widget-view+json": {
       "model_id": "",
       "version_major": 2,
       "version_minor": 0
      },
      "text/plain": [
       "FloatProgress(value=0.0, bar_style='info', description='Progress:', layout=Layout(height='25px', width='50%'),…"
      ]
     },
     "metadata": {},
     "output_type": "display_data"
    }
   ],
   "source": [
    "gscPythonOptions = {\n",
    "          \"url\": \"jdbc:postgresql://10.35.12.194:5432/gpadmin\",\n",
    "          \"user\": \"gpcustcoe\",\n",
    "          \"password\": \"gpcustcoe@123\",\n",
    "         \"dbschema\":\"public\",\n",
    "         \"dbtable\": \"salesforce_case\",\n",
    "         \"server.port\":\"1150-1170\"} \n",
    "\n",
    "salesforce_red_cust =sqlContext.read.format(\"greenplum\").options(**gscPythonOptions).load()\\\n",
    ".filter(col('ticket_chanel__c')=='Grievance')\\\n",
    ".filter(lower(col('status')).isin('resolved','closed'))\\\n",
    ".filter(col('policy_number__c').isNotNull())\\\n",
    ".select('policy_number__c','certificate_number__c','customer_code__c','ticket_status__c','ticket_chanel__c','closeddate','status_resolve_date__c').distinct()\\"
   ]
  },
  {
   "cell_type": "code",
   "execution_count": 73,
   "metadata": {},
   "outputs": [
    {
     "data": {
      "application/vnd.jupyter.widget-view+json": {
       "model_id": "",
       "version_major": 2,
       "version_minor": 0
      },
      "text/plain": [
       "FloatProgress(value=0.0, bar_style='info', description='Progress:', layout=Layout(height='25px', width='50%'),…"
      ]
     },
     "metadata": {},
     "output_type": "display_data"
    }
   ],
   "source": [
    "three_year_old_date = datetime.date.today() - datetime.timedelta(days=1095)\n",
    "last_three_year = str(three_year_old_date)\n",
    "\n",
    "salesforce_red_cust = salesforce_red_cust.filter((col('status_resolve_date__c')>= last_three_year))"
   ]
  },
  {
   "cell_type": "code",
   "execution_count": 74,
   "metadata": {},
   "outputs": [
    {
     "data": {
      "application/vnd.jupyter.widget-view+json": {
       "model_id": "",
       "version_major": 2,
       "version_minor": 0
      },
      "text/plain": [
       "FloatProgress(value=0.0, bar_style='info', description='Progress:', layout=Layout(height='25px', width='50%'),…"
      ]
     },
     "metadata": {},
     "output_type": "display_data"
    }
   ],
   "source": [
    "# salesforce_red_cust.persist()\n",
    "# salesforce_red_cust.count()"
   ]
  },
  {
   "cell_type": "code",
   "execution_count": 75,
   "metadata": {},
   "outputs": [
    {
     "data": {
      "application/vnd.jupyter.widget-view+json": {
       "model_id": "",
       "version_major": 2,
       "version_minor": 0
      },
      "text/plain": [
       "FloatProgress(value=0.0, bar_style='info', description='Progress:', layout=Layout(height='25px', width='50%'),…"
      ]
     },
     "metadata": {},
     "output_type": "display_data"
    }
   ],
   "source": [
    "salesforce_red_cust=salesforce_red_cust.withColumn('certificate_number__c',when((col('certificate_number__c').isin('0','0.0','/00000','000000','00000000'))|(col('certificate_number__c').isNull()),lit('00000000')).otherwise(lit(col('certificate_number__c'))))\\\n",
    ".withColumn('policy_number__c',lpad(col('policy_number__c'),10,'0'))"
   ]
  },
  {
   "cell_type": "code",
   "execution_count": 76,
   "metadata": {},
   "outputs": [
    {
     "data": {
      "application/vnd.jupyter.widget-view+json": {
       "model_id": "",
       "version_major": 2,
       "version_minor": 0
      },
      "text/plain": [
       "FloatProgress(value=0.0, bar_style='info', description='Progress:', layout=Layout(height='25px', width='50%'),…"
      ]
     },
     "metadata": {},
     "output_type": "display_data"
    }
   ],
   "source": [
    "# salesforce_red_cust_without_custid = salesforce_red_cust.filter(product_union.CUSTOMER_ID.like('T-%'))\n",
    "# salesforce_red_cust_with_custid = salesforce_red_cust.filter(~product_union.CUSTOMER_ID.like('T-%'))"
   ]
  },
  {
   "cell_type": "code",
   "execution_count": 77,
   "metadata": {},
   "outputs": [
    {
     "data": {
      "application/vnd.jupyter.widget-view+json": {
       "model_id": "",
       "version_major": 2,
       "version_minor": 0
      },
      "text/plain": [
       "FloatProgress(value=0.0, bar_style='info', description='Progress:', layout=Layout(height='25px', width='50%'),…"
      ]
     },
     "metadata": {},
     "output_type": "display_data"
    }
   ],
   "source": [
    "join_cond = [trim(hni_vip_red_data.CUSTOMER_ID) == trim(salesforce_red_cust.customer_code__c)]\n",
    "\n",
    "hni_vip_red_data=hni_vip_red_data.join(salesforce_red_cust.select('customer_code__c','ticket_chanel__c'),join_cond,'left')"
   ]
  },
  {
   "cell_type": "code",
   "execution_count": 78,
   "metadata": {},
   "outputs": [
    {
     "data": {
      "application/vnd.jupyter.widget-view+json": {
       "model_id": "",
       "version_major": 2,
       "version_minor": 0
      },
      "text/plain": [
       "FloatProgress(value=0.0, bar_style='info', description='Progress:', layout=Layout(height='25px', width='50%'),…"
      ]
     },
     "metadata": {},
     "output_type": "display_data"
    }
   ],
   "source": [
    "hni_vip_red_data= hni_vip_red_data.withColumn('HNI_TYPE',when(col('customer_code__c').isNotNull(),lit('RED CUSTOMER')).otherwise(col('HNI_TYPE')))"
   ]
  },
  {
   "cell_type": "code",
   "execution_count": 79,
   "metadata": {},
   "outputs": [
    {
     "data": {
      "application/vnd.jupyter.widget-view+json": {
       "model_id": "",
       "version_major": 2,
       "version_minor": 0
      },
      "text/plain": [
       "FloatProgress(value=0.0, bar_style='info', description='Progress:', layout=Layout(height='25px', width='50%'),…"
      ]
     },
     "metadata": {},
     "output_type": "display_data"
    }
   ],
   "source": [
    "# hni_vip_red_data=hni_vip_red_data.withColumn('ACTION_TYPE',lit('ADDED'))"
   ]
  },
  {
   "cell_type": "code",
   "execution_count": 80,
   "metadata": {},
   "outputs": [
    {
     "data": {
      "application/vnd.jupyter.widget-view+json": {
       "model_id": "",
       "version_major": 2,
       "version_minor": 0
      },
      "text/plain": [
       "FloatProgress(value=0.0, bar_style='info', description='Progress:', layout=Layout(height='25px', width='50%'),…"
      ]
     },
     "metadata": {},
     "output_type": "display_data"
    }
   ],
   "source": [
    "hni_vip_red_data=hni_vip_red_data.withColumn('Complaint_Customers',when((col('TICKET_CLOSING_DATE') >= last_three_year) & (col('irda_token_no')!='') &\\\n",
    "                        (col('deleted') == '0.0'), lit('1'))\\\n",
    "                        .when(col('ticket_chanel__c')=='Grievance',lit(1)).otherwise(lit('0')))\\\n",
    ".withColumn('Escalated_SRs',when((col('TICKET_CLOSING_DATE') >= last_three_year) & (col('deleted') == '0.0') & (col('ESCALATED_SR_CUSTOMERS')=='hdcs114') |\\\n",
    "                        (col('ESCALATED_SR_CUSTOMERS')=='ltsrmng120')| (col('ESCALATED_SR_CUSTOMERS')=='mlsrmng119') |\\\n",
    "                        (col('ESCALATED_SR_CUSTOMERS')=='mngrcs113') | (col('ESCALATED_SR_CUSTOMERS')=='nch124') |\\\n",
    "                        (col('ESCALATED_SR_CUSTOMERS')=='smedia118')| (col('ESCALATED_SR_CUSTOMERS')=='smedialocobuzz2503'),\\\n",
    "                        lit('1')).otherwise(lit(None)))\\"
   ]
  },
  {
   "cell_type": "code",
   "execution_count": 81,
   "metadata": {},
   "outputs": [
    {
     "data": {
      "application/vnd.jupyter.widget-view+json": {
       "model_id": "",
       "version_major": 2,
       "version_minor": 0
      },
      "text/plain": [
       "FloatProgress(value=0.0, bar_style='info', description='Progress:', layout=Layout(height='25px', width='50%'),…"
      ]
     },
     "metadata": {},
     "output_type": "display_data"
    }
   ],
   "source": [
    "# hni_vip_red_data.groupBy('Escalated_SRs').agg(countDistinct('GOLDEN_ID')).show()"
   ]
  },
  {
   "cell_type": "code",
   "execution_count": 82,
   "metadata": {},
   "outputs": [
    {
     "data": {
      "application/vnd.jupyter.widget-view+json": {
       "model_id": "",
       "version_major": 2,
       "version_minor": 0
      },
      "text/plain": [
       "FloatProgress(value=0.0, bar_style='info', description='Progress:', layout=Layout(height='25px', width='50%'),…"
      ]
     },
     "metadata": {},
     "output_type": "display_data"
    }
   ],
   "source": [
    "hni_vip_red_data= hni_vip_red_data.withColumn('HNI_TYPE',when(coalesce(col('Escalated_SRs'),col('Complaint_Customers'))==1,lit('RED CUSTOMER')).otherwise(col('HNI_TYPE')))"
   ]
  },
  {
   "cell_type": "code",
   "execution_count": 83,
   "metadata": {},
   "outputs": [
    {
     "data": {
      "application/vnd.jupyter.widget-view+json": {
       "model_id": "",
       "version_major": 2,
       "version_minor": 0
      },
      "text/plain": [
       "FloatProgress(value=0.0, bar_style='info', description='Progress:', layout=Layout(height='25px', width='50%'),…"
      ]
     },
     "metadata": {},
     "output_type": "display_data"
    }
   ],
   "source": [
    "hni_vip_red_data=hni_vip_red_data.withColumn('AMEX_PRODUCER',when(col('PRODUCER_CD').isin('2225360000','2225360001','2226250000','2225360002','2225360003'),'1')\\\n",
    "                            .otherwise('0'))\n",
    "\n",
    "hni_vip_red_data=hni_vip_red_data.withColumn('MUTHOOT_PRODUCER',when(col('PRODUCER_CD').isin('0018774004'),'1')\\\n",
    "                            .otherwise('0'))"
   ]
  },
  {
   "cell_type": "code",
   "execution_count": 84,
   "metadata": {},
   "outputs": [
    {
     "data": {
      "application/vnd.jupyter.widget-view+json": {
       "model_id": "",
       "version_major": 2,
       "version_minor": 0
      },
      "text/plain": [
       "FloatProgress(value=0.0, bar_style='info', description='Progress:', layout=Layout(height='25px', width='50%'),…"
      ]
     },
     "metadata": {},
     "output_type": "display_data"
    }
   ],
   "source": [
    "# hni_vip_red_data = hni_vip_red_data\\\n",
    "# .withColumn('HNI_RULE',rule_udf(col('ECONOMIC_STATUS'),col('VINTAGE_CUSTOMER'),col('SENIOR_CITIZEN'),col('SUM_INSURED_rule'),\\\n",
    "#                             col('PCG_Customer'),col('MULTIPLE_PRODUCTS'),col('EXCEL_UPLOAD')))\n",
    "\n",
    "\n",
    "hni_vip_red_data = hni_vip_red_data\\\n",
    ".withColumn('HNI_RULE',rule_udf(col('ECONOMIC_STATUS'),col('VINTAGE_CUSTOMER'),col('SENIOR_CITIZEN'),col('SUM_INSURED_rule'),\\\n",
    "                            col('PCG_Customer'),col('Complaint_Customers'),col('Escalated_SRs'),col('MULTIPLE_PRODUCTS'),col('EXCEL_UPLOAD')))\n",
    "# to_be_inserted.persist(pyspark.StorageLevel.MEMORY_AND_DISK)\n",
    "##hni_vip_red_data.columns"
   ]
  },
  {
   "cell_type": "code",
   "execution_count": 85,
   "metadata": {},
   "outputs": [
    {
     "data": {
      "application/vnd.jupyter.widget-view+json": {
       "model_id": "",
       "version_major": 2,
       "version_minor": 0
      },
      "text/plain": [
       "FloatProgress(value=0.0, bar_style='info', description='Progress:', layout=Layout(height='25px', width='50%'),…"
      ]
     },
     "metadata": {},
     "output_type": "display_data"
    }
   ],
   "source": [
    "##hni_vip_red_data.columns"
   ]
  },
  {
   "cell_type": "code",
   "execution_count": 86,
   "metadata": {},
   "outputs": [
    {
     "data": {
      "application/vnd.jupyter.widget-view+json": {
       "model_id": "",
       "version_major": 2,
       "version_minor": 0
      },
      "text/plain": [
       "FloatProgress(value=0.0, bar_style='info', description='Progress:', layout=Layout(height='25px', width='50%'),…"
      ]
     },
     "metadata": {},
     "output_type": "display_data"
    }
   ],
   "source": [
    "# hni_vip_red_data.select('POLICY_NO').distinct().count()"
   ]
  },
  {
   "cell_type": "code",
   "execution_count": 87,
   "metadata": {},
   "outputs": [
    {
     "data": {
      "application/vnd.jupyter.widget-view+json": {
       "model_id": "",
       "version_major": 2,
       "version_minor": 0
      },
      "text/plain": [
       "FloatProgress(value=0.0, bar_style='info', description='Progress:', layout=Layout(height='25px', width='50%'),…"
      ]
     },
     "metadata": {},
     "output_type": "display_data"
    }
   ],
   "source": [
    "## Other flagging logic"
   ]
  },
  {
   "cell_type": "code",
   "execution_count": 88,
   "metadata": {},
   "outputs": [
    {
     "data": {
      "application/vnd.jupyter.widget-view+json": {
       "model_id": "",
       "version_major": 2,
       "version_minor": 0
      },
      "text/plain": [
       "FloatProgress(value=0.0, bar_style='info', description='Progress:', layout=Layout(height='25px', width='50%'),…"
      ]
     },
     "metadata": {},
     "output_type": "display_data"
    }
   ],
   "source": [
    "gscPythonOptions = {\n",
    "    \"url\": \"jdbc:postgresql://10.35.12.194:5432/gpadmin\",\n",
    "    \"user\": \"gpcustcoe\",\n",
    "    \"password\": \"gpcustcoe@123\",\n",
    "    \"dbschema\": \"customermart\",\n",
    "    \"server.port\":\"1160-1180\",\n",
    "    \"dbtable\": \"input_data_hni\",\n",
    "  }\n",
    "\n",
    "input_other_flag=sqlContext.read.format(\"greenplum\").options(**gscPythonOptions).load()\\\n",
    ".distinct()"
   ]
  },
  {
   "cell_type": "code",
   "execution_count": 89,
   "metadata": {},
   "outputs": [
    {
     "data": {
      "application/vnd.jupyter.widget-view+json": {
       "model_id": "",
       "version_major": 2,
       "version_minor": 0
      },
      "text/plain": [
       "FloatProgress(value=0.0, bar_style='info', description='Progress:', layout=Layout(height='25px', width='50%'),…"
      ]
     },
     "metadata": {},
     "output_type": "display_data"
    }
   ],
   "source": [
    "##input_other_flag.columns"
   ]
  },
  {
   "cell_type": "code",
   "execution_count": 90,
   "metadata": {},
   "outputs": [
    {
     "data": {
      "application/vnd.jupyter.widget-view+json": {
       "model_id": "",
       "version_major": 2,
       "version_minor": 0
      },
      "text/plain": [
       "FloatProgress(value=0.0, bar_style='info', description='Progress:', layout=Layout(height='25px', width='50%'),…"
      ]
     },
     "metadata": {},
     "output_type": "display_data"
    }
   ],
   "source": [
    "input_other_flag=input_other_flag.withColumn('certificate',when((col('certificate').isin('0','0.0','/00000','000000','00000000','NA'))|(col('certificate').isNull()),lit('00000000')).otherwise(lit(col('certificate'))))\\\n",
    ".withColumn('policy_number',lpad(col('policy_number'),10,'0'))"
   ]
  },
  {
   "cell_type": "code",
   "execution_count": 91,
   "metadata": {},
   "outputs": [
    {
     "data": {
      "application/vnd.jupyter.widget-view+json": {
       "model_id": "",
       "version_major": 2,
       "version_minor": 0
      },
      "text/plain": [
       "FloatProgress(value=0.0, bar_style='info', description='Progress:', layout=Layout(height='25px', width='50%'),…"
      ]
     },
     "metadata": {},
     "output_type": "display_data"
    }
   ],
   "source": [
    "input_other_flag_all = upperAllColName(input_other_flag)"
   ]
  },
  {
   "cell_type": "code",
   "execution_count": 92,
   "metadata": {},
   "outputs": [
    {
     "data": {
      "application/vnd.jupyter.widget-view+json": {
       "model_id": "",
       "version_major": 2,
       "version_minor": 0
      },
      "text/plain": [
       "FloatProgress(value=0.0, bar_style='info', description='Progress:', layout=Layout(height='25px', width='50%'),…"
      ]
     },
     "metadata": {},
     "output_type": "display_data"
    }
   ],
   "source": [
    "##input_other_flag_all.columns"
   ]
  },
  {
   "cell_type": "code",
   "execution_count": 93,
   "metadata": {},
   "outputs": [
    {
     "data": {
      "application/vnd.jupyter.widget-view+json": {
       "model_id": "",
       "version_major": 2,
       "version_minor": 0
      },
      "text/plain": [
       "FloatProgress(value=0.0, bar_style='info', description='Progress:', layout=Layout(height='25px', width='50%'),…"
      ]
     },
     "metadata": {},
     "output_type": "display_data"
    }
   ],
   "source": [
    "input_other_flag_all=input_other_flag_all.selectExpr('OTHER_FLAGGING_TYPE','OTHER_FLAGGING_SUB_TYPE','FREE_TEXT_100_CHARACTER','CONTACT_NUMBER',\\\n",
    "                                                'EMAIL_ID as EMAIL','POLICY_NUMBER','CERTIFICATE','CUSTOMER_CODE','ALERT_FLAG_TILL_DATE')\n",
    "                                 "
   ]
  },
  {
   "cell_type": "code",
   "execution_count": 94,
   "metadata": {},
   "outputs": [
    {
     "data": {
      "application/vnd.jupyter.widget-view+json": {
       "model_id": "",
       "version_major": 2,
       "version_minor": 0
      },
      "text/plain": [
       "FloatProgress(value=0.0, bar_style='info', description='Progress:', layout=Layout(height='25px', width='50%'),…"
      ]
     },
     "metadata": {},
     "output_type": "display_data"
    }
   ],
   "source": [
    "##hni_vip_red_data.columns"
   ]
  },
  {
   "cell_type": "code",
   "execution_count": 95,
   "metadata": {},
   "outputs": [
    {
     "data": {
      "application/vnd.jupyter.widget-view+json": {
       "model_id": "",
       "version_major": 2,
       "version_minor": 0
      },
      "text/plain": [
       "FloatProgress(value=0.0, bar_style='info', description='Progress:', layout=Layout(height='25px', width='50%'),…"
      ]
     },
     "metadata": {},
     "output_type": "display_data"
    }
   ],
   "source": [
    "join_cond = [(trim(hni_vip_red_data.POLICY_NO) == trim(input_other_flag_all.POLICY_NUMBER))&(trim(hni_vip_red_data.CERTIFICATE_NO) == trim(input_other_flag_all.CERTIFICATE))]\n",
    "\n",
    "hni_vip_red_data_1 = hni_vip_red_data.join(input_other_flag_all,join_cond,'left')\\\n",
    ".drop(input_other_flag_all.CONTACT_NUMBER)\\\n",
    ".drop(input_other_flag_all.EMAIL)\\\n",
    ".drop(input_other_flag_all.POLICY_NUMBER)\\\n",
    ".drop(input_other_flag_all.CUSTOMER_CODE)\\\n",
    ".drop(input_other_flag_all.CERTIFICATE)\n"
   ]
  },
  {
   "cell_type": "code",
   "execution_count": 96,
   "metadata": {},
   "outputs": [
    {
     "data": {
      "application/vnd.jupyter.widget-view+json": {
       "model_id": "",
       "version_major": 2,
       "version_minor": 0
      },
      "text/plain": [
       "FloatProgress(value=0.0, bar_style='info', description='Progress:', layout=Layout(height='25px', width='50%'),…"
      ]
     },
     "metadata": {},
     "output_type": "display_data"
    }
   ],
   "source": [
    "##hni_vip_red_data_1.columns"
   ]
  },
  {
   "cell_type": "code",
   "execution_count": 97,
   "metadata": {},
   "outputs": [
    {
     "data": {
      "application/vnd.jupyter.widget-view+json": {
       "model_id": "",
       "version_major": 2,
       "version_minor": 0
      },
      "text/plain": [
       "FloatProgress(value=0.0, bar_style='info', description='Progress:', layout=Layout(height='25px', width='50%'),…"
      ]
     },
     "metadata": {},
     "output_type": "display_data"
    }
   ],
   "source": [
    "##input_other_flag_all.columns"
   ]
  },
  {
   "cell_type": "code",
   "execution_count": 98,
   "metadata": {},
   "outputs": [
    {
     "data": {
      "application/vnd.jupyter.widget-view+json": {
       "model_id": "",
       "version_major": 2,
       "version_minor": 0
      },
      "text/plain": [
       "FloatProgress(value=0.0, bar_style='info', description='Progress:', layout=Layout(height='25px', width='50%'),…"
      ]
     },
     "metadata": {},
     "output_type": "display_data"
    }
   ],
   "source": [
    "input_other_flag_all=input_other_flag_all.withColumnRenamed('OTHER_FLAGGING_TYPE','OTHER_FLAGGING_TYPE_1')\\\n",
    ".withColumnRenamed('OTHER_FLAGGING_SUB_TYPE','OTHER_FLAGGING_SUB_TYPE_1')\\\n",
    ".withColumnRenamed('FREE_TEXT_100_CHARACTER','FREE_TEXT_100_CHARACTER_1')\\\n",
    ".withColumnRenamed('ALERT_FLAG_TILL_DATE','ALERT_FLAG_TILL_DATE_1')\\\n",
    ".withColumnRenamed('EMAIL_ID','EMAIL')\\"
   ]
  },
  {
   "cell_type": "code",
   "execution_count": 99,
   "metadata": {},
   "outputs": [
    {
     "data": {
      "application/vnd.jupyter.widget-view+json": {
       "model_id": "",
       "version_major": 2,
       "version_minor": 0
      },
      "text/plain": [
       "FloatProgress(value=0.0, bar_style='info', description='Progress:', layout=Layout(height='25px', width='50%'),…"
      ]
     },
     "metadata": {},
     "output_type": "display_data"
    }
   ],
   "source": [
    "join_cond = [trim(hni_vip_red_data_1.CUSTOMER_ID) == trim(input_other_flag_all.CUSTOMER_CODE)]\n",
    "\n",
    "\n",
    "hni_vip_red_data_1 = hni_vip_red_data_1.join(input_other_flag_all,join_cond,'left')\\\n",
    "\n",
    "\n",
    "hni_vip_red_data_2 = hni_vip_red_data_1.withColumn('OTHER_FLAGGING_TYPE',\\\n",
    "                                 when(col('OTHER_FLAGGING_TYPE').isNull(),lit(col('OTHER_FLAGGING_TYPE_1')))\\\n",
    "                                .otherwise(lit(col('OTHER_FLAGGING_TYPE'))))\\\n",
    "                                 .withColumn('OTHER_FLAGGING_SUB_TYPE',\\\n",
    "                                 when(col('OTHER_FLAGGING_SUB_TYPE').isNull(),lit(col('OTHER_FLAGGING_SUB_TYPE_1')))\\\n",
    "                                .otherwise(lit(col('OTHER_FLAGGING_SUB_TYPE'))))\\\n",
    "                                .withColumn('FREE_TEXT_100_CHARACTER',\\\n",
    "                                 when(col('FREE_TEXT_100_CHARACTER').isNull(),lit(col('FREE_TEXT_100_CHARACTER_1')))\\\n",
    "                                .otherwise(lit(col('FREE_TEXT_100_CHARACTER'))))\\\n",
    "                                .withColumn('ALERT_FLAG_TILL_DATE',\\\n",
    "                                 when(col('ALERT_FLAG_TILL_DATE').isNull(),lit(col('ALERT_FLAG_TILL_DATE_1')))\\\n",
    "                                .otherwise(lit(col('ALERT_FLAG_TILL_DATE'))))\\\n",
    "                                .drop('CONTACT_NUMBER')\\\n",
    "                                .drop('EMAIL')\\\n",
    "                                .drop('POLICY_NUMBER')\\\n",
    "                                .drop('CUSTOMER_CODE')\\\n",
    "                                .drop('OTHER_FLAGGING_TYPE_1')\\\n",
    "                                .drop('OTHER_FLAGGING_SUB_TYPE_1')\\\n",
    "                                .drop('FREE_TEXT_100_CHARACTER_1')\\\n",
    "                                .drop('ALERT_FLAG_TILL_DATE_1')\\\n",
    "                                .drop('CERTIFICATE')"
   ]
  },
  {
   "cell_type": "code",
   "execution_count": 100,
   "metadata": {},
   "outputs": [
    {
     "data": {
      "application/vnd.jupyter.widget-view+json": {
       "model_id": "",
       "version_major": 2,
       "version_minor": 0
      },
      "text/plain": [
       "FloatProgress(value=0.0, bar_style='info', description='Progress:', layout=Layout(height='25px', width='50%'),…"
      ]
     },
     "metadata": {},
     "output_type": "display_data"
    }
   ],
   "source": [
    "join_cond = [trim(hni_vip_red_data_2.CONTACT_NO) == trim(input_other_flag_all.CONTACT_NUMBER)]\n",
    "\n",
    "hni_vip_red_data_2= hni_vip_red_data_2.join(input_other_flag_all,join_cond,'left')\n",
    "\n",
    "\n",
    "hni_vip_red_data_3 = hni_vip_red_data_2.withColumn('OTHER_FLAGGING_TYPE',\\\n",
    "                                 when(col('OTHER_FLAGGING_TYPE').isNull(),lit(col('OTHER_FLAGGING_TYPE_1')))\\\n",
    "                                .otherwise(lit(col('OTHER_FLAGGING_TYPE'))))\\\n",
    "                                 .withColumn('OTHER_FLAGGING_SUB_TYPE',\\\n",
    "                                 when(col('OTHER_FLAGGING_SUB_TYPE').isNull(),lit(col('OTHER_FLAGGING_SUB_TYPE_1')))\\\n",
    "                                .otherwise(lit(col('OTHER_FLAGGING_SUB_TYPE'))))\\\n",
    "                                .withColumn('FREE_TEXT_100_CHARACTER',\\\n",
    "                                 when(col('FREE_TEXT_100_CHARACTER').isNull(),lit(col('FREE_TEXT_100_CHARACTER_1')))\\\n",
    "                                .otherwise(lit(col('FREE_TEXT_100_CHARACTER'))))\\\n",
    "                                .withColumn('ALERT_FLAG_TILL_DATE',\\\n",
    "                                 when(col('ALERT_FLAG_TILL_DATE').isNull(),lit(col('ALERT_FLAG_TILL_DATE_1')))\\\n",
    "                                .otherwise(lit(col('ALERT_FLAG_TILL_DATE'))))\\\n",
    "                                 .drop('CONTACT_NUMBER')\\\n",
    "                                .drop('EMAIL')\\\n",
    "                                .drop('POLICY_NUMBER')\\\n",
    "                                .drop('CUSTOMER_CODE')\\\n",
    "                                .drop('OTHER_FLAGGING_TYPE_1')\\\n",
    "                                .drop('OTHER_FLAGGING_SUB_TYPE_1')\\\n",
    "                                .drop('FREE_TEXT_100_CHARACTER_1')\\\n",
    "                                .drop('ALERT_FLAG_TILL_DATE_1').drop('CERTIFICATE')"
   ]
  },
  {
   "cell_type": "code",
   "execution_count": 101,
   "metadata": {},
   "outputs": [
    {
     "data": {
      "application/vnd.jupyter.widget-view+json": {
       "model_id": "",
       "version_major": 2,
       "version_minor": 0
      },
      "text/plain": [
       "FloatProgress(value=0.0, bar_style='info', description='Progress:', layout=Layout(height='25px', width='50%'),…"
      ]
     },
     "metadata": {},
     "output_type": "display_data"
    }
   ],
   "source": [
    "##hni_vip_red_data.columns"
   ]
  },
  {
   "cell_type": "code",
   "execution_count": 102,
   "metadata": {},
   "outputs": [
    {
     "data": {
      "application/vnd.jupyter.widget-view+json": {
       "model_id": "",
       "version_major": 2,
       "version_minor": 0
      },
      "text/plain": [
       "FloatProgress(value=0.0, bar_style='info', description='Progress:', layout=Layout(height='25px', width='50%'),…"
      ]
     },
     "metadata": {},
     "output_type": "display_data"
    }
   ],
   "source": [
    "join_cond = [trim(hni_vip_red_data_3.EMAIL_ID) == trim(input_other_flag_all.EMAIL)]\n",
    "\n",
    "hni_vip_red_data_3 = hni_vip_red_data_3.join(input_other_flag_all,join_cond,'left')\n",
    "\n",
    "hni_vip_red_data_final = hni_vip_red_data_3.withColumn('OTHER_FLAGGING_TYPE',\\\n",
    "                                 when(col('OTHER_FLAGGING_TYPE').isNull(),lit(col('OTHER_FLAGGING_TYPE_1')))\\\n",
    "                                .otherwise(lit(col('OTHER_FLAGGING_TYPE'))))\\\n",
    "                                 .withColumn('OTHER_FLAGGING_SUB_TYPE',\\\n",
    "                                 when(col('OTHER_FLAGGING_SUB_TYPE').isNull(),lit(col('OTHER_FLAGGING_SUB_TYPE_1')))\\\n",
    "                                .otherwise(lit(col('OTHER_FLAGGING_SUB_TYPE'))))\\\n",
    "                                .withColumn('FREE_TEXT_100_CHARACTER',\\\n",
    "                                 when(col('FREE_TEXT_100_CHARACTER').isNull(),lit(col('FREE_TEXT_100_CHARACTER_1')))\\\n",
    "                                .otherwise(lit(col('FREE_TEXT_100_CHARACTER'))))\\\n",
    "                                .withColumn('ALERT_FLAG_TILL_DATE',\\\n",
    "                                 when(col('ALERT_FLAG_TILL_DATE').isNull(),lit(col('ALERT_FLAG_TILL_DATE_1')))\\\n",
    "                                .otherwise(lit(col('ALERT_FLAG_TILL_DATE'))))\\\n",
    "                                 .drop('CONTACT_NUMBER')\\\n",
    "                                .drop('EMAIL')\\\n",
    "                                .drop('POLICY_NUMBER')\\\n",
    "                                .drop('CUSTOMER_CODE')\\\n",
    "                                .drop('OTHER_FLAGGING_TYPE_1')\\\n",
    "                                .drop('OTHER_FLAGGING_SUB_TYPE_1')\\\n",
    "                                .drop('FREE_TEXT_100_CHARACTER_1')\\\n",
    "                                .drop('ALERT_FLAG_TILL_DATE_1').drop('CERTIFICATE')"
   ]
  },
  {
   "cell_type": "code",
   "execution_count": 103,
   "metadata": {},
   "outputs": [
    {
     "data": {
      "application/vnd.jupyter.widget-view+json": {
       "model_id": "",
       "version_major": 2,
       "version_minor": 0
      },
      "text/plain": [
       "FloatProgress(value=0.0, bar_style='info', description='Progress:', layout=Layout(height='25px', width='50%'),…"
      ]
     },
     "metadata": {},
     "output_type": "display_data"
    }
   ],
   "source": [
    "##hni_vip_red_data_final.filter(col('OTHER_FLAGGING_TYPE').isNotNull()).count()"
   ]
  },
  {
   "cell_type": "code",
   "execution_count": 104,
   "metadata": {},
   "outputs": [
    {
     "data": {
      "application/vnd.jupyter.widget-view+json": {
       "model_id": "",
       "version_major": 2,
       "version_minor": 0
      },
      "text/plain": [
       "FloatProgress(value=0.0, bar_style='info', description='Progress:', layout=Layout(height='25px', width='50%'),…"
      ]
     },
     "metadata": {},
     "output_type": "display_data"
    }
   ],
   "source": [
    "# hni_vip_red_data_final.select('POLICY_NO').distinct().count()"
   ]
  },
  {
   "cell_type": "code",
   "execution_count": 105,
   "metadata": {},
   "outputs": [
    {
     "data": {
      "application/vnd.jupyter.widget-view+json": {
       "model_id": "",
       "version_major": 2,
       "version_minor": 0
      },
      "text/plain": [
       "FloatProgress(value=0.0, bar_style='info', description='Progress:', layout=Layout(height='25px', width='50%'),…"
      ]
     },
     "metadata": {},
     "output_type": "display_data"
    }
   ],
   "source": [
    "hni_customer_data=hni_vip_red_data_final.filter((col('ECONOMIC_STATUS') == '1') |\\\n",
    "                                                (col('VINTAGE_CUSTOMER')=='1')|\\\n",
    "                                                           (col('SENIOR_CITIZEN') =='1') |\\\n",
    "                                                           (col('SUM_INSURED_rule') =='1') |\\\n",
    "                                                           (col('PCG_Customer') =='1') |\\\n",
    "                                                           (col('MULTIPLE_PRODUCTS') =='1') |\\\n",
    "                                                            (col('Complaint_Customers') =='1') |\\\n",
    "                                                            (col('Escalated_SRs') =='1') |\\\n",
    "                                                           (col('HNI_TYPE') == \"RED CUSTOMER\")|\\\n",
    "                                                           (col('HNI_TYPE') == \"VIP CUSTOMER\")|\\\n",
    "                                                           (col(\"AMEX_PRODUCER\") == '1' )|\\\n",
    "                                                           (col(\"MUTHOOT_PRODUCER\") == '1' )|\\\n",
    "                                                           (col('OTHER_FLAGGING_TYPE').isNotNull())\\\n",
    "                                               )"
   ]
  },
  {
   "cell_type": "code",
   "execution_count": 106,
   "metadata": {},
   "outputs": [
    {
     "data": {
      "application/vnd.jupyter.widget-view+json": {
       "model_id": "",
       "version_major": 2,
       "version_minor": 0
      },
      "text/plain": [
       "FloatProgress(value=0.0, bar_style='info', description='Progress:', layout=Layout(height='25px', width='50%'),…"
      ]
     },
     "metadata": {},
     "output_type": "display_data"
    },
    {
     "name": "stdout",
     "output_type": "stream",
     "text": [
      "44270021"
     ]
    }
   ],
   "source": [
    "hni_customer_data.persist()\n",
    "hni_customer_data.count()"
   ]
  },
  {
   "cell_type": "code",
   "execution_count": 107,
   "metadata": {},
   "outputs": [
    {
     "data": {
      "application/vnd.jupyter.widget-view+json": {
       "model_id": "",
       "version_major": 2,
       "version_minor": 0
      },
      "text/plain": [
       "FloatProgress(value=0.0, bar_style='info', description='Progress:', layout=Layout(height='25px', width='50%'),…"
      ]
     },
     "metadata": {},
     "output_type": "display_data"
    }
   ],
   "source": [
    "from pyspark.sql import functions as F\n",
    "from pyspark.sql.window import Window\n",
    "\n",
    "\n",
    "w1 = Window.partitionBy(['golden_id']).orderBy(F.col('priority').asc())\n",
    "\n",
    "df_priority=hni_customer_data.withColumn('priority',when(col('HNI_TYPE')=='RED CUSTOMER',1)\\\n",
    "                                         .when(col('HNI_TYPE')=='VIP CUSTOMER',2)\\\n",
    "                                         .when(col('HNI_TYPE')=='SENIOR CITIZEN',3)\\\n",
    "                                         .when(col('HNI_TYPE')=='PRIORITY CUSTOMER',4))\\\n",
    ".select('GOLDEN_ID','HNI_TYPE','PRIORITY').drop_duplicates()\n",
    "\n",
    "df_priority = df_priority.withColumn('row_num',F.row_number().over(w1))\n",
    "result_df = df_priority.filter('row_num == 1').drop(\"row_num\",\"priority\")"
   ]
  },
  {
   "cell_type": "code",
   "execution_count": 108,
   "metadata": {
    "scrolled": true
   },
   "outputs": [
    {
     "data": {
      "application/vnd.jupyter.widget-view+json": {
       "model_id": "",
       "version_major": 2,
       "version_minor": 0
      },
      "text/plain": [
       "FloatProgress(value=0.0, bar_style='info', description='Progress:', layout=Layout(height='25px', width='50%'),…"
      ]
     },
     "metadata": {},
     "output_type": "display_data"
    }
   ],
   "source": [
    "hni_customer_data=hni_customer_data.join(result_df,'GOLDEN_ID','left').drop(hni_customer_data.HNI_TYPE)"
   ]
  },
  {
   "cell_type": "code",
   "execution_count": 109,
   "metadata": {},
   "outputs": [
    {
     "data": {
      "application/vnd.jupyter.widget-view+json": {
       "model_id": "",
       "version_major": 2,
       "version_minor": 0
      },
      "text/plain": [
       "FloatProgress(value=0.0, bar_style='info', description='Progress:', layout=Layout(height='25px', width='50%'),…"
      ]
     },
     "metadata": {},
     "output_type": "display_data"
    }
   ],
   "source": [
    "###hni_customer_data.columns"
   ]
  },
  {
   "cell_type": "code",
   "execution_count": 110,
   "metadata": {},
   "outputs": [
    {
     "data": {
      "application/vnd.jupyter.widget-view+json": {
       "model_id": "",
       "version_major": 2,
       "version_minor": 0
      },
      "text/plain": [
       "FloatProgress(value=0.0, bar_style='info', description='Progress:', layout=Layout(height='25px', width='50%'),…"
      ]
     },
     "metadata": {},
     "output_type": "display_data"
    }
   ],
   "source": [
    "hni_customer_data = lowerAllColName(hni_customer_data)"
   ]
  },
  {
   "cell_type": "code",
   "execution_count": 111,
   "metadata": {},
   "outputs": [
    {
     "data": {
      "application/vnd.jupyter.widget-view+json": {
       "model_id": "",
       "version_major": 2,
       "version_minor": 0
      },
      "text/plain": [
       "FloatProgress(value=0.0, bar_style='info', description='Progress:', layout=Layout(height='25px', width='50%'),…"
      ]
     },
     "metadata": {},
     "output_type": "display_data"
    }
   ],
   "source": [
    "hni_customer_data=hni_customer_data.withColumn('other_flagging_type',when(col('other_flagging_type').isNull(),lit('NA')).otherwise(col('other_flagging_type')))\\\n",
    ".withColumn('other_flagging_sub_type',when(col('other_flagging_sub_type').isNull(),lit('NA')).otherwise(col('other_flagging_sub_type')))\\\n",
    ".withColumn('alert_flag_till_date',when(col('alert_flag_till_date').isNull(),lit('NA')).otherwise(col('alert_flag_till_date')))"
   ]
  },
  {
   "cell_type": "code",
   "execution_count": 112,
   "metadata": {},
   "outputs": [
    {
     "data": {
      "application/vnd.jupyter.widget-view+json": {
       "model_id": "",
       "version_major": 2,
       "version_minor": 0
      },
      "text/plain": [
       "FloatProgress(value=0.0, bar_style='info', description='Progress:', layout=Layout(height='25px', width='50%'),…"
      ]
     },
     "metadata": {},
     "output_type": "display_data"
    }
   ],
   "source": [
    "# hni_customer_data.persist()\n",
    "# hni_customer_data.select('POLICY_NO').distinct().count()"
   ]
  },
  {
   "cell_type": "code",
   "execution_count": 113,
   "metadata": {},
   "outputs": [
    {
     "data": {
      "application/vnd.jupyter.widget-view+json": {
       "model_id": "",
       "version_major": 2,
       "version_minor": 0
      },
      "text/plain": [
       "FloatProgress(value=0.0, bar_style='info', description='Progress:', layout=Layout(height='25px', width='50%'),…"
      ]
     },
     "metadata": {},
     "output_type": "display_data"
    }
   ],
   "source": [
    "##hni_vip_red_data_final.filter(col('GOLDEN_ID')=='23143249').show(truncate=False)"
   ]
  },
  {
   "cell_type": "code",
   "execution_count": 114,
   "metadata": {},
   "outputs": [
    {
     "data": {
      "application/vnd.jupyter.widget-view+json": {
       "model_id": "",
       "version_major": 2,
       "version_minor": 0
      },
      "text/plain": [
       "FloatProgress(value=0.0, bar_style='info', description='Progress:', layout=Layout(height='25px', width='50%'),…"
      ]
     },
     "metadata": {},
     "output_type": "display_data"
    }
   ],
   "source": [
    "from pyspark.sql import functions as F\n",
    "from pyspark.sql.window import Window\n",
    "\n",
    "\n",
    "w1 = Window.partitionBy(['golden_id','policy_no','certificate_no','customer_id','other_flagging_type','other_flagging_sub_type','alert_flag_till_date']).orderBy(F.col('commit_timestamp').desc(),F.col('num_reference_no').desc())\n",
    "hni_customer_data = hni_customer_data.withColumn('row_num',F.row_number().over(w1))\n",
    "hni_customer_data = hni_customer_data.filter('row_num == 1').drop(hni_customer_data.row_num)"
   ]
  },
  {
   "cell_type": "code",
   "execution_count": 115,
   "metadata": {},
   "outputs": [
    {
     "data": {
      "application/vnd.jupyter.widget-view+json": {
       "model_id": "",
       "version_major": 2,
       "version_minor": 0
      },
      "text/plain": [
       "FloatProgress(value=0.0, bar_style='info', description='Progress:', layout=Layout(height='25px', width='50%'),…"
      ]
     },
     "metadata": {},
     "output_type": "display_data"
    },
    {
     "name": "stdout",
     "output_type": "stream",
     "text": [
      "DataFrame[golden_id: int, sum_insured: double, num_reference_no: bigint, policy_no: string, producer_cd: string, producer_name: string, channel: string, certificate_no: string, premium: double, product_cd: string, product_name: string, customer_id: string, pol_incept_date: date, pol_exp_date: date, lob: string, commit_timestamp: date, times_renewed_cnt: int, client_name: string, birth_dt: timestamp, contact_no: string, email_id: string, customer_dob: date, tenure: double, yearly_premium: double, report_date: date, customer_age: double, active_flag: bigint, economic_status: string, vintage_customer: string, senior_citizen: string, sum_insured_rule: string, pcg_customer: string, product_count: bigint, multiple_products: string, excel_upload: string, policy_id: string, case_id: string, account_id: string, interaction_category: string, escalated_sr_customers: string, irda_token_no: string, deleted: string, ticket_closing_date: date, customer_code__c: string, ticket_chanel__c: string, complaint_customers: string, escalated_srs: string, amex_producer: string, muthoot_producer: string, hni_rule: string, other_flagging_type: string, other_flagging_sub_type: string, free_text_100_character: string, alert_flag_till_date: string, hni_type: string]"
     ]
    }
   ],
   "source": [
    "hni_customer_data.persist()"
   ]
  },
  {
   "cell_type": "code",
   "execution_count": 116,
   "metadata": {},
   "outputs": [
    {
     "data": {
      "application/vnd.jupyter.widget-view+json": {
       "model_id": "",
       "version_major": 2,
       "version_minor": 0
      },
      "text/plain": [
       "FloatProgress(value=0.0, bar_style='info', description='Progress:', layout=Layout(height='25px', width='50%'),…"
      ]
     },
     "metadata": {},
     "output_type": "display_data"
    },
    {
     "name": "stdout",
     "output_type": "stream",
     "text": [
      "3010546"
     ]
    }
   ],
   "source": [
    "hni_customer_data.count()\n",
    "##6125915"
   ]
  },
  {
   "cell_type": "code",
   "execution_count": 117,
   "metadata": {},
   "outputs": [
    {
     "data": {
      "application/vnd.jupyter.widget-view+json": {
       "model_id": "",
       "version_major": 2,
       "version_minor": 0
      },
      "text/plain": [
       "FloatProgress(value=0.0, bar_style='info', description='Progress:', layout=Layout(height='25px', width='50%'),…"
      ]
     },
     "metadata": {},
     "output_type": "display_data"
    }
   ],
   "source": [
    "##hni_customer_data.filter(upper(col('HNI_TYPE'))=='RED CUSTOMER').count()"
   ]
  },
  {
   "cell_type": "code",
   "execution_count": 118,
   "metadata": {},
   "outputs": [
    {
     "data": {
      "application/vnd.jupyter.widget-view+json": {
       "model_id": "",
       "version_major": 2,
       "version_minor": 0
      },
      "text/plain": [
       "FloatProgress(value=0.0, bar_style='info', description='Progress:', layout=Layout(height='25px', width='50%'),…"
      ]
     },
     "metadata": {},
     "output_type": "display_data"
    }
   ],
   "source": [
    "# hni_customer_data.select('POLICY_NO').distinct().count()"
   ]
  },
  {
   "cell_type": "code",
   "execution_count": 119,
   "metadata": {},
   "outputs": [
    {
     "data": {
      "application/vnd.jupyter.widget-view+json": {
       "model_id": "",
       "version_major": 2,
       "version_minor": 0
      },
      "text/plain": [
       "FloatProgress(value=0.0, bar_style='info', description='Progress:', layout=Layout(height='25px', width='50%'),…"
      ]
     },
     "metadata": {},
     "output_type": "display_data"
    }
   ],
   "source": [
    "hni_customer_data=hni_customer_data.select('golden_id', 'sum_insured', 'num_reference_no', 'policy_no', 'producer_cd', 'producer_name', 'channel', 'certificate_no', 'premium', 'product_cd', 'product_name', 'customer_id', 'pol_incept_date', 'pol_exp_date', 'client_name', 'birth_dt', 'contact_no', 'email_id', 'customer_dob', 'tenure', 'yearly_premium', 'report_date', 'customer_age', 'economic_status','vintage_customer','lob','senior_citizen', 'sum_insured_rule', 'pcg_customer', 'product_count', 'multiple_products', 'hni_type', 'excel_upload', 'escalated_sr_customers', 'complaint_customers', 'amex_producer', 'muthoot_producer', 'hni_rule', 'other_flagging_type', 'other_flagging_sub_type', 'free_text_100_character', 'alert_flag_till_date')\n"
   ]
  },
  {
   "cell_type": "code",
   "execution_count": 120,
   "metadata": {},
   "outputs": [
    {
     "data": {
      "application/vnd.jupyter.widget-view+json": {
       "model_id": "",
       "version_major": 2,
       "version_minor": 0
      },
      "text/plain": [
       "FloatProgress(value=0.0, bar_style='info', description='Progress:', layout=Layout(height='25px', width='50%'),…"
      ]
     },
     "metadata": {},
     "output_type": "display_data"
    }
   ],
   "source": [
    "##hni_customer_data.show(5)"
   ]
  },
  {
   "cell_type": "code",
   "execution_count": 122,
   "metadata": {},
   "outputs": [
    {
     "data": {
      "application/vnd.jupyter.widget-view+json": {
       "model_id": "",
       "version_major": 2,
       "version_minor": 0
      },
      "text/plain": [
       "FloatProgress(value=0.0, bar_style='info', description='Progress:', layout=Layout(height='25px', width='50%'),…"
      ]
     },
     "metadata": {},
     "output_type": "display_data"
    },
    {
     "name": "stdout",
     "output_type": "stream",
     "text": [
      "200"
     ]
    }
   ],
   "source": [
    "output_index = \"hni_cust_data_staging_3\"\n",
    "schema = \"customermart\"\n",
    "\n",
    "prod_url = \"jdbc:postgresql://10.35.12.194:5432/gpadmin\"\n",
    "prod_host = '10.35.12.194'\n",
    "prod_port = '5432'\n",
    "prod_dbname = 'gpadmin'\n",
    "user_prod=\"gpcustcoe\"\n",
    "pwd_prod=\"gpcustcoe@123\"\n",
    "dbschema=\"public\"\n",
    "\n",
    "import sys\n",
    "try:\n",
    "\n",
    "    hni_customer_data.write.format(\"greenplum\")\\\n",
    "    .option(\"dbtable\",output_index).option('dbschema',schema)\\\n",
    "    .option(\"server.port\",\"1150-1170\").option(\"url\",prod_url)\\\n",
    "    .option(\"user\", user_prod).option(\"password\",pwd_prod).mode('overwrite').save()\n",
    "\n",
    "\n",
    "except Exception as e:\n",
    "    x = e\n",
    "    print(x)\n",
    "else:\n",
    "    x = 200 #success\n",
    "    print(x)"
   ]
  },
  {
   "cell_type": "code",
   "execution_count": null,
   "metadata": {},
   "outputs": [],
   "source": [
    "gscPythonOptions = {\n",
    "\"url\": \"jdbc:postgresql://10.35.12.194:5432/gpadmin\",\n",
    "\"user\": \"gpspark\",\n",
    "\"password\": \"spark@456\",\n",
    "# \"dbschema\": \"public\",\n",
    "\"dbtable\": \"public.reference_gc_genmst_intermediary\"}\n",
    "\n",
    "intermediary_df = sqlContext.read.format(\"jdbc\").options(**gscPythonOptions).load()\\\n",
    "                    .selectExpr('txt_mobile','txt_telephone','txt_telephone1','txt_contact_phone','txt_emer_person_mobile_number','txt_policy_phone','txt_alt_mobile','txt_email','txt_alt_email_id','txt_email_sms_reqd')"
   ]
  },
  {
   "cell_type": "code",
   "execution_count": null,
   "metadata": {},
   "outputs": [],
   "source": [
    "intermediary_df.createOrReplaceTempView('intermediary_table')\n",
    "\n",
    "query1_mob = \"\"\"SELECT txt_mobile mobile from intermediary_table\n",
    "union\n",
    "select txt_telephone from intermediary_table\n",
    "union\n",
    "select txt_telephone1 from intermediary_table\n",
    "union\n",
    "select txt_contact_phone from intermediary_table\n",
    "union\n",
    "select txt_emer_person_mobile_number from intermediary_table\n",
    "union\n",
    "select txt_policy_phone from intermediary_table\n",
    "union\n",
    "select txt_alt_mobile from intermediary_table\"\"\"\n",
    "\n",
    "intermediary_df_mob = sqlContext.sql(query1_mob)\n",
    "\n",
    "\n",
    "\n",
    "\n",
    "gscPythonOptions = {\n",
    "\"url\": \"jdbc:postgresql://10.35.12.194:5432/gpadmin\",\n",
    "\"user\": \"gpspark\",\n",
    "\"password\": \"spark@456\",\n",
    "\"server.port\": \"1151-1160\",\n",
    "\"dbschema\": \"staging\",\n",
    "\"dbtable\": \"retention_auto_producer_contact\"}\n",
    "contact_prod = sqlContext.read.format(\"greenplum\").options(**gscPythonOptions).load()\\\n",
    "                    .selectExpr(\"contact as contact1\")\n",
    "\n",
    "agent_no=intermediary_df_mob.union(contact_prod)\n",
    "\n",
    "\n",
    "\n",
    "agent_no = agent_no.withColumn(\"mobile\", when((length(col(\"mobile\")) == 12), \n",
    "                                               regexp_replace(col(\"mobile\"), \"^91\", \"\")).otherwise(lit(col(\"mobile\"))))\n",
    "\n",
    "agent_no = agent_no.withColumn(\"mobile\", when((length(col(\"mobile\")) == 11),\n",
    "                                               regexp_replace(col(\"mobile\"), \"^0\", \"\")).otherwise(lit(col(\"mobile\"))))\n",
    "\n",
    "agent_no.persist(pyspark.StorageLevel.MEMORY_AND_DISK)\n",
    "records=agent_no.count()"
   ]
  },
  {
   "cell_type": "code",
   "execution_count": null,
   "metadata": {},
   "outputs": [],
   "source": [
    "query1_email = \"\"\"select txt_email from intermediary_table\n",
    "union\n",
    "select txt_alt_email_id from intermediary_table\n",
    "union\n",
    "select txt_email_sms_reqd from intermediary_table\"\"\"\n",
    "\n",
    "\n",
    "intermediary_df_email = sqlContext.sql(query1_email)\n",
    "\n",
    "\n",
    "intermediary_df_email.persist(pyspark.StorageLevel.MEMORY_AND_DISK)\n",
    "records=intermediary_df_email.count()\n",
    "\n",
    "gscPythonOptions = {\n",
    "\"url\": \"jdbc:postgresql://10.35.12.194:5432/gpadmin\",\n",
    "\"user\": \"gpspark\",\n",
    "\"password\": \"spark@456\",\n",
    "\"server.port\": \"1151-1160\",\n",
    "\"dbschema\": \"staging\",\n",
    "\"dbtable\": \"retention_auto_producer_email\"}\n",
    "\n",
    "email_prod = sqlContext.read.format(\"greenplum\").options(**gscPythonOptions).load()\\\n",
    "                    .selectExpr(\"email as email1\")\n",
    "\n",
    "agent_email=intermediary_df_email.union(email_prod)\n",
    "\n",
    "\n",
    "agent_email.persist(pyspark.StorageLevel.MEMORY_AND_DISK)\n",
    "records=agent_email.count()\n"
   ]
  },
  {
   "cell_type": "code",
   "execution_count": null,
   "metadata": {},
   "outputs": [],
   "source": [
    "sqlContext.dropTempTable('intermediary_table')"
   ]
  },
  {
   "cell_type": "code",
   "execution_count": null,
   "metadata": {},
   "outputs": [],
   "source": [
    "agent_no=agent_no.withColumn('agent_mob',lit(1))\n",
    "agent_email=agent_email.withColumn('agent_email',lit(1))"
   ]
  },
  {
   "cell_type": "code",
   "execution_count": null,
   "metadata": {},
   "outputs": [],
   "source": [
    "df_main_2=df_main_1.join(agent_no,hni_customer_data.contact_no==agent_no.mobile,\"left\")"
   ]
  },
  {
   "cell_type": "code",
   "execution_count": null,
   "metadata": {},
   "outputs": [],
   "source": [
    "df_main=hni_customer_data.join(agent_email,hni_customer_data.email_id==agent_email.txt_email,\"left\")"
   ]
  },
  {
   "cell_type": "code",
   "execution_count": null,
   "metadata": {},
   "outputs": [],
   "source": [
    "df_main_2.columns"
   ]
  },
  {
   "cell_type": "code",
   "execution_count": null,
   "metadata": {},
   "outputs": [],
   "source": [
    "df_main_1 = df_main.withColumn(\"MOBILE_VALIDITY\",when(validMobile(col(\"CONTACT_NO\")) == 1, lit(\"VALID\")).otherwise(lit(\"INVALID\")))\\\n",
    "                   .withColumn(\"EMAIL_VALIDITY\",when(validEmail(col(\"EMAIL_ID\")) == 1, lit(\"VALID\")).otherwise(lit(\"INVALID\")))\n"
   ]
  },
  {
   "cell_type": "code",
   "execution_count": null,
   "metadata": {},
   "outputs": [],
   "source": [
    "df_main_1.persist()\n",
    "df_main_1.count()"
   ]
  },
  {
   "cell_type": "code",
   "execution_count": null,
   "metadata": {},
   "outputs": [],
   "source": []
  },
  {
   "cell_type": "code",
   "execution_count": null,
   "metadata": {},
   "outputs": [],
   "source": []
  },
  {
   "cell_type": "code",
   "execution_count": null,
   "metadata": {},
   "outputs": [],
   "source": [
    "table_name='hni_cust_data'\n",
    "source = \"hni_cust_data\"\n",
    "conn_prod = psycopg2.connect(host=prod_host, port=prod_port, user=user_prod, password=pwd_prod, dbname=prod_dbname)\n",
    "conn_to=conn_prod\n",
    "\n",
    "from pg import DB\n",
    "db = DB(dbname='gpadmin', host='10.35.12.194', port=5432,user='gpspark', passwd='spark@456')"
   ]
  },
  {
   "cell_type": "code",
   "execution_count": null,
   "metadata": {},
   "outputs": [],
   "source": [
    "gscPythonOptions = {\n",
    "         \"url\":prod_url ,\n",
    "         \"user\":user_prod ,\n",
    "         \"password\": pwd_prod,\n",
    "         \"dbschema\":\"customermart\",\n",
    "         \"dbtable\": \"hni_cust_data\", #tablechange\n",
    "         \"server.port\":\"1150-1170\"} \n",
    "\n",
    "hni_history_df= sqlContext.read.format(\"greenplum\").options(**gscPythonOptions).load()\\\n",
    ".filter(col('serial_no').isNotNull())\n",
    "\n",
    "##max_report_date_str =last_run.select(max('report_date')).first()[0]\n",
    "\n",
    "##max_report_date_str = str(max_report_date_str)"
   ]
  },
  {
   "cell_type": "code",
   "execution_count": null,
   "metadata": {},
   "outputs": [],
   "source": [
    "hni_history_df.persist()"
   ]
  },
  {
   "cell_type": "code",
   "execution_count": null,
   "metadata": {},
   "outputs": [],
   "source": [
    "max_serial_no =hni_history_df.select(max('serial_no')).first()[0]"
   ]
  },
  {
   "cell_type": "code",
   "execution_count": null,
   "metadata": {},
   "outputs": [],
   "source": [
    "print(max_serial_no)"
   ]
  },
  {
   "cell_type": "code",
   "execution_count": null,
   "metadata": {},
   "outputs": [],
   "source": [
    "gscPythonOptions = {\n",
    "         \"url\":prod_url ,\n",
    "         \"user\":user_prod ,\n",
    "         \"password\": pwd_prod,\n",
    "         \"dbschema\":\"customermart\",\n",
    "         \"dbtable\": \"hni_cust_data_staging\", #tablechange\n",
    "         \"server.port\":\"1150-1170\"} \n",
    "\n",
    "hni_customer_data_1= sqlContext.read.format(\"greenplum\").options(**gscPythonOptions).load()"
   ]
  },
  {
   "cell_type": "code",
   "execution_count": null,
   "metadata": {},
   "outputs": [],
   "source": [
    "## Email and mobile validity starts"
   ]
  },
  {
   "cell_type": "code",
   "execution_count": null,
   "metadata": {},
   "outputs": [],
   "source": [
    "# url_uat = \"jdbc:postgresql://10.33.195.103:5432/gpadmin\"\n",
    "# url_prod = \"jdbc:postgresql://10.35.12.194:5432/gpadmin\"\n",
    "# user_prod=\"gpcustcoe\"\n",
    "# pwd_prod=\"gpcustcoe@123\" \n",
    "# dbschema_name = \"public\"\n"
   ]
  },
  {
   "cell_type": "code",
   "execution_count": null,
   "metadata": {},
   "outputs": [],
   "source": [
    "# hni_customer_data_2 = hni_customer_data_1.withColumn(\"MOBILE_VALIDITY\",when(validMobile(col(\"CONTACT_NO\")) == 1, lit(\"VALID\")).otherwise(lit(\"INVALID\")))\\\n",
    "#                    .withColumn(\"EMAIL_VALIDITY\",when(validEmail(col(\"EMAIL_ID\")) == 1, lit(\"VALID\")).otherwise(lit(\"INVALID\")))\n",
    "\n",
    "# # This statement will update mobile numbers having all repeatative digits.\n",
    "\n",
    "# hni_customer_data_3 = hni_customer_data_2.withColumn(\"MOBILE_VALIDITY\",when((validMobileRepeat(col(\"CONTACT_NO\")) == 1) &\\\n",
    "#                         (col('MOBILE_VALIDITY') == 'VALID'), lit(\"INVALID\")).otherwise(lit(col('MOBILE_VALIDITY'))))\n",
    "\n",
    "# #hni_customer_data_3.filter(col('POLICY_NO').isin('0152155370','0160903183','0151966793','0235753759')).show()\n",
    "\n",
    "# # fetching producer code from below table so that can join same ahead to remove mobile and email belongs to producer. \n",
    "\n",
    "# gscPythonOptions = {\n",
    "#          \"url\": url_prod,\n",
    "#          \"user\": user_prod,\n",
    "#          \"password\": pwd_prod,\n",
    "#          \"dbschema\": dbschema_name,\n",
    "#          \"dbtable\": \"underwriting_gc_distribution_channel_tab\",\n",
    "#          \"partitionColumn\":\"row_num\",\n",
    "#          \"server.port\":\"1150-1170\",\n",
    "#          \"partitions\":16} \n",
    "# distribution_channel_tab = sqlContext.read.format(\"greenplum\").options(**gscPythonOptions).load()\\\n",
    "# .select('NUM_REFERENCE_NUMBER','TXT_INTERMEDIARY_CODE')\n",
    "# # .filter(col(\"TXT_LEDGER_ACCOUNT_CD\").isin(gl_filter))\\\n",
    "# # .filter(col(\"DAT_VOUCHER_DATE\")<=to_timestamp(lit(report_date_str), format='yyyy-MM-dd'))\n",
    "# #.filter(col(\"NUM_CLAIM_NO\")==num_claim_no)\n",
    "\n",
    "# distribution_channel_tab_grp = distribution_channel_tab.groupBy('NUM_REFERENCE_NUMBER')\\\n",
    "#                                                    .agg(sf.max('TXT_INTERMEDIARY_CODE').alias('PRODUCER_CD'))\n",
    "\n",
    "# distribution_channel_tab_grp= distribution_channel_tab_grp.withColumn(\"NUM_REFERENCE_NUMBER\",\\\n",
    "#                                                                       distribution_channel_tab_grp[\"NUM_REFERENCE_NUMBER\"].cast(StringType()))"
   ]
  },
  {
   "cell_type": "code",
   "execution_count": null,
   "metadata": {},
   "outputs": [],
   "source": [
    "# join_cond=[(hni_customer_data_3.num_reference_no == distribution_channel_tab_grp.NUM_REFERENCE_NUMBER)]\n",
    "\n",
    "# base_acc_gl_plus_gp_uw_clm_co_pay_ncb_mot_uw = hni_customer_data_3.\\\n",
    "# join(distribution_channel_tab_grp,join_cond,'left')\\\n",
    "# .drop('NUM_REFERENCE_NUMBER')\\\n",
    "# .drop(hni_customer_data_3.producer_cd)"
   ]
  },
  {
   "cell_type": "code",
   "execution_count": null,
   "metadata": {},
   "outputs": [],
   "source": [
    "# #base_acc_gl_plus_gp_uw_clm_co_pay_ncb_mot_uw.printSchema()\n",
    "\n",
    "# # TO remove producer's mobile number and Email which are present in reference_gc_genmst_intermediary\n",
    "\n",
    "# gscPythonOptions = {\n",
    "#          \"url\": \"jdbc:postgresql://10.35.12.194:5432/gpadmin\",\"user\": \"gpspark\",\"password\": \"spark@456\",\n",
    "#          \"dbschema\": \"public\",\"dbtable\": \"reference_gc_genmst_intermediary\",\n",
    "#          \"partitionColumn\":\"row_num\",\"partitions\":16,\n",
    "#          \"server.port\":'1177'} \n",
    "# genmst_intermediary_base =sqlContext.read.format(\"greenplum\").options(**gscPythonOptions).load()\\\n",
    "# .select('TXT_INTERMEDIARY_CD','TXT_POLICY_PHONE','TXT_EMAIL')\\\n",
    "# #.withColumnRenamed('TXT_INTERMEDIARY_CD','PRODUCER_CD','')\\\n",
    "\n",
    "# genmst_intermediary = genmst_intermediary_base\\\n",
    "#                                         .withColumn('TXT_POLICY_PHONE',trim(genmst_intermediary_base.TXT_POLICY_PHONE))\\\n",
    "#                                         .withColumn('TXT_EMAIL',trim(genmst_intermediary_base.TXT_EMAIL))\n",
    "\n",
    "\n",
    "# genmst_intermediary = genmst_intermediary\\\n",
    "#                                 .groupBy('TXT_INTERMEDIARY_CD')\\\n",
    "#                                 .agg(sf.max('TXT_POLICY_PHONE').alias('AGENT_MOBILE_NO'),\\\n",
    "#                                      sf.max('TXT_EMAIL').alias('AGENT_EMAIL'))"
   ]
  },
  {
   "cell_type": "code",
   "execution_count": null,
   "metadata": {},
   "outputs": [],
   "source": [
    "# join_cond =[trim(base_acc_gl_plus_gp_uw_clm_co_pay_ncb_mot_uw.PRODUCER_CD) == trim(genmst_intermediary.TXT_INTERMEDIARY_CD)]\n",
    "\n",
    "# template_all_04 = base_acc_gl_plus_gp_uw_clm_co_pay_ncb_mot_uw.join(genmst_intermediary,join_cond,'left')\\\n",
    "# .drop('TXT_INTERMEDIARY_CD')\n",
    "\n",
    "\n",
    "# # To handle EMAIL_ID repolacement of , to .\n",
    "\n",
    "# template_all_04 = template_all_04.withColumn('AGENT_EMAIL', regexp_replace('AGENT_EMAIL', \",\" , \".\"))"
   ]
  },
  {
   "cell_type": "code",
   "execution_count": null,
   "metadata": {},
   "outputs": [],
   "source": [
    "# mobile_email_producer = template_all_04.withColumn('MOBILE_VALIDITY',when((col('AGENT_MOBILE_NO') == col('CONTACT_NO')) &\\\n",
    "#                                                                           (col('MOBILE_VALIDITY') == 'VALID'),\\\n",
    "#                           lit('INVALID')).otherwise(lit(col('MOBILE_VALIDITY'))))\\\n",
    "#                         .withColumn('EMAIL_VALIDITY',when((col('AGENT_EMAIL') == col('EMAIL_ID')) & (col('EMAIL_VALIDITY') == 'VALID'),\\\n",
    "#                           lit('INVALID')).otherwise(lit(col('EMAIL_VALIDITY'))))\n",
    "\n",
    "\n",
    "# # To find mobile number and email id repeating more than 5 times for policy and certificate_no\n",
    "\n",
    "\n",
    "# # Filling certificate_no as 0 where null values present\n",
    "# mobile_email_producer_cert = mobile_email_producer.withColumn('CERTIFICATE_NO_1',col('CERTIFICATE_NO'))\\\n",
    "# .fillna(value='0',subset=[\"CERTIFICATE_NO_1\"])\\\n",
    "\n",
    "# mobile_email_producer_cert.createOrReplaceTempView('mobile_email_producer_cert')"
   ]
  },
  {
   "cell_type": "code",
   "execution_count": null,
   "metadata": {},
   "outputs": [],
   "source": [
    "# sql_query_count = \"\"\"\n",
    "# select count(distinct POLICY_NO,CERTIFICATE_NO_1) as CONTACT_NO_COUNT, CONTACT_NO as CONTACT_NO FROM mobile_email_producer_cert\n",
    "# group by CONTACT_NO \n",
    "# having count(distinct POLICY_NO,CERTIFICATE_NO_1) > 5\n",
    "# \"\"\"\n",
    "\n",
    "# contact_no_cnt = sqlContext.sql(sql_query_count) \n",
    "\n",
    "# sql_query_count_email = \"\"\"\n",
    "# select count(distinct POLICY_NO,CERTIFICATE_NO_1) as EMAIL_ID_COUNT, EMAIL_ID as EMAIL_ID FROM mobile_email_producer_cert\n",
    "# group by EMAIL_ID \n",
    "# having count(distinct POLICY_NO,CERTIFICATE_NO_1) > 5\n",
    "# \"\"\"\n",
    "\n",
    "# email_id_cnt = sqlContext.sql(sql_query_count_email) \n",
    "\n",
    "\n",
    "# sqlContext.dropTempTable('mobile_email_producer_cert')\n",
    "\n",
    "\n",
    "# mobile_email_producer_cert_mobile = mobile_email_producer_cert.join(contact_no_cnt,'CONTACT_NO','left')\n",
    "\n",
    "\n",
    "# mobile_email_producer_cert_email = mobile_email_producer_cert_mobile.join(email_id_cnt,'EMAIL_ID','left')"
   ]
  },
  {
   "cell_type": "code",
   "execution_count": null,
   "metadata": {},
   "outputs": [],
   "source": [
    "# mobile_email_producer_cert_email_1 = mobile_email_producer_cert_email.withColumn('MOBILE_VALIDITY',when((col('MOBILE_VALIDITY') == 'VALID') & (col('CONTACT_NO_COUNT').isNotNull()),\\\n",
    "#                                            lit('INVALID')).otherwise(col('MOBILE_VALIDITY')))\\\n",
    "# .withColumn('EMAIL_VALIDITY',when((col('EMAIL_VALIDITY') == 'VALID') & (col('EMAIL_ID_COUNT').isNotNull()),\\\n",
    "#                                            lit('INVALID')).otherwise(col('EMAIL_VALIDITY')))\\"
   ]
  },
  {
   "cell_type": "code",
   "execution_count": null,
   "metadata": {},
   "outputs": [],
   "source": [
    "# mobile_email_producer_cert_email_1.persist()\n",
    "# mobile_email_producer_cert_email_1.count()"
   ]
  },
  {
   "cell_type": "code",
   "execution_count": null,
   "metadata": {},
   "outputs": [],
   "source": [
    "# output_index = \"hni_cust_data_cleansed\"\n",
    "# schema = \"customermart\"\n",
    "\n",
    "# prod_url = \"jdbc:postgresql://10.35.12.194:5432/gpadmin\"\n",
    "# prod_host = '10.35.12.194'\n",
    "# prod_port = '5432'\n",
    "# prod_dbname = 'gpadmin'\n",
    "# user_prod=\"gpcustcoe\"\n",
    "# pwd_prod=\"gpcustcoe@123\"\n",
    "# dbschema=\"public\"\n",
    "\n",
    "# import sys\n",
    "# try:\n",
    "\n",
    "#     mobile_email_producer_cert_email_1.write.format(\"greenplum\")\\\n",
    "#     .option(\"dbtable\",output_index).option('dbschema',schema)\\\n",
    "#     .option(\"server.port\",\"1150-1170\").option(\"url\",prod_url)\\\n",
    "#     .option(\"user\", user_prod).option(\"password\",pwd_prod).mode('overwrite').save()\n",
    "\n",
    "\n",
    "# except Exception as e:\n",
    "#     x = e\n",
    "#     print(x)\n",
    "# else:\n",
    "#     x = 200 #success\n",
    "#     print(x)"
   ]
  },
  {
   "cell_type": "code",
   "execution_count": null,
   "metadata": {},
   "outputs": [],
   "source": [
    "### email and Mobile validity ends"
   ]
  },
  {
   "cell_type": "code",
   "execution_count": null,
   "metadata": {},
   "outputs": [],
   "source": [
    "hni_history_df.count()"
   ]
  },
  {
   "cell_type": "code",
   "execution_count": null,
   "metadata": {},
   "outputs": [],
   "source": [
    "hni_customer_data_1.persist()"
   ]
  },
  {
   "cell_type": "code",
   "execution_count": null,
   "metadata": {},
   "outputs": [],
   "source": [
    "hni_customer_data_1.count()"
   ]
  },
  {
   "cell_type": "code",
   "execution_count": null,
   "metadata": {},
   "outputs": [],
   "source": [
    "hni_customer_data_1=hni_customer_data_1.withColumn('certificate_no',when((col('certificate_no').isin('0','0.0','/00000','000000','00000000'))|(col('certificate_no').isNull()),lit('0')).otherwise(lit(col('certificate_no'))))\n",
    "hni_history_df=hni_history_df.withColumn('certificate_no',when((col('certificate_no').isin('0','0.0','/00000','000000','00000000'))|(col('certificate_no').isNull()),lit('0')).otherwise(lit(col('certificate_no'))))"
   ]
  },
  {
   "cell_type": "code",
   "execution_count": null,
   "metadata": {},
   "outputs": [],
   "source": [
    "deleted_pol=hni_history_df.select(col('policy_no'),col('certificate_no')).subtract(hni_customer_data_1.select(col('policy_no'),col('certificate_no')))\n",
    "added_pol=hni_customer_data_1.select(col('policy_no'),col('certificate_no')).subtract(hni_history_df.select(col('policy_no'),col('certificate_no')))"
   ]
  },
  {
   "cell_type": "code",
   "execution_count": null,
   "metadata": {},
   "outputs": [],
   "source": [
    "hni_pol_curr=hni_customer_data_1.select('policy_no','certificate_no', 'hni_type', 'excel_upload', 'amex_producer', 'muthoot_producer', 'hni_rule', 'other_flagging_type', 'other_flagging_sub_type', 'free_text_100_character', 'alert_flag_till_date')"
   ]
  },
  {
   "cell_type": "code",
   "execution_count": null,
   "metadata": {},
   "outputs": [],
   "source": [
    "deleted_pol.count()"
   ]
  },
  {
   "cell_type": "code",
   "execution_count": null,
   "metadata": {},
   "outputs": [],
   "source": [
    "added_pol.count()"
   ]
  },
  {
   "cell_type": "code",
   "execution_count": null,
   "metadata": {},
   "outputs": [],
   "source": [
    "hni_pol_hist=hni_history_df.select('policy_no','certificate_no','hni_type', 'excel_upload', 'amex_producer', 'muthoot_producer', 'hni_rule', 'other_flagging_type', 'other_flagging_sub_type', 'free_text_100_character', 'alert_flag_till_date')"
   ]
  },
  {
   "cell_type": "code",
   "execution_count": null,
   "metadata": {},
   "outputs": [],
   "source": [
    "hni_pol_hist = hni_pol_hist.withColumnRenamed('policy_no','policy_no_1')\\\n",
    "                                   .withColumnRenamed('certificate_no','certificate_no_1')\\\n",
    "                                   .withColumnRenamed('hni_type','hni_type_1')\\\n",
    "                                   .withColumnRenamed('excel_upload','excel_upload_1')\\\n",
    "                                 .withColumnRenamed('amex_producer','amex_producer_1')\\\n",
    "                                 .withColumnRenamed('muthoot_producer','muthoot_producer_1')\\\n",
    "                                 .withColumnRenamed('hni_rule','hni_rule_1')\\\n",
    "                                 .withColumnRenamed('other_flagging_type','other_flagging_type_1')\\\n",
    "                                 .withColumnRenamed('other_flagging_sub_type','other_flagging_sub_type_1')\\\n",
    "                                 .withColumnRenamed('free_text_100_character','free_text_100_character_1')\\\n",
    "                                 .withColumnRenamed('alert_flag_till_date','alert_flag_till_date_1')\\\n"
   ]
  },
  {
   "cell_type": "code",
   "execution_count": null,
   "metadata": {},
   "outputs": [],
   "source": [
    "join_cond = [(trim(hni_pol_curr.policy_no) == trim(hni_pol_hist.policy_no_1)) & (trim(hni_pol_curr.certificate_no) == trim(hni_pol_hist.certificate_no_1))]\n",
    "\n",
    "update_pol_check= hni_pol_curr.join(hni_pol_hist,join_cond,'inner').drop(hni_pol_hist.policy_no_1).drop(hni_pol_hist.certificate_no_1)"
   ]
  },
  {
   "cell_type": "code",
   "execution_count": null,
   "metadata": {},
   "outputs": [],
   "source": [
    "##update_pol_check.printSchema()"
   ]
  },
  {
   "cell_type": "code",
   "execution_count": null,
   "metadata": {},
   "outputs": [],
   "source": [
    "updated_pol_final=update_pol_check.withColumn('is_updated_rec',when(((coalesce(update_pol_check.hni_type,lit('NA'))!=(coalesce(update_pol_check.hni_type_1,lit('NA'))))|\\\n",
    "(coalesce(update_pol_check.amex_producer,lit('NA'))!=coalesce(update_pol_check.amex_producer_1,lit('NA')))|\\\n",
    "(coalesce(update_pol_check.muthoot_producer,lit('NA'))!=coalesce(update_pol_check.muthoot_producer_1,lit('NA')))|\\\n",
    "(coalesce(update_pol_check.hni_rule,lit('NA'))!=coalesce(update_pol_check.hni_rule_1,lit('NA')))|\\\n",
    "(coalesce(update_pol_check.other_flagging_type,lit('NA'))!=coalesce(update_pol_check.other_flagging_type_1,lit('NA')))|\\\n",
    "(coalesce(update_pol_check.other_flagging_sub_type,lit('NA'))!=coalesce(update_pol_check.other_flagging_sub_type_1,lit('NA')))|\\\n",
    "(coalesce(update_pol_check.free_text_100_character,lit('NA'))!=coalesce(update_pol_check.free_text_100_character_1,lit('NA')))|\\\n",
    "(coalesce(update_pol_check.alert_flag_till_date,lit('NA'))!=coalesce(update_pol_check.alert_flag_till_date_1,lit('NA')))), lit('1')).otherwise('0'))"
   ]
  },
  {
   "cell_type": "code",
   "execution_count": null,
   "metadata": {},
   "outputs": [],
   "source": [
    "updated_pol_final=updated_pol_final.filter(col('is_updated_rec')=='1').select(col('policy_no'),col('certificate_no'))"
   ]
  },
  {
   "cell_type": "code",
   "execution_count": null,
   "metadata": {},
   "outputs": [],
   "source": [
    "updated_pol_final.count()"
   ]
  },
  {
   "cell_type": "code",
   "execution_count": null,
   "metadata": {},
   "outputs": [],
   "source": [
    "hni_customer_data_1=hni_customer_data_1.withColumn('joinkey',concat(col('policy_no'),col('certificate_no')))\n",
    "\n",
    "added_pol=added_pol.withColumn('joinkey',concat(col('policy_no'),col('certificate_no')))\n",
    "deleted_pol=deleted_pol.withColumn('joinkey',concat(col('policy_no'),col('certificate_no')))\n",
    "updated_pol_final=updated_pol_final.withColumn('joinkey',concat(col('policy_no'),col('certificate_no')))\n"
   ]
  },
  {
   "cell_type": "code",
   "execution_count": null,
   "metadata": {},
   "outputs": [],
   "source": [
    "# join_cond = [(trim(hni_customer_data_1.policy_no) == trim(added_pol.policy_no)) & (trim(hni_customer_data_1.certificate_no) == trim(added_pol.certificate_no))]\n",
    "# added_hni_data= hni_customer_data_1.join(added_pol,join_cond,'inner').drop(added_pol.policy_no).drop(added_pol.certificate_no)\n",
    "\n",
    "added_hni_data= hni_customer_data_1.join(added_pol,(trim(hni_customer_data_1.joinkey) == trim(added_pol.joinkey)),'inner')\\\n",
    ".drop(added_pol.policy_no).drop(added_pol.certificate_no)\\\n",
    ".drop(hni_customer_data_1.joinkey).drop(added_pol.joinkey)\n",
    "\n",
    "\n",
    "added_hni_data=added_hni_data.withColumn('action_type',lit('ADDED'))\n",
    "added_hni_data=added_hni_data.dropDuplicates()"
   ]
  },
  {
   "cell_type": "code",
   "execution_count": null,
   "metadata": {},
   "outputs": [],
   "source": [
    "added_hni_data.count()"
   ]
  },
  {
   "cell_type": "code",
   "execution_count": null,
   "metadata": {},
   "outputs": [],
   "source": [
    "# join_cond = [(trim(hni_customer_data_1.policy_no) == trim(deleted_pol.policy_no)) & (trim(hni_customer_data_1.certificate_no) == trim(deleted_pol.certificate_no))]\n",
    "# deleted_hni_data= hni_customer_data_1.join(deleted_pol,join_cond,'inner').drop(deleted_pol.policy_no).drop(deleted_pol.certificate_no)\n",
    "\n",
    "\n",
    "deleted_hni_data= hni_customer_data_1.join(deleted_pol,(trim(hni_customer_data_1.joinkey) == trim(deleted_pol.joinkey)),'inner')\\\n",
    ".drop(deleted_pol.policy_no).drop(deleted_pol.certificate_no)\\\n",
    ".drop(hni_customer_data_1.joinkey).drop(deleted_pol.joinkey)\n",
    "\n",
    "deleted_hni_data=deleted_hni_data.withColumn('action_type',lit('DELETED'))\n",
    "\n",
    "deleted_hni_data=deleted_hni_data.dropDuplicates()"
   ]
  },
  {
   "cell_type": "code",
   "execution_count": null,
   "metadata": {},
   "outputs": [],
   "source": [
    "deleted_hni_data.count()"
   ]
  },
  {
   "cell_type": "code",
   "execution_count": null,
   "metadata": {},
   "outputs": [],
   "source": [
    "# join_cond = [(trim(hni_customer_data_1.policy_no) == trim(updated_pol_final.policy_no)) & (trim(hni_customer_data_1.certificate_no) == trim(updated_pol_final.certificate_no))]\n",
    "# updated_hni_data= hni_customer_data_1.join(updated_pol_final,join_cond,'inner').drop(updated_pol_final.policy_no).drop(updated_pol_final.certificate_no)\n",
    "\n",
    "updated_hni_data= hni_customer_data_1.join(updated_pol_final,(trim(hni_customer_data_1.joinkey) == trim(updated_pol_final.joinkey)),'inner')\\\n",
    ".drop(updated_pol_final.policy_no).drop(updated_pol_final.certificate_no)\\\n",
    ".drop(hni_customer_data_1.joinkey).drop(updated_pol_final.joinkey)\n",
    "\n",
    "updated_hni_data=updated_hni_data.withColumn('action_type',lit('UPDATED'))\n",
    "\n",
    "updated_hni_data=updated_hni_data.dropDuplicates()"
   ]
  },
  {
   "cell_type": "code",
   "execution_count": null,
   "metadata": {},
   "outputs": [],
   "source": [
    "deleted_hni_data=deleted_hni_data.select('golden_id', 'sum_insured', 'num_reference_no', 'producer_cd', 'producer_name', 'channel', 'premium', 'product_cd', 'product_name', 'customer_id', 'pol_incept_date', 'pol_exp_date', 'client_name', 'birth_dt', 'contact_no', 'email_id', 'customer_dob', 'tenure', 'yearly_premium', 'report_date', 'customer_age', 'economic_status', 'vintage_customer', 'lob', 'senior_citizen', 'sum_insured_rule', 'pcg_customer', 'product_count', 'multiple_products', 'hni_type', 'excel_upload', 'escalated_sr_customers', 'complaint_customers', 'amex_producer', 'muthoot_producer', 'hni_rule', 'other_flagging_type', 'other_flagging_sub_type', 'free_text_100_character', 'alert_flag_till_date', 'policy_no', 'certificate_no', 'action_type')"
   ]
  },
  {
   "cell_type": "code",
   "execution_count": null,
   "metadata": {},
   "outputs": [],
   "source": [
    "updated_hni_data=updated_hni_data.select('golden_id', 'sum_insured', 'num_reference_no', 'producer_cd', 'producer_name', 'channel', 'premium', 'product_cd', 'product_name', 'customer_id', 'pol_incept_date', 'pol_exp_date', 'client_name', 'birth_dt', 'contact_no', 'email_id', 'customer_dob', 'tenure', 'yearly_premium', 'report_date', 'customer_age', 'economic_status', 'vintage_customer', 'lob', 'senior_citizen', 'sum_insured_rule', 'pcg_customer', 'product_count', 'multiple_products', 'hni_type', 'excel_upload', 'escalated_sr_customers', 'complaint_customers', 'amex_producer', 'muthoot_producer', 'hni_rule', 'other_flagging_type', 'other_flagging_sub_type', 'free_text_100_character', 'alert_flag_till_date', 'policy_no', 'certificate_no', 'action_type')"
   ]
  },
  {
   "cell_type": "code",
   "execution_count": null,
   "metadata": {},
   "outputs": [],
   "source": [
    "##deleted_hni_data.printSchema()"
   ]
  },
  {
   "cell_type": "code",
   "execution_count": null,
   "metadata": {},
   "outputs": [],
   "source": [
    "hni_cust_data_final=added_hni_data.unionAll(deleted_hni_data)\n",
    "hni_cust_data_final=hni_cust_data_final.unionAll(updated_hni_data)\\\n",
    ".distinct()\\\n",
    ".withColumn('created_date',col('report_date'))"
   ]
  },
  {
   "cell_type": "code",
   "execution_count": null,
   "metadata": {},
   "outputs": [],
   "source": [
    "w2 = Window.orderBy(F.col('policy_no').asc())\n",
    "hni_cust_data_final=hni_cust_data_final.withColumn('serial_no',F.row_number().over(w2))"
   ]
  },
  {
   "cell_type": "code",
   "execution_count": null,
   "metadata": {},
   "outputs": [],
   "source": [
    "hni_cust_data_final=hni_cust_data_final.withColumn('serial_no',col('serial_no')+ lit(max_serial_no))\n"
   ]
  },
  {
   "cell_type": "code",
   "execution_count": null,
   "metadata": {},
   "outputs": [],
   "source": [
    "hni_cust_data_final.show(10,truncate=False)"
   ]
  },
  {
   "cell_type": "code",
   "execution_count": null,
   "metadata": {},
   "outputs": [],
   "source": [
    "hni_cust_data_final.persist()"
   ]
  },
  {
   "cell_type": "code",
   "execution_count": null,
   "metadata": {},
   "outputs": [],
   "source": [
    "hni_cust_data_final.count()"
   ]
  },
  {
   "cell_type": "code",
   "execution_count": null,
   "metadata": {},
   "outputs": [],
   "source": [
    "output_index='hni_cust_data_staging_final'\n",
    "schema = \"customermart\"\n",
    "\n",
    "prod_url = \"jdbc:postgresql://10.35.12.194:5432/gpadmin\"\n",
    "prod_host = '10.35.12.194'\n",
    "prod_port = '5432'\n",
    "prod_dbname = 'gpadmin'\n",
    "user_prod=\"gpcustcoe\"\n",
    "pwd_prod=\"gpcustcoe@123\"\n",
    "dbschema=\"public\"\n",
    "\n",
    "import sys\n",
    "try:\n",
    "\n",
    "    hni_cust_data_final.write.format(\"greenplum\")\\\n",
    "    .option(\"dbtable\",output_index).option('dbschema',schema)\\\n",
    "    .option(\"server.port\",\"1150-1170\").option(\"url\",prod_url)\\\n",
    "    .option(\"user\", user_prod).option(\"password\",pwd_prod).mode('overwrite').save()\n",
    "\n",
    "\n",
    "except Exception as e:\n",
    "    x = e\n",
    "    print(x)\n",
    "else:\n",
    "    x = 200 #success\n",
    "    print(x)"
   ]
  },
  {
   "cell_type": "code",
   "execution_count": null,
   "metadata": {},
   "outputs": [],
   "source": [
    "# \"\"\"update customermart.hni_cust_data set action_type='DELETED', report_date='\"\"\" + report_date_str+\"' where REPORT_DATE ='\"\"\" + max_report_date_str+\"'\""
   ]
  },
  {
   "cell_type": "code",
   "execution_count": null,
   "metadata": {},
   "outputs": [],
   "source": [
    "import sys\n",
    "try:\n",
    "     update(conn_to,table_name,source,prod_gpdb_spark_options, schema=\"customermart\")\n",
    "except Exception as e:\n",
    "    x = e\n",
    "    print(x)\n",
    "else:\n",
    "    x = 'success'\n",
    "    print(x)"
   ]
  },
  {
   "cell_type": "code",
   "execution_count": null,
   "metadata": {},
   "outputs": [],
   "source": [
    "gscPythonOptions = {\n",
    "         \"url\":prod_url ,\n",
    "         \"user\":user_prod ,\n",
    "         \"password\": pwd_prod,\n",
    "         \"dbschema\":\"customermart\",\n",
    "         \"dbtable\": \"hni_cust_data\", #tablechange\n",
    "         \"server.port\":\"1150-1170\"} \n",
    "\n",
    "hni_main= sqlContext.read.format(\"greenplum\").options(**gscPythonOptions).load()\\\n",
    ".filter(col('serial_no').isNotNull())"
   ]
  },
  {
   "cell_type": "code",
   "execution_count": null,
   "metadata": {},
   "outputs": [],
   "source": [
    "hni_main.columns\n",
    "hni_main.printSchema()"
   ]
  },
  {
   "cell_type": "code",
   "execution_count": null,
   "metadata": {},
   "outputs": [],
   "source": [
    "hni_main=hni_main.withColumn('pol_incept_date',col('pol_incept_date').cast('string'))\\\n",
    "                             .withColumn('pol_exp_date',col('pol_exp_date').cast('string'))\\\n",
    "                             .withColumn('customer_dob',col('customer_dob').cast('string'))\\\n",
    "                             .withColumn('report_date',col('report_date').cast('string'))\\\n",
    "                             .withColumn('created_date',col('created_date').cast('string'))"
   ]
  },
  {
   "cell_type": "code",
   "execution_count": null,
   "metadata": {},
   "outputs": [],
   "source": [
    "hni_count=hni_main.select('report_date','serial_no').groupby('report_date').agg(max('serial_no').alias('max_serial_no'),min('serial_no').alias('min_serial_no'),count('serial_no').alias('total_records'))"
   ]
  },
  {
   "cell_type": "code",
   "execution_count": null,
   "metadata": {},
   "outputs": [],
   "source": [
    "hni_main=hni_main.select('golden_id','customer_id','hni_type','hni_rule','other_flagging_type','other_flagging_sub_type',\\\n",
    "                         'free_text_100_character','action_type','report_date','serial_no').dropDuplicates()"
   ]
  },
  {
   "cell_type": "code",
   "execution_count": null,
   "metadata": {},
   "outputs": [],
   "source": [
    "target_index='get_hni_cust_data'\n",
    "print(target_index)"
   ]
  },
  {
   "cell_type": "code",
   "execution_count": null,
   "metadata": {},
   "outputs": [],
   "source": [
    "import json, pprint, requests\n",
    "es_nodes = '10.35.12.212'\n",
    "es_port = '9200'\n",
    "es_user = 'elastic'\n",
    "es_pwd = 'bEiilauM3es'\n",
    "\n",
    "######target_index = 'actuarial_premium_risk_tables'----previous name...delete later\n",
    "\n",
    "#alias_name = 'nepuepr_uat_3'\n",
    "target_doc_type = 'get_hni_cust_data' "
   ]
  },
  {
   "cell_type": "code",
   "execution_count": null,
   "metadata": {},
   "outputs": [],
   "source": [
    "# #########delete index ###############################################\n",
    "# headers = {'Content-Type': 'application/json'}\n",
    "# query = {\"query\":{\"match_all\":{}}}\n",
    "# URL = 'http://'+es_user+':'+es_pwd+'@'+es_nodes+':'+es_port+'/'+target_index\n",
    "# r = requests.delete(URL, data=json.dumps(query), headers=headers) \n",
    "# print(r)"
   ]
  },
  {
   "cell_type": "code",
   "execution_count": null,
   "metadata": {},
   "outputs": [],
   "source": [
    "#########create index ##################################################################################################################################################################\n",
    "# headers = {'Content-Type': 'application/json'}\n",
    "# query_create= {\"settings\": { \"index.number_of_shards\": \"1\" }}\n",
    "# URL = 'http://'+es_user+':'+es_pwd+'@'+es_nodes+':'+es_port+'/'+target_index\n",
    "# r = requests.put(URL, data=json.dumps(query_create), headers=headers)\n",
    "# print(r)"
   ]
  },
  {
   "cell_type": "code",
   "execution_count": null,
   "metadata": {},
   "outputs": [],
   "source": [
    "# mapping_output = {target_doc_type:{\"properties\": {\n",
    "# \"golden_id\": {\n",
    "# \"type\": \"keyword\"\n",
    "# }, \n",
    "# \"customer_id\": {\n",
    "# \"type\": \"keyword\"\n",
    "# },\n",
    "# \"insured_name\": {\n",
    "# \"type\": \"keyword\"\n",
    "# },\n",
    "# \"first_name\": {\n",
    "# \"type\": \"keyword\"\n",
    "# },\n",
    "# \"middle_name\": {\n",
    "# \"type\": \"keyword\"\n",
    "# },\n",
    "# \"last_name\": {\n",
    "# \"type\": \"keyword\"\n",
    "# },\n",
    "# \"ckyc\": {\n",
    "# \"type\": \"keyword\"\n",
    "# },\n",
    "# \"kyc_id\": {\n",
    "# \"type\": \"keyword\"\n",
    "# },\n",
    "# \"kyc_verfication_flag\": {\n",
    "# \"type\": \"keyword\"\n",
    "# },\n",
    "# \"kyc_datetime_stamp\": {\n",
    "# \"type\": \"keyword\",\n",
    "# #     \"format\": \"yyyy-MM-dd HH:mm:ss\"\n",
    "# },\n",
    "# \"birth_date\": {\n",
    "# \"type\": \"keyword\",\n",
    "# #     \"format\": \"yyyy-MM-dd HH:mm:ss\"\n",
    "# },\n",
    "# \"pan\": {\n",
    "# \"type\": \"keyword\"\n",
    "# },\n",
    "# \"passport\": {\n",
    "# \"type\": \"keyword\"\n",
    "# },\n",
    "# \"email\": {\n",
    "# \"type\": \"keyword\"\n",
    "# },\n",
    "# \"mobile\": {\n",
    "# \"type\": \"keyword\"\n",
    "# },\n",
    "# \"address_line_1\": {\n",
    "# \"type\": \"keyword\"\n",
    "# },\n",
    "# \"address_line_2\": {\n",
    "#     \"type\": \"keyword\"\n",
    "# },\n",
    "# \"address_line_3\": {\n",
    "# \"type\": \"keyword\"\n",
    "# },\n",
    "# \"city\": {\n",
    "# \"type\": \"keyword\"\n",
    "# },\n",
    "# \"state\": {\n",
    "# \"type\": \"keyword\"\n",
    "# },\n",
    "# \"country\": {\n",
    "# \"type\": \"keyword\"\n",
    "# },\n",
    "# \"pin_code\": {\n",
    "# \"type\": \"keyword\"\n",
    "# },\n",
    "# \"customer_type\": {\n",
    "# \"type\": \"keyword\"\n",
    "# },\n",
    "# \"msme_no\": {\n",
    "# \"type\": \"keyword\"\n",
    "# },\n",
    "# \"gstin\": {\n",
    "# \"type\": \"keyword\"\n",
    "# },\n",
    "# \"district\": {\n",
    "# \"type\": \"keyword\"\n",
    "# }\n",
    "#     }\n",
    "# }\n",
    "# }\n",
    "\n",
    "\n",
    "# URL = 'http://'+es_user+':'+es_pwd+'@'+es_nodes+':'+es_port+'/'+target_index+'/_mapping/'+target_doc_type\n",
    "# headers = {'Content-Type': 'application/json'}\n",
    "# r = requests.put(URL, data=json.dumps(mapping_output), headers=headers)\n",
    "# print(r)\n"
   ]
  },
  {
   "cell_type": "code",
   "execution_count": null,
   "metadata": {},
   "outputs": [],
   "source": [
    "target_index_doc_type = target_index +'/'+ target_doc_type"
   ]
  },
  {
   "cell_type": "code",
   "execution_count": null,
   "metadata": {},
   "outputs": [],
   "source": [
    "target_index_doc_type"
   ]
  },
  {
   "cell_type": "code",
   "execution_count": null,
   "metadata": {},
   "outputs": [],
   "source": [
    "try:\n",
    "     hni_main.write.format('org.elasticsearch.spark.sql').mode('overwrite').option('es.index.auto.create', 'true').option('es.nodes' , es_nodes).option('es.port', es_port).option('es.resource', target_index_doc_type).save() \n",
    "except Exception as e :\n",
    "    x = e\n",
    "else: \n",
    "    x = 200 # success\n",
    "print(x)"
   ]
  },
  {
   "cell_type": "code",
   "execution_count": null,
   "metadata": {},
   "outputs": [],
   "source": [
    "target_index='get_hni_cust_data_count' ##get_hni_cust_data for first api\n",
    "print(target_index)"
   ]
  },
  {
   "cell_type": "code",
   "execution_count": null,
   "metadata": {},
   "outputs": [],
   "source": [
    "import json, pprint, requests\n",
    "es_nodes = '10.35.12.212'\n",
    "es_port = '9200'\n",
    "es_user = 'elastic'\n",
    "es_pwd = 'bEiilauM3es'\n",
    "\n",
    "######target_index = 'actuarial_premium_risk_tables'----previous name...delete later\n",
    "\n",
    "#alias_name = 'nepuepr_uat_3'\n",
    "target_doc_type = 'get_hni_cust_data_count' #get_hni_cust_data for first api"
   ]
  },
  {
   "cell_type": "code",
   "execution_count": null,
   "metadata": {},
   "outputs": [],
   "source": [
    "target_index_doc_type = target_index +'/'+ target_doc_type"
   ]
  },
  {
   "cell_type": "code",
   "execution_count": null,
   "metadata": {},
   "outputs": [],
   "source": [
    "try:\n",
    "     hni_count.write.format('org.elasticsearch.spark.sql').mode('overwrite').option('es.index.auto.create', 'true').option('es.nodes' , es_nodes).option('es.port', es_port).option('es.resource', target_index_doc_type).save() \n",
    "except Exception as e :\n",
    "    x = e\n",
    "else: \n",
    "    x = 200 # success\n",
    "print(x)"
   ]
  },
  {
   "cell_type": "code",
   "execution_count": null,
   "metadata": {},
   "outputs": [],
   "source": []
  },
  {
   "cell_type": "code",
   "execution_count": null,
   "metadata": {},
   "outputs": [],
   "source": [
    "sqlContext.clearCache()"
   ]
  },
  {
   "cell_type": "code",
   "execution_count": null,
   "metadata": {},
   "outputs": [],
   "source": []
  },
  {
   "cell_type": "code",
   "execution_count": null,
   "metadata": {},
   "outputs": [],
   "source": [
    "spark.stop()"
   ]
  },
  {
   "cell_type": "code",
   "execution_count": null,
   "metadata": {},
   "outputs": [],
   "source": []
  },
  {
   "cell_type": "code",
   "execution_count": null,
   "metadata": {},
   "outputs": [],
   "source": []
  },
  {
   "cell_type": "code",
   "execution_count": null,
   "metadata": {},
   "outputs": [],
   "source": []
  }
 ],
 "metadata": {
  "kernelspec": {
   "display_name": "PySpark",
   "language": "",
   "name": "pysparkkernel"
  },
  "language_info": {
   "codemirror_mode": {
    "name": "python",
    "version": 3
   },
   "mimetype": "text/x-python",
   "name": "pyspark",
   "pygments_lexer": "python3"
  }
 },
 "nbformat": 4,
 "nbformat_minor": 4
}
