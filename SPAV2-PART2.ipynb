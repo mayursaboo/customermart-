{
 "cells": [
  {
   "cell_type": "code",
   "execution_count": null,
   "metadata": {},
   "outputs": [],
   "source": [
    "import sys\n",
    "\n",
    "\n",
    "no_of_cpu =8\n",
    "max_cores =8\n",
    "executor_mem = '56g'\n",
    "\n",
    "\n",
    "Job_Name = 'Nishant: interaction_journal'\n",
    "\n",
    "\n",
    "from pyspark.mllib.stat import Statistics\n",
    "from pyspark.sql.functions import asc,lit\n",
    "#warnings.filterwarnings('error')\n",
    "import pyspark\n",
    "from datetime import datetime,timedelta\n",
    "from pyspark.sql import SQLContext\n",
    "from pyspark import SparkContext, SparkConf\n",
    "from pyspark.sql import functions as F\n",
    "\n",
    "conf = pyspark.SparkConf()\n",
    "#import numpy\n",
    "import calendar\n",
    "#import pandas as pd\n",
    "#import simplejson as json\n",
    "#import pandas as pd\n",
    "import numpy as np\n",
    "import datetime\n",
    "from pyspark.sql.functions import *\n",
    "from pyspark.sql.types import DateType\n",
    "from pyspark.sql.functions import lit\n",
    "import simplejson as json\n",
    "import json, pprint, requests\n",
    "#es_nodes = '10.35.12.5'\n",
    "#es_nodes = '10.35.12.6'\n",
    "es_nodes = '10.35.12.194'#,10.35.12.6,10.35.12.5\n",
    "es_nodes_temp='10.35.12.194'\n",
    "es_port = '5432'\n",
    "es_user = 'elastic'\n",
    "es_pwd = 'bEiilauM3es'\n",
    "mesos_ip = 'mesos://10.33.195.18:5050'#'mesos://10.35.12.5:5050'\n",
    "\n",
    "spark.stop() #############NEED TO COMMENT THIS SPARK.STOP WHEN RUNNING THROUGH SHELL###############################\n",
    "\n",
    "conf.setMaster(mesos_ip)\n",
    "\n",
    "conf.set('spark.executor.cores',no_of_cpu) ### change 1\n",
    "#conf.set('spark.memory.fraction','.2')\n",
    "conf.set('spark.executor.memory',executor_mem) \n",
    "conf.set('spark.es.scroll.size','10000')\n",
    "conf.set('spark.network.timeout','600s')\n",
    "conf.set('spark.sql.crossJoin.enabled', 'true')\n",
    "\n",
    "conf.set('spark.ui.port','4052')\n",
    "\n",
    "conf.set('spark.executor.heartbeatInterval','60s')\n",
    "conf.set(\"spark.driver.cores\",\"4\")\n",
    "conf.set(\"spark.driver.extraJavaOptions\",\"-Xmx4g -Xms4g\")\n",
    "\n",
    "#conf.set(\"spark.shuffle.blockTransferService\", \"nio\"); \n",
    "conf.set(\"spark.files.overwrite\",\"true\");\n",
    "conf.set(\"spark.kryoserializer.buffer\", \"70\"); \n",
    "conf.set(\"spark.driver.extraJavaOptions\", \"-XX:+UseG1GC\");\n",
    "conf.set(\"spark.executor.extraJavaOptions\", \"-XX:+UseG1GC\");\n",
    "conf.set(\"spark.serializer\", \"org.apache.spark.serializer.KryoSerializer\"); \n",
    "conf.set(\"spark.broadcast.compress\", \"true\"); \n",
    "conf.set(\"spark.shuffle.compress\", \"true\"); \n",
    "conf.set(\"spark.shuffle.spill.compress\", \"true\");\n",
    "conf.set(\"spark.app.name\", Job_Name)\n",
    "#conf.set(\"spark.io.compression.codec\",\"org.apache.spark.io.LZ4CompressionCodec\");\n",
    "#conf.set(\"spark.sql.inMemoryColumnarStorage.compressed\", \"true\"); \n",
    "from pyspark.sql.functions import broadcast\n",
    "\n",
    "conf.set('spark.driver.memory','20g') ### change 2\n",
    "conf.set('spark.cores.max',max_cores) ### change 3\n",
    "conf.set('spark.sql.shuffle.partitions','400')\n",
    "#conf.set('spark.sql.crossJoin.enabled', 'true')\n",
    "conf.set('es.nodes',es_nodes)\n",
    "conf.set('es.port',es_port)\n",
    "conf.set('es.nodes.wan.only','true')\n",
    "conf.set(\"spark.sql.autoBroadcastJoinThreshold\",-1)\n",
    "\n",
    "#conf.set('spark.es.net.http.auth.user','Spark')\n",
    "#conf.set('spark.es.net.http.auth.pass','Jarkpet1Sap3')\n",
    "conf.set('spark.num.executors','4')\n",
    "conf.set('spark.debug.maxToStringFields', 200)\n",
    "\n",
    "conf.set('spark.es.net.http.auth.user', es_user)\n",
    "conf.set('spark.es.net.http.auth.pass', es_pwd)\n",
    "\n",
    "conf.set('spark.es.mapping.date.rich','false')\n",
    "spark = pyspark.SparkContext(conf=conf)\n",
    "sqlContext = SQLContext(spark)\n",
    "\n",
    "# Load Data into PySpark DataFrames\n",
    "# Prodcom Data Frame\n",
    "import json, pprint, requests\n",
    "import pyspark.sql.functions as sf\n",
    "from pyspark.sql.types import *\n",
    "\n",
    "\n",
    "import numpy as np\n",
    "import datetime\n",
    "from pyspark.sql.functions import *\n",
    "from pyspark.sql.types import DateType\n",
    "\n"
   ]
  },
  {
   "cell_type": "code",
   "execution_count": null,
   "metadata": {},
   "outputs": [],
   "source": [
    "from pyspark.sql.functions import hash,col,regexp_replace,collect_list,concat_ws,initcap,count,least\n",
    "import numpy as np\n",
    "import datetime\n",
    "from pyspark.sql.functions import *\n",
    "from pyspark.sql.types import DateType\n",
    "import psycopg2\n",
    "import time\n",
    "from time import gmtime, strftime\n",
    "import pytz\n",
    "starttime = time.time()\n",
    "start_time = datetime.datetime.now(pytz.timezone('Asia/Kolkata')).strftime(\"%Y-%m-%d %H:%M:%S.%f\")\n",
    "start_time"
   ]
  },
  {
   "cell_type": "code",
   "execution_count": null,
   "metadata": {},
   "outputs": [],
   "source": [
    "prod_url = \"jdbc:postgresql://10.35.12.194:5432/gpadmin\"\n",
    "prod_host = '10.35.12.194'\n",
    "prod_port = '5432'\n",
    "prod_dbname = 'gpadmin'\n",
    "user_prod=\"gpcustcoe\"\n",
    "pwd_prod=\"gpcustcoe@123\"\n",
    "dbschema=\"public\"\n",
    "\n",
    "\n",
    "prod_gpdb_spark_options ={\n",
    "    \"url\": \"jdbc:postgresql://{host}:{port}/{dbname}\".format(host=prod_host,port=prod_port, dbname=prod_dbname),\n",
    "    \"user\": \"{user}\".format(user=user_prod),\n",
    "    \"password\": \"{password}\".format(password=pwd_prod)\n",
    "} "
   ]
  },
  {
   "cell_type": "code",
   "execution_count": null,
   "metadata": {},
   "outputs": [],
   "source": [
    "def get_latest_progress(table_name,source):\n",
    "    \n",
    "    try: \n",
    "        gscPythonOptions = {\n",
    "                 \"url\":prod_url ,\n",
    "                 \"user\":user_prod ,\n",
    "                 \"password\": pwd_prod,\n",
    "                 \"dbschema\":\"customermart\",\n",
    "                 \"dbtable\": \"progress\",#table change\n",
    "                 \"server.port\":\"1150-1170\"} \n",
    "\n",
    "#         list_tn=['id','header']\n",
    "        \n",
    "        # this query will fetch till what date we have inserted the records in target\n",
    "        last_run= sqlContext.read.format(\"greenplum\").options(**gscPythonOptions).load()\\\n",
    "            .select('table_name','source','to_datetime').filter(col('table_name').isin(table_name)).filter(col('status')=='Success')\\\n",
    "        .filter(col('records')!=0)\n",
    "#         .filter(col('table_name')=='header')\\\n",
    "#             .filter(col('source')=='header')\n",
    "        \n",
    "        max_df=last_run.groupBy(\"table_name\").agg(max(\"to_datetime\").alias(\"datetime\"))\n",
    "        \n",
    "        Max_last_run =max_df.select(min('datetime')).first()[0]\n",
    "\n",
    "\n",
    "        # if no record is available in progress then it will raise value error, in this case default value will be picked from except clause\n",
    "        if Max_last_run is None:\n",
    "            raise ValueError(\"No records found!\")\n",
    "\n",
    "        #print(\"Record Found. Progress updated till {}\".format(Max_last_run))\n",
    "\n",
    "    except Exception as E: \n",
    "        Max_last_run = datetime.datetime(1900, 10, 30, 0, 0)  # this is the default start date when no record is present in progress for customer_demographics table\n",
    "        print(\"Executed_except\",repr(E))\n",
    "    return Max_last_run"
   ]
  },
  {
   "cell_type": "code",
   "execution_count": null,
   "metadata": {},
   "outputs": [],
   "source": [
    "# loading table as dataframe\n",
    "def load_gpdb_jdbc(col_str,dbtable,dbschema,col_name=None,time_filter=None,partitionColumn=\"row_num\"):\n",
    "    \"\"\"\n",
    "    This is used to read gpdb with filter for columns and can apply other filter(date,values).\n",
    "    Time filter contains startdate,enddate\n",
    "    \"\"\"\n",
    "    gscPythonOptions = {\n",
    "                        \"url\": prod_url,\n",
    "                        \"user\": user_prod,\n",
    "                        \"password\": pwd_prod,\n",
    "                        \"dbschema\": dbschema,\n",
    "                        \"dbtable\": dbtable,\n",
    "                        \"partitionColumn\":partitionColumn,\n",
    "                        \"partitions\": 8,\n",
    "                        \"server.port\":\"1150-1170\"}\n",
    "   \n",
    "    if time_filter:\n",
    "        data = sqlContext.read.format(\"greenplum\").options(**gscPythonOptions).load()\\\n",
    "                .selectExpr(col_str).drop_duplicates().filter(col(col_name).between(to_timestamp(lit(time_filter['start_date']),\n",
    "                                                                 format='yyyy-MM-dd'),\n",
    "                                                    to_timestamp(lit(time_filter['end_date']),\n",
    "                                                                 format='yyyy-MM-dd')))\n",
    "    else :\n",
    "        data = sqlContext.read.format(\"greenplum\").options(**gscPythonOptions).load()\\\n",
    "                .selectExpr(col_str).drop_duplicates()\n",
    "   \n",
    "    return data"
   ]
  },
  {
   "cell_type": "code",
   "execution_count": null,
   "metadata": {},
   "outputs": [],
   "source": [
    "gscPythonOptions = {\n",
    "         \"url\": \"jdbc:postgresql://10.35.12.194:5432/gpadmin\",\"user\": \"gpcustcoe\",\"password\": \"gpcustcoe@123\",\n",
    "    \"dbschema\":\"customermart\",\n",
    "    \"dbtable\": \"header\",\n",
    "         \"server.port\":\"1150-1170\"}\n",
    "\n",
    "\n",
    "header_df = sqlContext.read.format(\"greenplum\").options(**gscPythonOptions).load()\\\n",
    ".select('golden_id','source_system_customer_id','active_flag','mapping_date').filter((col('active_flag')=='1')).filter((col('source_system_customer_id').isNotNull()))"
   ]
  },
  {
   "cell_type": "code",
   "execution_count": null,
   "metadata": {},
   "outputs": [],
   "source": [
    "from pyspark.sql.window import Window\n",
    "\n",
    "header_df = header_df.withColumn(\"rn\", F.row_number()\n",
    "        .over(Window.partitionBy('source_system_customer_id')\n",
    "        .orderBy(F.col(\"mapping_date\").desc(),F.col(\"golden_id\").desc())))\n",
    "\n",
    "header_df = header_df.filter(F.col(\"rn\") == 1).drop(\"rn\")\n",
    "\n",
    "header_df=header_df.select('source_system_customer_id','golden_id','mapping_date')"
   ]
  },
  {
   "cell_type": "code",
   "execution_count": null,
   "metadata": {},
   "outputs": [],
   "source": [
    "col_str=['golden_id','full_name','first_name','last_name','birth_date','gender','marital_status','weight_kg','tobacco_use_indicator','alcohol_use_indicator','height_cm']\n",
    "gscPythonOptions = {\n",
    "\"url\": \"jdbc:postgresql://10.35.12.194:5432/gpadmin\",\n",
    "\"user\": \"gpspark\", \"server.port\":\"1150-1170\",\n",
    "\"password\": \"spark@456\",\"dbschema\":\"customermart\",\n",
    "\"dbtable\": \"customer_demographics\"}\n",
    "demog_df = sqlContext.read.format(\"greenplum\").options(**gscPythonOptions).load()\\\n",
    "         .selectExpr(col_str)\n",
    "\n",
    "demog_df=demog_df.withColumn('customer_name',coalesce(col('full_name'),concat(col('first_name'),lit(' '),col('last_name'))))\n"
   ]
  },
  {
   "cell_type": "code",
   "execution_count": null,
   "metadata": {},
   "outputs": [],
   "source": [
    "col_str=['golden_id','service_level']\n",
    "gscPythonOptions = {\n",
    "\"url\": \"jdbc:postgresql://10.35.12.194:5432/gpadmin\",\n",
    "\"user\": \"gpspark\", \"server.port\":\"1150-1170\",\n",
    "\"password\": \"spark@456\",\"dbschema\":\"customermart\",\n",
    "\"dbtable\": \"customer_profile\"}\n",
    "profile_df = sqlContext.read.format(\"greenplum\").options(**gscPythonOptions).load()\\\n",
    "         .selectExpr(col_str)\n"
   ]
  },
  {
   "cell_type": "code",
   "execution_count": null,
   "metadata": {},
   "outputs": [],
   "source": [
    "gscPythonOptions = {\n",
    "         \"url\": \"jdbc:postgresql://10.35.12.194:5432/gpadmin\",\"user\": \"gpcustcoe\",\"password\": \"gpcustcoe@123\"\n",
    "     ,\"dbschema\":\"customermart\"\n",
    "    ,\"dbtable\": \"address\",\n",
    "         \"server.port\":\"1150-1170\"}\n",
    "\n",
    "\n",
    "address_retail_df = sqlContext.read.format(\"greenplum\").options(**gscPythonOptions).load()\\\n",
    ".select('source_system_customer_id','address_type','city','last_updated')\\\n",
    ".filter((col('address_type')=='home'))"
   ]
  },
  {
   "cell_type": "code",
   "execution_count": null,
   "metadata": {},
   "outputs": [],
   "source": [
    "from pyspark.sql.window import Window\n",
    "\n",
    "address_retail_df = address_retail_df.withColumn(\"rn\", F.row_number()\n",
    "        .over(Window.partitionBy('source_system_customer_id','address_type')\n",
    "        .orderBy(F.col(\"last_updated\").desc())))\n",
    "\n",
    "address_retail_df = address_retail_df.filter(F.col(\"rn\") == 1).select('source_system_customer_id','city')"
   ]
  },
  {
   "cell_type": "code",
   "execution_count": null,
   "metadata": {},
   "outputs": [],
   "source": [
    "report_date_str='2023-09-01'"
   ]
  },
  {
   "cell_type": "code",
   "execution_count": null,
   "metadata": {},
   "outputs": [],
   "source": [
    "table_name='spav2_policy'\n",
    "source='spav2_policy'\n",
    "\n",
    "latest_progress=get_latest_progress(table_name,source)\n",
    "# dates in string format\n",
    "str_d1 = latest_progress.strftime(\"%Y-%m-%d\")\n",
    "str_d2 = datetime.datetime.now(pytz.timezone('Asia/Kolkata')).strftime(\"%Y-%m-%d\")\n",
    "\n",
    "# convert string to date object\n",
    "d1 = datetime.datetime.strptime(str_d1, \"%Y-%m-%d\")\n",
    "d2 = datetime.datetime.strptime(str_d2, \"%Y-%m-%d\")\n",
    "\n",
    "# difference between dates in timedelta\n",
    "delta = d2 - d1\n",
    "day=delta.days-2#currently T-2 change 2 to 1 for T-1\n",
    "\n",
    "time_filter={'start_date':latest_progress,'end_date':latest_progress+datetime.timedelta(days=day)}\n",
    "time_filter"
   ]
  },
  {
   "cell_type": "code",
   "execution_count": null,
   "metadata": {},
   "outputs": [],
   "source": [
    "col_str=[\"policy_number\",'certificate_no', 'product_name', 'product_cd', 'reference_num',\n",
    "         'pol_incept_date as policy_start_date', 'pol_exp_date as policy_end_date','source_system_name',\n",
    "        'source_system_customer_id', 'lob', 'sum_insured', \"uw_discount\", 'premiumamount as premium',\n",
    "        'veh_make', 'veh_model', 'veh_no as vehicle_registration_no', 'ncb_percent','producer_cd',\n",
    "        'plan_type as plan_name','status','record_type_desc','commit_timestamp as binddate','veh_engine_no','veh_chassis_no',\n",
    "         'times_renewed_cnt','min_pol_incept_date','no_of_lives']\n",
    "gscPythonOptions = {\n",
    "\"url\": \"jdbc:postgresql://10.35.12.194:5432/gpadmin\",\n",
    "\"user\": \"gpcustcoe\",\n",
    "\"password\": \"gpcustcoe@123\",\"dbschema\":\"customermart\",\"server.port\":\"1150-1170\",\n",
    "\"dbtable\": \"policy_retail\"}\n",
    "policy = sqlContext.read.format(\"greenplum\").options(**gscPythonOptions).load()\\\n",
    "         .selectExpr(col_str).filter(col('binddate').between(to_timestamp(lit(time_filter['start_date']),\n",
    "                                                                 format='yyyy-MM-dd'),\n",
    "                                                    to_timestamp(lit(time_filter['end_date']),\n",
    "                                                                 format='yyyy-MM-dd')))\n",
    "policy.columns"
   ]
  },
  {
   "cell_type": "code",
   "execution_count": null,
   "metadata": {},
   "outputs": [],
   "source": [
    "col_str=['txt_parent_intermediary_cd as parent_producer_cd','txt_intermediary_cd as producer_cd']\n",
    "\n",
    "gscPythonOptions = {\n",
    "\"url\": \"jdbc:postgresql://10.35.12.194:5432/gpadmin\",\n",
    "\"user\": \"gpcustcoe\",\n",
    "\"password\": \"gpcustcoe@123\",\"dbschema\":\"public\",\"server.port\":\"1150-1170\",\n",
    "\"dbtable\": \"reference_gc_genmst_intermediary\"}\n",
    "producer_df = sqlContext.read.format(\"greenplum\").options(**gscPythonOptions).load()\\\n",
    "         .selectExpr(col_str)\n",
    "producer_df.columns"
   ]
  },
  {
   "cell_type": "code",
   "execution_count": null,
   "metadata": {},
   "outputs": [],
   "source": [
    "# policy=policy.filter(F.date_add(col('policy_end_date'),90)>=to_timestamp(lit(report_date_str), format='yyyy-MM-dd'))"
   ]
  },
  {
   "cell_type": "code",
   "execution_count": null,
   "metadata": {},
   "outputs": [],
   "source": [
    "lst_cancelled=['ACDC',\n",
    "'ACDE',\n",
    "'APC',\n",
    "'APCP',\n",
    "'APD',\n",
    "'APRI',\n",
    "'APU',\n",
    "'DCC',\n",
    "'ECDU',\n",
    "'ECN',\n",
    "'ECR',\n",
    "'EPCE',\n",
    "'ERFC',\n",
    "'NCN',\n",
    "'RCN']"
   ]
  },
  {
   "cell_type": "code",
   "execution_count": null,
   "metadata": {},
   "outputs": [],
   "source": [
    "policy=policy.withColumn('record_type_desc', when((col('status').isin(lst_cancelled)),lit('CANCELLATION'))\\\n",
    "                           .otherwise(col('record_type_desc')))"
   ]
  },
  {
   "cell_type": "code",
   "execution_count": null,
   "metadata": {},
   "outputs": [],
   "source": [
    "#Krishnan Badrinath\n",
    "policy=policy.withColumn('assets',when(col('lob').isin('2W'),'2 Wheeler')\\\n",
    "                                        .when(col('lob').isin('Pvt Car'),'Car')\\\n",
    "                                        .when(col('lob').isin('Home'),'Home').otherwise(lit('-')))"
   ]
  },
  {
   "cell_type": "code",
   "execution_count": null,
   "metadata": {},
   "outputs": [],
   "source": [
    "w = Window.partitionBy(['policy_number','certificate_no','policy_start_date', 'policy_end_date']).orderBy([F.col('binddate').desc(),F.col('reference_num').desc()])\n",
    "policy_df = policy.withColumn('row',F.row_number().over(w))\n",
    "policy_df = policy_df.filter(F.col('row')==1).drop(policy_df.row)\n"
   ]
  },
  {
   "cell_type": "code",
   "execution_count": null,
   "metadata": {},
   "outputs": [],
   "source": [
    "policy_df=policy_df.withColumn('certificate_no',when(col('certificate_no').isin('0','0.0','/00000','000000','00000000'),lit('00000000')).otherwise(lit(col('certificate_no'))))\\\n",
    ".withColumn('policy_number',lpad(col('policy_number'),10,'0'))"
   ]
  },
  {
   "cell_type": "code",
   "execution_count": null,
   "metadata": {},
   "outputs": [],
   "source": [
    "col_str=[\"risk1 as relation\",\"reference_num\",'insured_name as name','insured_dob as dob']\n",
    "pdrdh_df=load_gpdb_jdbc(col_str,\"policy_dh_risk_details_hlt\",'public')"
   ]
  },
  {
   "cell_type": "code",
   "execution_count": null,
   "metadata": {},
   "outputs": [],
   "source": [
    "col_str=['source','scoredate', 'score','income','dc_unified_id as golden_id']\n",
    "gscPythonOptions = {\n",
    "\"url\": \"jdbc:postgresql://10.35.12.194:5432/gpadmin\",\n",
    "\"user\": \"gpcustcoe\", \"server.port\":\"1150-1170\",\n",
    "\"password\": \"gpcustcoe@123\",\"dbschema\":\"datamarts\",\n",
    "\"dbtable\": \"credit_bureau_data\"}\n",
    "credit_df = sqlContext.read.format(\"greenplum\").options(**gscPythonOptions).load()\\\n",
    "         .selectExpr(col_str)\n",
    "credit_df.columns"
   ]
  },
  {
   "cell_type": "code",
   "execution_count": null,
   "metadata": {},
   "outputs": [],
   "source": [
    "col_str=[\"policy_no\", \"renewal_prop_final_buckets\",\"segment\",\"month\"]\n",
    "gscPythonOptions = {\n",
    "\"url\": \"jdbc:postgresql://10.35.12.194:5432/gpadmin\",\n",
    "\"user\": \"gpcustcoe\",\n",
    "\"password\": \"gpcustcoe@123\",\n",
    "\"server.port\": \"1151-1170\",\n",
    "\"dbschema\":\"customermart\",\n",
    "\"dbtable\": \"propensity_score_jan_23_jan_24\"}\n",
    "ps = sqlContext.read.format(\"greenplum\").options(**gscPythonOptions).load()\\\n",
    "         .selectExpr(col_str)\n",
    "ps.columns"
   ]
  },
  {
   "cell_type": "code",
   "execution_count": null,
   "metadata": {},
   "outputs": [],
   "source": [
    "ps=ps.withColumn('month',to_date(col('month'),'MMM-yy'))\n",
    "\n",
    "from pyspark.sql.window import Window\n",
    "\n",
    "ps = ps.withColumn(\"rn\", F.row_number()\n",
    "        .over(Window.partitionBy('policy_no')\n",
    "        .orderBy(F.col(\"month\").desc())))\n",
    "\n",
    "ps = ps.filter(F.col(\"rn\") == 1).drop(\"rn\")\n",
    "\n",
    "ps=ps.withColumn('renewal_propensity',concat(col('segment'),lit(\"(\"),col(\"renewal_prop_final_buckets\"),lit(\")\")))\n",
    "\n",
    "ps=ps.select('policy_no','renewal_propensity','month')\n",
    "\n",
    "propensity_df=ps.withColumn('policy_no',lpad(trim(col('policy_no')),10,'0'))"
   ]
  },
  {
   "cell_type": "code",
   "execution_count": null,
   "metadata": {
    "scrolled": true
   },
   "outputs": [],
   "source": [
    "propensity_df=propensity_df.selectExpr('policy_no as policy_number', 'renewal_propensity')"
   ]
  },
  {
   "cell_type": "code",
   "execution_count": null,
   "metadata": {},
   "outputs": [],
   "source": [
    "col_str=[\"dc_unified_id as golden_id\",\"'Eligible for cross sell to Health' as is_eligible\"]\n",
    "gscPythonOptions = {\n",
    "\"url\": \"jdbc:postgresql://10.35.12.194:5432/gpadmin\",\n",
    "\"user\": \"gpcustcoe\",\n",
    "\"password\": \"gpcustcoe@123\",\n",
    " \"server.port\":\"1150-1170\",\n",
    "\"dbschema\":\"customermart\",\n",
    "\"dbtable\": \"cross_sell_eligible_cust\"}\n",
    "cross_sell_df = sqlContext.read.format(\"greenplum\").options(**gscPythonOptions).load()\\\n",
    "         .selectExpr(col_str)\n",
    "cross_sell_df.columns"
   ]
  },
  {
   "cell_type": "code",
   "execution_count": null,
   "metadata": {},
   "outputs": [],
   "source": [
    "gscPythonOptions = {\n",
    "         \"url\": \"jdbc:postgresql://10.35.12.194:5432/gpadmin\",\"user\": \"gpcustcoe\",\"password\": \"gpcustcoe@123\",\n",
    "    \"dbschema\":\"customermart\"\n",
    "    ,\"dbtable\": \"contactability\",\n",
    "         \"server.port\":\"1150-1170\"}\n",
    "\n",
    "contactibilty_retail_df = sqlContext.read.format(\"greenplum\").options(**gscPythonOptions).load()\\\n",
    ".selectExpr('source_system_customer_id','communication_sub_type','value','last_updated','source_system_name','verification_flag').filter((col('source_system_customer_id').isNotNull()))\\\n",
    ".filter(col('value').isNotNull()).filter(col('source_system_name')!='CREDIT_BUREAU')"
   ]
  },
  {
   "cell_type": "code",
   "execution_count": null,
   "metadata": {},
   "outputs": [],
   "source": [
    "contactibilty_retail_df=contactibilty_retail_df.withColumn(\"rnk\",when(col(\"source_system_name\")=='GC',1)\\\n",
    ".otherwise(2))"
   ]
  },
  {
   "cell_type": "code",
   "execution_count": null,
   "metadata": {},
   "outputs": [],
   "source": [
    "contactibilty_retail_df=contactibilty_retail_df.withColumn('mobile',when(col('communication_sub_type')=='mobile',col('value')).otherwise(None))\n",
    "contactibilty_retail_df=contactibilty_retail_df.withColumn('email',when(col('communication_sub_type')=='email',col('value')).otherwise(None))\n",
    "\n",
    "contactibilty_retail_df = contactibilty_retail_df.withColumn('email',when((lower(trim(col(\"email\"))).rlike(\"^[a-zA-Z0-9._%+-]+@[a-zA-Z0-9.-]+\\.[a-zA-Z]{2,}(\\.[a-zA-Z]{2,})?$\") == False)\\\n",
    "                                                        & (lower(trim(col(\"communication_sub_type\")))=='email'),lit(None)).otherwise(col('email')))\n",
    "\n",
    "\n",
    "\n",
    "contactibilty_retail_df=contactibilty_retail_df.select('source_system_customer_id','mobile','email','rnk','last_updated','verification_flag')"
   ]
  },
  {
   "cell_type": "code",
   "execution_count": null,
   "metadata": {},
   "outputs": [],
   "source": [
    "contactibilty_retail_df.columns"
   ]
  },
  {
   "cell_type": "code",
   "execution_count": null,
   "metadata": {},
   "outputs": [],
   "source": [
    "contactibilty_retail_df=contactibilty_retail_df.join(header_df,'source_system_customer_id','inner')"
   ]
  },
  {
   "cell_type": "code",
   "execution_count": null,
   "metadata": {
    "scrolled": true
   },
   "outputs": [],
   "source": [
    "contactibilty_retail_df_email=contactibilty_retail_df.filter((col('email').isNotNull())).dropDuplicates(subset=[\"email\",\"golden_id\"])\n",
    "contactibilty_retail_df_mob=contactibilty_retail_df.filter((col('mobile').isNotNull())).drop_duplicates(subset=[\"mobile\",\"golden_id\"])"
   ]
  },
  {
   "cell_type": "code",
   "execution_count": null,
   "metadata": {},
   "outputs": [],
   "source": [
    "contactibilty_retail_df_email=contactibilty_retail_df_email.withColumn('email',lower(col('email')))"
   ]
  },
  {
   "cell_type": "code",
   "execution_count": null,
   "metadata": {},
   "outputs": [],
   "source": [
    "# from pyspark.sql.window import Window\n",
    "\n",
    "# contactibilty_retail_df_email = contactibilty_retail_df_email.withColumn(\"rn\", F.row_number()\n",
    "#         .over(Window.partitionBy('golden_id','email')\n",
    "#         .orderBy(F.col(\"rnk\").asc(),F.col(\"last_updated\").desc(),F.col(\"email\").desc_nulls_last())))\n",
    "\n",
    "# contactibilty_retail_df_email = contactibilty_retail_df_email.filter(F.col(\"rn\")<=2)\n",
    "\n",
    "from pyspark.sql.window import Window\n",
    "\n",
    "contactibilty_retail_df_email = contactibilty_retail_df_email.withColumn(\"rn\", F.dense_rank()\n",
    "        .over(Window.partitionBy('golden_id')\n",
    "        .orderBy(F.col(\"rnk\").asc(),F.col(\"last_updated\").desc(),F.col(\"email\").desc_nulls_last())))\n",
    "\n",
    "contactibilty_retail_df_email = contactibilty_retail_df_email.filter(F.col(\"rn\")<=2)"
   ]
  },
  {
   "cell_type": "code",
   "execution_count": null,
   "metadata": {},
   "outputs": [],
   "source": [
    "# from pyspark.sql.window import Window\n",
    "\n",
    "# contactibilty_retail_df_mob = contactibilty_retail_df_mob.withColumn(\"rn_mob\", F.row_number()\n",
    "#         .over(Window.partitionBy('golden_id','mobile')\n",
    "#         .orderBy(F.col(\"rnk\").asc(),F.col(\"last_updated\").desc(),F.col(\"mobile\").desc_nulls_last())))\n",
    "\n",
    "# contactibilty_retail_df_mob = contactibilty_retail_df_mob.filter(F.col(\"rn_mob\")<=2)\n",
    "\n",
    "from pyspark.sql.window import Window\n",
    "\n",
    "contactibilty_retail_df_mob = contactibilty_retail_df_mob.withColumn(\"rn_mob\", F.dense_rank()\n",
    "        .over(Window.partitionBy('golden_id')\n",
    "        .orderBy(F.col(\"rnk\").asc(),F.col(\"last_updated\").desc(),F.col(\"mobile\").desc_nulls_last())))\n",
    "\n",
    "contactibilty_retail_df_mob = contactibilty_retail_df_mob.filter(F.col(\"rn_mob\")<=2)"
   ]
  },
  {
   "cell_type": "code",
   "execution_count": null,
   "metadata": {},
   "outputs": [],
   "source": [
    "contactibilty_retail_df_email=contactibilty_retail_df_email.select('golden_id','email','rn','verification_flag').filter((col('email').isNotNull())).drop_duplicates()\n",
    "contactibilty_retail_df_mob=contactibilty_retail_df_mob.selectExpr('golden_id','mobile','rn_mob','verification_flag as verification_flag_mob').filter((col('mobile').isNotNull())).drop_duplicates()"
   ]
  },
  {
   "cell_type": "code",
   "execution_count": null,
   "metadata": {},
   "outputs": [],
   "source": [
    "contactibilty_retail_df=contactibilty_retail_df_mob.join(contactibilty_retail_df_email,'golden_id','full_outer').drop_duplicates()"
   ]
  },
  {
   "cell_type": "code",
   "execution_count": null,
   "metadata": {},
   "outputs": [],
   "source": [
    "contactibilty_retail_df.columns"
   ]
  },
  {
   "cell_type": "code",
   "execution_count": null,
   "metadata": {},
   "outputs": [],
   "source": [
    "contactibilty_retail_df=contactibilty_retail_df.repartition('golden_id')"
   ]
  },
  {
   "cell_type": "code",
   "execution_count": null,
   "metadata": {},
   "outputs": [],
   "source": [
    "col_str=['claim_no','claim_feature_concat','insured_name','claim_status','paid_amt_ind as claim_net',\n",
    "         'paid_date_ind as claim_closed_date'\n",
    "         ,'clm_create_date as claim_date','loss_reported_date as claim_reported_date',\n",
    "'policy_no as policy_number','certificate_no',\"pol_incept_date as policy_start_date\",\n",
    "         \"pol_exp_date as policy_end_date\",\n",
    "         'claimant_name','loss_desc_txt as loss_description','customer_id as source_system_customer_id',\n",
    "'coverage_desc as coverage_type','proposal_no as num_reference_no']\n",
    "\n",
    "gscPythonOptions = {\n",
    "\"url\": \"jdbc:postgresql://10.35.12.194:5432/gpadmin\",\n",
    "\"user\": \"gpcustcoe\",\n",
    "\"password\": \"gpcustcoe@123\",\n",
    "\"dbschema\":\"datamarts\",\n",
    "\"dbtable\": \"producer_policy_product_wise_base_data\",\n",
    "\"server.port\": \"1151-1171\"}\n",
    "crgp_df = sqlContext.read.format(\"greenplum\").options(**gscPythonOptions).load().selectExpr(col_str)\n",
    "\n",
    "#df_crp=df_crp.groupby('num_reference_no').agg(countDistinct(col('claim_no')).alias('claim_cnt'),sum(col('claim_gross').cast('double')).alias('claim_gross'))\n",
    "\n",
    "crgp_df.columns"
   ]
  },
  {
   "cell_type": "code",
   "execution_count": null,
   "metadata": {},
   "outputs": [],
   "source": [
    "crgp_df=crgp_df.withColumn('certificate_no',when(col('certificate_no').isin('0','0.0','/00000','000000','00000000'),lit('00000000')).otherwise(lit(col('certificate_no'))))\\\n",
    ".withColumn('policy_number',lpad(col('policy_number'),10,'0'))\n",
    "\n",
    "crgp_df=crgp_df.withColumn('policy_start_date',to_date(col('policy_start_date'),'dd-MM-yyyy'))\\\n",
    ".withColumn('policy_end_date',to_date(col('policy_end_date'),'dd-MM-yyyy'))"
   ]
  },
  {
   "cell_type": "code",
   "execution_count": null,
   "metadata": {},
   "outputs": [],
   "source": [
    "crgp_df=crgp_df.withColumn('policy_start_date',to_date(col('policy_start_date'),'dd-MM-yyyy'))\\\n",
    ".withColumn('policy_end_date',to_date(col('policy_end_date'),'dd-MM-yyyy'))\\\n",
    ".withColumn('claim_date',to_date(col('claim_date'),'dd-MM-yyyy'))\n"
   ]
  },
  {
   "cell_type": "code",
   "execution_count": null,
   "metadata": {},
   "outputs": [],
   "source": [
    "col_str=[\"nameofpreexistingdisease as ped\",\"num_reference_number as reference_num\"]\n",
    "gscPythonOptions = {\n",
    "\"url\": \"jdbc:postgresql://10.35.12.194:5432/gpadmin\",\n",
    "\"user\": \"gpcustcoe\",\n",
    "\"password\": \"gpcustcoe@123\",\n",
    "\"server.port\": \"1151-1170\",\n",
    "\"dbschema\":\"public\",\n",
    "\"dbtable\": \"underwriting_dh_cnfgtr_otherdt_grid_tab_hlt\"}\n",
    "pd_df = sqlContext.read.format(\"greenplum\").options(**gscPythonOptions).load()\\\n",
    "         .selectExpr(col_str)\n",
    "pd_df.columns"
   ]
  },
  {
   "cell_type": "code",
   "execution_count": null,
   "metadata": {},
   "outputs": [],
   "source": [
    "col_str=['feedback_title','feedback_date as date','score','golden_id']\n",
    "# \"current_year\"\n",
    "gscPythonOptions = {\n",
    "\"url\": \"jdbc:postgresql://10.35.12.194:5432/gpadmin\",\n",
    "\"user\": \"gpcustcoe\",\n",
    "\"password\": \"gpcustcoe@123\",\n",
    "\"server.port\": \"1151-1170\",\n",
    "\"dbschema\":\"customermart\",\n",
    "\"dbtable\": \"feedback_spa_v2\"}\n",
    "feedback_df = sqlContext.read.format(\"greenplum\").options(**gscPythonOptions).load()\\\n",
    "         .selectExpr(col_str)\n",
    "feedback_df.columns"
   ]
  },
  {
   "cell_type": "markdown",
   "metadata": {},
   "source": [
    "## Active"
   ]
  },
  {
   "cell_type": "code",
   "execution_count": null,
   "metadata": {},
   "outputs": [],
   "source": [
    "pdf=policy_df.select('source_system_customer_id','policy_end_date','record_type_desc','policy_number','certificate_no')\n",
    "\n",
    "is_policy=header_df.join(pdf,'source_system_customer_id','inner')"
   ]
  },
  {
   "cell_type": "code",
   "execution_count": null,
   "metadata": {},
   "outputs": [],
   "source": [
    "header_df=is_policy.select('golden_id','source_system_customer_id','mapping_date')"
   ]
  },
  {
   "cell_type": "code",
   "execution_count": null,
   "metadata": {},
   "outputs": [],
   "source": [
    "is_policy.columns"
   ]
  },
  {
   "cell_type": "code",
   "execution_count": null,
   "metadata": {},
   "outputs": [],
   "source": [
    "is_active_df=is_policy.withColumn('cust_status', when((col('policy_end_date') >=current_date()) &(col('record_type_desc')!='CANCELLATION') , lit(1)).otherwise(lit(0)))\\"
   ]
  },
  {
   "cell_type": "code",
   "execution_count": null,
   "metadata": {},
   "outputs": [],
   "source": [
    "is_cust_active=is_active_df.groupBy('golden_id').agg(max('cust_status').alias(\"is_active\"))\n"
   ]
  },
  {
   "cell_type": "code",
   "execution_count": null,
   "metadata": {},
   "outputs": [],
   "source": [
    "is_cust_active=is_cust_active.withColumn('is_active',when(is_cust_active['is_active']==1,True).otherwise(False))"
   ]
  },
  {
   "cell_type": "markdown",
   "metadata": {},
   "source": [
    "# policyDetails"
   ]
  },
  {
   "cell_type": "code",
   "execution_count": null,
   "metadata": {},
   "outputs": [],
   "source": [
    "# policy_details=header_df.join(policy_df,'source_system_customer_id',\"inner\").drop_duplicates()"
   ]
  },
  {
   "cell_type": "code",
   "execution_count": null,
   "metadata": {},
   "outputs": [],
   "source": [
    "policy_details=policy_df.join(header_df,'source_system_customer_id',\"left\").drop_duplicates()"
   ]
  },
  {
   "cell_type": "code",
   "execution_count": null,
   "metadata": {},
   "outputs": [],
   "source": [
    "policy_details=policy_details.join(producer_df,'producer_cd',\"left\").drop_duplicates()"
   ]
  },
  {
   "cell_type": "code",
   "execution_count": null,
   "metadata": {},
   "outputs": [],
   "source": [
    "# from pyspark.sql.window import Window\n",
    "\n",
    "# w = Window.partitionBy(['golden_id','policy_number','certificate_no','policy_start_date', 'policy_end_date']).orderBy([F.col('binddate').desc(),F.col('reference_num').desc()])\n",
    "# policy_details = policy_details.withColumn('row',F.row_number().over(w))\n",
    "# policy_details = policy_details.filter(F.col('row')==1).drop(policy_details.row).drop_duplicates()\n",
    "\n",
    "from pyspark.sql.window import Window\n",
    "\n",
    "w = Window.partitionBy(['policy_number','certificate_no','policy_start_date', 'policy_end_date']).orderBy([F.col('binddate').desc(),F.col('reference_num').desc()])\n",
    "policy_details = policy_details.withColumn('row',F.row_number().over(w))\n",
    "policy_details = policy_details.filter(F.col('row')==1).drop(policy_details.row).drop_duplicates()"
   ]
  },
  {
   "cell_type": "code",
   "execution_count": null,
   "metadata": {},
   "outputs": [],
   "source": [
    "crgp_df=crgp_df.drop_duplicates()"
   ]
  },
  {
   "cell_type": "code",
   "execution_count": null,
   "metadata": {},
   "outputs": [],
   "source": [
    "from pyspark.sql.functions import sum,avg,max\n",
    "group_cols = [\"policy_number\", \"certificate_no\",'policy_start_date', 'policy_end_date']\n",
    "df_p=crgp_df.groupBy(group_cols).agg(countDistinct(\"claim_no\").alias(\"claim_count\"),sum(\"claim_net\").alias(\"total_claim_amount\"))"
   ]
  },
  {
   "cell_type": "code",
   "execution_count": null,
   "metadata": {},
   "outputs": [],
   "source": [
    "policy_details=policy_details.join(df_p,group_cols,'left')"
   ]
  },
  {
   "cell_type": "code",
   "execution_count": null,
   "metadata": {},
   "outputs": [],
   "source": [
    "group_cols = [\"policy_number\", \"certificate_no\",'policy_start_date', 'policy_end_date']"
   ]
  },
  {
   "cell_type": "code",
   "execution_count": null,
   "metadata": {},
   "outputs": [],
   "source": [
    "policy_details=policy_details.join(crgp_df,group_cols,\"left_outer\").drop(crgp_df.num_reference_no)\\\n",
    ".drop(crgp_df.policy_number).drop(crgp_df.certificate_no).drop(crgp_df.source_system_customer_id).drop(crgp_df.policy_start_date)\\\n",
    ".drop(crgp_df.policy_end_date)"
   ]
  },
  {
   "cell_type": "code",
   "execution_count": null,
   "metadata": {},
   "outputs": [],
   "source": [
    "gscPythonOptions = {\"url\": \"jdbc:postgresql://10.35.12.194:5432/gpadmin\",\n",
    "                    \"user\": \"gpspark\",\n",
    "                    \"password\": \"spark@456\",\n",
    "                    \"dbschema\": \"public\",\n",
    "                    \"dbtable\": \"policy_dh_risk_headers_mot\",\n",
    "                    \"partitionColumn\":\"row_num\",\n",
    "                    \"partitions\": 16,\n",
    "                    \"server.port\": '1150-1170'}\n",
    "\n",
    "mot_uw_mot = sqlContext.read.format(\"greenplum\").options(**gscPythonOptions).load()\\\n",
    "                   .selectExpr(\"reference_num\",'variant as vehicle_variant', \"nominee_name as nominee_name_mot\",'nomineeage as nomineeage_mot', 'relationship as relationship_mot', 'relationship_to_the_insured as relationship_to_the_insured_mot')\\\n",
    "                   .dropDuplicates()\n",
    "\n",
    "mot_uw_mot.columns"
   ]
  },
  {
   "cell_type": "code",
   "execution_count": null,
   "metadata": {},
   "outputs": [],
   "source": [
    "gscPythonOptions = {\"url\": \"jdbc:postgresql://10.35.12.194:5432/gpadmin\",\n",
    "                    \"user\": \"gpspark\",\n",
    "                    \"password\": \"spark@456\",\n",
    "                    \"dbschema\": \"public\",\n",
    "                    \"dbtable\": \"underwriting_dh_cnfgtr_otherdt_grid_tab_hlt\",\n",
    "                    \"partitionColumn\":\"row_num\",\n",
    "                    \"partitions\": 16,\n",
    "                    \"server.port\": '1150-1170'}\n",
    "\n",
    "uw_hlt = sqlContext.read.format(\"greenplum\").options(**gscPythonOptions).load()\\\n",
    "                   .selectExpr(\"num_reference_number as reference_num\", \"nomineename as nomineename_hlt\",'age as nom_age_hlt',\n",
    "                               'dateofbirth as nom_dob_hlt', \"relationshipwithinsured as nomi_rel_hlt\",'appointeename','relationshipappnom','memberid')\\\n",
    "                   .filter(col('nomineename_hlt').isNotNull())\n",
    "\n",
    "uw_hlt.columns\n",
    "\n",
    "\n",
    "from pyspark.sql.window import Window\n",
    "\n",
    "w = Window.partitionBy(['reference_num']).orderBy([F.col('memberid').asc()])\n",
    "uw_hlt = uw_hlt.withColumn('row',F.row_number().over(w))\n",
    "uw_hlt = uw_hlt.filter(F.col('row')==1).drop(uw_hlt.row)\n",
    "\n",
    "\n",
    "uw_hlt=uw_hlt.withColumn('nomineename_hlt', trim(uw_hlt.nomineename_hlt))\n",
    "uw_hlt.columns"
   ]
  },
  {
   "cell_type": "code",
   "execution_count": null,
   "metadata": {},
   "outputs": [],
   "source": [
    "gscPythonOptions = {\"url\": \"jdbc:postgresql://10.35.12.194:5432/gpadmin\",\n",
    "                    \"user\": \"gpspark\",\n",
    "                    \"password\": \"spark@456\",\n",
    "                    \"dbschema\": \"public\",\n",
    "                    \"dbtable\": \"policy_dh_risk_details_lta\",\n",
    "                    \"partitionColumn\":\"row_num\",\n",
    "                    \"partitions\": 16,\n",
    "                    \"server.port\": '1150-1170'}\n",
    "\n",
    "lta = sqlContext.read.format(\"greenplum\").options(**gscPythonOptions).load()\\\n",
    "                   .selectExpr(\"reference_num\", 'nominee_name as nominee_name_lta', 'relationship as relationship_lta', 'dob as dob_lta','risk_detail_serial').filter(col('risk_detail_serial')==0)\\\n",
    "                   .dropDuplicates()\n",
    "\n",
    "lta.columns"
   ]
  },
  {
   "cell_type": "code",
   "execution_count": null,
   "metadata": {},
   "outputs": [],
   "source": [
    "gscPythonOptions = {\"url\": \"jdbc:postgresql://10.35.12.194:5432/gpadmin\",\n",
    "                    \"user\": \"gpspark\",\n",
    "                    \"password\": \"spark@456\",\n",
    "                    \"dbschema\": \"public\",\n",
    "                    \"dbtable\": \"underwriting_dh_cnfgtr_otherdt_grid_tab_trv\",\n",
    "                    \"partitionColumn\":\"row_num\",\n",
    "                    \"partitions\": 16,\n",
    "                    \"server.port\": '1150-1170'}\n",
    "\n",
    "uw_trv = sqlContext.read.format(\"greenplum\").options(**gscPythonOptions).load()\\\n",
    "                   .selectExpr(\"num_reference_number as reference_num\", \"nomineedob as nomineedob_trv\", 'nomineename as nomineename_trv', 'nomineerelationship as nomineerelationship_trv', 'nomineegender as nomineegender_trv','seq_no')\n",
    "\n",
    "from pyspark.sql.window import Window\n",
    "\n",
    "w = Window.partitionBy(['reference_num']).orderBy([F.col('seq_no').asc()])\n",
    "uw_trv = uw_trv.withColumn('row',F.row_number().over(w))\n",
    "uw_trv = uw_trv.filter(F.col('row')==1).drop(uw_trv.row)\n",
    "\n",
    "uw_trv.columns"
   ]
  },
  {
   "cell_type": "code",
   "execution_count": null,
   "metadata": {},
   "outputs": [],
   "source": [
    "gscPythonOptions = {\"url\": \"jdbc:postgresql://10.35.12.194:5432/gpadmin\",\n",
    "                    \"user\": \"gpspark\",\n",
    "                    \"password\": \"spark@456\",\n",
    "                    \"dbschema\": \"public\",\n",
    "                    \"dbtable\": \"underwriting_dh_cnfgtr_otherdt_grid_tab_mot\",\n",
    "                    \"partitionColumn\":\"row_num\",\n",
    "                    \"partitions\": 16,\n",
    "                    \"server.port\": '1150-1170'}\n",
    "\n",
    "appointee_mot = sqlContext.read.format(\"greenplum\").options(**gscPythonOptions).load()\\\n",
    "                   .selectExpr(\"num_reference_number as reference_num\",\"nameoftheappointee\",\"relationshipappnom as relationshipappnom_mot\")\n",
    "\n",
    "appointee_mot.columns"
   ]
  },
  {
   "cell_type": "code",
   "execution_count": null,
   "metadata": {},
   "outputs": [],
   "source": [
    "policy_details =policy_details.join(mot_uw_mot, \"reference_num\",\"left\")\n",
    "policy_details =policy_details.join(uw_hlt, \"reference_num\",\"left\")\n",
    "policy_details =policy_details.join(uw_trv, \"reference_num\",\"left\")\n",
    "policy_details=policy_details.join(lta, \"reference_num\",\"left\")\n",
    "policy_details=policy_details.join(appointee_mot,\"reference_num\",\"left\")\n",
    "policy_details.columns"
   ]
  },
  {
   "cell_type": "code",
   "execution_count": null,
   "metadata": {},
   "outputs": [],
   "source": [
    "policy_details=policy_details.withColumn('nominee_name', coalesce(col('nomineename_hlt'), col('nominee_name_mot'), col('nomineename_trv'), col('nominee_name_lta')))\\\n",
    ".withColumn('nominee_dob', coalesce(col('nomineedob_trv'), col('nom_dob_hlt')))\\\n",
    ".withColumn('nominee_age', coalesce(col('nomineeage_mot'), col('nom_age_hlt')))\\\n",
    ".withColumn('nominee_gender', coalesce(col('nomineegender_trv')))\\\n",
    ".withColumn('nominee_relation', coalesce(col('nomi_rel_hlt'), col('relationship_mot'),col('relationship_to_the_insured_mot'),col('relationship_lta'), col('nomineerelationship_trv')))\\\n",
    ".withColumn('appointee_name', coalesce(col('appointeename'), col('nameoftheappointee')))\\\n",
    ".withColumn('apppointee_relation', coalesce(col('relationshipappnom_mot'), col('relationshipappnom')))\n"
   ]
  },
  {
   "cell_type": "code",
   "execution_count": null,
   "metadata": {},
   "outputs": [],
   "source": [
    "policy_details=policy_details.withColumn('appointee_name',when(col('appointee_name').isNull(),lit('-')).otherwise(col('appointee_name')))\\\n",
    ".withColumn('apppointee_relation',when(col('apppointee_relation').isNull(),lit('-')).otherwise(col('apppointee_relation')))\\\n",
    ".withColumn('nominee_name',when(col('nominee_name').isNull(),lit('-')).otherwise(col('nominee_name')))\\\n",
    ".withColumn('nominee_gender',when(col('nominee_gender').isNull(),lit('-')).otherwise(col('nominee_gender')))\\\n",
    ".withColumn('nominee_relation',when(col('nominee_relation').isNull(),lit('-')).otherwise(col('nominee_relation')))\\\n",
    ".withColumn('nominee_age',when(col('nominee_age').isNull(),lit('-')).otherwise(col('nominee_age')))"
   ]
  },
  {
   "cell_type": "code",
   "execution_count": null,
   "metadata": {},
   "outputs": [],
   "source": [
    "policy_details_main=policy_details\\\n",
    ".withColumn('claim_count',when(col('claim_count').isNull(),lit('0')).otherwise(col('claim_count')))\\\n",
    ".withColumn('total_claim_amount',when(col('total_claim_amount').isNull(),lit('0.0')).otherwise(col('total_claim_amount')))\\\n",
    ".withColumn('uw_discount',when(col('uw_discount').isNull(),lit('0.0')).otherwise(col('uw_discount')))\\\n",
    ".withColumn('claim_no',when(col('claim_no').isNull(),lit('-')).otherwise(col('claim_no')))\\\n",
    ".withColumn('loss_description',when(col('loss_description').isNull(),lit('-')).otherwise(col('loss_description')))\\\n",
    ".withColumn('coverage_type',when(col('coverage_type').isNull(),lit('-')).otherwise(col('coverage_type')))\\\n",
    ".withColumn('claim_net',when(col('claim_net').isNull(),lit(None)).otherwise(col('claim_net')))\\\n",
    ".withColumn('total_claim_amount',when(col('total_claim_amount').isNull(),lit('0.0')).otherwise(col('total_claim_amount')))\\\n",
    ".withColumn('claim_closed_date',when(col('claim_closed_date').isNull(),lit(None)).otherwise(col('claim_closed_date')))\\\n"
   ]
  },
  {
   "cell_type": "code",
   "execution_count": null,
   "metadata": {},
   "outputs": [],
   "source": [
    "policy_details_main=policy_details_main.withColumn('nominee_dob',to_date(col('nominee_dob'),'dd-MM-yyyy'))"
   ]
  },
  {
   "cell_type": "code",
   "execution_count": null,
   "metadata": {},
   "outputs": [],
   "source": [
    "policy_details_main=policy_details_main.drop_duplicates()"
   ]
  },
  {
   "cell_type": "code",
   "execution_count": null,
   "metadata": {},
   "outputs": [],
   "source": [
    "# policy_details_main=policy_details_main.withColumn('current_year', when(year(col('policy_start_date'))==year(current_date()), lit(True)).otherwise(lit(False)))\\\n",
    "# .withColumn('status', when(col('policy_end_date') >=current_date(), lit('Active'))\\\n",
    "#             .when(months_between(current_date(),col('policy_end_date'))<=3,lit('DueForRenewal')).otherwise(lit('Inactive')))\\\n",
    "# .withColumn('status_enum', when(col('policy_end_date') >=current_date(), lit(1))\\\n",
    "#             .when(col(\"status\")=='DueForRenewal',lit(2)).otherwise(lit(0)))"
   ]
  },
  {
   "cell_type": "code",
   "execution_count": null,
   "metadata": {},
   "outputs": [],
   "source": [
    "policy_details_main=policy_details_main.withColumn('current_year', when(year(col('policy_start_date'))==year(current_date()), lit(True)).otherwise(lit(False)))\\\n",
    ".withColumn('status', when((months_between(col('policy_end_date'),current_date())<=3)&(months_between(col('policy_end_date'),current_date())>0),lit('DueForRenewal'))\\\n",
    "            .when(col('policy_end_date') >=current_date(), lit('Active'))\\\n",
    "            .otherwise(lit('Inactive')))\\\n",
    ".withColumn('status_enum',when(col(\"status\")=='DueForRenewal',lit(2))\\\n",
    "            .when(col('policy_end_date') >=current_date(), lit(1))\\\n",
    "            .otherwise(lit(0)))"
   ]
  },
  {
   "cell_type": "code",
   "execution_count": null,
   "metadata": {},
   "outputs": [],
   "source": [
    "policy_details_main=policy_details_main.withColumn('status', when((col('record_type_desc').isin('CANCELLATION')),lit('Inactive'))\\\n",
    "                           .otherwise(col('status')))\\\n",
    ".withColumn('status_enum', when((col('record_type_desc').isin('CANCELLATION')),lit(0))\\\n",
    "                           .otherwise(col('status_enum')))"
   ]
  },
  {
   "cell_type": "code",
   "execution_count": null,
   "metadata": {},
   "outputs": [],
   "source": [
    "policy_details_main=policy_details_main.withColumn('primary_key', concat_ws('',trim(col('policy_number')), trim(col('certificate_no')),trim(col('claim_feature_concat')),trim(col('policy_start_date')), trim(col('policy_end_date'))))"
   ]
  },
  {
   "cell_type": "code",
   "execution_count": null,
   "metadata": {},
   "outputs": [],
   "source": [
    "from pyspark.sql.window import Window\n",
    "\n",
    "w = Window.partitionBy('primary_key').orderBy([F.col('binddate').desc(),F.col('reference_num').desc()])\n",
    "policy_details_main = policy_details_main.withColumn('row',F.row_number().over(w))\n",
    "policy_details_main = policy_details_main.filter(F.col('row')==1).drop(policy_details_main.row).drop_duplicates()"
   ]
  },
  {
   "cell_type": "code",
   "execution_count": null,
   "metadata": {
    "scrolled": true
   },
   "outputs": [],
   "source": [
    "policy_details_main.persist()\n",
    "records=policy_details_main.count()"
   ]
  },
  {
   "cell_type": "code",
   "execution_count": null,
   "metadata": {},
   "outputs": [],
   "source": [
    "output_index = 'spa_get_policy_details_v2'#cpa_all_prod_fy20,cpa_all_prod_fy21\n",
    "schema = 'customermart'\n",
    "\n",
    "import sys\n",
    "try:\n",
    "    \n",
    "     policy_details_main.write.option(\"truncate\", \"true\").format(\"greenplum\")\\\n",
    "    .option(\"dbtable\",output_index).option('dbschema',schema)\\\n",
    "    .option(\"server.port\",\"1150-1170\").option(\"url\",prod_url)\\\n",
    "    .option(\"user\", user_prod).option(\"password\",pwd_prod).mode('overwrite').save()\n",
    "    \n",
    "    \n",
    "except Exception as e:\n",
    "    x = e\n",
    "    print(x)\n",
    "else:\n",
    "    x = 'success'\n",
    "    print(x)"
   ]
  },
  {
   "cell_type": "code",
   "execution_count": null,
   "metadata": {},
   "outputs": [],
   "source": [
    "gscPythonOptions = {\"url\": \"jdbc:postgresql://10.35.12.194:5432/gpadmin\",\n",
    "                    \"user\": user_prod,\n",
    "                    \"password\": pwd_prod,\n",
    "                    \"dbschema\": \"customermart\",\n",
    "                    \"dbtable\": \"spa_get_policy_details_v2\",#policy_retail_staging_2018_03,\n",
    "                    \"server.port\": '1150-1170'}\n",
    "policy_details_main = sqlContext.read.format(\"greenplum\").options(**gscPythonOptions).load()\n",
    "\n",
    "\n",
    "# .filter(~(col('product_name').isin(l)))"
   ]
  },
  {
   "cell_type": "code",
   "execution_count": null,
   "metadata": {},
   "outputs": [],
   "source": [
    "policy_details_main=policy_details_main.select('policy_number', 'certificate_no', 'source_system_customer_id', 'golden_id', 'product_name', 'product_cd', 'reference_num', 'policy_start_date', 'policy_end_date', 'lob', 'sum_insured', 'uw_discount', 'premium', 'veh_make', 'veh_model', \n",
    "                                     'vehicle_registration_no', 'ncb_percent', 'plan_name', 'status', 'record_type_desc', 'binddate','veh_engine_no', 'veh_chassis_no', 'claimant_name', 'claim_reported_date', 'claim_no',\n",
    "                                     'claim_closed_date', 'loss_description', 'coverage_type', 'claim_net', col('vehicle_variant').cast('String'), col('nominee_name').cast('String'), col('nominee_relation').cast('String'), col('nominee_dob').cast('String'), col('nominee_age').cast('String'), col('appointee_name').cast('String'), col('apppointee_relation').cast('String'), 'current_year', 'status_enum', 'claim_count', 'total_claim_amount','producer_cd','parent_producer_cd','primary_key')"
   ]
  },
  {
   "cell_type": "code",
   "execution_count": null,
   "metadata": {},
   "outputs": [],
   "source": [
    "policy_details_main_f=policy_details_main.selectExpr('golden_id',\"current_year\",\"policy_number as policy_no\",\"certificate_no\",\"lob\",\"status\",\"status_enum\",\"product_name\",\"product_cd as product_code\",\"reference_num as proposal_no\",\n",
    "\"source_system_customer_id as customer_id\",\"policy_start_date\",\"policy_end_date\",\"sum_insured\",\"uw_discount as discount\",\"premium\",\"claim_count\",\"total_claim_amount\",\"veh_make as vehicle_make\",\"veh_model as vehicle_model\",\n",
    "\"vehicle_variant\",\"vehicle_registration_no\",\"plan_name\",\"ncb_percent as ncb\",\"nominee_name\",\"nominee_relation\",\"nominee_dob\",\"nominee_age\",\"appointee_name\",'binddate',\n",
    "\"apppointee_relation\",\"claim_no\",\"claim_reported_date\",\"claim_closed_date\",\"claimant_name\",\"loss_description\",\"coverage_type\",\"claim_net as claim_amount_paid\",'producer_cd','parent_producer_cd','primary_key')"
   ]
  },
  {
   "cell_type": "code",
   "execution_count": null,
   "metadata": {},
   "outputs": [],
   "source": [
    "policy_details_main_f1=policy_details_main_f.select('golden_id', 'current_year', 'policy_no', 'certificate_no', 'lob', 'status', 'status_enum', 'product_name', 'product_code', 'proposal_no', 'customer_id', 'policy_start_date', 'policy_end_date', col('sum_insured').cast('long'), 'discount', 'premium', 'claim_count', 'total_claim_amount', 'vehicle_make', 'vehicle_model', 'vehicle_variant', 'vehicle_registration_no', 'plan_name', col('ncb').cast('String'), 'nominee_name', 'nominee_relation', 'nominee_dob', 'nominee_age', 'appointee_name', 'apppointee_relation', 'claim_no', 'claim_reported_date', 'claim_closed_date', 'claimant_name', 'loss_description', 'coverage_type', 'claim_amount_paid','binddate','primary_key')"
   ]
  },
  {
   "cell_type": "code",
   "execution_count": null,
   "metadata": {},
   "outputs": [],
   "source": [
    "policy_details_main_f1=policy_details_main_f1.withColumn('policy_start_date',date_format(to_utc_timestamp(col('policy_start_date'),\"UTC\"),'yyyy-MM-dd'))\\\n",
    ".withColumn('policy_end_date',date_format(to_utc_timestamp(col('policy_end_date'),\"UTC\"),'yyyy-MM-dd'))\\\n",
    ".withColumn('claim_reported_date',date_format(to_utc_timestamp(col('claim_reported_date'),\"UTC\"),'yyyy-MM-dd'))\\\n",
    ".withColumn('claim_closed_date',date_format(to_utc_timestamp(col('claim_closed_date'),\"UTC\"),'yyyy-MM-dd'))\\\n",
    ".withColumn('nominee_dob',date_format(to_utc_timestamp(col('nominee_dob'),\"UTC\"),'yyyy-MM-dd'))"
   ]
  },
  {
   "cell_type": "code",
   "execution_count": null,
   "metadata": {},
   "outputs": [],
   "source": [
    "policy_details_main_f1.columns"
   ]
  },
  {
   "cell_type": "code",
   "execution_count": null,
   "metadata": {},
   "outputs": [],
   "source": [
    "policy_details_main_f1=policy_details_main_f1.drop_duplicates()"
   ]
  },
  {
   "cell_type": "code",
   "execution_count": null,
   "metadata": {},
   "outputs": [],
   "source": [
    "# policy_details_main_f_active=policy_details_main_f1.filter(F.date_add(col('policy_end_date'),90)>=to_timestamp(lit(report_date_str), format='yyyy-MM-dd'))\n",
    "# policy_details_main_f_inactive=policy_details_main_f1.filter(F.date_add(col('policy_end_date'),90)<to_timestamp(lit(report_date_str), format='yyyy-MM-dd'))"
   ]
  },
  {
   "cell_type": "code",
   "execution_count": null,
   "metadata": {
    "scrolled": true
   },
   "outputs": [],
   "source": [
    "target_index='get_spa_policy_details_active'\n",
    "print(target_index)"
   ]
  },
  {
   "cell_type": "code",
   "execution_count": null,
   "metadata": {},
   "outputs": [],
   "source": [
    "import json, pprint, requests\n",
    "es_nodes = '10.35.12.212'\n",
    "es_port = '9200'\n",
    "es_user = 'elastic'\n",
    "es_pwd = 'bEiilauM3es'\n",
    "\n",
    "######target_index = 'actuarial_premium_risk_tables'----previous name...delete later\n",
    "\n",
    "#alias_name = 'nepuepr_uat_3'\n",
    "target_doc_type = 'get_spa_policy_details_active'\n",
    "#########delete index if already exists########################################################################################################################################################################"
   ]
  },
  {
   "cell_type": "code",
   "execution_count": null,
   "metadata": {},
   "outputs": [],
   "source": [
    "target_index_doc_type = target_index +'/'+ target_doc_type"
   ]
  },
  {
   "cell_type": "code",
   "execution_count": null,
   "metadata": {},
   "outputs": [],
   "source": [
    "target_index_doc_type"
   ]
  },
  {
   "cell_type": "code",
   "execution_count": null,
   "metadata": {},
   "outputs": [],
   "source": [
    "######### create mapping##################################################################################################################################################################################################################################################################\n",
    "mapping_output = {target_doc_type:{\"properties\": {\n",
    "\"golden_id\": {\n",
    "\"type\": \"keyword\"\n",
    "},\n",
    "\"current_year\": {\n",
    "\"type\": \"keyword\",\"index\":\"false\"\n",
    "},\n",
    "\"policy_no\": {\n",
    "\"type\": \"keyword\",\n",
    "},\n",
    "\"certificate_no\": {\n",
    "\"type\": \"keyword\",\n",
    "},\n",
    "\"lob\": {\n",
    "\"type\": \"keyword\",\"index\":\"false\"\n",
    "},\n",
    "\"status\": {\n",
    "\"type\": \"keyword\",\"index\":\"false\"\n",
    "},\n",
    "\"status_enum\": {\n",
    "\"type\": \"keyword\"\n",
    "},\n",
    "\"product_name\": {\n",
    "\"type\": \"keyword\",\"index\":\"false\"\n",
    "},\n",
    "\"product_code\": {\n",
    "\"type\": \"keyword\",\"index\":\"false\"\n",
    "},\n",
    "\"proposal_no\": {\n",
    "\"type\": \"keyword\",\"index\":\"false\"\n",
    "},\n",
    "\"customer_id\": {\n",
    "\"type\": \"keyword\",\"index\":\"false\"\n",
    "},\n",
    "\"policy_start_date\": {\n",
    "\"type\":\"keyword\",\"index\":\"false\"\n",
    "},\n",
    "\"policy_end_date\": {\n",
    "\"type\": \"keyword\",\"index\":\"false\"\n",
    "},\n",
    "\"sum_insured\": {\n",
    "\"type\": \"keyword\",\"index\":\"false\"\n",
    "},\n",
    "\"discount\": {\n",
    "\"type\": \"keyword\",\"index\":\"false\"\n",
    "},\n",
    "\"premium\": {\n",
    "\"type\": \"keyword\",\"index\":\"false\"\n",
    "},\n",
    "\"claim_count\": {\n",
    "\"type\":\"keyword\",\"index\":\"false\"\n",
    "},\n",
    "\"total_claim_amount\": {\n",
    "\"type\": \"keyword\",\"index\":\"false\"\n",
    "},\n",
    "\"vehicle_make\": {\n",
    "\"type\": \"keyword\",\"index\":\"false\"\n",
    "},\n",
    "\"vehicle_model\": {\n",
    "\"type\": \"keyword\",\"index\":\"false\"\n",
    "},\n",
    "\"vehicle_variant\": {\n",
    "\"type\":\"keyword\",\"index\":\"false\"\n",
    "},\n",
    "\"vehicle_registration_no\": {\n",
    "\"type\": \"keyword\",\"index\":\"false\"\n",
    "},\n",
    "\"plan_name\": {\n",
    "\"type\": \"keyword\",\"index\":\"false\"\n",
    "},\n",
    "\"ncb\": {\n",
    "\"type\": \"keyword\",\"index\":\"false\"\n",
    "},\n",
    "\"nominee_name\": {\n",
    "\"type\": \"keyword\",\"index\":\"false\"\n",
    "},\n",
    "\"nominee_relation\": {\n",
    "\"type\":\"keyword\",\"index\":\"false\"\n",
    "},\n",
    "\"nominee_dob\": {\n",
    "\"type\": \"keyword\",\"index\":\"false\"\n",
    "},\n",
    "\"nominee_age\": {\n",
    "\"type\": \"keyword\",\"index\":\"false\"\n",
    "},\n",
    "\"appointee_name\": {\n",
    "\"type\": \"keyword\",\"index\":\"false\"\n",
    "},\n",
    "\"apppointee_relation\": {\n",
    "\"type\":\"keyword\",\"index\":\"false\"\n",
    "},\n",
    "\"claim_no\": {\n",
    "\"type\": \"keyword\",\"index\":\"false\"\n",
    "},\n",
    "\"claim_reported_date\": {\n",
    "\"type\": \"keyword\",\"index\":\"false\"\n",
    "},\n",
    "\"claim_closed_date\": {\n",
    "\"type\": \"keyword\",\"index\":\"false\"\n",
    "},\n",
    "\"claimant_name\": {\n",
    "\"type\": \"keyword\",\"index\":\"false\"\n",
    "},\n",
    "\"loss_description\": {\n",
    "\"type\":\"keyword\",\"index\":\"false\"\n",
    "},\n",
    "\"coverage_type\": {\n",
    "\"type\": \"keyword\",\"index\":\"false\"\n",
    "},\n",
    "\"claim_amount_paid\": {\n",
    "\"type\": \"keyword\",\"index\":\"false\"\n",
    "},\n",
    "\"binddate\": {\n",
    "\"type\": \"keyword\",\"index\":\"false\"\n",
    "},\n",
    "\"primary_key\": {\n",
    "\"type\": \"keyword\"\n",
    "}}\n",
    "}}\n",
    "\n",
    "\n",
    "URL = 'http://'+es_user+':'+es_pwd+'@'+es_nodes+':'+es_port+'/'+target_index+'/_mapping/'+target_doc_type\n",
    "headers = {'Content-Type': 'application/json'}\n",
    "r = requests.put(URL, data=json.dumps(mapping_output), headers=headers)\n",
    "print(r)"
   ]
  },
  {
   "cell_type": "code",
   "execution_count": null,
   "metadata": {},
   "outputs": [],
   "source": [
    "try:\n",
    "     policy_details_main_f1.write.format('org.elasticsearch.spark.sql').option('es.index.auto.create', 'true')\\\n",
    "        .option('es.nodes' , es_nodes).option('es.port', es_port).option('es.resource', target_index_doc_type)\\\n",
    "        .option(\"es.write.operation\",\"upsert\").option(\"es.mapping.id\",'primary_key').mode(\"append\").save() \n",
    "except Exception as e :\n",
    "    x = e\n",
    "else: \n",
    "    x = 200 #success\n",
    "print(x)"
   ]
  },
  {
   "cell_type": "markdown",
   "metadata": {},
   "source": [
    "# policyDetailsSummary"
   ]
  },
  {
   "cell_type": "code",
   "execution_count": null,
   "metadata": {},
   "outputs": [],
   "source": [
    "policy_details_main_f=policy_details_main_f.filter(col('golden_id').isNotNull())"
   ]
  },
  {
   "cell_type": "code",
   "execution_count": null,
   "metadata": {},
   "outputs": [],
   "source": [
    "policy_summary=policy_details_main.selectExpr('golden_id',\"policy_number as policy_no\",\"producer_cd as producer_code\",'parent_producer_cd as parent_producer_code',\"certificate_no\",\"lob\",\"status\",\"status_enum\",\"product_name\",\"product_cd as product_code\",\"policy_start_date\",\n",
    "\"policy_end_date\",'sum_insured',\"uw_discount as discount\",\"premium\",\"claim_count\",\"total_claim_amount\",'binddate','reference_num')"
   ]
  },
  {
   "cell_type": "code",
   "execution_count": null,
   "metadata": {},
   "outputs": [],
   "source": [
    "policy_summary=policy_summary.withColumn('discount',when(col('discount').isNull(),lit('0.0')).otherwise(col('discount')))\\\n",
    ".withColumn('claim_count',when(col('claim_count').isNull(),lit('0')).otherwise(col('claim_count')))\\\n",
    ".withColumn('total_claim_amount',when(col('total_claim_amount').isNull(),lit('0.0')).otherwise(col('total_claim_amount')))"
   ]
  },
  {
   "cell_type": "code",
   "execution_count": null,
   "metadata": {},
   "outputs": [],
   "source": [
    "policy_summary=policy_summary.withColumn('policy_start_date',date_format(to_utc_timestamp(col('policy_start_date'),\"UTC\"),'yyyy-MM-dd'))\\\n",
    ".withColumn('policy_end_date',date_format(to_utc_timestamp(col('policy_end_date'),\"UTC\"),'yyyy-MM-dd'))"
   ]
  },
  {
   "cell_type": "code",
   "execution_count": null,
   "metadata": {},
   "outputs": [],
   "source": [
    "policy_summary=policy_summary.filter(col('golden_id').isNotNull())"
   ]
  },
  {
   "cell_type": "code",
   "execution_count": null,
   "metadata": {},
   "outputs": [],
   "source": [
    "policy_summary=policy_summary.drop_duplicates()"
   ]
  },
  {
   "cell_type": "code",
   "execution_count": null,
   "metadata": {},
   "outputs": [],
   "source": [
    "from pyspark.sql.window import Window\n",
    "\n",
    "w = Window.partitionBy(['golden_id','policy_no','certificate_no']).orderBy([F.col('binddate').desc(),F.col('reference_num').desc()])\n",
    "policy_summary = policy_summary.withColumn('row',F.row_number().over(w))\n",
    "policy_summary = policy_summary.filter(F.col('row')==1).drop(policy_summary.row).drop_duplicates()"
   ]
  },
  {
   "cell_type": "code",
   "execution_count": null,
   "metadata": {},
   "outputs": [],
   "source": [
    "policy_summary=policy_summary.withColumn('primary_key', concat_ws('',trim(col('golden_id')),trim(col('policy_no')), trim(col('certificate_no'))))"
   ]
  },
  {
   "cell_type": "code",
   "execution_count": null,
   "metadata": {},
   "outputs": [],
   "source": [
    "from pyspark.sql.window import Window\n",
    "\n",
    "w = Window.partitionBy('primary_key').orderBy([F.col('binddate').desc(),F.col('reference_num').desc()])\n",
    "policy_summary = policy_summary.withColumn('row',F.row_number().over(w))\n",
    "policy_summary = policy_summary.filter(F.col('row')==1).drop(policy_summary.row).drop_duplicates()"
   ]
  },
  {
   "cell_type": "code",
   "execution_count": null,
   "metadata": {},
   "outputs": [],
   "source": [
    "policy_summary=policy_summary.selectExpr('golden_id',\"policy_no\",\"producer_code\",'parent_producer_code',\"certificate_no\",\"lob\",\"status\",\"status_enum\",\"product_name\",\"product_code\",\"policy_start_date\",\n",
    "\"policy_end_date\",\"sum_insured\",\"discount\",\"premium\",\"claim_count\",\"total_claim_amount\",'binddate','primary_key')"
   ]
  },
  {
   "cell_type": "code",
   "execution_count": null,
   "metadata": {},
   "outputs": [],
   "source": [
    "policy_summary.persist()\n",
    "policy_summary.count()"
   ]
  },
  {
   "cell_type": "code",
   "execution_count": null,
   "metadata": {},
   "outputs": [],
   "source": [
    "max_commit_timestamp =policy_summary.select(max('binddate')).first()[0]"
   ]
  },
  {
   "cell_type": "code",
   "execution_count": null,
   "metadata": {
    "scrolled": true
   },
   "outputs": [],
   "source": [
    "max_commit_timestamp.strftime(\"%Y-%m-%d %H:%M:%S\")"
   ]
  },
  {
   "cell_type": "code",
   "execution_count": null,
   "metadata": {},
   "outputs": [],
   "source": [
    "time_filter['start_date'].strftime(\"%Y-%m-%d %H:%M:%S\")"
   ]
  },
  {
   "cell_type": "code",
   "execution_count": null,
   "metadata": {},
   "outputs": [],
   "source": [
    "# policy_summary_active=policy_summary.filter(F.date_add(col('policy_end_date'),90)>=to_timestamp(lit(report_date_str), format='yyyy-MM-dd'))\n",
    "# policy_summary_inactive=policy_summary.filter(F.date_add(col('policy_end_date'),90)<to_timestamp(lit(report_date_str), format='yyyy-MM-dd'))"
   ]
  },
  {
   "cell_type": "code",
   "execution_count": null,
   "metadata": {},
   "outputs": [],
   "source": [
    "target_index='get_spa_policy_details_summary_active'\n",
    "print(target_index)"
   ]
  },
  {
   "cell_type": "code",
   "execution_count": null,
   "metadata": {},
   "outputs": [],
   "source": [
    "import json, pprint, requests\n",
    "es_nodes = '10.35.12.212'\n",
    "es_port = '9200'\n",
    "es_user = 'elastic'\n",
    "es_pwd = 'bEiilauM3es'\n",
    "\n",
    "######target_index = 'actuarial_premium_risk_tables'----previous name...delete later\n",
    "\n",
    "#alias_name = 'nepuepr_uat_3'\n",
    "target_doc_type = 'get_spa_policy_details_summary_active'\n",
    "#########delete index if already exists########################################################################################################################################################################"
   ]
  },
  {
   "cell_type": "code",
   "execution_count": null,
   "metadata": {},
   "outputs": [],
   "source": [
    "target_index_doc_type = target_index +'/'+ target_doc_type"
   ]
  },
  {
   "cell_type": "code",
   "execution_count": null,
   "metadata": {},
   "outputs": [],
   "source": [
    "target_index_doc_type"
   ]
  },
  {
   "cell_type": "code",
   "execution_count": null,
   "metadata": {},
   "outputs": [],
   "source": [
    "######### create mapping##################################################################################################################################################################################################################################################################\n",
    "mapping_output = {target_doc_type:{\"properties\": {\n",
    "\"golden_id\": {\n",
    "\"type\": \"keyword\"\n",
    "},\n",
    "\"policy_no\": {\n",
    "\"type\": \"keyword\",\"index\":\"false\"\n",
    "},\n",
    "\"producer_code\": {\n",
    "\"type\": \"keyword\",\"index\":\"false\"\n",
    "},\n",
    "\"parent_producer_code\": {\n",
    "\"type\": \"keyword\",\"index\":\"false\"\n",
    "},\n",
    "\"certificate_no\": {\n",
    "\"type\":\"keyword\",\"index\":\"false\"\n",
    "},\n",
    "\"lob\": {\n",
    "\"type\": \"keyword\",\"index\":\"false\"\n",
    "},\n",
    "\"status\": {\n",
    "\"type\": \"keyword\",\"index\":\"false\"\n",
    "},\n",
    "\"status_enum\": {\n",
    "\"type\": \"keyword\"\n",
    "},\n",
    "\"product_name\": {\n",
    "\"type\": \"keyword\",\"index\":\"false\"\n",
    "},\n",
    "\"product_code\": {\n",
    "\"type\": \"keyword\",\"index\":\"false\"\n",
    "},\n",
    "\"policy_start_date\": {\n",
    "\"type\":\"keyword\",\"index\":\"false\"\n",
    "},\n",
    "\"policy_end_date\": {\n",
    "\"type\": \"keyword\",\"index\":\"false\"\n",
    "},\n",
    "\"sum_insured\": {\n",
    "\"type\": \"keyword\",\"index\":\"false\"\n",
    "},\n",
    "\"discount\": {\n",
    "\"type\": \"keyword\",\"index\":\"false\"\n",
    "},\n",
    "\"premium\": {\n",
    "\"type\": \"keyword\",\"index\":\"false\"\n",
    "},\n",
    "\"claim_count\": {\n",
    "\"type\":\"keyword\",\"index\":\"false\"\n",
    "},\n",
    "\"total_claim_amount\": {\n",
    "\"type\": \"keyword\",\"index\":\"false\"\n",
    "},\n",
    "\"binddate\": {\n",
    "\"type\": \"keyword\",\"index\":\"false\"\n",
    "},\n",
    "\"primary_key\": {\n",
    "\"type\": \"keyword\"\n",
    "}}\n",
    "}}\n",
    "\n",
    "\n",
    "\n",
    "URL = 'http://'+es_user+':'+es_pwd+'@'+es_nodes+':'+es_port+'/'+target_index+'/_mapping/'+target_doc_type\n",
    "headers = {'Content-Type': 'application/json'}\n",
    "r = requests.put(URL, data=json.dumps(mapping_output), headers=headers)\n",
    "print(r)"
   ]
  },
  {
   "cell_type": "code",
   "execution_count": null,
   "metadata": {},
   "outputs": [],
   "source": [
    "try:\n",
    "     policy_summary.write.format('org.elasticsearch.spark.sql').option('es.index.auto.create', 'true')\\\n",
    "        .option('es.nodes' , es_nodes).option('es.port', es_port).option('es.resource', target_index_doc_type)\\\n",
    "        .option(\"es.write.operation\",\"upsert\").option(\"es.mapping.id\",'primary_key').mode(\"append\").save() \n",
    "except Exception as e :\n",
    "    x = e\n",
    "else: \n",
    "    x = 200 # success\n",
    "print(x)"
   ]
  },
  {
   "cell_type": "markdown",
   "metadata": {},
   "source": [
    "# GET POLICY LIST"
   ]
  },
  {
   "cell_type": "code",
   "execution_count": null,
   "metadata": {},
   "outputs": [],
   "source": [
    "policy_details_main=policy_details_main.filter(col('golden_id').isNotNull())"
   ]
  },
  {
   "cell_type": "code",
   "execution_count": null,
   "metadata": {},
   "outputs": [],
   "source": [
    "col_str=['NUM_REFERENCE_NO as reference_num','WATTS_POLICY_NO as IPDS_POLICY_NUMBER']\n",
    "gscPythonOptions = {\n",
    "\"url\": \"jdbc:postgresql://10.35.12.194:5432/gpadmin\",\n",
    "\"user\": \"gpspark\",\n",
    "\"password\": \"spark@456\",\n",
    "\"server.port\": \"1151-1170\",\n",
    "\"dbschema\":\"registers\",\n",
    "\"dbtable\": \"premium_register\"}\n",
    "pr_df = sqlContext.read.format(\"greenplum\").options(**gscPythonOptions).load()\\\n",
    "         .selectExpr(col_str)"
   ]
  },
  {
   "cell_type": "code",
   "execution_count": null,
   "metadata": {},
   "outputs": [],
   "source": [
    "policy_retail_base=policy_details_main.join(pr_df,'reference_num','inner')"
   ]
  },
  {
   "cell_type": "code",
   "execution_count": null,
   "metadata": {},
   "outputs": [],
   "source": [
    "policy_retail_base=policy_retail_base.join(contactibilty_retail_df,'golden_id','left')"
   ]
  },
  {
   "cell_type": "code",
   "execution_count": null,
   "metadata": {},
   "outputs": [],
   "source": [
    "policy_retail_base_main=policy_retail_base.selectExpr('mobile as MOBILE_NUMBER','email as EMAIL_ID','IPDS_POLICY_NUMBER',\n",
    "                                                 'policy_number as POLICY_NUMBER','claim_no as CLAIM_NUMBER',\n",
    "                                                 'certificate_no as CERTIFICATE_NUMBER',\n",
    "'reference_num as PROPOSAL_NUMBER',\"'-' as PROPOSAL_STATUS\",\"'-' as PROPOSAL_DESCRIPTION\",\"'-' as CUSTOMER_NAME\",\n",
    "                                                 'source_system_customer_id as CUSTOMER_ID','binddate'\n",
    ",'vehicle_registration_no as VEHICLE_REGISTRATION_NUMBER','sum_insured as SUM_INSURED','lob as LOB',\n",
    "                                                 'product_cd as PRODUCT_CODE','product_name as PRODUCT_NAME',\n",
    "                                                 'policy_start_date as POLICY_START_DATE','policy_end_date as POLICY_END_DATE','golden_id as DC_UNIFIED_ID')\n"
   ]
  },
  {
   "cell_type": "code",
   "execution_count": null,
   "metadata": {},
   "outputs": [],
   "source": [
    "policy_retail_base_main=policy_retail_base_main.drop_duplicates()"
   ]
  },
  {
   "cell_type": "code",
   "execution_count": null,
   "metadata": {},
   "outputs": [],
   "source": [
    "policy_retail_base_main.persist()\n",
    "policy_retail_base_main.count()"
   ]
  },
  {
   "cell_type": "code",
   "execution_count": null,
   "metadata": {},
   "outputs": [],
   "source": [
    "output_index = 'get_policy_list_spa_2'#cpa_all_prod_fy20,cpa_all_prod_fy21\n",
    "schema = 'customermart'\n",
    "\n",
    "import sys\n",
    "try:\n",
    "    \n",
    "     policy_retail_base_main.write.option(\"truncate\", \"true\").format(\"greenplum\")\\\n",
    "    .option(\"dbtable\",output_index).option('dbschema',schema)\\\n",
    "    .option(\"server.port\",\"1150-1170\").option(\"url\",prod_url)\\\n",
    "    .option(\"user\", user_prod).option(\"password\",pwd_prod).mode('overwrite').save()\n",
    "    \n",
    "    \n",
    "except Exception as e:\n",
    "    x = e\n",
    "    print(x)\n",
    "else:\n",
    "    x = 'success'\n",
    "    print(x)"
   ]
  },
  {
   "cell_type": "code",
   "execution_count": null,
   "metadata": {},
   "outputs": [],
   "source": [
    "# gscPythonOptions = {\n",
    "#     \"url\": \"jdbc:postgresql://10.35.12.194:5432/gpadmin\",\"user\": \"gpcustcoe\",\"password\": \"gpcustcoe@123\",\n",
    "#     \"dbschema\":\"customermart\",\"dbtable\": \"get_policy_list_spa_2\",\"server.port\":\"1150-1170\"}\n",
    "\n",
    "# policy_retail_base_main = sqlContext.read.format(\"greenplum\").options(**gscPythonOptions).load()"
   ]
  },
  {
   "cell_type": "code",
   "execution_count": null,
   "metadata": {},
   "outputs": [],
   "source": [
    "from pyspark.sql.window import Window\n",
    "\n",
    "policy_retail_base_main=policy_retail_base_main.withColumn(\"CLAIM_NUMBER\", collect_set(col(\"CLAIM_NUMBER\")).over(Window.partitionBy(\"PROPOSAL_NUMBER\")))\n"
   ]
  },
  {
   "cell_type": "code",
   "execution_count": null,
   "metadata": {},
   "outputs": [],
   "source": [
    "policy_retail_base_main=policy_retail_base_main.withColumn(\"LOAD_DATE\",current_date())"
   ]
  },
  {
   "cell_type": "code",
   "execution_count": null,
   "metadata": {},
   "outputs": [],
   "source": [
    "policy_retail_base_main=policy_retail_base_main.selectExpr('MOBILE_NUMBER', 'EMAIL_ID', '0 as IPDS_POLICY_NUMBER', 'POLICY_NUMBER', 'CLAIM_NUMBER', 'CERTIFICATE_NUMBER', 'PROPOSAL_NUMBER', 'PROPOSAL_STATUS', 'PROPOSAL_DESCRIPTION', 'CUSTOMER_NAME', 'CUSTOMER_ID', 'VEHICLE_REGISTRATION_NUMBER', 'SUM_INSURED', 'LOB', 'PRODUCT_CODE', 'PRODUCT_NAME', 'POLICY_START_DATE', 'POLICY_END_DATE', 'DC_UNIFIED_ID',\n",
    "                                              '0.0 as PREMIUM_AMOUNT_INR_WITHOUT_TAX','0.0 as CGST_AMOUNT','0.0 as IGST_AMOUNT','binddate',\n",
    "'0.0 as SGST_AMOUNT','0.0 as PREMIUM_WITH_TAX','null as BRANCH','null as RECORD_TYPE_DESC','null as RENL_CERT_NO','null as EFF_DT_SEQ_NO',\n",
    "'null as TXT_TIMES_RENEWED', 'null as PREVIOUS_POL_START_DATE', 'null as PREVIOUS_POL_EXPIRY_DATE','null as PRODUCER_CD','null as PRODUCER_NAME','null as POLICY_STATUS',\n",
    "                                                   'null as DRIVING_LICENSE_NUMBER', 'null as PORTABILITY_FLAG','LOAD_DATE')"
   ]
  },
  {
   "cell_type": "code",
   "execution_count": null,
   "metadata": {},
   "outputs": [],
   "source": [
    "policy_retail_base_main1=policy_retail_base_main.select(col('DC_UNIFIED_ID').cast('long'), 'CUSTOMER_ID', 'PROPOSAL_STATUS', \n",
    "                                                   col('PROPOSAL_NUMBER').cast('string'), 'PRODUCT_CODE','POLICY_NUMBER',\n",
    "                                                   'CERTIFICATE_NUMBER', col('POLICY_START_DATE').cast('string'), \n",
    "                                                   col('POLICY_END_DATE').cast('string'), \n",
    "                                                   'PRODUCT_NAME', col('PREMIUM_AMOUNT_INR_WITHOUT_TAX').cast('double'),\n",
    "                                                   col('CGST_AMOUNT').cast('double'), 'binddate',\n",
    "                                                   col('IGST_AMOUNT').cast('double'), col('SGST_AMOUNT').cast('double'), \n",
    "col('PREMIUM_WITH_TAX').cast('double'), col('SUM_INSURED').cast('double'),col('PRODUCER_NAME').cast('string'),\n",
    "'CLAIM_NUMBER', col('PRODUCER_CD').cast('string'), col('BRANCH').cast('string'), col('RECORD_TYPE_DESC').cast('string')\n",
    "                                                   , 'LOB', 'VEHICLE_REGISTRATION_NUMBER', 'IPDS_POLICY_NUMBER', \n",
    "                                                   col('POLICY_STATUS').cast('string'), col('PROPOSAL_DESCRIPTION').cast('string'), col('RENL_CERT_NO').cast('string'), col('EFF_DT_SEQ_NO').cast('string'), \n",
    "                                                   col('TXT_TIMES_RENEWED').cast('string'), col('PREVIOUS_POL_START_DATE').cast('string'), col('PREVIOUS_POL_EXPIRY_DATE').cast('string'),\n",
    "                                                   col('DRIVING_LICENSE_NUMBER').cast('string'), col('PORTABILITY_FLAG').cast('string'), col('MOBILE_NUMBER').cast('string'), col('EMAIL_ID').cast('string'), \n",
    "                                                   col('CUSTOMER_NAME').cast('string'), col('LOAD_DATE').cast('string'))"
   ]
  },
  {
   "cell_type": "code",
   "execution_count": null,
   "metadata": {},
   "outputs": [],
   "source": [
    "from pyspark.sql.window import Window\n",
    "\n",
    "w = Window.partitionBy(['MOBILE_NUMBER', 'EMAIL_ID','IPDS_POLICY_NUMBER','POLICY_NUMBER', 'CERTIFICATE_NUMBER','CUSTOMER_ID','DC_UNIFIED_ID'])\\\n",
    ".orderBy([F.col('binddate').desc(),F.col('PROPOSAL_NUMBER').desc()])\n",
    "policy_retail_base_main = policy_retail_base_main.withColumn('row',F.row_number().over(w))\n",
    "policy_retail_base_main = policy_retail_base_main.filter(F.col('row')==1).drop(policy_retail_base_main.row).drop_duplicates()"
   ]
  },
  {
   "cell_type": "code",
   "execution_count": null,
   "metadata": {},
   "outputs": [],
   "source": [
    "policy_retail_base_main1=policy_retail_base_main1.withColumn('primary_key', concat_ws('',trim(col('MOBILE_NUMBER')),trim(col('EMAIL_ID')), trim(col('IPDS_POLICY_NUMBER')),trim(col('POLICY_NUMBER')),trim(col('CERTIFICATE_NUMBER')), trim(col('CUSTOMER_ID')), trim(col('DC_UNIFIED_ID'))))"
   ]
  },
  {
   "cell_type": "code",
   "execution_count": null,
   "metadata": {},
   "outputs": [],
   "source": [
    "cert=['/00000','0.0','000000','00000000',None]\n",
    "\n",
    "policy_retail_base_main1=policy_retail_base_main1.withColumn('IPDS_POLICY_NUMBER',when(col('IPDS_POLICY_NUMBER').isin(0),lit(None))\\\n",
    "                                            .when(col('IPDS_POLICY_NUMBER').isNull(),lit(None))\\\n",
    "                                            .otherwise(col('IPDS_POLICY_NUMBER')))\\\n",
    ".withColumn('CERTIFICATE_NUMBER',when(col('CERTIFICATE_NUMBER').isin(cert),lit(\"-\"))\\\n",
    "                                            .when(col('CERTIFICATE_NUMBER').isNull(),lit(\"-\"))\\\n",
    "                                            .otherwise(col('CERTIFICATE_NUMBER')))"
   ]
  },
  {
   "cell_type": "code",
   "execution_count": null,
   "metadata": {},
   "outputs": [],
   "source": [
    "policy_retail_base_main1=policy_retail_base_main1.withColumn('EMAIL_ID',lower(col('EMAIL_ID')))"
   ]
  },
  {
   "cell_type": "code",
   "execution_count": null,
   "metadata": {},
   "outputs": [],
   "source": [
    "policy_retail_base_main1=policy_retail_base_main1.repartition('primary_key')"
   ]
  },
  {
   "cell_type": "code",
   "execution_count": null,
   "metadata": {},
   "outputs": [],
   "source": [
    "# policy_retail_base_main_active=policy_retail_base_main1.filter(F.date_add(col('POLICY_END_DATE'),90)>=to_timestamp(lit(report_date_str), format='yyyy-MM-dd'))\n",
    "# policy_retail_base_main_inactive=policy_retail_base_main1.filter(F.date_add(col('POLICY_END_DATE'),90)<to_timestamp(lit(report_date_str), format='yyyy-MM-dd'))"
   ]
  },
  {
   "cell_type": "code",
   "execution_count": null,
   "metadata": {},
   "outputs": [],
   "source": [
    "target_index='spa_get_policy_list_active'\n",
    "print(target_index)"
   ]
  },
  {
   "cell_type": "code",
   "execution_count": null,
   "metadata": {},
   "outputs": [],
   "source": [
    "import json, pprint, requests\n",
    "es_nodes = '10.35.12.212'\n",
    "es_port = '9200'\n",
    "es_user = 'elastic'\n",
    "es_pwd = 'bEiilauM3es'\n",
    "\n",
    "######target_index = 'actuarial_premium_risk_tables'----previous name...delete later\n",
    "\n",
    "#alias_name = 'nepuepr_uat_3'\n",
    "target_doc_type = 'spa_get_policy_list_active'\n",
    "#########delete index if already exists########################################################################################################################################################################"
   ]
  },
  {
   "cell_type": "code",
   "execution_count": null,
   "metadata": {},
   "outputs": [],
   "source": [
    "target_index_doc_type = target_index +'/'+ target_doc_type"
   ]
  },
  {
   "cell_type": "code",
   "execution_count": null,
   "metadata": {},
   "outputs": [],
   "source": [
    "target_index_doc_type"
   ]
  },
  {
   "cell_type": "code",
   "execution_count": null,
   "metadata": {},
   "outputs": [],
   "source": [
    "policy_retail_base_main1=policy_retail_base_main1.drop_duplicates()"
   ]
  },
  {
   "cell_type": "code",
   "execution_count": null,
   "metadata": {},
   "outputs": [],
   "source": [
    "######### create mapping##################################################################################################################################################################################################################################################################\n",
    "mapping_output = {target_doc_type:{\"properties\": {\n",
    "\"CUSTOMER_ID\": {\n",
    "  \"type\": \"keyword\",\n",
    "},\n",
    "\"PROPOSAL_STATUS\": {\n",
    "  \"type\": \"keyword\",\"index\":\"false\"\n",
    "},\n",
    "\"PROPOSAL_NUMBER\": {\n",
    "  \"type\": \"keyword\",\n",
    "},\n",
    "\"PRODUCT_CODE\": {\n",
    "  \"type\": \"keyword\",\"index\":\"false\"\n",
    "},\n",
    "\"POLICY_NUMBER\": {\n",
    "  \"type\": \"keyword\",\n",
    "},\n",
    "\"CERTIFICATE_NUMBER\": {\n",
    "  \"type\": \"keyword\",\n",
    "},\n",
    "\"POLICY_START_DATE\": {\n",
    "  \"type\": \"keyword\",\"index\":\"false\"\n",
    "},\n",
    "\"POLICY_END_DATE\": {\n",
    " \"type\": \"keyword\",\"index\":\"false\"\n",
    "},\n",
    "\"PRODUCT_NAME\": {\n",
    "  \"type\": \"keyword\",\"index\":\"false\"\n",
    "},\n",
    "\"PREMIUM_AMOUNT_INR_WITHOUT_TAX\": {\n",
    "  \"type\": \"double\",\"index\":\"false\"\n",
    "},\n",
    "\"CGST_AMOUNT\": {\n",
    "  \"type\": \"double\",\"index\":\"false\"\n",
    "},\n",
    "\"IGST_AMOUNT\": {\n",
    "  \"type\": \"double\",\"index\":\"false\"\n",
    "},\n",
    "\"SGST_AMOUNT\": {\n",
    "  \"type\": \"double\",\"index\":\"false\"\n",
    "},\n",
    "\"PREMIUM_WITH_TAX\": {\n",
    "  \"type\": \"double\",\"index\":\"false\"\n",
    "},\n",
    "\"SUM_INSURED\": {\n",
    "  \"type\": \"double\",\"index\":\"false\"\n",
    "},\n",
    "\"PRODUCER_CD\": {\n",
    "  \"type\": \"keyword\",\"index\":\"false\"\n",
    "},\n",
    "\"PRODUCER_NAME\": {\n",
    "  \"type\": \"keyword\",\"index\":\"false\"\n",
    "},\n",
    "\"BRANCH\": {\n",
    "  \"type\": \"keyword\",\"index\":\"false\"\n",
    "},\n",
    "\"RECORD_TYPE_DESC\": {\n",
    "  \"type\": \"keyword\",\"index\":\"false\"\n",
    "},\n",
    "\"LOB\": {\n",
    "  \"type\": \"keyword\",\"index\":\"false\"\n",
    "},\n",
    "\"VEHICLE_REGISTRATION_NUMBER\": {\n",
    "  \"type\": \"keyword\",\"index\":\"false\"\n",
    "},\n",
    "\"IPDS_POLICY_NUMBER\": {\n",
    "  \"type\": \"keyword\"\n",
    "},\n",
    "\"POLICY_STATUS\": {\n",
    "  \"type\": \"keyword\",\"index\":\"false\"\n",
    "},\n",
    "\"PROPOSAL_DESCRIPTION\": {\n",
    "  \"type\": \"keyword\",\"index\":\"false\"\n",
    "},\n",
    "\"RENL_CERT_NO\": {\n",
    "  \"type\": \"keyword\",\"index\":\"false\"\n",
    "},\n",
    "\"EFF_DT_SEQ_NO\": {\n",
    "  \"type\": \"keyword\",\"index\":\"false\"\n",
    "},\n",
    "\"TXT_TIMES_RENEWED\": {\n",
    "  \"type\": \"keyword\",\"index\":\"false\"\n",
    "},\n",
    "\"PREVIOUS_POL_START_DATE\": {\n",
    "  \"type\": \"keyword\",\"index\":\"false\"\n",
    "},\n",
    "\"PREVIOUS_POL_EXPIRY_DATE\": {\n",
    "  \"type\": \"keyword\",\"index\":\"false\"\n",
    "},\n",
    "\"DRIVING_LICENSE_NUMBER\": {\n",
    "  \"type\": \"keyword\",\"index\":\"false\"\n",
    "},\n",
    "\"PORTABILITY_FLAG\": {\n",
    "  \"type\": \"keyword\",\"index\":\"false\"\n",
    "},\n",
    "\"DC_UNIFIED_ID\": {\n",
    "  \"type\": \"keyword\",\"index\":\"false\"\n",
    "},\n",
    "\"MOBILE_NUMBER\": {\n",
    "  \"type\": \"keyword\"\n",
    "},\n",
    "\"EMAIL_ID\": {\n",
    "  \"type\": \"keyword\"\n",
    "},\n",
    "\"CUSTOMER_NAME\": {\n",
    "  \"type\": \"keyword\",\"index\":\"false\"\n",
    "},\n",
    "\"LOAD_DATE\": {\n",
    "  \"type\": \"keyword\"\n",
    "},\n",
    "\"primary_key\": {\n",
    "\"type\": \"keyword\"\n",
    "},\n",
    "}\n",
    "}}\n",
    "\n",
    "\n",
    "\n",
    "URL = 'http://'+es_user+':'+es_pwd+'@'+es_nodes+':'+es_port+'/'+target_index+'/_mapping/'+target_doc_type\n",
    "headers = {'Content-Type': 'application/json'}\n",
    "r = requests.put(URL, data=json.dumps(mapping_output), headers=headers)\n",
    "print(r)"
   ]
  },
  {
   "cell_type": "code",
   "execution_count": null,
   "metadata": {},
   "outputs": [],
   "source": [
    "try:\n",
    "     policy_retail_base_main1.write.format('org.elasticsearch.spark.sql').option('es.index.auto.create', 'true')\\\n",
    "        .option('es.nodes' , es_nodes).option('es.port', es_port).option('es.resource', target_index_doc_type)\\\n",
    "        .option(\"es.write.operation\",\"upsert\").option(\"es.mapping.id\",'primary_key').mode(\"append\").save() \n",
    "except Exception as e :\n",
    "    x = e\n",
    "else: \n",
    "    x = 200 # success\n",
    "print(x)"
   ]
  },
  {
   "cell_type": "code",
   "execution_count": null,
   "metadata": {},
   "outputs": [],
   "source": [
    "table_name='spav2_policy'\n",
    "source='spav2_policy'\n",
    "conn_prod = psycopg2.connect(host=prod_host, port=prod_port, user=user_prod, password=pwd_prod, dbname=prod_dbname)\n",
    "conn_to=conn_prod"
   ]
  },
  {
   "cell_type": "code",
   "execution_count": null,
   "metadata": {},
   "outputs": [],
   "source": [
    "# Generic function to save the progress from last run into Progress table\n",
    "def update_progress(table_name,source,time_filter,max_commit_timestamp,records,start_time,starttime,status):\n",
    "    output_index = \"progress\"\n",
    "    schema = \"customermart\"\n",
    "\n",
    "\n",
    "    import sys\n",
    "    import time\n",
    "    try:\n",
    "        \n",
    "\n",
    "\n",
    "        df_progress= sqlContext.createDataFrame([(table_name,source,\n",
    "                                       time_filter['start_date'].strftime(\"%Y-%m-%d %H:%M:%S\"),\n",
    "                                        max_commit_timestamp.strftime(\"%Y-%m-%d %H:%M:%S\"),records)]\n",
    "                                     ,['table_name', 'source','from_datetime','to_datetime','records'])\\\n",
    "        .withColumn('start_time',lit(start_time)).withColumn('end_time',current_timestamp())\\\n",
    "                    .withColumn('executed_in_mins',lit((time.time() - starttime)/60))\\\n",
    "                                .withColumn('status',lit(status)).withColumn('remarks',lit(None))\n",
    "    \n",
    "\n",
    "        \n",
    "        df_progress.write.format(\"greenplum\")\\\n",
    "            .option(\"dbtable\",output_index).option('dbschema',schema)\\\n",
    "            .option(\"server.port\",\"1150-1170\").option(\"url\",prod_url)\\\n",
    "            .option(\"user\", user_prod).option(\"password\",pwd_prod).mode('append').save()\n",
    "        \n",
    "       \n",
    "    except Exception as e:\n",
    "        x = e\n",
    "        print(x)\n",
    "    else:\n",
    "        x = 'success'\n",
    "        print(\"Updated Progress for {table_name} from {source} until {to_datetime}. {records} records processed in this run\".format(table_name=table_name, source=source,to_datetime=max_commit_timestamp.strftime(\"%Y-%m-%d %H:%M:%S\"),records=records))\n",
    "        print(x)"
   ]
  },
  {
   "cell_type": "code",
   "execution_count": null,
   "metadata": {},
   "outputs": [],
   "source": [
    "if  x == 200:\n",
    "    update_progress(table_name,source,time_filter,max_commit_timestamp,records,start_time,starttime,'Success')\n",
    "    print('SUCCESS')\n",
    "else:\n",
    "    update_progress(table_name,source,time_filter,max_commit_timestamp,'0',start_time,starttime,'Failed')\n",
    "    print('FAILED')"
   ]
  },
  {
   "cell_type": "code",
   "execution_count": null,
   "metadata": {},
   "outputs": [],
   "source": [
    "policy_retail_base_main1.unpersist()"
   ]
  },
  {
   "cell_type": "code",
   "execution_count": null,
   "metadata": {},
   "outputs": [],
   "source": [
    "import io\n",
    "import pandas as pd\n",
    "import xlsxwriter\n",
    "import sys\n",
    "import smtplib\n",
    "from os.path import basename\n",
    "from email.mime.application import MIMEApplication\n",
    "from email.mime.multipart import MIMEMultipart\n",
    "from email.mime.text import MIMEText\n",
    "from email.utils import COMMASPACE, formatdate\n",
    "import pandas as pd\n",
    "from sqlalchemy import create_engine\n",
    "from smtplib import SMTP\n",
    "\n",
    "if x!=200:\n",
    "    status='FAILED'\n",
    "else:\n",
    "    status=\"SUCCESS\"\n",
    "\n",
    "subject=f\"Automated Mail-SPA PART-2 Job Status : {status}\"\n",
    "\n",
    "if x==200:\n",
    "    recipients = ['nishant5.addenki@tataaig.com','devnandan.TataIndustries@tataaig.com','mayur.TataIndustries@tataaig.com','Ajeet3.Jaiswal@tataaig.com'] \n",
    "    emaillist = [elem.strip().split(',') for elem in recipients]\n",
    "    msg = MIMEMultipart()\n",
    "    msg['Subject'] = subject\n",
    "    msg['From'] = 'customercoe@tataaig.com'\n",
    "\n",
    "\n",
    "    html = \"\"\"\\\n",
    "    <html>\n",
    "      <head></head>\n",
    "      <body>\n",
    "        SPA PART-2 job status is: Successful\n",
    "      </body>\n",
    "        <p>This is automated mail, please don't reply. Thanks</p>\n",
    "    </html>\n",
    "    \"\"\"\n",
    "\n",
    "    part1 = MIMEText(html, 'html')\n",
    "    msg.attach(part1)\n",
    "\n",
    "    server = smtplib.SMTP(\"tataaig-com.mail.protection.outlook.com\",25)\n",
    "    server.sendmail(msg['From'], emaillist , msg.as_string())\n",
    "else:\n",
    "      \n",
    "    recipients = ['nishant5.addenki@tataaig.com','devnandan.TataIndustries@tataaig.com','mayur.TataIndustries@tataaig.com','Ajeet3.Jaiswal@tataaig.com'] \n",
    "    emaillist = [elem.strip().split(',') for elem in recipients]\n",
    "    msg = MIMEMultipart()\n",
    "    msg['Subject'] = subject\n",
    "    msg['From'] = 'customercoe@tataaig.com'\n",
    "\n",
    "\n",
    "    html = \"\"\"\\\n",
    "    <html>\n",
    "      <head></head>\n",
    "      <body>\n",
    "        CPA job status is: Failed\n",
    "      </body>\n",
    "        <p>This is automated mail, please don't reply. Thanks</p>\n",
    "    </html>\n",
    "    \"\"\"\n",
    "\n",
    "    part1 = MIMEText(html, 'html')\n",
    "    msg.attach(part1)\n",
    "\n",
    "    server = smtplib.SMTP(\"tataaig-com.mail.protection.outlook.com\",25)\n",
    "    server.sendmail(msg['From'], emaillist , msg.as_string())"
   ]
  },
  {
   "cell_type": "code",
   "execution_count": null,
   "metadata": {},
   "outputs": [],
   "source": [
    "spark.stop()"
   ]
  },
  {
   "cell_type": "code",
   "execution_count": null,
   "metadata": {},
   "outputs": [],
   "source": [
    "\n",
    "\n"
   ]
  }
 ],
 "metadata": {
  "kernelspec": {
   "display_name": "PySpark",
   "language": "",
   "name": "pysparkkernel"
  },
  "language_info": {
   "codemirror_mode": {
    "name": "python",
    "version": 3
   },
   "mimetype": "text/x-python",
   "name": "pyspark",
   "pygments_lexer": "python3"
  }
 },
 "nbformat": 4,
 "nbformat_minor": 4
}
