{
 "cells": [
  {
   "cell_type": "code",
   "execution_count": 1,
   "metadata": {},
   "outputs": [
    {
     "name": "stdout",
     "output_type": "stream",
     "text": [
      "Starting Spark application\n"
     ]
    },
    {
     "data": {
      "text/html": [
       "<table>\n",
       "<tr><th>ID</th><th>YARN Application ID</th><th>Kind</th><th>State</th><th>Spark UI</th><th>Driver log</th><th>Current session?</th></tr><tr><td>18712</td><td>None</td><td>pyspark</td><td>idle</td><td></td><td></td><td>✔</td></tr></table>"
      ],
      "text/plain": [
       "<IPython.core.display.HTML object>"
      ]
     },
     "metadata": {},
     "output_type": "display_data"
    },
    {
     "data": {
      "application/vnd.jupyter.widget-view+json": {
       "model_id": "",
       "version_major": 2,
       "version_minor": 0
      },
      "text/plain": [
       "FloatProgress(value=0.0, bar_style='info', description='Progress:', layout=Layout(height='25px', width='50%'),…"
      ]
     },
     "metadata": {},
     "output_type": "display_data"
    },
    {
     "name": "stdout",
     "output_type": "stream",
     "text": [
      "SparkSession available as 'spark'.\n"
     ]
    },
    {
     "data": {
      "application/vnd.jupyter.widget-view+json": {
       "model_id": "",
       "version_major": 2,
       "version_minor": 0
      },
      "text/plain": [
       "FloatProgress(value=0.0, bar_style='info', description='Progress:', layout=Layout(height='25px', width='50%'),…"
      ]
     },
     "metadata": {},
     "output_type": "display_data"
    }
   ],
   "source": [
    "import sys\n",
    "\n",
    "\n",
    "no_of_cpu = 8\n",
    "max_cores = 8\n",
    "executor_mem = '56g'\n",
    "\n",
    "\n",
    "\n",
    "Job_Name = 'Nishant: Policy_retail'\n",
    "\n",
    "from pyspark.mllib.stat import Statistics\n",
    "from pyspark.sql.functions import asc,lit\n",
    "#warnings.filterwarnings('error')\n",
    "import pyspark\n",
    "from datetime import datetime,timedelta\n",
    "from pyspark.sql import SQLContext\n",
    "from pyspark import SparkContext, SparkConf\n",
    "from pyspark.sql import functions as F\n",
    "\n",
    "\n",
    "conf = pyspark.SparkConf()\n",
    "#import numpy\n",
    "import calendar\n",
    "#import pandas as pd\n",
    "#import simplejson as json\n",
    "#import pandas as pd\n",
    "import numpy as np\n",
    "import datetime\n",
    "from pyspark.sql.functions import *\n",
    "from pyspark.sql.types import DateType\n",
    "from pyspark.sql.functions import lit\n",
    "import simplejson as json\n",
    "import json, pprint, requests\n",
    "#es_nodes = '10.35.12.5'\n",
    "#es_nodes = '10.35.12.6'\n",
    "es_nodes = '10.35.12.194'#,10.35.12.6,10.35.12.5\n",
    "es_nodes_temp='10.35.12.194'\n",
    "es_port = '5432'\n",
    "es_user = ''\n",
    "es_pwd = ''\n",
    "mesos_ip = 'mesos://10.33.195.18:5050'#'mesos://10.35.12.5:5050'\n",
    "\n",
    "spark.stop() #############NEED TO COMMENT THIS SPARK.STOP WHEN RUNNING THROUGH SHELL###############################\n",
    "\n",
    "conf.setMaster(mesos_ip)\n",
    "\n",
    "conf.set('spark.executor.cores',no_of_cpu) ### change 1\n",
    "#conf.set('spark.memory.fraction','.2')\n",
    "conf.set('spark.executor.memory',executor_mem) \n",
    "conf.set('spark.es.scroll.size','10000')\n",
    "conf.set('spark.network.timeout','600s')\n",
    "conf.set('spark.sql.crossJoin.enabled', 'true')\n",
    "\n",
    "conf.set('spark.ui.port','4052')\n",
    "\n",
    "conf.set('spark.executor.heartbeatInterval','60s')\n",
    "conf.set(\"spark.driver.cores\",\"4\")\n",
    "conf.set(\"spark.driver.extraJavaOptions\",\"-Xmx8g -Xms8g\")\n",
    "\n",
    "#conf.set(\"spark.shuffle.blockTransferService\", \"nio\"); \n",
    "conf.set(\"spark.files.overwrite\",\"true\");\n",
    "conf.set(\"spark.kryoserializer.buffer\", \"70\"); \n",
    "conf.set(\"spark.driver.extraJavaOptions\", \"-XX:+UseG1GC\");\n",
    "conf.set(\"spark.executor.extraJavaOptions\", \"-XX:+UseG1GC\");\n",
    "conf.set(\"spark.serializer\", \"org.apache.spark.serializer.KryoSerializer\"); \n",
    "conf.set(\"spark.broadcast.compress\", \"true\"); \n",
    "conf.set(\"spark.shuffle.compress\", \"true\"); \n",
    "conf.set(\"spark.shuffle.spill.compress\", \"true\");\n",
    "conf.set(\"spark.app.name\", Job_Name)\n",
    "#conf.set(\"spark.io.compression.codec\",\"org.apache.spark.io.LZ4CompressionCodec\");\n",
    "#conf.set(\"spark.sql.inMemoryColumnarStorage.compressed\", \"true\"); \n",
    "from pyspark.sql.functions import broadcast\n",
    "\n",
    "conf.set('spark.driver.memory','20g') ### change 2\n",
    "conf.set('spark.cores.max',max_cores) ### change 3\n",
    "conf.set('spark.sql.shuffle.partitions','400')\n",
    "#conf.set('spark.sql.crossJoin.enabled', 'true')\n",
    "conf.set('es.nodes',es_nodes)\n",
    "conf.set('es.port',es_port)\n",
    "conf.set('es.nodes.wan.only','true')\n",
    "conf.set(\"spark.sql.autoBroadcastJoinThreshold\",-1)\n",
    "\n",
    "#conf.set('spark.es.net.http.auth.user','Spark')\n",
    "#conf.set('spark.es.net.http.auth.pass','Jarkpet1Sap3')\n",
    "conf.set('spark.num.executors','4')\n",
    "conf.set('spark.debug.maxToStringFields', 200)\n",
    "\n",
    "conf.set('spark.es.net.http.auth.user', es_user)\n",
    "conf.set('spark.es.net.http.auth.pass', es_pwd)\n",
    "\n",
    "conf.set('spark.es.mapping.date.rich','false')\n",
    "spark = pyspark.SparkContext(conf=conf)\n",
    "sqlContext = SQLContext(spark)\n",
    "\n",
    "# Load Data into PySpark DataFrames\n",
    "# Prodcom Data Frame\n",
    "import json, pprint, requests\n",
    "import pyspark.sql.functions as sf\n",
    "from pyspark.sql.types import *\n",
    "\n",
    "\n",
    "import numpy as np\n",
    "import datetime\n",
    "from pyspark.sql.functions import *\n",
    "from pyspark.sql.types import DateType"
   ]
  },
  {
   "cell_type": "code",
   "execution_count": 2,
   "metadata": {},
   "outputs": [
    {
     "data": {
      "application/vnd.jupyter.widget-view+json": {
       "model_id": "",
       "version_major": 2,
       "version_minor": 0
      },
      "text/plain": [
       "FloatProgress(value=0.0, bar_style='info', description='Progress:', layout=Layout(height='25px', width='50%'),…"
      ]
     },
     "metadata": {},
     "output_type": "display_data"
    }
   ],
   "source": [
    "prod_url = \"jdbc:postgresql://10.35.12.194:5432/gpadmin\"\n",
    "prod_host = '10.35.12.194'\n",
    "prod_port = '5432'\n",
    "prod_dbname = 'gpadmin'\n",
    "user_prod=\"gpspark\"\n",
    "pwd_prod=\"spark@456\"\n",
    "dbschema=\"public\"\n",
    "\n",
    "\n",
    "prod_gpdb_spark_options ={\n",
    "    \"url\": \"jdbc:postgresql://{host}:{port}/{dbname}\".format(host=prod_host,port=prod_port, dbname=prod_dbname),\n",
    "    \"user\": \"{user}\".format(user=user_prod),\n",
    "    \"password\": \"{password}\".format(password=pwd_prod)\n",
    "} \n",
    "\n",
    "\n"
   ]
  },
  {
   "cell_type": "code",
   "execution_count": 3,
   "metadata": {},
   "outputs": [
    {
     "data": {
      "application/vnd.jupyter.widget-view+json": {
       "model_id": "",
       "version_major": 2,
       "version_minor": 0
      },
      "text/plain": [
       "FloatProgress(value=0.0, bar_style='info', description='Progress:', layout=Layout(height='25px', width='50%'),…"
      ]
     },
     "metadata": {},
     "output_type": "display_data"
    }
   ],
   "source": [
    "# Read the table and load as dataframe\n",
    "def load_gpdb_jdbc(col_str,dbtable,dbschema,col_name=None,time_filter=None,partitionColumn=\"row_num\"):\n",
    "    \"\"\"\n",
    "    This is used to read gpdb with filter for columns and can apply other filter(date,values).\n",
    "    Time filter contains startdate,enddate\n",
    "    \"\"\"\n",
    "    gscPythonOptions = {\n",
    "                        \"url\": prod_url,\n",
    "                        \"user\": user_prod,\n",
    "                        \"password\": pwd_prod,\n",
    "                        \"dbschema\": dbschema,\n",
    "                        \"dbtable\": dbtable,\n",
    "                        \"partitionColumn\":partitionColumn,\n",
    "                        \"partitions\": 8,\n",
    "                        \"server.port\":\"1150-1170\"}\n",
    "   \n",
    "    if time_filter:\n",
    "        data = sqlContext.read.format(\"greenplum\").options(**gscPythonOptions).load()\\\n",
    "                .selectExpr(col_str).drop_duplicates().filter(col(col_name).between(to_timestamp(lit(time_filter['start_date']),\n",
    "                                                                 format='yyyy-MM-dd'),\n",
    "                                                    to_timestamp(lit(time_filter['end_date']),\n",
    "                                                                 format='yyyy-MM-dd')))\n",
    "    else :\n",
    "        data = sqlContext.read.format(\"greenplum\").options(**gscPythonOptions).load()\\\n",
    "                .selectExpr(col_str).drop_duplicates()\n",
    "   \n",
    "    return data"
   ]
  },
  {
   "cell_type": "code",
   "execution_count": 4,
   "metadata": {},
   "outputs": [
    {
     "data": {
      "application/vnd.jupyter.widget-view+json": {
       "model_id": "",
       "version_major": 2,
       "version_minor": 0
      },
      "text/plain": [
       "FloatProgress(value=0.0, bar_style='info', description='Progress:', layout=Layout(height='25px', width='50%'),…"
      ]
     },
     "metadata": {},
     "output_type": "display_data"
    }
   ],
   "source": [
    "def get_latest_progress():\n",
    "    \n",
    "    try: \n",
    "        gscPythonOptions = {\n",
    "                 \"url\":prod_url ,\n",
    "                 \"user\":user_prod ,\n",
    "                 \"password\": pwd_prod,\n",
    "                 \"dbschema\":\"customermart\",\n",
    "                 \"dbtable\": \"progress\",\n",
    "                 \"server.port\":\"1150-1170\"} \n",
    "        \n",
    "        # this query will fetch till what date we have inserted the records in target\n",
    "        last_run= sqlContext.read.format(\"greenplum\").options(**gscPythonOptions).load()\\\n",
    "            .select('table_name','source','to_datetime').filter(col('table_name')=='policy_retail')\\\n",
    "            .filter(col('source')=='policy_retail').filter(col('status')=='Success').filter(col('records')!='0')\n",
    "        \n",
    "        Max_last_run =last_run.select(max('to_datetime')).first()[0]\n",
    " \n",
    "\n",
    "        # if no record is available in progress then it will raise value error, in this case default value will be picked from except clause\n",
    "        if Max_last_run is None:\n",
    "            raise ValueError(\"No records found!\")\n",
    "\n",
    "        #print(\"Record Found. Progress updated till {}\".format(Max_last_run))2014-11-07 (2019, 12, 31 \n",
    "\n",
    "    except Exception as E: \n",
    "        Max_last_run = datetime.datetime(2023, 12,1, 0, 0)  # 2014-11-07 this is the default start date when no record is present in progress for customer_demographics table\n",
    "        print(\"Executed_except\",repr(E))\n",
    "    return Max_last_run"
   ]
  },
  {
   "cell_type": "code",
   "execution_count": 5,
   "metadata": {},
   "outputs": [
    {
     "data": {
      "application/vnd.jupyter.widget-view+json": {
       "model_id": "",
       "version_major": 2,
       "version_minor": 0
      },
      "text/plain": [
       "FloatProgress(value=0.0, bar_style='info', description='Progress:', layout=Layout(height='25px', width='50%'),…"
      ]
     },
     "metadata": {},
     "output_type": "display_data"
    }
   ],
   "source": [
    "# Generic function to save the progress from last run into Progress table\n",
    "def update_progress(table_name,source,time_filter,records,start_time,starttime,status):\n",
    "    output_index = \"progress\"\n",
    "    schema = \"customermart\"\n",
    "\n",
    "\n",
    "    import sys\n",
    "    import time\n",
    "    try:\n",
    "        \n",
    "                \n",
    "\n",
    "        df_progress= sqlContext.createDataFrame([(table_name,source,\n",
    "                                       time_filter['start_date'].strftime(\"%Y-%m-%d %H:%M:%S\"),\n",
    "                                         time_filter['end_date'].strftime(\"%Y-%m-%d %H:%M:%S\"),records)]\n",
    "                                     ,['table_name', 'source','from_datetime','to_datetime','records'])\\\n",
    "        .withColumn('start_time',lit(start_time)).withColumn('end_time',current_timestamp())\\\n",
    "                    .withColumn('executed_in_mins',lit((time.time() - starttime)/60))\\\n",
    "                                .withColumn('status',lit(status)).withColumn('remarks',lit(None))\n",
    "        \n",
    "\n",
    "        \n",
    "        df_progress.write.format(\"greenplum\")\\\n",
    "            .option(\"dbtable\",output_index).option('dbschema',schema)\\\n",
    "            .option(\"server.port\",\"1150-1170\").option(\"url\",prod_url)\\\n",
    "            .option(\"user\", user_prod).option(\"password\",pwd_prod).mode('append').save()\n",
    "        \n",
    "       \n",
    "    except Exception as e:\n",
    "        x = e\n",
    "        print(x)\n",
    "    else:\n",
    "        x = 'success'\n",
    "        print(\"Updated Progress for {table_name} from {source} until {to_datetime}. {records} records processed in this run\".format(table_name=table_name, source=source,to_datetime=time_filter['end_date'].strftime(\"%Y-%m-%d %H:%M:%S\"),records=records))\n",
    "        print(x)"
   ]
  },
  {
   "cell_type": "code",
   "execution_count": 6,
   "metadata": {},
   "outputs": [
    {
     "data": {
      "application/vnd.jupyter.widget-view+json": {
       "model_id": "",
       "version_major": 2,
       "version_minor": 0
      },
      "text/plain": [
       "FloatProgress(value=0.0, bar_style='info', description='Progress:', layout=Layout(height='25px', width='50%'),…"
      ]
     },
     "metadata": {},
     "output_type": "display_data"
    }
   ],
   "source": [
    "# Define the Generic update function which takes the records currently in temp table (created with prefix 1 to original customercoe table)\n",
    "# The function would first try to insert the records in original table. It that fails then it will upsert the records\n",
    "# Since there is no direct upsert query an update and insert query with where clause is used\n",
    "# This funciton just runs the SQL queries in GPDB and does not use spark\n",
    "\n",
    "def update_policy(conn_to,table_name,prod_gpdb_spark_options, schema=\"customermart\"):\n",
    "    \n",
    "    conn_to.rollback()\n",
    "#     gpdb_spark_options = prod_gpdb_spark_options\n",
    "\n",
    "\n",
    "    primary_key = ['source_system_name','source_system_customer_id','policy_number','certificate_no','pol_incept_date','pol_exp_date']\n",
    "    \n",
    "    # these columns will be updated in case of duplicate records\n",
    "    update_fields = ['reference_num','sum_insured','premiumamount','total_premium','product_name','channel','channel_new_2','lob','record_type_desc','record_type_cd','report_accounting_period','commit_timestamp','renl_cert_no','times_renewed_cnt','product_cd','product_cd_new','producer_cd','producername','producer_type','policy_counter','veh_model','veh_age','veh_make','veh_body','veh_engine_no','veh_chassis_no','no_claim_bonus','policy_type','fuel_type','uw_discount','uw_loading','business_type','txt_business_type','no_of_lives','veh_no','segment_type','policy_variant','mfg_year','ncb_percent','discount','major_line_cd','minor_line_cd','main_lob','pol_status_cd','group_category','plan_type','break_in_insurance_flag','break_in_insurance_days','exshowroomprice','irda_product_uin','txt_active_flag','status','txt_intermediary_cd','txt_status','accidentaldeathrider','rider_applicable','coverage_opted','age_building','personal_accident','public_lia','trip_type','trv_limit','purpose_of_trip','dep_date','return_date','travel_duration','destination_country','trip','lta_zone','information280','ped_declared_indicator','portability_required','deductible_amount','cumulative_bonus_earned','orphan_policy_indicator','orphan_policy_date','policy_term','ncb_flag','portability_indicator','renewed_in_grace_period']\n",
    "    \n",
    "    out_columns=['reference_num','source_system_name','source_system_customer_id','policy_number','certificate_no',\n",
    "                   'pol_incept_date','pol_exp_date','sum_insured','premiumamount','total_premium','product_name','channel','channel_new_2','lob','record_type_desc','record_type_cd','report_accounting_period','commit_timestamp','renl_cert_no','times_renewed_cnt','product_cd','product_cd_new','producer_cd','producername','producer_type','policy_counter','veh_model','veh_age','veh_make','veh_body','veh_engine_no','veh_chassis_no','no_claim_bonus','policy_type','fuel_type','uw_discount','uw_loading','business_type','txt_business_type','no_of_lives','veh_no','segment_type','policy_variant','mfg_year','ncb_percent','discount','major_line_cd','minor_line_cd','main_lob','pol_status_cd','group_category','plan_type','break_in_insurance_flag','break_in_insurance_days','exshowroomprice','irda_product_uin','txt_active_flag','min_pol_incept_date','status','txt_intermediary_cd','txt_status','accidentaldeathrider','rider_applicable','coverage_opted','age_building','personal_accident','public_lia','trip_type','trv_limit','purpose_of_trip','dep_date','return_date','travel_duration','destination_country','trip','lta_zone','information280','ped_declared_indicator','portability_required','deductible_amount','cumulative_bonus_earned','orphan_policy_indicator','orphan_policy_date','policy_term','ncb_flag','portability_indicator','renewed_in_grace_period']\n",
    "    # loading data from temp table to get column names    \n",
    "#     df_1 = sqlContext.read.format(\"greenplum\").options(**prod_gpdb_spark_options).option(\"dbschema\",schema)\\\n",
    "#     .option(\"dbtable\",\"{}_staging\".format(table_name)).load()\n",
    "#     out_columns = df_1.columns\n",
    "#     out_columns = [col for col in out_columns if \"json\" not in col]\n",
    "\n",
    "    cur_to = conn_to.cursor()  \n",
    "\n",
    "    # this query insert records from temp table to target table when all the records in temp table are new and not present in target    \n",
    "    only_insert_query = \"\"\"insert into {schema}.{table_name} ({out_columns}) select {out_columns} from {schema}.\\\n",
    "    {table_name}_staging \"\"\".format(schema=schema,table_name=table_name,out_columns = \",\".join(out_columns))\n",
    "    \n",
    "    # this query will be executed to update the records that are already present in target, new values will be assigned from temp table    \n",
    "    update_query = \"\"\"UPDATE {schema}.{table_name} orig\n",
    "                          SET\n",
    "                            {update_fields}\n",
    "                          FROM\n",
    "                            {schema}.{table_name}_staging temp\n",
    "                           WHERE \n",
    "                            {primary_key}\n",
    "                       \"\"\".format(schema=schema,table_name=table_name,primary_key= \" and \".join([ \"orig.{key} = temp.{key}\".format(key=key) for key in primary_key]),update_fields = \" , \".join([ \"{key} = temp.{key}\".format(key=key) for key in update_fields]))\n",
    "    \n",
    "    # this query will be executed after update query to insert the remaining records    \n",
    "    insert_query = \"\"\" INSERT INTO {schema}.{table_name} ({out_columns})\n",
    "                           SELECT {out_columns}\n",
    "                           FROM\n",
    "                             {schema}.{table_name}_staging temp\n",
    "                           WHERE\n",
    "                             NOT EXISTS (\n",
    "                             SELECT 1 FROM {schema}.{table_name} orig WHERE \n",
    "                            {primary_key}\n",
    "                            )\n",
    "                        \"\"\".format(schema=schema,table_name=table_name,out_columns = \",\".join(out_columns),primary_key = \" and \".join([ \"orig.{key} = temp.{key}\".format(key=key) for key in primary_key]))\n",
    "\n",
    "    try:\n",
    "        print(\"Inside try segment\")\n",
    "        cur_to.execute(only_insert_query)\n",
    "        print(\"Executed Only insert query\")\n",
    "#         update_progress(table_name,source,time_filter,records)\n",
    "    except Exception as e:\n",
    "        print(\"Inside except segment\")\n",
    "        conn_to.rollback()\n",
    "        cur_to.execute(update_query)\n",
    "        print(\"Executed update query\")\n",
    "        cur_to.execute(insert_query)\n",
    "        print(\"Executed insert query\")\n",
    "#         update_progress(table_name,source,time_filter,records)\n",
    "    conn_to.commit()"
   ]
  },
  {
   "cell_type": "code",
   "execution_count": 7,
   "metadata": {},
   "outputs": [
    {
     "data": {
      "application/vnd.jupyter.widget-view+json": {
       "model_id": "",
       "version_major": 2,
       "version_minor": 0
      },
      "text/plain": [
       "FloatProgress(value=0.0, bar_style='info', description='Progress:', layout=Layout(height='25px', width='50%'),…"
      ]
     },
     "metadata": {},
     "output_type": "display_data"
    }
   ],
   "source": [
    "# # Define the Generic update function which takes the records currently in temp table (created with prefix 1 to original customercoe table)\n",
    "# # The function would first try to insert the records in original table. It that fails then it will upsert the records\n",
    "# # Since there is no direct upsert query an update and insert query with where clause is used\n",
    "# # This funciton just runs the SQL queries in GPDB and does not use spark\n",
    "\n",
    "# def update_policy(conn_to,table_name,prod_gpdb_spark_options, schema=\"customermart\"):\n",
    "    \n",
    "#     conn_to.rollback()\n",
    "# #     gpdb_spark_options = prod_gpdb_spark_options\n",
    "\n",
    "\n",
    "#     primary_key = ['source_system_name','source_system_customer_id','policy_number','certificate_no','policy_start_date',\n",
    "#                    'policy_end_date']\n",
    "    \n",
    "#     # these columns will be updated in case of duplicate records\n",
    "#     update_fields = ['reference_num','base_sum_insured','premiumamount','total_premium','irda_product_uin','intermediary_code','deductible_amount',\n",
    "#                         'cumulative_bonus_earned','accidentaldeathrider','plan_type','lob','orphan_policy_indicator','orphan_policy_date',\n",
    "#                         'break_in_insurance_flag','break_in_insurance_days','ped_declared_indicator','vehicle_registration_no','commit_timestamp',\n",
    "#                         'policy_term','ncb_flag','portability_indicator','renewed_in_grace_period','product_name',\n",
    "#                         'policy_type','channel','veh_model','veh_age','veh_make','veh_body','veh_engine_no','veh_chassis_no','fuel_type','uw_discount',\n",
    "#                         'uw_loading','policy_renewal_count','record_type_desc','record_type_cd','product_cd','renl_cert_no','times_renewed_cnt',\n",
    "#                         'no_of_lives','rider_applicable','coverage_opted','age_building','personal_accident','public_lia','trip_type','trv_limit',\n",
    "#                         'purpose_of_trip','dep_date','return_date','travel_duration','destination_country','trip','lta_zone','segment_type',\n",
    "#                         'report_accounting_period','producername','exshowroomprice','binddate','no_claim_bonus','policy_variant','mfg_year',\n",
    "#                         'min_pol_incept_date','business_type','txt_business_type','ncb_percent','discount','producer_cd']\n",
    "    \n",
    "#     # loading data from temp table to get column names    \n",
    "#     df_1 = sqlContext.read.format(\"greenplum\").options(**prod_gpdb_spark_options).option(\"dbschema\",schema)\\\n",
    "#     .option(\"dbtable\",\"{}_staging\".format(table_name)).load()\n",
    "#     out_columns = df_1.columns\n",
    "#     out_columns = [col for col in out_columns if \"json\" not in col]\n",
    "\n",
    "#     cur_to = conn_to.cursor()  \n",
    "\n",
    "#     # this query insert records from temp table to target table when all the records in temp table are new and not present in target    \n",
    "#     only_insert_query = \"\"\"insert into {schema}.{table_name} ({out_columns}) select {out_columns} from {schema}.\\\n",
    "#     {table_name}_staging \"\"\".format(schema=schema,table_name=table_name,out_columns = \",\".join(out_columns))\n",
    "    \n",
    "#     # this query will be executed to update the records that are already present in target, new values will be assigned from temp table    \n",
    "#     update_query = \"\"\"UPDATE {schema}.{table_name} orig\n",
    "#                           SET\n",
    "#                             {update_fields}\n",
    "#                           FROM\n",
    "#                             {schema}.{table_name}_staging temp\n",
    "#                            WHERE \n",
    "#                             {primary_key}\n",
    "#                        \"\"\".format(schema=schema,table_name=table_name,primary_key= \" and \".join([ \"orig.{key} = temp.{key}\".format(key=key) for key in primary_key]),update_fields = \" , \".join([ \"{key} = temp.{key}\".format(key=key) for key in update_fields]))\n",
    "    \n",
    "#     # this query will be executed after update query to insert the remaining records    \n",
    "#     insert_query = \"\"\" INSERT INTO {schema}.{table_name} ({out_columns})\n",
    "#                            SELECT {out_columns}\n",
    "#                            FROM\n",
    "#                              {schema}.{table_name}_staging temp\n",
    "#                            WHERE\n",
    "#                              NOT EXISTS (\n",
    "#                              SELECT 1 FROM {schema}.{table_name} orig WHERE \n",
    "#                             {primary_key}\n",
    "#                             )\n",
    "#                         \"\"\".format(schema=schema,table_name=table_name,out_columns = \",\".join(out_columns),primary_key = \" and \".join([ \"orig.{key} = temp.{key}\".format(key=key) for key in primary_key]))\n",
    "\n",
    "#     try:\n",
    "#         print(\"Inside try segment\")\n",
    "#         cur_to.execute(only_insert_query)\n",
    "#         print(\"Executed Only insert query\")\n",
    "# #         update_progress(table_name,source,time_filter,records)\n",
    "#     except Exception as e:\n",
    "#         print(\"Inside except segment\")\n",
    "#         conn_to.rollback()\n",
    "#         cur_to.execute(update_query)\n",
    "#         print(\"Executed update query\")\n",
    "#         cur_to.execute(insert_query)\n",
    "#         print(\"Executed insert query\")\n",
    "# #         update_progress(table_name,source,time_filter,records)\n",
    "#     conn_to.commit()"
   ]
  },
  {
   "cell_type": "code",
   "execution_count": 8,
   "metadata": {},
   "outputs": [
    {
     "data": {
      "application/vnd.jupyter.widget-view+json": {
       "model_id": "",
       "version_major": 2,
       "version_minor": 0
      },
      "text/plain": [
       "FloatProgress(value=0.0, bar_style='info', description='Progress:', layout=Layout(height='25px', width='50%'),…"
      ]
     },
     "metadata": {},
     "output_type": "display_data"
    },
    {
     "name": "stderr",
     "output_type": "stream",
     "text": [
      "An error was encountered:\n",
      "name 'pytz' is not defined\n",
      "Traceback (most recent call last):\n",
      "NameError: name 'pytz' is not defined\n",
      "\n"
     ]
    }
   ],
   "source": [
    "latest_progress=get_latest_progress()\n",
    "# dates in string format\n",
    "str_d1 = latest_progress.strftime(\"%Y-%m-%d\")\n",
    "str_d2 = datetime.datetime.now(pytz.timezone('Asia/Kolkata')).strftime(\"%Y-%m-%d\")\n",
    "\n",
    "# convert string to date object\n",
    "d1 = datetime.datetime.strptime(str_d1, \"%Y-%m-%d\")\n",
    "d2 = datetime.datetime.strptime(str_d2, \"%Y-%m-%d\")\n",
    "\n",
    "\n",
    "delta = d2 - d1\n",
    "day=delta.days-1\n",
    "\n",
    "time_filter={'start_date':latest_progress,'end_date':latest_progress+datetime.timedelta(days=day)}\n",
    "time_filter"
   ]
  },
  {
   "cell_type": "code",
   "execution_count": 9,
   "metadata": {},
   "outputs": [
    {
     "data": {
      "application/vnd.jupyter.widget-view+json": {
       "model_id": "",
       "version_major": 2,
       "version_minor": 0
      },
      "text/plain": [
       "FloatProgress(value=0.0, bar_style='info', description='Progress:', layout=Layout(height='25px', width='50%'),…"
      ]
     },
     "metadata": {},
     "output_type": "display_data"
    }
   ],
   "source": [
    "l=['B&M RT PD/BI','COMPREHENSIVEAVIATIONINSURANCE','MEGA RISK','TRADE CREDIT INSURANCE.','BUSINESSGUARD COMMERCIAL-MMKT',\n",
    "                 'FINANCIALINSTITUTION','PROFESSIONAL INDEMNITY','AIG COMBINED','MONEYINS','COMMERCIALGENERALLIABILITYPRODUCT','ENERGY OTHER - CHEMICAL',\n",
    "                 'MARINE CARGO E-MAR EXPORTS SMP','CYBER RISK PROTECTOR','CHEMICAL RT PD/BI','IAR PROPERTY MAJOR','CRISISMANAGEMENT','CAR/EAR','PUBLICLIABILITYACTS',\n",
    "                 'BUSINESSGUARD ENERGY-CHEMICAL','WORKMENSCOMPENSATION','CASUALTY MAJOR','FIDELITYGUARANTEEINS','FIPI','PUBLICLIABILITYPRODUCT',\n",
    "                 'CONSEQUENTIALLOSSINSURANCE','CLINICALLIABILITYINSURANCE','OIL & PETRO RT PD/BI','CRISISCOVERAGEINSURANCEPOLICY',\n",
    "                 'ENERGY OTHER - UTILITIES','MARINEFREIGHTFORWARDLIABILITY','ENERGY - BICC','DIRECTORANDOFFICERLIABILITY','BUSINESSGUARDCOMMERCIAL',\n",
    "                 'MANAGEMENTLIABILITYINSURANCEPOLICY','AIRPORT OPERATORS LIABILITY IN','CRISIS MANAGEMENT MAJOR','STD MARINE CROP CARGO RT MAJOR',\n",
    "                 'INDUSTRIALALLRISKINSURANCE','MGMT LIABILITY MAJOR','CYBERRISKPROTECTOR','PROPERTY OTHER MAJOR','MARINE CARGO E-MAR DOMESTC SMP',\n",
    "                 'MARINESPECIFICPOLICY','COMMERICALGENERALLIABILITY','PORTPACKAGEPOLICY','BUSINESSGUARD OFFICE - MMKRT','MANAGEMENT LIABILITY',\n",
    "                 'ALLRISKSIGNS','CONTRACTORS PLANT & MACHINERY','UTILITIES RT PD/BI','MARINETEACROPPOLICY','BOILERPRESSUREPLANT',\n",
    "                 'COMPREHENSIVEPRODUCTLIABILITY','BUSINESS GUARD ENERGY - O&P','TRADECREDITINSURANCE','MARINEADVANCEDLOSSOFPROFIT',\n",
    "                 'ELECTRONIC EQUIPMENT INSURANCE','PUBLICLIABILITYINS','OPENPOLICYMARINECARGO','PROPERTY EEI','HIGHLIGHT - D & O','CRIMEMANAGER',\n",
    "                 'ALLRISKPORTABLEINSURANCE','PROPERTY OTHER MMRKT','ELECTRONICEQUIPMENTINS','BAGGAGEINSU','PROPERTY MMRKT','PROPERTY BOILER-PRESSUREPLANT',\n",
    "                 'ENVIRONMENTAL IMPAIRMENT LIABI','POLITICALRISK','BURGLARYINS','PROJECTINSURANCE','AIGCOMBINEDPACKAGEPOLICY','CPMINSURANCE',\n",
    "                 'MACHINERYLOSSOFPROFITINS','PROPERTY B & M','BUSINESSGUARDAGRIPUMPSET','BUSINESSGUARDSOOKSHMAUDYAMSURAKSHA',\n",
    "                 'BOILER & PRESSURE PLANT EQUIP','ENERGY MISCELLANEOUS','BUSINESSGUARD OFFICE - MAJOR','STD MARINE CARGO RT MMRKT',\n",
    "                 'PLATEGLASSINS','INLAND MARINE CARGO RT MAJOR','BUSINESSGUARDLAGHUUDYAMSURAKSHA','POLLUTIONLEGALLIABILITY',\n",
    "                 'ENERGYMISCELLANEOUS','STANDARDFIRESPECIALPERILINSURANCE','FIDELITY','MBDPOLICY','MARINE CARGO E-MAR IMPORTS SMP',\n",
    "                 'MEGAPOLICY','PROPERTY MAJOR','PUBLIC LIABILITY ACT','EMPLOYEECOMPENSATION','AVIATION INSURANCE','BHARATGRIHARAKSHAPE',\n",
    "                 'RPASINSURANCE','STD MARINE CARGO RT MAJOR',\"WORKMEN'S COMPENSATION\",'PROFESSIONALINDEMNITYPOLICY','BHARATGRIHARAKSHAAIGC',\n",
    "                 'MARINE CARGO SPECPOL DOMESTIC','BUSINESSGUARD COMMERCIAL-MAJOR','MARINE CARGO SPECPOL IMPORTS','MARINE CARGO SPECPOL EXPORTS',\n",
    "                 'MULTINATIONALPROGRAM','BUSINESSGUARDLAGHUUDYAMSURAKSHAPE']"
   ]
  },
  {
   "cell_type": "code",
   "execution_count": null,
   "metadata": {},
   "outputs": [],
   "source": [
    "from pyspark.sql.window import Window\n",
    "\n",
    "\n",
    "col_str=[\"policy_no as policy_number \",\"pol_incept_date\",'pol_exp_date','policy_variant','mfg_year',\n",
    "         'ins_name_client_no as source_system_customer_id',\n",
    "         'certificate_no' ,'proposal_no as reference_num ',\"product_name\",' business_type','txt_business_type','channel','record_type_desc','record_type_cd','producername',\n",
    "         \"product_cd\",\"product_cd_new\",'renl_cert_no','times_renewed_cnt','no_of_lives','segment_type','report_accounting_period',\n",
    "        'veh_model','veh_age','veh_make','veh_body','veh_engine_no','veh_no','binddate','no_claim_bonus',\n",
    "         'veh_chassis_no','binddate','policy_type','fuel_type','uw_discount','uw_loading','policy_counter','timestamp',\n",
    "         'source_system','ncb_percent','discount','producer_cd','major_line_cd','minor_line_cd','main_lob','pol_status_cd',\n",
    "'productgroup','lob','minor_line','channel_new_2','lob_new','txt_lob','sub_channel_new','new_sub_channel',\n",
    "         'group_category','producer_type']\n",
    "sales_all_details_df=load_gpdb_jdbc(col_str,'sales_all_details',\"datamarts\",\"binddate\",time_filter)\\\n",
    ".filter(~(col('product_name').isin(l)))\n"
   ]
  },
  {
   "cell_type": "code",
   "execution_count": 12,
   "metadata": {},
   "outputs": [
    {
     "data": {
      "application/vnd.jupyter.widget-view+json": {
       "model_id": "",
       "version_major": 2,
       "version_minor": 0
      },
      "text/plain": [
       "FloatProgress(value=0.0, bar_style='info', description='Progress:', layout=Layout(height='25px', width='50%'),…"
      ]
     },
     "metadata": {},
     "output_type": "display_data"
    }
   ],
   "source": [
    "gscPythonOptions = {\"url\": \"jdbc:postgresql://10.35.12.194:5432/gpadmin\",\n",
    "                    \"user\": user_prod,\n",
    "                    \"password\": pwd_prod,\n",
    "                    \"dbschema\": \"customermart\",\n",
    "                    \"dbtable\": \"policy_left_v2\",#policy_retail_staging_2018_03,\n",
    "                    \"server.port\": '1150-1170'}\n",
    "sales_all_details_df = sqlContext.read.format(\"greenplum\").options(**gscPythonOptions).load()\n",
    "\n",
    "\n",
    "# .filter(~(col('product_name').isin(l)))"
   ]
  },
  {
   "cell_type": "code",
   "execution_count": 13,
   "metadata": {},
   "outputs": [
    {
     "data": {
      "application/vnd.jupyter.widget-view+json": {
       "model_id": "",
       "version_major": 2,
       "version_minor": 0
      },
      "text/plain": [
       "FloatProgress(value=0.0, bar_style='info', description='Progress:', layout=Layout(height='25px', width='50%'),…"
      ]
     },
     "metadata": {},
     "output_type": "display_data"
    }
   ],
   "source": [
    "from pyspark.sql.window import Window\n",
    "\n",
    "w = Window.partitionBy(['policy_number','certificate_no','pol_incept_date','pol_exp_date','source_system']).orderBy([F.col('binddate').desc(),F.col('reference_num').desc()])\n",
    "sales_all_details_df = sales_all_details_df.withColumn('row',F.row_number().over(w))\n",
    "sales_all_details_df = sales_all_details_df.filter(F.col('row')==1).drop(sales_all_details_df.row).drop_duplicates()"
   ]
  },
  {
   "cell_type": "code",
   "execution_count": 14,
   "metadata": {},
   "outputs": [
    {
     "data": {
      "application/vnd.jupyter.widget-view+json": {
       "model_id": "",
       "version_major": 2,
       "version_minor": 0
      },
      "text/plain": [
       "FloatProgress(value=0.0, bar_style='info', description='Progress:', layout=Layout(height='25px', width='50%'),…"
      ]
     },
     "metadata": {},
     "output_type": "display_data"
    },
    {
     "name": "stdout",
     "output_type": "stream",
     "text": [
      "438754"
     ]
    }
   ],
   "source": [
    "sales_all_details_df.persist()\n",
    "sales_all_details_df.count()"
   ]
  },
  {
   "cell_type": "code",
   "execution_count": null,
   "metadata": {},
   "outputs": [],
   "source": [
    "# sales_all_details_df=sales_all_details_df.select( 'partner_appl_no', 'branch', 'report_accounting_period', 'receipt_no',\n",
    "#                             'discount', 'endorsement_no', 'leader_name', 'group_category', 'main_lob', 'major_line_cd',\n",
    "#                             'mfg_year', 'minor_line_cd', 'veh_make', 'veh_model', 'ri_inward_flag', 'zone',\n",
    "#                             'product_cd_new', 'booking_date', 'policy_no', 'channel', 'certificate_no', 'class_peril_cd', \n",
    "#                             'policy_term', 'policy_type', 'policy_variant', 'coinsurance_flag', 'pol_incept_date', \n",
    "#                             'application_no', 'renl_cert_no', 'pol_exp_date', 'record_type_desc', 'record_type_cd', 'producer_cd',\n",
    "#                             'producername', 'product_name', 'CommissionPercent', 'main_receipt_no', 'share', 'business_type', \n",
    "#                             'proposal_no', 'segment_type', 'sum_insured', 'rural_fg', 'branch_off_cd', 'producer_type', 'pin', \n",
    "#                             'prdr_branch_sub_cd', 'times_renewed_cnt', 'txt_business_type', 'covernotenumber', 'watts_policy_no',\n",
    "#                             'coinsurance_cd', 'source_system', 'timestamp', 'veh_engine_no', 'veh_no', 'veh_body', \n",
    "#                             'source_system_customer_id', 'customer_id', 'clientname', 'client_city_name', 'endorsement_eff_date', \n",
    "#                             'prem_eff_date', 'sme_flag', 'fac_prem', 'ceded_vqst_prem', 'ceded_surplus_treaty_prem',\n",
    "#                             'obligatory_prem', 'obligatory_comm', 'pol_office_cd', 'producer_name', 'ncb_percent',\n",
    "#                             'pol_status_cd', 'product_cd', 'veh_age', 'txt_chasis_no', 'uw_discount', \n",
    "#                             'uw_loading', 'fuel_type', 'display_product_cd', 'policy_counter',\n",
    "#                             'no_of_lives', 'row_num', 'product_eff_date', 'BindDate')"
   ]
  },
  {
   "cell_type": "code",
   "execution_count": null,
   "metadata": {},
   "outputs": [],
   "source": [
    "# #extra\n",
    "# sales_all_details_df=sales_all_details_df.withColumnRenamed('policy_no','policy_number').withColumnRenamed('proposal_no','reference_num')"
   ]
  },
  {
   "cell_type": "code",
   "execution_count": 15,
   "metadata": {},
   "outputs": [
    {
     "data": {
      "application/vnd.jupyter.widget-view+json": {
       "model_id": "",
       "version_major": 2,
       "version_minor": 0
      },
      "text/plain": [
       "FloatProgress(value=0.0, bar_style='info', description='Progress:', layout=Layout(height='25px', width='50%'),…"
      ]
     },
     "metadata": {},
     "output_type": "display_data"
    }
   ],
   "source": [
    "sales_all_details_df=sales_all_details_df.withColumn('certificate_no',when((col('certificate_no').isin('0','0.0','/00000','000000','00000000'))|(col('certificate_no').isNull()),lit('00000000')).otherwise(lit(col('certificate_no'))))\\\n",
    ".withColumn('policy_number',lpad(col('policy_number'),10,'0'))"
   ]
  },
  {
   "cell_type": "code",
   "execution_count": 16,
   "metadata": {},
   "outputs": [
    {
     "data": {
      "application/vnd.jupyter.widget-view+json": {
       "model_id": "",
       "version_major": 2,
       "version_minor": 0
      },
      "text/plain": [
       "FloatProgress(value=0.0, bar_style='info', description='Progress:', layout=Layout(height='25px', width='50%'),…"
      ]
     },
     "metadata": {},
     "output_type": "display_data"
    }
   ],
   "source": [
    "grp_cols = [\"policy_number\", \"certificate_no\"]\n",
    "\n",
    "sd_min=sales_all_details_df.groupBy(grp_cols).agg(min(\"pol_incept_date\").alias(\"min_pol_incept_date\"))\n",
    "\n",
    "sd_min=sd_min.withColumn('certificate_no',when((col('certificate_no').isin('0','0.0','/00000','000000','00000000'))|(col('certificate_no').isNull()),lit('00000000')).otherwise(lit(col('certificate_no'))))\\\n",
    ".withColumn('policy_number',lpad(col('policy_number'),10,'0'))\n",
    "\n",
    "sales_all_details_df= sales_all_details_df.join(sd_min,grp_cols,\"left\")"
   ]
  },
  {
   "cell_type": "code",
   "execution_count": 17,
   "metadata": {},
   "outputs": [
    {
     "data": {
      "application/vnd.jupyter.widget-view+json": {
       "model_id": "",
       "version_major": 2,
       "version_minor": 0
      },
      "text/plain": [
       "FloatProgress(value=0.0, bar_style='info', description='Progress:', layout=Layout(height='25px', width='50%'),…"
      ]
     },
     "metadata": {},
     "output_type": "display_data"
    }
   ],
   "source": [
    "from pyspark.sql.window import Window\n",
    "\n",
    "w = Window.partitionBy(['policy_number','certificate_no','pol_incept_date','pol_exp_date','source_system']).orderBy([F.col('binddate').desc(),F.col('reference_num').desc()])\n",
    "sales_all_details_df = sales_all_details_df.withColumn('row',F.row_number().over(w))\n",
    "sales_all_details_df = sales_all_details_df.filter(F.col('row')==1).drop(sales_all_details_df.row).drop_duplicates()"
   ]
  },
  {
   "cell_type": "code",
   "execution_count": 18,
   "metadata": {},
   "outputs": [
    {
     "data": {
      "application/vnd.jupyter.widget-view+json": {
       "model_id": "",
       "version_major": 2,
       "version_minor": 0
      },
      "text/plain": [
       "FloatProgress(value=0.0, bar_style='info', description='Progress:', layout=Layout(height='25px', width='50%'),…"
      ]
     },
     "metadata": {},
     "output_type": "display_data"
    }
   ],
   "source": [
    "gscPythonOptions = {\"url\": \"jdbc:postgresql://10.35.12.194:5432/gpadmin\",\n",
    "                    \"user\": user_prod,\n",
    "                    \"password\": pwd_prod,\n",
    "                    \"dbschema\": \"datamarts\",\n",
    "                    \"dbtable\": \"sales_all_details\",#policy_retail_staging_2018_03\n",
    "                    \"partitionColumn\":\"row_num\",\n",
    "                    \"partitions\": 8,\n",
    "                    \"server.port\": '1150-1170'}\n",
    "sales_all_details_df1 = sqlContext.read.format(\"greenplum\").options(**gscPythonOptions).load()\\\n",
    "                   .selectExpr('proposal_no as reference_num ',\"policy_no as policy_number\" ,'certificate_no', \"pol_exp_date\" ,\n",
    "                               \"pol_incept_date\",\"binddate\",'premiumamount','total_premium', 'sum_insured','source_system')\\\n",
    ".filter(~(col('product_name').isin(l)))\n",
    "\n",
    "sales_all_details_df1=sales_all_details_df1.repartition(\"policy_number\", \"certificate_no\",'pol_incept_date','pol_exp_date','source_system')\n",
    "\n",
    "group_cols = [\"policy_number\", \"certificate_no\",'pol_incept_date','pol_exp_date','source_system']\n",
    "\n",
    "sales_all_details_grp=sales_all_details_df1.groupBy(group_cols).agg(sum(\"premiumamount\").alias(\"premiumamount\"),sum(\"total_premium\").alias(\"total_premium\"),\\\n",
    "                              max('sum_insured').alias(\"base_sum_insured\"))\n"
   ]
  },
  {
   "cell_type": "code",
   "execution_count": 19,
   "metadata": {},
   "outputs": [
    {
     "data": {
      "application/vnd.jupyter.widget-view+json": {
       "model_id": "",
       "version_major": 2,
       "version_minor": 0
      },
      "text/plain": [
       "FloatProgress(value=0.0, bar_style='info', description='Progress:', layout=Layout(height='25px', width='50%'),…"
      ]
     },
     "metadata": {},
     "output_type": "display_data"
    }
   ],
   "source": [
    "sales_all_details_grp=sales_all_details_grp.withColumn('certificate_no',when((col('certificate_no').isin('0','0.0','/00000','000000','00000000'))|(col('certificate_no').isNull()),lit('00000000')).otherwise(lit(col('certificate_no'))))\\\n",
    ".withColumn('policy_number',lpad(col('policy_number'),10,'0'))"
   ]
  },
  {
   "cell_type": "code",
   "execution_count": 20,
   "metadata": {},
   "outputs": [
    {
     "data": {
      "application/vnd.jupyter.widget-view+json": {
       "model_id": "",
       "version_major": 2,
       "version_minor": 0
      },
      "text/plain": [
       "FloatProgress(value=0.0, bar_style='info', description='Progress:', layout=Layout(height='25px', width='50%'),…"
      ]
     },
     "metadata": {},
     "output_type": "display_data"
    }
   ],
   "source": [
    "part_cols=[\"policy_number\", \"certificate_no\",'pol_incept_date','pol_exp_date','source_system']\n",
    "\n",
    "sales_all_details_df=sales_all_details_df.repartition(8,*part_cols)\n",
    "sales_all_details_grp=sales_all_details_grp.repartition(8,*part_cols)"
   ]
  },
  {
   "cell_type": "code",
   "execution_count": 21,
   "metadata": {},
   "outputs": [
    {
     "data": {
      "application/vnd.jupyter.widget-view+json": {
       "model_id": "",
       "version_major": 2,
       "version_minor": 0
      },
      "text/plain": [
       "FloatProgress(value=0.0, bar_style='info', description='Progress:', layout=Layout(height='25px', width='50%'),…"
      ]
     },
     "metadata": {},
     "output_type": "display_data"
    }
   ],
   "source": [
    "sales_all_details_df= sales_all_details_df.join(sales_all_details_grp,group_cols,\"inner\")"
   ]
  },
  {
   "cell_type": "code",
   "execution_count": 22,
   "metadata": {},
   "outputs": [
    {
     "data": {
      "application/vnd.jupyter.widget-view+json": {
       "model_id": "",
       "version_major": 2,
       "version_minor": 0
      },
      "text/plain": [
       "FloatProgress(value=0.0, bar_style='info', description='Progress:', layout=Layout(height='25px', width='50%'),…"
      ]
     },
     "metadata": {},
     "output_type": "display_data"
    }
   ],
   "source": [
    "# sales_all_details_df1=sales_all_details_df"
   ]
  },
  {
   "cell_type": "code",
   "execution_count": 23,
   "metadata": {},
   "outputs": [
    {
     "data": {
      "application/vnd.jupyter.widget-view+json": {
       "model_id": "",
       "version_major": 2,
       "version_minor": 0
      },
      "text/plain": [
       "FloatProgress(value=0.0, bar_style='info', description='Progress:', layout=Layout(height='25px', width='50%'),…"
      ]
     },
     "metadata": {},
     "output_type": "display_data"
    }
   ],
   "source": [
    "# sales_all_details_df.persist()\n",
    "# sales_all_details_df.count()"
   ]
  },
  {
   "cell_type": "code",
   "execution_count": 24,
   "metadata": {
    "scrolled": true
   },
   "outputs": [
    {
     "data": {
      "application/vnd.jupyter.widget-view+json": {
       "model_id": "",
       "version_major": 2,
       "version_minor": 0
      },
      "text/plain": [
       "FloatProgress(value=0.0, bar_style='info', description='Progress:', layout=Layout(height='25px', width='50%'),…"
      ]
     },
     "metadata": {},
     "output_type": "display_data"
    }
   ],
   "source": [
    "# sales_all_details_df.select('policy_number').distinct().count()"
   ]
  },
  {
   "cell_type": "code",
   "execution_count": 25,
   "metadata": {},
   "outputs": [
    {
     "data": {
      "application/vnd.jupyter.widget-view+json": {
       "model_id": "",
       "version_major": 2,
       "version_minor": 0
      },
      "text/plain": [
       "FloatProgress(value=0.0, bar_style='info', description='Progress:', layout=Layout(height='25px', width='50%'),…"
      ]
     },
     "metadata": {},
     "output_type": "display_data"
    }
   ],
   "source": [
    "# gscPythonOptions = {\"url\": \"jdbc:postgresql://10.35.12.194:5432/gpadmin\",\n",
    "#                     \"user\": user_prod,\n",
    "#                     \"password\": pwd_prod,\n",
    "#                     \"dbschema\": \"mappers\",\n",
    "#                     \"dbtable\": \"direct_cons_comm_segment\",\n",
    "#                     \"server.port\": '1150-1170'}\n",
    "\n",
    "# direct_cons_comm_segment_main = sqlContext.read.format(\"greenplum\").options(**gscPythonOptions).load()"
   ]
  },
  {
   "cell_type": "code",
   "execution_count": 26,
   "metadata": {},
   "outputs": [
    {
     "data": {
      "application/vnd.jupyter.widget-view+json": {
       "model_id": "",
       "version_major": 2,
       "version_minor": 0
      },
      "text/plain": [
       "FloatProgress(value=0.0, bar_style='info', description='Progress:', layout=Layout(height='25px', width='50%'),…"
      ]
     },
     "metadata": {},
     "output_type": "display_data"
    }
   ],
   "source": [
    "# max_date= direct_cons_comm_segment_main.agg({\"mnth_yr\": \"max\"}).collect()[0]\n",
    "# direct_cons_comm_segment_main = direct_cons_comm_segment_main.filter(col(\"mnth_yr\")==max_date[\"max(mnth_yr)\"])\n",
    "\n",
    "# direct_cons_comm_segment = direct_cons_comm_segment_main.selectExpr('Minor_Line','Product_Name as Product_Name_mapper'\\\n",
    "#                                                                     ,'Min_Line_3','New_Direct','health_type')\n",
    "\n",
    "\n",
    "# # LOB FROM direct_cons_comm_segment JOIN ON product_name\n",
    "\n",
    "# from pyspark.sql.functions import upper, col, trim\n",
    "# direct_cons_comm_segment = direct_cons_comm_segment.withColumn('Product_Name_mapper', trim(upper(col('Product_Name_mapper'))))\n",
    "# sales_all_details_df = sales_all_details_df.withColumn('product_name', trim(upper(col('product_name'))))\n",
    "\n",
    "\n",
    "# ########NEW LOGIC - FOR SUB_TOTAL_1 FIX (TEST)#################\n",
    "# sales_all_details_df = sales_all_details_df.withColumn('product_name_substr',substring(trim(col('product_name')),1,45))\n",
    "\n",
    "# condition = [sales_all_details_df.product_name_substr==direct_cons_comm_segment.Product_Name_mapper]\n",
    "\n",
    "# sales_all_details_df = sales_all_details_df.join(direct_cons_comm_segment.select('Product_Name_mapper',col('Minor_Line').alias('lob')),\\\n",
    "#                                   condition,\\\n",
    "#                                   \"left_outer\")\n",
    "# sales_all_details_df = sales_all_details_df.drop('Product_Name_mapper','product_name_substr')"
   ]
  },
  {
   "cell_type": "code",
   "execution_count": 27,
   "metadata": {},
   "outputs": [
    {
     "data": {
      "application/vnd.jupyter.widget-view+json": {
       "model_id": "",
       "version_major": 2,
       "version_minor": 0
      },
      "text/plain": [
       "FloatProgress(value=0.0, bar_style='info', description='Progress:', layout=Layout(height='25px', width='50%'),…"
      ]
     },
     "metadata": {},
     "output_type": "display_data"
    }
   ],
   "source": [
    "# gscPythonOptions = {\"url\": \"jdbc:postgresql://10.35.12.194:5432/gpadmin\",\n",
    "#                     \"user\": user_prod,\n",
    "#                     \"password\": pwd_prod,\n",
    "#                     \"dbschema\": \"mappers\",\n",
    "#                     \"dbtable\": \"channel_mapping_1\",\n",
    "#                     \"server.port\": '1150-1170'}\n",
    "\n",
    "# channel_map=sqlContext.read.format(\"greenplum\").options(**gscPythonOptions).load()\\\n",
    "#                         .selectExpr('Channel as Channel_temp','Channel_New_2','mnth_yr')\n",
    "    \n",
    "# max_date= channel_map.agg({\"mnth_yr\": \"max\"}).collect()[0]\n",
    "# channel_map = channel_map.filter(col(\"mnth_yr\")==max_date[\"max(mnth_yr)\"]).drop(\"mnth_yr\")\n",
    "\n",
    "# condition_1 = [lower(trim(sales_all_details_df.channel)) == lower(trim(channel_map.Channel_temp))]\n",
    "\n",
    "# sales_all_details_df = sales_all_details_df.join(channel_map,condition_1,\"left_outer\")\\\n",
    "#                      .drop(channel_map.Channel_temp)"
   ]
  },
  {
   "cell_type": "code",
   "execution_count": 28,
   "metadata": {},
   "outputs": [
    {
     "data": {
      "application/vnd.jupyter.widget-view+json": {
       "model_id": "",
       "version_major": 2,
       "version_minor": 0
      },
      "text/plain": [
       "FloatProgress(value=0.0, bar_style='info', description='Progress:', layout=Layout(height='25px', width='50%'),…"
      ]
     },
     "metadata": {},
     "output_type": "display_data"
    }
   ],
   "source": [
    "from pyspark.sql.window import Window\n",
    "\n",
    "w = Window.partitionBy(['policy_number','certificate_no','pol_incept_date','pol_exp_date','source_system']).orderBy([F.col('binddate').desc(),F.col('reference_num').desc()])\n",
    "sales_all_details_df = sales_all_details_df.withColumn('row',F.row_number().over(w))\n",
    "sales_all_details_df = sales_all_details_df.filter(F.col('row')==1).drop(sales_all_details_df.row).drop_duplicates()\n"
   ]
  },
  {
   "cell_type": "code",
   "execution_count": 29,
   "metadata": {},
   "outputs": [
    {
     "data": {
      "application/vnd.jupyter.widget-view+json": {
       "model_id": "",
       "version_major": 2,
       "version_minor": 0
      },
      "text/plain": [
       "FloatProgress(value=0.0, bar_style='info', description='Progress:', layout=Layout(height='25px', width='50%'),…"
      ]
     },
     "metadata": {},
     "output_type": "display_data"
    },
    {
     "name": "stdout",
     "output_type": "stream",
     "text": [
      "['policy_number', 'certificate_no', 'pol_incept_date', 'pol_exp_date', 'source_system', 'policy_variant', 'mfg_year', 'source_system_customer_id', 'reference_num', 'product_name', 'business_type', 'txt_business_type', 'channel', 'record_type_desc', 'record_type_cd', 'producername', 'product_cd', 'product_cd_new', 'renl_cert_no', 'times_renewed_cnt', 'no_of_lives', 'segment_type', 'report_accounting_period', 'veh_model', 'veh_age', 'veh_make', 'veh_body', 'veh_engine_no', 'veh_no', 'binddate', 'no_claim_bonus', 'veh_chassis_no', 'policy_type', 'fuel_type', 'uw_discount', 'uw_loading', 'policy_counter', 'timestamp', 'ncb_percent', 'discount', 'producer_cd', 'major_line_cd', 'minor_line_cd', 'main_lob', 'pol_status_cd', 'productgroup', 'lob', 'minor_line', 'channel_new_2', 'lob_new', 'txt_lob', 'sub_channel_new', 'new_sub_channel', 'group_category', 'producer_type', 'min_pol_incept_date', 'premiumamount', 'total_premium', 'base_sum_insured']"
     ]
    }
   ],
   "source": [
    "sales_all_details_df.columns"
   ]
  },
  {
   "cell_type": "code",
   "execution_count": 30,
   "metadata": {},
   "outputs": [
    {
     "data": {
      "application/vnd.jupyter.widget-view+json": {
       "model_id": "",
       "version_major": 2,
       "version_minor": 0
      },
      "text/plain": [
       "FloatProgress(value=0.0, bar_style='info', description='Progress:', layout=Layout(height='25px', width='50%'),…"
      ]
     },
     "metadata": {},
     "output_type": "display_data"
    },
    {
     "name": "stdout",
     "output_type": "stream",
     "text": [
      "408448"
     ]
    }
   ],
   "source": [
    "sales_all_details_df.persist()\n",
    "sales_all_details_df.count()"
   ]
  },
  {
   "cell_type": "code",
   "execution_count": 31,
   "metadata": {},
   "outputs": [
    {
     "data": {
      "application/vnd.jupyter.widget-view+json": {
       "model_id": "",
       "version_major": 2,
       "version_minor": 0
      },
      "text/plain": [
       "FloatProgress(value=0.0, bar_style='info', description='Progress:', layout=Layout(height='25px', width='50%'),…"
      ]
     },
     "metadata": {},
     "output_type": "display_data"
    }
   ],
   "source": [
    "col_str=[\"plan_type\",\"reference_num\", 'accidentaldeathrider']\n",
    "policy_dh_risk_headers_hlt_df=load_gpdb_jdbc(col_str,\"policy_dh_risk_headers_hlt\",'public')\n",
    "\n",
    "col_str=[\"plan_selected as plan_type\",\"reference_num\", \"hasbreakinflag as break_in_insurance_flag\",\"breakindays as break_in_insurance_days\",\"exshowroomprice\"]\n",
    "policy_dh_risk_headers_mot_df_plan=load_gpdb_jdbc(col_str,\"policy_dh_risk_headers_mot\",'public')\n",
    "\n",
    "col_str=[\"base_cover as plan_type\", \"reference_num\", 'rider_applicable']\n",
    "policy_dh_risk_headers_pa_df=load_gpdb_jdbc(col_str,\"policy_dh_risk_headers_pa\",'public')\n",
    "\n",
    "col_str=[\"plan_type\", \"reference_num\", 'dep_date','return_date', 'travel_duration','destination_country','trip', 'zone as lta_zone']\n",
    "policy_dh_risk_headers_lta_df=load_gpdb_jdbc(col_str,\"policy_dh_risk_headers_lta\",'public')\n",
    "\n",
    "col_str=[\"variant as plan_type\", \"reference_num\", 'coverage_opted', 'age_building', 'personal_accident', 'public_lia']\n",
    "policy_dh_risk_headers_pne_df=load_gpdb_jdbc(col_str,\"policy_dh_risk_headers_pne\",'public')\n",
    "\n",
    "col_str=[\"trip_type as plan_type\", \"reference_num\",'trip_type','LIMIT', 'purpose_of_trip']\n",
    "policy_dh_risk_headers_trv_df=load_gpdb_jdbc(col_str,\"policy_dh_risk_headers_trv\",'public')\n",
    "\n",
    "\n",
    "policy_dh_risk_union_1=policy_dh_risk_headers_hlt_df.select(['plan_type','reference_num'])\\\n",
    ".union(policy_dh_risk_headers_mot_df_plan.select(['plan_type','reference_num']))\n",
    "\n",
    "policy_dh_risk_union_2=policy_dh_risk_union_1.select(['plan_type','reference_num'])\\\n",
    ".union(policy_dh_risk_headers_pa_df.select(['plan_type','reference_num']))\n",
    "\n",
    "policy_dh_risk_union_3=policy_dh_risk_union_2.select(['plan_type','reference_num'])\\\n",
    ".union(policy_dh_risk_headers_lta_df.select(['plan_type','reference_num']))\n",
    "\n",
    "policy_dh_risk_union_4=policy_dh_risk_union_3.select(['plan_type','reference_num'])\\\n",
    ".union(policy_dh_risk_headers_pne_df.select(['plan_type','reference_num']))\n",
    "\n",
    "policy_dh_risk_headers_df=policy_dh_risk_union_4.select(['plan_type','reference_num'])\\\n",
    ".union(policy_dh_risk_headers_trv_df.select(['plan_type','reference_num']))\n"
   ]
  },
  {
   "cell_type": "code",
   "execution_count": 32,
   "metadata": {},
   "outputs": [
    {
     "data": {
      "application/vnd.jupyter.widget-view+json": {
       "model_id": "",
       "version_major": 2,
       "version_minor": 0
      },
      "text/plain": [
       "FloatProgress(value=0.0, bar_style='info', description='Progress:', layout=Layout(height='25px', width='50%'),…"
      ]
     },
     "metadata": {},
     "output_type": "display_data"
    }
   ],
   "source": [
    "accidentaldeathrider_hlt_df=policy_dh_risk_headers_hlt_df.select('accidentaldeathrider', 'reference_num')\n",
    "policy_dh_risk_headers_mot_df=policy_dh_risk_headers_mot_df_plan.select('break_in_insurance_flag', 'break_in_insurance_days', 'exshowroomprice','reference_num' )\n",
    "rider_pa_df=policy_dh_risk_headers_pa_df.select('rider_applicable', 'reference_num')\n",
    "pne_df=policy_dh_risk_headers_pne_df.select(\"reference_num\", 'coverage_opted', 'age_building', 'personal_accident', 'public_lia')\n",
    "trv_df=policy_dh_risk_headers_trv_df.select(\"reference_num\",'trip_type','LIMIT', 'purpose_of_trip')\n",
    "lta_df=policy_dh_risk_headers_lta_df.select(\"reference_num\", 'dep_date','return_date', 'travel_duration','destination_country','trip', 'lta_zone')"
   ]
  },
  {
   "cell_type": "code",
   "execution_count": 33,
   "metadata": {},
   "outputs": [
    {
     "data": {
      "application/vnd.jupyter.widget-view+json": {
       "model_id": "",
       "version_major": 2,
       "version_minor": 0
      },
      "text/plain": [
       "FloatProgress(value=0.0, bar_style='info', description='Progress:', layout=Layout(height='25px', width='50%'),…"
      ]
     },
     "metadata": {},
     "output_type": "display_data"
    }
   ],
   "source": [
    "col_str=[\"txt_product_code as txt_product_code\",\"txt_uin_number as irda_product_uin\",'txt_active_flag']\n",
    "account_gc_accmst_uin_details_df=load_gpdb_jdbc(col_str,\"account_gc_accmst_uin_details\",'public').filter((col('txt_active_flag')=='A'))"
   ]
  },
  {
   "cell_type": "code",
   "execution_count": 34,
   "metadata": {},
   "outputs": [
    {
     "data": {
      "application/vnd.jupyter.widget-view+json": {
       "model_id": "",
       "version_major": 2,
       "version_minor": 0
      },
      "text/plain": [
       "FloatProgress(value=0.0, bar_style='info', description='Progress:', layout=Layout(height='25px', width='50%'),…"
      ]
     },
     "metadata": {},
     "output_type": "display_data"
    },
    {
     "name": "stdout",
     "output_type": "stream",
     "text": [
      "['txt_intermediary_cd', 'reference_num']"
     ]
    }
   ],
   "source": [
    "col_str=[\"txt_intermediary_code as txt_intermediary_cd\",\"num_reference_number as reference_num\"]\n",
    "underwriting_gc_distribution_channel_tab_df=load_gpdb_jdbc(col_str,\"underwriting_gc_distribution_channel_tab\",'public')\\\n",
    ".filter((col('reference_num').isNotNull()))\n",
    "underwriting_gc_distribution_channel_tab_df.columns"
   ]
  },
  {
   "cell_type": "code",
   "execution_count": 35,
   "metadata": {},
   "outputs": [
    {
     "data": {
      "application/vnd.jupyter.widget-view+json": {
       "model_id": "",
       "version_major": 2,
       "version_minor": 0
      },
      "text/plain": [
       "FloatProgress(value=0.0, bar_style='info', description='Progress:', layout=Layout(height='25px', width='50%'),…"
      ]
     },
     "metadata": {},
     "output_type": "display_data"
    },
    {
     "name": "stdout",
     "output_type": "stream",
     "text": [
      "['reference_num', 'status']"
     ]
    }
   ],
   "source": [
    "col_str=[\"trans_id as reference_num\",\"status\"]\n",
    "underwriting_gc_cnfgtr_d_all_transactions_df=load_gpdb_jdbc(col_str,\"underwriting_gc_cnfgtr_d_all_transactions\",'public')\\\n",
    ".filter((col('trans_id').isNotNull()))\n",
    "underwriting_gc_cnfgtr_d_all_transactions_df.columns"
   ]
  },
  {
   "cell_type": "code",
   "execution_count": 36,
   "metadata": {},
   "outputs": [
    {
     "data": {
      "application/vnd.jupyter.widget-view+json": {
       "model_id": "",
       "version_major": 2,
       "version_minor": 0
      },
      "text/plain": [
       "FloatProgress(value=0.0, bar_style='info', description='Progress:', layout=Layout(height='25px', width='50%'),…"
      ]
     },
     "metadata": {},
     "output_type": "display_data"
    },
    {
     "name": "stdout",
     "output_type": "stream",
     "text": [
      "['txt_status', 'dat_insert_date', 'dat_modify_date', 'txt_intermediary_cd']"
     ]
    }
   ],
   "source": [
    "col_str=[\"txt_status\",\"dat_insert_date\",\"dat_modify_date\",\"txt_intermediary_cd\"]\n",
    "reference_gc_genmst_intermediary_df=load_gpdb_jdbc(col_str,\"reference_gc_genmst_intermediary\",'public').filter((col('txt_intermediary_cd').isNotNull()))\n",
    "reference_gc_genmst_intermediary_df.columns"
   ]
  },
  {
   "cell_type": "code",
   "execution_count": 37,
   "metadata": {},
   "outputs": [
    {
     "data": {
      "application/vnd.jupyter.widget-view+json": {
       "model_id": "",
       "version_major": 2,
       "version_minor": 0
      },
      "text/plain": [
       "FloatProgress(value=0.0, bar_style='info', description='Progress:', layout=Layout(height='25px', width='50%'),…"
      ]
     },
     "metadata": {},
     "output_type": "display_data"
    },
    {
     "name": "stdout",
     "output_type": "stream",
     "text": [
      "['ped_declared_indicator', 'reference_num', 'portability_required', 'deductible_amount', 'cumulative_bonus_earned']"
     ]
    }
   ],
   "source": [
    "col_str=[\"preexisting_disease as ped_declared_indicator\",\"reference_num\",\"portability_required\",'deductible_amount','cumulative_bonus_earned']\n",
    "policy_dh_risk_details_hlt_df=load_gpdb_jdbc(col_str,\"policy_dh_risk_details_hlt\",'public').filter((col('reference_num').isNotNull()))\n",
    "policy_dh_risk_details_hlt_df.columns"
   ]
  },
  {
   "cell_type": "code",
   "execution_count": 38,
   "metadata": {},
   "outputs": [
    {
     "data": {
      "application/vnd.jupyter.widget-view+json": {
       "model_id": "",
       "version_major": 2,
       "version_minor": 0
      },
      "text/plain": [
       "FloatProgress(value=0.0, bar_style='info', description='Progress:', layout=Layout(height='25px', width='50%'),…"
      ]
     },
     "metadata": {},
     "output_type": "display_data"
    },
    {
     "name": "stdout",
     "output_type": "stream",
     "text": [
      "['information280', 'reference_num']"
     ]
    }
   ],
   "source": [
    "col_str=[\"information280\",\"reference_num\"]\n",
    "policy_gc_risk_headers_df=load_gpdb_jdbc(col_str,\"policy_gc_risk_headers\",'public').filter((col('reference_num').isNotNull()))\n",
    "policy_gc_risk_headers_df.columns"
   ]
  },
  {
   "cell_type": "code",
   "execution_count": 39,
   "metadata": {},
   "outputs": [
    {
     "data": {
      "application/vnd.jupyter.widget-view+json": {
       "model_id": "",
       "version_major": 2,
       "version_minor": 0
      },
      "text/plain": [
       "FloatProgress(value=0.0, bar_style='info', description='Progress:', layout=Layout(height='25px', width='50%'),…"
      ]
     },
     "metadata": {},
     "output_type": "display_data"
    }
   ],
   "source": [
    "sales_all_details_df_1 = sales_all_details_df.join(policy_dh_risk_headers_df,\"reference_num\",\"left\")"
   ]
  },
  {
   "cell_type": "code",
   "execution_count": 40,
   "metadata": {},
   "outputs": [
    {
     "data": {
      "application/vnd.jupyter.widget-view+json": {
       "model_id": "",
       "version_major": 2,
       "version_minor": 0
      },
      "text/plain": [
       "FloatProgress(value=0.0, bar_style='info', description='Progress:', layout=Layout(height='25px', width='50%'),…"
      ]
     },
     "metadata": {},
     "output_type": "display_data"
    }
   ],
   "source": [
    "sales_all_details_df_2 = sales_all_details_df_1.join(policy_dh_risk_headers_mot_df,\"reference_num\",\"left\")"
   ]
  },
  {
   "cell_type": "code",
   "execution_count": 41,
   "metadata": {},
   "outputs": [
    {
     "data": {
      "application/vnd.jupyter.widget-view+json": {
       "model_id": "",
       "version_major": 2,
       "version_minor": 0
      },
      "text/plain": [
       "FloatProgress(value=0.0, bar_style='info', description='Progress:', layout=Layout(height='25px', width='50%'),…"
      ]
     },
     "metadata": {},
     "output_type": "display_data"
    }
   ],
   "source": [
    "condition = [sales_all_details_df_2.product_cd == account_gc_accmst_uin_details_df.txt_product_code ]\n",
    "\n",
    "sales_all_details_df_3 = sales_all_details_df_2.join(account_gc_accmst_uin_details_df,condition,\"left\").drop(\"txt_product_code\")"
   ]
  },
  {
   "cell_type": "code",
   "execution_count": 42,
   "metadata": {},
   "outputs": [
    {
     "data": {
      "application/vnd.jupyter.widget-view+json": {
       "model_id": "",
       "version_major": 2,
       "version_minor": 0
      },
      "text/plain": [
       "FloatProgress(value=0.0, bar_style='info', description='Progress:', layout=Layout(height='25px', width='50%'),…"
      ]
     },
     "metadata": {},
     "output_type": "display_data"
    }
   ],
   "source": [
    "sales_all_details_df_4 =sales_all_details_df_3.join(underwriting_gc_cnfgtr_d_all_transactions_df, \"reference_num\",\"left\")"
   ]
  },
  {
   "cell_type": "code",
   "execution_count": 43,
   "metadata": {},
   "outputs": [
    {
     "data": {
      "application/vnd.jupyter.widget-view+json": {
       "model_id": "",
       "version_major": 2,
       "version_minor": 0
      },
      "text/plain": [
       "FloatProgress(value=0.0, bar_style='info', description='Progress:', layout=Layout(height='25px', width='50%'),…"
      ]
     },
     "metadata": {},
     "output_type": "display_data"
    }
   ],
   "source": [
    "underwriting_gc_distribution_channel_tab_df_1 = underwriting_gc_distribution_channel_tab_df.join(reference_gc_genmst_intermediary_df,\"txt_intermediary_cd\",\"left\")"
   ]
  },
  {
   "cell_type": "code",
   "execution_count": 44,
   "metadata": {
    "scrolled": true
   },
   "outputs": [
    {
     "data": {
      "application/vnd.jupyter.widget-view+json": {
       "model_id": "",
       "version_major": 2,
       "version_minor": 0
      },
      "text/plain": [
       "FloatProgress(value=0.0, bar_style='info', description='Progress:', layout=Layout(height='25px', width='50%'),…"
      ]
     },
     "metadata": {},
     "output_type": "display_data"
    }
   ],
   "source": [
    "sales_all_details_df_5 = sales_all_details_df_4.join(underwriting_gc_distribution_channel_tab_df_1,\"reference_num\",\"left\")"
   ]
  },
  {
   "cell_type": "code",
   "execution_count": 45,
   "metadata": {},
   "outputs": [
    {
     "data": {
      "application/vnd.jupyter.widget-view+json": {
       "model_id": "",
       "version_major": 2,
       "version_minor": 0
      },
      "text/plain": [
       "FloatProgress(value=0.0, bar_style='info', description='Progress:', layout=Layout(height='25px', width='50%'),…"
      ]
     },
     "metadata": {},
     "output_type": "display_data"
    }
   ],
   "source": [
    "sales_all_details_df_6=sales_all_details_df_5.join(accidentaldeathrider_hlt_df,\"reference_num\",\"left\")"
   ]
  },
  {
   "cell_type": "code",
   "execution_count": 46,
   "metadata": {},
   "outputs": [
    {
     "data": {
      "application/vnd.jupyter.widget-view+json": {
       "model_id": "",
       "version_major": 2,
       "version_minor": 0
      },
      "text/plain": [
       "FloatProgress(value=0.0, bar_style='info', description='Progress:', layout=Layout(height='25px', width='50%'),…"
      ]
     },
     "metadata": {},
     "output_type": "display_data"
    }
   ],
   "source": [
    "sales_all_details_df_7=sales_all_details_df_6.join(rider_pa_df,\"reference_num\",\"left\")"
   ]
  },
  {
   "cell_type": "code",
   "execution_count": 47,
   "metadata": {},
   "outputs": [
    {
     "data": {
      "application/vnd.jupyter.widget-view+json": {
       "model_id": "",
       "version_major": 2,
       "version_minor": 0
      },
      "text/plain": [
       "FloatProgress(value=0.0, bar_style='info', description='Progress:', layout=Layout(height='25px', width='50%'),…"
      ]
     },
     "metadata": {},
     "output_type": "display_data"
    }
   ],
   "source": [
    "sales_all_details_df_8=sales_all_details_df_7.join(pne_df,\"reference_num\",\"left\")"
   ]
  },
  {
   "cell_type": "code",
   "execution_count": 48,
   "metadata": {},
   "outputs": [
    {
     "data": {
      "application/vnd.jupyter.widget-view+json": {
       "model_id": "",
       "version_major": 2,
       "version_minor": 0
      },
      "text/plain": [
       "FloatProgress(value=0.0, bar_style='info', description='Progress:', layout=Layout(height='25px', width='50%'),…"
      ]
     },
     "metadata": {},
     "output_type": "display_data"
    }
   ],
   "source": [
    "sales_all_details_df_9=sales_all_details_df_8.join(trv_df,\"reference_num\",\"left\")"
   ]
  },
  {
   "cell_type": "code",
   "execution_count": 49,
   "metadata": {},
   "outputs": [
    {
     "data": {
      "application/vnd.jupyter.widget-view+json": {
       "model_id": "",
       "version_major": 2,
       "version_minor": 0
      },
      "text/plain": [
       "FloatProgress(value=0.0, bar_style='info', description='Progress:', layout=Layout(height='25px', width='50%'),…"
      ]
     },
     "metadata": {},
     "output_type": "display_data"
    }
   ],
   "source": [
    "sales_all_details_df_10=sales_all_details_df_9.join(lta_df,\"reference_num\",\"left\")"
   ]
  },
  {
   "cell_type": "code",
   "execution_count": 50,
   "metadata": {},
   "outputs": [
    {
     "data": {
      "application/vnd.jupyter.widget-view+json": {
       "model_id": "",
       "version_major": 2,
       "version_minor": 0
      },
      "text/plain": [
       "FloatProgress(value=0.0, bar_style='info', description='Progress:', layout=Layout(height='25px', width='50%'),…"
      ]
     },
     "metadata": {},
     "output_type": "display_data"
    }
   ],
   "source": [
    "sales_all_details_df_11 = sales_all_details_df_10.join(policy_gc_risk_headers_df, \"reference_num\",\"left\")"
   ]
  },
  {
   "cell_type": "code",
   "execution_count": 51,
   "metadata": {},
   "outputs": [
    {
     "data": {
      "application/vnd.jupyter.widget-view+json": {
       "model_id": "",
       "version_major": 2,
       "version_minor": 0
      },
      "text/plain": [
       "FloatProgress(value=0.0, bar_style='info', description='Progress:', layout=Layout(height='25px', width='50%'),…"
      ]
     },
     "metadata": {},
     "output_type": "display_data"
    }
   ],
   "source": [
    "sales_all_details_df_12 = sales_all_details_df_11.join(policy_dh_risk_details_hlt_df, \"reference_num\",\"left\")"
   ]
  },
  {
   "cell_type": "code",
   "execution_count": 52,
   "metadata": {},
   "outputs": [
    {
     "data": {
      "application/vnd.jupyter.widget-view+json": {
       "model_id": "",
       "version_major": 2,
       "version_minor": 0
      },
      "text/plain": [
       "FloatProgress(value=0.0, bar_style='info', description='Progress:', layout=Layout(height='25px', width='50%'),…"
      ]
     },
     "metadata": {},
     "output_type": "display_data"
    },
    {
     "name": "stdout",
     "output_type": "stream",
     "text": [
      "['reference_num', 'policy_number', 'certificate_no', 'pol_incept_date', 'pol_exp_date', 'source_system', 'policy_variant', 'mfg_year', 'source_system_customer_id', 'product_name', 'business_type', 'txt_business_type', 'channel', 'record_type_desc', 'record_type_cd', 'producername', 'product_cd', 'product_cd_new', 'renl_cert_no', 'times_renewed_cnt', 'no_of_lives', 'segment_type', 'report_accounting_period', 'veh_model', 'veh_age', 'veh_make', 'veh_body', 'veh_engine_no', 'veh_no', 'binddate', 'no_claim_bonus', 'veh_chassis_no', 'policy_type', 'fuel_type', 'uw_discount', 'uw_loading', 'policy_counter', 'timestamp', 'ncb_percent', 'discount', 'producer_cd', 'major_line_cd', 'minor_line_cd', 'main_lob', 'pol_status_cd', 'productgroup', 'lob', 'minor_line', 'channel_new_2', 'lob_new', 'txt_lob', 'sub_channel_new', 'new_sub_channel', 'group_category', 'producer_type', 'min_pol_incept_date', 'premiumamount', 'total_premium', 'base_sum_insured', 'plan_type', 'break_in_insurance_flag', 'break_in_insurance_days', 'exshowroomprice', 'irda_product_uin', 'txt_active_flag', 'status', 'txt_intermediary_cd', 'txt_status', 'dat_insert_date', 'dat_modify_date', 'accidentaldeathrider', 'rider_applicable', 'coverage_opted', 'age_building', 'personal_accident', 'public_lia', 'trip_type', 'LIMIT', 'purpose_of_trip', 'dep_date', 'return_date', 'travel_duration', 'destination_country', 'trip', 'lta_zone', 'information280', 'ped_declared_indicator', 'portability_required', 'deductible_amount', 'cumulative_bonus_earned']"
     ]
    }
   ],
   "source": [
    "sales_all_details_df_12.columns"
   ]
  },
  {
   "cell_type": "code",
   "execution_count": 53,
   "metadata": {},
   "outputs": [
    {
     "data": {
      "application/vnd.jupyter.widget-view+json": {
       "model_id": "",
       "version_major": 2,
       "version_minor": 0
      },
      "text/plain": [
       "FloatProgress(value=0.0, bar_style='info', description='Progress:', layout=Layout(height='25px', width='50%'),…"
      ]
     },
     "metadata": {},
     "output_type": "display_data"
    }
   ],
   "source": [
    "sales_all_details_df_q1 = sales_all_details_df_12.selectExpr( 'reference_num', 'policy_number', 'certificate_no', \n",
    "'pol_incept_date', 'pol_exp_date', 'source_system','policy_variant', 'mfg_year', 'source_system_customer_id',\n",
    "'product_name', 'business_type', 'txt_business_type', 'channel', 'record_type_desc', 'record_type_cd', 'producername', \n",
    "'product_cd', 'product_cd_new', 'renl_cert_no', 'times_renewed_cnt', 'no_of_lives', 'segment_type', 'report_accounting_period',\n",
    "'veh_model', 'veh_age', 'veh_make', 'veh_body', 'veh_engine_no', 'veh_no', 'binddate', 'no_claim_bonus', 'veh_chassis_no', \n",
    "'binddate as commit_timestamp', 'policy_type', 'fuel_type', 'uw_discount', 'uw_loading', 'policy_counter', 'timestamp', 'ncb_percent',\n",
    "'discount', 'producer_cd', 'major_line_cd', 'minor_line_cd', 'main_lob', 'pol_status_cd', 'productgroup', 'lob', \n",
    "'minor_line', 'channel_new_2', 'lob_new', 'txt_lob', 'sub_channel_new', 'new_sub_channel', 'group_category', \n",
    "'producer_type', 'min_pol_incept_date', 'premiumamount', 'total_premium', 'base_sum_insured', 'plan_type',\n",
    "'break_in_insurance_flag', 'break_in_insurance_days', 'exshowroomprice', 'irda_product_uin', 'txt_active_flag', \n",
    "'status', 'txt_intermediary_cd', 'txt_status', 'dat_insert_date', 'dat_modify_date', 'accidentaldeathrider',\n",
    "'rider_applicable', 'coverage_opted', 'age_building', 'personal_accident', 'public_lia', 'trip_type', 'LIMIT as trv_limit', \n",
    "'purpose_of_trip', 'dep_date', 'return_date', 'travel_duration', 'destination_country', 'trip', 'lta_zone', \n",
    "'information280', 'ped_declared_indicator', 'portability_required', 'deductible_amount', 'cumulative_bonus_earned',\n",
    "\"case when txt_status in ('3','4','5','6') then true else false end as orphan_policy_indicator\",\n",
    "\"case when txt_status in ('3','4','5','6') then coalesce(dat_modify_date,dat_insert_date) else null end as orphan_policy_date\")\\\n",
    ".withColumn(\"source_system_name\",col('source_system'))\\\n",
    ".withColumn(\"policy_term\",datediff(col(\"pol_exp_date\") ,col(\"pol_incept_date\")))"
   ]
  },
  {
   "cell_type": "code",
   "execution_count": 54,
   "metadata": {},
   "outputs": [
    {
     "data": {
      "application/vnd.jupyter.widget-view+json": {
       "model_id": "",
       "version_major": 2,
       "version_minor": 0
      },
      "text/plain": [
       "FloatProgress(value=0.0, bar_style='info', description='Progress:', layout=Layout(height='25px', width='50%'),…"
      ]
     },
     "metadata": {},
     "output_type": "display_data"
    },
    {
     "name": "stdout",
     "output_type": "stream",
     "text": [
      "['reference_num', 'policy_number', 'certificate_no', 'pol_incept_date', 'pol_exp_date', 'source_system', 'policy_variant', 'mfg_year', 'source_system_customer_id', 'product_name', 'business_type', 'txt_business_type', 'channel', 'record_type_desc', 'record_type_cd', 'producername', 'product_cd', 'product_cd_new', 'renl_cert_no', 'times_renewed_cnt', 'no_of_lives', 'segment_type', 'report_accounting_period', 'veh_model', 'veh_age', 'veh_make', 'veh_body', 'veh_engine_no', 'veh_no', 'binddate', 'no_claim_bonus', 'veh_chassis_no', 'commit_timestamp', 'policy_type', 'fuel_type', 'uw_discount', 'uw_loading', 'policy_counter', 'timestamp', 'ncb_percent', 'discount', 'producer_cd', 'major_line_cd', 'minor_line_cd', 'main_lob', 'pol_status_cd', 'productgroup', 'lob', 'minor_line', 'channel_new_2', 'lob_new', 'txt_lob', 'sub_channel_new', 'new_sub_channel', 'group_category', 'producer_type', 'min_pol_incept_date', 'premiumamount', 'total_premium', 'base_sum_insured', 'plan_type', 'break_in_insurance_flag', 'break_in_insurance_days', 'exshowroomprice', 'irda_product_uin', 'txt_active_flag', 'status', 'txt_intermediary_cd', 'txt_status', 'dat_insert_date', 'dat_modify_date', 'accidentaldeathrider', 'rider_applicable', 'coverage_opted', 'age_building', 'personal_accident', 'public_lia', 'trip_type', 'trv_limit', 'purpose_of_trip', 'dep_date', 'return_date', 'travel_duration', 'destination_country', 'trip', 'lta_zone', 'information280', 'ped_declared_indicator', 'portability_required', 'deductible_amount', 'cumulative_bonus_earned', 'orphan_policy_indicator', 'orphan_policy_date', 'source_system_name', 'policy_term']"
     ]
    }
   ],
   "source": [
    "sales_all_details_df_q1.columns"
   ]
  },
  {
   "cell_type": "code",
   "execution_count": 55,
   "metadata": {},
   "outputs": [
    {
     "data": {
      "application/vnd.jupyter.widget-view+json": {
       "model_id": "",
       "version_major": 2,
       "version_minor": 0
      },
      "text/plain": [
       "FloatProgress(value=0.0, bar_style='info', description='Progress:', layout=Layout(height='25px', width='50%'),…"
      ]
     },
     "metadata": {},
     "output_type": "display_data"
    }
   ],
   "source": [
    "# sales_all_details_df_q1 = sales_all_details_df_12.selectExpr('reference_num', 'policy_number', 'certificate_no', 'pol_incept_date', 'pol_exp_date', 'source_system', 'partner_appl_no', 'branch', 'report_accounting_period', 'receipt_no', 'discount', 'endorsement_no', 'leader_name', 'group_category', 'main_lob', 'major_line_cd', 'mfg_year', 'minor_line_cd', 'veh_make', 'veh_model', 'ri_inward_flag', 'zone', 'product_cd_new', 'booking_date', 'channel', 'class_peril_cd', 'policy_term', 'policy_type', 'policy_variant', 'coinsurance_flag', 'application_no', 'renl_cert_no', 'record_type_desc', 'record_type_cd', 'producer_cd', 'producername', 'product_name', 'CommissionPercent', 'main_receipt_no', 'share', 'business_type', 'segment_type', 'sum_insured', 'rural_fg', 'branch_off_cd', 'producer_type', 'pin', 'prdr_branch_sub_cd', 'times_renewed_cnt', 'txt_business_type', 'covernotenumber', 'watts_policy_no', 'coinsurance_cd', 'timestamp', 'veh_engine_no', 'veh_no', 'veh_body', 'source_system_customer_id', 'customer_id', 'clientname', 'client_city_name', 'endorsement_eff_date', 'prem_eff_date', 'sme_flag', 'fac_prem', 'ceded_vqst_prem', 'ceded_surplus_treaty_prem', 'obligatory_prem', 'obligatory_comm', 'pol_office_cd', 'producer_name', 'ncb_percent', 'pol_status_cd', 'product_cd', 'veh_age', 'txt_chasis_no', 'uw_discount', 'uw_loading', 'fuel_type', 'display_product_cd', 'policy_counter', 'no_of_lives', 'row_num', 'product_eff_date', 'BindDate as commit_timestamp', 'min_pol_incept_date', 'premiumamount', 'total_premium', 'base_sum_insured', 'lob', 'Channel_New_2', 'plan_type', 'break_in_insurance_flag', 'break_in_insurance_days', 'exshowroomprice', 'irda_product_uin', 'txt_active_flag', 'status', 'txt_intermediary_cd', 'txt_status', 'dat_insert_date', 'dat_modify_date', 'accidentaldeathrider', 'rider_applicable', 'coverage_opted', 'age_building', 'personal_accident', 'public_lia', 'trip_type', 'LIMIT', 'purpose_of_trip', 'dep_date', 'return_date', 'travel_duration', 'destination_country', 'trip', 'lta_zone', 'information280', 'ped_declared_indicator', 'portability_required', 'deductible_amount', 'cumulative_bonus_earned',\n",
    "#  \"case when txt_status in ('3','4','5','6') then true else false end as orphan_policy_indicator\",\n",
    "#         \"case when txt_status in ('3','4','5','6') then coalesce(dat_modify_date,dat_insert_date) else null end as orphan_policy_date\")\\\n",
    "#     .withColumn(\"source_system_name\",col('source_system'))\\\n",
    "#     .withColumn(\"policy_term\",datediff(col(\"pol_exp_date\") ,col(\"pol_incept_date\")))"
   ]
  },
  {
   "cell_type": "code",
   "execution_count": 56,
   "metadata": {},
   "outputs": [
    {
     "data": {
      "application/vnd.jupyter.widget-view+json": {
       "model_id": "",
       "version_major": 2,
       "version_minor": 0
      },
      "text/plain": [
       "FloatProgress(value=0.0, bar_style='info', description='Progress:', layout=Layout(height='25px', width='50%'),…"
      ]
     },
     "metadata": {},
     "output_type": "display_data"
    }
   ],
   "source": [
    "sales_all_details_df_q1=sales_all_details_df_q1.filter((col('policy_number').isNotNull()))\n",
    "sales_all_details_df_q1 = sales_all_details_df_q1.drop_duplicates()\n",
    "\n",
    "w = Window.partitionBy(['policy_number','certificate_no','pol_incept_date','pol_exp_date','source_system'])\\\n",
    "    .orderBy([F.col('commit_timestamp').desc(),F.col('reference_num').desc()])\n",
    "sales_all_details_df_q1 = sales_all_details_df_q1.withColumn('row',F.row_number().over(w))\n",
    "sales_all_details_df_q1 = sales_all_details_df_q1.filter(F.col('row')==1)\n"
   ]
  },
  {
   "cell_type": "code",
   "execution_count": 57,
   "metadata": {},
   "outputs": [
    {
     "data": {
      "application/vnd.jupyter.widget-view+json": {
       "model_id": "",
       "version_major": 2,
       "version_minor": 0
      },
      "text/plain": [
       "FloatProgress(value=0.0, bar_style='info', description='Progress:', layout=Layout(height='25px', width='50%'),…"
      ]
     },
     "metadata": {},
     "output_type": "display_data"
    },
    {
     "name": "stdout",
     "output_type": "stream",
     "text": [
      "['reference_num', 'LDDESC']"
     ]
    }
   ],
   "source": [
    "col_str=[\"reference_num\",\"LDDESC\"]\n",
    "reference_gc_cnfgtr_policy_ld_dtls_df=load_gpdb_jdbc(col_str,\"reference_gc_cnfgtr_policy_ld_dtls\",'public')\\\n",
    ".filter(col(\"LDDESC\").isin('No Claim Bonus'))\n",
    "reference_gc_cnfgtr_policy_ld_dtls_df.columns"
   ]
  },
  {
   "cell_type": "code",
   "execution_count": 58,
   "metadata": {},
   "outputs": [
    {
     "data": {
      "application/vnd.jupyter.widget-view+json": {
       "model_id": "",
       "version_major": 2,
       "version_minor": 0
      },
      "text/plain": [
       "FloatProgress(value=0.0, bar_style='info', description='Progress:', layout=Layout(height='25px', width='50%'),…"
      ]
     },
     "metadata": {},
     "output_type": "display_data"
    }
   ],
   "source": [
    "sales_all_details_df_q2 = sales_all_details_df.join(reference_gc_cnfgtr_policy_ld_dtls_df,\\\n",
    "      \"reference_num\",\"inner\").withColumn(\"ncb_flag\",lit(True)).filter((col('policy_number').isNotNull()))\\\n",
    ".select(['reference_num','ncb_flag'])"
   ]
  },
  {
   "cell_type": "code",
   "execution_count": 59,
   "metadata": {},
   "outputs": [
    {
     "data": {
      "application/vnd.jupyter.widget-view+json": {
       "model_id": "",
       "version_major": 2,
       "version_minor": 0
      },
      "text/plain": [
       "FloatProgress(value=0.0, bar_style='info', description='Progress:', layout=Layout(height='25px', width='50%'),…"
      ]
     },
     "metadata": {},
     "output_type": "display_data"
    }
   ],
   "source": [
    "df6 = sales_all_details_df_q1.join(sales_all_details_df_q2,'reference_num',\"left\")"
   ]
  },
  {
   "cell_type": "code",
   "execution_count": 60,
   "metadata": {},
   "outputs": [
    {
     "data": {
      "application/vnd.jupyter.widget-view+json": {
       "model_id": "",
       "version_major": 2,
       "version_minor": 0
      },
      "text/plain": [
       "FloatProgress(value=0.0, bar_style='info', description='Progress:', layout=Layout(height='25px', width='50%'),…"
      ]
     },
     "metadata": {},
     "output_type": "display_data"
    }
   ],
   "source": [
    "policy_dh_risk_details_hlt_df_2 = policy_dh_risk_details_hlt_df.filter(col(\"portability_required\")==\"True\")\\\n",
    "    .selectExpr(\"portability_required\",\"reference_num\")"
   ]
  },
  {
   "cell_type": "code",
   "execution_count": 61,
   "metadata": {},
   "outputs": [
    {
     "data": {
      "application/vnd.jupyter.widget-view+json": {
       "model_id": "",
       "version_major": 2,
       "version_minor": 0
      },
      "text/plain": [
       "FloatProgress(value=0.0, bar_style='info', description='Progress:', layout=Layout(height='25px', width='50%'),…"
      ]
     },
     "metadata": {},
     "output_type": "display_data"
    }
   ],
   "source": [
    "sales_all_details_df_q1_q4 = sales_all_details_df.join(policy_dh_risk_details_hlt_df_2, \"reference_num\",\"inner\")\\\n",
    "    .selectExpr(\"reference_num \").withColumn(\"portability_indicator\",lit(True))\n",
    "sales_all_details_df_q1_q4.columns\n",
    "sales_all_details_df_q1_q4 = sales_all_details_df_q1_q4.groupBy('reference_num').agg(F.max(F.col('portability_indicator')).alias(\"portability_indicator\"))\n"
   ]
  },
  {
   "cell_type": "code",
   "execution_count": 62,
   "metadata": {},
   "outputs": [
    {
     "data": {
      "application/vnd.jupyter.widget-view+json": {
       "model_id": "",
       "version_major": 2,
       "version_minor": 0
      },
      "text/plain": [
       "FloatProgress(value=0.0, bar_style='info', description='Progress:', layout=Layout(height='25px', width='50%'),…"
      ]
     },
     "metadata": {},
     "output_type": "display_data"
    }
   ],
   "source": [
    "df8 = df6.join(sales_all_details_df_q1_q4,'reference_num',\"left\")"
   ]
  },
  {
   "cell_type": "code",
   "execution_count": 63,
   "metadata": {
    "scrolled": true
   },
   "outputs": [
    {
     "data": {
      "application/vnd.jupyter.widget-view+json": {
       "model_id": "",
       "version_major": 2,
       "version_minor": 0
      },
      "text/plain": [
       "FloatProgress(value=0.0, bar_style='info', description='Progress:', layout=Layout(height='25px', width='50%'),…"
      ]
     },
     "metadata": {},
     "output_type": "display_data"
    }
   ],
   "source": [
    "grp=['policy_number','certificate_no']\n",
    "windowSpec  = Window.partitionBy(grp).orderBy(col(\"pol_incept_date\").desc())\n",
    "\n",
    "sales_all_details_df_q5 = sales_all_details_df1.withColumn(\"new_pol_incept_date\",max(col(\"pol_incept_date\")).over(windowSpec))\\\n",
    ".withColumn(\"dense_rank\",dense_rank().over(windowSpec))\\\n",
    ".selectExpr(\"pol_exp_date as previous_pol_exp_date\",\"new_pol_incept_date\",\"dense_rank\",'pol_incept_date as previous_pol_incept_date',\"reference_num\")\n",
    "\n",
    "\n",
    "sales_all_details_df_q5 = sales_all_details_df.join(sales_all_details_df_q5,\"reference_num\",\"left\")\\\n",
    "    .selectExpr(\"policy_number\",\"reference_num \",\"previous_pol_exp_date\",\"new_pol_incept_date\",\"dense_rank\")\\\n",
    "    .filter(col(\"dense_rank\") == '2' )\\\n",
    "    .withColumn(\"renewed_in_grace_period\",when(date_add(col(\"previous_pol_exp_date\"),1) < col(\"new_pol_incept_date\"),lit(True))\\\n",
    "               .otherwise(lit(False)))\\\n",
    "    .selectExpr(\"reference_num\",\"renewed_in_grace_period\")\n",
    "sales_all_details_df_q5 = sales_all_details_df_q5.groupBy('reference_num').agg(F.max(F.col('renewed_in_grace_period')).alias(\"renewed_in_grace_period\"))    \n"
   ]
  },
  {
   "cell_type": "code",
   "execution_count": 64,
   "metadata": {},
   "outputs": [
    {
     "data": {
      "application/vnd.jupyter.widget-view+json": {
       "model_id": "",
       "version_major": 2,
       "version_minor": 0
      },
      "text/plain": [
       "FloatProgress(value=0.0, bar_style='info', description='Progress:', layout=Layout(height='25px', width='50%'),…"
      ]
     },
     "metadata": {},
     "output_type": "display_data"
    }
   ],
   "source": [
    "final_df = df8.join(sales_all_details_df_q5,'reference_num',\"left\")"
   ]
  },
  {
   "cell_type": "code",
   "execution_count": 65,
   "metadata": {},
   "outputs": [
    {
     "data": {
      "application/vnd.jupyter.widget-view+json": {
       "model_id": "",
       "version_major": 2,
       "version_minor": 0
      },
      "text/plain": [
       "FloatProgress(value=0.0, bar_style='info', description='Progress:', layout=Layout(height='25px', width='50%'),…"
      ]
     },
     "metadata": {},
     "output_type": "display_data"
    }
   ],
   "source": [
    "final_df=final_df.withColumn(\"renewed_in_grace_period\",col(\"renewed_in_grace_period\").cast(BooleanType()))\n",
    "\n",
    "\n",
    "w = Window.partitionBy(['policy_number','certificate_no','pol_incept_date', 'pol_exp_date','source_system_name']).orderBy([F.col('commit_timestamp').desc(),F.col('reference_num').desc()])\n",
    "df_main = final_df.withColumn('row',F.row_number().over(w))\n",
    "df_main = df_main.filter(F.col('row')==1).\\\n",
    "filter((col('policy_number').isNotNull())).filter((col('source_system_customer_id').isNotNull())).drop(df_main.row)\n",
    "\n",
    "    "
   ]
  },
  {
   "cell_type": "code",
   "execution_count": 66,
   "metadata": {},
   "outputs": [
    {
     "data": {
      "application/vnd.jupyter.widget-view+json": {
       "model_id": "",
       "version_major": 2,
       "version_minor": 0
      },
      "text/plain": [
       "FloatProgress(value=0.0, bar_style='info', description='Progress:', layout=Layout(height='25px', width='50%'),…"
      ]
     },
     "metadata": {},
     "output_type": "display_data"
    },
    {
     "name": "stdout",
     "output_type": "stream",
     "text": [
      "['reference_num', 'policy_number', 'certificate_no', 'pol_incept_date', 'pol_exp_date', 'source_system', 'policy_variant', 'mfg_year', 'source_system_customer_id', 'product_name', 'business_type', 'txt_business_type', 'channel', 'record_type_desc', 'record_type_cd', 'producername', 'product_cd', 'product_cd_new', 'renl_cert_no', 'times_renewed_cnt', 'no_of_lives', 'segment_type', 'report_accounting_period', 'veh_model', 'veh_age', 'veh_make', 'veh_body', 'veh_engine_no', 'veh_no', 'binddate', 'no_claim_bonus', 'veh_chassis_no', 'commit_timestamp', 'policy_type', 'fuel_type', 'uw_discount', 'uw_loading', 'policy_counter', 'timestamp', 'ncb_percent', 'discount', 'producer_cd', 'major_line_cd', 'minor_line_cd', 'main_lob', 'pol_status_cd', 'productgroup', 'lob', 'minor_line', 'channel_new_2', 'lob_new', 'txt_lob', 'sub_channel_new', 'new_sub_channel', 'group_category', 'producer_type', 'min_pol_incept_date', 'premiumamount', 'total_premium', 'base_sum_insured', 'plan_type', 'break_in_insurance_flag', 'break_in_insurance_days', 'exshowroomprice', 'irda_product_uin', 'txt_active_flag', 'status', 'txt_intermediary_cd', 'txt_status', 'dat_insert_date', 'dat_modify_date', 'accidentaldeathrider', 'rider_applicable', 'coverage_opted', 'age_building', 'personal_accident', 'public_lia', 'trip_type', 'trv_limit', 'purpose_of_trip', 'dep_date', 'return_date', 'travel_duration', 'destination_country', 'trip', 'lta_zone', 'information280', 'ped_declared_indicator', 'portability_required', 'deductible_amount', 'cumulative_bonus_earned', 'orphan_policy_indicator', 'orphan_policy_date', 'source_system_name', 'policy_term', 'row', 'ncb_flag', 'portability_indicator', 'renewed_in_grace_period']"
     ]
    }
   ],
   "source": [
    "final_df.columns"
   ]
  },
  {
   "cell_type": "code",
   "execution_count": 67,
   "metadata": {},
   "outputs": [
    {
     "data": {
      "application/vnd.jupyter.widget-view+json": {
       "model_id": "",
       "version_major": 2,
       "version_minor": 0
      },
      "text/plain": [
       "FloatProgress(value=0.0, bar_style='info', description='Progress:', layout=Layout(height='25px', width='50%'),…"
      ]
     },
     "metadata": {},
     "output_type": "display_data"
    },
    {
     "name": "stdout",
     "output_type": "stream",
     "text": [
      "408448"
     ]
    }
   ],
   "source": [
    "df_main.persist(pyspark.StorageLevel.MEMORY_AND_DISK)\n",
    "records=df_main.count()\n",
    "records"
   ]
  },
  {
   "cell_type": "code",
   "execution_count": 68,
   "metadata": {},
   "outputs": [
    {
     "data": {
      "application/vnd.jupyter.widget-view+json": {
       "model_id": "",
       "version_major": 2,
       "version_minor": 0
      },
      "text/plain": [
       "FloatProgress(value=0.0, bar_style='info', description='Progress:', layout=Layout(height='25px', width='50%'),…"
      ]
     },
     "metadata": {},
     "output_type": "display_data"
    }
   ],
   "source": [
    "df_main=df_main.withColumnRenamed('base_sum_insured','sum_insured')"
   ]
  },
  {
   "cell_type": "code",
   "execution_count": 70,
   "metadata": {},
   "outputs": [
    {
     "data": {
      "application/vnd.jupyter.widget-view+json": {
       "model_id": "",
       "version_major": 2,
       "version_minor": 0
      },
      "text/plain": [
       "FloatProgress(value=0.0, bar_style='info', description='Progress:', layout=Layout(height='25px', width='50%'),…"
      ]
     },
     "metadata": {},
     "output_type": "display_data"
    },
    {
     "name": "stdout",
     "output_type": "stream",
     "text": [
      "200"
     ]
    }
   ],
   "source": [
    "output_index = \"policy_retail_staging\"  #policy_retail_staging_211123\n",
    "schema = \"customermart\"\n",
    "\n",
    "import sys\n",
    "try:\n",
    "\n",
    "    df_main.write.format(\"greenplum\").option(\"truncate\", \"true\")\\\n",
    "    .option(\"dbtable\",output_index).option('dbschema',schema)\\\n",
    "    .option(\"server.port\",\"1150-1170\").option(\"url\",prod_url)\\\n",
    "    .option(\"user\", user_prod).option(\"password\",pwd_prod).mode('overwrite').save()\n",
    "\n",
    "\n",
    "except Exception as e:\n",
    "    x = e\n",
    "    print(x)\n",
    "else:\n",
    "    x = 200 #success\n",
    "    print(x)"
   ]
  },
  {
   "cell_type": "code",
   "execution_count": 72,
   "metadata": {},
   "outputs": [
    {
     "data": {
      "application/vnd.jupyter.widget-view+json": {
       "model_id": "",
       "version_major": 2,
       "version_minor": 0
      },
      "text/plain": [
       "FloatProgress(value=0.0, bar_style='info', description='Progress:', layout=Layout(height='25px', width='50%'),…"
      ]
     },
     "metadata": {},
     "output_type": "display_data"
    },
    {
     "name": "stdout",
     "output_type": "stream",
     "text": [
      "'2024-03-08 10:02:12.143816'"
     ]
    }
   ],
   "source": [
    "from pyspark.sql.functions import hash,col,regexp_replace,collect_list,concat_ws,initcap,count,least\n",
    "import numpy as np\n",
    "import datetime\n",
    "from pyspark.sql.functions import *\n",
    "from pyspark.sql.types import DateType\n",
    "import psycopg2\n",
    "import time\n",
    "from time import gmtime, strftime\n",
    "import pytz\n",
    "starttime = time.time()\n",
    "start_time = datetime.datetime.now(pytz.timezone('Asia/Kolkata')).strftime(\"%Y-%m-%d %H:%M:%S.%f\")\n",
    "start_time"
   ]
  },
  {
   "cell_type": "code",
   "execution_count": 73,
   "metadata": {
    "scrolled": true
   },
   "outputs": [
    {
     "data": {
      "application/vnd.jupyter.widget-view+json": {
       "model_id": "",
       "version_major": 2,
       "version_minor": 0
      },
      "text/plain": [
       "FloatProgress(value=0.0, bar_style='info', description='Progress:', layout=Layout(height='25px', width='50%'),…"
      ]
     },
     "metadata": {},
     "output_type": "display_data"
    }
   ],
   "source": [
    "table_name='policy_retail'\n",
    "source = \"policy_retail\"\n",
    "conn_prod = psycopg2.connect(host=prod_host, port=prod_port, user=user_prod, password=pwd_prod, dbname=prod_dbname)\n",
    "conn_to=conn_prod"
   ]
  },
  {
   "cell_type": "code",
   "execution_count": 74,
   "metadata": {},
   "outputs": [
    {
     "data": {
      "application/vnd.jupyter.widget-view+json": {
       "model_id": "",
       "version_major": 2,
       "version_minor": 0
      },
      "text/plain": [
       "FloatProgress(value=0.0, bar_style='info', description='Progress:', layout=Layout(height='25px', width='50%'),…"
      ]
     },
     "metadata": {},
     "output_type": "display_data"
    },
    {
     "name": "stdout",
     "output_type": "stream",
     "text": [
      "Inside try segment\n",
      "Inside except segment\n",
      "Executed update query\n",
      "Executed insert query\n",
      "success"
     ]
    }
   ],
   "source": [
    "import sys\n",
    "try:\n",
    "    update_policy(conn_to,table_name,prod_gpdb_spark_options, schema=\"customermart\")\n",
    "except Exception as e:\n",
    "    x = e\n",
    "    print(x)\n",
    "else:\n",
    "    x = 'success'\n",
    "    print(x)"
   ]
  },
  {
   "cell_type": "code",
   "execution_count": null,
   "metadata": {},
   "outputs": [],
   "source": [
    "if  x == 'success':\n",
    "    update_progress(table_name,source,time_filter,records,start_time,starttime,'Success')\n",
    "    print('SUCCESS')\n",
    "else:\n",
    "    update_progress(table_name,source,time_filter,'0',start_time,starttime,'Failed')\n",
    "    print('FAILED')"
   ]
  },
  {
   "cell_type": "code",
   "execution_count": null,
   "metadata": {},
   "outputs": [],
   "source": [
    "df_main.unpersist()\n",
    "sales_all_details_df.unpersist()"
   ]
  },
  {
   "cell_type": "code",
   "execution_count": null,
   "metadata": {},
   "outputs": [],
   "source": [
    "conn_prod.close()"
   ]
  },
  {
   "cell_type": "code",
   "execution_count": null,
   "metadata": {},
   "outputs": [],
   "source": [
    "import io\n",
    "import pandas as pd\n",
    "import xlsxwriter\n",
    "import sys\n",
    "import smtplib\n",
    "from os.path import basename\n",
    "from email.mime.application import MIMEApplication\n",
    "from email.mime.multipart import MIMEMultipart\n",
    "from email.mime.text import MIMEText\n",
    "from email.utils import COMMASPACE, formatdate\n",
    "import pandas as pd\n",
    "from sqlalchemy import create_engine\n",
    "from smtplib import SMTP"
   ]
  },
  {
   "cell_type": "code",
   "execution_count": null,
   "metadata": {},
   "outputs": [],
   "source": [
    "if x!='success':\n",
    "    status='FAILED'\n",
    "else:\n",
    "    status=\"SUCCESS\""
   ]
  },
  {
   "cell_type": "code",
   "execution_count": null,
   "metadata": {},
   "outputs": [],
   "source": [
    "subject=f\"Automated Mail-POLICY Job Status : {status}\""
   ]
  },
  {
   "cell_type": "code",
   "execution_count": null,
   "metadata": {},
   "outputs": [],
   "source": [
    "if x=='success':\n",
    "    recipients = ['nishant5.addenki@tataaig.com','devnandan.TataIndustries@tataaig.com','Ajeet3.Jaiswal@tataaig.com'] \n",
    "    emaillist = [elem.strip().split(',') for elem in recipients]\n",
    "    msg = MIMEMultipart()\n",
    "    msg['Subject'] = subject\n",
    "    msg['From'] = 'customercoe@tataaig.com'\n",
    "\n",
    "\n",
    "    html = \"\"\"\\\n",
    "    <html>\n",
    "      <head></head>\n",
    "      <body>\n",
    "        Policy job run is Successful\n",
    "      </body>\n",
    "        <p>This is automated mail, please don't reply. Thanks</p>\n",
    "    </html>\n",
    "    \"\"\"\n",
    "\n",
    "    part1 = MIMEText(html, 'html')\n",
    "    msg.attach(part1)\n",
    "\n",
    "    server = smtplib.SMTP(\"tataaig-com.mail.protection.outlook.com\",25)\n",
    "    server.sendmail(msg['From'], emaillist , msg.as_string())\n",
    "else:\n",
    "      \n",
    "    recipients = ['nishant5.addenki@tataaig.com','devnandan.TataIndustries@tataaig.com','Ajeet3.Jaiswal@tataaig.com']\n",
    "    emaillist = [elem.strip().split(',') for elem in recipients]\n",
    "    msg = MIMEMultipart()\n",
    "    msg['Subject'] = subject\n",
    "    msg['From'] = 'customercoe@tataaig.com'\n",
    "\n",
    "\n",
    "    html = \"\"\"\\\n",
    "    <html>\n",
    "      <head></head>\n",
    "      <body>\n",
    "        Policy job run FAILED\n",
    "      </body>\n",
    "        <p>This is automated mail, please don't reply. Thanks</p>\n",
    "    </html>\n",
    "    \"\"\"\n",
    "\n",
    "    part1 = MIMEText(html, 'html')\n",
    "    msg.attach(part1)\n",
    "\n",
    "    server = smtplib.SMTP(\"tataaig-com.mail.protection.outlook.com\",25)\n",
    "    server.sendmail(msg['From'], emaillist , msg.as_string())"
   ]
  },
  {
   "cell_type": "code",
   "execution_count": null,
   "metadata": {},
   "outputs": [],
   "source": []
  },
  {
   "cell_type": "code",
   "execution_count": 75,
   "metadata": {},
   "outputs": [
    {
     "data": {
      "application/vnd.jupyter.widget-view+json": {
       "model_id": "",
       "version_major": 2,
       "version_minor": 0
      },
      "text/plain": [
       "FloatProgress(value=0.0, bar_style='info', description='Progress:', layout=Layout(height='25px', width='50%'),…"
      ]
     },
     "metadata": {},
     "output_type": "display_data"
    }
   ],
   "source": [
    "spark.stop()"
   ]
  },
  {
   "cell_type": "code",
   "execution_count": null,
   "metadata": {},
   "outputs": [],
   "source": []
  },
  {
   "cell_type": "code",
   "execution_count": null,
   "metadata": {},
   "outputs": [],
   "source": []
  },
  {
   "cell_type": "code",
   "execution_count": null,
   "metadata": {},
   "outputs": [],
   "source": []
  }
 ],
 "metadata": {
  "kernelspec": {
   "display_name": "PySpark",
   "language": "",
   "name": "pysparkkernel"
  },
  "language_info": {
   "codemirror_mode": {
    "name": "python",
    "version": 3
   },
   "mimetype": "text/x-python",
   "name": "pyspark",
   "pygments_lexer": "python3"
  }
 },
 "nbformat": 4,
 "nbformat_minor": 2
}
