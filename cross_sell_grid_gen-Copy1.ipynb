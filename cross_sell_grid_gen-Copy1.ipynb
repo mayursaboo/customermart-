{
 "cells": [
  {
   "cell_type": "code",
   "execution_count": 1,
   "metadata": {},
   "outputs": [
    {
     "name": "stdout",
     "output_type": "stream",
     "text": [
      "Starting Spark application\n"
     ]
    },
    {
     "data": {
      "text/html": [
       "<table>\n",
       "<tr><th>ID</th><th>YARN Application ID</th><th>Kind</th><th>State</th><th>Spark UI</th><th>Driver log</th><th>Current session?</th></tr><tr><td>16008</td><td>None</td><td>pyspark</td><td>idle</td><td></td><td></td><td>✔</td></tr></table>"
      ],
      "text/plain": [
       "<IPython.core.display.HTML object>"
      ]
     },
     "metadata": {},
     "output_type": "display_data"
    },
    {
     "data": {
      "application/vnd.jupyter.widget-view+json": {
       "model_id": "",
       "version_major": 2,
       "version_minor": 0
      },
      "text/plain": [
       "FloatProgress(value=0.0, bar_style='info', description='Progress:', layout=Layout(height='25px', width='50%'),…"
      ]
     },
     "metadata": {},
     "output_type": "display_data"
    },
    {
     "name": "stdout",
     "output_type": "stream",
     "text": [
      "SparkSession available as 'spark'.\n"
     ]
    },
    {
     "data": {
      "application/vnd.jupyter.widget-view+json": {
       "model_id": "",
       "version_major": 2,
       "version_minor": 0
      },
      "text/plain": [
       "FloatProgress(value=0.0, bar_style='info', description='Progress:', layout=Layout(height='25px', width='50%'),…"
      ]
     },
     "metadata": {},
     "output_type": "display_data"
    }
   ],
   "source": [
    "import sys\n",
    "\n",
    "\n",
    "no_of_cpu = 4\n",
    "max_cores = 8\n",
    "executor_mem = '26g'\n",
    "\n",
    "\n",
    "Job_Name = 'Nandan : adhoc_req'\n",
    "\n",
    "from pyspark.mllib.stat import Statistics\n",
    "from pyspark.sql.functions import asc,lit\n",
    "#warnings.filterwarnings('error')\n",
    "import pyspark\n",
    "from datetime import datetime,timedelta\n",
    "from pyspark.sql import SQLContext\n",
    "from pyspark import SparkContext, SparkConf\n",
    "from pyspark.sql import functions as F\n",
    "\n",
    "\n",
    "conf = pyspark.SparkConf()\n",
    "#import numpy\n",
    "import calendar\n",
    "#import pandas as pd\n",
    "#import simplejson as json\n",
    "#import pandas as pd\n",
    "import numpy as np\n",
    "import datetime\n",
    "from pyspark.sql.functions import *\n",
    "from pyspark.sql.types import DateType\n",
    "from pyspark.sql.functions import lit\n",
    "import simplejson as json\n",
    "import json, pprint, requests\n",
    "#es_nodes = '10.35.12.5'\n",
    "#es_nodes = '10.35.12.6'\n",
    "es_nodes = '10.35.12.194'#,10.35.12.6,10.35.12.5\n",
    "es_nodes_temp='10.35.12.194'\n",
    "es_port = '5432'\n",
    "es_user = ''\n",
    "es_pwd = ''\n",
    "mesos_ip = 'mesos://10.33.195.18:5050'#'mesos://10.35.12.5:5050'\n",
    "\n",
    "spark.stop() #############NEED TO COMMENT THIS SPARK.STOP WHEN RUNNING THROUGH SHELL###############################\n",
    "\n",
    "conf.setMaster(mesos_ip)\n",
    "\n",
    "conf.set('spark.executor.cores',no_of_cpu) ### change 1\n",
    "conf.set('spark.memory.fraction','.2')\n",
    "conf.set('spark.driver.maxResultSize','1g')\n",
    "conf.set('spark.executor.memory',executor_mem) \n",
    "conf.set('spark.es.scroll.size','10000')\n",
    "conf.set('spark.network.timeout','600s')\n",
    "conf.set('spark.sql.crossJoin.enabled', 'true')\n",
    "\n",
    "conf.set('spark.ui.port','4052')\n",
    "\n",
    "conf.set('spark.executor.heartbeatInterval','60s')\n",
    "conf.set(\"spark.driver.cores\",\"4\")\n",
    "## changed from 4g to 2g\n",
    "conf.set(\"spark.driver.extraJavaOptions\",\"-Xmx4g -Xms4g\")\n",
    "\n",
    "#conf.set(\"spark.shuffle.blockTransferService\", \"nio\"); \n",
    "conf.set(\"spark.files.overwrite\",\"true\");\n",
    "conf.set(\"spark.kryoserializer.buffer\", \"70\"); \n",
    "#conf.set(\"spark.driver.extraJavaOptions\", \"-XX:+UseG1GC\");\n",
    "conf.set(\"spark.executor.extraJavaOptions\", \"-XX:+UseG1GC\");\n",
    "conf.set(\"spark.serializer\", \"org.apache.spark.serializer.KryoSerializer\"); \n",
    "conf.set(\"spark.broadcast.compress\", \"true\"); \n",
    "conf.set(\"spark.shuffle.compress\", \"true\"); \n",
    "conf.set(\"spark.shuffle.spill.compress\", \"true\");\n",
    "conf.set(\"spark.app.name\", Job_Name)\n",
    "#conf.set(\"spark.io.compression.codec\",\"org.apache.spark.io.LZ4CompressionCodec\");\n",
    "#uncommented below\n",
    "conf.set(\"spark.sql.inMemoryColumnarStorage.compressed\", \"true\"); \n",
    "from pyspark.sql.functions import broadcast\n",
    "\n",
    "conf.set('spark.driver.memory','20g') ### change 2\n",
    "conf.set('spark.cores.max',max_cores) ### change 3\n",
    "conf.set('spark.sql.shuffle.partitions','200')\n",
    "#conf.set('spark.sql.crossJoin.enabled', 'true')\n",
    "conf.set('es.nodes',es_nodes)\n",
    "conf.set('es.port',es_port)\n",
    "conf.set('es.nodes.wan.only','true')\n",
    "conf.set(\"spark.sql.autoBroadcastJoinThreshold\",-1)\n",
    "\n",
    "#conf.set('spark.es.net.http.auth.user','Spark')\n",
    "#conf.set('spark.es.net.http.auth.pass','Jarkpet1Sap3')\n",
    "conf.set('spark.num.executors','4')\n",
    "conf.set('spark.debug.maxToStringFields', 200)\n",
    "\n",
    "conf.set('spark.es.net.http.auth.user', es_user)\n",
    "conf.set('spark.es.net.http.auth.pass', es_pwd)\n",
    "\n",
    "conf.set('spark.es.mapping.date.rich','false')\n",
    "spark = pyspark.SparkContext(conf=conf)\n",
    "sqlContext = SQLContext(spark)\n",
    "\n",
    "# Load Data into PySpark DataFrames\n",
    "# Prodcom Data Frame\n",
    "import json, pprint, requests\n",
    "import pyspark.sql.functions as sf\n",
    "from pyspark.sql.types import *\n",
    "\n",
    "\n",
    "import numpy as np\n",
    "import datetime\n",
    "from pyspark.sql.functions import *\n",
    "from pyspark.sql.types import DateType\n",
    "\n"
   ]
  },
  {
   "cell_type": "code",
   "execution_count": 2,
   "metadata": {},
   "outputs": [
    {
     "data": {
      "application/vnd.jupyter.widget-view+json": {
       "model_id": "",
       "version_major": 2,
       "version_minor": 0
      },
      "text/plain": [
       "FloatProgress(value=0.0, bar_style='info', description='Progress:', layout=Layout(height='25px', width='50%'),…"
      ]
     },
     "metadata": {},
     "output_type": "display_data"
    },
    {
     "name": "stdout",
     "output_type": "stream",
     "text": [
      "'2023-12-14 14:31:25.031278'"
     ]
    }
   ],
   "source": [
    "from pyspark.sql.functions import hash\n",
    "import numpy as np\n",
    "import datetime\n",
    "from pyspark.sql.functions import *\n",
    "from pyspark.sql.types import DateType\n",
    "import psycopg2\n",
    "import time\n",
    "from time import gmtime, strftime\n",
    "import pytz\n",
    "starttime = time.time()\n",
    "start_time = datetime.datetime.now(pytz.timezone('Asia/Kolkata')).strftime(\"%Y-%m-%d %H:%M:%S.%f\")\n",
    "start_time"
   ]
  },
  {
   "cell_type": "code",
   "execution_count": 3,
   "metadata": {},
   "outputs": [
    {
     "data": {
      "application/vnd.jupyter.widget-view+json": {
       "model_id": "",
       "version_major": 2,
       "version_minor": 0
      },
      "text/plain": [
       "FloatProgress(value=0.0, bar_style='info', description='Progress:', layout=Layout(height='25px', width='50%'),…"
      ]
     },
     "metadata": {},
     "output_type": "display_data"
    }
   ],
   "source": [
    "prod_url = \"jdbc:postgresql://10.35.12.194:5432/gpadmin\"\n",
    "prod_host = '10.35.12.194'\n",
    "prod_port = '5432'\n",
    "prod_dbname = 'gpadmin'\n",
    "user_prod=\"gpspark\"\n",
    "pwd_prod=\"spark@456\"\n",
    "dbschema=\"public\"\n",
    "\n",
    "\n",
    "prod_gpdb_spark_options ={\n",
    "    \"url\": \"jdbc:postgresql://{host}:{port}/{dbname}\".format(host=prod_host,port=prod_port, dbname=prod_dbname),\n",
    "    \"user\": \"{user}\".format(user=user_prod),\n",
    "    \"password\": \"{password}\".format(password=pwd_prod)\n",
    "} "
   ]
  },
  {
   "cell_type": "code",
   "execution_count": 4,
   "metadata": {},
   "outputs": [
    {
     "data": {
      "application/vnd.jupyter.widget-view+json": {
       "model_id": "",
       "version_major": 2,
       "version_minor": 0
      },
      "text/plain": [
       "FloatProgress(value=0.0, bar_style='info', description='Progress:', layout=Layout(height='25px', width='50%'),…"
      ]
     },
     "metadata": {},
     "output_type": "display_data"
    }
   ],
   "source": [
    "# loading table as dataframe\n",
    "def load_gpdb_jdbc(col_str,dbtable,dbschema,col_name=None,time_filter=None,partitionColumn=\"row_num\"):\n",
    "    \"\"\"\n",
    "    This is used to read gpdb with filter for columns and can apply other filter(date,values).\n",
    "    Time filter contains startdate,enddate\n",
    "    \"\"\"\n",
    "    gscPythonOptions = {\n",
    "                        \"url\": prod_url,\n",
    "                        \"user\": user_prod,\n",
    "                        \"password\": pwd_prod,\n",
    "                        \"dbschema\": dbschema,\n",
    "                        \"dbtable\": dbtable,\n",
    "                        \"partitionColumn\":partitionColumn,\n",
    "                        \"partitions\": 8,\n",
    "                        \"server.port\":\"1150-1170\"}\n",
    "   \n",
    "    if time_filter:\n",
    "        data = sqlContext.read.format(\"greenplum\").options(**gscPythonOptions).load()\\\n",
    "                .selectExpr(col_str).drop_duplicates().filter(col(col_name).between(to_timestamp(lit(time_filter['start_date']),\n",
    "                                                                 format='yyyy-MM-dd'),\n",
    "                                                    to_timestamp(lit(time_filter['end_date']),\n",
    "                                                                 format='yyyy-MM-dd')))\n",
    "    else :\n",
    "        data = sqlContext.read.format(\"greenplum\").options(**gscPythonOptions).load()\\\n",
    "                .selectExpr(col_str).drop_duplicates()\n",
    "   \n",
    "    return data"
   ]
  },
  {
   "cell_type": "code",
   "execution_count": 30,
   "metadata": {},
   "outputs": [
    {
     "data": {
      "application/vnd.jupyter.widget-view+json": {
       "model_id": "",
       "version_major": 2,
       "version_minor": 0
      },
      "text/plain": [
       "FloatProgress(value=0.0, bar_style='info', description='Progress:', layout=Layout(height='25px', width='50%'),…"
      ]
     },
     "metadata": {},
     "output_type": "display_data"
    }
   ],
   "source": [
    "\n",
    "f=['CRITICAL ILLNESSPLAN',\n",
    "'EMMA MASTER BOOKING PRODUCT',\n",
    "'BTM MASTER PRODUCT',\n",
    "'WORK SITE MARKETING',\n",
    "'WORK SITE MARKETING - 18',\n",
    "'WORK SITE MARKETING -33',\n",
    "'WORK SITE MARKETING - BBPA',\n",
    "'WELLSURANCE EXECUTIVE - IPA',\n",
    "'WELLSURANCE FAMILY - IPA',\n",
    "'WELLSURANCE WOMAN - IPA',\n",
    "'RASHTRIYA SWASTHYA BIMA YOJANA',\n",
    "'MEDIPRIME',\n",
    "'MEDIPREM - DM',\n",
    "'MEDISENIOR',\n",
    "'MEDIRAKSHA',\n",
    "'HOSPITALCARE',\n",
    "'WELLSURANCE',\n",
    "'WSM',\n",
    "'MEDI-PLUS',\n",
    "'WELLSURANCEEXECUTIVE',\n",
    "'WELLSURANCEWOMAN',\n",
    "'WELLSURANCEFAMILY',\n",
    "'EXECUTIVEGUARD',\n",
    "'WELLSURANCE SENIOR - IPA',\n",
    "'WELLSURANCE EXECUTIVE-IPA MNTH',\n",
    "'WELLSURANCE WOMAN-IPA MNTHLY',\n",
    "'WELLSURANCE FAMILY - MNTHLY',\n",
    "'WELLSURANCE EXE -IPA YRLY',\n",
    "'WELLSURANCE WOMAN-IPA YRLY',\n",
    "'WELLSURANCE FAMILY - YRLY',\n",
    "'WELLSURANCE EXECUTIVE DM',\n",
    "'WELLSURANCE WOMAN - DM',\n",
    "'WELLSURANCE SENIOR - DM',\n",
    "'WELLSURANCE FAMILY - DM',\n",
    "'ACCIDENTSICKNESSHOSPITALCASH',\n",
    "'PREMIER - MEDICARE',\n",
    "'PROTECT - MEDICARE',\n",
    "'MEDICARE',\n",
    "'MEDICAREPLUS',\n",
    "'AROGYASANJEEVANI',\n",
    "'RETAILCOVIDPOLICY',\n",
    "'CRITICARE',\n",
    "'DIRECT MARKETING',\n",
    "'MEDIPLUS',\n",
    "'CRITIMEDICARE',\n",
    "'FOUR WHEELER SHRIRAM',\n",
    "'PRIVATE CAR INSURANCE',\n",
    "'AUTOMOBILE',\n",
    "'AUTO SHIELD',\n",
    "'AUTOSECURE PRIVATE CAR',\n",
    "'MOTOR',\n",
    "'MOTOR INSURANCE',\n",
    "'MOTORROADTRANSITPOLICY',\n",
    "'AUTOSHIELD',\n",
    "'PRIVATECARINSURANCEPOLICY',\n",
    "'MOTORPRIVATECARPOLICYINSURANCE',\n",
    "'SCOOTER/MOTOR CYCLE INSURANCE',\n",
    "'SHRIRAM RSC SCOOTER EDI',\n",
    "'TWO WHEELER SHRIRAM',\n",
    "'AUTOSECURE TWO WHEELER',\n",
    "'MOTORTWOWHEELERPOLICY',\n",
    "'HOSPITAL CARE',\n",
    "'MAHARAKSHA - PERSONAL INJURY',\n",
    "'ACCIDENT GUARD - 5L',\n",
    "'INJURY GUARD',\n",
    "'FAMILYCARE PLAN',\n",
    "'ACCIDENT GUARD - 5L OOC',\n",
    "'SECURED FUTURE PLAN',\n",
    "'ACCIDENT GUARD',\n",
    "'CRITICARE PLAN -OTC',\n",
    "'ACCIDENT SHIELD',\n",
    "'SECUREDFUTUREPLAN',\n",
    "'ACCIDENTGUARD',\n",
    "'INJURYGUARD',\n",
    "'ACCIDENTSHIELD',\n",
    "'INDIVIDUAL PERSONAL ACCIDENT',\n",
    "'FAMILYGUARD',\n",
    "'INCOMEGUARD',\n",
    "'ACCIDENT SHIELD BASE',\n",
    "'HEALTH',\n",
    "'HEALTH,PERSONAL ACCIDENT',\n",
    "'PERSONAL ACCIDENT',\n",
    "'SECUREINCOMELOW',\n",
    "'SECUREINCOMEHIGH',\n",
    "'FAMILYSECURE',\n",
    "'ACCIDENTGUARDPLUS',\n",
    "'IPA',\n",
    "'MAHARAKSHA']\n"
   ]
  },
  {
   "cell_type": "code",
   "execution_count": 32,
   "metadata": {},
   "outputs": [
    {
     "data": {
      "application/vnd.jupyter.widget-view+json": {
       "model_id": "",
       "version_major": 2,
       "version_minor": 0
      },
      "text/plain": [
       "FloatProgress(value=0.0, bar_style='info', description='Progress:', layout=Layout(height='25px', width='50%'),…"
      ]
     },
     "metadata": {},
     "output_type": "display_data"
    },
    {
     "name": "stdout",
     "output_type": "stream",
     "text": [
      "['customer_id', 'product_name', 'minor_line_cd']"
     ]
    }
   ],
   "source": [
    "#.filter(col('product_cd').isin('1601','1602','1603','1604''1606','3184','3122', '3121', '2888', '2896', '288801', '288802', '288803'))\\\n",
    "\n",
    "gscPythonOptions = {\"url\": \"jdbc:postgresql://10.35.12.194:5432/gpadmin\",\n",
    "                    \"user\": \"gpspark\",\n",
    "                    \"password\": \"spark@456\",\n",
    "                    \"dbschema\": \"registers\",\n",
    "                    \"dbtable\": \"premium_register\",\n",
    "                    \"partitionColumn\":\"row_num\",\n",
    "                    \"partitions\": 16,\n",
    "                    \"server.port\": '1150-1170'}\n",
    "\n",
    "premium_reg = sqlContext.read.format(\"greenplum\").options(**gscPythonOptions).load()\\\n",
    "                   .selectExpr(\"customer_id\", \"product_name\", 'minor_line_cd')\\\n",
    "                   .filter(col('product_name').isin(f))\n",
    "premium_reg.columns"
   ]
  },
  {
   "cell_type": "code",
   "execution_count": 33,
   "metadata": {},
   "outputs": [
    {
     "data": {
      "application/vnd.jupyter.widget-view+json": {
       "model_id": "",
       "version_major": 2,
       "version_minor": 0
      },
      "text/plain": [
       "FloatProgress(value=0.0, bar_style='info', description='Progress:', layout=Layout(height='25px', width='50%'),…"
      ]
     },
     "metadata": {},
     "output_type": "display_data"
    },
    {
     "name": "stdout",
     "output_type": "stream",
     "text": [
      "['golden_id', 'source_system_customer_id', 'active_flag']"
     ]
    }
   ],
   "source": [
    "col_str=[\"golden_id\", 'source_system_customer_id', 'active_flag']\n",
    "\n",
    "gscPythonOptions = {\n",
    "\"url\": \"jdbc:postgresql://10.35.12.194:5432/gpadmin\",\n",
    "\"user\": \"gpspark\",\n",
    "\"password\": \"spark@456\",\n",
    "\"dbschema\":\"customermart\",\n",
    "\"dbtable\": \"header\",\n",
    "\"server.port\": \"1151-1160\"}\n",
    "header = sqlContext.read.format(\"greenplum\").options(**gscPythonOptions).load()\\\n",
    "         .selectExpr(col_str).drop_duplicates().filter(col('active_flag').isin('1'))\n",
    "\n",
    "header.columns"
   ]
  },
  {
   "cell_type": "code",
   "execution_count": 34,
   "metadata": {},
   "outputs": [
    {
     "data": {
      "application/vnd.jupyter.widget-view+json": {
       "model_id": "",
       "version_major": 2,
       "version_minor": 0
      },
      "text/plain": [
       "FloatProgress(value=0.0, bar_style='info', description='Progress:', layout=Layout(height='25px', width='50%'),…"
      ]
     },
     "metadata": {},
     "output_type": "display_data"
    }
   ],
   "source": [
    "df=premium_reg.join(header, premium_reg.customer_id==header.source_system_customer_id, 'inner')"
   ]
  },
  {
   "cell_type": "code",
   "execution_count": 35,
   "metadata": {},
   "outputs": [
    {
     "data": {
      "application/vnd.jupyter.widget-view+json": {
       "model_id": "",
       "version_major": 2,
       "version_minor": 0
      },
      "text/plain": [
       "FloatProgress(value=0.0, bar_style='info', description='Progress:', layout=Layout(height='25px', width='50%'),…"
      ]
     },
     "metadata": {},
     "output_type": "display_data"
    },
    {
     "name": "stdout",
     "output_type": "stream",
     "text": [
      "['golden_id', 'ckyc', 'kyc_id', 'kyc_datetime_stamp']"
     ]
    }
   ],
   "source": [
    "col_str=['golden_id','ckyc','kyc_id','kyc_datetime_stamp']\n",
    "gscPythonOptions = {\n",
    "\"url\": \"jdbc:postgresql://10.35.12.194:5432/gpadmin\",\n",
    "\"user\": \"gpspark\",\n",
    "\"password\": \"spark@456\",\n",
    "\"dbtable\": \"customermart.customer_demographics\",\n",
    "\"server.port\": \"1151-1160\"}\n",
    "cd = sqlContext.read.format(\"jdbc\").options(**gscPythonOptions).load()\\\n",
    "         .selectExpr(col_str).drop_duplicates()\n",
    "\n",
    "cd.columns"
   ]
  },
  {
   "cell_type": "code",
   "execution_count": 36,
   "metadata": {},
   "outputs": [
    {
     "data": {
      "application/vnd.jupyter.widget-view+json": {
       "model_id": "",
       "version_major": 2,
       "version_minor": 0
      },
      "text/plain": [
       "FloatProgress(value=0.0, bar_style='info', description='Progress:', layout=Layout(height='25px', width='50%'),…"
      ]
     },
     "metadata": {},
     "output_type": "display_data"
    }
   ],
   "source": [
    "from pyspark.sql.functions import coalesce,col,length,trim"
   ]
  },
  {
   "cell_type": "code",
   "execution_count": 37,
   "metadata": {},
   "outputs": [
    {
     "data": {
      "application/vnd.jupyter.widget-view+json": {
       "model_id": "",
       "version_major": 2,
       "version_minor": 0
      },
      "text/plain": [
       "FloatProgress(value=0.0, bar_style='info', description='Progress:', layout=Layout(height='25px', width='50%'),…"
      ]
     },
     "metadata": {},
     "output_type": "display_data"
    }
   ],
   "source": [
    "cd=cd.select('golden_id',col('ckyc').cast('string'), col('kyc_id').cast('string'), col('kyc_datetime_stamp').cast('string') )"
   ]
  },
  {
   "cell_type": "code",
   "execution_count": 38,
   "metadata": {},
   "outputs": [
    {
     "data": {
      "application/vnd.jupyter.widget-view+json": {
       "model_id": "",
       "version_major": 2,
       "version_minor": 0
      },
      "text/plain": [
       "FloatProgress(value=0.0, bar_style='info', description='Progress:', layout=Layout(height='25px', width='50%'),…"
      ]
     },
     "metadata": {},
     "output_type": "display_data"
    }
   ],
   "source": [
    "df=df.join(cd, df.golden_id==cd.golden_id).drop(cd.golden_id)"
   ]
  },
  {
   "cell_type": "code",
   "execution_count": 39,
   "metadata": {},
   "outputs": [
    {
     "data": {
      "application/vnd.jupyter.widget-view+json": {
       "model_id": "",
       "version_major": 2,
       "version_minor": 0
      },
      "text/plain": [
       "FloatProgress(value=0.0, bar_style='info', description='Progress:', layout=Layout(height='25px', width='50%'),…"
      ]
     },
     "metadata": {},
     "output_type": "display_data"
    }
   ],
   "source": [
    "df=df.withColumn('is_kyc', when(coalesce(col('ckyc'),col('kyc_id'),col('kyc_datetime_stamp')).isNotNull(), lit(1)).otherwise(lit(0)))"
   ]
  },
  {
   "cell_type": "code",
   "execution_count": 40,
   "metadata": {},
   "outputs": [
    {
     "data": {
      "application/vnd.jupyter.widget-view+json": {
       "model_id": "",
       "version_major": 2,
       "version_minor": 0
      },
      "text/plain": [
       "FloatProgress(value=0.0, bar_style='info', description='Progress:', layout=Layout(height='25px', width='50%'),…"
      ]
     },
     "metadata": {},
     "output_type": "display_data"
    },
    {
     "name": "stdout",
     "output_type": "stream",
     "text": [
      "DataFrame[customer_id: string, product_name: string, minor_line_cd: string, golden_id: int, source_system_customer_id: string, active_flag: bigint, ckyc: string, kyc_id: string, kyc_datetime_stamp: string, is_kyc: int]"
     ]
    }
   ],
   "source": [
    "df.persist()"
   ]
  },
  {
   "cell_type": "code",
   "execution_count": 41,
   "metadata": {},
   "outputs": [
    {
     "data": {
      "application/vnd.jupyter.widget-view+json": {
       "model_id": "",
       "version_major": 2,
       "version_minor": 0
      },
      "text/plain": [
       "FloatProgress(value=0.0, bar_style='info', description='Progress:', layout=Layout(height='25px', width='50%'),…"
      ]
     },
     "metadata": {},
     "output_type": "display_data"
    },
    {
     "name": "stdout",
     "output_type": "stream",
     "text": [
      "150036893"
     ]
    }
   ],
   "source": [
    "df.count()"
   ]
  },
  {
   "cell_type": "code",
   "execution_count": 43,
   "metadata": {},
   "outputs": [
    {
     "data": {
      "application/vnd.jupyter.widget-view+json": {
       "model_id": "",
       "version_major": 2,
       "version_minor": 0
      },
      "text/plain": [
       "FloatProgress(value=0.0, bar_style='info', description='Progress:', layout=Layout(height='25px', width='50%'),…"
      ]
     },
     "metadata": {},
     "output_type": "display_data"
    },
    {
     "name": "stdout",
     "output_type": "stream",
     "text": [
      "+------------------------------+------+-------------------------+\n",
      "|product_name                  |is_kyc|count(DISTINCT golden_id)|\n",
      "+------------------------------+------+-------------------------+\n",
      "|WELLSURANCE WOMAN - IPA       |0     |1                        |\n",
      "|PRIVATECARINSURANCEPOLICY     |1     |384699                   |\n",
      "|FAMILYSECURE                  |0     |1                        |\n",
      "|ACCIDENTSICKNESSHOSPITALCASH  |1     |1289                     |\n",
      "|WORK SITE MARKETING - 18      |0     |3                        |\n",
      "|EMMA MASTER BOOKING PRODUCT   |0     |5                        |\n",
      "|ACCIDENTGUARD                 |1     |6102                     |\n",
      "|MEDIPLUS                      |1     |449                      |\n",
      "|AROGYASANJEEVANI              |0     |2211                     |\n",
      "|SECUREDFUTUREPLAN             |0     |63730                    |\n",
      "|ACCIDENT GUARD - 5L           |1     |8                        |\n",
      "|MEDIRAKSHA                    |1     |100                      |\n",
      "|ACCIDENTGUARDPLUS             |0     |51625                    |\n",
      "|WELLSURANCEEXECUTIVE          |0     |2435                     |\n",
      "|ACCIDENTGUARD                 |0     |33911                    |\n",
      "|AROGYASANJEEVANI              |1     |299                      |\n",
      "|WELLSURANCEFAMILY             |1     |255                      |\n",
      "|MEDICARE                      |1     |203197                   |\n",
      "|MEDISENIOR                    |0     |407                      |\n",
      "|ACCIDENTSICKNESSHOSPITALCASH  |0     |9582                     |\n",
      "|PRIVATE CAR INSURANCE         |1     |99                       |\n",
      "|WELLSURANCEFAMILY             |0     |1877                     |\n",
      "|MAHARAKSHA                    |0     |1569                     |\n",
      "|MEDIPLUS                      |0     |1893                     |\n",
      "|WELLSURANCEEXECUTIVE          |1     |554                      |\n",
      "|WELLSURANCEWOMAN              |1     |29                       |\n",
      "|ACCIDENT GUARD                |0     |4                        |\n",
      "|ACCIDENTGUARDPLUS             |1     |51496                    |\n",
      "|RETAILCOVIDPOLICY             |1     |20                       |\n",
      "|PRIVATE CAR INSURANCE         |0     |953                      |\n",
      "|SECUREINCOMELOW               |1     |141                      |\n",
      "|MEDICAREPLUS                  |0     |25620                    |\n",
      "|RETAILCOVIDPOLICY             |0     |669                      |\n",
      "|SECURED FUTURE PLAN           |0     |4                        |\n",
      "|ACCIDENT SHIELD               |0     |1                        |\n",
      "|SECUREDFUTUREPLAN             |1     |2151                     |\n",
      "|MEDIPRIME                     |0     |146970                   |\n",
      "|CRITICARE                     |0     |5221                     |\n",
      "|INCOMEGUARD                   |0     |2401                     |\n",
      "|CRITICARE                     |1     |124                      |\n",
      "|INJURYGUARD                   |1     |12                       |\n",
      "|SECUREINCOMEHIGH              |0     |12                       |\n",
      "|BTM MASTER PRODUCT            |0     |1                        |\n",
      "|HOSPITALCARE                  |1     |28                       |\n",
      "|SCOOTER/MOTOR CYCLE INSURANCE |0     |939                      |\n",
      "|INCOMEGUARD                   |1     |569                      |\n",
      "|CRITIMEDICARE                 |1     |7132                     |\n",
      "|MOTORTWOWHEELERPOLICY         |0     |16049843                 |\n",
      "|ACCIDENTSHIELD                |0     |312937                   |\n",
      "|MEDICAREPLUS                  |1     |35288                    |\n",
      "|WELLSURANCEWOMAN              |0     |213                      |\n",
      "|WELLSURANCE EXECUTIVE - IPA   |0     |3                        |\n",
      "|MOTORPRIVATECARPOLICYINSURANCE|1     |1810841                  |\n",
      "|MOTORTWOWHEELERPOLICY         |1     |2618379                  |\n",
      "|PRIVATECARINSURANCEPOLICY     |0     |2108213                  |\n",
      "|CRITIMEDICARE                 |0     |6704                     |\n",
      "|MEDIRAKSHA                    |0     |3048                     |\n",
      "|SECUREINCOMELOW               |0     |869                      |\n",
      "|MEDISENIOR                    |1     |39                       |\n",
      "|SCOOTER/MOTOR CYCLE INSURANCE |1     |28                       |\n",
      "|ACCIDENT GUARD - 5L           |0     |48                       |\n",
      "|SECUREINCOMEHIGH              |1     |5                        |\n",
      "|MAHARAKSHA                    |1     |291                      |\n",
      "|MOTORPRIVATECARPOLICYINSURANCE|0     |2383412                  |\n",
      "|WORK SITE MARKETING -33       |0     |11                       |\n",
      "|MEDICARE                      |0     |437920                   |\n",
      "|HOSPITALCARE                  |0     |56                       |\n",
      "|SECURED FUTURE PLAN           |1     |2                        |\n",
      "|WORK SITE MARKETING - BBPA    |0     |15                       |\n",
      "|MEDIPRIME                     |1     |16577                    |\n",
      "|INJURYGUARD                   |0     |60                       |\n",
      "|ACCIDENTSHIELD                |1     |25550                    |\n",
      "+------------------------------+------+-------------------------+"
     ]
    }
   ],
   "source": [
    "df.groupby(col('product_name'), col('is_kyc')).agg(countDistinct('golden_id')) \\\n",
    "    .show(100000, False)"
   ]
  },
  {
   "cell_type": "code",
   "execution_count": 44,
   "metadata": {},
   "outputs": [
    {
     "data": {
      "application/vnd.jupyter.widget-view+json": {
       "model_id": "",
       "version_major": 2,
       "version_minor": 0
      },
      "text/plain": [
       "FloatProgress(value=0.0, bar_style='info', description='Progress:', layout=Layout(height='25px', width='50%'),…"
      ]
     },
     "metadata": {},
     "output_type": "display_data"
    },
    {
     "name": "stdout",
     "output_type": "stream",
     "text": [
      "+------------------------------+------+-----------------------------------------+\n",
      "|product_name                  |is_kyc|count(DISTINCT source_system_customer_id)|\n",
      "+------------------------------+------+-----------------------------------------+\n",
      "|WELLSURANCE WOMAN - IPA       |0     |1                                        |\n",
      "|PRIVATECARINSURANCEPOLICY     |1     |414282                                   |\n",
      "|FAMILYSECURE                  |0     |1                                        |\n",
      "|ACCIDENTSICKNESSHOSPITALCASH  |1     |1505                                     |\n",
      "|WORK SITE MARKETING - 18      |0     |3                                        |\n",
      "|EMMA MASTER BOOKING PRODUCT   |0     |5                                        |\n",
      "|ACCIDENTGUARD                 |1     |5891                                     |\n",
      "|MEDIPLUS                      |1     |423                                      |\n",
      "|AROGYASANJEEVANI              |0     |2254                                     |\n",
      "|SECUREDFUTUREPLAN             |0     |66861                                    |\n",
      "|ACCIDENT GUARD - 5L           |1     |8                                        |\n",
      "|MEDIRAKSHA                    |1     |97                                       |\n",
      "|ACCIDENTGUARDPLUS             |0     |53868                                    |\n",
      "|WELLSURANCEEXECUTIVE          |0     |2511                                     |\n",
      "|ACCIDENTGUARD                 |0     |34101                                    |\n",
      "|WELLSURANCEFAMILY             |1     |248                                      |\n",
      "|AROGYASANJEEVANI              |1     |298                                      |\n",
      "|MEDICARE                      |1     |206176                                   |\n",
      "|MEDISENIOR                    |0     |396                                      |\n",
      "|ACCIDENTSICKNESSHOSPITALCASH  |0     |11252                                    |\n",
      "|PRIVATE CAR INSURANCE         |1     |95                                       |\n",
      "|WELLSURANCEFAMILY             |0     |1833                                     |\n",
      "|MAHARAKSHA                    |0     |1667                                     |\n",
      "|MEDIPLUS                      |0     |1937                                     |\n",
      "|WELLSURANCEEXECUTIVE          |1     |539                                      |\n",
      "|WELLSURANCEWOMAN              |1     |28                                       |\n",
      "|ACCIDENT GUARD                |0     |4                                        |\n",
      "|ACCIDENTGUARDPLUS             |1     |57688                                    |\n",
      "|RETAILCOVIDPOLICY             |1     |22                                       |\n",
      "|PRIVATE CAR INSURANCE         |0     |937                                      |\n",
      "|SECUREINCOMELOW               |1     |133                                      |\n",
      "|MEDICAREPLUS                  |0     |25532                                    |\n",
      "|RETAILCOVIDPOLICY             |0     |717                                      |\n",
      "|SECURED FUTURE PLAN           |0     |4                                        |\n",
      "|ACCIDENT SHIELD               |0     |1                                        |\n",
      "|SECUREDFUTUREPLAN             |1     |2196                                     |\n",
      "|MEDIPRIME                     |0     |147995                                   |\n",
      "|CRITICARE                     |0     |5230                                     |\n",
      "|INCOMEGUARD                   |0     |2686                                     |\n",
      "|CRITICARE                     |1     |130                                      |\n",
      "|INJURYGUARD                   |1     |10                                       |\n",
      "|SECUREINCOMEHIGH              |0     |12                                       |\n",
      "|BTM MASTER PRODUCT            |0     |1                                        |\n",
      "|HOSPITALCARE                  |1     |26                                       |\n",
      "|SCOOTER/MOTOR CYCLE INSURANCE |0     |935                                      |\n",
      "|INCOMEGUARD                   |1     |597                                      |\n",
      "|CRITIMEDICARE                 |1     |7467                                     |\n",
      "|MOTORTWOWHEELERPOLICY         |0     |17068254                                 |\n",
      "|ACCIDENTSHIELD                |0     |324412                                   |\n",
      "|MEDICAREPLUS                  |1     |35308                                    |\n",
      "|WELLSURANCEWOMAN              |0     |211                                      |\n",
      "|WELLSURANCE EXECUTIVE - IPA   |0     |3                                        |\n",
      "|MOTORPRIVATECARPOLICYINSURANCE|1     |2025311                                  |\n",
      "|MOTORTWOWHEELERPOLICY         |1     |3165908                                  |\n",
      "|PRIVATECARINSURANCEPOLICY     |0     |2189809                                  |\n",
      "|CRITIMEDICARE                 |0     |6788                                     |\n",
      "|MEDIRAKSHA                    |0     |3073                                     |\n",
      "|SECUREINCOMELOW               |0     |883                                      |\n",
      "|MEDISENIOR                    |1     |35                                       |\n",
      "|SCOOTER/MOTOR CYCLE INSURANCE |1     |28                                       |\n",
      "|ACCIDENT GUARD - 5L           |0     |47                                       |\n",
      "|SECUREINCOMEHIGH              |1     |5                                        |\n",
      "|MAHARAKSHA                    |1     |298                                      |\n",
      "|MOTORPRIVATECARPOLICYINSURANCE|0     |2553158                                  |\n",
      "|WORK SITE MARKETING -33       |0     |11                                       |\n",
      "|MEDICARE                      |0     |447506                                   |\n",
      "|HOSPITALCARE                  |0     |55                                       |\n",
      "|SECURED FUTURE PLAN           |1     |2                                        |\n",
      "|WORK SITE MARKETING - BBPA    |0     |15                                       |\n",
      "|MEDIPRIME                     |1     |15858                                    |\n",
      "|INJURYGUARD                   |0     |58                                       |\n",
      "|ACCIDENTSHIELD                |1     |27912                                    |\n",
      "+------------------------------+------+-----------------------------------------+"
     ]
    }
   ],
   "source": [
    "df.groupby(col('product_name'), col('is_kyc')).agg(countDistinct('source_system_customer_id')) \\\n",
    "   .show(100000, False)"
   ]
  },
  {
   "cell_type": "code",
   "execution_count": null,
   "metadata": {},
   "outputs": [],
   "source": []
  },
  {
   "cell_type": "code",
   "execution_count": null,
   "metadata": {},
   "outputs": [],
   "source": []
  },
  {
   "cell_type": "code",
   "execution_count": null,
   "metadata": {},
   "outputs": [],
   "source": []
  },
  {
   "cell_type": "code",
   "execution_count": null,
   "metadata": {},
   "outputs": [],
   "source": []
  },
  {
   "cell_type": "code",
   "execution_count": null,
   "metadata": {},
   "outputs": [],
   "source": []
  },
  {
   "cell_type": "code",
   "execution_count": null,
   "metadata": {},
   "outputs": [],
   "source": [
    "output_index = \"cs_pro_p_26523\"   ## change name\n",
    "schema = \"customermart\"\n",
    "\n",
    "\n",
    "import sys\n",
    "try:\n",
    "\n",
    "    cs_pro_p1.write.format(\"greenplum\")\\\n",
    "    .option(\"dbtable\",output_index).option('dbschema',schema)\\\n",
    "    .option(\"server.port\",\"1150-1170\").option(\"url\",prod_url)\\\n",
    "    .option(\"user\", user_prod).option(\"password\",pwd_prod).mode('overwrite').save()\n",
    "\n",
    "\n",
    "except Exception as e:\n",
    "    x = e\n",
    "    print(x)\n",
    "else:\n",
    "    x = 200 #success\n",
    "    print(x)"
   ]
  },
  {
   "cell_type": "code",
   "execution_count": 46,
   "metadata": {},
   "outputs": [
    {
     "data": {
      "application/vnd.jupyter.widget-view+json": {
       "model_id": "",
       "version_major": 2,
       "version_minor": 0
      },
      "text/plain": [
       "FloatProgress(value=0.0, bar_style='info', description='Progress:', layout=Layout(height='25px', width='50%'),…"
      ]
     },
     "metadata": {},
     "output_type": "display_data"
    }
   ],
   "source": [
    "spark.stop()"
   ]
  },
  {
   "cell_type": "code",
   "execution_count": null,
   "metadata": {},
   "outputs": [],
   "source": []
  }
 ],
 "metadata": {
  "kernelspec": {
   "display_name": "PySpark",
   "language": "",
   "name": "pysparkkernel"
  },
  "language_info": {
   "codemirror_mode": {
    "name": "python",
    "version": 3
   },
   "mimetype": "text/x-python",
   "name": "pyspark",
   "pygments_lexer": "python3"
  }
 },
 "nbformat": 4,
 "nbformat_minor": 4
}
