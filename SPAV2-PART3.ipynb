{
 "cells": [
  {
   "cell_type": "code",
   "execution_count": null,
   "metadata": {},
   "outputs": [],
   "source": [
    "import sys\n",
    "\n",
    "\n",
    "no_of_cpu =8\n",
    "max_cores =16\n",
    "executor_mem = '56g'\n",
    "\n",
    "\n",
    "Job_Name = 'Nishant: Cover_details'\n",
    "\n",
    "\n",
    "from pyspark.mllib.stat import Statistics\n",
    "from pyspark.sql.functions import asc,lit\n",
    "#warnings.filterwarnings('error')\n",
    "import pyspark\n",
    "from datetime import datetime,timedelta\n",
    "from pyspark.sql import SQLContext\n",
    "from pyspark import SparkContext, SparkConf\n",
    "from pyspark.sql import functions as F\n",
    "\n",
    "conf = pyspark.SparkConf()\n",
    "#import numpy\n",
    "import calendar\n",
    "#import pandas as pd\n",
    "#import simplejson as json\n",
    "#import pandas as pd\n",
    "import numpy as np\n",
    "import datetime\n",
    "from pyspark.sql.functions import *\n",
    "from pyspark.sql.types import DateType\n",
    "from pyspark.sql.functions import lit\n",
    "import simplejson as json\n",
    "import json, pprint, requests\n",
    "#es_nodes = '10.35.12.5'\n",
    "#es_nodes = '10.35.12.6'\n",
    "es_nodes = '10.35.12.194'#,10.35.12.6,10.35.12.5\n",
    "es_nodes_temp='10.35.12.194'\n",
    "es_port = '5432'\n",
    "es_user = 'elastic'\n",
    "es_pwd = 'bEiilauM3es'\n",
    "mesos_ip = 'mesos://10.33.195.18:5050'#'mesos://10.35.12.5:5050'\n",
    "\n",
    "spark.stop() #############NEED TO COMMENT THIS SPARK.STOP WHEN RUNNING THROUGH SHELL###############################\n",
    "\n",
    "conf.setMaster(mesos_ip)\n",
    "\n",
    "conf.set('spark.executor.cores',no_of_cpu) ### change 1\n",
    "#conf.set('spark.memory.fraction','.2')\n",
    "conf.set('spark.executor.memory',executor_mem) \n",
    "conf.set('spark.es.scroll.size','10000')\n",
    "conf.set('spark.network.timeout','600s')\n",
    "conf.set('spark.sql.crossJoin.enabled', 'true')\n",
    "\n",
    "conf.set('spark.ui.port','4052')\n",
    "\n",
    "conf.set('spark.executor.heartbeatInterval','60s')\n",
    "conf.set(\"spark.driver.cores\",\"4\")\n",
    "conf.set(\"spark.driver.extraJavaOptions\",\"-Xmx4g -Xms4g\")\n",
    "\n",
    "#conf.set(\"spark.shuffle.blockTransferService\", \"nio\"); \n",
    "conf.set(\"spark.files.overwrite\",\"true\");\n",
    "conf.set(\"spark.kryoserializer.buffer\", \"70\"); \n",
    "conf.set(\"spark.driver.extraJavaOptions\", \"-XX:+UseG1GC\");\n",
    "conf.set(\"spark.executor.extraJavaOptions\", \"-XX:+UseG1GC\");\n",
    "conf.set(\"spark.serializer\", \"org.apache.spark.serializer.KryoSerializer\"); \n",
    "conf.set(\"spark.broadcast.compress\", \"true\"); \n",
    "conf.set(\"spark.shuffle.compress\", \"true\"); \n",
    "conf.set(\"spark.shuffle.spill.compress\", \"true\");\n",
    "conf.set(\"spark.app.name\", Job_Name)\n",
    "#conf.set(\"spark.io.compression.codec\",\"org.apache.spark.io.LZ4CompressionCodec\");\n",
    "#conf.set(\"spark.sql.inMemoryColumnarStorage.compressed\", \"true\"); \n",
    "from pyspark.sql.functions import broadcast\n",
    "\n",
    "conf.set('spark.driver.memory','20g') ### change 2\n",
    "conf.set('spark.cores.max',max_cores) ### change 3\n",
    "conf.set('spark.sql.shuffle.partitions','400')\n",
    "#conf.set('spark.sql.crossJoin.enabled', 'true')\n",
    "conf.set('es.nodes',es_nodes)\n",
    "conf.set('es.port',es_port)\n",
    "conf.set('es.nodes.wan.only','true')\n",
    "conf.set(\"spark.sql.autoBroadcastJoinThreshold\",-1)\n",
    "\n",
    "#conf.set('spark.es.net.http.auth.user','Spark')\n",
    "#conf.set('spark.es.net.http.auth.pass','Jarkpet1Sap3')\n",
    "conf.set('spark.num.executors','4')\n",
    "conf.set('spark.debug.maxToStringFields', 200)\n",
    "\n",
    "conf.set('spark.es.net.http.auth.user', es_user)\n",
    "conf.set('spark.es.net.http.auth.pass', es_pwd)\n",
    "\n",
    "conf.set('spark.es.mapping.date.rich','false')\n",
    "spark = pyspark.SparkContext(conf=conf)\n",
    "sqlContext = SQLContext(spark)\n",
    "\n",
    "# Load Data into PySpark DataFrames\n",
    "# Prodcom Data Frame\n",
    "import json, pprint, requests\n",
    "import pyspark.sql.functions as sf\n",
    "from pyspark.sql.types import *\n",
    "\n",
    "\n",
    "import numpy as np\n",
    "import datetime\n",
    "from pyspark.sql.functions import *\n",
    "from pyspark.sql.types import DateType\n",
    "\n"
   ]
  },
  {
   "cell_type": "code",
   "execution_count": null,
   "metadata": {},
   "outputs": [],
   "source": [
    "from pyspark.sql.functions import hash,col,regexp_replace,collect_list,concat_ws,initcap,count,least\n",
    "import numpy as np\n",
    "import datetime\n",
    "from pyspark.sql.functions import *\n",
    "from pyspark.sql.types import DateType\n",
    "import psycopg2\n",
    "import time\n",
    "from time import gmtime, strftime\n",
    "import pytz\n",
    "starttime = time.time()\n",
    "start_time = datetime.datetime.now(pytz.timezone('Asia/Kolkata')).strftime(\"%Y-%m-%d %H:%M:%S.%f\")\n",
    "start_time"
   ]
  },
  {
   "cell_type": "code",
   "execution_count": null,
   "metadata": {},
   "outputs": [],
   "source": [
    "prod_url = \"jdbc:postgresql://10.35.12.194:5432/gpadmin\"\n",
    "prod_host = '10.35.12.194'\n",
    "prod_port = '5432'\n",
    "prod_dbname = 'gpadmin'\n",
    "user_prod=\"gpcustcoe\"\n",
    "pwd_prod=\"gpcustcoe@123\"\n",
    "dbschema=\"public\"\n",
    "\n",
    "\n",
    "prod_gpdb_spark_options ={\n",
    "    \"url\": \"jdbc:postgresql://{host}:{port}/{dbname}\".format(host=prod_host,port=prod_port, dbname=prod_dbname),\n",
    "    \"user\": \"{user}\".format(user=user_prod),\n",
    "    \"password\": \"{password}\".format(password=pwd_prod)\n",
    "} "
   ]
  },
  {
   "cell_type": "code",
   "execution_count": null,
   "metadata": {},
   "outputs": [],
   "source": [
    "def get_latest_progress(table_name,column_name):\n",
    "    \n",
    "    try: \n",
    "        gscPythonOptions = {\n",
    "                 \"url\":prod_url ,\n",
    "                 \"user\":user_prod ,\n",
    "                 \"password\": pwd_prod,\n",
    "                 \"dbschema\":\"customermart\",\n",
    "                 \"dbtable\": table_name,#table change\n",
    "                 \"server.port\":\"1150-1170\"} \n",
    "        \n",
    "        # this query will fetch till what date we have inserted the records in target\n",
    "        last_run= sqlContext.read.format(\"greenplum\").options(**gscPythonOptions).load()\\\n",
    "            .select(column_name)\n",
    "        \n",
    "        Max_last_run =last_run.select(max(column_name)).first()[0]\n",
    "\n",
    "\n",
    "        # if no record is available in progress then it will raise value error, in this case default value will be picked from except clause\n",
    "        if Max_last_run is None:\n",
    "            raise ValueError(\"No records found!\")\n",
    "\n",
    "        #print(\"Record Found. Progress updated till {}\".format(Max_last_run))\n",
    "\n",
    "    except Exception as E: \n",
    "        Max_last_run = datetime.datetime(2018, 10, 31, 0, 0)  # this is the default start date when no record is present in progress for customer_demographics table\n",
    "        print(\"Executed_except\",repr(E))\n",
    "    return Max_last_run"
   ]
  },
  {
   "cell_type": "code",
   "execution_count": null,
   "metadata": {},
   "outputs": [],
   "source": [
    "# loading table as dataframe\n",
    "def load_gpdb_jdbc(col_str,dbtable,dbschema,col_name=None,time_filter=None,partitionColumn=\"row_num\"):\n",
    "    \"\"\"\n",
    "    This is used to read gpdb with filter for columns and can apply other filter(date,values).\n",
    "    Time filter contains startdate,enddate\n",
    "    \"\"\"\n",
    "    gscPythonOptions = {\n",
    "                        \"url\": prod_url,\n",
    "                        \"user\": user_prod,\n",
    "                        \"password\": pwd_prod,\n",
    "                        \"dbschema\": dbschema,\n",
    "                        \"dbtable\": dbtable,\n",
    "                        \"partitionColumn\":partitionColumn,\n",
    "                        \"partitions\": 8,\n",
    "                        \"server.port\":\"1150-1170\"}\n",
    "   \n",
    "    if time_filter:\n",
    "        data = sqlContext.read.format(\"greenplum\").options(**gscPythonOptions).load()\\\n",
    "                .selectExpr(col_str).drop_duplicates().filter(col(col_name).between(to_timestamp(lit(time_filter['start_date']),\n",
    "                                                                 format='yyyy-MM-dd'),\n",
    "                                                    to_timestamp(lit(time_filter['end_date']),\n",
    "                                                                 format='yyyy-MM-dd')))\n",
    "    else :\n",
    "        data = sqlContext.read.format(\"greenplum\").options(**gscPythonOptions).load()\\\n",
    "                .selectExpr(col_str).drop_duplicates()\n",
    "   \n",
    "    return data"
   ]
  },
  {
   "cell_type": "code",
   "execution_count": null,
   "metadata": {},
   "outputs": [],
   "source": [
    "gscPythonOptions = {\n",
    "         \"url\": \"jdbc:postgresql://10.35.12.194:5432/gpadmin\",\"user\": \"gpcustcoe\",\"password\": \"gpcustcoe@123\",\n",
    "    \"dbschema\":\"customermart\",\n",
    "    \"dbtable\": \"header\",\n",
    "         \"server.port\":\"1150-1170\"}\n",
    "\n",
    "\n",
    "header_df = sqlContext.read.format(\"greenplum\").options(**gscPythonOptions).load()\\\n",
    ".select('golden_id','source_system_customer_id','active_flag','mapping_date').filter((col('active_flag')=='1')).filter((col('source_system_customer_id').isNotNull()))"
   ]
  },
  {
   "cell_type": "code",
   "execution_count": null,
   "metadata": {},
   "outputs": [],
   "source": [
    "from pyspark.sql.window import Window\n",
    "\n",
    "header_df = header_df.withColumn(\"rn\", F.row_number()\n",
    "        .over(Window.partitionBy('source_system_customer_id')\n",
    "        .orderBy(F.col(\"mapping_date\").desc(),F.col(\"golden_id\").desc())))\n",
    "\n",
    "header_df = header_df.filter(F.col(\"rn\") == 1).drop(\"rn\")\n",
    "\n",
    "header_df=header_df.select('source_system_customer_id','golden_id','mapping_date')"
   ]
  },
  {
   "cell_type": "code",
   "execution_count": null,
   "metadata": {},
   "outputs": [],
   "source": [
    "col_str=['golden_id','full_name','first_name','last_name','birth_date','gender','marital_status','weight_kg','tobacco_use_indicator','alcohol_use_indicator','height_cm']\n",
    "gscPythonOptions = {\n",
    "\"url\": \"jdbc:postgresql://10.35.12.194:5432/gpadmin\",\n",
    "\"user\": \"gpspark\", \"server.port\":\"1150-1170\",\n",
    "\"password\": \"spark@456\",\"dbschema\":\"customermart\",\n",
    "\"dbtable\": \"customer_demographics\"}\n",
    "demog_df = sqlContext.read.format(\"greenplum\").options(**gscPythonOptions).load()\\\n",
    "         .selectExpr(col_str)\n",
    "\n",
    "demog_df=demog_df.withColumn('customer_name',coalesce(col('full_name'),concat(col('first_name'),lit(' '),col('last_name'))))\n"
   ]
  },
  {
   "cell_type": "code",
   "execution_count": null,
   "metadata": {},
   "outputs": [],
   "source": [
    "col_str=['golden_id','service_level']\n",
    "gscPythonOptions = {\n",
    "\"url\": \"jdbc:postgresql://10.35.12.194:5432/gpadmin\",\n",
    "\"user\": \"gpspark\", \"server.port\":\"1150-1170\",\n",
    "\"password\": \"spark@456\",\"dbschema\":\"customermart\",\n",
    "\"dbtable\": \"customer_profile\"}\n",
    "profile_df = sqlContext.read.format(\"greenplum\").options(**gscPythonOptions).load()\\\n",
    "         .selectExpr(col_str)\n"
   ]
  },
  {
   "cell_type": "code",
   "execution_count": null,
   "metadata": {},
   "outputs": [],
   "source": [
    "gscPythonOptions = {\n",
    "         \"url\": \"jdbc:postgresql://10.35.12.194:5432/gpadmin\",\"user\": \"gpcustcoe\",\"password\": \"gpcustcoe@123\"\n",
    "     ,\"dbschema\":\"customermart\"\n",
    "    ,\"dbtable\": \"address\",\n",
    "         \"server.port\":\"1150-1170\"}\n",
    "\n",
    "\n",
    "address_retail_df = sqlContext.read.format(\"greenplum\").options(**gscPythonOptions).load()\\\n",
    ".select('source_system_customer_id','address_type','city','last_updated')\\\n",
    ".filter((col('address_type')=='home'))"
   ]
  },
  {
   "cell_type": "code",
   "execution_count": null,
   "metadata": {},
   "outputs": [],
   "source": [
    "from pyspark.sql.window import Window\n",
    "\n",
    "address_retail_df = address_retail_df.withColumn(\"rn\", F.row_number()\n",
    "        .over(Window.partitionBy('source_system_customer_id','address_type')\n",
    "        .orderBy(F.col(\"last_updated\").desc())))\n",
    "\n",
    "address_retail_df = address_retail_df.filter(F.col(\"rn\") == 1).select('source_system_customer_id','city')"
   ]
  },
  {
   "cell_type": "code",
   "execution_count": null,
   "metadata": {},
   "outputs": [],
   "source": [
    "report_date_str='2023-09-01'"
   ]
  },
  {
   "cell_type": "code",
   "execution_count": null,
   "metadata": {},
   "outputs": [],
   "source": [
    "col_str=[\"policy_number\",'certificate_no', 'product_name', 'product_cd', 'reference_num',\n",
    "         'pol_incept_date as policy_start_date', 'pol_exp_date as policy_end_date','source_system_name',\n",
    "        'source_system_customer_id', 'lob', 'sum_insured', \"uw_discount\", 'premiumamount as premium',\n",
    "        'veh_make', 'veh_model', 'veh_no as vehicle_registration_no', 'ncb_percent','producer_cd',\n",
    "        'plan_type as plan_name','status','record_type_desc','commit_timestamp as binddate','veh_engine_no','veh_chassis_no',\n",
    "         'times_renewed_cnt','min_pol_incept_date','no_of_lives']\n",
    "gscPythonOptions = {\n",
    "\"url\": \"jdbc:postgresql://10.35.12.194:5432/gpadmin\",\n",
    "\"user\": \"gpcustcoe\",\n",
    "\"password\": \"gpcustcoe@123\",\"dbschema\":\"customermart\",\"server.port\":\"1150-1170\",\n",
    "\"dbtable\": \"policy_retail\"}\n",
    "policy = sqlContext.read.format(\"greenplum\").options(**gscPythonOptions).load()\\\n",
    "         .selectExpr(col_str)\n",
    "policy.columns"
   ]
  },
  {
   "cell_type": "code",
   "execution_count": null,
   "metadata": {},
   "outputs": [],
   "source": [
    "col_str=['txt_parent_intermediary_cd as parent_producer_cd','txt_intermediary_cd as producer_cd']\n",
    "\n",
    "gscPythonOptions = {\n",
    "\"url\": \"jdbc:postgresql://10.35.12.194:5432/gpadmin\",\n",
    "\"user\": \"gpcustcoe\",\n",
    "\"password\": \"gpcustcoe@123\",\"dbschema\":\"public\",\"server.port\":\"1150-1170\",\n",
    "\"dbtable\": \"reference_gc_genmst_intermediary\"}\n",
    "producer_df = sqlContext.read.format(\"greenplum\").options(**gscPythonOptions).load()\\\n",
    "         .selectExpr(col_str)\n",
    "producer_df.columns"
   ]
  },
  {
   "cell_type": "code",
   "execution_count": null,
   "metadata": {},
   "outputs": [],
   "source": [
    "lst_cancelled=['ACDC',\n",
    "'ACDE',\n",
    "'APC',\n",
    "'APCP',\n",
    "'APD',\n",
    "'APRI',\n",
    "'APU',\n",
    "'DCC',\n",
    "'ECDU',\n",
    "'ECN',\n",
    "'ECR',\n",
    "'EPCE',\n",
    "'ERFC',\n",
    "'NCN',\n",
    "'RCN']"
   ]
  },
  {
   "cell_type": "code",
   "execution_count": null,
   "metadata": {},
   "outputs": [],
   "source": [
    "policy=policy.withColumn('record_type_desc', when((col('status').isin(lst_cancelled)),lit('CANCELLATION'))\\\n",
    "                           .otherwise(col('record_type_desc')))"
   ]
  },
  {
   "cell_type": "code",
   "execution_count": null,
   "metadata": {},
   "outputs": [],
   "source": [
    "#Krishnan Badrinath\n",
    "policy=policy.withColumn('assets',when(col('lob').isin('2W'),'2 Wheeler')\\\n",
    "                                        .when(col('lob').isin('Pvt Car'),'Car')\\\n",
    "                                        .when(col('lob').isin('Home'),'Home').otherwise(lit('-')))"
   ]
  },
  {
   "cell_type": "code",
   "execution_count": null,
   "metadata": {},
   "outputs": [],
   "source": [
    "w = Window.partitionBy(['policy_number','certificate_no','policy_start_date', 'policy_end_date']).orderBy([F.col('binddate').desc(),F.col('reference_num').desc()])\n",
    "policy_df = policy.withColumn('row',F.row_number().over(w))\n",
    "policy_df = policy_df.filter(F.col('row')==1).drop(policy_df.row)\n"
   ]
  },
  {
   "cell_type": "code",
   "execution_count": null,
   "metadata": {},
   "outputs": [],
   "source": [
    "policy_df=policy_df.withColumn('certificate_no',when(col('certificate_no').isin('0','0.0','/00000','000000','00000000'),lit('00000000')).otherwise(lit(col('certificate_no'))))\\\n",
    ".withColumn('policy_number',lpad(col('policy_number'),10,'0'))"
   ]
  },
  {
   "cell_type": "code",
   "execution_count": null,
   "metadata": {},
   "outputs": [],
   "source": [
    "col_str=[\"risk1 as relation\",\"reference_num\",'insured_name as name','insured_dob as dob']\n",
    "pdrdh_df=load_gpdb_jdbc(col_str,\"policy_dh_risk_details_hlt\",'public')"
   ]
  },
  {
   "cell_type": "code",
   "execution_count": null,
   "metadata": {},
   "outputs": [],
   "source": [
    "col_str=['source','scoredate', 'score','income','dc_unified_id as golden_id']\n",
    "gscPythonOptions = {\n",
    "\"url\": \"jdbc:postgresql://10.35.12.194:5432/gpadmin\",\n",
    "\"user\": \"gpcustcoe\", \"server.port\":\"1150-1170\",\n",
    "\"password\": \"gpcustcoe@123\",\"dbschema\":\"datamarts\",\n",
    "\"dbtable\": \"credit_bureau_data\"}\n",
    "credit_df = sqlContext.read.format(\"greenplum\").options(**gscPythonOptions).load()\\\n",
    "         .selectExpr(col_str)\n",
    "credit_df.columns"
   ]
  },
  {
   "cell_type": "code",
   "execution_count": null,
   "metadata": {},
   "outputs": [],
   "source": [
    "col_str=[\"policy_no\", \"renewal_prop_final_buckets\",\"segment\",\"month\"]\n",
    "gscPythonOptions = {\n",
    "\"url\": \"jdbc:postgresql://10.35.12.194:5432/gpadmin\",\n",
    "\"user\": \"gpcustcoe\",\n",
    "\"password\": \"gpcustcoe@123\",\n",
    "\"server.port\": \"1151-1170\",\n",
    "\"dbschema\":\"customermart\",\n",
    "\"dbtable\": \"propensity_score_jan_23_jan_24\"}\n",
    "ps = sqlContext.read.format(\"greenplum\").options(**gscPythonOptions).load()\\\n",
    "         .selectExpr(col_str)\n",
    "ps.columns"
   ]
  },
  {
   "cell_type": "code",
   "execution_count": null,
   "metadata": {},
   "outputs": [],
   "source": [
    "ps=ps.withColumn('month',to_date(col('month'),'MMM-yy'))\n",
    "\n",
    "from pyspark.sql.window import Window\n",
    "\n",
    "ps = ps.withColumn(\"rn\", F.row_number()\n",
    "        .over(Window.partitionBy('policy_no')\n",
    "        .orderBy(F.col(\"month\").desc())))\n",
    "\n",
    "ps = ps.filter(F.col(\"rn\") == 1).drop(\"rn\")\n",
    "\n",
    "ps=ps.withColumn('renewal_propensity',concat(col('segment'),lit(\"(\"),col(\"renewal_prop_final_buckets\"),lit(\")\")))\n",
    "\n",
    "ps=ps.select('policy_no','renewal_propensity','month')\n",
    "\n",
    "propensity_df=ps.withColumn('policy_no',lpad(trim(col('policy_no')),10,'0'))"
   ]
  },
  {
   "cell_type": "code",
   "execution_count": null,
   "metadata": {
    "scrolled": true
   },
   "outputs": [],
   "source": [
    "propensity_df=propensity_df.selectExpr('policy_no as policy_number', 'renewal_propensity')"
   ]
  },
  {
   "cell_type": "code",
   "execution_count": null,
   "metadata": {},
   "outputs": [],
   "source": [
    "col_str=[\"dc_unified_id as golden_id\",\"'Eligible for cross sell to Health' as is_eligible\"]\n",
    "gscPythonOptions = {\n",
    "\"url\": \"jdbc:postgresql://10.35.12.194:5432/gpadmin\",\n",
    "\"user\": \"gpcustcoe\",\n",
    "\"password\": \"gpcustcoe@123\",\n",
    " \"server.port\":\"1150-1170\",\n",
    "\"dbschema\":\"customermart\",\n",
    "\"dbtable\": \"cross_sell_eligible_cust\"}\n",
    "cross_sell_df = sqlContext.read.format(\"greenplum\").options(**gscPythonOptions).load()\\\n",
    "         .selectExpr(col_str)\n",
    "cross_sell_df.columns"
   ]
  },
  {
   "cell_type": "code",
   "execution_count": null,
   "metadata": {},
   "outputs": [],
   "source": [
    "gscPythonOptions = {\n",
    "         \"url\": \"jdbc:postgresql://10.35.12.194:5432/gpadmin\",\"user\": \"gpcustcoe\",\"password\": \"gpcustcoe@123\",\n",
    "    \"dbschema\":\"customermart\"\n",
    "    ,\"dbtable\": \"contactability\",\n",
    "         \"server.port\":\"1150-1170\"}\n",
    "\n",
    "contactibilty_retail_df = sqlContext.read.format(\"greenplum\").options(**gscPythonOptions).load()\\\n",
    ".selectExpr('source_system_customer_id','communication_sub_type','value','last_updated','source_system_name','verification_flag').filter((col('source_system_customer_id').isNotNull()))\\\n",
    ".filter(col('value').isNotNull()).filter(col('source_system_name')!='CREDIT_BUREAU')"
   ]
  },
  {
   "cell_type": "code",
   "execution_count": null,
   "metadata": {},
   "outputs": [],
   "source": [
    "contactibilty_retail_df=contactibilty_retail_df.withColumn(\"rnk\",when(col(\"source_system_name\")=='GC',1)\\\n",
    ".otherwise(2))"
   ]
  },
  {
   "cell_type": "code",
   "execution_count": null,
   "metadata": {},
   "outputs": [],
   "source": [
    "contactibilty_retail_df=contactibilty_retail_df.withColumn('mobile',when(col('communication_sub_type')=='mobile',col('value')).otherwise(None))\n",
    "contactibilty_retail_df=contactibilty_retail_df.withColumn('email',when(col('communication_sub_type')=='email',col('value')).otherwise(None))\n",
    "\n",
    "contactibilty_retail_df = contactibilty_retail_df.withColumn('email',when((lower(trim(col(\"email\"))).rlike(\"^[a-zA-Z0-9._%+-]+@[a-zA-Z0-9.-]+\\.[a-zA-Z]{2,}(\\.[a-zA-Z]{2,})?$\") == False)\\\n",
    "                                                        & (lower(trim(col(\"communication_sub_type\")))=='email'),lit(None)).otherwise(col('email')))\n",
    "\n",
    "\n",
    "\n",
    "contactibilty_retail_df=contactibilty_retail_df.select('source_system_customer_id','mobile','email','rnk','last_updated','verification_flag')"
   ]
  },
  {
   "cell_type": "code",
   "execution_count": null,
   "metadata": {},
   "outputs": [],
   "source": [
    "contactibilty_retail_df.columns"
   ]
  },
  {
   "cell_type": "code",
   "execution_count": null,
   "metadata": {},
   "outputs": [],
   "source": [
    "contactibilty_retail_df=contactibilty_retail_df.join(header_df,'source_system_customer_id','inner')"
   ]
  },
  {
   "cell_type": "code",
   "execution_count": null,
   "metadata": {
    "scrolled": true
   },
   "outputs": [],
   "source": [
    "contactibilty_retail_df_email=contactibilty_retail_df.filter((col('email').isNotNull())).dropDuplicates(subset=[\"email\",\"golden_id\"])\n",
    "contactibilty_retail_df_mob=contactibilty_retail_df.filter((col('mobile').isNotNull())).drop_duplicates(subset=[\"mobile\",\"golden_id\"])"
   ]
  },
  {
   "cell_type": "code",
   "execution_count": null,
   "metadata": {},
   "outputs": [],
   "source": [
    "contactibilty_retail_df_email=contactibilty_retail_df_email.withColumn('email',lower(col('email')))"
   ]
  },
  {
   "cell_type": "code",
   "execution_count": null,
   "metadata": {},
   "outputs": [],
   "source": [
    "# from pyspark.sql.window import Window\n",
    "\n",
    "# contactibilty_retail_df_email = contactibilty_retail_df_email.withColumn(\"rn\", F.row_number()\n",
    "#         .over(Window.partitionBy('golden_id','email')\n",
    "#         .orderBy(F.col(\"rnk\").asc(),F.col(\"last_updated\").desc(),F.col(\"email\").desc_nulls_last())))\n",
    "\n",
    "# contactibilty_retail_df_email = contactibilty_retail_df_email.filter(F.col(\"rn\")<=2)\n",
    "\n",
    "from pyspark.sql.window import Window\n",
    "\n",
    "contactibilty_retail_df_email = contactibilty_retail_df_email.withColumn(\"rn\", F.dense_rank()\n",
    "        .over(Window.partitionBy('golden_id')\n",
    "        .orderBy(F.col(\"rnk\").asc(),F.col(\"last_updated\").desc(),F.col(\"email\").desc_nulls_last())))\n",
    "\n",
    "contactibilty_retail_df_email = contactibilty_retail_df_email.filter(F.col(\"rn\")<=2)"
   ]
  },
  {
   "cell_type": "code",
   "execution_count": null,
   "metadata": {},
   "outputs": [],
   "source": [
    "# from pyspark.sql.window import Window\n",
    "\n",
    "# contactibilty_retail_df_mob = contactibilty_retail_df_mob.withColumn(\"rn_mob\", F.row_number()\n",
    "#         .over(Window.partitionBy('golden_id','mobile')\n",
    "#         .orderBy(F.col(\"rnk\").asc(),F.col(\"last_updated\").desc(),F.col(\"mobile\").desc_nulls_last())))\n",
    "\n",
    "# contactibilty_retail_df_mob = contactibilty_retail_df_mob.filter(F.col(\"rn_mob\")<=2)\n",
    "\n",
    "from pyspark.sql.window import Window\n",
    "\n",
    "contactibilty_retail_df_mob = contactibilty_retail_df_mob.withColumn(\"rn_mob\", F.dense_rank()\n",
    "        .over(Window.partitionBy('golden_id')\n",
    "        .orderBy(F.col(\"rnk\").asc(),F.col(\"last_updated\").desc(),F.col(\"mobile\").desc_nulls_last())))\n",
    "\n",
    "contactibilty_retail_df_mob = contactibilty_retail_df_mob.filter(F.col(\"rn_mob\")<=2)"
   ]
  },
  {
   "cell_type": "code",
   "execution_count": null,
   "metadata": {},
   "outputs": [],
   "source": [
    "contactibilty_retail_df_email=contactibilty_retail_df_email.select('golden_id','email','rn','verification_flag').filter((col('email').isNotNull())).drop_duplicates()\n",
    "contactibilty_retail_df_mob=contactibilty_retail_df_mob.selectExpr('golden_id','mobile','rn_mob','verification_flag as verification_flag_mob').filter((col('mobile').isNotNull())).drop_duplicates()"
   ]
  },
  {
   "cell_type": "code",
   "execution_count": null,
   "metadata": {},
   "outputs": [],
   "source": [
    "contactibilty_retail_df=contactibilty_retail_df_mob.join(contactibilty_retail_df_email,'golden_id','full_outer').drop_duplicates()"
   ]
  },
  {
   "cell_type": "code",
   "execution_count": null,
   "metadata": {},
   "outputs": [],
   "source": [
    "contactibilty_retail_df.columns"
   ]
  },
  {
   "cell_type": "code",
   "execution_count": null,
   "metadata": {},
   "outputs": [],
   "source": [
    "contactibilty_retail_df=contactibilty_retail_df.repartition('golden_id')"
   ]
  },
  {
   "cell_type": "code",
   "execution_count": null,
   "metadata": {},
   "outputs": [],
   "source": [
    "col_str=['claim_no','claim_feature_concat','insured_name','claim_status','paid_amt_ind as claim_net',\n",
    "         'paid_date_ind as claim_closed_date'\n",
    "         ,'clm_create_date as claim_date','loss_reported_date as claim_reported_date',\n",
    "'policy_no as policy_number','certificate_no',\"pol_incept_date as policy_start_date\",\n",
    "         \"pol_exp_date as policy_end_date\",\n",
    "         'claimant_name','loss_desc_txt as loss_description','customer_id as source_system_customer_id',\n",
    "'coverage_desc as coverage_type','proposal_no as num_reference_no']\n",
    "\n",
    "gscPythonOptions = {\n",
    "\"url\": \"jdbc:postgresql://10.35.12.194:5432/gpadmin\",\n",
    "\"user\": \"gpcustcoe\",\n",
    "\"password\": \"gpcustcoe@123\",\n",
    "\"dbschema\":\"datamarts\",\n",
    "\"dbtable\": \"producer_policy_product_wise_base_data\",\n",
    "\"server.port\": \"1151-1171\"}\n",
    "crgp_df = sqlContext.read.format(\"greenplum\").options(**gscPythonOptions).load().selectExpr(col_str)\n",
    "\n",
    "#df_crp=df_crp.groupby('num_reference_no').agg(countDistinct(col('claim_no')).alias('claim_cnt'),sum(col('claim_gross').cast('double')).alias('claim_gross'))\n",
    "\n",
    "crgp_df.columns"
   ]
  },
  {
   "cell_type": "code",
   "execution_count": null,
   "metadata": {},
   "outputs": [],
   "source": [
    "crgp_df=crgp_df.withColumn('certificate_no',when(col('certificate_no').isin('0','0.0','/00000','000000','00000000'),lit('00000000')).otherwise(lit(col('certificate_no'))))\\\n",
    ".withColumn('policy_number',lpad(col('policy_number'),10,'0'))\n",
    "\n",
    "crgp_df=crgp_df.withColumn('policy_start_date',to_date(col('policy_start_date'),'dd-MM-yyyy'))\\\n",
    ".withColumn('policy_end_date',to_date(col('policy_end_date'),'dd-MM-yyyy'))"
   ]
  },
  {
   "cell_type": "code",
   "execution_count": null,
   "metadata": {},
   "outputs": [],
   "source": [
    "crgp_df=crgp_df.withColumn('policy_start_date',to_date(col('policy_start_date'),'dd-MM-yyyy'))\\\n",
    ".withColumn('policy_end_date',to_date(col('policy_end_date'),'dd-MM-yyyy'))\\\n",
    ".withColumn('claim_date',to_date(col('claim_date'),'dd-MM-yyyy'))\n"
   ]
  },
  {
   "cell_type": "code",
   "execution_count": null,
   "metadata": {},
   "outputs": [],
   "source": [
    "col_str=[\"nameofpreexistingdisease as ped\",\"num_reference_number as reference_num\"]\n",
    "gscPythonOptions = {\n",
    "\"url\": \"jdbc:postgresql://10.35.12.194:5432/gpadmin\",\n",
    "\"user\": \"gpcustcoe\",\n",
    "\"password\": \"gpcustcoe@123\",\n",
    "\"server.port\": \"1151-1170\",\n",
    "\"dbschema\":\"public\",\n",
    "\"dbtable\": \"underwriting_dh_cnfgtr_otherdt_grid_tab_hlt\"}\n",
    "pd_df = sqlContext.read.format(\"greenplum\").options(**gscPythonOptions).load()\\\n",
    "         .selectExpr(col_str)\n",
    "pd_df.columns"
   ]
  },
  {
   "cell_type": "code",
   "execution_count": null,
   "metadata": {},
   "outputs": [],
   "source": [
    "col_str=['feedback_title','feedback_date as date','score','golden_id']\n",
    "# \"current_year\"\n",
    "gscPythonOptions = {\n",
    "\"url\": \"jdbc:postgresql://10.35.12.194:5432/gpadmin\",\n",
    "\"user\": \"gpcustcoe\",\n",
    "\"password\": \"gpcustcoe@123\",\n",
    "\"server.port\": \"1151-1170\",\n",
    "\"dbschema\":\"customermart\",\n",
    "\"dbtable\": \"feedback_spa_v2\"}\n",
    "feedback_df = sqlContext.read.format(\"greenplum\").options(**gscPythonOptions).load()\\\n",
    "         .selectExpr(col_str)\n",
    "feedback_df.columns"
   ]
  },
  {
   "cell_type": "markdown",
   "metadata": {},
   "source": [
    "## Active"
   ]
  },
  {
   "cell_type": "code",
   "execution_count": null,
   "metadata": {},
   "outputs": [],
   "source": [
    "pdf=policy_df.select('source_system_customer_id','policy_end_date','record_type_desc','policy_number','certificate_no')\n",
    "\n",
    "is_policy=header_df.join(pdf,'source_system_customer_id','inner')"
   ]
  },
  {
   "cell_type": "code",
   "execution_count": null,
   "metadata": {},
   "outputs": [],
   "source": [
    "header_df=is_policy.select('golden_id','source_system_customer_id','mapping_date')"
   ]
  },
  {
   "cell_type": "code",
   "execution_count": null,
   "metadata": {},
   "outputs": [],
   "source": [
    "is_policy.columns"
   ]
  },
  {
   "cell_type": "code",
   "execution_count": null,
   "metadata": {},
   "outputs": [],
   "source": [
    "is_active_df=is_policy.withColumn('cust_status', when((col('policy_end_date') >=current_date()) &(col('record_type_desc')!='CANCELLATION') , lit(1)).otherwise(lit(0)))\\"
   ]
  },
  {
   "cell_type": "code",
   "execution_count": null,
   "metadata": {},
   "outputs": [],
   "source": [
    "is_cust_active=is_active_df.groupBy('golden_id').agg(max('cust_status').alias(\"is_active\"))\n"
   ]
  },
  {
   "cell_type": "code",
   "execution_count": null,
   "metadata": {},
   "outputs": [],
   "source": [
    "is_cust_active=is_cust_active.withColumn('is_active',when(is_cust_active['is_active']==1,True).otherwise(False))"
   ]
  },
  {
   "cell_type": "markdown",
   "metadata": {},
   "source": [
    "# policyDetails"
   ]
  },
  {
   "cell_type": "code",
   "execution_count": null,
   "metadata": {},
   "outputs": [],
   "source": [
    "policy_details=header_df.join(policy_df,'source_system_customer_id',\"inner\").drop_duplicates()"
   ]
  },
  {
   "cell_type": "code",
   "execution_count": null,
   "metadata": {},
   "outputs": [],
   "source": [
    "policy_details=policy_details.join(producer_df,'producer_cd',\"left\").drop_duplicates()"
   ]
  },
  {
   "cell_type": "code",
   "execution_count": null,
   "metadata": {},
   "outputs": [],
   "source": [
    "from pyspark.sql.window import Window\n",
    "\n",
    "w = Window.partitionBy(['golden_id','policy_number','certificate_no','policy_start_date', 'policy_end_date']).orderBy([F.col('binddate').desc(),F.col('reference_num').desc()])\n",
    "policy_details = policy_details.withColumn('row',F.row_number().over(w))\n",
    "policy_details = policy_details.filter(F.col('row')==1).drop(policy_details.row).drop_duplicates()"
   ]
  },
  {
   "cell_type": "code",
   "execution_count": null,
   "metadata": {},
   "outputs": [],
   "source": [
    "crgp_df=crgp_df.drop_duplicates()"
   ]
  },
  {
   "cell_type": "code",
   "execution_count": null,
   "metadata": {},
   "outputs": [],
   "source": [
    "from pyspark.sql.functions import sum,avg,max\n",
    "group_cols = [\"policy_number\", \"certificate_no\",'policy_start_date', 'policy_end_date']\n",
    "df_p=crgp_df.groupBy(group_cols).agg(countDistinct(\"claim_no\").alias(\"claim_count\"),sum(\"claim_net\").alias(\"total_claim_amount\"))"
   ]
  },
  {
   "cell_type": "code",
   "execution_count": null,
   "metadata": {},
   "outputs": [],
   "source": [
    "policy_details=policy_details.join(df_p,group_cols,'left')"
   ]
  },
  {
   "cell_type": "code",
   "execution_count": null,
   "metadata": {},
   "outputs": [],
   "source": [
    "group_cols = [\"policy_number\", \"certificate_no\",'policy_start_date', 'policy_end_date']"
   ]
  },
  {
   "cell_type": "code",
   "execution_count": null,
   "metadata": {},
   "outputs": [],
   "source": [
    "policy_details=policy_details.join(crgp_df,group_cols,\"left_outer\").drop(crgp_df.num_reference_no)\\\n",
    ".drop(crgp_df.policy_number).drop(crgp_df.certificate_no).drop(crgp_df.source_system_customer_id).drop(crgp_df.policy_start_date)\\\n",
    ".drop(crgp_df.policy_end_date)"
   ]
  },
  {
   "cell_type": "code",
   "execution_count": null,
   "metadata": {},
   "outputs": [],
   "source": [
    "policy_details_main=policy_details\\\n",
    ".withColumn('claim_count',when(col('claim_count').isNull(),lit('0')).otherwise(col('claim_count')))\\\n",
    ".withColumn('total_claim_amount',when(col('total_claim_amount').isNull(),lit('0.0')).otherwise(col('total_claim_amount')))\\\n",
    ".withColumn('uw_discount',when(col('uw_discount').isNull(),lit('0.0')).otherwise(col('uw_discount')))\\\n",
    ".withColumn('claim_no',when(col('claim_no').isNull(),lit('-')).otherwise(col('claim_no')))\\\n",
    ".withColumn('loss_description',when(col('loss_description').isNull(),lit('-')).otherwise(col('loss_description')))\\\n",
    ".withColumn('coverage_type',when(col('coverage_type').isNull(),lit('-')).otherwise(col('coverage_type')))\\\n",
    ".withColumn('claim_net',when(col('claim_net').isNull(),lit(None)).otherwise(col('claim_net')))\\\n",
    ".withColumn('total_claim_amount',when(col('total_claim_amount').isNull(),lit('0.0')).otherwise(col('total_claim_amount')))\\\n",
    ".withColumn('claim_closed_date',when(col('claim_closed_date').isNull(),lit(None)).otherwise(col('claim_closed_date')))\\\n"
   ]
  },
  {
   "cell_type": "code",
   "execution_count": null,
   "metadata": {},
   "outputs": [],
   "source": [
    "policy_details_main=policy_details_main.drop_duplicates()"
   ]
  },
  {
   "cell_type": "code",
   "execution_count": null,
   "metadata": {},
   "outputs": [],
   "source": [
    "policy_details_main=policy_details_main.withColumn('current_year', when(year(col('policy_start_date'))==year(current_date()), lit(True)).otherwise(lit(False)))\\\n",
    ".withColumn('status', when(col('policy_end_date') >=current_date(), lit('Active'))\\\n",
    "            .when(months_between(current_date(),col('policy_end_date'))<=3,lit('DueForRenewal')).otherwise(lit('Inactive')))\\\n",
    ".withColumn('status_enum', when(col('policy_end_date') >=current_date(), lit(1))\\\n",
    "            .when(col(\"status\")=='DueForRenewal',lit(2)).otherwise(lit(0)))"
   ]
  },
  {
   "cell_type": "code",
   "execution_count": null,
   "metadata": {},
   "outputs": [],
   "source": [
    "policy_details_main=policy_details_main.withColumn('status', when((col('record_type_desc').isin('CANCELLATION')),lit('Inactive'))\\\n",
    "                           .otherwise(col('status')))\\\n",
    ".withColumn('status_enum', when((col('record_type_desc').isin('CANCELLATION')),lit(0))\\\n",
    "                           .otherwise(col('status_enum')))"
   ]
  },
  {
   "cell_type": "code",
   "execution_count": null,
   "metadata": {},
   "outputs": [],
   "source": [
    "policy_details_main=policy_details_main.withColumn('primary_key', concat_ws('',trim(col('golden_id')),trim(col('policy_number')), trim(col('certificate_no')),trim(col('claim_feature_concat')),trim(col('policy_start_date')), trim(col('policy_end_date'))))"
   ]
  },
  {
   "cell_type": "code",
   "execution_count": null,
   "metadata": {},
   "outputs": [],
   "source": [
    "from pyspark.sql.window import Window\n",
    "\n",
    "w = Window.partitionBy('primary_key').orderBy([F.col('binddate').desc(),F.col('reference_num').desc()])\n",
    "policy_details_main = policy_details_main.withColumn('row',F.row_number().over(w))\n",
    "policy_details_main = policy_details_main.filter(F.col('row')==1).drop(policy_details_main.row).drop_duplicates()"
   ]
  },
  {
   "cell_type": "markdown",
   "metadata": {},
   "source": [
    "# policyDetailsSummary"
   ]
  },
  {
   "cell_type": "code",
   "execution_count": null,
   "metadata": {},
   "outputs": [],
   "source": [
    "policy_summary=policy_details_main.selectExpr('golden_id',\"policy_number as policy_no\",\"producer_cd as producer_code\",'null as parent_producer_code',\"certificate_no\",\"lob\",\"status\",\"status_enum\",\"product_name\",\"product_cd as product_code\",\"policy_start_date\",\n",
    "\"policy_end_date\",'sum_insured',\"uw_discount as discount\",\"premium\",\"claim_count\",\"total_claim_amount\",'binddate','reference_num')"
   ]
  },
  {
   "cell_type": "code",
   "execution_count": null,
   "metadata": {},
   "outputs": [],
   "source": [
    "policy_summary=policy_summary.withColumn('discount',when(col('discount').isNull(),lit('0.0')).otherwise(col('discount')))\\\n",
    ".withColumn('claim_count',when(col('claim_count').isNull(),lit('0')).otherwise(col('claim_count')))\\\n",
    ".withColumn('total_claim_amount',when(col('total_claim_amount').isNull(),lit('0.0')).otherwise(col('total_claim_amount')))"
   ]
  },
  {
   "cell_type": "code",
   "execution_count": null,
   "metadata": {},
   "outputs": [],
   "source": [
    "policy_summary=policy_summary.withColumn('policy_start_date',date_format(to_utc_timestamp(col('policy_start_date'),\"UTC\"),'yyyy-MM-dd'))\\\n",
    ".withColumn('policy_end_date',date_format(to_utc_timestamp(col('policy_end_date'),\"UTC\"),'yyyy-MM-dd'))"
   ]
  },
  {
   "cell_type": "code",
   "execution_count": null,
   "metadata": {},
   "outputs": [],
   "source": [
    "policy_summary=policy_summary.drop_duplicates()"
   ]
  },
  {
   "cell_type": "code",
   "execution_count": null,
   "metadata": {},
   "outputs": [],
   "source": [
    "from pyspark.sql.window import Window\n",
    "\n",
    "w = Window.partitionBy(['golden_id','policy_no','certificate_no']).orderBy([F.col('binddate').desc(),F.col('reference_num').desc()])\n",
    "policy_summary = policy_summary.withColumn('row',F.row_number().over(w))\n",
    "policy_summary = policy_summary.filter(F.col('row')==1).drop(policy_summary.row).drop_duplicates()"
   ]
  },
  {
   "cell_type": "code",
   "execution_count": null,
   "metadata": {},
   "outputs": [],
   "source": [
    "policy_summary=policy_summary.withColumn('primary_key', concat_ws('',trim(col('golden_id')),trim(col('policy_no')), trim(col('certificate_no'))))"
   ]
  },
  {
   "cell_type": "code",
   "execution_count": null,
   "metadata": {},
   "outputs": [],
   "source": [
    "from pyspark.sql.window import Window\n",
    "\n",
    "w = Window.partitionBy('primary_key').orderBy([F.col('binddate').desc(),F.col('reference_num').desc()])\n",
    "policy_summary = policy_summary.withColumn('row',F.row_number().over(w))\n",
    "policy_summary = policy_summary.filter(F.col('row')==1).drop(policy_summary.row).drop_duplicates()"
   ]
  },
  {
   "cell_type": "code",
   "execution_count": null,
   "metadata": {},
   "outputs": [],
   "source": [
    "policy_summary=policy_summary.selectExpr('golden_id',\"policy_no\",\"producer_code\",'parent_producer_code',\"certificate_no\",\"lob\",\"status\",\"status_enum\",\"product_name\",\"product_code\",\"policy_start_date\",\n",
    "\"policy_end_date\",\"sum_insured\",\"discount\",\"premium\",\"claim_count\",\"total_claim_amount\",'binddate','primary_key')"
   ]
  },
  {
   "cell_type": "markdown",
   "metadata": {},
   "source": [
    "# Lifetime_Details"
   ]
  },
  {
   "cell_type": "code",
   "execution_count": null,
   "metadata": {},
   "outputs": [],
   "source": [
    "lifetime_df=policy_df.filter(col('record_type_desc')!='CANCELLATION')\n",
    "lifetime_df=lifetime_df.join(header_df,'source_system_customer_id','inner')"
   ]
  },
  {
   "cell_type": "code",
   "execution_count": null,
   "metadata": {},
   "outputs": [],
   "source": [
    "premium_temp=lifetime_df.select('golden_id','source_system_customer_id','premium').drop_duplicates()"
   ]
  },
  {
   "cell_type": "code",
   "execution_count": null,
   "metadata": {},
   "outputs": [],
   "source": [
    "premium_temp=premium_temp.groupBy('golden_id').agg(sum('premium').alias(\"premium_received\"))"
   ]
  },
  {
   "cell_type": "code",
   "execution_count": null,
   "metadata": {},
   "outputs": [],
   "source": [
    "times_renewed=lifetime_df.groupBy('golden_id','policy_number','certificate_no').agg(max('times_renewed_cnt').alias(\"times_renewed\")).drop_duplicates()\n",
    "tenure_df=lifetime_df.groupBy('golden_id').agg(max('policy_end_date').alias('maxi_policy_end_date'),min(col('min_pol_incept_date')).alias('min_pol_incept_date')).drop_duplicates()"
   ]
  },
  {
   "cell_type": "code",
   "execution_count": null,
   "metadata": {},
   "outputs": [],
   "source": [
    "tenure_df=tenure_df.withColumn('max_policy_end_date',least(col('maxi_policy_end_date'),current_date()))\n",
    "tenure_df=tenure_df.groupBy('golden_id').agg(datediff(max('max_policy_end_date'),min('min_pol_incept_date')).alias(\"tenure\"))"
   ]
  },
  {
   "cell_type": "code",
   "execution_count": null,
   "metadata": {
    "scrolled": false
   },
   "outputs": [],
   "source": [
    "# tenure_df=tenure_df.groupBy('golden_id').agg(datediff(max('max_policy_end_date'),min('min_pol_incept_date')).alias(\"tenure\"))"
   ]
  },
  {
   "cell_type": "code",
   "execution_count": null,
   "metadata": {
    "scrolled": true
   },
   "outputs": [],
   "source": [
    "life_deatils=policy_details_main.select('golden_id','status','reference_num','claim_count','claim_no','total_claim_amount','policy_number', 'certificate_no','policy_end_date')\\\n",
    ".join(lifetime_df.select('reference_num'),'reference_num','inner')"
   ]
  },
  {
   "cell_type": "code",
   "execution_count": null,
   "metadata": {},
   "outputs": [],
   "source": [
    "life_deatils=life_deatils.select('golden_id', 'status', 'claim_no', 'total_claim_amount', 'policy_number', 'certificate_no', 'policy_end_date').drop_duplicates()"
   ]
  },
  {
   "cell_type": "code",
   "execution_count": null,
   "metadata": {
    "scrolled": true
   },
   "outputs": [],
   "source": [
    "times_renewed1=times_renewed.groupBy('golden_id').agg(sum('times_renewed').alias(\"renewal_count\"))"
   ]
  },
  {
   "cell_type": "code",
   "execution_count": null,
   "metadata": {},
   "outputs": [],
   "source": [
    "# grp=['policy_number', 'certificate_no']\n",
    "life_deatils=life_deatils.join(times_renewed1,'golden_id','left').drop_duplicates()"
   ]
  },
  {
   "cell_type": "code",
   "execution_count": null,
   "metadata": {},
   "outputs": [],
   "source": [
    "life_deatils=life_deatils.join(tenure_df,'golden_id','left').drop_duplicates()"
   ]
  },
  {
   "cell_type": "code",
   "execution_count": null,
   "metadata": {},
   "outputs": [],
   "source": [
    "active_pol_df=policy_summary.selectExpr('golden_id','status','policy_no as policy_number','certificate_no')\n",
    "\n",
    "cols=['golden_id','status']\n",
    "res_status_cnt=active_pol_df.groupBy(cols).agg(countDistinct(when(life_deatils['status']=='Active',concat_ws(\"|\",col('policy_number'),col('certificate_no')))).alias('active_policies_t'),\n",
    "                                         countDistinct(when(life_deatils['status']=='Inactive',concat_ws(\"|\",col('policy_number'),col('certificate_no')))).alias('inactive_policies_t'))\n"
   ]
  },
  {
   "cell_type": "code",
   "execution_count": null,
   "metadata": {},
   "outputs": [],
   "source": [
    "res_status_cnt=res_status_cnt.drop_duplicates()"
   ]
  },
  {
   "cell_type": "code",
   "execution_count": null,
   "metadata": {},
   "outputs": [],
   "source": [
    "life_time_deatils=life_deatils.join(res_status_cnt,'golden_id','left').drop_duplicates()"
   ]
  },
  {
   "cell_type": "code",
   "execution_count": null,
   "metadata": {},
   "outputs": [],
   "source": [
    "life_time_deatils=life_time_deatils.withColumn('claim_no',when(col('claim_no')=='-',lit(None)).otherwise(col('claim_no')))"
   ]
  },
  {
   "cell_type": "code",
   "execution_count": null,
   "metadata": {},
   "outputs": [],
   "source": [
    "life_time_deatil1=life_time_deatils.groupBy('golden_id').agg(countDistinct('claim_no').alias(\"claim_paid_count\"),\n",
    "                                                       sum('total_claim_amount').alias(\"claim_paid\"),\n",
    "                                                       max('active_policies_t').alias(\"active_policies\"),\n",
    "                                                       max('inactive_policies_t').alias(\"inactive_policies\"))"
   ]
  },
  {
   "cell_type": "code",
   "execution_count": null,
   "metadata": {},
   "outputs": [],
   "source": [
    "life_time_deatil1"
   ]
  },
  {
   "cell_type": "code",
   "execution_count": null,
   "metadata": {},
   "outputs": [],
   "source": [
    "life_time_deatils=life_time_deatils.join(life_time_deatil1,'golden_id','left').drop_duplicates()\n"
   ]
  },
  {
   "cell_type": "code",
   "execution_count": null,
   "metadata": {},
   "outputs": [],
   "source": [
    "life_time_deatils.columns"
   ]
  },
  {
   "cell_type": "code",
   "execution_count": null,
   "metadata": {},
   "outputs": [],
   "source": [
    "life_time_deatils=life_time_deatils.join(premium_temp,'golden_id','inner')#right"
   ]
  },
  {
   "cell_type": "code",
   "execution_count": null,
   "metadata": {},
   "outputs": [],
   "source": [
    "life_time_deatils=life_time_deatils.withColumn('life_time_value',lit('-'))"
   ]
  },
  {
   "cell_type": "code",
   "execution_count": null,
   "metadata": {},
   "outputs": [],
   "source": [
    "life_time_deatils=life_time_deatils.selectExpr('golden_id',\"tenure\",\"active_policies as activePolicies\",\"inactive_policies as inactivePolicies\",\"renewal_count as renewalCount\",\"life_time_value as lifetimeValue\",\"premium_received as premiumReceived\",\"claim_paid as claimPaid\",\"claim_paid_count as claimPaidCount\")"
   ]
  },
  {
   "cell_type": "code",
   "execution_count": null,
   "metadata": {},
   "outputs": [],
   "source": [
    "life_time_deatils=life_time_deatils.select('golden_id', col('tenure').cast('String'), 'activePolicies', 'inactivePolicies', 'renewalCount', 'lifetimeValue', 'premiumReceived', 'claimPaid', 'claimPaidCount')"
   ]
  },
  {
   "cell_type": "code",
   "execution_count": null,
   "metadata": {},
   "outputs": [],
   "source": [
    "life_time_deatils=life_time_deatils.withColumn('tenure',round((col('tenure')/365),2)).withColumn('premiumReceived',round(col('premiumReceived'),2))\\\n",
    ".withColumn('claimPaid',round(col('claimPaid'),2))"
   ]
  },
  {
   "cell_type": "code",
   "execution_count": null,
   "metadata": {
    "scrolled": false
   },
   "outputs": [],
   "source": [
    "life_time_deatils=life_time_deatils.drop_duplicates()\n",
    "life_time_deatils.persist()\n",
    "life_time_deatils.count()"
   ]
  },
  {
   "cell_type": "code",
   "execution_count": null,
   "metadata": {},
   "outputs": [],
   "source": [
    "output_index = 'life_time_deatils_v2'#cpa_all_prod_fy20,cpa_all_prod_fy21\n",
    "schema = 'customermart'\n",
    "\n",
    "import sys\n",
    "try:\n",
    "    \n",
    "     life_time_deatils.write.option(\"truncate\", \"true\").format(\"greenplum\")\\\n",
    "    .option(\"dbtable\",output_index).option('dbschema',schema)\\\n",
    "    .option(\"server.port\",\"1150-1170\").option(\"url\",prod_url)\\\n",
    "    .option(\"user\", user_prod).option(\"password\",pwd_prod).mode('overwrite').save()\n",
    "    \n",
    "    \n",
    "except Exception as e:\n",
    "    x = e\n",
    "    print(x)\n",
    "else:\n",
    "    x = 'success'\n",
    "    print(x)"
   ]
  },
  {
   "cell_type": "code",
   "execution_count": null,
   "metadata": {},
   "outputs": [],
   "source": [
    "target_index='get_spa_cust_life_time_details'\n",
    "print(target_index)"
   ]
  },
  {
   "cell_type": "code",
   "execution_count": null,
   "metadata": {},
   "outputs": [],
   "source": [
    "import json, pprint,requests\n",
    "es_nodes = '10.35.12.212'\n",
    "es_port = '9200'\n",
    "es_user = 'elastic'\n",
    "es_pwd = 'bEiilauM3es'\n",
    "\n",
    "######target_index = 'actuarial_premium_risk_tables'----previous name...delete later\n",
    "\n",
    "#alias_name = 'nepuepr_uat_3'\n",
    "target_doc_type = 'get_spa_cust_life_time_details'\n",
    "#########delete index if already exists########################################################################################################################################################################"
   ]
  },
  {
   "cell_type": "code",
   "execution_count": null,
   "metadata": {},
   "outputs": [],
   "source": [
    "target_index_doc_type = target_index +'/'+ target_doc_type"
   ]
  },
  {
   "cell_type": "code",
   "execution_count": null,
   "metadata": {},
   "outputs": [],
   "source": [
    "######### create mapping##################################################################################################################################################################################################################################################################\n",
    "mapping_output = {target_doc_type:{\"properties\": {\n",
    "\"golden_id\": {\n",
    "\"type\": \"keyword\"\n",
    "},\n",
    "\"tenure\": {\n",
    "\"type\": \"keyword\",\"index\":\"false\"\n",
    "},\n",
    "\"activePolicies\": {\n",
    "\"type\": \"keyword\",\"index\":\"false\"\n",
    "},\n",
    "\"inactivePolicies\": {\n",
    "\"type\":\"keyword\",\"index\":\"false\"\n",
    "},\n",
    "\"renewalCount\": {\n",
    "\"type\": \"keyword\",\"index\":\"false\"\n",
    "},\n",
    "\"lifetimeValue\": {\n",
    "\"type\": \"keyword\",\"index\":\"false\"\n",
    "},\n",
    "\"premiumReceived\": {\n",
    "\"type\": \"keyword\"\n",
    "},\n",
    "\"claimPaid\": {\n",
    "\"type\": \"keyword\",\"index\":\"false\"\n",
    "},\n",
    "\"claimPaidCount\": {\n",
    "\"type\": \"keyword\",\"index\":\"false\"\n",
    "}}\n",
    "}}\n",
    "\n",
    "\n",
    "\n",
    "URL = 'http://'+es_user+':'+es_pwd+'@'+es_nodes+':'+es_port+'/'+target_index+'/_mapping/'+target_doc_type\n",
    "headers = {'Content-Type': 'application/json'}\n",
    "r = requests.put(URL, data=json.dumps(mapping_output), headers=headers)\n",
    "print(r)"
   ]
  },
  {
   "cell_type": "code",
   "execution_count": null,
   "metadata": {},
   "outputs": [],
   "source": [
    "try:\n",
    "     life_time_deatils.write.format('org.elasticsearch.spark.sql').option('es.index.auto.create', 'true')\\\n",
    "        .option('es.nodes' , es_nodes).option('es.port', es_port).option('es.resource', target_index_doc_type)\\\n",
    "        .option(\"es.write.operation\",\"upsert\").option(\"es.mapping.id\",\"golden_id\").mode(\"append\").save() \n",
    "except Exception as e :\n",
    "    x = e\n",
    "else: \n",
    "    x = 200 # success\n",
    "print(x)"
   ]
  },
  {
   "cell_type": "markdown",
   "metadata": {},
   "source": [
    "# Interaction_journal"
   ]
  },
  {
   "cell_type": "code",
   "execution_count": null,
   "metadata": {},
   "outputs": [],
   "source": [
    "gscPythonOptions = {\n",
    "         \"url\": \"jdbc:postgresql://10.35.12.194:5432/gpadmin\",\"user\": \"gpcustcoe\",\"password\": \"gpcustcoe@123\",\n",
    "    \"dbschema\":\"customermart\"\n",
    "    ,\"dbtable\": \"interaction_journal\",\n",
    "         \"server.port\":\"1150-1170\"}\n",
    "\n",
    "\n",
    "ij_df = sqlContext.read.format(\"greenplum\").options(**gscPythonOptions).load()\\\n",
    ".select(\"source_app\", \"interaction_type\", \"interaction_date\", \"policy_no\", \"certificate_no\", \"reference_num\", \n",
    "\"transaction_id\", \"ticket_no\", \"mobile\", \"email\", \"awb_no\", \"customer_name\", \"deposition\", \"sub_deposition\", \"callback_date\", \n",
    "\"remarks\", \"language_pref\", \"language_barrier\", \"lost_reason\", \"competitor_name\", \"ticket_close_date\", \"ticket_tat\", \"ticket_status\", \n",
    "\"ticket_source\", \"open_status\", \"link_status\", \"print_flag\", \"courier\", \"delivery_return_date\", \"recieved_by\",\"source_system_customer_id\")"
   ]
  },
  {
   "cell_type": "code",
   "execution_count": null,
   "metadata": {},
   "outputs": [],
   "source": [
    "ij_gid=header_df.join(ij_df,'source_system_customer_id','inner')"
   ]
  },
  {
   "cell_type": "code",
   "execution_count": null,
   "metadata": {},
   "outputs": [],
   "source": [
    "ij_gid.printSchema()"
   ]
  },
  {
   "cell_type": "code",
   "execution_count": null,
   "metadata": {},
   "outputs": [],
   "source": [
    "ij_gid=ij_gid.withColumn('interaction_date',date_format(to_utc_timestamp(col('interaction_date'),\"UTC\"),'yyyy-MM-dd'))\\\n",
    ".withColumn('callback_date',date_format(to_utc_timestamp(col('callback_date'),\"UTC\"),'yyyy-MM-dd'))\\\n",
    ".withColumn('ticket_close_date',date_format(to_utc_timestamp(col('ticket_close_date'),\"UTC\"),'yyyy-MM-dd'))\\\n",
    ".withColumn('delivery_return_date',date_format(to_utc_timestamp(col('delivery_return_date'),\"UTC\"),'yyyy-MM-dd'))"
   ]
  },
  {
   "cell_type": "code",
   "execution_count": null,
   "metadata": {},
   "outputs": [],
   "source": [
    "ij_gid=ij_gid.drop_duplicates()"
   ]
  },
  {
   "cell_type": "code",
   "execution_count": null,
   "metadata": {},
   "outputs": [],
   "source": [
    "# ij_gid=ij_gid.join(cust_detail.select('golden_id'),'golden_id','inner')"
   ]
  },
  {
   "cell_type": "code",
   "execution_count": null,
   "metadata": {},
   "outputs": [],
   "source": [
    "ij_gid.persist(pyspark.StorageLevel.MEMORY_AND_DISK)\n",
    "records=ij_gid.count()\n",
    "records"
   ]
  },
  {
   "cell_type": "code",
   "execution_count": null,
   "metadata": {},
   "outputs": [],
   "source": [
    "# target_index='get_spa_interaction_journal_summary'\n",
    "# print(target_index)"
   ]
  },
  {
   "cell_type": "code",
   "execution_count": null,
   "metadata": {},
   "outputs": [],
   "source": [
    "# import json, pprint, requests\n",
    "# es_nodes = '10.35.12.212'\n",
    "# es_port = '9200'\n",
    "# es_user = 'elastic'\n",
    "# es_pwd = 'bEiilauM3es'\n",
    "\n",
    "# ######target_index = 'actuarial_premium_risk_tables'----previous name...delete later\n",
    "\n",
    "# #alias_name = 'nepuepr_uat_3'\n",
    "# target_doc_type = 'get_spa_interaction_journal_summary'\n",
    "# #########delete index if already exists########################################################################################################################################################################"
   ]
  },
  {
   "cell_type": "code",
   "execution_count": null,
   "metadata": {},
   "outputs": [],
   "source": [
    "# target_index_doc_type = target_index +'/'+ target_doc_type"
   ]
  },
  {
   "cell_type": "code",
   "execution_count": null,
   "metadata": {},
   "outputs": [],
   "source": [
    "# try:\n",
    "#      ij_gid.write.format('org.elasticsearch.spark.sql').option('es.index.auto.create', 'true')\\\n",
    "#         .option('es.nodes' , es_nodes).option('es.port', es_port).option('es.resource', target_index_doc_type)\\\n",
    "#         .option(\"es.write.operation\",\"upsert\").option(\"es.mapping.id\",'golden_id').mode(\"append\").save() \n",
    "# except Exception as e :\n",
    "#     x = e\n",
    "# else: \n",
    "#     x = 200 #success\n",
    "# print(x)"
   ]
  },
  {
   "cell_type": "code",
   "execution_count": null,
   "metadata": {},
   "outputs": [],
   "source": [
    "# # Interaction_journal\n",
    "\n",
    "# gscPythonOptions = {\n",
    "#          \"url\": \"jdbc:postgresql://10.35.12.194:5432/gpadmin\",\"user\": \"gpcustcoe\",\"password\": \"gpcustcoe@123\",\n",
    "#     \"dbschema\":\"customermart\"\n",
    "#     ,\"dbtable\": \"interaction_journal\",\n",
    "#          \"server.port\":\"1150-1170\"}\n",
    "\n",
    "\n",
    "# ij_df = sqlContext.read.format(\"greenplum\").options(**gscPythonOptions).load()\\\n",
    "# .select(\"source_app\", \"interaction_type\", \"interaction_date\", \"policy_no\", \"certificate_no\", \"reference_num\", \n",
    "# \"transaction_id\", \"ticket_no\", \"mobile\", \"email\", \"awb_no\", \"customer_name\", \"deposition\", \"sub_deposition\", \"callback_date\", \n",
    "# \"remarks\", \"language_pref\", \"language_barrier\", \"lost_reason\", \"competitor_name\", \"ticket_close_date\", \"ticket_tat\", \"ticket_status\", \n",
    "# \"ticket_source\", \"open_status\", \"link_status\", \"print_flag\", \"courier\", \"delivery_return_date\", \"recieved_by\",\"source_system_customer_id\")\n",
    "\n",
    "# ij_gid=header_df.join(ij_df,'source_system_customer_id','inner')\n",
    "\n",
    "# ij_gid.printSchema()\n",
    "\n",
    "# ij_gid=ij_gid.withColumn('interaction_date',date_format(to_utc_timestamp(col('interaction_date'),\"UTC\"),'yyyy-MM-dd'))\\\n",
    "# .withColumn('callback_date',date_format(to_utc_timestamp(col('callback_date'),\"UTC\"),'yyyy-MM-dd'))\\\n",
    "# .withColumn('ticket_close_date',date_format(to_utc_timestamp(col('ticket_close_date'),\"UTC\"),'yyyy-MM-dd'))\\\n",
    "# .withColumn('delivery_return_date',date_format(to_utc_timestamp(col('delivery_return_date'),\"UTC\"),'yyyy-MM-dd'))\n",
    "\n",
    "# ij_gid=ij_gid.drop_duplicates()\n",
    "\n",
    "# ij_gid=ij_gid.join(cust_detail.select('golden_id'),'golden_id','inner')\n",
    "\n",
    "# ij_gid.persist(pyspark.StorageLevel.MEMORY_AND_DISK)\n",
    "# records=ij_gid.count()\n",
    "# records\n",
    "\n",
    "# target_index='get_spa_interaction_journal_summary'\n",
    "# print(target_index)\n",
    "\n",
    "# import json, pprint, requests\n",
    "# es_nodes = '10.35.12.212'\n",
    "# es_port = '9200'\n",
    "# es_user = 'elastic'\n",
    "# es_pwd = 'bEiilauM3es'\n",
    "\n",
    "# ######target_index = 'actuarial_premium_risk_tables'----previous name...delete later\n",
    "\n",
    "# #alias_name = 'nepuepr_uat_3'\n",
    "# target_doc_type = 'get_spa_interaction_journal_summary'\n",
    "# #########delete index if already exists########################################################################################################################################################################\n",
    "\n",
    "# target_index_doc_type = target_index +'/'+ target_doc_type\n",
    "\n",
    "# try:\n",
    "#      ij_gid.write.format('org.elasticsearch.spark.sql').option('es.index.auto.create', 'true')\\\n",
    "#         .option('es.nodes' , es_nodes).option('es.port', es_port).option('es.resource', target_index_doc_type)\\\n",
    "#         .option(\"es.write.operation\",\"upsert\").option(\"es.mapping.id\",'golden_id').mode(\"append\").save() \n",
    "# except Exception as e :\n",
    "#     x = e\n",
    "# else: \n",
    "#     x = 200 #success\n",
    "# print(x)"
   ]
  },
  {
   "cell_type": "code",
   "execution_count": null,
   "metadata": {},
   "outputs": [],
   "source": [
    "import io\n",
    "import pandas as pd\n",
    "import xlsxwriter\n",
    "import sys\n",
    "import smtplib\n",
    "from os.path import basename\n",
    "from email.mime.application import MIMEApplication\n",
    "from email.mime.multipart import MIMEMultipart\n",
    "from email.mime.text import MIMEText\n",
    "from email.utils import COMMASPACE, formatdate\n",
    "import pandas as pd\n",
    "from sqlalchemy import create_engine\n",
    "from smtplib import SMTP\n",
    "\n",
    "if x!='success':\n",
    "    status='FAILED'\n",
    "else:\n",
    "    status=\"SUCCESS\"\n",
    "\n",
    "subject=f\"Automated Mail-SPA PART-3 Job Status : {status}\"\n",
    "\n",
    "if x==\"SUCCESS\":\n",
    "    recipients = ['nishant5.addenki@tataaig.com','devnandan.TataIndustries@tataaig.com','mayur.TataIndustries@tataaig.com','Ajeet3.Jaiswal@tataaig.com'] \n",
    "    emaillist = [elem.strip().split(',') for elem in recipients]\n",
    "    msg = MIMEMultipart()\n",
    "    msg['Subject'] = subject\n",
    "    msg['From'] = 'customercoe@tataaig.com'\n",
    "\n",
    "\n",
    "    html = \"\"\"\\\n",
    "    <html>\n",
    "      <head></head>\n",
    "      <body>\n",
    "        SPA PART-3 job status is: Successful\n",
    "      </body>\n",
    "        <p>This is automated mail, please don't reply. Thanks</p>\n",
    "    </html>\n",
    "    \"\"\"\n",
    "\n",
    "    part1 = MIMEText(html, 'html')\n",
    "    msg.attach(part1)\n",
    "\n",
    "    server = smtplib.SMTP(\"tataaig-com.mail.protection.outlook.com\",25)\n",
    "    server.sendmail(msg['From'], emaillist , msg.as_string())\n",
    "else:\n",
    "      \n",
    "    recipients = ['nishant5.addenki@tataaig.com','devnandan.TataIndustries@tataaig.com','mayur.TataIndustries@tataaig.com','Ajeet3.Jaiswal@tataaig.com'] \n",
    "    emaillist = [elem.strip().split(',') for elem in recipients]\n",
    "    msg = MIMEMultipart()\n",
    "    msg['Subject'] = subject\n",
    "    msg['From'] = 'customercoe@tataaig.com'\n",
    "\n",
    "\n",
    "    html = \"\"\"\\\n",
    "    <html>\n",
    "      <head></head>\n",
    "      <body>\n",
    "        CPA job status is: Failed\n",
    "      </body>\n",
    "        <p>This is automated mail, please don't reply. Thanks</p>\n",
    "    </html>\n",
    "    \"\"\"\n",
    "\n",
    "    part1 = MIMEText(html, 'html')\n",
    "    msg.attach(part1)\n",
    "\n",
    "    server = smtplib.SMTP(\"tataaig-com.mail.protection.outlook.com\",25)\n",
    "    server.sendmail(msg['From'], emaillist , msg.as_string())"
   ]
  },
  {
   "cell_type": "code",
   "execution_count": null,
   "metadata": {},
   "outputs": [],
   "source": []
  },
  {
   "cell_type": "code",
   "execution_count": null,
   "metadata": {},
   "outputs": [],
   "source": [
    "spark.stop()"
   ]
  },
  {
   "cell_type": "code",
   "execution_count": null,
   "metadata": {},
   "outputs": [],
   "source": []
  }
 ],
 "metadata": {
  "kernelspec": {
   "display_name": "PySpark",
   "language": "",
   "name": "pysparkkernel"
  },
  "language_info": {
   "codemirror_mode": {
    "name": "python",
    "version": 3
   },
   "mimetype": "text/x-python",
   "name": "pyspark",
   "pygments_lexer": "python3"
  }
 },
 "nbformat": 4,
 "nbformat_minor": 4
}
