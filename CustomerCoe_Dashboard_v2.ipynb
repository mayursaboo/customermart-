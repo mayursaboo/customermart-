{
 "cells": [
  {
   "cell_type": "code",
   "execution_count": 1,
   "metadata": {},
   "outputs": [
    {
     "name": "stdout",
     "output_type": "stream",
     "text": [
      "Starting Spark application\n"
     ]
    },
    {
     "data": {
      "text/html": [
       "<table>\n",
       "<tr><th>ID</th><th>YARN Application ID</th><th>Kind</th><th>State</th><th>Spark UI</th><th>Driver log</th><th>Current session?</th></tr><tr><td>18412</td><td>None</td><td>pyspark</td><td>idle</td><td></td><td></td><td>✔</td></tr></table>"
      ],
      "text/plain": [
       "<IPython.core.display.HTML object>"
      ]
     },
     "metadata": {},
     "output_type": "display_data"
    },
    {
     "data": {
      "application/vnd.jupyter.widget-view+json": {
       "model_id": "",
       "version_major": 2,
       "version_minor": 0
      },
      "text/plain": [
       "FloatProgress(value=0.0, bar_style='info', description='Progress:', layout=Layout(height='25px', width='50%'),…"
      ]
     },
     "metadata": {},
     "output_type": "display_data"
    },
    {
     "name": "stdout",
     "output_type": "stream",
     "text": [
      "SparkSession available as 'spark'.\n"
     ]
    },
    {
     "data": {
      "application/vnd.jupyter.widget-view+json": {
       "model_id": "",
       "version_major": 2,
       "version_minor": 0
      },
      "text/plain": [
       "FloatProgress(value=0.0, bar_style='info', description='Progress:', layout=Layout(height='25px', width='50%'),…"
      ]
     },
     "metadata": {},
     "output_type": "display_data"
    }
   ],
   "source": [
    "import sys\n",
    "\n",
    "\n",
    "no_of_cpu = 8\n",
    "max_cores = 16\n",
    "executor_mem = '56g'\n",
    "\n",
    "\n",
    "\n",
    "Job_Name = 'Nishant:CPA-Customermart'\n",
    "\n",
    "from pyspark.mllib.stat import Statistics\n",
    "from pyspark.sql.functions import asc,lit\n",
    "#warnings.filterwarnings('error')\n",
    "import pyspark\n",
    "from datetime import datetime,timedelta\n",
    "from pyspark.sql import SQLContext\n",
    "from pyspark import SparkContext, SparkConf\n",
    "from pyspark.sql import functions as F\n",
    "\n",
    "\n",
    "conf = pyspark.SparkConf()\n",
    "#import numpy\n",
    "import calendar\n",
    "#import pandas as pd\n",
    "#import simplejson as json\n",
    "#import pandas as pd\n",
    "import numpy as np\n",
    "import datetime\n",
    "from pyspark.sql.functions import *\n",
    "from pyspark.sql.types import DateType\n",
    "from pyspark.sql.functions import lit\n",
    "import simplejson as json\n",
    "import json, pprint, requests\n",
    "#es_nodes = '10.35.12.5'\n",
    "#es_nodes = '10.35.12.6'\n",
    "es_nodes = '10.35.12.194'#,10.35.12.6,10.35.12.5\n",
    "es_nodes_temp='10.35.12.194'\n",
    "es_port = '5432'\n",
    "es_user = ''\n",
    "es_pwd = ''\n",
    "mesos_ip = 'mesos://10.33.195.18:5050'#'mesos://10.35.12.5:5050'\n",
    "\n",
    "spark.stop() #############NEED TO COMMENT THIS SPARK.STOP WHEN RUNNING THROUGH SHELL###############################\n",
    "\n",
    "conf.setMaster(mesos_ip)\n",
    "\n",
    "conf.set('spark.executor.cores',no_of_cpu) ### change 1\n",
    "conf.set('spark.memory.fraction','.2')\n",
    "conf.set('spark.driver.maxResultSize','1g')\n",
    "conf.set('spark.executor.memory',executor_mem) \n",
    "conf.set('spark.es.scroll.size','10000')\n",
    "conf.set('spark.network.timeout','600s')\n",
    "conf.set('spark.sql.crossJoin.enabled', 'true')\n",
    "\n",
    "conf.set('spark.ui.port','4052')\n",
    "\n",
    "conf.set('spark.executor.heartbeatInterval','60s')\n",
    "conf.set(\"spark.driver.cores\",\"4\")\n",
    "## changed from 4g to 2g\n",
    "conf.set(\"spark.driver.extraJavaOptions\",\"-Xmx4g -Xms4g\")\n",
    "\n",
    "#conf.set(\"spark.shuffle.blockTransferService\", \"nio\"); \n",
    "conf.set(\"spark.files.overwrite\",\"true\");\n",
    "conf.set(\"spark.kryoserializer.buffer\", \"70\"); \n",
    "#conf.set(\"spark.driver.extraJavaOptions\", \"-XX:+UseG1GC\");\n",
    "conf.set(\"spark.executor.extraJavaOptions\", \"-XX:+UseG1GC\");\n",
    "conf.set(\"spark.serializer\", \"org.apache.spark.serializer.KryoSerializer\"); \n",
    "conf.set(\"spark.broadcast.compress\", \"true\"); \n",
    "conf.set(\"spark.shuffle.compress\", \"true\"); \n",
    "conf.set(\"spark.shuffle.spill.compress\", \"true\");\n",
    "conf.set(\"spark.app.name\", Job_Name)\n",
    "#conf.set(\"spark.io.compression.codec\",\"org.apache.spark.io.LZ4CompressionCodec\");\n",
    "#uncommented below\n",
    "conf.set(\"spark.sql.inMemoryColumnarStorage.compressed\", \"true\"); \n",
    "from pyspark.sql.functions import broadcast\n",
    "\n",
    "conf.set('spark.driver.memory','20g') ### change 2\n",
    "conf.set('spark.cores.max',max_cores) ### change 3\n",
    "conf.set('spark.sql.shuffle.partitions','200')\n",
    "#conf.set('spark.sql.crossJoin.enabled', 'true')\n",
    "conf.set('es.nodes',es_nodes)\n",
    "conf.set('es.port',es_port)\n",
    "conf.set('es.nodes.wan.only','true')\n",
    "conf.set(\"spark.sql.autoBroadcastJoinThreshold\",-1)\n",
    "\n",
    "#conf.set('spark.es.net.http.auth.user','Spark')\n",
    "#conf.set('spark.es.net.http.auth.pass','Jarkpet1Sap3')\n",
    "conf.set('spark.num.executors','4')\n",
    "conf.set('spark.debug.maxToStringFields', 200)\n",
    "\n",
    "conf.set('spark.es.net.http.auth.user', es_user)\n",
    "conf.set('spark.es.net.http.auth.pass', es_pwd)\n",
    "\n",
    "conf.set('spark.es.mapping.date.rich','false')\n",
    "spark = pyspark.SparkContext(conf=conf)\n",
    "sqlContext = SQLContext(spark)\n",
    "\n",
    "# Load Data into PySpark DataFrames\n",
    "# Prodcom Data Frame\n",
    "import json, pprint, requests\n",
    "import pyspark.sql.functions as sf\n",
    "from pyspark.sql.types import *\n",
    "\n",
    "\n",
    "import numpy as np\n",
    "import datetime\n",
    "from pyspark.sql.functions import *\n",
    "from pyspark.sql.types import DateType"
   ]
  },
  {
   "cell_type": "code",
   "execution_count": 2,
   "metadata": {},
   "outputs": [
    {
     "data": {
      "application/vnd.jupyter.widget-view+json": {
       "model_id": "",
       "version_major": 2,
       "version_minor": 0
      },
      "text/plain": [
       "FloatProgress(value=0.0, bar_style='info', description='Progress:', layout=Layout(height='25px', width='50%'),…"
      ]
     },
     "metadata": {},
     "output_type": "display_data"
    },
    {
     "name": "stdout",
     "output_type": "stream",
     "text": [
      "'2024-02-28 06:25:57.360501'"
     ]
    }
   ],
   "source": [
    "from pyspark.sql.functions import hash\n",
    "import numpy as np\n",
    "import datetime\n",
    "from pyspark.sql.functions import *\n",
    "from pyspark.sql.types import DateType\n",
    "import psycopg2\n",
    "import time\n",
    "from time import gmtime, strftime\n",
    "import pytz\n",
    "starttime = time.time()\n",
    "start_time = datetime.datetime.now(pytz.timezone('Asia/Kolkata')).strftime(\"%Y-%m-%d %H:%M:%S.%f\")\n",
    "start_time"
   ]
  },
  {
   "cell_type": "code",
   "execution_count": 3,
   "metadata": {},
   "outputs": [
    {
     "data": {
      "application/vnd.jupyter.widget-view+json": {
       "model_id": "",
       "version_major": 2,
       "version_minor": 0
      },
      "text/plain": [
       "FloatProgress(value=0.0, bar_style='info', description='Progress:', layout=Layout(height='25px', width='50%'),…"
      ]
     },
     "metadata": {},
     "output_type": "display_data"
    }
   ],
   "source": [
    "prod_url = \"jdbc:postgresql://10.35.12.194:5432/gpadmin\"\n",
    "prod_host = '10.35.12.194'\n",
    "prod_port = '5432'\n",
    "prod_dbname = 'gpadmin'\n",
    "user_prod=\"gpcustcoe\"\n",
    "pwd_prod=\"gpcustcoe@123\"\n",
    "dbschema=\"public\"\n",
    "\n",
    "\n",
    "prod_gpdb_spark_options ={\n",
    "    \"url\": \"jdbc:postgresql://{host}:{port}/{dbname}\".format(host=prod_host,port=prod_port, dbname=prod_dbname),\n",
    "    \"user\": \"{user}\".format(user=user_prod),\n",
    "    \"password\": \"{password}\".format(password=pwd_prod)\n",
    "} "
   ]
  },
  {
   "cell_type": "code",
   "execution_count": 4,
   "metadata": {},
   "outputs": [
    {
     "data": {
      "application/vnd.jupyter.widget-view+json": {
       "model_id": "",
       "version_major": 2,
       "version_minor": 0
      },
      "text/plain": [
       "FloatProgress(value=0.0, bar_style='info', description='Progress:', layout=Layout(height='25px', width='50%'),…"
      ]
     },
     "metadata": {},
     "output_type": "display_data"
    }
   ],
   "source": [
    "# loading table as dataframe\n",
    "def load_gpdb_jdbc(col_str,dbtable,dbschema,col_name=None,time_filter=None,partitionColumn=\"row_num\"):\n",
    "    \"\"\"\n",
    "    This is used to read gpdb with filter for columns and can apply other filter(date,values).\n",
    "    Time filter contains startdate,enddate\n",
    "    \"\"\"\n",
    "    gscPythonOptions = {\n",
    "                        \"url\": prod_url,\n",
    "                        \"user\": user_prod,\n",
    "                        \"password\": pwd_prod,\n",
    "                        \"dbschema\": dbschema,\n",
    "                        \"dbtable\": dbtable,\n",
    "                        \"partitionColumn\":partitionColumn,\n",
    "                        \"partitions\": 8,\n",
    "                        \"server.port\":\"1150-1170\"}\n",
    "   \n",
    "    if time_filter:\n",
    "        data = sqlContext.read.format(\"greenplum\").options(**gscPythonOptions).load()\\\n",
    "                .selectExpr(col_str).drop_duplicates().filter(col(col_name).between(to_timestamp(lit(time_filter['start_date']),\n",
    "                                                                 format='yyyy-MM-dd'),\n",
    "                                                    to_timestamp(lit(time_filter['end_date']),\n",
    "                                                                 format='yyyy-MM-dd')))\n",
    "    else :\n",
    "        data = sqlContext.read.format(\"greenplum\").options(**gscPythonOptions).load()\\\n",
    "                .selectExpr(col_str).drop_duplicates()\n",
    "   \n",
    "    return data"
   ]
  },
  {
   "cell_type": "code",
   "execution_count": 5,
   "metadata": {},
   "outputs": [
    {
     "data": {
      "application/vnd.jupyter.widget-view+json": {
       "model_id": "",
       "version_major": 2,
       "version_minor": 0
      },
      "text/plain": [
       "FloatProgress(value=0.0, bar_style='info', description='Progress:', layout=Layout(height='25px', width='50%'),…"
      ]
     },
     "metadata": {},
     "output_type": "display_data"
    }
   ],
   "source": [
    "# lst=['TWOWHEELERPOLICYINSURANCE',\n",
    "# 'MOTORTWOWHEELERPOLICY',\n",
    "# 'CRITIMEDICARE',\n",
    "# 'REVISEDHOMESECURE',\n",
    "# # 'BHARATGRIHARAKSHA',\n",
    "# 'MAHARAKSHA',\n",
    "# 'SECUREDFUTUREPLAN',\n",
    "# 'ACCIDENTGUARD',\n",
    "# 'ACCIDENTSHIELD',\n",
    "# 'ACCIDENTGUARDPLUS',\n",
    "# 'DOMESTICTRAVELGUARD',\n",
    "# 'STUDENTGUARD',\n",
    "# 'TRAVELGUARDWITHOUTSUBLIMIT',\n",
    "# 'ASIATRAVELGUARD',\n",
    "# 'TRAVELGUARDWITHSUBLIMIT',\n",
    "# 'PROTECT - MEDICARE',\n",
    "# 'MEDICAREPLUS',\n",
    "# 'PREMIER - MEDICARE',\n",
    "# 'MEDICARE',\n",
    "# 'PRIVATECARINSURANCEPOLICY',\n",
    "# 'MOTORPRIVATECARPOLICYINSURANCE',\n",
    "# 'STANDALONECPA']"
   ]
  },
  {
   "cell_type": "code",
   "execution_count": 6,
   "metadata": {},
   "outputs": [
    {
     "data": {
      "application/vnd.jupyter.widget-view+json": {
       "model_id": "",
       "version_major": 2,
       "version_minor": 0
      },
      "text/plain": [
       "FloatProgress(value=0.0, bar_style='info', description='Progress:', layout=Layout(height='25px', width='50%'),…"
      ]
     },
     "metadata": {},
     "output_type": "display_data"
    }
   ],
   "source": [
    "lst=['AIGC',\n",
    "'Aviation',\n",
    "'CV',\n",
    "'CVTP',\n",
    "'Casualty',\n",
    "'Cattle',\n",
    "'Construction',\n",
    "'EW',\n",
    "'Energy',\n",
    "'Fin. Lines',\n",
    "'GPA',\n",
    "'Gadget Care',\n",
    "'Group EMI Protect',\n",
    "'Group Health',\n",
    "'Group Health Direct',\n",
    "'Group Health RETAIL',\n",
    "'Group Hospi Cash',\n",
    "'Group health RETAIL',\n",
    "'Marine',\n",
    "'Property',\n",
    "'RSBY',\n",
    "'Weather']"
   ]
  },
  {
   "cell_type": "code",
   "execution_count": 7,
   "metadata": {},
   "outputs": [
    {
     "data": {
      "application/vnd.jupyter.widget-view+json": {
       "model_id": "",
       "version_major": 2,
       "version_minor": 0
      },
      "text/plain": [
       "FloatProgress(value=0.0, bar_style='info', description='Progress:', layout=Layout(height='25px', width='50%'),…"
      ]
     },
     "metadata": {},
     "output_type": "display_data"
    }
   ],
   "source": [
    "gscPythonOptions = {\n",
    "\"url\": \"jdbc:postgresql://10.35.12.194:5432/gpadmin\",\n",
    "\"user\": \"gpcustcoe\",\n",
    "\"password\": \"gpcustcoe@123\",\n",
    "\"dbschema\":\"customermart\",\n",
    "\"dbtable\": \"policy_retail\",#policy_retail_staging_211123\n",
    "\"server.port\": \"1151-1171\"}\n",
    "pr_df = sqlContext.read.format(\"greenplum\").options(**gscPythonOptions).load()\\\n",
    ".filter(~(col('lob').isin(lst))).filter(col('pol_incept_date') >='2019-04-01').filter(col('pol_incept_date') <=current_date())\\\n",
    ".filter(col('lob').isNotNull())\\\n",
    ".filter(~(upper(col('product_name')).isin('GROUPTRAVELSECURE',\n",
    "'GROUPOVERSEASTRAVELGUARD',\n",
    "'GROUPDOMESTICTRAVELGUARDPOLICY',\n",
    "'GROUPCREDITSECUREPLUS',\n",
    "'GROUPCREDITSECURE',\n",
    "'GROUPBUSINESSTRAVELACCIDENT')))"
   ]
  },
  {
   "cell_type": "code",
   "execution_count": 8,
   "metadata": {},
   "outputs": [
    {
     "data": {
      "application/vnd.jupyter.widget-view+json": {
       "model_id": "",
       "version_major": 2,
       "version_minor": 0
      },
      "text/plain": [
       "FloatProgress(value=0.0, bar_style='info', description='Progress:', layout=Layout(height='25px', width='50%'),…"
      ]
     },
     "metadata": {},
     "output_type": "display_data"
    }
   ],
   "source": [
    "pr_df=pr_df.withColumn('certificate_no',when((col('certificate_no').isin('0','0.0','/00000','000000','00000000'))|(col('certificate_no').isNull()),lit('00000000')).otherwise(lit(col('certificate_no'))))\\\n",
    ".withColumn('policy_number',lpad(col('policy_number'),10,'0'))"
   ]
  },
  {
   "cell_type": "code",
   "execution_count": 9,
   "metadata": {},
   "outputs": [
    {
     "data": {
      "application/vnd.jupyter.widget-view+json": {
       "model_id": "",
       "version_major": 2,
       "version_minor": 0
      },
      "text/plain": [
       "FloatProgress(value=0.0, bar_style='info', description='Progress:', layout=Layout(height='25px', width='50%'),…"
      ]
     },
     "metadata": {},
     "output_type": "display_data"
    }
   ],
   "source": [
    "# pr_df.filter(col('pol_incept_date') >='2022-04-01').filter(col('pol_incept_date') <='2023-03-31')\\\n",
    "# .filter(col('channel_new_2')=='E-Business')\\\n",
    "# .groupBy('lob').agg(countDistinct('policy_number')).show()"
   ]
  },
  {
   "cell_type": "code",
   "execution_count": 10,
   "metadata": {},
   "outputs": [
    {
     "data": {
      "application/vnd.jupyter.widget-view+json": {
       "model_id": "",
       "version_major": 2,
       "version_minor": 0
      },
      "text/plain": [
       "FloatProgress(value=0.0, bar_style='info', description='Progress:', layout=Layout(height='25px', width='50%'),…"
      ]
     },
     "metadata": {},
     "output_type": "display_data"
    },
    {
     "name": "stdout",
     "output_type": "stream",
     "text": [
      "['claim_feature_concat', 'account_line_cd', 'claim_status', 'policy_number', 'pol_incept_date', 'pol_exp_date', 'certificate_no', 'claim_no', 'claim_gross', 'report']"
     ]
    }
   ],
   "source": [
    "col_str=['claim_feature_concat','account_line_cd','claim_status','policy_no as policy_number','pol_incept_date','pol_exp_date',\n",
    "'certificate_no','claim_no','paid_amt_ind as claim_gross','report']\n",
    "\n",
    "gscPythonOptions = {\n",
    "\"url\": \"jdbc:postgresql://10.35.12.194:5432/gpadmin\",\n",
    "\"user\": \"gpcustcoe\",\n",
    "\"password\": \"gpcustcoe@123\",\n",
    "\"dbschema\":\"datamarts\",\n",
    "\"dbtable\": \"producer_policy_product_wise_base_data\",\n",
    "\"server.port\": \"1151-1171\"}\n",
    "df_crp = sqlContext.read.format(\"greenplum\").options(**gscPythonOptions).load()\\\n",
    "         .selectExpr(col_str)\\\n",
    ".filter(col('account_line_cd').isin('50'))\n",
    "\n",
    "#df_crp=df_crp.groupby('num_reference_no').agg(countDistinct(col('claim_no')).alias('claim_cnt'),sum(col('claim_gross').cast('double')).alias('claim_gross'))\n",
    "\n",
    "df_crp.columns\n"
   ]
  },
  {
   "cell_type": "code",
   "execution_count": 11,
   "metadata": {},
   "outputs": [
    {
     "data": {
      "application/vnd.jupyter.widget-view+json": {
       "model_id": "",
       "version_major": 2,
       "version_minor": 0
      },
      "text/plain": [
       "FloatProgress(value=0.0, bar_style='info', description='Progress:', layout=Layout(height='25px', width='50%'),…"
      ]
     },
     "metadata": {},
     "output_type": "display_data"
    }
   ],
   "source": [
    "df_crp=df_crp.withColumn('certificate_no',when((col('certificate_no').isin('0','0.0','/00000','000000','00000000'))|(col('certificate_no').isNull()),lit('00000000')).otherwise(lit(col('certificate_no'))))\\\n",
    ".withColumn('policy_number',lpad(col('policy_number'),10,'0'))\n",
    "\n",
    "df_crp=df_crp.withColumn('pol_incept_date',to_date(col('pol_incept_date'),'dd-MM-yyyy'))\\\n",
    ".withColumn('pol_exp_date',to_date(col('pol_exp_date'),'dd-MM-yyyy'))"
   ]
  },
  {
   "cell_type": "code",
   "execution_count": 12,
   "metadata": {},
   "outputs": [
    {
     "data": {
      "application/vnd.jupyter.widget-view+json": {
       "model_id": "",
       "version_major": 2,
       "version_minor": 0
      },
      "text/plain": [
       "FloatProgress(value=0.0, bar_style='info', description='Progress:', layout=Layout(height='25px', width='50%'),…"
      ]
     },
     "metadata": {},
     "output_type": "display_data"
    }
   ],
   "source": [
    "group_cols = [\"policy_number\",\"certificate_no\",'pol_incept_date','pol_exp_date']\n",
    "\n",
    "df_crp1=df_crp.groupBy(group_cols).agg(sum(\"claim_gross\").alias(\"claim_gross\"),countDistinct(col('claim_no')).alias('claim_cnt'))"
   ]
  },
  {
   "cell_type": "code",
   "execution_count": 13,
   "metadata": {},
   "outputs": [
    {
     "data": {
      "application/vnd.jupyter.widget-view+json": {
       "model_id": "",
       "version_major": 2,
       "version_minor": 0
      },
      "text/plain": [
       "FloatProgress(value=0.0, bar_style='info', description='Progress:', layout=Layout(height='25px', width='50%'),…"
      ]
     },
     "metadata": {},
     "output_type": "display_data"
    }
   ],
   "source": [
    "pr_df=pr_df.join(df_crp1,group_cols,'left')"
   ]
  },
  {
   "cell_type": "code",
   "execution_count": 14,
   "metadata": {},
   "outputs": [
    {
     "data": {
      "application/vnd.jupyter.widget-view+json": {
       "model_id": "",
       "version_major": 2,
       "version_minor": 0
      },
      "text/plain": [
       "FloatProgress(value=0.0, bar_style='info', description='Progress:', layout=Layout(height='25px', width='50%'),…"
      ]
     },
     "metadata": {},
     "output_type": "display_data"
    }
   ],
   "source": [
    "from pyspark.sql.window import Window\n",
    "\n",
    "w = Window.partitionBy(['policy_number','certificate_no','pol_incept_date','pol_exp_date','source_system_name']).orderBy([F.col('commit_timestamp').desc(),F.col('reference_num').desc()])\n",
    "pr_df = pr_df.withColumn('row',F.row_number().over(w))\n",
    "pr_df = pr_df.filter(F.col('row')==1).drop(pr_df.row).drop_duplicates()\n"
   ]
  },
  {
   "cell_type": "code",
   "execution_count": 15,
   "metadata": {},
   "outputs": [
    {
     "data": {
      "application/vnd.jupyter.widget-view+json": {
       "model_id": "",
       "version_major": 2,
       "version_minor": 0
      },
      "text/plain": [
       "FloatProgress(value=0.0, bar_style='info', description='Progress:', layout=Layout(height='25px', width='50%'),…"
      ]
     },
     "metadata": {},
     "output_type": "display_data"
    }
   ],
   "source": [
    "pol=pr_df.repartition('source_system_customer_id')"
   ]
  },
  {
   "cell_type": "code",
   "execution_count": 16,
   "metadata": {},
   "outputs": [
    {
     "data": {
      "application/vnd.jupyter.widget-view+json": {
       "model_id": "",
       "version_major": 2,
       "version_minor": 0
      },
      "text/plain": [
       "FloatProgress(value=0.0, bar_style='info', description='Progress:', layout=Layout(height='25px', width='50%'),…"
      ]
     },
     "metadata": {},
     "output_type": "display_data"
    },
    {
     "name": "stdout",
     "output_type": "stream",
     "text": [
      "['policy_number', 'certificate_no', 'pol_incept_date', 'pol_exp_date', 'reference_num', 'source_system_name', 'source_system_customer_id', 'sum_insured', 'premiumamount', 'total_premium', 'product_name', 'channel', 'channel_new_2', 'lob', 'record_type_desc', 'record_type_cd', 'report_accounting_period', 'commit_timestamp', 'renl_cert_no', 'times_renewed_cnt', 'product_cd', 'product_cd_new', 'producer_cd', 'producername', 'producer_type', 'policy_counter', 'veh_model', 'veh_age', 'veh_make', 'veh_body', 'veh_engine_no', 'veh_chassis_no', 'no_claim_bonus', 'policy_type', 'fuel_type', 'uw_discount', 'uw_loading', 'business_type', 'txt_business_type', 'no_of_lives', 'veh_no', 'segment_type', 'policy_variant', 'mfg_year', 'ncb_percent', 'discount', 'major_line_cd', 'minor_line_cd', 'main_lob', 'pol_status_cd', 'group_category', 'min_pol_incept_date', 'plan_type', 'break_in_insurance_flag', 'break_in_insurance_days', 'exshowroomprice', 'irda_product_uin', 'txt_active_flag', 'status', 'txt_intermediary_cd', 'txt_status', 'accidentaldeathrider', 'rider_applicable', 'coverage_opted', 'age_building', 'personal_accident', 'public_lia', 'trip_type', 'trv_limit', 'purpose_of_trip', 'dep_date', 'return_date', 'travel_duration', 'destination_country', 'trip', 'lta_zone', 'information280', 'ped_declared_indicator', 'portability_required', 'deductible_amount', 'cumulative_bonus_earned', 'orphan_policy_indicator', 'orphan_policy_date', 'policy_term', 'ncb_flag', 'portability_indicator', 'renewed_in_grace_period', 'display_product_cd', 'insert_date', 'claim_gross', 'claim_cnt']"
     ]
    }
   ],
   "source": [
    "pol.columns"
   ]
  },
  {
   "cell_type": "code",
   "execution_count": 17,
   "metadata": {},
   "outputs": [
    {
     "data": {
      "application/vnd.jupyter.widget-view+json": {
       "model_id": "",
       "version_major": 2,
       "version_minor": 0
      },
      "text/plain": [
       "FloatProgress(value=0.0, bar_style='info', description='Progress:', layout=Layout(height='25px', width='50%'),…"
      ]
     },
     "metadata": {},
     "output_type": "display_data"
    }
   ],
   "source": [
    "col_str=[\"golden_id\", 'source_system_customer_id','active_flag','mapping_date']\n",
    "\n",
    "gscPythonOptions = {\n",
    "\"url\": \"jdbc:postgresql://10.35.12.194:5432/gpadmin\",\n",
    "\"user\": \"gpcustcoe\",\n",
    "\"password\": \"gpcustcoe@123\",\n",
    "\"dbschema\":\"customermart\",\n",
    "\"dbtable\": \"header\",\n",
    "\"server.port\": \"1151-1171\"}\n",
    "header_retail = sqlContext.read.format(\"greenplum\").options(**gscPythonOptions).load()\\\n",
    "         .selectExpr(col_str).drop_duplicates().filter(col('active_flag')==1)\n",
    "\n",
    "header_retail=header_retail.drop('active_flag')"
   ]
  },
  {
   "cell_type": "code",
   "execution_count": 18,
   "metadata": {},
   "outputs": [
    {
     "data": {
      "application/vnd.jupyter.widget-view+json": {
       "model_id": "",
       "version_major": 2,
       "version_minor": 0
      },
      "text/plain": [
       "FloatProgress(value=0.0, bar_style='info', description='Progress:', layout=Layout(height='25px', width='50%'),…"
      ]
     },
     "metadata": {},
     "output_type": "display_data"
    }
   ],
   "source": [
    "col_str=[\"golden_id\", 'source_system_customer_id','active_flag','mapping_date']\n",
    "\n",
    "gscPythonOptions = {\n",
    "\"url\": \"jdbc:postgresql://10.35.12.194:5432/gpadmin\",\n",
    "\"user\": \"gpcustcoe\",\n",
    "\"password\": \"gpcustcoe@123\",\n",
    "\"dbschema\":\"customermart\",\n",
    "\"dbtable\": \"header_corp\",\n",
    "\"server.port\": \"1151-1171\"}\n",
    "header_corp = sqlContext.read.format(\"greenplum\").options(**gscPythonOptions).load()\\\n",
    "         .selectExpr(col_str).drop_duplicates().filter(col('active_flag')==1)\n",
    "\n",
    "header_corp=header_corp.drop('active_flag')"
   ]
  },
  {
   "cell_type": "code",
   "execution_count": 19,
   "metadata": {},
   "outputs": [
    {
     "data": {
      "application/vnd.jupyter.widget-view+json": {
       "model_id": "",
       "version_major": 2,
       "version_minor": 0
      },
      "text/plain": [
       "FloatProgress(value=0.0, bar_style='info', description='Progress:', layout=Layout(height='25px', width='50%'),…"
      ]
     },
     "metadata": {},
     "output_type": "display_data"
    }
   ],
   "source": [
    "header_corp=header_corp.withColumn('golden_id',concat(col('golden_id'),lit('999999')))#99999 for corp as there could be common gid for ratil and corp"
   ]
  },
  {
   "cell_type": "code",
   "execution_count": 20,
   "metadata": {},
   "outputs": [
    {
     "data": {
      "application/vnd.jupyter.widget-view+json": {
       "model_id": "",
       "version_major": 2,
       "version_minor": 0
      },
      "text/plain": [
       "FloatProgress(value=0.0, bar_style='info', description='Progress:', layout=Layout(height='25px', width='50%'),…"
      ]
     },
     "metadata": {},
     "output_type": "display_data"
    }
   ],
   "source": [
    "header=header_retail.union(header_corp)"
   ]
  },
  {
   "cell_type": "code",
   "execution_count": 21,
   "metadata": {},
   "outputs": [
    {
     "data": {
      "application/vnd.jupyter.widget-view+json": {
       "model_id": "",
       "version_major": 2,
       "version_minor": 0
      },
      "text/plain": [
       "FloatProgress(value=0.0, bar_style='info', description='Progress:', layout=Layout(height='25px', width='50%'),…"
      ]
     },
     "metadata": {},
     "output_type": "display_data"
    },
    {
     "name": "stdout",
     "output_type": "stream",
     "text": [
      "DataFrame[golden_id: string, source_system_customer_id: string]"
     ]
    }
   ],
   "source": [
    "from pyspark.sql.window import Window\n",
    "\n",
    "header = header.withColumn(\"rn\", F.row_number()\n",
    "        .over(Window.partitionBy(\"source_system_customer_id\")\n",
    "        .orderBy(F.col(\"mapping_date\").desc())))\n",
    "\n",
    "header = header.filter(F.col(\"rn\") == 1).drop(\"rn\").drop('mapping_date')\n",
    "\n",
    "header.repartition('source_system_customer_id')"
   ]
  },
  {
   "cell_type": "code",
   "execution_count": 22,
   "metadata": {},
   "outputs": [
    {
     "data": {
      "application/vnd.jupyter.widget-view+json": {
       "model_id": "",
       "version_major": 2,
       "version_minor": 0
      },
      "text/plain": [
       "FloatProgress(value=0.0, bar_style='info', description='Progress:', layout=Layout(height='25px', width='50%'),…"
      ]
     },
     "metadata": {},
     "output_type": "display_data"
    }
   ],
   "source": [
    "mot_hlt=pol.join(header, 'source_system_customer_id',\"left_outer\")"
   ]
  },
  {
   "cell_type": "code",
   "execution_count": 23,
   "metadata": {},
   "outputs": [
    {
     "data": {
      "application/vnd.jupyter.widget-view+json": {
       "model_id": "",
       "version_major": 2,
       "version_minor": 0
      },
      "text/plain": [
       "FloatProgress(value=0.0, bar_style='info', description='Progress:', layout=Layout(height='25px', width='50%'),…"
      ]
     },
     "metadata": {},
     "output_type": "display_data"
    }
   ],
   "source": [
    "tenure_df=mot_hlt.groupBy('golden_id').agg(max('pol_exp_date').alias('max_policy_end_date'))"
   ]
  },
  {
   "cell_type": "code",
   "execution_count": 24,
   "metadata": {},
   "outputs": [
    {
     "data": {
      "application/vnd.jupyter.widget-view+json": {
       "model_id": "",
       "version_major": 2,
       "version_minor": 0
      },
      "text/plain": [
       "FloatProgress(value=0.0, bar_style='info', description='Progress:', layout=Layout(height='25px', width='50%'),…"
      ]
     },
     "metadata": {},
     "output_type": "display_data"
    }
   ],
   "source": [
    "mot_hlt=mot_hlt.join(tenure_df,'golden_id','left')"
   ]
  },
  {
   "cell_type": "code",
   "execution_count": 25,
   "metadata": {},
   "outputs": [
    {
     "data": {
      "application/vnd.jupyter.widget-view+json": {
       "model_id": "",
       "version_major": 2,
       "version_minor": 0
      },
      "text/plain": [
       "FloatProgress(value=0.0, bar_style='info', description='Progress:', layout=Layout(height='25px', width='50%'),…"
      ]
     },
     "metadata": {},
     "output_type": "display_data"
    }
   ],
   "source": [
    "mot_hlt=mot_hlt.withColumn('customer_vintage',datediff(col('max_policy_end_date'),col('min_pol_incept_date')))"
   ]
  },
  {
   "cell_type": "code",
   "execution_count": 26,
   "metadata": {},
   "outputs": [
    {
     "data": {
      "application/vnd.jupyter.widget-view+json": {
       "model_id": "",
       "version_major": 2,
       "version_minor": 0
      },
      "text/plain": [
       "FloatProgress(value=0.0, bar_style='info', description='Progress:', layout=Layout(height='25px', width='50%'),…"
      ]
     },
     "metadata": {},
     "output_type": "display_data"
    },
    {
     "name": "stdout",
     "output_type": "stream",
     "text": [
      "['communication_type', 'value', 'source_system_customer_id']"
     ]
    }
   ],
   "source": [
    "col_str=['communication_type','value','source_system_customer_id']\n",
    "gscPythonOptions = {\n",
    "\"url\": \"jdbc:postgresql://10.35.12.194:5432/gpadmin\",\n",
    "\"user\": \"gpcustcoe\",\n",
    "\"password\": \"gpcustcoe@123\",\n",
    "\"dbschema\":\"customermart\",\n",
    "\"dbtable\": \"contactability\",\n",
    "\"server.port\": \"1151-1171\"}\n",
    "contactibility = sqlContext.read.format(\"greenplum\").options(**gscPythonOptions).load()\\\n",
    "         .selectExpr(col_str).drop_duplicates()\n",
    "\n",
    "contactibility.columns"
   ]
  },
  {
   "cell_type": "code",
   "execution_count": 27,
   "metadata": {},
   "outputs": [
    {
     "data": {
      "application/vnd.jupyter.widget-view+json": {
       "model_id": "",
       "version_major": 2,
       "version_minor": 0
      },
      "text/plain": [
       "FloatProgress(value=0.0, bar_style='info', description='Progress:', layout=Layout(height='25px', width='50%'),…"
      ]
     },
     "metadata": {},
     "output_type": "display_data"
    }
   ],
   "source": [
    "contactibility=contactibility.repartition('source_system_customer_id')"
   ]
  },
  {
   "cell_type": "code",
   "execution_count": 28,
   "metadata": {},
   "outputs": [
    {
     "data": {
      "application/vnd.jupyter.widget-view+json": {
       "model_id": "",
       "version_major": 2,
       "version_minor": 0
      },
      "text/plain": [
       "FloatProgress(value=0.0, bar_style='info', description='Progress:', layout=Layout(height='25px', width='50%'),…"
      ]
     },
     "metadata": {},
     "output_type": "display_data"
    }
   ],
   "source": [
    "contactibility = contactibility.withColumn('value',when((lower(trim(col(\"value\"))).rlike(\"^[a-z0-9]+[\\._]?[a-z0-9]+[@]\\w+[.]\\w+$\") == False)\\\n",
    "                                                        & (lower(trim(col(\"communication_type\")))=='email'),lit(None)).otherwise(col('value')))\n"
   ]
  },
  {
   "cell_type": "code",
   "execution_count": 29,
   "metadata": {},
   "outputs": [
    {
     "data": {
      "application/vnd.jupyter.widget-view+json": {
       "model_id": "",
       "version_major": 2,
       "version_minor": 0
      },
      "text/plain": [
       "FloatProgress(value=0.0, bar_style='info', description='Progress:', layout=Layout(height='25px', width='50%'),…"
      ]
     },
     "metadata": {},
     "output_type": "display_data"
    }
   ],
   "source": [
    "mot_hlt=mot_hlt.join(contactibility,'source_system_customer_id',\"left_outer\")"
   ]
  },
  {
   "cell_type": "code",
   "execution_count": 30,
   "metadata": {},
   "outputs": [
    {
     "data": {
      "application/vnd.jupyter.widget-view+json": {
       "model_id": "",
       "version_major": 2,
       "version_minor": 0
      },
      "text/plain": [
       "FloatProgress(value=0.0, bar_style='info', description='Progress:', layout=Layout(height='25px', width='50%'),…"
      ]
     },
     "metadata": {},
     "output_type": "display_data"
    }
   ],
   "source": [
    "mot_hlt.createOrReplaceTempView('mot_hlt_tbl')\n",
    "\n",
    "query1 = \"\"\"\n",
    "select golden_id,max(mobile_contactibility) mobile_contactibility ,max(email_contactibility)  email_contactibility from (\n",
    "select distinct golden_id, case when   communication_type in ('phone','Phone') and value is not null then 1 else 0 end mobile_contactibility,\n",
    "case when communication_type in ('Email','email') and value is not null then 1 else 0 end email_contactibility\n",
    "from mot_hlt_tbl c) as a group by golden_id\"\"\"\n",
    "\n",
    "contact_df = sqlContext.sql(query1)\n",
    "sqlContext.dropTempTable('mot_hlt_tbl')"
   ]
  },
  {
   "cell_type": "code",
   "execution_count": 31,
   "metadata": {},
   "outputs": [
    {
     "data": {
      "application/vnd.jupyter.widget-view+json": {
       "model_id": "",
       "version_major": 2,
       "version_minor": 0
      },
      "text/plain": [
       "FloatProgress(value=0.0, bar_style='info', description='Progress:', layout=Layout(height='25px', width='50%'),…"
      ]
     },
     "metadata": {},
     "output_type": "display_data"
    }
   ],
   "source": [
    "mot_hlt=mot_hlt.join(contact_df,'golden_id',\"left_outer\")"
   ]
  },
  {
   "cell_type": "code",
   "execution_count": 32,
   "metadata": {},
   "outputs": [
    {
     "data": {
      "application/vnd.jupyter.widget-view+json": {
       "model_id": "",
       "version_major": 2,
       "version_minor": 0
      },
      "text/plain": [
       "FloatProgress(value=0.0, bar_style='info', description='Progress:', layout=Layout(height='25px', width='50%'),…"
      ]
     },
     "metadata": {},
     "output_type": "display_data"
    },
    {
     "name": "stdout",
     "output_type": "stream",
     "text": [
      "['golden_id', 'birth_date', 'gender', 'marital_status', 'tobacco_use_indicator', 'alcohol_use_indicator', 'customer_type']"
     ]
    }
   ],
   "source": [
    "col_str=['golden_id','birth_date','gender','marital_status','tobacco_use_indicator','alcohol_use_indicator','customer_type']\n",
    "gscPythonOptions = {\n",
    "\"url\": \"jdbc:postgresql://10.35.12.194:5432/gpadmin\",\n",
    "\"user\": \"gpcustcoe\",\n",
    "\"password\": \"gpcustcoe@123\",\n",
    "\"dbschema\":\"customermart\",\n",
    "\"dbtable\": \"customer_demographics\",\n",
    "\"server.port\": \"1151-1171\"}\n",
    "cd = sqlContext.read.format(\"greenplum\").options(**gscPythonOptions).load()\\\n",
    "         .selectExpr(col_str).drop_duplicates()\n",
    "\n",
    "cd.columns"
   ]
  },
  {
   "cell_type": "code",
   "execution_count": 33,
   "metadata": {},
   "outputs": [
    {
     "data": {
      "application/vnd.jupyter.widget-view+json": {
       "model_id": "",
       "version_major": 2,
       "version_minor": 0
      },
      "text/plain": [
       "FloatProgress(value=0.0, bar_style='info', description='Progress:', layout=Layout(height='25px', width='50%'),…"
      ]
     },
     "metadata": {},
     "output_type": "display_data"
    }
   ],
   "source": [
    "cd = cd.withColumn('tobacco_use_indicator_flag', when(col('tobacco_use_indicator').isin(True), lit(1)).otherwise(lit(0)))\\\n",
    ".withColumn('alcohol_use_indicator_flag', when(col('alcohol_use_indicator').isin(True), lit(1)).otherwise(lit(0)))\n",
    "from pyspark.sql import functions as F\n",
    "cd = cd.withColumn('age', (F.months_between(current_date(), F.col('birth_date')) / 12).cast('int'))\n",
    "cd = cd.withColumn('senior_citizen', when(col('age')>=60, lit(1)).otherwise(lit(0)))"
   ]
  },
  {
   "cell_type": "code",
   "execution_count": 34,
   "metadata": {},
   "outputs": [
    {
     "data": {
      "application/vnd.jupyter.widget-view+json": {
       "model_id": "",
       "version_major": 2,
       "version_minor": 0
      },
      "text/plain": [
       "FloatProgress(value=0.0, bar_style='info', description='Progress:', layout=Layout(height='25px', width='50%'),…"
      ]
     },
     "metadata": {},
     "output_type": "display_data"
    }
   ],
   "source": [
    "mot_hlt=mot_hlt.join(cd,'golden_id',\"left_outer\").drop(cd.golden_id)"
   ]
  },
  {
   "cell_type": "code",
   "execution_count": 35,
   "metadata": {},
   "outputs": [
    {
     "data": {
      "application/vnd.jupyter.widget-view+json": {
       "model_id": "",
       "version_major": 2,
       "version_minor": 0
      },
      "text/plain": [
       "FloatProgress(value=0.0, bar_style='info', description='Progress:', layout=Layout(height='25px', width='50%'),…"
      ]
     },
     "metadata": {},
     "output_type": "display_data"
    }
   ],
   "source": [
    "# mot_hlt=mot_hlt.filter(upper(col('customer_type'))!='C')"
   ]
  },
  {
   "cell_type": "code",
   "execution_count": 36,
   "metadata": {},
   "outputs": [
    {
     "data": {
      "application/vnd.jupyter.widget-view+json": {
       "model_id": "",
       "version_major": 2,
       "version_minor": 0
      },
      "text/plain": [
       "FloatProgress(value=0.0, bar_style='info', description='Progress:', layout=Layout(height='25px', width='50%'),…"
      ]
     },
     "metadata": {},
     "output_type": "display_data"
    },
    {
     "name": "stdout",
     "output_type": "stream",
     "text": [
      "['golden_id', 'service_level', 'payment_behaviour']"
     ]
    }
   ],
   "source": [
    "col_str=[\"golden_id\",'service_level','payment_behaviour']\n",
    "gscPythonOptions = {\n",
    "\"url\": \"jdbc:postgresql://10.35.12.194:5432/gpadmin\",\n",
    "\"user\": \"gpcustcoe\",\n",
    "\"password\": \"gpcustcoe@123\",\n",
    "\"dbschema\":\"customermart\",\n",
    "\"dbtable\": \"customer_profile\",\n",
    "\"server.port\": \"1151-1171\"}\n",
    "cp = sqlContext.read.format(\"greenplum\").options(**gscPythonOptions).load()\\\n",
    "         .selectExpr(col_str)\n",
    "cp.columns"
   ]
  },
  {
   "cell_type": "code",
   "execution_count": 37,
   "metadata": {},
   "outputs": [
    {
     "data": {
      "application/vnd.jupyter.widget-view+json": {
       "model_id": "",
       "version_major": 2,
       "version_minor": 0
      },
      "text/plain": [
       "FloatProgress(value=0.0, bar_style='info', description='Progress:', layout=Layout(height='25px', width='50%'),…"
      ]
     },
     "metadata": {},
     "output_type": "display_data"
    }
   ],
   "source": [
    "cp = cp.withColumn('hni_flag', when(col('service_level').isin('5'), lit('HNI')).otherwise(lit(None)))\\\n",
    ".withColumn('is_hni', when(col('hni_flag').isin('HNI'), lit(1)).otherwise(lit(0)))"
   ]
  },
  {
   "cell_type": "code",
   "execution_count": 38,
   "metadata": {},
   "outputs": [
    {
     "data": {
      "application/vnd.jupyter.widget-view+json": {
       "model_id": "",
       "version_major": 2,
       "version_minor": 0
      },
      "text/plain": [
       "FloatProgress(value=0.0, bar_style='info', description='Progress:', layout=Layout(height='25px', width='50%'),…"
      ]
     },
     "metadata": {},
     "output_type": "display_data"
    }
   ],
   "source": [
    "mot_hlt=mot_hlt.join(cp, 'golden_id',\"left_outer\")"
   ]
  },
  {
   "cell_type": "code",
   "execution_count": 39,
   "metadata": {},
   "outputs": [
    {
     "data": {
      "application/vnd.jupyter.widget-view+json": {
       "model_id": "",
       "version_major": 2,
       "version_minor": 0
      },
      "text/plain": [
       "FloatProgress(value=0.0, bar_style='info', description='Progress:', layout=Layout(height='25px', width='50%'),…"
      ]
     },
     "metadata": {},
     "output_type": "display_data"
    }
   ],
   "source": [
    "col_str=[\"risk1\",\"reference_num\"]\n",
    "df_hlt_tbl=load_gpdb_jdbc(col_str,\"policy_dh_risk_details_hlt\",'public')"
   ]
  },
  {
   "cell_type": "code",
   "execution_count": 40,
   "metadata": {},
   "outputs": [
    {
     "data": {
      "application/vnd.jupyter.widget-view+json": {
       "model_id": "",
       "version_major": 2,
       "version_minor": 0
      },
      "text/plain": [
       "FloatProgress(value=0.0, bar_style='info', description='Progress:', layout=Layout(height='25px', width='50%'),…"
      ]
     },
     "metadata": {},
     "output_type": "display_data"
    }
   ],
   "source": [
    "df_hlt_tbl.createOrReplaceTempView('df_hlt1')\n",
    "\n",
    "query2 = \"\"\"\n",
    "select reference_num,sum(dependent_child) dependent_child,sum(dependent_parents) dependent_parents from (\n",
    "select reference_num ,\n",
    "case when lower(risk1) like '%child%' then 1 else 0 end dependent_child,\n",
    "case when lower(risk1) like '%parent%' then 1 else 0 end dependent_parents\n",
    "from df_hlt1) as a \n",
    "group by reference_num\"\"\"\n",
    "\n",
    "df_hlt = sqlContext.sql(query2)\n",
    "sqlContext.dropTempTable('df_hlt1')"
   ]
  },
  {
   "cell_type": "code",
   "execution_count": 41,
   "metadata": {},
   "outputs": [
    {
     "data": {
      "application/vnd.jupyter.widget-view+json": {
       "model_id": "",
       "version_major": 2,
       "version_minor": 0
      },
      "text/plain": [
       "FloatProgress(value=0.0, bar_style='info', description='Progress:', layout=Layout(height='25px', width='50%'),…"
      ]
     },
     "metadata": {},
     "output_type": "display_data"
    }
   ],
   "source": [
    "mot_hlt=mot_hlt.join(df_hlt, 'reference_num',\"left_outer\")"
   ]
  },
  {
   "cell_type": "code",
   "execution_count": 42,
   "metadata": {},
   "outputs": [
    {
     "data": {
      "application/vnd.jupyter.widget-view+json": {
       "model_id": "",
       "version_major": 2,
       "version_minor": 0
      },
      "text/plain": [
       "FloatProgress(value=0.0, bar_style='info', description='Progress:', layout=Layout(height='25px', width='50%'),…"
      ]
     },
     "metadata": {},
     "output_type": "display_data"
    },
    {
     "name": "stdout",
     "output_type": "stream",
     "text": [
      "['dc_unified_id']"
     ]
    }
   ],
   "source": [
    "col_str=[\"dc_unified_id\"]\n",
    "gscPythonOptions = {\n",
    "\"url\": \"jdbc:postgresql://10.35.12.194:5432/gpadmin\",\n",
    "\"user\": \"gpcustcoe\",\n",
    "\"password\": \"gpcustcoe@123\",\n",
    "\"server.port\": \"1151-1170\",\n",
    "\"dbschema\":\"customermart\",\n",
    "\"dbtable\": \"cross_sell_eligible_cust\"}\n",
    "df_csec = sqlContext.read.format(\"greenplum\").options(**gscPythonOptions).load()\\\n",
    "         .selectExpr(col_str)\n",
    "df_csec.columns"
   ]
  },
  {
   "cell_type": "code",
   "execution_count": 43,
   "metadata": {},
   "outputs": [
    {
     "data": {
      "application/vnd.jupyter.widget-view+json": {
       "model_id": "",
       "version_major": 2,
       "version_minor": 0
      },
      "text/plain": [
       "FloatProgress(value=0.0, bar_style='info', description='Progress:', layout=Layout(height='25px', width='50%'),…"
      ]
     },
     "metadata": {},
     "output_type": "display_data"
    }
   ],
   "source": [
    "df_csec=df_csec.withColumn('cross_sell_eligible_cust', when(col('dc_unified_id').isNotNull(), lit(1)).otherwise(lit(0)))"
   ]
  },
  {
   "cell_type": "code",
   "execution_count": 44,
   "metadata": {},
   "outputs": [
    {
     "data": {
      "application/vnd.jupyter.widget-view+json": {
       "model_id": "",
       "version_major": 2,
       "version_minor": 0
      },
      "text/plain": [
       "FloatProgress(value=0.0, bar_style='info', description='Progress:', layout=Layout(height='25px', width='50%'),…"
      ]
     },
     "metadata": {},
     "output_type": "display_data"
    }
   ],
   "source": [
    "# df_csec.persist()\n",
    "# df_csec.count()"
   ]
  },
  {
   "cell_type": "code",
   "execution_count": 45,
   "metadata": {},
   "outputs": [
    {
     "data": {
      "application/vnd.jupyter.widget-view+json": {
       "model_id": "",
       "version_major": 2,
       "version_minor": 0
      },
      "text/plain": [
       "FloatProgress(value=0.0, bar_style='info', description='Progress:', layout=Layout(height='25px', width='50%'),…"
      ]
     },
     "metadata": {},
     "output_type": "display_data"
    }
   ],
   "source": [
    "mot_hlt=mot_hlt.join(df_csec, mot_hlt.golden_id==df_csec.dc_unified_id,\"left_outer\").drop(df_csec.dc_unified_id)"
   ]
  },
  {
   "cell_type": "code",
   "execution_count": 46,
   "metadata": {},
   "outputs": [
    {
     "data": {
      "application/vnd.jupyter.widget-view+json": {
       "model_id": "",
       "version_major": 2,
       "version_minor": 0
      },
      "text/plain": [
       "FloatProgress(value=0.0, bar_style='info', description='Progress:', layout=Layout(height='25px', width='50%'),…"
      ]
     },
     "metadata": {},
     "output_type": "display_data"
    },
    {
     "name": "stdout",
     "output_type": "stream",
     "text": [
      "['policy_no', 'renewal_prop_final_buckets', 'segment', 'month']"
     ]
    }
   ],
   "source": [
    "col_str=[\"policy_no\", \"renewal_prop_final_buckets\",\"segment\",\"month\"]\n",
    "gscPythonOptions = {\n",
    "\"url\": \"jdbc:postgresql://10.35.12.194:5432/gpadmin\",\n",
    "\"user\": \"gpcustcoe\",\n",
    "\"password\": \"gpcustcoe@123\",\n",
    "\"server.port\": \"1151-1170\",\n",
    "\"dbschema\":\"customermart\",\n",
    "\"dbtable\": \"propensity_score_jan_23_jan_24\"}\n",
    "ps = sqlContext.read.format(\"greenplum\").options(**gscPythonOptions).load()\\\n",
    "         .selectExpr(col_str)\n",
    "ps.columns"
   ]
  },
  {
   "cell_type": "code",
   "execution_count": 47,
   "metadata": {},
   "outputs": [
    {
     "data": {
      "application/vnd.jupyter.widget-view+json": {
       "model_id": "",
       "version_major": 2,
       "version_minor": 0
      },
      "text/plain": [
       "FloatProgress(value=0.0, bar_style='info', description='Progress:', layout=Layout(height='25px', width='50%'),…"
      ]
     },
     "metadata": {},
     "output_type": "display_data"
    }
   ],
   "source": [
    "ps=ps.withColumn('month',to_date(col('month'),'MMM-yy'))"
   ]
  },
  {
   "cell_type": "code",
   "execution_count": 48,
   "metadata": {},
   "outputs": [
    {
     "data": {
      "application/vnd.jupyter.widget-view+json": {
       "model_id": "",
       "version_major": 2,
       "version_minor": 0
      },
      "text/plain": [
       "FloatProgress(value=0.0, bar_style='info', description='Progress:', layout=Layout(height='25px', width='50%'),…"
      ]
     },
     "metadata": {},
     "output_type": "display_data"
    }
   ],
   "source": [
    "from pyspark.sql.window import Window\n",
    "\n",
    "ps = ps.withColumn(\"rn\", F.row_number()\n",
    "        .over(Window.partitionBy('policy_no')\n",
    "        .orderBy(F.col(\"month\").desc())))\n",
    "\n",
    "ps = ps.filter(F.col(\"rn\") == 1).drop(\"rn\")"
   ]
  },
  {
   "cell_type": "code",
   "execution_count": 49,
   "metadata": {},
   "outputs": [
    {
     "data": {
      "application/vnd.jupyter.widget-view+json": {
       "model_id": "",
       "version_major": 2,
       "version_minor": 0
      },
      "text/plain": [
       "FloatProgress(value=0.0, bar_style='info', description='Progress:', layout=Layout(height='25px', width='50%'),…"
      ]
     },
     "metadata": {},
     "output_type": "display_data"
    }
   ],
   "source": [
    "ps=ps.withColumn('renewal_propensity',concat(col('segment'),lit(\"(\"),col(\"renewal_prop_final_buckets\"),lit(\")\")))"
   ]
  },
  {
   "cell_type": "code",
   "execution_count": 50,
   "metadata": {},
   "outputs": [
    {
     "data": {
      "application/vnd.jupyter.widget-view+json": {
       "model_id": "",
       "version_major": 2,
       "version_minor": 0
      },
      "text/plain": [
       "FloatProgress(value=0.0, bar_style='info', description='Progress:', layout=Layout(height='25px', width='50%'),…"
      ]
     },
     "metadata": {},
     "output_type": "display_data"
    }
   ],
   "source": [
    "ps=ps.select('policy_no','renewal_propensity','month')"
   ]
  },
  {
   "cell_type": "code",
   "execution_count": 51,
   "metadata": {},
   "outputs": [
    {
     "data": {
      "application/vnd.jupyter.widget-view+json": {
       "model_id": "",
       "version_major": 2,
       "version_minor": 0
      },
      "text/plain": [
       "FloatProgress(value=0.0, bar_style='info', description='Progress:', layout=Layout(height='25px', width='50%'),…"
      ]
     },
     "metadata": {},
     "output_type": "display_data"
    }
   ],
   "source": [
    "ps=ps.withColumn('policy_no',lpad(trim(col('policy_no')),10,'0'))"
   ]
  },
  {
   "cell_type": "code",
   "execution_count": 52,
   "metadata": {},
   "outputs": [
    {
     "data": {
      "application/vnd.jupyter.widget-view+json": {
       "model_id": "",
       "version_major": 2,
       "version_minor": 0
      },
      "text/plain": [
       "FloatProgress(value=0.0, bar_style='info', description='Progress:', layout=Layout(height='25px', width='50%'),…"
      ]
     },
     "metadata": {},
     "output_type": "display_data"
    }
   ],
   "source": [
    "# ps.persist()\n",
    "# ps.count()"
   ]
  },
  {
   "cell_type": "code",
   "execution_count": 53,
   "metadata": {},
   "outputs": [
    {
     "data": {
      "application/vnd.jupyter.widget-view+json": {
       "model_id": "",
       "version_major": 2,
       "version_minor": 0
      },
      "text/plain": [
       "FloatProgress(value=0.0, bar_style='info', description='Progress:', layout=Layout(height='25px', width='50%'),…"
      ]
     },
     "metadata": {},
     "output_type": "display_data"
    }
   ],
   "source": [
    "mot_hlt=mot_hlt.join(ps, mot_hlt.policy_number==ps.policy_no,\"left_outer\").drop(ps.policy_no)"
   ]
  },
  {
   "cell_type": "code",
   "execution_count": 54,
   "metadata": {},
   "outputs": [
    {
     "data": {
      "application/vnd.jupyter.widget-view+json": {
       "model_id": "",
       "version_major": 2,
       "version_minor": 0
      },
      "text/plain": [
       "FloatProgress(value=0.0, bar_style='info', description='Progress:', layout=Layout(height='25px', width='50%'),…"
      ]
     },
     "metadata": {},
     "output_type": "display_data"
    }
   ],
   "source": [
    "col_str=['dc_unified_id as golden_id','pstincomingcity as city','pstincomingstate as state','pstincomingpin as pincode']\n",
    "gscPythonOptions = {\n",
    "\"url\": \"jdbc:postgresql://10.35.12.194:5432/gpadmin\",\n",
    "\"user\": \"gpcustcoe\",\n",
    "\"password\": \"gpcustcoe@123\",\n",
    "\"server.port\": \"1151-1170\",\n",
    "\"dbschema\": \"public\",\n",
    "\"dbtable\": \"mastercraft_master_prod\"}\n",
    "df_mc = sqlContext.read.format(\"greenplum\").options(**gscPythonOptions).load()\\\n",
    "                    .selectExpr(col_str)\n",
    "\n",
    "\n",
    "df_mc=df_mc.withColumn('city',regexp_replace(col('city'),\"[^a-zA-Z0-9 ]+\",\"\"))\\\n",
    ".withColumn('state',regexp_replace(col('state'),\"[^a-zA-Z0-9 ]+\",\"\"))"
   ]
  },
  {
   "cell_type": "code",
   "execution_count": 55,
   "metadata": {},
   "outputs": [
    {
     "data": {
      "application/vnd.jupyter.widget-view+json": {
       "model_id": "",
       "version_major": 2,
       "version_minor": 0
      },
      "text/plain": [
       "FloatProgress(value=0.0, bar_style='info', description='Progress:', layout=Layout(height='25px', width='50%'),…"
      ]
     },
     "metadata": {},
     "output_type": "display_data"
    }
   ],
   "source": [
    "mot_hlt=mot_hlt.join(df_mc,'golden_id',\"left_outer\")"
   ]
  },
  {
   "cell_type": "code",
   "execution_count": 56,
   "metadata": {},
   "outputs": [
    {
     "data": {
      "application/vnd.jupyter.widget-view+json": {
       "model_id": "",
       "version_major": 2,
       "version_minor": 0
      },
      "text/plain": [
       "FloatProgress(value=0.0, bar_style='info', description='Progress:', layout=Layout(height='25px', width='50%'),…"
      ]
     },
     "metadata": {},
     "output_type": "display_data"
    }
   ],
   "source": [
    "col_str=['reference_num','pa_si','ncb_discount']\n",
    "gscPythonOptions = {\n",
    "\"url\": \"jdbc:postgresql://10.35.12.194:5432/gpadmin\",\n",
    "\"user\": \"gpspark\",\n",
    "\"password\": \"spark@456\",\n",
    "\"server.port\": \"1151-1170\",\n",
    "\"dbschema\": \"public\",\n",
    "\"dbtable\": \"policy_dh_risk_headers_mot\"}\n",
    "df_pa_si = sqlContext.read.format(\"greenplum\").options(**gscPythonOptions).load()\\\n",
    "                    .selectExpr(col_str)"
   ]
  },
  {
   "cell_type": "code",
   "execution_count": 57,
   "metadata": {},
   "outputs": [
    {
     "data": {
      "application/vnd.jupyter.widget-view+json": {
       "model_id": "",
       "version_major": 2,
       "version_minor": 0
      },
      "text/plain": [
       "FloatProgress(value=0.0, bar_style='info', description='Progress:', layout=Layout(height='25px', width='50%'),…"
      ]
     },
     "metadata": {},
     "output_type": "display_data"
    }
   ],
   "source": [
    "mot_hlt=mot_hlt.join(df_pa_si,'reference_num',\"left_outer\")"
   ]
  },
  {
   "cell_type": "code",
   "execution_count": 58,
   "metadata": {},
   "outputs": [
    {
     "data": {
      "application/vnd.jupyter.widget-view+json": {
       "model_id": "",
       "version_major": 2,
       "version_minor": 0
      },
      "text/plain": [
       "FloatProgress(value=0.0, bar_style='info', description='Progress:', layout=Layout(height='25px', width='50%'),…"
      ]
     },
     "metadata": {},
     "output_type": "display_data"
    }
   ],
   "source": [
    "mot_hlt=mot_hlt.withColumn('accidental_deathrider_flag', when(col('accidentaldeathrider').isNotNull(), lit(1)).otherwise(lit(0)))"
   ]
  },
  {
   "cell_type": "code",
   "execution_count": 59,
   "metadata": {},
   "outputs": [
    {
     "data": {
      "application/vnd.jupyter.widget-view+json": {
       "model_id": "",
       "version_major": 2,
       "version_minor": 0
      },
      "text/plain": [
       "FloatProgress(value=0.0, bar_style='info', description='Progress:', layout=Layout(height='25px', width='50%'),…"
      ]
     },
     "metadata": {},
     "output_type": "display_data"
    }
   ],
   "source": [
    "mot_hlt=mot_hlt.withColumn(\"payment_behaviour\",when(upper(col(\"payment_behaviour\")) == 'DA', 'DA DEBIT AUTHORIZATION')\\\n",
    ".when(upper(col(\"payment_behaviour\")) == 'D', 'DEMAND DRAFT')\\\n",
    ".when(upper(col(\"payment_behaviour\")) == 'IR', 'INWARD REMITTANCE')\\\n",
    ".when(upper(col(\"payment_behaviour\")) == 'RT', 'RTGS/NEFT')\\\n",
    ".when(upper(col(\"payment_behaviour\")) == 'C', 'CHEQUE')\\\n",
    ".when(upper(col(\"payment_behaviour\")) == 'S', 'CASH')\\\n",
    ".when(upper(col(\"payment_behaviour\")) == 'CA', 'DEBIT/CREDIT CARD')\\\n",
    ".otherwise(upper(col(\"payment_behaviour\"))))"
   ]
  },
  {
   "cell_type": "code",
   "execution_count": 60,
   "metadata": {},
   "outputs": [
    {
     "data": {
      "application/vnd.jupyter.widget-view+json": {
       "model_id": "",
       "version_major": 2,
       "version_minor": 0
      },
      "text/plain": [
       "FloatProgress(value=0.0, bar_style='info', description='Progress:', layout=Layout(height='25px', width='50%'),…"
      ]
     },
     "metadata": {},
     "output_type": "display_data"
    }
   ],
   "source": [
    "lst_cancelled=['ACDC',\n",
    "'ACDE',\n",
    "'APC',\n",
    "'APCP',\n",
    "'APD',\n",
    "'APRI',\n",
    "'APU',\n",
    "'DCC',\n",
    "'ECDU',\n",
    "'ECN',\n",
    "'ECR',\n",
    "'EPCE',\n",
    "'ERFC',\n",
    "'NCN',\n",
    "'RCN']"
   ]
  },
  {
   "cell_type": "code",
   "execution_count": 61,
   "metadata": {},
   "outputs": [
    {
     "data": {
      "application/vnd.jupyter.widget-view+json": {
       "model_id": "",
       "version_major": 2,
       "version_minor": 0
      },
      "text/plain": [
       "FloatProgress(value=0.0, bar_style='info', description='Progress:', layout=Layout(height='25px', width='50%'),…"
      ]
     },
     "metadata": {},
     "output_type": "display_data"
    }
   ],
   "source": [
    "mot_hlt=mot_hlt.withColumn('record_type_desc', when((col('status').isin(lst_cancelled)),lit('CANCELLATION'))\\\n",
    "                           .otherwise(col('record_type_desc')))"
   ]
  },
  {
   "cell_type": "code",
   "execution_count": 62,
   "metadata": {},
   "outputs": [
    {
     "data": {
      "application/vnd.jupyter.widget-view+json": {
       "model_id": "",
       "version_major": 2,
       "version_minor": 0
      },
      "text/plain": [
       "FloatProgress(value=0.0, bar_style='info', description='Progress:', layout=Layout(height='25px', width='50%'),…"
      ]
     },
     "metadata": {},
     "output_type": "display_data"
    }
   ],
   "source": [
    "mot_hlt=mot_hlt.withColumn('policy_cnt', when(col('record_type_desc').isin('CANCELLATION'),lit(0))\\\n",
    "                                         .when(col('record_type_desc').isin('NEW BUSINESS'),lit(1))\\\n",
    "                                         .when(col('record_type_desc').isin('RENEWAL BUSINESS'),lit(1))\\\n",
    "                                         .when(col('record_type_desc').isin('ENDORSEMENT'),lit(1))\\\n",
    "                           .otherwise(lit(1)))"
   ]
  },
  {
   "cell_type": "code",
   "execution_count": 63,
   "metadata": {},
   "outputs": [
    {
     "data": {
      "application/vnd.jupyter.widget-view+json": {
       "model_id": "",
       "version_major": 2,
       "version_minor": 0
      },
      "text/plain": [
       "FloatProgress(value=0.0, bar_style='info', description='Progress:', layout=Layout(height='25px', width='50%'),…"
      ]
     },
     "metadata": {},
     "output_type": "display_data"
    }
   ],
   "source": [
    "mot_hlt=mot_hlt.withColumn('sum_insured', when(col('record_type_desc').isin('CANCELLATION'),lit(0))\\\n",
    "                           .otherwise(col('sum_insured')))\\\n",
    ".withColumn('premiumamount', when(col('record_type_desc').isin('CANCELLATION'),lit(0))\\\n",
    "                           .otherwise(col('premiumamount')))\\\n",
    ".withColumn('total_premium', when(col('record_type_desc').isin('CANCELLATION'),lit(0))\\\n",
    "                           .otherwise(col('premiumamount')))"
   ]
  },
  {
   "cell_type": "code",
   "execution_count": 64,
   "metadata": {},
   "outputs": [
    {
     "data": {
      "application/vnd.jupyter.widget-view+json": {
       "model_id": "",
       "version_major": 2,
       "version_minor": 0
      },
      "text/plain": [
       "FloatProgress(value=0.0, bar_style='info', description='Progress:', layout=Layout(height='25px', width='50%'),…"
      ]
     },
     "metadata": {},
     "output_type": "display_data"
    }
   ],
   "source": [
    "\n",
    "mot_hlt = mot_hlt.withColumn('sum_insured_bucket', when((col('sum_insured') <=500000), lit('Upto 5 lacs'))\\\n",
    "                             .when((col('sum_insured') >500000) & (col('sum_insured') <=700000), lit('5 - 7 lacs'))\\\n",
    "                             .when((col('sum_insured') >700000) & (col('sum_insured') <=1000000), lit( '7 - 10 lacs'))\\\n",
    "                             .when((col('sum_insured') >1000000) & (col('sum_insured') <=1500000), lit('10 -15 lacs'))\\\n",
    "                             .when((col('sum_insured') >1500000) & (col('sum_insured') <=2000000), lit('15 - 20 lacs'))\\\n",
    "                             .when((col('sum_insured') >2000000) & (col('sum_insured') <=3000000), lit('20 - 30 lacs'))\\\n",
    "                             .when((col('sum_insured') >3000000) & (col('sum_insured') <=4000000), lit('30 - 40 lacs'))\\\n",
    "                             .when((col('sum_insured') >4000000) & (col('sum_insured') <=6000000), lit('40 - 60 lacs'))\\\n",
    "                             .when((col('sum_insured') >6000000) & (col('sum_insured') <=8000000), lit('60 - 80 lacs'))\\\n",
    "                             .when((col('sum_insured') >8000000) & (col('sum_insured') <=10000000), lit('80 lacs to 1 cr'))\\\n",
    "                             .when((col('sum_insured') >=10000000), lit('Above 1 cr'))\\\n",
    "                                .otherwise(lit(None)))\\\n",
    ".withColumn('ncb_discount_bucket', when(col('ncb_percent').between(1, 10), lit('1-10 percent'))\\\n",
    "                   .when(col('ncb_percent').between(11, 25), lit('11-25 percent'))\\\n",
    "                   .when(col('ncb_percent').between(26, 50), lit('26-50 percent'))\\\n",
    "                   .when(col('ncb_percent').between(51, 75), lit('51-75 percent'))\\\n",
    "                   .when(col('ncb_percent')>75,lit('>75'))\n",
    "                   .otherwise(lit(None)))\\\n",
    ".withColumn('exshowroomprice_bucket', when((col('exshowroomprice') <=500000), lit('Upto 5 lacs'))\\\n",
    "                             .when((col('exshowroomprice') >500000) & (col('exshowroomprice') <= 700000), lit('5 - 7 lacs'))\\\n",
    "                             .when((col('exshowroomprice') >700000) & (col('exshowroomprice') <= 1000000), lit( '7 - 10 lacs'))\\\n",
    "                             .when((col('exshowroomprice') >1000000) & (col('exshowroomprice') <=1500000), lit('10 -15 lacs'))\\\n",
    "                             .when((col('exshowroomprice') >1500000) & (col('exshowroomprice') <=2000000), lit('15 - 20 lacs'))\\\n",
    "                             .when((col('exshowroomprice') >2000000) & (col('exshowroomprice') <=3000000), lit('20 - 30 lacs'))\\\n",
    "                             .when((col('exshowroomprice') >3000000) & (col('exshowroomprice') <=4000000), lit('30 - 40 lacs'))\\\n",
    "                             .when((col('exshowroomprice') >4000000) & (col('exshowroomprice') <=6000000), lit('40 - 60 lacs'))\\\n",
    "                             .when((col('exshowroomprice') >6000000) & (col('exshowroomprice') <=8000000), lit('60 - 80 lacs'))\\\n",
    "                             .when((col('exshowroomprice') >8000000) & (col('exshowroomprice') <=10000000), lit('80 lacs to 1 cr'))\\\n",
    "                             .when((col('exshowroomprice') >10000000), lit('Above 1 cr'))\\\n",
    "                              .otherwise(lit(None)))\\\n",
    ".withColumn('times_renewed_cnt_bucket', when((col('times_renewed_cnt') >=0) & (col('times_renewed_cnt') <=3), lit('0 - 3 years'))\\\n",
    "                             .when((col('times_renewed_cnt') >=4) & (col('times_renewed_cnt') <=5), lit('4 - 5 years'))\\\n",
    "                             .when((col('times_renewed_cnt') >5) & (col('times_renewed_cnt') <=7), lit('6 - 7 years'))\\\n",
    "                             .when((col('times_renewed_cnt') >7) & (col('times_renewed_cnt') <=10), lit('8 - 10 years'))\\\n",
    "                             .when((col('times_renewed_cnt') >10) & (col('times_renewed_cnt') <=15), lit('11 - 15 years'))\\\n",
    "                             .when(col('times_renewed_cnt') > 15, lit('Above 15 years'))\\\n",
    "                            .otherwise(lit(None)))\\\n",
    ".withColumn('premiumamount_bucket', when((col('premiumamount') <=8000), lit('Upto 8k'))\\\n",
    "                             .when((col('premiumamount') >8000) & (col('premiumamount') <=700000), lit('8k- 7 lacs'))\\\n",
    "                             .when((col('premiumamount') >700000) & (col('premiumamount') <=1000000), lit( '7 - 10 lacs'))\\\n",
    "                             .when((col('premiumamount') >1000000) & (col('premiumamount') <=1500000), lit('10 -15 lacs'))\\\n",
    "                             .when((col('premiumamount') >1500000) & (col('premiumamount') <=2000000), lit('15 - 20 lacs'))\\\n",
    "                             .when((col('premiumamount') >2000000) & (col('premiumamount') <=3000000), lit('20 - 30 lacs'))\\\n",
    "                             .when((col('premiumamount') >3000000) & (col('premiumamount') <=4000000), lit('30 - 40 lacs'))\\\n",
    "                             .when((col('premiumamount') >4000000) & (col('premiumamount') <=6000000), lit('40 - 60 lacs'))\\\n",
    "                             .when((col('premiumamount') >6000000) & (col('premiumamount') <=8000000), lit('60 - 80 lacs'))\\\n",
    "                             .when((col('premiumamount') >8000000) & (col('premiumamount') <=10000000), lit('80 lacs to 1 cr'))\\\n",
    "                             .when((col('premiumamount') >=10000000) , lit('Above 1 cr'))\\\n",
    "                             .otherwise(lit(None)))\\\n",
    ".withColumn('total_premium_bucket', when((col('total_premium') <=8000), lit('Upto 8k'))\\\n",
    "                             .when((col('total_premium') >8000) & (col('total_premium') <=700000), lit('8K - 7 lacs'))\\\n",
    "                             .when((col('total_premium') >700000) & (col('total_premium') <=1000000), lit( '7 - 10 lacs'))\\\n",
    "                             .when((col('total_premium') >1000000) & (col('total_premium') <=1500000), lit('10 -15 lacs'))\\\n",
    "                             .when((col('total_premium') >1500000) & (col('total_premium') <=2000000), lit('15 - 20 lacs'))\\\n",
    "                             .when((col('total_premium') >2000000) & (col('total_premium') <=3000000), lit('20 - 30 lacs'))\\\n",
    "                             .when((col('total_premium') >3000000) & (col('total_premium') <=4000000), lit('30 - 40 lacs'))\\\n",
    "                             .when((col('total_premium') >4000000) & (col('total_premium') <=6000000), lit('40 - 60 lacs'))\\\n",
    "                             .when((col('total_premium') >6000000) & (col('total_premium') <=8000000), lit('60 - 80 lacs'))\\\n",
    "                             .when((col('total_premium') >8000000) & (col('total_premium') <=10000000), lit('80 lacs to 1 cr'))\\\n",
    "                             .when((col('total_premium') >=10000000), lit('Above 1 cr'))\n",
    "                                .otherwise(lit(None)))\\\n",
    ".withColumn('age_bucket', when((col('age') >=0) & (col('age') <=18), lit('0 - 18 years'))\\\n",
    "                             .when((col('age') >=19) & (col('age') <=25), lit('19 - 25 years'))\\\n",
    "                             .when((col('age') >=26) & (col('age') <=35), lit('26 - 35 years'))\\\n",
    "                             .when((col('age') >=36) & (col('age') <=45), lit('36 - 45 years'))\\\n",
    "                             .when((col('age') >=46) & (col('age') <=50), lit('46 - 50 years'))\\\n",
    "                             .when((col('age') >=51) & (col('age') <=55), lit('51 - 55 years'))\\\n",
    "                             .when((col('age') >=56) & (col('age') <=60), lit('56 - 60 years'))\\\n",
    "                             .when((col('age') >=61) & (col('age') <=65), lit('61 - 65 years'))\\\n",
    "                             .when((col('age') >=66) & (col('age') <=70), lit('66 - 70 years'))\\\n",
    "                             .when(col('age') > 75, lit('75+ years')).otherwise(lit(None)))\\\n",
    ".withColumn('uw_discount_bucket', when((col('uw_discount') >=0) & (col('uw_discount') <=30), lit('0-30'))\\\n",
    "                             .when((col('uw_discount') >=31) & (col('uw_discount') <=45), lit('31-45'))\\\n",
    "                             .when((col('uw_discount') >45) & (col('uw_discount') <=55), lit('46-55'))\\\n",
    "                             .when((col('uw_discount') >55) & (col('uw_discount') <=60), lit('56-60'))\\\n",
    "                             .when((col('uw_discount') >60) & (col('uw_discount') <=65), lit('61-65'))\\\n",
    "                             .when((col('uw_discount') >65) & (col('uw_discount') <=70), lit('66-70'))\\\n",
    "                             .when((col('uw_discount') >70)& (col('uw_discount') <=75), lit('71-75'))\\\n",
    "                             .when((col('uw_discount') >75) & (col('uw_discount') <=80), lit('76-80'))\\\n",
    "                             .when(col('uw_discount') >80, lit('Above 80')).otherwise(lit(None)))\\\n",
    ".withColumn('ncb_flag', when(col('ncb_percent')>0, lit('1')).otherwise(lit('0')))\\\n",
    ".withColumn('ncb_discount',col('ncb_percent'))\n"
   ]
  },
  {
   "cell_type": "code",
   "execution_count": 65,
   "metadata": {},
   "outputs": [
    {
     "data": {
      "application/vnd.jupyter.widget-view+json": {
       "model_id": "",
       "version_major": 2,
       "version_minor": 0
      },
      "text/plain": [
       "FloatProgress(value=0.0, bar_style='info', description='Progress:', layout=Layout(height='25px', width='50%'),…"
      ]
     },
     "metadata": {},
     "output_type": "display_data"
    }
   ],
   "source": [
    "\n",
    "mot_hlt = mot_hlt.withColumn('sum_insured_bucket_enum', when((col('sum_insured') <=500000), lit(1))\\\n",
    "                             .when((col('sum_insured') >500000) & (col('sum_insured') <=700000), lit(2))\\\n",
    "                             .when((col('sum_insured') >700000) & (col('sum_insured') <=1000000), lit(3))\\\n",
    "                             .when((col('sum_insured') >1000000) & (col('sum_insured') <=1500000), lit(4))\\\n",
    "                             .when((col('sum_insured') >1500000) & (col('sum_insured') <=2000000), lit(5))\\\n",
    "                             .when((col('sum_insured') >2000000) & (col('sum_insured') <=3000000), lit(6))\\\n",
    "                             .when((col('sum_insured') >3000000) & (col('sum_insured') <=4000000), lit(7))\\\n",
    "                             .when((col('sum_insured') >4000000) & (col('sum_insured') <=6000000), lit(8))\\\n",
    "                             .when((col('sum_insured') >6000000) & (col('sum_insured') <=8000000), lit(9))\\\n",
    "                             .when((col('sum_insured') >8000000) & (col('sum_insured') <=10000000), lit(10))\\\n",
    "                             .when((col('sum_insured') >=10000000), lit(11))\\\n",
    "                                .otherwise(lit(11)))\\\n",
    ".withColumn('ncb_discount_bucket_enum', when(col('ncb_percent').between(1, 10), lit(1))\\\n",
    "                   .when(col('ncb_percent').between(11, 25), lit(2))\\\n",
    "                   .when(col('ncb_percent').between(26, 50), lit(3))\\\n",
    "                   .when(col('ncb_percent').between(51, 75), lit(4))\\\n",
    "                   .when(col('ncb_percent')>75,lit(5))\n",
    "                   .otherwise(lit(6)))\\\n",
    ".withColumn('exshowroomprice_bucket_enum', when((col('exshowroomprice') <=500000), lit(1))\\\n",
    "                             .when((col('exshowroomprice') >500000) & (col('exshowroomprice') <= 700000), lit(2))\\\n",
    "                             .when((col('exshowroomprice') >700000) & (col('exshowroomprice') <= 1000000), lit(3))\\\n",
    "                             .when((col('exshowroomprice') >1000000) & (col('exshowroomprice') <=1500000), lit(4))\\\n",
    "                             .when((col('exshowroomprice') >1500000) & (col('exshowroomprice') <=2000000), lit(5))\\\n",
    "                             .when((col('exshowroomprice') >2000000) & (col('exshowroomprice') <=3000000), lit(6))\\\n",
    "                             .when((col('exshowroomprice') >3000000) & (col('exshowroomprice') <=4000000), lit(7))\\\n",
    "                             .when((col('exshowroomprice') >4000000) & (col('exshowroomprice') <=6000000), lit(8))\\\n",
    "                             .when((col('exshowroomprice') >6000000) & (col('exshowroomprice') <=8000000), lit(9))\\\n",
    "                             .when((col('exshowroomprice') >8000000) & (col('exshowroomprice') <=10000000), lit(10))\\\n",
    "                             .when((col('exshowroomprice') >10000000), lit(11))\\\n",
    "                              .otherwise(lit(12)))\\\n",
    ".withColumn('times_renewed_cnt_bucket_enum', when((col('times_renewed_cnt') >=0) & (col('times_renewed_cnt') <=3), lit(1))\\\n",
    "                             .when((col('times_renewed_cnt') >=4) & (col('times_renewed_cnt') <=5), lit(2))\\\n",
    "                             .when((col('times_renewed_cnt') >5) & (col('times_renewed_cnt') <=7), lit(3))\\\n",
    "                             .when((col('times_renewed_cnt') >7) & (col('times_renewed_cnt') <=10), lit(4))\\\n",
    "                             .when((col('times_renewed_cnt') >10) & (col('times_renewed_cnt') <=15), lit(5))\\\n",
    "                             .when(col('times_renewed_cnt') > 15, lit(6))\\\n",
    "                            .otherwise(lit(7)))\\\n",
    ".withColumn('premiumamount_bucket_enum', when((col('premiumamount') <=8000), lit(1))\\\n",
    "                             .when((col('premiumamount') >8000) & (col('premiumamount') <=700000), lit(2))\\\n",
    "                             .when((col('premiumamount') >700000) & (col('premiumamount') <=1000000), lit(3))\\\n",
    "                             .when((col('premiumamount') >1000000) & (col('premiumamount') <=1500000), lit(4))\\\n",
    "                             .when((col('premiumamount') >1500000) & (col('premiumamount') <=2000000), lit(5))\\\n",
    "                             .when((col('premiumamount') >2000000) & (col('premiumamount') <=3000000), lit(6))\\\n",
    "                             .when((col('premiumamount') >3000000) & (col('premiumamount') <=4000000), lit(7))\\\n",
    "                             .when((col('premiumamount') >4000000) & (col('premiumamount') <=6000000), lit(8))\\\n",
    "                             .when((col('premiumamount') >6000000) & (col('premiumamount') <=8000000), lit(9))\\\n",
    "                             .when((col('premiumamount') >8000000) & (col('premiumamount') <=10000000), lit(10))\\\n",
    "                             .when((col('premiumamount') >=10000000) , lit(11))\\\n",
    "                             .otherwise(lit(12)))\\\n",
    ".withColumn('total_premium_bucket_enum', when((col('total_premium') <=8000), lit(1))\\\n",
    "                             .when((col('total_premium') >8000) & (col('total_premium') <=700000), lit(2))\\\n",
    "                             .when((col('total_premium') >700000) & (col('total_premium') <=1000000), lit(3))\\\n",
    "                             .when((col('total_premium') >1000000) & (col('total_premium') <=1500000), lit(4))\\\n",
    "                             .when((col('total_premium') >1500000) & (col('total_premium') <=2000000), lit(5))\\\n",
    "                             .when((col('total_premium') >2000000) & (col('total_premium') <=3000000), lit(6))\\\n",
    "                             .when((col('total_premium') >3000000) & (col('total_premium') <=4000000), lit(7))\\\n",
    "                             .when((col('total_premium') >4000000) & (col('total_premium') <=6000000), lit(8))\\\n",
    "                             .when((col('total_premium') >6000000) & (col('total_premium') <=8000000), lit(9))\\\n",
    "                             .when((col('total_premium') >8000000) & (col('total_premium') <=10000000), lit(10))\\\n",
    "                             .when((col('total_premium') >=10000000), lit(11))\n",
    "                                .otherwise(lit(12)))\\\n",
    ".withColumn('age_bucket_enum', when((col('age') >=0) & (col('age') <=18), lit(1))\\\n",
    "                             .when((col('age') >=19) & (col('age') <=25), lit(2))\\\n",
    "                             .when((col('age') >=26) & (col('age') <=35), lit(3))\\\n",
    "                             .when((col('age') >=36) & (col('age') <=45), lit(4))\\\n",
    "                             .when((col('age') >=46) & (col('age') <=50), lit(5))\\\n",
    "                             .when((col('age') >=51) & (col('age') <=55), lit(6))\\\n",
    "                             .when((col('age') >=56) & (col('age') <=60), lit(7))\\\n",
    "                             .when((col('age') >=61) & (col('age') <=65), lit(8))\\\n",
    "                             .when((col('age') >=66) & (col('age') <=70), lit(9))\\\n",
    "                             .when(col('age') > 75, lit(10)).otherwise(lit(11)))\n"
   ]
  },
  {
   "cell_type": "code",
   "execution_count": 66,
   "metadata": {},
   "outputs": [
    {
     "data": {
      "application/vnd.jupyter.widget-view+json": {
       "model_id": "",
       "version_major": 2,
       "version_minor": 0
      },
      "text/plain": [
       "FloatProgress(value=0.0, bar_style='info', description='Progress:', layout=Layout(height='25px', width='50%'),…"
      ]
     },
     "metadata": {},
     "output_type": "display_data"
    }
   ],
   "source": [
    "mot_hlt=mot_hlt.withColumnRenamed('policy_number','policy_no').withColumnRenamed('reference_num','proposal_no')\\\n",
    ".withColumnRenamed('source_system_customer_id','customer_id')\\\n",
    ".withColumnRenamed('channel','sub_channel')\\\n",
    ".withColumnRenamed('commit_timestamp','binddate')\n",
    "\n",
    "mot_hlt=mot_hlt.withColumn('policy_expiry_month',date_format(col('pol_exp_date'),'MMM-yyyy'))\\\n",
    ".withColumn('policy_inception_month',date_format(col('pol_incept_date'),'MMM-yyyy'))\\\n",
    ".withColumn('claimant_policy_flag',when(col('claim_cnt') >0, lit(1)).otherwise(lit(0)))"
   ]
  },
  {
   "cell_type": "code",
   "execution_count": 67,
   "metadata": {},
   "outputs": [
    {
     "data": {
      "application/vnd.jupyter.widget-view+json": {
       "model_id": "",
       "version_major": 2,
       "version_minor": 0
      },
      "text/plain": [
       "FloatProgress(value=0.0, bar_style='info', description='Progress:', layout=Layout(height='25px', width='50%'),…"
      ]
     },
     "metadata": {},
     "output_type": "display_data"
    }
   ],
   "source": [
    "from pyspark.sql.window import Window\n",
    "\n",
    "mot_hlt = mot_hlt.withColumn(\"rn\", F.row_number()\n",
    "        .over(Window.partitionBy('source_system_name', 'policy_no', 'certificate_no','pol_incept_date', 'pol_exp_date')\n",
    "        .orderBy(F.col(\"binddate\").desc(),F.col(\"proposal_no\").desc())))\n",
    "\n",
    "mot_hlt = mot_hlt.filter(F.col(\"rn\") == 1).drop(\"rn\")"
   ]
  },
  {
   "cell_type": "code",
   "execution_count": 68,
   "metadata": {},
   "outputs": [
    {
     "data": {
      "application/vnd.jupyter.widget-view+json": {
       "model_id": "",
       "version_major": 2,
       "version_minor": 0
      },
      "text/plain": [
       "FloatProgress(value=0.0, bar_style='info', description='Progress:', layout=Layout(height='25px', width='50%'),…"
      ]
     },
     "metadata": {},
     "output_type": "display_data"
    }
   ],
   "source": [
    "mot_hlt=mot_hlt.withColumnRenamed('channel_new_2','channel')"
   ]
  },
  {
   "cell_type": "code",
   "execution_count": 69,
   "metadata": {},
   "outputs": [
    {
     "data": {
      "application/vnd.jupyter.widget-view+json": {
       "model_id": "",
       "version_major": 2,
       "version_minor": 0
      },
      "text/plain": [
       "FloatProgress(value=0.0, bar_style='info', description='Progress:', layout=Layout(height='25px', width='50%'),…"
      ]
     },
     "metadata": {},
     "output_type": "display_data"
    },
    {
     "name": "stdout",
     "output_type": "stream",
     "text": [
      "['proposal_no', 'golden_id', 'customer_id', 'policy_no', 'certificate_no', 'pol_incept_date', 'pol_exp_date', 'source_system_name', 'sum_insured', 'premiumamount', 'total_premium', 'product_name', 'sub_channel', 'channel', 'lob', 'record_type_desc', 'record_type_cd', 'report_accounting_period', 'binddate', 'renl_cert_no', 'times_renewed_cnt', 'product_cd', 'product_cd_new', 'producer_cd', 'producername', 'producer_type', 'policy_counter', 'veh_model', 'veh_age', 'veh_make', 'veh_body', 'veh_engine_no', 'veh_chassis_no', 'no_claim_bonus', 'policy_type', 'fuel_type', 'uw_discount', 'uw_loading', 'business_type', 'txt_business_type', 'no_of_lives', 'veh_no', 'segment_type', 'policy_variant', 'mfg_year', 'ncb_percent', 'discount', 'major_line_cd', 'minor_line_cd', 'main_lob', 'pol_status_cd', 'group_category', 'min_pol_incept_date', 'plan_type', 'break_in_insurance_flag', 'break_in_insurance_days', 'exshowroomprice', 'irda_product_uin', 'txt_active_flag', 'status', 'txt_intermediary_cd', 'txt_status', 'accidentaldeathrider', 'rider_applicable', 'coverage_opted', 'age_building', 'personal_accident', 'public_lia', 'trip_type', 'trv_limit', 'purpose_of_trip', 'dep_date', 'return_date', 'travel_duration', 'destination_country', 'trip', 'lta_zone', 'information280', 'ped_declared_indicator', 'portability_required', 'deductible_amount', 'cumulative_bonus_earned', 'orphan_policy_indicator', 'orphan_policy_date', 'policy_term', 'ncb_flag', 'portability_indicator', 'renewed_in_grace_period', 'display_product_cd', 'insert_date', 'claim_gross', 'claim_cnt', 'max_policy_end_date', 'customer_vintage', 'communication_type', 'value', 'mobile_contactibility', 'email_contactibility', 'birth_date', 'gender', 'marital_status', 'tobacco_use_indicator', 'alcohol_use_indicator', 'customer_type', 'tobacco_use_indicator_flag', 'alcohol_use_indicator_flag', 'age', 'senior_citizen', 'service_level', 'payment_behaviour', 'hni_flag', 'is_hni', 'dependent_child', 'dependent_parents', 'cross_sell_eligible_cust', 'renewal_propensity', 'month', 'city', 'state', 'pincode', 'pa_si', 'ncb_discount', 'accidental_deathrider_flag', 'policy_cnt', 'sum_insured_bucket', 'ncb_discount_bucket', 'exshowroomprice_bucket', 'times_renewed_cnt_bucket', 'premiumamount_bucket', 'total_premium_bucket', 'age_bucket', 'uw_discount_bucket', 'sum_insured_bucket_enum', 'ncb_discount_bucket_enum', 'exshowroomprice_bucket_enum', 'times_renewed_cnt_bucket_enum', 'premiumamount_bucket_enum', 'total_premium_bucket_enum', 'age_bucket_enum', 'policy_expiry_month', 'policy_inception_month', 'claimant_policy_flag']"
     ]
    }
   ],
   "source": [
    "mot_hlt.columns"
   ]
  },
  {
   "cell_type": "code",
   "execution_count": 70,
   "metadata": {
    "scrolled": true
   },
   "outputs": [
    {
     "data": {
      "application/vnd.jupyter.widget-view+json": {
       "model_id": "",
       "version_major": 2,
       "version_minor": 0
      },
      "text/plain": [
       "FloatProgress(value=0.0, bar_style='info', description='Progress:', layout=Layout(height='25px', width='50%'),…"
      ]
     },
     "metadata": {},
     "output_type": "display_data"
    }
   ],
   "source": [
    "mot_hlt=mot_hlt.withColumn('marital_status',when((col('marital_status').isin('Unknown','1951','--SELECT--','UNKNOWN','-'))|(col('marital_status').isNull()),lit('NA'))\n",
    "                          .when(col('marital_status').isin('TRUE','Married','\"MARRIED \"','M'),lit('Married'))\\\n",
    "                          .when(col('marital_status').isin('Single','0','S','SINGLE'),lit('Unmarried'))\n",
    "                          .when(col('marital_status').isin('WIDOWED','W'),lit('Widow'))\n",
    "                          .when(lower(trim(col(\"marital_status\"))).rlike(\"\\\\s\"),lit('Married'))\\\n",
    "                           .otherwise(col('marital_status'))).withColumn('marital_status',upper(col('marital_status')))"
   ]
  },
  {
   "cell_type": "code",
   "execution_count": 71,
   "metadata": {},
   "outputs": [
    {
     "data": {
      "application/vnd.jupyter.widget-view+json": {
       "model_id": "",
       "version_major": 2,
       "version_minor": 0
      },
      "text/plain": [
       "FloatProgress(value=0.0, bar_style='info', description='Progress:', layout=Layout(height='25px', width='50%'),…"
      ]
     },
     "metadata": {},
     "output_type": "display_data"
    }
   ],
   "source": [
    "mot_hlt=mot_hlt.withColumn('veh_make',when(col('veh_make').isin('{CODE=1162, NAME=BAJAJ}'),lit('BAJAJ'))\n",
    ".when(col('veh_make').isin('{CODE=1179, NAME=HERO}'),lit('HERO'))\n",
    ".when(col('veh_make').isin('{CODE=1181, NAME=HERO HONDA}'),lit('HERO HONDA'))\n",
    ".when(col('veh_make').isin('{CODE=1182, NAME=HERO MOTOCORP}'),lit('HERO MOTOCORP'))\n",
    ".when(col('veh_make').isin('{CODE=1183, NAME=HONDA}'),lit('HONDA'))\n",
    ".when(col('veh_make').isin('{CODE=1188, NAME=KEEWAY}'),lit('KEEWAY'))\n",
    ".when(col('veh_make').isin('{CODE=1207, NAME=TVS}'),lit('TVS'))\n",
    ".when(col('veh_make').isin('{CODE=1202, NAME=SUZUKI}'),lit('SUZUKI'))\n",
    ".when(col('veh_make').isin('{CODE=1212, NAME=YAMAHA}'),lit('YAMAHA')).otherwise(col('veh_make')))"
   ]
  },
  {
   "cell_type": "code",
   "execution_count": 72,
   "metadata": {},
   "outputs": [
    {
     "data": {
      "application/vnd.jupyter.widget-view+json": {
       "model_id": "",
       "version_major": 2,
       "version_minor": 0
      },
      "text/plain": [
       "FloatProgress(value=0.0, bar_style='info', description='Progress:', layout=Layout(height='25px', width='50%'),…"
      ]
     },
     "metadata": {},
     "output_type": "display_data"
    }
   ],
   "source": [
    "mot_hlt=mot_hlt.withColumn('lob',when(col('lob').isin('Pvt Car'),lit('MOTOR-PC'))\n",
    ".when(col('lob').isin('2W'),lit('MOTOR-TW'))\n",
    ".when(col('lob').isin('Health Benefit','Mediseries','Covid Health'),lit('HEALTH-Retail')).otherwise(col('lob')))"
   ]
  },
  {
   "cell_type": "code",
   "execution_count": 73,
   "metadata": {},
   "outputs": [
    {
     "data": {
      "application/vnd.jupyter.widget-view+json": {
       "model_id": "",
       "version_major": 2,
       "version_minor": 0
      },
      "text/plain": [
       "FloatProgress(value=0.0, bar_style='info', description='Progress:', layout=Layout(height='25px', width='50%'),…"
      ]
     },
     "metadata": {},
     "output_type": "display_data"
    },
    {
     "name": "stdout",
     "output_type": "stream",
     "text": [
      "35799659"
     ]
    }
   ],
   "source": [
    "mot_hlt.persist(pyspark.StorageLevel.MEMORY_AND_DISK)\n",
    "records=mot_hlt.count()\n",
    "records"
   ]
  },
  {
   "cell_type": "code",
   "execution_count": 74,
   "metadata": {},
   "outputs": [
    {
     "data": {
      "application/vnd.jupyter.widget-view+json": {
       "model_id": "",
       "version_major": 2,
       "version_minor": 0
      },
      "text/plain": [
       "FloatProgress(value=0.0, bar_style='info', description='Progress:', layout=Layout(height='25px', width='50%'),…"
      ]
     },
     "metadata": {},
     "output_type": "display_data"
    },
    {
     "name": "stdout",
     "output_type": "stream",
     "text": [
      "['proposal_no', 'golden_id', 'customer_id', 'policy_no', 'certificate_no', 'pol_incept_date', 'pol_exp_date', 'source_system_name', 'sum_insured', 'premiumamount', 'total_premium', 'product_name', 'sub_channel', 'channel', 'lob', 'record_type_desc', 'record_type_cd', 'report_accounting_period', 'binddate', 'renl_cert_no', 'times_renewed_cnt', 'product_cd', 'product_cd_new', 'producer_cd', 'producername', 'producer_type', 'policy_counter', 'veh_model', 'veh_age', 'veh_make', 'veh_body', 'veh_engine_no', 'veh_chassis_no', 'no_claim_bonus', 'policy_type', 'fuel_type', 'uw_discount', 'uw_loading', 'business_type', 'txt_business_type', 'no_of_lives', 'veh_no', 'segment_type', 'policy_variant', 'mfg_year', 'ncb_percent', 'discount', 'major_line_cd', 'minor_line_cd', 'main_lob', 'pol_status_cd', 'group_category', 'min_pol_incept_date', 'plan_type', 'break_in_insurance_flag', 'break_in_insurance_days', 'exshowroomprice', 'irda_product_uin', 'txt_active_flag', 'status', 'txt_intermediary_cd', 'txt_status', 'accidentaldeathrider', 'rider_applicable', 'coverage_opted', 'age_building', 'personal_accident', 'public_lia', 'trip_type', 'trv_limit', 'purpose_of_trip', 'dep_date', 'return_date', 'travel_duration', 'destination_country', 'trip', 'lta_zone', 'information280', 'ped_declared_indicator', 'portability_required', 'deductible_amount', 'cumulative_bonus_earned', 'orphan_policy_indicator', 'orphan_policy_date', 'policy_term', 'ncb_flag', 'portability_indicator', 'renewed_in_grace_period', 'display_product_cd', 'insert_date', 'claim_gross', 'claim_cnt', 'max_policy_end_date', 'customer_vintage', 'communication_type', 'value', 'mobile_contactibility', 'email_contactibility', 'birth_date', 'gender', 'marital_status', 'tobacco_use_indicator', 'alcohol_use_indicator', 'customer_type', 'tobacco_use_indicator_flag', 'alcohol_use_indicator_flag', 'age', 'senior_citizen', 'service_level', 'payment_behaviour', 'hni_flag', 'is_hni', 'dependent_child', 'dependent_parents', 'cross_sell_eligible_cust', 'renewal_propensity', 'month', 'city', 'state', 'pincode', 'pa_si', 'ncb_discount', 'accidental_deathrider_flag', 'policy_cnt', 'sum_insured_bucket', 'ncb_discount_bucket', 'exshowroomprice_bucket', 'times_renewed_cnt_bucket', 'premiumamount_bucket', 'total_premium_bucket', 'age_bucket', 'uw_discount_bucket', 'sum_insured_bucket_enum', 'ncb_discount_bucket_enum', 'exshowroomprice_bucket_enum', 'times_renewed_cnt_bucket_enum', 'premiumamount_bucket_enum', 'total_premium_bucket_enum', 'age_bucket_enum', 'policy_expiry_month', 'policy_inception_month', 'claimant_policy_flag']"
     ]
    }
   ],
   "source": [
    "mot_hlt.columns"
   ]
  },
  {
   "cell_type": "code",
   "execution_count": 75,
   "metadata": {},
   "outputs": [
    {
     "data": {
      "application/vnd.jupyter.widget-view+json": {
       "model_id": "",
       "version_major": 2,
       "version_minor": 0
      },
      "text/plain": [
       "FloatProgress(value=0.0, bar_style='info', description='Progress:', layout=Layout(height='25px', width='50%'),…"
      ]
     },
     "metadata": {},
     "output_type": "display_data"
    }
   ],
   "source": [
    "mot_hlt=mot_hlt.selectExpr('proposal_no', 'golden_id', 'customer_id', 'policy_no', 'certificate_no', 'pol_incept_date', 'pol_exp_date', 'source_system_name', 'sum_insured', 'premiumamount', 'total_premium', 'product_name', 'sub_channel', 'channel', 'lob', 'record_type_desc', 'record_type_cd', 'report_accounting_period', 'binddate', 'renl_cert_no', 'times_renewed_cnt', 'product_cd', 'product_cd_new', 'producer_cd', 'producername', 'producer_type', 'policy_counter', 'veh_model', 'veh_age', 'veh_make', 'veh_body', 'veh_engine_no', 'veh_chassis_no', 'no_claim_bonus', 'policy_type', 'fuel_type', 'uw_discount', 'uw_loading', 'business_type', 'txt_business_type', 'no_of_lives', 'veh_no', 'segment_type', 'policy_variant', 'mfg_year', 'ncb_percent', 'discount', 'major_line_cd', 'minor_line_cd', 'main_lob', 'pol_status_cd', 'group_category', 'min_pol_incept_date', 'plan_type', 'break_in_insurance_flag', 'break_in_insurance_days', 'exshowroomprice', 'irda_product_uin', 'txt_active_flag', 'status', 'txt_intermediary_cd', 'txt_status', 'accidentaldeathrider', 'rider_applicable', 'coverage_opted', 'age_building', 'personal_accident', 'public_lia', 'trip_type', 'trv_limit', 'purpose_of_trip', 'dep_date', 'return_date', 'travel_duration', 'destination_country', 'trip', 'lta_zone', 'information280', 'ped_declared_indicator', 'portability_required', 'deductible_amount', 'cumulative_bonus_earned', 'orphan_policy_indicator', 'orphan_policy_date', 'policy_term', 'ncb_flag', 'portability_indicator', 'renewed_in_grace_period', 'display_product_cd', 'insert_date', 'claim_gross', 'claim_cnt', 'max_policy_end_date', 'customer_vintage', 'communication_type', 'value', 'mobile_contactibility', 'email_contactibility', 'birth_date', 'gender', 'marital_status', 'tobacco_use_indicator', 'alcohol_use_indicator', 'customer_type', 'tobacco_use_indicator_flag', 'alcohol_use_indicator_flag', 'age', 'senior_citizen', 'service_level', 'payment_behaviour', 'hni_flag', 'is_hni', 'dependent_child', 'dependent_parents', 'cross_sell_eligible_cust', 'renewal_propensity', 'month', 'city', 'state', 'pincode', 'pa_si', 'ncb_discount', 'accidental_deathrider_flag', 'policy_cnt', 'sum_insured_bucket', 'ncb_discount_bucket', 'exshowroomprice_bucket', 'times_renewed_cnt_bucket', 'premiumamount_bucket', 'total_premium_bucket', 'age_bucket', 'uw_discount_bucket', 'sum_insured_bucket_enum', 'ncb_discount_bucket_enum', 'exshowroomprice_bucket_enum', 'times_renewed_cnt_bucket_enum', 'premiumamount_bucket_enum', 'total_premium_bucket_enum', 'age_bucket_enum', 'policy_expiry_month', 'policy_inception_month', 'claimant_policy_flag',\n",
    "\"policy_cnt as policy_renewal_count\", \"claim_gross as claim_net\", \"renewal_propensity as renewal_propensity_segment\", \n",
    "\"discount as discount_per\")"
   ]
  },
  {
   "cell_type": "code",
   "execution_count": 76,
   "metadata": {},
   "outputs": [
    {
     "data": {
      "application/vnd.jupyter.widget-view+json": {
       "model_id": "",
       "version_major": 2,
       "version_minor": 0
      },
      "text/plain": [
       "FloatProgress(value=0.0, bar_style='info', description='Progress:', layout=Layout(height='25px', width='50%'),…"
      ]
     },
     "metadata": {},
     "output_type": "display_data"
    }
   ],
   "source": [
    "mot_hlt=mot_hlt.withColumn('insert_datetime',current_timestamp())"
   ]
  },
  {
   "cell_type": "code",
   "execution_count": 77,
   "metadata": {},
   "outputs": [
    {
     "data": {
      "application/vnd.jupyter.widget-view+json": {
       "model_id": "",
       "version_major": 2,
       "version_minor": 0
      },
      "text/plain": [
       "FloatProgress(value=0.0, bar_style='info', description='Progress:', layout=Layout(height='25px', width='50%'),…"
      ]
     },
     "metadata": {},
     "output_type": "display_data"
    },
    {
     "name": "stdout",
     "output_type": "stream",
     "text": [
      "['proposal_no', 'golden_id', 'customer_id', 'policy_no', 'certificate_no', 'pol_incept_date', 'pol_exp_date', 'source_system_name', 'sum_insured', 'premiumamount', 'total_premium', 'product_name', 'sub_channel', 'channel', 'lob', 'record_type_desc', 'record_type_cd', 'report_accounting_period', 'binddate', 'renl_cert_no', 'times_renewed_cnt', 'product_cd', 'product_cd_new', 'producer_cd', 'producername', 'producer_type', 'policy_counter', 'veh_model', 'veh_age', 'veh_make', 'veh_body', 'veh_engine_no', 'veh_chassis_no', 'no_claim_bonus', 'policy_type', 'fuel_type', 'uw_discount', 'uw_loading', 'business_type', 'txt_business_type', 'no_of_lives', 'veh_no', 'segment_type', 'policy_variant', 'mfg_year', 'ncb_percent', 'discount', 'major_line_cd', 'minor_line_cd', 'main_lob', 'pol_status_cd', 'group_category', 'min_pol_incept_date', 'plan_type', 'break_in_insurance_flag', 'break_in_insurance_days', 'exshowroomprice', 'irda_product_uin', 'txt_active_flag', 'status', 'txt_intermediary_cd', 'txt_status', 'accidentaldeathrider', 'rider_applicable', 'coverage_opted', 'age_building', 'personal_accident', 'public_lia', 'trip_type', 'trv_limit', 'purpose_of_trip', 'dep_date', 'return_date', 'travel_duration', 'destination_country', 'trip', 'lta_zone', 'information280', 'ped_declared_indicator', 'portability_required', 'deductible_amount', 'cumulative_bonus_earned', 'orphan_policy_indicator', 'orphan_policy_date', 'policy_term', 'ncb_flag', 'portability_indicator', 'renewed_in_grace_period', 'display_product_cd', 'insert_date', 'claim_gross', 'claim_cnt', 'max_policy_end_date', 'customer_vintage', 'communication_type', 'value', 'mobile_contactibility', 'email_contactibility', 'birth_date', 'gender', 'marital_status', 'tobacco_use_indicator', 'alcohol_use_indicator', 'customer_type', 'tobacco_use_indicator_flag', 'alcohol_use_indicator_flag', 'age', 'senior_citizen', 'service_level', 'payment_behaviour', 'hni_flag', 'is_hni', 'dependent_child', 'dependent_parents', 'cross_sell_eligible_cust', 'renewal_propensity', 'month', 'city', 'state', 'pincode', 'pa_si', 'ncb_discount', 'accidental_deathrider_flag', 'policy_cnt', 'sum_insured_bucket', 'ncb_discount_bucket', 'exshowroomprice_bucket', 'times_renewed_cnt_bucket', 'premiumamount_bucket', 'total_premium_bucket', 'age_bucket', 'uw_discount_bucket', 'sum_insured_bucket_enum', 'ncb_discount_bucket_enum', 'exshowroomprice_bucket_enum', 'times_renewed_cnt_bucket_enum', 'premiumamount_bucket_enum', 'total_premium_bucket_enum', 'age_bucket_enum', 'policy_expiry_month', 'policy_inception_month', 'claimant_policy_flag', 'policy_renewal_count', 'claim_net', 'renewal_propensity_segment', 'discount_per', 'insert_datetime']"
     ]
    }
   ],
   "source": [
    "mot_hlt.columns"
   ]
  },
  {
   "cell_type": "code",
   "execution_count": 78,
   "metadata": {},
   "outputs": [
    {
     "data": {
      "application/vnd.jupyter.widget-view+json": {
       "model_id": "",
       "version_major": 2,
       "version_minor": 0
      },
      "text/plain": [
       "FloatProgress(value=0.0, bar_style='info', description='Progress:', layout=Layout(height='25px', width='50%'),…"
      ]
     },
     "metadata": {},
     "output_type": "display_data"
    },
    {
     "name": "stdout",
     "output_type": "stream",
     "text": [
      "['parent_producer_cd', 'producer_cd']"
     ]
    }
   ],
   "source": [
    "col_str=['txt_parent_intermediary_cd as parent_producer_cd','txt_intermediary_cd as producer_cd']\n",
    "\n",
    "gscPythonOptions = {\n",
    "\"url\": \"jdbc:postgresql://10.35.12.194:5432/gpadmin\",\n",
    "\"user\": \"gpcustcoe\",\n",
    "\"password\": \"gpcustcoe@123\",\"dbschema\":\"public\",\"server.port\":\"1150-1170\",\n",
    "\"dbtable\": \"reference_gc_genmst_intermediary\"}\n",
    "producer_df = sqlContext.read.format(\"greenplum\").options(**gscPythonOptions).load()\\\n",
    "         .selectExpr(col_str)\n",
    "producer_df.columns"
   ]
  },
  {
   "cell_type": "code",
   "execution_count": 79,
   "metadata": {},
   "outputs": [
    {
     "data": {
      "application/vnd.jupyter.widget-view+json": {
       "model_id": "",
       "version_major": 2,
       "version_minor": 0
      },
      "text/plain": [
       "FloatProgress(value=0.0, bar_style='info', description='Progress:', layout=Layout(height='25px', width='50%'),…"
      ]
     },
     "metadata": {},
     "output_type": "display_data"
    }
   ],
   "source": [
    "mot_hlt=mot_hlt.join(producer_df,'producer_cd',\"left\").drop_duplicates()"
   ]
  },
  {
   "cell_type": "code",
   "execution_count": 80,
   "metadata": {},
   "outputs": [
    {
     "data": {
      "application/vnd.jupyter.widget-view+json": {
       "model_id": "",
       "version_major": 2,
       "version_minor": 0
      },
      "text/plain": [
       "FloatProgress(value=0.0, bar_style='info', description='Progress:', layout=Layout(height='25px', width='50%'),…"
      ]
     },
     "metadata": {},
     "output_type": "display_data"
    },
    {
     "name": "stdout",
     "output_type": "stream",
     "text": [
      "['producer_cd', 'proposal_no', 'golden_id', 'customer_id', 'policy_no', 'certificate_no', 'pol_incept_date', 'pol_exp_date', 'source_system_name', 'sum_insured', 'premiumamount', 'total_premium', 'product_name', 'sub_channel', 'channel', 'lob', 'record_type_desc', 'record_type_cd', 'report_accounting_period', 'binddate', 'renl_cert_no', 'times_renewed_cnt', 'product_cd', 'product_cd_new', 'producername', 'producer_type', 'policy_counter', 'veh_model', 'veh_age', 'veh_make', 'veh_body', 'veh_engine_no', 'veh_chassis_no', 'no_claim_bonus', 'policy_type', 'fuel_type', 'uw_discount', 'uw_loading', 'business_type', 'txt_business_type', 'no_of_lives', 'veh_no', 'segment_type', 'policy_variant', 'mfg_year', 'ncb_percent', 'discount', 'major_line_cd', 'minor_line_cd', 'main_lob', 'pol_status_cd', 'group_category', 'min_pol_incept_date', 'plan_type', 'break_in_insurance_flag', 'break_in_insurance_days', 'exshowroomprice', 'irda_product_uin', 'txt_active_flag', 'status', 'txt_intermediary_cd', 'txt_status', 'accidentaldeathrider', 'rider_applicable', 'coverage_opted', 'age_building', 'personal_accident', 'public_lia', 'trip_type', 'trv_limit', 'purpose_of_trip', 'dep_date', 'return_date', 'travel_duration', 'destination_country', 'trip', 'lta_zone', 'information280', 'ped_declared_indicator', 'portability_required', 'deductible_amount', 'cumulative_bonus_earned', 'orphan_policy_indicator', 'orphan_policy_date', 'policy_term', 'ncb_flag', 'portability_indicator', 'renewed_in_grace_period', 'display_product_cd', 'insert_date', 'claim_gross', 'claim_cnt', 'max_policy_end_date', 'customer_vintage', 'communication_type', 'value', 'mobile_contactibility', 'email_contactibility', 'birth_date', 'gender', 'marital_status', 'tobacco_use_indicator', 'alcohol_use_indicator', 'customer_type', 'tobacco_use_indicator_flag', 'alcohol_use_indicator_flag', 'age', 'senior_citizen', 'service_level', 'payment_behaviour', 'hni_flag', 'is_hni', 'dependent_child', 'dependent_parents', 'cross_sell_eligible_cust', 'renewal_propensity', 'month', 'city', 'state', 'pincode', 'pa_si', 'ncb_discount', 'accidental_deathrider_flag', 'policy_cnt', 'sum_insured_bucket', 'ncb_discount_bucket', 'exshowroomprice_bucket', 'times_renewed_cnt_bucket', 'premiumamount_bucket', 'total_premium_bucket', 'age_bucket', 'uw_discount_bucket', 'sum_insured_bucket_enum', 'ncb_discount_bucket_enum', 'exshowroomprice_bucket_enum', 'times_renewed_cnt_bucket_enum', 'premiumamount_bucket_enum', 'total_premium_bucket_enum', 'age_bucket_enum', 'policy_expiry_month', 'policy_inception_month', 'claimant_policy_flag', 'policy_renewal_count', 'claim_net', 'renewal_propensity_segment', 'discount_per', 'insert_datetime', 'parent_producer_cd']"
     ]
    }
   ],
   "source": [
    "mot_hlt.columns"
   ]
  },
  {
   "cell_type": "code",
   "execution_count": 82,
   "metadata": {},
   "outputs": [
    {
     "data": {
      "application/vnd.jupyter.widget-view+json": {
       "model_id": "",
       "version_major": 2,
       "version_minor": 0
      },
      "text/plain": [
       "FloatProgress(value=0.0, bar_style='info', description='Progress:', layout=Layout(height='25px', width='50%'),…"
      ]
     },
     "metadata": {},
     "output_type": "display_data"
    },
    {
     "name": "stdout",
     "output_type": "stream",
     "text": [
      "35799659"
     ]
    }
   ],
   "source": [
    "mot_hlt.persist(pyspark.StorageLevel.MEMORY_AND_DISK)\n",
    "records=mot_hlt.count()\n",
    "records"
   ]
  },
  {
   "cell_type": "code",
   "execution_count": 83,
   "metadata": {},
   "outputs": [
    {
     "data": {
      "application/vnd.jupyter.widget-view+json": {
       "model_id": "",
       "version_major": 2,
       "version_minor": 0
      },
      "text/plain": [
       "FloatProgress(value=0.0, bar_style='info', description='Progress:', layout=Layout(height='25px', width='50%'),…"
      ]
     },
     "metadata": {},
     "output_type": "display_data"
    },
    {
     "name": "stdout",
     "output_type": "stream",
     "text": [
      "success"
     ]
    }
   ],
   "source": [
    "output_index = 'cpa_all_prod'#cpa_all_prod_fy20,cpa_all_prod_fy21cpa_all_production_2\n",
    "schema = 'customermart'\n",
    "\n",
    "import sys\n",
    "try:\n",
    "    \n",
    "     mot_hlt.write.option(\"truncate\", \"true\").format(\"greenplum\")\\\n",
    "    .option(\"dbtable\",output_index).option('dbschema',schema)\\\n",
    "    .option(\"server.port\",\"1150-1170\").option(\"url\",prod_url)\\\n",
    "    .option(\"user\", user_prod).option(\"password\",pwd_prod).mode('overwrite').save()\n",
    "    \n",
    "    \n",
    "except Exception as e:\n",
    "    x = e\n",
    "    print(x)\n",
    "else:\n",
    "    x = 'success'\n",
    "    print(x)"
   ]
  },
  {
   "cell_type": "code",
   "execution_count": 91,
   "metadata": {},
   "outputs": [
    {
     "data": {
      "application/vnd.jupyter.widget-view+json": {
       "model_id": "",
       "version_major": 2,
       "version_minor": 0
      },
      "text/plain": [
       "FloatProgress(value=0.0, bar_style='info', description='Progress:', layout=Layout(height='25px', width='50%'),…"
      ]
     },
     "metadata": {},
     "output_type": "display_data"
    },
    {
     "name": "stderr",
     "output_type": "stream",
     "text": [
      "An error was encountered:\n",
      "[Errno 111] Connection refused\n",
      "Traceback (most recent call last):\n",
      "  File \"/usr/lib/python3.7/smtplib.py\", line 251, in __init__\n",
      "    (code, msg) = self.connect(host, port)\n",
      "  File \"/usr/lib/python3.7/smtplib.py\", line 336, in connect\n",
      "    self.sock = self._get_socket(host, port, self.timeout)\n",
      "  File \"/usr/lib/python3.7/smtplib.py\", line 307, in _get_socket\n",
      "    self.source_address)\n",
      "  File \"/usr/lib/python3.7/socket.py\", line 728, in create_connection\n",
      "    raise err\n",
      "  File \"/usr/lib/python3.7/socket.py\", line 716, in create_connection\n",
      "    sock.connect(sa)\n",
      "ConnectionRefusedError: [Errno 111] Connection refused\n",
      "\n"
     ]
    }
   ],
   "source": [
    "import io\n",
    "import pandas as pd\n",
    "import xlsxwriter\n",
    "import sys\n",
    "import smtplib\n",
    "from os.path import basename\n",
    "from email.mime.application import MIMEApplication\n",
    "from email.mime.multipart import MIMEMultipart\n",
    "from email.mime.text import MIMEText\n",
    "from email.utils import COMMASPACE, formatdate\n",
    "import pandas as pd\n",
    "from sqlalchemy import create_engine\n",
    "from smtplib import SMTP\n",
    "\n",
    "if x!='success':\n",
    "    status='FAILED'\n",
    "else:\n",
    "    status=\"SUCCESS\"\n",
    "\n",
    "subject=f\"Automated Mail-CPA Job Status : {status}\"\n",
    "\n",
    "if x==\"SUCCESS\":\n",
    "    recipients = ['nishant5.addenki@tataaig.com','devnandan.TataIndustries@tataaig.com','mayur.TataIndustries@tataaig.com','Ajeet3.Jaiswal@tataaig.com'] \n",
    "    emaillist = [elem.strip().split(',') for elem in recipients]\n",
    "    msg = MIMEMultipart()\n",
    "    msg['Subject'] = subject\n",
    "    msg['From'] = 'customercoe@tataaig.com'\n",
    "\n",
    "\n",
    "    html = \"\"\"\\\n",
    "    <html>\n",
    "      <head></head>\n",
    "      <body>\n",
    "        CPA job status is: Successful\n",
    "      </body>\n",
    "        <p>This is automated mail, please don't reply. Thanks</p>\n",
    "    </html>\n",
    "    \"\"\"\n",
    "\n",
    "    part1 = MIMEText(html, 'html')\n",
    "    msg.attach(part1)\n",
    "\n",
    "    server = smtplib.SMTP(\"tataaig-com.mail.protection.outlook.com\",25)\n",
    "    server.sendmail(msg['From'], emaillist , msg.as_string())\n",
    "else:\n",
    "      \n",
    "    recipients = ['nishant5.addenki@tataaig.com','devnandan.TataIndustries@tataaig.com','mayur.TataIndustries@tataaig.com','Ajeet3.Jaiswal@tataaig.com'] \n",
    "    emaillist = [elem.strip().split(',') for elem in recipients]\n",
    "    msg = MIMEMultipart()\n",
    "    msg['Subject'] = subject\n",
    "    msg['From'] = 'customercoe@tataaig.com'\n",
    "\n",
    "\n",
    "    html = \"\"\"\\\n",
    "    <html>\n",
    "      <head></head>\n",
    "      <body>\n",
    "        CPA job status is: Failed\n",
    "      </body>\n",
    "        <p>This is automated mail, please don't reply. Thanks</p>\n",
    "    </html>\n",
    "    \"\"\"\n",
    "\n",
    "    part1 = MIMEText(html, 'html')\n",
    "    msg.attach(part1)\n",
    "\n",
    "    server = smtplib.SMTP(\"tataaig-com.mail.protection.outlook.com\",25)\n",
    "    server.sendmail(msg['From'], emaillist , msg.as_string())"
   ]
  },
  {
   "cell_type": "code",
   "execution_count": null,
   "metadata": {},
   "outputs": [],
   "source": []
  },
  {
   "cell_type": "code",
   "execution_count": 92,
   "metadata": {},
   "outputs": [
    {
     "data": {
      "application/vnd.jupyter.widget-view+json": {
       "model_id": "",
       "version_major": 2,
       "version_minor": 0
      },
      "text/plain": [
       "FloatProgress(value=0.0, bar_style='info', description='Progress:', layout=Layout(height='25px', width='50%'),…"
      ]
     },
     "metadata": {},
     "output_type": "display_data"
    }
   ],
   "source": [
    "spark.stop()"
   ]
  },
  {
   "cell_type": "raw",
   "metadata": {},
   "source": []
  },
  {
   "cell_type": "code",
   "execution_count": null,
   "metadata": {},
   "outputs": [],
   "source": []
  }
 ],
 "metadata": {
  "kernelspec": {
   "display_name": "PySpark",
   "language": "",
   "name": "pysparkkernel"
  },
  "language_info": {
   "codemirror_mode": {
    "name": "python",
    "version": 3
   },
   "mimetype": "text/x-python",
   "name": "pyspark",
   "pygments_lexer": "python3"
  }
 },
 "nbformat": 4,
 "nbformat_minor": 4
}
