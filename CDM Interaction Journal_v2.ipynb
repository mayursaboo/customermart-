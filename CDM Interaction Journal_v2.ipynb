{
 "cells": [
  {
   "cell_type": "code",
   "execution_count": 1,
   "metadata": {},
   "outputs": [
    {
     "name": "stdout",
     "output_type": "stream",
     "text": [
      "Starting Spark application\n"
     ]
    },
    {
     "data": {
      "text/html": [
       "<table>\n",
       "<tr><th>ID</th><th>YARN Application ID</th><th>Kind</th><th>State</th><th>Spark UI</th><th>Driver log</th><th>Current session?</th></tr><tr><td>19246</td><td>None</td><td>pyspark</td><td>idle</td><td></td><td></td><td>✔</td></tr></table>"
      ],
      "text/plain": [
       "<IPython.core.display.HTML object>"
      ]
     },
     "metadata": {},
     "output_type": "display_data"
    },
    {
     "data": {
      "application/vnd.jupyter.widget-view+json": {
       "model_id": "",
       "version_major": 2,
       "version_minor": 0
      },
      "text/plain": [
       "FloatProgress(value=0.0, bar_style='info', description='Progress:', layout=Layout(height='25px', width='50%'),…"
      ]
     },
     "metadata": {},
     "output_type": "display_data"
    },
    {
     "name": "stdout",
     "output_type": "stream",
     "text": [
      "SparkSession available as 'spark'.\n"
     ]
    },
    {
     "data": {
      "application/vnd.jupyter.widget-view+json": {
       "model_id": "",
       "version_major": 2,
       "version_minor": 0
      },
      "text/plain": [
       "FloatProgress(value=0.0, bar_style='info', description='Progress:', layout=Layout(height='25px', width='50%'),…"
      ]
     },
     "metadata": {},
     "output_type": "display_data"
    }
   ],
   "source": [
    "import sys\n",
    "\n",
    "\n",
    "no_of_cpu = 8\n",
    "max_cores = 16\n",
    "executor_mem = '56g'\n",
    "\n",
    "\n",
    "\n",
    "Job_Name = 'Nishant :INTERACTION JOURNAL'\n",
    "\n",
    "\n",
    "from pyspark.mllib.stat import Statistics\n",
    "from pyspark.sql.functions import asc,lit\n",
    "#warnings.filterwarnings('error')\n",
    "import pyspark\n",
    "from datetime import datetime,timedelta\n",
    "from pyspark.sql import SQLContext\n",
    "from pyspark import SparkContext, SparkConf\n",
    "from pyspark.sql import functions as F\n",
    "\n",
    "conf = pyspark.SparkConf()\n",
    "#import numpy\n",
    "import calendar\n",
    "#import pandas as pd\n",
    "#import simplejson as json\n",
    "#import pandas as pd\n",
    "import numpy as np\n",
    "import datetime\n",
    "from pyspark.sql.functions import *\n",
    "from pyspark.sql.types import DateType\n",
    "from pyspark.sql.functions import lit\n",
    "import simplejson as json\n",
    "import json, pprint, requests\n",
    "#es_nodes = '10.35.12.5'\n",
    "#es_nodes = '10.35.12.6'\n",
    "es_nodes = '10.35.12.194'#,10.35.12.6,10.35.12.5\n",
    "es_nodes_temp='10.35.12.194'\n",
    "es_port = '5432'\n",
    "es_user = 'gpanalytics'\n",
    "es_pwd = ''\n",
    "mesos_ip = 'mesos://10.33.195.18:5050'#'mesos://10.35.12.5:5050'\n",
    "\n",
    "spark.stop() #############NEED TO COMMENT THIS SPARK.STOP WHEN RUNNING THROUGH SHELL###############################\n",
    "\n",
    "conf.setMaster(mesos_ip)\n",
    "\n",
    "conf.set('spark.executor.cores',no_of_cpu) ### change 1\n",
    "#conf.set('spark.memory.fraction','.2')\n",
    "conf.set('spark.executor.memory',executor_mem) \n",
    "conf.set('spark.es.scroll.size','10000')\n",
    "conf.set('spark.network.timeout','600s')\n",
    "conf.set('spark.sql.crossJoin.enabled', 'true')\n",
    "\n",
    "conf.set('spark.ui.port','4052')\n",
    "\n",
    "conf.set('spark.executor.heartbeatInterval','60s')\n",
    "conf.set(\"spark.driver.cores\",\"4\")\n",
    "conf.set(\"spark.driver.extraJavaOptions\",\"-Xmx4g -Xms4g\")\n",
    "\n",
    "#conf.set(\"spark.shuffle.blockTransferService\", \"nio\"); \n",
    "conf.set(\"spark.files.overwrite\",\"true\");\n",
    "conf.set(\"spark.kryoserializer.buffer\", \"70\"); \n",
    "conf.set(\"spark.driver.extraJavaOptions\", \"-XX:+UseG1GC\");\n",
    "conf.set(\"spark.executor.extraJavaOptions\", \"-XX:+UseG1GC\");\n",
    "conf.set(\"spark.serializer\", \"org.apache.spark.serializer.KryoSerializer\"); \n",
    "conf.set(\"spark.broadcast.compress\", \"true\"); \n",
    "conf.set(\"spark.shuffle.compress\", \"true\"); \n",
    "conf.set(\"spark.shuffle.spill.compress\", \"true\");\n",
    "conf.set(\"spark.app.name\", Job_Name)\n",
    "#conf.set(\"spark.io.compression.codec\",\"org.apache.spark.io.LZ4CompressionCodec\");\n",
    "#conf.set(\"spark.sql.inMemoryColumnarStorage.compressed\", \"true\"); \n",
    "from pyspark.sql.functions import broadcast\n",
    "\n",
    "conf.set('spark.driver.memory','20g') ### change 2\n",
    "conf.set('spark.cores.max',max_cores) ### change 3\n",
    "conf.set('spark.sql.shuffle.partitions','400')\n",
    "#conf.set('spark.sql.crossJoin.enabled', 'true')\n",
    "conf.set('es.nodes',es_nodes)\n",
    "conf.set('es.port',es_port)\n",
    "conf.set('es.nodes.wan.only','true')\n",
    "conf.set(\"spark.sql.autoBroadcastJoinThreshold\",-1)\n",
    "\n",
    "#conf.set('spark.es.net.http.auth.user','Spark')\n",
    "#conf.set('spark.es.net.http.auth.pass','Jarkpet1Sap3')\n",
    "conf.set('spark.num.executors','4')\n",
    "conf.set('spark.debug.maxToStringFields', 200)\n",
    "\n",
    "conf.set('spark.es.net.http.auth.user', es_user)\n",
    "conf.set('spark.es.net.http.auth.pass', es_pwd)\n",
    "\n",
    "conf.set('spark.es.mapping.date.rich','false')\n",
    "spark = pyspark.SparkContext(conf=conf)\n",
    "sqlContext = SQLContext(spark)\n",
    "\n",
    "# Load Data into PySpark DataFrames\n",
    "# Prodcom Data Frame\n",
    "import json, pprint, requests\n",
    "import pyspark.sql.functions as sf\n",
    "from pyspark.sql.types import *\n",
    "\n",
    "\n",
    "import numpy as np\n",
    "import datetime\n",
    "from pyspark.sql.functions import *\n",
    "from pyspark.sql.types import DateType\n",
    "\n"
   ]
  },
  {
   "cell_type": "code",
   "execution_count": 2,
   "metadata": {},
   "outputs": [
    {
     "data": {
      "application/vnd.jupyter.widget-view+json": {
       "model_id": "",
       "version_major": 2,
       "version_minor": 0
      },
      "text/plain": [
       "FloatProgress(value=0.0, bar_style='info', description='Progress:', layout=Layout(height='25px', width='50%'),…"
      ]
     },
     "metadata": {},
     "output_type": "display_data"
    },
    {
     "name": "stdout",
     "output_type": "stream",
     "text": [
      "'2024-03-23 12:02:16.441671'"
     ]
    }
   ],
   "source": [
    "from pyspark.sql.functions import hash\n",
    "import numpy as np\n",
    "import datetime\n",
    "from pyspark.sql.functions import *\n",
    "from pyspark.sql.types import DateType\n",
    "import psycopg2\n",
    "import time\n",
    "from time import gmtime, strftime\n",
    "import pytz\n",
    "starttime = time.time()\n",
    "start_time = datetime.datetime.now(pytz.timezone('Asia/Kolkata')).strftime(\"%Y-%m-%d %H:%M:%S.%f\")\n",
    "start_time"
   ]
  },
  {
   "cell_type": "code",
   "execution_count": 3,
   "metadata": {},
   "outputs": [
    {
     "data": {
      "application/vnd.jupyter.widget-view+json": {
       "model_id": "",
       "version_major": 2,
       "version_minor": 0
      },
      "text/plain": [
       "FloatProgress(value=0.0, bar_style='info', description='Progress:', layout=Layout(height='25px', width='50%'),…"
      ]
     },
     "metadata": {},
     "output_type": "display_data"
    }
   ],
   "source": [
    "prod_url = \"jdbc:postgresql://10.35.12.194:5432/gpadmin\"\n",
    "prod_host = '10.35.12.194'\n",
    "prod_port = '5432'\n",
    "prod_dbname = 'gpadmin'\n",
    "user_prod=\"gpspark\"\n",
    "pwd_prod=\"spark@456\"\n",
    "dbschema=\"public\"\n",
    "\n",
    "\n",
    "prod_gpdb_spark_options ={\n",
    "    \"url\": \"jdbc:postgresql://{host}:{port}/{dbname}\".format(host=prod_host,port=prod_port, dbname=prod_dbname),\n",
    "    \"user\": \"{user}\".format(user=user_prod),\n",
    "    \"password\": \"{password}\".format(password=pwd_prod)\n",
    "} "
   ]
  },
  {
   "cell_type": "code",
   "execution_count": 4,
   "metadata": {},
   "outputs": [
    {
     "data": {
      "application/vnd.jupyter.widget-view+json": {
       "model_id": "",
       "version_major": 2,
       "version_minor": 0
      },
      "text/plain": [
       "FloatProgress(value=0.0, bar_style='info', description='Progress:', layout=Layout(height='25px', width='50%'),…"
      ]
     },
     "metadata": {},
     "output_type": "display_data"
    }
   ],
   "source": [
    "def load_gpdb_jdbc(col_str,dbtable,dbschema,col_name=None,time_filter=None,partitionColumn=\"row_num\"):\n",
    "    \"\"\"\n",
    "    This is used to read gpdb with filter for columns and can apply other filter(date,values).\n",
    "    Time filter contains startdate,enddate\n",
    "    \"\"\"\n",
    "    gscPythonOptions = {\n",
    "                        \"url\": prod_url,\n",
    "                        \"user\": user_prod,\n",
    "                        \"password\": pwd_prod,\n",
    "                        \"dbschema\": dbschema,\n",
    "                        \"dbtable\": dbtable,\n",
    "                        \"partitionColumn\":partitionColumn,\n",
    "                        \"partitions\": 8,\n",
    "                        \"server.port\":\"1150-1170\"}\n",
    "   \n",
    "    if time_filter:\n",
    "        data = sqlContext.read.format(\"greenplum\").options(**gscPythonOptions).load()\\\n",
    "                .selectExpr(col_str).drop_duplicates().filter(col(col_name).between(to_timestamp(lit(time_filter['start_date']),\n",
    "                                                                 format='yyyy-MM-dd'),\n",
    "                                                    to_timestamp(lit(time_filter['end_date']),\n",
    "                                                                 format='yyyy-MM-dd')))\n",
    "    else :\n",
    "        data = sqlContext.read.format(\"greenplum\").options(**gscPythonOptions).load()\\\n",
    "                .selectExpr(col_str).drop_duplicates()\n",
    "   \n",
    "    return data"
   ]
  },
  {
   "cell_type": "code",
   "execution_count": 5,
   "metadata": {},
   "outputs": [
    {
     "data": {
      "application/vnd.jupyter.widget-view+json": {
       "model_id": "",
       "version_major": 2,
       "version_minor": 0
      },
      "text/plain": [
       "FloatProgress(value=0.0, bar_style='info', description='Progress:', layout=Layout(height='25px', width='50%'),…"
      ]
     },
     "metadata": {},
     "output_type": "display_data"
    }
   ],
   "source": [
    "def get_latest_progress(table_name,source):\n",
    "    \n",
    "    try: \n",
    "        gscPythonOptions = {\n",
    "                 \"url\":prod_url ,\n",
    "                 \"user\":user_prod ,\n",
    "                 \"password\": pwd_prod,\n",
    "                 \"dbschema\":\"customermart\",\n",
    "                 \"dbtable\": \"progress\",#table change\n",
    "                 \"server.port\":\"1150-1170\"} \n",
    "        \n",
    "        # this query will fetch till what date we have inserted the records in target\n",
    "        last_run= sqlContext.read.format(\"greenplum\").options(**gscPythonOptions).load()\\\n",
    "            .select('table_name','source','to_datetime').filter(col('table_name')==table_name)\\\n",
    "            .filter(col('source')==source)\n",
    "        \n",
    "        Max_last_run =last_run.select(max('to_datetime')).first()[0]\n",
    "\n",
    "\n",
    "        # if no record is available in progress then it will raise value error, in this case default value will be picked from except clause\n",
    "        if Max_last_run is None:\n",
    "            raise ValueError(\"No records found!\")\n",
    "\n",
    "        #print(\"Record Found. Progress updated till {}\".format(Max_last_run))\n",
    "\n",
    "    except Exception as E: \n",
    "        Max_last_run = datetime.datetime(2019,1,1, 0, 0)  # this is the default start date when no record is present in progress for customer_demographics table\n",
    "        print(\"Executed_except\",repr(E))\n",
    "    return Max_last_run"
   ]
  },
  {
   "cell_type": "code",
   "execution_count": 6,
   "metadata": {},
   "outputs": [
    {
     "data": {
      "application/vnd.jupyter.widget-view+json": {
       "model_id": "",
       "version_major": 2,
       "version_minor": 0
      },
      "text/plain": [
       "FloatProgress(value=0.0, bar_style='info', description='Progress:', layout=Layout(height='25px', width='50%'),…"
      ]
     },
     "metadata": {},
     "output_type": "display_data"
    }
   ],
   "source": [
    "# Generic function to save the progress from last run into Progress table\n",
    "def update_progress(table_name,source,time_filter,records,start_time,starttime,status):\n",
    "    output_index = \"progress\"\n",
    "    schema = \"customermart\"\n",
    "\n",
    "\n",
    "    import sys\n",
    "    import time\n",
    "    try:\n",
    "        \n",
    "\n",
    "\n",
    "        df_progress= sqlContext.createDataFrame([(table_name,source,\n",
    "                                       time_filter['start_date'].strftime(\"%Y-%m-%d %H:%M:%S\"),\n",
    "                                         time_filter['end_date'].strftime(\"%Y-%m-%d %H:%M:%S\"),records)]\n",
    "                                     ,['table_name', 'source','from_datetime','to_datetime','records'])\\\n",
    "        .withColumn('start_time',lit(start_time)).withColumn('end_time',current_timestamp())\\\n",
    "                    .withColumn('executed_in_mins',lit((time.time() - starttime)/60))\\\n",
    "                                .withColumn('status',lit(status)).withColumn('remarks',lit(None))\n",
    "    \n",
    "\n",
    "        \n",
    "        df_progress.write.format(\"greenplum\")\\\n",
    "            .option(\"dbtable\",output_index).option('dbschema',schema)\\\n",
    "            .option(\"server.port\",\"1150-1170\").option(\"url\",prod_url)\\\n",
    "            .option(\"user\", user_prod).option(\"password\",pwd_prod).mode('append').save()\n",
    "        \n",
    "       \n",
    "    except Exception as e:\n",
    "        x = e\n",
    "        print(x)\n",
    "    else:\n",
    "        x = 'success'\n",
    "        print(\"Updated Progress for {table_name} from {source} until {to_datetime}. {records} records processed in this run\".format(table_name=table_name, source=source,to_datetime=time_filter['end_date'].strftime(\"%Y-%m-%d %H:%M:%S\"),records=records))\n",
    "        print(x)"
   ]
  },
  {
   "cell_type": "code",
   "execution_count": 7,
   "metadata": {},
   "outputs": [
    {
     "data": {
      "application/vnd.jupyter.widget-view+json": {
       "model_id": "",
       "version_major": 2,
       "version_minor": 0
      },
      "text/plain": [
       "FloatProgress(value=0.0, bar_style='info', description='Progress:', layout=Layout(height='25px', width='50%'),…"
      ]
     },
     "metadata": {},
     "output_type": "display_data"
    }
   ],
   "source": [
    "# Define the Generic update function which takes the records currently in temp table (created with prefix 1 to original customercoe table)\n",
    "# This temp table has similar schema as original table but no json field and would not contain duplicates\n",
    "# The function would first try to insert the records in original table. It that fails then it will upsert the records\n",
    "# Since there is no direct upsert query an update and insert query with where clause is used\n",
    "# This funciton just runs the SQL queries in GPDB and does not use spark\n",
    "\n",
    "def update(conn_to,table_name,gpdb_spark_options = prod_gpdb_spark_options,schema=\"customermart\"):\n",
    "    conn_to.rollback()\n",
    "    \n",
    "    source='interaction_journal'\n",
    "    table_dict = {\n",
    "    \"interaction_journal\": #table_name\n",
    "              {\n",
    "                  \"out_columns\" : ['source_app','interaction_type','source_system_customer_id', 'policy_no','certificate_no','interaction_date','reference_num','transaction_id','ticket_no','mobile','email','awb_no',\n",
    "                                             'customer_name','deposition','sub_deposition','callback_date','remarks','language_pref','language_barrier',\n",
    "                                             'lost_reason','competitor_name','ticket_close_date','ticket_tat','ticket_status','ticket_source','open_status',\n",
    "                                             'link_status','print_flag','courier','delivery_return_date','recieved_by'],\n",
    "                  \"primary_key\" : ['source_app','interaction_type','source_system_customer_id', 'policy_no','certificate_no'],\n",
    "                  \"interaction_journal\" : #source/subsegment\n",
    "                      { \n",
    "                          \"update_fields\" : ['interaction_date','reference_num','transaction_id','ticket_no','mobile','email','awb_no',\n",
    "                                             'customer_name','deposition','sub_deposition','callback_date','remarks','language_pref','language_barrier',\n",
    "                                             'lost_reason','competitor_name','ticket_close_date','ticket_tat','ticket_status','ticket_source','open_status',\n",
    "                                             'link_status','print_flag','courier','delivery_return_date','recieved_by']\n",
    "                      }\n",
    "              }\n",
    "    }\n",
    "    \n",
    "    \n",
    "    update_fields = table_dict.get(table_name).get(source).get(\"update_fields\")\n",
    "    primary_key = table_dict.get(table_name).get(\"primary_key\")\n",
    "    \n",
    "    # loading data from temp table to get column names\n",
    "    #out_columns=['source_system_name','source_system_customer_id','activity_id','activity_date','communication_type','communication_sub_type','value','verification_flag','verification_source','date_reported','last_updated','preference_flag','dnd_flag' ]     \n",
    "    df_1 = sqlContext.read.format(\"jdbc\").options(**gpdb_spark_options).option(\"dbtable\",\"customermart.{}_staging\".format(table_name)).load()\n",
    "    out_columns = df_1.columns\n",
    "    out_columns = [col for col in out_columns if \"json\" not in col ]\n",
    "#     out_columns\n",
    "    #out_columns = table_dict.get(table_name).get(\"out_columns\")\n",
    "\n",
    "    cur_to = conn_to.cursor()  \n",
    "\n",
    "    # this query insert records from temp table to target table when all the records in temp table are new and not present in target\n",
    "    only_insert_query = \"\"\"insert into {schema}.{table_name} ({out_columns}) select {out_columns} from {schema}.{table_name}_staging \"\"\".format(schema=schema,table_name=table_name,out_columns = \",\".join(out_columns))\n",
    "    \n",
    "    # this query will be executed to update the records that are already present in target, new values will be assigned from temp table\n",
    "    update_query = \"\"\"UPDATE {schema}.{table_name} orig\n",
    "                          SET\n",
    "                            {update_fields}\n",
    "                          FROM\n",
    "                            {schema}.{table_name}_staging temp\n",
    "                           WHERE \n",
    "                            {primary_key}\n",
    "                       \"\"\".format(schema=schema,table_name=table_name,primary_key= \" and \".join([ \"orig.{key} = temp.{key}\".format(key=key) for key in primary_key]),update_fields = \" , \".join([ \"{key} = temp.{key}\".format(key=key) for key in update_fields]))\n",
    "    \n",
    "    # this query will be executed after update query to insert the remaining records\n",
    "    insert_query = \"\"\" INSERT INTO {schema}.{table_name} ({out_columns})\n",
    "                           SELECT {out_columns}\n",
    "                           FROM\n",
    "                             {schema}.{table_name}_staging temp\n",
    "                           WHERE\n",
    "                             NOT EXISTS (\n",
    "                             SELECT 1 FROM {schema}.{table_name} orig WHERE \n",
    "                            {primary_key}\n",
    "                            )\n",
    "                        \"\"\".format(schema=schema,table_name=table_name,out_columns = \",\".join(out_columns),primary_key = \" and \".join([ \"orig.{key} = temp.{key}\".format(key=key) for key in primary_key]))\n",
    "\n",
    "    try:\n",
    "        print(\"Inside try segment\")\n",
    "        cur_to.execute(only_insert_query)\n",
    "        print(\"Executed Only insert query\")\n",
    "#         update_progress(table_name,source,time_filter,records)\n",
    "    except Exception as e:\n",
    "        print(\"Inside except segment\")\n",
    "        conn_to.rollback()\n",
    "        cur_to.execute(update_query)\n",
    "        print(\"Executed update query\")\n",
    "        cur_to.execute(insert_query)\n",
    "        print(\"Executed insert query\")\n",
    "#         update_progress(table_name,source,time_filter,records)\n",
    "    conn_to.commit()\n"
   ]
  },
  {
   "cell_type": "markdown",
   "metadata": {},
   "source": [
    "# #Adding DMS details"
   ]
  },
  {
   "cell_type": "code",
   "execution_count": 8,
   "metadata": {},
   "outputs": [
    {
     "data": {
      "application/vnd.jupyter.widget-view+json": {
       "model_id": "",
       "version_major": 2,
       "version_minor": 0
      },
      "text/plain": [
       "FloatProgress(value=0.0, bar_style='info', description='Progress:', layout=Layout(height='25px', width='50%'),…"
      ]
     },
     "metadata": {},
     "output_type": "display_data"
    },
    {
     "name": "stdout",
     "output_type": "stream",
     "text": [
      "'2024-03-23 12:02:17.548946'"
     ]
    }
   ],
   "source": [
    "starttime = time.time()\n",
    "start_time = datetime.datetime.now(pytz.timezone('Asia/Kolkata')).strftime(\"%Y-%m-%d %H:%M:%S.%f\")\n",
    "start_time"
   ]
  },
  {
   "cell_type": "code",
   "execution_count": 9,
   "metadata": {},
   "outputs": [
    {
     "data": {
      "application/vnd.jupyter.widget-view+json": {
       "model_id": "",
       "version_major": 2,
       "version_minor": 0
      },
      "text/plain": [
       "FloatProgress(value=0.0, bar_style='info', description='Progress:', layout=Layout(height='25px', width='50%'),…"
      ]
     },
     "metadata": {},
     "output_type": "display_data"
    }
   ],
   "source": [
    "table_name='interaction_journal'\n",
    "source='DMS'"
   ]
  },
  {
   "cell_type": "code",
   "execution_count": 10,
   "metadata": {},
   "outputs": [
    {
     "data": {
      "application/vnd.jupyter.widget-view+json": {
       "model_id": "",
       "version_major": 2,
       "version_minor": 0
      },
      "text/plain": [
       "FloatProgress(value=0.0, bar_style='info', description='Progress:', layout=Layout(height='25px', width='50%'),…"
      ]
     },
     "metadata": {},
     "output_type": "display_data"
    },
    {
     "name": "stdout",
     "output_type": "stream",
     "text": [
      "{'start_date': datetime.datetime(2024, 3, 19, 0, 0), 'end_date': datetime.datetime(2024, 3, 22, 0, 0)}"
     ]
    }
   ],
   "source": [
    "latest_progress=get_latest_progress(table_name,source)\n",
    "# dates in string format\n",
    "str_d1 = latest_progress.strftime(\"%Y-%m-%d\")\n",
    "str_d2 = datetime.datetime.now(pytz.timezone('Asia/Kolkata')).strftime(\"%Y-%m-%d\")\n",
    "\n",
    "# convert string to date object\n",
    "d1 = datetime.datetime.strptime(str_d1, \"%Y-%m-%d\")\n",
    "d2 = datetime.datetime.strptime(str_d2, \"%Y-%m-%d\")\n",
    "\n",
    "# difference between dates in timedelta\n",
    "delta = d2 - d1\n",
    "day=delta.days-1#currently T-2 change 2 to 1 for T-1\n",
    "\n",
    "time_filter={'start_date':latest_progress,'end_date':latest_progress+datetime.timedelta(days=day)}\n",
    "time_filter"
   ]
  },
  {
   "cell_type": "code",
   "execution_count": 11,
   "metadata": {},
   "outputs": [
    {
     "data": {
      "application/vnd.jupyter.widget-view+json": {
       "model_id": "",
       "version_major": 2,
       "version_minor": 0
      },
      "text/plain": [
       "FloatProgress(value=0.0, bar_style='info', description='Progress:', layout=Layout(height='25px', width='50%'),…"
      ]
     },
     "metadata": {},
     "output_type": "display_data"
    }
   ],
   "source": [
    "gscPythonOptions = {\n",
    "         \"url\": prod_url,\n",
    "         \"user\": user_prod,\n",
    "         \"password\": pwd_prod,\n",
    "         \"dbschema\":\"public\",\n",
    "         \"dbtable\": \"dms_cmpt_tra_lcu_production\",\n",
    "         \"server.port\": \"1151-1160\"} \n",
    "\n",
    "# Get the data  from  Table\n",
    "\n",
    "dms_df = sqlContext.read.format(\"greenplum\").options(**gscPythonOptions).load()\\\n",
    "    .selectExpr('vuniqueno','vpolicyno as policy_no','txt_certificate_no as certificate_no','proposal_no as reference_num','txt_customer_id as source_system_customer_id',\n",
    "            'transactionid as transaction_id','print_flag','dispatchdate','courier','airwaybillno as awb_no','courierstatus',\n",
    "            'courierstatusdate','receivedby as recieved_by','return_reason as remarks','return_reason_code','c_customeremail as email',\n",
    "            'filegenerationdate','bitly_mobile_no as mobile','bitly_sms_date','istatus','dtissuancecreated','vstatusdate', 'txt_customer_name as customer_name').dropDuplicates()\\\n",
    "   .filter(col(\"load_date\")>=(to_date(lit(time_filter['start_date']), format='yyyy-MM-dd')))\\\n",
    "   .filter(col(\"load_date\")<=(to_date(lit(time_filter['end_date']), format='yyyy-MM-dd')))\\\n",
    "   .filter(col(\"policy_no\").isNotNull())\\\n",
    "   .filter((col('dispatchdate').isNotNull()) | (col('filegenerationdate').isNotNull()) | (col('bitly_sms_date').isNotNull()))"
   ]
  },
  {
   "cell_type": "code",
   "execution_count": 12,
   "metadata": {},
   "outputs": [
    {
     "data": {
      "application/vnd.jupyter.widget-view+json": {
       "model_id": "",
       "version_major": 2,
       "version_minor": 0
      },
      "text/plain": [
       "FloatProgress(value=0.0, bar_style='info', description='Progress:', layout=Layout(height='25px', width='50%'),…"
      ]
     },
     "metadata": {},
     "output_type": "display_data"
    }
   ],
   "source": [
    "dms_df=dms_df.dropDuplicates()"
   ]
  },
  {
   "cell_type": "code",
   "execution_count": 13,
   "metadata": {},
   "outputs": [
    {
     "data": {
      "application/vnd.jupyter.widget-view+json": {
       "model_id": "",
       "version_major": 2,
       "version_minor": 0
      },
      "text/plain": [
       "FloatProgress(value=0.0, bar_style='info', description='Progress:', layout=Layout(height='25px', width='50%'),…"
      ]
     },
     "metadata": {},
     "output_type": "display_data"
    }
   ],
   "source": [
    "dms_hard=dms_df.filter(~col('istatus').isin([8,10])).select('policy_no','certificate_no','source_system_customer_id','transaction_id','awb_no','customer_name','print_flag','dispatchdate','courier','recieved_by','remarks', 'reference_num')"
   ]
  },
  {
   "cell_type": "code",
   "execution_count": 14,
   "metadata": {},
   "outputs": [
    {
     "data": {
      "application/vnd.jupyter.widget-view+json": {
       "model_id": "",
       "version_major": 2,
       "version_minor": 0
      },
      "text/plain": [
       "FloatProgress(value=0.0, bar_style='info', description='Progress:', layout=Layout(height='25px', width='50%'),…"
      ]
     },
     "metadata": {},
     "output_type": "display_data"
    }
   ],
   "source": [
    "dms_hard=dms_hard.withColumn('source_app',lit('dms')).withColumn('interaction_type',lit('courier'))"
   ]
  },
  {
   "cell_type": "code",
   "execution_count": 15,
   "metadata": {},
   "outputs": [
    {
     "data": {
      "application/vnd.jupyter.widget-view+json": {
       "model_id": "",
       "version_major": 2,
       "version_minor": 0
      },
      "text/plain": [
       "FloatProgress(value=0.0, bar_style='info', description='Progress:', layout=Layout(height='25px', width='50%'),…"
      ]
     },
     "metadata": {},
     "output_type": "display_data"
    }
   ],
   "source": [
    "dms_hard=dms_hard.withColumnRenamed('dispatchdate','interaction_date')"
   ]
  },
  {
   "cell_type": "code",
   "execution_count": 16,
   "metadata": {},
   "outputs": [
    {
     "data": {
      "application/vnd.jupyter.widget-view+json": {
       "model_id": "",
       "version_major": 2,
       "version_minor": 0
      },
      "text/plain": [
       "FloatProgress(value=0.0, bar_style='info', description='Progress:', layout=Layout(height='25px', width='50%'),…"
      ]
     },
     "metadata": {},
     "output_type": "display_data"
    }
   ],
   "source": [
    "dms_hard=dms_hard.withColumn('ticket_no',lit(None).cast('string'))\\\n",
    ".withColumn('mobile',lit(None).cast('string'))\\\n",
    ".withColumn('email',lit(None).cast('string'))\\\n",
    ".withColumn('deposition',lit(None).cast('string'))\\\n",
    ".withColumn('sub_deposition',lit(None).cast('string'))\\\n",
    ".withColumn('callback_date',lit(None).cast('date'))\\\n",
    ".withColumn('language_pref',lit(None).cast('string'))\\\n",
    ".withColumn('language_barrier',lit(None).cast('string'))\\\n",
    ".withColumn('lost_reason',lit(None).cast('string'))\\\n",
    ".withColumn('competitor_name',lit(None).cast('string'))\\\n",
    ".withColumn('ticket_close_date',lit(None).cast('date'))\\\n",
    ".withColumn('ticket_tat',lit(None).cast('int'))\\\n",
    ".withColumn('ticket_status',lit(None).cast('string'))\\\n",
    ".withColumn('ticket_source',lit(None).cast('string'))\\\n",
    ".withColumn('open_status',lit(None).cast('string'))\\\n",
    ".withColumn('link_status',lit(None).cast('string'))\\\n",
    ".withColumn('delivery_return_date',lit(None).cast('date'))"
   ]
  },
  {
   "cell_type": "code",
   "execution_count": 17,
   "metadata": {},
   "outputs": [
    {
     "data": {
      "application/vnd.jupyter.widget-view+json": {
       "model_id": "",
       "version_major": 2,
       "version_minor": 0
      },
      "text/plain": [
       "FloatProgress(value=0.0, bar_style='info', description='Progress:', layout=Layout(height='25px', width='50%'),…"
      ]
     },
     "metadata": {},
     "output_type": "display_data"
    }
   ],
   "source": [
    "dms_hard=dms_hard.select('source_app','interaction_type','interaction_date','policy_no','certificate_no','source_system_customer_id','reference_num','transaction_id','ticket_no',\n",
    "'mobile','email','awb_no','customer_name','deposition','sub_deposition','callback_date','remarks','language_pref','language_barrier','lost_reason',\n",
    "'competitor_name','ticket_close_date','ticket_tat','ticket_status','ticket_source','open_status','link_status','print_flag','courier','delivery_return_date',\n",
    "'recieved_by')"
   ]
  },
  {
   "cell_type": "code",
   "execution_count": 18,
   "metadata": {},
   "outputs": [
    {
     "data": {
      "application/vnd.jupyter.widget-view+json": {
       "model_id": "",
       "version_major": 2,
       "version_minor": 0
      },
      "text/plain": [
       "FloatProgress(value=0.0, bar_style='info', description='Progress:', layout=Layout(height='25px', width='50%'),…"
      ]
     },
     "metadata": {},
     "output_type": "display_data"
    }
   ],
   "source": [
    "dms_email=dms_df.filter(col('istatus')=='8').select('policy_no','certificate_no','source_system_customer_id','transaction_id','email','filegenerationdate', 'reference_num', 'customer_name')"
   ]
  },
  {
   "cell_type": "code",
   "execution_count": 19,
   "metadata": {},
   "outputs": [
    {
     "data": {
      "application/vnd.jupyter.widget-view+json": {
       "model_id": "",
       "version_major": 2,
       "version_minor": 0
      },
      "text/plain": [
       "FloatProgress(value=0.0, bar_style='info', description='Progress:', layout=Layout(height='25px', width='50%'),…"
      ]
     },
     "metadata": {},
     "output_type": "display_data"
    }
   ],
   "source": [
    "dms_email=dms_email.withColumn('source_app',lit('dms')).withColumn('interaction_type',lit('email'))"
   ]
  },
  {
   "cell_type": "code",
   "execution_count": 20,
   "metadata": {},
   "outputs": [
    {
     "data": {
      "application/vnd.jupyter.widget-view+json": {
       "model_id": "",
       "version_major": 2,
       "version_minor": 0
      },
      "text/plain": [
       "FloatProgress(value=0.0, bar_style='info', description='Progress:', layout=Layout(height='25px', width='50%'),…"
      ]
     },
     "metadata": {},
     "output_type": "display_data"
    }
   ],
   "source": [
    "dms_email=dms_email.withColumnRenamed('filegenerationdate','interaction_date')"
   ]
  },
  {
   "cell_type": "code",
   "execution_count": 21,
   "metadata": {},
   "outputs": [
    {
     "data": {
      "application/vnd.jupyter.widget-view+json": {
       "model_id": "",
       "version_major": 2,
       "version_minor": 0
      },
      "text/plain": [
       "FloatProgress(value=0.0, bar_style='info', description='Progress:', layout=Layout(height='25px', width='50%'),…"
      ]
     },
     "metadata": {},
     "output_type": "display_data"
    }
   ],
   "source": [
    "dms_email=dms_email.withColumn('ticket_no',lit(None).cast('string'))\\\n",
    ".withColumn('mobile',lit(None).cast('string'))\\\n",
    ".withColumn('awb_no',lit(None).cast('string'))\\\n",
    ".withColumn('deposition',lit(None).cast('string'))\\\n",
    ".withColumn('sub_deposition',lit(None).cast('string'))\\\n",
    ".withColumn('callback_date',lit(None).cast('date'))\\\n",
    ".withColumn('remarks',lit(None).cast('date'))\\\n",
    ".withColumn('language_pref',lit(None).cast('string'))\\\n",
    ".withColumn('language_barrier',lit(None).cast('string'))\\\n",
    ".withColumn('lost_reason',lit(None).cast('string'))\\\n",
    ".withColumn('competitor_name',lit(None).cast('string'))\\\n",
    ".withColumn('ticket_close_date',lit(None).cast('date'))\\\n",
    ".withColumn('ticket_tat',lit(None).cast('int'))\\\n",
    ".withColumn('ticket_status',lit(None).cast('string'))\\\n",
    ".withColumn('ticket_source',lit(None).cast('string'))\\\n",
    ".withColumn('open_status',lit(None).cast('string'))\\\n",
    ".withColumn('link_status',lit(None).cast('string'))\\\n",
    ".withColumn('print_flag',lit(None).cast('string'))\\\n",
    ".withColumn('courier',lit(None).cast('string'))\\\n",
    ".withColumn('delivery_return_date',lit(None).cast('date'))\\\n",
    ".withColumn('recieved_by',lit(None).cast('string'))"
   ]
  },
  {
   "cell_type": "code",
   "execution_count": 22,
   "metadata": {},
   "outputs": [
    {
     "data": {
      "application/vnd.jupyter.widget-view+json": {
       "model_id": "",
       "version_major": 2,
       "version_minor": 0
      },
      "text/plain": [
       "FloatProgress(value=0.0, bar_style='info', description='Progress:', layout=Layout(height='25px', width='50%'),…"
      ]
     },
     "metadata": {},
     "output_type": "display_data"
    }
   ],
   "source": [
    "dms_email=dms_email.select('source_app','interaction_type','interaction_date','policy_no','certificate_no','source_system_customer_id','reference_num','transaction_id','ticket_no',\n",
    "'mobile','email','awb_no','customer_name','deposition','sub_deposition','callback_date','remarks','language_pref','language_barrier','lost_reason',\n",
    "'competitor_name','ticket_close_date','ticket_tat','ticket_status','ticket_source','open_status','link_status','print_flag','courier','delivery_return_date',\n",
    "'recieved_by')"
   ]
  },
  {
   "cell_type": "code",
   "execution_count": 23,
   "metadata": {},
   "outputs": [
    {
     "data": {
      "application/vnd.jupyter.widget-view+json": {
       "model_id": "",
       "version_major": 2,
       "version_minor": 0
      },
      "text/plain": [
       "FloatProgress(value=0.0, bar_style='info', description='Progress:', layout=Layout(height='25px', width='50%'),…"
      ]
     },
     "metadata": {},
     "output_type": "display_data"
    }
   ],
   "source": [
    "dms_sms=dms_df.filter(col('istatus')=='10').select('policy_no','certificate_no','source_system_customer_id','transaction_id','mobile','bitly_sms_date', 'reference_num', 'customer_name')"
   ]
  },
  {
   "cell_type": "code",
   "execution_count": 24,
   "metadata": {},
   "outputs": [
    {
     "data": {
      "application/vnd.jupyter.widget-view+json": {
       "model_id": "",
       "version_major": 2,
       "version_minor": 0
      },
      "text/plain": [
       "FloatProgress(value=0.0, bar_style='info', description='Progress:', layout=Layout(height='25px', width='50%'),…"
      ]
     },
     "metadata": {},
     "output_type": "display_data"
    }
   ],
   "source": [
    "dms_sms=dms_sms.withColumn('source_app',lit('dms')).withColumn('interaction_type',lit('sms'))"
   ]
  },
  {
   "cell_type": "code",
   "execution_count": 25,
   "metadata": {},
   "outputs": [
    {
     "data": {
      "application/vnd.jupyter.widget-view+json": {
       "model_id": "",
       "version_major": 2,
       "version_minor": 0
      },
      "text/plain": [
       "FloatProgress(value=0.0, bar_style='info', description='Progress:', layout=Layout(height='25px', width='50%'),…"
      ]
     },
     "metadata": {},
     "output_type": "display_data"
    }
   ],
   "source": [
    "dms_sms=dms_sms.withColumnRenamed('bitly_sms_date','interaction_date')"
   ]
  },
  {
   "cell_type": "code",
   "execution_count": 26,
   "metadata": {},
   "outputs": [
    {
     "data": {
      "application/vnd.jupyter.widget-view+json": {
       "model_id": "",
       "version_major": 2,
       "version_minor": 0
      },
      "text/plain": [
       "FloatProgress(value=0.0, bar_style='info', description='Progress:', layout=Layout(height='25px', width='50%'),…"
      ]
     },
     "metadata": {},
     "output_type": "display_data"
    }
   ],
   "source": [
    "dms_sms=dms_sms.withColumn('ticket_no',lit(None).cast('string'))\\\n",
    ".withColumn('email',lit(None).cast('string'))\\\n",
    ".withColumn('awb_no',lit(None).cast('string'))\\\n",
    ".withColumn('deposition',lit(None).cast('string'))\\\n",
    ".withColumn('sub_deposition',lit(None).cast('string'))\\\n",
    ".withColumn('callback_date',lit(None).cast('date'))\\\n",
    ".withColumn('remarks',lit(None).cast('string'))\\\n",
    ".withColumn('language_pref',lit(None).cast('string'))\\\n",
    ".withColumn('language_barrier',lit(None).cast('string'))\\\n",
    ".withColumn('lost_reason',lit(None).cast('string'))\\\n",
    ".withColumn('competitor_name',lit(None).cast('string'))\\\n",
    ".withColumn('ticket_close_date',lit(None).cast('date'))\\\n",
    ".withColumn('ticket_tat',lit(None).cast('int'))\\\n",
    ".withColumn('ticket_status',lit(None).cast('string'))\\\n",
    ".withColumn('ticket_source',lit(None).cast('string'))\\\n",
    ".withColumn('open_status',lit(None).cast('string'))\\\n",
    ".withColumn('link_status',lit(None).cast('string'))\\\n",
    ".withColumn('print_flag',lit(None).cast('string'))\\\n",
    ".withColumn('courier',lit(None).cast('string'))\\\n",
    ".withColumn('delivery_return_date',lit(None).cast('date'))\\\n",
    ".withColumn('recieved_by',lit(None).cast('string'))"
   ]
  },
  {
   "cell_type": "code",
   "execution_count": 27,
   "metadata": {},
   "outputs": [
    {
     "data": {
      "application/vnd.jupyter.widget-view+json": {
       "model_id": "",
       "version_major": 2,
       "version_minor": 0
      },
      "text/plain": [
       "FloatProgress(value=0.0, bar_style='info', description='Progress:', layout=Layout(height='25px', width='50%'),…"
      ]
     },
     "metadata": {},
     "output_type": "display_data"
    }
   ],
   "source": [
    "dms_sms=dms_sms.select('source_app','interaction_type','interaction_date','policy_no','certificate_no','source_system_customer_id','reference_num','transaction_id','ticket_no',\n",
    "'mobile','email','awb_no','customer_name','deposition','sub_deposition','callback_date','remarks','language_pref','language_barrier','lost_reason',\n",
    "'competitor_name','ticket_close_date','ticket_tat','ticket_status','ticket_source','open_status','link_status','print_flag','courier','delivery_return_date',\n",
    "'recieved_by')"
   ]
  },
  {
   "cell_type": "code",
   "execution_count": 28,
   "metadata": {},
   "outputs": [
    {
     "data": {
      "application/vnd.jupyter.widget-view+json": {
       "model_id": "",
       "version_major": 2,
       "version_minor": 0
      },
      "text/plain": [
       "FloatProgress(value=0.0, bar_style='info', description='Progress:', layout=Layout(height='25px', width='50%'),…"
      ]
     },
     "metadata": {},
     "output_type": "display_data"
    }
   ],
   "source": [
    "df_union_1=dms_hard.union(dms_email)\n",
    "df_union_2=df_union_1.union(dms_sms)"
   ]
  },
  {
   "cell_type": "code",
   "execution_count": 29,
   "metadata": {},
   "outputs": [
    {
     "data": {
      "application/vnd.jupyter.widget-view+json": {
       "model_id": "",
       "version_major": 2,
       "version_minor": 0
      },
      "text/plain": [
       "FloatProgress(value=0.0, bar_style='info', description='Progress:', layout=Layout(height='25px', width='50%'),…"
      ]
     },
     "metadata": {},
     "output_type": "display_data"
    }
   ],
   "source": [
    "from pyspark.sql.functions import unix_timestamp, from_unixtime\n",
    "df_union_2=df_union_2.withColumn('interaction_date', from_unixtime(unix_timestamp('interaction_date', 'dd/MM/yyyy')).cast('timestamp'))"
   ]
  },
  {
   "cell_type": "code",
   "execution_count": 30,
   "metadata": {},
   "outputs": [
    {
     "data": {
      "application/vnd.jupyter.widget-view+json": {
       "model_id": "",
       "version_major": 2,
       "version_minor": 0
      },
      "text/plain": [
       "FloatProgress(value=0.0, bar_style='info', description='Progress:', layout=Layout(height='25px', width='50%'),…"
      ]
     },
     "metadata": {},
     "output_type": "display_data"
    }
   ],
   "source": [
    "df_union_2=df_union_2.select([col(c).cast(\"string\") for c in df_union_2.columns])\n",
    "df_union_2=df_union_2.withColumn('interaction_date', col('interaction_date').cast(DateType()))\\\n",
    ".withColumn('delivery_return_date', col('delivery_return_date').cast(DateType()))\\\n",
    ".withColumn('reference_num', col('reference_num').cast('long'))\\\n",
    ".withColumn('callback_date', col('callback_date').cast(DateType()))\\\n",
    ".withColumn('ticket_close_date', col('ticket_close_date').cast(DateType()))\\\n",
    ".withColumn('ticket_tat', col('ticket_tat').cast('long'))\n",
    "df_union_2=df_union_2.filter(col('interaction_date').isNotNull()).filter(col('source_system_customer_id').isNotNull())\n",
    "df_union_2=df_union_2.withColumn(\"certificate_no\", coalesce(col(\"certificate_no\"), lit('00000000')))"
   ]
  },
  {
   "cell_type": "code",
   "execution_count": 31,
   "metadata": {},
   "outputs": [
    {
     "data": {
      "application/vnd.jupyter.widget-view+json": {
       "model_id": "",
       "version_major": 2,
       "version_minor": 0
      },
      "text/plain": [
       "FloatProgress(value=0.0, bar_style='info', description='Progress:', layout=Layout(height='25px', width='50%'),…"
      ]
     },
     "metadata": {},
     "output_type": "display_data"
    }
   ],
   "source": [
    "primary_key = ['source_app','interaction_type','source_system_customer_id', 'policy_no','certificate_no']\n",
    "\n",
    "from pyspark.sql.window import Window\n",
    "\n",
    "df_union_2 = df_union_2.withColumn(\"rn\", F.row_number()\n",
    "        .over(Window.partitionBy(primary_key)\n",
    "        .orderBy(F.col(\"interaction_date\").desc())))\n",
    "\n",
    "df_union_2 = df_union_2.filter(F.col(\"rn\") == 1).drop(\"rn\")"
   ]
  },
  {
   "cell_type": "code",
   "execution_count": 32,
   "metadata": {},
   "outputs": [
    {
     "data": {
      "application/vnd.jupyter.widget-view+json": {
       "model_id": "",
       "version_major": 2,
       "version_minor": 0
      },
      "text/plain": [
       "FloatProgress(value=0.0, bar_style='info', description='Progress:', layout=Layout(height='25px', width='50%'),…"
      ]
     },
     "metadata": {},
     "output_type": "display_data"
    },
    {
     "name": "stdout",
     "output_type": "stream",
     "text": [
      "179258"
     ]
    }
   ],
   "source": [
    "df_union_2.persist(pyspark.StorageLevel.MEMORY_AND_DISK)\n",
    "records=df_union_2.count()\n",
    "records #23347632"
   ]
  },
  {
   "cell_type": "code",
   "execution_count": 33,
   "metadata": {},
   "outputs": [
    {
     "data": {
      "application/vnd.jupyter.widget-view+json": {
       "model_id": "",
       "version_major": 2,
       "version_minor": 0
      },
      "text/plain": [
       "FloatProgress(value=0.0, bar_style='info', description='Progress:', layout=Layout(height='25px', width='50%'),…"
      ]
     },
     "metadata": {},
     "output_type": "display_data"
    }
   ],
   "source": [
    "#df_union_2=df_union_2.limit(20000)"
   ]
  },
  {
   "cell_type": "code",
   "execution_count": 34,
   "metadata": {},
   "outputs": [
    {
     "data": {
      "application/vnd.jupyter.widget-view+json": {
       "model_id": "",
       "version_major": 2,
       "version_minor": 0
      },
      "text/plain": [
       "FloatProgress(value=0.0, bar_style='info', description='Progress:', layout=Layout(height='25px', width='50%'),…"
      ]
     },
     "metadata": {},
     "output_type": "display_data"
    },
    {
     "name": "stdout",
     "output_type": "stream",
     "text": [
      "200"
     ]
    }
   ],
   "source": [
    "output_index = \"interaction_journal_staging\"\n",
    "schema = \"customermart\"\n",
    "\n",
    "\n",
    "import sys\n",
    "try:\n",
    "\n",
    "    df_union_2.write.format(\"greenplum\")\\\n",
    "    .option(\"dbtable\",output_index).option('dbschema',schema)\\\n",
    "    .option(\"server.port\",\"1150-1170\").option(\"url\",prod_url)\\\n",
    "    .option(\"user\", user_prod).option(\"password\",pwd_prod).mode('overwrite').save()\n",
    "\n",
    "\n",
    "except Exception as e:\n",
    "    x = e\n",
    "    print(x)\n",
    "else:\n",
    "    x = 200 #success\n",
    "    print(x)"
   ]
  },
  {
   "cell_type": "code",
   "execution_count": 35,
   "metadata": {},
   "outputs": [
    {
     "data": {
      "application/vnd.jupyter.widget-view+json": {
       "model_id": "",
       "version_major": 2,
       "version_minor": 0
      },
      "text/plain": [
       "FloatProgress(value=0.0, bar_style='info', description='Progress:', layout=Layout(height='25px', width='50%'),…"
      ]
     },
     "metadata": {},
     "output_type": "display_data"
    },
    {
     "name": "stdout",
     "output_type": "stream",
     "text": [
      "Inside try segment\n",
      "Inside except segment\n",
      "Executed update query\n",
      "Executed insert query\n",
      "success"
     ]
    }
   ],
   "source": [
    "table_name=\"interaction_journal\"\n",
    "conn_prod = psycopg2.connect(host=prod_host, port=prod_port, user=user_prod, password=pwd_prod, dbname=prod_dbname)\n",
    "conn_to=conn_prod\n",
    "status=''\n",
    "\n",
    "import sys\n",
    "try:\n",
    "    update(conn_to,table_name,prod_gpdb_spark_options, schema=\"customermart\")\n",
    "except Exception as e:\n",
    "    x = e\n",
    "    print(x)\n",
    "    status='Failed'\n",
    "else:\n",
    "    x = 'success'\n",
    "    print(x)\n",
    "    status='Success'"
   ]
  },
  {
   "cell_type": "code",
   "execution_count": 36,
   "metadata": {},
   "outputs": [
    {
     "data": {
      "application/vnd.jupyter.widget-view+json": {
       "model_id": "",
       "version_major": 2,
       "version_minor": 0
      },
      "text/plain": [
       "FloatProgress(value=0.0, bar_style='info', description='Progress:', layout=Layout(height='25px', width='50%'),…"
      ]
     },
     "metadata": {},
     "output_type": "display_data"
    },
    {
     "name": "stdout",
     "output_type": "stream",
     "text": [
      "Updated Progress for interaction_journal from DMS until 2024-03-22 00:00:00. 179258 records processed in this run\n",
      "success\n",
      "SUCCESS\n",
      "DataFrame[source_app: string, interaction_type: string, interaction_date: date, policy_no: string, certificate_no: string, source_system_customer_id: string, reference_num: bigint, transaction_id: string, ticket_no: string, mobile: string, email: string, awb_no: string, customer_name: string, deposition: string, sub_deposition: string, callback_date: date, remarks: string, language_pref: string, language_barrier: string, lost_reason: string, competitor_name: string, ticket_close_date: date, ticket_tat: bigint, ticket_status: string, ticket_source: string, open_status: string, link_status: string, print_flag: string, courier: string, delivery_return_date: date, recieved_by: string]"
     ]
    }
   ],
   "source": [
    "table_name='interaction_journal'\n",
    "source='DMS'\n",
    "\n",
    "\n",
    "if  x == 'success':\n",
    "    update_progress(table_name,source,time_filter,records,start_time,starttime,'Success')\n",
    "    print('SUCCESS')\n",
    "else:\n",
    "    update_progress(table_name,source,time_filter,'0',start_time,starttime,'Failed')\n",
    "    print('FAILED')\n",
    "    \n",
    "df_union_2.unpersist()"
   ]
  },
  {
   "cell_type": "markdown",
   "metadata": {},
   "source": [
    "# ICRM"
   ]
  },
  {
   "cell_type": "code",
   "execution_count": 37,
   "metadata": {},
   "outputs": [
    {
     "data": {
      "application/vnd.jupyter.widget-view+json": {
       "model_id": "",
       "version_major": 2,
       "version_minor": 0
      },
      "text/plain": [
       "FloatProgress(value=0.0, bar_style='info', description='Progress:', layout=Layout(height='25px', width='50%'),…"
      ]
     },
     "metadata": {},
     "output_type": "display_data"
    },
    {
     "name": "stdout",
     "output_type": "stream",
     "text": [
      "'2024-03-23 12:14:15.349388'"
     ]
    }
   ],
   "source": [
    "starttime = time.time()\n",
    "start_time = datetime.datetime.now(pytz.timezone('Asia/Kolkata')).strftime(\"%Y-%m-%d %H:%M:%S.%f\")\n",
    "start_time"
   ]
  },
  {
   "cell_type": "code",
   "execution_count": 38,
   "metadata": {},
   "outputs": [
    {
     "data": {
      "application/vnd.jupyter.widget-view+json": {
       "model_id": "",
       "version_major": 2,
       "version_minor": 0
      },
      "text/plain": [
       "FloatProgress(value=0.0, bar_style='info', description='Progress:', layout=Layout(height='25px', width='50%'),…"
      ]
     },
     "metadata": {},
     "output_type": "display_data"
    }
   ],
   "source": [
    "table_name='interaction_journal'\n",
    "source='ICRM'"
   ]
  },
  {
   "cell_type": "code",
   "execution_count": 39,
   "metadata": {},
   "outputs": [
    {
     "data": {
      "application/vnd.jupyter.widget-view+json": {
       "model_id": "",
       "version_major": 2,
       "version_minor": 0
      },
      "text/plain": [
       "FloatProgress(value=0.0, bar_style='info', description='Progress:', layout=Layout(height='25px', width='50%'),…"
      ]
     },
     "metadata": {},
     "output_type": "display_data"
    },
    {
     "name": "stdout",
     "output_type": "stream",
     "text": [
      "{'start_date': datetime.datetime(2024, 3, 17, 0, 0), 'end_date': datetime.datetime(2024, 3, 22, 0, 0)}"
     ]
    }
   ],
   "source": [
    "latest_progress=get_latest_progress(table_name,source)\n",
    "# dates in string format\n",
    "str_d1 = latest_progress.strftime(\"%Y-%m-%d\")\n",
    "str_d2 = datetime.datetime.now(pytz.timezone('Asia/Kolkata')).strftime(\"%Y-%m-%d\")\n",
    "\n",
    "# convert string to date object\n",
    "d1 = datetime.datetime.strptime(str_d1, \"%Y-%m-%d\")\n",
    "d2 = datetime.datetime.strptime(str_d2, \"%Y-%m-%d\")\n",
    "\n",
    "# difference between dates in timedelta\n",
    "delta = d2 - d1\n",
    "day=delta.days-1#currently T-2 change 2 to 1 for T-1\n",
    "\n",
    "time_filter={'start_date':latest_progress,'end_date':latest_progress+datetime.timedelta(days=day)}\n",
    "time_filter"
   ]
  },
  {
   "cell_type": "code",
   "execution_count": 40,
   "metadata": {},
   "outputs": [
    {
     "data": {
      "application/vnd.jupyter.widget-view+json": {
       "model_id": "",
       "version_major": 2,
       "version_minor": 0
      },
      "text/plain": [
       "FloatProgress(value=0.0, bar_style='info', description='Progress:', layout=Layout(height='25px', width='50%'),…"
      ]
     },
     "metadata": {},
     "output_type": "display_data"
    }
   ],
   "source": [
    "gscPythonOptions = {\"url\": \"jdbc:postgresql://10.35.12.194:5432/gpadmin\",\"user\": \"gpspark\",\"password\": \"spark@456\",\n",
    "         \"dbschema\": \"public\",\"dbtable\": \"marketing_icrm_mph_policy\",\n",
    "         \"partitionColumn\":\"row_num\",\"partitions\":5,\"server.port\":\"1107\"} \n",
    "\n",
    "icrm_policy = sqlContext.read.format(\"greenplum\").options(**gscPythonOptions).load()\\\n",
    ".select('ID','NAME', 'customer_code')\\\n",
    ".filter(col(\"load_date\")>=(to_date(lit(time_filter['start_date']), format='yyyy-MM-dd')))\\\n",
    ".filter(col(\"load_date\")<=(to_date(lit(time_filter['end_date']), format='yyyy-MM-dd')))\n",
    "\n",
    "\n",
    "icrm_policy_1 = icrm_policy.withColumnRenamed('name', 'POLICY_NO')\\\n",
    "                           .withColumnRenamed('id', 'POLICY_ID')\\\n",
    "                           .withColumnRenamed('customer_code', 'source_system_customer_id')\n",
    "\n",
    "icrm_policy_1A = icrm_policy_1.groupBy('POLICY_ID').agg(sf.max('POLICY_NO').alias('POLICY_NUMBER'), sf.max('source_system_customer_id').alias('source_system_customer_id'))\n",
    "icrm_policy_2 = icrm_policy_1A.repartition(\"POLICY_NUMBER\")\n",
    "#sagar to join with policy index (search policy wise) policy no and create two indexex policy ticket and policy mobile ticket\n",
    "#rccn_icrm_policy_1 = distinct_policy.join(icrm_policy_2, 'POLICY_NUMBER','inner')\n",
    "rccn_icrm_policy_1=icrm_policy_2"
   ]
  },
  {
   "cell_type": "code",
   "execution_count": 41,
   "metadata": {},
   "outputs": [
    {
     "data": {
      "application/vnd.jupyter.widget-view+json": {
       "model_id": "",
       "version_major": 2,
       "version_minor": 0
      },
      "text/plain": [
       "FloatProgress(value=0.0, bar_style='info', description='Progress:', layout=Layout(height='25px', width='50%'),…"
      ]
     },
     "metadata": {},
     "output_type": "display_data"
    }
   ],
   "source": [
    "gscPythonOptions = {\"url\": \"jdbc:postgresql://10.35.12.194:5432/gpadmin\",\"user\": \"gpspark\",\"password\": \"spark@456\",\n",
    "         \"dbschema\": \"public\",\"dbtable\": \"marketing_icrm_cases\",\n",
    "         \"partitionColumn\":\"row_num\",\"partitions\":1,\"server.port\":\"1107\"} \n",
    "\n",
    "icrm_cases = sqlContext.read.format(\"greenplum\").options(**gscPythonOptions).load()\\\n",
    ".select('ID','NAME','DATE_ENTERED','CASE_CLOSURE_DATE','SERVICE_STATUS','SOURCE','WORK_NOTE','QUEUE_NAME','INTERACTION_CATEGORY','DESCRIPTION','COMPLAINT_STATUS','caller_mobile_number')\\\n",
    ".filter(col(\"load_date\")>=(to_date(lit(time_filter['start_date']), format='yyyy-MM-dd')))\\\n",
    ".filter(col(\"load_date\")<=(to_date(lit(time_filter['end_date']), format='yyyy-MM-dd')))\n"
   ]
  },
  {
   "cell_type": "code",
   "execution_count": 42,
   "metadata": {},
   "outputs": [
    {
     "data": {
      "application/vnd.jupyter.widget-view+json": {
       "model_id": "",
       "version_major": 2,
       "version_minor": 0
      },
      "text/plain": [
       "FloatProgress(value=0.0, bar_style='info', description='Progress:', layout=Layout(height='25px', width='50%'),…"
      ]
     },
     "metadata": {},
     "output_type": "display_data"
    }
   ],
   "source": [
    "icrm_cases_1 = icrm_cases.withColumnRenamed('id', 'CASE_ID')\\\n",
    "                         .withColumnRenamed('name', 'INBOUND_TICKET')\\\n",
    "                         .withColumnRenamed('date_entered', 'TICKET_RAISED_DATE')\\\n",
    "                         .withColumnRenamed('case_closure_date', 'TICKET_CLOSED_DATE')\\\n",
    "                         .withColumnRenamed('service_status', 'TICKET_STATUS')\\\n",
    "                         .withColumnRenamed('source', 'SOURCE')\\\n",
    "                         .withColumnRenamed('queue_name', 'QUEUE_ID')\\\n",
    "                         .withColumnRenamed('interaction_category', 'SR_ID')\\\n",
    "                         .withColumn('TICKET_REMARK', substring(col(\"work_note\"), 1, 255))\\"
   ]
  },
  {
   "cell_type": "code",
   "execution_count": 43,
   "metadata": {},
   "outputs": [
    {
     "data": {
      "application/vnd.jupyter.widget-view+json": {
       "model_id": "",
       "version_major": 2,
       "version_minor": 0
      },
      "text/plain": [
       "FloatProgress(value=0.0, bar_style='info', description='Progress:', layout=Layout(height='25px', width='50%'),…"
      ]
     },
     "metadata": {},
     "output_type": "display_data"
    }
   ],
   "source": [
    "icrm_cases_2 = icrm_cases_1.groupBy('CASE_ID')\\\n",
    "                           .agg(sf.max('INBOUND_TICKET').alias('INBOUND_TICKET'),\\\n",
    "                                sf.max('TICKET_RAISED_DATE').alias('TICKET_RAISED_DATE'),\\\n",
    "                                sf.max('TICKET_CLOSED_DATE').alias('TICKET_CLOSED_DATE'),\\\n",
    "                                sf.max('TICKET_STATUS').alias('TICKET_STATUS'),\\\n",
    "                                sf.max('SOURCE').alias('SOURCE'),\\\n",
    "                                sf.max('TICKET_REMARK').alias('TICKET_REMARK'),\\\n",
    "                                sf.max('QUEUE_ID').alias('QUEUE_ID'),\\\n",
    "                                sf.max('DESCRIPTION').alias('TICKET_REASON'),\\\n",
    "                                sf.max('COMPLAINT_STATUS').alias('TICKET_COMPLAINT_STATUS'),\\\n",
    "                                sf.max('SR_ID').alias('SR_ID'))"
   ]
  },
  {
   "cell_type": "code",
   "execution_count": 44,
   "metadata": {},
   "outputs": [
    {
     "data": {
      "application/vnd.jupyter.widget-view+json": {
       "model_id": "",
       "version_major": 2,
       "version_minor": 0
      },
      "text/plain": [
       "FloatProgress(value=0.0, bar_style='info', description='Progress:', layout=Layout(height='25px', width='50%'),…"
      ]
     },
     "metadata": {},
     "output_type": "display_data"
    }
   ],
   "source": [
    "gscPythonOptions = {\"url\": \"jdbc:postgresql://10.35.12.194:5432/gpadmin\",\"user\": \"gpspark\",\"password\": \"spark@456\",\n",
    "         \"dbschema\": \"public\",\"dbtable\": \"marketing_icrm_mph_queues\",\n",
    "         \"partitionColumn\":\"row_num\",\"partitions\":1,\"server.port\":\"1107\"} \n",
    "\n",
    "icrm_queues = sqlContext.read.format(\"greenplum\").options(**gscPythonOptions).load()\\\n",
    ".select('ID','NAME')\\\n",
    ".filter(col(\"load_date\")>=(to_date(lit(time_filter['start_date']), format='yyyy-MM-dd')))\\\n",
    ".filter(col(\"load_date\")<=(to_date(lit(time_filter['end_date']), format='yyyy-MM-dd')))"
   ]
  },
  {
   "cell_type": "code",
   "execution_count": 45,
   "metadata": {},
   "outputs": [
    {
     "data": {
      "application/vnd.jupyter.widget-view+json": {
       "model_id": "",
       "version_major": 2,
       "version_minor": 0
      },
      "text/plain": [
       "FloatProgress(value=0.0, bar_style='info', description='Progress:', layout=Layout(height='25px', width='50%'),…"
      ]
     },
     "metadata": {},
     "output_type": "display_data"
    }
   ],
   "source": [
    "icrm_queues_1 = icrm_queues.withColumnRenamed('name', 'TICKET_TYPE')\\\n",
    "                           .withColumnRenamed('id', 'QUEUE_ID') "
   ]
  },
  {
   "cell_type": "code",
   "execution_count": 46,
   "metadata": {},
   "outputs": [
    {
     "data": {
      "application/vnd.jupyter.widget-view+json": {
       "model_id": "",
       "version_major": 2,
       "version_minor": 0
      },
      "text/plain": [
       "FloatProgress(value=0.0, bar_style='info', description='Progress:', layout=Layout(height='25px', width='50%'),…"
      ]
     },
     "metadata": {},
     "output_type": "display_data"
    }
   ],
   "source": [
    "icrm_queues_2 = icrm_queues_1.groupBy('QUEUE_ID').agg(sf.max('TICKET_TYPE').alias('TICKET_TYPE'))"
   ]
  },
  {
   "cell_type": "code",
   "execution_count": 47,
   "metadata": {},
   "outputs": [
    {
     "data": {
      "application/vnd.jupyter.widget-view+json": {
       "model_id": "",
       "version_major": 2,
       "version_minor": 0
      },
      "text/plain": [
       "FloatProgress(value=0.0, bar_style='info', description='Progress:', layout=Layout(height='25px', width='50%'),…"
      ]
     },
     "metadata": {},
     "output_type": "display_data"
    }
   ],
   "source": [
    "gscPythonOptions = {\"url\": \"jdbc:postgresql://10.35.12.194:5432/gpadmin\",\"user\": \"gpspark\",\"password\": \"spark@456\",\n",
    "         \"dbschema\": \"public\",\"dbtable\": \"marketing_icrm_mph_sr\",\n",
    "         \"partitionColumn\":\"row_num\",\"partitions\":1,\"server.port\":\"1107\"} \n",
    "\n",
    "icrm_sr = sqlContext.read.format(\"greenplum\").options(**gscPythonOptions).load()\\\n",
    ".select('ID','NAME')"
   ]
  },
  {
   "cell_type": "code",
   "execution_count": 48,
   "metadata": {},
   "outputs": [
    {
     "data": {
      "application/vnd.jupyter.widget-view+json": {
       "model_id": "",
       "version_major": 2,
       "version_minor": 0
      },
      "text/plain": [
       "FloatProgress(value=0.0, bar_style='info', description='Progress:', layout=Layout(height='25px', width='50%'),…"
      ]
     },
     "metadata": {},
     "output_type": "display_data"
    }
   ],
   "source": [
    "icrm_sr_1 = icrm_sr.withColumnRenamed('name', 'SUB_TYPE')\\\n",
    "                   .withColumnRenamed('id', 'SR_ID')"
   ]
  },
  {
   "cell_type": "code",
   "execution_count": 49,
   "metadata": {},
   "outputs": [
    {
     "data": {
      "application/vnd.jupyter.widget-view+json": {
       "model_id": "",
       "version_major": 2,
       "version_minor": 0
      },
      "text/plain": [
       "FloatProgress(value=0.0, bar_style='info', description='Progress:', layout=Layout(height='25px', width='50%'),…"
      ]
     },
     "metadata": {},
     "output_type": "display_data"
    }
   ],
   "source": [
    "icrm_sr_2 = icrm_sr_1.groupBy('SR_ID').agg(sf.max('SUB_TYPE').alias('SUB_TYPE'))"
   ]
  },
  {
   "cell_type": "code",
   "execution_count": 50,
   "metadata": {},
   "outputs": [
    {
     "data": {
      "application/vnd.jupyter.widget-view+json": {
       "model_id": "",
       "version_major": 2,
       "version_minor": 0
      },
      "text/plain": [
       "FloatProgress(value=0.0, bar_style='info', description='Progress:', layout=Layout(height='25px', width='50%'),…"
      ]
     },
     "metadata": {},
     "output_type": "display_data"
    }
   ],
   "source": [
    "gscPythonOptions = {\"url\": \"jdbc:postgresql://10.35.12.194:5432/gpadmin\",\"user\": \"gpspark\",\"password\": \"spark@456\",\n",
    "         \"dbschema\": \"public\",\"dbtable\": \"marketing_icrm_mph_policy_cases_1_c\",\n",
    "         \"partitionColumn\":\"row_num\",\"partitions\":1,\"server.port\":\"1107\"} \n",
    "\n",
    "icrm_policy_cases = sqlContext.read.format(\"greenplum\").options(**gscPythonOptions).load()\\\n",
    ".select('MPH_POLICY_CASES_1CASES_IDB', 'MPH_POLICY_CASES_1MPH_POLICY_IDA')"
   ]
  },
  {
   "cell_type": "code",
   "execution_count": 51,
   "metadata": {},
   "outputs": [
    {
     "data": {
      "application/vnd.jupyter.widget-view+json": {
       "model_id": "",
       "version_major": 2,
       "version_minor": 0
      },
      "text/plain": [
       "FloatProgress(value=0.0, bar_style='info', description='Progress:', layout=Layout(height='25px', width='50%'),…"
      ]
     },
     "metadata": {},
     "output_type": "display_data"
    }
   ],
   "source": [
    "icrm_policy_cases_1 = icrm_policy_cases.withColumnRenamed('mph_policy_cases_1cases_idb', 'CASE_ID')\\\n",
    "                                       .withColumnRenamed('mph_policy_cases_1mph_policy_ida', 'POLICY_ID')"
   ]
  },
  {
   "cell_type": "code",
   "execution_count": 52,
   "metadata": {},
   "outputs": [
    {
     "data": {
      "application/vnd.jupyter.widget-view+json": {
       "model_id": "",
       "version_major": 2,
       "version_minor": 0
      },
      "text/plain": [
       "FloatProgress(value=0.0, bar_style='info', description='Progress:', layout=Layout(height='25px', width='50%'),…"
      ]
     },
     "metadata": {},
     "output_type": "display_data"
    }
   ],
   "source": [
    "icrm_df = rccn_icrm_policy_1.join(icrm_policy_cases_1, 'POLICY_ID', 'left')"
   ]
  },
  {
   "cell_type": "code",
   "execution_count": 53,
   "metadata": {},
   "outputs": [
    {
     "data": {
      "application/vnd.jupyter.widget-view+json": {
       "model_id": "",
       "version_major": 2,
       "version_minor": 0
      },
      "text/plain": [
       "FloatProgress(value=0.0, bar_style='info', description='Progress:', layout=Layout(height='25px', width='50%'),…"
      ]
     },
     "metadata": {},
     "output_type": "display_data"
    },
    {
     "name": "stdout",
     "output_type": "stream",
     "text": [
      "['POLICY_ID', 'POLICY_NUMBER', 'source_system_customer_id']"
     ]
    }
   ],
   "source": [
    "rccn_icrm_policy_1.columns"
   ]
  },
  {
   "cell_type": "code",
   "execution_count": 54,
   "metadata": {},
   "outputs": [
    {
     "data": {
      "application/vnd.jupyter.widget-view+json": {
       "model_id": "",
       "version_major": 2,
       "version_minor": 0
      },
      "text/plain": [
       "FloatProgress(value=0.0, bar_style='info', description='Progress:', layout=Layout(height='25px', width='50%'),…"
      ]
     },
     "metadata": {},
     "output_type": "display_data"
    }
   ],
   "source": [
    "icrm_df_1 = icrm_df.join(icrm_cases_1, 'CASE_ID', 'left')"
   ]
  },
  {
   "cell_type": "code",
   "execution_count": 55,
   "metadata": {},
   "outputs": [
    {
     "data": {
      "application/vnd.jupyter.widget-view+json": {
       "model_id": "",
       "version_major": 2,
       "version_minor": 0
      },
      "text/plain": [
       "FloatProgress(value=0.0, bar_style='info', description='Progress:', layout=Layout(height='25px', width='50%'),…"
      ]
     },
     "metadata": {},
     "output_type": "display_data"
    }
   ],
   "source": [
    "icrm_df_2 = icrm_df_1.join(icrm_sr_2, 'SR_ID', 'left')"
   ]
  },
  {
   "cell_type": "code",
   "execution_count": 56,
   "metadata": {},
   "outputs": [
    {
     "data": {
      "application/vnd.jupyter.widget-view+json": {
       "model_id": "",
       "version_major": 2,
       "version_minor": 0
      },
      "text/plain": [
       "FloatProgress(value=0.0, bar_style='info', description='Progress:', layout=Layout(height='25px', width='50%'),…"
      ]
     },
     "metadata": {},
     "output_type": "display_data"
    }
   ],
   "source": [
    "icrm_df_3 = icrm_df_2.join(icrm_queues_2, 'QUEUE_ID', 'left')"
   ]
  },
  {
   "cell_type": "code",
   "execution_count": 57,
   "metadata": {},
   "outputs": [
    {
     "data": {
      "application/vnd.jupyter.widget-view+json": {
       "model_id": "",
       "version_major": 2,
       "version_minor": 0
      },
      "text/plain": [
       "FloatProgress(value=0.0, bar_style='info', description='Progress:', layout=Layout(height='25px', width='50%'),…"
      ]
     },
     "metadata": {},
     "output_type": "display_data"
    }
   ],
   "source": [
    "icrm_df_3A = icrm_df_3.withColumn('TICKET_RAISED_DATE', from_unixtime(unix_timestamp(col('TICKET_RAISED_DATE')), \"yyyy-MM-dd\"))\\\n",
    ".withColumn('TICKET_CLOSED_DATE', from_unixtime(unix_timestamp(col('TICKET_CLOSED_DATE')), \"yyyy-MM-dd\"))\\\n",
    ".drop('SR_ID')\\\n",
    ".drop('CASE_ID')\\\n",
    ".drop('POLICY_ID')\\\n",
    ".drop('QUEUE_ID')\n"
   ]
  },
  {
   "cell_type": "code",
   "execution_count": 58,
   "metadata": {},
   "outputs": [
    {
     "data": {
      "application/vnd.jupyter.widget-view+json": {
       "model_id": "",
       "version_major": 2,
       "version_minor": 0
      },
      "text/plain": [
       "FloatProgress(value=0.0, bar_style='info', description='Progress:', layout=Layout(height='25px', width='50%'),…"
      ]
     },
     "metadata": {},
     "output_type": "display_data"
    }
   ],
   "source": [
    "icrm_df_4=icrm_df_3A.withColumn('TAT',datediff(col(\"TICKET_CLOSED_DATE\"),col(\"TICKET_RAISED_DATE\")))"
   ]
  },
  {
   "cell_type": "code",
   "execution_count": 59,
   "metadata": {},
   "outputs": [
    {
     "data": {
      "application/vnd.jupyter.widget-view+json": {
       "model_id": "",
       "version_major": 2,
       "version_minor": 0
      },
      "text/plain": [
       "FloatProgress(value=0.0, bar_style='info', description='Progress:', layout=Layout(height='25px', width='50%'),…"
      ]
     },
     "metadata": {},
     "output_type": "display_data"
    }
   ],
   "source": [
    "icrm_df_4_1=icrm_df_4.withColumn('INBOUND_TICKET',when(col('INBOUND_TICKET').isNull(),lit('-')).otherwise(col('INBOUND_TICKET')))\\\n",
    ".withColumn('TICKET_RAISED_DATE',when(col('TICKET_RAISED_DATE').isNull(),lit('-')).otherwise(col('TICKET_RAISED_DATE')))\\\n",
    ".withColumn('TICKET_CLOSED_DATE',when(col('TICKET_CLOSED_DATE').isNull(),lit('-')).otherwise(col('TICKET_CLOSED_DATE')))\\\n",
    ".withColumn('TICKET_STATUS',when(col('TICKET_STATUS').isNull(),lit('-')).otherwise(col('TICKET_STATUS')))\\\n",
    ".withColumn('SOURCE',when(col('SOURCE').isNull(),lit('-')).otherwise(col('SOURCE')))\\\n",
    ".withColumn('TICKET_REMARK',when(col('TICKET_REMARK').isNull(),lit('-')).otherwise(col('TICKET_REMARK')))\\\n",
    ".withColumn('SUB_TYPE',when(col('SUB_TYPE').isNull(),lit('-')).otherwise(col('SUB_TYPE')))\\\n",
    ".withColumn('TICKET_TYPE',when(col('TICKET_TYPE').isNull(),lit('-')).otherwise(col('TICKET_TYPE')))\\\n",
    ".withColumn('TAT',when(col('TAT').isNull(),lit(0)).otherwise(col('TAT')))"
   ]
  },
  {
   "cell_type": "code",
   "execution_count": 60,
   "metadata": {},
   "outputs": [
    {
     "data": {
      "application/vnd.jupyter.widget-view+json": {
       "model_id": "",
       "version_major": 2,
       "version_minor": 0
      },
      "text/plain": [
       "FloatProgress(value=0.0, bar_style='info', description='Progress:', layout=Layout(height='25px', width='50%'),…"
      ]
     },
     "metadata": {},
     "output_type": "display_data"
    }
   ],
   "source": [
    "import time\n",
    "ts = time.gmtime()\n",
    "import pytz\n",
    "# derive important parameters\n",
    "IST = pytz.timezone('Asia/Kolkata')\n",
    "current_date = datetime.datetime.now(IST).strftime(\"%Y-%m-%d\")"
   ]
  },
  {
   "cell_type": "code",
   "execution_count": 61,
   "metadata": {},
   "outputs": [
    {
     "data": {
      "application/vnd.jupyter.widget-view+json": {
       "model_id": "",
       "version_major": 2,
       "version_minor": 0
      },
      "text/plain": [
       "FloatProgress(value=0.0, bar_style='info', description='Progress:', layout=Layout(height='25px', width='50%'),…"
      ]
     },
     "metadata": {},
     "output_type": "display_data"
    }
   ],
   "source": [
    "icrm_df_5=icrm_df_4_1.withColumnRenamed('INBOUND_TICKET','TICKET_NUMBER')\\\n",
    "                        .withColumnRenamed('TICKET_RAISED_DATE','TICKET_CREATED_DATE')\\\n",
    "                        .withColumnRenamed('TAT','TICKET_TAT_IN_DAYS')\\\n",
    "                        .withColumnRenamed('SUB_TYPE','TICKET_SUB_TYPE')\\\n",
    "                        .withColumnRenamed('SOURCE','TICKET_SOURCE')\\\n",
    "                        .withColumnRenamed('TAT','TICKET_TAT_IN_DAYS')\\\n",
    "                        .withColumnRenamed('TICKET_REMARK','TICKET_WORK_NOTE')\\"
   ]
  },
  {
   "cell_type": "code",
   "execution_count": 62,
   "metadata": {},
   "outputs": [
    {
     "data": {
      "application/vnd.jupyter.widget-view+json": {
       "model_id": "",
       "version_major": 2,
       "version_minor": 0
      },
      "text/plain": [
       "FloatProgress(value=0.0, bar_style='info', description='Progress:', layout=Layout(height='25px', width='50%'),…"
      ]
     },
     "metadata": {},
     "output_type": "display_data"
    }
   ],
   "source": [
    "df_main=icrm_df_5.drop_duplicates()\n",
    "df_main=df_main.withColumn('LOAD_DATE',lit(current_date))"
   ]
  },
  {
   "cell_type": "code",
   "execution_count": null,
   "metadata": {},
   "outputs": [],
   "source": [
    "icrm_df=df_main.withColumn('TICKET_NUMBER',when(col('TICKET_NUMBER').isNull(),lit('-')).otherwise(col('TICKET_NUMBER')))\\\n",
    ".withColumn('TICKET_CREATED_DATE',when(col('TICKET_CREATED_DATE').isNull(),lit('-')).otherwise(col('TICKET_CREATED_DATE')))\\\n",
    ".withColumn('ticket_close_date',when(col('TICKET_CLOSED_DATE').isNull(),lit('-')).otherwise(col('TICKET_CLOSED_DATE')))\\\n",
    ".withColumn('ticket_status',when(col('TICKET_STATUS').isNull(),lit('-')).otherwise(col('TICKET_STATUS')))\\\n",
    ".withColumn('ticket_source',when(col('TICKET_SOURCE').isNull(),lit('-')).otherwise(col('TICKET_SOURCE')))\\\n",
    ".withColumn('TICKET_WORK_NOTE',when(col('TICKET_WORK_NOTE').isNull(),lit('-')).otherwise(col('TICKET_WORK_NOTE')))\\\n",
    ".withColumn('TICKET_SUB_TYPE',when(col('TICKET_SUB_TYPE').isNull(),lit('-')).otherwise(col('TICKET_SUB_TYPE')))\\\n",
    ".withColumn('TICKET_TYPE',when(col('TICKET_TYPE').isNull(),lit('-')).otherwise(col('TICKET_TYPE')))\\\n",
    ".withColumn('TICKET_TAT_IN_DAYS',when(col('TICKET_TAT_IN_DAYS').isNull(),lit(0)).otherwise(col('TICKET_TAT_IN_DAYS')))"
   ]
  },
  {
   "cell_type": "code",
   "execution_count": null,
   "metadata": {},
   "outputs": [],
   "source": [
    "icrm_df=icrm_df.withColumnRenamed('TICKET_WORK_NOTE','remarks')\\\n",
    ".withColumnRenamed('TICKET_TYPE','deposition')\\\n",
    ".withColumnRenamed('TICKET_SUB_TYPE','sub_deposition')\\\n",
    ".withColumnRenamed('TICKET_TAT_IN_DAYS','ticket_tat')\\"
   ]
  },
  {
   "cell_type": "code",
   "execution_count": null,
   "metadata": {},
   "outputs": [],
   "source": [
    "icrm_df=icrm_df.withColumn('source_app',lit('ICRM')).withColumn('interaction_type',lit('Inbound Calling'))"
   ]
  },
  {
   "cell_type": "code",
   "execution_count": null,
   "metadata": {},
   "outputs": [],
   "source": [
    "icrm_df=icrm_df.withColumnRenamed('TICKET_CREATED_DATE','interaction_date')\\\n",
    ".withColumnRenamed('POLICY_NUMBER','policy_no')\\\n",
    ".withColumnRenamed('TICKET_NUMBER','ticket_no')"
   ]
  },
  {
   "cell_type": "code",
   "execution_count": null,
   "metadata": {},
   "outputs": [],
   "source": [
    "icrm_df=icrm_df.withColumn('certificate_no',lit(None).cast('string'))\\\n",
    ".withColumn('reference_num',lit(None).cast('long'))\\\n",
    ".withColumn('transaction_id',lit(None).cast('string'))\\\n",
    ".withColumn('mobile',lit(None).cast('string'))\\\n",
    ".withColumn('email',lit(None).cast('string'))\\\n",
    ".withColumn('awb_no',lit(None).cast('string'))\\\n",
    ".withColumn('customer_name',lit(None).cast('string'))\\\n",
    ".withColumn('callback_date',lit(None).cast('date'))\\\n",
    ".withColumn('language_pref',lit(None).cast('string'))\\\n",
    ".withColumn('language_barrier',lit(None).cast('string'))\\\n",
    ".withColumn('lost_reason',lit(None).cast('string'))\\\n",
    ".withColumn('competitor_name',lit(None).cast('string'))\\\n",
    ".withColumn('open_status',lit(None).cast('string'))\\\n",
    ".withColumn('link_status',lit(None).cast('string'))\\\n",
    ".withColumn('print_flag',lit(None).cast('string'))\\\n",
    ".withColumn('courier',lit(None).cast('string'))\\\n",
    ".withColumn('delivery_return_date',lit(None).cast('date'))\\\n",
    ".withColumn('recieved_by',lit(None).cast('string'))"
   ]
  },
  {
   "cell_type": "code",
   "execution_count": null,
   "metadata": {},
   "outputs": [],
   "source": [
    "icrm_df=icrm_df.select([col(c).cast(\"string\") for c in icrm_df.columns])\n",
    "icrm_df=icrm_df.withColumn('interaction_date', col('interaction_date').cast(DateType()))\\\n",
    ".withColumn('delivery_return_date', col('delivery_return_date').cast(DateType()))\\\n",
    ".withColumn('reference_num', col('reference_num').cast('long'))\\\n",
    ".withColumn('callback_date', col('callback_date').cast(DateType()))\\\n",
    ".withColumn('ticket_close_date', col('ticket_close_date').cast(DateType()))\\\n",
    ".withColumn('ticket_tat', col('ticket_tat').cast('long'))\n",
    "icrm_df=icrm_df.filter(col('interaction_date').isNotNull()).filter(col('source_system_customer_id').isNotNull())\n",
    "icrm_df=icrm_df.na.fill(value=0,subset=[\"certificate_no\"])\n",
    "icrm_df=icrm_df.withColumn(\"certificate_no\", coalesce(col(\"certificate_no\"), lit('00000000')))"
   ]
  },
  {
   "cell_type": "code",
   "execution_count": null,
   "metadata": {},
   "outputs": [],
   "source": [
    "icrm_df=icrm_df.select('source_app','interaction_type','interaction_date','policy_no',col('certificate_no'),'source_system_customer_id','reference_num','transaction_id','ticket_no',\n",
    "'mobile','email','awb_no','customer_name','deposition','sub_deposition','callback_date','remarks','language_pref','language_barrier','lost_reason',\n",
    "'competitor_name','ticket_close_date','ticket_tat','ticket_status','ticket_source','open_status','link_status','print_flag','courier','delivery_return_date',\n",
    "'recieved_by')"
   ]
  },
  {
   "cell_type": "code",
   "execution_count": null,
   "metadata": {},
   "outputs": [],
   "source": [
    "primary_key = ['source_app','interaction_type','source_system_customer_id', 'policy_no','certificate_no']\n",
    "\n",
    "from pyspark.sql.window import Window\n",
    "\n",
    "icrm_df = icrm_df.withColumn(\"rn\", F.row_number()\n",
    "        .over(Window.partitionBy(primary_key)\n",
    "        .orderBy(F.col(\"interaction_date\").desc())))\n",
    "\n",
    "icrm_df = icrm_df.filter(F.col(\"rn\") == 1).drop(\"rn\")"
   ]
  },
  {
   "cell_type": "code",
   "execution_count": null,
   "metadata": {},
   "outputs": [],
   "source": [
    "icrm_df.persist(pyspark.StorageLevel.MEMORY_AND_DISK)\n",
    "records=icrm_df.count()\n",
    "records"
   ]
  },
  {
   "cell_type": "code",
   "execution_count": null,
   "metadata": {},
   "outputs": [],
   "source": [
    "output_index = \"interaction_journal_staging\"\n",
    "schema = \"customermart\"\n",
    "\n",
    "\n",
    "import sys\n",
    "try:\n",
    "\n",
    "    icrm_df.write.format(\"greenplum\")\\\n",
    "    .option(\"dbtable\",output_index).option('dbschema',schema)\\\n",
    "    .option(\"server.port\",\"1150-1170\").option(\"url\",prod_url)\\\n",
    "    .option(\"user\", user_prod).option(\"password\",pwd_prod).mode('overwrite').save()\n",
    "\n",
    "\n",
    "except Exception as e:\n",
    "    x = e\n",
    "    print(x)\n",
    "else:\n",
    "    x = 200 #success\n",
    "    print(x)"
   ]
  },
  {
   "cell_type": "code",
   "execution_count": null,
   "metadata": {},
   "outputs": [],
   "source": [
    "table_name=\"interaction_journal\"\n",
    "conn_prod = psycopg2.connect(host=prod_host, port=prod_port, user=user_prod, password=pwd_prod, dbname=prod_dbname)\n",
    "conn_to=conn_prod\n",
    "status=''\n",
    "\n",
    "import sys\n",
    "try:\n",
    "    update(conn_to,table_name,prod_gpdb_spark_options, schema=\"customermart\")\n",
    "except Exception as e:\n",
    "    x = e\n",
    "    print(x)\n",
    "    status='Failed'\n",
    "else:\n",
    "    x = 'success'\n",
    "    print(x)\n",
    "    status='Success'"
   ]
  },
  {
   "cell_type": "code",
   "execution_count": null,
   "metadata": {},
   "outputs": [],
   "source": [
    "table_name='interaction_journal'\n",
    "source='ICRM'\n",
    "\n",
    "if  x == 'success':\n",
    "    update_progress(table_name,source,time_filter,records,start_time,starttime,'Success')\n",
    "    print('SUCCESS')\n",
    "else:\n",
    "    update_progress(table_name,source,time_filter,'0',start_time,starttime,'Failed')\n",
    "    print('FAILED')\n",
    "    \n",
    "icrm_df.unpersist()"
   ]
  },
  {
   "cell_type": "markdown",
   "metadata": {},
   "source": [
    "# OCRM"
   ]
  },
  {
   "cell_type": "code",
   "execution_count": null,
   "metadata": {},
   "outputs": [],
   "source": [
    "starttime = time.time()\n",
    "start_time = datetime.datetime.now(pytz.timezone('Asia/Kolkata')).strftime(\"%Y-%m-%d %H:%M:%S.%f\")\n",
    "start_time"
   ]
  },
  {
   "cell_type": "code",
   "execution_count": null,
   "metadata": {},
   "outputs": [],
   "source": [
    "table_name='interaction_journal'\n",
    "source='OCRM'"
   ]
  },
  {
   "cell_type": "code",
   "execution_count": null,
   "metadata": {},
   "outputs": [],
   "source": [
    "latest_progress=get_latest_progress(table_name,source)\n",
    "# dates in string format\n",
    "str_d1 = latest_progress.strftime(\"%Y-%m-%d\")\n",
    "str_d2 = datetime.datetime.now(pytz.timezone('Asia/Kolkata')).strftime(\"%Y-%m-%d\")\n",
    "\n",
    "# convert string to date object\n",
    "d1 = datetime.datetime.strptime(str_d1, \"%Y-%m-%d\")\n",
    "d2 = datetime.datetime.strptime(str_d2, \"%Y-%m-%d\")\n",
    "\n",
    "# difference between dates in timedelta\n",
    "delta = d2 - d1\n",
    "day=delta.days-1#currently T-2 change 2 to 1 for T-1\n",
    "\n",
    "time_filter={'start_date':latest_progress,'end_date':latest_progress+datetime.timedelta(days=day)}\n",
    "time_filter"
   ]
  },
  {
   "cell_type": "code",
   "execution_count": null,
   "metadata": {},
   "outputs": [],
   "source": [
    "gscPythonOptions = {\n",
    "\"url\": \"jdbc:postgresql://10.35.12.194:5432/gpadmin\",\n",
    "\"user\": \"gpspark\",\n",
    "\"password\": \"spark@456\",\n",
    "\"dbtable\": \"public.marketing_ocrm_mph_motor_renewal\",\n",
    "\"server.port\": \"1151-1160\"}\n",
    "\n",
    "ocrm_rpc = sqlContext.read.format(\"jdbc\").options(**gscPythonOptions).load()\\\n",
    ".selectExpr('policy_no','right_party_contact_number','email_id','deleted','date_entered','date_modified','comb_name as customer_name')\\\n",
    ".filter((col('right_party_contact_number').isNotNull()) & (col('policy_no').isNotNull()) & (col('deleted')=='FALSE')).drop(col('deleted'))\\\n",
    ".filter(col('date_modified').between(to_timestamp(lit(time_filter['start_date']),\n",
    "                                                                 format='yyyy-MM-dd'),\n",
    "                                                    to_timestamp(lit(time_filter['end_date']),\n",
    "                                                                 format='yyyy-MM-dd')))"
   ]
  },
  {
   "cell_type": "code",
   "execution_count": null,
   "metadata": {},
   "outputs": [],
   "source": [
    "gscPythonOptions = {\"url\": \"jdbc:postgresql://10.35.12.194:5432/gpadmin\",\n",
    "                    \"user\": \"gpspark\",\n",
    "                    \"password\": \"spark@456\",\n",
    "                    \"dbschema\": \"registers\",\n",
    "                    \"dbtable\": \"premium_register\",\n",
    "                    \"partitionColumn\":\"row_num\",\n",
    "                    \"partitions\": 16,\n",
    "                    \"server.port\": '1150-1170'}\n",
    "\n",
    "premium_reg = sqlContext.read.format(\"greenplum\").options(**gscPythonOptions).load()\\\n",
    "                   .selectExpr(\"policy_no\",\"certificate_no\", 'num_reference_no as reference_num','customer_id', 'timestamp')\\\n",
    "                   .filter(col('customer_id').isNotNull())\n",
    "\n",
    "premium_reg.columns"
   ]
  },
  {
   "cell_type": "code",
   "execution_count": null,
   "metadata": {},
   "outputs": [],
   "source": [
    "ocrm_rpc=ocrm_rpc.join(premium_reg, ocrm_rpc.policy_no==premium_reg.policy_no, 'left').drop(premium_reg.policy_no)"
   ]
  },
  {
   "cell_type": "code",
   "execution_count": null,
   "metadata": {},
   "outputs": [],
   "source": [
    "ocrm_rpc=ocrm_rpc.withColumn('source_app',lit('OCRM'))\\\n",
    "             .withColumn('interaction_type',lit('Outbound Call'))\\\n",
    "             .withColumn('interaction_date',col('date_entered'))\\\n",
    "             .withColumn('source_system_customer_id',col('customer_id'))\\\n",
    "             .withColumn('mobile',col('right_party_contact_number'))\\\n",
    "             .withColumn('email',col('email_id'))"
   ]
  },
  {
   "cell_type": "code",
   "execution_count": null,
   "metadata": {},
   "outputs": [],
   "source": [
    "ocrm_rpc=ocrm_rpc.withColumn('transaction_id',lit(None).cast('string'))\\\n",
    ".withColumn('ticket_no',lit(None).cast('string'))\\\n",
    ".withColumn('awb_no',lit(None).cast('string'))\\\n",
    ".withColumn('deposition',lit(None).cast('string'))\\\n",
    ".withColumn('sub_deposition',lit(None).cast('string'))\\\n",
    ".withColumn('callback_date',lit(None).cast('date'))\\\n",
    ".withColumn('language_pref',lit(None).cast('string'))\\\n",
    ".withColumn('language_barrier',lit(None).cast('string'))\\\n",
    ".withColumn('lost_reason',lit(None).cast('string'))\\\n",
    ".withColumn('competitor_name',lit(None).cast('string'))\\\n",
    ".withColumn('ticket_close_date',lit(None).cast('date'))\\\n",
    ".withColumn('ticket_tat',lit(None).cast('int'))\\\n",
    ".withColumn('ticket_status',lit(None).cast('string'))\\\n",
    ".withColumn('ticket_source',lit(None).cast('string'))\\\n",
    ".withColumn('open_status',lit(None).cast('string'))\\\n",
    ".withColumn('remarks',lit(None).cast('string'))\\\n",
    ".withColumn('link_status',lit(None).cast('string'))\\\n",
    ".withColumn('print_flag',lit(None).cast('string'))\\\n",
    ".withColumn('courier',lit(None).cast('string'))\\\n",
    ".withColumn('delivery_return_date',lit(None).cast('date'))\\\n",
    ".withColumn('recieved_by',lit(None).cast('string'))"
   ]
  },
  {
   "cell_type": "code",
   "execution_count": null,
   "metadata": {},
   "outputs": [],
   "source": [
    "ocrm_rpc=ocrm_rpc.select('source_app','interaction_type','interaction_date','policy_no','certificate_no','source_system_customer_id','reference_num','transaction_id','ticket_no',\n",
    "'mobile','email','awb_no','customer_name','deposition','sub_deposition','callback_date','remarks','language_pref','language_barrier','lost_reason',\n",
    "'competitor_name','ticket_close_date','ticket_tat','ticket_status','ticket_source','open_status','link_status','print_flag','courier','delivery_return_date',\n",
    "'recieved_by')"
   ]
  },
  {
   "cell_type": "code",
   "execution_count": null,
   "metadata": {},
   "outputs": [],
   "source": [
    "ocrm_rpc=ocrm_rpc.dropDuplicates()\n",
    "ocrm_rpc=ocrm_rpc.withColumn(\"certificate_no\", coalesce(col(\"certificate_no\"), lit('00000000'))).filter(col('source_system_customer_id').isNotNull())"
   ]
  },
  {
   "cell_type": "code",
   "execution_count": null,
   "metadata": {},
   "outputs": [],
   "source": [
    "primary_key = ['source_app','interaction_type','source_system_customer_id', 'policy_no','certificate_no']\n",
    "\n",
    "from pyspark.sql.window import Window\n",
    "\n",
    "ocrm_rpc = ocrm_rpc.withColumn(\"rn\", F.row_number()\n",
    "        .over(Window.partitionBy(primary_key)\n",
    "        .orderBy(F.col(\"interaction_date\").desc())))\n",
    "\n",
    "ocrm_rpc = ocrm_rpc.filter(F.col(\"rn\") == 1).drop(\"rn\")"
   ]
  },
  {
   "cell_type": "code",
   "execution_count": null,
   "metadata": {},
   "outputs": [],
   "source": [
    "ocrm_rpc.persist(pyspark.StorageLevel.MEMORY_AND_DISK)\n",
    "records=ocrm_rpc.count() ##223058\n",
    "records"
   ]
  },
  {
   "cell_type": "code",
   "execution_count": null,
   "metadata": {},
   "outputs": [],
   "source": [
    "output_index = \"interaction_journal_staging\" \n",
    "schema = \"customermart\"\n",
    "\n",
    "\n",
    "import sys\n",
    "try:\n",
    "\n",
    "    ocrm_rpc.write.format(\"greenplum\")\\\n",
    "    .option(\"dbtable\",output_index).option('dbschema',schema)\\\n",
    "    .option(\"server.port\",\"1150-1170\").option(\"url\",prod_url)\\\n",
    "    .option(\"user\", user_prod).option(\"password\",pwd_prod).mode('overwrite').save()\n",
    "\n",
    "\n",
    "except Exception as e:\n",
    "    x = e\n",
    "    print(x)\n",
    "else:\n",
    "    x = 200 #success\n",
    "    print(x)"
   ]
  },
  {
   "cell_type": "code",
   "execution_count": null,
   "metadata": {},
   "outputs": [],
   "source": [
    "table_name=\"interaction_journal\"\n",
    "conn_prod = psycopg2.connect(host=prod_host, port=prod_port, user=user_prod, password=pwd_prod, dbname=prod_dbname)\n",
    "conn_to=conn_prod\n",
    "status=''\n",
    "\n",
    "import sys\n",
    "try:\n",
    "    update(conn_to,table_name,prod_gpdb_spark_options, schema=\"customermart\")\n",
    "except Exception as e:\n",
    "    x = e\n",
    "    print(x)\n",
    "    status='Failed'\n",
    "else:\n",
    "    x = 'success'\n",
    "    print(x)\n",
    "    status='Success'"
   ]
  },
  {
   "cell_type": "code",
   "execution_count": null,
   "metadata": {},
   "outputs": [],
   "source": [
    "table_name='interaction_journal'\n",
    "source='OCRM'\n",
    "\n",
    "if  x == 'success':\n",
    "    update_progress(table_name,source,time_filter,records,start_time,starttime,'Success')\n",
    "    print('SUCCESS')\n",
    "else:\n",
    "    update_progress(table_name,source,time_filter,'0',start_time,starttime,'Failed')\n",
    "    print('FAILED')\n",
    "    \n",
    "ocrm_rpc.unpersist()"
   ]
  },
  {
   "cell_type": "markdown",
   "metadata": {},
   "source": [
    "# App ,broker,voice bot"
   ]
  },
  {
   "cell_type": "code",
   "execution_count": 63,
   "metadata": {},
   "outputs": [
    {
     "data": {
      "application/vnd.jupyter.widget-view+json": {
       "model_id": "",
       "version_major": 2,
       "version_minor": 0
      },
      "text/plain": [
       "FloatProgress(value=0.0, bar_style='info', description='Progress:', layout=Layout(height='25px', width='50%'),…"
      ]
     },
     "metadata": {},
     "output_type": "display_data"
    },
    {
     "name": "stdout",
     "output_type": "stream",
     "text": [
      "'2024-03-23 12:15:56.868025'"
     ]
    }
   ],
   "source": [
    "starttime = time.time()\n",
    "start_time = datetime.datetime.now(pytz.timezone('Asia/Kolkata')).strftime(\"%Y-%m-%d %H:%M:%S.%f\")\n",
    "start_time"
   ]
  },
  {
   "cell_type": "code",
   "execution_count": 64,
   "metadata": {},
   "outputs": [
    {
     "data": {
      "application/vnd.jupyter.widget-view+json": {
       "model_id": "",
       "version_major": 2,
       "version_minor": 0
      },
      "text/plain": [
       "FloatProgress(value=0.0, bar_style='info', description='Progress:', layout=Layout(height='25px', width='50%'),…"
      ]
     },
     "metadata": {},
     "output_type": "display_data"
    }
   ],
   "source": [
    "table_name='interaction_journal'\n",
    "source='SALESFORCE_CASE'"
   ]
  },
  {
   "cell_type": "code",
   "execution_count": 65,
   "metadata": {},
   "outputs": [
    {
     "data": {
      "application/vnd.jupyter.widget-view+json": {
       "model_id": "",
       "version_major": 2,
       "version_minor": 0
      },
      "text/plain": [
       "FloatProgress(value=0.0, bar_style='info', description='Progress:', layout=Layout(height='25px', width='50%'),…"
      ]
     },
     "metadata": {},
     "output_type": "display_data"
    },
    {
     "name": "stdout",
     "output_type": "stream",
     "text": [
      "{'start_date': datetime.datetime(2024, 3, 19, 0, 0), 'end_date': datetime.datetime(2024, 3, 22, 0, 0)}"
     ]
    }
   ],
   "source": [
    "latest_progress=get_latest_progress(table_name,source)\n",
    "# dates in string format\n",
    "str_d1 = latest_progress.strftime(\"%Y-%m-%d\")\n",
    "str_d2 = datetime.datetime.now(pytz.timezone('Asia/Kolkata')).strftime(\"%Y-%m-%d\")\n",
    "\n",
    "# convert string to date object\n",
    "d1 = datetime.datetime.strptime(str_d1, \"%Y-%m-%d\")\n",
    "d2 = datetime.datetime.strptime(str_d2, \"%Y-%m-%d\")\n",
    "\n",
    "# difference between dates in timedelta\n",
    "delta = d2 - d1\n",
    "day=delta.days-1#currently T-2 change 2 to 1 for T-1\n",
    "\n",
    "time_filter={'start_date':latest_progress,'end_date':latest_progress+datetime.timedelta(days=day)}\n",
    "time_filter"
   ]
  },
  {
   "cell_type": "code",
   "execution_count": 66,
   "metadata": {},
   "outputs": [
    {
     "data": {
      "application/vnd.jupyter.widget-view+json": {
       "model_id": "",
       "version_major": 2,
       "version_minor": 0
      },
      "text/plain": [
       "FloatProgress(value=0.0, bar_style='info', description='Progress:', layout=Layout(height='25px', width='50%'),…"
      ]
     },
     "metadata": {},
     "output_type": "display_data"
    },
    {
     "name": "stdout",
     "output_type": "stream",
     "text": [
      "['mobile', 'customer_code__c', 'reference_num1', 'reference_num2', 'sub_deposition', 'ticket_source', 'interaction_date', 'ticket_close_date', 'email', 'policy_no', 'remarks', 'open_status', 'ticket_no', 'customer_name', 'ticket_status', 'ticket_tat', 'certificate_no', 'awb_no', 'deposition']"
     ]
    }
   ],
   "source": [
    "col_str=['requestor_primary_number__c as mobile','customer_code__c','reference_number_proposalnumber_quote_nu__c as reference_num1','spa_reference_number__c as reference_num2','sub_classification_disposition__c as sub_deposition',\\\n",
    "           'ticket_source__c as ticket_source','complaint_registration_date__c as interaction_date','closeddate as ticket_close_date','requestor_email_id__c as email',\\\n",
    "           'policy_number__c as policy_no','problem_remarks__c as remarks','status as open_status','sf_ticket_number__c as ticket_no','requester_name__c as customer_name',\\\n",
    "           'ticket_status__c as ticket_status','ageing_count_in_days__c as ticket_tat','certificate_number__c as certificate_no', 'awb_number__c as awb_no', 'classification_disposition__c as deposition']\n",
    "sc=load_gpdb_jdbc(col_str,\"salesforce_case\",'public','load_date',time_filter).filter(col('policy_no').isNotNull())\\\n",
    ".filter(col('ticket_source__c').isin(['Broker','WhatsApp','Voice Bot','Facebook','Customer App','Mail MD','Inbound Call']))\n",
    "\n",
    "sc.columns"
   ]
  },
  {
   "cell_type": "code",
   "execution_count": 67,
   "metadata": {},
   "outputs": [
    {
     "data": {
      "application/vnd.jupyter.widget-view+json": {
       "model_id": "",
       "version_major": 2,
       "version_minor": 0
      },
      "text/plain": [
       "FloatProgress(value=0.0, bar_style='info', description='Progress:', layout=Layout(height='25px', width='50%'),…"
      ]
     },
     "metadata": {},
     "output_type": "display_data"
    }
   ],
   "source": [
    "app_df=sc"
   ]
  },
  {
   "cell_type": "code",
   "execution_count": 68,
   "metadata": {},
   "outputs": [
    {
     "data": {
      "application/vnd.jupyter.widget-view+json": {
       "model_id": "",
       "version_major": 2,
       "version_minor": 0
      },
      "text/plain": [
       "FloatProgress(value=0.0, bar_style='info', description='Progress:', layout=Layout(height='25px', width='50%'),…"
      ]
     },
     "metadata": {},
     "output_type": "display_data"
    }
   ],
   "source": [
    "app_df=app_df.withColumn('source_app',lit(col('ticket_source')))\\\n",
    "             .withColumn('interaction_type',col('ticket_source'))"
   ]
  },
  {
   "cell_type": "code",
   "execution_count": 69,
   "metadata": {},
   "outputs": [
    {
     "data": {
      "application/vnd.jupyter.widget-view+json": {
       "model_id": "",
       "version_major": 2,
       "version_minor": 0
      },
      "text/plain": [
       "FloatProgress(value=0.0, bar_style='info', description='Progress:', layout=Layout(height='25px', width='50%'),…"
      ]
     },
     "metadata": {},
     "output_type": "display_data"
    }
   ],
   "source": [
    "app_df=app_df.withColumn(\"source_app\", coalesce(col(\"source_app\"), lit('Salesforce Service CRM')))\\\n",
    ".withColumn(\"interaction_type\", coalesce(col(\"interaction_type\"), lit('Salesforce')))"
   ]
  },
  {
   "cell_type": "code",
   "execution_count": 70,
   "metadata": {},
   "outputs": [
    {
     "data": {
      "application/vnd.jupyter.widget-view+json": {
       "model_id": "",
       "version_major": 2,
       "version_minor": 0
      },
      "text/plain": [
       "FloatProgress(value=0.0, bar_style='info', description='Progress:', layout=Layout(height='25px', width='50%'),…"
      ]
     },
     "metadata": {},
     "output_type": "display_data"
    }
   ],
   "source": [
    "app_df=app_df.withColumn('reference_num',coalesce(col('reference_num1'),col('reference_num2')))"
   ]
  },
  {
   "cell_type": "code",
   "execution_count": 71,
   "metadata": {},
   "outputs": [
    {
     "data": {
      "application/vnd.jupyter.widget-view+json": {
       "model_id": "",
       "version_major": 2,
       "version_minor": 0
      },
      "text/plain": [
       "FloatProgress(value=0.0, bar_style='info', description='Progress:', layout=Layout(height='25px', width='50%'),…"
      ]
     },
     "metadata": {},
     "output_type": "display_data"
    }
   ],
   "source": [
    "app_df=app_df.withColumn('reference_num', col('reference_num').cast('long'))"
   ]
  },
  {
   "cell_type": "code",
   "execution_count": 72,
   "metadata": {},
   "outputs": [
    {
     "data": {
      "application/vnd.jupyter.widget-view+json": {
       "model_id": "",
       "version_major": 2,
       "version_minor": 0
      },
      "text/plain": [
       "FloatProgress(value=0.0, bar_style='info', description='Progress:', layout=Layout(height='25px', width='50%'),…"
      ]
     },
     "metadata": {},
     "output_type": "display_data"
    }
   ],
   "source": [
    "col_str=['proposal_no', 'ins_name_client_no as source_system_customer_id', 'policy_no', 'certificate_no', 'binddate']\n",
    "sad=load_gpdb_jdbc(col_str,\"sales_all_details\",'datamarts')"
   ]
  },
  {
   "cell_type": "code",
   "execution_count": 73,
   "metadata": {},
   "outputs": [
    {
     "data": {
      "application/vnd.jupyter.widget-view+json": {
       "model_id": "",
       "version_major": 2,
       "version_minor": 0
      },
      "text/plain": [
       "FloatProgress(value=0.0, bar_style='info', description='Progress:', layout=Layout(height='25px', width='50%'),…"
      ]
     },
     "metadata": {},
     "output_type": "display_data"
    }
   ],
   "source": [
    "sad_1=sad.select('proposal_no', 'source_system_customer_id', 'policy_no')"
   ]
  },
  {
   "cell_type": "code",
   "execution_count": 74,
   "metadata": {},
   "outputs": [
    {
     "data": {
      "application/vnd.jupyter.widget-view+json": {
       "model_id": "",
       "version_major": 2,
       "version_minor": 0
      },
      "text/plain": [
       "FloatProgress(value=0.0, bar_style='info', description='Progress:', layout=Layout(height='25px', width='50%'),…"
      ]
     },
     "metadata": {},
     "output_type": "display_data"
    }
   ],
   "source": [
    "app_df=app_df.join(sad_1, app_df.customer_code__c==sad_1.source_system_customer_id, 'inner').drop(sad_1.policy_no)"
   ]
  },
  {
   "cell_type": "code",
   "execution_count": 75,
   "metadata": {},
   "outputs": [
    {
     "data": {
      "application/vnd.jupyter.widget-view+json": {
       "model_id": "",
       "version_major": 2,
       "version_minor": 0
      },
      "text/plain": [
       "FloatProgress(value=0.0, bar_style='info', description='Progress:', layout=Layout(height='25px', width='50%'),…"
      ]
     },
     "metadata": {},
     "output_type": "display_data"
    }
   ],
   "source": [
    "app_df=app_df.withColumn('transaction_id',lit(None).cast('string'))\\\n",
    ".withColumn('callback_date',lit(None).cast('date'))\\\n",
    ".withColumn('language_pref',lit(None).cast('string'))\\\n",
    ".withColumn('language_barrier',lit(None).cast('string'))\\\n",
    ".withColumn('lost_reason',lit(None).cast('string'))\\\n",
    ".withColumn('competitor_name',lit(None).cast('string'))\\\n",
    ".withColumn('link_status',lit(None).cast('string'))\\\n",
    ".withColumn('print_flag',lit(None).cast('string'))\\\n",
    ".withColumn('courier',lit(None).cast('string'))\\\n",
    ".withColumn('delivery_return_date',lit(None).cast('date'))\\\n",
    ".withColumn('recieved_by',lit(None).cast('string'))"
   ]
  },
  {
   "cell_type": "code",
   "execution_count": 76,
   "metadata": {},
   "outputs": [
    {
     "data": {
      "application/vnd.jupyter.widget-view+json": {
       "model_id": "",
       "version_major": 2,
       "version_minor": 0
      },
      "text/plain": [
       "FloatProgress(value=0.0, bar_style='info', description='Progress:', layout=Layout(height='25px', width='50%'),…"
      ]
     },
     "metadata": {},
     "output_type": "display_data"
    }
   ],
   "source": [
    "from pyspark.sql.functions import unix_timestamp, from_unixtime\n",
    "app_df=app_df.withColumn('interaction_date', from_unixtime(unix_timestamp('interaction_date', 'yyyy-MM-dd')).cast('timestamp'))"
   ]
  },
  {
   "cell_type": "code",
   "execution_count": 77,
   "metadata": {},
   "outputs": [
    {
     "data": {
      "application/vnd.jupyter.widget-view+json": {
       "model_id": "",
       "version_major": 2,
       "version_minor": 0
      },
      "text/plain": [
       "FloatProgress(value=0.0, bar_style='info', description='Progress:', layout=Layout(height='25px', width='50%'),…"
      ]
     },
     "metadata": {},
     "output_type": "display_data"
    }
   ],
   "source": [
    "app_df=app_df.withColumn('interaction_date', col('interaction_date').cast(DateType()))\\\n",
    ".withColumn('delivery_return_date', col('delivery_return_date').cast(DateType()))\\\n",
    ".withColumn('reference_num', col('reference_num').cast('long'))\\\n",
    ".withColumn('callback_date', col('callback_date').cast(DateType()))\\\n",
    ".withColumn('ticket_close_date', col('ticket_close_date').cast(DateType()))\\\n",
    ".withColumn('ticket_tat', col('ticket_tat').cast('long'))\n",
    "app_df=app_df.filter(col('interaction_date').isNotNull()).filter(col('source_system_customer_id').isNotNull())\n",
    "app_df=app_df.withColumn(\"certificate_no\", coalesce(col(\"certificate_no\"), lit('00000000')))"
   ]
  },
  {
   "cell_type": "code",
   "execution_count": 78,
   "metadata": {},
   "outputs": [
    {
     "data": {
      "application/vnd.jupyter.widget-view+json": {
       "model_id": "",
       "version_major": 2,
       "version_minor": 0
      },
      "text/plain": [
       "FloatProgress(value=0.0, bar_style='info', description='Progress:', layout=Layout(height='25px', width='50%'),…"
      ]
     },
     "metadata": {},
     "output_type": "display_data"
    }
   ],
   "source": [
    "app_df=app_df.select('source_app','interaction_type','interaction_date','policy_no','certificate_no','source_system_customer_id','reference_num','transaction_id','ticket_no',\n",
    "'mobile','email','awb_no','customer_name','deposition','sub_deposition','callback_date','remarks','language_pref','language_barrier','lost_reason',\n",
    "'competitor_name','ticket_close_date','ticket_tat','ticket_status','ticket_source','open_status','link_status','print_flag','courier','delivery_return_date',\n",
    "'recieved_by')"
   ]
  },
  {
   "cell_type": "code",
   "execution_count": 79,
   "metadata": {},
   "outputs": [
    {
     "data": {
      "application/vnd.jupyter.widget-view+json": {
       "model_id": "",
       "version_major": 2,
       "version_minor": 0
      },
      "text/plain": [
       "FloatProgress(value=0.0, bar_style='info', description='Progress:', layout=Layout(height='25px', width='50%'),…"
      ]
     },
     "metadata": {},
     "output_type": "display_data"
    }
   ],
   "source": [
    "app_df=app_df.dropDuplicates()"
   ]
  },
  {
   "cell_type": "code",
   "execution_count": 80,
   "metadata": {},
   "outputs": [
    {
     "data": {
      "application/vnd.jupyter.widget-view+json": {
       "model_id": "",
       "version_major": 2,
       "version_minor": 0
      },
      "text/plain": [
       "FloatProgress(value=0.0, bar_style='info', description='Progress:', layout=Layout(height='25px', width='50%'),…"
      ]
     },
     "metadata": {},
     "output_type": "display_data"
    }
   ],
   "source": [
    "primary_key = ['source_app','interaction_type','source_system_customer_id', 'policy_no','certificate_no']\n",
    "\n",
    "from pyspark.sql.window import Window\n",
    "\n",
    "app_df = app_df.withColumn(\"rn\", F.row_number()\n",
    "        .over(Window.partitionBy(primary_key)\n",
    "        .orderBy(F.col(\"interaction_date\").desc())))\n",
    "\n",
    "app_df = app_df.filter(F.col(\"rn\") == 1).drop(\"rn\")"
   ]
  },
  {
   "cell_type": "code",
   "execution_count": 81,
   "metadata": {},
   "outputs": [
    {
     "data": {
      "application/vnd.jupyter.widget-view+json": {
       "model_id": "",
       "version_major": 2,
       "version_minor": 0
      },
      "text/plain": [
       "FloatProgress(value=0.0, bar_style='info', description='Progress:', layout=Layout(height='25px', width='50%'),…"
      ]
     },
     "metadata": {},
     "output_type": "display_data"
    },
    {
     "name": "stdout",
     "output_type": "stream",
     "text": [
      "37455"
     ]
    }
   ],
   "source": [
    "app_df.persist(pyspark.StorageLevel.MEMORY_AND_DISK)\n",
    "records=app_df.count()\n",
    "records"
   ]
  },
  {
   "cell_type": "code",
   "execution_count": 82,
   "metadata": {},
   "outputs": [
    {
     "data": {
      "application/vnd.jupyter.widget-view+json": {
       "model_id": "",
       "version_major": 2,
       "version_minor": 0
      },
      "text/plain": [
       "FloatProgress(value=0.0, bar_style='info', description='Progress:', layout=Layout(height='25px', width='50%'),…"
      ]
     },
     "metadata": {},
     "output_type": "display_data"
    },
    {
     "name": "stdout",
     "output_type": "stream",
     "text": [
      "200"
     ]
    }
   ],
   "source": [
    "output_index = \"interaction_journal_staging\"\n",
    "schema = \"customermart\"\n",
    "\n",
    "\n",
    "import sys\n",
    "try:\n",
    "\n",
    "    app_df.write.format(\"greenplum\")\\\n",
    "    .option(\"dbtable\",output_index).option('dbschema',schema)\\\n",
    "    .option(\"server.port\",\"1150-1170\").option(\"url\",prod_url)\\\n",
    "    .option(\"user\", user_prod).option(\"password\",pwd_prod).mode('overwrite').save()\n",
    "\n",
    "\n",
    "except Exception as e:\n",
    "    x = e\n",
    "    print(x)\n",
    "else:\n",
    "    x = 200 #success\n",
    "    print(x)"
   ]
  },
  {
   "cell_type": "code",
   "execution_count": 83,
   "metadata": {},
   "outputs": [
    {
     "data": {
      "application/vnd.jupyter.widget-view+json": {
       "model_id": "",
       "version_major": 2,
       "version_minor": 0
      },
      "text/plain": [
       "FloatProgress(value=0.0, bar_style='info', description='Progress:', layout=Layout(height='25px', width='50%'),…"
      ]
     },
     "metadata": {},
     "output_type": "display_data"
    },
    {
     "name": "stdout",
     "output_type": "stream",
     "text": [
      "Inside try segment\n",
      "Inside except segment\n",
      "Executed update query\n",
      "Executed insert query\n",
      "success"
     ]
    }
   ],
   "source": [
    "table_name=\"interaction_journal\"\n",
    "conn_prod = psycopg2.connect(host=prod_host, port=prod_port, user=user_prod, password=pwd_prod, dbname=prod_dbname)\n",
    "conn_to=conn_prod\n",
    "status=''\n",
    "\n",
    "import sys\n",
    "try:\n",
    "    update(conn_to,table_name,prod_gpdb_spark_options, schema=\"customermart\")\n",
    "except Exception as e:\n",
    "    x = e\n",
    "    print(x)\n",
    "    status='Failed'\n",
    "else:\n",
    "    x = 'success'\n",
    "    print(x)\n",
    "    status='Success'"
   ]
  },
  {
   "cell_type": "code",
   "execution_count": 84,
   "metadata": {},
   "outputs": [
    {
     "data": {
      "application/vnd.jupyter.widget-view+json": {
       "model_id": "",
       "version_major": 2,
       "version_minor": 0
      },
      "text/plain": [
       "FloatProgress(value=0.0, bar_style='info', description='Progress:', layout=Layout(height='25px', width='50%'),…"
      ]
     },
     "metadata": {},
     "output_type": "display_data"
    },
    {
     "name": "stdout",
     "output_type": "stream",
     "text": [
      "Updated Progress for interaction_journal from SALESFORCE_CASE until 2024-03-22 00:00:00. 37455 records processed in this run\n",
      "success\n",
      "SUCCESS\n",
      "DataFrame[source_app: string, interaction_type: string, interaction_date: date, policy_no: string, certificate_no: string, source_system_customer_id: string, reference_num: bigint, transaction_id: string, ticket_no: string, mobile: string, email: string, awb_no: string, customer_name: string, deposition: string, sub_deposition: string, callback_date: date, remarks: string, language_pref: string, language_barrier: string, lost_reason: string, competitor_name: string, ticket_close_date: date, ticket_tat: bigint, ticket_status: string, ticket_source: string, open_status: string, link_status: string, print_flag: string, courier: string, delivery_return_date: date, recieved_by: string]"
     ]
    }
   ],
   "source": [
    "table_name='interaction_journal'\n",
    "source='SALESFORCE_CASE'\n",
    "\n",
    "if  x == 'success':\n",
    "    update_progress(table_name,source,time_filter,records,start_time,starttime,'Success')\n",
    "    print('SUCCESS')\n",
    "else:\n",
    "    update_progress(table_name,source,time_filter,'0',start_time,starttime,'Failed')\n",
    "    print('FAILED')\n",
    "    \n",
    "app_df.unpersist()"
   ]
  },
  {
   "cell_type": "markdown",
   "metadata": {},
   "source": [
    "# sales CRM"
   ]
  },
  {
   "cell_type": "code",
   "execution_count": 85,
   "metadata": {},
   "outputs": [
    {
     "data": {
      "application/vnd.jupyter.widget-view+json": {
       "model_id": "",
       "version_major": 2,
       "version_minor": 0
      },
      "text/plain": [
       "FloatProgress(value=0.0, bar_style='info', description='Progress:', layout=Layout(height='25px', width='50%'),…"
      ]
     },
     "metadata": {},
     "output_type": "display_data"
    },
    {
     "name": "stdout",
     "output_type": "stream",
     "text": [
      "'2024-03-23 12:32:16.703872'"
     ]
    }
   ],
   "source": [
    "starttime = time.time()\n",
    "start_time = datetime.datetime.now(pytz.timezone('Asia/Kolkata')).strftime(\"%Y-%m-%d %H:%M:%S.%f\")\n",
    "start_time"
   ]
  },
  {
   "cell_type": "code",
   "execution_count": 86,
   "metadata": {},
   "outputs": [
    {
     "data": {
      "application/vnd.jupyter.widget-view+json": {
       "model_id": "",
       "version_major": 2,
       "version_minor": 0
      },
      "text/plain": [
       "FloatProgress(value=0.0, bar_style='info', description='Progress:', layout=Layout(height='25px', width='50%'),…"
      ]
     },
     "metadata": {},
     "output_type": "display_data"
    }
   ],
   "source": [
    "table_name='interaction_journal'\n",
    "source='SALESCRM'"
   ]
  },
  {
   "cell_type": "code",
   "execution_count": 87,
   "metadata": {},
   "outputs": [
    {
     "data": {
      "application/vnd.jupyter.widget-view+json": {
       "model_id": "",
       "version_major": 2,
       "version_minor": 0
      },
      "text/plain": [
       "FloatProgress(value=0.0, bar_style='info', description='Progress:', layout=Layout(height='25px', width='50%'),…"
      ]
     },
     "metadata": {},
     "output_type": "display_data"
    },
    {
     "name": "stdout",
     "output_type": "stream",
     "text": [
      "{'start_date': datetime.datetime(2024, 3, 19, 0, 0), 'end_date': datetime.datetime(2024, 3, 22, 0, 0)}"
     ]
    }
   ],
   "source": [
    "latest_progress=get_latest_progress(table_name,source)\n",
    "# dates in string format\n",
    "str_d1 = latest_progress.strftime(\"%Y-%m-%d\")\n",
    "str_d2 = datetime.datetime.now(pytz.timezone('Asia/Kolkata')).strftime(\"%Y-%m-%d\")\n",
    "\n",
    "# convert string to date object\n",
    "d1 = datetime.datetime.strptime(str_d1, \"%Y-%m-%d\")\n",
    "d2 = datetime.datetime.strptime(str_d2, \"%Y-%m-%d\")\n",
    "\n",
    "# difference between dates in timedelta\n",
    "delta = d2 - d1\n",
    "day=delta.days-1#currently T-2 change 2 to 1 for T-1\n",
    "\n",
    "time_filter={'start_date':latest_progress,'end_date':latest_progress+datetime.timedelta(days=day)}\n",
    "time_filter"
   ]
  },
  {
   "cell_type": "code",
   "execution_count": 88,
   "metadata": {},
   "outputs": [
    {
     "data": {
      "application/vnd.jupyter.widget-view+json": {
       "model_id": "",
       "version_major": 2,
       "version_minor": 0
      },
      "text/plain": [
       "FloatProgress(value=0.0, bar_style='info', description='Progress:', layout=Layout(height='25px', width='50%'),…"
      ]
     },
     "metadata": {},
     "output_type": "display_data"
    }
   ],
   "source": [
    "# gscPythonOptions = {\n",
    "#          \"url\": prod_url,\n",
    "#          \"user\": user_prod,\n",
    "#          \"password\": pwd_prod,\n",
    "#          \"dbschema\":\"customermart\",\n",
    "#          \"dbtable\": \"temp_so_sa_sc_3m_new\",\n",
    "#          \"server.port\":\"1150-1170\"} \n",
    "# salescrm_df = sqlContext.read.format(\"greenplum\").options(**gscPythonOptions).load()\\\n",
    "\n",
    "# salescrm_df.columns"
   ]
  },
  {
   "cell_type": "code",
   "execution_count": 89,
   "metadata": {},
   "outputs": [
    {
     "data": {
      "application/vnd.jupyter.widget-view+json": {
       "model_id": "",
       "version_major": 2,
       "version_minor": 0
      },
      "text/plain": [
       "FloatProgress(value=0.0, bar_style='info', description='Progress:', layout=Layout(height='25px', width='50%'),…"
      ]
     },
     "metadata": {},
     "output_type": "display_data"
    }
   ],
   "source": [
    "col_str=['policy_number__c','campaign_name__c','product__c','id',\"lastmodifieddate\",\"lost_reason__c as lost_reason\", 'language_barrier__c as language_barrier', \"language_preference__c as language_pref\",\n",
    "         'competitors_name__c as competitor_name', 'transaction_id__c as transaction_id']\n",
    "gscPythonOptions = {\n",
    "         \"url\": prod_url,\n",
    "         \"user\": user_prod,\n",
    "         \"password\": pwd_prod,\n",
    "         \"dbschema\":\"public\",\n",
    "         \"dbtable\": \"salesforce_opportunity\",\n",
    "         \"server.port\":\"1150-1170\"} \n",
    "opportunity_df = sqlContext.read.format(\"greenplum\").options(**gscPythonOptions).load()\\\n",
    "                .selectExpr(col_str).filter(trim(col('id')).isNotNull())\\\n",
    "                .filter(trim(col('policy_number__c')).isNotNull())\\\n",
    "                .filter(col(\"load_date\")>=(to_date(lit(time_filter['start_date']), format='yyyy-MM-dd')))\\\n",
    "                .filter(col(\"load_date\")<=(to_date(lit(time_filter['end_date']), format='yyyy-MM-dd')))\n"
   ]
  },
  {
   "cell_type": "code",
   "execution_count": 90,
   "metadata": {},
   "outputs": [
    {
     "data": {
      "application/vnd.jupyter.widget-view+json": {
       "model_id": "",
       "version_major": 2,
       "version_minor": 0
      },
      "text/plain": [
       "FloatProgress(value=0.0, bar_style='info', description='Progress:', layout=Layout(height='25px', width='50%'),…"
      ]
     },
     "metadata": {},
     "output_type": "display_data"
    }
   ],
   "source": [
    "#opportunity_df.count()\n",
    "opportunity_df=opportunity_df.dropDuplicates()\n",
    "opportunity_df=opportunity_df.repartition('policy_number__c')"
   ]
  },
  {
   "cell_type": "code",
   "execution_count": 150,
   "metadata": {
    "collapsed": true
   },
   "outputs": [
    {
     "data": {
      "application/vnd.jupyter.widget-view+json": {
       "model_id": "",
       "version_major": 2,
       "version_minor": 0
      },
      "text/plain": [
       "FloatProgress(value=0.0, bar_style='info', description='Progress:', layout=Layout(height='25px', width='50%'),…"
      ]
     },
     "metadata": {},
     "output_type": "display_data"
    },
    {
     "name": "stderr",
     "output_type": "stream",
     "text": [
      "An error was encountered:\n",
      "\"cannot resolve '`Call_Back_Date_Time__c`' given input columns: [completeddatetime, status, recurrenceenddateonly, ishighpriority, recurrenceactivityid, dialer_integration_required__c, dialer_externalreferenceid__c, department__c, load_date, recurrenceinterval, dialer_total_retry_count__c, callobject, calltype, isdeleted, ownerid, activitydate, lastmodifieddate, full_name__c, calldurationinseconds, isrecurrence, row_num, dialer_integration_status__c, whoid, recurrencedayofweekmask, priority, systemmodstamp, recurrencetype, recurrencetimezonesidkey, calldisposition, isclosed, tasksubtype, isreminderset, etl_job_seq_id, createdbyid, recurrencedayofmonth, createddate, id, isarchived, description, recurrencestartdateonly, recurrenceregeneratedtype, subject, batch_no, recurrenceinstance, originallogid__c, recurrencemonthofyear, lastmodifiedbyid, accountid, reminderdatetime, whatid]; line 1 pos 0;\\n'Project ['Call_Back_Date_Time__c, 'Dispose_Date_Time__c, 'Parent_Status__c, 'Remarks__c AS remarks#12854, 'Sub_Status__c, whatid#12798]\\n+- Relation[id#12754,accountid#12755,activitydate#12756,calldisposition#12757,calldurationinseconds#12758,callobject#12759,calltype#12760,completeddatetime#12761,createdbyid#12762,createddate#12763,department__c#12764,description#12765,dialer_externalreferenceid__c#12766,dialer_integration_required__c#12767,dialer_integration_status__c#12768,dialer_total_retry_count__c#12769,full_name__c#12770,isarchived#12771,isclosed#12772,isdeleted#12773,ishighpriority#12774,isrecurrence#12775,isreminderset#12776,lastmodifiedbyid#12777,... 26 more fields] GreenplumRelation(StructType(StructField(id,StringType,true), StructField(accountid,StringType,true), StructField(activitydate,StringType,true), StructField(calldisposition,StringType,true), StructField(calldurationinseconds,StringType,true), StructField(callobject,StringType,true), StructField(calltype,StringType,true), StructField(completeddatetime,TimestampType,true), StructField(createdbyid,StringType,true), StructField(createddate,TimestampType,true), StructField(department__c,StringType,true), StructField(description,StringType,true), StructField(dialer_externalreferenceid__c,StringType,true), StructField(dialer_integration_required__c,StringType,true), StructField(dialer_integration_status__c,StringType,true), StructField(dialer_total_retry_count__c,StringType,true), StructField(full_name__c,StringType,true), StructField(isarchived,StringType,true), StructField(isclosed,StringType,true), StructField(isdeleted,StringType,true), StructField(ishighpriority,StringType,true), StructField(isrecurrence,StringType,true), StructField(isreminderset,StringType,true), StructField(lastmodifiedbyid,StringType,true), StructField(lastmodifieddate,TimestampType,true), StructField(originallogid__c,StringType,true), StructField(ownerid,StringType,true), StructField(priority,StringType,true), StructField(recurrenceactivityid,StringType,true), StructField(recurrencedayofmonth,StringType,true), StructField(recurrencedayofweekmask,StringType,true), StructField(recurrenceenddateonly,StringType,true), StructField(recurrenceinstance,StringType,true), StructField(recurrenceinterval,StringType,true), StructField(recurrencemonthofyear,StringType,true), StructField(recurrenceregeneratedtype,StringType,true), StructField(recurrencestartdateonly,StringType,true), StructField(recurrencetimezonesidkey,StringType,true), StructField(recurrencetype,StringType,true), StructField(reminderdatetime,StringType,true), StructField(status,StringType,true), StructField(subject,StringType,true), StructField(systemmodstamp,TimestampType,true), StructField(tasksubtype,StringType,true), StructField(whatid,StringType,true), StructField(whoid,StringType,true), StructField(load_date,TimestampType,true), StructField(etl_job_seq_id,LongType,true), StructField(batch_no,LongType,true), StructField(row_num,LongType,false)),[Lio.pivotal.greenplum.spark.GreenplumPartition;@27250ec9,io.pivotal.greenplum.spark.conf.GreenplumOptions@39b727db)\\n\"\n",
      "Traceback (most recent call last):\n",
      "  File \"/opt/spark/python/pyspark/sql/dataframe.py\", line 1339, in selectExpr\n",
      "    jdf = self._jdf.selectExpr(self._jseq(expr))\n",
      "  File \"/opt/spark/python/lib/py4j-0.10.7-src.zip/py4j/java_gateway.py\", line 1257, in __call__\n",
      "    answer, self.gateway_client, self.target_id, self.name)\n",
      "  File \"/opt/spark/python/pyspark/sql/utils.py\", line 69, in deco\n",
      "    raise AnalysisException(s.split(': ', 1)[1], stackTrace)\n",
      "pyspark.sql.utils.AnalysisException: \"cannot resolve '`Call_Back_Date_Time__c`' given input columns: [completeddatetime, status, recurrenceenddateonly, ishighpriority, recurrenceactivityid, dialer_integration_required__c, dialer_externalreferenceid__c, department__c, load_date, recurrenceinterval, dialer_total_retry_count__c, callobject, calltype, isdeleted, ownerid, activitydate, lastmodifieddate, full_name__c, calldurationinseconds, isrecurrence, row_num, dialer_integration_status__c, whoid, recurrencedayofweekmask, priority, systemmodstamp, recurrencetype, recurrencetimezonesidkey, calldisposition, isclosed, tasksubtype, isreminderset, etl_job_seq_id, createdbyid, recurrencedayofmonth, createddate, id, isarchived, description, recurrencestartdateonly, recurrenceregeneratedtype, subject, batch_no, recurrenceinstance, originallogid__c, recurrencemonthofyear, lastmodifiedbyid, accountid, reminderdatetime, whatid]; line 1 pos 0;\\n'Project ['Call_Back_Date_Time__c, 'Dispose_Date_Time__c, 'Parent_Status__c, 'Remarks__c AS remarks#12854, 'Sub_Status__c, whatid#12798]\\n+- Relation[id#12754,accountid#12755,activitydate#12756,calldisposition#12757,calldurationinseconds#12758,callobject#12759,calltype#12760,completeddatetime#12761,createdbyid#12762,createddate#12763,department__c#12764,description#12765,dialer_externalreferenceid__c#12766,dialer_integration_required__c#12767,dialer_integration_status__c#12768,dialer_total_retry_count__c#12769,full_name__c#12770,isarchived#12771,isclosed#12772,isdeleted#12773,ishighpriority#12774,isrecurrence#12775,isreminderset#12776,lastmodifiedbyid#12777,... 26 more fields] GreenplumRelation(StructType(StructField(id,StringType,true), StructField(accountid,StringType,true), StructField(activitydate,StringType,true), StructField(calldisposition,StringType,true), StructField(calldurationinseconds,StringType,true), StructField(callobject,StringType,true), StructField(calltype,StringType,true), StructField(completeddatetime,TimestampType,true), StructField(createdbyid,StringType,true), StructField(createddate,TimestampType,true), StructField(department__c,StringType,true), StructField(description,StringType,true), StructField(dialer_externalreferenceid__c,StringType,true), StructField(dialer_integration_required__c,StringType,true), StructField(dialer_integration_status__c,StringType,true), StructField(dialer_total_retry_count__c,StringType,true), StructField(full_name__c,StringType,true), StructField(isarchived,StringType,true), StructField(isclosed,StringType,true), StructField(isdeleted,StringType,true), StructField(ishighpriority,StringType,true), StructField(isrecurrence,StringType,true), StructField(isreminderset,StringType,true), StructField(lastmodifiedbyid,StringType,true), StructField(lastmodifieddate,TimestampType,true), StructField(originallogid__c,StringType,true), StructField(ownerid,StringType,true), StructField(priority,StringType,true), StructField(recurrenceactivityid,StringType,true), StructField(recurrencedayofmonth,StringType,true), StructField(recurrencedayofweekmask,StringType,true), StructField(recurrenceenddateonly,StringType,true), StructField(recurrenceinstance,StringType,true), StructField(recurrenceinterval,StringType,true), StructField(recurrencemonthofyear,StringType,true), StructField(recurrenceregeneratedtype,StringType,true), StructField(recurrencestartdateonly,StringType,true), StructField(recurrencetimezonesidkey,StringType,true), StructField(recurrencetype,StringType,true), StructField(reminderdatetime,StringType,true), StructField(status,StringType,true), StructField(subject,StringType,true), StructField(systemmodstamp,TimestampType,true), StructField(tasksubtype,StringType,true), StructField(whatid,StringType,true), StructField(whoid,StringType,true), StructField(load_date,TimestampType,true), StructField(etl_job_seq_id,LongType,true), StructField(batch_no,LongType,true), StructField(row_num,LongType,false)),[Lio.pivotal.greenplum.spark.GreenplumPartition;@27250ec9,io.pivotal.greenplum.spark.conf.GreenplumOptions@39b727db)\\n\"\n",
      "\n"
     ]
    }
   ],
   "source": [
    "col_str=['Call_Back_Date_Time__c','Dispose_Date_Time__c','Parent_Status__c','Remarks__c as remarks','Sub_Status__c','whatid']\n",
    "gscPythonOptions = {\n",
    "         \"url\": prod_url,\n",
    "         \"user\": user_prod,\n",
    "         \"password\": pwd_prod,\n",
    "         \"dbschema\":\"public\",\n",
    "         \"dbtable\": \"salesforce_activity\",\n",
    "         \"server.port\":\"1150-1170\"} \n",
    "activity_df = sqlContext.read.format(\"greenplum\").options(**gscPythonOptions).load()\\\n",
    "                .selectExpr(col_str).filter(trim(col('whatid')).isNotNull())\n",
    "#                 .filter(col(\"load_date\")>=(to_date(lit(time_filter['start_date']), format='yyyy-MM-dd')))\\\n",
    "#                 .filter(col(\"load_date\")<=(to_date(lit(time_filter['end_date']), format='yyyy-MM-dd')))"
   ]
  },
  {
   "cell_type": "code",
   "execution_count": 92,
   "metadata": {},
   "outputs": [
    {
     "data": {
      "application/vnd.jupyter.widget-view+json": {
       "model_id": "",
       "version_major": 2,
       "version_minor": 0
      },
      "text/plain": [
       "FloatProgress(value=0.0, bar_style='info', description='Progress:', layout=Layout(height='25px', width='50%'),…"
      ]
     },
     "metadata": {},
     "output_type": "display_data"
    }
   ],
   "source": [
    "#activity_df.count()"
   ]
  },
  {
   "cell_type": "code",
   "execution_count": 93,
   "metadata": {},
   "outputs": [
    {
     "data": {
      "application/vnd.jupyter.widget-view+json": {
       "model_id": "",
       "version_major": 2,
       "version_minor": 0
      },
      "text/plain": [
       "FloatProgress(value=0.0, bar_style='info', description='Progress:', layout=Layout(height='25px', width='50%'),…"
      ]
     },
     "metadata": {},
     "output_type": "display_data"
    },
    {
     "name": "stderr",
     "output_type": "stream",
     "text": [
      "An error was encountered:\n",
      "name 'activity_df' is not defined\n",
      "Traceback (most recent call last):\n",
      "NameError: name 'activity_df' is not defined\n",
      "\n"
     ]
    }
   ],
   "source": [
    "activity_df=activity_df.dropDuplicates()"
   ]
  },
  {
   "cell_type": "code",
   "execution_count": 94,
   "metadata": {},
   "outputs": [
    {
     "data": {
      "application/vnd.jupyter.widget-view+json": {
       "model_id": "",
       "version_major": 2,
       "version_minor": 0
      },
      "text/plain": [
       "FloatProgress(value=0.0, bar_style='info', description='Progress:', layout=Layout(height='25px', width='50%'),…"
      ]
     },
     "metadata": {},
     "output_type": "display_data"
    },
    {
     "name": "stderr",
     "output_type": "stream",
     "text": [
      "An error was encountered:\n",
      "name 'activity_df' is not defined\n",
      "Traceback (most recent call last):\n",
      "NameError: name 'activity_df' is not defined\n",
      "\n"
     ]
    }
   ],
   "source": [
    "activity_df=activity_df.withColumn('whatid', trim(col('whatid')))\n",
    "opportunity_df=opportunity_df.withColumn('id', trim(col('id')))"
   ]
  },
  {
   "cell_type": "code",
   "execution_count": 95,
   "metadata": {},
   "outputs": [
    {
     "data": {
      "application/vnd.jupyter.widget-view+json": {
       "model_id": "",
       "version_major": 2,
       "version_minor": 0
      },
      "text/plain": [
       "FloatProgress(value=0.0, bar_style='info', description='Progress:', layout=Layout(height='25px', width='50%'),…"
      ]
     },
     "metadata": {},
     "output_type": "display_data"
    },
    {
     "name": "stderr",
     "output_type": "stream",
     "text": [
      "An error was encountered:\n",
      "name 'activity_df' is not defined\n",
      "Traceback (most recent call last):\n",
      "NameError: name 'activity_df' is not defined\n",
      "\n"
     ]
    }
   ],
   "source": [
    "salescrm_df= opportunity_df.join(activity_df, opportunity_df.id == activity_df.whatid, \"inner\")\\\n",
    ".drop(activity_df.whatid)"
   ]
  },
  {
   "cell_type": "code",
   "execution_count": 96,
   "metadata": {},
   "outputs": [
    {
     "data": {
      "application/vnd.jupyter.widget-view+json": {
       "model_id": "",
       "version_major": 2,
       "version_minor": 0
      },
      "text/plain": [
       "FloatProgress(value=0.0, bar_style='info', description='Progress:', layout=Layout(height='25px', width='50%'),…"
      ]
     },
     "metadata": {},
     "output_type": "display_data"
    }
   ],
   "source": [
    "#salescrm_df=so_sa"
   ]
  },
  {
   "cell_type": "code",
   "execution_count": 97,
   "metadata": {},
   "outputs": [
    {
     "data": {
      "application/vnd.jupyter.widget-view+json": {
       "model_id": "",
       "version_major": 2,
       "version_minor": 0
      },
      "text/plain": [
       "FloatProgress(value=0.0, bar_style='info', description='Progress:', layout=Layout(height='25px', width='50%'),…"
      ]
     },
     "metadata": {},
     "output_type": "display_data"
    },
    {
     "name": "stderr",
     "output_type": "stream",
     "text": [
      "An error was encountered:\n",
      "name 'salescrm_df' is not defined\n",
      "Traceback (most recent call last):\n",
      "NameError: name 'salescrm_df' is not defined\n",
      "\n"
     ]
    }
   ],
   "source": [
    "salescrm_df=salescrm_df.withColumn('source_app',lit('Salesforce Sales CRM')).withColumn('interaction_type',lit('Outbound Calling'))\n",
    "## check interaction so mainly out calling and sa , check data showing outbound ??"
   ]
  },
  {
   "cell_type": "code",
   "execution_count": 98,
   "metadata": {},
   "outputs": [
    {
     "data": {
      "application/vnd.jupyter.widget-view+json": {
       "model_id": "",
       "version_major": 2,
       "version_minor": 0
      },
      "text/plain": [
       "FloatProgress(value=0.0, bar_style='info', description='Progress:', layout=Layout(height='25px', width='50%'),…"
      ]
     },
     "metadata": {},
     "output_type": "display_data"
    },
    {
     "name": "stderr",
     "output_type": "stream",
     "text": [
      "An error was encountered:\n",
      "name 'salescrm_df' is not defined\n",
      "Traceback (most recent call last):\n",
      "NameError: name 'salescrm_df' is not defined\n",
      "\n"
     ]
    }
   ],
   "source": [
    "salescrm_df=salescrm_df.withColumnRenamed('dispose_Date_Time__c','interaction_date')"
   ]
  },
  {
   "cell_type": "code",
   "execution_count": 99,
   "metadata": {},
   "outputs": [
    {
     "data": {
      "application/vnd.jupyter.widget-view+json": {
       "model_id": "",
       "version_major": 2,
       "version_minor": 0
      },
      "text/plain": [
       "FloatProgress(value=0.0, bar_style='info', description='Progress:', layout=Layout(height='25px', width='50%'),…"
      ]
     },
     "metadata": {},
     "output_type": "display_data"
    },
    {
     "name": "stderr",
     "output_type": "stream",
     "text": [
      "An error was encountered:\n",
      "name 'salescrm_df' is not defined\n",
      "Traceback (most recent call last):\n",
      "NameError: name 'salescrm_df' is not defined\n",
      "\n"
     ]
    }
   ],
   "source": [
    "salescrm_df.columns"
   ]
  },
  {
   "cell_type": "code",
   "execution_count": 100,
   "metadata": {},
   "outputs": [
    {
     "data": {
      "application/vnd.jupyter.widget-view+json": {
       "model_id": "",
       "version_major": 2,
       "version_minor": 0
      },
      "text/plain": [
       "FloatProgress(value=0.0, bar_style='info', description='Progress:', layout=Layout(height='25px', width='50%'),…"
      ]
     },
     "metadata": {},
     "output_type": "display_data"
    }
   ],
   "source": [
    "sad_sc=sad.filter(col('certificate_no').isin('0','0.0','/00000','000000','00000000'))\n",
    "primary_key_sad = ['policy_no','certificate_no','source_system_customer_id']\n",
    "\n",
    "from pyspark.sql.window import Window\n",
    "\n",
    "sad_sc = sad_sc.withColumn(\"rn\", F.row_number()\n",
    "        .over(Window.partitionBy(primary_key_sad)\n",
    "        .orderBy(F.col(\"binddate\").desc())\n",
    "        .orderBy(F.col(\"proposal_no\").desc())))\n",
    "\n",
    "sad_sc = sad_sc.filter(F.col(\"rn\") == 1).drop(\"rn\")"
   ]
  },
  {
   "cell_type": "code",
   "execution_count": 101,
   "metadata": {},
   "outputs": [
    {
     "data": {
      "application/vnd.jupyter.widget-view+json": {
       "model_id": "",
       "version_major": 2,
       "version_minor": 0
      },
      "text/plain": [
       "FloatProgress(value=0.0, bar_style='info', description='Progress:', layout=Layout(height='25px', width='50%'),…"
      ]
     },
     "metadata": {},
     "output_type": "display_data"
    },
    {
     "name": "stderr",
     "output_type": "stream",
     "text": [
      "An error was encountered:\n",
      "name 'salescrm_df' is not defined\n",
      "Traceback (most recent call last):\n",
      "NameError: name 'salescrm_df' is not defined\n",
      "\n"
     ]
    }
   ],
   "source": [
    "sad_sc=sad_sc.select('proposal_no', 'source_system_customer_id', 'policy_no')\n",
    "sad_sc=sad_sc.dropDuplicates()\n",
    "salescrm_df=salescrm_df.dropDuplicates()"
   ]
  },
  {
   "cell_type": "code",
   "execution_count": 102,
   "metadata": {},
   "outputs": [
    {
     "data": {
      "application/vnd.jupyter.widget-view+json": {
       "model_id": "",
       "version_major": 2,
       "version_minor": 0
      },
      "text/plain": [
       "FloatProgress(value=0.0, bar_style='info', description='Progress:', layout=Layout(height='25px', width='50%'),…"
      ]
     },
     "metadata": {},
     "output_type": "display_data"
    },
    {
     "name": "stderr",
     "output_type": "stream",
     "text": [
      "An error was encountered:\n",
      "name 'salescrm_df' is not defined\n",
      "Traceback (most recent call last):\n",
      "NameError: name 'salescrm_df' is not defined\n",
      "\n"
     ]
    }
   ],
   "source": [
    "from pyspark.sql.functions import lpad\n",
    "sad_sc=sad_sc.withColumn('policy_no_1',lpad(sad_sc['policy_no'],10,'0').alias('policy_no'))\n",
    "salescrm_df=salescrm_df.withColumn('policy_number__c', trim(col('policy_number__c')))\n",
    "salescrm_df=salescrm_df.withColumn('policy_number__c',lpad(salescrm_df['policy_number__c'],10,'0').alias('policy_number__c'))"
   ]
  },
  {
   "cell_type": "code",
   "execution_count": 103,
   "metadata": {},
   "outputs": [
    {
     "data": {
      "application/vnd.jupyter.widget-view+json": {
       "model_id": "",
       "version_major": 2,
       "version_minor": 0
      },
      "text/plain": [
       "FloatProgress(value=0.0, bar_style='info', description='Progress:', layout=Layout(height='25px', width='50%'),…"
      ]
     },
     "metadata": {},
     "output_type": "display_data"
    },
    {
     "name": "stderr",
     "output_type": "stream",
     "text": [
      "An error was encountered:\n",
      "name 'salescrm_df' is not defined\n",
      "Traceback (most recent call last):\n",
      "NameError: name 'salescrm_df' is not defined\n",
      "\n"
     ]
    }
   ],
   "source": [
    "salescrm_df=salescrm_df.join(sad_sc, salescrm_df.policy_number__c==sad_sc.policy_no_1, 'inner').drop(sad_sc.policy_no_1)"
   ]
  },
  {
   "cell_type": "code",
   "execution_count": 104,
   "metadata": {},
   "outputs": [
    {
     "data": {
      "application/vnd.jupyter.widget-view+json": {
       "model_id": "",
       "version_major": 2,
       "version_minor": 0
      },
      "text/plain": [
       "FloatProgress(value=0.0, bar_style='info', description='Progress:', layout=Layout(height='25px', width='50%'),…"
      ]
     },
     "metadata": {},
     "output_type": "display_data"
    },
    {
     "name": "stderr",
     "output_type": "stream",
     "text": [
      "An error was encountered:\n",
      "name 'salescrm_df' is not defined\n",
      "Traceback (most recent call last):\n",
      "NameError: name 'salescrm_df' is not defined\n",
      "\n"
     ]
    }
   ],
   "source": [
    "salescrm_df.columns"
   ]
  },
  {
   "cell_type": "code",
   "execution_count": 105,
   "metadata": {},
   "outputs": [
    {
     "data": {
      "application/vnd.jupyter.widget-view+json": {
       "model_id": "",
       "version_major": 2,
       "version_minor": 0
      },
      "text/plain": [
       "FloatProgress(value=0.0, bar_style='info', description='Progress:', layout=Layout(height='25px', width='50%'),…"
      ]
     },
     "metadata": {},
     "output_type": "display_data"
    },
    {
     "name": "stdout",
     "output_type": "stream",
     "text": [
      "['mobile', 'customer_code__c', 'reference_num1', 'reference_num2', 'sub_deposition', 'ticket_source', 'interaction_date', 'ticket_close_date', 'email', 'policy_no', 'remarks', 'open_status', 'ticket_no', 'customer_name', 'ticket_status', 'ticket_tat', 'certificate_no', 'awb_no', 'deposition']"
     ]
    }
   ],
   "source": [
    "col_str=['requestor_primary_number__c as mobile','customer_code__c','reference_number_proposalnumber_quote_nu__c as reference_num1','spa_reference_number__c as reference_num2','sub_classification_disposition__c as sub_deposition',\\\n",
    "           'ticket_source__c as ticket_source','complaint_registration_date__c as interaction_date','closeddate as ticket_close_date','requestor_email_id__c as email',\\\n",
    "           'policy_number__c as policy_no','problem_remarks__c as remarks','status as open_status','sf_ticket_number__c as ticket_no','requester_name__c as customer_name',\\\n",
    "           'ticket_status__c as ticket_status','ageing_count_in_days__c as ticket_tat','certificate_number__c as certificate_no', 'awb_number__c as awb_no', 'classification_disposition__c as deposition']\n",
    "sc=load_gpdb_jdbc(col_str,\"salesforce_case\",'public').filter(col('policy_number__c').isNotNull()).filter((col('certificate_number__c').isNull())|(col('certificate_number__c').isin('0','0.0','/00000','000000','00000000')))\n",
    "sc.columns"
   ]
  },
  {
   "cell_type": "code",
   "execution_count": 106,
   "metadata": {},
   "outputs": [
    {
     "data": {
      "application/vnd.jupyter.widget-view+json": {
       "model_id": "",
       "version_major": 2,
       "version_minor": 0
      },
      "text/plain": [
       "FloatProgress(value=0.0, bar_style='info', description='Progress:', layout=Layout(height='25px', width='50%'),…"
      ]
     },
     "metadata": {},
     "output_type": "display_data"
    }
   ],
   "source": [
    "scase=sc.select('mobile','ticket_source','ticket_close_date','email',\\\n",
    "           'policy_no','open_status','ticket_no','customer_name',\\\n",
    "           'ticket_status','ticket_tat', 'deposition','sub_deposition', 'awb_no')\n",
    "\n",
    "scase=scase.withColumn('policy_no',lpad(scase['policy_no'],10,'0').alias('policy_no'))\n"
   ]
  },
  {
   "cell_type": "code",
   "execution_count": 107,
   "metadata": {},
   "outputs": [
    {
     "data": {
      "application/vnd.jupyter.widget-view+json": {
       "model_id": "",
       "version_major": 2,
       "version_minor": 0
      },
      "text/plain": [
       "FloatProgress(value=0.0, bar_style='info', description='Progress:', layout=Layout(height='25px', width='50%'),…"
      ]
     },
     "metadata": {},
     "output_type": "display_data"
    }
   ],
   "source": [
    "scase=scase.dropDuplicates()\n",
    "scase=scase.repartition('policy_no')"
   ]
  },
  {
   "cell_type": "code",
   "execution_count": 108,
   "metadata": {},
   "outputs": [
    {
     "data": {
      "application/vnd.jupyter.widget-view+json": {
       "model_id": "",
       "version_major": 2,
       "version_minor": 0
      },
      "text/plain": [
       "FloatProgress(value=0.0, bar_style='info', description='Progress:', layout=Layout(height='25px', width='50%'),…"
      ]
     },
     "metadata": {},
     "output_type": "display_data"
    }
   ],
   "source": [
    "#scase.select('policy_no', 'deposition').show()"
   ]
  },
  {
   "cell_type": "code",
   "execution_count": 109,
   "metadata": {},
   "outputs": [
    {
     "data": {
      "application/vnd.jupyter.widget-view+json": {
       "model_id": "",
       "version_major": 2,
       "version_minor": 0
      },
      "text/plain": [
       "FloatProgress(value=0.0, bar_style='info', description='Progress:', layout=Layout(height='25px', width='50%'),…"
      ]
     },
     "metadata": {},
     "output_type": "display_data"
    },
    {
     "name": "stderr",
     "output_type": "stream",
     "text": [
      "An error was encountered:\n",
      "name 'salescrm_df' is not defined\n",
      "Traceback (most recent call last):\n",
      "NameError: name 'salescrm_df' is not defined\n",
      "\n"
     ]
    }
   ],
   "source": [
    "salescrm_df=salescrm_df.join(scase, salescrm_df.policy_number__c==scase.policy_no, 'left').drop(scase.policy_no)"
   ]
  },
  {
   "cell_type": "code",
   "execution_count": 110,
   "metadata": {},
   "outputs": [
    {
     "data": {
      "application/vnd.jupyter.widget-view+json": {
       "model_id": "",
       "version_major": 2,
       "version_minor": 0
      },
      "text/plain": [
       "FloatProgress(value=0.0, bar_style='info', description='Progress:', layout=Layout(height='25px', width='50%'),…"
      ]
     },
     "metadata": {},
     "output_type": "display_data"
    },
    {
     "name": "stderr",
     "output_type": "stream",
     "text": [
      "An error was encountered:\n",
      "name 'salescrm_df' is not defined\n",
      "Traceback (most recent call last):\n",
      "NameError: name 'salescrm_df' is not defined\n",
      "\n"
     ]
    }
   ],
   "source": [
    "salescrm_df=salescrm_df.drop('policy_no')\n",
    "salescrm_df.columns"
   ]
  },
  {
   "cell_type": "code",
   "execution_count": 111,
   "metadata": {},
   "outputs": [
    {
     "data": {
      "application/vnd.jupyter.widget-view+json": {
       "model_id": "",
       "version_major": 2,
       "version_minor": 0
      },
      "text/plain": [
       "FloatProgress(value=0.0, bar_style='info', description='Progress:', layout=Layout(height='25px', width='50%'),…"
      ]
     },
     "metadata": {},
     "output_type": "display_data"
    }
   ],
   "source": [
    "#kk=salescrm_df.select('policy_number__c','deposition')\n",
    "#kk.filter(col('deposition').isNotNull()).show()"
   ]
  },
  {
   "cell_type": "code",
   "execution_count": 112,
   "metadata": {},
   "outputs": [
    {
     "data": {
      "application/vnd.jupyter.widget-view+json": {
       "model_id": "",
       "version_major": 2,
       "version_minor": 0
      },
      "text/plain": [
       "FloatProgress(value=0.0, bar_style='info', description='Progress:', layout=Layout(height='25px', width='50%'),…"
      ]
     },
     "metadata": {},
     "output_type": "display_data"
    },
    {
     "name": "stderr",
     "output_type": "stream",
     "text": [
      "An error was encountered:\n",
      "name 'salescrm_df' is not defined\n",
      "Traceback (most recent call last):\n",
      "NameError: name 'salescrm_df' is not defined\n",
      "\n"
     ]
    }
   ],
   "source": [
    "salescrm_df=salescrm_df.withColumnRenamed('policy_number__c', 'policy_no')\\\n",
    ".withColumnRenamed('proposal_no', 'reference_num')\\\n",
    ".filter(col('interaction_date').isNotNull())"
   ]
  },
  {
   "cell_type": "code",
   "execution_count": 113,
   "metadata": {},
   "outputs": [
    {
     "data": {
      "application/vnd.jupyter.widget-view+json": {
       "model_id": "",
       "version_major": 2,
       "version_minor": 0
      },
      "text/plain": [
       "FloatProgress(value=0.0, bar_style='info', description='Progress:', layout=Layout(height='25px', width='50%'),…"
      ]
     },
     "metadata": {},
     "output_type": "display_data"
    },
    {
     "name": "stderr",
     "output_type": "stream",
     "text": [
      "An error was encountered:\n",
      "name 'salescrm_df' is not defined\n",
      "Traceback (most recent call last):\n",
      "NameError: name 'salescrm_df' is not defined\n",
      "\n"
     ]
    }
   ],
   "source": [
    "salescrm_df=salescrm_df.dropDuplicates()"
   ]
  },
  {
   "cell_type": "code",
   "execution_count": 114,
   "metadata": {},
   "outputs": [
    {
     "data": {
      "application/vnd.jupyter.widget-view+json": {
       "model_id": "",
       "version_major": 2,
       "version_minor": 0
      },
      "text/plain": [
       "FloatProgress(value=0.0, bar_style='info', description='Progress:', layout=Layout(height='25px', width='50%'),…"
      ]
     },
     "metadata": {},
     "output_type": "display_data"
    }
   ],
   "source": [
    "#salescrm_df.count()"
   ]
  },
  {
   "cell_type": "code",
   "execution_count": 115,
   "metadata": {},
   "outputs": [
    {
     "data": {
      "application/vnd.jupyter.widget-view+json": {
       "model_id": "",
       "version_major": 2,
       "version_minor": 0
      },
      "text/plain": [
       "FloatProgress(value=0.0, bar_style='info', description='Progress:', layout=Layout(height='25px', width='50%'),…"
      ]
     },
     "metadata": {},
     "output_type": "display_data"
    },
    {
     "name": "stderr",
     "output_type": "stream",
     "text": [
      "An error was encountered:\n",
      "name 'salescrm_df' is not defined\n",
      "Traceback (most recent call last):\n",
      "NameError: name 'salescrm_df' is not defined\n",
      "\n"
     ]
    }
   ],
   "source": [
    "salescrm_df=salescrm_df.withColumn('callback_date',lit(None).cast('date'))\\\n",
    ".withColumn('link_status',lit(None).cast('string'))\\\n",
    ".withColumn('print_flag',lit(None).cast('string'))\\\n",
    ".withColumn('courier',lit(None).cast('string'))\\\n",
    ".withColumn('delivery_return_date',lit(None).cast('date'))\\\n",
    ".withColumn('recieved_by',lit(None).cast('string'))"
   ]
  },
  {
   "cell_type": "code",
   "execution_count": 116,
   "metadata": {},
   "outputs": [
    {
     "data": {
      "application/vnd.jupyter.widget-view+json": {
       "model_id": "",
       "version_major": 2,
       "version_minor": 0
      },
      "text/plain": [
       "FloatProgress(value=0.0, bar_style='info', description='Progress:', layout=Layout(height='25px', width='50%'),…"
      ]
     },
     "metadata": {},
     "output_type": "display_data"
    },
    {
     "name": "stderr",
     "output_type": "stream",
     "text": [
      "An error was encountered:\n",
      "name 'salescrm_df' is not defined\n",
      "Traceback (most recent call last):\n",
      "NameError: name 'salescrm_df' is not defined\n",
      "\n"
     ]
    }
   ],
   "source": [
    "salescrm_df=salescrm_df.withColumn(\"certificate_no\", lit('00000000'))"
   ]
  },
  {
   "cell_type": "code",
   "execution_count": 117,
   "metadata": {},
   "outputs": [
    {
     "data": {
      "application/vnd.jupyter.widget-view+json": {
       "model_id": "",
       "version_major": 2,
       "version_minor": 0
      },
      "text/plain": [
       "FloatProgress(value=0.0, bar_style='info', description='Progress:', layout=Layout(height='25px', width='50%'),…"
      ]
     },
     "metadata": {},
     "output_type": "display_data"
    },
    {
     "name": "stderr",
     "output_type": "stream",
     "text": [
      "An error was encountered:\n",
      "name 'salescrm_df' is not defined\n",
      "Traceback (most recent call last):\n",
      "NameError: name 'salescrm_df' is not defined\n",
      "\n"
     ]
    }
   ],
   "source": [
    "salescrm_df=salescrm_df.select('source_app','interaction_type','interaction_date','policy_no','certificate_no','source_system_customer_id','reference_num','transaction_id','ticket_no',\n",
    "'mobile','email','awb_no','customer_name','deposition','sub_deposition','callback_date','remarks','language_pref','language_barrier','lost_reason',\n",
    "'competitor_name','ticket_close_date','ticket_tat','ticket_status','ticket_source','open_status','link_status','print_flag','courier','delivery_return_date',\n",
    "'recieved_by')"
   ]
  },
  {
   "cell_type": "code",
   "execution_count": 118,
   "metadata": {},
   "outputs": [
    {
     "data": {
      "application/vnd.jupyter.widget-view+json": {
       "model_id": "",
       "version_major": 2,
       "version_minor": 0
      },
      "text/plain": [
       "FloatProgress(value=0.0, bar_style='info', description='Progress:', layout=Layout(height='25px', width='50%'),…"
      ]
     },
     "metadata": {},
     "output_type": "display_data"
    },
    {
     "name": "stderr",
     "output_type": "stream",
     "text": [
      "An error was encountered:\n",
      "name 'salescrm_df' is not defined\n",
      "Traceback (most recent call last):\n",
      "NameError: name 'salescrm_df' is not defined\n",
      "\n"
     ]
    }
   ],
   "source": [
    "salescrm_df=salescrm_df.withColumn('interaction_date', col('interaction_date').cast(DateType()))\\\n",
    ".withColumn('delivery_return_date', col('delivery_return_date').cast(DateType()))\\\n",
    ".withColumn('reference_num', col('reference_num').cast('long'))\\\n",
    ".withColumn('callback_date', col('callback_date').cast(DateType()))\\\n",
    ".withColumn('ticket_close_date', col('ticket_close_date').cast(DateType()))\\\n",
    ".withColumn('ticket_tat', col('ticket_tat').cast('long'))\n",
    "salescrm_df=salescrm_df.filter(col('interaction_date').isNotNull()).filter(col('source_system_customer_id').isNotNull())\n"
   ]
  },
  {
   "cell_type": "code",
   "execution_count": 119,
   "metadata": {},
   "outputs": [
    {
     "data": {
      "application/vnd.jupyter.widget-view+json": {
       "model_id": "",
       "version_major": 2,
       "version_minor": 0
      },
      "text/plain": [
       "FloatProgress(value=0.0, bar_style='info', description='Progress:', layout=Layout(height='25px', width='50%'),…"
      ]
     },
     "metadata": {},
     "output_type": "display_data"
    },
    {
     "name": "stderr",
     "output_type": "stream",
     "text": [
      "An error was encountered:\n",
      "name 'salescrm_df' is not defined\n",
      "Traceback (most recent call last):\n",
      "NameError: name 'salescrm_df' is not defined\n",
      "\n"
     ]
    }
   ],
   "source": [
    "primary_key = ['source_app','interaction_type','source_system_customer_id', 'policy_no','certificate_no']\n",
    "\n",
    "from pyspark.sql.window import Window\n",
    "\n",
    "salescrm_df = salescrm_df.withColumn(\"rn\", F.row_number()\n",
    "        .over(Window.partitionBy(primary_key)\n",
    "        .orderBy(F.col(\"interaction_date\").desc())))\n",
    "\n",
    "salescrm_df = salescrm_df.filter(F.col(\"rn\") == 1).drop(\"rn\")"
   ]
  },
  {
   "cell_type": "code",
   "execution_count": 120,
   "metadata": {},
   "outputs": [
    {
     "data": {
      "application/vnd.jupyter.widget-view+json": {
       "model_id": "",
       "version_major": 2,
       "version_minor": 0
      },
      "text/plain": [
       "FloatProgress(value=0.0, bar_style='info', description='Progress:', layout=Layout(height='25px', width='50%'),…"
      ]
     },
     "metadata": {},
     "output_type": "display_data"
    },
    {
     "name": "stderr",
     "output_type": "stream",
     "text": [
      "An error was encountered:\n",
      "name 'salescrm_df' is not defined\n",
      "Traceback (most recent call last):\n",
      "NameError: name 'salescrm_df' is not defined\n",
      "\n"
     ]
    }
   ],
   "source": [
    "salescrm_df.persist(pyspark.StorageLevel.MEMORY_AND_DISK)"
   ]
  },
  {
   "cell_type": "code",
   "execution_count": 121,
   "metadata": {},
   "outputs": [
    {
     "data": {
      "application/vnd.jupyter.widget-view+json": {
       "model_id": "",
       "version_major": 2,
       "version_minor": 0
      },
      "text/plain": [
       "FloatProgress(value=0.0, bar_style='info', description='Progress:', layout=Layout(height='25px', width='50%'),…"
      ]
     },
     "metadata": {},
     "output_type": "display_data"
    }
   ],
   "source": [
    "#salescrm_df.filter(col('policy_no')=='0161061819').show()"
   ]
  },
  {
   "cell_type": "code",
   "execution_count": 122,
   "metadata": {},
   "outputs": [
    {
     "data": {
      "application/vnd.jupyter.widget-view+json": {
       "model_id": "",
       "version_major": 2,
       "version_minor": 0
      },
      "text/plain": [
       "FloatProgress(value=0.0, bar_style='info', description='Progress:', layout=Layout(height='25px', width='50%'),…"
      ]
     },
     "metadata": {},
     "output_type": "display_data"
    },
    {
     "name": "stderr",
     "output_type": "stream",
     "text": [
      "An error was encountered:\n",
      "name 'salescrm_df' is not defined\n",
      "Traceback (most recent call last):\n",
      "NameError: name 'salescrm_df' is not defined\n",
      "\n"
     ]
    }
   ],
   "source": [
    "records=salescrm_df.count()\n",
    "records"
   ]
  },
  {
   "cell_type": "code",
   "execution_count": 123,
   "metadata": {},
   "outputs": [
    {
     "data": {
      "application/vnd.jupyter.widget-view+json": {
       "model_id": "",
       "version_major": 2,
       "version_minor": 0
      },
      "text/plain": [
       "FloatProgress(value=0.0, bar_style='info', description='Progress:', layout=Layout(height='25px', width='50%'),…"
      ]
     },
     "metadata": {},
     "output_type": "display_data"
    }
   ],
   "source": [
    "#salescrm_df.filter(col('sub_deposition').isNotNull()).show()"
   ]
  },
  {
   "cell_type": "code",
   "execution_count": 124,
   "metadata": {},
   "outputs": [
    {
     "data": {
      "application/vnd.jupyter.widget-view+json": {
       "model_id": "",
       "version_major": 2,
       "version_minor": 0
      },
      "text/plain": [
       "FloatProgress(value=0.0, bar_style='info', description='Progress:', layout=Layout(height='25px', width='50%'),…"
      ]
     },
     "metadata": {},
     "output_type": "display_data"
    },
    {
     "name": "stdout",
     "output_type": "stream",
     "text": [
      "name 'salescrm_df' is not defined"
     ]
    }
   ],
   "source": [
    "output_index = \"interaction_journal_staging\" \n",
    "schema = \"customermart\"\n",
    "\n",
    "\n",
    "import sys\n",
    "try:\n",
    "\n",
    "    salescrm_df.write.format(\"greenplum\")\\\n",
    "    .option(\"dbtable\",output_index).option('dbschema',schema)\\\n",
    "    .option(\"server.port\",\"1150-1170\").option(\"url\",prod_url)\\\n",
    "    .option(\"user\", user_prod).option(\"password\",pwd_prod).mode('overwrite').save()\n",
    "\n",
    "\n",
    "except Exception as e:\n",
    "    x = e\n",
    "    print(x)\n",
    "else:\n",
    "    x = 200 #success\n",
    "    print(x)"
   ]
  },
  {
   "cell_type": "code",
   "execution_count": 125,
   "metadata": {},
   "outputs": [
    {
     "data": {
      "application/vnd.jupyter.widget-view+json": {
       "model_id": "",
       "version_major": 2,
       "version_minor": 0
      },
      "text/plain": [
       "FloatProgress(value=0.0, bar_style='info', description='Progress:', layout=Layout(height='25px', width='50%'),…"
      ]
     },
     "metadata": {},
     "output_type": "display_data"
    },
    {
     "name": "stdout",
     "output_type": "stream",
     "text": [
      "Inside try segment\n",
      "Inside except segment\n",
      "Executed update query\n",
      "Executed insert query\n",
      "success"
     ]
    }
   ],
   "source": [
    "table_name=\"interaction_journal\"\n",
    "conn_prod = psycopg2.connect(host=prod_host, port=prod_port, user=user_prod, password=pwd_prod, dbname=prod_dbname)\n",
    "conn_to=conn_prod\n",
    "status=''\n",
    "\n",
    "import sys\n",
    "try:\n",
    "    update(conn_to,table_name,prod_gpdb_spark_options, schema=\"customermart\")\n",
    "except Exception as e:\n",
    "    x = e\n",
    "    print(x)\n",
    "    status='Failed'\n",
    "else:\n",
    "    x = 'success'\n",
    "    print(x)\n",
    "    status='Success'"
   ]
  },
  {
   "cell_type": "code",
   "execution_count": 126,
   "metadata": {},
   "outputs": [
    {
     "data": {
      "application/vnd.jupyter.widget-view+json": {
       "model_id": "",
       "version_major": 2,
       "version_minor": 0
      },
      "text/plain": [
       "FloatProgress(value=0.0, bar_style='info', description='Progress:', layout=Layout(height='25px', width='50%'),…"
      ]
     },
     "metadata": {},
     "output_type": "display_data"
    },
    {
     "name": "stderr",
     "output_type": "stream",
     "text": [
      "An error was encountered:\n",
      "name 'salescrm_df' is not defined\n",
      "Traceback (most recent call last):\n",
      "NameError: name 'salescrm_df' is not defined\n",
      "\n"
     ]
    }
   ],
   "source": [
    "table_name='interaction_journal'\n",
    "source='SALESCRM'\n",
    "\n",
    "if  x == 'success':\n",
    "    update_progress(table_name,source,time_filter,records,start_time,starttime,'Success')\n",
    "    print('SUCCESS')\n",
    "else:\n",
    "    update_progress(table_name,source,time_filter,'0',start_time,starttime,'Failed')\n",
    "    print('FAILED')\n",
    "    \n",
    "salescrm_df.unpersist()"
   ]
  },
  {
   "cell_type": "markdown",
   "metadata": {},
   "source": [
    "# ACM "
   ]
  },
  {
   "cell_type": "code",
   "execution_count": 127,
   "metadata": {},
   "outputs": [
    {
     "data": {
      "application/vnd.jupyter.widget-view+json": {
       "model_id": "",
       "version_major": 2,
       "version_minor": 0
      },
      "text/plain": [
       "FloatProgress(value=0.0, bar_style='info', description='Progress:', layout=Layout(height='25px', width='50%'),…"
      ]
     },
     "metadata": {},
     "output_type": "display_data"
    },
    {
     "name": "stdout",
     "output_type": "stream",
     "text": [
      "Updated Progress for interaction_journal from SALESCRM until 2024-03-22 00:00:00. 37455 records processed in this run\n",
      "success\n",
      "SUCCESS\n",
      "'2024-03-23 12:33:53.477450'"
     ]
    }
   ],
   "source": [
    "starttime = time.time()\n",
    "start_time = datetime.datetime.now(pytz.timezone('Asia/Kolkata')).strftime(\"%Y-%m-%d %H:%M:%S.%f\")\n",
    "start_time"
   ]
  },
  {
   "cell_type": "code",
   "execution_count": 128,
   "metadata": {},
   "outputs": [
    {
     "data": {
      "application/vnd.jupyter.widget-view+json": {
       "model_id": "",
       "version_major": 2,
       "version_minor": 0
      },
      "text/plain": [
       "FloatProgress(value=0.0, bar_style='info', description='Progress:', layout=Layout(height='25px', width='50%'),…"
      ]
     },
     "metadata": {},
     "output_type": "display_data"
    }
   ],
   "source": [
    "table_name='interaction_journal'\n",
    "source='ACM'"
   ]
  },
  {
   "cell_type": "code",
   "execution_count": 129,
   "metadata": {},
   "outputs": [
    {
     "data": {
      "application/vnd.jupyter.widget-view+json": {
       "model_id": "",
       "version_major": 2,
       "version_minor": 0
      },
      "text/plain": [
       "FloatProgress(value=0.0, bar_style='info', description='Progress:', layout=Layout(height='25px', width='50%'),…"
      ]
     },
     "metadata": {},
     "output_type": "display_data"
    },
    {
     "name": "stdout",
     "output_type": "stream",
     "text": [
      "{'start_date': datetime.datetime(2024, 3, 19, 0, 0), 'end_date': datetime.datetime(2024, 3, 22, 0, 0)}"
     ]
    }
   ],
   "source": [
    "latest_progress=get_latest_progress(table_name,source)\n",
    "# dates in string format\n",
    "str_d1 = latest_progress.strftime(\"%Y-%m-%d\")\n",
    "str_d2 = datetime.datetime.now(pytz.timezone('Asia/Kolkata')).strftime(\"%Y-%m-%d\")\n",
    "\n",
    "# convert string to date object\n",
    "d1 = datetime.datetime.strptime(str_d1, \"%Y-%m-%d\")\n",
    "d2 = datetime.datetime.strptime(str_d2, \"%Y-%m-%d\")\n",
    "\n",
    "# difference between dates in timedelta\n",
    "delta = d2 - d1\n",
    "day=delta.days-1#currently T-2 change 2 to 1 for T-1\n",
    "\n",
    "time_filter={'start_date':latest_progress,'end_date':latest_progress+datetime.timedelta(days=day)}\n",
    "time_filter"
   ]
  },
  {
   "cell_type": "code",
   "execution_count": 130,
   "metadata": {},
   "outputs": [
    {
     "data": {
      "application/vnd.jupyter.widget-view+json": {
       "model_id": "",
       "version_major": 2,
       "version_minor": 0
      },
      "text/plain": [
       "FloatProgress(value=0.0, bar_style='info', description='Progress:', layout=Layout(height='25px', width='50%'),…"
      ]
     },
     "metadata": {},
     "output_type": "display_data"
    }
   ],
   "source": [
    "gscPythonOptions = {\n",
    "         \"url\": prod_url,\n",
    "         \"user\": user_prod,\n",
    "         \"password\": pwd_prod,\n",
    "         \"dbschema\":\"public\",\n",
    "         \"dbtable\": \"adobe_bike_renewal_report\",\n",
    "         \"server.port\":\"1150-1170\"} \n",
    "\n",
    "# Get the data  from Table\n",
    "\n",
    "acm_bike_df = sqlContext.read.format(\"greenplum\").options(**gscPythonOptions).load()\\\n",
    ".selectExpr('policy_number as policy_no','mode as interaction_type','deliver_time as interaction_date','delivery_status','click_open_status as open_status','campaign_name as remarks').dropDuplicates()\\\n",
    ".filter(col(\"load_date\")>=(to_date(lit(time_filter['start_date']), format='yyyy-MM-dd')))\\\n",
    ".filter(col(\"load_date\")<=(to_date(lit(time_filter['end_date']), format='yyyy-MM-dd')))\\\n",
    ".filter(col('interaction_date').isNotNull())\n",
    "\n",
    "acm_bike_df=acm_bike_df.withColumn('source_app',lit('ACM Mobile/Email'))"
   ]
  },
  {
   "cell_type": "code",
   "execution_count": 131,
   "metadata": {},
   "outputs": [
    {
     "data": {
      "application/vnd.jupyter.widget-view+json": {
       "model_id": "",
       "version_major": 2,
       "version_minor": 0
      },
      "text/plain": [
       "FloatProgress(value=0.0, bar_style='info', description='Progress:', layout=Layout(height='25px', width='50%'),…"
      ]
     },
     "metadata": {},
     "output_type": "display_data"
    }
   ],
   "source": [
    "acm_bike_df=acm_bike_df.withColumn('transaction_id',lit(None).cast('string'))\\\n",
    ".withColumn('ticket_no',lit(None).cast('string'))\\\n",
    ".withColumn('mobile',lit(None).cast('string'))\\\n",
    ".withColumn('email',lit(None).cast('string'))\\\n",
    ".withColumn('awb_no',lit(None).cast('string'))\\\n",
    ".withColumn('customer_name',lit(None).cast('string'))\\\n",
    ".withColumn('deposition',lit(None).cast('string'))\\\n",
    ".withColumn('sub_deposition',lit(None).cast('string'))\\\n",
    ".withColumn('callback_date',lit(None).cast('date'))\\\n",
    ".withColumn('language_pref',lit(None).cast('string'))\\\n",
    ".withColumn('language_barrier',lit(None).cast('string'))\\\n",
    ".withColumn('lost_reason',lit(None).cast('string'))\\\n",
    ".withColumn('competitor_name',lit(None).cast('string'))\\\n",
    ".withColumn('ticket_close_date',lit(None).cast('date'))\\\n",
    ".withColumn('ticket_tat',lit(None).cast('int'))\\\n",
    ".withColumn('ticket_status',lit(None).cast('string'))\\\n",
    ".withColumn('ticket_source',lit(None).cast('string'))\\\n",
    ".withColumn('link_status',lit(None).cast('string'))\\\n",
    ".withColumn('print_flag',lit(None).cast('string'))\\\n",
    ".withColumn('courier',lit(None).cast('string'))\\\n",
    ".withColumn('delivery_return_date',lit(None).cast('date'))\\\n",
    ".withColumn('recieved_by',lit(None).cast('string'))"
   ]
  },
  {
   "cell_type": "code",
   "execution_count": 132,
   "metadata": {},
   "outputs": [
    {
     "data": {
      "application/vnd.jupyter.widget-view+json": {
       "model_id": "",
       "version_major": 2,
       "version_minor": 0
      },
      "text/plain": [
       "FloatProgress(value=0.0, bar_style='info', description='Progress:', layout=Layout(height='25px', width='50%'),…"
      ]
     },
     "metadata": {},
     "output_type": "display_data"
    }
   ],
   "source": [
    "acm_bike_df=acm_bike_df.select('source_app','interaction_type','interaction_date','policy_no','transaction_id','ticket_no',\n",
    "'mobile','email','awb_no','customer_name','deposition','sub_deposition','callback_date','remarks','language_pref','language_barrier','lost_reason',\n",
    "'competitor_name','ticket_close_date','ticket_tat','ticket_status','ticket_source','open_status','link_status','print_flag','courier','delivery_return_date',\n",
    "'recieved_by')"
   ]
  },
  {
   "cell_type": "code",
   "execution_count": 133,
   "metadata": {},
   "outputs": [
    {
     "data": {
      "application/vnd.jupyter.widget-view+json": {
       "model_id": "",
       "version_major": 2,
       "version_minor": 0
      },
      "text/plain": [
       "FloatProgress(value=0.0, bar_style='info', description='Progress:', layout=Layout(height='25px', width='50%'),…"
      ]
     },
     "metadata": {},
     "output_type": "display_data"
    }
   ],
   "source": [
    "gscPythonOptions = {\n",
    "         \"url\": prod_url,\n",
    "         \"user\": user_prod,\n",
    "         \"password\": pwd_prod,\n",
    "         \"dbschema\":\"public\",\n",
    "         \"dbtable\": \"adobe_cv_renewal_report\",\n",
    "         \"server.port\":\"1150-1170\"} \n",
    "\n",
    "# Get the data  from credit_bureau_data Table\n",
    "\n",
    "acm_cv_df = sqlContext.read.format(\"greenplum\").options(**gscPythonOptions).load()\\\n",
    ".selectExpr('policy_number as policy_no','mode as interaction_type','deliver_time as interaction_date','delivery_status','click_open_status as open_status','campaign_name as remarks').dropDuplicates()\\\n",
    ".filter(col(\"load_date\")>=(to_date(lit(time_filter['start_date']), format='yyyy-MM-dd')))\\\n",
    ".filter(col(\"load_date\")<=(to_date(lit(time_filter['end_date']), format='yyyy-MM-dd')))\\\n",
    ".filter(col('interaction_date').isNotNull())\n",
    "#acm_cv_df.columns\n",
    "\n",
    "acm_cv_df=acm_cv_df.withColumn('source_app',lit('ACM Mobile/Email'))"
   ]
  },
  {
   "cell_type": "code",
   "execution_count": 134,
   "metadata": {},
   "outputs": [
    {
     "data": {
      "application/vnd.jupyter.widget-view+json": {
       "model_id": "",
       "version_major": 2,
       "version_minor": 0
      },
      "text/plain": [
       "FloatProgress(value=0.0, bar_style='info', description='Progress:', layout=Layout(height='25px', width='50%'),…"
      ]
     },
     "metadata": {},
     "output_type": "display_data"
    }
   ],
   "source": [
    "acm_cv_df=acm_cv_df.withColumn('transaction_id',lit(None).cast('string'))\\\n",
    ".withColumn('ticket_no',lit(None).cast('string'))\\\n",
    ".withColumn('mobile',lit(None).cast('string'))\\\n",
    ".withColumn('email',lit(None).cast('string'))\\\n",
    ".withColumn('awb_no',lit(None).cast('string'))\\\n",
    ".withColumn('customer_name',lit(None).cast('string'))\\\n",
    ".withColumn('deposition',lit(None).cast('string'))\\\n",
    ".withColumn('sub_deposition',lit(None).cast('string'))\\\n",
    ".withColumn('callback_date',lit(None).cast('date'))\\\n",
    ".withColumn('language_pref',lit(None).cast('string'))\\\n",
    ".withColumn('language_barrier',lit(None).cast('string'))\\\n",
    ".withColumn('lost_reason',lit(None).cast('string'))\\\n",
    ".withColumn('competitor_name',lit(None).cast('string'))\\\n",
    ".withColumn('ticket_close_date',lit(None).cast('date'))\\\n",
    ".withColumn('ticket_tat',lit(None).cast('int'))\\\n",
    ".withColumn('ticket_status',lit(None).cast('string'))\\\n",
    ".withColumn('ticket_source',lit(None).cast('string'))\\\n",
    ".withColumn('link_status',lit(None).cast('string'))\\\n",
    ".withColumn('print_flag',lit(None).cast('string'))\\\n",
    ".withColumn('courier',lit(None).cast('string'))\\\n",
    ".withColumn('delivery_return_date',lit(None).cast('date'))\\\n",
    ".withColumn('recieved_by',lit(None).cast('string'))"
   ]
  },
  {
   "cell_type": "code",
   "execution_count": 135,
   "metadata": {},
   "outputs": [
    {
     "data": {
      "application/vnd.jupyter.widget-view+json": {
       "model_id": "",
       "version_major": 2,
       "version_minor": 0
      },
      "text/plain": [
       "FloatProgress(value=0.0, bar_style='info', description='Progress:', layout=Layout(height='25px', width='50%'),…"
      ]
     },
     "metadata": {},
     "output_type": "display_data"
    }
   ],
   "source": [
    "acm_cv_df=acm_cv_df.select('source_app','interaction_type','interaction_date','policy_no','transaction_id','ticket_no',\n",
    "'mobile','email','awb_no','customer_name','deposition','sub_deposition','callback_date','remarks','language_pref','language_barrier','lost_reason',\n",
    "'competitor_name','ticket_close_date','ticket_tat','ticket_status','ticket_source','open_status','link_status','print_flag','courier','delivery_return_date',\n",
    "'recieved_by')"
   ]
  },
  {
   "cell_type": "code",
   "execution_count": 136,
   "metadata": {},
   "outputs": [
    {
     "data": {
      "application/vnd.jupyter.widget-view+json": {
       "model_id": "",
       "version_major": 2,
       "version_minor": 0
      },
      "text/plain": [
       "FloatProgress(value=0.0, bar_style='info', description='Progress:', layout=Layout(height='25px', width='50%'),…"
      ]
     },
     "metadata": {},
     "output_type": "display_data"
    }
   ],
   "source": [
    "gscPythonOptions = {\n",
    "         \"url\": prod_url,\n",
    "         \"user\": user_prod,\n",
    "         \"password\": pwd_prod,\n",
    "         \"dbschema\":\"public\",\n",
    "         \"dbtable\": \"adobe_health_renewal_report\",\n",
    "         \"server.port\":\"1150-1170\"} \n",
    "\n",
    "# Get the data  from credit_bureau_data Table\n",
    "\n",
    "acm_health_df = sqlContext.read.format(\"greenplum\").options(**gscPythonOptions).load()\\\n",
    ".selectExpr('policy_number as policy_no','mode as interaction_type','deliver_time as interaction_date','delivery_status','click_open_status as open_status','campaign_name as remarks').dropDuplicates()\\\n",
    ".filter(col(\"load_date\")>=(to_date(lit(time_filter['start_date']), format='yyyy-MM-dd')))\\\n",
    ".filter(col(\"load_date\")<=(to_date(lit(time_filter['end_date']), format='yyyy-MM-dd')))\\\n",
    ".filter(col('interaction_date').isNotNull())\\\n",
    ".filter(col('policy_no').isNotNull())\n",
    "#acm_health_df.columns\n",
    "\n",
    "acm_health_df=acm_health_df.withColumn('source_app',lit('ACM Mobile/Email'))"
   ]
  },
  {
   "cell_type": "code",
   "execution_count": 137,
   "metadata": {},
   "outputs": [
    {
     "data": {
      "application/vnd.jupyter.widget-view+json": {
       "model_id": "",
       "version_major": 2,
       "version_minor": 0
      },
      "text/plain": [
       "FloatProgress(value=0.0, bar_style='info', description='Progress:', layout=Layout(height='25px', width='50%'),…"
      ]
     },
     "metadata": {},
     "output_type": "display_data"
    }
   ],
   "source": [
    "acm_health_df=acm_health_df.withColumn('transaction_id',lit(None).cast('string'))\\\n",
    ".withColumn('ticket_no',lit(None).cast('string'))\\\n",
    ".withColumn('mobile',lit(None).cast('string'))\\\n",
    ".withColumn('email',lit(None).cast('string'))\\\n",
    ".withColumn('awb_no',lit(None).cast('string'))\\\n",
    ".withColumn('customer_name',lit(None).cast('string'))\\\n",
    ".withColumn('deposition',lit(None).cast('string'))\\\n",
    ".withColumn('sub_deposition',lit(None).cast('string'))\\\n",
    ".withColumn('callback_date',lit(None).cast('date'))\\\n",
    ".withColumn('language_pref',lit(None).cast('string'))\\\n",
    ".withColumn('language_barrier',lit(None).cast('string'))\\\n",
    ".withColumn('lost_reason',lit(None).cast('string'))\\\n",
    ".withColumn('competitor_name',lit(None).cast('string'))\\\n",
    ".withColumn('ticket_close_date',lit(None).cast('date'))\\\n",
    ".withColumn('ticket_tat',lit(None).cast('int'))\\\n",
    ".withColumn('ticket_status',lit(None).cast('string'))\\\n",
    ".withColumn('ticket_source',lit(None).cast('string'))\\\n",
    ".withColumn('link_status',lit(None).cast('string'))\\\n",
    ".withColumn('print_flag',lit(None).cast('string'))\\\n",
    ".withColumn('courier',lit(None).cast('string'))\\\n",
    ".withColumn('delivery_return_date',lit(None).cast('date'))\\\n",
    ".withColumn('recieved_by',lit(None).cast('string'))"
   ]
  },
  {
   "cell_type": "code",
   "execution_count": 138,
   "metadata": {},
   "outputs": [
    {
     "data": {
      "application/vnd.jupyter.widget-view+json": {
       "model_id": "",
       "version_major": 2,
       "version_minor": 0
      },
      "text/plain": [
       "FloatProgress(value=0.0, bar_style='info', description='Progress:', layout=Layout(height='25px', width='50%'),…"
      ]
     },
     "metadata": {},
     "output_type": "display_data"
    }
   ],
   "source": [
    "acm_health_df=acm_health_df.select('source_app','interaction_type','interaction_date','policy_no','transaction_id','ticket_no',\n",
    "'mobile','email','awb_no','customer_name','deposition','sub_deposition','callback_date','remarks','language_pref','language_barrier','lost_reason',\n",
    "'competitor_name','ticket_close_date','ticket_tat','ticket_status','ticket_source','open_status','link_status','print_flag','courier','delivery_return_date',\n",
    "'recieved_by')"
   ]
  },
  {
   "cell_type": "code",
   "execution_count": 139,
   "metadata": {},
   "outputs": [
    {
     "data": {
      "application/vnd.jupyter.widget-view+json": {
       "model_id": "",
       "version_major": 2,
       "version_minor": 0
      },
      "text/plain": [
       "FloatProgress(value=0.0, bar_style='info', description='Progress:', layout=Layout(height='25px', width='50%'),…"
      ]
     },
     "metadata": {},
     "output_type": "display_data"
    }
   ],
   "source": [
    "df_union_acm_1=acm_bike_df.union(acm_cv_df)\n",
    "df_union_acm_2=df_union_acm_1.union(acm_health_df)"
   ]
  },
  {
   "cell_type": "code",
   "execution_count": 140,
   "metadata": {},
   "outputs": [
    {
     "data": {
      "application/vnd.jupyter.widget-view+json": {
       "model_id": "",
       "version_major": 2,
       "version_minor": 0
      },
      "text/plain": [
       "FloatProgress(value=0.0, bar_style='info', description='Progress:', layout=Layout(height='25px', width='50%'),…"
      ]
     },
     "metadata": {},
     "output_type": "display_data"
    }
   ],
   "source": [
    "df_union_acm_2=df_union_acm_2.join(sad, df_union_acm_2.policy_no==sad.policy_no, 'inner').drop(sad.policy_no)\\\n",
    ".withColumnRenamed('proposal_no', 'reference_num')"
   ]
  },
  {
   "cell_type": "code",
   "execution_count": 141,
   "metadata": {},
   "outputs": [
    {
     "data": {
      "application/vnd.jupyter.widget-view+json": {
       "model_id": "",
       "version_major": 2,
       "version_minor": 0
      },
      "text/plain": [
       "FloatProgress(value=0.0, bar_style='info', description='Progress:', layout=Layout(height='25px', width='50%'),…"
      ]
     },
     "metadata": {},
     "output_type": "display_data"
    }
   ],
   "source": [
    "from pyspark.sql.functions import unix_timestamp, from_unixtime\n",
    "df_union_acm_2=df_union_acm_2.withColumn('interaction_date', from_unixtime(unix_timestamp('interaction_date', 'yyyy/MM/dd HH:mm:ss')).cast('timestamp'))\n"
   ]
  },
  {
   "cell_type": "code",
   "execution_count": 142,
   "metadata": {},
   "outputs": [
    {
     "data": {
      "application/vnd.jupyter.widget-view+json": {
       "model_id": "",
       "version_major": 2,
       "version_minor": 0
      },
      "text/plain": [
       "FloatProgress(value=0.0, bar_style='info', description='Progress:', layout=Layout(height='25px', width='50%'),…"
      ]
     },
     "metadata": {},
     "output_type": "display_data"
    }
   ],
   "source": [
    "df_union_acm_2=df_union_acm_2.withColumn('interaction_date', col('interaction_date').cast(DateType()))\\\n",
    ".withColumn('delivery_return_date', col('delivery_return_date').cast(DateType()))\\\n",
    ".withColumn('reference_num', col('reference_num').cast('long'))\\\n",
    ".withColumn('callback_date', col('callback_date').cast(DateType()))\\\n",
    ".withColumn('ticket_close_date', col('ticket_close_date').cast(DateType()))\\\n",
    ".withColumn('ticket_tat', col('ticket_tat').cast('long'))\n",
    "df_union_acm_2=df_union_acm_2.filter(col('source_system_customer_id').isNotNull()).filter(col('interaction_date').isNotNull())\n",
    "df_union_acm_2=df_union_acm_2.withColumn(\"certificate_no\", coalesce(col(\"certificate_no\"), lit('00000000')))"
   ]
  },
  {
   "cell_type": "code",
   "execution_count": 143,
   "metadata": {},
   "outputs": [
    {
     "data": {
      "application/vnd.jupyter.widget-view+json": {
       "model_id": "",
       "version_major": 2,
       "version_minor": 0
      },
      "text/plain": [
       "FloatProgress(value=0.0, bar_style='info', description='Progress:', layout=Layout(height='25px', width='50%'),…"
      ]
     },
     "metadata": {},
     "output_type": "display_data"
    }
   ],
   "source": [
    "df_union_acm_2=df_union_acm_2.select('source_app','interaction_type','interaction_date','policy_no','certificate_no','source_system_customer_id','reference_num','transaction_id','ticket_no',\n",
    "'mobile','email','awb_no','customer_name','deposition','sub_deposition','callback_date','remarks','language_pref','language_barrier','lost_reason',\n",
    "'competitor_name','ticket_close_date','ticket_tat','ticket_status','ticket_source','open_status','link_status','print_flag','courier','delivery_return_date',\n",
    "'recieved_by')"
   ]
  },
  {
   "cell_type": "code",
   "execution_count": 144,
   "metadata": {},
   "outputs": [
    {
     "data": {
      "application/vnd.jupyter.widget-view+json": {
       "model_id": "",
       "version_major": 2,
       "version_minor": 0
      },
      "text/plain": [
       "FloatProgress(value=0.0, bar_style='info', description='Progress:', layout=Layout(height='25px', width='50%'),…"
      ]
     },
     "metadata": {},
     "output_type": "display_data"
    }
   ],
   "source": [
    "primary_key = ['source_app','interaction_type','source_system_customer_id', 'policy_no','certificate_no']\n",
    "\n",
    "from pyspark.sql.window import Window\n",
    "\n",
    "df_union_acm_2 = df_union_acm_2.withColumn(\"rn\", F.row_number()\n",
    "        .over(Window.partitionBy(primary_key)\n",
    "        .orderBy(F.col(\"interaction_date\").desc())))\n",
    "\n",
    "df_union_acm_2 = df_union_acm_2.filter(F.col(\"rn\") == 1).drop(\"rn\")"
   ]
  },
  {
   "cell_type": "code",
   "execution_count": 145,
   "metadata": {},
   "outputs": [
    {
     "data": {
      "application/vnd.jupyter.widget-view+json": {
       "model_id": "",
       "version_major": 2,
       "version_minor": 0
      },
      "text/plain": [
       "FloatProgress(value=0.0, bar_style='info', description='Progress:', layout=Layout(height='25px', width='50%'),…"
      ]
     },
     "metadata": {},
     "output_type": "display_data"
    },
    {
     "name": "stdout",
     "output_type": "stream",
     "text": [
      "0"
     ]
    }
   ],
   "source": [
    "df_union_acm_2.persist(pyspark.StorageLevel.MEMORY_AND_DISK)\n",
    "records=df_union_acm_2.count()\n",
    "records"
   ]
  },
  {
   "cell_type": "code",
   "execution_count": 146,
   "metadata": {},
   "outputs": [
    {
     "data": {
      "application/vnd.jupyter.widget-view+json": {
       "model_id": "",
       "version_major": 2,
       "version_minor": 0
      },
      "text/plain": [
       "FloatProgress(value=0.0, bar_style='info', description='Progress:', layout=Layout(height='25px', width='50%'),…"
      ]
     },
     "metadata": {},
     "output_type": "display_data"
    },
    {
     "name": "stdout",
     "output_type": "stream",
     "text": [
      "200"
     ]
    }
   ],
   "source": [
    "output_index = \"interaction_journal_staging\" \n",
    "schema = \"customermart\"\n",
    "\n",
    "\n",
    "import sys\n",
    "try:\n",
    "\n",
    "    df_union_acm_2.write.format(\"greenplum\")\\\n",
    "    .option(\"dbtable\",output_index).option('dbschema',schema)\\\n",
    "    .option(\"server.port\",\"1150-1170\").option(\"url\",prod_url)\\\n",
    "    .option(\"user\", user_prod).option(\"password\",pwd_prod).mode('overwrite').save()\n",
    "\n",
    "\n",
    "except Exception as e:\n",
    "    x = e\n",
    "    print(x)\n",
    "else:\n",
    "    x = 200 #success\n",
    "    print(x)"
   ]
  },
  {
   "cell_type": "code",
   "execution_count": 147,
   "metadata": {},
   "outputs": [
    {
     "data": {
      "application/vnd.jupyter.widget-view+json": {
       "model_id": "",
       "version_major": 2,
       "version_minor": 0
      },
      "text/plain": [
       "FloatProgress(value=0.0, bar_style='info', description='Progress:', layout=Layout(height='25px', width='50%'),…"
      ]
     },
     "metadata": {},
     "output_type": "display_data"
    },
    {
     "name": "stdout",
     "output_type": "stream",
     "text": [
      "Inside try segment\n",
      "Executed Only insert query\n",
      "success"
     ]
    }
   ],
   "source": [
    "table_name=\"interaction_journal\"\n",
    "conn_prod = psycopg2.connect(host=prod_host, port=prod_port, user=user_prod, password=pwd_prod, dbname=prod_dbname)\n",
    "conn_to=conn_prod\n",
    "status=''\n",
    "\n",
    "import sys\n",
    "try:\n",
    "    update(conn_to,table_name,prod_gpdb_spark_options, schema=\"customermart\")\n",
    "except Exception as e:\n",
    "    x = e\n",
    "    print(x)\n",
    "    status='Failed'\n",
    "else:\n",
    "    x = 'success'\n",
    "    print(x)\n",
    "    status='Success'"
   ]
  },
  {
   "cell_type": "code",
   "execution_count": 148,
   "metadata": {},
   "outputs": [
    {
     "data": {
      "application/vnd.jupyter.widget-view+json": {
       "model_id": "",
       "version_major": 2,
       "version_minor": 0
      },
      "text/plain": [
       "FloatProgress(value=0.0, bar_style='info', description='Progress:', layout=Layout(height='25px', width='50%'),…"
      ]
     },
     "metadata": {},
     "output_type": "display_data"
    },
    {
     "name": "stdout",
     "output_type": "stream",
     "text": [
      "Updated Progress for interaction_journal from ACM until 2024-03-22 00:00:00. 0 records processed in this run\n",
      "success\n",
      "SUCCESS\n",
      "DataFrame[source_app: string, interaction_type: string, interaction_date: date, policy_no: string, certificate_no: string, source_system_customer_id: string, reference_num: bigint, transaction_id: string, ticket_no: string, mobile: string, email: string, awb_no: string, customer_name: string, deposition: string, sub_deposition: string, callback_date: date, remarks: string, language_pref: string, language_barrier: string, lost_reason: string, competitor_name: string, ticket_close_date: date, ticket_tat: bigint, ticket_status: string, ticket_source: string, open_status: string, link_status: string, print_flag: string, courier: string, delivery_return_date: date, recieved_by: string]"
     ]
    }
   ],
   "source": [
    "table_name='interaction_journal'\n",
    "source='ACM'\n",
    "\n",
    "if  x == 'success':\n",
    "    update_progress(table_name,source,time_filter,records,start_time,starttime,'Success')\n",
    "    print('SUCCESS')\n",
    "else:\n",
    "    update_progress(table_name,source,time_filter,'0',start_time,starttime,'Failed')\n",
    "    print('FAILED')\n",
    "    \n",
    "df_union_acm_2.unpersist()"
   ]
  },
  {
   "cell_type": "code",
   "execution_count": 149,
   "metadata": {},
   "outputs": [
    {
     "data": {
      "application/vnd.jupyter.widget-view+json": {
       "model_id": "",
       "version_major": 2,
       "version_minor": 0
      },
      "text/plain": [
       "FloatProgress(value=0.0, bar_style='info', description='Progress:', layout=Layout(height='25px', width='50%'),…"
      ]
     },
     "metadata": {},
     "output_type": "display_data"
    }
   ],
   "source": [
    "spark.stop()"
   ]
  },
  {
   "cell_type": "code",
   "execution_count": null,
   "metadata": {},
   "outputs": [],
   "source": [
    "# create table customermart.temp_crm_so_sa as (\n",
    "# select so.policy_number__c,campaign_name__c,so.product__c,so.id,so.lastmodifieddate, \n",
    "# sa.Call_Back_Date_Time__c,Dispose_Date_Time__c,sa.Parent_Status__c,sa.Remarks__c as remarks,\n",
    "# sa.Sub_Status__c,sa.Sub_Disposition__c as sub_deposition,whatid\n",
    "# from public.salesforce_opportunity so\n",
    "# join public.salesforce_activity sa on so.id=sa.whatid  \n",
    "# where Dispose_Date_Time__c is not null and so.policy_number__c is not null\n",
    "# and whatid is not null)"
   ]
  }
 ],
 "metadata": {
  "kernelspec": {
   "display_name": "PySpark",
   "language": "",
   "name": "pysparkkernel"
  },
  "language_info": {
   "codemirror_mode": {
    "name": "python",
    "version": 3
   },
   "mimetype": "text/x-python",
   "name": "pyspark",
   "pygments_lexer": "python3"
  }
 },
 "nbformat": 4,
 "nbformat_minor": 4
}
