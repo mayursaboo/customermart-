{
 "cells": [
  {
   "cell_type": "code",
   "execution_count": 1,
   "metadata": {},
   "outputs": [
    {
     "name": "stdout",
     "output_type": "stream",
     "text": [
      "Starting Spark application\n"
     ]
    },
    {
     "data": {
      "text/html": [
       "<table>\n",
       "<tr><th>ID</th><th>YARN Application ID</th><th>Kind</th><th>State</th><th>Spark UI</th><th>Driver log</th><th>Current session?</th></tr><tr><td>17999</td><td>None</td><td>pyspark</td><td>idle</td><td></td><td></td><td>✔</td></tr></table>"
      ],
      "text/plain": [
       "<IPython.core.display.HTML object>"
      ]
     },
     "metadata": {},
     "output_type": "display_data"
    },
    {
     "data": {
      "application/vnd.jupyter.widget-view+json": {
       "model_id": "",
       "version_major": 2,
       "version_minor": 0
      },
      "text/plain": [
       "FloatProgress(value=0.0, bar_style='info', description='Progress:', layout=Layout(height='25px', width='50%'),…"
      ]
     },
     "metadata": {},
     "output_type": "display_data"
    },
    {
     "name": "stdout",
     "output_type": "stream",
     "text": [
      "SparkSession available as 'spark'.\n"
     ]
    },
    {
     "data": {
      "application/vnd.jupyter.widget-view+json": {
       "model_id": "",
       "version_major": 2,
       "version_minor": 0
      },
      "text/plain": [
       "FloatProgress(value=0.0, bar_style='info', description='Progress:', layout=Layout(height='25px', width='50%'),…"
      ]
     },
     "metadata": {},
     "output_type": "display_data"
    }
   ],
   "source": [
    "import sys\n",
    "\n",
    "\n",
    "no_of_cpu =4\n",
    "max_cores =8\n",
    "executor_mem = '26g'\n",
    "\n",
    "\n",
    "Job_Name = 'Nandan  :customer_web_data'\n",
    "\n",
    "\n",
    "from pyspark.mllib.stat import Statistics\n",
    "from pyspark.sql.functions import asc,lit\n",
    "#warnings.filterwarnings('error')\n",
    "import pyspark\n",
    "from datetime import datetime,timedelta\n",
    "from pyspark.sql import SQLContext\n",
    "from pyspark import SparkContext, SparkConf\n",
    "from pyspark.sql import functions as F\n",
    "\n",
    "conf = pyspark.SparkConf()\n",
    "#import numpy\n",
    "import calendar\n",
    "#import pandas as pd\n",
    "#import simplejson as json\n",
    "#import pandas as pd\n",
    "import numpy as np\n",
    "import datetime\n",
    "from pyspark.sql.functions import *\n",
    "from pyspark.sql.types import DateType\n",
    "from pyspark.sql.functions import lit\n",
    "import simplejson as json\n",
    "import json, pprint, requests\n",
    "#es_nodes = '10.35.12.5'\n",
    "#es_nodes = '10.35.12.6'\n",
    "es_nodes = '10.35.12.194'#,10.35.12.6,10.35.12.5\n",
    "es_nodes_temp='10.35.12.194'\n",
    "es_port = '5432'\n",
    "es_user = 'elastic'\n",
    "es_pwd = 'bEiilauM3es'\n",
    "mesos_ip = 'mesos://10.33.195.18:5050'#'mesos://10.35.12.5:5050'\n",
    "\n",
    "spark.stop() #############NEED TO COMMENT THIS SPARK.STOP WHEN RUNNING THROUGH SHELL###############################\n",
    "\n",
    "conf.setMaster(mesos_ip)\n",
    "\n",
    "conf.set('spark.executor.cores',no_of_cpu) ### change 1\n",
    "#conf.set('spark.memory.fraction','.2')\n",
    "conf.set('spark.executor.memory',executor_mem) \n",
    "conf.set('spark.es.scroll.size','10000')\n",
    "conf.set('spark.network.timeout','600s')\n",
    "conf.set('spark.sql.crossJoin.enabled', 'true')\n",
    "\n",
    "conf.set('spark.ui.port','4052')\n",
    "\n",
    "conf.set('spark.executor.heartbeatInterval','60s')\n",
    "conf.set(\"spark.driver.cores\",\"4\")\n",
    "conf.set(\"spark.driver.extraJavaOptions\",\"-Xmx4g -Xms4g\")\n",
    "\n",
    "#conf.set(\"spark.shuffle.blockTransferService\", \"nio\"); \n",
    "conf.set(\"spark.files.overwrite\",\"true\");\n",
    "conf.set(\"spark.kryoserializer.buffer\", \"70\"); \n",
    "conf.set(\"spark.driver.extraJavaOptions\", \"-XX:+UseG1GC\");\n",
    "conf.set(\"spark.executor.extraJavaOptions\", \"-XX:+UseG1GC\");\n",
    "conf.set(\"spark.serializer\", \"org.apache.spark.serializer.KryoSerializer\"); \n",
    "conf.set(\"spark.broadcast.compress\", \"true\"); \n",
    "conf.set(\"spark.shuffle.compress\", \"true\"); \n",
    "conf.set(\"spark.shuffle.spill.compress\", \"true\");\n",
    "conf.set(\"spark.app.name\", Job_Name)\n",
    "#conf.set(\"spark.io.compression.codec\",\"org.apache.spark.io.LZ4CompressionCodec\");\n",
    "#conf.set(\"spark.sql.inMemoryColumnarStorage.compressed\", \"true\"); \n",
    "from pyspark.sql.functions import broadcast\n",
    "\n",
    "conf.set('spark.driver.memory','20g') ### change 2\n",
    "conf.set('spark.cores.max',max_cores) ### change 3\n",
    "conf.set('spark.sql.shuffle.partitions','400')\n",
    "#conf.set('spark.sql.crossJoin.enabled', 'true')\n",
    "conf.set('es.nodes',es_nodes)\n",
    "conf.set('es.port',es_port)\n",
    "conf.set('es.nodes.wan.only','true')\n",
    "conf.set(\"spark.sql.autoBroadcastJoinThreshold\",-1)\n",
    "\n",
    "#conf.set('spark.es.net.http.auth.user','Spark')\n",
    "#conf.set('spark.es.net.http.auth.pass','Jarkpet1Sap3')\n",
    "conf.set('spark.num.executors','4')\n",
    "conf.set('spark.debug.maxToStringFields', 200)\n",
    "\n",
    "conf.set('spark.es.net.http.auth.user', es_user)\n",
    "conf.set('spark.es.net.http.auth.pass', es_pwd)\n",
    "\n",
    "conf.set('spark.es.mapping.date.rich','false')\n",
    "spark = pyspark.SparkContext(conf=conf)\n",
    "sqlContext = SQLContext(spark)\n",
    "\n",
    "# Load Data into PySpark DataFrames\n",
    "# Prodcom Data Frame\n",
    "import json, pprint, requests\n",
    "import pyspark.sql.functions as sf\n",
    "from pyspark.sql.types import *\n",
    "\n",
    "\n",
    "import numpy as np\n",
    "import datetime\n",
    "from pyspark.sql.functions import *\n",
    "from pyspark.sql.types import DateType\n",
    "\n"
   ]
  },
  {
   "cell_type": "code",
   "execution_count": 2,
   "metadata": {},
   "outputs": [
    {
     "data": {
      "application/vnd.jupyter.widget-view+json": {
       "model_id": "",
       "version_major": 2,
       "version_minor": 0
      },
      "text/plain": [
       "FloatProgress(value=0.0, bar_style='info', description='Progress:', layout=Layout(height='25px', width='50%'),…"
      ]
     },
     "metadata": {},
     "output_type": "display_data"
    }
   ],
   "source": [
    "prod_url = \"jdbc:postgresql://10.35.12.194:5432/gpadmin\"\n",
    "prod_host = '10.35.12.194'\n",
    "prod_port = '5432'\n",
    "prod_dbname = 'gpadmin'\n",
    "user_prod=\"gpspark\"\n",
    "pwd_prod=\"spark@456\"\n",
    "dbschema=\"public\"\n",
    "\n",
    "\n",
    "prod_gpdb_spark_options ={\n",
    "    \"url\": \"jdbc:postgresql://{host}:{port}/{dbname}\".format(host=prod_host,port=prod_port, dbname=prod_dbname),\n",
    "    \"user\": \"{user}\".format(user=user_prod),\n",
    "    \"password\": \"{password}\".format(password=pwd_prod)\n",
    "} "
   ]
  },
  {
   "cell_type": "code",
   "execution_count": 3,
   "metadata": {},
   "outputs": [
    {
     "data": {
      "application/vnd.jupyter.widget-view+json": {
       "model_id": "",
       "version_major": 2,
       "version_minor": 0
      },
      "text/plain": [
       "FloatProgress(value=0.0, bar_style='info', description='Progress:', layout=Layout(height='25px', width='50%'),…"
      ]
     },
     "metadata": {},
     "output_type": "display_data"
    }
   ],
   "source": [
    "prod_url = \"jdbc:postgresql://10.35.12.194:5432/gpadmin\"\n",
    "prod_host = '10.35.12.194'\n",
    "prod_port = '5432'\n",
    "prod_dbname = 'gpadmin'\n",
    "user_prod=\"gpcustcoe\"\n",
    "pwd_prod=\"gpcustcoe@123\"\n",
    "dbschema=\"public\"\n",
    "\n",
    "\n",
    "prod_gpdb_spark_options ={\n",
    "    \"url\": \"jdbc:postgresql://{host}:{port}/{dbname}\".format(host=prod_host,port=prod_port, dbname=prod_dbname),\n",
    "    \"user\": \"{user}\".format(user=user_prod),\n",
    "    \"password\": \"{password}\".format(password=pwd_prod)\n",
    "} "
   ]
  },
  {
   "cell_type": "code",
   "execution_count": 4,
   "metadata": {},
   "outputs": [
    {
     "data": {
      "application/vnd.jupyter.widget-view+json": {
       "model_id": "",
       "version_major": 2,
       "version_minor": 0
      },
      "text/plain": [
       "FloatProgress(value=0.0, bar_style='info', description='Progress:', layout=Layout(height='25px', width='50%'),…"
      ]
     },
     "metadata": {},
     "output_type": "display_data"
    }
   ],
   "source": [
    "# loading table as dataframe\n",
    "def load_gpdb_jdbc(col_str,dbtable,dbschema,col_name=None,time_filter=None,partitionColumn=\"row_num\"):\n",
    "    \"\"\"\n",
    "    This is used to read gpdb with filter for columns and can apply other filter(date,values).\n",
    "    Time filter contains startdate,enddate\n",
    "    \"\"\"\n",
    "    gscPythonOptions = {\n",
    "                        \"url\": prod_url,\n",
    "                        \"user\": user_prod,\n",
    "                        \"password\": pwd_prod,\n",
    "                        \"dbschema\": dbschema,\n",
    "                        \"dbtable\": dbtable,\n",
    "                        \"partitionColumn\":partitionColumn,\n",
    "                        \"partitions\": 8,\n",
    "                        \"server.port\":\"1150-1170\"}\n",
    "   \n",
    "    if time_filter:\n",
    "        data = sqlContext.read.format(\"greenplum\").options(**gscPythonOptions).load()\\\n",
    "                .selectExpr(col_str).drop_duplicates().filter(col(col_name).between(to_timestamp(lit(time_filter['start_date']),\n",
    "                                                                 format='yyyy-MM-dd'),\n",
    "                                                    to_timestamp(lit(time_filter['end_date']),\n",
    "                                                                 format='yyyy-MM-dd')))\n",
    "    else :\n",
    "        data = sqlContext.read.format(\"greenplum\").options(**gscPythonOptions).load()\\\n",
    "                .selectExpr(col_str).drop_duplicates()\n",
    "   \n",
    "    return data"
   ]
  },
  {
   "cell_type": "code",
   "execution_count": 5,
   "metadata": {},
   "outputs": [
    {
     "data": {
      "application/vnd.jupyter.widget-view+json": {
       "model_id": "",
       "version_major": 2,
       "version_minor": 0
      },
      "text/plain": [
       "FloatProgress(value=0.0, bar_style='info', description='Progress:', layout=Layout(height='25px', width='50%'),…"
      ]
     },
     "metadata": {},
     "output_type": "display_data"
    }
   ],
   "source": [
    "gscPythonOptions = {\n",
    "         \"url\": \"jdbc:postgresql://10.35.12.194:5432/gpadmin\",\"user\": \"gpcustcoe\",\"password\": \"gpcustcoe@123\",\n",
    "         \"dbschema\": \"registers\",\"dbtable\": \"premium_register\",\n",
    "         \"partitionColumn\":\"row_num\",\"partitions\":16,\n",
    "         \"server.port\":\"1150-1170\"}\n",
    "\n",
    "premium_reg = sqlContext.read.format(\"greenplum\").options(**gscPythonOptions).load()\\\n",
    ".selectExpr(\"channel\",\"producer_cd\",\"policy_no\",\"certificate_no\",\"pol_incept_date\" , 'VEHICLE_REGISTRATION_NO',\n",
    "            \"pol_exp_date\" , \"customer_id\", \"product_name\", \"product_cd\", 'num_reference_no as reference_num', 'timestamp')\\\n",
    ".filter((col('customer_id').isNotNull()))\\\n",
    ".filter(col('timestamp')>='2022-01-01')\\\n",
    ".filter(col('timestamp')<='2023-12-31')\\\n",
    ".filter(col('pol_exp_date')>current_date())\\\n",
    ".filter(col('product_cd').isin('2154', '3124', '3184', '3121','3186', '3122', '1603','1601','1602', '1604','1606','288901','2151',\n",
    "                                '20807','2888','288802','3188','3189','140703','4260','2804','4277','4251','288805','288804','2896'))\n",
    "\n",
    "premium_reg=premium_reg.repartition('customer_id')"
   ]
  },
  {
   "cell_type": "code",
   "execution_count": null,
   "metadata": {},
   "outputs": [],
   "source": [
    "gscPythonOptions = {\"url\": \"jdbc:postgresql://10.35.12.194:5432/gpadmin\",\n",
    "                    \"user\": \"gpspark\",\n",
    "                    \"password\": \"spark@456\",\n",
    "                    \"dbschema\": \"public\",\n",
    "                    \"dbtable\": \"mc_tbl_bulk_detail_prod_corp\",\n",
    "                    \"partitionColumn\":\"row_num\",\n",
    "                    \"partitions\": 16,\n",
    "                    \"server.port\": '1150-1170'}\n",
    "\n",
    "mbdp_corp = sqlContext.read.format(\"greenplum\").options(**gscPythonOptions).load()\\\n",
    "                   .selectExpr(\"source_customer_id\", \"dc_unified_id\")\n",
    "\n",
    "mbdp_corp.columns"
   ]
  },
  {
   "cell_type": "code",
   "execution_count": null,
   "metadata": {},
   "outputs": [],
   "source": [
    "ci_premium_reg=premium_reg.join(mbdp_corp, premium_reg.customer_id==mbdp_corp.source_customer_id)"
   ]
  },
  {
   "cell_type": "code",
   "execution_count": null,
   "metadata": {},
   "outputs": [],
   "source": [
    "gscPythonOptions = {\"url\": \"jdbc:postgresql://10.35.12.194:5432/gpadmin\",\n",
    "                    \"user\": \"gpspark\",\n",
    "                    \"password\": \"spark@456\",\n",
    "                    \"dbschema\": \"public\",\n",
    "                    \"dbtable\": \"mc_tbl_master_prod_corp\",\n",
    "                    \"partitionColumn\":\"row_num\",\n",
    "                    \"partitions\": 16,\n",
    "                    \"server.port\": '1150-1170'}\n",
    "\n",
    "mmp_corp = sqlContext.read.format(\"greenplum\").options(**gscPythonOptions).load()\\\n",
    "                   .filter(col(\"dc_active_flag\").isin(\"1\"))\\\n",
    "                   .selectExpr( \"psnt_address_state\", \"dc_unified_id\", 'dc_active_flag', 'psnt_address_city', 'psnt_address_zip','gstin',\n",
    "                              'full_name','first_name', 'middle_name', 'last_name', 'pan', 'passport', 'email_primary', \n",
    "                               'psnt_address_line_1', 'psnt_address_line_2', 'psnt_address_line_3', 'email_secondary', 'mobile_primary', 'mobile_secondary' )\n",
    "\n",
    "mmp_corp.columns"
   ]
  },
  {
   "cell_type": "code",
   "execution_count": null,
   "metadata": {},
   "outputs": [],
   "source": [
    "ci_premium_reg=ci_premium_reg.join(mmp_corp, ci_premium_reg.dc_unified_id==mmp_corp.dc_unified_id, 'inner').drop(mmp_corp.dc_unified_id).drop(ci_premium_reg.source_customer_id)"
   ]
  },
  {
   "cell_type": "code",
   "execution_count": null,
   "metadata": {},
   "outputs": [],
   "source": [
    "ci_premium_reg.columns"
   ]
  },
  {
   "cell_type": "code",
   "execution_count": null,
   "metadata": {},
   "outputs": [],
   "source": [
    "gscPythonOptions = {\"url\": \"jdbc:postgresql://10.35.12.194:5432/gpadmin\",\n",
    "                    \"user\": \"gpspark\",\n",
    "                    \"password\": \"spark@456\",\n",
    "                    \"dbschema\": \"public\",\n",
    "                    \"dbtable\": \"mastercraft_bulk_detail_prod\",\n",
    "                    \"partitionColumn\":\"row_num\",\n",
    "                    \"partitions\": 16,\n",
    "                    \"server.port\": '1150-1170'}\n",
    "\n",
    "mbdp = sqlContext.read.format(\"greenplum\").options(**gscPythonOptions).load()\\\n",
    "                   .selectExpr(\"source_customer_id\", \"dc_unified_id\")\n",
    "\n",
    "mbdp.columns"
   ]
  },
  {
   "cell_type": "code",
   "execution_count": null,
   "metadata": {},
   "outputs": [],
   "source": [
    "ci_premium_reg_ret=premium_reg.join(mbdp, premium_reg.customer_id==mbdp.source_customer_id).drop(mbdp.source_customer_id)"
   ]
  },
  {
   "cell_type": "code",
   "execution_count": null,
   "metadata": {},
   "outputs": [],
   "source": [
    "gscPythonOptions = {\"url\": \"jdbc:postgresql://10.35.12.194:5432/gpadmin\",\n",
    "                    \"user\": \"gpspark\",\n",
    "                    \"password\": \"spark@456\",\n",
    "                    \"dbschema\": \"public\",\n",
    "                    \"dbtable\": \"mastercraft_master_prod\",\n",
    "                    \"partitionColumn\":\"row_num\",\n",
    "                    \"partitions\": 16,\n",
    "                    \"server.port\": '1150-1170'}\n",
    "\n",
    "mmp = sqlContext.read.format(\"greenplum\").options(**gscPythonOptions).load()\\\n",
    "                   .filter(col(\"dc_active_flag\").isin(\"1\"))\\\n",
    "                   .selectExpr( \"psnt_address_state\", \"dc_unified_id\", 'birth_date', 'dc_active_flag', 'psnt_address_city', 'psnt_address_zip','gstin',\n",
    "                              'full_name','first_name', 'middle_name', 'last_name','cleansed_pan as pan', 'cleansed_passport as passport', 'email_primary', \n",
    "                               'psnt_address_line_1', 'psnt_address_line_2', 'psnt_address_line_3', 'email_secondary', 'gender', 'mobile_primary', 'mobile_secondary' )\n",
    "\n",
    "mmp.columns"
   ]
  },
  {
   "cell_type": "code",
   "execution_count": null,
   "metadata": {},
   "outputs": [],
   "source": [
    "ci_premium_reg_ret=ci_premium_reg_ret.join(mmp, ci_premium_reg_ret.dc_unified_id==mmp.dc_unified_id, 'inner').drop(mmp.dc_unified_id)"
   ]
  },
  {
   "cell_type": "code",
   "execution_count": null,
   "metadata": {},
   "outputs": [],
   "source": [
    "ci_premium_reg_kk=ci_premium_reg_ret.select('channel', 'producer_cd', 'policy_no', 'certificate_no', 'pol_incept_date', 'VEHICLE_REGISTRATION_NO', 'pol_exp_date', 'customer_id', 'product_name', 'product_cd', 'reference_num', 'timestamp','psnt_address_state', 'dc_unified_id', 'dc_active_flag', 'psnt_address_city', 'psnt_address_zip', 'gstin', 'full_name', 'first_name', 'middle_name', 'last_name', col('pan'), col('passport'), 'email_primary', 'psnt_address_line_1', 'psnt_address_line_2', 'psnt_address_line_3', 'email_secondary', 'mobile_primary', 'mobile_secondary', 'customer_id')\n"
   ]
  },
  {
   "cell_type": "code",
   "execution_count": null,
   "metadata": {},
   "outputs": [],
   "source": [
    "ci_master=ci_premium_reg_kk.union(ci_premium_reg.select('channel', 'producer_cd', 'policy_no', 'certificate_no', 'pol_incept_date', 'VEHICLE_REGISTRATION_NO', 'pol_exp_date', 'customer_id', 'product_name', 'product_cd', 'reference_num', 'timestamp','psnt_address_state', 'dc_unified_id', 'dc_active_flag', 'psnt_address_city', 'psnt_address_zip', 'gstin', 'full_name', 'first_name', 'middle_name', 'last_name',  col('pan'), col('passport'), 'email_primary', 'psnt_address_line_1', 'psnt_address_line_2', 'psnt_address_line_3', 'email_secondary', 'mobile_primary', 'mobile_secondary', 'customer_id'))\n",
    "ci_master.columns"
   ]
  },
  {
   "cell_type": "code",
   "execution_count": null,
   "metadata": {},
   "outputs": [],
   "source": [
    "ci_master=ci_master.join(ci_premium_reg_ret.select('dc_unified_id','birth_date','gender'), ci_master.dc_unified_id==ci_premium_reg_ret.dc_unified_id, 'inner').drop(ci_premium_reg_ret.dc_unified_id)\n",
    "ci_master.columns"
   ]
  },
  {
   "cell_type": "code",
   "execution_count": null,
   "metadata": {},
   "outputs": [],
   "source": [
    "ci_master=ci_master.withColumn('email', coalesce('email_primary', 'email_secondary'))\\\n",
    ".withColumn('mobile', coalesce('mobile_primary', 'mobile_secondary'))"
   ]
  },
  {
   "cell_type": "code",
   "execution_count": null,
   "metadata": {},
   "outputs": [],
   "source": [
    "#ci_master.persist()"
   ]
  },
  {
   "cell_type": "code",
   "execution_count": null,
   "metadata": {},
   "outputs": [],
   "source": [
    "ci =ci_master"
   ]
  },
  {
   "cell_type": "code",
   "execution_count": null,
   "metadata": {},
   "outputs": [],
   "source": [
    "gscPythonOptions = {\n",
    "         \"url\": \"jdbc:postgresql://10.35.12.194:5432/gpadmin\",\"user\": \"gpcustcoe\",\"password\": \"gpcustcoe@123\"\n",
    "    ,\"dbschema\":\"customermart\"\n",
    "    ,\"dbtable\": \"customer_demographics\",\n",
    "         \"server.port\":\"1150-1170\"}\n",
    "\n",
    "\n",
    "cust_demog_retail_df = sqlContext.read.format(\"greenplum\").options(**gscPythonOptions).load()\\\n",
    ".selectExpr('golden_id','ckyc','kyc_id','kyc_verfication_flag','kyc_datetime_stamp').filter((col('golden_id').isNotNull()))\\\n",
    ".drop_duplicates()\n",
    "\n",
    "\n",
    "gscPythonOptions = {\n",
    "         \"url\": \"jdbc:postgresql://10.35.12.194:5432/gpadmin\",\"user\": \"gpcustcoe\",\"password\": \"gpcustcoe@123\",\n",
    "    \"dbschema\":\"customermart\"\n",
    "    ,\"dbtable\": \"corp_customer_demographics\",\n",
    "         \"server.port\":\"1150-1170\"}\n",
    "\n",
    "demog_corp_df = sqlContext.read.format(\"greenplum\").options(**gscPythonOptions).load()\\\n",
    ".select('golden_id','ckyc','kyc_id','kyc_verfication_flag','kyc_datetime_stamp')\\\n",
    ".drop_duplicates().filter((col('golden_id').isNotNull()))\n",
    "\n",
    "\n",
    "kyc=cust_demog_retail_df.union(demog_corp_df)"
   ]
  },
  {
   "cell_type": "code",
   "execution_count": null,
   "metadata": {},
   "outputs": [],
   "source": [
    "ci= ci.join(kyc, ci.dc_unified_id == kyc.golden_id, \"left_outer\")\\\n",
    ".drop(kyc.golden_id)"
   ]
  },
  {
   "cell_type": "code",
   "execution_count": null,
   "metadata": {},
   "outputs": [],
   "source": [
    "gscPythonOptions = {\"url\": \"jdbc:postgresql://10.35.12.194:5432/gpadmin\",\n",
    "                    \"user\": \"gpspark\",\n",
    "                    \"password\": \"spark@456\",\n",
    "                    \"dbschema\": \"public\",\n",
    "                    \"dbtable\": \"policy_dh_risk_headers_mot\",\n",
    "                    \"partitionColumn\":\"row_num\",\n",
    "                    \"partitions\": 16,\n",
    "                    \"server.port\": '1150-1170'}\n",
    "\n",
    "mot_uw_mot = sqlContext.read.format(\"greenplum\").options(**gscPythonOptions).load()\\\n",
    "                   .selectExpr(\"reference_num\", \"nominee_name as nominee_name_mot\", 'engine_number', 'chassis_number', 'nomineeage as nomineeage_mot', 'relationship as relationship_mot', 'relationship_to_the_insured as relationship_to_the_insured_mot')\\\n",
    "                   .dropDuplicates()\n",
    "\n",
    "mot_uw_mot.columns"
   ]
  },
  {
   "cell_type": "code",
   "execution_count": null,
   "metadata": {},
   "outputs": [],
   "source": [
    "gscPythonOptions = {\"url\": \"jdbc:postgresql://10.35.12.194:5432/gpadmin\",\n",
    "                    \"user\": \"gpspark\",\n",
    "                    \"password\": \"spark@456\",\n",
    "                    \"dbschema\": \"public\",\n",
    "                    \"dbtable\": \"policy_dh_risk_details_hlt\",\n",
    "                    \"partitionColumn\":\"row_num\",\n",
    "                    \"partitions\": 16,\n",
    "                    \"server.port\": '1150-1170'}\n",
    "\n",
    "hlt = sqlContext.read.format(\"greenplum\").options(**gscPythonOptions).load()\\\n",
    "                   .selectExpr(\"reference_num\", \"insured_age as insured_age_hlt\", 'insured_dob as insured_dob_hlt', 'insured_name as insured_name_hlt', 'insured_rel_with_proposer as insured_relationship_hlt')\n",
    "\n",
    "hlt.columns"
   ]
  },
  {
   "cell_type": "code",
   "execution_count": null,
   "metadata": {},
   "outputs": [],
   "source": [
    "hlt=hlt.withColumn('insured_name_hlt', trim(hlt.insured_name_hlt))\n",
    "hlt = hlt.dropDuplicates([\"reference_num\",'insured_name_hlt'])\n",
    "hlt.columns"
   ]
  },
  {
   "cell_type": "code",
   "execution_count": null,
   "metadata": {},
   "outputs": [],
   "source": [
    "gscPythonOptions = {\"url\": \"jdbc:postgresql://10.35.12.194:5432/gpadmin\",\n",
    "                    \"user\": \"gpspark\",\n",
    "                    \"password\": \"spark@456\",\n",
    "                    \"dbschema\": \"public\",\n",
    "                    \"dbtable\": \"underwriting_dh_cnfgtr_otherdt_grid_tab_hlt\",\n",
    "                    \"partitionColumn\":\"row_num\",\n",
    "                    \"partitions\": 16,\n",
    "                    \"server.port\": '1150-1170'}\n",
    "\n",
    "uw_hlt = sqlContext.read.format(\"greenplum\").options(**gscPythonOptions).load()\\\n",
    "                   .selectExpr(\"num_reference_number\", \"nomineename as nomineename_hlt\",'age as nom_age_hlt', 'dateofbirth as nom_dob_hlt', \"relationshipwithinsured as nomi_rel_hlt\")\\\n",
    "                   .filter(col('nomineename_hlt').isNotNull())\n",
    "\n",
    "uw_hlt.columns"
   ]
  },
  {
   "cell_type": "code",
   "execution_count": null,
   "metadata": {},
   "outputs": [],
   "source": [
    "uw_hlt=uw_hlt.withColumn('nomineename_hlt', trim(uw_hlt.nomineename_hlt))\n",
    "uw_hlt = uw_hlt.dropDuplicates([\"num_reference_number\",'nomineename_hlt'])\n",
    "uw_hlt.columns"
   ]
  },
  {
   "cell_type": "code",
   "execution_count": null,
   "metadata": {},
   "outputs": [],
   "source": [
    "hlt_uw_hlt=hlt.join(uw_hlt, hlt.reference_num==uw_hlt.num_reference_number, \"left_outer\").drop(uw_hlt.num_reference_number)"
   ]
  },
  {
   "cell_type": "code",
   "execution_count": null,
   "metadata": {},
   "outputs": [],
   "source": [
    "gscPythonOptions = {\"url\": \"jdbc:postgresql://10.35.12.194:5432/gpadmin\",\n",
    "                    \"user\": \"gpspark\",\n",
    "                    \"password\": \"spark@456\",\n",
    "                    \"dbschema\": \"public\",\n",
    "                    \"dbtable\": \"policy_dh_risk_details_trv\",\n",
    "                    \"partitionColumn\":\"row_num\",\n",
    "                    \"partitions\": 16,\n",
    "                    \"server.port\": '1150-1170'}\n",
    "\n",
    "trv = sqlContext.read.format(\"greenplum\").options(**gscPythonOptions).load()\\\n",
    "                   .selectExpr(\"reference_num\", 'insured_name as insured_name_trv')\n",
    "\n",
    "trv.columns"
   ]
  },
  {
   "cell_type": "code",
   "execution_count": null,
   "metadata": {},
   "outputs": [],
   "source": [
    "gscPythonOptions = {\"url\": \"jdbc:postgresql://10.35.12.194:5432/gpadmin\",\n",
    "                    \"user\": \"gpspark\",\n",
    "                    \"password\": \"spark@456\",\n",
    "                    \"dbschema\": \"public\",\n",
    "                    \"dbtable\": \"policy_dh_risk_details_lta\",\n",
    "                    \"partitionColumn\":\"row_num\",\n",
    "                    \"partitions\": 16,\n",
    "                    \"server.port\": '1150-1170'}\n",
    "\n",
    "lta = sqlContext.read.format(\"greenplum\").options(**gscPythonOptions).load()\\\n",
    "                   .selectExpr(\"reference_num\", 'nominee_name as nominee_name_lta', 'relationship as relationship_lta', 'insured_first_name as insured_first_name_lta', 'insured_middle_name as insured_middle_name_lta', 'insured_last_name as insured_last_name_lta', 'dob as dob_lta')\\\n",
    "                   .dropDuplicates()\n",
    "\n",
    "lta.columns"
   ]
  },
  {
   "cell_type": "code",
   "execution_count": null,
   "metadata": {},
   "outputs": [],
   "source": [
    "#lta.filter(col('reference_num').isin('202310100076170')).show()"
   ]
  },
  {
   "cell_type": "code",
   "execution_count": null,
   "metadata": {},
   "outputs": [],
   "source": [
    "lta=lta.withColumn('insured_name_lta', concat_ws(' ', lta.insured_first_name_lta, lta.insured_middle_name_lta, lta.insured_last_name_lta))\n",
    "lta.columns"
   ]
  },
  {
   "cell_type": "code",
   "execution_count": null,
   "metadata": {},
   "outputs": [],
   "source": [
    "#lta=lta.withcolumn('nom_dob_lta', when(col('nominee_name_lta').isNotNull(), lit('dob_lta')).otherwise(lit(None)))"
   ]
  },
  {
   "cell_type": "code",
   "execution_count": null,
   "metadata": {},
   "outputs": [],
   "source": [
    "gscPythonOptions = {\"url\": \"jdbc:postgresql://10.35.12.194:5432/gpadmin\",\n",
    "                    \"user\": \"gpspark\",\n",
    "                    \"password\": \"spark@456\",\n",
    "                    \"dbschema\": \"public\",\n",
    "                    \"dbtable\": \"underwriting_dh_cnfgtr_otherdt_grid_tab_trv\",\n",
    "                    \"partitionColumn\":\"row_num\",\n",
    "                    \"partitions\": 16,\n",
    "                    \"server.port\": '1150-1170'}\n",
    "\n",
    "uw_trv = sqlContext.read.format(\"greenplum\").options(**gscPythonOptions).load()\\\n",
    "                   .selectExpr(\"num_reference_number\", \"nomineedob as nomineedob_trv\", 'nomineename as nomineename_trv', 'nomineerelationship as nomineerelationship_trv', 'nomineegender as nomineegender_trv')\n",
    "\n",
    "uw_trv.columns"
   ]
  },
  {
   "cell_type": "code",
   "execution_count": null,
   "metadata": {},
   "outputs": [],
   "source": [
    "trv_uw_trv=trv.join(uw_trv, trv.reference_num==uw_trv.num_reference_number, \"left_outer\").drop(uw_trv.num_reference_number)"
   ]
  },
  {
   "cell_type": "code",
   "execution_count": null,
   "metadata": {},
   "outputs": [],
   "source": [
    "gscPythonOptions = {\"url\": \"jdbc:postgresql://10.35.12.194:5432/gpadmin\",\n",
    "                    \"user\": \"gpspark\",\n",
    "                    \"password\": \"spark@456\",\n",
    "                    \"dbschema\": \"public\",\n",
    "                    \"dbtable\": \"policy_gc_financier_details_tab\",\n",
    "                    \"partitionColumn\":\"row_num\",\n",
    "                    \"partitions\": 16,\n",
    "                    \"server.port\": '1150-1170'}\n",
    "\n",
    "financier = sqlContext.read.format(\"greenplum\").options(**gscPythonOptions).load()\\\n",
    "            .selectExpr(\"num_reference_number as reference_num\", \"financier_name\", 'financier_code')\n",
    "\n",
    "financier.columns"
   ]
  },
  {
   "cell_type": "code",
   "execution_count": null,
   "metadata": {},
   "outputs": [],
   "source": [
    "financier=financier.withColumn('isFinanced', when(col('financier_name').isNotNull(), lit(True)).otherwise(lit(False)))"
   ]
  },
  {
   "cell_type": "code",
   "execution_count": null,
   "metadata": {},
   "outputs": [],
   "source": [
    "financier.columns"
   ]
  },
  {
   "cell_type": "code",
   "execution_count": null,
   "metadata": {},
   "outputs": [],
   "source": [
    "ci=ci.join(lta, \"reference_num\",\"left_outer\")\n",
    "ci =ci.join(mot_uw_mot, \"reference_num\",\"left_outer\")\n",
    "ci =ci.join(hlt_uw_hlt, \"reference_num\",\"left_outer\")\n",
    "ci =ci.join(trv_uw_trv, \"reference_num\",\"left_outer\")\n",
    "ci =ci.join(financier, \"reference_num\",\"left_outer\")\n",
    "\n",
    "#ci.persist()"
   ]
  },
  {
   "cell_type": "code",
   "execution_count": null,
   "metadata": {},
   "outputs": [],
   "source": [
    "#ci.filter(col('dob_lta').isNotNull()).show()"
   ]
  },
  {
   "cell_type": "code",
   "execution_count": null,
   "metadata": {},
   "outputs": [],
   "source": [
    "ci = ci.dropDuplicates()\n",
    "ci=ci.withColumn('lob', when(col('product_cd').isin('288901','2888','140703','4260','2804','4277','4251','288805','288802','288804','2896'), lit('Health'))\\\n",
    "                        .when(col('product_cd').isin('1604','1601','1606','1602','1603'), lit('Travel'))\\\n",
    "                        .when(col('product_cd').isin('2151'), lit('Marine'))\\\n",
    "                        .when(col('product_cd').isin('3122'), lit('2W'))\\\n",
    "                        .when(col('product_cd').isin('3184','3121','3124','3188','3189'), lit('4W')))"
   ]
  },
  {
   "cell_type": "code",
   "execution_count": null,
   "metadata": {},
   "outputs": [],
   "source": [
    "ci=ci.withColumn('passportFileNumber', lit('NA').cast('string'))"
   ]
  },
  {
   "cell_type": "code",
   "execution_count": null,
   "metadata": {},
   "outputs": [],
   "source": [
    "ci=ci.withColumn('nominee_name', coalesce(col('nomineename_hlt'), col('nominee_name_mot'), col('nomineename_trv'), col('nominee_name_lta')))\\\n",
    ".withColumn('nominee_dob', coalesce(col('nomineedob_trv'),col('nom_dob_lta'), col('nom_dob_hlt')))\\\n",
    ".withColumn('nominee_age', coalesce(col('nomineeage_mot'), col('nom_age_hlt')))\\\n",
    ".withColumn('nominee_gender', coalesce(col('nomineegender_trv')))\\\n",
    ".withColumn('nominee_relation', coalesce(col('nomi_rel_hlt'), col('relationship_mot'),col('relationship_to_the_insured_mot'),col('relationship_lta'), col('nomineerelationship_trv')))\\\n",
    ".withColumn('insured_name_travel', coalesce(col('insured_name_lta'), col('insured_name_trv')))"
   ]
  },
  {
   "cell_type": "code",
   "execution_count": null,
   "metadata": {},
   "outputs": [],
   "source": [
    "# ci=ci.withColumn('pol_incept_date',date_format(to_utc_timestamp(col('pol_incept_date'),\"UTC\"),'yyyy-MM-dd'))\\\n",
    "# .withColumn('pol_exp_date',date_format(to_utc_timestamp(col('pol_exp_date'),\"UTC\"),'yyyy-MM-dd'))\\\n",
    "# .withColumn('dob_lta',from_unixtime(unix_timestamp(col('timestamp')),'yyyy-MM-dd'))\n",
    "# .withColumn('insured_dob_hlt',date_format(to_utc_timestamp(col('insured_dob_hlt'),\"UTC\"),'yyyy-MM-dd'))\\\n",
    "# .withColumn('nominee_dob',date_format(to_utc_timestamp(col('nominee_dob'),\"UTC\"),'yyyy-MM-dd'))\\\n",
    "# .withColumn('birth_date',from_unixtime(unix_timestamp(col('timestamp')),'yyyy-MM-dd'))\n",
    "# .withColumn('kyc_datetime_stamp',from_unixtime(unix_timestamp(col('kyc_datetime_stamp')),'yyyy-MM-dd HH:mm:ss'))\\\n",
    "# .withColumn('timestamp',from_unixtime(unix_timestamp(col('timestamp')),'yyyy-MM-dd HH:mm:ss'))\n",
    "\n",
    "# #.withColumn('dob_lta',date_format(to_utc_timestamp(col('dob_lta'),\"UTC\"),'yyyy-MM-dd'))\\\n"
   ]
  },
  {
   "cell_type": "code",
   "execution_count": null,
   "metadata": {},
   "outputs": [],
   "source": [
    "#ci.filter(col('dob_lta').isNotNull()).show()"
   ]
  },
  {
   "cell_type": "code",
   "execution_count": null,
   "metadata": {},
   "outputs": [],
   "source": [
    "ci=ci.filter(col('lob').isNotNull())\\\n",
    ".filter(col('mobile').isNotNull())"
   ]
  },
  {
   "cell_type": "code",
   "execution_count": null,
   "metadata": {},
   "outputs": [],
   "source": [
    "df_distinct=ci.withColumn('primary_key', concat_ws('',trim(col('dc_unified_id')),trim(col('customer_id')), trim(col('policy_no')),\n",
    "                                                       trim(col('certificate_no')),trim(col('insured_name_hlt')),trim(col('insured_name_travel')))).dropDuplicates()"
   ]
  },
  {
   "cell_type": "code",
   "execution_count": null,
   "metadata": {},
   "outputs": [],
   "source": [
    "from pyspark.sql.window import Window\n",
    "\n",
    "df_distinct = df_distinct.withColumn(\"rn\", F.row_number()\n",
    "        .over(Window.partitionBy(\"primary_key\")\n",
    "        .orderBy(F.col(\"timestamp\").desc())))\n",
    "\n",
    "df_distinct = df_distinct.filter(F.col(\"rn\") == 1).drop(\"rn\").drop(\"primary_key\")"
   ]
  },
  {
   "cell_type": "code",
   "execution_count": null,
   "metadata": {},
   "outputs": [],
   "source": [
    "df_distinct=df_distinct.select('lob',col('dc_unified_id').alias('golden_id'),col('customer_id').alias('source_customer_id'),\n",
    "             'reference_num', 'policy_no', 'certificate_no','channel', 'producer_cd', 'product_name', 'product_cd', \n",
    "             'full_name', 'first_name', 'middle_name', 'last_name','pol_incept_date','pol_exp_date', 'timestamp',  \n",
    "             'psnt_address_state', 'psnt_address_city', 'psnt_address_zip','psnt_address_line_1', 'psnt_address_line_2', 'psnt_address_line_3',\n",
    "             'gstin', 'pan','passport','passportFileNumber','kyc_id', 'kyc_verfication_flag', 'ckyc', 'kyc_datetime_stamp',\n",
    "             'birth_date','gender', 'email', 'mobile', \n",
    "             'engine_number','chassis_number', 'VEHICLE_REGISTRATION_NO','insured_name_travel','dob_lta',\n",
    "             'insured_name_hlt','insured_age_hlt', 'insured_dob_hlt','insured_relationship_hlt',\n",
    "             'financier_name', 'financier_code','isFinanced',\n",
    "             'nominee_name', 'nominee_dob', 'nominee_age', 'nominee_gender', 'nominee_relation')"
   ]
  },
  {
   "cell_type": "code",
   "execution_count": null,
   "metadata": {},
   "outputs": [],
   "source": [
    "#df_distinct=df_distinct.filter(col('lob').isNotNull())"
   ]
  },
  {
   "cell_type": "code",
   "execution_count": null,
   "metadata": {},
   "outputs": [],
   "source": [
    "df_distinct.persist(pyspark.StorageLevel.MEMORY_AND_DISK)\n",
    "#records=df_distinct.count()\n",
    "#records"
   ]
  },
  {
   "cell_type": "code",
   "execution_count": null,
   "metadata": {},
   "outputs": [],
   "source": [
    "#df_distinct.filter(col(\"product_cd\").isin('2151')).count()\n",
    "#df_distinct.select('product_cd').distinct().show(100, False)"
   ]
  },
  {
   "cell_type": "code",
   "execution_count": null,
   "metadata": {},
   "outputs": [],
   "source": [
    "#df_distinct.filter(col('birth_date').isNotNull()).show()"
   ]
  },
  {
   "cell_type": "code",
   "execution_count": 6,
   "metadata": {},
   "outputs": [
    {
     "data": {
      "application/vnd.jupyter.widget-view+json": {
       "model_id": "",
       "version_major": 2,
       "version_minor": 0
      },
      "text/plain": [
       "FloatProgress(value=0.0, bar_style='info', description='Progress:', layout=Layout(height='25px', width='50%'),…"
      ]
     },
     "metadata": {},
     "output_type": "display_data"
    },
    {
     "name": "stdout",
     "output_type": "stream",
     "text": [
      "name 'df_distinct' is not defined"
     ]
    }
   ],
   "source": [
    "output_index = 'website_api_staging_1601' #website_api_staging_2223 # website_api_staging_051223\n",
    "schema = 'customermart'\n",
    "\n",
    "import sys\n",
    "try:\n",
    "    \n",
    "     df_distinct.write.option(\"truncate\", \"true\").format(\"greenplum\")\\\n",
    "    .option(\"dbtable\",output_index).option('dbschema',schema)\\\n",
    "    .option(\"server.port\",\"1150-1170\").option(\"url\",prod_url)\\\n",
    "    .option(\"user\", user_prod).option(\"password\",pwd_prod).mode('overwrite').save()\n",
    "    \n",
    "    \n",
    "except Exception as e:\n",
    "    x = e\n",
    "    print(x)\n",
    "else:\n",
    "    x = 'success'\n",
    "    print(x)"
   ]
  },
  {
   "cell_type": "code",
   "execution_count": 18,
   "metadata": {},
   "outputs": [
    {
     "data": {
      "application/vnd.jupyter.widget-view+json": {
       "model_id": "",
       "version_major": 2,
       "version_minor": 0
      },
      "text/plain": [
       "FloatProgress(value=0.0, bar_style='info', description='Progress:', layout=Layout(height='25px', width='50%'),…"
      ]
     },
     "metadata": {},
     "output_type": "display_data"
    }
   ],
   "source": [
    "gscPythonOptions = {\n",
    "         \"url\": prod_url,\n",
    "         \"user\": user_prod,\n",
    "         \"password\": pwd_prod,\n",
    "         \"dbtable\": \"customermart.website_api_staging_1601\",\n",
    "         \"server.port\":\"1150-1170\"}\n",
    "\n",
    "\n",
    "df = sqlContext.read.format(\"jdbc\").options(**gscPythonOptions).load()\\"
   ]
  },
  {
   "cell_type": "code",
   "execution_count": 19,
   "metadata": {},
   "outputs": [
    {
     "data": {
      "application/vnd.jupyter.widget-view+json": {
       "model_id": "",
       "version_major": 2,
       "version_minor": 0
      },
      "text/plain": [
       "FloatProgress(value=0.0, bar_style='info', description='Progress:', layout=Layout(height='25px', width='50%'),…"
      ]
     },
     "metadata": {},
     "output_type": "display_data"
    },
    {
     "name": "stdout",
     "output_type": "stream",
     "text": [
      "['lob', 'golden_id', 'source_customer_id', 'reference_num', 'policy_no', 'certificate_no', 'channel', 'producer_cd', 'product_name', 'product_cd', 'full_name', 'first_name', 'middle_name', 'last_name', 'pol_incept_date', 'pol_exp_date', 'timestamp', 'psnt_address_state', 'psnt_address_city', 'psnt_address_zip', 'psnt_address_line_1', 'psnt_address_line_2', 'psnt_address_line_3', 'gstin', 'pan', 'passport', 'passportFileNumber', 'kyc_id', 'kyc_verfication_flag', 'ckyc', 'kyc_datetime_stamp', 'birth_date', 'gender', 'email', 'mobile', 'engine_number', 'chassis_number', 'VEHICLE_REGISTRATION_NO', 'insured_name_travel', 'dob_lta', 'insured_name_hlt', 'insured_age_hlt', 'insured_dob_hlt', 'insured_relationship_hlt', 'financier_name', 'financier_code', 'isFinanced', 'nominee_name', 'nominee_dob', 'nominee_age', 'nominee_gender', 'nominee_relation']"
     ]
    }
   ],
   "source": [
    "df.columns"
   ]
  },
  {
   "cell_type": "code",
   "execution_count": 20,
   "metadata": {},
   "outputs": [
    {
     "data": {
      "application/vnd.jupyter.widget-view+json": {
       "model_id": "",
       "version_major": 2,
       "version_minor": 0
      },
      "text/plain": [
       "FloatProgress(value=0.0, bar_style='info', description='Progress:', layout=Layout(height='25px', width='50%'),…"
      ]
     },
     "metadata": {},
     "output_type": "display_data"
    },
    {
     "name": "stdout",
     "output_type": "stream",
     "text": [
      "DataFrame[lob: string, golden_id: bigint, source_customer_id: string, reference_num: bigint, policy_no: string, certificate_no: string, channel: string, producer_cd: string, product_name: string, product_cd: string, full_name: string, first_name: string, middle_name: string, last_name: string, pol_incept_date: date, pol_exp_date: date, timestamp: date, psnt_address_state: string, psnt_address_city: string, psnt_address_zip: string, psnt_address_line_1: string, psnt_address_line_2: string, psnt_address_line_3: string, gstin: string, pan: string, passport: string, passportFileNumber: string, kyc_id: string, kyc_verfication_flag: string, ckyc: string, kyc_datetime_stamp: timestamp, birth_date: string, gender: string, email: string, mobile: string, engine_number: string, chassis_number: string, VEHICLE_REGISTRATION_NO: string, insured_name_travel: string, dob_lta: string, insured_name_hlt: string, insured_age_hlt: string, insured_dob_hlt: string, insured_relationship_hlt: string, financier_name: string, financier_code: int, isFinanced: boolean, nominee_name: string, nominee_dob: string, nominee_age: string, nominee_gender: string, nominee_relation: string]"
     ]
    }
   ],
   "source": [
    "df.persist()"
   ]
  },
  {
   "cell_type": "code",
   "execution_count": 60,
   "metadata": {},
   "outputs": [
    {
     "data": {
      "application/vnd.jupyter.widget-view+json": {
       "model_id": "",
       "version_major": 2,
       "version_minor": 0
      },
      "text/plain": [
       "FloatProgress(value=0.0, bar_style='info', description='Progress:', layout=Layout(height='25px', width='50%'),…"
      ]
     },
     "metadata": {},
     "output_type": "display_data"
    }
   ],
   "source": [
    "get_website_api_data=df"
   ]
  },
  {
   "cell_type": "code",
   "execution_count": 61,
   "metadata": {},
   "outputs": [
    {
     "data": {
      "application/vnd.jupyter.widget-view+json": {
       "model_id": "",
       "version_major": 2,
       "version_minor": 0
      },
      "text/plain": [
       "FloatProgress(value=0.0, bar_style='info', description='Progress:', layout=Layout(height='25px', width='50%'),…"
      ]
     },
     "metadata": {},
     "output_type": "display_data"
    }
   ],
   "source": [
    "get_website_api_data=get_website_api_data.withColumn('pol_incept_date',date_format(to_utc_timestamp(col('pol_incept_date'),\"UTC\"),'yyyy-MM-dd'))\\\n",
    ".withColumn('pol_exp_date',date_format(to_utc_timestamp(col('pol_exp_date'),\"UTC\"),'yyyy-MM-dd'))\\\n",
    ".withColumn('kyc_datetime_stamp',from_unixtime(unix_timestamp(col('kyc_datetime_stamp')),'yyyy-MM-dd HH:mm:ss'))\\\n",
    ".withColumn('timestamp',from_unixtime(unix_timestamp(col('timestamp')),'yyyy-MM-dd HH:mm:ss'))\\\n",
    ".withColumn('nominee_dob',to_date(col('nominee_dob'),'dd/MM/yyyy'))\\\n",
    ".withColumn('dob_lta',to_date(col('dob_lta'),'dd/MM/yyyy'))\\\n",
    ".withColumn('birth_date',to_date(col('birth_date'),'yyyy/MM/dd'))\\\n",
    ".withColumn('insured_dob_hlt',to_date(col('insured_dob_hlt'),'dd/MM/yyyy'))"
   ]
  },
  {
   "cell_type": "code",
   "execution_count": 62,
   "metadata": {},
   "outputs": [
    {
     "data": {
      "application/vnd.jupyter.widget-view+json": {
       "model_id": "",
       "version_major": 2,
       "version_minor": 0
      },
      "text/plain": [
       "FloatProgress(value=0.0, bar_style='info', description='Progress:', layout=Layout(height='25px', width='50%'),…"
      ]
     },
     "metadata": {},
     "output_type": "display_data"
    }
   ],
   "source": [
    "get_website_api_data = get_website_api_data.withColumn(\"nominee_dob\", date_format(unix_timestamp('nominee_dob' , \"dd/MM/yyyy\").cast(\"timestamp\"),\"yyyy-MM-dd\"))\\\n",
    ".withColumn(\"dob_lta\", date_format(unix_timestamp('dob_lta' , \"dd/MM/yyyy\").cast(\"timestamp\"),\"yyyy-MM-dd\"))\\\n",
    ".withColumn(\"birth_date\", date_format(unix_timestamp('birth_date' , \"dd/MM/yyyy\").cast(\"timestamp\"),\"yyyy-MM-dd\"))\\\n",
    ".withColumn(\"insured_dob_hlt\", date_format(unix_timestamp('insured_dob_hlt' , \"dd/MM/yyyy\").cast(\"timestamp\"),\"yyyy-MM-dd\"))"
   ]
  },
  {
   "cell_type": "code",
   "execution_count": 63,
   "metadata": {},
   "outputs": [
    {
     "data": {
      "application/vnd.jupyter.widget-view+json": {
       "model_id": "",
       "version_major": 2,
       "version_minor": 0
      },
      "text/plain": [
       "FloatProgress(value=0.0, bar_style='info', description='Progress:', layout=Layout(height='25px', width='50%'),…"
      ]
     },
     "metadata": {},
     "output_type": "display_data"
    }
   ],
   "source": [
    "get_website_api_data=get_website_api_data.withColumn('nominee_age', \n",
    "    when(col('nominee_age').isNull(), \n",
    "         floor(datediff(current_date(),col('nominee_dob'))/365.25))\\\n",
    "  .otherwise(col('nominee_age')))"
   ]
  },
  {
   "cell_type": "code",
   "execution_count": 64,
   "metadata": {},
   "outputs": [
    {
     "data": {
      "application/vnd.jupyter.widget-view+json": {
       "model_id": "",
       "version_major": 2,
       "version_minor": 0
      },
      "text/plain": [
       "FloatProgress(value=0.0, bar_style='info', description='Progress:', layout=Layout(height='25px', width='50%'),…"
      ]
     },
     "metadata": {},
     "output_type": "display_data"
    }
   ],
   "source": [
    "get_website_api_data=get_website_api_data.withColumn(\"dob_lta\",col('dob_lta').cast('string'))\\\n",
    ".withColumn(\"birth_date\", col('birth_date').cast('string'))\\\n",
    ".withColumn(\"insured_dob_hlt\", col('insured_dob_hlt').cast('string'))\\\n",
    ".withColumn(\"nominee_dob\", col('nominee_dob').cast('string'))   "
   ]
  },
  {
   "cell_type": "code",
   "execution_count": 57,
   "metadata": {},
   "outputs": [
    {
     "data": {
      "application/vnd.jupyter.widget-view+json": {
       "model_id": "",
       "version_major": 2,
       "version_minor": 0
      },
      "text/plain": [
       "FloatProgress(value=0.0, bar_style='info', description='Progress:', layout=Layout(height='25px', width='50%'),…"
      ]
     },
     "metadata": {},
     "output_type": "display_data"
    }
   ],
   "source": [
    "#get_website_api_data=get_website_api_data.withColumn('customer_age', )"
   ]
  },
  {
   "cell_type": "code",
   "execution_count": null,
   "metadata": {},
   "outputs": [],
   "source": [
    "#get_website_api_data.filter(col('nominee_age').isNotNull()).show()"
   ]
  },
  {
   "cell_type": "code",
   "execution_count": null,
   "metadata": {},
   "outputs": [],
   "source": [
    "# get_website_api_data.filter(col('mobile').isin('8289936720','9611961139',\n",
    "# '8289936720',\n",
    "# '9811172414',\n",
    "# '9432933141',\n",
    "# '9072088018',\n",
    "# '9910915599',\n",
    "# '8971857977')).show()"
   ]
  },
  {
   "cell_type": "code",
   "execution_count": null,
   "metadata": {},
   "outputs": [],
   "source": [
    "# get_website_api_data=get_website_api_data.withColumn('lob', when(col('product_cd').isin('288901','140703','4260','2804','4277','4251','288805','288802','288804','2896'), lit('Health'))\\\n",
    "#                         .when(col('product_cd').isin('1604','1601','1606','1602','1603'), lit('Travel'))\\\n",
    "#                         .when(col('product_cd').isin('2151'), lit('Marine'))\\\n",
    "#                         .when(col('product_cd').isin('3122'), lit('2W'))\\\n",
    "#                         .when(col('product_cd').isin('3184','3121','3124', '3188','3189'), lit('4W'))"
   ]
  },
  {
   "cell_type": "code",
   "execution_count": null,
   "metadata": {},
   "outputs": [],
   "source": [
    "#get_website_api_data=get_website_api_data.withColumn('passportFileNumber', lit('NA').cast('string'))"
   ]
  },
  {
   "cell_type": "code",
   "execution_count": null,
   "metadata": {},
   "outputs": [],
   "source": [
    "#get_website_api_data=get_website_api_data.select()"
   ]
  },
  {
   "cell_type": "code",
   "execution_count": 66,
   "metadata": {},
   "outputs": [
    {
     "data": {
      "application/vnd.jupyter.widget-view+json": {
       "model_id": "",
       "version_major": 2,
       "version_minor": 0
      },
      "text/plain": [
       "FloatProgress(value=0.0, bar_style='info', description='Progress:', layout=Layout(height='25px', width='50%'),…"
      ]
     },
     "metadata": {},
     "output_type": "display_data"
    },
    {
     "name": "stdout",
     "output_type": "stream",
     "text": [
      "root\n",
      " |-- lob: string (nullable = true)\n",
      " |-- golden_id: long (nullable = true)\n",
      " |-- source_customer_id: string (nullable = true)\n",
      " |-- reference_num: long (nullable = true)\n",
      " |-- policy_no: string (nullable = true)\n",
      " |-- certificate_no: string (nullable = true)\n",
      " |-- channel: string (nullable = true)\n",
      " |-- producer_cd: string (nullable = true)\n",
      " |-- product_name: string (nullable = true)\n",
      " |-- product_cd: string (nullable = true)\n",
      " |-- full_name: string (nullable = true)\n",
      " |-- first_name: string (nullable = true)\n",
      " |-- middle_name: string (nullable = true)\n",
      " |-- last_name: string (nullable = true)\n",
      " |-- pol_incept_date: string (nullable = true)\n",
      " |-- pol_exp_date: string (nullable = true)\n",
      " |-- timestamp: string (nullable = true)\n",
      " |-- psnt_address_state: string (nullable = true)\n",
      " |-- psnt_address_city: string (nullable = true)\n",
      " |-- psnt_address_zip: string (nullable = true)\n",
      " |-- psnt_address_line_1: string (nullable = true)\n",
      " |-- psnt_address_line_2: string (nullable = true)\n",
      " |-- psnt_address_line_3: string (nullable = true)\n",
      " |-- gstin: string (nullable = true)\n",
      " |-- pan: string (nullable = true)\n",
      " |-- passport: string (nullable = true)\n",
      " |-- passportFileNumber: string (nullable = true)\n",
      " |-- kyc_id: string (nullable = true)\n",
      " |-- kyc_verfication_flag: string (nullable = true)\n",
      " |-- ckyc: string (nullable = true)\n",
      " |-- kyc_datetime_stamp: string (nullable = true)\n",
      " |-- birth_date: string (nullable = true)\n",
      " |-- gender: string (nullable = true)\n",
      " |-- email: string (nullable = true)\n",
      " |-- mobile: string (nullable = true)\n",
      " |-- engine_number: string (nullable = true)\n",
      " |-- chassis_number: string (nullable = true)\n",
      " |-- VEHICLE_REGISTRATION_NO: string (nullable = true)\n",
      " |-- insured_name_travel: string (nullable = true)\n",
      " |-- dob_lta: string (nullable = true)\n",
      " |-- insured_name_hlt: string (nullable = true)\n",
      " |-- insured_age_hlt: string (nullable = true)\n",
      " |-- insured_dob_hlt: string (nullable = true)\n",
      " |-- insured_relationship_hlt: string (nullable = true)\n",
      " |-- financier_name: string (nullable = true)\n",
      " |-- financier_code: integer (nullable = true)\n",
      " |-- isFinanced: boolean (nullable = true)\n",
      " |-- nominee_name: string (nullable = true)\n",
      " |-- nominee_dob: string (nullable = true)\n",
      " |-- nominee_age: string (nullable = true)\n",
      " |-- nominee_gender: string (nullable = true)\n",
      " |-- nominee_relation: string (nullable = true)"
     ]
    }
   ],
   "source": [
    "get_website_api_data.printSchema()"
   ]
  },
  {
   "cell_type": "code",
   "execution_count": 67,
   "metadata": {},
   "outputs": [
    {
     "data": {
      "application/vnd.jupyter.widget-view+json": {
       "model_id": "",
       "version_major": 2,
       "version_minor": 0
      },
      "text/plain": [
       "FloatProgress(value=0.0, bar_style='info', description='Progress:', layout=Layout(height='25px', width='50%'),…"
      ]
     },
     "metadata": {},
     "output_type": "display_data"
    },
    {
     "name": "stdout",
     "output_type": "stream",
     "text": [
      "get_website_api_data"
     ]
    }
   ],
   "source": [
    "target_index='get_website_api_data'\n",
    "print(target_index)"
   ]
  },
  {
   "cell_type": "code",
   "execution_count": 68,
   "metadata": {},
   "outputs": [
    {
     "data": {
      "application/vnd.jupyter.widget-view+json": {
       "model_id": "",
       "version_major": 2,
       "version_minor": 0
      },
      "text/plain": [
       "FloatProgress(value=0.0, bar_style='info', description='Progress:', layout=Layout(height='25px', width='50%'),…"
      ]
     },
     "metadata": {},
     "output_type": "display_data"
    }
   ],
   "source": [
    "import json, pprint, requests\n",
    "es_nodes = '10.35.12.212'\n",
    "es_port = '9200'\n",
    "es_user = 'elastic'\n",
    "es_pwd = 'bEiilauM3es'\n",
    "\n",
    "######target_index = 'actuarial_premium_risk_tables'----previous name...delete later\n",
    "\n",
    "#alias_name = 'nepuepr_uat_3'\n",
    "target_doc_type = 'get_website_api_data'\n",
    "#########delete index if already exists########################################################################################################################################################################"
   ]
  },
  {
   "cell_type": "code",
   "execution_count": 69,
   "metadata": {},
   "outputs": [
    {
     "data": {
      "application/vnd.jupyter.widget-view+json": {
       "model_id": "",
       "version_major": 2,
       "version_minor": 0
      },
      "text/plain": [
       "FloatProgress(value=0.0, bar_style='info', description='Progress:', layout=Layout(height='25px', width='50%'),…"
      ]
     },
     "metadata": {},
     "output_type": "display_data"
    },
    {
     "name": "stdout",
     "output_type": "stream",
     "text": [
      "'get_website_api_data'"
     ]
    }
   ],
   "source": [
    "target_doc_type"
   ]
  },
  {
   "cell_type": "code",
   "execution_count": 70,
   "metadata": {},
   "outputs": [
    {
     "data": {
      "application/vnd.jupyter.widget-view+json": {
       "model_id": "",
       "version_major": 2,
       "version_minor": 0
      },
      "text/plain": [
       "FloatProgress(value=0.0, bar_style='info', description='Progress:', layout=Layout(height='25px', width='50%'),…"
      ]
     },
     "metadata": {},
     "output_type": "display_data"
    },
    {
     "name": "stdout",
     "output_type": "stream",
     "text": [
      "<Response [200]>"
     ]
    }
   ],
   "source": [
    "# #########delete index ###############################################\n",
    "# headers = {'Content-Type': 'application/json'}\n",
    "# query = {\"query\":{\"match_all\":{}}}\n",
    "# URL = 'http://'+es_user+':'+es_pwd+'@'+es_nodes+':'+es_port+'/'+target_index\n",
    "# r = requests.delete(URL, data=json.dumps(query), headers=headers) \n",
    "# print(r)"
   ]
  },
  {
   "cell_type": "code",
   "execution_count": 71,
   "metadata": {},
   "outputs": [
    {
     "data": {
      "application/vnd.jupyter.widget-view+json": {
       "model_id": "",
       "version_major": 2,
       "version_minor": 0
      },
      "text/plain": [
       "FloatProgress(value=0.0, bar_style='info', description='Progress:', layout=Layout(height='25px', width='50%'),…"
      ]
     },
     "metadata": {},
     "output_type": "display_data"
    },
    {
     "name": "stdout",
     "output_type": "stream",
     "text": [
      "<Response [200]>"
     ]
    }
   ],
   "source": [
    "#########create index ##################################################################################################################################################################\n",
    "headers = {'Content-Type': 'application/json'}\n",
    "query_create= {\"settings\": { \"index.number_of_shards\": \"1\" }}\n",
    "URL = 'http://'+es_user+':'+es_pwd+'@'+es_nodes+':'+es_port+'/'+target_index\n",
    "r = requests.put(URL, data=json.dumps(query_create), headers=headers)\n",
    "print(r)"
   ]
  },
  {
   "cell_type": "code",
   "execution_count": null,
   "metadata": {},
   "outputs": [],
   "source": [
    "# mapping_output = {target_doc_type:{\"properties\": {\n",
    "# \"golden_id\": {\n",
    "# \"type\": \"keyword\"\n",
    "# }, \n",
    "# \"customer_id\": {\n",
    "# \"type\": \"keyword\"\n",
    "# },\n",
    "# \"insured_name\": {\n",
    "# \"type\": \"keyword\"\n",
    "# },\n",
    "# \"first_name\": {\n",
    "# \"type\": \"keyword\"\n",
    "# },\n",
    "# \"middle_name\": {\n",
    "# \"type\": \"keyword\"\n",
    "# },\n",
    "# \"last_name\": {\n",
    "# \"type\": \"keyword\"\n",
    "# },\n",
    "# \"ckyc\": {\n",
    "# \"type\": \"keyword\"\n",
    "# },\n",
    "# \"kyc_id\": {\n",
    "# \"type\": \"keyword\"\n",
    "# },\n",
    "# \"kyc_verfication_flag\": {\n",
    "# \"type\": \"keyword\"\n",
    "# },\n",
    "# \"kyc_datetime_stamp\": {\n",
    "# \"type\": \"keyword\",\n",
    "# #     \"format\": \"yyyy-MM-dd HH:mm:ss\"\n",
    "# },\n",
    "# \"birth_date\": {\n",
    "# \"type\": \"keyword\",\n",
    "# #     \"format\": \"yyyy-MM-dd HH:mm:ss\"\n",
    "# },\n",
    "# \"pan\": {\n",
    "# \"type\": \"keyword\"\n",
    "# },\n",
    "# \"passport\": {\n",
    "# \"type\": \"keyword\"\n",
    "# },\n",
    "# \"email\": {\n",
    "# \"type\": \"keyword\"\n",
    "# },\n",
    "# \"mobile\": {\n",
    "# \"type\": \"keyword\"\n",
    "# },\n",
    "# \"address_line_1\": {\n",
    "# \"type\": \"keyword\"\n",
    "# },\n",
    "# \"address_line_2\": {\n",
    "#     \"type\": \"keyword\"\n",
    "# },\n",
    "# \"address_line_3\": {\n",
    "# \"type\": \"keyword\"\n",
    "# },\n",
    "# \"city\": {\n",
    "# \"type\": \"keyword\"\n",
    "# },\n",
    "# \"state\": {\n",
    "# \"type\": \"keyword\"\n",
    "# },\n",
    "# \"country\": {\n",
    "# \"type\": \"keyword\"\n",
    "# },\n",
    "# \"pin_code\": {\n",
    "# \"type\": \"keyword\"\n",
    "# },\n",
    "# \"customer_type\": {\n",
    "# \"type\": \"keyword\"\n",
    "# },\n",
    "# \"msme_no\": {\n",
    "# \"type\": \"keyword\"\n",
    "# },\n",
    "# \"gstin\": {\n",
    "# \"type\": \"keyword\"\n",
    "# },\n",
    "# \"district\": {\n",
    "# \"type\": \"keyword\"\n",
    "# }\n",
    "#     }\n",
    "# }\n",
    "# }\n",
    "\n",
    "\n",
    "# URL = 'http://'+es_user+':'+es_pwd+'@'+es_nodes+':'+es_port+'/'+target_index+'/_mapping/'+target_doc_type\n",
    "# headers = {'Content-Type': 'application/json'}\n",
    "# r = requests.put(URL, data=json.dumps(mapping_output), headers=headers)\n",
    "# print(r)\n",
    "\n"
   ]
  },
  {
   "cell_type": "code",
   "execution_count": 72,
   "metadata": {},
   "outputs": [
    {
     "data": {
      "application/vnd.jupyter.widget-view+json": {
       "model_id": "",
       "version_major": 2,
       "version_minor": 0
      },
      "text/plain": [
       "FloatProgress(value=0.0, bar_style='info', description='Progress:', layout=Layout(height='25px', width='50%'),…"
      ]
     },
     "metadata": {},
     "output_type": "display_data"
    }
   ],
   "source": [
    "target_index_doc_type = target_index +'/'+ target_doc_type"
   ]
  },
  {
   "cell_type": "code",
   "execution_count": 73,
   "metadata": {},
   "outputs": [
    {
     "data": {
      "application/vnd.jupyter.widget-view+json": {
       "model_id": "",
       "version_major": 2,
       "version_minor": 0
      },
      "text/plain": [
       "FloatProgress(value=0.0, bar_style='info', description='Progress:', layout=Layout(height='25px', width='50%'),…"
      ]
     },
     "metadata": {},
     "output_type": "display_data"
    },
    {
     "name": "stdout",
     "output_type": "stream",
     "text": [
      "'get_website_api_data/get_website_api_data'"
     ]
    }
   ],
   "source": [
    "target_index_doc_type"
   ]
  },
  {
   "cell_type": "code",
   "execution_count": 74,
   "metadata": {},
   "outputs": [
    {
     "data": {
      "application/vnd.jupyter.widget-view+json": {
       "model_id": "",
       "version_major": 2,
       "version_minor": 0
      },
      "text/plain": [
       "FloatProgress(value=0.0, bar_style='info', description='Progress:', layout=Layout(height='25px', width='50%'),…"
      ]
     },
     "metadata": {},
     "output_type": "display_data"
    }
   ],
   "source": [
    "df_main=get_website_api_data"
   ]
  },
  {
   "cell_type": "code",
   "execution_count": 75,
   "metadata": {},
   "outputs": [
    {
     "data": {
      "application/vnd.jupyter.widget-view+json": {
       "model_id": "",
       "version_major": 2,
       "version_minor": 0
      },
      "text/plain": [
       "FloatProgress(value=0.0, bar_style='info', description='Progress:', layout=Layout(height='25px', width='50%'),…"
      ]
     },
     "metadata": {},
     "output_type": "display_data"
    }
   ],
   "source": [
    "df_main=df_main.drop_duplicates()"
   ]
  },
  {
   "cell_type": "code",
   "execution_count": null,
   "metadata": {},
   "outputs": [],
   "source": [
    "#df_main.persist()\n",
    "#df_main.count()"
   ]
  },
  {
   "cell_type": "code",
   "execution_count": 76,
   "metadata": {},
   "outputs": [
    {
     "data": {
      "application/vnd.jupyter.widget-view+json": {
       "model_id": "",
       "version_major": 2,
       "version_minor": 0
      },
      "text/plain": [
       "FloatProgress(value=0.0, bar_style='info', description='Progress:', layout=Layout(height='25px', width='50%'),…"
      ]
     },
     "metadata": {},
     "output_type": "display_data"
    },
    {
     "name": "stdout",
     "output_type": "stream",
     "text": [
      "200"
     ]
    }
   ],
   "source": [
    "try:\n",
    "     df_main.write.format('org.elasticsearch.spark.sql').mode('overwrite').option('es.index.auto.create', 'true').option('es.nodes' , es_nodes).option('es.port', es_port).option('es.resource', target_index_doc_type).save() \n",
    "except Exception as e :\n",
    "    x = e\n",
    "else: \n",
    "    x = 200 # success\n",
    "print(x)"
   ]
  },
  {
   "cell_type": "code",
   "execution_count": null,
   "metadata": {},
   "outputs": [],
   "source": [
    "#.withColumn('birth_date',date_format(to_utc_timestamp(col('birth_date'),\"UTC\"),'yyyy-MM-dd'))\\\n",
    "#.withColumn('kyc_datetime_stamp',from_unixtime(unix_timestamp(col('kyc_datetime_stamp')),'yyyy-MM-dd HH:mm:ss'))\\"
   ]
  },
  {
   "cell_type": "code",
   "execution_count": null,
   "metadata": {},
   "outputs": [],
   "source": []
  },
  {
   "cell_type": "code",
   "execution_count": 77,
   "metadata": {},
   "outputs": [
    {
     "data": {
      "application/vnd.jupyter.widget-view+json": {
       "model_id": "",
       "version_major": 2,
       "version_minor": 0
      },
      "text/plain": [
       "FloatProgress(value=0.0, bar_style='info', description='Progress:', layout=Layout(height='25px', width='50%'),…"
      ]
     },
     "metadata": {},
     "output_type": "display_data"
    }
   ],
   "source": [
    "spark.stop()"
   ]
  },
  {
   "cell_type": "code",
   "execution_count": null,
   "metadata": {},
   "outputs": [],
   "source": []
  }
 ],
 "metadata": {
  "kernelspec": {
   "display_name": "PySpark",
   "language": "",
   "name": "pysparkkernel"
  },
  "language_info": {
   "codemirror_mode": {
    "name": "python",
    "version": 3
   },
   "mimetype": "text/x-python",
   "name": "pyspark",
   "pygments_lexer": "python3"
  }
 },
 "nbformat": 4,
 "nbformat_minor": 4
}
