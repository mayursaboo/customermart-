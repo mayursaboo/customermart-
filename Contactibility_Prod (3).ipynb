{
 "cells": [
  {
   "cell_type": "code",
   "execution_count": 1,
   "metadata": {},
   "outputs": [
    {
     "name": "stdout",
     "output_type": "stream",
     "text": [
      "Starting Spark application\n"
     ]
    },
    {
     "data": {
      "text/html": [
       "<table>\n",
       "<tr><th>ID</th><th>YARN Application ID</th><th>Kind</th><th>State</th><th>Spark UI</th><th>Driver log</th><th>Current session?</th></tr><tr><td>19040</td><td>None</td><td>pyspark</td><td>idle</td><td></td><td></td><td>✔</td></tr></table>"
      ],
      "text/plain": [
       "<IPython.core.display.HTML object>"
      ]
     },
     "metadata": {},
     "output_type": "display_data"
    },
    {
     "data": {
      "application/vnd.jupyter.widget-view+json": {
       "model_id": "",
       "version_major": 2,
       "version_minor": 0
      },
      "text/plain": [
       "FloatProgress(value=0.0, bar_style='info', description='Progress:', layout=Layout(height='25px', width='50%'),…"
      ]
     },
     "metadata": {},
     "output_type": "display_data"
    },
    {
     "name": "stdout",
     "output_type": "stream",
     "text": [
      "SparkSession available as 'spark'.\n"
     ]
    },
    {
     "data": {
      "application/vnd.jupyter.widget-view+json": {
       "model_id": "",
       "version_major": 2,
       "version_minor": 0
      },
      "text/plain": [
       "FloatProgress(value=0.0, bar_style='info', description='Progress:', layout=Layout(height='25px', width='50%'),…"
      ]
     },
     "metadata": {},
     "output_type": "display_data"
    },
    {
     "name": "stdout",
     "output_type": "stream",
     "text": [
      "JOB NAME =Nishant : Contactibility\n",
      "No_of_cpu=8\n",
      "Max_cores=8\n",
      "Executor_mem=56g\n",
      "Runtype=daily"
     ]
    }
   ],
   "source": [
    "import sys\n",
    "\n",
    "       \n",
    "runtype = \"daily\"\n",
    "#report_date = \"2022-04-14\"\n",
    "\n",
    "no_of_cpu =8\n",
    "max_cores =8\n",
    "executor_mem = '56g'\n",
    "\n",
    "Job_Name = 'Nishant : Contactibility'\n",
    "\n",
    "\n",
    "print (\"JOB NAME =\"+str(Job_Name))\n",
    "print (\"No_of_cpu=\"+str(no_of_cpu))\n",
    "print (\"Max_cores=\"+str(max_cores))\n",
    "print (\"Executor_mem=\"+str(executor_mem))\n",
    "print (\"Runtype=\"+str(runtype))\n",
    "# print (\"Report_date=\"+str(report_date))\n",
    "\n",
    "from pyspark.mllib.stat import Statistics\n",
    "from pyspark.sql.functions import asc,lit\n",
    "#warnings.filterwarnings('error')\n",
    "import pyspark\n",
    "from datetime import datetime,timedelta\n",
    "from pyspark.sql import SQLContext\n",
    "from pyspark import SparkContext, SparkConf\n",
    "from pyspark.sql import functions as F\n",
    "\n",
    "conf = pyspark.SparkConf()\n",
    "#import numpy\n",
    "import calendar\n",
    "#import pandas as pd\n",
    "#import simplejson as json\n",
    "#import pandas as pd\n",
    "import numpy as np\n",
    "import datetime\n",
    "from pyspark.sql.functions import *\n",
    "from pyspark.sql.types import DateType\n",
    "from pyspark.sql.functions import lit\n",
    "import simplejson as json\n",
    "import json, pprint, requests\n",
    "\n",
    "# mesos_ip = 'mesos://10.35.12.205:5050'\n",
    "mesos_ip = 'mesos://10.33.195.18:5050'\n",
    "# mesos_ip = 'mesos://10.33.195.43:5050'\n",
    "spark.stop() ############# NEED TO COMMENT THIS SPARK.STOP WHEN RUNNING THROUGH SHELL ###############################\n",
    "conf.setMaster(mesos_ip)\n",
    "\n",
    "conf.set('spark.executor.cores',no_of_cpu) ### change 1\n",
    "#conf.set('spark.memory.fraction','.2')\n",
    "conf.set('spark.executor.memory',executor_mem) \n",
    "conf.set('spark.es.scroll.size','10000')\n",
    "conf.set('spark.network.timeout','120m')\n",
    "conf.set('spark.sql.crossJoin.enabled', 'true')\n",
    "\n",
    "# gpdb_env = 'prod'\n",
    "\n",
    "# if gpdb_env=='uat':\n",
    "#     gpdb_url = \"jdbc:postgresql://10.33.195.103:5432/gpadmin\"\n",
    "#     gpdb_user = \"gpspark\"\n",
    "#     gpdb_pass = \"spark@456\"\n",
    "# else:\n",
    "#     gpdb_url = \"jdbc:postgresql://10.35.12.194:5432/gpadmin\"\n",
    "#     gpdb_user = \"gpspark\"\n",
    "#     gpdb_pass = \"spark@456\"\n",
    "\n",
    "\n",
    "\n",
    "conf.set('spark.executor.heartbeatInterval','120s')\n",
    "conf.set(\"spark.driver.cores\",\"4\")\n",
    "conf.set(\"spark.driver.extraJavaOptions\",\"-Xmx16g -Xms16g\")\n",
    "\n",
    "#conf.set(\"spark.shuffle.blockTransferService\", \"nio\"); \n",
    "conf.set(\"spark.files.overwrite\",\"true\");\n",
    "conf.set(\"spark.kryoserializer.buffer\", \"70\"); \n",
    "conf.set(\"spark.driver.extraJavaOptions\", \"-XX:+UseG1GC\");\n",
    "conf.set(\"spark.executor.extraJavaOptions\", \"-XX:+UseG1GC\");\n",
    "conf.set(\"spark.serializer\", \"org.apache.spark.serializer.KryoSerializer\"); \n",
    "conf.set(\"spark.broadcast.compress\", \"true\"); \n",
    "conf.set(\"spark.shuffle.compress\", \"true\"); \n",
    "conf.set(\"spark.shuffle.spill.compress\", \"true\");\n",
    "conf.set(\"spark.app.name\", Job_Name)\n",
    "#conf.set(\"spark.io.compression.codec\",\"org.apache.spark.io.LZ4CompressionCodec\");\n",
    "#conf.set(\"spark.sql.inMemoryColumnarStorage.compressed\", \"true\"); \n",
    "from pyspark.sql.functions import broadcast\n",
    "\n",
    "conf.set('spark.driver.memory','20g') ### change 2\n",
    "conf.set('spark.cores.max',max_cores) ### change 3\n",
    "#23-11-2020\n",
    "conf.set('spark.memory.offHeap.enabled','true')\n",
    "conf.set('spark.memory.offHeap.size','16g')\n",
    "\n",
    "conf.set('spark.sql.shuffle.partitions','80')\n",
    "#conf.set('spark.sql.crossJoin.enabled', 'true')\n",
    "# conf.set('es.nodes',es_nodes)\n",
    "# conf.set('es.port',es_port)\n",
    "# conf.set('es.nodes.wan.only','true')\n",
    "# conf.set(\"spark.sql.autoBroadcastJoinThreshold\",-1)\n",
    "conf.set(\"spark.sql.broadcastTimeout\",9000)\n",
    "# config spark.scroll.keepalive(\"10m\")\n",
    "conf.set(\"spark.scroll.keepalive\",\"120m\")\n",
    "#conf.set('spark.es.net.http.auth.user','Spark')\n",
    "#conf.set('spark.es.net.http.auth.pass','Jarkpet1Sap3')\n",
    "#conf.set('spark.num.executors','4')\n",
    "\n",
    "# conf.set('spark.es.net.http.auth.user', es_user)\n",
    "# conf.set('spark.es.net.http.auth.pass', es_pwd)\n",
    "\n",
    "conf.set('spark.es.mapping.date.rich','false')\n",
    "spark = pyspark.SparkContext(conf=conf)\n",
    "sqlContext = SQLContext(spark)\n",
    "\n",
    "\n",
    "# Load Data into PySpark DataFrames\n",
    "# Prodcom Data Frame\n",
    "import json, pprint, requests\n",
    "import pyspark.sql.functions as sf\n",
    "from pyspark.sql.types import *\n",
    "\n",
    "\n",
    "from pyspark.sql.window import *\n",
    "from pyspark.sql.functions import row_number"
   ]
  },
  {
   "cell_type": "code",
   "execution_count": null,
   "metadata": {},
   "outputs": [],
   "source": [
    "from pyspark.sql.functions import hash\n",
    "import numpy as np\n",
    "import datetime\n",
    "from pyspark.sql.functions import *\n",
    "from pyspark.sql.types import DateType\n",
    "import psycopg2\n",
    "import time\n",
    "from time import gmtime, strftime\n",
    "import pytz\n",
    "starttime = time.time()\n",
    "start_time = datetime.datetime.now(pytz.timezone('Asia/Kolkata')).strftime(\"%Y-%m-%d %H:%M:%S.%f\")\n",
    "start_time"
   ]
  },
  {
   "cell_type": "code",
   "execution_count": null,
   "metadata": {},
   "outputs": [],
   "source": [
    "\n",
    "prod_url = \"jdbc:postgresql://10.35.12.194:5432/gpadmin\"\n",
    "prod_host = '10.35.12.194'\n",
    "prod_port = '5432'\n",
    "prod_dbname = 'gpadmin'\n",
    "user_prod=\"gpspark\"\n",
    "pwd_prod=\"spark@456\"\n",
    "dbschema=\"public\"\n",
    "# url_prod = \"jdbc:postgresql://10.35.12.194:5432/gpadmin\"\n",
    "# dbschema_name = \"public\"\n",
    "# dbschema_name_2=\"registers\"\n",
    "\n",
    "\n",
    "prod_gpdb_spark_options ={\n",
    "    \"url\": \"jdbc:postgresql://{host}:{port}/{dbname}\".format(host=prod_host,port=prod_port, dbname=prod_dbname),\n",
    "    \"user\": \"{user}\".format(user=user_prod),\n",
    "    \"password\": \"{password}\".format(password=pwd_prod)\n",
    "} \n",
    "\n",
    "import psycopg2\n",
    "import datetime\n",
    "conn_prod = psycopg2.connect(host=prod_host, port=prod_port, user=user_prod, password=pwd_prod, dbname=prod_dbname)\n",
    "\n"
   ]
  },
  {
   "cell_type": "code",
   "execution_count": null,
   "metadata": {},
   "outputs": [],
   "source": [
    "prod_url = \"jdbc:postgresql://10.35.12.194:5432/gpadmin\"\n",
    "prod_host = '10.35.12.194'\n",
    "prod_port = '5432'\n",
    "prod_dbname = 'gpadmin'\n",
    "user_prod=\"gpspark\"\n",
    "pwd_prod=\"spark@456\"\n",
    "dbschema=\"public\"\n",
    "\n",
    "\n",
    "prod_gpdb_spark_options ={\n",
    "    \"url\": \"jdbc:postgresql://{host}:{port}/{dbname}\".format(host=prod_host,port=prod_port, dbname=prod_dbname),\n",
    "    \"user\": \"{user}\".format(user=user_prod),\n",
    "    \"password\": \"{password}\".format(password=pwd_prod)\n",
    "} "
   ]
  },
  {
   "cell_type": "code",
   "execution_count": null,
   "metadata": {},
   "outputs": [],
   "source": [
    "def load_gpdb_jdbc(col_str,dbtable,col_name=None,time_filter=None,partitionColumn=\"row_num\"):\n",
    "    \"\"\"\n",
    "    This is used to read gpdb with filter for columns and can apply other filter(date,values).\n",
    "    Time filter contains startdate,enddate\n",
    "    \"\"\"\n",
    "    gscPythonOptions = {\n",
    "                        \"url\": prod_url,\n",
    "                        \"user\": user_prod,\n",
    "                        \"password\": pwd_prod,\n",
    "                        \"dbschema\": dbschema,\n",
    "                        \"dbtable\": dbtable,\n",
    "                        \"partitionColumn\":partitionColumn,\n",
    "                        \"partitions\": 8,\n",
    "                        \"server.port\":\"1150-1170\"}\n",
    "   \n",
    "    if time_filter:\n",
    "        data = sqlContext.read.format(\"greenplum\").options(**gscPythonOptions).load()\\\n",
    "                .selectExpr(col_str).drop_duplicates().filter(col(col_name).between(to_timestamp(lit(time_filter['start_date']),\n",
    "                                                                 format='yyyy-MM-dd'),\n",
    "                                                    to_timestamp(lit(time_filter['end_date']),\n",
    "                                                                 format='yyyy-MM-dd')))\n",
    "    else :\n",
    "        data = sqlContext.read.format(\"greenplum\").options(**gscPythonOptions).load()\\\n",
    "                .selectExpr(col_str).drop_duplicates()\n",
    "   \n",
    "    return data"
   ]
  },
  {
   "cell_type": "code",
   "execution_count": null,
   "metadata": {},
   "outputs": [],
   "source": [
    "def get_latest_progress(table_name,source):\n",
    "    \n",
    "    try: \n",
    "        gscPythonOptions = {\n",
    "                 \"url\":prod_url ,\n",
    "                 \"user\":user_prod ,\n",
    "                 \"password\": pwd_prod,\n",
    "                 \"dbschema\":\"customermart\",\n",
    "                 \"dbtable\": \"progress\",#table change\n",
    "                 \"server.port\":\"1150-1170\"} \n",
    "        \n",
    "        # this query will fetch till what date we have inserted the records in target\n",
    "        last_run= sqlContext.read.format(\"greenplum\").options(**gscPythonOptions).load()\\\n",
    "            .select('table_name','source','to_datetime','records').filter(col('table_name')==table_name)\\\n",
    "            .filter(col('source')==source).filter(col('records')!=0).filter(col('status')=='Success')\n",
    "        \n",
    "        Max_last_run =last_run.select(max('to_datetime')).first()[0]\n",
    "\n",
    "\n",
    "        # if no record is available in progress then it will raise value error, in this case default value will be picked from except clause\n",
    "        if Max_last_run is None:\n",
    "            raise ValueError(\"No records found!\")\n",
    "\n",
    "        #print(\"Record Found. Progress updated till {}\".format(Max_last_run)) MC:2018-11-01\n",
    "        #ocrm 2017-12-28 icn:2019-04-05 10:58:49.291000  ICRM:2018-01-26 2023-07-29 00:00:00.000\n",
    "\n",
    "    except Exception as E: \n",
    "        Max_last_run = datetime.datetime(1900,10,30, 0, 0)  # this is the default start date when no record is present in progress for customer_demographics table\n",
    "        print(\"Executed_except\",repr(E))\n",
    "    return Max_last_run"
   ]
  },
  {
   "cell_type": "code",
   "execution_count": null,
   "metadata": {},
   "outputs": [],
   "source": [
    "# Generic function to save the progress from last run into Progress table\n",
    "def update_progress(table_name,source,time_filter,records,start_time,starttime,status):\n",
    "    output_index = \"progress\"\n",
    "    schema = \"customermart\"\n",
    "\n",
    "\n",
    "    import sys\n",
    "    import time\n",
    "    try:\n",
    "        \n",
    "\n",
    "\n",
    "        df_progress= sqlContext.createDataFrame([(table_name,source,\n",
    "                                       time_filter['start_date'].strftime(\"%Y-%m-%d %H:%M:%S\"),\n",
    "                                         time_filter['end_date'].strftime(\"%Y-%m-%d %H:%M:%S\"),records)]\n",
    "                                     ,['table_name', 'source','from_datetime','to_datetime','records'])\\\n",
    "        .withColumn('start_time',lit(start_time)).withColumn('end_time',current_timestamp())\\\n",
    "                    .withColumn('executed_in_mins',lit((time.time() - starttime)/60))\\\n",
    "                                .withColumn('status',lit(status)).withColumn('remarks',lit(None))\n",
    "    \n",
    "\n",
    "        \n",
    "        df_progress.write.format(\"greenplum\")\\\n",
    "            .option(\"dbtable\",output_index).option('dbschema',schema)\\\n",
    "            .option(\"server.port\",\"1150-1170\").option(\"url\",prod_url)\\\n",
    "            .option(\"user\", user_prod).option(\"password\",pwd_prod).mode('append').save()\n",
    "        \n",
    "       \n",
    "    except Exception as e:\n",
    "        x = e\n",
    "        print(x)\n",
    "    else:\n",
    "        x = 'success'\n",
    "        print(\"Updated Progress for {table_name} from {source} until {to_datetime}. {records} records processed in this run\".format(table_name=table_name, source=source,to_datetime=time_filter['end_date'].strftime(\"%Y-%m-%d %H:%M:%S\"),records=records))\n",
    "        print(x)"
   ]
  },
  {
   "cell_type": "code",
   "execution_count": null,
   "metadata": {},
   "outputs": [],
   "source": [
    "# # Define the Generic update function which takes the records currently in temp table (created with prefix 1 to original customercoe table)\n",
    "# # The function would first try to insert the records in original table. It that fails then it will upsert the records\n",
    "# # Since there is no direct upsert query an update and insert query with where clause is used\n",
    "# # This funciton just runs the SQL queries in GPDB and does not use spark\n",
    "\n",
    "# def update(conn_to,table_name,source,gpdb_spark_options = prod_gpdb_spark_options,schema='customermart'):\n",
    "#     conn_to.rollback()\n",
    "#     primary_key = ['source_system_name','source_system_customer_id','activity_id']\n",
    "#     update_fields = ['activity_date','communication_type','communication_sub_type','value','verification_flag','verification_source','date_reported','last_updated','preference_flag','dnd_flag']\n",
    "#     out_columns = ['source_system_name','source_system_customer_id','activity_id','activity_date','communication_type','communication_sub_type','value','verification_flag','verification_source','date_reported','last_updated','preference_flag','dnd_flag' ]\n",
    "\n",
    "#     cur_to = conn_to.cursor()  \n",
    "\n",
    "#     only_insert_query = \"\"\"insert into {schema}.{table_name} ({out_columns}) select {out_columns} from \n",
    "#     {schema}.{table_name}_staging \"\"\".format(schema=schema,table_name=table_name,out_columns = \",\".join(out_columns))\n",
    "#     update_query = \"\"\"UPDATE {schema}.{table_name} orig\n",
    "#                           SET\n",
    "#                             {update_fields}\n",
    "#                           FROM\n",
    "#                             {schema}.{table_name}_staging temp\n",
    "#                            WHERE \n",
    "#                             {primary_key}\n",
    "#                        \"\"\".format(schema=schema,table_name=table_name,primary_key= \" and \".join([ \"orig.{key} = temp.{key}\".format(key=key) for key in primary_key]),update_fields = \" , \".join([ \"{key} = temp.{key}\".format(key=key) for key in update_fields]))\n",
    "#     insert_query = \"\"\" INSERT INTO {schema}.{table_name} ({out_columns})\n",
    "#                            SELECT {out_columns}\n",
    "#                            FROM\n",
    "#                              {schema}.{table_name}_staging temp\n",
    "#                            WHERE\n",
    "#                              NOT EXISTS (\n",
    "#                              SELECT 1 FROM {schema}.{table_name} orig WHERE \n",
    "#                             {primary_key}\n",
    "#                             )\n",
    "#                         \"\"\".format(schema=schema,table_name=table_name,out_columns = \",\".join(out_columns),primary_key = \" and \".join([ \"orig.{key} = temp.{key}\".format(key=key) for key in primary_key]))\n",
    "\n",
    "#     try:\n",
    "#         print(\"Inside try segment\")\n",
    "#         cur_to.execute(only_insert_query)\n",
    "#         print(\"Executed Only insert query\")\n",
    "# #         update_progress(table_name,source,time_filter,records)\n",
    "#     except Exception as e:\n",
    "#         print(\"Inside except segment\")\n",
    "#         conn_to.rollback()\n",
    "#         cur_to.execute(update_query)\n",
    "#         print(\"Executed update query\")\n",
    "#         cur_to.execute(insert_query)\n",
    "#         print(\"Executed insert query\")\n",
    "# #         update_progress(table_name,source,time_filter,records)\n",
    "#     conn_to.commit()"
   ]
  },
  {
   "cell_type": "code",
   "execution_count": null,
   "metadata": {},
   "outputs": [],
   "source": [
    "# Define the Generic update function which takes the records currently in temp table (created with prefix 1 to original customercoe table)\n",
    "# This temp table has similar schema as original table but no json field and would not contain duplicates\n",
    "# The function would first try to insert the records in original table. It that fails then it will upsert the records\n",
    "# Since there is no direct upsert query an update and insert query with where clause is used\n",
    "# This funciton just runs the SQL queries in GPDB and does not use spark\n",
    "\n",
    "def update(conn_to,table_name,gpdb_spark_options = prod_gpdb_spark_options,schema=\"customermart\"):\n",
    "    conn_to.rollback()\n",
    "    \n",
    "    source='contactability'\n",
    "    table_dict = {\n",
    "    \"contactability\": #table_name\n",
    "              {\n",
    "                  \"out_columns\" : ['source_system_name','source_system_customer_id','activity_id',\n",
    "                                   'activity_date','communication_type','communication_sub_type','value',\n",
    "                                   'verification_flag','verification_source','date_reported','last_updated',\n",
    "                                   'preference_flag','dnd_flag','communication_json'],\n",
    "                  \"primary_key\" : ['source_system_name','source_system_customer_id','activity_id'],\n",
    "                  \"contactability\" : #source/subsegment\n",
    "                      { \n",
    "                          \"update_fields\" : ['activity_date','communication_type','communication_sub_type','value',\n",
    "                                   'verification_flag','verification_source','date_reported','last_updated',\n",
    "                                   'preference_flag','dnd_flag']\n",
    "                      }\n",
    "              }\n",
    "    }\n",
    "    \n",
    "    \n",
    "    update_fields = table_dict.get(table_name).get(source).get(\"update_fields\")\n",
    "    primary_key = table_dict.get(table_name).get(\"primary_key\")\n",
    "    \n",
    "    # loading data from temp table to get column names\n",
    "    #out_columns=['source_system_name','source_system_customer_id','activity_id','activity_date','communication_type','communication_sub_type','value','verification_flag','verification_source','date_reported','last_updated','preference_flag','dnd_flag' ]     \n",
    "    df_1 = sqlContext.read.format(\"jdbc\").options(**gpdb_spark_options).option(\"dbtable\",\"customermart.{}_staging\".format(table_name)).load()\n",
    "    out_columns = df_1.columns\n",
    "    out_columns = [col for col in out_columns if \"json\" not in col ]\n",
    "#     out_columns\n",
    "    #out_columns = table_dict.get(table_name).get(\"out_columns\")\n",
    "\n",
    "    cur_to = conn_to.cursor()  \n",
    "\n",
    "    # this query insert records from temp table to target table when all the records in temp table are new and not present in target\n",
    "    only_insert_query = \"\"\"insert into {schema}.{table_name} ({out_columns}) select {out_columns} from {schema}.{table_name}_staging \"\"\".format(schema=schema,table_name=table_name,out_columns = \",\".join(out_columns))\n",
    "    \n",
    "    # this query will be executed to update the records that are already present in target, new values will be assigned from temp table\n",
    "    update_query = \"\"\"UPDATE {schema}.{table_name} orig\n",
    "                          SET\n",
    "                            {update_fields}\n",
    "                          FROM\n",
    "                            {schema}.{table_name}_staging temp\n",
    "                           WHERE \n",
    "                            {primary_key}\n",
    "                       \"\"\".format(schema=schema,table_name=table_name,primary_key= \" and \".join([ \"orig.{key} = temp.{key}\".format(key=key) for key in primary_key]),update_fields = \" , \".join([ \"{key} = temp.{key}\".format(key=key) for key in update_fields]))\n",
    "    \n",
    "    # this query will be executed after update query to insert the remaining records\n",
    "    insert_query = \"\"\" INSERT INTO {schema}.{table_name} ({out_columns})\n",
    "                           SELECT {out_columns}\n",
    "                           FROM\n",
    "                             {schema}.{table_name}_staging temp\n",
    "                           WHERE\n",
    "                             NOT EXISTS (\n",
    "                             SELECT 1 FROM {schema}.{table_name} orig WHERE \n",
    "                            {primary_key}\n",
    "                            )\n",
    "                        \"\"\".format(schema=schema,table_name=table_name,out_columns = \",\".join(out_columns),primary_key = \" and \".join([ \"orig.{key} = temp.{key}\".format(key=key) for key in primary_key]))\n",
    "\n",
    "    try:\n",
    "        print(\"Inside try segment\")\n",
    "        cur_to.execute(only_insert_query)\n",
    "        print(\"Executed Only insert query\")\n",
    "#         update_progress(table_name,source,time_filter,records)\n",
    "    except Exception as e:\n",
    "        print(\"Inside except segment\")\n",
    "        conn_to.rollback()\n",
    "        cur_to.execute(update_query)\n",
    "        print(\"Executed update query\")\n",
    "        cur_to.execute(insert_query)\n",
    "        print(\"Executed insert query\")\n",
    "#         update_progress(table_name,source,time_filter,records)\n",
    "    conn_to.commit()\n"
   ]
  },
  {
   "cell_type": "code",
   "execution_count": null,
   "metadata": {},
   "outputs": [],
   "source": [
    "gscPythonOptions = {\n",
    "\"url\": \"jdbc:postgresql://10.35.12.194:5432/gpadmin\",\n",
    "\"user\": \"gpspark\",\n",
    "\"password\": \"spark@456\",\n",
    "# \"dbschema\": \"public\",\n",
    "\"dbtable\": \"public.reference_gc_genmst_intermediary\"}\n",
    "\n",
    "intermediary_df = sqlContext.read.format(\"jdbc\").options(**gscPythonOptions).load()\\\n",
    "                    .selectExpr('txt_mobile','txt_telephone','txt_telephone1','txt_contact_phone','txt_emer_person_mobile_number','txt_policy_phone','txt_alt_mobile','txt_email','txt_alt_email_id','txt_email_sms_reqd')"
   ]
  },
  {
   "cell_type": "code",
   "execution_count": null,
   "metadata": {},
   "outputs": [],
   "source": [
    "intermediary_df.createOrReplaceTempView('intermediary_table')\n",
    "\n",
    "query1_mob = \"\"\"SELECT txt_mobile mobile from intermediary_table\n",
    "union\n",
    "select txt_telephone from intermediary_table\n",
    "union\n",
    "select txt_telephone1 from intermediary_table\n",
    "union\n",
    "select txt_contact_phone from intermediary_table\n",
    "union\n",
    "select txt_emer_person_mobile_number from intermediary_table\n",
    "union\n",
    "select txt_policy_phone from intermediary_table\n",
    "union\n",
    "select txt_alt_mobile from intermediary_table\"\"\"\n",
    "\n",
    "intermediary_df_mob = sqlContext.sql(query1_mob)\n",
    "\n",
    "\n",
    "\n",
    "\n",
    "gscPythonOptions = {\n",
    "\"url\": \"jdbc:postgresql://10.35.12.194:5432/gpadmin\",\n",
    "\"user\": \"gpspark\",\n",
    "\"password\": \"spark@456\",\n",
    "\"server.port\": \"1151-1160\",\n",
    "\"dbschema\": \"staging\",\n",
    "\"dbtable\": \"retention_auto_producer_contact\"}\n",
    "contact_prod = sqlContext.read.format(\"greenplum\").options(**gscPythonOptions).load()\\\n",
    "                    .selectExpr(\"contact as contact1\")\n",
    "\n",
    "agent_no=intermediary_df_mob.union(contact_prod)\n",
    "\n",
    "\n",
    "\n",
    "agent_no = agent_no.withColumn(\"mobile\", when((length(col(\"mobile\")) == 12), \n",
    "                                               regexp_replace(col(\"mobile\"), \"^91\", \"\")).otherwise(lit(col(\"mobile\"))))\n",
    "\n",
    "agent_no = agent_no.withColumn(\"mobile\", when((length(col(\"mobile\")) == 11),\n",
    "                                               regexp_replace(col(\"mobile\"), \"^0\", \"\")).otherwise(lit(col(\"mobile\"))))\n",
    "\n",
    "agent_no.persist(pyspark.StorageLevel.MEMORY_AND_DISK)\n",
    "records=agent_no.count()"
   ]
  },
  {
   "cell_type": "code",
   "execution_count": null,
   "metadata": {},
   "outputs": [],
   "source": [
    "query1_email = \"\"\"select txt_email from intermediary_table\n",
    "union\n",
    "select txt_alt_email_id from intermediary_table\n",
    "union\n",
    "select txt_email_sms_reqd from intermediary_table\"\"\"\n",
    "\n",
    "\n",
    "intermediary_df_email = sqlContext.sql(query1_email)\n",
    "\n",
    "\n",
    "intermediary_df_email.persist(pyspark.StorageLevel.MEMORY_AND_DISK)\n",
    "records=intermediary_df_email.count()\n",
    "\n",
    "gscPythonOptions = {\n",
    "\"url\": \"jdbc:postgresql://10.35.12.194:5432/gpadmin\",\n",
    "\"user\": \"gpspark\",\n",
    "\"password\": \"spark@456\",\n",
    "\"server.port\": \"1151-1160\",\n",
    "\"dbschema\": \"staging\",\n",
    "\"dbtable\": \"retention_auto_producer_email\"}\n",
    "\n",
    "email_prod = sqlContext.read.format(\"greenplum\").options(**gscPythonOptions).load()\\\n",
    "                    .selectExpr(\"email as email1\")\n",
    "\n",
    "agent_email=intermediary_df_email.union(email_prod)\n",
    "\n",
    "\n",
    "agent_email.persist(pyspark.StorageLevel.MEMORY_AND_DISK)\n",
    "records=agent_email.count()\n"
   ]
  },
  {
   "cell_type": "code",
   "execution_count": null,
   "metadata": {},
   "outputs": [],
   "source": [
    "sqlContext.dropTempTable('intermediary_table')"
   ]
  },
  {
   "cell_type": "code",
   "execution_count": null,
   "metadata": {},
   "outputs": [],
   "source": [
    "# col_str=['source_id','source_customer_id','dc_unified_id','dc_action_date','email_primary','email_primary_is_verified',\n",
    "#         'email_secondary', 'mobile_primary','mobile_primary_is_verified', 'mobile_secondary','incominglandlinehome','landline_home_is_verified',\n",
    "#          'email_secondary_is_verified','mobile_primary_dnd','mobile_secondary_dnd']\n",
    "\n",
    "# contact=load_gpdb_jdbc(col_str,\"mastercraft_bulk_detail_prod\",\"dc_action_date\",time_filter)\\\n",
    "# .filter((col('dc_unified_id').isNotNull()) & (col('source_customer_id').isNotNull()))"
   ]
  },
  {
   "cell_type": "markdown",
   "metadata": {},
   "source": [
    "# MASTERCRAFT"
   ]
  },
  {
   "cell_type": "code",
   "execution_count": null,
   "metadata": {},
   "outputs": [],
   "source": [
    "table_name='contactability'\n",
    "source='MASTERCRAFT1254'\n",
    "\n",
    "latest_progress=get_latest_progress(table_name,source)\n",
    "# dates in string format\n",
    "str_d1 = latest_progress.strftime(\"%Y-%m-%d\")\n",
    "str_d2 = datetime.datetime.now(pytz.timezone('Asia/Kolkata')).strftime(\"%Y-%m-%d\")\n",
    "\n",
    "# convert string to date object\n",
    "d1 = datetime.datetime.strptime(str_d1, \"%Y-%m-%d\")\n",
    "d2 = datetime.datetime.strptime(str_d2, \"%Y-%m-%d\")\n",
    "\n",
    "# difference between dates in timedelta\n",
    "delta = d2 - d1\n",
    "day=delta.days-1#currently T-2 change 2 to 1 for T-1\n",
    "\n",
    "time_filter={'start_date':latest_progress,'end_date':latest_progress+datetime.timedelta(days=day)}\n",
    "time_filter"
   ]
  },
  {
   "cell_type": "code",
   "execution_count": null,
   "metadata": {},
   "outputs": [],
   "source": [
    "gscPythonOptions = {\n",
    "\"url\": \"jdbc:postgresql://10.35.12.194:5432/gpadmin\",\n",
    "\"user\": \"gpspark\",\n",
    "\"password\": \"spark@456\",\n",
    "\"server.port\": \"1151-1160\",\n",
    "\"dbschema\": \"customermart\",\n",
    "\"dbtable\": \"temp_contatibility_lob_1\"}\n",
    "contact = sqlContext.read.format(\"greenplum\").options(**gscPythonOptions).load()"
   ]
  },
  {
   "cell_type": "code",
   "execution_count": null,
   "metadata": {},
   "outputs": [],
   "source": [
    "contact.columns"
   ]
  },
  {
   "cell_type": "code",
   "execution_count": null,
   "metadata": {},
   "outputs": [],
   "source": [
    "contact=contact.withColumn('mobile_primary',when(col('mobile_primary').rlike('^(?:(?:\\+|0{0,2})91(\\s*[\\-]\\s*)?|[0]?)?[6-9]\\d{9}$'),col('mobile_primary'))\n",
    "                       .otherwise(lit(None)))\n",
    "\n",
    "contact = contact.withColumn(\"mobile_primary\", when((length(col(\"mobile_primary\")) == 12), \n",
    "                                       regexp_replace(col(\"mobile_primary\"), \"^91\", \"\")).otherwise(lit(col(\"mobile_primary\"))))\n",
    "\n",
    "contact = contact.withColumn(\"mobile_primary\", when((length(col(\"mobile_primary\")) == 11),\n",
    "                                      regexp_replace(col(\"mobile_primary\"), \"^0\", \"\")).otherwise(lit(col(\"mobile_primary\"))))\n",
    "\n",
    "\n",
    "contact=contact.withColumn('mobile_primary',when(col('mobile_primary').rlike(\"^(?!(\\d)\\1{8})\\d{10}$\"),col('mobile_primary'))\n",
    "                          .otherwise(lit(None)))"
   ]
  },
  {
   "cell_type": "code",
   "execution_count": null,
   "metadata": {},
   "outputs": [],
   "source": []
  },
  {
   "cell_type": "code",
   "execution_count": null,
   "metadata": {},
   "outputs": [],
   "source": []
  },
  {
   "cell_type": "code",
   "execution_count": null,
   "metadata": {},
   "outputs": [],
   "source": []
  },
  {
   "cell_type": "code",
   "execution_count": null,
   "metadata": {},
   "outputs": [],
   "source": []
  },
  {
   "cell_type": "code",
   "execution_count": null,
   "metadata": {},
   "outputs": [],
   "source": [
    "gscPythonOptions = {\n",
    "\"url\": \"jdbc:postgresql://10.35.12.194:5432/gpadmin\",\n",
    "\"user\": \"gpspark\",\n",
    "\"password\": \"spark@456\",\n",
    "\"server.port\": \"1151-1160\",\n",
    "\"dbschema\": \"public\",\n",
    "\"dbtable\": \"mc_tbl_bulk_detail_prod_corp\"}\n",
    "contact = sqlContext.read.format(\"greenplum\").options(**gscPythonOptions).load()\\\n",
    "                    .selectExpr('source_id','source_customer_id','dc_unified_id','dc_action_date','email_primary','email_primary_is_verified',\n",
    "        'email_secondary', 'mobile_primary','mobile_primary_is_verified', 'mobile_secondary',\n",
    "         'email_secondary_is_verified','mobile_primary_dnd','mobile_secondary_dnd').filter(col('dc_action_date').between(to_timestamp(lit(time_filter['start_date']),\n",
    "                                                                 format='yyyy-MM-dd'),\n",
    "                                                    to_timestamp(lit(time_filter['end_date']),\n",
    "                                                                 format='yyyy-MM-dd'))).drop_duplicates()\n"
   ]
  },
  {
   "cell_type": "code",
   "execution_count": null,
   "metadata": {},
   "outputs": [],
   "source": [
    "# email_regex=r\"^\\w+([\\.-]?\\w+) {1,}@\\w+([\\.-]?\\w+){1,}(\\.\\w{2,3})+$\"\n",
    "# broadcast_regex=spark.broadcast(email_regex)"
   ]
  },
  {
   "cell_type": "code",
   "execution_count": null,
   "metadata": {},
   "outputs": [],
   "source": [
    "# broadcast_regex.value"
   ]
  },
  {
   "cell_type": "code",
   "execution_count": null,
   "metadata": {},
   "outputs": [],
   "source": [
    "contact_email_pri=contact.withColumn('activity_id', hash(col('email_primary')))\n",
    "contact_email_pri=contact_email_pri.withColumn('verification_flag', when(trim(col('email_primary_is_verified')).isNull(), lit('G')).otherwise(lit('I')))\n",
    "contact_email_pri=contact_email_pri.withColumn('verification_source', when(trim(col('email_primary_is_verified')).isNull(), lit(None)).otherwise(col('source_id')))\n",
    "contact_email_pri=contact_email_pri.withColumn('value',col('email_primary'))\\\n",
    "# contact_email_pri=contact_email_pri.withColumn('value',when(col('email_primary').rlike(broadcast_regex.value),col('email_primary'))\n",
    "#                                  .otherwise(lit(None)))\n",
    "\n",
    "# contact_email_pri = contact_email_pri.filter(~(lower(col(\"value\")).contains(\"abc@\")))\\\n",
    "# .filter(~(lower(col(\"value\")).contains(\"xyz@\")))\\\n",
    "# .filter(~(lower(col(\"value\")).contains(\"1234@\")))\\\n",
    "# .filter(~(lower(col(\"value\")).contains(\"null@\")))\\\n",
    "# .filter(~(lower(col(\"value\")).contains(\"na@\")))\\\n",
    "# .filter(~(lower(col(\"value\")).contains(\"00@\")))\n",
    "\n",
    "\n",
    "contact_email_pri=contact_email_pri.withColumn('dnd_flag', lit(None))\n",
    "contact_email_pri=contact_email_pri.withColumn('communication_type', lit('email'))\n",
    "contact_email_pri=contact_email_pri.withColumn('communication_sub_type', lit('email'))\n",
    "contact_email_pri=contact_email_pri.withColumn('source_system_customer_id', coalesce('source_customer_id','dc_unified_id'))\n",
    "contact_email_pri=contact_email_pri.withColumn('contactability_json', lit(None))\n",
    "contact_email_pri=contact_email_pri.withColumn('preference_flag', lit(None))\n",
    "contact_email_pri=contact_email_pri.withColumn('date_reported', col('dc_action_date'))\n",
    "contact_email_pri=contact_email_pri.withColumn('last_updated', col('dc_action_date'))\n",
    "contact_email_pri=contact_email_pri.withColumn('activity_date', col('dc_action_date'))\n",
    "contact_email_pri=contact_email_pri.withColumn('source_system_name', col('source_id'))\n",
    "contact_email_pri=contact_email_pri.withColumn('primary_key', concat_ws('',trim(col('source_id')),trim(col('source_system_customer_id')), trim(col('activity_id'))))"
   ]
  },
  {
   "cell_type": "code",
   "execution_count": null,
   "metadata": {},
   "outputs": [],
   "source": [
    "contact1=contact_email_pri.select(col('source_system_name').cast('string'),col('source_system_customer_id').cast('string'),col('activity_id').cast('string'),\\\n",
    "                         col('communication_type').cast('string'),col('communication_sub_type').cast('string'),col('activity_date').cast('timestamp'),\\\n",
    "                         col('value'),col('verification_flag').cast('string'),col('verification_source').cast('string'),col('date_reported').cast('timestamp'),col('last_updated').cast('timestamp'),col('preference_flag').cast('string'),col('dnd_flag').cast('string'),col('contactability_json'),\\\n",
    "                         col('primary_key'))\n",
    "contact1=contact1.filter(col(\"value\").isNotNull())"
   ]
  },
  {
   "cell_type": "code",
   "execution_count": null,
   "metadata": {},
   "outputs": [],
   "source": [
    "# # contact=contact.withColumn('source_system_customer_id', coalesce('source_customer_id','dc_unified_id'))\n",
    "# contact=contact.withColumn('activity_id', hash(col('email_secondary')))\n",
    "# contact=contact.withColumn('value', col('email_secondary'))\n",
    "# contact=contact.withColumn('communication_type', lit('email'))\n",
    "# contact=contact.withColumn('communication_sub_type', lit('email'))\n",
    "# contact=contact.withColumn('dnd_flag', lit(None))\n",
    "# contact=contact.withColumn('verification_flag', when(trim(col('email_secondary_is_verified')).isNull(), lit('UV')).otherwise(lit('IV')))\n",
    "# contact=contact.withColumn('verification_source', when(trim(col('email_secondary_is_verified')).isNull(), lit(None)).otherwise(col('source_id')))\n",
    "# contact=contact.withColumn('source_system_customer_id', coalesce('source_customer_id','dc_unified_id'))\n",
    "# contact=contact.withColumn('contactability_json', lit(None))\n",
    "# contact=contact.withColumn('preference_flag', lit(None))\n",
    "# contact=contact.withColumn('date_reported', col('dc_action_date'))\n",
    "# contact=contact.withColumn('last_updated', col('dc_action_date'))\n",
    "# contact=contact.withColumn('activity_date', col('dc_action_date'))\n",
    "# contact=contact.withColumn('source_system_name', col('source_id'))\n",
    "# contact=contact.withColumn('primary_key', concat_ws('',trim(col('source_id')),trim(col('source_system_customer_id')), trim(col('activity_id'))))\n",
    "\n",
    "\n",
    "\n",
    "\n",
    "contact_email_sec=contact.withColumn('activity_id', hash(col('email_secondary')))\n",
    "contact_email_sec=contact_email_sec.withColumn('verification_flag', when(trim(col('email_secondary_is_verified')).isNull(), lit('G')).otherwise(lit('I')))\n",
    "contact_email_sec=contact_email_sec.withColumn('verification_source', when(trim(col('email_secondary_is_verified')).isNull(), lit(None)).otherwise(col('source_id')))\n",
    "# contact_email_sec=contact_email_sec.withColumn('value',when(col('email_secondary').rlike(broadcast_regex.value),col('email_secondary'))\n",
    "#                   contact_email_sec        .otherwise(lit(None)))\n",
    "contact_email_sec=contact_email_sec.withColumn('value',col('email_secondary'))\n",
    "\n",
    "# contact_email_sec = contact_email_sec.filter(~(lower(col(\"value\")).contains(\"abc@\")))\\\n",
    "# .filter(~(lower(col(\"value\")).contains(\"xyz@\")))\\\n",
    "# .filter(~(lower(col(\"value\")).contains(\"1234@\")))\\\n",
    "# .filter(~(lower(col(\"value\")).contains(\"null@\")))\\\n",
    "# .filter(~(lower(col(\"value\")).contains(\"na@\")))\\\n",
    "# .filter(~(lower(col(\"value\")).contains(\"00@\")))\n",
    "\n",
    "contact_email_sec=contact_email_sec.withColumn('dnd_flag', lit(None))\n",
    "contact_email_sec=contact_email_sec.withColumn('communication_type', lit('email'))\n",
    "contact_email_sec=contact_email_sec.withColumn('communication_sub_type', lit('email'))\n",
    "contact_email_sec=contact_email_sec.withColumn('source_system_customer_id', coalesce('source_customer_id','dc_unified_id'))\n",
    "contact_email_sec=contact_email_sec.withColumn('contactability_json', lit(None))\n",
    "contact_email_sec=contact_email_sec.withColumn('preference_flag', lit(None))\n",
    "contact_email_sec=contact_email_sec.withColumn('date_reported', col('dc_action_date'))\n",
    "contact_email_sec=contact_email_sec.withColumn('last_updated', col('dc_action_date'))\n",
    "contact_email_sec=contact_email_sec.withColumn('activity_date', col('dc_action_date'))\n",
    "contact_email_sec=contact_email_sec.withColumn('source_system_name', col('source_id'))\n",
    "contact_email_sec=contact_email_sec.withColumn('primary_key', concat_ws('',trim(col('source_id')),trim(col('source_system_customer_id')), trim(col('activity_id'))))"
   ]
  },
  {
   "cell_type": "code",
   "execution_count": null,
   "metadata": {},
   "outputs": [],
   "source": [
    "# contact2=contact.select(col('source_system_name').cast('string'),col('source_system_customer_id').cast('string'),col('activity_id').cast('string'),\\\n",
    "#                          col('communication_type').cast('string'),col('communication_sub_type').cast('string'),col('activity_date').cast('timestamp'),\\\n",
    "#                          col('value'),col('verification_flag').cast('string'),col('verification_source').cast('string'),col('date_reported').cast('timestamp'),col('dnd_flag').cast('string'),col('last_updated').cast('timestamp'),col('preference_flag').cast('string'),col('contactability_json'),\\\n",
    "#                          col('primary_key'))\n",
    "# contact2=contact2.filter(col(\"value\").isNotNull())\n",
    "\n",
    "\n",
    "contact2=contact_email_sec.select(col('source_system_name').cast('string'),col('source_system_customer_id').cast('string'),col('activity_id').cast('string'),\\\n",
    "                         col('communication_type').cast('string'),col('communication_sub_type').cast('string'),col('activity_date').cast('timestamp'),\\\n",
    "                         col('value'),col('verification_flag').cast('string'),col('verification_source').cast('string'),col('date_reported').cast('timestamp'),col('last_updated').cast('timestamp'),col('preference_flag').cast('string'),col('dnd_flag').cast('string'),col('contactability_json'),\\\n",
    "                         col('primary_key'))\n",
    "contact2=contact2.filter(col(\"value\").isNotNull())"
   ]
  },
  {
   "cell_type": "code",
   "execution_count": null,
   "metadata": {},
   "outputs": [],
   "source": [
    "contact_f1 = contact1.union(contact2)"
   ]
  },
  {
   "cell_type": "code",
   "execution_count": null,
   "metadata": {},
   "outputs": [],
   "source": [
    "# mob_regex=r\"^(?:(?:\\+|0{0,2})91(\\s*[\\-]\\s*)?|[0]?)?[6-9]\\d{9}$\"\n",
    "# broadcast_regex_m=spark.broadcast(mob_regex)"
   ]
  },
  {
   "cell_type": "code",
   "execution_count": null,
   "metadata": {},
   "outputs": [],
   "source": [
    "contact_mob_pri=contact.withColumn('activity_id', hash(col('mobile_primary')))\n",
    "contact_mob_pri=contact_mob_pri.withColumn('verification_flag', when(col('mobile_primary_is_verified').isNull(), lit('G')).otherwise(lit('N')))\n",
    "contact_mob_pri=contact_mob_pri.withColumn('verification_source', when(col('mobile_primary_is_verified').isNull(), lit(None)).otherwise(col('source_id')))\n",
    "contact_mob_pri=contact_mob_pri.withColumn('value',col('mobile_primary'))\n",
    "\n",
    "contact_mob_pri=contact_mob_pri.withColumn('value',when(col('mobile_primary').rlike('^(?:(?:\\+|0{0,2})91(\\s*[\\-]\\s*)?|[0]?)?[6-9]\\d{9}$'),col('mobile_primary'))\n",
    "                       .otherwise(lit(None)))\n",
    "\n",
    "contact_mob_pri = contact_mob_pri.withColumn(\"value\", when((length(col(\"value\")) == 12), \n",
    "                                       regexp_replace(col(\"value\"), \"^91\", \"\")).otherwise(lit(col(\"value\"))))\n",
    "\n",
    "contact_mob_pri = contact_mob_pri.withColumn(\"value\", when((length(col(\"value\")) == 11),\n",
    "                                      regexp_replace(col(\"value\"), \"^0\", \"\")).otherwise(lit(col(\"value\"))))\n",
    "\n",
    "\n",
    "contact_mob_pri=contact_mob_pri.withColumn('value',when(col('value').rlike(\"^(?!(\\d)\\1{8})\\d{10}$\"),col('value'))\n",
    "                          .otherwise(lit(None)))\n",
    "contact_mob_pri=contact_mob_pri.withColumn('dnd_flag', when(trim(col('mobile_primary_dnd'))=='1', lit('1')).otherwise(lit(None)))\n",
    "contact_mob_pri=contact_mob_pri.withColumn('communication_type', lit('phone'))\n",
    "contact_mob_pri=contact_mob_pri.withColumn('communication_sub_type', lit('mobile'))\n",
    "contact_mob_pri=contact_mob_pri.withColumn('source_system_customer_id', coalesce('source_customer_id','dc_unified_id'))\n",
    "contact_mob_pri=contact_mob_pri.withColumn('contactability_json', lit(None))\n",
    "contact_mob_pri=contact_mob_pri.withColumn('preference_flag', lit(None))\n",
    "contact_mob_pri=contact_mob_pri.withColumn('date_reported', col('dc_action_date'))\n",
    "contact_mob_pri=contact_mob_pri.withColumn('last_updated', col('dc_action_date'))\n",
    "contact_mob_pri=contact_mob_pri.withColumn('activity_date', col('dc_action_date'))\n",
    "contact_mob_pri=contact_mob_pri.withColumn('source_system_name', col('source_id'))\n",
    "contact_mob_pri=contact_mob_pri.withColumn('primary_key', concat_ws('',trim(col('source_id')),trim(col('source_system_customer_id')), trim(col('activity_id'))))\n"
   ]
  },
  {
   "cell_type": "code",
   "execution_count": null,
   "metadata": {},
   "outputs": [],
   "source": [
    "\n",
    "contact3=contact_mob_pri.select(col('source_system_name').cast('string'),col('source_system_customer_id').cast('string'),col('activity_id').cast('string'),\\\n",
    "                         col('communication_type').cast('string'),col('communication_sub_type').cast('string'),col('activity_date').cast('timestamp'),\\\n",
    "                         col('value'),col('verification_flag').cast('string'),col('verification_source').cast('string'),col('date_reported').cast('timestamp'),col('last_updated').cast('timestamp'),col('preference_flag').cast('string'),col('dnd_flag').cast('string'),col('contactability_json'),\\\n",
    "                         col('primary_key'))\n",
    "contact3=contact3.filter(col(\"value\").isNotNull())"
   ]
  },
  {
   "cell_type": "code",
   "execution_count": null,
   "metadata": {},
   "outputs": [],
   "source": [
    "contact_f2 = contact_f1.union(contact3)"
   ]
  },
  {
   "cell_type": "code",
   "execution_count": null,
   "metadata": {},
   "outputs": [],
   "source": [
    "contact_mob_sec=contact.withColumn('activity_id', hash(col('mobile_secondary')))\n",
    "contact_mob_sec=contact_mob_sec.withColumn('verification_flag',when(col('mobile_secondary').isNotNull(), lit('G')))\n",
    "contact_mob_sec=contact_mob_sec.withColumn('verification_source',when(col('mobile_secondary').isNotNull(), lit(None)))\n",
    "contact_mob_sec=contact_mob_sec.withColumn('value',col('mobile_secondary'))\n",
    "contact_mob_sec=contact_mob_sec.withColumn('value',when(col('mobile_secondary').rlike('^(?:(?:\\+|0{0,2})91(\\s*[\\-]\\s*)?|[0]?)?[6-9]\\d{9}$'),col('mobile_secondary'))\n",
    "                                 .otherwise(lit(None)))\n",
    "\n",
    "contact_mob_sec = contact_mob_sec.withColumn(\"value\", when((length(col(\"value\")) == 12), \n",
    "                                               regexp_replace(col(\"value\"), \"^91\", \"\")).otherwise(lit(col(\"value\"))))\n",
    "\n",
    "contact_mob_sec = contact_mob_sec.withColumn(\"value\", when((length(col(\"value\")) == 11),\n",
    "                                               regexp_replace(col(\"value\"), \"^0\", \"\")).otherwise(lit(col(\"value\"))))\n",
    "\n",
    "contact_mob_sec=contact_mob_sec.withColumn('value',when(col('value').rlike(\"^(?!(\\d)\\1{8})\\d{10}$\"),col('value'))\n",
    "                                 .otherwise(lit(None)))\n",
    "contact_mob_sec=contact_mob_sec.withColumn('dnd_flag', when(trim(col('mobile_secondary_dnd'))=='1', lit('1')).otherwise(lit(None)))\n",
    "contact_mob_sec=contact_mob_sec.withColumn('communication_type', lit('phone'))\n",
    "contact_mob_sec=contact_mob_sec.withColumn('communication_sub_type', lit('mobile'))\n",
    "contact_mob_sec=contact_mob_sec.withColumn('source_system_customer_id', coalesce('source_customer_id','dc_unified_id'))\n",
    "contact_mob_sec=contact_mob_sec.withColumn('contactability_json', lit(None))\n",
    "contact_mob_sec=contact_mob_sec.withColumn('preference_flag', lit(None))\n",
    "contact_mob_sec=contact_mob_sec.withColumn('date_reported', col('dc_action_date'))\n",
    "contact_mob_sec=contact_mob_sec.withColumn('last_updated', col('dc_action_date'))\n",
    "contact_mob_sec=contact_mob_sec.withColumn('activity_date', col('dc_action_date'))\n",
    "contact_mob_sec=contact_mob_sec.withColumn('source_system_name', col('source_id'))\n",
    "contact_mob_sec=contact_mob_sec.withColumn('primary_key', concat_ws('',trim(col('source_id')),trim(col('source_system_customer_id')), trim(col('activity_id'))))"
   ]
  },
  {
   "cell_type": "code",
   "execution_count": null,
   "metadata": {},
   "outputs": [],
   "source": [
    "contact4=contact_mob_sec.select(col('source_system_name').cast('string'),col('source_system_customer_id').cast('string'),col('activity_id').cast('string'),\\\n",
    "                         col('communication_type').cast('string'),col('communication_sub_type').cast('string'),col('activity_date').cast('timestamp'),\\\n",
    "                         col('value'),col('verification_flag').cast('string'),col('verification_source').cast('string'),col('date_reported').cast('timestamp'),col('last_updated').cast('timestamp'),col('preference_flag').cast('string'),col('dnd_flag').cast('string'),col('contactability_json'),\\\n",
    "                         col('primary_key'))\n",
    "contact4=contact4.filter(col(\"value\").isNotNull())"
   ]
  },
  {
   "cell_type": "code",
   "execution_count": null,
   "metadata": {},
   "outputs": [],
   "source": [
    "contact_f3= contact_f2.union(contact4)"
   ]
  },
  {
   "cell_type": "code",
   "execution_count": null,
   "metadata": {},
   "outputs": [],
   "source": [
    "contact_land=contact.filter(col(\"incominglandlinehome\").isNotNull())\n",
    "contact_land=contact_land.withColumn('activity_id', hash(col('incominglandlinehome')))\n",
    "contact_land=contact_land.withColumn('verification_flag', when(col('landline_home_is_verified').isNull(), lit('G')).otherwise(lit('N')))\n",
    "contact_land=contact_land.withColumn('verification_source', when(col('landline_home_is_verified').isNull(), lit(None)).otherwise(col('source_id')))\n",
    "\n",
    "# contact_land=contact_land.withColumn('value',col('incominglandlinehome'))\n",
    "contact_land = contact_land.withColumn(\"value\",regexp_replace(col(\"incominglandlinehome\"), \" \", \"\"))\n",
    "\n",
    "contact_land=contact_land.withColumn('value',when(col('value').rlike('^(?:(?:\\+|0{0,2})91(\\s*[\\-\\s]\\s*)?|[0]?)?[2-9]?\\d{1,3}(\\s*[\\-\\s]\\s*)?\\d{6,8}$'),col('value'))\n",
    "                                 .otherwise(lit(None)))\n",
    "\n",
    "\n",
    "\n",
    "contact_land=contact_land.withColumn('dnd_flag', lit(None))\n",
    "contact_land=contact_land.withColumn('communication_type', lit('phone'))\n",
    "contact_land=contact_land.withColumn('communication_sub_type', lit('landline'))\n",
    "contact_land=contact_land.withColumn('source_system_customer_id', coalesce('source_customer_id','dc_unified_id'))\n",
    "contact_land=contact_land.withColumn('contactability_json', lit(None))\n",
    "contact_land=contact_land.withColumn('preference_flag', lit(None))\n",
    "contact_land=contact_land.withColumn('date_reported', col('dc_action_date'))\n",
    "contact_land=contact_land.withColumn('last_updated', col('dc_action_date'))\n",
    "contact_land=contact_land.withColumn('activity_date', col('dc_action_date'))\n",
    "contact_land=contact_land.withColumn('source_system_name', col('source_id'))\n",
    "contact_land=contact_land.withColumn('primary_key', concat_ws('',trim(col('source_id')),trim(col('source_system_customer_id')), trim(col('activity_id'))))"
   ]
  },
  {
   "cell_type": "code",
   "execution_count": null,
   "metadata": {},
   "outputs": [],
   "source": [
    "\n",
    "contact5=contact_land.select(col('source_system_name').cast('string'),col('source_system_customer_id').cast('string'),col('activity_id').cast('string'),\\\n",
    "                         col('communication_type').cast('string'),col('communication_sub_type').cast('string'),col('activity_date').cast('timestamp'),\\\n",
    "                         col('value'),col('verification_flag').cast('string'),col('verification_source').cast('string'),col('date_reported').cast('timestamp'),col('last_updated').cast('timestamp'),col('preference_flag').cast('string'),col('dnd_flag').cast('string'),col('contactability_json'),\\\n",
    "                         col('primary_key'))\n",
    "contact5=contact5.filter(col(\"value\").isNotNull())"
   ]
  },
  {
   "cell_type": "code",
   "execution_count": null,
   "metadata": {},
   "outputs": [],
   "source": [
    "contact_f4= contact_f3.union(contact5)"
   ]
  },
  {
   "cell_type": "code",
   "execution_count": null,
   "metadata": {},
   "outputs": [],
   "source": [
    "# df_masterCraft= contact_f4.withColumn('contactability_json', to_json(lit(None)))\n",
    "df_masterCraft=contact_f4.withColumn('last_updated', col('date_reported'))"
   ]
  },
  {
   "cell_type": "code",
   "execution_count": null,
   "metadata": {},
   "outputs": [],
   "source": [
    "from pyspark.sql.window import Window\n",
    "\n",
    "df_masterCraft = df_masterCraft.withColumn(\"rn\", F.row_number()\n",
    "        .over(Window.partitionBy(\"primary_key\")\n",
    "        .orderBy(F.col(\"last_updated\").desc())))\n",
    "\n",
    "df_masterCraft = df_masterCraft.filter(F.col(\"rn\") == 1).drop(\"rn\")"
   ]
  },
  {
   "cell_type": "code",
   "execution_count": null,
   "metadata": {},
   "outputs": [],
   "source": [
    "df_masterCraft=df_masterCraft.select(['source_system_name','source_system_customer_id','activity_id','activity_date','communication_type','communication_sub_type','value','verification_flag','verification_source','date_reported','last_updated','preference_flag','contactability_json','dnd_flag'])\n"
   ]
  },
  {
   "cell_type": "code",
   "execution_count": null,
   "metadata": {},
   "outputs": [],
   "source": [
    "df_masterCraft = df_masterCraft.filter(~(col(\"value\").isin(['1234567890','9876543210','9999988888','9090909090','9000000000','9900000000'])))\n",
    "df_masterCraft = df_masterCraft.filter(~(lower(trim(col(\"value\"))).isin(['abc@gmail.com','xyz@gmail.com','123@gmail.com','abc@d.com','abcd@gmail.com','null'])))"
   ]
  },
  {
   "cell_type": "code",
   "execution_count": null,
   "metadata": {},
   "outputs": [],
   "source": [
    "df_masterCraft = df_masterCraft.filter(~(col(\"value\").isin(['1234567890','9876543210','9999988888','9090909090','9000000000','9900000000'])))\n",
    "df_masterCraft = df_masterCraft.filter(~(lower(trim(col(\"value\"))).isin(['abc@gmail.com','xyz@gmail.com','123@gmail.com','abc@d.com','abcd@gmail.com','null'])))"
   ]
  },
  {
   "cell_type": "code",
   "execution_count": null,
   "metadata": {},
   "outputs": [],
   "source": [
    "\n",
    "df_masterCraft=df_masterCraft.select(col('source_system_name').cast('string'),col('source_system_customer_id').cast('string'),col('activity_id').cast('string'),col('activity_date').cast('timestamp'),col('communication_type').cast('string'),col('communication_sub_type').cast('string'),col('value').cast('string'),col('verification_flag').cast('string'),col('verification_source').cast('string'),col('date_reported').cast('timestamp'),col('last_updated').cast('timestamp'),col('preference_flag'),col('contactability_json'),col('dnd_flag').cast('int'))\n",
    "\n",
    "df_masterCraft.persist(pyspark.StorageLevel.MEMORY_AND_DISK)\n",
    "records=df_masterCraft.count()\n",
    "records\n"
   ]
  },
  {
   "cell_type": "code",
   "execution_count": null,
   "metadata": {},
   "outputs": [],
   "source": [
    "records"
   ]
  },
  {
   "cell_type": "code",
   "execution_count": null,
   "metadata": {},
   "outputs": [],
   "source": [
    "df_masterCraft.repartition('value')"
   ]
  },
  {
   "cell_type": "code",
   "execution_count": null,
   "metadata": {},
   "outputs": [],
   "source": [
    "df_masterCraft.columns"
   ]
  },
  {
   "cell_type": "code",
   "execution_count": null,
   "metadata": {},
   "outputs": [],
   "source": [
    "condition = [lower(trim(df_masterCraft.value))==lower(trim(agent_no.mobile))]\n",
    "\n",
    "df_masterCraft = df_masterCraft.join(agent_no,condition,how=\"left\")\n",
    "df_masterCraft = df_masterCraft.filter(col('mobile').isNull()).drop(df_masterCraft.mobile)\n",
    "\n",
    "condition = [lower(trim(df_masterCraft.value))==lower(trim(agent_email.txt_email))]\n",
    "\n",
    "df_masterCraft = df_masterCraft.join(agent_email,condition,how=\"left\")\n",
    "df_masterCraft = df_masterCraft.filter(col('txt_email').isNull()).drop(df_masterCraft.txt_email)"
   ]
  },
  {
   "cell_type": "code",
   "execution_count": null,
   "metadata": {},
   "outputs": [],
   "source": [
    "\n",
    "\n",
    "df_masterCraft=df_masterCraft.filter(col('value').isNotNull())"
   ]
  },
  {
   "cell_type": "code",
   "execution_count": null,
   "metadata": {},
   "outputs": [],
   "source": [
    "condition = [lower(trim(df_masterCraft.value))==lower(trim(agent_no.mobile))]\n",
    "\n",
    "df_masterCraft = df_masterCraft.join(agent_no,condition,how=\"left\")\n",
    "df_masterCraft = df_masterCraft.filter(col('mobile').isNull()).drop(df_masterCraft.mobile)\n",
    "\n",
    "condition = [lower(trim(df_masterCraft.value))==lower(trim(agent_email.txt_email))]\n",
    "\n",
    "df_masterCraft = df_masterCraft.join(agent_email,condition,how=\"left\")\n",
    "df_masterCraft = df_masterCraft.filter(col('txt_email').isNull()).drop(df_masterCraft.txt_email)"
   ]
  },
  {
   "cell_type": "code",
   "execution_count": null,
   "metadata": {},
   "outputs": [],
   "source": [
    "df_masterCraft=df_masterCraft.filter(col('value').isNotNull()).filter(col('source_system_customer_id').isNotNull())"
   ]
  },
  {
   "cell_type": "code",
   "execution_count": null,
   "metadata": {},
   "outputs": [],
   "source": [
    "df_masterCraft=df_masterCraft.withColumn('source_system_name', when(col('source_system_name').isNull(), lit('NA')).otherwise(col('source_system_name')))"
   ]
  },
  {
   "cell_type": "code",
   "execution_count": null,
   "metadata": {},
   "outputs": [],
   "source": [
    "df_masterCraft=df_masterCraft.withColumn('contactability_json',lit(None))"
   ]
  },
  {
   "cell_type": "code",
   "execution_count": null,
   "metadata": {},
   "outputs": [],
   "source": [
    "df_masterCraft=df_masterCraft.select('source_system_name', 'source_system_customer_id', 'activity_id', 'activity_date', 'communication_type', 'communication_sub_type', 'value', 'verification_flag', 'verification_source', 'date_reported', 'last_updated', 'preference_flag', col('contactability_json').cast('String'), 'dnd_flag')"
   ]
  },
  {
   "cell_type": "code",
   "execution_count": null,
   "metadata": {},
   "outputs": [],
   "source": [
    "output_index = 'contactability_staging'\n",
    "schema = 'customermart'\n",
    "\n",
    "import sys\n",
    "try:\n",
    "    \n",
    "     df_masterCraft.write.option(\"truncate\", \"true\").format(\"greenplum\")\\\n",
    "    .option(\"dbtable\",output_index).option('dbschema',schema)\\\n",
    "    .option(\"server.port\",\"1150-1170\").option(\"url\",prod_url)\\\n",
    "    .option(\"user\", user_prod).option(\"password\",pwd_prod).mode('overwrite').save()\n",
    "    \n",
    "    \n",
    "except Exception as e:\n",
    "    x = e\n",
    "    print(x)\n",
    "else:\n",
    "    x = 'success'\n",
    "    print(x)"
   ]
  },
  {
   "cell_type": "code",
   "execution_count": null,
   "metadata": {},
   "outputs": [],
   "source": [
    "table_name='contactability'\n",
    "source='MASTERCRAFT_CORP'\n",
    "# table_name=\"contactability\"\n",
    "conn_prod = psycopg2.connect(host=prod_host, port=prod_port, user=user_prod, password=pwd_prod, dbname=prod_dbname)\n",
    "conn_to=conn_prod\n",
    "status=''\n",
    "\n",
    "import sys\n",
    "try:\n",
    "    update(conn_to,table_name,prod_gpdb_spark_options, schema=\"customermart\")\n",
    "except Exception as e:\n",
    "    x = e\n",
    "    print(x)\n",
    "    status='Failed'\n",
    "else:\n",
    "    x = 'success'\n",
    "    print(x)\n",
    "    status='Success'\n"
   ]
  },
  {
   "cell_type": "code",
   "execution_count": null,
   "metadata": {},
   "outputs": [],
   "source": [
    "# table_name=\"contactability\"\n",
    "# source = \"mastercraft\"\n",
    "# conn_prod = psycopg2.connect(host=prod_host, port=prod_port, user=user_prod, password=pwd_prod, dbname=prod_dbname)\n",
    "# conn_to=conn_prod\n",
    "\n",
    "# update(conn_to,table_name,source,prod_gpdb_spark_options, schema=\"customermart\")"
   ]
  },
  {
   "cell_type": "code",
   "execution_count": null,
   "metadata": {},
   "outputs": [],
   "source": [
    "table_name='contactability'\n",
    "source='MASTERCRAFT_CORP'"
   ]
  },
  {
   "cell_type": "code",
   "execution_count": null,
   "metadata": {
    "scrolled": true
   },
   "outputs": [],
   "source": [
    "update_progress(table_name,source,time_filter,records,start_time,starttime,status)"
   ]
  },
  {
   "cell_type": "code",
   "execution_count": null,
   "metadata": {
    "scrolled": false
   },
   "outputs": [],
   "source": [
    "df_masterCraft.unpersist()\n",
    "contact.unpersist()"
   ]
  },
  {
   "cell_type": "markdown",
   "metadata": {},
   "source": [
    "# OCRM has been commented as data no longer flowing"
   ]
  },
  {
   "cell_type": "code",
   "execution_count": null,
   "metadata": {},
   "outputs": [],
   "source": [
    "# starttime = time.time()\n",
    "# start_time = datetime.datetime.now(pytz.timezone('Asia/Kolkata')).strftime(\"%Y-%m-%d %H:%M:%S.%f\")\n",
    "# start_time"
   ]
  },
  {
   "cell_type": "code",
   "execution_count": null,
   "metadata": {},
   "outputs": [],
   "source": [
    "# table_name='contactability'\n",
    "# source='OCRM RPC'"
   ]
  },
  {
   "cell_type": "code",
   "execution_count": null,
   "metadata": {},
   "outputs": [],
   "source": [
    "# latest_progress=get_latest_progress(table_name,source)\n",
    "# # dates in string format\n",
    "# str_d1 = latest_progress.strftime(\"%Y-%m-%d\")\n",
    "# str_d2 = datetime.datetime.now(pytz.timezone('Asia/Kolkata')).strftime(\"%Y-%m-%d\")\n",
    "\n",
    "# # convert string to date object\n",
    "# d1 = datetime.datetime.strptime(str_d1, \"%Y-%m-%d\")\n",
    "# d2 = datetime.datetime.strptime(str_d2, \"%Y-%m-%d\")\n",
    "\n",
    "# # difference between dates in timedelta\n",
    "# delta = d2 - d1\n",
    "# day=delta.days-1#currently T-2 change 2 to 1 for T-1\n",
    "\n",
    "# time_filter={'start_date':latest_progress,'end_date':latest_progress+datetime.timedelta(days=day)}\n",
    "# time_filter"
   ]
  },
  {
   "cell_type": "code",
   "execution_count": null,
   "metadata": {},
   "outputs": [],
   "source": [
    "# Import necessary libraries\n",
    "from pyspark.sql import SparkSession\n",
    "from pyspark.sql.types import *\n",
    "\n",
    "# Create a spark session\n",
    "spark = SparkSession.builder.appName('Contactability_Dataframe').getOrCreate()\n",
    "\n",
    "# Create an empty RDD\n",
    "emp_RDD = spark.sparkContext.emptyRDD()\n",
    "\n",
    "# Create an expected schema\n",
    "columns = StructType([StructField('Source_customer_id',StringType(), True),\\\n",
    "                      StructField('Policy_no',StringType(), True),\\\n",
    "                      StructField('value',StringType(), True),\\\n",
    "                      StructField('verification_source',StringType(), True),\\\n",
    "                      StructField('date_reported',StringType(), True),\\\n",
    "                      StructField('last_updated',StringType(), True)])\n",
    "\n",
    "# Create an empty RDD with expected schema\n",
    "contactability_df = spark.createDataFrame(data = emp_RDD, schema = columns)\n",
    "\n",
    "# Print the dataframe\n",
    "print('Dataframe created successfully')\n",
    "# contactability_df.show() "
   ]
  },
  {
   "cell_type": "code",
   "execution_count": null,
   "metadata": {},
   "outputs": [],
   "source": [
    "# # Get the Contact information from OCRM Table # 2017-21\n",
    "\n",
    "# gscPythonOptions = {\n",
    "# \"url\": \"jdbc:postgresql://10.35.12.194:5432/gpadmin\",\n",
    "# \"user\": \"gpspark\",\n",
    "# \"password\": \"spark@456\",\n",
    "# \"dbschema\": \"public\",\n",
    "# \"dbtable\": \"marketing_ocrm_mph_motor_renewal\"}\n",
    "\n",
    "# ocrm_rpc = sqlContext.read.format(\"jdbc\").options(**gscPythonOptions).load()\\\n",
    "# .select('policy_no','right_party_contact_number','email_id','deleted','date_entered','date_modified')\\\n",
    "# .filter((col('right_party_contact_number').isNotNull())\\\n",
    "#         & (col('policy_no').isNotNull())\\\n",
    "#         & (col('deleted')=='FALSE')).drop(col('deleted'))\\\n",
    "# .filter(col('date_modified').between(to_timestamp(lit(time_filter['start_date']),\n",
    "#                                                                  format='yyyy-MM-dd'),\n",
    "#                                                     to_timestamp(lit(time_filter['end_date']),\n",
    "#                                                                  format='yyyy-MM-dd')))\n",
    "\n"
   ]
  },
  {
   "cell_type": "code",
   "execution_count": null,
   "metadata": {},
   "outputs": [],
   "source": [
    "# ocrm_rpc = ocrm_rpc.withColumn('source', lit('OCRM RPC'))\n",
    "# ocrm_rpc = ocrm_rpc.select(['policy_no', 'right_party_contact_number','email_id', 'source', 'date_entered', 'date_modified'])\n",
    "# ocrm_rpc_phone = ocrm_rpc.select(['policy_no', 'right_party_contact_number','source', \\\n",
    "#                                               'date_entered', 'date_modified'])\n",
    "# ocrm_rpc_email = ocrm_rpc.select(['policy_no', 'email_id','source', \\\n",
    "#                                               'date_entered', 'date_modified'])\n",
    "# # ocrm_rpc.columns"
   ]
  },
  {
   "cell_type": "code",
   "execution_count": null,
   "metadata": {},
   "outputs": [],
   "source": [
    "# Fetching premium_register Data to get the Policy_no (Will be used to connect with other Tables)\n",
    "\n",
    "gscPythonOptions = {\n",
    "         \"url\": \"jdbc:postgresql://10.35.12.194:5432/gpadmin\",\"user\": \"gpspark\",\"password\": \"spark@456\",\n",
    "         \"dbschema\": \"registers\",\"dbtable\": \"premium_register\",\n",
    "         \"partitionColumn\":\"row_num\",\"partitions\":16,\n",
    "         \"server.port\":\"1150-1170\"}\n",
    "\n",
    "prem_reg = sqlContext.read.format(\"greenplum\").options(**gscPythonOptions).load()\\\n",
    ".select('customer_id','POLICY_NO','product_cd','num_reference_no','certificate_no')"
   ]
  },
  {
   "cell_type": "code",
   "execution_count": null,
   "metadata": {},
   "outputs": [],
   "source": [
    "\n",
    "\n",
    "# Fetching only latest entries w.r.t POLICY_NO and NUM_REFERENCE_NO\n",
    "\n",
    "prem_reg.createOrReplaceTempView('prem_reg_table')\n",
    "\n",
    "query1 = \"\"\"select a.* from (select *, row_number() \n",
    "over (partition by POLICY_NO order by num_reference_no desc) rn \n",
    "from prem_reg_table) a where rn = 1\"\"\"\n",
    "\n",
    "prem_reg = sqlContext.sql(query1)\n",
    "sqlContext.dropTempTable('prem_reg_table')\n",
    "\n",
    "prem_reg = prem_reg.drop(prem_reg.product_cd).drop(prem_reg.num_reference_no).drop(prem_reg.certificate_no).drop(prem_reg.rn)"
   ]
  },
  {
   "cell_type": "code",
   "execution_count": null,
   "metadata": {},
   "outputs": [],
   "source": [
    "# # Join OCRM Table with Premium Register Table\n",
    "# prem_reg\n",
    "# ocrm_prem_reg_phone = ocrm_rpc_phone.join(prem_reg, ocrm_rpc_phone.policy_no == prem_reg.POLICY_NO, 'left').\\\n",
    "# drop(prem_reg.POLICY_NO)\n",
    "# # .drop(prem_reg.product_cd).drop(prem_reg.num_reference_no).drop(prem_reg.certificate_no)"
   ]
  },
  {
   "cell_type": "code",
   "execution_count": null,
   "metadata": {},
   "outputs": [],
   "source": [
    "# ocrm_prem_reg_phone.columns"
   ]
  },
  {
   "cell_type": "code",
   "execution_count": null,
   "metadata": {},
   "outputs": [],
   "source": [
    "# ocrm_prem_email = ocrm_rpc_email.join(prem_reg, ocrm_rpc_email.policy_no == prem_reg.POLICY_NO, 'left').\\\n",
    "# drop(prem_reg.POLICY_NO)"
   ]
  },
  {
   "cell_type": "code",
   "execution_count": null,
   "metadata": {},
   "outputs": [],
   "source": [
    "# ocrm_prem_email.columns"
   ]
  },
  {
   "cell_type": "code",
   "execution_count": null,
   "metadata": {},
   "outputs": [],
   "source": [
    "# ocrm_prem_reg_phone = ocrm_prem_reg_phone.select([ 'customer_id','policy_no', 'right_party_contact_number', 'source', 'date_entered', 'date_modified'])\n",
    "# ocrm_prem_email = ocrm_prem_email.select([ 'customer_id','policy_no', 'email_id', 'source', 'date_entered', 'date_modified'])"
   ]
  },
  {
   "cell_type": "code",
   "execution_count": null,
   "metadata": {},
   "outputs": [],
   "source": [
    "# Merging OCRM Data with Empty df Created with Defined Schema (Cust 360-Contactability Mart)\n",
    "\n",
    "# ocrm_rpc_prem_reg_1= ocrm_prem_reg_phone.unionAll(ocrm_prem_email)\n",
    "# ocrm_rpc_prem_reg=contactability_df.unionAll(ocrm_rpc_prem_reg_1)"
   ]
  },
  {
   "cell_type": "code",
   "execution_count": null,
   "metadata": {},
   "outputs": [],
   "source": [
    "# ocrm_prem_reg_phone=ocrm_prem_reg_phone.withColumn('activity_id', hash(col('right_party_contact_number')))\n",
    "# ocrm_prem_reg_phone=ocrm_prem_reg_phone.withColumn('verification_flag',(lit('Y')))\n",
    "# ocrm_prem_reg_phone=ocrm_prem_reg_phone.withColumn('verification_source',(col('source')))\n",
    "# # ocrm_rpc_prem_reg=ocrm_rpc_prem_reg.withColumn('value', col('value'))\n",
    "# ocrm_prem_reg_phone=ocrm_prem_reg_phone.withColumn('value',when(col('right_party_contact_number').rlike(\"^(?:(?:\\+|0{0,2})91(\\s*[\\-]\\s*)?|[0]?)?[6-9]\\d{9}$\"),col('right_party_contact_number'))\n",
    "#                                  .otherwise(lit(None)))\n",
    "# ocrm_prem_reg_phone=ocrm_prem_reg_phone.withColumn('value',when(col('right_party_contact_number').rlike(\"^(?!(\\d)\\1{8})\\d{10}$\"),col('right_party_contact_number'))\n",
    "#                                  .otherwise(lit(None)))\n",
    "# ocrm_prem_reg_phone=ocrm_prem_reg_phone.withColumn('dnd_flag', lit(None))\n",
    "# ocrm_prem_reg_phone=ocrm_prem_reg_phone.withColumn('communication_type', lit('phone'))\n",
    "# ocrm_prem_reg_phone=ocrm_prem_reg_phone.withColumn('communication_sub_type', lit('mobile'))\n",
    "# ocrm_prem_reg_phone=ocrm_prem_reg_phone.withColumn('source_system_customer_id',(col('customer_id')))\n",
    "# ocrm_prem_reg_phone=ocrm_prem_reg_phone.withColumn('contactability_json', lit(None))\n",
    "# ocrm_prem_reg_phone=ocrm_prem_reg_phone.withColumn('preference_flag', lit(None))\n",
    "# ocrm_prem_reg_phone=ocrm_prem_reg_phone.withColumn('date_reported', col('date_entered'))\n",
    "# ocrm_prem_reg_phone=ocrm_prem_reg_phone.withColumn('last_updated', col('date_modified'))\n",
    "# ocrm_prem_reg_phone=ocrm_prem_reg_phone.withColumn('activity_date', col('date_modified'))\n",
    "# ocrm_prem_reg_phone=ocrm_prem_reg_phone.withColumn('source_system_name', col('verification_source'))\n",
    "# ocrm_prem_reg_phone=ocrm_prem_reg_phone.withColumn('primary_key', concat_ws('',trim(col('verification_source')),trim(col('source_system_customer_id')), trim(col('activity_id'))))"
   ]
  },
  {
   "cell_type": "code",
   "execution_count": null,
   "metadata": {},
   "outputs": [],
   "source": [
    "# ocrm_prem_email=ocrm_prem_email.withColumn('activity_id', hash(col('email_id')))\n",
    "# ocrm_prem_email=ocrm_prem_email.withColumn('verification_flag',(lit('Y')))\n",
    "# ocrm_prem_email=ocrm_prem_email.withColumn('verification_source',(col('source')))\n",
    "# # ocrm_rpc_prem_reg=ocrm_rpc_prem_reg.withColumn('value', col('value'))\n",
    "\n",
    "# ocrm_prem_email=ocrm_prem_email.withColumn('value',col('email_id'))\n",
    "\n",
    "# ocrm_prem_email = ocrm_prem_email.filter(~(lower(col(\"value\")).contains(\"abc@\")))\\\n",
    "# .filter(~(lower(col(\"value\")).contains(\"xyz@\")))\\\n",
    "# .filter(~(lower(col(\"value\")).contains(\"1234@\")))\\\n",
    "# .filter(~(lower(col(\"value\")).contains(\"null@\")))\\\n",
    "# .filter(~(lower(col(\"value\")).contains(\"na@\")))\\\n",
    "# .filter(~(lower(col(\"value\")).contains(\"00@\")))\n",
    "# ocrm_prem_email=ocrm_prem_email.withColumn('dnd_flag', lit(None))\n",
    "# ocrm_prem_email=ocrm_prem_email.withColumn('communication_type', lit('email'))\n",
    "# ocrm_prem_email=ocrm_prem_email.withColumn('communication_sub_type', lit('email'))\n",
    "# ocrm_prem_email=ocrm_prem_email.withColumn('source_system_customer_id',(col('customer_id')))\n",
    "# ocrm_prem_email=ocrm_prem_email.withColumn('contactability_json', lit(None))\n",
    "# ocrm_prem_email=ocrm_prem_email.withColumn('preference_flag', lit(None))\n",
    "# ocrm_prem_email=ocrm_prem_email.withColumn('date_reported', col('date_entered'))\n",
    "# ocrm_prem_email=ocrm_prem_email.withColumn('last_updated', col('date_modified'))\n",
    "# ocrm_prem_email=ocrm_prem_email.withColumn('activity_date', col('date_modified'))\n",
    "# ocrm_prem_email=ocrm_prem_email.withColumn('source_system_name', col('verification_source'))\n",
    "# ocrm_prem_email=ocrm_prem_email.withColumn('primary_key', concat_ws('',trim(col('verification_source')),trim(col('source_system_customer_id')), trim(col('activity_id'))))"
   ]
  },
  {
   "cell_type": "code",
   "execution_count": null,
   "metadata": {},
   "outputs": [],
   "source": [
    "# ocrm_prem_reg_phone=ocrm_prem_reg_phone.select('activity_id', 'verification_flag', 'verification_source', 'value', 'dnd_flag', 'communication_type', 'communication_sub_type', 'source_system_customer_id', 'contactability_json', 'preference_flag', 'date_reported', 'last_updated', 'activity_date', 'source_system_name', 'primary_key')\n",
    "# ocrm_prem_email=ocrm_prem_email.select('activity_id', 'verification_flag', 'verification_source', 'value', 'dnd_flag', 'communication_type', 'communication_sub_type', 'source_system_customer_id', 'contactability_json', 'preference_flag', 'date_reported', 'last_updated', 'activity_date', 'source_system_name', 'primary_key')"
   ]
  },
  {
   "cell_type": "code",
   "execution_count": null,
   "metadata": {},
   "outputs": [],
   "source": [
    "# ocrm_rpc_prem_reg= ocrm_prem_reg_phone.unionAll(ocrm_prem_email)\n",
    "# ocrm_rpc_prem_reg.columns"
   ]
  },
  {
   "cell_type": "code",
   "execution_count": null,
   "metadata": {},
   "outputs": [],
   "source": [
    "# from pyspark.sql.window import Window\n",
    "\n",
    "# ocrm_rpc_prem_reg = ocrm_rpc_prem_reg.withColumn(\"rn\", F.row_number()\n",
    "#         .over(Window.partitionBy(\"primary_key\")\n",
    "#         .orderBy(F.col(\"last_updated\").desc())))\n",
    "\n",
    "# ocrm_rpc_prem_reg = ocrm_rpc_prem_reg.filter(F.col(\"rn\") == 1).drop(\"rn\")"
   ]
  },
  {
   "cell_type": "code",
   "execution_count": null,
   "metadata": {},
   "outputs": [],
   "source": [
    "# ocrm_rpc_prem_reg = ocrm_rpc_prem_reg.filter(~(col(\"value\").isin(['1234567890','9876543210','9999988888','9090909090'])))\n",
    "# ocrm_rpc_prem_reg = ocrm_rpc_prem_reg.filter(~(lower(trim(col(\"value\"))).isin(['abc@gmail.com','xyz@gmail.com','123@gmail.com','abc@d.com','abcd@gmail.com'])))"
   ]
  },
  {
   "cell_type": "code",
   "execution_count": null,
   "metadata": {},
   "outputs": [],
   "source": [
    "# ocrm_rpc_prem_reg=ocrm_rpc_prem_reg.filter(F.col(\"source_system_customer_id\").isNotNull()).filter(col('value').isNotNull())"
   ]
  },
  {
   "cell_type": "code",
   "execution_count": null,
   "metadata": {},
   "outputs": [],
   "source": [
    "# ocrm_rpc_prem_reg.persist(pyspark.StorageLevel.MEMORY_AND_DISK)\n",
    "# records=ocrm_rpc_prem_reg.count()\n",
    "# records"
   ]
  },
  {
   "cell_type": "code",
   "execution_count": null,
   "metadata": {},
   "outputs": [],
   "source": [
    "# ocrm_rpc_prem_reg=ocrm_rpc_prem_reg.repartition('value')"
   ]
  },
  {
   "cell_type": "code",
   "execution_count": null,
   "metadata": {},
   "outputs": [],
   "source": [
    "# condition = [lower(trim(ocrm_rpc_prem_reg.value))==lower(trim(agent_no.mobile))]\n",
    "\n",
    "# ocrm_rpc_prem_reg = ocrm_rpc_prem_reg.join(agent_no,condition,how=\"left\")\n",
    "# ocrm_rpc_prem_reg = ocrm_rpc_prem_reg.filter(col('mobile').isNull()).drop(ocrm_rpc_prem_reg.mobile)\n",
    "\n",
    "# condition = [lower(trim(ocrm_rpc_prem_reg.value))==lower(trim(agent_email.txt_email))]\n",
    "\n",
    "# ocrm_rpc_prem_reg = ocrm_rpc_prem_reg.join(agent_email,condition,how=\"left\")\n",
    "# ocrm_rpc_prem_reg = ocrm_rpc_prem_reg.filter(col('txt_email').isNull()).drop(ocrm_rpc_prem_reg.txt_email)"
   ]
  },
  {
   "cell_type": "code",
   "execution_count": null,
   "metadata": {},
   "outputs": [],
   "source": [
    "# output_index = 'contactability_staging'\n",
    "# schema = 'customermart'\n",
    "\n",
    "# import sys\n",
    "# try:\n",
    "    \n",
    "#      ocrm_rpc_prem_reg.write.option(\"truncate\", \"true\").format(\"greenplum\")\\\n",
    "#     .option(\"dbtable\",output_index).option('dbschema',schema)\\\n",
    "#     .option(\"server.port\",\"1150-1170\").option(\"url\",prod_url)\\\n",
    "#     .option(\"user\", user_prod).option(\"password\",pwd_prod).mode('overwrite').save()\n",
    "    \n",
    "    \n",
    "# except Exception as e:\n",
    "#     x = e\n",
    "#     print(x)\n",
    "# else:\n",
    "#     x = 'success'\n",
    "#     print(x)"
   ]
  },
  {
   "cell_type": "code",
   "execution_count": null,
   "metadata": {},
   "outputs": [],
   "source": [
    "# table_name=\"contactability\"\n",
    "# conn_prod = psycopg2.connect(host=prod_host, port=prod_port, user=user_prod, password=pwd_prod, dbname=prod_dbname)\n",
    "# conn_to=conn_prod\n",
    "# status=''\n",
    "\n",
    "# import sys\n",
    "# try:\n",
    "#     update(conn_to,table_name,prod_gpdb_spark_options, schema=\"customermart\")\n",
    "# except Exception as e:\n",
    "#     x = e\n",
    "#     print(x)\n",
    "#     status='Failed'\n",
    "# else:\n",
    "#     x = 'success'\n",
    "#     print(x)\n",
    "#     status='Success'\n"
   ]
  },
  {
   "cell_type": "code",
   "execution_count": null,
   "metadata": {
    "scrolled": true
   },
   "outputs": [],
   "source": [
    "# update_progress(table_name,source,time_filter,records,start_time,starttime,status)"
   ]
  },
  {
   "cell_type": "code",
   "execution_count": null,
   "metadata": {},
   "outputs": [],
   "source": [
    "# ocrm_rpc_prem_reg.unpersist()"
   ]
  },
  {
   "cell_type": "markdown",
   "metadata": {},
   "source": [
    "# ICAN/EZEST"
   ]
  },
  {
   "cell_type": "code",
   "execution_count": null,
   "metadata": {},
   "outputs": [],
   "source": [
    "starttime = time.time()\n",
    "start_time = datetime.datetime.now(pytz.timezone('Asia/Kolkata')).strftime(\"%Y-%m-%d %H:%M:%S.%f\")\n",
    "start_time"
   ]
  },
  {
   "cell_type": "code",
   "execution_count": null,
   "metadata": {},
   "outputs": [],
   "source": [
    "table_name='contactability'\n",
    "source='ICAN/EZEST'"
   ]
  },
  {
   "cell_type": "code",
   "execution_count": null,
   "metadata": {},
   "outputs": [],
   "source": [
    "latest_progress=get_latest_progress(table_name,source)\n",
    "# dates in string format\n",
    "str_d1 = latest_progress.strftime(\"%Y-%m-%d\")\n",
    "str_d2 = datetime.datetime.now(pytz.timezone('Asia/Kolkata')).strftime(\"%Y-%m-%d\")\n",
    "\n",
    "# convert string to date object\n",
    "d1 = datetime.datetime.strptime(str_d1, \"%Y-%m-%d\")\n",
    "d2 = datetime.datetime.strptime(str_d2, \"%Y-%m-%d\")\n",
    "\n",
    "# difference between dates in timedelta\n",
    "delta = d2 - d1\n",
    "day=delta.days-1#currently T-2 change 2 to 1 for T-1\n",
    "\n",
    "time_filter={'start_date':latest_progress,'end_date':latest_progress+datetime.timedelta(days=day)}\n",
    "time_filter"
   ]
  },
  {
   "cell_type": "code",
   "execution_count": null,
   "metadata": {},
   "outputs": [],
   "source": [
    "# Get the contact information from ICAN/Ezest Table\n",
    "#ICAN / Ezest --> Load \"claim_bpm_callerdetails\" Table from the data lake\n",
    "gscPythonOptions = {\n",
    "         \"url\": \"jdbc:postgresql://10.35.12.194:5432/gpadmin\",\"user\": \"gpspark\",\"password\": \"spark@456\",\n",
    "         \"dbschema\": \"public\",\"dbtable\": \"claim_bpm_callerdetails\",\n",
    "         \"partitionColumn\":\"row_num\",\"partitions\":16,\n",
    "         \"server.port\":\"1150-1170\"}\n",
    "\n",
    "ican_caller_detais = sqlContext.read.format(\"greenplum\").options(**gscPythonOptions).load()\\\n",
    ".select('insuredmobilenumber','featuresummaryid','calleremailid','createdon','lastmodifiedon')\\\n",
    ".filter(col('lastmodifiedon').between(to_timestamp(lit(time_filter['start_date']),\n",
    "                                                                 format='yyyy-MM-dd'),\n",
    "                                                    to_timestamp(lit(time_filter['end_date']),\n",
    "                                                                 format='yyyy-MM-dd')))\n",
    "#==========================================================================================================================\n",
    "#ICAN / Ezest --> Load \"claim_bpm_policydetails\" Table from the data lake\n",
    "gscPythonOptions = {\n",
    "    \n",
    "         \"url\": \"jdbc:postgresql://10.35.12.194:5432/gpadmin\",\"user\": \"gpspark\",\"password\": \"spark@456\",\n",
    "         \"dbschema\": \"public\",\"dbtable\": \"claim_bpm_policydetails\",\n",
    "         \"partitionColumn\":\"row_num\",\"partitions\":16,\n",
    "         \"server.port\":\"1150-1170\"}\n",
    "\n",
    "ican_policy_details =sqlContext.read.format(\"greenplum\").options(**gscPythonOptions).load()\\\n",
    ".select('featuresummaryid','txt_policy_no_char')"
   ]
  },
  {
   "cell_type": "code",
   "execution_count": null,
   "metadata": {},
   "outputs": [],
   "source": [
    "#Join above ICAN / Ezest tables on \"featuresummaryid\"\n",
    "condition = [(ican_caller_detais.featuresummaryid == ican_policy_details.featuresummaryid)]\n",
    "\n",
    "ican_caller_policy_details = ican_caller_detais.join(ican_policy_details, condition, 'left').\\\n",
    "drop(ican_policy_details.featuresummaryid).drop(ican_caller_detais.featuresummaryid)"
   ]
  },
  {
   "cell_type": "code",
   "execution_count": null,
   "metadata": {},
   "outputs": [],
   "source": [
    "# Joining ICAN Table with Premium Register to get the Customer_ID\n",
    "condition = [(ican_caller_policy_details.txt_policy_no_char == prem_reg.POLICY_NO)]\n",
    "ican_prem_reg = ican_caller_policy_details.join(prem_reg, condition, 'left').drop(prem_reg.POLICY_NO)"
   ]
  },
  {
   "cell_type": "code",
   "execution_count": null,
   "metadata": {},
   "outputs": [],
   "source": [
    "ican_prem_reg.columns"
   ]
  },
  {
   "cell_type": "code",
   "execution_count": null,
   "metadata": {},
   "outputs": [],
   "source": [
    "# Creating new column 'source' with default value ICAN/Ezest\n",
    "\n",
    "ican_prem_reg = ican_prem_reg.withColumn('source', lit('ICAN/EZEST'))\n",
    "ican_df = ican_prem_reg.select(['customer_id', 'txt_policy_no_char', 'insuredmobilenumber', 'source', 'createdon', 'lastmodifiedon'])\n",
    "ican_df_email = ican_prem_reg.select(['customer_id', 'txt_policy_no_char', 'calleremailid', 'source', 'createdon', 'lastmodifiedon'])"
   ]
  },
  {
   "cell_type": "code",
   "execution_count": null,
   "metadata": {},
   "outputs": [],
   "source": [
    "# Merging OCRM RCP and ICAM Tables\n",
    "#ican_df = contactability_df.unionAll(ican_prem_reg)"
   ]
  },
  {
   "cell_type": "code",
   "execution_count": null,
   "metadata": {},
   "outputs": [],
   "source": [
    "ican_df=ican_df.withColumn('activity_id', hash(col('insuredmobilenumber')))\n",
    "ican_df=ican_df.withColumn('verification_flag',(lit('G')))\n",
    "ican_df=ican_df.withColumn('verification_source',(col('source')))\n",
    "# ican_df=ican_df.withColumn('value', col('value'))\n",
    "ican_df=ican_df.withColumn('value',when(col('insuredmobilenumber').rlike(\"^(?:(?:\\+|0{0,2})91(\\s*[\\-]\\s*)?|[0]?)?[6-9]\\d{9}$\"),col('insuredmobilenumber'))\n",
    "                                 .otherwise(lit(None)))\n",
    "ican_df = ican_df.withColumn(\"value\", when((length(col(\"value\")) == 12),\n",
    "                                               regexp_replace(col(\"value\"), \"^91\", \"\")).otherwise(lit(col(\"value\"))))\n",
    "\n",
    "ican_df = ican_df.withColumn(\"value\", when((length(col(\"value\")) == 11),\n",
    "                                               regexp_replace(col(\"value\"), \"^0\", \"\")).otherwise(lit(col(\"value\"))))\n",
    "\n",
    "ican_df=ican_df.withColumn('value',when(col('value').rlike(\"^(?!(\\d)\\1{8})\\d{10}$\"),col('value'))\n",
    "                                 .otherwise(lit(None)))\n",
    "ican_df=ican_df.withColumn('dnd_flag', lit(None))\n",
    "ican_df=ican_df.withColumn('communication_type', lit('phone'))\n",
    "ican_df=ican_df.withColumn('communication_sub_type', lit('mobile'))\n",
    "ican_df=ican_df.withColumn('source_system_customer_id',(col('customer_id')))\n",
    "ican_df=ican_df.withColumn('contactability_json', lit(None))\n",
    "ican_df=ican_df.withColumn('preference_flag', lit(None))\n",
    "ican_df=ican_df.withColumn('date_reported', col('createdon'))\n",
    "ican_df=ican_df.withColumn('last_updated', col('lastmodifiedon'))\n",
    "ican_df=ican_df.withColumn('activity_date', col('lastmodifiedon'))\n",
    "ican_df=ican_df.withColumn('source_system_name', col('verification_source'))\n",
    "ican_df=ican_df.withColumn('primary_key', concat_ws('',trim(col('verification_source')),trim(col('source_system_customer_id')), trim(col('activity_id'))))"
   ]
  },
  {
   "cell_type": "code",
   "execution_count": null,
   "metadata": {},
   "outputs": [],
   "source": [
    "ican_df_email=ican_df_email.withColumn('activity_id', hash(col('calleremailid')))\n",
    "ican_df_email=ican_df_email.withColumn('verification_flag',(lit('G')))\n",
    "ican_df_email=ican_df_email.withColumn('verification_source',(col('source')))\n",
    "# ican_df=ican_df.withColumn('value', col('value'))\n",
    "ican_df_email=ican_df_email.withColumn('value',col('calleremailid'))\n",
    "\n",
    "ican_df_email = ican_df_email.filter(~(lower(col(\"value\")).contains(\"abc@\")))\\\n",
    ".filter(~(lower(col(\"value\")).contains(\"xyz@\")))\\\n",
    ".filter(~(lower(col(\"value\")).contains(\"1234@\")))\\\n",
    ".filter(~(lower(col(\"value\")).contains(\"null@\")))\\\n",
    ".filter(~(lower(col(\"value\")).contains(\"na@\")))\\\n",
    ".filter(~(lower(col(\"value\")).contains(\"00@\")))\n",
    "ican_df_email=ican_df_email.withColumn('dnd_flag', lit(None))\n",
    "ican_df_email=ican_df_email.withColumn('communication_type', lit('email'))\n",
    "ican_df_email=ican_df_email.withColumn('communication_sub_type', lit('email'))\n",
    "ican_df_email=ican_df_email.withColumn('source_system_customer_id',(col('customer_id')))\n",
    "ican_df_email=ican_df_email.withColumn('contactability_json', lit(None))\n",
    "ican_df_email=ican_df_email.withColumn('preference_flag', lit(None))\n",
    "ican_df_email=ican_df_email.withColumn('date_reported', col('createdon'))\n",
    "ican_df_email=ican_df_email.withColumn('last_updated', col('lastmodifiedon'))\n",
    "ican_df_email=ican_df_email.withColumn('activity_date', col('lastmodifiedon'))\n",
    "ican_df_email=ican_df_email.withColumn('source_system_name', col('verification_source'))\n",
    "ican_df_email=ican_df_email.withColumn('primary_key', concat_ws('',trim(col('verification_source')),trim(col('source_system_customer_id')), trim(col('activity_id'))))"
   ]
  },
  {
   "cell_type": "code",
   "execution_count": null,
   "metadata": {},
   "outputs": [],
   "source": [
    "ican_df = ican_df.unionAll(ican_df_email)\n"
   ]
  },
  {
   "cell_type": "code",
   "execution_count": null,
   "metadata": {},
   "outputs": [],
   "source": [
    "from pyspark.sql.window import Window\n",
    "\n",
    "ican_df = ican_df.withColumn(\"rn\", F.row_number()\n",
    "        .over(Window.partitionBy(\"primary_key\")\n",
    "        .orderBy(F.col(\"last_updated\").desc())))\n",
    "\n",
    "ican_df = ican_df.filter(F.col(\"rn\") == 1).drop(\"rn\")"
   ]
  },
  {
   "cell_type": "code",
   "execution_count": null,
   "metadata": {},
   "outputs": [],
   "source": [
    "ican_df = ican_df.filter(~(col(\"value\").isin(['1234567890','9876543210','9999988888','9090909090'])))\n",
    "ican_df=ican_df.filter(F.col(\"source_system_customer_id\").isNotNull()).filter(F.col(\"value\").isNotNull())"
   ]
  },
  {
   "cell_type": "code",
   "execution_count": null,
   "metadata": {},
   "outputs": [],
   "source": [
    "ican_df.persist(pyspark.StorageLevel.MEMORY_AND_DISK)\n",
    "records=ican_df.count()\n",
    "records"
   ]
  },
  {
   "cell_type": "code",
   "execution_count": null,
   "metadata": {},
   "outputs": [],
   "source": [
    "condition = [lower(trim(ican_df.value))==lower(trim(agent_no.mobile))]\n",
    "\n",
    "ican_df = ican_df.join(agent_no,condition,how=\"left\")\n",
    "ican_df = ican_df.filter(col('mobile').isNull()).drop(ican_df.mobile)\n",
    "\n",
    "condition = [lower(trim(ican_df.value))==lower(trim(agent_email.txt_email))]\n",
    "\n",
    "ican_df = ican_df.join(agent_email,condition,how=\"left\")\n",
    "ican_df = ican_df.filter(col('txt_email').isNull()).drop(ican_df.txt_email)"
   ]
  },
  {
   "cell_type": "code",
   "execution_count": null,
   "metadata": {},
   "outputs": [],
   "source": [
    "output_index = 'contactability_staging'\n",
    "schema = 'customermart'\n",
    "\n",
    "import sys\n",
    "try:\n",
    "    \n",
    "     ican_df.write.option(\"truncate\", \"true\").format(\"greenplum\")\\\n",
    "    .option(\"dbtable\",output_index).option('dbschema',schema)\\\n",
    "    .option(\"server.port\",\"1150-1170\").option(\"url\",prod_url)\\\n",
    "    .option(\"user\", user_prod).option(\"password\",pwd_prod).mode('overwrite').save()\n",
    "    \n",
    "    \n",
    "except Exception as e:\n",
    "    x = e\n",
    "    print(x)\n",
    "else:\n",
    "    x = 'success'\n",
    "    print(x)"
   ]
  },
  {
   "cell_type": "code",
   "execution_count": null,
   "metadata": {},
   "outputs": [],
   "source": [
    "table_name=\"contactability\"\n",
    "conn_prod = psycopg2.connect(host=prod_host, port=prod_port, user=user_prod, password=pwd_prod, dbname=prod_dbname)\n",
    "conn_to=conn_prod\n",
    "status=''\n",
    "\n",
    "import sys\n",
    "try:\n",
    "    update(conn_to,table_name,prod_gpdb_spark_options, schema=\"customermart\")\n",
    "except Exception as e:\n",
    "    x = e\n",
    "    print(x)\n",
    "    status='Failed'\n",
    "else:\n",
    "    x = 'success'\n",
    "    print(x)\n",
    "    status='Success'\n"
   ]
  },
  {
   "cell_type": "code",
   "execution_count": null,
   "metadata": {},
   "outputs": [],
   "source": [
    "status"
   ]
  },
  {
   "cell_type": "code",
   "execution_count": null,
   "metadata": {},
   "outputs": [],
   "source": [
    "update_progress(table_name,source,time_filter,records,start_time,starttime,status)"
   ]
  },
  {
   "cell_type": "code",
   "execution_count": null,
   "metadata": {},
   "outputs": [],
   "source": [
    "ican_df.unpersist()"
   ]
  },
  {
   "cell_type": "markdown",
   "metadata": {},
   "source": [
    "# ICRM"
   ]
  },
  {
   "cell_type": "code",
   "execution_count": null,
   "metadata": {},
   "outputs": [],
   "source": [
    "starttime = time.time()\n",
    "start_time = datetime.datetime.now(pytz.timezone('Asia/Kolkata')).strftime(\"%Y-%m-%d %H:%M:%S.%f\")\n",
    "start_time"
   ]
  },
  {
   "cell_type": "code",
   "execution_count": null,
   "metadata": {},
   "outputs": [],
   "source": [
    "table_name='contactability'\n",
    "source='ICRM'"
   ]
  },
  {
   "cell_type": "code",
   "execution_count": null,
   "metadata": {},
   "outputs": [],
   "source": [
    "latest_progress=get_latest_progress(table_name,source)\n",
    "# dates in string format\n",
    "str_d1 = latest_progress.strftime(\"%Y-%m-%d\")\n",
    "str_d2 = datetime.datetime.now(pytz.timezone('Asia/Kolkata')).strftime(\"%Y-%m-%d\")\n",
    "\n",
    "# convert string to date object\n",
    "d1 = datetime.datetime.strptime(str_d1, \"%Y-%m-%d\")\n",
    "d2 = datetime.datetime.strptime(str_d2, \"%Y-%m-%d\")\n",
    "\n",
    "# difference between dates in timedelta\n",
    "delta = d2 - d1\n",
    "day=delta.days-1#currently T-2 change 2 to 1 for T-1\n",
    "\n",
    "time_filter={'start_date':latest_progress,'end_date':latest_progress+datetime.timedelta(days=day)}\n",
    "time_filter"
   ]
  },
  {
   "cell_type": "code",
   "execution_count": null,
   "metadata": {},
   "outputs": [],
   "source": [
    "# Get the data from ICRM CASES table\n",
    "gscPythonOptions = {\n",
    "    \n",
    "         \"url\": \"jdbc:postgresql://10.35.12.194:5432/gpadmin\",\"user\": \"gpspark\",\"password\": \"spark@456\",\n",
    "         \"dbschema\": \"public\",\"dbtable\": \"marketing_icrm_cases\",\n",
    "         \"partitionColumn\":\"row_num\",\"partitions\":16,\n",
    "         \"server.port\":\"1150-1170\"}\n",
    "\n",
    "cases_table =sqlContext.read.format(\"greenplum\").options(**gscPythonOptions).load()\\\n",
    ".select('id', 'account_id','date_entered', 'verified','verification_flag',\\\n",
    "        'verification_processed', 'caller_mobile_number','deleted')\\\n",
    ".filter(col('date_entered').between(to_timestamp(lit(time_filter['start_date']),\n",
    "                                                                 format='yyyy-MM-dd'),\n",
    "                                                    to_timestamp(lit(time_filter['end_date']),\n",
    "                                                                 format='yyyy-MM-dd')))\n",
    "\n",
    "cases_data = cases_table.filter((col('deleted') == '0.0') & (col('verification_processed')== '1.0') &\\\n",
    "                               (col('verified') == '1.0'))\n",
    "icrm_cases = cases_data.drop(col('deleted')).drop(col('verification_processed')).drop(col('verified')).drop(col('date_entered'))\n",
    "#==========================================================================================================================\n",
    "#Get the data from ICRM ACCOUNT Table\n",
    "gscPythonOptions = {\n",
    "    \n",
    "         \"url\": \"jdbc:postgresql://10.35.12.194:5432/gpadmin\",\"user\": \"gpspark\",\"password\": \"spark@456\",\n",
    "         \"dbschema\": \"public\",\"dbtable\": \"marketing_icrm_accounts\",\n",
    "         \"partitionColumn\":\"row_num\",\"partitions\":16,\n",
    "         \"server.port\":\"1150-1170\"}\n",
    "\n",
    "account_table =sqlContext.read.format(\"greenplum\").options(**gscPythonOptions).load()\\\n",
    ".select('id','name','deleted','phone_office','phone_alternate','email_address1','email_address2',\\\n",
    "        'customer_code','date_entered','date_modified')\n",
    "\n",
    "account_data = account_table.filter(col('deleted') == '0.0')\n",
    "\n",
    "#code changes\n",
    "\n",
    "# account_table_phone1 =sqlContext.read.format(\"greenplum\").options(**gscPythonOptions).load()\\\n",
    "# .select('id','name','deleted','phone_office','customer_code','date_entered','date_modified').filter(col('deleted') == '0.0')\n",
    "\n",
    "# account_table_phone2 =sqlContext.read.format(\"greenplum\").options(**gscPythonOptions).load()\\\n",
    "# .select('id','name','deleted','phone_alternate','customer_code','date_entered','date_modified').filter(col('deleted') == '0.0')\n",
    "\n",
    "# account_table_email1 =sqlContext.read.format(\"greenplum\").options(**gscPythonOptions).load()\\\n",
    "# .select('id','name','deleted','email_address1','customer_code','date_entered','date_modified').filter(col('deleted') == '0.0')\n",
    "\n",
    "# account_table_email2 =sqlContext.read.format(\"greenplum\").options(**gscPythonOptions).load()\\\n",
    "# .select('id','name','deleted','email_address2','customer_code','date_entered','date_modified').filter(col('deleted') == '0.0')\n",
    "\n",
    "\n",
    "# account_data_phone = account_table_phone1.unionAll(account_table_phone2).withColumn('communication_type', lit('phone'))\n",
    "# account_data_email = account_table_email1.unionAll(account_table_email2).withColumn('communication_type', lit('email'))\n",
    "\n",
    "# account_data = account_data_phone.unionAll(account_data_email)\n",
    "\n",
    "# .filter(col('date_modified').between(to_timestamp(lit(time_filter['start_date']),\n",
    "#                                                                  format='yyyy-MM-dd'),\n",
    "#                                                     to_timestamp(lit(time_filter['end_date']),\n",
    "#                                                                  format='yyyy-MM-dd')))\n",
    "\n",
    "icrm_account = account_data.drop(col('deleted'))"
   ]
  },
  {
   "cell_type": "code",
   "execution_count": null,
   "metadata": {},
   "outputs": [],
   "source": [
    "# Joining CASES or ACCOUNT using account_id\n",
    "icrm_cases_account = icrm_cases.join(icrm_account, icrm_cases.account_id==icrm_account.id).drop(icrm_account.id)"
   ]
  },
  {
   "cell_type": "code",
   "execution_count": null,
   "metadata": {},
   "outputs": [],
   "source": [
    "# Joining CASES_ACCOUNT Table with Premium Register table to get the policy_no\n",
    "icrm_cases_account_prem_reg = icrm_cases_account.join(prem_reg, icrm_cases_account.name == prem_reg.customer_id).drop(prem_reg.customer_id)"
   ]
  },
  {
   "cell_type": "code",
   "execution_count": null,
   "metadata": {},
   "outputs": [],
   "source": [
    "icrm_cases_account_prem_reg.columns"
   ]
  },
  {
   "cell_type": "code",
   "execution_count": null,
   "metadata": {},
   "outputs": [],
   "source": [
    "# Selecting the required columns from cases_account table with policy number from premium_register table\n",
    "icrm_cases_account_prem_reg = icrm_cases_account_prem_reg.select(['name','POLICY_NO','caller_mobile_number','phone_office','phone_alternate',\\\n",
    "                                                                  'email_address1','email_address2','date_entered', 'date_modified','id'])"
   ]
  },
  {
   "cell_type": "code",
   "execution_count": null,
   "metadata": {},
   "outputs": [],
   "source": [
    "icrm_with_policy = icrm_cases_account_prem_reg.filter(col('POLICY_NO').isNotNull() == True).drop(col('id'))"
   ]
  },
  {
   "cell_type": "code",
   "execution_count": null,
   "metadata": {},
   "outputs": [],
   "source": [
    "null_policy = icrm_cases_account_prem_reg.filter(col('POLICY_NO').isNull() == True)"
   ]
  },
  {
   "cell_type": "code",
   "execution_count": null,
   "metadata": {},
   "outputs": [],
   "source": [
    "# Fethcing the CASE_ID from cases_1_c table\n",
    "gscPythonOptions = {\n",
    "    \"url\": \"jdbc:postgresql://10.35.12.194:5432/gpadmin\",\n",
    "    \"user\": \"gpspark\",\n",
    "    \"password\": \"spark@456\",\n",
    "    \"dbschema\": \"public\",\n",
    "    \"server.port\":\"1160-1180\",\n",
    "    \"dbtable\": \"marketing_icrm_mph_policy_cases_1_c\",\n",
    "    \"partitionColumn\":\"row_num\",\n",
    "    \"partitions\":16 }\n",
    "\n",
    "cases_1_c_table = sqlContext.read.format(\"greenplum\").options(**gscPythonOptions).load().\\\n",
    "                    selectExpr(\"mph_policy_cases_1mph_policy_ida\", \"mph_policy_cases_1cases_idb\")\n",
    "cases_1_c_data = cases_1_c_table.withColumnRenamed('mph_policy_cases_1mph_policy_ida', 'POLICY_ID')\n",
    "cases_1_c = cases_1_c_data.withColumnRenamed('mph_policy_cases_1cases_idb', 'CASE_ID')\n",
    "#==========================================================================================================================\n",
    "# Fetch Policy_no from \"marketing_icrm_mph_policy\" table\n",
    "gscPythonOptions = {\n",
    "    \"url\": \"jdbc:postgresql://10.35.12.194:5432/gpadmin\",\n",
    "    \"user\": \"gpspark\",\n",
    "    \"password\": \"spark@456\",\n",
    "    \"dbschema\": \"public\",\n",
    "    \"server.port\":\"1160-1180\",\n",
    "    \"dbtable\": \"marketing_icrm_mph_policy\",\n",
    "    \"partitionColumn\":\"row_num\",\n",
    "    \"partitions\":16 }\n",
    "\n",
    "icrm_policy = sqlContext.read.format(\"greenplum\").options(**gscPythonOptions).load().selectExpr(\"name\", \"id\")\n",
    "icrm_policy_1 = icrm_policy.withColumnRenamed('name', 'POLICY_NO')\\\n",
    "                           .withColumnRenamed('id', 'POLICY_ID')\n",
    "\n",
    "icrm_policy_1A = icrm_policy_1.groupBy('POLICY_ID').agg(sf.max('POLICY_NO').alias('POLICY_NO'))\n",
    "icrm_policy_2 = icrm_policy_1A.repartition(\"POLICY_NO\")\n",
    "#==========================================================================================================================\n",
    "# Join the tables to get the policy_no along with case_id\n",
    "icrm_policy_no = icrm_policy_2.join(cases_1_c,icrm_policy_2.POLICY_ID==cases_1_c.POLICY_ID, \"left_outer\").\\\n",
    "drop(cases_1_c.POLICY_ID).drop(icrm_policy_2.POLICY_ID)"
   ]
  },
  {
   "cell_type": "code",
   "execution_count": null,
   "metadata": {},
   "outputs": [],
   "source": [
    "# Remove POLICY_NO Column and get the same column added from icrm tables\n",
    "null_policy = null_policy.drop(col('POLICY_NO'))\n",
    "# null_policy.columns"
   ]
  },
  {
   "cell_type": "code",
   "execution_count": null,
   "metadata": {},
   "outputs": [],
   "source": [
    "# Joining null_policy table with icrm_policy_no table to get the missing policy_no\n",
    "condition = [(null_policy.id == icrm_policy_no.CASE_ID)]\n",
    "filled_null_policy = null_policy.join(icrm_policy_no, condition, 'left').drop(icrm_policy_no.CASE_ID)"
   ]
  },
  {
   "cell_type": "code",
   "execution_count": null,
   "metadata": {},
   "outputs": [],
   "source": [
    "# Fetch the records which are having POLICY_NO\n",
    "filled_null_policy = filled_null_policy.filter(col('POLICY_NO').isNotNull()==True)\n",
    "icrm_filled_policy = filled_null_policy.select(['name', 'POLICY_NO', 'caller_mobile_number', 'phone_office',\\\n",
    "                                                'phone_alternate','email_address1','email_address2',\\\n",
    "                                                'date_entered', 'date_modified', 'id']).drop(col('id'))"
   ]
  },
  {
   "cell_type": "code",
   "execution_count": null,
   "metadata": {},
   "outputs": [],
   "source": [
    "# Merging separated data with proper policy_no\n",
    "icrm_data = icrm_with_policy.unionAll(icrm_filled_policy)"
   ]
  },
  {
   "cell_type": "code",
   "execution_count": null,
   "metadata": {},
   "outputs": [],
   "source": [
    "icrm_data.columns"
   ]
  },
  {
   "cell_type": "code",
   "execution_count": null,
   "metadata": {},
   "outputs": [],
   "source": [
    "# Renaming the column name with customet_id\n",
    "icrm_data = icrm_data.withColumnRenamed('name','customer_id').withColumn('source', lit('ICRM'))\n",
    "\n",
    "# Creating individual dataframe for different contact columns and merge all of them\n",
    "icrm_caller_mobile_number = icrm_data.select(['customer_id', 'POLICY_NO','caller_mobile_number', \\\n",
    "                                              'source', 'date_entered', 'date_modified']).withColumn('communication_type', lit('phone')).withColumn('communication_sub_type', lit('mobile'))\n",
    "\n",
    "icrm_phone_office = icrm_data.select(['customer_id', 'POLICY_NO','phone_office', \\\n",
    "                                              'source', 'date_entered', 'date_modified']).withColumn('communication_type', lit('phone')).withColumn('communication_sub_type', lit('mobile'))\n",
    "\n",
    "icrm_phone_alternate = icrm_data.select(['customer_id', 'POLICY_NO','phone_alternate', \\\n",
    "                                              'source', 'date_entered', 'date_modified']).withColumn('communication_type', lit('phone')).withColumn('communication_sub_type', lit('mobile'))\n",
    "icrm_email_address1 = icrm_data.select(['customer_id', 'POLICY_NO','email_address1', \\\n",
    "                                              'source', 'date_entered', 'date_modified']).withColumn('communication_type', lit('email')).withColumn('communication_sub_type', lit('email'))\n",
    "icrm_email_address2 = icrm_data.select(['customer_id', 'POLICY_NO','email_address2', \\\n",
    "                                              'source', 'date_entered', 'date_modified']).withColumn('communication_type', lit('email')).withColumn('communication_sub_type', lit('email'))\n",
    "\n",
    "icrm_data_mob = icrm_caller_mobile_number.unionAll(icrm_phone_office).unionAll(icrm_phone_alternate)\n",
    "icrm_data_email=icrm_email_address1.unionAll(icrm_email_address2)"
   ]
  },
  {
   "cell_type": "code",
   "execution_count": null,
   "metadata": {},
   "outputs": [],
   "source": [
    "icrm_data_mob=icrm_data_mob.withColumn('activity_id', hash(col('caller_mobile_number')))\n",
    "icrm_data_mob=icrm_data_mob.withColumn('verification_flag',(lit('G')))\n",
    "icrm_data_mob=icrm_data_mob.withColumn('verification_source',(col('source')))\n",
    "# icrm_data_final=icrm_data_final.withColumn('value', col('caller_mobile_number'))\n",
    "\n",
    "icrm_data_mob=icrm_data_mob.withColumn('value',when(col('caller_mobile_number').rlike(\"^(?:(?:\\+|0{0,2})91(\\s*[\\-]\\s*)?|[0]?)?[6-9]\\d{9}$\"),col('caller_mobile_number'))\n",
    "  .otherwise(lit(None)))\n",
    "icrm_data_mob = icrm_data_mob.withColumn(\"value\", when((length(col(\"value\")) == 12),\n",
    "                                               regexp_replace(col(\"value\"), \"^91\", \"\")).otherwise(lit(col(\"value\"))))\n",
    "\n",
    "icrm_data_mob = icrm_data_mob.withColumn(\"value\", when((length(col(\"value\")) == 11),\n",
    "                                               regexp_replace(col(\"value\"), \"^0\", \"\")).otherwise(lit(col(\"value\"))))\n",
    "\n",
    "icrm_data_mob=icrm_data_mob.withColumn('value',when(col('value').rlike(\"^(?!(\\d)\\1{8})\\d{10}$\"),col('value'))\n",
    " .otherwise(lit(None)))\n",
    "icrm_data_mob=icrm_data_mob.withColumn('dnd_flag', lit(None))\n",
    "icrm_data_mob=icrm_data_mob.withColumn('communication_type', col('communication_type'))\n",
    "icrm_data_mob=icrm_data_mob.withColumn('communication_sub_type',col('communication_sub_type'))\n",
    "icrm_data_mob=icrm_data_mob.withColumn('source_system_customer_id',(col('customer_id')))\n",
    "icrm_data_mob=icrm_data_mob.withColumn('contactability_json', lit(None))\n",
    "icrm_data_mob=icrm_data_mob.withColumn('preference_flag', lit(None))\n",
    "icrm_data_mob=icrm_data_mob.withColumn('date_reported', col('date_entered'))\n",
    "icrm_data_mob=icrm_data_mob.withColumn('last_updated', col('date_modified'))\n",
    "icrm_data_mob=icrm_data_mob.withColumn('activity_date', col('date_modified'))\n",
    "icrm_data_mob=icrm_data_mob.withColumn('source_system_name', col('source'))\n",
    "icrm_data_mob=icrm_data_mob.withColumn('primary_key', concat_ws('',trim(col('verification_source')),trim(col('source_system_customer_id')), trim(col('activity_id'))))"
   ]
  },
  {
   "cell_type": "code",
   "execution_count": null,
   "metadata": {},
   "outputs": [],
   "source": [
    "icrm_data_email=icrm_data_email.withColumn('activity_id', hash(col('email_address1')))\n",
    "icrm_data_email=icrm_data_email.withColumn('verification_flag',(lit('G')))\n",
    "icrm_data_email=icrm_data_email.withColumn('verification_source',(col('source')))\n",
    "# icrm_data_final=icrm_data_final.withColumn('value', col('caller_mobile_number'))\n",
    "icrm_data_email=icrm_data_email.withColumn('value',col('email_address1'))\n",
    "                                           \n",
    "# when(col('email_address1').rlike(\"^\\w+([\\.-]?\\w+)*@\\w+([\\.-]?\\w+)*(\\.\\w{2,3})+$\"),col('email_address1')).otherwise(lit(None)))\n",
    "\n",
    "icrm_data_email = icrm_data_email.filter(~(lower(col(\"value\")).contains(\"abc@\")))\\\n",
    ".filter(~(lower(col(\"value\")).contains(\"xyz@\")))\\\n",
    ".filter(~(lower(col(\"value\")).contains(\"1234@\")))\\\n",
    ".filter(~(lower(col(\"value\")).contains(\"null@\")))\\\n",
    ".filter(~(lower(col(\"value\")).contains(\"na@\")))\\\n",
    ".filter(~(lower(col(\"value\")).contains(\"00@\")))\n",
    "icrm_data_email=icrm_data_email.withColumn('dnd_flag', lit(None))\n",
    "icrm_data_email=icrm_data_email.withColumn('communication_type', col('communication_type'))\n",
    "icrm_data_email=icrm_data_email.withColumn('communication_sub_type',col('communication_type'))\n",
    "icrm_data_email=icrm_data_email.withColumn('source_system_customer_id',(col('customer_id')))\n",
    "icrm_data_email=icrm_data_email.withColumn('contactability_json', lit(None))\n",
    "icrm_data_email=icrm_data_email.withColumn('preference_flag', lit(None))\n",
    "icrm_data_email=icrm_data_email.withColumn('date_reported', col('date_entered'))\n",
    "icrm_data_email=icrm_data_email.withColumn('last_updated', col('date_modified'))\n",
    "icrm_data_email=icrm_data_email.withColumn('activity_date', col('date_modified'))\n",
    "icrm_data_email=icrm_data_email.withColumn('source_system_name', col('source'))\n",
    "icrm_data_email=icrm_data_email.withColumn('primary_key', concat_ws('',trim(col('verification_source')),trim(col('source_system_customer_id')), trim(col('activity_id'))))"
   ]
  },
  {
   "cell_type": "code",
   "execution_count": null,
   "metadata": {},
   "outputs": [],
   "source": [
    "icrm_data_final=icrm_data_mob.unionAll(icrm_data_email)"
   ]
  },
  {
   "cell_type": "code",
   "execution_count": null,
   "metadata": {},
   "outputs": [],
   "source": [
    "icrm_data_final.columns"
   ]
  },
  {
   "cell_type": "code",
   "execution_count": null,
   "metadata": {},
   "outputs": [],
   "source": [
    "from pyspark.sql.window import Window\n",
    "\n",
    "icrm_data_final = icrm_data_final.withColumn(\"rn\", F.row_number()\n",
    "        .over(Window.partitionBy(\"primary_key\")\n",
    "        .orderBy(F.col(\"last_updated\").desc())))\n",
    "\n",
    "icrm_data_final = icrm_data_final.filter(F.col(\"rn\") == 1).drop(\"rn\")"
   ]
  },
  {
   "cell_type": "code",
   "execution_count": null,
   "metadata": {},
   "outputs": [],
   "source": [
    "icrm_data_final = icrm_data_final.filter(~(col(\"value\").isin(['1234567890','9876543210','9999988888','9090909090']))).filter(~(lower(trim(col(\"value\"))).isin(['abc@gmail.com','xyz@gmail.com','123@gmail.com','abc@d.com','abcd@gmail.com'])))\n",
    "icrm_data_final=icrm_data_final.filter(F.col(\"source_system_customer_id\").isNotNull()).filter(F.col(\"value\").isNotNull())"
   ]
  },
  {
   "cell_type": "code",
   "execution_count": null,
   "metadata": {},
   "outputs": [],
   "source": [
    "icrm_data_final=icrm_data_final.select(['source_system_name','source_system_customer_id','activity_id','activity_date','communication_type','communication_sub_type','value','verification_flag','verification_source','date_reported','last_updated','preference_flag','contactability_json','dnd_flag'])"
   ]
  },
  {
   "cell_type": "code",
   "execution_count": null,
   "metadata": {},
   "outputs": [],
   "source": [
    "icrm_data_final.persist(pyspark.StorageLevel.MEMORY_AND_DISK)\n",
    "records=icrm_data_final.count()\n",
    "records"
   ]
  },
  {
   "cell_type": "code",
   "execution_count": null,
   "metadata": {},
   "outputs": [],
   "source": [
    "icrm_data_final=icrm_data_final.repartition('value')"
   ]
  },
  {
   "cell_type": "code",
   "execution_count": null,
   "metadata": {},
   "outputs": [],
   "source": [
    "condition = [lower(trim(icrm_data_final.value))==lower(trim(agent_no.mobile))]\n",
    "\n",
    "icrm_data_final = icrm_data_final.join(agent_no,condition,how=\"left\")\n",
    "icrm_data_final = icrm_data_final.filter(col('mobile').isNull()).drop(icrm_data_final.mobile)\n",
    "\n",
    "condition = [lower(trim(icrm_data_final.value))==lower(trim(agent_email.txt_email))]\n",
    "\n",
    "icrm_data_final = icrm_data_final.join(agent_email,condition,how=\"left\")\n",
    "icrm_data_final = icrm_data_final.filter(col('txt_email').isNull()).drop(icrm_data_final.txt_email)"
   ]
  },
  {
   "cell_type": "code",
   "execution_count": null,
   "metadata": {},
   "outputs": [],
   "source": [
    "output_index = 'contactability_staging'\n",
    "schema = 'customermart'\n",
    "\n",
    "import sys\n",
    "try:\n",
    "    \n",
    "     icrm_data_final.write.option(\"truncate\", \"true\").format(\"greenplum\")\\\n",
    "    .option(\"dbtable\",output_index).option('dbschema',schema)\\\n",
    "    .option(\"server.port\",\"1150-1170\").option(\"url\",prod_url)\\\n",
    "    .option(\"user\", user_prod).option(\"password\",pwd_prod).mode('overwrite').save()\n",
    "    \n",
    "    \n",
    "except Exception as e:\n",
    "    x = e\n",
    "    print(x)\n",
    "else:\n",
    "    x = 'success'\n",
    "    print(x)"
   ]
  },
  {
   "cell_type": "code",
   "execution_count": null,
   "metadata": {},
   "outputs": [],
   "source": [
    "table_name=\"contactability\"\n",
    "conn_prod = psycopg2.connect(host=prod_host, port=prod_port, user=user_prod, password=pwd_prod, dbname=prod_dbname)\n",
    "conn_to=conn_prod\n",
    "status=''\n",
    "\n",
    "import sys\n",
    "try:\n",
    "    update(conn_to,table_name,prod_gpdb_spark_options, schema=\"customermart\")\n",
    "except Exception as e:\n",
    "    x = e\n",
    "    print(x)\n",
    "    status='Failed'\n",
    "else:\n",
    "    x = 'success'\n",
    "    print(x)\n",
    "    status='Success'\n"
   ]
  },
  {
   "cell_type": "code",
   "execution_count": null,
   "metadata": {},
   "outputs": [],
   "source": [
    "update_progress(table_name,source,time_filter,records,start_time,starttime,status)"
   ]
  },
  {
   "cell_type": "code",
   "execution_count": null,
   "metadata": {},
   "outputs": [],
   "source": [
    "icrm_data_final.unpersist()"
   ]
  },
  {
   "cell_type": "markdown",
   "metadata": {},
   "source": [
    "# paynow"
   ]
  },
  {
   "cell_type": "code",
   "execution_count": null,
   "metadata": {},
   "outputs": [],
   "source": [
    "starttime = time.time()\n",
    "start_time = datetime.datetime.now(pytz.timezone('Asia/Kolkata')).strftime(\"%Y-%m-%d %H:%M:%S.%f\")\n",
    "start_time"
   ]
  },
  {
   "cell_type": "code",
   "execution_count": null,
   "metadata": {},
   "outputs": [],
   "source": [
    "table_name='contactability'\n",
    "source='PAYNOW'"
   ]
  },
  {
   "cell_type": "code",
   "execution_count": null,
   "metadata": {},
   "outputs": [],
   "source": [
    "latest_progress=get_latest_progress(table_name,source)\n",
    "# dates in string format\n",
    "str_d1 = latest_progress.strftime(\"%Y-%m-%d\")\n",
    "str_d2 = datetime.datetime.now(pytz.timezone('Asia/Kolkata')).strftime(\"%Y-%m-%d\")\n",
    "\n",
    "# convert string to date object\n",
    "d1 = datetime.datetime.strptime(str_d1, \"%Y-%m-%d\")\n",
    "d2 = datetime.datetime.strptime(str_d2, \"%Y-%m-%d\")\n",
    "\n",
    "# difference between dates in timedelta\n",
    "delta = d2 - d1\n",
    "day=delta.days-1#currently T-2 change 2 to 1 for T-1\n",
    "\n",
    "time_filter={'start_date':latest_progress,'end_date':latest_progress+datetime.timedelta(days=day)}\n",
    "time_filter"
   ]
  },
  {
   "cell_type": "code",
   "execution_count": null,
   "metadata": {},
   "outputs": [],
   "source": [
    "col_str=['consumer_id','txn_status','response_code','application_number','consumer_txn_timestamp','last_recon_update_time','additional_field8','additional_field9','txn_start_time','txn_end_time']\n",
    "# paynow_df=load_gpdb_jdbc(col_str,\"cpi_payment\")\n",
    "paynow_df=load_gpdb_jdbc(col_str,\"cpi_payment\",'txn_start_time',time_filter)\n"
   ]
  },
  {
   "cell_type": "code",
   "execution_count": null,
   "metadata": {},
   "outputs": [],
   "source": [
    "paynow_df.persist(pyspark.StorageLevel.MEMORY_AND_DISK)\n",
    "records=paynow_df.count()\n",
    "records"
   ]
  },
  {
   "cell_type": "code",
   "execution_count": null,
   "metadata": {},
   "outputs": [],
   "source": [
    "gscPythonOptions = {\n",
    "         \"url\": \"jdbc:postgresql://10.35.12.194:5432/gpadmin\",\"user\": \"gpspark\",\"password\": \"spark@456\",\n",
    "         \"dbschema\": \"registers\",\"dbtable\": \"premium_register\",\n",
    "         \"partitionColumn\":\"row_num\",\"partitions\":16,\n",
    "         \"server.port\":\"1150-1170\"}\n",
    "\n",
    "prem_reg1 = sqlContext.read.format(\"greenplum\").options(**gscPythonOptions).load()\\\n",
    ".select('customer_id','num_reference_no')"
   ]
  },
  {
   "cell_type": "code",
   "execution_count": null,
   "metadata": {
    "scrolled": true
   },
   "outputs": [],
   "source": [
    "condn=[paynow_df.application_number ==prem_reg1.num_reference_no]\n",
    "\n",
    "df_paynow = prem_reg1.join(paynow_df,condn,\"inner\")\n",
    "\n",
    "df_paynow=df_paynow.filter((col('application_number').isNotNull())) "
   ]
  },
  {
   "cell_type": "code",
   "execution_count": null,
   "metadata": {},
   "outputs": [],
   "source": [
    "df_paynow.columns"
   ]
  },
  {
   "cell_type": "code",
   "execution_count": null,
   "metadata": {},
   "outputs": [],
   "source": [
    "#contact=contact.withColumn('source_system_customer_id', coalesce('source_customer_id','dc_unified_id'))\n",
    "df_paynow_email=df_paynow.withColumn('activity_id', hash(col('additional_field9')))\n",
    "df_paynow_email=df_paynow_email.withColumn('value', col('additional_field9'))\n",
    "# df_paynow=df_paynow.withColumn('value',when(col('value').rlike(\"^\\w+([\\.-]?\\w+)*@\\w+([\\.-]?\\w+)*(\\.\\w{2,3})+$\")\n",
    "#                                             ,col('value'))\n",
    "#                                  .otherwise(lit(None)))\n",
    "\n",
    "df_paynow_email=df_paynow_email.withColumn('value',col('value'))\n",
    "df_paynow_email = df_paynow_email.filter(~(lower(col(\"value\")).contains(\"abc@\")))\\\n",
    ".filter(~(lower(col(\"value\")).contains(\"xyz@\")))\\\n",
    ".filter(~(lower(col(\"value\")).contains(\"1234@\")))\\\n",
    ".filter(~(lower(col(\"value\")).contains(\"null@\")))\\\n",
    ".filter(~(lower(col(\"value\")).contains(\"na@\")))\\\n",
    ".filter(~(lower(col(\"value\")).contains(\"00@\")))\n",
    "df_paynow_email=df_paynow_email.withColumn('communication_type', lit('email'))\n",
    "df_paynow_email=df_paynow_email.withColumn('communication_sub_type', lit('email'))\n",
    "df_paynow_email=df_paynow_email.withColumn('dnd_flag', lit(None))\n",
    "df_paynow_email=df_paynow_email.withColumn('verification_flag',lit('G'))\n",
    "df_paynow_email=df_paynow_email.withColumn('verification_source',lit('PAYNOW'))\n",
    "df_paynow_email=df_paynow_email.withColumn('source_system_customer_id', coalesce('customer_id'))\n",
    "df_paynow_email=df_paynow_email.withColumn('contactability_json', lit(None))\n",
    "df_paynow_email=df_paynow_email.withColumn('preference_flag', lit(None))\n",
    "df_paynow_email=df_paynow_email.withColumn('date_reported', col('txn_start_time'))\n",
    "df_paynow_email=df_paynow_email.withColumn('last_updated', col('txn_end_time'))\n",
    "df_paynow_email=df_paynow_email.withColumn('activity_date', col('txn_start_time'))\n",
    "df_paynow_email=df_paynow_email.withColumn('source_system_name', lit('PAYNOW'))\n",
    "df_paynow_email=df_paynow_email.withColumn('primary_key', concat_ws('',trim(col('source_system_name')),trim(col('source_system_customer_id')), trim(col('activity_id'))))\n",
    "\n",
    "\n",
    "# df_paynow1=df_paynow.select(col('source_system_name').cast('string'),col('source_system_customer_id').cast('string'),col('activity_id').cast('string'),\\\n",
    "#                          col('communication_type').cast('string'),col('communication_sub_type').cast('string'),col('activity_date').cast('timestamp'),\\\n",
    "#                          col('value'),col('verification_flag').cast('string'),col('verification_source').cast('string'),col('date_reported').cast('timestamp'),col('last_updated').cast('timestamp'),col('preference_flag').cast('string'),col('dnd_flag').cast('string'),col('contactability_json'),\\\n",
    "#                          col('primary_key'))\n",
    "# df_paynow1=df_paynow1.filter(col(\"value\").isNotNull())\n",
    "\n",
    "\n",
    "df_paynow1=df_paynow_email.select(col('source_system_name').cast('string'),col('source_system_customer_id').cast('string'),col('activity_id').cast('string'),\\\n",
    "                         col('communication_type').cast('string'),col('communication_sub_type').cast('string'),col('activity_date').cast('timestamp'),\\\n",
    "                         col('value'),col('verification_flag').cast('string'),col('verification_source').cast('string'),col('date_reported').cast('timestamp'),col('last_updated').cast('timestamp'),col('preference_flag').cast('string'),col('dnd_flag').cast('int'),col('contactability_json'),\\\n",
    "                         col('primary_key'))\n",
    "df_paynow1=df_paynow1.filter(col(\"value\").isNotNull())\n"
   ]
  },
  {
   "cell_type": "code",
   "execution_count": null,
   "metadata": {},
   "outputs": [],
   "source": [
    "df_paynow_mob=df_paynow.withColumn('activity_id', hash(col('additional_field8')))\n",
    "df_paynow_mob=df_paynow_mob.withColumn('value', col('additional_field8'))\n",
    "\n",
    "df_paynow_mob=df_paynow_mob.withColumn('value',when(col('value').rlike(\"^(?:(?:\\+|0{0,2})91(\\s*[\\-]\\s*)?|[0]?)?[6-9]\\d{9}$\"),col('value'))\n",
    "                        .otherwise(lit(None)))\n",
    "\n",
    "df_paynow_mob = df_paynow_mob.withColumn(\"value\", when((length(col(\"value\")) == 12),\n",
    "                                      regexp_replace(col(\"value\"), \"^91\", \"\")).otherwise(lit(col(\"value\"))))\n",
    "\n",
    "df_paynow_mob = df_paynow_mob.withColumn(\"value\", when((length(col(\"value\")) == 11),\n",
    "                                      regexp_replace(col(\"value\"), \"^0\", \"\")).otherwise(lit(col(\"value\"))))\n",
    "\n",
    "\n",
    "\n",
    "df_paynow_mob=df_paynow_mob.withColumn('value',when(col('value').rlike(\"^(?!(\\d)\\1{8})\\d{10}$\"),col('value'))\n",
    "                        .otherwise(lit(None)))\n",
    "\n",
    "\n",
    "df_paynow_mob=df_paynow_mob.withColumn('communication_type', lit('phone'))\n",
    "df_paynow_mob=df_paynow_mob.withColumn('communication_sub_type', lit('mobile'))\n",
    "df_paynow_mob=df_paynow_mob.withColumn('dnd_flag', lit(None))\n",
    "df_paynow_mob=df_paynow_mob.withColumn('verification_flag',lit('G'))\n",
    "df_paynow_mob=df_paynow_mob.withColumn('verification_source',lit('PAYNOW'))\n",
    "df_paynow_mob=df_paynow_mob.withColumn('source_system_customer_id', coalesce('customer_id'))\n",
    "df_paynow_mob=df_paynow_mob.withColumn('contactability_json', lit(None))\n",
    "df_paynow_mob=df_paynow_mob.withColumn('preference_flag', lit(None))\n",
    "df_paynow_mob=df_paynow_mob.withColumn('date_reported', col('txn_start_time'))\n",
    "df_paynow_mob=df_paynow_mob.withColumn('last_updated', col('txn_end_time'))\n",
    "df_paynow_mob=df_paynow_mob.withColumn('activity_date', col('txn_start_time'))\n",
    "df_paynow_mob=df_paynow_mob.withColumn('source_system_name', lit('PAYNOW'))\n",
    "df_paynow_mob=df_paynow_mob.withColumn('primary_key', concat_ws('',trim(col('source_system_name')),trim(col('source_system_customer_id')), trim(col('activity_id'))))\n",
    "\n",
    "# df_paynow2=df_paynow.select(col('source_system_name').cast('string'),col('source_system_customer_id').cast('string'),col('activity_id').cast('string'),\\\n",
    "#                          col('communication_type').cast('string'),col('communication_sub_type').cast('string'),col('activity_date').cast('timestamp'),\\\n",
    "#                          col('value'),col('verification_flag').cast('string'),col('verification_source').cast('string'),col('date_reported').cast('timestamp'),col('last_updated').cast('timestamp'),col('preference_flag').cast('string'),col('dnd_flag').cast('string'),col('contactability_json'),\\\n",
    "#                          col('primary_key'))\n",
    "# df_paynow2=df_paynow2.filter(col(\"value\").isNotNull())\n",
    "\n",
    "df_paynow2=df_paynow_mob.select(col('source_system_name').cast('string'),col('source_system_customer_id').cast('string'),col('activity_id').cast('string'),\\\n",
    "                         col('communication_type').cast('string'),col('communication_sub_type').cast('string'),col('activity_date').cast('timestamp'),\\\n",
    "                         col('value'),col('verification_flag').cast('string'),col('verification_source').cast('string'),col('date_reported').cast('timestamp'),col('last_updated').cast('timestamp'),col('preference_flag').cast('string'),col('dnd_flag').cast('int'),col('contactability_json'),\\\n",
    "                         col('primary_key'))\n",
    "df_paynow2=df_paynow2.filter(col(\"value\").isNotNull())\n"
   ]
  },
  {
   "cell_type": "code",
   "execution_count": null,
   "metadata": {},
   "outputs": [],
   "source": [
    "df_paynow_f = df_paynow1.union(df_paynow2)"
   ]
  },
  {
   "cell_type": "code",
   "execution_count": null,
   "metadata": {},
   "outputs": [],
   "source": [
    "# from pyspark.sql.window import Window\n",
    "\n",
    "# df_paynow_f = df_paynow_f.withColumn(\"rn\", F.row_number()\n",
    "#         .over(Window.partitionBy(['source_system_name', 'source_system_customer_id', 'activity_id'])\n",
    "#         .orderBy(F.col(\"last_updated\").desc())))\n",
    "\n",
    "# df_paynow_f = df_paynow_f.filter(F.col(\"rn\") == 1).drop(\"rn\")\n",
    "\n",
    "from pyspark.sql.window import Window\n",
    "\n",
    "df_paynow_f = df_paynow_f.withColumn(\"rn\", F.row_number()\n",
    "        .over(Window.partitionBy(\"primary_key\")\n",
    "        .orderBy(F.col(\"activity_date\").desc())))\n",
    "\n",
    "df_paynow_f = df_paynow_f.filter(F.col(\"rn\") == 1).drop(\"rn\")\n"
   ]
  },
  {
   "cell_type": "code",
   "execution_count": null,
   "metadata": {},
   "outputs": [],
   "source": [
    "df_paynow_f = df_paynow_f.filter(~(col(\"value\").isin(['1234567890','9876543210','9999988888','9090909090']))).filter(~(lower(trim(col(\"value\"))).isin(['abc@gmail.com','xyz@gmail.com','123@gmail.com','abc@d.com','abcd@gmail.com'])))\n",
    "df_paynow_f=df_paynow_f.filter(F.col(\"source_system_customer_id\").isNotNull()).filter(F.col(\"value\").isNotNull())"
   ]
  },
  {
   "cell_type": "code",
   "execution_count": null,
   "metadata": {},
   "outputs": [],
   "source": [
    "df_paynow_f=df_paynow_f.select(col('source_system_name').cast('string'),col('source_system_customer_id').cast('string'),col('activity_id').cast('string'),col('activity_date').cast('timestamp'),col('communication_type').cast('string'),col('communication_sub_type').cast('string'),col('value').cast('string'),col('verification_flag').cast('string'),col('verification_source').cast('string'),col('date_reported').cast('timestamp'),col('last_updated').cast('timestamp'),col('preference_flag'),col('contactability_json'),col('dnd_flag').cast('int'))"
   ]
  },
  {
   "cell_type": "code",
   "execution_count": null,
   "metadata": {},
   "outputs": [],
   "source": [
    "df_paynow_f=df_paynow_f.repartition('value')"
   ]
  },
  {
   "cell_type": "code",
   "execution_count": null,
   "metadata": {},
   "outputs": [],
   "source": [
    "condition = [lower(trim(df_paynow_f.value))==lower(trim(agent_no.mobile))]\n",
    "\n",
    "df_paynow_f = df_paynow_f.join(agent_no,condition,how=\"left\")\n",
    "df_paynow_f = df_paynow_f.filter(col('mobile').isNull()).drop(df_paynow_f.mobile)\n",
    "\n",
    "condition = [lower(trim(df_paynow_f.value))==lower(trim(agent_email.txt_email))]\n",
    "\n",
    "df_paynow_f = df_paynow_f.join(agent_email,condition,how=\"left\")\n",
    "df_paynow_f = df_paynow_f.filter(col('txt_email').isNull()).drop(df_paynow_f.txt_email)"
   ]
  },
  {
   "cell_type": "code",
   "execution_count": null,
   "metadata": {
    "scrolled": true
   },
   "outputs": [],
   "source": [
    "df_paynow_f.columns"
   ]
  },
  {
   "cell_type": "code",
   "execution_count": null,
   "metadata": {},
   "outputs": [],
   "source": [
    "output_index = 'contactability_staging'\n",
    "schema = 'customermart'\n",
    "\n",
    "import sys\n",
    "try:\n",
    "    \n",
    "     df_paynow_f.write.option(\"truncate\", \"true\").format(\"greenplum\")\\\n",
    "    .option(\"dbtable\",output_index).option('dbschema',schema)\\\n",
    "    .option(\"server.port\",\"1150-1170\").option(\"url\",prod_url)\\\n",
    "    .option(\"user\", user_prod).option(\"password\",pwd_prod).mode('overwrite').save()\n",
    "    \n",
    "    \n",
    "except Exception as e:\n",
    "    x = e\n",
    "    print(x)\n",
    "else:\n",
    "    x = 'success'\n",
    "    print(x)"
   ]
  },
  {
   "cell_type": "code",
   "execution_count": null,
   "metadata": {},
   "outputs": [],
   "source": [
    "table_name=\"contactability\"\n",
    "conn_prod = psycopg2.connect(host=prod_host, port=prod_port, user=user_prod, password=pwd_prod, dbname=prod_dbname)\n",
    "conn_to=conn_prod\n",
    "status=''\n",
    "\n",
    "import sys\n",
    "try:\n",
    "    update(conn_to,table_name,prod_gpdb_spark_options, schema=\"customermart\")\n",
    "except Exception as e:\n",
    "    x = e\n",
    "    print(x)\n",
    "    status='Failed'\n",
    "else:\n",
    "    x = 'success'\n",
    "    print(x)\n",
    "    status='Success'\n"
   ]
  },
  {
   "cell_type": "code",
   "execution_count": null,
   "metadata": {},
   "outputs": [],
   "source": [
    "status"
   ]
  },
  {
   "cell_type": "code",
   "execution_count": null,
   "metadata": {},
   "outputs": [],
   "source": [
    "update_progress(table_name,source,time_filter,records,start_time,starttime,status)"
   ]
  },
  {
   "cell_type": "code",
   "execution_count": null,
   "metadata": {},
   "outputs": [],
   "source": [
    "df_paynow_f.unpersist()"
   ]
  },
  {
   "cell_type": "markdown",
   "metadata": {},
   "source": [
    "# salesforce"
   ]
  },
  {
   "cell_type": "code",
   "execution_count": null,
   "metadata": {},
   "outputs": [],
   "source": [
    "starttime = time.time()\n",
    "start_time = datetime.datetime.now(pytz.timezone('Asia/Kolkata')).strftime(\"%Y-%m-%d %H:%M:%S.%f\")\n",
    "start_time"
   ]
  },
  {
   "cell_type": "code",
   "execution_count": null,
   "metadata": {},
   "outputs": [],
   "source": [
    "table_name='contactability'\n",
    "source='SALESFORCE'"
   ]
  },
  {
   "cell_type": "code",
   "execution_count": null,
   "metadata": {},
   "outputs": [],
   "source": [
    "latest_progress=get_latest_progress(table_name,source)\n",
    "# dates in string format\n",
    "str_d1 = latest_progress.strftime(\"%Y-%m-%d\")\n",
    "str_d2 = datetime.datetime.now(pytz.timezone('Asia/Kolkata')).strftime(\"%Y-%m-%d\")\n",
    "\n",
    "# convert string to date object\n",
    "d1 = datetime.datetime.strptime(str_d1, \"%Y-%m-%d\")\n",
    "d2 = datetime.datetime.strptime(str_d2, \"%Y-%m-%d\")\n",
    "\n",
    "# difference between dates in timedelta\n",
    "delta = d2 - d1\n",
    "day=delta.days-1#currently T-2 change 2 to 1 for T-1\n",
    "\n",
    "time_filter={'start_date':latest_progress,'end_date':latest_progress+datetime.timedelta(days=day)}\n",
    "time_filter"
   ]
  },
  {
   "cell_type": "code",
   "execution_count": null,
   "metadata": {},
   "outputs": [],
   "source": [
    "col_str=['policy_number__c','client_phone_1__c','client_phone_2__c','client_phone_3__c','client_phone_4__c','client_phone_5__c'\n",
    "         ,'contact_number__c','contact_number_1__c','contact_number_2__c','contact_number_3__c','contact_number_4__c',\n",
    "         'contact_number_5__c','contact_number_6__c','contact_number_7__c','contact_number_8__c','contact_number_9__c',\n",
    "         'lead_phone1__c','lead_phone10__c','lead_phone11__c','lead_phone12__c','lead_phone2__c','lead_phone3__c',\n",
    "         'lead_phone4__c','lead_phone5__c','lead_phone6__c','lead_phone7__c','lead_phone8__c','lead_phone9__c','mobile__c',\n",
    "         'mobile_number__c','mobile1__c','mobile2__c','rpc_clp_1__c','rpc_clp_2__c','rpc_clp_3__c','rpc_clp_4__c',\n",
    "         'rpc_clp_5__c','rpc_cn__c','rpc_cn_1__c','rpc_cn_2__c','rpc_cn_3__c','rpc_cn_4__c','rpc_cn_5__c','rpc_cn_6__c',\n",
    "         'rpc_cn_7__c','rpc_cn_8__c','rpc_cn_9__c','rpc_lp_1__c','rpc_lp_10__c','rpc_mobile_2__c','rpc_lp_11__c','rpc_lp_12__c',\n",
    "         'rpc_lp_2__c','rpc_lp_3__c','rpc_lp_4__c','rpc_lp_5__c','rpc_lp_6__c','rpc_lp_7__c','rpc_lp_8__c','rpc_lp_9__c',\n",
    "         'rpc_mobile__c','rpc_mn__c','rpc_mobile_1__c','email_address__c','createddate','lastmodifieddate']\n",
    "sfo_df=load_gpdb_jdbc(col_str,\"salesforce_opportunity\",'lastmodifieddate',time_filter).filter((col('policy_number__c').isNotNull())).drop_duplicates()\n",
    "\n",
    "sf_pol=sfo_df.select('policy_number__c','createddate','lastmodifieddate')\n",
    "sf_pol.repartition('policy_number__c')"
   ]
  },
  {
   "cell_type": "code",
   "execution_count": null,
   "metadata": {},
   "outputs": [],
   "source": [
    "df_email=sfo_df.select('policy_number__c','email_address__c')"
   ]
  },
  {
   "cell_type": "code",
   "execution_count": null,
   "metadata": {},
   "outputs": [],
   "source": [
    "df_mobile=sfo_df.withColumn('client_phone_1__c',when(col('rpc_clp_1__c')==1,col('client_phone_1__c')).otherwise(None))\\\n",
    ".withColumn('client_phone_2__c',when(col('rpc_clp_2__c')==1,col('client_phone_2__c')).otherwise(None))\\\n",
    ".withColumn('client_phone_3__c',when(col('rpc_clp_3__c')==1,col('client_phone_3__c')).otherwise(None))\\\n",
    ".withColumn('client_phone_4__c',when(col('rpc_clp_4__c')==1,col('client_phone_4__c')).otherwise(None))\\\n",
    ".withColumn('client_phone_5__c',when(col('rpc_clp_5__c')==1,col('client_phone_5__c')).otherwise(None))\\\n",
    ".withColumn('contact_number__c',when(col('rpc_cn__c')==1,col('contact_number__c')).otherwise(None))\\\n",
    ".withColumn('contact_number_1__c',when(col('rpc_cn_1__c')==1,col('contact_number_1__c')).otherwise(None))\\\n",
    ".withColumn('contact_number_2__c',when(col('rpc_cn_2__c')==1,col('contact_number_2__c')).otherwise(None))\\\n",
    ".withColumn('contact_number_3__c',when(col('rpc_cn_3__c')==1,col('contact_number_3__c')).otherwise(None))\\\n",
    ".withColumn('contact_number_4__c',when(col('rpc_cn_4__c')==1,col('contact_number_4__c')).otherwise(None))\\\n",
    ".withColumn('contact_number_5__c',when(col('rpc_cn_5__c')==1,col('contact_number_5__c')).otherwise(None))\\\n",
    ".withColumn('contact_number_6__c',when(col('rpc_cn_6__c')==1,col('contact_number_6__c')).otherwise(None))\\\n",
    ".withColumn('contact_number_7__c',when(col('rpc_cn_7__c')==1,col('contact_number_7__c')).otherwise(None))\\\n",
    ".withColumn('contact_number_8__c',when(col('rpc_cn_8__c')==1,col('contact_number_8__c')).otherwise(None))\\\n",
    ".withColumn('contact_number_9__c',when(col('rpc_cn_9__c')==1,col('contact_number_9__c')).otherwise(None))\\\n",
    ".withColumn('lead_phone1__c',when(col('rpc_lp_1__c')==1,col('lead_phone1__c')).otherwise(None))\\\n",
    ".withColumn('lead_phone10__c',when(col('rpc_lp_10__c')==1,col('lead_phone10__c')).otherwise(None))\\\n",
    ".withColumn('lead_phone11__c',when(col('rpc_lp_11__c')==1,col('lead_phone11__c')).otherwise(None))\\\n",
    ".withColumn('lead_phone12__c',when(col('rpc_lp_12__c')==1,col('lead_phone12__c')).otherwise(None))\\\n",
    ".withColumn('lead_phone2__c',when(col('rpc_lp_2__c')==1,col('lead_phone2__c')).otherwise(None))\\\n",
    ".withColumn('lead_phone3__c',when(col('rpc_lp_3__c')==1,col('lead_phone3__c')).otherwise(None))\\\n",
    ".withColumn('lead_phone4__c',when(col('rpc_lp_4__c')==1,col('lead_phone4__c')).otherwise(None))\\\n",
    ".withColumn('lead_phone5__c',when(col('rpc_lp_5__c')==1,col('lead_phone5__c')).otherwise(None))\\\n",
    ".withColumn('lead_phone6__c',when(col('rpc_lp_6__c')==1,col('lead_phone6__c')).otherwise(None))\\\n",
    ".withColumn('lead_phone7__c',when(col('rpc_lp_7__c')==1,col('lead_phone7__c')).otherwise(None))\\\n",
    ".withColumn('lead_phone8__c',when(col('rpc_lp_8__c')==1,col('lead_phone8__c')).otherwise(None))\\\n",
    ".withColumn('lead_phone9__c',when(col('rpc_lp_9__c')==1,col('lead_phone9__c')).otherwise(None))\\\n",
    ".withColumn('mobile__c',when(col('rpc_mobile__c')==1,col('mobile__c')).otherwise(None))\\\n",
    ".withColumn('mobile_number__c',when(col('rpc_mn__c')==1,col('mobile_number__c')).otherwise(None))\\\n",
    ".withColumn('mobile1__c',when(col('rpc_mobile_1__c')==1,col('mobile1__c')).otherwise(None))\\\n",
    ".withColumn('mobile2__c',when(col('rpc_mobile_2__c')==1,col('mobile2__c')).otherwise(None))\n",
    "\n"
   ]
  },
  {
   "cell_type": "code",
   "execution_count": null,
   "metadata": {},
   "outputs": [],
   "source": [
    "df_sales_force=df_mobile.select('policy_number__c','client_phone_1__c', 'client_phone_2__c', 'client_phone_3__c', 'client_phone_4__c', 'client_phone_5__c', 'contact_number__c', 'contact_number_1__c', 'contact_number_2__c', 'contact_number_3__c', 'contact_number_4__c', 'contact_number_5__c', 'contact_number_6__c', 'contact_number_7__c', 'contact_number_8__c', 'contact_number_9__c', 'lead_phone1__c', 'lead_phone10__c', 'lead_phone11__c', 'lead_phone12__c', 'lead_phone2__c', 'lead_phone3__c', 'lead_phone4__c', 'lead_phone5__c', 'lead_phone6__c', 'lead_phone7__c', 'lead_phone8__c', 'lead_phone9__c', 'mobile__c', 'mobile_number__c', 'mobile1__c', 'mobile2__c')"
   ]
  },
  {
   "cell_type": "code",
   "execution_count": null,
   "metadata": {},
   "outputs": [],
   "source": [
    "from pyspark.sql.functions import col,explode,array,struct\n",
    "\n",
    "stacked_df=df_sales_force.select(col('policy_number__c'),explode(array([struct(lit(c).alias(\"key\"),col(c).alias(\"value\")) for c in df_sales_force.columns[1:]]))\\\n",
    "                    .alias(\"mobile\"))"
   ]
  },
  {
   "cell_type": "code",
   "execution_count": null,
   "metadata": {},
   "outputs": [],
   "source": [
    "res_df=stacked_df.select('policy_number__c','mobile.value').filter((col('mobile.value').isNotNull())).drop_duplicates()"
   ]
  },
  {
   "cell_type": "code",
   "execution_count": null,
   "metadata": {},
   "outputs": [],
   "source": [
    "res_df.columns"
   ]
  },
  {
   "cell_type": "code",
   "execution_count": null,
   "metadata": {},
   "outputs": [],
   "source": [
    "# Fetching premium_register Data to get the Policy_no (Will be used to connect with other Tables)\n",
    "\n",
    "gscPythonOptions = {\n",
    "         \"url\": \"jdbc:postgresql://10.35.12.194:5432/gpadmin\",\"user\": \"gpspark\",\"password\": \"spark@456\",\n",
    "         \"dbschema\": \"registers\",\"dbtable\": \"premium_register\",\n",
    "         \"partitionColumn\":\"row_num\",\"partitions\":16,\n",
    "         \"server.port\":\"1150-1170\"}\n",
    "\n",
    "prem_reg = sqlContext.read.format(\"greenplum\").options(**gscPythonOptions).load()\\\n",
    ".select('customer_id','POLICY_NO','product_cd','num_reference_no','certificate_no')\n",
    "\n",
    "# Fetching only latest entries w.r.t POLICY_NO and NUM_REFERENCE_NO\n",
    "\n",
    "prem_reg.createOrReplaceTempView('prem_reg_table')\n",
    "\n",
    "query1 = \"\"\"select a.* from (select *, row_number() \n",
    "over (partition by POLICY_NO order by num_reference_no desc) rn \n",
    "from prem_reg_table) a where rn = 1\"\"\"\n",
    "\n",
    "prem_reg = sqlContext.sql(query1)\n",
    "sqlContext.dropTempTable('prem_reg_table')\n",
    "\n",
    "prem_reg = prem_reg.drop(prem_reg.product_cd).drop(prem_reg.num_reference_no).drop(prem_reg.certificate_no).drop(prem_reg.rn)"
   ]
  },
  {
   "cell_type": "code",
   "execution_count": null,
   "metadata": {},
   "outputs": [],
   "source": [
    "condn=[sf_pol.policy_number__c ==prem_reg.POLICY_NO]\n",
    "df_salesforce1= prem_reg.join(sf_pol,condn,\"inner\")\n",
    "df_salesforce1=df_salesforce1.filter((col('policy_number__c').isNotNull())) "
   ]
  },
  {
   "cell_type": "code",
   "execution_count": null,
   "metadata": {},
   "outputs": [],
   "source": [
    "df_salesforce1.columns"
   ]
  },
  {
   "cell_type": "code",
   "execution_count": null,
   "metadata": {},
   "outputs": [],
   "source": [
    "condn=[df_salesforce1.policy_number__c ==res_df.policy_number__c]\n",
    "df_salesforce_m= df_salesforce1.join(res_df,condn,\"inner\")\n",
    "df_salesforce_m=df_salesforce_m.filter((col('value').isNotNull())) \n",
    "df_salesforce_e= df_salesforce1.join(df_email,condn,\"inner\")\n",
    "df_salesforce_e=df_salesforce_e.filter((col('email_address__c').isNotNull()))"
   ]
  },
  {
   "cell_type": "code",
   "execution_count": null,
   "metadata": {},
   "outputs": [],
   "source": [
    "df_salesforce_m.columns"
   ]
  },
  {
   "cell_type": "code",
   "execution_count": null,
   "metadata": {},
   "outputs": [],
   "source": [
    "df_salesforce_m=df_salesforce_m.withColumn('activity_id', hash(col('value')))\n",
    "df_salesforce_m=df_salesforce_m.withColumn('value', col('value'))\n",
    "\n",
    "df_salesforce_m=df_salesforce_m.withColumn('value',when(col('value').rlike(\"^(?:(?:\\+|0{0,2})91(\\s*[\\-]\\s*)?|[0]?)?[6-9]\\d{9}$\"),col('value'))\n",
    "                                 .otherwise(lit(None)))\n",
    "\n",
    "df_salesforce_m = df_salesforce_m.withColumn(\"value\", when((length(col(\"value\")) == 12),\n",
    "                                               regexp_replace(col(\"value\"), \"^91\", \"\")).otherwise(lit(col(\"value\"))))\n",
    "\n",
    "df_salesforce_m = df_salesforce_m.withColumn(\"value\", when((length(col(\"value\")) == 11),\n",
    "                                               regexp_replace(col(\"value\"), \"^0\", \"\")).otherwise(lit(col(\"value\"))))\n",
    "\n",
    "\n",
    "df_salesforce_m=df_salesforce_m.withColumn('value',when(col('value').rlike(\"^(?!(\\d)\\1{8})\\d{10}$\"),col('value'))\n",
    "                                 .otherwise(lit(None)))\n",
    "\n",
    "df_salesforce_m=df_salesforce_m.withColumn('communication_type', lit('phone'))\n",
    "df_salesforce_m=df_salesforce_m.withColumn('communication_sub_type', lit('mobile'))\n",
    "df_salesforce_m=df_salesforce_m.withColumn('dnd_flag', lit(None))\n",
    "df_salesforce_m=df_salesforce_m.withColumn('verification_flag',lit('Y'))\n",
    "df_salesforce_m=df_salesforce_m.withColumn('verification_source',lit('SALESFORCE'))\n",
    "df_salesforce_m=df_salesforce_m.withColumn('source_system_customer_id', coalesce('customer_id'))\n",
    "df_salesforce_m=df_salesforce_m.withColumn('contactability_json', lit(None))\n",
    "df_salesforce_m=df_salesforce_m.withColumn('preference_flag', lit(None))\n",
    "df_salesforce_m=df_salesforce_m.withColumn('date_reported', col('createddate'))\n",
    "df_salesforce_m=df_salesforce_m.withColumn('last_updated', col('lastmodifieddate'))\n",
    "df_salesforce_m=df_salesforce_m.withColumn('activity_date', col('lastmodifieddate'))\n",
    "df_salesforce_m=df_salesforce_m.withColumn('source_system_name', lit('SALESFORCE'))\n",
    "df_salesforce_m=df_salesforce_m.withColumn('primary_key', concat_ws('',trim(col('source_system_name')),trim(col('source_system_customer_id')), trim(col('activity_id'))))\n",
    "\n",
    "# df_salesforce_m=df_salesforce_m.select(col('source_system_name').cast('string'),col('source_system_customer_id').cast('string'),col('activity_id').cast('string'),\\\n",
    "#                          col('communication_type').cast('string'),col('communication_sub_type').cast('string'),col('activity_date').cast('timestamp'),\\\n",
    "#                          col('value'),col('verification_flag').cast('string'),col('verification_source').cast('string'),col('date_reported').cast('timestamp'),col('last_updated').cast('timestamp'),col('preference_flag').cast('string'),col('dnd_flag').cast('string'),\\\n",
    "#                          col('contactability_json'),col('primary_key'))\n",
    "# df_salesforce_m=df_salesforce_m.filter(col(\"value\").isNotNull())\n",
    "\n",
    "\n",
    "df_salesforce_m=df_salesforce_m.select(col('source_system_name').cast('string'),col('source_system_customer_id').cast('string'),col('activity_id').cast('string'),\\\n",
    "                         col('communication_type').cast('string'),col('communication_sub_type').cast('string'),col('activity_date').cast('timestamp'),\\\n",
    "                         col('value'),col('verification_flag').cast('string'),col('verification_source').cast('string'),col('date_reported').cast('timestamp'),col('last_updated').cast('timestamp'),col('preference_flag').cast('string'),col('dnd_flag').cast('int'),col('contactability_json'),\\\n",
    "                         col('primary_key'))\n",
    "df_salesforce_m=df_salesforce_m.filter(col(\"value\").isNotNull())\n"
   ]
  },
  {
   "cell_type": "code",
   "execution_count": null,
   "metadata": {},
   "outputs": [],
   "source": [
    "df_salesforce_e=df_salesforce_e.withColumn('activity_id', hash(col('email_address__c')))\n",
    "df_salesforce_e=df_salesforce_e.withColumn('value', col('email_address__c'))\n",
    "\n",
    "df_salesforce_e = df_salesforce_e.filter(~(lower(col(\"value\")).contains(\"abc@\")))\\\n",
    ".filter(~(lower(col(\"value\")).contains(\"xyz@\")))\\\n",
    ".filter(~(lower(col(\"value\")).contains(\"1234@\")))\\\n",
    ".filter(~(lower(col(\"value\")).contains(\"null@\")))\\\n",
    ".filter(~(lower(col(\"value\")).contains(\"na@\")))\\\n",
    ".filter(~(lower(col(\"value\")).contains(\"00@\")))\n",
    "\n",
    "df_salesforce_e=df_salesforce_e.withColumn('communication_type', lit('email'))\n",
    "df_salesforce_e=df_salesforce_e.withColumn('communication_sub_type', lit('email'))\n",
    "df_salesforce_e=df_salesforce_e.withColumn('dnd_flag', lit(None))\n",
    "df_salesforce_e=df_salesforce_e.withColumn('verification_flag',lit('Y'))\n",
    "df_salesforce_e=df_salesforce_e.withColumn('verification_source',lit('SALESFORCE'))\n",
    "df_salesforce_e=df_salesforce_e.withColumn('source_system_customer_id', coalesce('customer_id'))\n",
    "df_salesforce_e=df_salesforce_e.withColumn('contactability_json', lit(None))\n",
    "df_salesforce_e=df_salesforce_e.withColumn('preference_flag', lit(None))\n",
    "df_salesforce_e=df_salesforce_e.withColumn('date_reported', col('createddate'))\n",
    "df_salesforce_e=df_salesforce_e.withColumn('last_updated', col('lastmodifieddate'))\n",
    "df_salesforce_e=df_salesforce_e.withColumn('activity_date', col('lastmodifieddate'))\n",
    "df_salesforce_e=df_salesforce_e.withColumn('source_system_name', lit('SALESFORCE'))\n",
    "df_salesforce_e=df_salesforce_e.withColumn('primary_key', concat_ws('',trim(col('source_system_name')),trim(col('source_system_customer_id')), trim(col('activity_id'))))\n",
    "\n",
    "# df_salesforce_m=df_salesforce_m.select(col('source_system_name').cast('string'),col('source_system_customer_id').cast('string'),col('activity_id').cast('string'),\\\n",
    "#                          col('communication_type').cast('string'),col('communication_sub_type').cast('string'),col('activity_date').cast('timestamp'),\\\n",
    "#                          col('value'),col('verification_flag').cast('string'),col('verification_source').cast('string'),col('date_reported').cast('timestamp'),col('last_updated').cast('timestamp'),col('preference_flag').cast('string'),col('dnd_flag').cast('string'),\\\n",
    "#                          col('contactability_json'),col('primary_key'))\n",
    "# df_salesforce_m=df_salesforce_m.filter(col(\"value\").isNotNull())\n",
    "\n",
    "\n",
    "df_salesforce_e=df_salesforce_e.select(col('source_system_name').cast('string'),col('source_system_customer_id').cast('string'),col('activity_id').cast('string'),\\\n",
    "                         col('communication_type').cast('string'),col('communication_sub_type').cast('string'),col('activity_date').cast('timestamp'),\\\n",
    "                         col('value'),col('verification_flag').cast('string'),col('verification_source').cast('string'),col('date_reported').cast('timestamp'),col('last_updated').cast('timestamp'),col('preference_flag').cast('string'),col('dnd_flag').cast('int'),col('contactability_json'),\\\n",
    "                         col('primary_key'))\n",
    "df_salesforce_e=df_salesforce_e.filter(col(\"value\").isNotNull())"
   ]
  },
  {
   "cell_type": "code",
   "execution_count": null,
   "metadata": {},
   "outputs": [],
   "source": [
    "df_salesforce_m=df_salesforce_m.union(df_salesforce_e)\n",
    "df_salesforce_m.columns"
   ]
  },
  {
   "cell_type": "code",
   "execution_count": null,
   "metadata": {},
   "outputs": [],
   "source": [
    "from pyspark.sql.window import Window\n",
    "\n",
    "df_salesforce_m = df_salesforce_m.withColumn(\"rn\", F.row_number()\n",
    "        .over(Window.partitionBy(\"primary_key\")\n",
    "        .orderBy(F.col(\"last_updated\").desc())))\n",
    "\n",
    "df_salesforce_m = df_salesforce_m.filter(F.col(\"rn\") == 1).drop(\"rn\")\n",
    "\n",
    "df_salesforce_m=df_salesforce_m.filter(col('source_system_customer_id').isNotNull())\n",
    "df_salesforce_m=df_salesforce_m.select(col('source_system_name').cast('string'),col('source_system_customer_id').cast('string'),col('activity_id').cast('string'),col('activity_date').cast('timestamp'),col('communication_type').cast('string'),col('communication_sub_type').cast('string'),col('value').cast('string'),col('verification_flag').cast('string'),col('verification_source').cast('string'),col('date_reported').cast('timestamp'),col('last_updated').cast('timestamp'),col('preference_flag'),col('contactability_json'),col('dnd_flag').cast('int'))\n"
   ]
  },
  {
   "cell_type": "code",
   "execution_count": null,
   "metadata": {},
   "outputs": [],
   "source": [
    "df_salesforce_m.persist(pyspark.StorageLevel.MEMORY_AND_DISK)\n",
    "records=df_salesforce_m.count()\n",
    "records"
   ]
  },
  {
   "cell_type": "code",
   "execution_count": null,
   "metadata": {},
   "outputs": [],
   "source": [
    "df_salesforce_m = df_salesforce_m.filter(~(col(\"value\").isin(['1234567890','9876543210','9999988888','9090909090','990000000','9000000000'])))\n",
    "df_salesforce_m=df_salesforce_m.filter(F.col(\"source_system_customer_id\").isNotNull()).filter(F.col(\"value\").isNotNull())"
   ]
  },
  {
   "cell_type": "code",
   "execution_count": null,
   "metadata": {},
   "outputs": [],
   "source": [
    "condition = [lower(trim(df_salesforce_m.value))==lower(trim(agent_no.mobile))]\n",
    "\n",
    "df_salesforce_m = df_salesforce_m.join(agent_no,condition,how=\"left\")\n",
    "df_salesforce_m = df_salesforce_m.filter(col('mobile').isNull()).drop(df_salesforce_m.mobile)\n",
    "\n",
    "condition = [lower(trim(df_salesforce_m.value))==lower(trim(agent_email.txt_email))]\n",
    "\n",
    "df_salesforce_m = df_salesforce_m.join(agent_email,condition,how=\"left\")\n",
    "df_salesforce_m = df_salesforce_m.filter(col('txt_email').isNull()).drop(df_salesforce_m.txt_email)"
   ]
  },
  {
   "cell_type": "code",
   "execution_count": null,
   "metadata": {},
   "outputs": [],
   "source": [
    "output_index = 'contactability_staging'\n",
    "schema = 'customermart'\n",
    "\n",
    "import sys\n",
    "try:\n",
    "    \n",
    "     df_salesforce_m.write.option(\"truncate\", \"true\").format(\"greenplum\")\\\n",
    "    .option(\"dbtable\",output_index).option('dbschema',schema)\\\n",
    "    .option(\"server.port\",\"1150-1170\").option(\"url\",prod_url)\\\n",
    "    .option(\"user\", user_prod).option(\"password\",pwd_prod).mode('overwrite').save()\n",
    "    \n",
    "    \n",
    "except Exception as e:\n",
    "    x = e\n",
    "    print(x)\n",
    "else:\n",
    "    x = 'success'\n",
    "    print(x)"
   ]
  },
  {
   "cell_type": "code",
   "execution_count": null,
   "metadata": {},
   "outputs": [],
   "source": [
    "table_name=\"contactability\"\n",
    "conn_prod = psycopg2.connect(host=prod_host, port=prod_port, user=user_prod, password=pwd_prod, dbname=prod_dbname)\n",
    "conn_to=conn_prod\n",
    "status=''\n",
    "\n",
    "import sys\n",
    "try:\n",
    "    update(conn_to,table_name,prod_gpdb_spark_options, schema=\"customermart\")\n",
    "except Exception as e:\n",
    "    x = e\n",
    "    print(x)\n",
    "    status='Failed'\n",
    "else:\n",
    "    x = 'success'\n",
    "    print(x)\n",
    "    status='Success'\n"
   ]
  },
  {
   "cell_type": "code",
   "execution_count": null,
   "metadata": {},
   "outputs": [],
   "source": [
    "update_progress(table_name,source,time_filter,records,start_time,starttime,status)"
   ]
  },
  {
   "cell_type": "code",
   "execution_count": null,
   "metadata": {},
   "outputs": [],
   "source": [
    "df_salesforce_m.unpersist()"
   ]
  },
  {
   "cell_type": "markdown",
   "metadata": {},
   "source": [
    "# PAYNOW CALLCENTER AUTOPAY"
   ]
  },
  {
   "cell_type": "code",
   "execution_count": null,
   "metadata": {},
   "outputs": [],
   "source": [
    "starttime = time.time()\n",
    "start_time = datetime.datetime.now(pytz.timezone('Asia/Kolkata')).strftime(\"%Y-%m-%d %H:%M:%S.%f\")\n",
    "start_time"
   ]
  },
  {
   "cell_type": "code",
   "execution_count": null,
   "metadata": {},
   "outputs": [],
   "source": [
    "table_name='contactability'\n",
    "source='AUTOPAY'"
   ]
  },
  {
   "cell_type": "code",
   "execution_count": null,
   "metadata": {},
   "outputs": [],
   "source": [
    "latest_progress=get_latest_progress(table_name,source)\n",
    "# dates in string format\n",
    "str_d1 = latest_progress.strftime(\"%Y-%m-%d\")\n",
    "str_d2 = datetime.datetime.now(pytz.timezone('Asia/Kolkata')).strftime(\"%Y-%m-%d\")\n",
    "\n",
    "# convert string to date object\n",
    "d1 = datetime.datetime.strptime(str_d1, \"%Y-%m-%d\")\n",
    "d2 = datetime.datetime.strptime(str_d2, \"%Y-%m-%d\")\n",
    "\n",
    "# difference between dates in timedelta\n",
    "delta = d2 - d1\n",
    "day=delta.days-1#currently T-2 change 2 to 1 for T-1\n",
    "\n",
    "time_filter={'start_date':latest_progress,'end_date':latest_progress+datetime.timedelta(days=day)}\n",
    "time_filter"
   ]
  },
  {
   "cell_type": "code",
   "execution_count": null,
   "metadata": {},
   "outputs": [],
   "source": [
    "col_str=['client_no','mobile_no','email_id','created_on']\n",
    "\n",
    "gscPythonOptions = {\n",
    "\"url\": \"jdbc:postgresql://10.35.12.194:5432/gpadmin\",\n",
    "\"user\": \"gpspark\",\n",
    "\"password\": \"spark@456\",\n",
    "\"dbschema\":\"public\",\n",
    "\"server.port\": \"1151-1160\",\n",
    "\"dbtable\": \"paynow_callcentre_autopay_details\"}\n",
    "autopay_df= sqlContext.read.format(\"greenplum\").options(**gscPythonOptions).load()\\\n",
    "         .selectExpr(col_str).filter(col('created_on').between(to_timestamp(lit(time_filter['start_date']),\n",
    "                                                                 format='yyyy-MM-dd'),\n",
    "                                                    to_timestamp(lit(time_filter['end_date']),\n",
    "                                                                 format='yyyy-MM-dd')))\n",
    "\n",
    "autopay_df_mob=autopay_df.filter((col('mobile_no').isNotNull()) & (trim(col('mobile_no'))!='') & (trim(col('mobile_no'))!='-'))\n",
    "autopay_df_mail=autopay_df.filter((col('email_id').isNotNull()) & (trim(col('email_id'))!='') & (trim(col('email_id'))!='-'))"
   ]
  },
  {
   "cell_type": "code",
   "execution_count": null,
   "metadata": {},
   "outputs": [],
   "source": [
    "autopay_df_mob=autopay_df_mob.withColumn('activity_id', hash(col('mobile_no')))\n",
    "autopay_df_mob=autopay_df_mob.withColumn('verification_flag', lit('G'))\n",
    "autopay_df_mob=autopay_df_mob.withColumn('verification_source',lit('AUTOPAY'))\n",
    "autopay_df_mob=autopay_df_mob.withColumn('value',when(col('mobile_no').rlike(\"^(?:(?:\\+|0{0,2})91(\\s*[\\-]\\s*)?|[0]?)?[6-9]\\d{9}$\"),col('mobile_no'))\n",
    "                                 .otherwise(lit(None)))\n",
    "\n",
    "autopay_df_mob = autopay_df_mob.withColumn(\"value\", when((length(col(\"value\")) == 12),\n",
    "                                               regexp_replace(col(\"value\"), \"^91\", \"\")).otherwise(lit(col(\"value\"))))\n",
    "\n",
    "autopay_df_mob = autopay_df_mob.withColumn(\"value\", when((length(col(\"value\")) == 11),\n",
    "                                               regexp_replace(col(\"value\"), \"^0\", \"\")).otherwise(lit(col(\"value\"))))\n",
    "autopay_df_mob=autopay_df_mob.withColumn('value',when(col('value').rlike(\"^(?!(\\d)\\1{8})\\d{10}$\"),col('value'))\n",
    "                                 .otherwise(lit(None)))\n",
    "autopay_df_mob=autopay_df_mob.withColumn('source_id', lit('AUTOPAY'))\n",
    "autopay_df_mob=autopay_df_mob.withColumn('dnd_flag', lit(None))\n",
    "autopay_df_mob=autopay_df_mob.withColumn('communication_type', lit('phone'))\n",
    "autopay_df_mob=autopay_df_mob.withColumn('communication_sub_type', lit('mobile'))\n",
    "autopay_df_mob=autopay_df_mob.withColumn('source_system_customer_id', coalesce('client_no'))\n",
    "autopay_df_mob=autopay_df_mob.withColumn('contactability_json', lit(None))\n",
    "autopay_df_mob=autopay_df_mob.withColumn('preference_flag', lit(None))\n",
    "autopay_df_mob=autopay_df_mob.withColumn('date_reported', col('created_on'))\n",
    "autopay_df_mob=autopay_df_mob.withColumn('last_updated', col('created_on'))\n",
    "autopay_df_mob=autopay_df_mob.withColumn('activity_date', col('created_on'))\n",
    "autopay_df_mob=autopay_df_mob.withColumn('source_system_name', lit('AUTOPAY'))\n",
    "autopay_df_mob=autopay_df_mob.withColumn('primary_key', concat_ws('',trim(col('source_id')),trim(col('source_system_customer_id')), trim(col('activity_id'))))"
   ]
  },
  {
   "cell_type": "code",
   "execution_count": null,
   "metadata": {},
   "outputs": [],
   "source": [
    "autopay_df_mail=autopay_df_mail.withColumn('activity_id', hash(col('email_id')))\n",
    "autopay_df_mail=autopay_df_mail.withColumn('verification_flag', lit('G'))\n",
    "autopay_df_mail=autopay_df_mail.withColumn('verification_source',lit('AUTOPAY'))\n",
    "# autopay_df_mail=autopay_df_mail.withColumn('value',when(col('email_id').rlike(\"^\\w+([\\.-]?\\w+)*@\\w+([\\.-]?\\w+)*(\\.\\w{2,3})+$\"),col('email_id'))\n",
    "#                                  .otherwise(lit(None)))\n",
    "autopay_df_mail=autopay_df_mail.withColumn('value',col('email_id'))\n",
    "autopay_df_mail = autopay_df_mail.filter(~(lower(col(\"value\")).contains(\"abc@\")))\\\n",
    ".filter(~(lower(col(\"value\")).contains(\"xyz@\")))\\\n",
    ".filter(~(lower(col(\"value\")).contains(\"1234@\")))\\\n",
    ".filter(~(lower(col(\"value\")).contains(\"null@\")))\\\n",
    ".filter(~(lower(col(\"value\")).contains(\"na@\")))\\\n",
    ".filter(~(lower(col(\"value\")).contains(\"00@\")))\n",
    "\n",
    "autopay_df_mail=autopay_df_mail.withColumn('source_id', lit('AUTOPAY'))\n",
    "autopay_df_mail=autopay_df_mail.withColumn('dnd_flag', lit(None))\n",
    "autopay_df_mail=autopay_df_mail.withColumn('communication_type', lit('email'))\n",
    "autopay_df_mail=autopay_df_mail.withColumn('communication_sub_type', lit('email'))\n",
    "autopay_df_mail=autopay_df_mail.withColumn('source_system_customer_id', coalesce('client_no'))\n",
    "autopay_df_mail=autopay_df_mail.withColumn('contactability_json', lit(None))\n",
    "autopay_df_mail=autopay_df_mail.withColumn('preference_flag', lit(None))\n",
    "autopay_df_mail=autopay_df_mail.withColumn('date_reported', col('created_on'))\n",
    "autopay_df_mail=autopay_df_mail.withColumn('last_updated', col('created_on'))\n",
    "autopay_df_mail=autopay_df_mail.withColumn('activity_date', col('created_on'))\n",
    "autopay_df_mail=autopay_df_mail.withColumn('source_system_name', lit('AUTOPAY'))\n",
    "autopay_df_mail=autopay_df_mail.withColumn('primary_key', concat_ws('',trim(col('source_id')),trim(col('source_system_customer_id')), trim(col('activity_id'))))"
   ]
  },
  {
   "cell_type": "code",
   "execution_count": null,
   "metadata": {},
   "outputs": [],
   "source": [
    "autopay = autopay_df_mob.union(autopay_df_mail)"
   ]
  },
  {
   "cell_type": "code",
   "execution_count": null,
   "metadata": {},
   "outputs": [],
   "source": [
    "autopay = autopay.filter(~(col(\"value\").isin(['1234567890','9876543210','9999988888','9090909090']))).filter(~(lower(trim(col(\"value\"))).isin(['abc@gmail.com','xyz@gmail.com','123@gmail.com','abc@d.com','abcd@gmail.com'])))\n",
    "autopay=autopay.filter(F.col(\"source_system_customer_id\").isNotNull()).filter(F.col(\"value\").isNotNull())"
   ]
  },
  {
   "cell_type": "code",
   "execution_count": null,
   "metadata": {},
   "outputs": [],
   "source": [
    "from pyspark.sql.window import Window\n",
    "\n",
    "autopay = autopay.withColumn(\"rn\", F.row_number()\n",
    "        .over(Window.partitionBy(\"primary_key\")\n",
    "        .orderBy(F.col(\"last_updated\").desc())))\n",
    "\n",
    "autopay = autopay.filter(F.col(\"rn\") == 1).drop(\"rn\")"
   ]
  },
  {
   "cell_type": "code",
   "execution_count": null,
   "metadata": {},
   "outputs": [],
   "source": [
    "autopay=autopay.select(['source_system_name','source_system_customer_id','activity_id','activity_date','communication_type','communication_sub_type','value','verification_flag','verification_source','date_reported','last_updated','preference_flag','contactability_json','dnd_flag'])\n"
   ]
  },
  {
   "cell_type": "code",
   "execution_count": null,
   "metadata": {},
   "outputs": [],
   "source": [
    "autopay=autopay.filter(col('source_system_customer_id').isNotNull())\n",
    "autopay=autopay.select(col('source_system_name').cast('string'),col('source_system_customer_id').cast('string'),col('activity_id').cast('string'),col('activity_date').cast('timestamp'),col('communication_type').cast('string'),col('communication_sub_type').cast('string'),col('value').cast('string'),col('verification_flag').cast('string'),col('verification_source').cast('string'),col('date_reported').cast('timestamp'),col('last_updated').cast('timestamp'),col('preference_flag'),col('contactability_json'),col('dnd_flag').cast('int'))"
   ]
  },
  {
   "cell_type": "code",
   "execution_count": null,
   "metadata": {},
   "outputs": [],
   "source": [
    "autopay.persist(pyspark.StorageLevel.MEMORY_AND_DISK)\n",
    "records=autopay.count()\n",
    "records"
   ]
  },
  {
   "cell_type": "code",
   "execution_count": null,
   "metadata": {},
   "outputs": [],
   "source": [
    "condition = [lower(trim(autopay.value))==lower(trim(agent_no.mobile))]\n",
    "\n",
    "autopay = autopay.join(agent_no,condition,how=\"left\")\n",
    "autopay = autopay.filter(col('mobile').isNull()).drop(autopay.mobile)\n",
    "\n",
    "condition = [lower(trim(autopay.value))==lower(trim(agent_email.txt_email))]\n",
    "\n",
    "autopay = autopay.join(agent_email,condition,how=\"left\")\n",
    "autopay = autopay.filter(col('txt_email').isNull()).drop(autopay.txt_email)"
   ]
  },
  {
   "cell_type": "code",
   "execution_count": null,
   "metadata": {},
   "outputs": [],
   "source": [
    "output_index = 'contactability_staging'\n",
    "schema = 'customermart'\n",
    "\n",
    "import sys\n",
    "try:\n",
    "    \n",
    "     autopay.write.option(\"truncate\", \"true\").format(\"greenplum\")\\\n",
    "    .option(\"dbtable\",output_index).option('dbschema',schema)\\\n",
    "    .option(\"server.port\",\"1150-1170\").option(\"url\",prod_url)\\\n",
    "    .option(\"user\", user_prod).option(\"password\",pwd_prod).mode('overwrite').save()\n",
    "    \n",
    "    \n",
    "except Exception as e:\n",
    "    x = e\n",
    "    print(x)\n",
    "else:\n",
    "    x = 'success'\n",
    "    print(x)"
   ]
  },
  {
   "cell_type": "code",
   "execution_count": null,
   "metadata": {},
   "outputs": [],
   "source": [
    "table_name=\"contactability\"\n",
    "conn_prod = psycopg2.connect(host=prod_host, port=prod_port, user=user_prod, password=pwd_prod, dbname=prod_dbname)\n",
    "conn_to=conn_prod\n",
    "status=''\n",
    "\n",
    "import sys\n",
    "try:\n",
    "    update(conn_to,table_name,prod_gpdb_spark_options, schema=\"customermart\")\n",
    "except Exception as e:\n",
    "    x = e\n",
    "    print(x)\n",
    "    status='Failed'\n",
    "else:\n",
    "    x = 'success'\n",
    "    print(x)\n",
    "    status='Success'"
   ]
  },
  {
   "cell_type": "code",
   "execution_count": null,
   "metadata": {},
   "outputs": [],
   "source": [
    "update_progress(table_name,source,time_filter,records,start_time,starttime,status)"
   ]
  },
  {
   "cell_type": "code",
   "execution_count": null,
   "metadata": {},
   "outputs": [],
   "source": [
    "autopay.unpersist()"
   ]
  },
  {
   "cell_type": "code",
   "execution_count": null,
   "metadata": {},
   "outputs": [],
   "source": [
    "spark.stop()"
   ]
  },
  {
   "cell_type": "markdown",
   "metadata": {},
   "source": [
    "# AXISVATION"
   ]
  },
  {
   "cell_type": "code",
   "execution_count": null,
   "metadata": {},
   "outputs": [],
   "source": [
    "starttime = time.time()\n",
    "start_time = datetime.datetime.now(pytz.timezone('Asia/Kolkata')).strftime(\"%Y-%m-%d %H:%M:%S.%f\")\n",
    "start_time"
   ]
  },
  {
   "cell_type": "code",
   "execution_count": null,
   "metadata": {},
   "outputs": [],
   "source": [
    "table_name='contactability'\n",
    "source='AXISVATION'"
   ]
  },
  {
   "cell_type": "code",
   "execution_count": null,
   "metadata": {},
   "outputs": [],
   "source": [
    "latest_progress=get_latest_progress(table_name,source)\n",
    "# dates in string format\n",
    "str_d1 = latest_progress.strftime(\"%Y-%m-%d\")\n",
    "str_d2 = datetime.datetime.now(pytz.timezone('Asia/Kolkata')).strftime(\"%Y-%m-%d\")\n",
    "\n",
    "# convert string to date object\n",
    "d1 = datetime.datetime.strptime(str_d1, \"%Y-%m-%d\")\n",
    "d2 = datetime.datetime.strptime(str_d2, \"%Y-%m-%d\")\n",
    "\n",
    "# difference between dates in timedelta\n",
    "delta = d2 - d1\n",
    "day=delta.days-1#currently T-2 change 2 to 1 for T-1\n",
    "\n",
    "time_filter={'start_date':latest_progress,'end_date':latest_progress+datetime.timedelta(days=day)}\n",
    "time_filter"
   ]
  },
  {
   "cell_type": "code",
   "execution_count": null,
   "metadata": {},
   "outputs": [],
   "source": [
    "col_str=['insured_mobile','reg_no','insert_date','make','model']\n",
    "\n",
    "gscPythonOptions = {\n",
    "\"url\": \"jdbc:postgresql://10.35.12.194:5432/gpadmin\",\n",
    "\"user\": \"gpspark\",\n",
    "\"password\": \"spark@456\",\n",
    "\"server.port\": \"1151-1160\",\n",
    "# \"dbschema\":\"customermart\",\n",
    "\"dbtable\": \"customermart.axisvation_temp\"}\n",
    "axis_df= sqlContext.read.format(\"jdbc\").options(**gscPythonOptions).load()\\\n",
    "         .selectExpr(col_str).filter(col('insert_date').between(to_timestamp(lit(time_filter['start_date']),\n",
    "                                                                 format='yyyy-MM-dd'),\n",
    "                                                    to_timestamp(lit(time_filter['end_date']),\n",
    "                                                                 format='yyyy-MM-dd')))\n"
   ]
  },
  {
   "cell_type": "code",
   "execution_count": null,
   "metadata": {},
   "outputs": [],
   "source": [
    "gscPythonOptions = {\n",
    "         \"url\": \"jdbc:postgresql://10.35.12.194:5432/gpadmin\",\"user\": \"gpspark\",\"password\": \"spark@456\",\n",
    "         \"dbschema\": \"registers\",\"dbtable\": \"premium_register\",\n",
    "         \"partitionColumn\":\"row_num\",\"partitions\":16,\n",
    "         \"server.port\":\"1150-1170\"}\n",
    "\n",
    "pr_df = sqlContext.read.format(\"greenplum\").options(**gscPythonOptions).load()\\\n",
    ".select('customer_id','vehicle_registration_no','motor_manufacturer_name','motor_model_name').filter(col('vehicle_registration_no').isNotNull())"
   ]
  },
  {
   "cell_type": "code",
   "execution_count": null,
   "metadata": {},
   "outputs": [],
   "source": [
    "condition = [(upper(trim(axis_df.reg_no))==upper(trim(pr_df.vehicle_registration_no))) & (upper(trim(axis_df.model))==upper(trim(pr_df.motor_model_name))) &  (upper(trim(axis_df.make))==upper(trim(pr_df.motor_manufacturer_name)))]\n",
    "\n",
    "axis_df = axis_df.join(pr_df,condition,how=\"inner\")"
   ]
  },
  {
   "cell_type": "code",
   "execution_count": null,
   "metadata": {},
   "outputs": [],
   "source": [
    "axis_df.columns"
   ]
  },
  {
   "cell_type": "code",
   "execution_count": null,
   "metadata": {},
   "outputs": [],
   "source": [
    "axis_df=axis_df.withColumn('activity_id', hash(col('insured_mobile')))\n",
    "axis_df=axis_df.withColumn('verification_flag',(lit('G')))\n",
    "axis_df=axis_df.withColumn('verification_source',lit('AXISVATION'))\n",
    "axis_df=axis_df.withColumn('value',when(col('insured_mobile').rlike(\"^(?:(?:\\+|0{0,2})91(\\s*[\\-]\\s*)?|[0]?)?[6-9]\\d{9}$\"),col('insured_mobile'))\n",
    ".otherwise(lit(None)))\n",
    "\n",
    "axis_df = axis_df.withColumn(\"value\", when((length(col(\"value\")) == 12),\n",
    "                                               regexp_replace(col(\"value\"), \"^91\", \"\")).otherwise(lit(col(\"value\"))))\n",
    "\n",
    "axis_df = axis_df.withColumn(\"value\", when((length(col(\"value\")) == 11),\n",
    "                                               regexp_replace(col(\"value\"), \"^0\", \"\")).otherwise(lit(col(\"value\"))))\n",
    "\n",
    "axis_df=axis_df.withColumn('value',when(col('value').rlike(\"^(?!(\\d)\\1{8})\\d{10}$\"),col('value'))\n",
    ".otherwise(lit(None)))\n",
    "axis_df=axis_df.withColumn('dnd_flag', lit(None))\n",
    "axis_df=axis_df.withColumn('communication_type', lit('phone'))\n",
    "axis_df=axis_df.withColumn('communication_sub_type',lit('mobile'))\n",
    "axis_df=axis_df.withColumn('contactability_json', lit(None))\n",
    "axis_df=axis_df.withColumn('preference_flag', lit(None))\n",
    "axis_df=axis_df.withColumn('date_reported', col('insert_date'))\n",
    "axis_df=axis_df.withColumn('last_updated', col('insert_date'))\n",
    "axis_df=axis_df.withColumn('activity_date', col('insert_date'))\n",
    "axis_df=axis_df.withColumn('source_system_name', lit('AXISVATION'))\n",
    "axis_df=axis_df.withColumn('source_system_customer_id',col('customer_id'))\n",
    "axis_df=axis_df.withColumn('primary_key', concat_ws('',trim(col('verification_source')),trim(col('source_system_customer_id')), trim(col('activity_id'))))"
   ]
  },
  {
   "cell_type": "code",
   "execution_count": null,
   "metadata": {},
   "outputs": [],
   "source": [
    "from pyspark.sql.window import Window\n",
    "\n",
    "axis_df = axis_df.withColumn(\"rn\", F.row_number()\n",
    "        .over(Window.partitionBy(\"primary_key\")\n",
    "        .orderBy(F.col(\"last_updated\").desc())))\n",
    "\n",
    "axis_df = axis_df.filter(F.col(\"rn\") == 1).drop(\"rn\")"
   ]
  },
  {
   "cell_type": "code",
   "execution_count": null,
   "metadata": {},
   "outputs": [],
   "source": [
    "axis_df=axis_df.filter(col('source_system_customer_id').isNotNull())\n",
    "axis_df=axis_df.select(col('source_system_name').cast('string'),col('source_system_customer_id').cast('string'),col('activity_id').cast('string'),col('activity_date').cast('timestamp'),col('communication_type').cast('string'),col('communication_sub_type').cast('string'),col('value').cast('string'),col('verification_flag').cast('string'),col('verification_source').cast('string'),col('date_reported').cast('timestamp'),col('last_updated').cast('timestamp'),col('preference_flag'),col('contactability_json'),col('dnd_flag').cast('int'))"
   ]
  },
  {
   "cell_type": "code",
   "execution_count": null,
   "metadata": {},
   "outputs": [],
   "source": [
    "axis_df.persist(pyspark.StorageLevel.MEMORY_AND_DISK)\n",
    "records=axis_df.count()\n",
    "records"
   ]
  },
  {
   "cell_type": "code",
   "execution_count": null,
   "metadata": {},
   "outputs": [],
   "source": [
    "condition = [lower(trim(axis_df.value))==lower(trim(agent_no.mobile))]\n",
    "\n",
    "axis_df = axis_df.join(agent_no,condition,how=\"left\")\n",
    "axis_df = axis_df.filter(col('mobile').isNull()).drop(axis_df.mobile)\n",
    "\n",
    "condition = [lower(trim(axis_df.value))==lower(trim(agent_email.txt_email))]\n",
    "\n",
    "axis_df = axis_df.join(agent_email,condition,how=\"left\")\n",
    "axis_df = axis_df.filter(col('txt_email').isNull()).drop(axis_df.txt_email)"
   ]
  },
  {
   "cell_type": "code",
   "execution_count": null,
   "metadata": {},
   "outputs": [],
   "source": [
    "output_index = 'contactability_staging'\n",
    "schema = 'customermart'\n",
    "\n",
    "import sys\n",
    "try:\n",
    "    \n",
    "     axis_df.write.option(\"truncate\", \"true\").format(\"greenplum\")\\\n",
    "    .option(\"dbtable\",output_index).option('dbschema',schema)\\\n",
    "    .option(\"server.port\",\"1150-1170\").option(\"url\",prod_url)\\\n",
    "    .option(\"user\", user_prod).option(\"password\",pwd_prod).mode('overwrite').save()\n",
    "    \n",
    "    \n",
    "except Exception as e:\n",
    "    x = e\n",
    "    print(x)\n",
    "else:\n",
    "    x = 'success'\n",
    "    print(x)"
   ]
  },
  {
   "cell_type": "code",
   "execution_count": null,
   "metadata": {},
   "outputs": [],
   "source": [
    "table_name=\"contactability\"\n",
    "conn_prod = psycopg2.connect(host=prod_host, port=prod_port, user=user_prod, password=pwd_prod, dbname=prod_dbname)\n",
    "conn_to=conn_prod\n",
    "status=''\n",
    "\n",
    "import sys\n",
    "try:\n",
    "    update(conn_to,table_name,prod_gpdb_spark_options, schema=\"customermart\")\n",
    "except Exception as e:\n",
    "    x = e\n",
    "    print(x)\n",
    "    status='Failed'\n",
    "else:\n",
    "    x = 'success'\n",
    "    print(x)\n",
    "    status='Success'"
   ]
  },
  {
   "cell_type": "code",
   "execution_count": null,
   "metadata": {},
   "outputs": [],
   "source": [
    "update_progress(table_name,source,time_filter,records,start_time,starttime,status)"
   ]
  },
  {
   "cell_type": "code",
   "execution_count": null,
   "metadata": {},
   "outputs": [],
   "source": [
    "axis_df.unpersist()"
   ]
  },
  {
   "cell_type": "code",
   "execution_count": null,
   "metadata": {},
   "outputs": [],
   "source": []
  },
  {
   "cell_type": "markdown",
   "metadata": {},
   "source": [
    "# CREDIT_BUREAU"
   ]
  },
  {
   "cell_type": "code",
   "execution_count": null,
   "metadata": {},
   "outputs": [],
   "source": [
    "# starttime = time.time()\n",
    "# start_time = datetime.datetime.now(pytz.timezone('Asia/Kolkata')).strftime(\"%Y-%m-%d %H:%M:%S.%f\")\n",
    "# start_time"
   ]
  },
  {
   "cell_type": "code",
   "execution_count": null,
   "metadata": {},
   "outputs": [],
   "source": [
    "# table_name='contactability'\n",
    "# source='CREDIT_BUREAU'"
   ]
  },
  {
   "cell_type": "code",
   "execution_count": null,
   "metadata": {},
   "outputs": [],
   "source": [
    "# latest_progress=get_latest_progress(table_name,source)\n",
    "# # dates in string format\n",
    "# str_d1 = latest_progress.strftime(\"%Y-%m-%d\")\n",
    "# str_d2 = datetime.datetime.now(pytz.timezone('Asia/Kolkata')).strftime(\"%Y-%m-%d\")\n",
    "\n",
    "# # convert string to date object\n",
    "# d1 = datetime.datetime.strptime(str_d1, \"%Y-%m-%d\")\n",
    "# # d2 = datetime.datetime.strptime(str_d2, \"%Y-%m-%d\")\n",
    "\n",
    "# # difference between dates in timedelta\n",
    "# delta = d2 - d1\n",
    "# day=delta.days-1#currently T-2 change 2 to 1 for T-1\n",
    "\n",
    "# time_filter={'start_date':latest_progress,'end_date':latest_progress+datetime.timedelta(days=day)}\n",
    "# time_filter"
   ]
  },
  {
   "cell_type": "code",
   "execution_count": null,
   "metadata": {},
   "outputs": [],
   "source": [
    "# col_str=['dc_unified_id','source','phone_1','phone_2','phone_3','phone_4','email_1','email_2','email_3','email_4','insert_date']\n",
    "\n",
    "# gscPythonOptions = {\n",
    "# \"url\": \"jdbc:postgresql://10.35.12.194:5432/gpadmin\",\n",
    "# \"user\": \"gpspark\",\n",
    "# \"password\": \"spark@456\",\n",
    "# \"server.port\": \"1151-1160\",\n",
    "# # \"dbschema\":\"customermart\",\n",
    "# \"dbtable\": \"datamarts.credit_bureau_data\"}\n",
    "# credit_bureau_df= sqlContext.read.format(\"jdbc\").options(**gscPythonOptions).load()\\\n",
    "#          .selectExpr(col_str).filter(col('insert_date').between(to_timestamp(lit(time_filter['start_date']),\n",
    "#                                                                  format='yyyy-MM-dd'),\n",
    "#                                                     to_timestamp(lit(time_filter['end_date']),\n",
    "#                                                                  format='yyyy-MM-dd')))"
   ]
  },
  {
   "cell_type": "code",
   "execution_count": null,
   "metadata": {},
   "outputs": [],
   "source": [
    "# credit_bureau_df.persist(pyspark.StorageLevel.MEMORY_AND_DISK)\n",
    "# records=credit_bureau_df.count()\n",
    "# records"
   ]
  },
  {
   "cell_type": "code",
   "execution_count": null,
   "metadata": {},
   "outputs": [],
   "source": [
    "# col_str=['source_customer_id','dc_unified_id']\n",
    "\n",
    "# master_bulk_df=load_gpdb_jdbc(col_str,\"mastercraft_bulk_detail_prod\")\n",
    "# master_bulk_df=master_bulk_df.filter((col('dc_unified_id').isNotNull()))\n",
    "# #                                      & (col('source_id').isNotNull()))"
   ]
  },
  {
   "cell_type": "code",
   "execution_count": null,
   "metadata": {},
   "outputs": [],
   "source": [
    "# col_str=['dc_unified_id','phone','date_reported']\n",
    "\n",
    "# gscPythonOptions = {\n",
    "# \"url\": \"jdbc:postgresql://10.35.12.194:5432/gpadmin\",\n",
    "# \"user\": \"gpspark\",\n",
    "# \"password\": \"spark@456\",\n",
    "# \"server.port\": \"1151-1160\",\n",
    "# # \"dbschema\":\"customermart\",\n",
    "# \"dbtable\": \"customermart.experian_phone\"}\n",
    "# credit_bureau_df_m= sqlContext.read.format(\"jdbc\").options(**gscPythonOptions).load()\\\n",
    "#          .selectExpr(col_str)"
   ]
  },
  {
   "cell_type": "code",
   "execution_count": null,
   "metadata": {},
   "outputs": [],
   "source": [
    "# col_str=['dc_unified_id','email','date_reported']\n",
    "\n",
    "# gscPythonOptions = {\n",
    "# \"url\": \"jdbc:postgresql://10.35.12.194:5432/gpadmin\",\n",
    "# \"user\": \"gpspark\",\n",
    "# \"password\": \"spark@456\",\n",
    "# \"server.port\": \"1151-1160\",\n",
    "# # \"dbschema\":\"customermart\",\n",
    "# \"dbtable\": \"customermart.experian_email\"}\n",
    "# credit_bureau_df_e= sqlContext.read.format(\"jdbc\").options(**gscPythonOptions).load()\\\n",
    "#          .selectExpr(col_str)"
   ]
  },
  {
   "cell_type": "code",
   "execution_count": null,
   "metadata": {},
   "outputs": [],
   "source": [
    "# credit_bureau_df_m=credit_bureau_df_m.withColumn('source',lit('EXPERIAN'))\n",
    "# credit_bureau_df_e=credit_bureau_df_e.withColumn('source',lit('EXPERIAN'))"
   ]
  },
  {
   "cell_type": "code",
   "execution_count": null,
   "metadata": {},
   "outputs": [],
   "source": []
  },
  {
   "cell_type": "code",
   "execution_count": null,
   "metadata": {},
   "outputs": [],
   "source": [
    "# credit_bureau_df_m = credit_bureau_df_m.select(['dc_unified_id','source', 'date_reported','phone']).withColumn('communication_type', lit('phone'))\\\n",
    "# .withColumn('communication_sub_type', lit('mobile'))\n",
    "\n",
    "# credit_bureau_df_e = credit_bureau_df_e.select(['dc_unified_id','source', 'date_reported','email']).withColumn('communication_type', lit('email'))\\\n",
    "# .withColumn('communication_sub_type', lit('email'))"
   ]
  },
  {
   "cell_type": "code",
   "execution_count": null,
   "metadata": {},
   "outputs": [],
   "source": [
    "# credit_bureau_df_email=credit_bureau_df_e.join(master_bulk_df,'dc_unified_id','inner')\n",
    "# credit_bureau_df_mob=credit_bureau_df_m.join(master_bulk_df,'dc_unified_id','inner')"
   ]
  },
  {
   "cell_type": "code",
   "execution_count": null,
   "metadata": {},
   "outputs": [],
   "source": [
    "# credit_bureau_df_mob.columns"
   ]
  },
  {
   "cell_type": "code",
   "execution_count": null,
   "metadata": {},
   "outputs": [],
   "source": [
    "# credit_bureau_df_1 = credit_bureau_df.select(['dc_unified_id','source', 'insert_date','phone_1']).withColumn('communication_type', lit('phone'))\\\n",
    "# .withColumn('communication_sub_type', lit('mobile'))\n",
    "\n",
    "# credit_bureau_df_2 = credit_bureau_df.select(['dc_unified_id','source', 'insert_date','phone_2']).withColumn('communication_type', lit('phone'))\\\n",
    "# .withColumn('communication_sub_type', lit('mobile'))\n",
    "\n",
    "# credit_bureau_df_3 = credit_bureau_df.select(['dc_unified_id','source', 'insert_date','phone_3']).withColumn('communication_type', lit('phone'))\\\n",
    "# .withColumn('communication_sub_type', lit('mobile'))\n",
    "\n",
    "# credit_bureau_df_4 = credit_bureau_df.select(['dc_unified_id','source', 'insert_date','phone_4']).withColumn('communication_type', lit('phone'))\\\n",
    "# .withColumn('communication_sub_type', lit('mobile'))\n",
    "\n",
    "\n",
    "# credit_bureau_df_5 = credit_bureau_df.select(['dc_unified_id','source', 'insert_date','email_1']).withColumn('communication_type', lit('email'))\\\n",
    "# .withColumn('communication_sub_type', lit('email'))\n",
    "\n",
    "# credit_bureau_df_6 = credit_bureau_df.select(['dc_unified_id','source', 'insert_date','email_2']).withColumn('communication_type', lit('email'))\\\n",
    "# .withColumn('communication_sub_type', lit('email'))\n",
    "\n",
    "# credit_bureau_df_7 = credit_bureau_df.select(['dc_unified_id','source', 'insert_date','email_3']).withColumn('communication_type', lit('email'))\\\n",
    "# .withColumn('communication_sub_type', lit('email'))\n",
    "\n",
    "# credit_bureau_df_8 = credit_bureau_df.select(['dc_unified_id','source', 'insert_date','email_4']).withColumn('communication_type', lit('email'))\\\n",
    "# .withColumn('communication_sub_type', lit('email'))"
   ]
  },
  {
   "cell_type": "code",
   "execution_count": null,
   "metadata": {},
   "outputs": [],
   "source": [
    "# credit_bureau_df_mob=credit_bureau_df_1.unionAll(credit_bureau_df_2).unionAll(credit_bureau_df_3).unionAll(credit_bureau_df_4)\n",
    "# credit_bureau_df_email= credit_bureau_df_5.unionAll(credit_bureau_df_6).unionAll(credit_bureau_df_7).unionAll(credit_bureau_df_8)"
   ]
  },
  {
   "cell_type": "code",
   "execution_count": null,
   "metadata": {},
   "outputs": [],
   "source": [
    "# credit_bureau_df_email=credit_bureau_df_email.join(master_bulk_df,'dc_unified_id','inner')\n",
    "# credit_bureau_df_mob=credit_bureau_df_mob.join(master_bulk_df,'dc_unified_id','inner')"
   ]
  },
  {
   "cell_type": "code",
   "execution_count": null,
   "metadata": {},
   "outputs": [],
   "source": [
    "# credit_bureau_df_mob=credit_bureau_df_mob.withColumn('activity_id', hash(col('phone_1')))\n",
    "# credit_bureau_df_mob=credit_bureau_df_mob.withColumn('verification_flag',(lit('N')))\n",
    "# credit_bureau_df_mob=credit_bureau_df_mob.withColumn('verification_source',(col('source')))\n",
    "# credit_bureau_df_mob=credit_bureau_df_mob.withColumn('value',when(col('phone_1').rlike(\"^(?:(?:\\+|0{0,2})91(\\s*[\\-]\\s*)?|[0]?)?[6-9]\\d{9}$\"),col('phone_1'))\n",
    "# .otherwise(lit(None)))\n",
    "\n",
    "# credit_bureau_df_mob = credit_bureau_df_mob.withColumn(\"value\", when((length(col(\"value\")) == 12),\n",
    "#                                                regexp_replace(col(\"value\"), \"^91\", \"\")).otherwise(lit(col(\"value\"))))\n",
    "\n",
    "# credit_bureau_df_mob = credit_bureau_df_mob.withColumn(\"value\", when((length(col(\"value\")) == 11),\n",
    "#                                                regexp_replace(col(\"value\"), \"^0\", \"\")).otherwise(lit(col(\"value\"))))\n",
    "\n",
    "# credit_bureau_df_mob=credit_bureau_df_mob.withColumn('value',when(col('value').rlike(\"^(?!(\\d)\\1{8})\\d{10}$\"),col('value'))\n",
    "# .otherwise(lit(None)))\n",
    "# credit_bureau_df_mob=credit_bureau_df_mob.withColumn('dnd_flag', lit(None))\n",
    "# credit_bureau_df_mob=credit_bureau_df_mob.withColumn('communication_type', col('communication_type'))\n",
    "# credit_bureau_df_mob=credit_bureau_df_mob.withColumn('communication_sub_type',col('communication_sub_type'))\n",
    "# credit_bureau_df_mob=credit_bureau_df_mob.withColumn('contactability_json', lit(None))\n",
    "# credit_bureau_df_mob=credit_bureau_df_mob.withColumn('preference_flag', lit(None))\n",
    "# credit_bureau_df_mob=credit_bureau_df_mob.withColumn('date_reported', col('insert_date'))\n",
    "# credit_bureau_df_mob=credit_bureau_df_mob.withColumn('last_updated', col('insert_date'))\n",
    "# credit_bureau_df_mob=credit_bureau_df_mob.withColumn('activity_date', col('insert_date'))\n",
    "# credit_bureau_df_mob=credit_bureau_df_mob.withColumn('source_system_name', lit('CREDIT_BUREAU'))\n",
    "# credit_bureau_df_mob=credit_bureau_df_mob.withColumn('source_system_customer_id',col('source_customer_id'))\n",
    "\n",
    "# credit_bureau_df_mob=credit_bureau_df_mob.withColumn('primary_key', concat_ws('',trim(col('verification_source')),trim(col('source_system_customer_id')), trim(col('activity_id'))))"
   ]
  },
  {
   "cell_type": "code",
   "execution_count": null,
   "metadata": {},
   "outputs": [],
   "source": [
    "# credit_bureau_df_email=credit_bureau_df_email.withColumn('activity_id', hash(col('email_1')))\n",
    "# credit_bureau_df_email=credit_bureau_df_email.withColumn('verification_flag',(lit('N')))\n",
    "# credit_bureau_df_email=credit_bureau_df_email.withColumn('verification_source',(col('source')))\n",
    "# credit_bureau_df_email=credit_bureau_df_email.withColumn('value',col('email_1'))                                                      \n",
    "# # when(col('email_1').rlike(\"^\\w+([\\.-]?\\w+){1,}@\\w+([\\.-]?\\w+){1,}(\\.\\w{2,3})+$\"),col('email_1')).otherwise(lit(None)))\n",
    "# credit_bureau_df_email = credit_bureau_df_email.filter(~(lower(col(\"value\")).contains(\"abc@\")))\\\n",
    "# .filter(~(lower(col(\"value\")).contains(\"xyz@\")))\\\n",
    "# .filter(~(lower(col(\"value\")).contains(\"1234@\")))\\\n",
    "# .filter(~(lower(col(\"value\")).contains(\"null@\")))\\\n",
    "# .filter(~(lower(col(\"value\")).contains(\"na@\")))\\\n",
    "# .filter(~(lower(col(\"value\")).contains(\"00@\")))\n",
    "# credit_bureau_df_email=credit_bureau_df_email.withColumn('dnd_flag', lit(None))\n",
    "# credit_bureau_df_email=credit_bureau_df_email.withColumn('communication_type', col('communication_type'))\n",
    "# credit_bureau_df_email=credit_bureau_df_email.withColumn('communication_sub_type',col('communication_sub_type'))\n",
    "# credit_bureau_df_email=credit_bureau_df_email.withColumn('contactability_json', lit(None))\n",
    "# credit_bureau_df_email=credit_bureau_df_email.withColumn('preference_flag', lit(None))\n",
    "# credit_bureau_df_email=credit_bureau_df_email.withColumn('date_reported', col('insert_date'))\n",
    "# credit_bureau_df_email=credit_bureau_df_email.withColumn('last_updated', col('insert_date'))\n",
    "# credit_bureau_df_email=credit_bureau_df_email.withColumn('activity_date', col('insert_date'))\n",
    "# credit_bureau_df_email=credit_bureau_df_email.withColumn('source_system_name', lit('CREDIT_BUREAU'))\n",
    "# credit_bureau_df_email=credit_bureau_df_email.withColumn('source_system_customer_id',col('source_customer_id'))\n",
    "\n",
    "# credit_bureau_df_email=credit_bureau_df_email.withColumn('primary_key', concat_ws('',trim(col('verification_source')),trim(col('source_system_customer_id')), trim(col('activity_id'))))"
   ]
  },
  {
   "cell_type": "code",
   "execution_count": null,
   "metadata": {},
   "outputs": [],
   "source": [
    "# credit_bureau_df = credit_bureau_df_mob.union(credit_bureau_df_email)"
   ]
  },
  {
   "cell_type": "code",
   "execution_count": null,
   "metadata": {},
   "outputs": [],
   "source": [
    "# credit_bureau_df = credit_bureau_df.filter(~(col(\"value\").isin(['1234567890','9876543210','9999988888','9090909090']))).filter(~(lower(trim(col(\"value\"))).isin(['abc@gmail.com','xyz@gmail.com','123@gmail.com','abc@d.com','abcd@gmail.com'])))\n",
    "# credit_bureau_df=credit_bureau_df.filter(F.col(\"source_system_customer_id\").isNotNull()).filter(F.col(\"value\").isNotNull())"
   ]
  },
  {
   "cell_type": "code",
   "execution_count": null,
   "metadata": {},
   "outputs": [],
   "source": [
    "# credit_bureau_df=credit_bureau_df.withColumn('primary_key', concat_ws('',trim(col('verification_source')),trim(col('source_system_customer_id')), trim(col('activity_id'))))"
   ]
  },
  {
   "cell_type": "code",
   "execution_count": null,
   "metadata": {},
   "outputs": [],
   "source": [
    "# from pyspark.sql.window import Window\n",
    "\n",
    "# credit_bureau_df = credit_bureau_df.withColumn(\"rn\", F.row_number()\n",
    "#         .over(Window.partitionBy(\"primary_key\")\n",
    "#         .orderBy(F.col(\"value\").desc(),F.col(\"verification_source\").desc())))\n",
    "\n",
    "# credit_bureau_df = credit_bureau_df.filter(F.col(\"rn\") == 1).drop(\"rn\")"
   ]
  },
  {
   "cell_type": "code",
   "execution_count": null,
   "metadata": {
    "scrolled": false
   },
   "outputs": [],
   "source": [
    "# credit_bureau_df=credit_bureau_df.select(col('source_system_name').cast('string'),col('source_system_customer_id').cast('string'),col('activity_id').cast('string'),col('activity_date').cast('timestamp'),col('communication_type').cast('string'),col('communication_sub_type').cast('string'),col('value').cast('string'),col('verification_flag').cast('string'),col('verification_source').cast('string'),col('date_reported').cast('timestamp'),col('last_updated').cast('timestamp'),col('preference_flag').cast('boolean'),col('contactability_json'),col('dnd_flag').cast('int'))"
   ]
  },
  {
   "cell_type": "code",
   "execution_count": null,
   "metadata": {},
   "outputs": [],
   "source": [
    "# credit_bureau_df=credit_bureau_df.repartition('value')"
   ]
  },
  {
   "cell_type": "code",
   "execution_count": null,
   "metadata": {},
   "outputs": [],
   "source": [
    "# credit_bureau_df=credit_bureau_df.filter(F.col(\"source_system_customer_id\").isNotNull()).filter(F.col(\"value\").isNotNull())"
   ]
  },
  {
   "cell_type": "code",
   "execution_count": null,
   "metadata": {},
   "outputs": [],
   "source": [
    "# condition = [lower(trim(credit_bureau_df.value))==lower(trim(agent_no.mobile))]\n",
    "\n",
    "# credit_bureau_df = credit_bureau_df.join(agent_no,condition,how=\"left\")\n",
    "# credit_bureau_df = credit_bureau_df.filter(col('mobile').isNull()).drop(credit_bureau_df.mobile)\n",
    "\n",
    "# condition = [lower(trim(credit_bureau_df.value))==lower(trim(agent_email.txt_email))]\n",
    "\n",
    "# credit_bureau_df = credit_bureau_df.join(agent_email,condition,how=\"left\")\n",
    "# credit_bureau_df = credit_bureau_df.filter(col('txt_email').isNull()).drop(credit_bureau_df.txt_email)"
   ]
  },
  {
   "cell_type": "code",
   "execution_count": null,
   "metadata": {},
   "outputs": [],
   "source": [
    "# credit_bureau_df.persist(pyspark.StorageLevel.MEMORY_AND_DISK)\n",
    "# records=credit_bureau_df.count()\n",
    "# records#6024319#8675598"
   ]
  },
  {
   "cell_type": "code",
   "execution_count": null,
   "metadata": {},
   "outputs": [],
   "source": [
    "# from pyspark.sql.window import Window\n",
    "\n",
    "# credit_bureau_df = credit_bureau_df.withColumn(\"rn\", F.row_number()\n",
    "#         .over(Window.partitionBy(\"primary_key\")\n",
    "#         .orderBy(F.col(\"value\").desc(),F.col(\"verification_source\").desc())))\n",
    "\n",
    "# credit_bureau_df = credit_bureau_df.filter(F.col(\"rn\") == 1).drop(\"rn\")"
   ]
  },
  {
   "cell_type": "code",
   "execution_count": null,
   "metadata": {},
   "outputs": [],
   "source": [
    "# output_index = 'contactability_staging'\n",
    "# schema = 'customermart'\n",
    "\n",
    "# import sys\n",
    "# try:\n",
    "    \n",
    "#      credit_bureau_df.write.option(\"truncate\", \"true\").format(\"greenplum\")\\\n",
    "#     .option(\"dbtable\",output_index).option('dbschema',schema)\\\n",
    "#     .option(\"server.port\",\"1150-1170\").option(\"url\",prod_url)\\\n",
    "#     .option(\"user\", user_prod).option(\"password\",pwd_prod).mode('overwrite').save()\n",
    "    \n",
    "    \n",
    "# except Exception as e:\n",
    "#     x = e\n",
    "#     print(x)\n",
    "# else:\n",
    "#     x = 'success'\n",
    "#     print(x)"
   ]
  },
  {
   "cell_type": "code",
   "execution_count": null,
   "metadata": {},
   "outputs": [],
   "source": [
    "# table_name=\"contactability\"\n",
    "# conn_prod = psycopg2.connect(host=prod_host, port=prod_port, user=user_prod, password=pwd_prod, dbname=prod_dbname)\n",
    "# conn_to=conn_prod\n",
    "# status=''\n",
    "\n",
    "# import sys\n",
    "# try:\n",
    "#     update(conn_to,table_name,prod_gpdb_spark_options, schema=\"customermart\")\n",
    "# except Exception as e:\n",
    "#     x = e\n",
    "#     print(x)\n",
    "#     status='Failed'\n",
    "# else:\n",
    "#     x = 'success'\n",
    "#     print(x)\n",
    "#     status='Success'"
   ]
  },
  {
   "cell_type": "code",
   "execution_count": null,
   "metadata": {},
   "outputs": [],
   "source": [
    "# update_progress(table_name,source,time_filter,records,start_time,starttime,status)"
   ]
  },
  {
   "cell_type": "code",
   "execution_count": null,
   "metadata": {},
   "outputs": [],
   "source": [
    "# credit_bureau_df.unpersist()"
   ]
  },
  {
   "cell_type": "code",
   "execution_count": null,
   "metadata": {},
   "outputs": [],
   "source": [
    "agent_no.unpersist()\n",
    "agent_email.unpersist()"
   ]
  },
  {
   "cell_type": "code",
   "execution_count": 2,
   "metadata": {},
   "outputs": [
    {
     "data": {
      "application/vnd.jupyter.widget-view+json": {
       "model_id": "",
       "version_major": 2,
       "version_minor": 0
      },
      "text/plain": [
       "FloatProgress(value=0.0, bar_style='info', description='Progress:', layout=Layout(height='25px', width='50%'),…"
      ]
     },
     "metadata": {},
     "output_type": "display_data"
    }
   ],
   "source": [
    "spark.stop()"
   ]
  },
  {
   "cell_type": "code",
   "execution_count": null,
   "metadata": {},
   "outputs": [],
   "source": []
  },
  {
   "cell_type": "code",
   "execution_count": null,
   "metadata": {},
   "outputs": [],
   "source": [
    "# col_str=['source_id','source_customer_id','dc_unified_id','psnt_address_line_1','psnt_address_line_2','psnt_address_line_3',\n",
    "#          'coalesce(pstincomingcity,psnt_address_city) as psnt_address_city',\n",
    "#          'coalesce(pstincomingstate,psnt_address_state) as psnt_address_state','psnt_address_country',\n",
    "#          'coalesce(pstincomingpin,psnt_address_zip) as psnt_address_zip','psnt_address_dist',\n",
    "#          'psnt_address_landmark','psnt_address_is_verified',\n",
    "#          'comm_address_line_1','comm_address_line_2','comm_address_line_3','coalesce(cmnincomingcity,comm_address_city) as comm_address_city' ,\n",
    "#          'comm_address_dist',\n",
    "#          'coalesce(cmnincomingstate,comm_address_state) as comm_address_state','comm_address_country',\n",
    "#          'coalesce(cmnincomingpin,comm_address_zip) as comm_address_zip','comm_address_landmark','comm_address_is_verified',\n",
    "#          'pmt_address_line_1','pmt_address_line_2','pmt_address_line_3','coalesce(pmtincomingcity,pmt_address_city) as pmt_address_city',\n",
    "#          'pmt_address_dist','coalesce(pmtincomingstate,pmt_address_state) as pmt_address_state',\n",
    "#          'pmt_address_country','coalesce(pmnincomingpin,pmt_address_zip) as pmt_address_zip',\n",
    "#          'pmt_address_landmark','pmt_address_is_verified', 'dc_action_date']\n",
    "\n",
    " \n",
    "\n",
    "# master_bulk_df=load_gpdb_jdbc(col_str,\"mastercraft_bulk_detail_prod\",\"dc_action_date\",time_filter)\n",
    "# spark_df=master_bulk_df.filter((col('dc_unified_id').isNotNull()) & (col('source_id').isNotNull()))\n",
    "\n",
    " \n",
    "\n",
    "# spark_df = spark_df.withColumn('psnt_address_zip',when(col('psnt_address_zip').rlike(\"^[1-9]{1}[0-9]{2}\\s{0,1}[0-9]{3}$\"),\\\n",
    "#                                                        col('psnt_address_zip')).otherwise(lit(None)))\n",
    "\n",
    " \n",
    "\n",
    "# spark_df = spark_df.withColumn('comm_address_zip',when(col('comm_address_zip').rlike(\"^[1-9]{1}[0-9]{2}\\s{0,1}[0-9]{3}$\"),\\\n",
    "#                                                        col('comm_address_zip')).otherwise(lit(None)))\n",
    "\n",
    " \n",
    "\n",
    "# spark_df = spark_df.withColumn('pmt_address_zip',when(col('pmt_address_zip').rlike(\"^[1-9]{1}[0-9]{2}\\s{0,1}[0-9]{3}$\"),\\\n",
    "#                                                        col('pmt_address_zip')).otherwise(lit(None)))"
   ]
  },
  {
   "cell_type": "code",
   "execution_count": null,
   "metadata": {},
   "outputs": [],
   "source": [
    "# \n",
    "# df_main=df_main.orderBy(F.desc(\"{}\".format(date_column))).drop_duplicates(['dc_unified_id','source_id','source_customer_id'])"
   ]
  }
 ],
 "metadata": {
  "kernelspec": {
   "display_name": "PySpark",
   "language": "",
   "name": "pysparkkernel"
  },
  "language_info": {
   "codemirror_mode": {
    "name": "python",
    "version": 3
   },
   "mimetype": "text/x-python",
   "name": "pyspark",
   "pygments_lexer": "python3"
  }
 },
 "nbformat": 4,
 "nbformat_minor": 2
}
